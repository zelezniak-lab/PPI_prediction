{
 "cells": [
  {
   "cell_type": "code",
   "execution_count": 21,
   "id": "904008c0",
   "metadata": {},
   "outputs": [],
   "source": [
    "import pandas as pd\n",
    "import numpy as np\n",
    "from tqdm import tqdm\n",
    "from collections import Counter\n",
    "import matplotlib.pyplot as plt\n",
    "import Bio.SeqIO as SeqIO"
   ]
  },
  {
   "cell_type": "code",
   "execution_count": 2,
   "id": "d9709764",
   "metadata": {},
   "outputs": [
    {
     "data": {
      "text/html": [
       "<div>\n",
       "<style scoped>\n",
       "    .dataframe tbody tr th:only-of-type {\n",
       "        vertical-align: middle;\n",
       "    }\n",
       "\n",
       "    .dataframe tbody tr th {\n",
       "        vertical-align: top;\n",
       "    }\n",
       "\n",
       "    .dataframe thead th {\n",
       "        text-align: right;\n",
       "    }\n",
       "</style>\n",
       "<table border=\"1\" class=\"dataframe\">\n",
       "  <thead>\n",
       "    <tr style=\"text-align: right;\">\n",
       "      <th></th>\n",
       "      <th>human_pro</th>\n",
       "      <th>virus_pro</th>\n",
       "      <th>human_seq</th>\n",
       "      <th>virus_seq</th>\n",
       "    </tr>\n",
       "  </thead>\n",
       "  <tbody>\n",
       "    <tr>\n",
       "      <th>0</th>\n",
       "      <td>uniprotkb:P19838</td>\n",
       "      <td>uniprotkb:Q6VGT6</td>\n",
       "      <td>MAEDDPYLGRPEQMFHLDPSLTHTIFNPEVFQPQMALPTDGPYLQI...</td>\n",
       "      <td>MTDTLDLEMDGIITEQRLLERRRAAAEQQRMNQELQDMVNLHQCKR...</td>\n",
       "    </tr>\n",
       "    <tr>\n",
       "      <th>1</th>\n",
       "      <td>uniprotkb:P10275</td>\n",
       "      <td>uniprotkb:Q69027</td>\n",
       "      <td>MEVQLGLGRVYPRPPSKTYRGAFQNLFQSVREVIQNPGPRHPEAAS...</td>\n",
       "      <td>MAARLCCQLDPARDVLCLRPVGAESRGRPVSGPFGPLPSPSSSAVP...</td>\n",
       "    </tr>\n",
       "    <tr>\n",
       "      <th>2</th>\n",
       "      <td>uniprotkb:Q13616</td>\n",
       "      <td>uniprotkb:Q6TVW2</td>\n",
       "      <td>MSSTRSQNPHGLKQIGLDQIWDDLRAGIQQVYTRQSMAKSRYMELY...</td>\n",
       "      <td>MSEKGFPTFVNAAAMLSRESVVAPHADLLFRYLESGQVDLATVRAL...</td>\n",
       "    </tr>\n",
       "    <tr>\n",
       "      <th>3</th>\n",
       "      <td>uniprotkb:Q13616</td>\n",
       "      <td>uniprotkb:Q6TVJ1</td>\n",
       "      <td>MSSTRSQNPHGLKQIGLDQIWDDLRAGIQQVYTRQSMAKSRYMELY...</td>\n",
       "      <td>MDAAEMEELDINAESVLYDYFILNADRARVGEVVMLLAQGAEINYA...</td>\n",
       "    </tr>\n",
       "    <tr>\n",
       "      <th>4</th>\n",
       "      <td>uniprotkb:Q13616</td>\n",
       "      <td>uniprotkb:Q6TVJ2</td>\n",
       "      <td>MSSTRSQNPHGLKQIGLDQIWDDLRAGIQQVYTRQSMAKSRYMELY...</td>\n",
       "      <td>MDFLGAALYDYVADAENVRVDEVRRLLAAGASVEYAGEFGKTALHQ...</td>\n",
       "    </tr>\n",
       "    <tr>\n",
       "      <th>...</th>\n",
       "      <td>...</td>\n",
       "      <td>...</td>\n",
       "      <td>...</td>\n",
       "      <td>...</td>\n",
       "    </tr>\n",
       "    <tr>\n",
       "      <th>22378</th>\n",
       "      <td>uniprotkb:P63165</td>\n",
       "      <td>uniprotkb:P01104</td>\n",
       "      <td>MSDQEAKPSTEDLGDKKEGEYIKLKVIGQDSSEIHFKVKMTTHLKK...</td>\n",
       "      <td>NRTDVQCQHRWQKVLNPELNKGPWTKEEDQRVIEHVQKYGPKRWSD...</td>\n",
       "    </tr>\n",
       "    <tr>\n",
       "      <th>22379</th>\n",
       "      <td>uniprotkb:P24941</td>\n",
       "      <td>uniprotkb:C6L852</td>\n",
       "      <td>MENFQKVEKIGEGTYGVVYKARNKLTGEVVALKKIRLDTETEGVPS...</td>\n",
       "      <td>MALCCFAFSAPCLHLRSRRSCSSCFLLATSAAFFSARLLRRAFSSS...</td>\n",
       "    </tr>\n",
       "    <tr>\n",
       "      <th>22380</th>\n",
       "      <td>uniprotkb:P61956</td>\n",
       "      <td>uniprotkb:P01104</td>\n",
       "      <td>MADEKPKEGVKTENNDHINLKVAGQDGSVVQFKIKRHTPLSKLMKA...</td>\n",
       "      <td>NRTDVQCQHRWQKVLNPELNKGPWTKEEDQRVIEHVQKYGPKRWSD...</td>\n",
       "    </tr>\n",
       "    <tr>\n",
       "      <th>22381</th>\n",
       "      <td>uniprotkb:P24864</td>\n",
       "      <td>uniprotkb:C6L852</td>\n",
       "      <td>MPRERRERDAKERDTMKEDGGAEFSARSRKRKANVTVFLQDPDEEM...</td>\n",
       "      <td>MALCCFAFSAPCLHLRSRRSCSSCFLLATSAAFFSARLLRRAFSSS...</td>\n",
       "    </tr>\n",
       "    <tr>\n",
       "      <th>22382</th>\n",
       "      <td>uniprotkb:P29590-4</td>\n",
       "      <td>uniprotkb:P03243-1</td>\n",
       "      <td>MEPAPARSPRPQQDPARPQEPTMPPPETPSEGRQPSPSPSPTERAP...</td>\n",
       "      <td>MERRNPSERGVPAGFSGHASVESGCETQESPATVVFRPPGDNTDGG...</td>\n",
       "    </tr>\n",
       "  </tbody>\n",
       "</table>\n",
       "<p>22383 rows × 4 columns</p>\n",
       "</div>"
      ],
      "text/plain": [
       "                human_pro           virus_pro  \\\n",
       "0        uniprotkb:P19838    uniprotkb:Q6VGT6   \n",
       "1        uniprotkb:P10275    uniprotkb:Q69027   \n",
       "2        uniprotkb:Q13616    uniprotkb:Q6TVW2   \n",
       "3        uniprotkb:Q13616    uniprotkb:Q6TVJ1   \n",
       "4        uniprotkb:Q13616    uniprotkb:Q6TVJ2   \n",
       "...                   ...                 ...   \n",
       "22378    uniprotkb:P63165    uniprotkb:P01104   \n",
       "22379    uniprotkb:P24941    uniprotkb:C6L852   \n",
       "22380    uniprotkb:P61956    uniprotkb:P01104   \n",
       "22381    uniprotkb:P24864    uniprotkb:C6L852   \n",
       "22382  uniprotkb:P29590-4  uniprotkb:P03243-1   \n",
       "\n",
       "                                               human_seq  \\\n",
       "0      MAEDDPYLGRPEQMFHLDPSLTHTIFNPEVFQPQMALPTDGPYLQI...   \n",
       "1      MEVQLGLGRVYPRPPSKTYRGAFQNLFQSVREVIQNPGPRHPEAAS...   \n",
       "2      MSSTRSQNPHGLKQIGLDQIWDDLRAGIQQVYTRQSMAKSRYMELY...   \n",
       "3      MSSTRSQNPHGLKQIGLDQIWDDLRAGIQQVYTRQSMAKSRYMELY...   \n",
       "4      MSSTRSQNPHGLKQIGLDQIWDDLRAGIQQVYTRQSMAKSRYMELY...   \n",
       "...                                                  ...   \n",
       "22378  MSDQEAKPSTEDLGDKKEGEYIKLKVIGQDSSEIHFKVKMTTHLKK...   \n",
       "22379  MENFQKVEKIGEGTYGVVYKARNKLTGEVVALKKIRLDTETEGVPS...   \n",
       "22380  MADEKPKEGVKTENNDHINLKVAGQDGSVVQFKIKRHTPLSKLMKA...   \n",
       "22381  MPRERRERDAKERDTMKEDGGAEFSARSRKRKANVTVFLQDPDEEM...   \n",
       "22382  MEPAPARSPRPQQDPARPQEPTMPPPETPSEGRQPSPSPSPTERAP...   \n",
       "\n",
       "                                               virus_seq  \n",
       "0      MTDTLDLEMDGIITEQRLLERRRAAAEQQRMNQELQDMVNLHQCKR...  \n",
       "1      MAARLCCQLDPARDVLCLRPVGAESRGRPVSGPFGPLPSPSSSAVP...  \n",
       "2      MSEKGFPTFVNAAAMLSRESVVAPHADLLFRYLESGQVDLATVRAL...  \n",
       "3      MDAAEMEELDINAESVLYDYFILNADRARVGEVVMLLAQGAEINYA...  \n",
       "4      MDFLGAALYDYVADAENVRVDEVRRLLAAGASVEYAGEFGKTALHQ...  \n",
       "...                                                  ...  \n",
       "22378  NRTDVQCQHRWQKVLNPELNKGPWTKEEDQRVIEHVQKYGPKRWSD...  \n",
       "22379  MALCCFAFSAPCLHLRSRRSCSSCFLLATSAAFFSARLLRRAFSSS...  \n",
       "22380  NRTDVQCQHRWQKVLNPELNKGPWTKEEDQRVIEHVQKYGPKRWSD...  \n",
       "22381  MALCCFAFSAPCLHLRSRRSCSSCFLLATSAAFFSARLLRRAFSSS...  \n",
       "22382  MERRNPSERGVPAGFSGHASVESGCETQESPATVVFRPPGDNTDGG...  \n",
       "\n",
       "[22383 rows x 4 columns]"
      ]
     },
     "execution_count": 2,
     "metadata": {},
     "output_type": "execute_result"
    }
   ],
   "source": [
    "data = pd.read_csv(\"/home/anwer/Desktop/PPI_prediction/Dataset_ppi/LSTM-PHV/positive_samples.csv\")\n",
    "data"
   ]
  },
  {
   "cell_type": "markdown",
   "id": "a61644ee",
   "metadata": {},
   "source": [
    "## 1. Data Preprocessing\n",
    "### 1.1 Protein name to sequence"
   ]
  },
  {
   "cell_type": "code",
   "execution_count": 3,
   "id": "ea46affd",
   "metadata": {},
   "outputs": [],
   "source": [
    "def split_func(x):\n",
    "    return x.split(\":\")[1]\n",
    "        \n",
    "data['human_pro'] = data['human_pro'].apply(split_func)\n",
    "data['virus_pro'] = data['virus_pro'].apply(split_func)"
   ]
  },
  {
   "cell_type": "code",
   "execution_count": 4,
   "id": "a84cdf11",
   "metadata": {},
   "outputs": [],
   "source": [
    "data = data.apply(lambda x: x.str.strip())"
   ]
  },
  {
   "cell_type": "code",
   "execution_count": 5,
   "id": "372efd32",
   "metadata": {},
   "outputs": [],
   "source": [
    "data.to_csv(\"/home/anwer/Desktop/PPI_prediction/csv_files/lstm_phv_ppi_with_sequences.csv\",index = False)"
   ]
  },
  {
   "cell_type": "markdown",
   "id": "e0cdd981",
   "metadata": {},
   "source": [
    "### 1.2 Exploratory Data Analysis"
   ]
  },
  {
   "cell_type": "code",
   "execution_count": 13,
   "id": "4889b436",
   "metadata": {},
   "outputs": [],
   "source": [
    "data = pd.read_csv(\"/home/anwer/Desktop/PPI_prediction/csv_files/lstm_phv_ppi_with_sequences.csv\")"
   ]
  },
  {
   "cell_type": "code",
   "execution_count": 14,
   "id": "86b66366",
   "metadata": {},
   "outputs": [
    {
     "name": "stdout",
     "output_type": "stream",
     "text": [
      "Number of positive pairs:  22383\n"
     ]
    }
   ],
   "source": [
    "print(\"Number of positive pairs: \", len(data) )"
   ]
  },
  {
   "cell_type": "code",
   "execution_count": 15,
   "id": "7ee55a40",
   "metadata": {},
   "outputs": [
    {
     "name": "stdout",
     "output_type": "stream",
     "text": [
      "Number of unique Proteins:  6878\n"
     ]
    }
   ],
   "source": [
    "print(\"Number of unique Proteins: \", len(set(data['human_seq']).union(set(data['virus_seq']))) )"
   ]
  },
  {
   "cell_type": "code",
   "execution_count": 16,
   "id": "fea87fdf",
   "metadata": {},
   "outputs": [
    {
     "name": "stdout",
     "output_type": "stream",
     "text": [
      "\n",
      "\n",
      "Maximum length of Proteins sequences:  999\n",
      "\n",
      "\n",
      "Minimum length of Proteins sequences:  31\n"
     ]
    }
   ],
   "source": [
    "# print(\"Maximum length proteins: \", max(set(data['Protein_A_sequence']).union(set(data['Protein_B_sequence'])),key=len))\n",
    "print('\\n' )\n",
    "print(\"Maximum length of Proteins sequences: \", len(max(set(data['human_seq']).union(set(data['virus_seq'])),key=len)))\n",
    "\n",
    "# print(\"Minimum length proteins: \", min(set(data['Protein_A_sequence']).union(set(data['Protein_B_sequence'])),key=len))\n",
    "print('\\n' )\n",
    "print(\"Minimum length of Proteins sequences: \", len(min(set(data['human_seq']).union(set(data['virus_seq'])),key=len)))\n",
    "\n"
   ]
  },
  {
   "cell_type": "code",
   "execution_count": 25,
   "id": "5e6a704a",
   "metadata": {},
   "outputs": [],
   "source": [
    "col_list_protein_A = data['human_pro'].values.tolist()\n",
    "col_list_protein_B = data['virus_pro'].values.tolist()\n",
    "count_col_A = Counter(col_list_protein_A)\n",
    "count_col_B = Counter(col_list_protein_B)\n",
    "count = count_col_A | count_col_B\n",
    "count = dict(sorted(count.items(), key=lambda item: item[1],reverse = True))"
   ]
  },
  {
   "cell_type": "code",
   "execution_count": 26,
   "id": "186c1b8a",
   "metadata": {},
   "outputs": [
    {
     "data": {
      "text/plain": [
       "<Figure size 1440x1440 with 0 Axes>"
      ]
     },
     "metadata": {},
     "output_type": "display_data"
    },
    {
     "data": {
      "image/png": "[encoded data removed]",
      "text/plain": [
       "<Figure size 1080x720 with 1 Axes>"
      ]
     },
     "metadata": {
      "needs_background": "light"
     },
     "output_type": "display_data"
    }
   ],
   "source": [
    "keys = count.keys()\n",
    "values = count.values()\n",
    "plt.figure(figsize=(20, 20))\n",
    "fig, ax = plt.subplots(figsize=(15,10))\n",
    "ax.bar(list(keys)[0:20], list(values)[0:20])\n",
    "ax.set_xlabel('x-axis', fontsize = 22)\n",
    "ax.set_ylabel('y-axis', fontsize = 20)\n",
    "plt.ylabel('Count of pairs')\n",
    "plt.xlabel('Name of Proteins')\n",
    "plt.xticks(rotation=90)\n",
    "plt.title(\"Number of repetition of proteins in data\")\n",
    "plt.tight_layout()\n",
    "plt.show()"
   ]
  },
  {
   "cell_type": "code",
   "execution_count": 29,
   "id": "d4ce5163",
   "metadata": {},
   "outputs": [],
   "source": [
    "# count"
   ]
  },
  {
   "cell_type": "markdown",
   "id": "4bc9c0f9",
   "metadata": {},
   "source": [
    "### Summary of EDA\n",
    "1. Published in paper:  LSTM-PHV(MINT,Virus Mentha, Intact)\n",
    "2. Number of unique pairs: 22383\n",
    "3. Number of proteins: 6878 \n",
    "4. Max length of sequences: 999\n",
    "5. Min lenght of sequences: 31\n",
    "5. Top 5 redundant proteins: \n",
    "\n",
    "\n",
    "     P05777': 558,\n",
    "     'P03470': 511,\n",
    "     'YP_009227196': 473,\n",
    "     'P03427': 433,\n",
    "     'P15682': 400,"
   ]
  },
  {
   "cell_type": "code",
   "execution_count": null,
   "id": "4b5aba7f",
   "metadata": {},
   "outputs": [],
   "source": []
  }
 ],
 "metadata": {
  "kernelspec": {
   "display_name": "Python 3 (ipykernel)",
   "language": "python",
   "name": "python3"
  },
  "language_info": {
   "codemirror_mode": {
    "name": "ipython",
    "version": 3
   },
   "file_extension": ".py",
   "mimetype": "text/x-python",
   "name": "python",
   "nbconvert_exporter": "python",
   "pygments_lexer": "ipython3",
   "version": "3.9.12"
  }
 },
 "nbformat": 4,
 "nbformat_minor": 5
}

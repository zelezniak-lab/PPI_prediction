{
 "cells": [
  {
   "cell_type": "code",
   "execution_count": 3,
   "id": "f1895559",
   "metadata": {},
   "outputs": [],
   "source": [
    "import pandas as pd\n",
    "import random \n",
    "import pickle\n",
    "from tqdm import tqdm"
   ]
  },
  {
   "cell_type": "code",
   "execution_count": 4,
   "id": "450d02bf",
   "metadata": {},
   "outputs": [
    {
     "data": {
      "text/html": [
       "<div>\n",
       "<style scoped>\n",
       "    .dataframe tbody tr th:only-of-type {\n",
       "        vertical-align: middle;\n",
       "    }\n",
       "\n",
       "    .dataframe tbody tr th {\n",
       "        vertical-align: top;\n",
       "    }\n",
       "\n",
       "    .dataframe thead th {\n",
       "        text-align: right;\n",
       "    }\n",
       "</style>\n",
       "<table border=\"1\" class=\"dataframe\">\n",
       "  <thead>\n",
       "    <tr style=\"text-align: right;\">\n",
       "      <th></th>\n",
       "      <th>Protein_A</th>\n",
       "      <th>Protein_B</th>\n",
       "      <th>Protein_A_sequence</th>\n",
       "      <th>Protein_B_sequence</th>\n",
       "      <th>split_0_10</th>\n",
       "      <th>split_0_20</th>\n",
       "      <th>split_0_30</th>\n",
       "      <th>split_0_40</th>\n",
       "      <th>split_0_50</th>\n",
       "      <th>split_0_60</th>\n",
       "      <th>...</th>\n",
       "      <th>split_1_90</th>\n",
       "      <th>split_2_10</th>\n",
       "      <th>split_2_20</th>\n",
       "      <th>split_2_30</th>\n",
       "      <th>split_2_40</th>\n",
       "      <th>split_2_50</th>\n",
       "      <th>split_2_60</th>\n",
       "      <th>split_2_70</th>\n",
       "      <th>split_2_80</th>\n",
       "      <th>split_2_90</th>\n",
       "    </tr>\n",
       "  </thead>\n",
       "  <tbody>\n",
       "    <tr>\n",
       "      <th>0</th>\n",
       "      <td>PRO_1968</td>\n",
       "      <td>PRO_2127</td>\n",
       "      <td>MAKNPPENCEDCHILNAEAFKSKKICKSLKICGLVFGILALTLIVL...</td>\n",
       "      <td>MRRSSRPGSASSSRKHTPNFFSENSSMSITSEDSKGLRSAEPGPGE...</td>\n",
       "      <td>0</td>\n",
       "      <td>-1</td>\n",
       "      <td>-1</td>\n",
       "      <td>-1</td>\n",
       "      <td>-1</td>\n",
       "      <td>-1</td>\n",
       "      <td>...</td>\n",
       "      <td>1</td>\n",
       "      <td>-1</td>\n",
       "      <td>-1</td>\n",
       "      <td>-1</td>\n",
       "      <td>-1</td>\n",
       "      <td>-1</td>\n",
       "      <td>-1</td>\n",
       "      <td>1</td>\n",
       "      <td>1</td>\n",
       "      <td>1</td>\n",
       "    </tr>\n",
       "    <tr>\n",
       "      <th>1</th>\n",
       "      <td>PRO_1968</td>\n",
       "      <td>PRO_3259</td>\n",
       "      <td>MAKNPPENCEDCHILNAEAFKSKKICKSLKICGLVFGILALTLIVL...</td>\n",
       "      <td>MASSSTVPLGFHYETKYVVLSYLGLLSQEKLQEQHLSSPQGVQLDI...</td>\n",
       "      <td>0</td>\n",
       "      <td>-1</td>\n",
       "      <td>1</td>\n",
       "      <td>1</td>\n",
       "      <td>1</td>\n",
       "      <td>1</td>\n",
       "      <td>...</td>\n",
       "      <td>1</td>\n",
       "      <td>-1</td>\n",
       "      <td>-1</td>\n",
       "      <td>1</td>\n",
       "      <td>1</td>\n",
       "      <td>1</td>\n",
       "      <td>1</td>\n",
       "      <td>1</td>\n",
       "      <td>1</td>\n",
       "      <td>1</td>\n",
       "    </tr>\n",
       "    <tr>\n",
       "      <th>2</th>\n",
       "      <td>PRO_1968</td>\n",
       "      <td>PRO_20825</td>\n",
       "      <td>MAKNPPENCEDCHILNAEAFKSKKICKSLKICGLVFGILALTLIVL...</td>\n",
       "      <td>MSSHLVEPPPPLHNNNNNCEENEQSLPPPAGLNSSWVELPMNSSNG...</td>\n",
       "      <td>-1</td>\n",
       "      <td>1</td>\n",
       "      <td>1</td>\n",
       "      <td>1</td>\n",
       "      <td>1</td>\n",
       "      <td>1</td>\n",
       "      <td>...</td>\n",
       "      <td>-1</td>\n",
       "      <td>-1</td>\n",
       "      <td>-1</td>\n",
       "      <td>-1</td>\n",
       "      <td>-1</td>\n",
       "      <td>1</td>\n",
       "      <td>1</td>\n",
       "      <td>1</td>\n",
       "      <td>1</td>\n",
       "      <td>1</td>\n",
       "    </tr>\n",
       "    <tr>\n",
       "      <th>3</th>\n",
       "      <td>PRO_1968</td>\n",
       "      <td>PRO_11236</td>\n",
       "      <td>MAKNPPENCEDCHILNAEAFKSKKICKSLKICGLVFGILALTLIVL...</td>\n",
       "      <td>MPLLLLLPLLWAGALAMDPNFWLQVQESVTVQEGLCVLVPCTFFHP...</td>\n",
       "      <td>-1</td>\n",
       "      <td>1</td>\n",
       "      <td>1</td>\n",
       "      <td>1</td>\n",
       "      <td>1</td>\n",
       "      <td>1</td>\n",
       "      <td>...</td>\n",
       "      <td>1</td>\n",
       "      <td>-1</td>\n",
       "      <td>-1</td>\n",
       "      <td>-1</td>\n",
       "      <td>1</td>\n",
       "      <td>1</td>\n",
       "      <td>1</td>\n",
       "      <td>1</td>\n",
       "      <td>1</td>\n",
       "      <td>1</td>\n",
       "    </tr>\n",
       "    <tr>\n",
       "      <th>4</th>\n",
       "      <td>PRO_1968</td>\n",
       "      <td>PRO_2577</td>\n",
       "      <td>MAKNPPENCEDCHILNAEAFKSKKICKSLKICGLVFGILALTLIVL...</td>\n",
       "      <td>MKAQTALSFFLILITSLSGSQGIFPLAFFIYVPMNEQIVIGRLDED...</td>\n",
       "      <td>0</td>\n",
       "      <td>-1</td>\n",
       "      <td>-1</td>\n",
       "      <td>-1</td>\n",
       "      <td>-1</td>\n",
       "      <td>1</td>\n",
       "      <td>...</td>\n",
       "      <td>1</td>\n",
       "      <td>-1</td>\n",
       "      <td>-1</td>\n",
       "      <td>1</td>\n",
       "      <td>1</td>\n",
       "      <td>1</td>\n",
       "      <td>1</td>\n",
       "      <td>1</td>\n",
       "      <td>1</td>\n",
       "      <td>1</td>\n",
       "    </tr>\n",
       "    <tr>\n",
       "      <th>...</th>\n",
       "      <td>...</td>\n",
       "      <td>...</td>\n",
       "      <td>...</td>\n",
       "      <td>...</td>\n",
       "      <td>...</td>\n",
       "      <td>...</td>\n",
       "      <td>...</td>\n",
       "      <td>...</td>\n",
       "      <td>...</td>\n",
       "      <td>...</td>\n",
       "      <td>...</td>\n",
       "      <td>...</td>\n",
       "      <td>...</td>\n",
       "      <td>...</td>\n",
       "      <td>...</td>\n",
       "      <td>...</td>\n",
       "      <td>...</td>\n",
       "      <td>...</td>\n",
       "      <td>...</td>\n",
       "      <td>...</td>\n",
       "      <td>...</td>\n",
       "    </tr>\n",
       "    <tr>\n",
       "      <th>397738</th>\n",
       "      <td>PRO_10712</td>\n",
       "      <td>PRO_4734</td>\n",
       "      <td>MADKRKLQGEIDRCLKKVSEGVEQFEDIWQKLHNAANANQKEKYEA...</td>\n",
       "      <td>MSAIQAAWPSGTECIAKYNFHGTAEQDLPFCKGDVLTIVAVTKDPN...</td>\n",
       "      <td>-1</td>\n",
       "      <td>-1</td>\n",
       "      <td>-1</td>\n",
       "      <td>-1</td>\n",
       "      <td>-1</td>\n",
       "      <td>-1</td>\n",
       "      <td>...</td>\n",
       "      <td>-1</td>\n",
       "      <td>0</td>\n",
       "      <td>0</td>\n",
       "      <td>0</td>\n",
       "      <td>0</td>\n",
       "      <td>0</td>\n",
       "      <td>0</td>\n",
       "      <td>0</td>\n",
       "      <td>-1</td>\n",
       "      <td>-1</td>\n",
       "    </tr>\n",
       "    <tr>\n",
       "      <th>397739</th>\n",
       "      <td>PRO_12924</td>\n",
       "      <td>PRO_18242</td>\n",
       "      <td>MRPGTGAERGGLMVSEMESHPPSQGPGDGERRLSGSSLCSGSWVSA...</td>\n",
       "      <td>MSEEKPKEGVKTENDHINLKVAGQDGSVVQFKIKRHTPLSKLMKAY...</td>\n",
       "      <td>1</td>\n",
       "      <td>1</td>\n",
       "      <td>1</td>\n",
       "      <td>1</td>\n",
       "      <td>1</td>\n",
       "      <td>1</td>\n",
       "      <td>...</td>\n",
       "      <td>1</td>\n",
       "      <td>0</td>\n",
       "      <td>0</td>\n",
       "      <td>0</td>\n",
       "      <td>0</td>\n",
       "      <td>-1</td>\n",
       "      <td>-1</td>\n",
       "      <td>-1</td>\n",
       "      <td>1</td>\n",
       "      <td>1</td>\n",
       "    </tr>\n",
       "    <tr>\n",
       "      <th>397740</th>\n",
       "      <td>PRO_4881</td>\n",
       "      <td>PRO_17066</td>\n",
       "      <td>MSELEQLRQEAEQLRNQIRDARKACGDSTLTQITAGLDPVGRIQMR...</td>\n",
       "      <td>MASSSVPPATVSAATAGPGPGFGFASKTKKKHFVQQKVKVFRAADP...</td>\n",
       "      <td>1</td>\n",
       "      <td>1</td>\n",
       "      <td>1</td>\n",
       "      <td>1</td>\n",
       "      <td>1</td>\n",
       "      <td>1</td>\n",
       "      <td>...</td>\n",
       "      <td>1</td>\n",
       "      <td>-1</td>\n",
       "      <td>-1</td>\n",
       "      <td>-1</td>\n",
       "      <td>-1</td>\n",
       "      <td>-1</td>\n",
       "      <td>-1</td>\n",
       "      <td>1</td>\n",
       "      <td>1</td>\n",
       "      <td>1</td>\n",
       "    </tr>\n",
       "    <tr>\n",
       "      <th>397741</th>\n",
       "      <td>PRO_15097</td>\n",
       "      <td>PRO_23695</td>\n",
       "      <td>MSSMNPEYDYLFKLLLIGDSGVGKSCLLLRFADDTYTESYISTIGV...</td>\n",
       "      <td>MGKRLDLSTLTDEEAEHVWAVVQRDFDLRRREEERLQGLKGKIQKE...</td>\n",
       "      <td>-1</td>\n",
       "      <td>-1</td>\n",
       "      <td>1</td>\n",
       "      <td>1</td>\n",
       "      <td>1</td>\n",
       "      <td>1</td>\n",
       "      <td>...</td>\n",
       "      <td>1</td>\n",
       "      <td>0</td>\n",
       "      <td>0</td>\n",
       "      <td>0</td>\n",
       "      <td>0</td>\n",
       "      <td>0</td>\n",
       "      <td>0</td>\n",
       "      <td>-1</td>\n",
       "      <td>-1</td>\n",
       "      <td>-1</td>\n",
       "    </tr>\n",
       "    <tr>\n",
       "      <th>397742</th>\n",
       "      <td>PRO_11821</td>\n",
       "      <td>PRO_14704</td>\n",
       "      <td>MIDTLRPVPFASEMAISKTVAWLNEQLELGNERLLLMDCRPQELYE...</td>\n",
       "      <td>MAQGLVTFADVAIDFSQEEWACLNSAQRDLYWDVMLENYSNLVSLD...</td>\n",
       "      <td>-1</td>\n",
       "      <td>1</td>\n",
       "      <td>1</td>\n",
       "      <td>1</td>\n",
       "      <td>1</td>\n",
       "      <td>1</td>\n",
       "      <td>...</td>\n",
       "      <td>1</td>\n",
       "      <td>-1</td>\n",
       "      <td>-1</td>\n",
       "      <td>-1</td>\n",
       "      <td>-1</td>\n",
       "      <td>-1</td>\n",
       "      <td>1</td>\n",
       "      <td>1</td>\n",
       "      <td>1</td>\n",
       "      <td>1</td>\n",
       "    </tr>\n",
       "  </tbody>\n",
       "</table>\n",
       "<p>397743 rows × 31 columns</p>\n",
       "</div>"
      ],
      "text/plain": [
       "        Protein_A  Protein_B  \\\n",
       "0        PRO_1968   PRO_2127   \n",
       "1        PRO_1968   PRO_3259   \n",
       "2        PRO_1968  PRO_20825   \n",
       "3        PRO_1968  PRO_11236   \n",
       "4        PRO_1968   PRO_2577   \n",
       "...           ...        ...   \n",
       "397738  PRO_10712   PRO_4734   \n",
       "397739  PRO_12924  PRO_18242   \n",
       "397740   PRO_4881  PRO_17066   \n",
       "397741  PRO_15097  PRO_23695   \n",
       "397742  PRO_11821  PRO_14704   \n",
       "\n",
       "                                       Protein_A_sequence  \\\n",
       "0       MAKNPPENCEDCHILNAEAFKSKKICKSLKICGLVFGILALTLIVL...   \n",
       "1       MAKNPPENCEDCHILNAEAFKSKKICKSLKICGLVFGILALTLIVL...   \n",
       "2       MAKNPPENCEDCHILNAEAFKSKKICKSLKICGLVFGILALTLIVL...   \n",
       "3       MAKNPPENCEDCHILNAEAFKSKKICKSLKICGLVFGILALTLIVL...   \n",
       "4       MAKNPPENCEDCHILNAEAFKSKKICKSLKICGLVFGILALTLIVL...   \n",
       "...                                                   ...   \n",
       "397738  MADKRKLQGEIDRCLKKVSEGVEQFEDIWQKLHNAANANQKEKYEA...   \n",
       "397739  MRPGTGAERGGLMVSEMESHPPSQGPGDGERRLSGSSLCSGSWVSA...   \n",
       "397740  MSELEQLRQEAEQLRNQIRDARKACGDSTLTQITAGLDPVGRIQMR...   \n",
       "397741  MSSMNPEYDYLFKLLLIGDSGVGKSCLLLRFADDTYTESYISTIGV...   \n",
       "397742  MIDTLRPVPFASEMAISKTVAWLNEQLELGNERLLLMDCRPQELYE...   \n",
       "\n",
       "                                       Protein_B_sequence  split_0_10  \\\n",
       "0       MRRSSRPGSASSSRKHTPNFFSENSSMSITSEDSKGLRSAEPGPGE...           0   \n",
       "1       MASSSTVPLGFHYETKYVVLSYLGLLSQEKLQEQHLSSPQGVQLDI...           0   \n",
       "2       MSSHLVEPPPPLHNNNNNCEENEQSLPPPAGLNSSWVELPMNSSNG...          -1   \n",
       "3       MPLLLLLPLLWAGALAMDPNFWLQVQESVTVQEGLCVLVPCTFFHP...          -1   \n",
       "4       MKAQTALSFFLILITSLSGSQGIFPLAFFIYVPMNEQIVIGRLDED...           0   \n",
       "...                                                   ...         ...   \n",
       "397738  MSAIQAAWPSGTECIAKYNFHGTAEQDLPFCKGDVLTIVAVTKDPN...          -1   \n",
       "397739  MSEEKPKEGVKTENDHINLKVAGQDGSVVQFKIKRHTPLSKLMKAY...           1   \n",
       "397740  MASSSVPPATVSAATAGPGPGFGFASKTKKKHFVQQKVKVFRAADP...           1   \n",
       "397741  MGKRLDLSTLTDEEAEHVWAVVQRDFDLRRREEERLQGLKGKIQKE...          -1   \n",
       "397742  MAQGLVTFADVAIDFSQEEWACLNSAQRDLYWDVMLENYSNLVSLD...          -1   \n",
       "\n",
       "        split_0_20  split_0_30  split_0_40  split_0_50  split_0_60  ...  \\\n",
       "0               -1          -1          -1          -1          -1  ...   \n",
       "1               -1           1           1           1           1  ...   \n",
       "2                1           1           1           1           1  ...   \n",
       "3                1           1           1           1           1  ...   \n",
       "4               -1          -1          -1          -1           1  ...   \n",
       "...            ...         ...         ...         ...         ...  ...   \n",
       "397738          -1          -1          -1          -1          -1  ...   \n",
       "397739           1           1           1           1           1  ...   \n",
       "397740           1           1           1           1           1  ...   \n",
       "397741          -1           1           1           1           1  ...   \n",
       "397742           1           1           1           1           1  ...   \n",
       "\n",
       "        split_1_90  split_2_10  split_2_20  split_2_30  split_2_40  \\\n",
       "0                1          -1          -1          -1          -1   \n",
       "1                1          -1          -1           1           1   \n",
       "2               -1          -1          -1          -1          -1   \n",
       "3                1          -1          -1          -1           1   \n",
       "4                1          -1          -1           1           1   \n",
       "...            ...         ...         ...         ...         ...   \n",
       "397738          -1           0           0           0           0   \n",
       "397739           1           0           0           0           0   \n",
       "397740           1          -1          -1          -1          -1   \n",
       "397741           1           0           0           0           0   \n",
       "397742           1          -1          -1          -1          -1   \n",
       "\n",
       "        split_2_50  split_2_60  split_2_70  split_2_80  split_2_90  \n",
       "0               -1          -1           1           1           1  \n",
       "1                1           1           1           1           1  \n",
       "2                1           1           1           1           1  \n",
       "3                1           1           1           1           1  \n",
       "4                1           1           1           1           1  \n",
       "...            ...         ...         ...         ...         ...  \n",
       "397738           0           0           0          -1          -1  \n",
       "397739          -1          -1          -1           1           1  \n",
       "397740          -1          -1           1           1           1  \n",
       "397741           0           0          -1          -1          -1  \n",
       "397742          -1           1           1           1           1  \n",
       "\n",
       "[397743 rows x 31 columns]"
      ]
     },
     "execution_count": 4,
     "metadata": {},
     "output_type": "execute_result"
    }
   ],
   "source": [
    "data = pd.read_csv(\"../cluster_by_sandra/new_data.csv\")\n",
    "x =len(data)\n",
    "data = data.drop(columns = ['index'])\n",
    "data"
   ]
  },
  {
   "cell_type": "markdown",
   "id": "e6a829d5",
   "metadata": {},
   "source": [
    "### Choosing train set and test set(Minimizing loss of pairs)"
   ]
  },
  {
   "cell_type": "code",
   "execution_count": 5,
   "id": "aa43f287",
   "metadata": {},
   "outputs": [
    {
     "name": "stdout",
     "output_type": "stream",
     "text": [
      "split_0_10\n",
      "Train set size:  0.22849176478278688   count:  90881\n",
      "Test set size:  0.2728093266254843   count:  108508\n",
      "Deleting pairs:  0.49869890859172883   count:  198354\n",
      "\n",
      "\n",
      "split_0_20\n",
      "Train set size:  0.3533487704371919   count:  140542\n",
      "Test set size:  0.17263408784064083   count:  68664\n",
      "Deleting pairs:  0.47401714172216736   count:  188537\n",
      "\n",
      "\n",
      "split_0_30\n",
      "Train set size:  0.4626731331538204   count:  184025\n",
      "Test set size:  0.11068202331656371   count:  44023\n",
      "Deleting pairs:  0.42664484352961585   count:  169695\n",
      "\n",
      "\n",
      "split_0_40\n",
      "Train set size:  0.5445048687217625   count:  216573\n",
      "Test set size:  0.07627538385339278   count:  30338\n",
      "Deleting pairs:  0.3792197474248447   count:  150832\n",
      "\n",
      "\n",
      "split_0_50\n",
      "Train set size:  0.6106329966837882   count:  242875\n",
      "Test set size:  0.053896611631128646   count:  21437\n",
      "Deleting pairs:  0.3354703916850831   count:  133431\n",
      "\n",
      "\n",
      "split_0_60\n",
      "Train set size:  0.6723889546767636   count:  267438\n",
      "Test set size:  0.03737840766525118   count:  14867\n",
      "Deleting pairs:  0.2902326376579852   count:  115438\n",
      "\n",
      "\n",
      "split_0_70\n",
      "Train set size:  0.7491646616030955   count:  297975\n",
      "Test set size:  0.02032468201828819   count:  8084\n",
      "Deleting pairs:  0.23051065637861634   count:  91684\n",
      "\n",
      "\n",
      "split_0_80\n",
      "Train set size:  0.8282861043437597   count:  329445\n",
      "Test set size:  0.008842393203651605   count:  3517\n",
      "Deleting pairs:  0.16287150245258875   count:  64781\n",
      "\n",
      "\n",
      "split_0_90\n",
      "Train set size:  0.9157370462836555   count:  364228\n",
      "Test set size:  0.0020289483410141727   count:  807\n",
      "Deleting pairs:  0.08223400537533031   count:  32708\n",
      "\n",
      "\n"
     ]
    }
   ],
   "source": [
    "for j in range(1):\n",
    "    for i in range(10,100,10):\n",
    "            print(f'split_{j}_{i}')\n",
    "        \n",
    "            print(\"Train set size: \",data[f'split_{j}_{i}'].value_counts()[1]/x,\"  count: \",data[f'split_{j}_{i}'].value_counts()[1])\n",
    "            print(\"Test set size: \",data[f'split_{j}_{i}'].value_counts()[0]/x,\"  count: \",data[f'split_{j}_{i}'].value_counts()[0])\n",
    "            print(\"Deleting pairs: \",data[f'split_{j}_{i}'].value_counts()[-1]/x,\"  count: \",data[f'split_{j}_{i}'].value_counts()[-1])\n",
    "            print(\"\\n\")\n",
    "            "
   ]
  },
  {
   "cell_type": "code",
   "execution_count": 6,
   "id": "4d8aec5e",
   "metadata": {},
   "outputs": [
    {
     "data": {
      "text/html": [
       "<div>\n",
       "<style scoped>\n",
       "    .dataframe tbody tr th:only-of-type {\n",
       "        vertical-align: middle;\n",
       "    }\n",
       "\n",
       "    .dataframe tbody tr th {\n",
       "        vertical-align: top;\n",
       "    }\n",
       "\n",
       "    .dataframe thead th {\n",
       "        text-align: right;\n",
       "    }\n",
       "</style>\n",
       "<table border=\"1\" class=\"dataframe\">\n",
       "  <thead>\n",
       "    <tr style=\"text-align: right;\">\n",
       "      <th></th>\n",
       "      <th>Protein_A</th>\n",
       "      <th>Protein_B</th>\n",
       "      <th>Protein_A_sequence</th>\n",
       "      <th>Protein_B_sequence</th>\n",
       "      <th>split_0_10</th>\n",
       "      <th>split_0_20</th>\n",
       "      <th>split_0_30</th>\n",
       "      <th>split_0_40</th>\n",
       "      <th>split_0_50</th>\n",
       "      <th>split_0_60</th>\n",
       "      <th>...</th>\n",
       "      <th>split_1_90</th>\n",
       "      <th>split_2_10</th>\n",
       "      <th>split_2_20</th>\n",
       "      <th>split_2_30</th>\n",
       "      <th>split_2_40</th>\n",
       "      <th>split_2_50</th>\n",
       "      <th>split_2_60</th>\n",
       "      <th>split_2_70</th>\n",
       "      <th>split_2_80</th>\n",
       "      <th>split_2_90</th>\n",
       "    </tr>\n",
       "  </thead>\n",
       "  <tbody>\n",
       "    <tr>\n",
       "      <th>0</th>\n",
       "      <td>PRO_1968</td>\n",
       "      <td>PRO_2127</td>\n",
       "      <td>MAKNPPENCEDCHILNAEAFKSKKICKSLKICGLVFGILALTLIVL...</td>\n",
       "      <td>MRRSSRPGSASSSRKHTPNFFSENSSMSITSEDSKGLRSAEPGPGE...</td>\n",
       "      <td>0</td>\n",
       "      <td>-1</td>\n",
       "      <td>-1</td>\n",
       "      <td>-1</td>\n",
       "      <td>-1</td>\n",
       "      <td>-1</td>\n",
       "      <td>...</td>\n",
       "      <td>1</td>\n",
       "      <td>-1</td>\n",
       "      <td>-1</td>\n",
       "      <td>-1</td>\n",
       "      <td>-1</td>\n",
       "      <td>-1</td>\n",
       "      <td>-1</td>\n",
       "      <td>1</td>\n",
       "      <td>1</td>\n",
       "      <td>1</td>\n",
       "    </tr>\n",
       "    <tr>\n",
       "      <th>1</th>\n",
       "      <td>PRO_1968</td>\n",
       "      <td>PRO_3259</td>\n",
       "      <td>MAKNPPENCEDCHILNAEAFKSKKICKSLKICGLVFGILALTLIVL...</td>\n",
       "      <td>MASSSTVPLGFHYETKYVVLSYLGLLSQEKLQEQHLSSPQGVQLDI...</td>\n",
       "      <td>0</td>\n",
       "      <td>-1</td>\n",
       "      <td>1</td>\n",
       "      <td>1</td>\n",
       "      <td>1</td>\n",
       "      <td>1</td>\n",
       "      <td>...</td>\n",
       "      <td>1</td>\n",
       "      <td>-1</td>\n",
       "      <td>-1</td>\n",
       "      <td>1</td>\n",
       "      <td>1</td>\n",
       "      <td>1</td>\n",
       "      <td>1</td>\n",
       "      <td>1</td>\n",
       "      <td>1</td>\n",
       "      <td>1</td>\n",
       "    </tr>\n",
       "    <tr>\n",
       "      <th>2</th>\n",
       "      <td>PRO_1968</td>\n",
       "      <td>PRO_20825</td>\n",
       "      <td>MAKNPPENCEDCHILNAEAFKSKKICKSLKICGLVFGILALTLIVL...</td>\n",
       "      <td>MSSHLVEPPPPLHNNNNNCEENEQSLPPPAGLNSSWVELPMNSSNG...</td>\n",
       "      <td>-1</td>\n",
       "      <td>1</td>\n",
       "      <td>1</td>\n",
       "      <td>1</td>\n",
       "      <td>1</td>\n",
       "      <td>1</td>\n",
       "      <td>...</td>\n",
       "      <td>-1</td>\n",
       "      <td>-1</td>\n",
       "      <td>-1</td>\n",
       "      <td>-1</td>\n",
       "      <td>-1</td>\n",
       "      <td>1</td>\n",
       "      <td>1</td>\n",
       "      <td>1</td>\n",
       "      <td>1</td>\n",
       "      <td>1</td>\n",
       "    </tr>\n",
       "    <tr>\n",
       "      <th>3</th>\n",
       "      <td>PRO_1968</td>\n",
       "      <td>PRO_11236</td>\n",
       "      <td>MAKNPPENCEDCHILNAEAFKSKKICKSLKICGLVFGILALTLIVL...</td>\n",
       "      <td>MPLLLLLPLLWAGALAMDPNFWLQVQESVTVQEGLCVLVPCTFFHP...</td>\n",
       "      <td>-1</td>\n",
       "      <td>1</td>\n",
       "      <td>1</td>\n",
       "      <td>1</td>\n",
       "      <td>1</td>\n",
       "      <td>1</td>\n",
       "      <td>...</td>\n",
       "      <td>1</td>\n",
       "      <td>-1</td>\n",
       "      <td>-1</td>\n",
       "      <td>-1</td>\n",
       "      <td>1</td>\n",
       "      <td>1</td>\n",
       "      <td>1</td>\n",
       "      <td>1</td>\n",
       "      <td>1</td>\n",
       "      <td>1</td>\n",
       "    </tr>\n",
       "    <tr>\n",
       "      <th>4</th>\n",
       "      <td>PRO_1968</td>\n",
       "      <td>PRO_2577</td>\n",
       "      <td>MAKNPPENCEDCHILNAEAFKSKKICKSLKICGLVFGILALTLIVL...</td>\n",
       "      <td>MKAQTALSFFLILITSLSGSQGIFPLAFFIYVPMNEQIVIGRLDED...</td>\n",
       "      <td>0</td>\n",
       "      <td>-1</td>\n",
       "      <td>-1</td>\n",
       "      <td>-1</td>\n",
       "      <td>-1</td>\n",
       "      <td>1</td>\n",
       "      <td>...</td>\n",
       "      <td>1</td>\n",
       "      <td>-1</td>\n",
       "      <td>-1</td>\n",
       "      <td>1</td>\n",
       "      <td>1</td>\n",
       "      <td>1</td>\n",
       "      <td>1</td>\n",
       "      <td>1</td>\n",
       "      <td>1</td>\n",
       "      <td>1</td>\n",
       "    </tr>\n",
       "    <tr>\n",
       "      <th>...</th>\n",
       "      <td>...</td>\n",
       "      <td>...</td>\n",
       "      <td>...</td>\n",
       "      <td>...</td>\n",
       "      <td>...</td>\n",
       "      <td>...</td>\n",
       "      <td>...</td>\n",
       "      <td>...</td>\n",
       "      <td>...</td>\n",
       "      <td>...</td>\n",
       "      <td>...</td>\n",
       "      <td>...</td>\n",
       "      <td>...</td>\n",
       "      <td>...</td>\n",
       "      <td>...</td>\n",
       "      <td>...</td>\n",
       "      <td>...</td>\n",
       "      <td>...</td>\n",
       "      <td>...</td>\n",
       "      <td>...</td>\n",
       "      <td>...</td>\n",
       "    </tr>\n",
       "    <tr>\n",
       "      <th>397738</th>\n",
       "      <td>PRO_10712</td>\n",
       "      <td>PRO_4734</td>\n",
       "      <td>MADKRKLQGEIDRCLKKVSEGVEQFEDIWQKLHNAANANQKEKYEA...</td>\n",
       "      <td>MSAIQAAWPSGTECIAKYNFHGTAEQDLPFCKGDVLTIVAVTKDPN...</td>\n",
       "      <td>-1</td>\n",
       "      <td>-1</td>\n",
       "      <td>-1</td>\n",
       "      <td>-1</td>\n",
       "      <td>-1</td>\n",
       "      <td>-1</td>\n",
       "      <td>...</td>\n",
       "      <td>-1</td>\n",
       "      <td>0</td>\n",
       "      <td>0</td>\n",
       "      <td>0</td>\n",
       "      <td>0</td>\n",
       "      <td>0</td>\n",
       "      <td>0</td>\n",
       "      <td>0</td>\n",
       "      <td>-1</td>\n",
       "      <td>-1</td>\n",
       "    </tr>\n",
       "    <tr>\n",
       "      <th>397739</th>\n",
       "      <td>PRO_12924</td>\n",
       "      <td>PRO_18242</td>\n",
       "      <td>MRPGTGAERGGLMVSEMESHPPSQGPGDGERRLSGSSLCSGSWVSA...</td>\n",
       "      <td>MSEEKPKEGVKTENDHINLKVAGQDGSVVQFKIKRHTPLSKLMKAY...</td>\n",
       "      <td>1</td>\n",
       "      <td>1</td>\n",
       "      <td>1</td>\n",
       "      <td>1</td>\n",
       "      <td>1</td>\n",
       "      <td>1</td>\n",
       "      <td>...</td>\n",
       "      <td>1</td>\n",
       "      <td>0</td>\n",
       "      <td>0</td>\n",
       "      <td>0</td>\n",
       "      <td>0</td>\n",
       "      <td>-1</td>\n",
       "      <td>-1</td>\n",
       "      <td>-1</td>\n",
       "      <td>1</td>\n",
       "      <td>1</td>\n",
       "    </tr>\n",
       "    <tr>\n",
       "      <th>397740</th>\n",
       "      <td>PRO_4881</td>\n",
       "      <td>PRO_17066</td>\n",
       "      <td>MSELEQLRQEAEQLRNQIRDARKACGDSTLTQITAGLDPVGRIQMR...</td>\n",
       "      <td>MASSSVPPATVSAATAGPGPGFGFASKTKKKHFVQQKVKVFRAADP...</td>\n",
       "      <td>1</td>\n",
       "      <td>1</td>\n",
       "      <td>1</td>\n",
       "      <td>1</td>\n",
       "      <td>1</td>\n",
       "      <td>1</td>\n",
       "      <td>...</td>\n",
       "      <td>1</td>\n",
       "      <td>-1</td>\n",
       "      <td>-1</td>\n",
       "      <td>-1</td>\n",
       "      <td>-1</td>\n",
       "      <td>-1</td>\n",
       "      <td>-1</td>\n",
       "      <td>1</td>\n",
       "      <td>1</td>\n",
       "      <td>1</td>\n",
       "    </tr>\n",
       "    <tr>\n",
       "      <th>397741</th>\n",
       "      <td>PRO_15097</td>\n",
       "      <td>PRO_23695</td>\n",
       "      <td>MSSMNPEYDYLFKLLLIGDSGVGKSCLLLRFADDTYTESYISTIGV...</td>\n",
       "      <td>MGKRLDLSTLTDEEAEHVWAVVQRDFDLRRREEERLQGLKGKIQKE...</td>\n",
       "      <td>-1</td>\n",
       "      <td>-1</td>\n",
       "      <td>1</td>\n",
       "      <td>1</td>\n",
       "      <td>1</td>\n",
       "      <td>1</td>\n",
       "      <td>...</td>\n",
       "      <td>1</td>\n",
       "      <td>0</td>\n",
       "      <td>0</td>\n",
       "      <td>0</td>\n",
       "      <td>0</td>\n",
       "      <td>0</td>\n",
       "      <td>0</td>\n",
       "      <td>-1</td>\n",
       "      <td>-1</td>\n",
       "      <td>-1</td>\n",
       "    </tr>\n",
       "    <tr>\n",
       "      <th>397742</th>\n",
       "      <td>PRO_11821</td>\n",
       "      <td>PRO_14704</td>\n",
       "      <td>MIDTLRPVPFASEMAISKTVAWLNEQLELGNERLLLMDCRPQELYE...</td>\n",
       "      <td>MAQGLVTFADVAIDFSQEEWACLNSAQRDLYWDVMLENYSNLVSLD...</td>\n",
       "      <td>-1</td>\n",
       "      <td>1</td>\n",
       "      <td>1</td>\n",
       "      <td>1</td>\n",
       "      <td>1</td>\n",
       "      <td>1</td>\n",
       "      <td>...</td>\n",
       "      <td>1</td>\n",
       "      <td>-1</td>\n",
       "      <td>-1</td>\n",
       "      <td>-1</td>\n",
       "      <td>-1</td>\n",
       "      <td>-1</td>\n",
       "      <td>1</td>\n",
       "      <td>1</td>\n",
       "      <td>1</td>\n",
       "      <td>1</td>\n",
       "    </tr>\n",
       "  </tbody>\n",
       "</table>\n",
       "<p>397743 rows × 31 columns</p>\n",
       "</div>"
      ],
      "text/plain": [
       "        Protein_A  Protein_B  \\\n",
       "0        PRO_1968   PRO_2127   \n",
       "1        PRO_1968   PRO_3259   \n",
       "2        PRO_1968  PRO_20825   \n",
       "3        PRO_1968  PRO_11236   \n",
       "4        PRO_1968   PRO_2577   \n",
       "...           ...        ...   \n",
       "397738  PRO_10712   PRO_4734   \n",
       "397739  PRO_12924  PRO_18242   \n",
       "397740   PRO_4881  PRO_17066   \n",
       "397741  PRO_15097  PRO_23695   \n",
       "397742  PRO_11821  PRO_14704   \n",
       "\n",
       "                                       Protein_A_sequence  \\\n",
       "0       MAKNPPENCEDCHILNAEAFKSKKICKSLKICGLVFGILALTLIVL...   \n",
       "1       MAKNPPENCEDCHILNAEAFKSKKICKSLKICGLVFGILALTLIVL...   \n",
       "2       MAKNPPENCEDCHILNAEAFKSKKICKSLKICGLVFGILALTLIVL...   \n",
       "3       MAKNPPENCEDCHILNAEAFKSKKICKSLKICGLVFGILALTLIVL...   \n",
       "4       MAKNPPENCEDCHILNAEAFKSKKICKSLKICGLVFGILALTLIVL...   \n",
       "...                                                   ...   \n",
       "397738  MADKRKLQGEIDRCLKKVSEGVEQFEDIWQKLHNAANANQKEKYEA...   \n",
       "397739  MRPGTGAERGGLMVSEMESHPPSQGPGDGERRLSGSSLCSGSWVSA...   \n",
       "397740  MSELEQLRQEAEQLRNQIRDARKACGDSTLTQITAGLDPVGRIQMR...   \n",
       "397741  MSSMNPEYDYLFKLLLIGDSGVGKSCLLLRFADDTYTESYISTIGV...   \n",
       "397742  MIDTLRPVPFASEMAISKTVAWLNEQLELGNERLLLMDCRPQELYE...   \n",
       "\n",
       "                                       Protein_B_sequence  split_0_10  \\\n",
       "0       MRRSSRPGSASSSRKHTPNFFSENSSMSITSEDSKGLRSAEPGPGE...           0   \n",
       "1       MASSSTVPLGFHYETKYVVLSYLGLLSQEKLQEQHLSSPQGVQLDI...           0   \n",
       "2       MSSHLVEPPPPLHNNNNNCEENEQSLPPPAGLNSSWVELPMNSSNG...          -1   \n",
       "3       MPLLLLLPLLWAGALAMDPNFWLQVQESVTVQEGLCVLVPCTFFHP...          -1   \n",
       "4       MKAQTALSFFLILITSLSGSQGIFPLAFFIYVPMNEQIVIGRLDED...           0   \n",
       "...                                                   ...         ...   \n",
       "397738  MSAIQAAWPSGTECIAKYNFHGTAEQDLPFCKGDVLTIVAVTKDPN...          -1   \n",
       "397739  MSEEKPKEGVKTENDHINLKVAGQDGSVVQFKIKRHTPLSKLMKAY...           1   \n",
       "397740  MASSSVPPATVSAATAGPGPGFGFASKTKKKHFVQQKVKVFRAADP...           1   \n",
       "397741  MGKRLDLSTLTDEEAEHVWAVVQRDFDLRRREEERLQGLKGKIQKE...          -1   \n",
       "397742  MAQGLVTFADVAIDFSQEEWACLNSAQRDLYWDVMLENYSNLVSLD...          -1   \n",
       "\n",
       "        split_0_20  split_0_30  split_0_40  split_0_50  split_0_60  ...  \\\n",
       "0               -1          -1          -1          -1          -1  ...   \n",
       "1               -1           1           1           1           1  ...   \n",
       "2                1           1           1           1           1  ...   \n",
       "3                1           1           1           1           1  ...   \n",
       "4               -1          -1          -1          -1           1  ...   \n",
       "...            ...         ...         ...         ...         ...  ...   \n",
       "397738          -1          -1          -1          -1          -1  ...   \n",
       "397739           1           1           1           1           1  ...   \n",
       "397740           1           1           1           1           1  ...   \n",
       "397741          -1           1           1           1           1  ...   \n",
       "397742           1           1           1           1           1  ...   \n",
       "\n",
       "        split_1_90  split_2_10  split_2_20  split_2_30  split_2_40  \\\n",
       "0                1          -1          -1          -1          -1   \n",
       "1                1          -1          -1           1           1   \n",
       "2               -1          -1          -1          -1          -1   \n",
       "3                1          -1          -1          -1           1   \n",
       "4                1          -1          -1           1           1   \n",
       "...            ...         ...         ...         ...         ...   \n",
       "397738          -1           0           0           0           0   \n",
       "397739           1           0           0           0           0   \n",
       "397740           1          -1          -1          -1          -1   \n",
       "397741           1           0           0           0           0   \n",
       "397742           1          -1          -1          -1          -1   \n",
       "\n",
       "        split_2_50  split_2_60  split_2_70  split_2_80  split_2_90  \n",
       "0               -1          -1           1           1           1  \n",
       "1                1           1           1           1           1  \n",
       "2                1           1           1           1           1  \n",
       "3                1           1           1           1           1  \n",
       "4                1           1           1           1           1  \n",
       "...            ...         ...         ...         ...         ...  \n",
       "397738           0           0           0          -1          -1  \n",
       "397739          -1          -1          -1           1           1  \n",
       "397740          -1          -1           1           1           1  \n",
       "397741           0           0          -1          -1          -1  \n",
       "397742          -1           1           1           1           1  \n",
       "\n",
       "[397743 rows x 31 columns]"
      ]
     },
     "execution_count": 6,
     "metadata": {},
     "output_type": "execute_result"
    }
   ],
   "source": [
    "data"
   ]
  },
  {
   "cell_type": "code",
   "execution_count": 7,
   "id": "08cbe126",
   "metadata": {},
   "outputs": [],
   "source": [
    "train_data = data[data.split_0_50 == 1][['Protein_A','Protein_B','Protein_A_sequence','Protein_B_sequence']]\n",
    "test_data = data[data.split_0_50 == 0][['Protein_A','Protein_B','Protein_A_sequence','Protein_B_sequence']]\n",
    "deleted_data = data[data.split_0_50 == -1][['Protein_A','Protein_B','Protein_A_sequence','Protein_B_sequence']]\n"
   ]
  },
  {
   "cell_type": "code",
   "execution_count": 8,
   "id": "e5ecc1a0",
   "metadata": {},
   "outputs": [
    {
     "name": "stdout",
     "output_type": "stream",
     "text": [
      "count of proteins in total pairs  24016\n",
      "count of proteins in deleted pairs  18717\n",
      "count of proteins in train pairs  17290\n",
      "count of proteins in test pairs  4692\n"
     ]
    }
   ],
   "source": [
    "deleted_data_proteins = set(deleted_data.Protein_A).union(deleted_data.Protein_B)\n",
    "train_data_proteins = set(train_data.Protein_A).union(train_data.Protein_B)\n",
    "test_data_proteins = set(test_data.Protein_A).union(test_data.Protein_B)\n",
    "total_data_proteins = set(data.Protein_A).union(data.Protein_B)\n",
    "print(\"count of proteins in total pairs \",len(total_data_proteins))\n",
    "print(\"count of proteins in deleted pairs \",len(deleted_data_proteins))\n",
    "print(\"count of proteins in train pairs \",len(train_data_proteins))\n",
    "print(\"count of proteins in test pairs \",len(test_data_proteins))"
   ]
  },
  {
   "cell_type": "code",
   "execution_count": 9,
   "id": "f259f7a5",
   "metadata": {},
   "outputs": [
    {
     "data": {
      "text/plain": [
       "12139"
      ]
     },
     "execution_count": 9,
     "metadata": {},
     "output_type": "execute_result"
    }
   ],
   "source": [
    "intersec_test_deleted_pro = deleted_data_proteins.intersection(train_data_proteins)\n",
    "len(intersec_test_deleted_pro)"
   ]
  },
  {
   "cell_type": "code",
   "execution_count": 10,
   "id": "63178cd2",
   "metadata": {},
   "outputs": [
    {
     "data": {
      "text/html": [
       "<div>\n",
       "<style scoped>\n",
       "    .dataframe tbody tr th:only-of-type {\n",
       "        vertical-align: middle;\n",
       "    }\n",
       "\n",
       "    .dataframe tbody tr th {\n",
       "        vertical-align: top;\n",
       "    }\n",
       "\n",
       "    .dataframe thead th {\n",
       "        text-align: right;\n",
       "    }\n",
       "</style>\n",
       "<table border=\"1\" class=\"dataframe\">\n",
       "  <thead>\n",
       "    <tr style=\"text-align: right;\">\n",
       "      <th></th>\n",
       "      <th>protein_A</th>\n",
       "      <th>protein_B</th>\n",
       "      <th>Protein_A_sequence</th>\n",
       "      <th>Protein_B_sequence</th>\n",
       "    </tr>\n",
       "  </thead>\n",
       "  <tbody>\n",
       "    <tr>\n",
       "      <th>0</th>\n",
       "      <td>PRO_20310</td>\n",
       "      <td>PRO_7397</td>\n",
       "      <td>MEKPLTVLRVSLYHPTLGPSAFANVPPRLQHDTSPLLLGRGQDAHL...</td>\n",
       "      <td>MSLLNCENSCGSSQSESDCCVAMASSCSAVTKDDSVGGTASTGNLS...</td>\n",
       "    </tr>\n",
       "    <tr>\n",
       "      <th>1</th>\n",
       "      <td>PRO_11741</td>\n",
       "      <td>PRO_6542</td>\n",
       "      <td>MSFIFEWIYNGFSSVLQFLGLYKKSGKLVFLGLDNAGKTTLLHMLK...</td>\n",
       "      <td>MNVTSLFSFTSPAVKRLLGWKQGDEEEKWAEKAVDALVKKLKKKKG...</td>\n",
       "    </tr>\n",
       "    <tr>\n",
       "      <th>2</th>\n",
       "      <td>PRO_6345</td>\n",
       "      <td>PRO_12266</td>\n",
       "      <td>MADLAECNIKVMCRFRPLNESEVNRGDKYIAKFQGEDTVVIASKPY...</td>\n",
       "      <td>MANVPWAEVCEKFQAALALSRVELHKNPEKEPYKSKYSARALLEEV...</td>\n",
       "    </tr>\n",
       "    <tr>\n",
       "      <th>3</th>\n",
       "      <td>PRO_7768</td>\n",
       "      <td>PRO_13606</td>\n",
       "      <td>MATSMGLLLLLLLLLTQPGAGTGADTEAVVCVGTACYTAHSGKLSA...</td>\n",
       "      <td>MEGPRGWLVLCVLAISLASMVTEDLCRAPDGKKGEAGRPGRRGRPG...</td>\n",
       "    </tr>\n",
       "    <tr>\n",
       "      <th>4</th>\n",
       "      <td>PRO_5048</td>\n",
       "      <td>PRO_9731</td>\n",
       "      <td>MSDEGPGTGPGNGLGEKGDTSGPEGSGGSGPQRRGGDNHGRGRGRG...</td>\n",
       "      <td>MSSILPFTPPVVKRLLGWKKSAGGSGGAGGGEQNGQEEKWCEKAVK...</td>\n",
       "    </tr>\n",
       "    <tr>\n",
       "      <th>...</th>\n",
       "      <td>...</td>\n",
       "      <td>...</td>\n",
       "      <td>...</td>\n",
       "      <td>...</td>\n",
       "    </tr>\n",
       "    <tr>\n",
       "      <th>1584</th>\n",
       "      <td>PRO_10712</td>\n",
       "      <td>PRO_4734</td>\n",
       "      <td>MADKRKLQGEIDRCLKKVSEGVEQFEDIWQKLHNAANANQKEKYEA...</td>\n",
       "      <td>MSAIQAAWPSGTECIAKYNFHGTAEQDLPFCKGDVLTIVAVTKDPN...</td>\n",
       "    </tr>\n",
       "    <tr>\n",
       "      <th>1585</th>\n",
       "      <td>PRO_12924</td>\n",
       "      <td>PRO_18242</td>\n",
       "      <td>MRPGTGAERGGLMVSEMESHPPSQGPGDGERRLSGSSLCSGSWVSA...</td>\n",
       "      <td>MSEEKPKEGVKTENDHINLKVAGQDGSVVQFKIKRHTPLSKLMKAY...</td>\n",
       "    </tr>\n",
       "    <tr>\n",
       "      <th>1586</th>\n",
       "      <td>PRO_4881</td>\n",
       "      <td>PRO_17066</td>\n",
       "      <td>MSELEQLRQEAEQLRNQIRDARKACGDSTLTQITAGLDPVGRIQMR...</td>\n",
       "      <td>MASSSVPPATVSAATAGPGPGFGFASKTKKKHFVQQKVKVFRAADP...</td>\n",
       "    </tr>\n",
       "    <tr>\n",
       "      <th>1587</th>\n",
       "      <td>PRO_15097</td>\n",
       "      <td>PRO_23695</td>\n",
       "      <td>MSSMNPEYDYLFKLLLIGDSGVGKSCLLLRFADDTYTESYISTIGV...</td>\n",
       "      <td>MGKRLDLSTLTDEEAEHVWAVVQRDFDLRRREEERLQGLKGKIQKE...</td>\n",
       "    </tr>\n",
       "    <tr>\n",
       "      <th>1588</th>\n",
       "      <td>PRO_11821</td>\n",
       "      <td>PRO_14704</td>\n",
       "      <td>MIDTLRPVPFASEMAISKTVAWLNEQLELGNERLLLMDCRPQELYE...</td>\n",
       "      <td>MAQGLVTFADVAIDFSQEEWACLNSAQRDLYWDVMLENYSNLVSLD...</td>\n",
       "    </tr>\n",
       "  </tbody>\n",
       "</table>\n",
       "<p>1589 rows × 4 columns</p>\n",
       "</div>"
      ],
      "text/plain": [
       "      protein_A  protein_B                                 Protein_A_sequence  \\\n",
       "0     PRO_20310   PRO_7397  MEKPLTVLRVSLYHPTLGPSAFANVPPRLQHDTSPLLLGRGQDAHL...   \n",
       "1     PRO_11741   PRO_6542  MSFIFEWIYNGFSSVLQFLGLYKKSGKLVFLGLDNAGKTTLLHMLK...   \n",
       "2      PRO_6345  PRO_12266  MADLAECNIKVMCRFRPLNESEVNRGDKYIAKFQGEDTVVIASKPY...   \n",
       "3      PRO_7768  PRO_13606  MATSMGLLLLLLLLLTQPGAGTGADTEAVVCVGTACYTAHSGKLSA...   \n",
       "4      PRO_5048   PRO_9731  MSDEGPGTGPGNGLGEKGDTSGPEGSGGSGPQRRGGDNHGRGRGRG...   \n",
       "...         ...        ...                                                ...   \n",
       "1584  PRO_10712   PRO_4734  MADKRKLQGEIDRCLKKVSEGVEQFEDIWQKLHNAANANQKEKYEA...   \n",
       "1585  PRO_12924  PRO_18242  MRPGTGAERGGLMVSEMESHPPSQGPGDGERRLSGSSLCSGSWVSA...   \n",
       "1586   PRO_4881  PRO_17066  MSELEQLRQEAEQLRNQIRDARKACGDSTLTQITAGLDPVGRIQMR...   \n",
       "1587  PRO_15097  PRO_23695  MSSMNPEYDYLFKLLLIGDSGVGKSCLLLRFADDTYTESYISTIGV...   \n",
       "1588  PRO_11821  PRO_14704  MIDTLRPVPFASEMAISKTVAWLNEQLELGNERLLLMDCRPQELYE...   \n",
       "\n",
       "                                     Protein_B_sequence  \n",
       "0     MSLLNCENSCGSSQSESDCCVAMASSCSAVTKDDSVGGTASTGNLS...  \n",
       "1     MNVTSLFSFTSPAVKRLLGWKQGDEEEKWAEKAVDALVKKLKKKKG...  \n",
       "2     MANVPWAEVCEKFQAALALSRVELHKNPEKEPYKSKYSARALLEEV...  \n",
       "3     MEGPRGWLVLCVLAISLASMVTEDLCRAPDGKKGEAGRPGRRGRPG...  \n",
       "4     MSSILPFTPPVVKRLLGWKKSAGGSGGAGGGEQNGQEEKWCEKAVK...  \n",
       "...                                                 ...  \n",
       "1584  MSAIQAAWPSGTECIAKYNFHGTAEQDLPFCKGDVLTIVAVTKDPN...  \n",
       "1585  MSEEKPKEGVKTENDHINLKVAGQDGSVVQFKIKRHTPLSKLMKAY...  \n",
       "1586  MASSSVPPATVSAATAGPGPGFGFASKTKKKHFVQQKVKVFRAADP...  \n",
       "1587  MGKRLDLSTLTDEEAEHVWAVVQRDFDLRRREEERLQGLKGKIQKE...  \n",
       "1588  MAQGLVTFADVAIDFSQEEWACLNSAQRDLYWDVMLENYSNLVSLD...  \n",
       "\n",
       "[1589 rows x 4 columns]"
      ]
     },
     "execution_count": 10,
     "metadata": {},
     "output_type": "execute_result"
    }
   ],
   "source": [
    "data_neg = pd.read_csv(\"../../csv_files_new_ppi/final_combined_negative_data_2.csv\")\n",
    "data_neg"
   ]
  },
  {
   "cell_type": "code",
   "execution_count": 11,
   "id": "dd6064a9",
   "metadata": {},
   "outputs": [
    {
     "data": {
      "text/html": [
       "<div>\n",
       "<style scoped>\n",
       "    .dataframe tbody tr th:only-of-type {\n",
       "        vertical-align: middle;\n",
       "    }\n",
       "\n",
       "    .dataframe tbody tr th {\n",
       "        vertical-align: top;\n",
       "    }\n",
       "\n",
       "    .dataframe thead th {\n",
       "        text-align: right;\n",
       "    }\n",
       "</style>\n",
       "<table border=\"1\" class=\"dataframe\">\n",
       "  <thead>\n",
       "    <tr style=\"text-align: right;\">\n",
       "      <th></th>\n",
       "      <th>Protein_A</th>\n",
       "      <th>Protein_B</th>\n",
       "      <th>Protein_A_sequence</th>\n",
       "      <th>Protein_B_sequence</th>\n",
       "      <th>split_0_10</th>\n",
       "      <th>split_0_20</th>\n",
       "      <th>split_0_30</th>\n",
       "      <th>split_0_40</th>\n",
       "      <th>split_0_50</th>\n",
       "      <th>split_0_60</th>\n",
       "      <th>...</th>\n",
       "      <th>split_1_90</th>\n",
       "      <th>split_2_10</th>\n",
       "      <th>split_2_20</th>\n",
       "      <th>split_2_30</th>\n",
       "      <th>split_2_40</th>\n",
       "      <th>split_2_50</th>\n",
       "      <th>split_2_60</th>\n",
       "      <th>split_2_70</th>\n",
       "      <th>split_2_80</th>\n",
       "      <th>split_2_90</th>\n",
       "    </tr>\n",
       "  </thead>\n",
       "  <tbody>\n",
       "    <tr>\n",
       "      <th>396154</th>\n",
       "      <td>PRO_20310</td>\n",
       "      <td>PRO_7397</td>\n",
       "      <td>MEKPLTVLRVSLYHPTLGPSAFANVPPRLQHDTSPLLLGRGQDAHL...</td>\n",
       "      <td>MSLLNCENSCGSSQSESDCCVAMASSCSAVTKDDSVGGTASTGNLS...</td>\n",
       "      <td>0</td>\n",
       "      <td>0</td>\n",
       "      <td>-1</td>\n",
       "      <td>-1</td>\n",
       "      <td>-1</td>\n",
       "      <td>-1</td>\n",
       "      <td>...</td>\n",
       "      <td>0</td>\n",
       "      <td>0</td>\n",
       "      <td>0</td>\n",
       "      <td>0</td>\n",
       "      <td>0</td>\n",
       "      <td>-1</td>\n",
       "      <td>-1</td>\n",
       "      <td>1</td>\n",
       "      <td>1</td>\n",
       "      <td>1</td>\n",
       "    </tr>\n",
       "    <tr>\n",
       "      <th>396155</th>\n",
       "      <td>PRO_11741</td>\n",
       "      <td>PRO_6542</td>\n",
       "      <td>MSFIFEWIYNGFSSVLQFLGLYKKSGKLVFLGLDNAGKTTLLHMLK...</td>\n",
       "      <td>MNVTSLFSFTSPAVKRLLGWKQGDEEEKWAEKAVDALVKKLKKKKG...</td>\n",
       "      <td>1</td>\n",
       "      <td>1</td>\n",
       "      <td>1</td>\n",
       "      <td>1</td>\n",
       "      <td>1</td>\n",
       "      <td>1</td>\n",
       "      <td>...</td>\n",
       "      <td>1</td>\n",
       "      <td>0</td>\n",
       "      <td>0</td>\n",
       "      <td>0</td>\n",
       "      <td>0</td>\n",
       "      <td>0</td>\n",
       "      <td>0</td>\n",
       "      <td>-1</td>\n",
       "      <td>1</td>\n",
       "      <td>1</td>\n",
       "    </tr>\n",
       "    <tr>\n",
       "      <th>396156</th>\n",
       "      <td>PRO_6345</td>\n",
       "      <td>PRO_12266</td>\n",
       "      <td>MADLAECNIKVMCRFRPLNESEVNRGDKYIAKFQGEDTVVIASKPY...</td>\n",
       "      <td>MANVPWAEVCEKFQAALALSRVELHKNPEKEPYKSKYSARALLEEV...</td>\n",
       "      <td>-1</td>\n",
       "      <td>-1</td>\n",
       "      <td>-1</td>\n",
       "      <td>-1</td>\n",
       "      <td>-1</td>\n",
       "      <td>-1</td>\n",
       "      <td>...</td>\n",
       "      <td>1</td>\n",
       "      <td>0</td>\n",
       "      <td>-1</td>\n",
       "      <td>-1</td>\n",
       "      <td>-1</td>\n",
       "      <td>-1</td>\n",
       "      <td>-1</td>\n",
       "      <td>-1</td>\n",
       "      <td>-1</td>\n",
       "      <td>1</td>\n",
       "    </tr>\n",
       "    <tr>\n",
       "      <th>396157</th>\n",
       "      <td>PRO_7768</td>\n",
       "      <td>PRO_13606</td>\n",
       "      <td>MATSMGLLLLLLLLLTQPGAGTGADTEAVVCVGTACYTAHSGKLSA...</td>\n",
       "      <td>MEGPRGWLVLCVLAISLASMVTEDLCRAPDGKKGEAGRPGRRGRPG...</td>\n",
       "      <td>-1</td>\n",
       "      <td>1</td>\n",
       "      <td>1</td>\n",
       "      <td>1</td>\n",
       "      <td>1</td>\n",
       "      <td>1</td>\n",
       "      <td>...</td>\n",
       "      <td>1</td>\n",
       "      <td>0</td>\n",
       "      <td>0</td>\n",
       "      <td>0</td>\n",
       "      <td>1</td>\n",
       "      <td>1</td>\n",
       "      <td>1</td>\n",
       "      <td>1</td>\n",
       "      <td>1</td>\n",
       "      <td>1</td>\n",
       "    </tr>\n",
       "    <tr>\n",
       "      <th>396158</th>\n",
       "      <td>PRO_5048</td>\n",
       "      <td>PRO_9731</td>\n",
       "      <td>MSDEGPGTGPGNGLGEKGDTSGPEGSGGSGPQRRGGDNHGRGRGRG...</td>\n",
       "      <td>MSSILPFTPPVVKRLLGWKKSAGGSGGAGGGEQNGQEEKWCEKAVK...</td>\n",
       "      <td>1</td>\n",
       "      <td>1</td>\n",
       "      <td>1</td>\n",
       "      <td>1</td>\n",
       "      <td>1</td>\n",
       "      <td>1</td>\n",
       "      <td>...</td>\n",
       "      <td>1</td>\n",
       "      <td>0</td>\n",
       "      <td>0</td>\n",
       "      <td>0</td>\n",
       "      <td>0</td>\n",
       "      <td>0</td>\n",
       "      <td>0</td>\n",
       "      <td>1</td>\n",
       "      <td>1</td>\n",
       "      <td>1</td>\n",
       "    </tr>\n",
       "    <tr>\n",
       "      <th>...</th>\n",
       "      <td>...</td>\n",
       "      <td>...</td>\n",
       "      <td>...</td>\n",
       "      <td>...</td>\n",
       "      <td>...</td>\n",
       "      <td>...</td>\n",
       "      <td>...</td>\n",
       "      <td>...</td>\n",
       "      <td>...</td>\n",
       "      <td>...</td>\n",
       "      <td>...</td>\n",
       "      <td>...</td>\n",
       "      <td>...</td>\n",
       "      <td>...</td>\n",
       "      <td>...</td>\n",
       "      <td>...</td>\n",
       "      <td>...</td>\n",
       "      <td>...</td>\n",
       "      <td>...</td>\n",
       "      <td>...</td>\n",
       "      <td>...</td>\n",
       "    </tr>\n",
       "    <tr>\n",
       "      <th>397738</th>\n",
       "      <td>PRO_10712</td>\n",
       "      <td>PRO_4734</td>\n",
       "      <td>MADKRKLQGEIDRCLKKVSEGVEQFEDIWQKLHNAANANQKEKYEA...</td>\n",
       "      <td>MSAIQAAWPSGTECIAKYNFHGTAEQDLPFCKGDVLTIVAVTKDPN...</td>\n",
       "      <td>-1</td>\n",
       "      <td>-1</td>\n",
       "      <td>-1</td>\n",
       "      <td>-1</td>\n",
       "      <td>-1</td>\n",
       "      <td>-1</td>\n",
       "      <td>...</td>\n",
       "      <td>-1</td>\n",
       "      <td>0</td>\n",
       "      <td>0</td>\n",
       "      <td>0</td>\n",
       "      <td>0</td>\n",
       "      <td>0</td>\n",
       "      <td>0</td>\n",
       "      <td>0</td>\n",
       "      <td>-1</td>\n",
       "      <td>-1</td>\n",
       "    </tr>\n",
       "    <tr>\n",
       "      <th>397739</th>\n",
       "      <td>PRO_12924</td>\n",
       "      <td>PRO_18242</td>\n",
       "      <td>MRPGTGAERGGLMVSEMESHPPSQGPGDGERRLSGSSLCSGSWVSA...</td>\n",
       "      <td>MSEEKPKEGVKTENDHINLKVAGQDGSVVQFKIKRHTPLSKLMKAY...</td>\n",
       "      <td>1</td>\n",
       "      <td>1</td>\n",
       "      <td>1</td>\n",
       "      <td>1</td>\n",
       "      <td>1</td>\n",
       "      <td>1</td>\n",
       "      <td>...</td>\n",
       "      <td>1</td>\n",
       "      <td>0</td>\n",
       "      <td>0</td>\n",
       "      <td>0</td>\n",
       "      <td>0</td>\n",
       "      <td>-1</td>\n",
       "      <td>-1</td>\n",
       "      <td>-1</td>\n",
       "      <td>1</td>\n",
       "      <td>1</td>\n",
       "    </tr>\n",
       "    <tr>\n",
       "      <th>397740</th>\n",
       "      <td>PRO_4881</td>\n",
       "      <td>PRO_17066</td>\n",
       "      <td>MSELEQLRQEAEQLRNQIRDARKACGDSTLTQITAGLDPVGRIQMR...</td>\n",
       "      <td>MASSSVPPATVSAATAGPGPGFGFASKTKKKHFVQQKVKVFRAADP...</td>\n",
       "      <td>1</td>\n",
       "      <td>1</td>\n",
       "      <td>1</td>\n",
       "      <td>1</td>\n",
       "      <td>1</td>\n",
       "      <td>1</td>\n",
       "      <td>...</td>\n",
       "      <td>1</td>\n",
       "      <td>-1</td>\n",
       "      <td>-1</td>\n",
       "      <td>-1</td>\n",
       "      <td>-1</td>\n",
       "      <td>-1</td>\n",
       "      <td>-1</td>\n",
       "      <td>1</td>\n",
       "      <td>1</td>\n",
       "      <td>1</td>\n",
       "    </tr>\n",
       "    <tr>\n",
       "      <th>397741</th>\n",
       "      <td>PRO_15097</td>\n",
       "      <td>PRO_23695</td>\n",
       "      <td>MSSMNPEYDYLFKLLLIGDSGVGKSCLLLRFADDTYTESYISTIGV...</td>\n",
       "      <td>MGKRLDLSTLTDEEAEHVWAVVQRDFDLRRREEERLQGLKGKIQKE...</td>\n",
       "      <td>-1</td>\n",
       "      <td>-1</td>\n",
       "      <td>1</td>\n",
       "      <td>1</td>\n",
       "      <td>1</td>\n",
       "      <td>1</td>\n",
       "      <td>...</td>\n",
       "      <td>1</td>\n",
       "      <td>0</td>\n",
       "      <td>0</td>\n",
       "      <td>0</td>\n",
       "      <td>0</td>\n",
       "      <td>0</td>\n",
       "      <td>0</td>\n",
       "      <td>-1</td>\n",
       "      <td>-1</td>\n",
       "      <td>-1</td>\n",
       "    </tr>\n",
       "    <tr>\n",
       "      <th>397742</th>\n",
       "      <td>PRO_11821</td>\n",
       "      <td>PRO_14704</td>\n",
       "      <td>MIDTLRPVPFASEMAISKTVAWLNEQLELGNERLLLMDCRPQELYE...</td>\n",
       "      <td>MAQGLVTFADVAIDFSQEEWACLNSAQRDLYWDVMLENYSNLVSLD...</td>\n",
       "      <td>-1</td>\n",
       "      <td>1</td>\n",
       "      <td>1</td>\n",
       "      <td>1</td>\n",
       "      <td>1</td>\n",
       "      <td>1</td>\n",
       "      <td>...</td>\n",
       "      <td>1</td>\n",
       "      <td>-1</td>\n",
       "      <td>-1</td>\n",
       "      <td>-1</td>\n",
       "      <td>-1</td>\n",
       "      <td>-1</td>\n",
       "      <td>1</td>\n",
       "      <td>1</td>\n",
       "      <td>1</td>\n",
       "      <td>1</td>\n",
       "    </tr>\n",
       "  </tbody>\n",
       "</table>\n",
       "<p>1589 rows × 31 columns</p>\n",
       "</div>"
      ],
      "text/plain": [
       "        Protein_A  Protein_B  \\\n",
       "396154  PRO_20310   PRO_7397   \n",
       "396155  PRO_11741   PRO_6542   \n",
       "396156   PRO_6345  PRO_12266   \n",
       "396157   PRO_7768  PRO_13606   \n",
       "396158   PRO_5048   PRO_9731   \n",
       "...           ...        ...   \n",
       "397738  PRO_10712   PRO_4734   \n",
       "397739  PRO_12924  PRO_18242   \n",
       "397740   PRO_4881  PRO_17066   \n",
       "397741  PRO_15097  PRO_23695   \n",
       "397742  PRO_11821  PRO_14704   \n",
       "\n",
       "                                       Protein_A_sequence  \\\n",
       "396154  MEKPLTVLRVSLYHPTLGPSAFANVPPRLQHDTSPLLLGRGQDAHL...   \n",
       "396155  MSFIFEWIYNGFSSVLQFLGLYKKSGKLVFLGLDNAGKTTLLHMLK...   \n",
       "396156  MADLAECNIKVMCRFRPLNESEVNRGDKYIAKFQGEDTVVIASKPY...   \n",
       "396157  MATSMGLLLLLLLLLTQPGAGTGADTEAVVCVGTACYTAHSGKLSA...   \n",
       "396158  MSDEGPGTGPGNGLGEKGDTSGPEGSGGSGPQRRGGDNHGRGRGRG...   \n",
       "...                                                   ...   \n",
       "397738  MADKRKLQGEIDRCLKKVSEGVEQFEDIWQKLHNAANANQKEKYEA...   \n",
       "397739  MRPGTGAERGGLMVSEMESHPPSQGPGDGERRLSGSSLCSGSWVSA...   \n",
       "397740  MSELEQLRQEAEQLRNQIRDARKACGDSTLTQITAGLDPVGRIQMR...   \n",
       "397741  MSSMNPEYDYLFKLLLIGDSGVGKSCLLLRFADDTYTESYISTIGV...   \n",
       "397742  MIDTLRPVPFASEMAISKTVAWLNEQLELGNERLLLMDCRPQELYE...   \n",
       "\n",
       "                                       Protein_B_sequence  split_0_10  \\\n",
       "396154  MSLLNCENSCGSSQSESDCCVAMASSCSAVTKDDSVGGTASTGNLS...           0   \n",
       "396155  MNVTSLFSFTSPAVKRLLGWKQGDEEEKWAEKAVDALVKKLKKKKG...           1   \n",
       "396156  MANVPWAEVCEKFQAALALSRVELHKNPEKEPYKSKYSARALLEEV...          -1   \n",
       "396157  MEGPRGWLVLCVLAISLASMVTEDLCRAPDGKKGEAGRPGRRGRPG...          -1   \n",
       "396158  MSSILPFTPPVVKRLLGWKKSAGGSGGAGGGEQNGQEEKWCEKAVK...           1   \n",
       "...                                                   ...         ...   \n",
       "397738  MSAIQAAWPSGTECIAKYNFHGTAEQDLPFCKGDVLTIVAVTKDPN...          -1   \n",
       "397739  MSEEKPKEGVKTENDHINLKVAGQDGSVVQFKIKRHTPLSKLMKAY...           1   \n",
       "397740  MASSSVPPATVSAATAGPGPGFGFASKTKKKHFVQQKVKVFRAADP...           1   \n",
       "397741  MGKRLDLSTLTDEEAEHVWAVVQRDFDLRRREEERLQGLKGKIQKE...          -1   \n",
       "397742  MAQGLVTFADVAIDFSQEEWACLNSAQRDLYWDVMLENYSNLVSLD...          -1   \n",
       "\n",
       "        split_0_20  split_0_30  split_0_40  split_0_50  split_0_60  ...  \\\n",
       "396154           0          -1          -1          -1          -1  ...   \n",
       "396155           1           1           1           1           1  ...   \n",
       "396156          -1          -1          -1          -1          -1  ...   \n",
       "396157           1           1           1           1           1  ...   \n",
       "396158           1           1           1           1           1  ...   \n",
       "...            ...         ...         ...         ...         ...  ...   \n",
       "397738          -1          -1          -1          -1          -1  ...   \n",
       "397739           1           1           1           1           1  ...   \n",
       "397740           1           1           1           1           1  ...   \n",
       "397741          -1           1           1           1           1  ...   \n",
       "397742           1           1           1           1           1  ...   \n",
       "\n",
       "        split_1_90  split_2_10  split_2_20  split_2_30  split_2_40  \\\n",
       "396154           0           0           0           0           0   \n",
       "396155           1           0           0           0           0   \n",
       "396156           1           0          -1          -1          -1   \n",
       "396157           1           0           0           0           1   \n",
       "396158           1           0           0           0           0   \n",
       "...            ...         ...         ...         ...         ...   \n",
       "397738          -1           0           0           0           0   \n",
       "397739           1           0           0           0           0   \n",
       "397740           1          -1          -1          -1          -1   \n",
       "397741           1           0           0           0           0   \n",
       "397742           1          -1          -1          -1          -1   \n",
       "\n",
       "        split_2_50  split_2_60  split_2_70  split_2_80  split_2_90  \n",
       "396154          -1          -1           1           1           1  \n",
       "396155           0           0          -1           1           1  \n",
       "396156          -1          -1          -1          -1           1  \n",
       "396157           1           1           1           1           1  \n",
       "396158           0           0           1           1           1  \n",
       "...            ...         ...         ...         ...         ...  \n",
       "397738           0           0           0          -1          -1  \n",
       "397739          -1          -1          -1           1           1  \n",
       "397740          -1          -1           1           1           1  \n",
       "397741           0           0          -1          -1          -1  \n",
       "397742          -1           1           1           1           1  \n",
       "\n",
       "[1589 rows x 31 columns]"
      ]
     },
     "execution_count": 11,
     "metadata": {},
     "output_type": "execute_result"
    }
   ],
   "source": [
    "negative_data = data.iloc[396154:]\n",
    "negative_data"
   ]
  },
  {
   "cell_type": "code",
   "execution_count": 12,
   "id": "50d845af",
   "metadata": {},
   "outputs": [
    {
     "data": {
      "text/html": [
       "<div>\n",
       "<style scoped>\n",
       "    .dataframe tbody tr th:only-of-type {\n",
       "        vertical-align: middle;\n",
       "    }\n",
       "\n",
       "    .dataframe tbody tr th {\n",
       "        vertical-align: top;\n",
       "    }\n",
       "\n",
       "    .dataframe thead th {\n",
       "        text-align: right;\n",
       "    }\n",
       "</style>\n",
       "<table border=\"1\" class=\"dataframe\">\n",
       "  <thead>\n",
       "    <tr style=\"text-align: right;\">\n",
       "      <th></th>\n",
       "      <th>Protein_A</th>\n",
       "      <th>Protein_B</th>\n",
       "      <th>Protein_A_sequence</th>\n",
       "      <th>Protein_B_sequence</th>\n",
       "      <th>split_0_10</th>\n",
       "      <th>split_0_20</th>\n",
       "      <th>split_0_30</th>\n",
       "      <th>split_0_40</th>\n",
       "      <th>split_0_50</th>\n",
       "      <th>split_0_60</th>\n",
       "      <th>...</th>\n",
       "      <th>split_1_90</th>\n",
       "      <th>split_2_10</th>\n",
       "      <th>split_2_20</th>\n",
       "      <th>split_2_30</th>\n",
       "      <th>split_2_40</th>\n",
       "      <th>split_2_50</th>\n",
       "      <th>split_2_60</th>\n",
       "      <th>split_2_70</th>\n",
       "      <th>split_2_80</th>\n",
       "      <th>split_2_90</th>\n",
       "    </tr>\n",
       "  </thead>\n",
       "  <tbody>\n",
       "    <tr>\n",
       "      <th>0</th>\n",
       "      <td>PRO_1968</td>\n",
       "      <td>PRO_2127</td>\n",
       "      <td>MAKNPPENCEDCHILNAEAFKSKKICKSLKICGLVFGILALTLIVL...</td>\n",
       "      <td>MRRSSRPGSASSSRKHTPNFFSENSSMSITSEDSKGLRSAEPGPGE...</td>\n",
       "      <td>0</td>\n",
       "      <td>-1</td>\n",
       "      <td>-1</td>\n",
       "      <td>-1</td>\n",
       "      <td>-1</td>\n",
       "      <td>-1</td>\n",
       "      <td>...</td>\n",
       "      <td>1</td>\n",
       "      <td>-1</td>\n",
       "      <td>-1</td>\n",
       "      <td>-1</td>\n",
       "      <td>-1</td>\n",
       "      <td>-1</td>\n",
       "      <td>-1</td>\n",
       "      <td>1</td>\n",
       "      <td>1</td>\n",
       "      <td>1</td>\n",
       "    </tr>\n",
       "    <tr>\n",
       "      <th>1</th>\n",
       "      <td>PRO_1968</td>\n",
       "      <td>PRO_3259</td>\n",
       "      <td>MAKNPPENCEDCHILNAEAFKSKKICKSLKICGLVFGILALTLIVL...</td>\n",
       "      <td>MASSSTVPLGFHYETKYVVLSYLGLLSQEKLQEQHLSSPQGVQLDI...</td>\n",
       "      <td>0</td>\n",
       "      <td>-1</td>\n",
       "      <td>1</td>\n",
       "      <td>1</td>\n",
       "      <td>1</td>\n",
       "      <td>1</td>\n",
       "      <td>...</td>\n",
       "      <td>1</td>\n",
       "      <td>-1</td>\n",
       "      <td>-1</td>\n",
       "      <td>1</td>\n",
       "      <td>1</td>\n",
       "      <td>1</td>\n",
       "      <td>1</td>\n",
       "      <td>1</td>\n",
       "      <td>1</td>\n",
       "      <td>1</td>\n",
       "    </tr>\n",
       "    <tr>\n",
       "      <th>2</th>\n",
       "      <td>PRO_1968</td>\n",
       "      <td>PRO_20825</td>\n",
       "      <td>MAKNPPENCEDCHILNAEAFKSKKICKSLKICGLVFGILALTLIVL...</td>\n",
       "      <td>MSSHLVEPPPPLHNNNNNCEENEQSLPPPAGLNSSWVELPMNSSNG...</td>\n",
       "      <td>-1</td>\n",
       "      <td>1</td>\n",
       "      <td>1</td>\n",
       "      <td>1</td>\n",
       "      <td>1</td>\n",
       "      <td>1</td>\n",
       "      <td>...</td>\n",
       "      <td>-1</td>\n",
       "      <td>-1</td>\n",
       "      <td>-1</td>\n",
       "      <td>-1</td>\n",
       "      <td>-1</td>\n",
       "      <td>1</td>\n",
       "      <td>1</td>\n",
       "      <td>1</td>\n",
       "      <td>1</td>\n",
       "      <td>1</td>\n",
       "    </tr>\n",
       "    <tr>\n",
       "      <th>3</th>\n",
       "      <td>PRO_1968</td>\n",
       "      <td>PRO_11236</td>\n",
       "      <td>MAKNPPENCEDCHILNAEAFKSKKICKSLKICGLVFGILALTLIVL...</td>\n",
       "      <td>MPLLLLLPLLWAGALAMDPNFWLQVQESVTVQEGLCVLVPCTFFHP...</td>\n",
       "      <td>-1</td>\n",
       "      <td>1</td>\n",
       "      <td>1</td>\n",
       "      <td>1</td>\n",
       "      <td>1</td>\n",
       "      <td>1</td>\n",
       "      <td>...</td>\n",
       "      <td>1</td>\n",
       "      <td>-1</td>\n",
       "      <td>-1</td>\n",
       "      <td>-1</td>\n",
       "      <td>1</td>\n",
       "      <td>1</td>\n",
       "      <td>1</td>\n",
       "      <td>1</td>\n",
       "      <td>1</td>\n",
       "      <td>1</td>\n",
       "    </tr>\n",
       "    <tr>\n",
       "      <th>4</th>\n",
       "      <td>PRO_1968</td>\n",
       "      <td>PRO_2577</td>\n",
       "      <td>MAKNPPENCEDCHILNAEAFKSKKICKSLKICGLVFGILALTLIVL...</td>\n",
       "      <td>MKAQTALSFFLILITSLSGSQGIFPLAFFIYVPMNEQIVIGRLDED...</td>\n",
       "      <td>0</td>\n",
       "      <td>-1</td>\n",
       "      <td>-1</td>\n",
       "      <td>-1</td>\n",
       "      <td>-1</td>\n",
       "      <td>1</td>\n",
       "      <td>...</td>\n",
       "      <td>1</td>\n",
       "      <td>-1</td>\n",
       "      <td>-1</td>\n",
       "      <td>1</td>\n",
       "      <td>1</td>\n",
       "      <td>1</td>\n",
       "      <td>1</td>\n",
       "      <td>1</td>\n",
       "      <td>1</td>\n",
       "      <td>1</td>\n",
       "    </tr>\n",
       "    <tr>\n",
       "      <th>...</th>\n",
       "      <td>...</td>\n",
       "      <td>...</td>\n",
       "      <td>...</td>\n",
       "      <td>...</td>\n",
       "      <td>...</td>\n",
       "      <td>...</td>\n",
       "      <td>...</td>\n",
       "      <td>...</td>\n",
       "      <td>...</td>\n",
       "      <td>...</td>\n",
       "      <td>...</td>\n",
       "      <td>...</td>\n",
       "      <td>...</td>\n",
       "      <td>...</td>\n",
       "      <td>...</td>\n",
       "      <td>...</td>\n",
       "      <td>...</td>\n",
       "      <td>...</td>\n",
       "      <td>...</td>\n",
       "      <td>...</td>\n",
       "      <td>...</td>\n",
       "    </tr>\n",
       "    <tr>\n",
       "      <th>396149</th>\n",
       "      <td>PRO_11977</td>\n",
       "      <td>PRO_20355</td>\n",
       "      <td>SGSWLRDIWDWICEVLSDFKTWLKAKLMPQLPGIPFVSCQRGYKGV...</td>\n",
       "      <td>MGGRSSCEDPGCPRDEERAPRMGCMKSKFLQVGGNTFSKTETSASP...</td>\n",
       "      <td>1</td>\n",
       "      <td>1</td>\n",
       "      <td>1</td>\n",
       "      <td>1</td>\n",
       "      <td>1</td>\n",
       "      <td>1</td>\n",
       "      <td>...</td>\n",
       "      <td>-1</td>\n",
       "      <td>0</td>\n",
       "      <td>0</td>\n",
       "      <td>-1</td>\n",
       "      <td>-1</td>\n",
       "      <td>1</td>\n",
       "      <td>1</td>\n",
       "      <td>1</td>\n",
       "      <td>1</td>\n",
       "      <td>1</td>\n",
       "    </tr>\n",
       "    <tr>\n",
       "      <th>396150</th>\n",
       "      <td>PRO_11977</td>\n",
       "      <td>PRO_4583</td>\n",
       "      <td>SGSWLRDIWDWICEVLSDFKTWLKAKLMPQLPGIPFVSCQRGYKGV...</td>\n",
       "      <td>MGCVQCKDKEATKLTEERDGSLNQSSGYRYGTDPTPQHYPSFGVTS...</td>\n",
       "      <td>1</td>\n",
       "      <td>1</td>\n",
       "      <td>1</td>\n",
       "      <td>1</td>\n",
       "      <td>1</td>\n",
       "      <td>1</td>\n",
       "      <td>...</td>\n",
       "      <td>-1</td>\n",
       "      <td>0</td>\n",
       "      <td>-1</td>\n",
       "      <td>-1</td>\n",
       "      <td>-1</td>\n",
       "      <td>1</td>\n",
       "      <td>1</td>\n",
       "      <td>1</td>\n",
       "      <td>1</td>\n",
       "      <td>1</td>\n",
       "    </tr>\n",
       "    <tr>\n",
       "      <th>396151</th>\n",
       "      <td>PRO_19214</td>\n",
       "      <td>PRO_18202</td>\n",
       "      <td>MDLLVDELFADMNADGASPPPPRPAGGPKNTPAAPPLYATGRLSQA...</td>\n",
       "      <td>MQREEKQLEASLDALLSQVADLKNSLGSFICKLENEYGRLTWPSVL...</td>\n",
       "      <td>0</td>\n",
       "      <td>-1</td>\n",
       "      <td>1</td>\n",
       "      <td>1</td>\n",
       "      <td>1</td>\n",
       "      <td>1</td>\n",
       "      <td>...</td>\n",
       "      <td>1</td>\n",
       "      <td>0</td>\n",
       "      <td>0</td>\n",
       "      <td>0</td>\n",
       "      <td>-1</td>\n",
       "      <td>-1</td>\n",
       "      <td>-1</td>\n",
       "      <td>1</td>\n",
       "      <td>1</td>\n",
       "      <td>1</td>\n",
       "    </tr>\n",
       "    <tr>\n",
       "      <th>396152</th>\n",
       "      <td>PRO_2146</td>\n",
       "      <td>PRO_4583</td>\n",
       "      <td>MGSGSWLKDVWDWICTVLADLKTWLQSKLLPRLPGVPFLSCQRGYK...</td>\n",
       "      <td>MGCVQCKDKEATKLTEERDGSLNQSSGYRYGTDPTPQHYPSFGVTS...</td>\n",
       "      <td>1</td>\n",
       "      <td>1</td>\n",
       "      <td>1</td>\n",
       "      <td>1</td>\n",
       "      <td>1</td>\n",
       "      <td>1</td>\n",
       "      <td>...</td>\n",
       "      <td>-1</td>\n",
       "      <td>0</td>\n",
       "      <td>-1</td>\n",
       "      <td>-1</td>\n",
       "      <td>-1</td>\n",
       "      <td>1</td>\n",
       "      <td>1</td>\n",
       "      <td>1</td>\n",
       "      <td>1</td>\n",
       "      <td>1</td>\n",
       "    </tr>\n",
       "    <tr>\n",
       "      <th>396153</th>\n",
       "      <td>PRO_19214</td>\n",
       "      <td>PRO_91</td>\n",
       "      <td>MDLLVDELFADMNADGASPPPPRPAGGPKNTPAAPPLYATGRLSQA...</td>\n",
       "      <td>MSGVRAVRISIESACEKQVHEVGLDGTETYLPPLSMSQNLARLAQR...</td>\n",
       "      <td>0</td>\n",
       "      <td>-1</td>\n",
       "      <td>1</td>\n",
       "      <td>1</td>\n",
       "      <td>1</td>\n",
       "      <td>1</td>\n",
       "      <td>...</td>\n",
       "      <td>1</td>\n",
       "      <td>0</td>\n",
       "      <td>-1</td>\n",
       "      <td>-1</td>\n",
       "      <td>1</td>\n",
       "      <td>1</td>\n",
       "      <td>1</td>\n",
       "      <td>1</td>\n",
       "      <td>1</td>\n",
       "      <td>1</td>\n",
       "    </tr>\n",
       "  </tbody>\n",
       "</table>\n",
       "<p>396154 rows × 31 columns</p>\n",
       "</div>"
      ],
      "text/plain": [
       "        Protein_A  Protein_B  \\\n",
       "0        PRO_1968   PRO_2127   \n",
       "1        PRO_1968   PRO_3259   \n",
       "2        PRO_1968  PRO_20825   \n",
       "3        PRO_1968  PRO_11236   \n",
       "4        PRO_1968   PRO_2577   \n",
       "...           ...        ...   \n",
       "396149  PRO_11977  PRO_20355   \n",
       "396150  PRO_11977   PRO_4583   \n",
       "396151  PRO_19214  PRO_18202   \n",
       "396152   PRO_2146   PRO_4583   \n",
       "396153  PRO_19214     PRO_91   \n",
       "\n",
       "                                       Protein_A_sequence  \\\n",
       "0       MAKNPPENCEDCHILNAEAFKSKKICKSLKICGLVFGILALTLIVL...   \n",
       "1       MAKNPPENCEDCHILNAEAFKSKKICKSLKICGLVFGILALTLIVL...   \n",
       "2       MAKNPPENCEDCHILNAEAFKSKKICKSLKICGLVFGILALTLIVL...   \n",
       "3       MAKNPPENCEDCHILNAEAFKSKKICKSLKICGLVFGILALTLIVL...   \n",
       "4       MAKNPPENCEDCHILNAEAFKSKKICKSLKICGLVFGILALTLIVL...   \n",
       "...                                                   ...   \n",
       "396149  SGSWLRDIWDWICEVLSDFKTWLKAKLMPQLPGIPFVSCQRGYKGV...   \n",
       "396150  SGSWLRDIWDWICEVLSDFKTWLKAKLMPQLPGIPFVSCQRGYKGV...   \n",
       "396151  MDLLVDELFADMNADGASPPPPRPAGGPKNTPAAPPLYATGRLSQA...   \n",
       "396152  MGSGSWLKDVWDWICTVLADLKTWLQSKLLPRLPGVPFLSCQRGYK...   \n",
       "396153  MDLLVDELFADMNADGASPPPPRPAGGPKNTPAAPPLYATGRLSQA...   \n",
       "\n",
       "                                       Protein_B_sequence  split_0_10  \\\n",
       "0       MRRSSRPGSASSSRKHTPNFFSENSSMSITSEDSKGLRSAEPGPGE...           0   \n",
       "1       MASSSTVPLGFHYETKYVVLSYLGLLSQEKLQEQHLSSPQGVQLDI...           0   \n",
       "2       MSSHLVEPPPPLHNNNNNCEENEQSLPPPAGLNSSWVELPMNSSNG...          -1   \n",
       "3       MPLLLLLPLLWAGALAMDPNFWLQVQESVTVQEGLCVLVPCTFFHP...          -1   \n",
       "4       MKAQTALSFFLILITSLSGSQGIFPLAFFIYVPMNEQIVIGRLDED...           0   \n",
       "...                                                   ...         ...   \n",
       "396149  MGGRSSCEDPGCPRDEERAPRMGCMKSKFLQVGGNTFSKTETSASP...           1   \n",
       "396150  MGCVQCKDKEATKLTEERDGSLNQSSGYRYGTDPTPQHYPSFGVTS...           1   \n",
       "396151  MQREEKQLEASLDALLSQVADLKNSLGSFICKLENEYGRLTWPSVL...           0   \n",
       "396152  MGCVQCKDKEATKLTEERDGSLNQSSGYRYGTDPTPQHYPSFGVTS...           1   \n",
       "396153  MSGVRAVRISIESACEKQVHEVGLDGTETYLPPLSMSQNLARLAQR...           0   \n",
       "\n",
       "        split_0_20  split_0_30  split_0_40  split_0_50  split_0_60  ...  \\\n",
       "0               -1          -1          -1          -1          -1  ...   \n",
       "1               -1           1           1           1           1  ...   \n",
       "2                1           1           1           1           1  ...   \n",
       "3                1           1           1           1           1  ...   \n",
       "4               -1          -1          -1          -1           1  ...   \n",
       "...            ...         ...         ...         ...         ...  ...   \n",
       "396149           1           1           1           1           1  ...   \n",
       "396150           1           1           1           1           1  ...   \n",
       "396151          -1           1           1           1           1  ...   \n",
       "396152           1           1           1           1           1  ...   \n",
       "396153          -1           1           1           1           1  ...   \n",
       "\n",
       "        split_1_90  split_2_10  split_2_20  split_2_30  split_2_40  \\\n",
       "0                1          -1          -1          -1          -1   \n",
       "1                1          -1          -1           1           1   \n",
       "2               -1          -1          -1          -1          -1   \n",
       "3                1          -1          -1          -1           1   \n",
       "4                1          -1          -1           1           1   \n",
       "...            ...         ...         ...         ...         ...   \n",
       "396149          -1           0           0          -1          -1   \n",
       "396150          -1           0          -1          -1          -1   \n",
       "396151           1           0           0           0          -1   \n",
       "396152          -1           0          -1          -1          -1   \n",
       "396153           1           0          -1          -1           1   \n",
       "\n",
       "        split_2_50  split_2_60  split_2_70  split_2_80  split_2_90  \n",
       "0               -1          -1           1           1           1  \n",
       "1                1           1           1           1           1  \n",
       "2                1           1           1           1           1  \n",
       "3                1           1           1           1           1  \n",
       "4                1           1           1           1           1  \n",
       "...            ...         ...         ...         ...         ...  \n",
       "396149           1           1           1           1           1  \n",
       "396150           1           1           1           1           1  \n",
       "396151          -1          -1           1           1           1  \n",
       "396152           1           1           1           1           1  \n",
       "396153           1           1           1           1           1  \n",
       "\n",
       "[396154 rows x 31 columns]"
      ]
     },
     "execution_count": 12,
     "metadata": {},
     "output_type": "execute_result"
    }
   ],
   "source": [
    "positive_data = data.iloc[:396154]\n",
    "positive_data"
   ]
  },
  {
   "cell_type": "code",
   "execution_count": 13,
   "id": "6b06fa9f",
   "metadata": {},
   "outputs": [],
   "source": [
    "train_pos_data = positive_data[positive_data.split_0_50 == 1][['Protein_A','Protein_B','Protein_A_sequence','Protein_B_sequence']]\n",
    "train_neg_data = negative_data[negative_data.split_0_50 == 1][['Protein_A','Protein_B','Protein_A_sequence','Protein_B_sequence']]\n",
    "test_pos_data = positive_data[positive_data.split_0_50 == 0][['Protein_A','Protein_B','Protein_A_sequence','Protein_B_sequence']]\n",
    "test_neg_data =negative_data[negative_data.split_0_50 == 0][['Protein_A','Protein_B','Protein_A_sequence','Protein_B_sequence']]"
   ]
  },
  {
   "cell_type": "code",
   "execution_count": 14,
   "id": "4e87545c",
   "metadata": {},
   "outputs": [
    {
     "data": {
      "text/html": [
       "<div>\n",
       "<style scoped>\n",
       "    .dataframe tbody tr th:only-of-type {\n",
       "        vertical-align: middle;\n",
       "    }\n",
       "\n",
       "    .dataframe tbody tr th {\n",
       "        vertical-align: top;\n",
       "    }\n",
       "\n",
       "    .dataframe thead th {\n",
       "        text-align: right;\n",
       "    }\n",
       "</style>\n",
       "<table border=\"1\" class=\"dataframe\">\n",
       "  <thead>\n",
       "    <tr style=\"text-align: right;\">\n",
       "      <th></th>\n",
       "      <th>Protein_A</th>\n",
       "      <th>Protein_B</th>\n",
       "      <th>Protein_A_sequence</th>\n",
       "      <th>Protein_B_sequence</th>\n",
       "    </tr>\n",
       "  </thead>\n",
       "  <tbody>\n",
       "    <tr>\n",
       "      <th>1</th>\n",
       "      <td>PRO_1968</td>\n",
       "      <td>PRO_3259</td>\n",
       "      <td>MAKNPPENCEDCHILNAEAFKSKKICKSLKICGLVFGILALTLIVL...</td>\n",
       "      <td>MASSSTVPLGFHYETKYVVLSYLGLLSQEKLQEQHLSSPQGVQLDI...</td>\n",
       "    </tr>\n",
       "    <tr>\n",
       "      <th>2</th>\n",
       "      <td>PRO_1968</td>\n",
       "      <td>PRO_20825</td>\n",
       "      <td>MAKNPPENCEDCHILNAEAFKSKKICKSLKICGLVFGILALTLIVL...</td>\n",
       "      <td>MSSHLVEPPPPLHNNNNNCEENEQSLPPPAGLNSSWVELPMNSSNG...</td>\n",
       "    </tr>\n",
       "    <tr>\n",
       "      <th>3</th>\n",
       "      <td>PRO_1968</td>\n",
       "      <td>PRO_11236</td>\n",
       "      <td>MAKNPPENCEDCHILNAEAFKSKKICKSLKICGLVFGILALTLIVL...</td>\n",
       "      <td>MPLLLLLPLLWAGALAMDPNFWLQVQESVTVQEGLCVLVPCTFFHP...</td>\n",
       "    </tr>\n",
       "    <tr>\n",
       "      <th>5</th>\n",
       "      <td>PRO_1968</td>\n",
       "      <td>PRO_16190</td>\n",
       "      <td>MAKNPPENCEDCHILNAEAFKSKKICKSLKICGLVFGILALTLIVL...</td>\n",
       "      <td>MWTLKSSLVLLLCLTCSYAFMFSSLRQKTSEPQGKVQYGEHFRIRQ...</td>\n",
       "    </tr>\n",
       "    <tr>\n",
       "      <th>6</th>\n",
       "      <td>PRO_1968</td>\n",
       "      <td>PRO_4579</td>\n",
       "      <td>MAKNPPENCEDCHILNAEAFKSKKICKSLKICGLVFGILALTLIVL...</td>\n",
       "      <td>MGHRFLRGLLTLLLPPPPLYTRHRMLGPESVPPPKRSRSKLMAPPR...</td>\n",
       "    </tr>\n",
       "    <tr>\n",
       "      <th>...</th>\n",
       "      <td>...</td>\n",
       "      <td>...</td>\n",
       "      <td>...</td>\n",
       "      <td>...</td>\n",
       "    </tr>\n",
       "    <tr>\n",
       "      <th>396149</th>\n",
       "      <td>PRO_11977</td>\n",
       "      <td>PRO_20355</td>\n",
       "      <td>SGSWLRDIWDWICEVLSDFKTWLKAKLMPQLPGIPFVSCQRGYKGV...</td>\n",
       "      <td>MGGRSSCEDPGCPRDEERAPRMGCMKSKFLQVGGNTFSKTETSASP...</td>\n",
       "    </tr>\n",
       "    <tr>\n",
       "      <th>396150</th>\n",
       "      <td>PRO_11977</td>\n",
       "      <td>PRO_4583</td>\n",
       "      <td>SGSWLRDIWDWICEVLSDFKTWLKAKLMPQLPGIPFVSCQRGYKGV...</td>\n",
       "      <td>MGCVQCKDKEATKLTEERDGSLNQSSGYRYGTDPTPQHYPSFGVTS...</td>\n",
       "    </tr>\n",
       "    <tr>\n",
       "      <th>396151</th>\n",
       "      <td>PRO_19214</td>\n",
       "      <td>PRO_18202</td>\n",
       "      <td>MDLLVDELFADMNADGASPPPPRPAGGPKNTPAAPPLYATGRLSQA...</td>\n",
       "      <td>MQREEKQLEASLDALLSQVADLKNSLGSFICKLENEYGRLTWPSVL...</td>\n",
       "    </tr>\n",
       "    <tr>\n",
       "      <th>396152</th>\n",
       "      <td>PRO_2146</td>\n",
       "      <td>PRO_4583</td>\n",
       "      <td>MGSGSWLKDVWDWICTVLADLKTWLQSKLLPRLPGVPFLSCQRGYK...</td>\n",
       "      <td>MGCVQCKDKEATKLTEERDGSLNQSSGYRYGTDPTPQHYPSFGVTS...</td>\n",
       "    </tr>\n",
       "    <tr>\n",
       "      <th>396153</th>\n",
       "      <td>PRO_19214</td>\n",
       "      <td>PRO_91</td>\n",
       "      <td>MDLLVDELFADMNADGASPPPPRPAGGPKNTPAAPPLYATGRLSQA...</td>\n",
       "      <td>MSGVRAVRISIESACEKQVHEVGLDGTETYLPPLSMSQNLARLAQR...</td>\n",
       "    </tr>\n",
       "  </tbody>\n",
       "</table>\n",
       "<p>241819 rows × 4 columns</p>\n",
       "</div>"
      ],
      "text/plain": [
       "        Protein_A  Protein_B  \\\n",
       "1        PRO_1968   PRO_3259   \n",
       "2        PRO_1968  PRO_20825   \n",
       "3        PRO_1968  PRO_11236   \n",
       "5        PRO_1968  PRO_16190   \n",
       "6        PRO_1968   PRO_4579   \n",
       "...           ...        ...   \n",
       "396149  PRO_11977  PRO_20355   \n",
       "396150  PRO_11977   PRO_4583   \n",
       "396151  PRO_19214  PRO_18202   \n",
       "396152   PRO_2146   PRO_4583   \n",
       "396153  PRO_19214     PRO_91   \n",
       "\n",
       "                                       Protein_A_sequence  \\\n",
       "1       MAKNPPENCEDCHILNAEAFKSKKICKSLKICGLVFGILALTLIVL...   \n",
       "2       MAKNPPENCEDCHILNAEAFKSKKICKSLKICGLVFGILALTLIVL...   \n",
       "3       MAKNPPENCEDCHILNAEAFKSKKICKSLKICGLVFGILALTLIVL...   \n",
       "5       MAKNPPENCEDCHILNAEAFKSKKICKSLKICGLVFGILALTLIVL...   \n",
       "6       MAKNPPENCEDCHILNAEAFKSKKICKSLKICGLVFGILALTLIVL...   \n",
       "...                                                   ...   \n",
       "396149  SGSWLRDIWDWICEVLSDFKTWLKAKLMPQLPGIPFVSCQRGYKGV...   \n",
       "396150  SGSWLRDIWDWICEVLSDFKTWLKAKLMPQLPGIPFVSCQRGYKGV...   \n",
       "396151  MDLLVDELFADMNADGASPPPPRPAGGPKNTPAAPPLYATGRLSQA...   \n",
       "396152  MGSGSWLKDVWDWICTVLADLKTWLQSKLLPRLPGVPFLSCQRGYK...   \n",
       "396153  MDLLVDELFADMNADGASPPPPRPAGGPKNTPAAPPLYATGRLSQA...   \n",
       "\n",
       "                                       Protein_B_sequence  \n",
       "1       MASSSTVPLGFHYETKYVVLSYLGLLSQEKLQEQHLSSPQGVQLDI...  \n",
       "2       MSSHLVEPPPPLHNNNNNCEENEQSLPPPAGLNSSWVELPMNSSNG...  \n",
       "3       MPLLLLLPLLWAGALAMDPNFWLQVQESVTVQEGLCVLVPCTFFHP...  \n",
       "5       MWTLKSSLVLLLCLTCSYAFMFSSLRQKTSEPQGKVQYGEHFRIRQ...  \n",
       "6       MGHRFLRGLLTLLLPPPPLYTRHRMLGPESVPPPKRSRSKLMAPPR...  \n",
       "...                                                   ...  \n",
       "396149  MGGRSSCEDPGCPRDEERAPRMGCMKSKFLQVGGNTFSKTETSASP...  \n",
       "396150  MGCVQCKDKEATKLTEERDGSLNQSSGYRYGTDPTPQHYPSFGVTS...  \n",
       "396151  MQREEKQLEASLDALLSQVADLKNSLGSFICKLENEYGRLTWPSVL...  \n",
       "396152  MGCVQCKDKEATKLTEERDGSLNQSSGYRYGTDPTPQHYPSFGVTS...  \n",
       "396153  MSGVRAVRISIESACEKQVHEVGLDGTETYLPPLSMSQNLARLAQR...  \n",
       "\n",
       "[241819 rows x 4 columns]"
      ]
     },
     "execution_count": 14,
     "metadata": {},
     "output_type": "execute_result"
    }
   ],
   "source": [
    "train_pos_data"
   ]
  },
  {
   "cell_type": "code",
   "execution_count": 15,
   "id": "69c16d61",
   "metadata": {},
   "outputs": [
    {
     "data": {
      "text/html": [
       "<div>\n",
       "<style scoped>\n",
       "    .dataframe tbody tr th:only-of-type {\n",
       "        vertical-align: middle;\n",
       "    }\n",
       "\n",
       "    .dataframe tbody tr th {\n",
       "        vertical-align: top;\n",
       "    }\n",
       "\n",
       "    .dataframe thead th {\n",
       "        text-align: right;\n",
       "    }\n",
       "</style>\n",
       "<table border=\"1\" class=\"dataframe\">\n",
       "  <thead>\n",
       "    <tr style=\"text-align: right;\">\n",
       "      <th></th>\n",
       "      <th>Protein_A</th>\n",
       "      <th>Protein_B</th>\n",
       "      <th>Protein_A_sequence</th>\n",
       "      <th>Protein_B_sequence</th>\n",
       "    </tr>\n",
       "  </thead>\n",
       "  <tbody>\n",
       "    <tr>\n",
       "      <th>16</th>\n",
       "      <td>PRO_4691</td>\n",
       "      <td>PRO_2365</td>\n",
       "      <td>MASLEVSRSPRRSRRELEVRSPRQNKYSVLLPTYNERENLPLIVWL...</td>\n",
       "      <td>MSGCPFLGNNFGYTFKKLPVEGSEEDKSQTGVNRASKGGLIYGNYL...</td>\n",
       "    </tr>\n",
       "    <tr>\n",
       "      <th>100</th>\n",
       "      <td>PRO_12486</td>\n",
       "      <td>PRO_12486</td>\n",
       "      <td>MEDLGENTMVLSTLRSLNNFISQRVEGGSGLDISTSAPGSLQMQYQ...</td>\n",
       "      <td>MEDLGENTMVLSTLRSLNNFISQRVEGGSGLDISTSAPGSLQMQYQ...</td>\n",
       "    </tr>\n",
       "    <tr>\n",
       "      <th>103</th>\n",
       "      <td>PRO_12486</td>\n",
       "      <td>PRO_15453</td>\n",
       "      <td>MEDLGENTMVLSTLRSLNNFISQRVEGGSGLDISTSAPGSLQMQYQ...</td>\n",
       "      <td>MTDDKDVLRDVWFGRIPTCFTLYQDEITEREAEPYYLLLPRVSYLT...</td>\n",
       "    </tr>\n",
       "    <tr>\n",
       "      <th>104</th>\n",
       "      <td>PRO_12486</td>\n",
       "      <td>PRO_22362</td>\n",
       "      <td>MEDLGENTMVLSTLRSLNNFISQRVEGGSGLDISTSAPGSLQMQYQ...</td>\n",
       "      <td>MADSKEGVLPLTAASTAPISFGFTRTSARRRLADSGDGAGPSPEEK...</td>\n",
       "    </tr>\n",
       "    <tr>\n",
       "      <th>107</th>\n",
       "      <td>PRO_12486</td>\n",
       "      <td>PRO_3423</td>\n",
       "      <td>MEDLGENTMVLSTLRSLNNFISQRVEGGSGLDISTSAPGSLQMQYQ...</td>\n",
       "      <td>MSRKISKESKKVNISSSLESEDISLETTVPTDDISSSEEREGKVRI...</td>\n",
       "    </tr>\n",
       "  </tbody>\n",
       "</table>\n",
       "</div>"
      ],
      "text/plain": [
       "     Protein_A  Protein_B                                 Protein_A_sequence  \\\n",
       "16    PRO_4691   PRO_2365  MASLEVSRSPRRSRRELEVRSPRQNKYSVLLPTYNERENLPLIVWL...   \n",
       "100  PRO_12486  PRO_12486  MEDLGENTMVLSTLRSLNNFISQRVEGGSGLDISTSAPGSLQMQYQ...   \n",
       "103  PRO_12486  PRO_15453  MEDLGENTMVLSTLRSLNNFISQRVEGGSGLDISTSAPGSLQMQYQ...   \n",
       "104  PRO_12486  PRO_22362  MEDLGENTMVLSTLRSLNNFISQRVEGGSGLDISTSAPGSLQMQYQ...   \n",
       "107  PRO_12486   PRO_3423  MEDLGENTMVLSTLRSLNNFISQRVEGGSGLDISTSAPGSLQMQYQ...   \n",
       "\n",
       "                                    Protein_B_sequence  \n",
       "16   MSGCPFLGNNFGYTFKKLPVEGSEEDKSQTGVNRASKGGLIYGNYL...  \n",
       "100  MEDLGENTMVLSTLRSLNNFISQRVEGGSGLDISTSAPGSLQMQYQ...  \n",
       "103  MTDDKDVLRDVWFGRIPTCFTLYQDEITEREAEPYYLLLPRVSYLT...  \n",
       "104  MADSKEGVLPLTAASTAPISFGFTRTSARRRLADSGDGAGPSPEEK...  \n",
       "107  MSRKISKESKKVNISSSLESEDISLETTVPTDDISSSEEREGKVRI...  "
      ]
     },
     "execution_count": 15,
     "metadata": {},
     "output_type": "execute_result"
    }
   ],
   "source": [
    "test_pos_data.head()"
   ]
  },
  {
   "cell_type": "code",
   "execution_count": 16,
   "id": "7071e2f0",
   "metadata": {},
   "outputs": [
    {
     "data": {
      "text/html": [
       "<div>\n",
       "<style scoped>\n",
       "    .dataframe tbody tr th:only-of-type {\n",
       "        vertical-align: middle;\n",
       "    }\n",
       "\n",
       "    .dataframe tbody tr th {\n",
       "        vertical-align: top;\n",
       "    }\n",
       "\n",
       "    .dataframe thead th {\n",
       "        text-align: right;\n",
       "    }\n",
       "</style>\n",
       "<table border=\"1\" class=\"dataframe\">\n",
       "  <thead>\n",
       "    <tr style=\"text-align: right;\">\n",
       "      <th></th>\n",
       "      <th>Protein_A</th>\n",
       "      <th>Protein_B</th>\n",
       "      <th>Protein_A_sequence</th>\n",
       "      <th>Protein_B_sequence</th>\n",
       "    </tr>\n",
       "  </thead>\n",
       "  <tbody>\n",
       "    <tr>\n",
       "      <th>396159</th>\n",
       "      <td>PRO_23889</td>\n",
       "      <td>PRO_23995</td>\n",
       "      <td>MAMRLLKTHLLFLHLYLFFSPCFAYTDMEVLLNLKSSMIGPKGHGL...</td>\n",
       "      <td>MIKIADFTLFFFIFVFSPSLPLAQSQLPDLDPQDKASLLIFRVSIH...</td>\n",
       "    </tr>\n",
       "    <tr>\n",
       "      <th>396165</th>\n",
       "      <td>PRO_23889</td>\n",
       "      <td>PRO_23995</td>\n",
       "      <td>MAMRLLKTHLLFLHLYLFFSPCFAYTDMEVLLNLKSSMIGPKGHGL...</td>\n",
       "      <td>MIKIADFTLFFFIFVFSPSLPLAQSQLPDLDPQDKASLLIFRVSIH...</td>\n",
       "    </tr>\n",
       "    <tr>\n",
       "      <th>396166</th>\n",
       "      <td>PRO_23995</td>\n",
       "      <td>PRO_23889</td>\n",
       "      <td>MIKIADFTLFFFIFVFSPSLPLAQSQLPDLDPQDKASLLIFRVSIH...</td>\n",
       "      <td>MAMRLLKTHLLFLHLYLFFSPCFAYTDMEVLLNLKSSMIGPKGHGL...</td>\n",
       "    </tr>\n",
       "    <tr>\n",
       "      <th>396191</th>\n",
       "      <td>PRO_10025</td>\n",
       "      <td>PRO_13020</td>\n",
       "      <td>MAALQKSVSSFLMGTLATSCLLLLALLVQGGAAAPISSHCRLDKSN...</td>\n",
       "      <td>MLPCLVVLLAALLSLRLGSDAHGTELPSPPSVWFEAEFFHHILHWT...</td>\n",
       "    </tr>\n",
       "    <tr>\n",
       "      <th>396215</th>\n",
       "      <td>PRO_23639</td>\n",
       "      <td>PRO_23650</td>\n",
       "      <td>MDDSFFGFDTNLPDEDGGDGRIVEAEYDALNDETFGSAINGDWEEA...</td>\n",
       "      <td>MGPTDQDWIGCAVSIACDEVLGVFQGLIKQISAEEITIVRAFRNGV...</td>\n",
       "    </tr>\n",
       "  </tbody>\n",
       "</table>\n",
       "</div>"
      ],
      "text/plain": [
       "        Protein_A  Protein_B  \\\n",
       "396159  PRO_23889  PRO_23995   \n",
       "396165  PRO_23889  PRO_23995   \n",
       "396166  PRO_23995  PRO_23889   \n",
       "396191  PRO_10025  PRO_13020   \n",
       "396215  PRO_23639  PRO_23650   \n",
       "\n",
       "                                       Protein_A_sequence  \\\n",
       "396159  MAMRLLKTHLLFLHLYLFFSPCFAYTDMEVLLNLKSSMIGPKGHGL...   \n",
       "396165  MAMRLLKTHLLFLHLYLFFSPCFAYTDMEVLLNLKSSMIGPKGHGL...   \n",
       "396166  MIKIADFTLFFFIFVFSPSLPLAQSQLPDLDPQDKASLLIFRVSIH...   \n",
       "396191  MAALQKSVSSFLMGTLATSCLLLLALLVQGGAAAPISSHCRLDKSN...   \n",
       "396215  MDDSFFGFDTNLPDEDGGDGRIVEAEYDALNDETFGSAINGDWEEA...   \n",
       "\n",
       "                                       Protein_B_sequence  \n",
       "396159  MIKIADFTLFFFIFVFSPSLPLAQSQLPDLDPQDKASLLIFRVSIH...  \n",
       "396165  MIKIADFTLFFFIFVFSPSLPLAQSQLPDLDPQDKASLLIFRVSIH...  \n",
       "396166  MAMRLLKTHLLFLHLYLFFSPCFAYTDMEVLLNLKSSMIGPKGHGL...  \n",
       "396191  MLPCLVVLLAALLSLRLGSDAHGTELPSPPSVWFEAEFFHHILHWT...  \n",
       "396215  MGPTDQDWIGCAVSIACDEVLGVFQGLIKQISAEEITIVRAFRNGV...  "
      ]
     },
     "execution_count": 16,
     "metadata": {},
     "output_type": "execute_result"
    }
   ],
   "source": [
    "test_neg_data.head()"
   ]
  },
  {
   "cell_type": "code",
   "execution_count": 17,
   "id": "a01f756b",
   "metadata": {},
   "outputs": [
    {
     "data": {
      "text/html": [
       "<div>\n",
       "<style scoped>\n",
       "    .dataframe tbody tr th:only-of-type {\n",
       "        vertical-align: middle;\n",
       "    }\n",
       "\n",
       "    .dataframe tbody tr th {\n",
       "        vertical-align: top;\n",
       "    }\n",
       "\n",
       "    .dataframe thead th {\n",
       "        text-align: right;\n",
       "    }\n",
       "</style>\n",
       "<table border=\"1\" class=\"dataframe\">\n",
       "  <thead>\n",
       "    <tr style=\"text-align: right;\">\n",
       "      <th></th>\n",
       "      <th>Protein_A</th>\n",
       "      <th>Protein_B</th>\n",
       "      <th>Protein_A_sequence</th>\n",
       "      <th>Protein_B_sequence</th>\n",
       "    </tr>\n",
       "  </thead>\n",
       "  <tbody>\n",
       "    <tr>\n",
       "      <th>16</th>\n",
       "      <td>PRO_4691</td>\n",
       "      <td>PRO_2365</td>\n",
       "      <td>MASLEVSRSPRRSRRELEVRSPRQNKYSVLLPTYNERENLPLIVWL...</td>\n",
       "      <td>MSGCPFLGNNFGYTFKKLPVEGSEEDKSQTGVNRASKGGLIYGNYL...</td>\n",
       "    </tr>\n",
       "    <tr>\n",
       "      <th>100</th>\n",
       "      <td>PRO_12486</td>\n",
       "      <td>PRO_12486</td>\n",
       "      <td>MEDLGENTMVLSTLRSLNNFISQRVEGGSGLDISTSAPGSLQMQYQ...</td>\n",
       "      <td>MEDLGENTMVLSTLRSLNNFISQRVEGGSGLDISTSAPGSLQMQYQ...</td>\n",
       "    </tr>\n",
       "    <tr>\n",
       "      <th>103</th>\n",
       "      <td>PRO_12486</td>\n",
       "      <td>PRO_15453</td>\n",
       "      <td>MEDLGENTMVLSTLRSLNNFISQRVEGGSGLDISTSAPGSLQMQYQ...</td>\n",
       "      <td>MTDDKDVLRDVWFGRIPTCFTLYQDEITEREAEPYYLLLPRVSYLT...</td>\n",
       "    </tr>\n",
       "    <tr>\n",
       "      <th>104</th>\n",
       "      <td>PRO_12486</td>\n",
       "      <td>PRO_22362</td>\n",
       "      <td>MEDLGENTMVLSTLRSLNNFISQRVEGGSGLDISTSAPGSLQMQYQ...</td>\n",
       "      <td>MADSKEGVLPLTAASTAPISFGFTRTSARRRLADSGDGAGPSPEEK...</td>\n",
       "    </tr>\n",
       "    <tr>\n",
       "      <th>107</th>\n",
       "      <td>PRO_12486</td>\n",
       "      <td>PRO_3423</td>\n",
       "      <td>MEDLGENTMVLSTLRSLNNFISQRVEGGSGLDISTSAPGSLQMQYQ...</td>\n",
       "      <td>MSRKISKESKKVNISSSLESEDISLETTVPTDDISSSEEREGKVRI...</td>\n",
       "    </tr>\n",
       "  </tbody>\n",
       "</table>\n",
       "</div>"
      ],
      "text/plain": [
       "     Protein_A  Protein_B                                 Protein_A_sequence  \\\n",
       "16    PRO_4691   PRO_2365  MASLEVSRSPRRSRRELEVRSPRQNKYSVLLPTYNERENLPLIVWL...   \n",
       "100  PRO_12486  PRO_12486  MEDLGENTMVLSTLRSLNNFISQRVEGGSGLDISTSAPGSLQMQYQ...   \n",
       "103  PRO_12486  PRO_15453  MEDLGENTMVLSTLRSLNNFISQRVEGGSGLDISTSAPGSLQMQYQ...   \n",
       "104  PRO_12486  PRO_22362  MEDLGENTMVLSTLRSLNNFISQRVEGGSGLDISTSAPGSLQMQYQ...   \n",
       "107  PRO_12486   PRO_3423  MEDLGENTMVLSTLRSLNNFISQRVEGGSGLDISTSAPGSLQMQYQ...   \n",
       "\n",
       "                                    Protein_B_sequence  \n",
       "16   MSGCPFLGNNFGYTFKKLPVEGSEEDKSQTGVNRASKGGLIYGNYL...  \n",
       "100  MEDLGENTMVLSTLRSLNNFISQRVEGGSGLDISTSAPGSLQMQYQ...  \n",
       "103  MTDDKDVLRDVWFGRIPTCFTLYQDEITEREAEPYYLLLPRVSYLT...  \n",
       "104  MADSKEGVLPLTAASTAPISFGFTRTSARRRLADSGDGAGPSPEEK...  \n",
       "107  MSRKISKESKKVNISSSLESEDISLETTVPTDDISSSEEREGKVRI...  "
      ]
     },
     "execution_count": 17,
     "metadata": {},
     "output_type": "execute_result"
    }
   ],
   "source": [
    "test_pos_data.head()"
   ]
  },
  {
   "cell_type": "markdown",
   "id": "a4a779b6",
   "metadata": {},
   "source": [
    "## Randomly sampling"
   ]
  },
  {
   "cell_type": "code",
   "execution_count": 18,
   "id": "ba537925",
   "metadata": {},
   "outputs": [],
   "source": [
    "unique_proteins_train_set = list(set(train_pos_data['Protein_A']).union(train_pos_data['Protein_B']))\n",
    "unique_proteins_test_set = list(set(test_pos_data['Protein_A']).union(test_pos_data['Protein_B']))"
   ]
  },
  {
   "cell_type": "code",
   "execution_count": 19,
   "id": "72640955",
   "metadata": {},
   "outputs": [],
   "source": [
    "def random_pairs(number_list): \n",
    "    return [number_list[i] for i in random.sample(range(len(number_list)), 2)]"
   ]
  },
  {
   "cell_type": "code",
   "execution_count": 20,
   "id": "3a9e2c8b",
   "metadata": {},
   "outputs": [],
   "source": [
    "all_possible_train_set_protein_pairs = [random_pairs(unique_proteins_train_set) for i in range(500000)]\n",
    "all_possible_test_set_protein_pairs = [random_pairs(unique_proteins_test_set) for i in range(500000)]"
   ]
  },
  {
   "cell_type": "code",
   "execution_count": 91,
   "id": "63e4ac80",
   "metadata": {},
   "outputs": [],
   "source": [
    "positive_train_set_pairs = []\n",
    "for index,row in train_pos_data.iterrows():\n",
    "    positive_train_set_pairs.append([row.Protein_A,row.Protein_B])\n",
    "    positive_train_set_pairs.append([row.Protein_B,row.Protein_A])\n",
    "positive_test_set_pairs = []\n",
    "for index,row in test_pos_data.iterrows():\n",
    "    positive_test_set_pairs.append([row.Protein_A,row.Protein_B])\n",
    "    positive_test_set_pairs.append([row.Protein_B,row.Protein_A])"
   ]
  },
  {
   "cell_type": "code",
   "execution_count": 25,
   "id": "77d81e41",
   "metadata": {},
   "outputs": [],
   "source": [
    "with open('/home/anwer/Desktop/PPI_prediction/pickle/prot_to_seq_pickle/all_prot_seq.pickle', 'rb') as handle:\n",
    "        dc= pickle.load(handle)"
   ]
  },
  {
   "cell_type": "code",
   "execution_count": 92,
   "id": "6558d195",
   "metadata": {},
   "outputs": [
    {
     "name": "stderr",
     "output_type": "stream",
     "text": [
      "  0%|                                                    | 427/500000 [00:00<13:39, 609.42it/s]"
     ]
    },
    {
     "name": "stdout",
     "output_type": "stream",
     "text": [
      "['PRO_13308', 'PRO_16607']\n"
     ]
    },
    {
     "name": "stderr",
     "output_type": "stream",
     "text": [
      "  0%|                                                    | 851/500000 [00:01<14:00, 593.59it/s]"
     ]
    },
    {
     "name": "stdout",
     "output_type": "stream",
     "text": [
      "['PRO_4545', 'PRO_21222']\n",
      "['PRO_16932', 'PRO_20402']\n"
     ]
    },
    {
     "name": "stderr",
     "output_type": "stream",
     "text": [
      "  0%|▏                                                  | 1962/500000 [00:03<13:45, 603.27it/s]"
     ]
    },
    {
     "name": "stdout",
     "output_type": "stream",
     "text": [
      "['PRO_1182', 'PRO_1226']\n"
     ]
    },
    {
     "name": "stderr",
     "output_type": "stream",
     "text": [
      "  1%|▎                                                  | 3504/500000 [00:05<13:26, 615.82it/s]"
     ]
    },
    {
     "name": "stdout",
     "output_type": "stream",
     "text": [
      "['PRO_11598', 'PRO_20648']\n"
     ]
    },
    {
     "name": "stderr",
     "output_type": "stream",
     "text": [
      "  1%|▍                                                  | 3936/500000 [00:06<13:39, 605.49it/s]"
     ]
    },
    {
     "name": "stdout",
     "output_type": "stream",
     "text": [
      "['PRO_4576', 'PRO_15905']\n"
     ]
    },
    {
     "name": "stderr",
     "output_type": "stream",
     "text": [
      "  1%|▍                                                  | 4303/500000 [00:07<14:02, 588.39it/s]"
     ]
    },
    {
     "name": "stdout",
     "output_type": "stream",
     "text": [
      "['PRO_20364', 'PRO_22487']\n"
     ]
    },
    {
     "name": "stderr",
     "output_type": "stream",
     "text": [
      "  1%|▍                                                  | 4731/500000 [00:07<13:33, 608.61it/s]"
     ]
    },
    {
     "name": "stdout",
     "output_type": "stream",
     "text": [
      "['PRO_22770', 'PRO_2450']\n",
      "['PRO_2769', 'PRO_22291']\n"
     ]
    },
    {
     "name": "stderr",
     "output_type": "stream",
     "text": [
      "  1%|▌                                                  | 4915/500000 [00:08<14:13, 580.31it/s]"
     ]
    },
    {
     "name": "stdout",
     "output_type": "stream",
     "text": [
      "['PRO_1398', 'PRO_4704']\n"
     ]
    },
    {
     "name": "stderr",
     "output_type": "stream",
     "text": [
      "  1%|▌                                                  | 5930/500000 [00:09<13:33, 607.05it/s]"
     ]
    },
    {
     "name": "stdout",
     "output_type": "stream",
     "text": [
      "['PRO_14766', 'PRO_4074']\n"
     ]
    },
    {
     "name": "stderr",
     "output_type": "stream",
     "text": [
      "  1%|▊                                                  | 7437/500000 [00:12<14:16, 575.06it/s]"
     ]
    },
    {
     "name": "stdout",
     "output_type": "stream",
     "text": [
      "['PRO_22276', 'PRO_16596']\n"
     ]
    },
    {
     "name": "stderr",
     "output_type": "stream",
     "text": [
      "  2%|▊                                                  | 7915/500000 [00:13<14:09, 579.28it/s]"
     ]
    },
    {
     "name": "stdout",
     "output_type": "stream",
     "text": [
      "['PRO_18399', 'PRO_16878']\n"
     ]
    },
    {
     "name": "stderr",
     "output_type": "stream",
     "text": [
      "  2%|▉                                                  | 9151/500000 [00:15<13:13, 618.53it/s]"
     ]
    },
    {
     "name": "stdout",
     "output_type": "stream",
     "text": [
      "['PRO_13762', 'PRO_18434']\n"
     ]
    },
    {
     "name": "stderr",
     "output_type": "stream",
     "text": [
      "  2%|▉                                                  | 9771/500000 [00:16<13:19, 613.50it/s]"
     ]
    },
    {
     "name": "stdout",
     "output_type": "stream",
     "text": [
      "['PRO_20364', 'PRO_12024']\n"
     ]
    },
    {
     "name": "stderr",
     "output_type": "stream",
     "text": [
      "  2%|█                                                  | 9895/500000 [00:16<13:27, 607.11it/s]"
     ]
    },
    {
     "name": "stdout",
     "output_type": "stream",
     "text": [
      "['PRO_17825', 'PRO_13650']\n"
     ]
    },
    {
     "name": "stderr",
     "output_type": "stream",
     "text": [
      "  2%|█                                                 | 10142/500000 [00:16<13:20, 611.59it/s]"
     ]
    },
    {
     "name": "stdout",
     "output_type": "stream",
     "text": [
      "['PRO_22313', 'PRO_19950']\n"
     ]
    },
    {
     "name": "stderr",
     "output_type": "stream",
     "text": [
      "  2%|█                                                 | 11011/500000 [00:18<13:14, 615.37it/s]"
     ]
    },
    {
     "name": "stdout",
     "output_type": "stream",
     "text": [
      "['PRO_16814', 'PRO_10536']\n"
     ]
    },
    {
     "name": "stderr",
     "output_type": "stream",
     "text": [
      "  2%|█▏                                                | 11507/500000 [00:19<13:17, 612.40it/s]"
     ]
    },
    {
     "name": "stdout",
     "output_type": "stream",
     "text": [
      "['PRO_301', 'PRO_14108']\n"
     ]
    },
    {
     "name": "stderr",
     "output_type": "stream",
     "text": [
      "  2%|█▏                                                | 12063/500000 [00:20<13:21, 608.70it/s]"
     ]
    },
    {
     "name": "stdout",
     "output_type": "stream",
     "text": [
      "['PRO_22401', 'PRO_13128']\n"
     ]
    },
    {
     "name": "stderr",
     "output_type": "stream",
     "text": [
      "  2%|█▏                                                | 12301/500000 [00:20<14:35, 557.17it/s]"
     ]
    },
    {
     "name": "stdout",
     "output_type": "stream",
     "text": [
      "['PRO_14324', 'PRO_20487']\n"
     ]
    },
    {
     "name": "stderr",
     "output_type": "stream",
     "text": [
      "  2%|█▏                                                | 12471/500000 [00:20<14:45, 550.58it/s]"
     ]
    },
    {
     "name": "stdout",
     "output_type": "stream",
     "text": [
      "['PRO_20759', 'PRO_18107']\n"
     ]
    },
    {
     "name": "stderr",
     "output_type": "stream",
     "text": [
      "  3%|█▎                                                | 13507/500000 [00:22<13:21, 606.86it/s]"
     ]
    },
    {
     "name": "stdout",
     "output_type": "stream",
     "text": [
      "['PRO_14622', 'PRO_18269']\n",
      "['PRO_3998', 'PRO_23201']\n"
     ]
    },
    {
     "name": "stderr",
     "output_type": "stream",
     "text": [
      "  3%|█▍                                                | 14180/500000 [00:23<13:15, 611.05it/s]"
     ]
    },
    {
     "name": "stdout",
     "output_type": "stream",
     "text": [
      "['PRO_372', 'PRO_3129']\n"
     ]
    },
    {
     "name": "stderr",
     "output_type": "stream",
     "text": [
      "  3%|█▍                                                | 14488/500000 [00:24<13:19, 607.39it/s]"
     ]
    },
    {
     "name": "stdout",
     "output_type": "stream",
     "text": [
      "['PRO_16793', 'PRO_3411']\n"
     ]
    },
    {
     "name": "stderr",
     "output_type": "stream",
     "text": [
      "  3%|█▍                                                | 14853/500000 [00:24<13:21, 605.22it/s]"
     ]
    },
    {
     "name": "stdout",
     "output_type": "stream",
     "text": [
      "['PRO_22404', 'PRO_15732']\n"
     ]
    },
    {
     "name": "stderr",
     "output_type": "stream",
     "text": [
      "  3%|█▌                                                | 15034/500000 [00:25<13:41, 590.30it/s]"
     ]
    },
    {
     "name": "stdout",
     "output_type": "stream",
     "text": [
      "['PRO_12322', 'PRO_12532']\n",
      "['PRO_17253', 'PRO_20745']\n"
     ]
    },
    {
     "name": "stderr",
     "output_type": "stream",
     "text": [
      "  3%|█▌                                                | 15520/500000 [00:25<13:38, 591.76it/s]"
     ]
    },
    {
     "name": "stdout",
     "output_type": "stream",
     "text": [
      "['PRO_15117', 'PRO_15158']\n",
      "['PRO_14923', 'PRO_3998']\n"
     ]
    },
    {
     "name": "stderr",
     "output_type": "stream",
     "text": [
      "  3%|█▌                                                | 15915/500000 [00:26<15:07, 533.63it/s]"
     ]
    },
    {
     "name": "stdout",
     "output_type": "stream",
     "text": [
      "['PRO_1963', 'PRO_21778']\n"
     ]
    },
    {
     "name": "stderr",
     "output_type": "stream",
     "text": [
      "  3%|█▌                                                | 16223/500000 [00:27<13:23, 602.18it/s]"
     ]
    },
    {
     "name": "stdout",
     "output_type": "stream",
     "text": [
      "['PRO_19315', 'PRO_4417']\n"
     ]
    },
    {
     "name": "stderr",
     "output_type": "stream",
     "text": [
      "  3%|█▋                                                | 17257/500000 [00:28<13:37, 590.79it/s]"
     ]
    },
    {
     "name": "stdout",
     "output_type": "stream",
     "text": [
      "['PRO_14949', 'PRO_21106']\n"
     ]
    },
    {
     "name": "stderr",
     "output_type": "stream",
     "text": [
      "  4%|█▊                                                | 18560/500000 [00:31<12:52, 623.32it/s]"
     ]
    },
    {
     "name": "stdout",
     "output_type": "stream",
     "text": [
      "['PRO_13737', 'PRO_20469']\n"
     ]
    },
    {
     "name": "stderr",
     "output_type": "stream",
     "text": [
      "  4%|█▉                                                | 18936/500000 [00:31<12:58, 617.85it/s]"
     ]
    },
    {
     "name": "stdout",
     "output_type": "stream",
     "text": [
      "['PRO_21086', 'PRO_1011']\n"
     ]
    },
    {
     "name": "stderr",
     "output_type": "stream",
     "text": [
      "  4%|██                                                | 20038/500000 [00:33<13:10, 607.49it/s]"
     ]
    },
    {
     "name": "stdout",
     "output_type": "stream",
     "text": [
      "['PRO_12476', 'PRO_21861']\n"
     ]
    },
    {
     "name": "stderr",
     "output_type": "stream",
     "text": [
      "  4%|██                                                | 20723/500000 [00:34<12:58, 615.96it/s]"
     ]
    },
    {
     "name": "stdout",
     "output_type": "stream",
     "text": [
      "['PRO_14610', 'PRO_10328']\n"
     ]
    },
    {
     "name": "stderr",
     "output_type": "stream",
     "text": [
      "  5%|██▎                                               | 23406/500000 [00:38<12:52, 616.66it/s]"
     ]
    },
    {
     "name": "stdout",
     "output_type": "stream",
     "text": [
      "['PRO_18276', 'PRO_3234']\n"
     ]
    },
    {
     "name": "stderr",
     "output_type": "stream",
     "text": [
      "  5%|██▎                                               | 23592/500000 [00:39<12:54, 615.35it/s]"
     ]
    },
    {
     "name": "stdout",
     "output_type": "stream",
     "text": [
      "['PRO_21449', 'PRO_19102']\n"
     ]
    },
    {
     "name": "stderr",
     "output_type": "stream",
     "text": [
      "  5%|██▍                                               | 24090/500000 [00:40<12:54, 614.45it/s]"
     ]
    },
    {
     "name": "stdout",
     "output_type": "stream",
     "text": [
      "['PRO_1349', 'PRO_17817']\n"
     ]
    },
    {
     "name": "stderr",
     "output_type": "stream",
     "text": [
      "  5%|██▍                                               | 24579/500000 [00:40<13:19, 594.91it/s]"
     ]
    },
    {
     "name": "stdout",
     "output_type": "stream",
     "text": [
      "['PRO_13204', 'PRO_17595']\n"
     ]
    },
    {
     "name": "stderr",
     "output_type": "stream",
     "text": [
      "  5%|██▍                                               | 24933/500000 [00:41<15:10, 521.55it/s]"
     ]
    },
    {
     "name": "stdout",
     "output_type": "stream",
     "text": [
      "['PRO_10328', 'PRO_11835']\n"
     ]
    },
    {
     "name": "stderr",
     "output_type": "stream",
     "text": [
      "  5%|██▌                                               | 25688/500000 [00:43<17:14, 458.66it/s]"
     ]
    },
    {
     "name": "stdout",
     "output_type": "stream",
     "text": [
      "['PRO_430', 'PRO_22400']\n"
     ]
    },
    {
     "name": "stderr",
     "output_type": "stream",
     "text": [
      "  5%|██▋                                               | 26279/500000 [00:44<17:12, 458.90it/s]"
     ]
    },
    {
     "name": "stdout",
     "output_type": "stream",
     "text": [
      "['PRO_15081', 'PRO_1011']\n"
     ]
    },
    {
     "name": "stderr",
     "output_type": "stream",
     "text": [
      "  5%|██▋                                               | 26430/500000 [00:44<16:15, 485.29it/s]"
     ]
    },
    {
     "name": "stdout",
     "output_type": "stream",
     "text": [
      "['PRO_1067', 'PRO_3603']\n"
     ]
    },
    {
     "name": "stderr",
     "output_type": "stream",
     "text": [
      "  5%|██▋                                               | 26975/500000 [00:45<17:52, 440.89it/s]"
     ]
    },
    {
     "name": "stdout",
     "output_type": "stream",
     "text": [
      "['PRO_2769', 'PRO_18916']\n"
     ]
    },
    {
     "name": "stderr",
     "output_type": "stream",
     "text": [
      "  5%|██▋                                               | 27471/500000 [00:46<15:40, 502.66it/s]"
     ]
    },
    {
     "name": "stdout",
     "output_type": "stream",
     "text": [
      "['PRO_315', 'PRO_22831']\n"
     ]
    },
    {
     "name": "stderr",
     "output_type": "stream",
     "text": [
      "  6%|██▊                                               | 28017/500000 [00:48<14:45, 532.81it/s]"
     ]
    },
    {
     "name": "stdout",
     "output_type": "stream",
     "text": [
      "['PRO_15570', 'PRO_14468']\n"
     ]
    },
    {
     "name": "stderr",
     "output_type": "stream",
     "text": [
      "  6%|██▉                                               | 29454/500000 [00:50<12:42, 617.16it/s]"
     ]
    },
    {
     "name": "stdout",
     "output_type": "stream",
     "text": [
      "['PRO_10109', 'PRO_14397']\n"
     ]
    },
    {
     "name": "stderr",
     "output_type": "stream",
     "text": [
      "  6%|███                                               | 30013/500000 [00:51<12:44, 614.68it/s]"
     ]
    },
    {
     "name": "stdout",
     "output_type": "stream",
     "text": [
      "['PRO_3109', 'PRO_20617']\n"
     ]
    },
    {
     "name": "stderr",
     "output_type": "stream",
     "text": [
      "  6%|███                                               | 30879/500000 [00:52<12:45, 612.79it/s]"
     ]
    },
    {
     "name": "stdout",
     "output_type": "stream",
     "text": [
      "['PRO_15916', 'PRO_13525']\n"
     ]
    },
    {
     "name": "stderr",
     "output_type": "stream",
     "text": [
      "  6%|███▏                                              | 31553/500000 [00:53<13:03, 597.72it/s]"
     ]
    },
    {
     "name": "stdout",
     "output_type": "stream",
     "text": [
      "['PRO_1540', 'PRO_17485']\n"
     ]
    },
    {
     "name": "stderr",
     "output_type": "stream",
     "text": [
      "  6%|███▏                                              | 31798/500000 [00:54<12:59, 600.53it/s]"
     ]
    },
    {
     "name": "stdout",
     "output_type": "stream",
     "text": [
      "['PRO_18954', 'PRO_12563']\n"
     ]
    },
    {
     "name": "stderr",
     "output_type": "stream",
     "text": [
      "  7%|███▎                                              | 32535/500000 [00:55<12:43, 612.52it/s]"
     ]
    },
    {
     "name": "stdout",
     "output_type": "stream",
     "text": [
      "['PRO_11834', 'PRO_1367']\n",
      "['PRO_15396', 'PRO_17060']\n"
     ]
    },
    {
     "name": "stderr",
     "output_type": "stream",
     "text": [
      "  7%|███▎                                              | 32965/500000 [00:56<13:31, 575.83it/s]"
     ]
    },
    {
     "name": "stdout",
     "output_type": "stream",
     "text": [
      "['PRO_12937', 'PRO_16724']\n"
     ]
    },
    {
     "name": "stderr",
     "output_type": "stream",
     "text": [
      "  7%|███▎                                              | 33085/500000 [00:56<13:29, 576.86it/s]"
     ]
    },
    {
     "name": "stdout",
     "output_type": "stream",
     "text": [
      "['PRO_18937', 'PRO_20041']\n"
     ]
    },
    {
     "name": "stderr",
     "output_type": "stream",
     "text": [
      "  7%|███▍                                              | 34313/500000 [00:58<12:46, 607.72it/s]"
     ]
    },
    {
     "name": "stdout",
     "output_type": "stream",
     "text": [
      "['PRO_13025', 'PRO_21054']\n"
     ]
    },
    {
     "name": "stderr",
     "output_type": "stream",
     "text": [
      "  7%|███▌                                              | 35667/500000 [01:00<12:38, 612.31it/s]"
     ]
    },
    {
     "name": "stdout",
     "output_type": "stream",
     "text": [
      "['PRO_14651', 'PRO_18435']\n",
      "['PRO_2029', 'PRO_16564']\n"
     ]
    },
    {
     "name": "stderr",
     "output_type": "stream",
     "text": [
      "  7%|███▋                                              | 36473/500000 [01:02<12:34, 614.14it/s]"
     ]
    },
    {
     "name": "stdout",
     "output_type": "stream",
     "text": [
      "['PRO_14166', 'PRO_3122']\n"
     ]
    },
    {
     "name": "stderr",
     "output_type": "stream",
     "text": [
      "  8%|███▊                                              | 37636/500000 [01:04<12:34, 612.46it/s]"
     ]
    },
    {
     "name": "stdout",
     "output_type": "stream",
     "text": [
      "['PRO_1367', 'PRO_23009']\n"
     ]
    },
    {
     "name": "stderr",
     "output_type": "stream",
     "text": [
      "  8%|███▊                                              | 37948/500000 [01:04<12:31, 615.12it/s]"
     ]
    },
    {
     "name": "stdout",
     "output_type": "stream",
     "text": [
      "['PRO_16981', 'PRO_22827']\n"
     ]
    },
    {
     "name": "stderr",
     "output_type": "stream",
     "text": [
      "  8%|███▊                                              | 38072/500000 [01:04<12:37, 610.05it/s]"
     ]
    },
    {
     "name": "stdout",
     "output_type": "stream",
     "text": [
      "['PRO_13334', 'PRO_13140']\n"
     ]
    },
    {
     "name": "stderr",
     "output_type": "stream",
     "text": [
      "  8%|███▊                                              | 38615/500000 [01:05<13:08, 585.19it/s]"
     ]
    },
    {
     "name": "stdout",
     "output_type": "stream",
     "text": [
      "['PRO_12137', 'PRO_3603']\n"
     ]
    },
    {
     "name": "stderr",
     "output_type": "stream",
     "text": [
      "  8%|███▉                                              | 39416/500000 [01:07<13:38, 562.82it/s]"
     ]
    },
    {
     "name": "stdout",
     "output_type": "stream",
     "text": [
      "['PRO_2946', 'PRO_23421']\n"
     ]
    },
    {
     "name": "stderr",
     "output_type": "stream",
     "text": [
      "  8%|████                                              | 40106/500000 [01:08<14:26, 530.97it/s]"
     ]
    },
    {
     "name": "stdout",
     "output_type": "stream",
     "text": [
      "['PRO_19581', 'PRO_21249']\n",
      "['PRO_237', 'PRO_16175']\n",
      "['PRO_18462', 'PRO_301']\n"
     ]
    },
    {
     "name": "stderr",
     "output_type": "stream",
     "text": [
      "  9%|████▎                                             | 42775/500000 [01:12<12:28, 610.92it/s]"
     ]
    },
    {
     "name": "stdout",
     "output_type": "stream",
     "text": [
      "['PRO_2543', 'PRO_13779']\n"
     ]
    },
    {
     "name": "stderr",
     "output_type": "stream",
     "text": [
      "  9%|████▍                                             | 44351/500000 [01:15<12:41, 598.62it/s]"
     ]
    },
    {
     "name": "stdout",
     "output_type": "stream",
     "text": [
      "['PRO_17392', 'PRO_15208']\n"
     ]
    },
    {
     "name": "stderr",
     "output_type": "stream",
     "text": [
      "  9%|████▌                                             | 45141/500000 [01:17<14:17, 530.44it/s]"
     ]
    },
    {
     "name": "stdout",
     "output_type": "stream",
     "text": [
      "['PRO_4538', 'PRO_2982']\n"
     ]
    },
    {
     "name": "stderr",
     "output_type": "stream",
     "text": [
      " 10%|████▊                                             | 47516/500000 [01:21<12:34, 599.67it/s]"
     ]
    },
    {
     "name": "stdout",
     "output_type": "stream",
     "text": [
      "['PRO_21845', 'PRO_15270']\n",
      "['PRO_18826', 'PRO_18435']\n"
     ]
    },
    {
     "name": "stderr",
     "output_type": "stream",
     "text": [
      " 10%|████▊                                             | 47700/500000 [01:21<12:33, 600.44it/s]"
     ]
    },
    {
     "name": "stdout",
     "output_type": "stream",
     "text": [
      "['PRO_11537', 'PRO_16749']\n"
     ]
    },
    {
     "name": "stderr",
     "output_type": "stream",
     "text": [
      " 10%|█████                                             | 50053/500000 [01:25<15:13, 492.29it/s]"
     ]
    },
    {
     "name": "stdout",
     "output_type": "stream",
     "text": [
      "['PRO_15322', 'PRO_2580']\n"
     ]
    },
    {
     "name": "stderr",
     "output_type": "stream",
     "text": [
      " 10%|█████                                             | 50652/500000 [01:26<13:18, 562.40it/s]"
     ]
    },
    {
     "name": "stdout",
     "output_type": "stream",
     "text": [
      "['PRO_14901', 'PRO_13609']\n"
     ]
    },
    {
     "name": "stderr",
     "output_type": "stream",
     "text": [
      " 10%|█████                                             | 51082/500000 [01:27<12:18, 608.14it/s]"
     ]
    },
    {
     "name": "stdout",
     "output_type": "stream",
     "text": [
      "['PRO_20649', 'PRO_12563']\n"
     ]
    },
    {
     "name": "stderr",
     "output_type": "stream",
     "text": [
      " 10%|█████▏                                            | 51266/500000 [01:27<12:24, 603.14it/s]"
     ]
    },
    {
     "name": "stdout",
     "output_type": "stream",
     "text": [
      "['PRO_17853', 'PRO_3998']\n"
     ]
    },
    {
     "name": "stderr",
     "output_type": "stream",
     "text": [
      " 10%|█████▏                                            | 51634/500000 [01:28<12:16, 608.97it/s]"
     ]
    },
    {
     "name": "stdout",
     "output_type": "stream",
     "text": [
      "['PRO_18035', 'PRO_20725']\n"
     ]
    },
    {
     "name": "stderr",
     "output_type": "stream",
     "text": [
      " 10%|█████▏                                            | 51881/500000 [01:28<12:14, 609.73it/s]"
     ]
    },
    {
     "name": "stdout",
     "output_type": "stream",
     "text": [
      "['PRO_17111', 'PRO_11909']\n"
     ]
    },
    {
     "name": "stderr",
     "output_type": "stream",
     "text": [
      " 10%|█████▏                                            | 52441/500000 [01:29<12:03, 618.41it/s]"
     ]
    },
    {
     "name": "stdout",
     "output_type": "stream",
     "text": [
      "['PRO_11226', 'PRO_16903']\n"
     ]
    },
    {
     "name": "stderr",
     "output_type": "stream",
     "text": [
      " 11%|█████▎                                            | 53243/500000 [01:31<12:14, 607.87it/s]"
     ]
    },
    {
     "name": "stdout",
     "output_type": "stream",
     "text": [
      "['PRO_14249', 'PRO_16365']\n"
     ]
    },
    {
     "name": "stderr",
     "output_type": "stream",
     "text": [
      " 11%|█████▎                                            | 53613/500000 [01:31<12:08, 612.96it/s]"
     ]
    },
    {
     "name": "stdout",
     "output_type": "stream",
     "text": [
      "['PRO_301', 'PRO_12802']\n"
     ]
    },
    {
     "name": "stderr",
     "output_type": "stream",
     "text": [
      " 11%|█████▍                                            | 53926/500000 [01:32<12:01, 618.33it/s]"
     ]
    },
    {
     "name": "stdout",
     "output_type": "stream",
     "text": [
      "['PRO_4067', 'PRO_2906']\n"
     ]
    },
    {
     "name": "stderr",
     "output_type": "stream",
     "text": [
      " 11%|█████▍                                            | 54426/500000 [01:33<11:56, 621.84it/s]"
     ]
    },
    {
     "name": "stdout",
     "output_type": "stream",
     "text": [
      "['PRO_18037', 'PRO_15460']\n"
     ]
    },
    {
     "name": "stderr",
     "output_type": "stream",
     "text": [
      " 11%|█████▌                                            | 55181/500000 [01:34<11:53, 623.21it/s]"
     ]
    },
    {
     "name": "stdout",
     "output_type": "stream",
     "text": [
      "['PRO_3188', 'PRO_15905']\n"
     ]
    },
    {
     "name": "stderr",
     "output_type": "stream",
     "text": [
      " 11%|█████▋                                            | 56484/500000 [01:36<12:06, 610.88it/s]"
     ]
    },
    {
     "name": "stdout",
     "output_type": "stream",
     "text": [
      "['PRO_3785', 'PRO_301']\n"
     ]
    },
    {
     "name": "stderr",
     "output_type": "stream",
     "text": [
      " 11%|█████▋                                            | 56976/500000 [01:37<12:17, 600.81it/s]"
     ]
    },
    {
     "name": "stdout",
     "output_type": "stream",
     "text": [
      "['PRO_20469', 'PRO_3662']\n"
     ]
    },
    {
     "name": "stderr",
     "output_type": "stream",
     "text": [
      " 12%|█████▊                                            | 57601/500000 [01:38<11:52, 621.24it/s]"
     ]
    },
    {
     "name": "stdout",
     "output_type": "stream",
     "text": [
      "['PRO_14608', 'PRO_14249']\n"
     ]
    },
    {
     "name": "stderr",
     "output_type": "stream",
     "text": [
      " 12%|█████▉                                            | 59047/500000 [01:40<11:49, 621.22it/s]"
     ]
    },
    {
     "name": "stdout",
     "output_type": "stream",
     "text": [
      "['PRO_3198', 'PRO_21845']\n"
     ]
    },
    {
     "name": "stderr",
     "output_type": "stream",
     "text": [
      " 12%|█████▉                                            | 59981/500000 [01:42<11:51, 618.17it/s]"
     ]
    },
    {
     "name": "stdout",
     "output_type": "stream",
     "text": [
      "['PRO_12939', 'PRO_3522']\n"
     ]
    },
    {
     "name": "stderr",
     "output_type": "stream",
     "text": [
      " 12%|██████▏                                           | 61473/500000 [01:44<11:47, 619.59it/s]"
     ]
    },
    {
     "name": "stdout",
     "output_type": "stream",
     "text": [
      "['PRO_3821', 'PRO_18865']\n"
     ]
    },
    {
     "name": "stderr",
     "output_type": "stream",
     "text": [
      " 12%|██████▏                                           | 62033/500000 [01:45<11:52, 614.62it/s]"
     ]
    },
    {
     "name": "stdout",
     "output_type": "stream",
     "text": [
      "['PRO_22118', 'PRO_22804']\n"
     ]
    },
    {
     "name": "stderr",
     "output_type": "stream",
     "text": [
      " 13%|██████▎                                           | 62594/500000 [01:46<11:45, 620.22it/s]"
     ]
    },
    {
     "name": "stdout",
     "output_type": "stream",
     "text": [
      "['PRO_18276', 'PRO_4723']\n",
      "['PRO_19455', 'PRO_17745']\n"
     ]
    },
    {
     "name": "stderr",
     "output_type": "stream",
     "text": [
      " 13%|██████▎                                           | 62967/500000 [01:46<11:48, 617.19it/s]"
     ]
    },
    {
     "name": "stdout",
     "output_type": "stream",
     "text": [
      "['PRO_10065', 'PRO_15208']\n"
     ]
    },
    {
     "name": "stderr",
     "output_type": "stream",
     "text": [
      " 13%|██████▎                                           | 63154/500000 [01:47<11:47, 617.57it/s]"
     ]
    },
    {
     "name": "stdout",
     "output_type": "stream",
     "text": [
      "['PRO_146', 'PRO_14133']\n"
     ]
    },
    {
     "name": "stderr",
     "output_type": "stream",
     "text": [
      " 13%|██████▋                                           | 67020/500000 [01:53<12:07, 594.95it/s]"
     ]
    },
    {
     "name": "stdout",
     "output_type": "stream",
     "text": [
      "['PRO_21154', 'PRO_1369']\n"
     ]
    },
    {
     "name": "stderr",
     "output_type": "stream",
     "text": [
      " 14%|██████▊                                           | 67515/500000 [01:54<11:41, 616.26it/s]"
     ]
    },
    {
     "name": "stdout",
     "output_type": "stream",
     "text": [
      "['PRO_20407', 'PRO_2793']\n"
     ]
    },
    {
     "name": "stderr",
     "output_type": "stream",
     "text": [
      " 14%|██████▉                                           | 68766/500000 [01:56<11:29, 625.51it/s]"
     ]
    },
    {
     "name": "stdout",
     "output_type": "stream",
     "text": [
      "['PRO_1493', 'PRO_12481']\n"
     ]
    },
    {
     "name": "stderr",
     "output_type": "stream",
     "text": [
      " 14%|██████▉                                           | 69888/500000 [01:58<11:39, 614.67it/s]"
     ]
    },
    {
     "name": "stdout",
     "output_type": "stream",
     "text": [
      "['PRO_21041', 'PRO_20997']\n",
      "['PRO_15117', 'PRO_3286']\n"
     ]
    },
    {
     "name": "stderr",
     "output_type": "stream",
     "text": [
      " 14%|███████                                           | 70074/500000 [01:58<11:42, 611.70it/s]"
     ]
    },
    {
     "name": "stdout",
     "output_type": "stream",
     "text": [
      "['PRO_21407', 'PRO_1067']\n"
     ]
    },
    {
     "name": "stderr",
     "output_type": "stream",
     "text": [
      " 14%|███████                                           | 70755/500000 [01:59<11:44, 608.95it/s]"
     ]
    },
    {
     "name": "stdout",
     "output_type": "stream",
     "text": [
      "['PRO_14149', 'PRO_13140']\n"
     ]
    },
    {
     "name": "stderr",
     "output_type": "stream",
     "text": [
      " 14%|███████                                           | 71186/500000 [02:00<11:41, 610.86it/s]"
     ]
    },
    {
     "name": "stdout",
     "output_type": "stream",
     "text": [
      "['PRO_3234', 'PRO_23187']\n"
     ]
    },
    {
     "name": "stderr",
     "output_type": "stream",
     "text": [
      " 15%|███████▎                                          | 73039/500000 [02:03<11:28, 620.53it/s]"
     ]
    },
    {
     "name": "stdout",
     "output_type": "stream",
     "text": [
      "['PRO_22118', 'PRO_18435']\n"
     ]
    },
    {
     "name": "stderr",
     "output_type": "stream",
     "text": [
      " 15%|███████▎                                          | 73414/500000 [02:03<11:30, 617.93it/s]"
     ]
    },
    {
     "name": "stdout",
     "output_type": "stream",
     "text": [
      "['PRO_14949', 'PRO_21861']\n"
     ]
    },
    {
     "name": "stderr",
     "output_type": "stream",
     "text": [
      " 15%|███████▍                                          | 74720/500000 [02:06<11:38, 609.22it/s]"
     ]
    },
    {
     "name": "stdout",
     "output_type": "stream",
     "text": [
      "['PRO_3050', 'PRO_12137']\n"
     ]
    },
    {
     "name": "stderr",
     "output_type": "stream",
     "text": [
      " 15%|███████▌                                          | 75214/500000 [02:06<11:48, 599.71it/s]"
     ]
    },
    {
     "name": "stdout",
     "output_type": "stream",
     "text": [
      "['PRO_12256', 'PRO_14564']\n"
     ]
    },
    {
     "name": "stderr",
     "output_type": "stream",
     "text": [
      " 15%|███████▌                                          | 75396/500000 [02:07<11:49, 598.27it/s]"
     ]
    },
    {
     "name": "stdout",
     "output_type": "stream",
     "text": [
      "['PRO_4174', 'PRO_16726']\n"
     ]
    },
    {
     "name": "stderr",
     "output_type": "stream",
     "text": [
      " 15%|███████▌                                          | 76003/500000 [02:08<11:50, 596.61it/s]"
     ]
    },
    {
     "name": "stdout",
     "output_type": "stream",
     "text": [
      "['PRO_14126', 'PRO_13364']\n",
      "['PRO_21396', 'PRO_10950']\n"
     ]
    },
    {
     "name": "stderr",
     "output_type": "stream",
     "text": [
      " 15%|███████▋                                          | 77319/500000 [02:10<12:57, 543.41it/s]"
     ]
    },
    {
     "name": "stdout",
     "output_type": "stream",
     "text": [
      "['PRO_11662', 'PRO_18404']\n"
     ]
    },
    {
     "name": "stderr",
     "output_type": "stream",
     "text": [
      " 16%|███████▊                                          | 77667/500000 [02:11<15:37, 450.31it/s]"
     ]
    },
    {
     "name": "stdout",
     "output_type": "stream",
     "text": [
      "['PRO_20164', 'PRO_15799']\n"
     ]
    },
    {
     "name": "stderr",
     "output_type": "stream",
     "text": [
      " 16%|███████▊                                          | 78488/500000 [02:13<13:35, 516.72it/s]"
     ]
    },
    {
     "name": "stdout",
     "output_type": "stream",
     "text": [
      "['PRO_13293', 'PRO_20402']\n"
     ]
    },
    {
     "name": "stderr",
     "output_type": "stream",
     "text": [
      " 16%|███████▉                                          | 78910/500000 [02:13<14:37, 479.75it/s]"
     ]
    },
    {
     "name": "stdout",
     "output_type": "stream",
     "text": [
      "['PRO_16469', 'PRO_22045']\n"
     ]
    },
    {
     "name": "stderr",
     "output_type": "stream",
     "text": [
      " 16%|████████                                          | 80371/500000 [02:16<11:34, 604.10it/s]"
     ]
    },
    {
     "name": "stdout",
     "output_type": "stream",
     "text": [
      "['PRO_21445', 'PRO_10310']\n",
      "['PRO_21445', 'PRO_18133']\n"
     ]
    },
    {
     "name": "stderr",
     "output_type": "stream",
     "text": [
      " 17%|████████▎                                         | 82780/500000 [02:20<11:15, 617.82it/s]"
     ]
    },
    {
     "name": "stdout",
     "output_type": "stream",
     "text": [
      "['PRO_2434', 'PRO_2912']\n"
     ]
    },
    {
     "name": "stderr",
     "output_type": "stream",
     "text": [
      " 17%|████████▍                                         | 83824/500000 [02:22<11:26, 605.81it/s]"
     ]
    },
    {
     "name": "stdout",
     "output_type": "stream",
     "text": [
      "['PRO_22291', 'PRO_17968']\n"
     ]
    },
    {
     "name": "stderr",
     "output_type": "stream",
     "text": [
      " 17%|████████▍                                         | 84008/500000 [02:22<11:22, 609.44it/s]"
     ]
    },
    {
     "name": "stdout",
     "output_type": "stream",
     "text": [
      "['PRO_11160', 'PRO_18249']\n"
     ]
    },
    {
     "name": "stderr",
     "output_type": "stream",
     "text": [
      " 17%|████████▍                                         | 84256/500000 [02:23<11:18, 612.45it/s]"
     ]
    },
    {
     "name": "stdout",
     "output_type": "stream",
     "text": [
      "['PRO_21444', 'PRO_13948']\n"
     ]
    },
    {
     "name": "stderr",
     "output_type": "stream",
     "text": [
      " 17%|████████▌                                         | 85906/500000 [02:26<11:45, 586.97it/s]"
     ]
    },
    {
     "name": "stdout",
     "output_type": "stream",
     "text": [
      "['PRO_23203', 'PRO_20380']\n",
      "['PRO_17060', 'PRO_22140']\n"
     ]
    },
    {
     "name": "stderr",
     "output_type": "stream",
     "text": [
      " 17%|████████▋                                         | 86367/500000 [02:26<13:02, 528.66it/s]"
     ]
    },
    {
     "name": "stdout",
     "output_type": "stream",
     "text": [
      "['PRO_20374', 'PRO_14752']\n",
      "['PRO_18835', 'PRO_22691']\n"
     ]
    },
    {
     "name": "stderr",
     "output_type": "stream",
     "text": [
      " 17%|████████▋                                         | 86818/500000 [02:28<13:53, 495.55it/s]"
     ]
    },
    {
     "name": "stdout",
     "output_type": "stream",
     "text": [
      "['PRO_18546', 'PRO_11154']\n"
     ]
    },
    {
     "name": "stderr",
     "output_type": "stream",
     "text": [
      " 18%|████████▊                                         | 87865/500000 [02:29<11:24, 602.00it/s]"
     ]
    },
    {
     "name": "stdout",
     "output_type": "stream",
     "text": [
      "['PRO_12373', 'PRO_14998']\n"
     ]
    },
    {
     "name": "stderr",
     "output_type": "stream",
     "text": [
      " 18%|████████▊                                         | 88720/500000 [02:31<13:40, 500.98it/s]"
     ]
    },
    {
     "name": "stdout",
     "output_type": "stream",
     "text": [
      "['PRO_19451', 'PRO_14422']\n"
     ]
    },
    {
     "name": "stderr",
     "output_type": "stream",
     "text": [
      " 18%|████████▉                                         | 89706/500000 [02:33<14:14, 480.25it/s]"
     ]
    },
    {
     "name": "stdout",
     "output_type": "stream",
     "text": [
      "['PRO_16875', 'PRO_10328']\n"
     ]
    },
    {
     "name": "stderr",
     "output_type": "stream",
     "text": [
      " 18%|█████████                                         | 90751/500000 [02:35<12:21, 552.07it/s]"
     ]
    },
    {
     "name": "stdout",
     "output_type": "stream",
     "text": [
      "['PRO_16464', 'PRO_21444']\n",
      "['PRO_18651', 'PRO_19680']\n",
      "['PRO_18249', 'PRO_19581']\n",
      "['PRO_21256', 'PRO_21359']\n"
     ]
    },
    {
     "name": "stderr",
     "output_type": "stream",
     "text": [
      " 18%|█████████▏                                        | 91640/500000 [02:37<13:37, 499.62it/s]"
     ]
    },
    {
     "name": "stdout",
     "output_type": "stream",
     "text": [
      "['PRO_23203', 'PRO_20373']\n"
     ]
    },
    {
     "name": "stderr",
     "output_type": "stream",
     "text": [
      " 18%|█████████▏                                        | 91936/500000 [02:37<11:38, 584.58it/s]"
     ]
    },
    {
     "name": "stdout",
     "output_type": "stream",
     "text": [
      "['PRO_430', 'PRO_18646']\n"
     ]
    },
    {
     "name": "stderr",
     "output_type": "stream",
     "text": [
      " 18%|█████████▏                                        | 92334/500000 [02:38<12:37, 538.39it/s]"
     ]
    },
    {
     "name": "stdout",
     "output_type": "stream",
     "text": [
      "['PRO_14895', 'PRO_17649']\n"
     ]
    },
    {
     "name": "stderr",
     "output_type": "stream",
     "text": [
      " 19%|█████████▎                                        | 92793/500000 [02:39<11:37, 583.56it/s]"
     ]
    },
    {
     "name": "stdout",
     "output_type": "stream",
     "text": [
      "['PRO_20047', 'PRO_3303']\n"
     ]
    },
    {
     "name": "stderr",
     "output_type": "stream",
     "text": [
      " 19%|█████████▎                                        | 93597/500000 [02:40<11:24, 593.91it/s]"
     ]
    },
    {
     "name": "stdout",
     "output_type": "stream",
     "text": [
      "['PRO_16483', 'PRO_17017']\n"
     ]
    },
    {
     "name": "stderr",
     "output_type": "stream",
     "text": [
      " 19%|█████████▍                                        | 93842/500000 [02:40<11:09, 606.93it/s]"
     ]
    },
    {
     "name": "stdout",
     "output_type": "stream",
     "text": [
      "['PRO_22947', 'PRO_3530']\n"
     ]
    },
    {
     "name": "stderr",
     "output_type": "stream",
     "text": [
      " 19%|█████████▍                                        | 94151/500000 [02:41<11:00, 614.83it/s]"
     ]
    },
    {
     "name": "stdout",
     "output_type": "stream",
     "text": [
      "['PRO_19563', 'PRO_14949']\n"
     ]
    },
    {
     "name": "stderr",
     "output_type": "stream",
     "text": [
      " 19%|█████████▍                                        | 94895/500000 [02:42<10:59, 614.63it/s]"
     ]
    },
    {
     "name": "stdout",
     "output_type": "stream",
     "text": [
      "['PRO_21021', 'PRO_21993']\n"
     ]
    },
    {
     "name": "stderr",
     "output_type": "stream",
     "text": [
      " 19%|█████████▌                                        | 95144/500000 [02:43<11:06, 607.33it/s]"
     ]
    },
    {
     "name": "stdout",
     "output_type": "stream",
     "text": [
      "['PRO_12980', 'PRO_19250']\n"
     ]
    },
    {
     "name": "stderr",
     "output_type": "stream",
     "text": [
      " 19%|█████████▋                                        | 97187/500000 [02:46<10:57, 612.27it/s]"
     ]
    },
    {
     "name": "stdout",
     "output_type": "stream",
     "text": [
      "['PRO_18276', 'PRO_12137']\n"
     ]
    },
    {
     "name": "stderr",
     "output_type": "stream",
     "text": [
      " 19%|█████████▋                                        | 97310/500000 [02:46<11:04, 606.19it/s]"
     ]
    },
    {
     "name": "stdout",
     "output_type": "stream",
     "text": [
      "['PRO_1398', 'PRO_17975']\n"
     ]
    },
    {
     "name": "stderr",
     "output_type": "stream",
     "text": [
      " 19%|█████████▋                                        | 97491/500000 [02:46<11:30, 582.83it/s]"
     ]
    },
    {
     "name": "stdout",
     "output_type": "stream",
     "text": [
      "['PRO_15828', 'PRO_1836']\n"
     ]
    },
    {
     "name": "stderr",
     "output_type": "stream",
     "text": [
      " 20%|█████████▊                                        | 97986/500000 [02:47<10:53, 615.61it/s]"
     ]
    },
    {
     "name": "stdout",
     "output_type": "stream",
     "text": [
      "['PRO_13014', 'PRO_18984']\n"
     ]
    },
    {
     "name": "stderr",
     "output_type": "stream",
     "text": [
      " 20%|█████████▊                                       | 100064/500000 [02:51<13:05, 508.91it/s]"
     ]
    },
    {
     "name": "stdout",
     "output_type": "stream",
     "text": [
      "['PRO_3358', 'PRO_11304']\n"
     ]
    },
    {
     "name": "stderr",
     "output_type": "stream",
     "text": [
      " 20%|█████████▊                                       | 100622/500000 [02:52<11:15, 591.02it/s]"
     ]
    },
    {
     "name": "stdout",
     "output_type": "stream",
     "text": [
      "['PRO_12402', 'PRO_10056']\n"
     ]
    },
    {
     "name": "stderr",
     "output_type": "stream",
     "text": [
      " 20%|█████████▉                                       | 101431/500000 [02:53<11:09, 595.53it/s]"
     ]
    },
    {
     "name": "stdout",
     "output_type": "stream",
     "text": [
      "['PRO_414', 'PRO_16447']\n"
     ]
    },
    {
     "name": "stderr",
     "output_type": "stream",
     "text": [
      " 20%|█████████▉                                       | 101550/500000 [02:54<11:42, 567.48it/s]"
     ]
    },
    {
     "name": "stdout",
     "output_type": "stream",
     "text": [
      "['PRO_14551', 'PRO_18249']\n"
     ]
    },
    {
     "name": "stderr",
     "output_type": "stream",
     "text": [
      " 20%|█████████▉                                       | 101883/500000 [02:54<12:37, 525.83it/s]"
     ]
    },
    {
     "name": "stdout",
     "output_type": "stream",
     "text": [
      "['PRO_3052', 'PRO_14610']\n"
     ]
    },
    {
     "name": "stderr",
     "output_type": "stream",
     "text": [
      " 21%|██████████▏                                      | 104373/500000 [02:59<11:17, 583.76it/s]"
     ]
    },
    {
     "name": "stdout",
     "output_type": "stream",
     "text": [
      "['PRO_18967', 'PRO_20125']\n"
     ]
    },
    {
     "name": "stderr",
     "output_type": "stream",
     "text": [
      " 21%|██████████▌                                      | 107205/500000 [03:03<10:46, 607.75it/s]"
     ]
    },
    {
     "name": "stdout",
     "output_type": "stream",
     "text": [
      "['PRO_11110', 'PRO_10971']\n"
     ]
    },
    {
     "name": "stderr",
     "output_type": "stream",
     "text": [
      " 22%|██████████▋                                      | 108894/500000 [03:06<11:10, 583.42it/s]"
     ]
    },
    {
     "name": "stdout",
     "output_type": "stream",
     "text": [
      "['PRO_16724', 'PRO_22828']\n"
     ]
    },
    {
     "name": "stderr",
     "output_type": "stream",
     "text": [
      " 22%|██████████▊                                      | 109820/500000 [03:08<10:32, 617.02it/s]"
     ]
    },
    {
     "name": "stdout",
     "output_type": "stream",
     "text": [
      "['PRO_18150', 'PRO_10000']\n"
     ]
    },
    {
     "name": "stderr",
     "output_type": "stream",
     "text": [
      " 22%|██████████▉                                      | 112110/500000 [03:11<10:32, 613.67it/s]"
     ]
    },
    {
     "name": "stdout",
     "output_type": "stream",
     "text": [
      "['PRO_15453', 'PRO_14895']\n",
      "['PRO_18651', 'PRO_12198']\n",
      "['PRO_20704', 'PRO_2666']\n"
     ]
    },
    {
     "name": "stderr",
     "output_type": "stream",
     "text": [
      " 23%|███████████                                      | 113293/500000 [03:13<10:26, 616.95it/s]"
     ]
    },
    {
     "name": "stdout",
     "output_type": "stream",
     "text": [
      "['PRO_10658', 'PRO_12072']\n"
     ]
    },
    {
     "name": "stderr",
     "output_type": "stream",
     "text": [
      " 23%|███████████▏                                     | 114217/500000 [03:15<10:40, 601.99it/s]"
     ]
    },
    {
     "name": "stdout",
     "output_type": "stream",
     "text": [
      "['PRO_2530', 'PRO_19101']\n"
     ]
    },
    {
     "name": "stderr",
     "output_type": "stream",
     "text": [
      " 23%|███████████▏                                     | 114585/500000 [03:15<10:33, 608.81it/s]"
     ]
    },
    {
     "name": "stdout",
     "output_type": "stream",
     "text": [
      "['PRO_21249', 'PRO_10390']\n"
     ]
    },
    {
     "name": "stderr",
     "output_type": "stream",
     "text": [
      " 23%|███████████▎                                     | 115014/500000 [03:16<10:42, 599.39it/s]"
     ]
    },
    {
     "name": "stdout",
     "output_type": "stream",
     "text": [
      "['PRO_22598', 'PRO_16511']\n"
     ]
    },
    {
     "name": "stderr",
     "output_type": "stream",
     "text": [
      " 23%|███████████▍                                     | 116291/500000 [03:18<10:27, 611.08it/s]"
     ]
    },
    {
     "name": "stdout",
     "output_type": "stream",
     "text": [
      "['PRO_4185', 'PRO_10390']\n"
     ]
    },
    {
     "name": "stderr",
     "output_type": "stream",
     "text": [
      " 23%|███████████▌                                     | 117471/500000 [03:20<10:26, 610.59it/s]"
     ]
    },
    {
     "name": "stdout",
     "output_type": "stream",
     "text": [
      "['PRO_17083', 'PRO_3886']\n"
     ]
    },
    {
     "name": "stderr",
     "output_type": "stream",
     "text": [
      " 24%|███████████▋                                     | 118709/500000 [03:22<10:22, 612.50it/s]"
     ]
    },
    {
     "name": "stdout",
     "output_type": "stream",
     "text": [
      "['PRO_2589', 'PRO_20164']\n"
     ]
    },
    {
     "name": "stderr",
     "output_type": "stream",
     "text": [
      " 24%|███████████▋                                     | 119386/500000 [03:23<10:24, 609.22it/s]"
     ]
    },
    {
     "name": "stdout",
     "output_type": "stream",
     "text": [
      "['PRO_14132', 'PRO_16592']\n"
     ]
    },
    {
     "name": "stderr",
     "output_type": "stream",
     "text": [
      " 24%|███████████▋                                     | 119571/500000 [03:24<10:24, 608.98it/s]"
     ]
    },
    {
     "name": "stdout",
     "output_type": "stream",
     "text": [
      "['PRO_12296', 'PRO_20275']\n"
     ]
    },
    {
     "name": "stderr",
     "output_type": "stream",
     "text": [
      " 24%|███████████▊                                     | 120748/500000 [03:26<10:13, 618.32it/s]"
     ]
    },
    {
     "name": "stdout",
     "output_type": "stream",
     "text": [
      "['PRO_12994', 'PRO_1208']\n"
     ]
    },
    {
     "name": "stderr",
     "output_type": "stream",
     "text": [
      " 24%|███████████▊                                     | 120934/500000 [03:26<10:19, 611.92it/s]"
     ]
    },
    {
     "name": "stdout",
     "output_type": "stream",
     "text": [
      "['PRO_18140', 'PRO_3257']\n"
     ]
    },
    {
     "name": "stderr",
     "output_type": "stream",
     "text": [
      " 24%|███████████▉                                     | 121306/500000 [03:27<10:20, 610.15it/s]"
     ]
    },
    {
     "name": "stdout",
     "output_type": "stream",
     "text": [
      "['PRO_10754', 'PRO_13901']\n"
     ]
    },
    {
     "name": "stderr",
     "output_type": "stream",
     "text": [
      " 24%|███████████▉                                     | 122410/500000 [03:28<10:30, 598.84it/s]"
     ]
    },
    {
     "name": "stdout",
     "output_type": "stream",
     "text": [
      "['PRO_12281', 'PRO_13020']\n"
     ]
    },
    {
     "name": "stderr",
     "output_type": "stream",
     "text": [
      " 25%|████████████▏                                    | 124478/500000 [03:32<10:40, 586.61it/s]"
     ]
    },
    {
     "name": "stdout",
     "output_type": "stream",
     "text": [
      "['PRO_18835', 'PRO_16169']\n"
     ]
    },
    {
     "name": "stderr",
     "output_type": "stream",
     "text": [
      " 25%|████████████▎                                    | 125086/500000 [03:33<10:23, 601.70it/s]"
     ]
    },
    {
     "name": "stdout",
     "output_type": "stream",
     "text": [
      "['PRO_18269', 'PRO_23063']\n"
     ]
    },
    {
     "name": "stderr",
     "output_type": "stream",
     "text": [
      " 25%|████████████▎                                    | 126218/500000 [03:35<10:39, 584.09it/s]"
     ]
    },
    {
     "name": "stdout",
     "output_type": "stream",
     "text": [
      "['PRO_13420', 'PRO_2946']\n"
     ]
    },
    {
     "name": "stderr",
     "output_type": "stream",
     "text": [
      " 25%|████████████▍                                    | 126633/500000 [03:36<10:34, 588.69it/s]"
     ]
    },
    {
     "name": "stdout",
     "output_type": "stream",
     "text": [
      "['PRO_23038', 'PRO_13252']\n"
     ]
    },
    {
     "name": "stderr",
     "output_type": "stream",
     "text": [
      " 26%|████████████▌                                    | 127645/500000 [03:37<10:16, 603.91it/s]"
     ]
    },
    {
     "name": "stdout",
     "output_type": "stream",
     "text": [
      "['PRO_22203', 'PRO_23243']\n",
      "['PRO_21407', 'PRO_3603']\n"
     ]
    },
    {
     "name": "stderr",
     "output_type": "stream",
     "text": [
      " 26%|████████████▌                                    | 128258/500000 [03:38<10:15, 603.89it/s]"
     ]
    },
    {
     "name": "stdout",
     "output_type": "stream",
     "text": [
      "['PRO_3315', 'PRO_21935']\n"
     ]
    },
    {
     "name": "stderr",
     "output_type": "stream",
     "text": [
      " 26%|████████████▊                                    | 130432/500000 [03:42<11:37, 529.56it/s]"
     ]
    },
    {
     "name": "stdout",
     "output_type": "stream",
     "text": [
      "['PRO_1393', 'PRO_17304']\n"
     ]
    },
    {
     "name": "stderr",
     "output_type": "stream",
     "text": [
      " 26%|████████████▊                                    | 130854/500000 [03:43<12:10, 505.22it/s]"
     ]
    },
    {
     "name": "stdout",
     "output_type": "stream",
     "text": [
      "['PRO_13928', 'PRO_13024']\n"
     ]
    },
    {
     "name": "stderr",
     "output_type": "stream",
     "text": [
      " 26%|████████████▊                                    | 131036/500000 [03:43<10:47, 569.71it/s]"
     ]
    },
    {
     "name": "stdout",
     "output_type": "stream",
     "text": [
      "['PRO_1398', 'PRO_16724']\n"
     ]
    },
    {
     "name": "stderr",
     "output_type": "stream",
     "text": [
      " 27%|█████████████                                    | 132681/500000 [03:46<10:03, 608.69it/s]"
     ]
    },
    {
     "name": "stdout",
     "output_type": "stream",
     "text": [
      "['PRO_20469', 'PRO_17975']\n"
     ]
    },
    {
     "name": "stderr",
     "output_type": "stream",
     "text": [
      " 27%|█████████████                                    | 133733/500000 [03:48<09:54, 615.91it/s]"
     ]
    },
    {
     "name": "stdout",
     "output_type": "stream",
     "text": [
      "['PRO_11569', 'PRO_15012']\n",
      "['PRO_19427', 'PRO_13707']\n"
     ]
    },
    {
     "name": "stderr",
     "output_type": "stream",
     "text": [
      " 27%|█████████████▎                                   | 135654/500000 [03:51<10:06, 601.19it/s]"
     ]
    },
    {
     "name": "stdout",
     "output_type": "stream",
     "text": [
      "['PRO_16131', 'PRO_19389']\n"
     ]
    },
    {
     "name": "stderr",
     "output_type": "stream",
     "text": [
      " 27%|█████████████▍                                   | 137327/500000 [03:54<11:28, 526.53it/s]"
     ]
    },
    {
     "name": "stdout",
     "output_type": "stream",
     "text": [
      "['PRO_20539', 'PRO_1625']\n",
      "['PRO_14468', 'PRO_15570']\n"
     ]
    },
    {
     "name": "stderr",
     "output_type": "stream",
     "text": [
      " 28%|█████████████▌                                   | 137830/500000 [03:55<11:37, 518.88it/s]"
     ]
    },
    {
     "name": "stdout",
     "output_type": "stream",
     "text": [
      "['PRO_17115', 'PRO_18497']\n"
     ]
    },
    {
     "name": "stderr",
     "output_type": "stream",
     "text": [
      " 28%|█████████████▌                                   | 138016/500000 [03:56<10:24, 579.93it/s]"
     ]
    },
    {
     "name": "stdout",
     "output_type": "stream",
     "text": [
      "['PRO_21040', 'PRO_12061']\n"
     ]
    },
    {
     "name": "stderr",
     "output_type": "stream",
     "text": [
      " 28%|█████████████▌                                   | 138755/500000 [03:57<09:51, 610.84it/s]"
     ]
    },
    {
     "name": "stdout",
     "output_type": "stream",
     "text": [
      "['PRO_19427', 'PRO_21148']\n"
     ]
    },
    {
     "name": "stderr",
     "output_type": "stream",
     "text": [
      " 28%|█████████████▊                                   | 140604/500000 [04:00<09:47, 611.49it/s]"
     ]
    },
    {
     "name": "stdout",
     "output_type": "stream",
     "text": [
      "['PRO_14481', 'PRO_13362']\n"
     ]
    },
    {
     "name": "stderr",
     "output_type": "stream",
     "text": [
      " 28%|█████████████▊                                   | 141157/500000 [04:01<10:01, 596.83it/s]"
     ]
    },
    {
     "name": "stdout",
     "output_type": "stream",
     "text": [
      "['PRO_12277', 'PRO_11333']\n"
     ]
    },
    {
     "name": "stderr",
     "output_type": "stream",
     "text": [
      " 28%|█████████████▉                                   | 141643/500000 [04:02<09:52, 604.91it/s]"
     ]
    },
    {
     "name": "stdout",
     "output_type": "stream",
     "text": [
      "['PRO_1398', 'PRO_4704']\n"
     ]
    },
    {
     "name": "stderr",
     "output_type": "stream",
     "text": [
      " 28%|█████████████▉                                   | 142188/500000 [04:03<10:27, 570.12it/s]"
     ]
    },
    {
     "name": "stdout",
     "output_type": "stream",
     "text": [
      "['PRO_10225', 'PRO_21330']\n"
     ]
    },
    {
     "name": "stderr",
     "output_type": "stream",
     "text": [
      " 29%|█████████████▉                                   | 142741/500000 [04:03<09:42, 613.68it/s]"
     ]
    },
    {
     "name": "stdout",
     "output_type": "stream",
     "text": [
      "['PRO_4538', 'PRO_21917']\n"
     ]
    },
    {
     "name": "stderr",
     "output_type": "stream",
     "text": [
      " 29%|██████████████                                   | 143176/500000 [04:04<09:38, 616.86it/s]"
     ]
    },
    {
     "name": "stdout",
     "output_type": "stream",
     "text": [
      "['PRO_19624', 'PRO_1106']\n"
     ]
    },
    {
     "name": "stderr",
     "output_type": "stream",
     "text": [
      " 29%|██████████████                                   | 143670/500000 [04:05<10:26, 569.14it/s]"
     ]
    },
    {
     "name": "stdout",
     "output_type": "stream",
     "text": [
      "['PRO_15733', 'PRO_13730']\n"
     ]
    },
    {
     "name": "stderr",
     "output_type": "stream",
     "text": [
      " 29%|██████████████▏                                  | 144396/500000 [04:06<09:44, 608.33it/s]"
     ]
    },
    {
     "name": "stdout",
     "output_type": "stream",
     "text": [
      "['PRO_18435', 'PRO_18924']\n"
     ]
    },
    {
     "name": "stderr",
     "output_type": "stream",
     "text": [
      " 29%|██████████████▎                                  | 145753/500000 [04:08<09:57, 592.98it/s]"
     ]
    },
    {
     "name": "stdout",
     "output_type": "stream",
     "text": [
      "['PRO_14901', 'PRO_1955']\n",
      "['PRO_17880', 'PRO_13221']\n"
     ]
    },
    {
     "name": "stderr",
     "output_type": "stream",
     "text": [
      " 29%|██████████████▎                                  | 146060/500000 [04:09<09:49, 600.71it/s]"
     ]
    },
    {
     "name": "stdout",
     "output_type": "stream",
     "text": [
      "['PRO_2241', 'PRO_4626']\n"
     ]
    },
    {
     "name": "stderr",
     "output_type": "stream",
     "text": [
      " 29%|██████████████▎                                  | 146368/500000 [04:09<09:51, 598.15it/s]"
     ]
    },
    {
     "name": "stdout",
     "output_type": "stream",
     "text": [
      "['PRO_21423', 'PRO_18924']\n"
     ]
    },
    {
     "name": "stderr",
     "output_type": "stream",
     "text": [
      " 29%|██████████████▍                                  | 146920/500000 [04:10<09:35, 613.26it/s]"
     ]
    },
    {
     "name": "stdout",
     "output_type": "stream",
     "text": [
      "['PRO_16701', 'PRO_17017']\n"
     ]
    },
    {
     "name": "stderr",
     "output_type": "stream",
     "text": [
      " 30%|██████████████▍                                  | 147672/500000 [04:12<09:34, 612.76it/s]"
     ]
    },
    {
     "name": "stdout",
     "output_type": "stream",
     "text": [
      "['PRO_11440', 'PRO_11571']\n"
     ]
    },
    {
     "name": "stderr",
     "output_type": "stream",
     "text": [
      " 30%|██████████████▍                                  | 147851/500000 [04:12<10:43, 546.90it/s]"
     ]
    },
    {
     "name": "stdout",
     "output_type": "stream",
     "text": [
      "['PRO_12824', 'PRO_23038']\n",
      "['PRO_3768', 'PRO_12000']\n"
     ]
    },
    {
     "name": "stderr",
     "output_type": "stream",
     "text": [
      " 30%|██████████████▋                                  | 149395/500000 [04:15<09:34, 610.30it/s]"
     ]
    },
    {
     "name": "stdout",
     "output_type": "stream",
     "text": [
      "['PRO_18793', 'PRO_19412']\n"
     ]
    },
    {
     "name": "stderr",
     "output_type": "stream",
     "text": [
      " 30%|██████████████▋                                  | 150143/500000 [04:16<09:27, 616.18it/s]"
     ]
    },
    {
     "name": "stdout",
     "output_type": "stream",
     "text": [
      "['PRO_14294', 'PRO_12532']\n"
     ]
    },
    {
     "name": "stderr",
     "output_type": "stream",
     "text": [
      " 31%|██████████████▉                                  | 152502/500000 [04:20<09:47, 591.16it/s]"
     ]
    },
    {
     "name": "stdout",
     "output_type": "stream",
     "text": [
      "['PRO_17017', 'PRO_18162']\n"
     ]
    },
    {
     "name": "stderr",
     "output_type": "stream",
     "text": [
      " 31%|██████████████▉                                  | 152837/500000 [04:20<11:05, 521.83it/s]"
     ]
    },
    {
     "name": "stdout",
     "output_type": "stream",
     "text": [
      "['PRO_13525', 'PRO_20619']\n"
     ]
    },
    {
     "name": "stderr",
     "output_type": "stream",
     "text": [
      " 31%|███████████████                                  | 153260/500000 [04:21<11:28, 503.84it/s]"
     ]
    },
    {
     "name": "stdout",
     "output_type": "stream",
     "text": [
      "['PRO_1182', 'PRO_22947']\n"
     ]
    },
    {
     "name": "stderr",
     "output_type": "stream",
     "text": [
      " 31%|███████████████▏                                 | 154390/500000 [04:24<12:30, 460.60it/s]"
     ]
    },
    {
     "name": "stdout",
     "output_type": "stream",
     "text": [
      "['PRO_14608', 'PRO_13927']\n"
     ]
    },
    {
     "name": "stderr",
     "output_type": "stream",
     "text": [
      " 31%|███████████████▏                                 | 154803/500000 [04:24<12:00, 479.25it/s]"
     ]
    },
    {
     "name": "stdout",
     "output_type": "stream",
     "text": [
      "['PRO_14608', 'PRO_21126']\n"
     ]
    },
    {
     "name": "stderr",
     "output_type": "stream",
     "text": [
      " 31%|███████████████▎                                 | 156012/500000 [04:27<11:11, 512.01it/s]"
     ]
    },
    {
     "name": "stdout",
     "output_type": "stream",
     "text": [
      "['PRO_12824', 'PRO_23038']\n"
     ]
    },
    {
     "name": "stderr",
     "output_type": "stream",
     "text": [
      " 32%|███████████████▌                                 | 158487/500000 [04:31<09:19, 610.55it/s]"
     ]
    },
    {
     "name": "stdout",
     "output_type": "stream",
     "text": [
      "['PRO_10930', 'PRO_20364']\n",
      "['PRO_15454', 'PRO_11129']\n"
     ]
    },
    {
     "name": "stderr",
     "output_type": "stream",
     "text": [
      " 32%|███████████████▌                                 | 158672/500000 [04:31<09:27, 601.44it/s]"
     ]
    },
    {
     "name": "stdout",
     "output_type": "stream",
     "text": [
      "['PRO_17814', 'PRO_4293']\n"
     ]
    },
    {
     "name": "stderr",
     "output_type": "stream",
     "text": [
      " 33%|███████████████▉                                 | 162845/500000 [04:39<09:13, 609.42it/s]"
     ]
    },
    {
     "name": "stdout",
     "output_type": "stream",
     "text": [
      "['PRO_3662', 'PRO_14049']\n"
     ]
    },
    {
     "name": "stderr",
     "output_type": "stream",
     "text": [
      " 33%|████████████████                                 | 164088/500000 [04:41<09:03, 618.40it/s]"
     ]
    },
    {
     "name": "stdout",
     "output_type": "stream",
     "text": [
      "['PRO_2078', 'PRO_18967']\n"
     ]
    },
    {
     "name": "stderr",
     "output_type": "stream",
     "text": [
      " 33%|████████████████▏                                | 165129/500000 [04:43<09:23, 593.76it/s]"
     ]
    },
    {
     "name": "stdout",
     "output_type": "stream",
     "text": [
      "['PRO_15145', 'PRO_4229']\n"
     ]
    },
    {
     "name": "stderr",
     "output_type": "stream",
     "text": [
      " 33%|████████████████▏                                | 165307/500000 [04:43<10:28, 532.31it/s]"
     ]
    },
    {
     "name": "stdout",
     "output_type": "stream",
     "text": [
      "['PRO_18429', 'PRO_14178']\n"
     ]
    },
    {
     "name": "stderr",
     "output_type": "stream",
     "text": [
      " 33%|████████████████▎                                | 166163/500000 [04:45<09:09, 607.76it/s]"
     ]
    },
    {
     "name": "stdout",
     "output_type": "stream",
     "text": [
      "['PRO_10757', 'PRO_20414']\n"
     ]
    },
    {
     "name": "stderr",
     "output_type": "stream",
     "text": [
      " 33%|████████████████▎                                | 166774/500000 [04:46<09:11, 604.57it/s]"
     ]
    },
    {
     "name": "stdout",
     "output_type": "stream",
     "text": [
      "['PRO_20576', 'PRO_17631']\n"
     ]
    },
    {
     "name": "stderr",
     "output_type": "stream",
     "text": [
      " 34%|████████████████▍                                | 167704/500000 [04:47<08:57, 618.58it/s]"
     ]
    },
    {
     "name": "stdout",
     "output_type": "stream",
     "text": [
      "['PRO_18916', 'PRO_13964']\n"
     ]
    },
    {
     "name": "stderr",
     "output_type": "stream",
     "text": [
      " 34%|████████████████▌                                | 168511/500000 [04:49<08:58, 615.58it/s]"
     ]
    },
    {
     "name": "stdout",
     "output_type": "stream",
     "text": [
      "['PRO_4704', 'PRO_17975']\n"
     ]
    },
    {
     "name": "stderr",
     "output_type": "stream",
     "text": [
      " 34%|████████████████▋                                | 170005/500000 [04:51<08:53, 618.62it/s]"
     ]
    },
    {
     "name": "stdout",
     "output_type": "stream",
     "text": [
      "['PRO_10757', 'PRO_18826']\n"
     ]
    },
    {
     "name": "stderr",
     "output_type": "stream",
     "text": [
      " 34%|████████████████▋                                | 170563/500000 [04:52<09:13, 594.77it/s]"
     ]
    },
    {
     "name": "stdout",
     "output_type": "stream",
     "text": [
      "['PRO_14059', 'PRO_10479']\n"
     ]
    },
    {
     "name": "stderr",
     "output_type": "stream",
     "text": [
      " 34%|████████████████▊                                | 171587/500000 [04:54<09:07, 599.71it/s]"
     ]
    },
    {
     "name": "stdout",
     "output_type": "stream",
     "text": [
      "['PRO_20052', 'PRO_3748']\n",
      "['PRO_19455', 'PRO_20231']\n"
     ]
    },
    {
     "name": "stderr",
     "output_type": "stream",
     "text": [
      " 34%|████████████████▉                                | 172450/500000 [04:55<08:51, 616.36it/s]"
     ]
    },
    {
     "name": "stdout",
     "output_type": "stream",
     "text": [
      "['PRO_3275', 'PRO_20919']\n"
     ]
    },
    {
     "name": "stderr",
     "output_type": "stream",
     "text": [
      " 35%|████████████████▉                                | 172881/500000 [04:56<09:00, 605.04it/s]"
     ]
    },
    {
     "name": "stdout",
     "output_type": "stream",
     "text": [
      "['PRO_1665', 'PRO_18774']\n"
     ]
    },
    {
     "name": "stderr",
     "output_type": "stream",
     "text": [
      " 35%|████████████████▉                                | 173373/500000 [04:57<08:55, 610.22it/s]"
     ]
    },
    {
     "name": "stdout",
     "output_type": "stream",
     "text": [
      "['PRO_10622', 'PRO_11295']\n"
     ]
    },
    {
     "name": "stderr",
     "output_type": "stream",
     "text": [
      " 35%|█████████████████                                | 173925/500000 [04:58<08:59, 604.52it/s]"
     ]
    },
    {
     "name": "stdout",
     "output_type": "stream",
     "text": [
      "['PRO_10465', 'PRO_21249']\n"
     ]
    },
    {
     "name": "stderr",
     "output_type": "stream",
     "text": [
      " 35%|█████████████████                                | 174723/500000 [04:59<08:53, 609.50it/s]"
     ]
    },
    {
     "name": "stdout",
     "output_type": "stream",
     "text": [
      "['PRO_11252', 'PRO_3275']\n"
     ]
    },
    {
     "name": "stderr",
     "output_type": "stream",
     "text": [
      " 35%|█████████████████▏                               | 175458/500000 [05:00<08:56, 604.43it/s]"
     ]
    },
    {
     "name": "stdout",
     "output_type": "stream",
     "text": [
      "['PRO_21106', 'PRO_12244']\n"
     ]
    },
    {
     "name": "stderr",
     "output_type": "stream",
     "text": [
      " 35%|█████████████████▎                               | 176932/500000 [05:03<09:01, 597.10it/s]"
     ]
    },
    {
     "name": "stdout",
     "output_type": "stream",
     "text": [
      "['PRO_20477', 'PRO_21444']\n"
     ]
    },
    {
     "name": "stderr",
     "output_type": "stream",
     "text": [
      " 36%|█████████████████▍                               | 178275/500000 [05:05<08:52, 604.62it/s]"
     ]
    },
    {
     "name": "stdout",
     "output_type": "stream",
     "text": [
      "['PRO_19494', 'PRO_21444']\n"
     ]
    },
    {
     "name": "stderr",
     "output_type": "stream",
     "text": [
      " 36%|█████████████████▌                               | 179384/500000 [05:07<08:47, 608.17it/s]"
     ]
    },
    {
     "name": "stdout",
     "output_type": "stream",
     "text": [
      "['PRO_22623', 'PRO_20268']\n"
     ]
    },
    {
     "name": "stderr",
     "output_type": "stream",
     "text": [
      " 36%|█████████████████▌                               | 179628/500000 [05:07<08:50, 603.81it/s]"
     ]
    },
    {
     "name": "stdout",
     "output_type": "stream",
     "text": [
      "['PRO_14600', 'PRO_23076']\n"
     ]
    },
    {
     "name": "stderr",
     "output_type": "stream",
     "text": [
      " 36%|█████████████████▋                               | 179998/500000 [05:08<08:45, 609.31it/s]"
     ]
    },
    {
     "name": "stdout",
     "output_type": "stream",
     "text": [
      "['PRO_2205', 'PRO_22118']\n"
     ]
    },
    {
     "name": "stderr",
     "output_type": "stream",
     "text": [
      " 36%|█████████████████▋                               | 180734/500000 [05:09<08:46, 606.58it/s]"
     ]
    },
    {
     "name": "stdout",
     "output_type": "stream",
     "text": [
      "['PRO_11709', 'PRO_18540']\n"
     ]
    },
    {
     "name": "stderr",
     "output_type": "stream",
     "text": [
      " 36%|█████████████████▊                               | 181780/500000 [05:11<08:42, 608.74it/s]"
     ]
    },
    {
     "name": "stdout",
     "output_type": "stream",
     "text": [
      "['PRO_22345', 'PRO_14641']\n"
     ]
    },
    {
     "name": "stderr",
     "output_type": "stream",
     "text": [
      " 36%|█████████████████▊                               | 182029/500000 [05:11<08:40, 611.20it/s]"
     ]
    },
    {
     "name": "stdout",
     "output_type": "stream",
     "text": [
      "['PRO_1701', 'PRO_3358']\n",
      "['PRO_13217', 'PRO_18497']\n"
     ]
    },
    {
     "name": "stderr",
     "output_type": "stream",
     "text": [
      " 36%|█████████████████▊                               | 182341/500000 [05:12<08:39, 611.56it/s]"
     ]
    },
    {
     "name": "stdout",
     "output_type": "stream",
     "text": [
      "['PRO_15691', 'PRO_13779']\n"
     ]
    },
    {
     "name": "stderr",
     "output_type": "stream",
     "text": [
      " 37%|██████████████████▎                              | 186782/500000 [05:19<09:09, 570.10it/s]"
     ]
    },
    {
     "name": "stdout",
     "output_type": "stream",
     "text": [
      "['PRO_19900', 'PRO_11118']\n",
      "['PRO_20943', 'PRO_13335']\n"
     ]
    },
    {
     "name": "stderr",
     "output_type": "stream",
     "text": [
      " 38%|██████████████████▍                              | 188020/500000 [05:21<08:26, 616.00it/s]"
     ]
    },
    {
     "name": "stdout",
     "output_type": "stream",
     "text": [
      "['PRO_15580', 'PRO_3526']\n"
     ]
    },
    {
     "name": "stderr",
     "output_type": "stream",
     "text": [
      " 38%|██████████████████▍                              | 188458/500000 [05:22<08:22, 619.78it/s]"
     ]
    },
    {
     "name": "stdout",
     "output_type": "stream",
     "text": [
      "['PRO_18078', 'PRO_14659']\n",
      "['PRO_21040', 'PRO_15322']\n"
     ]
    },
    {
     "name": "stderr",
     "output_type": "stream",
     "text": [
      " 38%|██████████████████▍                              | 188645/500000 [05:22<08:23, 618.91it/s]"
     ]
    },
    {
     "name": "stdout",
     "output_type": "stream",
     "text": [
      "['PRO_18376', 'PRO_2666']\n",
      "['PRO_14267', 'PRO_1783']\n"
     ]
    },
    {
     "name": "stderr",
     "output_type": "stream",
     "text": [
      " 38%|██████████████████▌                              | 188956/500000 [05:22<08:30, 609.64it/s]"
     ]
    },
    {
     "name": "stdout",
     "output_type": "stream",
     "text": [
      "['PRO_1067', 'PRO_2854']\n",
      "['PRO_16756', 'PRO_2029']\n"
     ]
    },
    {
     "name": "stderr",
     "output_type": "stream",
     "text": [
      " 38%|██████████████████▋                              | 190080/500000 [05:24<08:22, 617.14it/s]"
     ]
    },
    {
     "name": "stdout",
     "output_type": "stream",
     "text": [
      "['PRO_21148', 'PRO_17598']\n"
     ]
    },
    {
     "name": "stderr",
     "output_type": "stream",
     "text": [
      " 38%|██████████████████▊                              | 191686/500000 [05:27<08:39, 593.15it/s]"
     ]
    },
    {
     "name": "stdout",
     "output_type": "stream",
     "text": [
      "['PRO_23186', 'PRO_422']\n"
     ]
    },
    {
     "name": "stderr",
     "output_type": "stream",
     "text": [
      " 39%|██████████████████▉                              | 192733/500000 [05:29<08:22, 611.82it/s]"
     ]
    },
    {
     "name": "stdout",
     "output_type": "stream",
     "text": [
      "['PRO_21973', 'PRO_2666']\n"
     ]
    },
    {
     "name": "stderr",
     "output_type": "stream",
     "text": [
      " 39%|██████████████████▉                              | 193656/500000 [05:30<08:29, 600.82it/s]"
     ]
    },
    {
     "name": "stdout",
     "output_type": "stream",
     "text": [
      "['PRO_2338', 'PRO_4454']\n",
      "['PRO_13449', 'PRO_2273']\n"
     ]
    },
    {
     "name": "stderr",
     "output_type": "stream",
     "text": [
      " 39%|███████████████████                              | 194831/500000 [05:32<08:17, 613.84it/s]"
     ]
    },
    {
     "name": "stdout",
     "output_type": "stream",
     "text": [
      "['PRO_21538', 'PRO_18786']\n"
     ]
    },
    {
     "name": "stderr",
     "output_type": "stream",
     "text": [
      " 39%|███████████████████▎                             | 196933/500000 [05:36<08:17, 609.36it/s]"
     ]
    },
    {
     "name": "stdout",
     "output_type": "stream",
     "text": [
      "['PRO_21106', 'PRO_19581']\n"
     ]
    },
    {
     "name": "stderr",
     "output_type": "stream",
     "text": [
      " 40%|███████████████████▍                             | 198293/500000 [05:38<08:34, 586.55it/s]"
     ]
    },
    {
     "name": "stdout",
     "output_type": "stream",
     "text": [
      "['PRO_12765', 'PRO_1625']\n",
      "['PRO_10634', 'PRO_19215']\n"
     ]
    },
    {
     "name": "stderr",
     "output_type": "stream",
     "text": [
      " 40%|███████████████████▍                             | 198536/500000 [05:38<08:24, 597.91it/s]"
     ]
    },
    {
     "name": "stdout",
     "output_type": "stream",
     "text": [
      "['PRO_18036', 'PRO_13025']\n"
     ]
    },
    {
     "name": "stderr",
     "output_type": "stream",
     "text": [
      " 40%|███████████████████▌                             | 200143/500000 [05:41<08:04, 619.14it/s]"
     ]
    },
    {
     "name": "stdout",
     "output_type": "stream",
     "text": [
      "['PRO_16724', 'PRO_11835']\n"
     ]
    },
    {
     "name": "stderr",
     "output_type": "stream",
     "text": [
      " 40%|███████████████████▊                             | 202450/500000 [05:45<08:02, 616.44it/s]"
     ]
    },
    {
     "name": "stdout",
     "output_type": "stream",
     "text": [
      "['PRO_12754', 'PRO_16398']\n",
      "['PRO_10352', 'PRO_3662']\n"
     ]
    },
    {
     "name": "stderr",
     "output_type": "stream",
     "text": [
      " 41%|███████████████████▉                             | 203821/500000 [05:47<08:00, 616.70it/s]"
     ]
    },
    {
     "name": "stdout",
     "output_type": "stream",
     "text": [
      "['PRO_2695', 'PRO_366']\n"
     ]
    },
    {
     "name": "stderr",
     "output_type": "stream",
     "text": [
      " 41%|████████████████████                             | 204820/500000 [05:48<07:57, 617.77it/s]"
     ]
    },
    {
     "name": "stdout",
     "output_type": "stream",
     "text": [
      "['PRO_22901', 'PRO_4185']\n"
     ]
    },
    {
     "name": "stderr",
     "output_type": "stream",
     "text": [
      " 41%|████████████████████                             | 204944/500000 [05:49<07:59, 615.15it/s]"
     ]
    },
    {
     "name": "stdout",
     "output_type": "stream",
     "text": [
      "['PRO_13308', 'PRO_11598']\n"
     ]
    },
    {
     "name": "stderr",
     "output_type": "stream",
     "text": [
      " 41%|████████████████████▏                            | 205686/500000 [05:50<08:02, 609.74it/s]"
     ]
    },
    {
     "name": "stdout",
     "output_type": "stream",
     "text": [
      "['PRO_2185', 'PRO_16054']\n"
     ]
    },
    {
     "name": "stderr",
     "output_type": "stream",
     "text": [
      " 41%|████████████████████▎                            | 207167/500000 [05:52<08:08, 599.95it/s]"
     ]
    },
    {
     "name": "stdout",
     "output_type": "stream",
     "text": [
      "['PRO_3016', 'PRO_11118']\n"
     ]
    },
    {
     "name": "stderr",
     "output_type": "stream",
     "text": [
      " 42%|████████████████████▎                            | 207601/500000 [05:53<07:54, 616.08it/s]"
     ]
    },
    {
     "name": "stdout",
     "output_type": "stream",
     "text": [
      "['PRO_18035', 'PRO_13628']\n"
     ]
    },
    {
     "name": "stderr",
     "output_type": "stream",
     "text": [
      " 42%|████████████████████▎                            | 207787/500000 [05:53<07:55, 614.72it/s]"
     ]
    },
    {
     "name": "stdout",
     "output_type": "stream",
     "text": [
      "['PRO_2946', 'PRO_18967']\n"
     ]
    },
    {
     "name": "stderr",
     "output_type": "stream",
     "text": [
      " 42%|████████████████████▍                            | 208410/500000 [05:54<07:56, 611.78it/s]"
     ]
    },
    {
     "name": "stdout",
     "output_type": "stream",
     "text": [
      "['PRO_17302', 'PRO_2922']\n"
     ]
    },
    {
     "name": "stderr",
     "output_type": "stream",
     "text": [
      " 42%|████████████████████▍                            | 208596/500000 [05:55<08:07, 598.26it/s]"
     ]
    },
    {
     "name": "stdout",
     "output_type": "stream",
     "text": [
      "['PRO_3050', 'PRO_21056']\n"
     ]
    },
    {
     "name": "stderr",
     "output_type": "stream",
     "text": [
      " 42%|████████████████████▌                            | 209454/500000 [05:56<08:03, 600.42it/s]"
     ]
    },
    {
     "name": "stdout",
     "output_type": "stream",
     "text": [
      "['PRO_19581', 'PRO_18140']\n"
     ]
    },
    {
     "name": "stderr",
     "output_type": "stream",
     "text": [
      " 42%|████████████████████▌                            | 209945/500000 [05:57<07:59, 605.28it/s]"
     ]
    },
    {
     "name": "stdout",
     "output_type": "stream",
     "text": [
      "['PRO_12267', 'PRO_3052']\n"
     ]
    },
    {
     "name": "stderr",
     "output_type": "stream",
     "text": [
      " 42%|████████████████████▊                            | 212418/500000 [06:01<07:48, 613.87it/s]"
     ]
    },
    {
     "name": "stdout",
     "output_type": "stream",
     "text": [
      "['PRO_22194', 'PRO_20373']\n"
     ]
    },
    {
     "name": "stderr",
     "output_type": "stream",
     "text": [
      " 43%|████████████████████▉                            | 213352/500000 [06:02<07:44, 616.71it/s]"
     ]
    },
    {
     "name": "stdout",
     "output_type": "stream",
     "text": [
      "['PRO_3267', 'PRO_10190']\n"
     ]
    },
    {
     "name": "stderr",
     "output_type": "stream",
     "text": [
      " 43%|████████████████████▉                            | 214094/500000 [06:04<07:46, 612.64it/s]"
     ]
    },
    {
     "name": "stdout",
     "output_type": "stream",
     "text": [
      "['PRO_21954', 'PRO_16145']\n",
      "['PRO_22330', 'PRO_16596']\n"
     ]
    },
    {
     "name": "stderr",
     "output_type": "stream",
     "text": [
      " 43%|█████████████████████                            | 214341/500000 [06:04<07:49, 608.22it/s]"
     ]
    },
    {
     "name": "stdout",
     "output_type": "stream",
     "text": [
      "['PRO_16595', 'PRO_17545']\n"
     ]
    },
    {
     "name": "stderr",
     "output_type": "stream",
     "text": [
      " 43%|█████████████████████                            | 215157/500000 [06:06<08:06, 585.49it/s]"
     ]
    },
    {
     "name": "stdout",
     "output_type": "stream",
     "text": [
      "['PRO_2186', 'PRO_2982']\n"
     ]
    },
    {
     "name": "stderr",
     "output_type": "stream",
     "text": [
      " 44%|█████████████████████▌                           | 220075/500000 [06:14<07:31, 620.43it/s]"
     ]
    },
    {
     "name": "stdout",
     "output_type": "stream",
     "text": [
      "['PRO_13490', 'PRO_12532']\n"
     ]
    },
    {
     "name": "stderr",
     "output_type": "stream",
     "text": [
      " 44%|█████████████████████▊                           | 222121/500000 [06:17<07:33, 613.41it/s]"
     ]
    },
    {
     "name": "stdout",
     "output_type": "stream",
     "text": [
      "['PRO_4641', 'PRO_19955']\n"
     ]
    },
    {
     "name": "stderr",
     "output_type": "stream",
     "text": [
      " 45%|█████████████████████▊                           | 222677/500000 [06:18<07:38, 604.55it/s]"
     ]
    },
    {
     "name": "stdout",
     "output_type": "stream",
     "text": [
      "['PRO_10536', 'PRO_1302']\n"
     ]
    },
    {
     "name": "stderr",
     "output_type": "stream",
     "text": [
      " 45%|█████████████████████▉                           | 223349/500000 [06:19<07:34, 608.48it/s]"
     ]
    },
    {
     "name": "stdout",
     "output_type": "stream",
     "text": [
      "['PRO_15335', 'PRO_19215']\n",
      "['PRO_1385', 'PRO_15631']\n"
     ]
    },
    {
     "name": "stderr",
     "output_type": "stream",
     "text": [
      " 45%|██████████████████████                           | 225123/500000 [06:22<07:36, 602.40it/s]"
     ]
    },
    {
     "name": "stdout",
     "output_type": "stream",
     "text": [
      "['PRO_22738', 'PRO_14247']\n",
      "['PRO_20072', 'PRO_17115']\n"
     ]
    },
    {
     "name": "stderr",
     "output_type": "stream",
     "text": [
      " 45%|██████████████████████                           | 225613/500000 [06:23<07:31, 608.13it/s]"
     ]
    },
    {
     "name": "stdout",
     "output_type": "stream",
     "text": [
      "['PRO_16749', 'PRO_13014']\n"
     ]
    },
    {
     "name": "stderr",
     "output_type": "stream",
     "text": [
      " 45%|██████████████████████▏                          | 226358/500000 [06:24<07:28, 610.72it/s]"
     ]
    },
    {
     "name": "stdout",
     "output_type": "stream",
     "text": [
      "['PRO_14161', 'PRO_13525']\n"
     ]
    },
    {
     "name": "stderr",
     "output_type": "stream",
     "text": [
      " 45%|██████████████████████▎                          | 227102/500000 [06:25<07:24, 614.32it/s]"
     ]
    },
    {
     "name": "stdout",
     "output_type": "stream",
     "text": [
      "['PRO_3169', 'PRO_22566']\n"
     ]
    },
    {
     "name": "stderr",
     "output_type": "stream",
     "text": [
      " 45%|██████████████████████▎                          | 227226/500000 [06:26<07:28, 607.79it/s]"
     ]
    },
    {
     "name": "stdout",
     "output_type": "stream",
     "text": [
      "['PRO_1614', 'PRO_14659']\n"
     ]
    },
    {
     "name": "stderr",
     "output_type": "stream",
     "text": [
      " 46%|██████████████████████▍                          | 228956/500000 [06:28<07:19, 616.50it/s]"
     ]
    },
    {
     "name": "stdout",
     "output_type": "stream",
     "text": [
      "['PRO_21760', 'PRO_4100']\n"
     ]
    },
    {
     "name": "stderr",
     "output_type": "stream",
     "text": [
      " 46%|██████████████████████▍                          | 229142/500000 [06:29<07:21, 614.18it/s]"
     ]
    },
    {
     "name": "stdout",
     "output_type": "stream",
     "text": [
      "['PRO_21256', 'PRO_21126']\n"
     ]
    },
    {
     "name": "stderr",
     "output_type": "stream",
     "text": [
      " 46%|██████████████████████▍                          | 229328/500000 [06:29<07:25, 607.94it/s]"
     ]
    },
    {
     "name": "stdout",
     "output_type": "stream",
     "text": [
      "['PRO_18098', 'PRO_11440']\n"
     ]
    },
    {
     "name": "stderr",
     "output_type": "stream",
     "text": [
      " 46%|██████████████████████▌                          | 229820/500000 [06:30<07:25, 606.23it/s]"
     ]
    },
    {
     "name": "stdout",
     "output_type": "stream",
     "text": [
      "['PRO_21106', 'PRO_22345']\n"
     ]
    },
    {
     "name": "stderr",
     "output_type": "stream",
     "text": [
      " 46%|██████████████████████▌                          | 230192/500000 [06:30<07:23, 608.95it/s]"
     ]
    },
    {
     "name": "stdout",
     "output_type": "stream",
     "text": [
      "['PRO_12277', 'PRO_11963']\n",
      "['PRO_473', 'PRO_13204']\n"
     ]
    },
    {
     "name": "stderr",
     "output_type": "stream",
     "text": [
      " 46%|██████████████████████▌                          | 230621/500000 [06:31<07:24, 605.49it/s]"
     ]
    },
    {
     "name": "stdout",
     "output_type": "stream",
     "text": [
      "['PRO_21444', 'PRO_21670']\n"
     ]
    },
    {
     "name": "stderr",
     "output_type": "stream",
     "text": [
      " 46%|██████████████████████▋                          | 231801/500000 [06:33<07:17, 612.96it/s]"
     ]
    },
    {
     "name": "stdout",
     "output_type": "stream",
     "text": [
      "['PRO_21742', 'PRO_10056']\n",
      "['PRO_19827', 'PRO_19786']\n"
     ]
    },
    {
     "name": "stderr",
     "output_type": "stream",
     "text": [
      " 47%|██████████████████████▉                          | 234213/500000 [06:37<07:14, 612.07it/s]"
     ]
    },
    {
     "name": "stdout",
     "output_type": "stream",
     "text": [
      "['PRO_18559', 'PRO_2619']\n"
     ]
    },
    {
     "name": "stderr",
     "output_type": "stream",
     "text": [
      " 47%|███████████████████████                          | 235814/500000 [06:40<07:16, 605.04it/s]"
     ]
    },
    {
     "name": "stdout",
     "output_type": "stream",
     "text": [
      "['PRO_21916', 'PRO_11974']\n"
     ]
    },
    {
     "name": "stderr",
     "output_type": "stream",
     "text": [
      " 48%|███████████████████████▎                         | 237669/500000 [06:43<07:13, 605.30it/s]"
     ]
    },
    {
     "name": "stdout",
     "output_type": "stream",
     "text": [
      "['PRO_11376', 'PRO_20364']\n"
     ]
    },
    {
     "name": "stderr",
     "output_type": "stream",
     "text": [
      " 48%|███████████████████████▌                         | 240208/500000 [06:47<07:02, 614.93it/s]"
     ]
    },
    {
     "name": "stdout",
     "output_type": "stream",
     "text": [
      "['PRO_4621', 'PRO_17250']\n"
     ]
    },
    {
     "name": "stderr",
     "output_type": "stream",
     "text": [
      " 48%|███████████████████████▌                         | 240332/500000 [06:47<07:04, 611.47it/s]"
     ]
    },
    {
     "name": "stdout",
     "output_type": "stream",
     "text": [
      "['PRO_4185', 'PRO_18468']\n"
     ]
    },
    {
     "name": "stderr",
     "output_type": "stream",
     "text": [
      " 48%|███████████████████████▌                         | 240828/500000 [06:48<07:03, 612.42it/s]"
     ]
    },
    {
     "name": "stdout",
     "output_type": "stream",
     "text": [
      "['PRO_22596', 'PRO_14559']\n"
     ]
    },
    {
     "name": "stderr",
     "output_type": "stream",
     "text": [
      " 48%|███████████████████████▊                         | 242497/500000 [06:51<06:58, 614.63it/s]"
     ]
    },
    {
     "name": "stdout",
     "output_type": "stream",
     "text": [
      "['PRO_1836', 'PRO_21079']\n"
     ]
    },
    {
     "name": "stderr",
     "output_type": "stream",
     "text": [
      " 49%|███████████████████████▊                         | 243613/500000 [06:52<06:56, 615.57it/s]"
     ]
    },
    {
     "name": "stdout",
     "output_type": "stream",
     "text": [
      "['PRO_2556', 'PRO_19569']\n"
     ]
    },
    {
     "name": "stderr",
     "output_type": "stream",
     "text": [
      " 49%|███████████████████████▉                         | 243861/500000 [06:53<06:58, 611.84it/s]"
     ]
    },
    {
     "name": "stdout",
     "output_type": "stream",
     "text": [
      "['PRO_16215', 'PRO_23181']\n"
     ]
    },
    {
     "name": "stderr",
     "output_type": "stream",
     "text": [
      " 49%|███████████████████████▉                         | 244297/500000 [06:54<06:57, 612.67it/s]"
     ]
    },
    {
     "name": "stdout",
     "output_type": "stream",
     "text": [
      "['PRO_14032', 'PRO_17083']\n"
     ]
    },
    {
     "name": "stderr",
     "output_type": "stream",
     "text": [
      " 49%|████████████████████████                         | 245354/500000 [06:55<06:53, 616.52it/s]"
     ]
    },
    {
     "name": "stdout",
     "output_type": "stream",
     "text": [
      "['PRO_21704', 'PRO_17602']\n"
     ]
    },
    {
     "name": "stderr",
     "output_type": "stream",
     "text": [
      " 49%|████████████████████████▏                        | 246345/500000 [06:57<07:01, 601.77it/s]"
     ]
    },
    {
     "name": "stdout",
     "output_type": "stream",
     "text": [
      "['PRO_14766', 'PRO_21743']\n",
      "['PRO_18064', 'PRO_21154']\n"
     ]
    },
    {
     "name": "stderr",
     "output_type": "stream",
     "text": [
      " 50%|████████████████████████▎                        | 248692/500000 [07:01<06:50, 612.23it/s]"
     ]
    },
    {
     "name": "stdout",
     "output_type": "stream",
     "text": [
      "['PRO_20759', 'PRO_21154']\n",
      "['PRO_13420', 'PRO_11884']\n"
     ]
    },
    {
     "name": "stderr",
     "output_type": "stream",
     "text": [
      " 50%|████████████████████████▍                        | 248816/500000 [07:01<06:51, 610.50it/s]"
     ]
    },
    {
     "name": "stdout",
     "output_type": "stream",
     "text": [
      "['PRO_22313', 'PRO_1067']\n",
      "['PRO_1170', 'PRO_2103']\n"
     ]
    },
    {
     "name": "stderr",
     "output_type": "stream",
     "text": [
      " 50%|████████████████████████▌                        | 250367/500000 [07:03<06:49, 610.30it/s]"
     ]
    },
    {
     "name": "stdout",
     "output_type": "stream",
     "text": [
      "['PRO_1309', 'PRO_2022']\n"
     ]
    },
    {
     "name": "stderr",
     "output_type": "stream",
     "text": [
      " 50%|████████████████████████▌                        | 251239/500000 [07:05<06:43, 615.95it/s]"
     ]
    },
    {
     "name": "stdout",
     "output_type": "stream",
     "text": [
      "['PRO_10615', 'PRO_1367']\n"
     ]
    },
    {
     "name": "stderr",
     "output_type": "stream",
     "text": [
      " 50%|████████████████████████▋                        | 251924/500000 [07:06<06:42, 616.20it/s]"
     ]
    },
    {
     "name": "stdout",
     "output_type": "stream",
     "text": [
      "['PRO_19927', 'PRO_21222']\n"
     ]
    },
    {
     "name": "stderr",
     "output_type": "stream",
     "text": [
      " 51%|████████████████████████▋                        | 252544/500000 [07:07<06:41, 616.52it/s]"
     ]
    },
    {
     "name": "stdout",
     "output_type": "stream",
     "text": [
      "['PRO_20997', 'PRO_20827']\n"
     ]
    },
    {
     "name": "stderr",
     "output_type": "stream",
     "text": [
      " 51%|████████████████████████▊                        | 253770/500000 [07:09<06:48, 602.58it/s]"
     ]
    },
    {
     "name": "stdout",
     "output_type": "stream",
     "text": [
      "['PRO_21423', 'PRO_12937']\n"
     ]
    },
    {
     "name": "stderr",
     "output_type": "stream",
     "text": [
      " 51%|█████████████████████████▏                       | 256744/500000 [07:14<06:35, 614.39it/s]"
     ]
    },
    {
     "name": "stdout",
     "output_type": "stream",
     "text": [
      "['PRO_3760', 'PRO_12267']\n"
     ]
    },
    {
     "name": "stderr",
     "output_type": "stream",
     "text": [
      " 52%|█████████████████████████▎                       | 258359/500000 [07:17<06:32, 616.14it/s]"
     ]
    },
    {
     "name": "stdout",
     "output_type": "stream",
     "text": [
      "['PRO_19150', 'PRO_20725']\n"
     ]
    },
    {
     "name": "stderr",
     "output_type": "stream",
     "text": [
      " 52%|█████████████████████████▍                       | 259042/500000 [07:18<06:34, 610.29it/s]"
     ]
    },
    {
     "name": "stdout",
     "output_type": "stream",
     "text": [
      "['PRO_21372', 'PRO_3568']\n"
     ]
    },
    {
     "name": "stderr",
     "output_type": "stream",
     "text": [
      " 52%|█████████████████████████▍                       | 259476/500000 [07:18<06:33, 610.94it/s]"
     ]
    },
    {
     "name": "stdout",
     "output_type": "stream",
     "text": [
      "['PRO_15142', 'PRO_14651']\n"
     ]
    },
    {
     "name": "stderr",
     "output_type": "stream",
     "text": [
      " 52%|█████████████████████████▍                       | 259724/500000 [07:19<06:32, 612.12it/s]"
     ]
    },
    {
     "name": "stdout",
     "output_type": "stream",
     "text": [
      "['PRO_21106', 'PRO_22623']\n",
      "['PRO_13743', 'PRO_13721']\n"
     ]
    },
    {
     "name": "stderr",
     "output_type": "stream",
     "text": [
      " 52%|█████████████████████████▋                       | 261711/500000 [07:22<06:33, 605.32it/s]"
     ]
    },
    {
     "name": "stdout",
     "output_type": "stream",
     "text": [
      "['PRO_3760', 'PRO_18776']\n",
      "['PRO_15142', 'PRO_13014']\n"
     ]
    },
    {
     "name": "stderr",
     "output_type": "stream",
     "text": [
      " 52%|█████████████████████████▋                       | 262385/500000 [07:23<06:28, 611.52it/s]"
     ]
    },
    {
     "name": "stdout",
     "output_type": "stream",
     "text": [
      "['PRO_3811', 'PRO_21526']\n"
     ]
    },
    {
     "name": "stderr",
     "output_type": "stream",
     "text": [
      " 53%|█████████████████████████▋                       | 262692/500000 [07:24<06:35, 600.25it/s]"
     ]
    },
    {
     "name": "stdout",
     "output_type": "stream",
     "text": [
      "['PRO_14059', 'PRO_2951']\n",
      "['PRO_20028', 'PRO_3998']\n"
     ]
    },
    {
     "name": "stderr",
     "output_type": "stream",
     "text": [
      " 53%|█████████████████████████▊                       | 263375/500000 [07:25<06:23, 617.60it/s]"
     ]
    },
    {
     "name": "stdout",
     "output_type": "stream",
     "text": [
      "['PRO_12363', 'PRO_23392']\n"
     ]
    },
    {
     "name": "stderr",
     "output_type": "stream",
     "text": [
      " 53%|█████████████████████████▊                       | 263934/500000 [07:26<06:25, 612.86it/s]"
     ]
    },
    {
     "name": "stdout",
     "output_type": "stream",
     "text": [
      "['PRO_2205', 'PRO_13636']\n"
     ]
    },
    {
     "name": "stderr",
     "output_type": "stream",
     "text": [
      " 53%|█████████████████████████▉                       | 264912/500000 [07:27<06:39, 588.31it/s]"
     ]
    },
    {
     "name": "stdout",
     "output_type": "stream",
     "text": [
      "['PRO_13636', 'PRO_11537']\n"
     ]
    },
    {
     "name": "stderr",
     "output_type": "stream",
     "text": [
      " 53%|██████████████████████████                       | 265398/500000 [07:28<06:34, 594.85it/s]"
     ]
    },
    {
     "name": "stdout",
     "output_type": "stream",
     "text": [
      "['PRO_1225', 'PRO_20364']\n",
      "['PRO_3695', 'PRO_3058']\n"
     ]
    },
    {
     "name": "stderr",
     "output_type": "stream",
     "text": [
      " 53%|██████████████████████████                       | 265583/500000 [07:28<06:25, 608.04it/s]"
     ]
    },
    {
     "name": "stdout",
     "output_type": "stream",
     "text": [
      "['PRO_21778', 'PRO_12735']\n"
     ]
    },
    {
     "name": "stderr",
     "output_type": "stream",
     "text": [
      " 53%|██████████████████████████                       | 266512/500000 [07:30<06:17, 617.77it/s]"
     ]
    },
    {
     "name": "stdout",
     "output_type": "stream",
     "text": [
      "['PRO_17334', 'PRO_21538']\n"
     ]
    },
    {
     "name": "stderr",
     "output_type": "stream",
     "text": [
      " 54%|██████████████████████████▍                      | 269412/500000 [07:35<06:19, 608.31it/s]"
     ]
    },
    {
     "name": "stdout",
     "output_type": "stream",
     "text": [
      "['PRO_1300', 'PRO_20745']\n"
     ]
    },
    {
     "name": "stderr",
     "output_type": "stream",
     "text": [
      " 54%|██████████████████████████▍                      | 269843/500000 [07:35<06:16, 611.38it/s]"
     ]
    },
    {
     "name": "stdout",
     "output_type": "stream",
     "text": [
      "['PRO_11974', 'PRO_18797']\n"
     ]
    },
    {
     "name": "stderr",
     "output_type": "stream",
     "text": [
      " 55%|██████████████████████████▊                      | 273245/500000 [07:41<06:10, 612.09it/s]"
     ]
    },
    {
     "name": "stdout",
     "output_type": "stream",
     "text": [
      "['PRO_10559', 'PRO_20268']\n"
     ]
    },
    {
     "name": "stderr",
     "output_type": "stream",
     "text": [
      " 55%|██████████████████████████▉                      | 274482/500000 [07:43<06:10, 608.87it/s]"
     ]
    },
    {
     "name": "stdout",
     "output_type": "stream",
     "text": [
      "['PRO_11979', 'PRO_10056']\n",
      "['PRO_10286', 'PRO_13779']\n",
      "['PRO_18497', 'PRO_10954']\n"
     ]
    },
    {
     "name": "stderr",
     "output_type": "stream",
     "text": [
      " 55%|███████████████████████████                      | 275588/500000 [07:45<06:08, 608.88it/s]"
     ]
    },
    {
     "name": "stdout",
     "output_type": "stream",
     "text": [
      "['PRO_20442', 'PRO_14551']\n"
     ]
    },
    {
     "name": "stderr",
     "output_type": "stream",
     "text": [
      " 56%|███████████████████████████▎                     | 278130/500000 [07:49<06:01, 614.13it/s]"
     ]
    },
    {
     "name": "stdout",
     "output_type": "stream",
     "text": [
      "['PRO_25', 'PRO_16952']\n"
     ]
    },
    {
     "name": "stderr",
     "output_type": "stream",
     "text": [
      " 56%|███████████████████████████▎                     | 278502/500000 [07:50<06:03, 609.60it/s]"
     ]
    },
    {
     "name": "stdout",
     "output_type": "stream",
     "text": [
      "['PRO_13901', 'PRO_21758']\n"
     ]
    },
    {
     "name": "stderr",
     "output_type": "stream",
     "text": [
      " 56%|███████████████████████████▍                     | 279494/500000 [07:51<05:58, 615.65it/s]"
     ]
    },
    {
     "name": "stdout",
     "output_type": "stream",
     "text": [
      "['PRO_2334', 'PRO_10843']\n"
     ]
    },
    {
     "name": "stderr",
     "output_type": "stream",
     "text": [
      " 56%|███████████████████████████▍                     | 280237/500000 [07:53<05:57, 614.34it/s]"
     ]
    },
    {
     "name": "stdout",
     "output_type": "stream",
     "text": [
      "['PRO_2224', 'PRO_13308']\n"
     ]
    },
    {
     "name": "stderr",
     "output_type": "stream",
     "text": [
      " 56%|███████████████████████████▌                     | 281232/500000 [07:54<05:57, 612.58it/s]"
     ]
    },
    {
     "name": "stdout",
     "output_type": "stream",
     "text": [
      "['PRO_4585', 'PRO_19362']\n",
      "['PRO_19376', 'PRO_12459']\n"
     ]
    },
    {
     "name": "stderr",
     "output_type": "stream",
     "text": [
      " 56%|███████████████████████████▌                     | 281418/500000 [07:54<05:59, 608.82it/s]"
     ]
    },
    {
     "name": "stdout",
     "output_type": "stream",
     "text": [
      "['PRO_20565', 'PRO_22119']\n"
     ]
    },
    {
     "name": "stderr",
     "output_type": "stream",
     "text": [
      " 56%|███████████████████████████▌                     | 281849/500000 [07:55<05:57, 611.01it/s]"
     ]
    },
    {
     "name": "stdout",
     "output_type": "stream",
     "text": [
      "['PRO_18349', 'PRO_18159']\n"
     ]
    },
    {
     "name": "stderr",
     "output_type": "stream",
     "text": [
      " 57%|███████████████████████████▋                     | 282584/500000 [07:56<06:06, 592.68it/s]"
     ]
    },
    {
     "name": "stdout",
     "output_type": "stream",
     "text": [
      "['PRO_13204', 'PRO_20751']\n"
     ]
    },
    {
     "name": "stderr",
     "output_type": "stream",
     "text": [
      " 57%|███████████████████████████▊                     | 283693/500000 [07:58<05:58, 603.48it/s]"
     ]
    },
    {
     "name": "stdout",
     "output_type": "stream",
     "text": [
      "['PRO_22802', 'PRO_1665']\n"
     ]
    },
    {
     "name": "stderr",
     "output_type": "stream",
     "text": [
      " 57%|███████████████████████████▊                     | 283994/500000 [07:59<06:02, 596.29it/s]"
     ]
    },
    {
     "name": "stdout",
     "output_type": "stream",
     "text": [
      "['PRO_1835', 'PRO_18916']\n"
     ]
    },
    {
     "name": "stderr",
     "output_type": "stream",
     "text": [
      " 57%|███████████████████████████▉                     | 285155/500000 [08:01<05:54, 606.33it/s]"
     ]
    },
    {
     "name": "stdout",
     "output_type": "stream",
     "text": [
      "['PRO_15312', 'PRO_22404']\n"
     ]
    },
    {
     "name": "stderr",
     "output_type": "stream",
     "text": [
      " 57%|████████████████████████████▏                    | 287422/500000 [08:04<05:45, 615.32it/s]"
     ]
    },
    {
     "name": "stdout",
     "output_type": "stream",
     "text": [
      "['PRO_15899', 'PRO_15828']\n"
     ]
    },
    {
     "name": "stderr",
     "output_type": "stream",
     "text": [
      " 58%|████████████████████████████▏                    | 287856/500000 [08:05<05:46, 612.13it/s]"
     ]
    },
    {
     "name": "stdout",
     "output_type": "stream",
     "text": [
      "['PRO_15570', 'PRO_10328']\n"
     ]
    },
    {
     "name": "stderr",
     "output_type": "stream",
     "text": [
      " 58%|████████████████████████████▎                    | 288477/500000 [08:06<05:42, 618.06it/s]"
     ]
    },
    {
     "name": "stdout",
     "output_type": "stream",
     "text": [
      "['PRO_21249', 'PRO_19423']\n"
     ]
    },
    {
     "name": "stderr",
     "output_type": "stream",
     "text": [
      " 58%|████████████████████████████▍                    | 290204/500000 [08:09<05:43, 610.85it/s]"
     ]
    },
    {
     "name": "stdout",
     "output_type": "stream",
     "text": [
      "['PRO_4732', 'PRO_16040']\n"
     ]
    },
    {
     "name": "stderr",
     "output_type": "stream",
     "text": [
      " 58%|████████████████████████████▍                    | 290763/500000 [08:10<05:48, 600.11it/s]"
     ]
    },
    {
     "name": "stdout",
     "output_type": "stream",
     "text": [
      "['PRO_21217', 'PRO_15081']\n"
     ]
    },
    {
     "name": "stderr",
     "output_type": "stream",
     "text": [
      " 58%|████████████████████████████▌                    | 291687/500000 [08:11<05:45, 603.59it/s]"
     ]
    },
    {
     "name": "stdout",
     "output_type": "stream",
     "text": [
      "['PRO_18672', 'PRO_10020']\n"
     ]
    },
    {
     "name": "stderr",
     "output_type": "stream",
     "text": [
      " 58%|████████████████████████████▌                    | 291871/500000 [08:12<05:43, 605.38it/s]"
     ]
    },
    {
     "name": "stdout",
     "output_type": "stream",
     "text": [
      "['PRO_21396', 'PRO_10950']\n",
      "['PRO_10390', 'PRO_23238']\n"
     ]
    },
    {
     "name": "stderr",
     "output_type": "stream",
     "text": [
      " 58%|████████████████████████████▌                    | 292055/500000 [08:12<05:42, 607.28it/s]"
     ]
    },
    {
     "name": "stdout",
     "output_type": "stream",
     "text": [
      "['PRO_21186', 'PRO_15142']\n"
     ]
    },
    {
     "name": "stderr",
     "output_type": "stream",
     "text": [
      " 58%|████████████████████████████▋                    | 292423/500000 [08:13<05:43, 604.07it/s]"
     ]
    },
    {
     "name": "stdout",
     "output_type": "stream",
     "text": [
      "['PRO_10056', 'PRO_21657']\n"
     ]
    },
    {
     "name": "stderr",
     "output_type": "stream",
     "text": [
      " 59%|████████████████████████████▊                    | 293472/500000 [08:14<05:36, 614.14it/s]"
     ]
    },
    {
     "name": "stdout",
     "output_type": "stream",
     "text": [
      "['PRO_20862', 'PRO_15580']\n"
     ]
    },
    {
     "name": "stderr",
     "output_type": "stream",
     "text": [
      " 59%|████████████████████████████▊                    | 293900/500000 [08:15<05:53, 583.73it/s]"
     ]
    },
    {
     "name": "stdout",
     "output_type": "stream",
     "text": [
      "['PRO_22255', 'PRO_237']\n"
     ]
    },
    {
     "name": "stderr",
     "output_type": "stream",
     "text": [
      " 59%|████████████████████████████▊                    | 294311/500000 [08:16<05:51, 585.34it/s]"
     ]
    },
    {
     "name": "stdout",
     "output_type": "stream",
     "text": [
      "['PRO_20054', 'PRO_11295']\n"
     ]
    },
    {
     "name": "stderr",
     "output_type": "stream",
     "text": [
      " 59%|████████████████████████████▊                    | 294551/500000 [08:16<05:46, 592.10it/s]"
     ]
    },
    {
     "name": "stdout",
     "output_type": "stream",
     "text": [
      "['PRO_2556', 'PRO_2769']\n"
     ]
    },
    {
     "name": "stderr",
     "output_type": "stream",
     "text": [
      " 59%|█████████████████████████████                    | 296787/500000 [08:20<05:30, 615.51it/s]"
     ]
    },
    {
     "name": "stdout",
     "output_type": "stream",
     "text": [
      "['PRO_10097', 'PRO_182']\n",
      "['PRO_13779', 'PRO_17935']\n"
     ]
    },
    {
     "name": "stderr",
     "output_type": "stream",
     "text": [
      " 59%|█████████████████████████████                    | 297036/500000 [08:20<05:29, 615.93it/s]"
     ]
    },
    {
     "name": "stdout",
     "output_type": "stream",
     "text": [
      "['PRO_17895', 'PRO_11118']\n"
     ]
    },
    {
     "name": "stderr",
     "output_type": "stream",
     "text": [
      " 59%|█████████████████████████████▏                   | 297284/500000 [08:21<05:34, 606.77it/s]"
     ]
    },
    {
     "name": "stdout",
     "output_type": "stream",
     "text": [
      "['PRO_14468', 'PRO_16981']\n"
     ]
    },
    {
     "name": "stderr",
     "output_type": "stream",
     "text": [
      " 60%|█████████████████████████████▏                   | 297724/500000 [08:22<05:24, 623.34it/s]"
     ]
    },
    {
     "name": "stdout",
     "output_type": "stream",
     "text": [
      "['PRO_3257', 'PRO_19423']\n"
     ]
    },
    {
     "name": "stderr",
     "output_type": "stream",
     "text": [
      " 60%|█████████████████████████████▎                   | 298477/500000 [08:23<05:26, 616.45it/s]"
     ]
    },
    {
     "name": "stdout",
     "output_type": "stream",
     "text": [
      "['PRO_2029', 'PRO_19435']\n",
      "['PRO_23090', 'PRO_3073']\n"
     ]
    },
    {
     "name": "stderr",
     "output_type": "stream",
     "text": [
      " 60%|█████████████████████████████▎                   | 299617/500000 [08:25<05:22, 621.05it/s]"
     ]
    },
    {
     "name": "stdout",
     "output_type": "stream",
     "text": [
      "['PRO_17694', 'PRO_14506']\n"
     ]
    },
    {
     "name": "stderr",
     "output_type": "stream",
     "text": [
      " 60%|█████████████████████████████▎                   | 299742/500000 [08:25<05:24, 618.06it/s]"
     ]
    },
    {
     "name": "stdout",
     "output_type": "stream",
     "text": [
      "['PRO_14083', 'PRO_1928']\n"
     ]
    },
    {
     "name": "stderr",
     "output_type": "stream",
     "text": [
      " 60%|█████████████████████████████▍                   | 300240/500000 [08:26<05:23, 618.18it/s]"
     ]
    },
    {
     "name": "stdout",
     "output_type": "stream",
     "text": [
      "['PRO_10115', 'PRO_10352']\n"
     ]
    },
    {
     "name": "stderr",
     "output_type": "stream",
     "text": [
      " 60%|█████████████████████████████▍                   | 300803/500000 [08:26<05:20, 621.72it/s]"
     ]
    },
    {
     "name": "stdout",
     "output_type": "stream",
     "text": [
      "['PRO_16059', 'PRO_21538']\n"
     ]
    },
    {
     "name": "stderr",
     "output_type": "stream",
     "text": [
      " 60%|█████████████████████████████▌                   | 301609/500000 [08:28<05:34, 592.63it/s]"
     ]
    },
    {
     "name": "stdout",
     "output_type": "stream",
     "text": [
      "['PRO_13486', 'PRO_21704']\n"
     ]
    },
    {
     "name": "stderr",
     "output_type": "stream",
     "text": [
      " 60%|█████████████████████████████▌                   | 301799/500000 [08:28<05:20, 617.60it/s]"
     ]
    },
    {
     "name": "stdout",
     "output_type": "stream",
     "text": [
      "['PRO_20373', 'PRO_1999']\n"
     ]
    },
    {
     "name": "stderr",
     "output_type": "stream",
     "text": [
      " 60%|█████████████████████████████▌                   | 301987/500000 [08:28<05:17, 623.51it/s]"
     ]
    },
    {
     "name": "stdout",
     "output_type": "stream",
     "text": [
      "['PRO_2932', 'PRO_13046']\n"
     ]
    },
    {
     "name": "stderr",
     "output_type": "stream",
     "text": [
      " 61%|█████████████████████████████▋                   | 302805/500000 [08:30<05:17, 620.14it/s]"
     ]
    },
    {
     "name": "stdout",
     "output_type": "stream",
     "text": [
      "['PRO_19911', 'PRO_20076']\n",
      "['PRO_11153', 'PRO_1318']\n"
     ]
    },
    {
     "name": "stderr",
     "output_type": "stream",
     "text": [
      " 61%|█████████████████████████████▋                   | 303498/500000 [08:31<05:15, 622.18it/s]"
     ]
    },
    {
     "name": "stdout",
     "output_type": "stream",
     "text": [
      "['PRO_13826', 'PRO_18608']\n"
     ]
    },
    {
     "name": "stderr",
     "output_type": "stream",
     "text": [
      " 61%|█████████████████████████████▊                   | 303748/500000 [08:31<05:27, 599.81it/s]"
     ]
    },
    {
     "name": "stdout",
     "output_type": "stream",
     "text": [
      "['PRO_20054', 'PRO_11295']\n",
      "['PRO_1905', 'PRO_21704']\n"
     ]
    },
    {
     "name": "stderr",
     "output_type": "stream",
     "text": [
      " 61%|█████████████████████████████▊                   | 303998/500000 [08:32<05:19, 613.91it/s]"
     ]
    },
    {
     "name": "stdout",
     "output_type": "stream",
     "text": [
      "['PRO_15208', 'PRO_3998']\n"
     ]
    },
    {
     "name": "stderr",
     "output_type": "stream",
     "text": [
      " 61%|█████████████████████████████▊                   | 304250/500000 [08:32<05:13, 624.18it/s]"
     ]
    },
    {
     "name": "stdout",
     "output_type": "stream",
     "text": [
      "['PRO_11118', 'PRO_3016']\n",
      "['PRO_22738', 'PRO_14834']\n"
     ]
    },
    {
     "name": "stderr",
     "output_type": "stream",
     "text": [
      " 61%|█████████████████████████████▉                   | 305384/500000 [08:34<05:11, 624.01it/s]"
     ]
    },
    {
     "name": "stdout",
     "output_type": "stream",
     "text": [
      "['PRO_16511', 'PRO_4732']\n"
     ]
    },
    {
     "name": "stderr",
     "output_type": "stream",
     "text": [
      " 61%|█████████████████████████████▉                   | 305700/500000 [08:34<05:10, 624.83it/s]"
     ]
    },
    {
     "name": "stdout",
     "output_type": "stream",
     "text": [
      "['PRO_14780', 'PRO_1625']\n"
     ]
    },
    {
     "name": "stderr",
     "output_type": "stream",
     "text": [
      " 61%|██████████████████████████████                   | 306835/500000 [08:36<05:11, 620.01it/s]"
     ]
    },
    {
     "name": "stdout",
     "output_type": "stream",
     "text": [
      "['PRO_21687', 'PRO_15403']\n"
     ]
    },
    {
     "name": "stderr",
     "output_type": "stream",
     "text": [
      " 62%|██████████████████████████████▎                  | 308951/500000 [08:40<05:16, 603.17it/s]"
     ]
    },
    {
     "name": "stdout",
     "output_type": "stream",
     "text": [
      "['PRO_21739', 'PRO_16793']\n"
     ]
    },
    {
     "name": "stderr",
     "output_type": "stream",
     "text": [
      " 62%|██████████████████████████████▍                  | 310956/500000 [08:43<05:02, 624.32it/s]"
     ]
    },
    {
     "name": "stdout",
     "output_type": "stream",
     "text": [
      "['PRO_20458', 'PRO_1273']\n",
      "['PRO_14246', 'PRO_21222']\n"
     ]
    },
    {
     "name": "stderr",
     "output_type": "stream",
     "text": [
      " 62%|██████████████████████████████▌                  | 311642/500000 [08:44<05:12, 602.43it/s]"
     ]
    },
    {
     "name": "stdout",
     "output_type": "stream",
     "text": [
      "['PRO_18159', 'PRO_19473']\n"
     ]
    },
    {
     "name": "stderr",
     "output_type": "stream",
     "text": [
      " 63%|██████████████████████████████▊                  | 314133/500000 [08:48<05:05, 607.69it/s]"
     ]
    },
    {
     "name": "stdout",
     "output_type": "stream",
     "text": [
      "['PRO_13571', 'PRO_20576']\n",
      "['PRO_12040', 'PRO_23018']\n"
     ]
    },
    {
     "name": "stderr",
     "output_type": "stream",
     "text": [
      " 63%|██████████████████████████████▊                  | 314910/500000 [08:50<05:35, 552.45it/s]"
     ]
    },
    {
     "name": "stdout",
     "output_type": "stream",
     "text": [
      "['PRO_13044', 'PRO_13195']\n",
      "['PRO_17688', 'PRO_21164']\n"
     ]
    },
    {
     "name": "stderr",
     "output_type": "stream",
     "text": [
      " 63%|██████████████████████████████▉                  | 315892/500000 [08:51<04:55, 622.28it/s]"
     ]
    },
    {
     "name": "stdout",
     "output_type": "stream",
     "text": [
      "['PRO_12061', 'PRO_18162']\n"
     ]
    },
    {
     "name": "stderr",
     "output_type": "stream",
     "text": [
      " 64%|███████████████████████████████▎                 | 319956/500000 [08:58<04:50, 618.78it/s]"
     ]
    },
    {
     "name": "stdout",
     "output_type": "stream",
     "text": [
      "['PRO_18897', 'PRO_22623']\n"
     ]
    },
    {
     "name": "stderr",
     "output_type": "stream",
     "text": [
      " 64%|███████████████████████████████▌                 | 321643/500000 [09:01<04:47, 620.40it/s]"
     ]
    },
    {
     "name": "stdout",
     "output_type": "stream",
     "text": [
      "['PRO_19473', 'PRO_15558']\n"
     ]
    },
    {
     "name": "stderr",
     "output_type": "stream",
     "text": [
      " 64%|███████████████████████████████▌                 | 321895/500000 [09:01<04:47, 620.06it/s]"
     ]
    },
    {
     "name": "stdout",
     "output_type": "stream",
     "text": [
      "['PRO_11620', 'PRO_13293']\n",
      "['PRO_17919', 'PRO_22635']\n",
      "['PRO_10390', 'PRO_18249']\n"
     ]
    },
    {
     "name": "stderr",
     "output_type": "stream",
     "text": [
      " 65%|███████████████████████████████▋                 | 322956/500000 [09:03<04:46, 618.88it/s]"
     ]
    },
    {
     "name": "stdout",
     "output_type": "stream",
     "text": [
      "['PRO_22676', 'PRO_3466']\n"
     ]
    },
    {
     "name": "stderr",
     "output_type": "stream",
     "text": [
      " 65%|███████████████████████████████▋                 | 323966/500000 [09:04<04:39, 628.95it/s]"
     ]
    },
    {
     "name": "stdout",
     "output_type": "stream",
     "text": [
      "['PRO_17027', 'PRO_17583']\n",
      "['PRO_2359', 'PRO_12267']\n",
      "['PRO_17649', 'PRO_19418']\n"
     ]
    },
    {
     "name": "stderr",
     "output_type": "stream",
     "text": [
      " 65%|███████████████████████████████▊                 | 325035/500000 [09:06<04:46, 610.91it/s]"
     ]
    },
    {
     "name": "stdout",
     "output_type": "stream",
     "text": [
      "['PRO_3603', 'PRO_18536']\n"
     ]
    },
    {
     "name": "stderr",
     "output_type": "stream",
     "text": [
      " 65%|████████████████████████████████                 | 326834/500000 [09:09<04:47, 602.41it/s]"
     ]
    },
    {
     "name": "stdout",
     "output_type": "stream",
     "text": [
      "['PRO_18069', 'PRO_13044']\n"
     ]
    },
    {
     "name": "stderr",
     "output_type": "stream",
     "text": [
      " 65%|████████████████████████████████                 | 327084/500000 [09:09<04:42, 612.58it/s]"
     ]
    },
    {
     "name": "stdout",
     "output_type": "stream",
     "text": [
      "['PRO_2858', 'PRO_3998']\n"
     ]
    },
    {
     "name": "stderr",
     "output_type": "stream",
     "text": [
      " 65%|████████████████████████████████                 | 327451/500000 [09:10<05:01, 572.74it/s]"
     ]
    },
    {
     "name": "stdout",
     "output_type": "stream",
     "text": [
      "['PRO_13013', 'PRO_19950']\n"
     ]
    },
    {
     "name": "stderr",
     "output_type": "stream",
     "text": [
      " 66%|████████████████████████████████▎                | 329375/500000 [09:13<04:43, 601.57it/s]"
     ]
    },
    {
     "name": "stdout",
     "output_type": "stream",
     "text": [
      "['PRO_17417', 'PRO_16145']\n"
     ]
    },
    {
     "name": "stderr",
     "output_type": "stream",
     "text": [
      " 66%|████████████████████████████████▎                | 329626/500000 [09:14<04:35, 619.43it/s]"
     ]
    },
    {
     "name": "stdout",
     "output_type": "stream",
     "text": [
      "['PRO_2029', 'PRO_22291']\n",
      "['PRO_11065', 'PRO_14859']\n"
     ]
    },
    {
     "name": "stderr",
     "output_type": "stream",
     "text": [
      " 66%|████████████████████████████████▎                | 329876/500000 [09:14<04:34, 618.85it/s]"
     ]
    },
    {
     "name": "stdout",
     "output_type": "stream",
     "text": [
      "['PRO_19427', 'PRO_10223']\n"
     ]
    },
    {
     "name": "stderr",
     "output_type": "stream",
     "text": [
      " 66%|████████████████████████████████▎                | 330312/500000 [09:15<04:34, 618.28it/s]"
     ]
    },
    {
     "name": "stdout",
     "output_type": "stream",
     "text": [
      "['PRO_18514', 'PRO_23228']\n"
     ]
    },
    {
     "name": "stderr",
     "output_type": "stream",
     "text": [
      " 66%|████████████████████████████████▍                | 330999/500000 [09:16<04:32, 620.61it/s]"
     ]
    },
    {
     "name": "stdout",
     "output_type": "stream",
     "text": [
      "['PRO_14641', 'PRO_21861']\n",
      "['PRO_182', 'PRO_2136']\n"
     ]
    },
    {
     "name": "stderr",
     "output_type": "stream",
     "text": [
      " 66%|████████████████████████████████▍                | 331313/500000 [09:16<04:31, 620.98it/s]"
     ]
    },
    {
     "name": "stdout",
     "output_type": "stream",
     "text": [
      "['PRO_22345', 'PRO_10390']\n",
      "['PRO_19148', 'PRO_16875']\n"
     ]
    },
    {
     "name": "stderr",
     "output_type": "stream",
     "text": [
      " 66%|████████████████████████████████▌                | 332002/500000 [09:17<04:31, 618.91it/s]"
     ]
    },
    {
     "name": "stdout",
     "output_type": "stream",
     "text": [
      "['PRO_19939', 'PRO_1349']\n"
     ]
    },
    {
     "name": "stderr",
     "output_type": "stream",
     "text": [
      " 67%|████████████████████████████████▋                | 333382/500000 [09:20<04:25, 627.00it/s]"
     ]
    },
    {
     "name": "stdout",
     "output_type": "stream",
     "text": [
      "['PRO_18536', 'PRO_22584']\n",
      "['PRO_18924', 'PRO_11571']\n"
     ]
    },
    {
     "name": "stderr",
     "output_type": "stream",
     "text": [
      " 67%|████████████████████████████████▊                | 334393/500000 [09:21<04:24, 626.26it/s]"
     ]
    },
    {
     "name": "stdout",
     "output_type": "stream",
     "text": [
      "['PRO_18497', 'PRO_20075']\n"
     ]
    },
    {
     "name": "stderr",
     "output_type": "stream",
     "text": [
      " 67%|████████████████████████████████▊                | 334961/500000 [09:22<04:24, 623.74it/s]"
     ]
    },
    {
     "name": "stdout",
     "output_type": "stream",
     "text": [
      "['PRO_4691', 'PRO_13901']\n"
     ]
    },
    {
     "name": "stderr",
     "output_type": "stream",
     "text": [
      " 67%|████████████████████████████████▉                | 335467/500000 [09:23<04:23, 625.31it/s]"
     ]
    },
    {
     "name": "stdout",
     "output_type": "stream",
     "text": [
      "['PRO_12267', 'PRO_16724']\n"
     ]
    },
    {
     "name": "stderr",
     "output_type": "stream",
     "text": [
      " 67%|█████████████████████████████████                | 337420/500000 [09:26<04:24, 615.21it/s]"
     ]
    },
    {
     "name": "stdout",
     "output_type": "stream",
     "text": [
      "['PRO_15389', 'PRO_1381']\n"
     ]
    },
    {
     "name": "stderr",
     "output_type": "stream",
     "text": [
      " 68%|█████████████████████████████████                | 337925/500000 [09:27<04:18, 626.51it/s]"
     ]
    },
    {
     "name": "stdout",
     "output_type": "stream",
     "text": [
      "['PRO_22623', 'PRO_20581']\n"
     ]
    },
    {
     "name": "stderr",
     "output_type": "stream",
     "text": [
      " 68%|█████████████████████████████████▏               | 338306/500000 [09:28<04:17, 627.91it/s]"
     ]
    },
    {
     "name": "stdout",
     "output_type": "stream",
     "text": [
      "['PRO_21824', 'PRO_18435']\n"
     ]
    },
    {
     "name": "stderr",
     "output_type": "stream",
     "text": [
      " 68%|█████████████████████████████████▏               | 338621/500000 [09:28<04:20, 619.05it/s]"
     ]
    },
    {
     "name": "stdout",
     "output_type": "stream",
     "text": [
      "['PRO_182', 'PRO_3302']\n"
     ]
    },
    {
     "name": "stderr",
     "output_type": "stream",
     "text": [
      " 68%|█████████████████████████████████▏               | 339063/500000 [09:29<04:17, 625.85it/s]"
     ]
    },
    {
     "name": "stdout",
     "output_type": "stream",
     "text": [
      "['PRO_22954', 'PRO_18835']\n"
     ]
    },
    {
     "name": "stderr",
     "output_type": "stream",
     "text": [
      " 68%|█████████████████████████████████▎               | 339568/500000 [09:30<04:20, 615.31it/s]"
     ]
    },
    {
     "name": "stdout",
     "output_type": "stream",
     "text": [
      "['PRO_1208', 'PRO_20227']\n"
     ]
    },
    {
     "name": "stderr",
     "output_type": "stream",
     "text": [
      " 68%|█████████████████████████████████▌               | 342011/500000 [09:34<04:15, 617.23it/s]"
     ]
    },
    {
     "name": "stdout",
     "output_type": "stream",
     "text": [
      "['PRO_10512', 'PRO_1095']\n"
     ]
    },
    {
     "name": "stderr",
     "output_type": "stream",
     "text": [
      " 69%|█████████████████████████████████▌               | 342515/500000 [09:34<04:18, 608.42it/s]"
     ]
    },
    {
     "name": "stdout",
     "output_type": "stream",
     "text": [
      "['PRO_1367', 'PRO_1999']\n",
      "['PRO_22291', 'PRO_19644']\n"
     ]
    },
    {
     "name": "stderr",
     "output_type": "stream",
     "text": [
      " 69%|█████████████████████████████████▋               | 343820/500000 [09:37<04:12, 617.74it/s]"
     ]
    },
    {
     "name": "stdout",
     "output_type": "stream",
     "text": [
      "['PRO_18291', 'PRO_17419']\n"
     ]
    },
    {
     "name": "stderr",
     "output_type": "stream",
     "text": [
      " 69%|█████████████████████████████████▋               | 344007/500000 [09:37<04:13, 616.20it/s]"
     ]
    },
    {
     "name": "stdout",
     "output_type": "stream",
     "text": [
      "['PRO_13525', 'PRO_4723']\n"
     ]
    },
    {
     "name": "stderr",
     "output_type": "stream",
     "text": [
      " 69%|█████████████████████████████████▊               | 345139/500000 [09:39<04:09, 619.88it/s]"
     ]
    },
    {
     "name": "stdout",
     "output_type": "stream",
     "text": [
      "['PRO_20370', 'PRO_12137']\n"
     ]
    },
    {
     "name": "stderr",
     "output_type": "stream",
     "text": [
      " 69%|█████████████████████████████████▊               | 345328/500000 [09:39<04:09, 619.54it/s]"
     ]
    },
    {
     "name": "stdout",
     "output_type": "stream",
     "text": [
      "['PRO_22538', 'PRO_20402']\n"
     ]
    },
    {
     "name": "stderr",
     "output_type": "stream",
     "text": [
      " 69%|██████████████████████████████████               | 347454/500000 [09:42<04:05, 622.21it/s]"
     ]
    },
    {
     "name": "stdout",
     "output_type": "stream",
     "text": [
      "['PRO_13389', 'PRO_21132']\n",
      "['PRO_17975', 'PRO_19215']\n"
     ]
    },
    {
     "name": "stderr",
     "output_type": "stream",
     "text": [
      " 70%|██████████████████████████████████▍              | 351227/500000 [09:49<03:58, 624.32it/s]"
     ]
    },
    {
     "name": "stdout",
     "output_type": "stream",
     "text": [
      "['PRO_19295', 'PRO_23141']\n",
      "['PRO_17980', 'PRO_1349']\n"
     ]
    },
    {
     "name": "stderr",
     "output_type": "stream",
     "text": [
      " 71%|██████████████████████████████████▋              | 354006/500000 [09:53<03:52, 626.68it/s]"
     ]
    },
    {
     "name": "stdout",
     "output_type": "stream",
     "text": [
      "['PRO_22105', 'PRO_21739']\n",
      "['PRO_2449', 'PRO_1240']\n"
     ]
    },
    {
     "name": "stderr",
     "output_type": "stream",
     "text": [
      " 71%|██████████████████████████████████▋              | 354577/500000 [09:54<03:51, 628.10it/s]"
     ]
    },
    {
     "name": "stdout",
     "output_type": "stream",
     "text": [
      "['PRO_17378', 'PRO_16200']\n"
     ]
    },
    {
     "name": "stderr",
     "output_type": "stream",
     "text": [
      " 71%|██████████████████████████████████▊              | 355716/500000 [09:56<03:51, 622.54it/s]"
     ]
    },
    {
     "name": "stdout",
     "output_type": "stream",
     "text": [
      "['PRO_22831', 'PRO_13901']\n",
      "['PRO_366', 'PRO_2695']\n"
     ]
    },
    {
     "name": "stderr",
     "output_type": "stream",
     "text": [
      " 71%|██████████████████████████████████▉              | 356157/500000 [09:56<03:52, 619.69it/s]"
     ]
    },
    {
     "name": "stdout",
     "output_type": "stream",
     "text": [
      "['PRO_11491', 'PRO_370']\n"
     ]
    },
    {
     "name": "stderr",
     "output_type": "stream",
     "text": [
      " 71%|██████████████████████████████████▉              | 356722/500000 [09:57<03:49, 623.66it/s]"
     ]
    },
    {
     "name": "stdout",
     "output_type": "stream",
     "text": [
      "['PRO_16596', 'PRO_20878']\n"
     ]
    },
    {
     "name": "stderr",
     "output_type": "stream",
     "text": [
      " 71%|███████████████████████████████████              | 357222/500000 [09:58<03:52, 613.73it/s]"
     ]
    },
    {
     "name": "stdout",
     "output_type": "stream",
     "text": [
      "['PRO_22533', 'PRO_17814']\n"
     ]
    },
    {
     "name": "stderr",
     "output_type": "stream",
     "text": [
      " 72%|███████████████████████████████████              | 358350/500000 [10:00<03:49, 617.46it/s]"
     ]
    },
    {
     "name": "stdout",
     "output_type": "stream",
     "text": [
      "['PRO_10353', 'PRO_18786']\n"
     ]
    },
    {
     "name": "stderr",
     "output_type": "stream",
     "text": [
      " 72%|███████████████████████████████████▏             | 358603/500000 [10:00<03:47, 620.86it/s]"
     ]
    },
    {
     "name": "stdout",
     "output_type": "stream",
     "text": [
      "['PRO_21132', 'PRO_13389']\n"
     ]
    },
    {
     "name": "stderr",
     "output_type": "stream",
     "text": [
      " 72%|███████████████████████████████████▏             | 359424/500000 [10:02<03:50, 608.70it/s]"
     ]
    },
    {
     "name": "stdout",
     "output_type": "stream",
     "text": [
      "['PRO_20487', 'PRO_14324']\n"
     ]
    },
    {
     "name": "stderr",
     "output_type": "stream",
     "text": [
      " 72%|███████████████████████████████████▎             | 360052/500000 [10:03<03:45, 620.71it/s]"
     ]
    },
    {
     "name": "stdout",
     "output_type": "stream",
     "text": [
      "['PRO_15077', 'PRO_15389']\n"
     ]
    },
    {
     "name": "stderr",
     "output_type": "stream",
     "text": [
      " 72%|███████████████████████████████████▍             | 361571/500000 [10:05<03:39, 629.69it/s]"
     ]
    },
    {
     "name": "stdout",
     "output_type": "stream",
     "text": [
      "['PRO_17206', 'PRO_18329']\n"
     ]
    },
    {
     "name": "stderr",
     "output_type": "stream",
     "text": [
      " 73%|███████████████████████████████████▊             | 365327/500000 [10:11<03:53, 577.88it/s]"
     ]
    },
    {
     "name": "stdout",
     "output_type": "stream",
     "text": [
      "['PRO_18201', 'PRO_17817']\n"
     ]
    },
    {
     "name": "stderr",
     "output_type": "stream",
     "text": [
      " 73%|███████████████████████████████████▊             | 365510/500000 [10:12<03:45, 596.97it/s]"
     ]
    },
    {
     "name": "stdout",
     "output_type": "stream",
     "text": [
      "['PRO_20184', 'PRO_16052']\n"
     ]
    },
    {
     "name": "stderr",
     "output_type": "stream",
     "text": [
      " 73%|███████████████████████████████████▉             | 366507/500000 [10:14<03:55, 567.41it/s]"
     ]
    },
    {
     "name": "stdout",
     "output_type": "stream",
     "text": [
      "['PRO_13609', 'PRO_23168']\n"
     ]
    },
    {
     "name": "stderr",
     "output_type": "stream",
     "text": [
      " 73%|███████████████████████████████████▉             | 366789/500000 [10:14<04:08, 535.26it/s]"
     ]
    },
    {
     "name": "stdout",
     "output_type": "stream",
     "text": [
      "['PRO_16392', 'PRO_13369']\n"
     ]
    },
    {
     "name": "stderr",
     "output_type": "stream",
     "text": [
      " 73%|████████████████████████████████████             | 367453/500000 [10:15<03:36, 611.45it/s]"
     ]
    },
    {
     "name": "stdout",
     "output_type": "stream",
     "text": [
      "['PRO_2029', 'PRO_2619']\n"
     ]
    },
    {
     "name": "stderr",
     "output_type": "stream",
     "text": [
      " 74%|████████████████████████████████████▏            | 369478/500000 [10:19<03:27, 630.51it/s]"
     ]
    },
    {
     "name": "stdout",
     "output_type": "stream",
     "text": [
      "['PRO_321', 'PRO_4727']\n"
     ]
    },
    {
     "name": "stderr",
     "output_type": "stream",
     "text": [
      " 74%|████████████████████████████████████▎            | 370950/500000 [10:21<03:24, 630.16it/s]"
     ]
    },
    {
     "name": "stdout",
     "output_type": "stream",
     "text": [
      "['PRO_21444', 'PRO_1383']\n"
     ]
    },
    {
     "name": "stderr",
     "output_type": "stream",
     "text": [
      " 74%|████████████████████████████████████▍            | 371910/500000 [10:22<03:22, 631.26it/s]"
     ]
    },
    {
     "name": "stdout",
     "output_type": "stream",
     "text": [
      "['PRO_1393', 'PRO_17598']\n"
     ]
    },
    {
     "name": "stderr",
     "output_type": "stream",
     "text": [
      " 75%|████████████████████████████████████▌            | 372928/500000 [10:24<03:30, 603.68it/s]"
     ]
    },
    {
     "name": "stdout",
     "output_type": "stream",
     "text": [
      "['PRO_14551', 'PRO_20619']\n"
     ]
    },
    {
     "name": "stderr",
     "output_type": "stream",
     "text": [
      " 75%|████████████████████████████████████▋            | 374734/500000 [10:27<03:24, 614.03it/s]"
     ]
    },
    {
     "name": "stdout",
     "output_type": "stream",
     "text": [
      "['PRO_22598', 'PRO_18536']\n"
     ]
    },
    {
     "name": "stderr",
     "output_type": "stream",
     "text": [
      " 75%|████████████████████████████████████▊            | 375300/500000 [10:28<03:20, 623.46it/s]"
     ]
    },
    {
     "name": "stdout",
     "output_type": "stream",
     "text": [
      "['PRO_14801', 'PRO_1623']\n"
     ]
    },
    {
     "name": "stderr",
     "output_type": "stream",
     "text": [
      " 75%|████████████████████████████████████▊            | 376184/500000 [10:29<03:18, 624.62it/s]"
     ]
    },
    {
     "name": "stdout",
     "output_type": "stream",
     "text": [
      "['PRO_16240', 'PRO_18967']\n"
     ]
    },
    {
     "name": "stderr",
     "output_type": "stream",
     "text": [
      " 75%|████████████████████████████████████▉            | 376753/500000 [10:30<03:17, 625.23it/s]"
     ]
    },
    {
     "name": "stdout",
     "output_type": "stream",
     "text": [
      "['PRO_16932', 'PRO_18897']\n"
     ]
    },
    {
     "name": "stderr",
     "output_type": "stream",
     "text": [
      " 75%|████████████████████████████████████▉            | 377447/500000 [10:31<03:15, 626.06it/s]"
     ]
    },
    {
     "name": "stdout",
     "output_type": "stream",
     "text": [
      "['PRO_3549', 'PRO_2903']\n"
     ]
    },
    {
     "name": "stderr",
     "output_type": "stream",
     "text": [
      " 76%|█████████████████████████████████████▏           | 379640/500000 [10:35<03:12, 624.91it/s]"
     ]
    },
    {
     "name": "stdout",
     "output_type": "stream",
     "text": [
      "['PRO_22623', 'PRO_2744']\n"
     ]
    },
    {
     "name": "stderr",
     "output_type": "stream",
     "text": [
      " 76%|█████████████████████████████████████▏           | 379766/500000 [10:35<03:14, 617.84it/s]"
     ]
    },
    {
     "name": "stdout",
     "output_type": "stream",
     "text": [
      "['PRO_15677', 'PRO_10056']\n"
     ]
    },
    {
     "name": "stderr",
     "output_type": "stream",
     "text": [
      " 76%|█████████████████████████████████████▎           | 380254/500000 [10:36<03:32, 564.06it/s]"
     ]
    },
    {
     "name": "stdout",
     "output_type": "stream",
     "text": [
      "['PRO_14567', 'PRO_16914']\n"
     ]
    },
    {
     "name": "stderr",
     "output_type": "stream",
     "text": [
      " 76%|█████████████████████████████████████▎           | 380832/500000 [10:37<03:25, 580.08it/s]"
     ]
    },
    {
     "name": "stdout",
     "output_type": "stream",
     "text": [
      "['PRO_20725', 'PRO_16749']\n"
     ]
    },
    {
     "name": "stderr",
     "output_type": "stream",
     "text": [
      " 76%|█████████████████████████████████████▎           | 381082/500000 [10:37<03:14, 612.48it/s]"
     ]
    },
    {
     "name": "stdout",
     "output_type": "stream",
     "text": [
      "['PRO_20493', 'PRO_19719']\n"
     ]
    },
    {
     "name": "stderr",
     "output_type": "stream",
     "text": [
      " 76%|█████████████████████████████████████▍           | 382180/500000 [10:39<03:27, 568.75it/s]"
     ]
    },
    {
     "name": "stdout",
     "output_type": "stream",
     "text": [
      "['PRO_11689', 'PRO_1236']\n",
      "['PRO_16483', 'PRO_3267']\n",
      "['PRO_4207', 'PRO_13628']\n"
     ]
    },
    {
     "name": "stderr",
     "output_type": "stream",
     "text": [
      " 77%|█████████████████████████████████████▌           | 383823/500000 [10:43<03:21, 576.50it/s]"
     ]
    },
    {
     "name": "stdout",
     "output_type": "stream",
     "text": [
      "['PRO_21227', 'PRO_10020']\n"
     ]
    },
    {
     "name": "stderr",
     "output_type": "stream",
     "text": [
      " 77%|█████████████████████████████████████▋           | 384110/500000 [10:43<03:28, 556.52it/s]"
     ]
    },
    {
     "name": "stdout",
     "output_type": "stream",
     "text": [
      "['PRO_22284', 'PRO_10485']\n",
      "['PRO_14600', 'PRO_16701']\n"
     ]
    },
    {
     "name": "stderr",
     "output_type": "stream",
     "text": [
      " 77%|█████████████████████████████████████▋           | 384661/500000 [10:44<03:08, 611.72it/s]"
     ]
    },
    {
     "name": "stdout",
     "output_type": "stream",
     "text": [
      "['PRO_20621', 'PRO_4182']\n"
     ]
    },
    {
     "name": "stderr",
     "output_type": "stream",
     "text": [
      " 77%|█████████████████████████████████████▋           | 384785/500000 [10:44<03:08, 610.25it/s]"
     ]
    },
    {
     "name": "stdout",
     "output_type": "stream",
     "text": [
      "['PRO_2029', 'PRO_21739']\n"
     ]
    },
    {
     "name": "stderr",
     "output_type": "stream",
     "text": [
      " 77%|█████████████████████████████████████▉           | 386944/500000 [10:48<03:01, 623.41it/s]"
     ]
    },
    {
     "name": "stdout",
     "output_type": "stream",
     "text": [
      "['PRO_20390', 'PRO_14359']\n",
      "['PRO_21703', 'PRO_20907']\n"
     ]
    },
    {
     "name": "stderr",
     "output_type": "stream",
     "text": [
      " 77%|█████████████████████████████████████▉           | 387134/500000 [10:48<03:00, 626.33it/s]"
     ]
    },
    {
     "name": "stdout",
     "output_type": "stream",
     "text": [
      "['PRO_22793', 'PRO_12563']\n"
     ]
    },
    {
     "name": "stderr",
     "output_type": "stream",
     "text": [
      " 78%|██████████████████████████████████████           | 388662/500000 [10:51<03:01, 612.22it/s]"
     ]
    },
    {
     "name": "stdout",
     "output_type": "stream",
     "text": [
      "['PRO_23421', 'PRO_20125']\n"
     ]
    },
    {
     "name": "stderr",
     "output_type": "stream",
     "text": [
      " 78%|██████████████████████████████████████▏          | 389664/500000 [10:52<03:00, 610.52it/s]"
     ]
    },
    {
     "name": "stdout",
     "output_type": "stream",
     "text": [
      "['PRO_16875', 'PRO_10052']\n"
     ]
    },
    {
     "name": "stderr",
     "output_type": "stream",
     "text": [
      " 78%|██████████████████████████████████████▎          | 390356/500000 [10:53<02:55, 625.16it/s]"
     ]
    },
    {
     "name": "stdout",
     "output_type": "stream",
     "text": [
      "['PRO_1836', 'PRO_21861']\n",
      "['PRO_10109', 'PRO_14620']\n"
     ]
    },
    {
     "name": "stderr",
     "output_type": "stream",
     "text": [
      " 78%|██████████████████████████████████████▎          | 390921/500000 [10:54<02:56, 618.84it/s]"
     ]
    },
    {
     "name": "stdout",
     "output_type": "stream",
     "text": [
      "['PRO_18276', 'PRO_14641']\n",
      "['PRO_17564', 'PRO_15942']\n"
     ]
    },
    {
     "name": "stderr",
     "output_type": "stream",
     "text": [
      " 79%|██████████████████████████████████████▌          | 392862/500000 [10:58<03:12, 557.19it/s]"
     ]
    },
    {
     "name": "stdout",
     "output_type": "stream",
     "text": [
      "['PRO_1955', 'PRO_18955']\n"
     ]
    },
    {
     "name": "stderr",
     "output_type": "stream",
     "text": [
      " 79%|██████████████████████████████████████▋          | 394767/500000 [11:01<03:02, 577.20it/s]"
     ]
    },
    {
     "name": "stdout",
     "output_type": "stream",
     "text": [
      "['PRO_20368', 'PRO_21815']\n"
     ]
    },
    {
     "name": "stderr",
     "output_type": "stream",
     "text": [
      " 79%|██████████████████████████████████████▊          | 395869/500000 [11:03<02:49, 612.73it/s]"
     ]
    },
    {
     "name": "stdout",
     "output_type": "stream",
     "text": [
      "['PRO_22635', 'PRO_19385']\n"
     ]
    },
    {
     "name": "stderr",
     "output_type": "stream",
     "text": [
      " 79%|██████████████████████████████████████▊          | 396186/500000 [11:04<02:45, 625.80it/s]"
     ]
    },
    {
     "name": "stdout",
     "output_type": "stream",
     "text": [
      "['PRO_21249', 'PRO_22313']\n"
     ]
    },
    {
     "name": "stderr",
     "output_type": "stream",
     "text": [
      " 79%|██████████████████████████████████████▉          | 396865/500000 [11:05<02:53, 595.43it/s]"
     ]
    },
    {
     "name": "stdout",
     "output_type": "stream",
     "text": [
      "['PRO_14938', 'PRO_13503']\n"
     ]
    },
    {
     "name": "stderr",
     "output_type": "stream",
     "text": [
      " 80%|███████████████████████████████████████          | 398149/500000 [11:07<02:49, 601.84it/s]"
     ]
    },
    {
     "name": "stdout",
     "output_type": "stream",
     "text": [
      "['PRO_19251', 'PRO_1560']\n"
     ]
    },
    {
     "name": "stderr",
     "output_type": "stream",
     "text": [
      " 80%|███████████████████████████████████████▏         | 399433/500000 [11:09<03:15, 513.95it/s]"
     ]
    },
    {
     "name": "stdout",
     "output_type": "stream",
     "text": [
      "['PRO_22118', 'PRO_13014']\n",
      "['PRO_1783', 'PRO_15998']\n"
     ]
    },
    {
     "name": "stderr",
     "output_type": "stream",
     "text": [
      " 80%|███████████████████████████████████████▏         | 399601/500000 [11:10<03:04, 544.58it/s]"
     ]
    },
    {
     "name": "stdout",
     "output_type": "stream",
     "text": [
      "['PRO_22485', 'PRO_23156']\n"
     ]
    },
    {
     "name": "stderr",
     "output_type": "stream",
     "text": [
      " 80%|███████████████████████████████████████▎         | 400818/500000 [11:12<03:11, 518.08it/s]"
     ]
    },
    {
     "name": "stdout",
     "output_type": "stream",
     "text": [
      "['PRO_23396', 'PRO_11009']\n"
     ]
    },
    {
     "name": "stderr",
     "output_type": "stream",
     "text": [
      " 80%|███████████████████████████████████████▎         | 401169/500000 [11:12<02:47, 591.07it/s]"
     ]
    },
    {
     "name": "stdout",
     "output_type": "stream",
     "text": [
      "['PRO_20469', 'PRO_22828']\n",
      "['PRO_14178', 'PRO_251']\n"
     ]
    },
    {
     "name": "stderr",
     "output_type": "stream",
     "text": [
      " 80%|███████████████████████████████████████▍         | 402165/500000 [11:14<02:39, 613.11it/s]"
     ]
    },
    {
     "name": "stdout",
     "output_type": "stream",
     "text": [
      "['PRO_18064', 'PRO_11537']\n"
     ]
    },
    {
     "name": "stderr",
     "output_type": "stream",
     "text": [
      " 81%|███████████████████████████████████████▌         | 403537/500000 [11:16<02:33, 627.04it/s]"
     ]
    },
    {
     "name": "stdout",
     "output_type": "stream",
     "text": [
      "['PRO_21256', 'PRO_12066']\n"
     ]
    },
    {
     "name": "stderr",
     "output_type": "stream",
     "text": [
      " 81%|███████████████████████████████████████▌         | 403789/500000 [11:17<02:35, 619.16it/s]"
     ]
    },
    {
     "name": "stdout",
     "output_type": "stream",
     "text": [
      "['PRO_21941', 'PRO_2767']\n"
     ]
    },
    {
     "name": "stderr",
     "output_type": "stream",
     "text": [
      " 81%|███████████████████████████████████████▌         | 404281/500000 [11:18<02:35, 614.75it/s]"
     ]
    },
    {
     "name": "stdout",
     "output_type": "stream",
     "text": [
      "['PRO_1269', 'PRO_20458']\n"
     ]
    },
    {
     "name": "stderr",
     "output_type": "stream",
     "text": [
      " 81%|███████████████████████████████████████▋         | 404853/500000 [11:18<02:31, 628.77it/s]"
     ]
    },
    {
     "name": "stdout",
     "output_type": "stream",
     "text": [
      "['PRO_18608', 'PRO_20192']\n"
     ]
    },
    {
     "name": "stderr",
     "output_type": "stream",
     "text": [
      " 81%|███████████████████████████████████████▊         | 405740/500000 [11:20<02:29, 630.51it/s]"
     ]
    },
    {
     "name": "stdout",
     "output_type": "stream",
     "text": [
      "['PRO_20164', 'PRO_17523']\n"
     ]
    },
    {
     "name": "stderr",
     "output_type": "stream",
     "text": [
      " 81%|███████████████████████████████████████▉         | 407169/500000 [11:23<02:49, 546.36it/s]"
     ]
    },
    {
     "name": "stdout",
     "output_type": "stream",
     "text": [
      "['PRO_4160', 'PRO_14194']\n"
     ]
    },
    {
     "name": "stderr",
     "output_type": "stream",
     "text": [
      " 81%|███████████████████████████████████████▉         | 407357/500000 [11:23<02:35, 595.06it/s]"
     ]
    },
    {
     "name": "stdout",
     "output_type": "stream",
     "text": [
      "['PRO_22020', 'PRO_12563']\n"
     ]
    },
    {
     "name": "stderr",
     "output_type": "stream",
     "text": [
      " 82%|████████████████████████████████████████         | 408475/500000 [11:25<02:32, 600.28it/s]"
     ]
    },
    {
     "name": "stdout",
     "output_type": "stream",
     "text": [
      "['PRO_15845', 'PRO_23349']\n"
     ]
    },
    {
     "name": "stderr",
     "output_type": "stream",
     "text": [
      " 82%|████████████████████████████████████████         | 408972/500000 [11:26<02:30, 602.96it/s]"
     ]
    },
    {
     "name": "stdout",
     "output_type": "stream",
     "text": [
      "['PRO_10097', 'PRO_23119']\n"
     ]
    },
    {
     "name": "stderr",
     "output_type": "stream",
     "text": [
      " 82%|████████████████████████████████████████         | 409436/500000 [11:26<02:46, 543.20it/s]"
     ]
    },
    {
     "name": "stdout",
     "output_type": "stream",
     "text": [
      "['PRO_1369', 'PRO_19150']\n"
     ]
    },
    {
     "name": "stderr",
     "output_type": "stream",
     "text": [
      " 82%|████████████████████████████████████████▏        | 410468/500000 [11:28<02:32, 588.78it/s]"
     ]
    },
    {
     "name": "stdout",
     "output_type": "stream",
     "text": [
      "['PRO_17668', 'PRO_2334']\n"
     ]
    },
    {
     "name": "stderr",
     "output_type": "stream",
     "text": [
      " 82%|████████████████████████████████████████▎        | 411213/500000 [11:29<02:28, 596.39it/s]"
     ]
    },
    {
     "name": "stdout",
     "output_type": "stream",
     "text": [
      "['PRO_15181', 'PRO_430']\n"
     ]
    },
    {
     "name": "stderr",
     "output_type": "stream",
     "text": [
      " 82%|████████████████████████████████████████▎        | 411457/500000 [11:30<02:26, 603.74it/s]"
     ]
    },
    {
     "name": "stdout",
     "output_type": "stream",
     "text": [
      "['PRO_13737', 'PRO_15142']\n"
     ]
    },
    {
     "name": "stderr",
     "output_type": "stream",
     "text": [
      " 83%|████████████████████████████████████████▍        | 413067/500000 [11:32<02:18, 627.26it/s]"
     ]
    },
    {
     "name": "stdout",
     "output_type": "stream",
     "text": [
      "['PRO_18435', 'PRO_20759']\n",
      "['PRO_12363', 'PRO_23012']\n"
     ]
    },
    {
     "name": "stderr",
     "output_type": "stream",
     "text": [
      " 83%|████████████████████████████████████████▌        | 413560/500000 [11:33<02:32, 565.25it/s]"
     ]
    },
    {
     "name": "stdout",
     "output_type": "stream",
     "text": [
      "['PRO_17118', 'PRO_23038']\n"
     ]
    },
    {
     "name": "stderr",
     "output_type": "stream",
     "text": [
      " 83%|████████████████████████████████████████▌        | 413856/500000 [11:34<02:36, 552.19it/s]"
     ]
    },
    {
     "name": "stdout",
     "output_type": "stream",
     "text": [
      "['PRO_22901', 'PRO_19389']\n"
     ]
    },
    {
     "name": "stderr",
     "output_type": "stream",
     "text": [
      " 83%|████████████████████████████████████████▋        | 414697/500000 [11:35<02:22, 598.73it/s]"
     ]
    },
    {
     "name": "stdout",
     "output_type": "stream",
     "text": [
      "['PRO_18984', 'PRO_15142']\n"
     ]
    },
    {
     "name": "stderr",
     "output_type": "stream",
     "text": [
      " 83%|████████████████████████████████████████▋        | 415004/500000 [11:36<02:23, 591.92it/s]"
     ]
    },
    {
     "name": "stdout",
     "output_type": "stream",
     "text": [
      "['PRO_13703', 'PRO_4098']\n"
     ]
    },
    {
     "name": "stderr",
     "output_type": "stream",
     "text": [
      " 83%|████████████████████████████████████████▋        | 415235/500000 [11:36<02:53, 487.50it/s]"
     ]
    },
    {
     "name": "stdout",
     "output_type": "stream",
     "text": [
      "['PRO_16240', 'PRO_10415']\n"
     ]
    },
    {
     "name": "stderr",
     "output_type": "stream",
     "text": [
      " 83%|████████████████████████████████████████▊        | 416299/500000 [11:38<02:21, 593.10it/s]"
     ]
    },
    {
     "name": "stdout",
     "output_type": "stream",
     "text": [
      "['PRO_22804', 'PRO_18064']\n",
      "['PRO_4028', 'PRO_3442']\n",
      "['PRO_3955', 'PRO_19055']\n"
     ]
    },
    {
     "name": "stderr",
     "output_type": "stream",
     "text": [
      " 83%|████████████████████████████████████████▊        | 416486/500000 [11:39<02:16, 612.83it/s]"
     ]
    },
    {
     "name": "stdout",
     "output_type": "stream",
     "text": [
      "['PRO_3257', 'PRO_18276']\n"
     ]
    },
    {
     "name": "stderr",
     "output_type": "stream",
     "text": [
      " 83%|████████████████████████████████████████▊        | 416610/500000 [11:39<02:18, 600.91it/s]"
     ]
    },
    {
     "name": "stdout",
     "output_type": "stream",
     "text": [
      "['PRO_18269', 'PRO_18924']\n"
     ]
    },
    {
     "name": "stderr",
     "output_type": "stream",
     "text": [
      " 83%|████████████████████████████████████████▊        | 416858/500000 [11:39<02:15, 612.79it/s]"
     ]
    },
    {
     "name": "stdout",
     "output_type": "stream",
     "text": [
      "['PRO_21778', 'PRO_15079']\n"
     ]
    },
    {
     "name": "stderr",
     "output_type": "stream",
     "text": [
      " 83%|████████████████████████████████████████▉        | 417462/500000 [11:40<02:21, 582.17it/s]"
     ]
    },
    {
     "name": "stdout",
     "output_type": "stream",
     "text": [
      "['PRO_21468', 'PRO_19101']\n"
     ]
    },
    {
     "name": "stderr",
     "output_type": "stream",
     "text": [
      " 84%|████████████████████████████████████████▉        | 417647/500000 [11:41<02:21, 583.26it/s]"
     ]
    },
    {
     "name": "stdout",
     "output_type": "stream",
     "text": [
      "['PRO_20723', 'PRO_19150']\n"
     ]
    },
    {
     "name": "stderr",
     "output_type": "stream",
     "text": [
      " 84%|████████████████████████████████████████▉        | 418084/500000 [11:41<02:13, 615.66it/s]"
     ]
    },
    {
     "name": "stdout",
     "output_type": "stream",
     "text": [
      "['PRO_13044', 'PRO_14949']\n"
     ]
    },
    {
     "name": "stderr",
     "output_type": "stream",
     "text": [
      " 84%|█████████████████████████████████████████▏       | 419841/500000 [11:44<02:09, 621.22it/s]"
     ]
    },
    {
     "name": "stdout",
     "output_type": "stream",
     "text": [
      "['PRO_2666', 'PRO_4291']\n",
      "['PRO_16596', 'PRO_20370']\n"
     ]
    },
    {
     "name": "stderr",
     "output_type": "stream",
     "text": [
      " 84%|█████████████████████████████████████████▏       | 420783/500000 [11:46<02:09, 613.43it/s]"
     ]
    },
    {
     "name": "stdout",
     "output_type": "stream",
     "text": [
      "['PRO_14882', 'PRO_3792']\n"
     ]
    },
    {
     "name": "stderr",
     "output_type": "stream",
     "text": [
      " 84%|█████████████████████████████████████████▎       | 421856/500000 [11:47<02:05, 622.78it/s]"
     ]
    },
    {
     "name": "stdout",
     "output_type": "stream",
     "text": [
      "['PRO_16040', 'PRO_22690']\n"
     ]
    },
    {
     "name": "stderr",
     "output_type": "stream",
     "text": [
      " 85%|█████████████████████████████████████████▍       | 423251/500000 [11:50<02:25, 526.14it/s]"
     ]
    },
    {
     "name": "stdout",
     "output_type": "stream",
     "text": [
      "['PRO_12980', 'PRO_22262']\n"
     ]
    },
    {
     "name": "stderr",
     "output_type": "stream",
     "text": [
      " 85%|█████████████████████████████████████████▊       | 426562/500000 [11:55<01:59, 613.57it/s]"
     ]
    },
    {
     "name": "stdout",
     "output_type": "stream",
     "text": [
      "['PRO_20759', 'PRO_17372']\n"
     ]
    },
    {
     "name": "stderr",
     "output_type": "stream",
     "text": [
      " 86%|█████████████████████████████████████████▉       | 427686/500000 [11:57<01:55, 626.11it/s]"
     ]
    },
    {
     "name": "stdout",
     "output_type": "stream",
     "text": [
      "['PRO_11943', 'PRO_16059']\n",
      "['PRO_21761', 'PRO_18694']\n"
     ]
    },
    {
     "name": "stderr",
     "output_type": "stream",
     "text": [
      " 86%|█████████████████████████████████████████▉       | 428372/500000 [11:58<01:57, 610.09it/s]"
     ]
    },
    {
     "name": "stdout",
     "output_type": "stream",
     "text": [
      "['PRO_12274', 'PRO_14859']\n"
     ]
    },
    {
     "name": "stderr",
     "output_type": "stream",
     "text": [
      " 86%|██████████████████████████████████████████       | 428727/500000 [11:59<02:18, 514.35it/s]"
     ]
    },
    {
     "name": "stdout",
     "output_type": "stream",
     "text": [
      "['PRO_20125', 'PRO_18434']\n"
     ]
    },
    {
     "name": "stderr",
     "output_type": "stream",
     "text": [
      " 86%|██████████████████████████████████████████       | 428959/500000 [11:59<02:07, 557.92it/s]"
     ]
    },
    {
     "name": "stdout",
     "output_type": "stream",
     "text": [
      "['PRO_23187', 'PRO_12137']\n"
     ]
    },
    {
     "name": "stderr",
     "output_type": "stream",
     "text": [
      " 86%|██████████████████████████████████████████       | 429134/500000 [12:00<02:06, 560.90it/s]"
     ]
    },
    {
     "name": "stdout",
     "output_type": "stream",
     "text": [
      "['PRO_20725', 'PRO_13636']\n"
     ]
    },
    {
     "name": "stderr",
     "output_type": "stream",
     "text": [
      " 86%|██████████████████████████████████████████       | 429641/500000 [12:01<02:15, 520.09it/s]"
     ]
    },
    {
     "name": "stdout",
     "output_type": "stream",
     "text": [
      "['PRO_21845', 'PRO_15142']\n"
     ]
    },
    {
     "name": "stderr",
     "output_type": "stream",
     "text": [
      " 86%|██████████████████████████████████████████▏      | 430596/500000 [12:02<01:51, 623.93it/s]"
     ]
    },
    {
     "name": "stdout",
     "output_type": "stream",
     "text": [
      "['PRO_19827', 'PRO_13967']\n"
     ]
    },
    {
     "name": "stderr",
     "output_type": "stream",
     "text": [
      " 86%|██████████████████████████████████████████▏      | 430971/500000 [12:03<01:52, 613.84it/s]"
     ]
    },
    {
     "name": "stdout",
     "output_type": "stream",
     "text": [
      "['PRO_14161', 'PRO_10225']\n",
      "['PRO_21999', 'PRO_1665']\n"
     ]
    },
    {
     "name": "stderr",
     "output_type": "stream",
     "text": [
      " 86%|██████████████████████████████████████████▎      | 431535/500000 [12:04<01:49, 624.30it/s]"
     ]
    },
    {
     "name": "stdout",
     "output_type": "stream",
     "text": [
      "['PRO_23361', 'PRO_20402']\n",
      "['PRO_13044', 'PRO_21079']\n"
     ]
    },
    {
     "name": "stderr",
     "output_type": "stream",
     "text": [
      " 87%|██████████████████████████████████████████▍      | 433051/500000 [12:06<01:48, 616.76it/s]"
     ]
    },
    {
     "name": "stdout",
     "output_type": "stream",
     "text": [
      "['PRO_12193', 'PRO_14659']\n"
     ]
    },
    {
     "name": "stderr",
     "output_type": "stream",
     "text": [
      " 87%|██████████████████████████████████████████▍      | 433552/500000 [12:07<01:46, 625.86it/s]"
     ]
    },
    {
     "name": "stdout",
     "output_type": "stream",
     "text": [
      "['PRO_16784', 'PRO_10699']\n"
     ]
    },
    {
     "name": "stderr",
     "output_type": "stream",
     "text": [
      " 87%|██████████████████████████████████████████▌      | 433931/500000 [12:08<01:45, 626.80it/s]"
     ]
    },
    {
     "name": "stdout",
     "output_type": "stream",
     "text": [
      "['PRO_17968', 'PRO_22930']\n",
      "['PRO_17814', 'PRO_23049']\n"
     ]
    },
    {
     "name": "stderr",
     "output_type": "stream",
     "text": [
      " 87%|██████████████████████████████████████████▌      | 434875/500000 [12:09<01:44, 620.79it/s]"
     ]
    },
    {
     "name": "stdout",
     "output_type": "stream",
     "text": [
      "['PRO_12274', 'PRO_19362']\n",
      "['PRO_3998', 'PRO_15984']\n"
     ]
    },
    {
     "name": "stderr",
     "output_type": "stream",
     "text": [
      " 87%|██████████████████████████████████████████▋      | 435125/500000 [12:10<01:44, 618.01it/s]"
     ]
    },
    {
     "name": "stdout",
     "output_type": "stream",
     "text": [
      "['PRO_15677', 'PRO_14418']\n"
     ]
    },
    {
     "name": "stderr",
     "output_type": "stream",
     "text": [
      " 87%|██████████████████████████████████████████▋      | 435493/500000 [12:10<01:47, 602.14it/s]"
     ]
    },
    {
     "name": "stdout",
     "output_type": "stream",
     "text": [
      "['PRO_18297', 'PRO_141']\n"
     ]
    },
    {
     "name": "stderr",
     "output_type": "stream",
     "text": [
      " 87%|██████████████████████████████████████████▋      | 436119/500000 [12:11<01:43, 617.94it/s]"
     ]
    },
    {
     "name": "stdout",
     "output_type": "stream",
     "text": [
      "['PRO_17814', 'PRO_19871']\n"
     ]
    },
    {
     "name": "stderr",
     "output_type": "stream",
     "text": [
      " 87%|██████████████████████████████████████████▊      | 437087/500000 [12:13<01:55, 547.01it/s]"
     ]
    },
    {
     "name": "stdout",
     "output_type": "stream",
     "text": [
      "['PRO_4446', 'PRO_13730']\n"
     ]
    },
    {
     "name": "stderr",
     "output_type": "stream",
     "text": [
      " 88%|██████████████████████████████████████████▉      | 438542/500000 [12:16<02:02, 499.90it/s]"
     ]
    },
    {
     "name": "stdout",
     "output_type": "stream",
     "text": [
      "['PRO_14608', 'PRO_14280']\n"
     ]
    },
    {
     "name": "stderr",
     "output_type": "stream",
     "text": [
      " 88%|███████████████████████████████████████████      | 439431/500000 [12:18<02:26, 414.70it/s]"
     ]
    },
    {
     "name": "stdout",
     "output_type": "stream",
     "text": [
      "['PRO_14418', 'PRO_17545']\n"
     ]
    },
    {
     "name": "stderr",
     "output_type": "stream",
     "text": [
      " 88%|███████████████████████████████████████████      | 439602/500000 [12:18<02:30, 402.48it/s]"
     ]
    },
    {
     "name": "stdout",
     "output_type": "stream",
     "text": [
      "['PRO_3603', 'PRO_23187']\n"
     ]
    },
    {
     "name": "stderr",
     "output_type": "stream",
     "text": [
      " 88%|███████████████████████████████████████████      | 439983/500000 [12:19<02:09, 463.46it/s]"
     ]
    },
    {
     "name": "stdout",
     "output_type": "stream",
     "text": [
      "['PRO_10021', 'PRO_1187']\n"
     ]
    },
    {
     "name": "stderr",
     "output_type": "stream",
     "text": [
      " 88%|███████████████████████████████████████████▏     | 440259/500000 [12:20<02:16, 437.45it/s]"
     ]
    },
    {
     "name": "stdout",
     "output_type": "stream",
     "text": [
      "['PRO_3275', 'PRO_21040']\n"
     ]
    },
    {
     "name": "stderr",
     "output_type": "stream",
     "text": [
      " 88%|███████████████████████████████████████████▏     | 440564/500000 [12:20<01:52, 528.15it/s]"
     ]
    },
    {
     "name": "stdout",
     "output_type": "stream",
     "text": [
      "['PRO_21222', 'PRO_13691']\n"
     ]
    },
    {
     "name": "stderr",
     "output_type": "stream",
     "text": [
      " 88%|███████████████████████████████████████████▎     | 442158/500000 [12:23<01:35, 602.62it/s]"
     ]
    },
    {
     "name": "stdout",
     "output_type": "stream",
     "text": [
      "['PRO_238', 'PRO_3888']\n"
     ]
    },
    {
     "name": "stderr",
     "output_type": "stream",
     "text": [
      " 89%|███████████████████████████████████████████▎     | 442513/500000 [12:24<01:41, 567.38it/s]"
     ]
    },
    {
     "name": "stdout",
     "output_type": "stream",
     "text": [
      "['PRO_16145', 'PRO_13865']\n"
     ]
    },
    {
     "name": "stderr",
     "output_type": "stream",
     "text": [
      " 89%|███████████████████████████████████████████▌     | 444036/500000 [12:26<01:31, 613.11it/s]"
     ]
    },
    {
     "name": "stdout",
     "output_type": "stream",
     "text": [
      "['PRO_21472', 'PRO_20619']\n"
     ]
    },
    {
     "name": "stderr",
     "output_type": "stream",
     "text": [
      " 89%|███████████████████████████████████████████▌     | 444480/500000 [12:27<01:28, 627.24it/s]"
     ]
    },
    {
     "name": "stdout",
     "output_type": "stream",
     "text": [
      "['PRO_17968', 'PRO_14178']\n",
      "['PRO_11265', 'PRO_12481']\n"
     ]
    },
    {
     "name": "stderr",
     "output_type": "stream",
     "text": [
      " 89%|███████████████████████████████████████████▋     | 445743/500000 [12:29<01:26, 625.35it/s]"
     ]
    },
    {
     "name": "stdout",
     "output_type": "stream",
     "text": [
      "['PRO_18297', 'PRO_16857']\n"
     ]
    },
    {
     "name": "stderr",
     "output_type": "stream",
     "text": [
      " 89%|███████████████████████████████████████████▊     | 446580/500000 [12:30<01:32, 579.46it/s]"
     ]
    },
    {
     "name": "stdout",
     "output_type": "stream",
     "text": [
      "['PRO_20066', 'PRO_15916']\n"
     ]
    },
    {
     "name": "stderr",
     "output_type": "stream",
     "text": [
      " 90%|███████████████████████████████████████████▊     | 447698/500000 [12:32<01:25, 612.41it/s]"
     ]
    },
    {
     "name": "stdout",
     "output_type": "stream",
     "text": [
      "['PRO_20469', 'PRO_21468']\n"
     ]
    },
    {
     "name": "stderr",
     "output_type": "stream",
     "text": [
      " 90%|███████████████████████████████████████████▉     | 448012/500000 [12:33<01:23, 623.33it/s]"
     ]
    },
    {
     "name": "stdout",
     "output_type": "stream",
     "text": [
      "['PRO_15570', 'PRO_22583']\n",
      "['PRO_17060', 'PRO_12653']\n"
     ]
    },
    {
     "name": "stderr",
     "output_type": "stream",
     "text": [
      " 90%|███████████████████████████████████████████▉     | 448838/500000 [12:34<01:21, 630.98it/s]"
     ]
    },
    {
     "name": "stdout",
     "output_type": "stream",
     "text": [
      "['PRO_22347', 'PRO_17678']\n"
     ]
    },
    {
     "name": "stderr",
     "output_type": "stream",
     "text": [
      " 90%|████████████████████████████████████████████▏    | 450614/500000 [12:37<01:20, 610.26it/s]"
     ]
    },
    {
     "name": "stdout",
     "output_type": "stream",
     "text": [
      "['PRO_16985', 'PRO_4194']\n"
     ]
    },
    {
     "name": "stderr",
     "output_type": "stream",
     "text": [
      " 90%|████████████████████████████████████████████▎    | 451803/500000 [12:39<01:17, 618.22it/s]"
     ]
    },
    {
     "name": "stdout",
     "output_type": "stream",
     "text": [
      "['PRO_14980', 'PRO_22289']\n"
     ]
    },
    {
     "name": "stderr",
     "output_type": "stream",
     "text": [
      " 90%|████████████████████████████████████████████▎    | 452179/500000 [12:39<01:17, 616.04it/s]"
     ]
    },
    {
     "name": "stdout",
     "output_type": "stream",
     "text": [
      "['PRO_14444', 'PRO_10655']\n"
     ]
    },
    {
     "name": "stderr",
     "output_type": "stream",
     "text": [
      " 91%|████████████████████████████████████████████▎    | 452749/500000 [12:40<01:17, 607.41it/s]"
     ]
    },
    {
     "name": "stdout",
     "output_type": "stream",
     "text": [
      "['PRO_3603', 'PRO_18249']\n"
     ]
    },
    {
     "name": "stderr",
     "output_type": "stream",
     "text": [
      " 91%|████████████████████████████████████████████▍    | 452933/500000 [12:41<01:18, 600.82it/s]"
     ]
    },
    {
     "name": "stdout",
     "output_type": "stream",
     "text": [
      "['PRO_19385', 'PRO_22635']\n"
     ]
    },
    {
     "name": "stderr",
     "output_type": "stream",
     "text": [
      " 91%|████████████████████████████████████████████▍    | 453683/500000 [12:42<01:15, 616.72it/s]"
     ]
    },
    {
     "name": "stdout",
     "output_type": "stream",
     "text": [
      "['PRO_21079', 'PRO_18140']\n"
     ]
    },
    {
     "name": "stderr",
     "output_type": "stream",
     "text": [
      " 91%|████████████████████████████████████████████▍    | 454060/500000 [12:42<01:13, 623.76it/s]"
     ]
    },
    {
     "name": "stdout",
     "output_type": "stream",
     "text": [
      "['PRO_12939', 'PRO_16652']\n"
     ]
    },
    {
     "name": "stderr",
     "output_type": "stream",
     "text": [
      " 91%|████████████████████████████████████████████▌    | 454756/500000 [12:43<01:11, 630.59it/s]"
     ]
    },
    {
     "name": "stdout",
     "output_type": "stream",
     "text": [
      "['PRO_2029', 'PRO_3093']\n"
     ]
    },
    {
     "name": "stderr",
     "output_type": "stream",
     "text": [
      " 92%|████████████████████████████████████████████▉    | 458212/500000 [12:49<01:07, 614.77it/s]"
     ]
    },
    {
     "name": "stdout",
     "output_type": "stream",
     "text": [
      "['PRO_11376', 'PRO_14536']\n"
     ]
    },
    {
     "name": "stderr",
     "output_type": "stream",
     "text": [
      " 92%|████████████████████████████████████████████▉    | 458581/500000 [12:50<01:08, 604.66it/s]"
     ]
    },
    {
     "name": "stdout",
     "output_type": "stream",
     "text": [
      "['PRO_23435', 'PRO_22427']\n"
     ]
    },
    {
     "name": "stderr",
     "output_type": "stream",
     "text": [
      " 92%|█████████████████████████████████████████████    | 459336/500000 [12:51<01:04, 626.47it/s]"
     ]
    },
    {
     "name": "stdout",
     "output_type": "stream",
     "text": [
      "['PRO_1508', 'PRO_12865']\n"
     ]
    },
    {
     "name": "stderr",
     "output_type": "stream",
     "text": [
      " 92%|█████████████████████████████████████████████▏   | 460526/500000 [12:53<01:03, 623.89it/s]"
     ]
    },
    {
     "name": "stdout",
     "output_type": "stream",
     "text": [
      "['PRO_17372', 'PRO_3557']\n"
     ]
    },
    {
     "name": "stderr",
     "output_type": "stream",
     "text": [
      " 92%|█████████████████████████████████████████████▏   | 461283/500000 [12:54<01:02, 619.05it/s]"
     ]
    },
    {
     "name": "stdout",
     "output_type": "stream",
     "text": [
      "['PRO_22583', 'PRO_3748']\n"
     ]
    },
    {
     "name": "stderr",
     "output_type": "stream",
     "text": [
      " 92%|█████████████████████████████████████████████▏   | 461594/500000 [12:55<01:02, 617.13it/s]"
     ]
    },
    {
     "name": "stdout",
     "output_type": "stream",
     "text": [
      "['PRO_20392', 'PRO_16334']\n",
      "['PRO_12062', 'PRO_21308']\n"
     ]
    },
    {
     "name": "stderr",
     "output_type": "stream",
     "text": [
      " 92%|█████████████████████████████████████████████▎   | 462161/500000 [12:55<01:00, 627.57it/s]"
     ]
    },
    {
     "name": "stdout",
     "output_type": "stream",
     "text": [
      "['PRO_22000', 'PRO_18497']\n"
     ]
    },
    {
     "name": "stderr",
     "output_type": "stream",
     "text": [
      " 93%|█████████████████████████████████████████████▎   | 462607/500000 [12:56<00:59, 630.57it/s]"
     ]
    },
    {
     "name": "stdout",
     "output_type": "stream",
     "text": [
      "['PRO_14551', 'PRO_21407']\n"
     ]
    },
    {
     "name": "stderr",
     "output_type": "stream",
     "text": [
      " 93%|█████████████████████████████████████████████▍   | 463564/500000 [12:58<00:57, 632.68it/s]"
     ]
    },
    {
     "name": "stdout",
     "output_type": "stream",
     "text": [
      "['PRO_10353', 'PRO_2982']\n"
     ]
    },
    {
     "name": "stderr",
     "output_type": "stream",
     "text": [
      " 93%|█████████████████████████████████████████████▍   | 464011/500000 [12:58<00:57, 629.48it/s]"
     ]
    },
    {
     "name": "stdout",
     "output_type": "stream",
     "text": [
      "['PRO_15828', 'PRO_1067']\n",
      "['PRO_4207', 'PRO_11537']\n"
     ]
    },
    {
     "name": "stderr",
     "output_type": "stream",
     "text": [
      " 93%|█████████████████████████████████████████████▋   | 465590/500000 [13:01<00:54, 631.83it/s]"
     ]
    },
    {
     "name": "stdout",
     "output_type": "stream",
     "text": [
      "['PRO_1008', 'PRO_13046']\n"
     ]
    },
    {
     "name": "stderr",
     "output_type": "stream",
     "text": [
      " 93%|█████████████████████████████████████████████▋   | 465782/500000 [13:01<00:54, 631.60it/s]"
     ]
    },
    {
     "name": "stdout",
     "output_type": "stream",
     "text": [
      "['PRO_17380', 'PRO_4626']\n"
     ]
    },
    {
     "name": "stderr",
     "output_type": "stream",
     "text": [
      " 93%|█████████████████████████████████████████████▋   | 465975/500000 [13:02<00:53, 633.57it/s]"
     ]
    },
    {
     "name": "stdout",
     "output_type": "stream",
     "text": [
      "['PRO_1273', 'PRO_22488']\n",
      "['PRO_1095', 'PRO_21537']\n"
     ]
    },
    {
     "name": "stderr",
     "output_type": "stream",
     "text": [
      " 93%|█████████████████████████████████████████████▋   | 466296/500000 [13:02<00:53, 633.93it/s]"
     ]
    },
    {
     "name": "stdout",
     "output_type": "stream",
     "text": [
      "['PRO_22114', 'PRO_15079']\n"
     ]
    },
    {
     "name": "stderr",
     "output_type": "stream",
     "text": [
      " 94%|█████████████████████████████████████████████▉   | 468132/500000 [13:05<00:51, 616.89it/s]"
     ]
    },
    {
     "name": "stdout",
     "output_type": "stream",
     "text": [
      "['PRO_13148', 'PRO_1088']\n"
     ]
    },
    {
     "name": "stderr",
     "output_type": "stream",
     "text": [
      " 94%|█████████████████████████████████████████████▉   | 469017/500000 [13:06<00:49, 625.64it/s]"
     ]
    },
    {
     "name": "stdout",
     "output_type": "stream",
     "text": [
      "['PRO_392', 'PRO_22383']\n"
     ]
    },
    {
     "name": "stderr",
     "output_type": "stream",
     "text": [
      " 94%|██████████████████████████████████████████████   | 469396/500000 [13:07<00:48, 626.59it/s]"
     ]
    },
    {
     "name": "stdout",
     "output_type": "stream",
     "text": [
      "['PRO_13025', 'PRO_21293']\n"
     ]
    },
    {
     "name": "stderr",
     "output_type": "stream",
     "text": [
      " 94%|██████████████████████████████████████████████   | 469586/500000 [13:07<00:48, 624.68it/s]"
     ]
    },
    {
     "name": "stdout",
     "output_type": "stream",
     "text": [
      "['PRO_1451', 'PRO_14608']\n"
     ]
    },
    {
     "name": "stderr",
     "output_type": "stream",
     "text": [
      " 94%|██████████████████████████████████████████████   | 469838/500000 [13:08<00:48, 621.64it/s]"
     ]
    },
    {
     "name": "stdout",
     "output_type": "stream",
     "text": [
      "['PRO_12971', 'PRO_13111']\n"
     ]
    },
    {
     "name": "stderr",
     "output_type": "stream",
     "text": [
      " 94%|██████████████████████████████████████████████   | 470216/500000 [13:08<00:48, 609.42it/s]"
     ]
    },
    {
     "name": "stdout",
     "output_type": "stream",
     "text": [
      "['PRO_12000', 'PRO_14694']\n"
     ]
    },
    {
     "name": "stderr",
     "output_type": "stream",
     "text": [
      " 94%|██████████████████████████████████████████████   | 470467/500000 [13:09<00:48, 611.30it/s]"
     ]
    },
    {
     "name": "stdout",
     "output_type": "stream",
     "text": [
      "['PRO_25', 'PRO_16072']\n"
     ]
    },
    {
     "name": "stderr",
     "output_type": "stream",
     "text": [
      " 94%|██████████████████████████████████████████████▏  | 471450/500000 [13:10<00:46, 608.23it/s]"
     ]
    },
    {
     "name": "stdout",
     "output_type": "stream",
     "text": [
      "['PRO_18706', 'PRO_20402']\n"
     ]
    },
    {
     "name": "stderr",
     "output_type": "stream",
     "text": [
      " 94%|██████████████████████████████████████████████▎  | 471947/500000 [13:11<00:46, 604.23it/s]"
     ]
    },
    {
     "name": "stdout",
     "output_type": "stream",
     "text": [
      "['PRO_11272', 'PRO_141']\n"
     ]
    },
    {
     "name": "stderr",
     "output_type": "stream",
     "text": [
      " 95%|██████████████████████████████████████████████▍  | 473631/500000 [13:14<00:42, 620.27it/s]"
     ]
    },
    {
     "name": "stdout",
     "output_type": "stream",
     "text": [
      "['PRO_23018', 'PRO_11095']\n",
      "['PRO_11481', 'PRO_1226']\n"
     ]
    },
    {
     "name": "stderr",
     "output_type": "stream",
     "text": [
      " 95%|██████████████████████████████████████████████▍  | 474070/500000 [13:15<00:41, 619.28it/s]"
     ]
    },
    {
     "name": "stdout",
     "output_type": "stream",
     "text": [
      "['PRO_10352', 'PRO_14049']\n",
      "['PRO_16701', 'PRO_16724']\n"
     ]
    },
    {
     "name": "stderr",
     "output_type": "stream",
     "text": [
      " 95%|██████████████████████████████████████████████▍  | 474381/500000 [13:15<00:41, 612.72it/s]"
     ]
    },
    {
     "name": "stdout",
     "output_type": "stream",
     "text": [
      "['PRO_16483', 'PRO_11835']\n"
     ]
    },
    {
     "name": "stderr",
     "output_type": "stream",
     "text": [
      " 95%|██████████████████████████████████████████████▌  | 474628/500000 [13:16<00:41, 606.96it/s]"
     ]
    },
    {
     "name": "stdout",
     "output_type": "stream",
     "text": [
      "['PRO_18435', 'PRO_21154']\n"
     ]
    },
    {
     "name": "stderr",
     "output_type": "stream",
     "text": [
      " 95%|██████████████████████████████████████████████▋  | 475987/500000 [13:18<00:39, 608.46it/s]"
     ]
    },
    {
     "name": "stdout",
     "output_type": "stream",
     "text": [
      "['PRO_14871', 'PRO_20215']\n"
     ]
    },
    {
     "name": "stderr",
     "output_type": "stream",
     "text": [
      " 95%|██████████████████████████████████████████████▊  | 477348/500000 [13:20<00:36, 613.86it/s]"
     ]
    },
    {
     "name": "stdout",
     "output_type": "stream",
     "text": [
      "['PRO_21615', 'PRO_10056']\n"
     ]
    },
    {
     "name": "stderr",
     "output_type": "stream",
     "text": [
      " 96%|██████████████████████████████████████████████▊  | 477596/500000 [13:21<00:36, 606.61it/s]"
     ]
    },
    {
     "name": "stdout",
     "output_type": "stream",
     "text": [
      "['PRO_14243', 'PRO_13657']\n",
      "['PRO_12930', 'PRO_3466']\n"
     ]
    },
    {
     "name": "stderr",
     "output_type": "stream",
     "text": [
      " 96%|██████████████████████████████████████████████▉  | 479521/500000 [13:24<00:33, 617.95it/s]"
     ]
    },
    {
     "name": "stdout",
     "output_type": "stream",
     "text": [
      "['PRO_3050', 'PRO_21472']\n"
     ]
    },
    {
     "name": "stderr",
     "output_type": "stream",
     "text": [
      " 96%|███████████████████████████████████████████████  | 480214/500000 [13:25<00:31, 627.70it/s]"
     ]
    },
    {
     "name": "stdout",
     "output_type": "stream",
     "text": [
      "['PRO_15692', 'PRO_15117']\n"
     ]
    },
    {
     "name": "stderr",
     "output_type": "stream",
     "text": [
      " 96%|███████████████████████████████████████████████▏ | 481479/500000 [13:27<00:29, 631.12it/s]"
     ]
    },
    {
     "name": "stdout",
     "output_type": "stream",
     "text": [
      "['PRO_11429', 'PRO_18916']\n"
     ]
    },
    {
     "name": "stderr",
     "output_type": "stream",
     "text": [
      " 97%|███████████████████████████████████████████████▎ | 482622/500000 [13:29<00:27, 625.06it/s]"
     ]
    },
    {
     "name": "stdout",
     "output_type": "stream",
     "text": [
      "['PRO_18640', 'PRO_18399']\n"
     ]
    },
    {
     "name": "stderr",
     "output_type": "stream",
     "text": [
      " 97%|███████████████████████████████████████████████▎ | 483318/500000 [13:30<00:26, 624.68it/s]"
     ]
    },
    {
     "name": "stdout",
     "output_type": "stream",
     "text": [
      "['PRO_13052', 'PRO_14132']\n"
     ]
    },
    {
     "name": "stderr",
     "output_type": "stream",
     "text": [
      " 97%|███████████████████████████████████████████████▍ | 483761/500000 [13:31<00:25, 626.96it/s]"
     ]
    },
    {
     "name": "stdout",
     "output_type": "stream",
     "text": [
      "['PRO_10225', 'PRO_20619']\n"
     ]
    },
    {
     "name": "stderr",
     "output_type": "stream",
     "text": [
      " 97%|███████████████████████████████████████████████▋ | 486745/500000 [13:35<00:21, 630.97it/s]"
     ]
    },
    {
     "name": "stdout",
     "output_type": "stream",
     "text": [
      "['PRO_20184', 'PRO_14622']\n"
     ]
    },
    {
     "name": "stderr",
     "output_type": "stream",
     "text": [
      " 97%|███████████████████████████████████████████████▋ | 487129/500000 [13:36<00:20, 634.30it/s]"
     ]
    },
    {
     "name": "stdout",
     "output_type": "stream",
     "text": [
      "['PRO_3050', 'PRO_19581']\n"
     ]
    },
    {
     "name": "stderr",
     "output_type": "stream",
     "text": [
      " 97%|███████████████████████████████████████████████▊ | 487449/500000 [13:37<00:19, 631.01it/s]"
     ]
    },
    {
     "name": "stdout",
     "output_type": "stream",
     "text": [
      "['PRO_13207', 'PRO_22045']\n"
     ]
    },
    {
     "name": "stderr",
     "output_type": "stream",
     "text": [
      " 98%|███████████████████████████████████████████████▊ | 488474/500000 [13:38<00:18, 637.79it/s]"
     ]
    },
    {
     "name": "stdout",
     "output_type": "stream",
     "text": [
      "['PRO_17545', 'PRO_18762']\n",
      "['PRO_18786', 'PRO_12414']\n"
     ]
    },
    {
     "name": "stderr",
     "output_type": "stream",
     "text": [
      " 98%|████████████████████████████████████████████████ | 490459/500000 [13:41<00:14, 637.08it/s]"
     ]
    },
    {
     "name": "stdout",
     "output_type": "stream",
     "text": [
      "['PRO_21618', 'PRO_3423']\n"
     ]
    },
    {
     "name": "stderr",
     "output_type": "stream",
     "text": [
      " 98%|████████████████████████████████████████████████▏| 491990/500000 [13:44<00:13, 594.34it/s]"
     ]
    },
    {
     "name": "stdout",
     "output_type": "stream",
     "text": [
      "['PRO_2103', 'PRO_21704']\n"
     ]
    },
    {
     "name": "stderr",
     "output_type": "stream",
     "text": [
      " 99%|████████████████████████████████████████████████▎| 492816/500000 [13:45<00:11, 631.86it/s]"
     ]
    },
    {
     "name": "stdout",
     "output_type": "stream",
     "text": [
      "['PRO_12219', 'PRO_23290']\n"
     ]
    },
    {
     "name": "stderr",
     "output_type": "stream",
     "text": [
      " 99%|████████████████████████████████████████████████▍| 494347/500000 [13:47<00:09, 621.55it/s]"
     ]
    },
    {
     "name": "stdout",
     "output_type": "stream",
     "text": [
      "['PRO_2404', 'PRO_14488']\n"
     ]
    },
    {
     "name": "stderr",
     "output_type": "stream",
     "text": [
      " 99%|████████████████████████████████████████████████▌| 495218/500000 [13:49<00:07, 616.13it/s]"
     ]
    },
    {
     "name": "stdout",
     "output_type": "stream",
     "text": [
      "['PRO_1317', 'PRO_17598']\n"
     ]
    },
    {
     "name": "stderr",
     "output_type": "stream",
     "text": [
      " 99%|████████████████████████████████████████████████▌| 495533/500000 [13:49<00:07, 619.04it/s]"
     ]
    },
    {
     "name": "stdout",
     "output_type": "stream",
     "text": [
      "['PRO_18967', 'PRO_2078']\n",
      "['PRO_17556', 'PRO_17968']\n"
     ]
    },
    {
     "name": "stderr",
     "output_type": "stream",
     "text": [
      " 99%|████████████████████████████████████████████████▋| 497340/500000 [13:52<00:04, 612.11it/s]"
     ]
    },
    {
     "name": "stdout",
     "output_type": "stream",
     "text": [
      "['PRO_20269', 'PRO_13046']\n"
     ]
    },
    {
     "name": "stderr",
     "output_type": "stream",
     "text": [
      "100%|████████████████████████████████████████████████▊| 497780/500000 [13:53<00:03, 619.19it/s]"
     ]
    },
    {
     "name": "stdout",
     "output_type": "stream",
     "text": [
      "['PRO_12277', 'PRO_414']\n",
      "['PRO_10608', 'PRO_18575']\n"
     ]
    },
    {
     "name": "stderr",
     "output_type": "stream",
     "text": [
      "100%|█████████████████████████████████████████████████| 500000/500000 [13:57<00:00, 597.28it/s]\n"
     ]
    }
   ],
   "source": [
    "neg_test_pairs = []\n",
    "for i in tqdm(all_possible_test_set_protein_pairs):\n",
    "    \n",
    "    if i in positive_test_set_pairs:\n",
    "        \n",
    "        print(i)\n",
    "        continue\n",
    "    else:\n",
    "        neg_test_pairs.append(i)"
   ]
  },
  {
   "cell_type": "code",
   "execution_count": 93,
   "id": "c3118d9e",
   "metadata": {},
   "outputs": [],
   "source": [
    "neg_test_pairs_subset = random.sample(neg_test_pairs,213380)"
   ]
  },
  {
   "cell_type": "code",
   "execution_count": 95,
   "id": "3c0ec9ec",
   "metadata": {},
   "outputs": [
    {
     "data": {
      "text/plain": [
       "213380"
      ]
     },
     "execution_count": 95,
     "metadata": {},
     "output_type": "execute_result"
    }
   ],
   "source": [
    "len(neg_test_pairs_subset)"
   ]
  },
  {
   "cell_type": "code",
   "execution_count": 96,
   "id": "ee4449bc",
   "metadata": {},
   "outputs": [
    {
     "data": {
      "text/html": [
       "<div>\n",
       "<style scoped>\n",
       "    .dataframe tbody tr th:only-of-type {\n",
       "        vertical-align: middle;\n",
       "    }\n",
       "\n",
       "    .dataframe tbody tr th {\n",
       "        vertical-align: top;\n",
       "    }\n",
       "\n",
       "    .dataframe thead th {\n",
       "        text-align: right;\n",
       "    }\n",
       "</style>\n",
       "<table border=\"1\" class=\"dataframe\">\n",
       "  <thead>\n",
       "    <tr style=\"text-align: right;\">\n",
       "      <th></th>\n",
       "      <th>Protein_A</th>\n",
       "      <th>Protein_B</th>\n",
       "      <th>Protein_A_sequence</th>\n",
       "      <th>Protein_B_sequence</th>\n",
       "    </tr>\n",
       "  </thead>\n",
       "  <tbody>\n",
       "    <tr>\n",
       "      <th>396159</th>\n",
       "      <td>PRO_23889</td>\n",
       "      <td>PRO_23995</td>\n",
       "      <td>MAMRLLKTHLLFLHLYLFFSPCFAYTDMEVLLNLKSSMIGPKGHGL...</td>\n",
       "      <td>MIKIADFTLFFFIFVFSPSLPLAQSQLPDLDPQDKASLLIFRVSIH...</td>\n",
       "    </tr>\n",
       "    <tr>\n",
       "      <th>396165</th>\n",
       "      <td>PRO_23889</td>\n",
       "      <td>PRO_23995</td>\n",
       "      <td>MAMRLLKTHLLFLHLYLFFSPCFAYTDMEVLLNLKSSMIGPKGHGL...</td>\n",
       "      <td>MIKIADFTLFFFIFVFSPSLPLAQSQLPDLDPQDKASLLIFRVSIH...</td>\n",
       "    </tr>\n",
       "    <tr>\n",
       "      <th>396166</th>\n",
       "      <td>PRO_23995</td>\n",
       "      <td>PRO_23889</td>\n",
       "      <td>MIKIADFTLFFFIFVFSPSLPLAQSQLPDLDPQDKASLLIFRVSIH...</td>\n",
       "      <td>MAMRLLKTHLLFLHLYLFFSPCFAYTDMEVLLNLKSSMIGPKGHGL...</td>\n",
       "    </tr>\n",
       "    <tr>\n",
       "      <th>396191</th>\n",
       "      <td>PRO_10025</td>\n",
       "      <td>PRO_13020</td>\n",
       "      <td>MAALQKSVSSFLMGTLATSCLLLLALLVQGGAAAPISSHCRLDKSN...</td>\n",
       "      <td>MLPCLVVLLAALLSLRLGSDAHGTELPSPPSVWFEAEFFHHILHWT...</td>\n",
       "    </tr>\n",
       "    <tr>\n",
       "      <th>396215</th>\n",
       "      <td>PRO_23639</td>\n",
       "      <td>PRO_23650</td>\n",
       "      <td>MDDSFFGFDTNLPDEDGGDGRIVEAEYDALNDETFGSAINGDWEEA...</td>\n",
       "      <td>MGPTDQDWIGCAVSIACDEVLGVFQGLIKQISAEEITIVRAFRNGV...</td>\n",
       "    </tr>\n",
       "  </tbody>\n",
       "</table>\n",
       "</div>"
      ],
      "text/plain": [
       "        Protein_A  Protein_B  \\\n",
       "396159  PRO_23889  PRO_23995   \n",
       "396165  PRO_23889  PRO_23995   \n",
       "396166  PRO_23995  PRO_23889   \n",
       "396191  PRO_10025  PRO_13020   \n",
       "396215  PRO_23639  PRO_23650   \n",
       "\n",
       "                                       Protein_A_sequence  \\\n",
       "396159  MAMRLLKTHLLFLHLYLFFSPCFAYTDMEVLLNLKSSMIGPKGHGL...   \n",
       "396165  MAMRLLKTHLLFLHLYLFFSPCFAYTDMEVLLNLKSSMIGPKGHGL...   \n",
       "396166  MIKIADFTLFFFIFVFSPSLPLAQSQLPDLDPQDKASLLIFRVSIH...   \n",
       "396191  MAALQKSVSSFLMGTLATSCLLLLALLVQGGAAAPISSHCRLDKSN...   \n",
       "396215  MDDSFFGFDTNLPDEDGGDGRIVEAEYDALNDETFGSAINGDWEEA...   \n",
       "\n",
       "                                       Protein_B_sequence  \n",
       "396159  MIKIADFTLFFFIFVFSPSLPLAQSQLPDLDPQDKASLLIFRVSIH...  \n",
       "396165  MIKIADFTLFFFIFVFSPSLPLAQSQLPDLDPQDKASLLIFRVSIH...  \n",
       "396166  MAMRLLKTHLLFLHLYLFFSPCFAYTDMEVLLNLKSSMIGPKGHGL...  \n",
       "396191  MLPCLVVLLAALLSLRLGSDAHGTELPSPPSVWFEAEFFHHILHWT...  \n",
       "396215  MGPTDQDWIGCAVSIACDEVLGVFQGLIKQISAEEITIVRAFRNGV...  "
      ]
     },
     "execution_count": 96,
     "metadata": {},
     "output_type": "execute_result"
    }
   ],
   "source": [
    "test_neg_data.head()"
   ]
  },
  {
   "cell_type": "code",
   "execution_count": 97,
   "id": "0dab47e6",
   "metadata": {},
   "outputs": [],
   "source": [
    "neg_test_set_pairs = []\n",
    "for index,row in test_neg_data.iterrows():\n",
    "   \n",
    "    neg_test_set_pairs.append([row.Protein_A,row.Protein_B])"
   ]
  },
  {
   "cell_type": "code",
   "execution_count": 98,
   "id": "06a8bdc8",
   "metadata": {},
   "outputs": [
    {
     "data": {
      "text/plain": [
       "90"
      ]
     },
     "execution_count": 98,
     "metadata": {},
     "output_type": "execute_result"
    }
   ],
   "source": [
    "len(neg_test_set_pairs)"
   ]
  },
  {
   "cell_type": "code",
   "execution_count": 99,
   "id": "9a5137ba",
   "metadata": {},
   "outputs": [
    {
     "data": {
      "text/plain": [
       "213380"
      ]
     },
     "execution_count": 99,
     "metadata": {},
     "output_type": "execute_result"
    }
   ],
   "source": [
    "len(neg_test_pairs_subset)"
   ]
  },
  {
   "cell_type": "code",
   "execution_count": 100,
   "id": "f7e5b555",
   "metadata": {},
   "outputs": [
    {
     "data": {
      "text/plain": [
       "['PRO_12174', 'PRO_18924']"
      ]
     },
     "execution_count": 100,
     "metadata": {},
     "output_type": "execute_result"
    }
   ],
   "source": [
    "neg_test_pairs_subset[-1]"
   ]
  },
  {
   "cell_type": "code",
   "execution_count": 101,
   "id": "31067040",
   "metadata": {},
   "outputs": [],
   "source": [
    "neg_test_pairs_subset.extend(neg_test_set_pairs)"
   ]
  },
  {
   "cell_type": "code",
   "execution_count": 102,
   "id": "eca676ee",
   "metadata": {},
   "outputs": [
    {
     "data": {
      "text/plain": [
       "21347"
      ]
     },
     "execution_count": 102,
     "metadata": {},
     "output_type": "execute_result"
    }
   ],
   "source": [
    "positive_test_set_pairs = []\n",
    "for index,row in test_pos_data.iterrows():\n",
    "    positive_test_set_pairs.append([row.Protein_A,row.Protein_B])\n",
    "  \n",
    "len(positive_test_set_pairs)\n"
   ]
  },
  {
   "cell_type": "code",
   "execution_count": 115,
   "id": "b6d93d69",
   "metadata": {},
   "outputs": [],
   "source": [
    "test_dataframe = pd.DataFrame()\n"
   ]
  },
  {
   "cell_type": "code",
   "execution_count": 112,
   "id": "057cf75f",
   "metadata": {},
   "outputs": [],
   "source": [
    "li_A = []\n",
    "li_B = []\n",
    "label = []\n",
    "l = 0\n",
    "for i,j in neg_test_pairs_subset:\n",
    "    \n",
    "    li_A.append(i)\n",
    "    li_B.append(j)\n",
    "    label.append(0)\n",
    "    \n",
    "for i,j in positive_test_set_pairs:\n",
    "   \n",
    "    li_A.append(i)\n",
    "    li_B.append(j)\n",
    "    label.append(1)"
   ]
  },
  {
   "cell_type": "code",
   "execution_count": 116,
   "id": "0e21775e",
   "metadata": {},
   "outputs": [],
   "source": [
    "test_dataframe['Protein_A'] = li_A\n",
    "test_dataframe['Protein_B'] = li_B\n",
    "test_dataframe['label'] = label"
   ]
  },
  {
   "cell_type": "code",
   "execution_count": 117,
   "id": "53aa3f79",
   "metadata": {},
   "outputs": [
    {
     "data": {
      "text/html": [
       "<div>\n",
       "<style scoped>\n",
       "    .dataframe tbody tr th:only-of-type {\n",
       "        vertical-align: middle;\n",
       "    }\n",
       "\n",
       "    .dataframe tbody tr th {\n",
       "        vertical-align: top;\n",
       "    }\n",
       "\n",
       "    .dataframe thead th {\n",
       "        text-align: right;\n",
       "    }\n",
       "</style>\n",
       "<table border=\"1\" class=\"dataframe\">\n",
       "  <thead>\n",
       "    <tr style=\"text-align: right;\">\n",
       "      <th></th>\n",
       "      <th>Protein_A</th>\n",
       "      <th>Protein_B</th>\n",
       "      <th>label</th>\n",
       "    </tr>\n",
       "  </thead>\n",
       "  <tbody>\n",
       "    <tr>\n",
       "      <th>0</th>\n",
       "      <td>PRO_14220</td>\n",
       "      <td>PRO_17380</td>\n",
       "      <td>0</td>\n",
       "    </tr>\n",
       "    <tr>\n",
       "      <th>1</th>\n",
       "      <td>PRO_21190</td>\n",
       "      <td>PRO_11425</td>\n",
       "      <td>0</td>\n",
       "    </tr>\n",
       "    <tr>\n",
       "      <th>2</th>\n",
       "      <td>PRO_21471</td>\n",
       "      <td>PRO_17367</td>\n",
       "      <td>0</td>\n",
       "    </tr>\n",
       "    <tr>\n",
       "      <th>3</th>\n",
       "      <td>PRO_15292</td>\n",
       "      <td>PRO_2951</td>\n",
       "      <td>0</td>\n",
       "    </tr>\n",
       "    <tr>\n",
       "      <th>4</th>\n",
       "      <td>PRO_22802</td>\n",
       "      <td>PRO_2304</td>\n",
       "      <td>0</td>\n",
       "    </tr>\n",
       "    <tr>\n",
       "      <th>...</th>\n",
       "      <td>...</td>\n",
       "      <td>...</td>\n",
       "      <td>...</td>\n",
       "    </tr>\n",
       "    <tr>\n",
       "      <th>234812</th>\n",
       "      <td>PRO_15612</td>\n",
       "      <td>PRO_23102</td>\n",
       "      <td>1</td>\n",
       "    </tr>\n",
       "    <tr>\n",
       "      <th>234813</th>\n",
       "      <td>PRO_4020</td>\n",
       "      <td>PRO_14939</td>\n",
       "      <td>1</td>\n",
       "    </tr>\n",
       "    <tr>\n",
       "      <th>234814</th>\n",
       "      <td>PRO_2235</td>\n",
       "      <td>PRO_22330</td>\n",
       "      <td>1</td>\n",
       "    </tr>\n",
       "    <tr>\n",
       "      <th>234815</th>\n",
       "      <td>PRO_19718</td>\n",
       "      <td>PRO_15698</td>\n",
       "      <td>1</td>\n",
       "    </tr>\n",
       "    <tr>\n",
       "      <th>234816</th>\n",
       "      <td>PRO_10477</td>\n",
       "      <td>PRO_2752</td>\n",
       "      <td>1</td>\n",
       "    </tr>\n",
       "  </tbody>\n",
       "</table>\n",
       "<p>234817 rows × 3 columns</p>\n",
       "</div>"
      ],
      "text/plain": [
       "        Protein_A  Protein_B  label\n",
       "0       PRO_14220  PRO_17380      0\n",
       "1       PRO_21190  PRO_11425      0\n",
       "2       PRO_21471  PRO_17367      0\n",
       "3       PRO_15292   PRO_2951      0\n",
       "4       PRO_22802   PRO_2304      0\n",
       "...           ...        ...    ...\n",
       "234812  PRO_15612  PRO_23102      1\n",
       "234813   PRO_4020  PRO_14939      1\n",
       "234814   PRO_2235  PRO_22330      1\n",
       "234815  PRO_19718  PRO_15698      1\n",
       "234816  PRO_10477   PRO_2752      1\n",
       "\n",
       "[234817 rows x 3 columns]"
      ]
     },
     "execution_count": 117,
     "metadata": {},
     "output_type": "execute_result"
    }
   ],
   "source": [
    "test_dataframe"
   ]
  },
  {
   "cell_type": "code",
   "execution_count": 118,
   "id": "b751e845",
   "metadata": {},
   "outputs": [
    {
     "data": {
      "text/plain": [
       "0    213470\n",
       "1     21347\n",
       "Name: label, dtype: int64"
      ]
     },
     "execution_count": 118,
     "metadata": {},
     "output_type": "execute_result"
    }
   ],
   "source": [
    "test_dataframe.label.value_counts()"
   ]
  },
  {
   "cell_type": "code",
   "execution_count": null,
   "id": "5a4f3b8e",
   "metadata": {},
   "outputs": [
    {
     "name": "stdout",
     "output_type": "stream",
     "text": [
      "error\n"
     ]
    }
   ],
   "source": [
    "## Verification\n",
    "su = 0\n",
    "for index,row in test_dataframe[test_dataframe.label == 1].iterrows():\n",
    "    l = [row.Protein_A,row.Protein_B]\n",
    "    m = [row.Protein_B,row.Protein_A]\n",
    "    if m in neg_test_pairs_subset or l in neg_test_pairs_subset:\n",
    "        print(\"error\")\n",
    "        "
   ]
  },
  {
   "cell_type": "code",
   "execution_count": null,
   "id": "cfdd331a",
   "metadata": {},
   "outputs": [],
   "source": [
    "data_test = random.choices(test_dataframe)"
   ]
  },
  {
   "cell_type": "code",
   "execution_count": null,
   "id": "05010492",
   "metadata": {},
   "outputs": [],
   "source": [
    "data_test.head()"
   ]
  },
  {
   "cell_type": "code",
   "execution_count": null,
   "id": "7c189822",
   "metadata": {},
   "outputs": [],
   "source": [
    "data_test.label.value_counts()"
   ]
  },
  {
   "cell_type": "code",
   "execution_count": null,
   "id": "d6ae4c36",
   "metadata": {},
   "outputs": [],
   "source": []
  }
 ],
 "metadata": {
  "kernelspec": {
   "display_name": "Python 3 (ipykernel)",
   "language": "python",
   "name": "python3"
  },
  "language_info": {
   "codemirror_mode": {
    "name": "ipython",
    "version": 3
   },
   "file_extension": ".py",
   "mimetype": "text/x-python",
   "name": "python",
   "nbconvert_exporter": "python",
   "pygments_lexer": "ipython3",
   "version": "3.9.12"
  }
 },
 "nbformat": 4,
 "nbformat_minor": 5
}

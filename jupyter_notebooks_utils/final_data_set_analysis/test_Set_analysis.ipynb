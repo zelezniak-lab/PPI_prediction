{
 "cells": [
  {
   "cell_type": "code",
   "execution_count": 146,
   "id": "f1895559",
   "metadata": {},
   "outputs": [],
   "source": [
    "import pandas as pd\n",
    "import random \n",
    "import pickle\n",
    "from tqdm import tqdm"
   ]
  },
  {
   "cell_type": "code",
   "execution_count": 147,
   "id": "450d02bf",
   "metadata": {},
   "outputs": [
    {
     "data": {
      "text/html": [
       "<div>\n",
       "<style scoped>\n",
       "    .dataframe tbody tr th:only-of-type {\n",
       "        vertical-align: middle;\n",
       "    }\n",
       "\n",
       "    .dataframe tbody tr th {\n",
       "        vertical-align: top;\n",
       "    }\n",
       "\n",
       "    .dataframe thead th {\n",
       "        text-align: right;\n",
       "    }\n",
       "</style>\n",
       "<table border=\"1\" class=\"dataframe\">\n",
       "  <thead>\n",
       "    <tr style=\"text-align: right;\">\n",
       "      <th></th>\n",
       "      <th>Protein_A</th>\n",
       "      <th>Protein_B</th>\n",
       "      <th>Protein_A_sequence</th>\n",
       "      <th>Protein_B_sequence</th>\n",
       "      <th>split_0_10</th>\n",
       "      <th>split_0_20</th>\n",
       "      <th>split_0_30</th>\n",
       "      <th>split_0_40</th>\n",
       "      <th>split_0_50</th>\n",
       "      <th>split_0_60</th>\n",
       "      <th>...</th>\n",
       "      <th>split_1_90</th>\n",
       "      <th>split_2_10</th>\n",
       "      <th>split_2_20</th>\n",
       "      <th>split_2_30</th>\n",
       "      <th>split_2_40</th>\n",
       "      <th>split_2_50</th>\n",
       "      <th>split_2_60</th>\n",
       "      <th>split_2_70</th>\n",
       "      <th>split_2_80</th>\n",
       "      <th>split_2_90</th>\n",
       "    </tr>\n",
       "  </thead>\n",
       "  <tbody>\n",
       "    <tr>\n",
       "      <th>0</th>\n",
       "      <td>PRO_1968</td>\n",
       "      <td>PRO_2127</td>\n",
       "      <td>MAKNPPENCEDCHILNAEAFKSKKICKSLKICGLVFGILALTLIVL...</td>\n",
       "      <td>MRRSSRPGSASSSRKHTPNFFSENSSMSITSEDSKGLRSAEPGPGE...</td>\n",
       "      <td>0</td>\n",
       "      <td>-1</td>\n",
       "      <td>-1</td>\n",
       "      <td>-1</td>\n",
       "      <td>-1</td>\n",
       "      <td>-1</td>\n",
       "      <td>...</td>\n",
       "      <td>1</td>\n",
       "      <td>-1</td>\n",
       "      <td>-1</td>\n",
       "      <td>-1</td>\n",
       "      <td>-1</td>\n",
       "      <td>-1</td>\n",
       "      <td>-1</td>\n",
       "      <td>1</td>\n",
       "      <td>1</td>\n",
       "      <td>1</td>\n",
       "    </tr>\n",
       "    <tr>\n",
       "      <th>1</th>\n",
       "      <td>PRO_1968</td>\n",
       "      <td>PRO_3259</td>\n",
       "      <td>MAKNPPENCEDCHILNAEAFKSKKICKSLKICGLVFGILALTLIVL...</td>\n",
       "      <td>MASSSTVPLGFHYETKYVVLSYLGLLSQEKLQEQHLSSPQGVQLDI...</td>\n",
       "      <td>0</td>\n",
       "      <td>-1</td>\n",
       "      <td>1</td>\n",
       "      <td>1</td>\n",
       "      <td>1</td>\n",
       "      <td>1</td>\n",
       "      <td>...</td>\n",
       "      <td>1</td>\n",
       "      <td>-1</td>\n",
       "      <td>-1</td>\n",
       "      <td>1</td>\n",
       "      <td>1</td>\n",
       "      <td>1</td>\n",
       "      <td>1</td>\n",
       "      <td>1</td>\n",
       "      <td>1</td>\n",
       "      <td>1</td>\n",
       "    </tr>\n",
       "    <tr>\n",
       "      <th>2</th>\n",
       "      <td>PRO_1968</td>\n",
       "      <td>PRO_20825</td>\n",
       "      <td>MAKNPPENCEDCHILNAEAFKSKKICKSLKICGLVFGILALTLIVL...</td>\n",
       "      <td>MSSHLVEPPPPLHNNNNNCEENEQSLPPPAGLNSSWVELPMNSSNG...</td>\n",
       "      <td>-1</td>\n",
       "      <td>1</td>\n",
       "      <td>1</td>\n",
       "      <td>1</td>\n",
       "      <td>1</td>\n",
       "      <td>1</td>\n",
       "      <td>...</td>\n",
       "      <td>-1</td>\n",
       "      <td>-1</td>\n",
       "      <td>-1</td>\n",
       "      <td>-1</td>\n",
       "      <td>-1</td>\n",
       "      <td>1</td>\n",
       "      <td>1</td>\n",
       "      <td>1</td>\n",
       "      <td>1</td>\n",
       "      <td>1</td>\n",
       "    </tr>\n",
       "    <tr>\n",
       "      <th>3</th>\n",
       "      <td>PRO_1968</td>\n",
       "      <td>PRO_11236</td>\n",
       "      <td>MAKNPPENCEDCHILNAEAFKSKKICKSLKICGLVFGILALTLIVL...</td>\n",
       "      <td>MPLLLLLPLLWAGALAMDPNFWLQVQESVTVQEGLCVLVPCTFFHP...</td>\n",
       "      <td>-1</td>\n",
       "      <td>1</td>\n",
       "      <td>1</td>\n",
       "      <td>1</td>\n",
       "      <td>1</td>\n",
       "      <td>1</td>\n",
       "      <td>...</td>\n",
       "      <td>1</td>\n",
       "      <td>-1</td>\n",
       "      <td>-1</td>\n",
       "      <td>-1</td>\n",
       "      <td>1</td>\n",
       "      <td>1</td>\n",
       "      <td>1</td>\n",
       "      <td>1</td>\n",
       "      <td>1</td>\n",
       "      <td>1</td>\n",
       "    </tr>\n",
       "    <tr>\n",
       "      <th>4</th>\n",
       "      <td>PRO_1968</td>\n",
       "      <td>PRO_2577</td>\n",
       "      <td>MAKNPPENCEDCHILNAEAFKSKKICKSLKICGLVFGILALTLIVL...</td>\n",
       "      <td>MKAQTALSFFLILITSLSGSQGIFPLAFFIYVPMNEQIVIGRLDED...</td>\n",
       "      <td>0</td>\n",
       "      <td>-1</td>\n",
       "      <td>-1</td>\n",
       "      <td>-1</td>\n",
       "      <td>-1</td>\n",
       "      <td>1</td>\n",
       "      <td>...</td>\n",
       "      <td>1</td>\n",
       "      <td>-1</td>\n",
       "      <td>-1</td>\n",
       "      <td>1</td>\n",
       "      <td>1</td>\n",
       "      <td>1</td>\n",
       "      <td>1</td>\n",
       "      <td>1</td>\n",
       "      <td>1</td>\n",
       "      <td>1</td>\n",
       "    </tr>\n",
       "    <tr>\n",
       "      <th>...</th>\n",
       "      <td>...</td>\n",
       "      <td>...</td>\n",
       "      <td>...</td>\n",
       "      <td>...</td>\n",
       "      <td>...</td>\n",
       "      <td>...</td>\n",
       "      <td>...</td>\n",
       "      <td>...</td>\n",
       "      <td>...</td>\n",
       "      <td>...</td>\n",
       "      <td>...</td>\n",
       "      <td>...</td>\n",
       "      <td>...</td>\n",
       "      <td>...</td>\n",
       "      <td>...</td>\n",
       "      <td>...</td>\n",
       "      <td>...</td>\n",
       "      <td>...</td>\n",
       "      <td>...</td>\n",
       "      <td>...</td>\n",
       "      <td>...</td>\n",
       "    </tr>\n",
       "    <tr>\n",
       "      <th>397738</th>\n",
       "      <td>PRO_10712</td>\n",
       "      <td>PRO_4734</td>\n",
       "      <td>MADKRKLQGEIDRCLKKVSEGVEQFEDIWQKLHNAANANQKEKYEA...</td>\n",
       "      <td>MSAIQAAWPSGTECIAKYNFHGTAEQDLPFCKGDVLTIVAVTKDPN...</td>\n",
       "      <td>-1</td>\n",
       "      <td>-1</td>\n",
       "      <td>-1</td>\n",
       "      <td>-1</td>\n",
       "      <td>-1</td>\n",
       "      <td>-1</td>\n",
       "      <td>...</td>\n",
       "      <td>-1</td>\n",
       "      <td>0</td>\n",
       "      <td>0</td>\n",
       "      <td>0</td>\n",
       "      <td>0</td>\n",
       "      <td>0</td>\n",
       "      <td>0</td>\n",
       "      <td>0</td>\n",
       "      <td>-1</td>\n",
       "      <td>-1</td>\n",
       "    </tr>\n",
       "    <tr>\n",
       "      <th>397739</th>\n",
       "      <td>PRO_12924</td>\n",
       "      <td>PRO_18242</td>\n",
       "      <td>MRPGTGAERGGLMVSEMESHPPSQGPGDGERRLSGSSLCSGSWVSA...</td>\n",
       "      <td>MSEEKPKEGVKTENDHINLKVAGQDGSVVQFKIKRHTPLSKLMKAY...</td>\n",
       "      <td>1</td>\n",
       "      <td>1</td>\n",
       "      <td>1</td>\n",
       "      <td>1</td>\n",
       "      <td>1</td>\n",
       "      <td>1</td>\n",
       "      <td>...</td>\n",
       "      <td>1</td>\n",
       "      <td>0</td>\n",
       "      <td>0</td>\n",
       "      <td>0</td>\n",
       "      <td>0</td>\n",
       "      <td>-1</td>\n",
       "      <td>-1</td>\n",
       "      <td>-1</td>\n",
       "      <td>1</td>\n",
       "      <td>1</td>\n",
       "    </tr>\n",
       "    <tr>\n",
       "      <th>397740</th>\n",
       "      <td>PRO_4881</td>\n",
       "      <td>PRO_17066</td>\n",
       "      <td>MSELEQLRQEAEQLRNQIRDARKACGDSTLTQITAGLDPVGRIQMR...</td>\n",
       "      <td>MASSSVPPATVSAATAGPGPGFGFASKTKKKHFVQQKVKVFRAADP...</td>\n",
       "      <td>1</td>\n",
       "      <td>1</td>\n",
       "      <td>1</td>\n",
       "      <td>1</td>\n",
       "      <td>1</td>\n",
       "      <td>1</td>\n",
       "      <td>...</td>\n",
       "      <td>1</td>\n",
       "      <td>-1</td>\n",
       "      <td>-1</td>\n",
       "      <td>-1</td>\n",
       "      <td>-1</td>\n",
       "      <td>-1</td>\n",
       "      <td>-1</td>\n",
       "      <td>1</td>\n",
       "      <td>1</td>\n",
       "      <td>1</td>\n",
       "    </tr>\n",
       "    <tr>\n",
       "      <th>397741</th>\n",
       "      <td>PRO_15097</td>\n",
       "      <td>PRO_23695</td>\n",
       "      <td>MSSMNPEYDYLFKLLLIGDSGVGKSCLLLRFADDTYTESYISTIGV...</td>\n",
       "      <td>MGKRLDLSTLTDEEAEHVWAVVQRDFDLRRREEERLQGLKGKIQKE...</td>\n",
       "      <td>-1</td>\n",
       "      <td>-1</td>\n",
       "      <td>1</td>\n",
       "      <td>1</td>\n",
       "      <td>1</td>\n",
       "      <td>1</td>\n",
       "      <td>...</td>\n",
       "      <td>1</td>\n",
       "      <td>0</td>\n",
       "      <td>0</td>\n",
       "      <td>0</td>\n",
       "      <td>0</td>\n",
       "      <td>0</td>\n",
       "      <td>0</td>\n",
       "      <td>-1</td>\n",
       "      <td>-1</td>\n",
       "      <td>-1</td>\n",
       "    </tr>\n",
       "    <tr>\n",
       "      <th>397742</th>\n",
       "      <td>PRO_11821</td>\n",
       "      <td>PRO_14704</td>\n",
       "      <td>MIDTLRPVPFASEMAISKTVAWLNEQLELGNERLLLMDCRPQELYE...</td>\n",
       "      <td>MAQGLVTFADVAIDFSQEEWACLNSAQRDLYWDVMLENYSNLVSLD...</td>\n",
       "      <td>-1</td>\n",
       "      <td>1</td>\n",
       "      <td>1</td>\n",
       "      <td>1</td>\n",
       "      <td>1</td>\n",
       "      <td>1</td>\n",
       "      <td>...</td>\n",
       "      <td>1</td>\n",
       "      <td>-1</td>\n",
       "      <td>-1</td>\n",
       "      <td>-1</td>\n",
       "      <td>-1</td>\n",
       "      <td>-1</td>\n",
       "      <td>1</td>\n",
       "      <td>1</td>\n",
       "      <td>1</td>\n",
       "      <td>1</td>\n",
       "    </tr>\n",
       "  </tbody>\n",
       "</table>\n",
       "<p>397743 rows × 31 columns</p>\n",
       "</div>"
      ],
      "text/plain": [
       "        Protein_A  Protein_B  \\\n",
       "0        PRO_1968   PRO_2127   \n",
       "1        PRO_1968   PRO_3259   \n",
       "2        PRO_1968  PRO_20825   \n",
       "3        PRO_1968  PRO_11236   \n",
       "4        PRO_1968   PRO_2577   \n",
       "...           ...        ...   \n",
       "397738  PRO_10712   PRO_4734   \n",
       "397739  PRO_12924  PRO_18242   \n",
       "397740   PRO_4881  PRO_17066   \n",
       "397741  PRO_15097  PRO_23695   \n",
       "397742  PRO_11821  PRO_14704   \n",
       "\n",
       "                                       Protein_A_sequence  \\\n",
       "0       MAKNPPENCEDCHILNAEAFKSKKICKSLKICGLVFGILALTLIVL...   \n",
       "1       MAKNPPENCEDCHILNAEAFKSKKICKSLKICGLVFGILALTLIVL...   \n",
       "2       MAKNPPENCEDCHILNAEAFKSKKICKSLKICGLVFGILALTLIVL...   \n",
       "3       MAKNPPENCEDCHILNAEAFKSKKICKSLKICGLVFGILALTLIVL...   \n",
       "4       MAKNPPENCEDCHILNAEAFKSKKICKSLKICGLVFGILALTLIVL...   \n",
       "...                                                   ...   \n",
       "397738  MADKRKLQGEIDRCLKKVSEGVEQFEDIWQKLHNAANANQKEKYEA...   \n",
       "397739  MRPGTGAERGGLMVSEMESHPPSQGPGDGERRLSGSSLCSGSWVSA...   \n",
       "397740  MSELEQLRQEAEQLRNQIRDARKACGDSTLTQITAGLDPVGRIQMR...   \n",
       "397741  MSSMNPEYDYLFKLLLIGDSGVGKSCLLLRFADDTYTESYISTIGV...   \n",
       "397742  MIDTLRPVPFASEMAISKTVAWLNEQLELGNERLLLMDCRPQELYE...   \n",
       "\n",
       "                                       Protein_B_sequence  split_0_10  \\\n",
       "0       MRRSSRPGSASSSRKHTPNFFSENSSMSITSEDSKGLRSAEPGPGE...           0   \n",
       "1       MASSSTVPLGFHYETKYVVLSYLGLLSQEKLQEQHLSSPQGVQLDI...           0   \n",
       "2       MSSHLVEPPPPLHNNNNNCEENEQSLPPPAGLNSSWVELPMNSSNG...          -1   \n",
       "3       MPLLLLLPLLWAGALAMDPNFWLQVQESVTVQEGLCVLVPCTFFHP...          -1   \n",
       "4       MKAQTALSFFLILITSLSGSQGIFPLAFFIYVPMNEQIVIGRLDED...           0   \n",
       "...                                                   ...         ...   \n",
       "397738  MSAIQAAWPSGTECIAKYNFHGTAEQDLPFCKGDVLTIVAVTKDPN...          -1   \n",
       "397739  MSEEKPKEGVKTENDHINLKVAGQDGSVVQFKIKRHTPLSKLMKAY...           1   \n",
       "397740  MASSSVPPATVSAATAGPGPGFGFASKTKKKHFVQQKVKVFRAADP...           1   \n",
       "397741  MGKRLDLSTLTDEEAEHVWAVVQRDFDLRRREEERLQGLKGKIQKE...          -1   \n",
       "397742  MAQGLVTFADVAIDFSQEEWACLNSAQRDLYWDVMLENYSNLVSLD...          -1   \n",
       "\n",
       "        split_0_20  split_0_30  split_0_40  split_0_50  split_0_60  ...  \\\n",
       "0               -1          -1          -1          -1          -1  ...   \n",
       "1               -1           1           1           1           1  ...   \n",
       "2                1           1           1           1           1  ...   \n",
       "3                1           1           1           1           1  ...   \n",
       "4               -1          -1          -1          -1           1  ...   \n",
       "...            ...         ...         ...         ...         ...  ...   \n",
       "397738          -1          -1          -1          -1          -1  ...   \n",
       "397739           1           1           1           1           1  ...   \n",
       "397740           1           1           1           1           1  ...   \n",
       "397741          -1           1           1           1           1  ...   \n",
       "397742           1           1           1           1           1  ...   \n",
       "\n",
       "        split_1_90  split_2_10  split_2_20  split_2_30  split_2_40  \\\n",
       "0                1          -1          -1          -1          -1   \n",
       "1                1          -1          -1           1           1   \n",
       "2               -1          -1          -1          -1          -1   \n",
       "3                1          -1          -1          -1           1   \n",
       "4                1          -1          -1           1           1   \n",
       "...            ...         ...         ...         ...         ...   \n",
       "397738          -1           0           0           0           0   \n",
       "397739           1           0           0           0           0   \n",
       "397740           1          -1          -1          -1          -1   \n",
       "397741           1           0           0           0           0   \n",
       "397742           1          -1          -1          -1          -1   \n",
       "\n",
       "        split_2_50  split_2_60  split_2_70  split_2_80  split_2_90  \n",
       "0               -1          -1           1           1           1  \n",
       "1                1           1           1           1           1  \n",
       "2                1           1           1           1           1  \n",
       "3                1           1           1           1           1  \n",
       "4                1           1           1           1           1  \n",
       "...            ...         ...         ...         ...         ...  \n",
       "397738           0           0           0          -1          -1  \n",
       "397739          -1          -1          -1           1           1  \n",
       "397740          -1          -1           1           1           1  \n",
       "397741           0           0          -1          -1          -1  \n",
       "397742          -1           1           1           1           1  \n",
       "\n",
       "[397743 rows x 31 columns]"
      ]
     },
     "execution_count": 147,
     "metadata": {},
     "output_type": "execute_result"
    }
   ],
   "source": [
    "data = pd.read_csv(\"../cluster_by_sandra/new_data.csv\")\n",
    "x =len(data)\n",
    "data = data.drop(columns = ['index'])\n",
    "data"
   ]
  },
  {
   "cell_type": "markdown",
   "id": "e6a829d5",
   "metadata": {},
   "source": [
    "## 1. Choosing train set and test set(Minimizing loss of pairs)"
   ]
  },
  {
   "cell_type": "code",
   "execution_count": 148,
   "id": "aa43f287",
   "metadata": {},
   "outputs": [
    {
     "name": "stdout",
     "output_type": "stream",
     "text": [
      "split_0_10\n",
      "Train set size:  0.22849176478278688   count:  90881\n",
      "Test set size:  0.2728093266254843   count:  108508\n",
      "Deleting pairs:  0.49869890859172883   count:  198354\n",
      "\n",
      "\n",
      "split_0_20\n",
      "Train set size:  0.3533487704371919   count:  140542\n",
      "Test set size:  0.17263408784064083   count:  68664\n",
      "Deleting pairs:  0.47401714172216736   count:  188537\n",
      "\n",
      "\n",
      "split_0_30\n",
      "Train set size:  0.4626731331538204   count:  184025\n",
      "Test set size:  0.11068202331656371   count:  44023\n",
      "Deleting pairs:  0.42664484352961585   count:  169695\n",
      "\n",
      "\n",
      "split_0_40\n",
      "Train set size:  0.5445048687217625   count:  216573\n",
      "Test set size:  0.07627538385339278   count:  30338\n",
      "Deleting pairs:  0.3792197474248447   count:  150832\n",
      "\n",
      "\n",
      "split_0_50\n",
      "Train set size:  0.6106329966837882   count:  242875\n",
      "Test set size:  0.053896611631128646   count:  21437\n",
      "Deleting pairs:  0.3354703916850831   count:  133431\n",
      "\n",
      "\n",
      "split_0_60\n",
      "Train set size:  0.6723889546767636   count:  267438\n",
      "Test set size:  0.03737840766525118   count:  14867\n",
      "Deleting pairs:  0.2902326376579852   count:  115438\n",
      "\n",
      "\n",
      "split_0_70\n",
      "Train set size:  0.7491646616030955   count:  297975\n",
      "Test set size:  0.02032468201828819   count:  8084\n",
      "Deleting pairs:  0.23051065637861634   count:  91684\n",
      "\n",
      "\n",
      "split_0_80\n",
      "Train set size:  0.8282861043437597   count:  329445\n",
      "Test set size:  0.008842393203651605   count:  3517\n",
      "Deleting pairs:  0.16287150245258875   count:  64781\n",
      "\n",
      "\n",
      "split_0_90\n",
      "Train set size:  0.9157370462836555   count:  364228\n",
      "Test set size:  0.0020289483410141727   count:  807\n",
      "Deleting pairs:  0.08223400537533031   count:  32708\n",
      "\n",
      "\n"
     ]
    }
   ],
   "source": [
    "for j in range(1):\n",
    "    for i in range(10,100,10):\n",
    "            print(f'split_{j}_{i}')\n",
    "        \n",
    "            print(\"Train set size: \",data[f'split_{j}_{i}'].value_counts()[1]/x,\"  count: \",data[f'split_{j}_{i}'].value_counts()[1])\n",
    "            print(\"Test set size: \",data[f'split_{j}_{i}'].value_counts()[0]/x,\"  count: \",data[f'split_{j}_{i}'].value_counts()[0])\n",
    "            print(\"Deleting pairs: \",data[f'split_{j}_{i}'].value_counts()[-1]/x,\"  count: \",data[f'split_{j}_{i}'].value_counts()[-1])\n",
    "            print(\"\\n\")\n",
    "            "
   ]
  },
  {
   "cell_type": "code",
   "execution_count": null,
   "id": "a84d23ba",
   "metadata": {},
   "outputs": [],
   "source": [
    "data_neg = pd.read_csv(\"../../csv_files_new_ppi/final_combined_negative_data_2.csv\")\n",
    "data_neg"
   ]
  },
  {
   "cell_type": "code",
   "execution_count": 149,
   "id": "a1b37fa7",
   "metadata": {},
   "outputs": [
    {
     "data": {
      "text/html": [
       "<div>\n",
       "<style scoped>\n",
       "    .dataframe tbody tr th:only-of-type {\n",
       "        vertical-align: middle;\n",
       "    }\n",
       "\n",
       "    .dataframe tbody tr th {\n",
       "        vertical-align: top;\n",
       "    }\n",
       "\n",
       "    .dataframe thead th {\n",
       "        text-align: right;\n",
       "    }\n",
       "</style>\n",
       "<table border=\"1\" class=\"dataframe\">\n",
       "  <thead>\n",
       "    <tr style=\"text-align: right;\">\n",
       "      <th></th>\n",
       "      <th>Protein_A</th>\n",
       "      <th>Protein_B</th>\n",
       "      <th>Protein_A_sequence</th>\n",
       "      <th>Protein_B_sequence</th>\n",
       "      <th>split_0_10</th>\n",
       "      <th>split_0_20</th>\n",
       "      <th>split_0_30</th>\n",
       "      <th>split_0_40</th>\n",
       "      <th>split_0_50</th>\n",
       "      <th>split_0_60</th>\n",
       "      <th>...</th>\n",
       "      <th>split_1_90</th>\n",
       "      <th>split_2_10</th>\n",
       "      <th>split_2_20</th>\n",
       "      <th>split_2_30</th>\n",
       "      <th>split_2_40</th>\n",
       "      <th>split_2_50</th>\n",
       "      <th>split_2_60</th>\n",
       "      <th>split_2_70</th>\n",
       "      <th>split_2_80</th>\n",
       "      <th>split_2_90</th>\n",
       "    </tr>\n",
       "  </thead>\n",
       "  <tbody>\n",
       "    <tr>\n",
       "      <th>0</th>\n",
       "      <td>PRO_1968</td>\n",
       "      <td>PRO_2127</td>\n",
       "      <td>MAKNPPENCEDCHILNAEAFKSKKICKSLKICGLVFGILALTLIVL...</td>\n",
       "      <td>MRRSSRPGSASSSRKHTPNFFSENSSMSITSEDSKGLRSAEPGPGE...</td>\n",
       "      <td>0</td>\n",
       "      <td>-1</td>\n",
       "      <td>-1</td>\n",
       "      <td>-1</td>\n",
       "      <td>-1</td>\n",
       "      <td>-1</td>\n",
       "      <td>...</td>\n",
       "      <td>1</td>\n",
       "      <td>-1</td>\n",
       "      <td>-1</td>\n",
       "      <td>-1</td>\n",
       "      <td>-1</td>\n",
       "      <td>-1</td>\n",
       "      <td>-1</td>\n",
       "      <td>1</td>\n",
       "      <td>1</td>\n",
       "      <td>1</td>\n",
       "    </tr>\n",
       "    <tr>\n",
       "      <th>1</th>\n",
       "      <td>PRO_1968</td>\n",
       "      <td>PRO_3259</td>\n",
       "      <td>MAKNPPENCEDCHILNAEAFKSKKICKSLKICGLVFGILALTLIVL...</td>\n",
       "      <td>MASSSTVPLGFHYETKYVVLSYLGLLSQEKLQEQHLSSPQGVQLDI...</td>\n",
       "      <td>0</td>\n",
       "      <td>-1</td>\n",
       "      <td>1</td>\n",
       "      <td>1</td>\n",
       "      <td>1</td>\n",
       "      <td>1</td>\n",
       "      <td>...</td>\n",
       "      <td>1</td>\n",
       "      <td>-1</td>\n",
       "      <td>-1</td>\n",
       "      <td>1</td>\n",
       "      <td>1</td>\n",
       "      <td>1</td>\n",
       "      <td>1</td>\n",
       "      <td>1</td>\n",
       "      <td>1</td>\n",
       "      <td>1</td>\n",
       "    </tr>\n",
       "    <tr>\n",
       "      <th>2</th>\n",
       "      <td>PRO_1968</td>\n",
       "      <td>PRO_20825</td>\n",
       "      <td>MAKNPPENCEDCHILNAEAFKSKKICKSLKICGLVFGILALTLIVL...</td>\n",
       "      <td>MSSHLVEPPPPLHNNNNNCEENEQSLPPPAGLNSSWVELPMNSSNG...</td>\n",
       "      <td>-1</td>\n",
       "      <td>1</td>\n",
       "      <td>1</td>\n",
       "      <td>1</td>\n",
       "      <td>1</td>\n",
       "      <td>1</td>\n",
       "      <td>...</td>\n",
       "      <td>-1</td>\n",
       "      <td>-1</td>\n",
       "      <td>-1</td>\n",
       "      <td>-1</td>\n",
       "      <td>-1</td>\n",
       "      <td>1</td>\n",
       "      <td>1</td>\n",
       "      <td>1</td>\n",
       "      <td>1</td>\n",
       "      <td>1</td>\n",
       "    </tr>\n",
       "    <tr>\n",
       "      <th>3</th>\n",
       "      <td>PRO_1968</td>\n",
       "      <td>PRO_11236</td>\n",
       "      <td>MAKNPPENCEDCHILNAEAFKSKKICKSLKICGLVFGILALTLIVL...</td>\n",
       "      <td>MPLLLLLPLLWAGALAMDPNFWLQVQESVTVQEGLCVLVPCTFFHP...</td>\n",
       "      <td>-1</td>\n",
       "      <td>1</td>\n",
       "      <td>1</td>\n",
       "      <td>1</td>\n",
       "      <td>1</td>\n",
       "      <td>1</td>\n",
       "      <td>...</td>\n",
       "      <td>1</td>\n",
       "      <td>-1</td>\n",
       "      <td>-1</td>\n",
       "      <td>-1</td>\n",
       "      <td>1</td>\n",
       "      <td>1</td>\n",
       "      <td>1</td>\n",
       "      <td>1</td>\n",
       "      <td>1</td>\n",
       "      <td>1</td>\n",
       "    </tr>\n",
       "    <tr>\n",
       "      <th>4</th>\n",
       "      <td>PRO_1968</td>\n",
       "      <td>PRO_2577</td>\n",
       "      <td>MAKNPPENCEDCHILNAEAFKSKKICKSLKICGLVFGILALTLIVL...</td>\n",
       "      <td>MKAQTALSFFLILITSLSGSQGIFPLAFFIYVPMNEQIVIGRLDED...</td>\n",
       "      <td>0</td>\n",
       "      <td>-1</td>\n",
       "      <td>-1</td>\n",
       "      <td>-1</td>\n",
       "      <td>-1</td>\n",
       "      <td>1</td>\n",
       "      <td>...</td>\n",
       "      <td>1</td>\n",
       "      <td>-1</td>\n",
       "      <td>-1</td>\n",
       "      <td>1</td>\n",
       "      <td>1</td>\n",
       "      <td>1</td>\n",
       "      <td>1</td>\n",
       "      <td>1</td>\n",
       "      <td>1</td>\n",
       "      <td>1</td>\n",
       "    </tr>\n",
       "    <tr>\n",
       "      <th>...</th>\n",
       "      <td>...</td>\n",
       "      <td>...</td>\n",
       "      <td>...</td>\n",
       "      <td>...</td>\n",
       "      <td>...</td>\n",
       "      <td>...</td>\n",
       "      <td>...</td>\n",
       "      <td>...</td>\n",
       "      <td>...</td>\n",
       "      <td>...</td>\n",
       "      <td>...</td>\n",
       "      <td>...</td>\n",
       "      <td>...</td>\n",
       "      <td>...</td>\n",
       "      <td>...</td>\n",
       "      <td>...</td>\n",
       "      <td>...</td>\n",
       "      <td>...</td>\n",
       "      <td>...</td>\n",
       "      <td>...</td>\n",
       "      <td>...</td>\n",
       "    </tr>\n",
       "    <tr>\n",
       "      <th>396149</th>\n",
       "      <td>PRO_11977</td>\n",
       "      <td>PRO_20355</td>\n",
       "      <td>SGSWLRDIWDWICEVLSDFKTWLKAKLMPQLPGIPFVSCQRGYKGV...</td>\n",
       "      <td>MGGRSSCEDPGCPRDEERAPRMGCMKSKFLQVGGNTFSKTETSASP...</td>\n",
       "      <td>1</td>\n",
       "      <td>1</td>\n",
       "      <td>1</td>\n",
       "      <td>1</td>\n",
       "      <td>1</td>\n",
       "      <td>1</td>\n",
       "      <td>...</td>\n",
       "      <td>-1</td>\n",
       "      <td>0</td>\n",
       "      <td>0</td>\n",
       "      <td>-1</td>\n",
       "      <td>-1</td>\n",
       "      <td>1</td>\n",
       "      <td>1</td>\n",
       "      <td>1</td>\n",
       "      <td>1</td>\n",
       "      <td>1</td>\n",
       "    </tr>\n",
       "    <tr>\n",
       "      <th>396150</th>\n",
       "      <td>PRO_11977</td>\n",
       "      <td>PRO_4583</td>\n",
       "      <td>SGSWLRDIWDWICEVLSDFKTWLKAKLMPQLPGIPFVSCQRGYKGV...</td>\n",
       "      <td>MGCVQCKDKEATKLTEERDGSLNQSSGYRYGTDPTPQHYPSFGVTS...</td>\n",
       "      <td>1</td>\n",
       "      <td>1</td>\n",
       "      <td>1</td>\n",
       "      <td>1</td>\n",
       "      <td>1</td>\n",
       "      <td>1</td>\n",
       "      <td>...</td>\n",
       "      <td>-1</td>\n",
       "      <td>0</td>\n",
       "      <td>-1</td>\n",
       "      <td>-1</td>\n",
       "      <td>-1</td>\n",
       "      <td>1</td>\n",
       "      <td>1</td>\n",
       "      <td>1</td>\n",
       "      <td>1</td>\n",
       "      <td>1</td>\n",
       "    </tr>\n",
       "    <tr>\n",
       "      <th>396151</th>\n",
       "      <td>PRO_19214</td>\n",
       "      <td>PRO_18202</td>\n",
       "      <td>MDLLVDELFADMNADGASPPPPRPAGGPKNTPAAPPLYATGRLSQA...</td>\n",
       "      <td>MQREEKQLEASLDALLSQVADLKNSLGSFICKLENEYGRLTWPSVL...</td>\n",
       "      <td>0</td>\n",
       "      <td>-1</td>\n",
       "      <td>1</td>\n",
       "      <td>1</td>\n",
       "      <td>1</td>\n",
       "      <td>1</td>\n",
       "      <td>...</td>\n",
       "      <td>1</td>\n",
       "      <td>0</td>\n",
       "      <td>0</td>\n",
       "      <td>0</td>\n",
       "      <td>-1</td>\n",
       "      <td>-1</td>\n",
       "      <td>-1</td>\n",
       "      <td>1</td>\n",
       "      <td>1</td>\n",
       "      <td>1</td>\n",
       "    </tr>\n",
       "    <tr>\n",
       "      <th>396152</th>\n",
       "      <td>PRO_2146</td>\n",
       "      <td>PRO_4583</td>\n",
       "      <td>MGSGSWLKDVWDWICTVLADLKTWLQSKLLPRLPGVPFLSCQRGYK...</td>\n",
       "      <td>MGCVQCKDKEATKLTEERDGSLNQSSGYRYGTDPTPQHYPSFGVTS...</td>\n",
       "      <td>1</td>\n",
       "      <td>1</td>\n",
       "      <td>1</td>\n",
       "      <td>1</td>\n",
       "      <td>1</td>\n",
       "      <td>1</td>\n",
       "      <td>...</td>\n",
       "      <td>-1</td>\n",
       "      <td>0</td>\n",
       "      <td>-1</td>\n",
       "      <td>-1</td>\n",
       "      <td>-1</td>\n",
       "      <td>1</td>\n",
       "      <td>1</td>\n",
       "      <td>1</td>\n",
       "      <td>1</td>\n",
       "      <td>1</td>\n",
       "    </tr>\n",
       "    <tr>\n",
       "      <th>396153</th>\n",
       "      <td>PRO_19214</td>\n",
       "      <td>PRO_91</td>\n",
       "      <td>MDLLVDELFADMNADGASPPPPRPAGGPKNTPAAPPLYATGRLSQA...</td>\n",
       "      <td>MSGVRAVRISIESACEKQVHEVGLDGTETYLPPLSMSQNLARLAQR...</td>\n",
       "      <td>0</td>\n",
       "      <td>-1</td>\n",
       "      <td>1</td>\n",
       "      <td>1</td>\n",
       "      <td>1</td>\n",
       "      <td>1</td>\n",
       "      <td>...</td>\n",
       "      <td>1</td>\n",
       "      <td>0</td>\n",
       "      <td>-1</td>\n",
       "      <td>-1</td>\n",
       "      <td>1</td>\n",
       "      <td>1</td>\n",
       "      <td>1</td>\n",
       "      <td>1</td>\n",
       "      <td>1</td>\n",
       "      <td>1</td>\n",
       "    </tr>\n",
       "  </tbody>\n",
       "</table>\n",
       "<p>396154 rows × 31 columns</p>\n",
       "</div>"
      ],
      "text/plain": [
       "        Protein_A  Protein_B  \\\n",
       "0        PRO_1968   PRO_2127   \n",
       "1        PRO_1968   PRO_3259   \n",
       "2        PRO_1968  PRO_20825   \n",
       "3        PRO_1968  PRO_11236   \n",
       "4        PRO_1968   PRO_2577   \n",
       "...           ...        ...   \n",
       "396149  PRO_11977  PRO_20355   \n",
       "396150  PRO_11977   PRO_4583   \n",
       "396151  PRO_19214  PRO_18202   \n",
       "396152   PRO_2146   PRO_4583   \n",
       "396153  PRO_19214     PRO_91   \n",
       "\n",
       "                                       Protein_A_sequence  \\\n",
       "0       MAKNPPENCEDCHILNAEAFKSKKICKSLKICGLVFGILALTLIVL...   \n",
       "1       MAKNPPENCEDCHILNAEAFKSKKICKSLKICGLVFGILALTLIVL...   \n",
       "2       MAKNPPENCEDCHILNAEAFKSKKICKSLKICGLVFGILALTLIVL...   \n",
       "3       MAKNPPENCEDCHILNAEAFKSKKICKSLKICGLVFGILALTLIVL...   \n",
       "4       MAKNPPENCEDCHILNAEAFKSKKICKSLKICGLVFGILALTLIVL...   \n",
       "...                                                   ...   \n",
       "396149  SGSWLRDIWDWICEVLSDFKTWLKAKLMPQLPGIPFVSCQRGYKGV...   \n",
       "396150  SGSWLRDIWDWICEVLSDFKTWLKAKLMPQLPGIPFVSCQRGYKGV...   \n",
       "396151  MDLLVDELFADMNADGASPPPPRPAGGPKNTPAAPPLYATGRLSQA...   \n",
       "396152  MGSGSWLKDVWDWICTVLADLKTWLQSKLLPRLPGVPFLSCQRGYK...   \n",
       "396153  MDLLVDELFADMNADGASPPPPRPAGGPKNTPAAPPLYATGRLSQA...   \n",
       "\n",
       "                                       Protein_B_sequence  split_0_10  \\\n",
       "0       MRRSSRPGSASSSRKHTPNFFSENSSMSITSEDSKGLRSAEPGPGE...           0   \n",
       "1       MASSSTVPLGFHYETKYVVLSYLGLLSQEKLQEQHLSSPQGVQLDI...           0   \n",
       "2       MSSHLVEPPPPLHNNNNNCEENEQSLPPPAGLNSSWVELPMNSSNG...          -1   \n",
       "3       MPLLLLLPLLWAGALAMDPNFWLQVQESVTVQEGLCVLVPCTFFHP...          -1   \n",
       "4       MKAQTALSFFLILITSLSGSQGIFPLAFFIYVPMNEQIVIGRLDED...           0   \n",
       "...                                                   ...         ...   \n",
       "396149  MGGRSSCEDPGCPRDEERAPRMGCMKSKFLQVGGNTFSKTETSASP...           1   \n",
       "396150  MGCVQCKDKEATKLTEERDGSLNQSSGYRYGTDPTPQHYPSFGVTS...           1   \n",
       "396151  MQREEKQLEASLDALLSQVADLKNSLGSFICKLENEYGRLTWPSVL...           0   \n",
       "396152  MGCVQCKDKEATKLTEERDGSLNQSSGYRYGTDPTPQHYPSFGVTS...           1   \n",
       "396153  MSGVRAVRISIESACEKQVHEVGLDGTETYLPPLSMSQNLARLAQR...           0   \n",
       "\n",
       "        split_0_20  split_0_30  split_0_40  split_0_50  split_0_60  ...  \\\n",
       "0               -1          -1          -1          -1          -1  ...   \n",
       "1               -1           1           1           1           1  ...   \n",
       "2                1           1           1           1           1  ...   \n",
       "3                1           1           1           1           1  ...   \n",
       "4               -1          -1          -1          -1           1  ...   \n",
       "...            ...         ...         ...         ...         ...  ...   \n",
       "396149           1           1           1           1           1  ...   \n",
       "396150           1           1           1           1           1  ...   \n",
       "396151          -1           1           1           1           1  ...   \n",
       "396152           1           1           1           1           1  ...   \n",
       "396153          -1           1           1           1           1  ...   \n",
       "\n",
       "        split_1_90  split_2_10  split_2_20  split_2_30  split_2_40  \\\n",
       "0                1          -1          -1          -1          -1   \n",
       "1                1          -1          -1           1           1   \n",
       "2               -1          -1          -1          -1          -1   \n",
       "3                1          -1          -1          -1           1   \n",
       "4                1          -1          -1           1           1   \n",
       "...            ...         ...         ...         ...         ...   \n",
       "396149          -1           0           0          -1          -1   \n",
       "396150          -1           0          -1          -1          -1   \n",
       "396151           1           0           0           0          -1   \n",
       "396152          -1           0          -1          -1          -1   \n",
       "396153           1           0          -1          -1           1   \n",
       "\n",
       "        split_2_50  split_2_60  split_2_70  split_2_80  split_2_90  \n",
       "0               -1          -1           1           1           1  \n",
       "1                1           1           1           1           1  \n",
       "2                1           1           1           1           1  \n",
       "3                1           1           1           1           1  \n",
       "4                1           1           1           1           1  \n",
       "...            ...         ...         ...         ...         ...  \n",
       "396149           1           1           1           1           1  \n",
       "396150           1           1           1           1           1  \n",
       "396151          -1          -1           1           1           1  \n",
       "396152           1           1           1           1           1  \n",
       "396153           1           1           1           1           1  \n",
       "\n",
       "[396154 rows x 31 columns]"
      ]
     },
     "execution_count": 149,
     "metadata": {},
     "output_type": "execute_result"
    }
   ],
   "source": [
    "negative_data = data.iloc[396154:]\n",
    "negative_data\n",
    "\n",
    "positive_data = data.iloc[:396154]\n",
    "positive_data"
   ]
  },
  {
   "cell_type": "code",
   "execution_count": 270,
   "id": "08cbe126",
   "metadata": {},
   "outputs": [],
   "source": [
    "train_data_pos = positive_data[positive_data.split_0_50 == 1][['Protein_A','Protein_B','Protein_A_sequence','Protein_B_sequence']]\n",
    "test_data_pos = positive_data[positive_data.split_0_50 == 0][['Protein_A','Protein_B','Protein_A_sequence','Protein_B_sequence']]\n",
    "\n",
    "train_data_neg = negative_data[negative_data.split_0_50 == 1][['Protein_A','Protein_B','Protein_A_sequence','Protein_B_sequence']]\n",
    "test_data_neg = negative_data[negative_data.split_0_50 == 0][['Protein_A','Protein_B','Protein_A_sequence','Protein_B_sequence']]\n",
    "\n"
   ]
  },
  {
   "cell_type": "code",
   "execution_count": 157,
   "id": "46f38507",
   "metadata": {},
   "outputs": [],
   "source": [
    "assert((len(train_data_pos)+len(train_data_neg)) == len(data[data.split_0_50 == 1]))\n",
    "assert((len(test_data_pos)+len(test_data_neg)) == len(data[data.split_0_50 == 0]))\n"
   ]
  },
  {
   "cell_type": "markdown",
   "id": "a4a779b6",
   "metadata": {},
   "source": [
    "## 2. Randomly sampling"
   ]
  },
  {
   "cell_type": "code",
   "execution_count": 160,
   "id": "ba537925",
   "metadata": {},
   "outputs": [],
   "source": [
    "unique_proteins_train_set = list(set(train_data_pos['Protein_A']).union(train_data_pos['Protein_B']).union(train_data_neg['Protein_A']).union(train_data_neg['Protein_B']))\n",
    "unique_proteins_test_set = list(set(test_pos_data['Protein_A']).union(test_pos_data['Protein_B']).union(test_neg_data['Protein_A']).union(test_neg_data['Protein_B']))"
   ]
  },
  {
   "cell_type": "code",
   "execution_count": 167,
   "id": "848ff0ef",
   "metadata": {},
   "outputs": [
    {
     "data": {
      "text/plain": [
       "True"
      ]
     },
     "execution_count": 167,
     "metadata": {},
     "output_type": "execute_result"
    }
   ],
   "source": [
    "len(unique_proteins_train_set) == len(set(data[data.split_0_50 ==1].Protein_A).union(data[data.split_0_50 ==1].Protein_B))"
   ]
  },
  {
   "cell_type": "code",
   "execution_count": 168,
   "id": "c7d72afb",
   "metadata": {},
   "outputs": [
    {
     "data": {
      "text/plain": [
       "True"
      ]
     },
     "execution_count": 168,
     "metadata": {},
     "output_type": "execute_result"
    }
   ],
   "source": [
    "len(unique_proteins_test_set) == len(set(data[data.split_0_50 ==0].Protein_A).union(data[data.split_0_50 ==0].Protein_B))"
   ]
  },
  {
   "cell_type": "code",
   "execution_count": 169,
   "id": "72640955",
   "metadata": {},
   "outputs": [],
   "source": [
    "def random_pairs(number_list): \n",
    "    return [number_list[i] for i in random.sample(range(len(number_list)), 2)]"
   ]
  },
  {
   "cell_type": "code",
   "execution_count": 170,
   "id": "3a9e2c8b",
   "metadata": {},
   "outputs": [],
   "source": [
    "all_possible_train_set_protein_pairs = [random_pairs(unique_proteins_train_set) for i in range(500000)]\n",
    "all_possible_test_set_protein_pairs = [random_pairs(unique_proteins_test_set) for i in range(500000)]"
   ]
  },
  {
   "cell_type": "code",
   "execution_count": 174,
   "id": "1a4ce5b3",
   "metadata": {},
   "outputs": [
    {
     "data": {
      "text/plain": [
       "set()"
      ]
     },
     "execution_count": 174,
     "metadata": {},
     "output_type": "execute_result"
    }
   ],
   "source": [
    "set(unique_proteins_test_set).intersection(set(unique_proteins_train_set))"
   ]
  },
  {
   "cell_type": "markdown",
   "id": "52a81cb9",
   "metadata": {},
   "source": [
    "### 2.1 Test set\n",
    "\n",
    "<pre>\n",
    "--> all_possible_test_set_protein_pairs\n",
    "--> test_data_pos\n",
    "--> test_data_neg\n",
    "</pre>"
   ]
  },
  {
   "cell_type": "code",
   "execution_count": 175,
   "id": "63e4ac80",
   "metadata": {},
   "outputs": [],
   "source": [
    "positive_test_set_pairs = []\n",
    "for index,row in test_data_pos.iterrows():\n",
    "    positive_test_set_pairs.append([row.Protein_A,row.Protein_B])\n",
    "    positive_test_set_pairs.append([row.Protein_B,row.Protein_A])"
   ]
  },
  {
   "cell_type": "code",
   "execution_count": 176,
   "id": "77d81e41",
   "metadata": {},
   "outputs": [
    {
     "data": {
      "text/plain": [
       "42694"
      ]
     },
     "execution_count": 176,
     "metadata": {},
     "output_type": "execute_result"
    }
   ],
   "source": [
    "len(positive_test_set_pairs)"
   ]
  },
  {
   "cell_type": "code",
   "execution_count": null,
   "id": "fe497b94",
   "metadata": {},
   "outputs": [],
   "source": [
    "unique_proteins_test_set = list(set(test_pos_data['Protein_A']).union(test_pos_data['Protein_B']).union(test_neg_data['Protein_A']).union(test_neg_data['Protein_B']))\n",
    "all_possible_test_set_protein_pairs = [random_pairs(unique_proteins_test_set) for i in range(500000)]"
   ]
  },
  {
   "cell_type": "code",
   "execution_count": 178,
   "id": "6558d195",
   "metadata": {},
   "outputs": [
    {
     "name": "stderr",
     "output_type": "stream",
     "text": [
      "100%|█████████████████████████████████████████████████| 500000/500000 [13:00<00:00, 640.37it/s]\n"
     ]
    }
   ],
   "source": [
    "# ! Warning\n",
    "\n",
    "neg_test_pairs = []\n",
    "for i in tqdm(all_possible_test_set_protein_pairs):\n",
    "    \n",
    "    if i in positive_test_set_pairs:\n",
    "        \n",
    "        \n",
    "        continue\n",
    "    else:\n",
    "        neg_test_pairs.append(i)"
   ]
  },
  {
   "cell_type": "code",
   "execution_count": 181,
   "id": "c3118d9e",
   "metadata": {},
   "outputs": [],
   "source": [
    "neg_test_pairs_subset = random.sample(neg_test_pairs,len(test_data_pos)*10 - len(test_data_neg))"
   ]
  },
  {
   "cell_type": "code",
   "execution_count": 217,
   "id": "53d200a4",
   "metadata": {},
   "outputs": [],
   "source": [
    "# neg_test_pairs_subset"
   ]
  },
  {
   "cell_type": "code",
   "execution_count": 182,
   "id": "3c0ec9ec",
   "metadata": {},
   "outputs": [
    {
     "data": {
      "text/plain": [
       "True"
      ]
     },
     "execution_count": 182,
     "metadata": {},
     "output_type": "execute_result"
    }
   ],
   "source": [
    "len(neg_test_pairs_subset) == 213380"
   ]
  },
  {
   "cell_type": "code",
   "execution_count": 179,
   "id": "33b4d98c",
   "metadata": {},
   "outputs": [],
   "source": [
    "neg_test_set_pairs = []\n",
    "for index,row in test_data_neg.iterrows():\n",
    "   \n",
    "    neg_test_set_pairs.append([row.Protein_A,row.Protein_B])"
   ]
  },
  {
   "cell_type": "code",
   "execution_count": 180,
   "id": "122b14a1",
   "metadata": {},
   "outputs": [
    {
     "data": {
      "text/plain": [
       "90"
      ]
     },
     "execution_count": 180,
     "metadata": {},
     "output_type": "execute_result"
    }
   ],
   "source": [
    "len(neg_test_set_pairs)"
   ]
  },
  {
   "cell_type": "code",
   "execution_count": 183,
   "id": "e6f82e2b",
   "metadata": {},
   "outputs": [
    {
     "data": {
      "text/plain": [
       "213380"
      ]
     },
     "execution_count": 183,
     "metadata": {},
     "output_type": "execute_result"
    }
   ],
   "source": [
    "len(neg_test_pairs_subset)"
   ]
  },
  {
   "cell_type": "code",
   "execution_count": 188,
   "id": "f05c8d13",
   "metadata": {},
   "outputs": [
    {
     "data": {
      "text/plain": [
       "True"
      ]
     },
     "execution_count": 188,
     "metadata": {},
     "output_type": "execute_result"
    }
   ],
   "source": [
    "neg_test_set_pairs.extend(neg_test_pairs_subset)\n",
    "len(neg_test_set_pairs) == len(test_data_pos)*10"
   ]
  },
  {
   "cell_type": "code",
   "execution_count": 193,
   "id": "a8e091f5",
   "metadata": {},
   "outputs": [
    {
     "data": {
      "text/plain": [
       "21347"
      ]
     },
     "execution_count": 193,
     "metadata": {},
     "output_type": "execute_result"
    }
   ],
   "source": [
    "positive_test_set_pairs = []\n",
    "for index,row in test_pos_data.iterrows():\n",
    "    positive_test_set_pairs.append([row.Protein_A,row.Protein_B])\n",
    "  \n",
    "len(positive_test_set_pairs)\n"
   ]
  },
  {
   "cell_type": "code",
   "execution_count": 195,
   "id": "eef33db5",
   "metadata": {},
   "outputs": [],
   "source": [
    "li_A = []\n",
    "li_B = []\n",
    "label = []\n",
    "l = 0\n",
    "for i,j in neg_test_set_pairs:\n",
    "    \n",
    "    li_A.append(i)\n",
    "    li_B.append(j)\n",
    "    label.append(0)\n",
    "    \n"
   ]
  },
  {
   "cell_type": "code",
   "execution_count": 196,
   "id": "e6037c88",
   "metadata": {},
   "outputs": [],
   "source": [
    "test_set_1 = pd.DataFrame()\n",
    "test_set_1['Protein_A'] = li_A\n",
    "test_set_1['Protein_B'] = li_B\n",
    "test_set_1['label'] = label"
   ]
  },
  {
   "cell_type": "code",
   "execution_count": 197,
   "id": "42e60f1c",
   "metadata": {},
   "outputs": [
    {
     "data": {
      "text/html": [
       "<div>\n",
       "<style scoped>\n",
       "    .dataframe tbody tr th:only-of-type {\n",
       "        vertical-align: middle;\n",
       "    }\n",
       "\n",
       "    .dataframe tbody tr th {\n",
       "        vertical-align: top;\n",
       "    }\n",
       "\n",
       "    .dataframe thead th {\n",
       "        text-align: right;\n",
       "    }\n",
       "</style>\n",
       "<table border=\"1\" class=\"dataframe\">\n",
       "  <thead>\n",
       "    <tr style=\"text-align: right;\">\n",
       "      <th></th>\n",
       "      <th>Protein_A</th>\n",
       "      <th>Protein_B</th>\n",
       "      <th>label</th>\n",
       "    </tr>\n",
       "  </thead>\n",
       "  <tbody>\n",
       "    <tr>\n",
       "      <th>0</th>\n",
       "      <td>PRO_23889</td>\n",
       "      <td>PRO_23995</td>\n",
       "      <td>0</td>\n",
       "    </tr>\n",
       "    <tr>\n",
       "      <th>1</th>\n",
       "      <td>PRO_23889</td>\n",
       "      <td>PRO_23995</td>\n",
       "      <td>0</td>\n",
       "    </tr>\n",
       "    <tr>\n",
       "      <th>2</th>\n",
       "      <td>PRO_23995</td>\n",
       "      <td>PRO_23889</td>\n",
       "      <td>0</td>\n",
       "    </tr>\n",
       "    <tr>\n",
       "      <th>3</th>\n",
       "      <td>PRO_10025</td>\n",
       "      <td>PRO_13020</td>\n",
       "      <td>0</td>\n",
       "    </tr>\n",
       "    <tr>\n",
       "      <th>4</th>\n",
       "      <td>PRO_23639</td>\n",
       "      <td>PRO_23650</td>\n",
       "      <td>0</td>\n",
       "    </tr>\n",
       "    <tr>\n",
       "      <th>...</th>\n",
       "      <td>...</td>\n",
       "      <td>...</td>\n",
       "      <td>...</td>\n",
       "    </tr>\n",
       "    <tr>\n",
       "      <th>213465</th>\n",
       "      <td>PRO_11969</td>\n",
       "      <td>PRO_16870</td>\n",
       "      <td>0</td>\n",
       "    </tr>\n",
       "    <tr>\n",
       "      <th>213466</th>\n",
       "      <td>PRO_2554</td>\n",
       "      <td>PRO_3073</td>\n",
       "      <td>0</td>\n",
       "    </tr>\n",
       "    <tr>\n",
       "      <th>213467</th>\n",
       "      <td>PRO_15478</td>\n",
       "      <td>PRO_18292</td>\n",
       "      <td>0</td>\n",
       "    </tr>\n",
       "    <tr>\n",
       "      <th>213468</th>\n",
       "      <td>PRO_1011</td>\n",
       "      <td>PRO_16240</td>\n",
       "      <td>0</td>\n",
       "    </tr>\n",
       "    <tr>\n",
       "      <th>213469</th>\n",
       "      <td>PRO_23909</td>\n",
       "      <td>PRO_4129</td>\n",
       "      <td>0</td>\n",
       "    </tr>\n",
       "  </tbody>\n",
       "</table>\n",
       "<p>213470 rows × 3 columns</p>\n",
       "</div>"
      ],
      "text/plain": [
       "        Protein_A  Protein_B  label\n",
       "0       PRO_23889  PRO_23995      0\n",
       "1       PRO_23889  PRO_23995      0\n",
       "2       PRO_23995  PRO_23889      0\n",
       "3       PRO_10025  PRO_13020      0\n",
       "4       PRO_23639  PRO_23650      0\n",
       "...           ...        ...    ...\n",
       "213465  PRO_11969  PRO_16870      0\n",
       "213466   PRO_2554   PRO_3073      0\n",
       "213467  PRO_15478  PRO_18292      0\n",
       "213468   PRO_1011  PRO_16240      0\n",
       "213469  PRO_23909   PRO_4129      0\n",
       "\n",
       "[213470 rows x 3 columns]"
      ]
     },
     "execution_count": 197,
     "metadata": {},
     "output_type": "execute_result"
    }
   ],
   "source": [
    "test_set_1"
   ]
  },
  {
   "cell_type": "code",
   "execution_count": 204,
   "id": "94284472",
   "metadata": {},
   "outputs": [
    {
     "data": {
      "text/html": [
       "<div>\n",
       "<style scoped>\n",
       "    .dataframe tbody tr th:only-of-type {\n",
       "        vertical-align: middle;\n",
       "    }\n",
       "\n",
       "    .dataframe tbody tr th {\n",
       "        vertical-align: top;\n",
       "    }\n",
       "\n",
       "    .dataframe thead th {\n",
       "        text-align: right;\n",
       "    }\n",
       "</style>\n",
       "<table border=\"1\" class=\"dataframe\">\n",
       "  <thead>\n",
       "    <tr style=\"text-align: right;\">\n",
       "      <th></th>\n",
       "      <th>Protein_A</th>\n",
       "      <th>Protein_B</th>\n",
       "      <th>label</th>\n",
       "    </tr>\n",
       "  </thead>\n",
       "  <tbody>\n",
       "    <tr>\n",
       "      <th>0</th>\n",
       "      <td>PRO_23889</td>\n",
       "      <td>PRO_23995</td>\n",
       "      <td>0</td>\n",
       "    </tr>\n",
       "    <tr>\n",
       "      <th>1</th>\n",
       "      <td>PRO_23995</td>\n",
       "      <td>PRO_23889</td>\n",
       "      <td>0</td>\n",
       "    </tr>\n",
       "    <tr>\n",
       "      <th>2</th>\n",
       "      <td>PRO_10025</td>\n",
       "      <td>PRO_13020</td>\n",
       "      <td>0</td>\n",
       "    </tr>\n",
       "    <tr>\n",
       "      <th>3</th>\n",
       "      <td>PRO_23639</td>\n",
       "      <td>PRO_23650</td>\n",
       "      <td>0</td>\n",
       "    </tr>\n",
       "    <tr>\n",
       "      <th>4</th>\n",
       "      <td>PRO_23685</td>\n",
       "      <td>PRO_23742</td>\n",
       "      <td>0</td>\n",
       "    </tr>\n",
       "    <tr>\n",
       "      <th>...</th>\n",
       "      <td>...</td>\n",
       "      <td>...</td>\n",
       "      <td>...</td>\n",
       "    </tr>\n",
       "    <tr>\n",
       "      <th>212437</th>\n",
       "      <td>PRO_11969</td>\n",
       "      <td>PRO_16870</td>\n",
       "      <td>0</td>\n",
       "    </tr>\n",
       "    <tr>\n",
       "      <th>212438</th>\n",
       "      <td>PRO_2554</td>\n",
       "      <td>PRO_3073</td>\n",
       "      <td>0</td>\n",
       "    </tr>\n",
       "    <tr>\n",
       "      <th>212439</th>\n",
       "      <td>PRO_15478</td>\n",
       "      <td>PRO_18292</td>\n",
       "      <td>0</td>\n",
       "    </tr>\n",
       "    <tr>\n",
       "      <th>212440</th>\n",
       "      <td>PRO_1011</td>\n",
       "      <td>PRO_16240</td>\n",
       "      <td>0</td>\n",
       "    </tr>\n",
       "    <tr>\n",
       "      <th>212441</th>\n",
       "      <td>PRO_23909</td>\n",
       "      <td>PRO_4129</td>\n",
       "      <td>0</td>\n",
       "    </tr>\n",
       "  </tbody>\n",
       "</table>\n",
       "<p>212442 rows × 3 columns</p>\n",
       "</div>"
      ],
      "text/plain": [
       "        Protein_A  Protein_B  label\n",
       "0       PRO_23889  PRO_23995      0\n",
       "1       PRO_23995  PRO_23889      0\n",
       "2       PRO_10025  PRO_13020      0\n",
       "3       PRO_23639  PRO_23650      0\n",
       "4       PRO_23685  PRO_23742      0\n",
       "...           ...        ...    ...\n",
       "212437  PRO_11969  PRO_16870      0\n",
       "212438   PRO_2554   PRO_3073      0\n",
       "212439  PRO_15478  PRO_18292      0\n",
       "212440   PRO_1011  PRO_16240      0\n",
       "212441  PRO_23909   PRO_4129      0\n",
       "\n",
       "[212442 rows x 3 columns]"
      ]
     },
     "execution_count": 204,
     "metadata": {},
     "output_type": "execute_result"
    }
   ],
   "source": [
    "test_set_1.drop_duplicates(subset=None, keep='first', inplace=True, ignore_index=True)\n",
    "test_set_1"
   ]
  },
  {
   "cell_type": "code",
   "execution_count": 200,
   "id": "2f2911aa",
   "metadata": {},
   "outputs": [],
   "source": [
    "all_pairs_test_set_1 = [[row.Protein_A,row.Protein_B] for index,row in test_set_1.iterrows()]\n",
    "all_pairs_test_set_2 = [[row.Protein_B,row.Protein_A] for index,row in test_set_1.iterrows()]\n",
    "all_pairs_test_set_1.extend(all_pairs_test_set_2)\n",
    "all_pairs_neg_test_set = all_pairs_test_set_1"
   ]
  },
  {
   "cell_type": "code",
   "execution_count": 205,
   "id": "74f4f93f",
   "metadata": {},
   "outputs": [],
   "source": [
    "all_pairs_test_set_1.extend(all_pairs_test_set_2)\n",
    "all_pairs_neg_test_set = all_pairs_test_set_1"
   ]
  },
  {
   "cell_type": "code",
   "execution_count": 207,
   "id": "17c8c96b",
   "metadata": {},
   "outputs": [],
   "source": [
    "li_A = []\n",
    "li_B = []\n",
    "label = []\n",
    "\n",
    "for i,j in positive_test_set_pairs:\n",
    "   \n",
    "    li_A.append(i)\n",
    "    li_B.append(j)\n",
    "    label.append(1)"
   ]
  },
  {
   "cell_type": "code",
   "execution_count": 208,
   "id": "9061cd1c",
   "metadata": {},
   "outputs": [],
   "source": [
    "test_set_2 = pd.DataFrame()\n",
    "test_set_2['Protein_A'] = li_A\n",
    "test_set_2['Protein_B'] = li_B\n",
    "test_set_2['label'] = label"
   ]
  },
  {
   "cell_type": "code",
   "execution_count": 218,
   "id": "a744c229",
   "metadata": {},
   "outputs": [
    {
     "data": {
      "text/html": [
       "<div>\n",
       "<style scoped>\n",
       "    .dataframe tbody tr th:only-of-type {\n",
       "        vertical-align: middle;\n",
       "    }\n",
       "\n",
       "    .dataframe tbody tr th {\n",
       "        vertical-align: top;\n",
       "    }\n",
       "\n",
       "    .dataframe thead th {\n",
       "        text-align: right;\n",
       "    }\n",
       "</style>\n",
       "<table border=\"1\" class=\"dataframe\">\n",
       "  <thead>\n",
       "    <tr style=\"text-align: right;\">\n",
       "      <th></th>\n",
       "      <th>Protein_A</th>\n",
       "      <th>Protein_B</th>\n",
       "      <th>label</th>\n",
       "    </tr>\n",
       "  </thead>\n",
       "  <tbody>\n",
       "    <tr>\n",
       "      <th>0</th>\n",
       "      <td>PRO_4691</td>\n",
       "      <td>PRO_2365</td>\n",
       "      <td>1</td>\n",
       "    </tr>\n",
       "    <tr>\n",
       "      <th>1</th>\n",
       "      <td>PRO_12486</td>\n",
       "      <td>PRO_12486</td>\n",
       "      <td>1</td>\n",
       "    </tr>\n",
       "    <tr>\n",
       "      <th>2</th>\n",
       "      <td>PRO_12486</td>\n",
       "      <td>PRO_15453</td>\n",
       "      <td>1</td>\n",
       "    </tr>\n",
       "    <tr>\n",
       "      <th>3</th>\n",
       "      <td>PRO_12486</td>\n",
       "      <td>PRO_22362</td>\n",
       "      <td>1</td>\n",
       "    </tr>\n",
       "    <tr>\n",
       "      <th>4</th>\n",
       "      <td>PRO_12486</td>\n",
       "      <td>PRO_3423</td>\n",
       "      <td>1</td>\n",
       "    </tr>\n",
       "    <tr>\n",
       "      <th>...</th>\n",
       "      <td>...</td>\n",
       "      <td>...</td>\n",
       "      <td>...</td>\n",
       "    </tr>\n",
       "    <tr>\n",
       "      <th>21342</th>\n",
       "      <td>PRO_15612</td>\n",
       "      <td>PRO_23102</td>\n",
       "      <td>1</td>\n",
       "    </tr>\n",
       "    <tr>\n",
       "      <th>21343</th>\n",
       "      <td>PRO_4020</td>\n",
       "      <td>PRO_14939</td>\n",
       "      <td>1</td>\n",
       "    </tr>\n",
       "    <tr>\n",
       "      <th>21344</th>\n",
       "      <td>PRO_2235</td>\n",
       "      <td>PRO_22330</td>\n",
       "      <td>1</td>\n",
       "    </tr>\n",
       "    <tr>\n",
       "      <th>21345</th>\n",
       "      <td>PRO_19718</td>\n",
       "      <td>PRO_15698</td>\n",
       "      <td>1</td>\n",
       "    </tr>\n",
       "    <tr>\n",
       "      <th>21346</th>\n",
       "      <td>PRO_10477</td>\n",
       "      <td>PRO_2752</td>\n",
       "      <td>1</td>\n",
       "    </tr>\n",
       "  </tbody>\n",
       "</table>\n",
       "<p>21347 rows × 3 columns</p>\n",
       "</div>"
      ],
      "text/plain": [
       "       Protein_A  Protein_B  label\n",
       "0       PRO_4691   PRO_2365      1\n",
       "1      PRO_12486  PRO_12486      1\n",
       "2      PRO_12486  PRO_15453      1\n",
       "3      PRO_12486  PRO_22362      1\n",
       "4      PRO_12486   PRO_3423      1\n",
       "...          ...        ...    ...\n",
       "21342  PRO_15612  PRO_23102      1\n",
       "21343   PRO_4020  PRO_14939      1\n",
       "21344   PRO_2235  PRO_22330      1\n",
       "21345  PRO_19718  PRO_15698      1\n",
       "21346  PRO_10477   PRO_2752      1\n",
       "\n",
       "[21347 rows x 3 columns]"
      ]
     },
     "execution_count": 218,
     "metadata": {},
     "output_type": "execute_result"
    }
   ],
   "source": [
    "test_set_2"
   ]
  },
  {
   "cell_type": "code",
   "execution_count": 223,
   "id": "9f4d148d",
   "metadata": {},
   "outputs": [
    {
     "data": {
      "text/html": [
       "<div>\n",
       "<style scoped>\n",
       "    .dataframe tbody tr th:only-of-type {\n",
       "        vertical-align: middle;\n",
       "    }\n",
       "\n",
       "    .dataframe tbody tr th {\n",
       "        vertical-align: top;\n",
       "    }\n",
       "\n",
       "    .dataframe thead th {\n",
       "        text-align: right;\n",
       "    }\n",
       "</style>\n",
       "<table border=\"1\" class=\"dataframe\">\n",
       "  <thead>\n",
       "    <tr style=\"text-align: right;\">\n",
       "      <th></th>\n",
       "      <th>Protein_A</th>\n",
       "      <th>Protein_B</th>\n",
       "      <th>Protein_A_sequence</th>\n",
       "      <th>Protein_B_sequence</th>\n",
       "    </tr>\n",
       "  </thead>\n",
       "  <tbody>\n",
       "    <tr>\n",
       "      <th>0</th>\n",
       "      <td>PRO_4691</td>\n",
       "      <td>PRO_2365</td>\n",
       "      <td>MASLEVSRSPRRSRRELEVRSPRQNKYSVLLPTYNERENLPLIVWL...</td>\n",
       "      <td>MSGCPFLGNNFGYTFKKLPVEGSEEDKSQTGVNRASKGGLIYGNYL...</td>\n",
       "    </tr>\n",
       "    <tr>\n",
       "      <th>1</th>\n",
       "      <td>PRO_12486</td>\n",
       "      <td>PRO_12486</td>\n",
       "      <td>MEDLGENTMVLSTLRSLNNFISQRVEGGSGLDISTSAPGSLQMQYQ...</td>\n",
       "      <td>MEDLGENTMVLSTLRSLNNFISQRVEGGSGLDISTSAPGSLQMQYQ...</td>\n",
       "    </tr>\n",
       "    <tr>\n",
       "      <th>2</th>\n",
       "      <td>PRO_12486</td>\n",
       "      <td>PRO_15453</td>\n",
       "      <td>MEDLGENTMVLSTLRSLNNFISQRVEGGSGLDISTSAPGSLQMQYQ...</td>\n",
       "      <td>MTDDKDVLRDVWFGRIPTCFTLYQDEITEREAEPYYLLLPRVSYLT...</td>\n",
       "    </tr>\n",
       "    <tr>\n",
       "      <th>3</th>\n",
       "      <td>PRO_12486</td>\n",
       "      <td>PRO_22362</td>\n",
       "      <td>MEDLGENTMVLSTLRSLNNFISQRVEGGSGLDISTSAPGSLQMQYQ...</td>\n",
       "      <td>MADSKEGVLPLTAASTAPISFGFTRTSARRRLADSGDGAGPSPEEK...</td>\n",
       "    </tr>\n",
       "    <tr>\n",
       "      <th>4</th>\n",
       "      <td>PRO_12486</td>\n",
       "      <td>PRO_3423</td>\n",
       "      <td>MEDLGENTMVLSTLRSLNNFISQRVEGGSGLDISTSAPGSLQMQYQ...</td>\n",
       "      <td>MSRKISKESKKVNISSSLESEDISLETTVPTDDISSSEEREGKVRI...</td>\n",
       "    </tr>\n",
       "    <tr>\n",
       "      <th>...</th>\n",
       "      <td>...</td>\n",
       "      <td>...</td>\n",
       "      <td>...</td>\n",
       "      <td>...</td>\n",
       "    </tr>\n",
       "    <tr>\n",
       "      <th>21342</th>\n",
       "      <td>PRO_15612</td>\n",
       "      <td>PRO_23102</td>\n",
       "      <td>MKSRHHLNTRLLPLSILISALIPAAVLAAPSVAIPPPVQDLINQVQ...</td>\n",
       "      <td>MAIFSVYVVNKAGGLIYQLDSYAPRAEAEKTFSYPLDLLLKLHDER...</td>\n",
       "    </tr>\n",
       "    <tr>\n",
       "      <th>21343</th>\n",
       "      <td>PRO_4020</td>\n",
       "      <td>PRO_14939</td>\n",
       "      <td>MKTWIARLLGKDISIDFPAPWAADSTAIYRWLATWPDSDGPLPAEA...</td>\n",
       "      <td>MGRRSTSSTKSGKFMNPTDQARKEARKRELKKNKKQRMMVRAAVLK...</td>\n",
       "    </tr>\n",
       "    <tr>\n",
       "      <th>21344</th>\n",
       "      <td>PRO_2235</td>\n",
       "      <td>PRO_22330</td>\n",
       "      <td>MKQAFRVALGFLVLWASVLHAEVRIEITQGVDSARPIGVVPFKWMG...</td>\n",
       "      <td>MAAAFRKAAKSRQREHRERSQPGFRKHLGLLEKKKDYKLRADDYRK...</td>\n",
       "    </tr>\n",
       "    <tr>\n",
       "      <th>21345</th>\n",
       "      <td>PRO_19718</td>\n",
       "      <td>PRO_15698</td>\n",
       "      <td>MSEFSQTVPELVAWARKNDFSITLPTERLAFLMAIAALNGERLDGE...</td>\n",
       "      <td>MGTPASGRKRTPVKDRFSAEDEALSNIAREAEARLAAKRAARAEAR...</td>\n",
       "    </tr>\n",
       "    <tr>\n",
       "      <th>21346</th>\n",
       "      <td>PRO_10477</td>\n",
       "      <td>PRO_2752</td>\n",
       "      <td>MASSNRGNARPLKSFLHELYLKHYPEVGDVVHLLNTIGVDCDLPPS...</td>\n",
       "      <td>MWRSLGLALALCLLPSGGTESQDQSSLCKQPPAWSIRDQDPMLNSN...</td>\n",
       "    </tr>\n",
       "  </tbody>\n",
       "</table>\n",
       "<p>21347 rows × 4 columns</p>\n",
       "</div>"
      ],
      "text/plain": [
       "       Protein_A  Protein_B  \\\n",
       "0       PRO_4691   PRO_2365   \n",
       "1      PRO_12486  PRO_12486   \n",
       "2      PRO_12486  PRO_15453   \n",
       "3      PRO_12486  PRO_22362   \n",
       "4      PRO_12486   PRO_3423   \n",
       "...          ...        ...   \n",
       "21342  PRO_15612  PRO_23102   \n",
       "21343   PRO_4020  PRO_14939   \n",
       "21344   PRO_2235  PRO_22330   \n",
       "21345  PRO_19718  PRO_15698   \n",
       "21346  PRO_10477   PRO_2752   \n",
       "\n",
       "                                      Protein_A_sequence  \\\n",
       "0      MASLEVSRSPRRSRRELEVRSPRQNKYSVLLPTYNERENLPLIVWL...   \n",
       "1      MEDLGENTMVLSTLRSLNNFISQRVEGGSGLDISTSAPGSLQMQYQ...   \n",
       "2      MEDLGENTMVLSTLRSLNNFISQRVEGGSGLDISTSAPGSLQMQYQ...   \n",
       "3      MEDLGENTMVLSTLRSLNNFISQRVEGGSGLDISTSAPGSLQMQYQ...   \n",
       "4      MEDLGENTMVLSTLRSLNNFISQRVEGGSGLDISTSAPGSLQMQYQ...   \n",
       "...                                                  ...   \n",
       "21342  MKSRHHLNTRLLPLSILISALIPAAVLAAPSVAIPPPVQDLINQVQ...   \n",
       "21343  MKTWIARLLGKDISIDFPAPWAADSTAIYRWLATWPDSDGPLPAEA...   \n",
       "21344  MKQAFRVALGFLVLWASVLHAEVRIEITQGVDSARPIGVVPFKWMG...   \n",
       "21345  MSEFSQTVPELVAWARKNDFSITLPTERLAFLMAIAALNGERLDGE...   \n",
       "21346  MASSNRGNARPLKSFLHELYLKHYPEVGDVVHLLNTIGVDCDLPPS...   \n",
       "\n",
       "                                      Protein_B_sequence  \n",
       "0      MSGCPFLGNNFGYTFKKLPVEGSEEDKSQTGVNRASKGGLIYGNYL...  \n",
       "1      MEDLGENTMVLSTLRSLNNFISQRVEGGSGLDISTSAPGSLQMQYQ...  \n",
       "2      MTDDKDVLRDVWFGRIPTCFTLYQDEITEREAEPYYLLLPRVSYLT...  \n",
       "3      MADSKEGVLPLTAASTAPISFGFTRTSARRRLADSGDGAGPSPEEK...  \n",
       "4      MSRKISKESKKVNISSSLESEDISLETTVPTDDISSSEEREGKVRI...  \n",
       "...                                                  ...  \n",
       "21342  MAIFSVYVVNKAGGLIYQLDSYAPRAEAEKTFSYPLDLLLKLHDER...  \n",
       "21343  MGRRSTSSTKSGKFMNPTDQARKEARKRELKKNKKQRMMVRAAVLK...  \n",
       "21344  MAAAFRKAAKSRQREHRERSQPGFRKHLGLLEKKKDYKLRADDYRK...  \n",
       "21345  MGTPASGRKRTPVKDRFSAEDEALSNIAREAEARLAAKRAARAEAR...  \n",
       "21346  MWRSLGLALALCLLPSGGTESQDQSSLCKQPPAWSIRDQDPMLNSN...  \n",
       "\n",
       "[21347 rows x 4 columns]"
      ]
     },
     "execution_count": 223,
     "metadata": {},
     "output_type": "execute_result"
    }
   ],
   "source": [
    "test_data_pos.reset_index(drop = True)"
   ]
  },
  {
   "cell_type": "code",
   "execution_count": 221,
   "id": "97057d39",
   "metadata": {},
   "outputs": [
    {
     "data": {
      "text/html": [
       "<div>\n",
       "<style scoped>\n",
       "    .dataframe tbody tr th:only-of-type {\n",
       "        vertical-align: middle;\n",
       "    }\n",
       "\n",
       "    .dataframe tbody tr th {\n",
       "        vertical-align: top;\n",
       "    }\n",
       "\n",
       "    .dataframe thead th {\n",
       "        text-align: right;\n",
       "    }\n",
       "</style>\n",
       "<table border=\"1\" class=\"dataframe\">\n",
       "  <thead>\n",
       "    <tr style=\"text-align: right;\">\n",
       "      <th></th>\n",
       "      <th>Protein_A</th>\n",
       "      <th>Protein_B</th>\n",
       "      <th>label</th>\n",
       "    </tr>\n",
       "  </thead>\n",
       "  <tbody>\n",
       "    <tr>\n",
       "      <th>0</th>\n",
       "      <td>PRO_23889</td>\n",
       "      <td>PRO_23995</td>\n",
       "      <td>0</td>\n",
       "    </tr>\n",
       "    <tr>\n",
       "      <th>1</th>\n",
       "      <td>PRO_23995</td>\n",
       "      <td>PRO_23889</td>\n",
       "      <td>0</td>\n",
       "    </tr>\n",
       "    <tr>\n",
       "      <th>2</th>\n",
       "      <td>PRO_10025</td>\n",
       "      <td>PRO_13020</td>\n",
       "      <td>0</td>\n",
       "    </tr>\n",
       "    <tr>\n",
       "      <th>3</th>\n",
       "      <td>PRO_23639</td>\n",
       "      <td>PRO_23650</td>\n",
       "      <td>0</td>\n",
       "    </tr>\n",
       "    <tr>\n",
       "      <th>4</th>\n",
       "      <td>PRO_23685</td>\n",
       "      <td>PRO_23742</td>\n",
       "      <td>0</td>\n",
       "    </tr>\n",
       "    <tr>\n",
       "      <th>...</th>\n",
       "      <td>...</td>\n",
       "      <td>...</td>\n",
       "      <td>...</td>\n",
       "    </tr>\n",
       "    <tr>\n",
       "      <th>212437</th>\n",
       "      <td>PRO_11969</td>\n",
       "      <td>PRO_16870</td>\n",
       "      <td>0</td>\n",
       "    </tr>\n",
       "    <tr>\n",
       "      <th>212438</th>\n",
       "      <td>PRO_2554</td>\n",
       "      <td>PRO_3073</td>\n",
       "      <td>0</td>\n",
       "    </tr>\n",
       "    <tr>\n",
       "      <th>212439</th>\n",
       "      <td>PRO_15478</td>\n",
       "      <td>PRO_18292</td>\n",
       "      <td>0</td>\n",
       "    </tr>\n",
       "    <tr>\n",
       "      <th>212440</th>\n",
       "      <td>PRO_1011</td>\n",
       "      <td>PRO_16240</td>\n",
       "      <td>0</td>\n",
       "    </tr>\n",
       "    <tr>\n",
       "      <th>212441</th>\n",
       "      <td>PRO_23909</td>\n",
       "      <td>PRO_4129</td>\n",
       "      <td>0</td>\n",
       "    </tr>\n",
       "  </tbody>\n",
       "</table>\n",
       "<p>212442 rows × 3 columns</p>\n",
       "</div>"
      ],
      "text/plain": [
       "        Protein_A  Protein_B  label\n",
       "0       PRO_23889  PRO_23995      0\n",
       "1       PRO_23995  PRO_23889      0\n",
       "2       PRO_10025  PRO_13020      0\n",
       "3       PRO_23639  PRO_23650      0\n",
       "4       PRO_23685  PRO_23742      0\n",
       "...           ...        ...    ...\n",
       "212437  PRO_11969  PRO_16870      0\n",
       "212438   PRO_2554   PRO_3073      0\n",
       "212439  PRO_15478  PRO_18292      0\n",
       "212440   PRO_1011  PRO_16240      0\n",
       "212441  PRO_23909   PRO_4129      0\n",
       "\n",
       "[212442 rows x 3 columns]"
      ]
     },
     "execution_count": 221,
     "metadata": {},
     "output_type": "execute_result"
    }
   ],
   "source": [
    "test_set_1"
   ]
  },
  {
   "cell_type": "code",
   "execution_count": 215,
   "id": "4f7e6313",
   "metadata": {},
   "outputs": [
    {
     "name": "stderr",
     "output_type": "stream",
     "text": [
      "  0%|                                                   | 240/424884 [00:00<05:37, 1258.15it/s]"
     ]
    },
    {
     "name": "stdout",
     "output_type": "stream",
     "text": [
      "['PRO_10588', 'PRO_10588']\n",
      "['PRO_3142', 'PRO_19666']\n",
      "['PRO_2611', 'PRO_2906']\n",
      "['PRO_19666', 'PRO_2631']\n",
      "['PRO_4144', 'PRO_22947']\n",
      "['PRO_16857', 'PRO_21623']\n",
      "['PRO_12373', 'PRO_19666']\n",
      "['PRO_2611', 'PRO_4144']\n",
      "['PRO_16857', 'PRO_10588']\n",
      "['PRO_2906', 'PRO_22947']\n",
      "['PRO_2906', 'PRO_12854']\n",
      "['PRO_4144', 'PRO_12854']\n"
     ]
    },
    {
     "name": "stderr",
     "output_type": "stream",
     "text": [
      " 50%|████████████████████████                        | 212775/424884 [02:11<02:11, 1609.98it/s]"
     ]
    },
    {
     "name": "stdout",
     "output_type": "stream",
     "text": [
      "['PRO_10588', 'PRO_10588']\n",
      "['PRO_19666', 'PRO_3142']\n",
      "['PRO_2906', 'PRO_2611']\n",
      "['PRO_2631', 'PRO_19666']\n",
      "['PRO_22947', 'PRO_4144']\n",
      "['PRO_21623', 'PRO_16857']\n",
      "['PRO_19666', 'PRO_12373']\n",
      "['PRO_4144', 'PRO_2611']\n",
      "['PRO_10588', 'PRO_16857']\n",
      "['PRO_22947', 'PRO_2906']\n",
      "['PRO_12854', 'PRO_2906']\n",
      "['PRO_12854', 'PRO_4144']\n"
     ]
    },
    {
     "name": "stderr",
     "output_type": "stream",
     "text": [
      "100%|████████████████████████████████████████████████| 424884/424884 [04:28<00:00, 1584.58it/s]\n"
     ]
    }
   ],
   "source": [
    "for i in tqdm(all_pairs_neg_test_set):\n",
    "    \n",
    "    if i in positive_test_set_pairs:\n",
    "         print(i)\n",
    "         \n",
    "        "
   ]
  },
  {
   "cell_type": "code",
   "execution_count": 228,
   "id": "0f1e53d1",
   "metadata": {},
   "outputs": [],
   "source": [
    "x = [['PRO_10588', 'PRO_10588'],['PRO_3142', 'PRO_19666'],['PRO_2611', 'PRO_2906'],['PRO_19666', 'PRO_2631'],['PRO_4144', 'PRO_22947'],['PRO_16857', 'PRO_21623'],['PRO_12373', 'PRO_19666'],['PRO_2611', 'PRO_4144'],['PRO_16857', 'PRO_10588'],['PRO_2906', 'PRO_22947'],['PRO_2906', 'PRO_12854'],['PRO_4144', 'PRO_12854']]"
   ]
  },
  {
   "cell_type": "code",
   "execution_count": 237,
   "id": "6041c9a6",
   "metadata": {},
   "outputs": [],
   "source": [
    "l = [[k,j] for j,k in x]\n",
    "l.extend(x)\n",
    "\n"
   ]
  },
  {
   "cell_type": "code",
   "execution_count": 244,
   "id": "88d88f2c",
   "metadata": {},
   "outputs": [
    {
     "name": "stderr",
     "output_type": "stream",
     "text": [
      " 47%|█████████████████████▊                        | 101298/213470 [00:00<00:00, 541013.68it/s]"
     ]
    },
    {
     "name": "stdout",
     "output_type": "stream",
     "text": [
      "['PRO_10588', 'PRO_10588']\n",
      "['PRO_3142', 'PRO_19666']\n",
      "['PRO_2611', 'PRO_2906']\n",
      "['PRO_19666', 'PRO_2631']\n",
      "['PRO_4144', 'PRO_22947']\n",
      "['PRO_16857', 'PRO_21623']\n",
      "['PRO_12373', 'PRO_19666']\n",
      "['PRO_2611', 'PRO_4144']\n",
      "['PRO_16857', 'PRO_10588']\n",
      "['PRO_2906', 'PRO_22947']\n",
      "['PRO_2906', 'PRO_12854']\n",
      "['PRO_4144', 'PRO_12854']\n"
     ]
    },
    {
     "name": "stderr",
     "output_type": "stream",
     "text": [
      "100%|██████████████████████████████████████████████| 213470/213470 [00:00<00:00, 655659.95it/s]\n"
     ]
    }
   ],
   "source": [
    "final_neg_pairs = []\n",
    "for i in tqdm(neg_test_set_pairs):\n",
    "    \n",
    "    if i in l:\n",
    "        print(i)\n",
    "        continue\n",
    "       \n",
    "    else:\n",
    "        final_neg_pairs.append(i)\n",
    "        \n",
    "         "
   ]
  },
  {
   "cell_type": "code",
   "execution_count": 246,
   "id": "e8a9864d",
   "metadata": {},
   "outputs": [
    {
     "name": "stderr",
     "output_type": "stream",
     "text": [
      "100%|████████████████████████████████████████████████| 213458/213458 [02:19<00:00, 1535.56it/s]\n"
     ]
    }
   ],
   "source": [
    "for i in tqdm(final_neg_pairs):\n",
    "    \n",
    "    if i in positive_test_set_pairs:\n",
    "         print(i)"
   ]
  },
  {
   "cell_type": "code",
   "execution_count": 245,
   "id": "5768ab98",
   "metadata": {},
   "outputs": [
    {
     "data": {
      "text/plain": [
       "[['PRO_23889', 'PRO_23995'],\n",
       " ['PRO_23889', 'PRO_23995'],\n",
       " ['PRO_23995', 'PRO_23889'],\n",
       " ['PRO_10025', 'PRO_13020'],\n",
       " ['PRO_23639', 'PRO_23650'],\n",
       " ['PRO_23685', 'PRO_23742'],\n",
       " ['PRO_23685', 'PRO_23611'],\n",
       " ['PRO_23952', 'PRO_23957'],\n",
       " ['PRO_23569', 'PRO_23957'],\n",
       " ['PRO_23349', 'PRO_2877'],\n",
       " ['PRO_23349', 'PRO_23795'],\n",
       " ['PRO_3423', 'PRO_19339'],\n",
       " ['PRO_23976', 'PRO_1456'],\n",
       " ['PRO_16748', 'PRO_23489'],\n",
       " ['PRO_20764', 'PRO_4043'],\n",
       " ['PRO_10335', 'PRO_203'],\n",
       " ['PRO_23618', 'PRO_23616'],\n",
       " ['PRO_4513', 'PRO_12313'],\n",
       " ['PRO_23489', 'PRO_16748'],\n",
       " ['PRO_23745', 'PRO_23632'],\n",
       " ['PRO_23909', 'PRO_23632'],\n",
       " ['PRO_23745', 'PRO_23711'],\n",
       " ['PRO_23909', 'PRO_23711'],\n",
       " ['PRO_23745', 'PRO_23944'],\n",
       " ['PRO_23909', 'PRO_23944'],\n",
       " ['PRO_23745', 'PRO_23667'],\n",
       " ['PRO_23909', 'PRO_23667'],\n",
       " ['PRO_1192', 'PRO_22487'],\n",
       " ['PRO_23965', 'PRO_23895'],\n",
       " ['PRO_23962', 'PRO_23706'],\n",
       " ['PRO_23625', 'PRO_23778'],\n",
       " ['PRO_23631', 'PRO_23874'],\n",
       " ['PRO_23887', 'PRO_23874'],\n",
       " ['PRO_16201', 'PRO_4190'],\n",
       " ['PRO_21024', 'PRO_21024'],\n",
       " ['PRO_21024', 'PRO_3829'],\n",
       " ['PRO_12373', 'PRO_12373'],\n",
       " ['PRO_2631', 'PRO_2631'],\n",
       " ['PRO_10712', 'PRO_16412'],\n",
       " ['PRO_22537', 'PRO_22537'],\n",
       " ['PRO_15208', 'PRO_22537'],\n",
       " ['PRO_16412', 'PRO_19089'],\n",
       " ['PRO_353', 'PRO_22770'],\n",
       " ['PRO_353', 'PRO_3829'],\n",
       " ['PRO_2515', 'PRO_4324'],\n",
       " ['PRO_21024', 'PRO_353'],\n",
       " ['PRO_19666', 'PRO_19666'],\n",
       " ['PRO_1456', 'PRO_16412'],\n",
       " ['PRO_16412', 'PRO_15571'],\n",
       " ['PRO_21024', 'PRO_17333'],\n",
       " ['PRO_14124', 'PRO_14124'],\n",
       " ['PRO_20215', 'PRO_20215'],\n",
       " ['PRO_16857', 'PRO_16857'],\n",
       " ['PRO_10712', 'PRO_19089'],\n",
       " ['PRO_22345', 'PRO_15484'],\n",
       " ['PRO_21024', 'PRO_22770'],\n",
       " ['PRO_19089', 'PRO_19089'],\n",
       " ['PRO_3829', 'PRO_3829'],\n",
       " ['PRO_10712', 'PRO_1456'],\n",
       " ['PRO_3829', 'PRO_22770'],\n",
       " ['PRO_1456', 'PRO_19905'],\n",
       " ['PRO_15208', 'PRO_18299'],\n",
       " ['PRO_16412', 'PRO_19905'],\n",
       " ['PRO_18299', 'PRO_20215'],\n",
       " ['PRO_1456', 'PRO_15571'],\n",
       " ['PRO_22537', 'PRO_20215'],\n",
       " ['PRO_15571', 'PRO_19089'],\n",
       " ['PRO_16321', 'PRO_19486'],\n",
       " ['PRO_10712', 'PRO_15571'],\n",
       " ['PRO_19665', 'PRO_16522'],\n",
       " ['PRO_3142', 'PRO_3142'],\n",
       " ['PRO_15208', 'PRO_20215'],\n",
       " ['PRO_16412', 'PRO_16412'],\n",
       " ['PRO_10712', 'PRO_19905'],\n",
       " ['PRO_1456', 'PRO_19089'],\n",
       " ['PRO_19905', 'PRO_19905'],\n",
       " ['PRO_10712', 'PRO_10712'],\n",
       " ['PRO_20054', 'PRO_20054'],\n",
       " ['PRO_21028', 'PRO_10929'],\n",
       " ['PRO_21190', 'PRO_23274'],\n",
       " ['PRO_22802', 'PRO_14358'],\n",
       " ['PRO_20134', 'PRO_10047'],\n",
       " ['PRO_160', 'PRO_11674'],\n",
       " ['PRO_15209', 'PRO_3760'],\n",
       " ['PRO_17969', 'PRO_195'],\n",
       " ['PRO_15635', 'PRO_20138'],\n",
       " ['PRO_17299', 'PRO_17294'],\n",
       " ['PRO_10276', 'PRO_21475'],\n",
       " ['PRO_15127', 'PRO_12402'],\n",
       " ['PRO_14483', 'PRO_21632'],\n",
       " ['PRO_1906', 'PRO_15928'],\n",
       " ['PRO_2703', 'PRO_2297'],\n",
       " ['PRO_17265', 'PRO_16059'],\n",
       " ['PRO_16959', 'PRO_22587'],\n",
       " ['PRO_17701', 'PRO_20802'],\n",
       " ['PRO_12735', 'PRO_16996'],\n",
       " ['PRO_1559', 'PRO_15123'],\n",
       " ['PRO_13743', 'PRO_19709'],\n",
       " ['PRO_23421', 'PRO_3741'],\n",
       " ['PRO_2421', 'PRO_14564'],\n",
       " ['PRO_4273', 'PRO_13443'],\n",
       " ['PRO_23089', 'PRO_3739'],\n",
       " ['PRO_14359', 'PRO_20991'],\n",
       " ['PRO_3401', 'PRO_1388'],\n",
       " ['PRO_14483', 'PRO_13693'],\n",
       " ['PRO_4293', 'PRO_12072'],\n",
       " ['PRO_20624', 'PRO_17179'],\n",
       " ['PRO_1383', 'PRO_19412'],\n",
       " ['PRO_12565', 'PRO_19727'],\n",
       " ['PRO_12617', 'PRO_10396'],\n",
       " ['PRO_2951', 'PRO_22346'],\n",
       " ['PRO_2054', 'PRO_18700'],\n",
       " ['PRO_2746', 'PRO_10334'],\n",
       " ['PRO_15952', 'PRO_20969'],\n",
       " ['PRO_17902', 'PRO_22201'],\n",
       " ['PRO_18067', 'PRO_19675'],\n",
       " ['PRO_15235', 'PRO_15077'],\n",
       " ['PRO_22404', 'PRO_2338'],\n",
       " ['PRO_3172', 'PRO_16337'],\n",
       " ['PRO_17439', 'PRO_11024'],\n",
       " ['PRO_10633', 'PRO_13822'],\n",
       " ['PRO_3198', 'PRO_284'],\n",
       " ['PRO_1985', 'PRO_12060'],\n",
       " ['PRO_4175', 'PRO_23096'],\n",
       " ['PRO_10000', 'PRO_17863'],\n",
       " ['PRO_17271', 'PRO_18967'],\n",
       " ['PRO_14237', 'PRO_14888'],\n",
       " ['PRO_17237', 'PRO_17118'],\n",
       " ['PRO_1731', 'PRO_12778'],\n",
       " ['PRO_10672', 'PRO_1905'],\n",
       " ['PRO_2819', 'PRO_13040'],\n",
       " ['PRO_21005', 'PRO_20774'],\n",
       " ['PRO_3577', 'PRO_12205'],\n",
       " ['PRO_19944', 'PRO_19147'],\n",
       " ['PRO_3826', 'PRO_12313'],\n",
       " ['PRO_17592', 'PRO_10323'],\n",
       " ['PRO_22485', 'PRO_10278'],\n",
       " ['PRO_16875', 'PRO_14127'],\n",
       " ['PRO_11391', 'PRO_14859'],\n",
       " ['PRO_16025', 'PRO_17129'],\n",
       " ['PRO_2359', 'PRO_19719'],\n",
       " ['PRO_2932', 'PRO_10427'],\n",
       " ['PRO_12267', 'PRO_1093'],\n",
       " ['PRO_21225', 'PRO_22690'],\n",
       " ['PRO_15991', 'PRO_4669'],\n",
       " ['PRO_14622', 'PRO_20535'],\n",
       " ['PRO_1279', 'PRO_17422'],\n",
       " ['PRO_14041', 'PRO_20544'],\n",
       " ['PRO_10091', 'PRO_13737'],\n",
       " ['PRO_13013', 'PRO_16495'],\n",
       " ['PRO_422', 'PRO_12979'],\n",
       " ['PRO_18874', 'PRO_14003'],\n",
       " ['PRO_17421', 'PRO_15088'],\n",
       " ['PRO_19467', 'PRO_20180'],\n",
       " ['PRO_15421', 'PRO_16371'],\n",
       " ['PRO_21140', 'PRO_10160'],\n",
       " ['PRO_19314', 'PRO_21615'],\n",
       " ['PRO_21768', 'PRO_21697'],\n",
       " ['PRO_22691', 'PRO_17909'],\n",
       " ['PRO_18610', 'PRO_4069'],\n",
       " ['PRO_2567', 'PRO_15547'],\n",
       " ['PRO_3873', 'PRO_3105'],\n",
       " ['PRO_12320', 'PRO_3413'],\n",
       " ['PRO_19767', 'PRO_22227'],\n",
       " ['PRO_2588', 'PRO_13826'],\n",
       " ['PRO_3739', 'PRO_11651'],\n",
       " ['PRO_20138', 'PRO_17407'],\n",
       " ['PRO_22106', 'PRO_15174'],\n",
       " ['PRO_20239', 'PRO_1304'],\n",
       " ['PRO_20418', 'PRO_16411'],\n",
       " ['PRO_3042', 'PRO_13721'],\n",
       " ['PRO_19808', 'PRO_22255'],\n",
       " ['PRO_15732', 'PRO_22789'],\n",
       " ['PRO_23667', 'PRO_19102'],\n",
       " ['PRO_12689', 'PRO_2646'],\n",
       " ['PRO_14787', 'PRO_23361'],\n",
       " ['PRO_11280', 'PRO_18455'],\n",
       " ['PRO_18215', 'PRO_15943'],\n",
       " ['PRO_22938', 'PRO_22942'],\n",
       " ['PRO_18367', 'PRO_21380'],\n",
       " ['PRO_2809', 'PRO_2056'],\n",
       " ['PRO_13849', 'PRO_10393'],\n",
       " ['PRO_11018', 'PRO_19760'],\n",
       " ['PRO_3075', 'PRO_4459'],\n",
       " ['PRO_13265', 'PRO_3686'],\n",
       " ['PRO_10001', 'PRO_20105'],\n",
       " ['PRO_17850', 'PRO_3324'],\n",
       " ['PRO_20889', 'PRO_2533'],\n",
       " ['PRO_4704', 'PRO_11518'],\n",
       " ['PRO_3031', 'PRO_1538'],\n",
       " ['PRO_18067', 'PRO_19501'],\n",
       " ['PRO_21738', 'PRO_17813'],\n",
       " ['PRO_20728', 'PRO_18112'],\n",
       " ['PRO_14680', 'PRO_22105'],\n",
       " ['PRO_1881', 'PRO_2728'],\n",
       " ['PRO_17907', 'PRO_12198'],\n",
       " ['PRO_2519', 'PRO_21494'],\n",
       " ['PRO_23667', 'PRO_15451'],\n",
       " ['PRO_21451', 'PRO_4376'],\n",
       " ['PRO_15776', 'PRO_16903'],\n",
       " ['PRO_21451', 'PRO_14347'],\n",
       " ['PRO_13927', 'PRO_16734'],\n",
       " ['PRO_4067', 'PRO_19950'],\n",
       " ['PRO_17059', 'PRO_22629'],\n",
       " ['PRO_1572', 'PRO_22486'],\n",
       " ['PRO_12542', 'PRO_2644'],\n",
       " ['PRO_4637', 'PRO_3101'],\n",
       " ['PRO_2744', 'PRO_21639'],\n",
       " ['PRO_2300', 'PRO_11696'],\n",
       " ['PRO_12460', 'PRO_13279'],\n",
       " ['PRO_21743', 'PRO_17220'],\n",
       " ['PRO_22991', 'PRO_3811'],\n",
       " ['PRO_18290', 'PRO_21380'],\n",
       " ['PRO_17863', 'PRO_15698'],\n",
       " ['PRO_4661', 'PRO_18904'],\n",
       " ['PRO_12694', 'PRO_10804'],\n",
       " ['PRO_20322', 'PRO_21048'],\n",
       " ['PRO_13787', 'PRO_21056'],\n",
       " ['PRO_1108', 'PRO_19908'],\n",
       " ['PRO_10427', 'PRO_13907'],\n",
       " ['PRO_13691', 'PRO_13195'],\n",
       " ['PRO_14483', 'PRO_15062'],\n",
       " ['PRO_18119', 'PRO_14298'],\n",
       " ['PRO_21670', 'PRO_19802'],\n",
       " ['PRO_16469', 'PRO_19742'],\n",
       " ['PRO_20995', 'PRO_14506'],\n",
       " ['PRO_13420', 'PRO_19816'],\n",
       " ['PRO_10930', 'PRO_2184'],\n",
       " ['PRO_3126', 'PRO_10396'],\n",
       " ['PRO_20544', 'PRO_392'],\n",
       " ['PRO_3166', 'PRO_3180'],\n",
       " ['PRO_16686', 'PRO_4472'],\n",
       " ['PRO_11430', 'PRO_20083'],\n",
       " ['PRO_20268', 'PRO_16072'],\n",
       " ['PRO_11286', 'PRO_12279'],\n",
       " ['PRO_4087', 'PRO_12137'],\n",
       " ['PRO_443', 'PRO_23332'],\n",
       " ['PRO_17760', 'PRO_14647'],\n",
       " ['PRO_20594', 'PRO_16734'],\n",
       " ['PRO_12826', 'PRO_14251'],\n",
       " ['PRO_12415', 'PRO_14107'],\n",
       " ['PRO_23778', 'PRO_35'],\n",
       " ['PRO_17179', 'PRO_13241'],\n",
       " ['PRO_13993', 'PRO_12572'],\n",
       " ['PRO_17141', 'PRO_1970'],\n",
       " ['PRO_18757', 'PRO_180'],\n",
       " ['PRO_10680', 'PRO_18128'],\n",
       " ['PRO_21753', 'PRO_14280'],\n",
       " ['PRO_3792', 'PRO_15733'],\n",
       " ['PRO_20799', 'PRO_20500'],\n",
       " ['PRO_13155', 'PRO_10334'],\n",
       " ['PRO_17863', 'PRO_17711'],\n",
       " ['PRO_12793', 'PRO_21117'],\n",
       " ['PRO_2021', 'PRO_14026'],\n",
       " ['PRO_16289', 'PRO_2473'],\n",
       " ['PRO_3273', 'PRO_12747'],\n",
       " ['PRO_15077', 'PRO_23611'],\n",
       " ['PRO_10322', 'PRO_1235'],\n",
       " ['PRO_3522', 'PRO_21833'],\n",
       " ['PRO_10577', 'PRO_1988'],\n",
       " ['PRO_1537', 'PRO_21706'],\n",
       " ['PRO_13567', 'PRO_16981'],\n",
       " ['PRO_15567', 'PRO_21539'],\n",
       " ['PRO_20370', 'PRO_13407'],\n",
       " ['PRO_21171', 'PRO_15460'],\n",
       " ['PRO_15142', 'PRO_12908'],\n",
       " ['PRO_19348', 'PRO_10954'],\n",
       " ['PRO_20175', 'PRO_10348'],\n",
       " ['PRO_15611', 'PRO_383'],\n",
       " ['PRO_18753', 'PRO_18403'],\n",
       " ['PRO_10534', 'PRO_19350'],\n",
       " ['PRO_17817', 'PRO_18355'],\n",
       " ['PRO_10696', 'PRO_17934'],\n",
       " ['PRO_3413', 'PRO_11674'],\n",
       " ['PRO_17602', 'PRO_14994'],\n",
       " ['PRO_15091', 'PRO_14558'],\n",
       " ['PRO_4626', 'PRO_13734'],\n",
       " ['PRO_2819', 'PRO_16268'],\n",
       " ['PRO_10282', 'PRO_4439'],\n",
       " ['PRO_3723', 'PRO_21538'],\n",
       " ['PRO_14395', 'PRO_2590'],\n",
       " ['PRO_1886', 'PRO_11333'],\n",
       " ['PRO_2058', 'PRO_17986'],\n",
       " ['PRO_12538', 'PRO_22035'],\n",
       " ['PRO_14080', 'PRO_17711'],\n",
       " ['PRO_14395', 'PRO_4337'],\n",
       " ['PRO_2036', 'PRO_20004'],\n",
       " ['PRO_19242', 'PRO_17969'],\n",
       " ['PRO_21382', 'PRO_22194'],\n",
       " ['PRO_16098', 'PRO_23632'],\n",
       " ['PRO_2015', 'PRO_13790'],\n",
       " ['PRO_12579', 'PRO_16010'],\n",
       " ['PRO_14366', 'PRO_18694'],\n",
       " ['PRO_3746', 'PRO_14587'],\n",
       " ['PRO_13707', 'PRO_15036'],\n",
       " ['PRO_3538', 'PRO_19455'],\n",
       " ['PRO_14979', 'PRO_11208'],\n",
       " ['PRO_15089', 'PRO_20238'],\n",
       " ['PRO_1362', 'PRO_21186'],\n",
       " ['PRO_14107', 'PRO_22657'],\n",
       " ['PRO_10546', 'PRO_21813'],\n",
       " ['PRO_14515', 'PRO_1208'],\n",
       " ['PRO_15925', 'PRO_18265'],\n",
       " ['PRO_20618', 'PRO_13961'],\n",
       " ['PRO_20429', 'PRO_3306'],\n",
       " ['PRO_13353', 'PRO_17688'],\n",
       " ['PRO_14744', 'PRO_19154'],\n",
       " ['PRO_4312', 'PRO_2207'],\n",
       " ['PRO_4087', 'PRO_10017'],\n",
       " ['PRO_22879', 'PRO_10534'],\n",
       " ['PRO_14032', 'PRO_15762'],\n",
       " ['PRO_19964', 'PRO_15418'],\n",
       " ['PRO_16316', 'PRO_21454'],\n",
       " ['PRO_11296', 'PRO_1836'],\n",
       " ['PRO_16392', 'PRO_10176'],\n",
       " ['PRO_18686', 'PRO_11935'],\n",
       " ['PRO_2283', 'PRO_11969'],\n",
       " ['PRO_141', 'PRO_1104'],\n",
       " ['PRO_11575', 'PRO_21541'],\n",
       " ['PRO_1928', 'PRO_16636'],\n",
       " ['PRO_17496', 'PRO_1274'],\n",
       " ['PRO_13136', 'PRO_19596'],\n",
       " ['PRO_22106', 'PRO_12406'],\n",
       " ['PRO_13961', 'PRO_10546'],\n",
       " ['PRO_2800', 'PRO_10237'],\n",
       " ['PRO_19955', 'PRO_20215'],\n",
       " ['PRO_1243', 'PRO_16748'],\n",
       " ['PRO_17583', 'PRO_19148'],\n",
       " ['PRO_3084', 'PRO_2874'],\n",
       " ['PRO_10726', 'PRO_18575'],\n",
       " ['PRO_13503', 'PRO_4140'],\n",
       " ['PRO_21966', 'PRO_21743'],\n",
       " ['PRO_11112', 'PRO_13067'],\n",
       " ['PRO_20260', 'PRO_3831'],\n",
       " ['PRO_2543', 'PRO_17447'],\n",
       " ['PRO_12435', 'PRO_20218'],\n",
       " ['PRO_2408', 'PRO_1955'],\n",
       " ['PRO_21778', 'PRO_18379'],\n",
       " ['PRO_2202', 'PRO_16863'],\n",
       " ['PRO_13615', 'PRO_2799'],\n",
       " ['PRO_10653', 'PRO_17317'],\n",
       " ['PRO_21413', 'PRO_22583'],\n",
       " ['PRO_278', 'PRO_19655'],\n",
       " ['PRO_23632', 'PRO_19777'],\n",
       " ['PRO_12839', 'PRO_20886'],\n",
       " ['PRO_10930', 'PRO_19333'],\n",
       " ['PRO_1933', 'PRO_15400'],\n",
       " ['PRO_3542', 'PRO_17265'],\n",
       " ['PRO_21317', 'PRO_11843'],\n",
       " ['PRO_21490', 'PRO_15316'],\n",
       " ['PRO_12856', 'PRO_1169'],\n",
       " ['PRO_20969', 'PRO_15144'],\n",
       " ['PRO_251', 'PRO_22139'],\n",
       " ['PRO_11376', 'PRO_1133'],\n",
       " ['PRO_16367', 'PRO_20173'],\n",
       " ['PRO_12609', 'PRO_19308'],\n",
       " ['PRO_1507', 'PRO_12643'],\n",
       " ['PRO_1790', 'PRO_22962'],\n",
       " ['PRO_15610', 'PRO_20321'],\n",
       " ['PRO_17302', 'PRO_10020'],\n",
       " ['PRO_1091', 'PRO_2567'],\n",
       " ['PRO_23364', 'PRO_22100'],\n",
       " ['PRO_3748', 'PRO_19804'],\n",
       " ['PRO_19251', 'PRO_1076'],\n",
       " ['PRO_14577', 'PRO_3031'],\n",
       " ['PRO_21518', 'PRO_11432'],\n",
       " ['PRO_22840', 'PRO_21743'],\n",
       " ['PRO_18294', 'PRO_12260'],\n",
       " ['PRO_14964', 'PRO_18826'],\n",
       " ['PRO_3077', 'PRO_17960'],\n",
       " ['PRO_16959', 'PRO_3994'],\n",
       " ['PRO_2985', 'PRO_19665'],\n",
       " ['PRO_17754', 'PRO_22890'],\n",
       " ['PRO_18848', 'PRO_10270'],\n",
       " ['PRO_1822', 'PRO_16643'],\n",
       " ['PRO_15414', 'PRO_17234'],\n",
       " ['PRO_23667', 'PRO_21478'],\n",
       " ['PRO_4597', 'PRO_10699'],\n",
       " ['PRO_12565', 'PRO_23114'],\n",
       " ['PRO_16201', 'PRO_22208'],\n",
       " ['PRO_23397', 'PRO_16060'],\n",
       " ['PRO_19349', 'PRO_13777'],\n",
       " ['PRO_3998', 'PRO_11316'],\n",
       " ['PRO_12735', 'PRO_18110'],\n",
       " ['PRO_22843', 'PRO_4372'],\n",
       " ['PRO_19546', 'PRO_4067'],\n",
       " ['PRO_13323', 'PRO_2097'],\n",
       " ['PRO_18151', 'PRO_15574'],\n",
       " ['PRO_15359', 'PRO_13044'],\n",
       " ['PRO_14024', 'PRO_21257'],\n",
       " ['PRO_2366', 'PRO_10120'],\n",
       " ['PRO_13983', 'PRO_12422'],\n",
       " ['PRO_3306', 'PRO_22377'],\n",
       " ['PRO_10115', 'PRO_17240'],\n",
       " ['PRO_16265', 'PRO_1155'],\n",
       " ['PRO_14556', 'PRO_13570'],\n",
       " ['PRO_21960', 'PRO_22533'],\n",
       " ['PRO_4425', 'PRO_20619'],\n",
       " ['PRO_1437', 'PRO_16146'],\n",
       " ['PRO_1479', 'PRO_18586'],\n",
       " ['PRO_12401', 'PRO_22507'],\n",
       " ['PRO_3535', 'PRO_11056'],\n",
       " ['PRO_23616', 'PRO_20267'],\n",
       " ['PRO_20781', 'PRO_15253'],\n",
       " ['PRO_12749', 'PRO_13344'],\n",
       " ['PRO_11802', 'PRO_21164'],\n",
       " ['PRO_18708', 'PRO_1517'],\n",
       " ['PRO_12750', 'PRO_15023'],\n",
       " ['PRO_1828', 'PRO_3122'],\n",
       " ['PRO_4288', 'PRO_3411'],\n",
       " ['PRO_16569', 'PRO_13964'],\n",
       " ['PRO_1319', 'PRO_22538'],\n",
       " ['PRO_4493', 'PRO_12539'],\n",
       " ['PRO_2449', 'PRO_19250'],\n",
       " ['PRO_13255', 'PRO_12989'],\n",
       " ['PRO_10983', 'PRO_20380'],\n",
       " ['PRO_14397', 'PRO_10311'],\n",
       " ['PRO_12925', 'PRO_17125'],\n",
       " ['PRO_14647', 'PRO_12061'],\n",
       " ['PRO_10017', 'PRO_21527'],\n",
       " ['PRO_17334', 'PRO_21412'],\n",
       " ['PRO_2859', 'PRO_11649'],\n",
       " ['PRO_2025', 'PRO_14856'],\n",
       " ['PRO_14674', 'PRO_1562'],\n",
       " ['PRO_14707', 'PRO_13110'],\n",
       " ['PRO_21046', 'PRO_22143'],\n",
       " ['PRO_20360', 'PRO_13345'],\n",
       " ['PRO_399', 'PRO_11203'],\n",
       " ['PRO_12784', 'PRO_15469'],\n",
       " ['PRO_421', 'PRO_3231'],\n",
       " ['PRO_13953', 'PRO_12373'],\n",
       " ['PRO_18967', 'PRO_10696'],\n",
       " ['PRO_21935', 'PRO_2763'],\n",
       " ['PRO_2766', 'PRO_13514'],\n",
       " ['PRO_10606', 'PRO_13329'],\n",
       " ['PRO_17005', 'PRO_21622'],\n",
       " ['PRO_2746', 'PRO_19814'],\n",
       " ['PRO_16784', 'PRO_14032'],\n",
       " ['PRO_10993', 'PRO_18128'],\n",
       " ['PRO_1279', 'PRO_3809'],\n",
       " ['PRO_18276', 'PRO_18611'],\n",
       " ['PRO_20117', 'PRO_17198'],\n",
       " ['PRO_11257', 'PRO_3496'],\n",
       " ['PRO_14925', 'PRO_10185'],\n",
       " ['PRO_16870', 'PRO_14520'],\n",
       " ['PRO_11095', 'PRO_21880'],\n",
       " ['PRO_4107', 'PRO_23019'],\n",
       " ['PRO_17927', 'PRO_12975'],\n",
       " ['PRO_2304', 'PRO_12631'],\n",
       " ['PRO_17671', 'PRO_13313'],\n",
       " ['PRO_12005', 'PRO_22598'],\n",
       " ['PRO_16404', 'PRO_14397'],\n",
       " ['PRO_12072', 'PRO_16607'],\n",
       " ['PRO_10694', 'PRO_28'],\n",
       " ['PRO_19306', 'PRO_14287'],\n",
       " ['PRO_14929', 'PRO_13787'],\n",
       " ['PRO_17283', 'PRO_4558'],\n",
       " ['PRO_10626', 'PRO_18793'],\n",
       " ['PRO_23284', 'PRO_1559'],\n",
       " ['PRO_22086', 'PRO_17003'],\n",
       " ['PRO_22286', 'PRO_15145'],\n",
       " ['PRO_13447', 'PRO_21622'],\n",
       " ['PRO_22317', 'PRO_17346'],\n",
       " ['PRO_4376', 'PRO_14888'],\n",
       " ['PRO_15216', 'PRO_10105'],\n",
       " ['PRO_1930', 'PRO_10697'],\n",
       " ['PRO_251', 'PRO_10894'],\n",
       " ['PRO_2244', 'PRO_3306'],\n",
       " ['PRO_14408', 'PRO_1574'],\n",
       " ['PRO_22347', 'PRO_18538'],\n",
       " ['PRO_1379', 'PRO_13190'],\n",
       " ['PRO_19295', 'PRO_2970'],\n",
       " ['PRO_13822', 'PRO_22620'],\n",
       " ['PRO_16933', 'PRO_15600'],\n",
       " ['PRO_18250', 'PRO_18060'],\n",
       " ['PRO_11229', 'PRO_15776'],\n",
       " ['PRO_12363', 'PRO_3678'],\n",
       " ['PRO_1033', 'PRO_12084'],\n",
       " ['PRO_12937', 'PRO_10088'],\n",
       " ['PRO_15754', 'PRO_11124'],\n",
       " ['PRO_3994', 'PRO_1835'],\n",
       " ['PRO_3075', 'PRO_10929'],\n",
       " ['PRO_20170', 'PRO_15486'],\n",
       " ['PRO_11035', 'PRO_3131'],\n",
       " ['PRO_10792', 'PRO_3303'],\n",
       " ['PRO_18379', 'PRO_4094'],\n",
       " ['PRO_18771', 'PRO_22400'],\n",
       " ['PRO_3262', 'PRO_15235'],\n",
       " ['PRO_11802', 'PRO_4542'],\n",
       " ['PRO_4043', 'PRO_15052'],\n",
       " ['PRO_1251', 'PRO_16863'],\n",
       " ['PRO_19643', 'PRO_1133'],\n",
       " ['PRO_17446', 'PRO_2307'],\n",
       " ['PRO_2737', 'PRO_10954'],\n",
       " ['PRO_3073', 'PRO_10874'],\n",
       " ['PRO_13241', 'PRO_15568'],\n",
       " ['PRO_14293', 'PRO_16880'],\n",
       " ['PRO_12459', 'PRO_1087'],\n",
       " ['PRO_18129', 'PRO_20565'],\n",
       " ['PRO_2361', 'PRO_11238'],\n",
       " ['PRO_17224', 'PRO_10696'],\n",
       " ['PRO_1900', 'PRO_21472'],\n",
       " ['PRO_2730', 'PRO_14395'],\n",
       " ['PRO_20135', 'PRO_2703'],\n",
       " ['PRO_21023', 'PRO_11689'],\n",
       " ['PRO_3131', 'PRO_15028'],\n",
       " ['PRO_21490', 'PRO_13943'],\n",
       " ['PRO_14723', 'PRO_19879'],\n",
       " ['PRO_19614', 'PRO_11229'],\n",
       " ['PRO_20217', 'PRO_1038'],\n",
       " ['PRO_437', 'PRO_10129'],\n",
       " ['PRO_11287', 'PRO_18291'],\n",
       " ['PRO_19070', 'PRO_12145'],\n",
       " ['PRO_21333', 'PRO_18058'],\n",
       " ['PRO_399', 'PRO_19929'],\n",
       " ['PRO_1896', 'PRO_3180'],\n",
       " ['PRO_12016', 'PRO_16368'],\n",
       " ['PRO_20176', 'PRO_19504'],\n",
       " ['PRO_1057', 'PRO_19515'],\n",
       " ['PRO_22553', 'PRO_13292'],\n",
       " ['PRO_10393', 'PRO_11522'],\n",
       " ['PRO_4275', 'PRO_15945'],\n",
       " ['PRO_22013', 'PRO_20231'],\n",
       " ['PRO_14675', 'PRO_18078'],\n",
       " ['PRO_17015', 'PRO_23141'],\n",
       " ['PRO_17485', 'PRO_20907'],\n",
       " ['PRO_15760', 'PRO_12802'],\n",
       " ['PRO_12487', 'PRO_4505'],\n",
       " ['PRO_17083', 'PRO_13040'],\n",
       " ['PRO_2799', 'PRO_14576'],\n",
       " ['PRO_16513', 'PRO_20907'],\n",
       " ['PRO_10292', 'PRO_17147'],\n",
       " ['PRO_12557', 'PRO_21802'],\n",
       " ['PRO_14397', 'PRO_4338'],\n",
       " ['PRO_11241', 'PRO_13609'],\n",
       " ['PRO_13732', 'PRO_15281'],\n",
       " ['PRO_23072', 'PRO_2257'],\n",
       " ['PRO_18151', 'PRO_2307'],\n",
       " ['PRO_17363', 'PRO_20893'],\n",
       " ['PRO_18349', 'PRO_13302'],\n",
       " ['PRO_23033', 'PRO_15250'],\n",
       " ['PRO_1274', 'PRO_19935'],\n",
       " ['PRO_16016', 'PRO_12625'],\n",
       " ['PRO_19376', 'PRO_3562'],\n",
       " ['PRO_23146', 'PRO_301'],\n",
       " ['PRO_3186', 'PRO_23976'],\n",
       " ['PRO_12456', 'PRO_20781'],\n",
       " ['PRO_4518', 'PRO_14108'],\n",
       " ['PRO_12916', 'PRO_22347'],\n",
       " ['PRO_10546', 'PRO_21335'],\n",
       " ['PRO_22298', 'PRO_22283'],\n",
       " ['PRO_17111', 'PRO_4362'],\n",
       " ['PRO_4067', 'PRO_16362'],\n",
       " ['PRO_13400', 'PRO_19173'],\n",
       " ['PRO_15834', 'PRO_17994'],\n",
       " ['PRO_22473', 'PRO_16121'],\n",
       " ['PRO_14804', 'PRO_2121'],\n",
       " ['PRO_12146', 'PRO_15414'],\n",
       " ['PRO_10851', 'PRO_11286'],\n",
       " ['PRO_3235', 'PRO_14293'],\n",
       " ['PRO_18224', 'PRO_15145'],\n",
       " ['PRO_1080', 'PRO_2366'],\n",
       " ['PRO_22887', 'PRO_19937'],\n",
       " ['PRO_14944', 'PRO_12456'],\n",
       " ['PRO_4637', 'PRO_15765'],\n",
       " ['PRO_2228', 'PRO_15025'],\n",
       " ['PRO_19453', 'PRO_21302'],\n",
       " ['PRO_22013', 'PRO_12696'],\n",
       " ['PRO_17345', 'PRO_22908'],\n",
       " ['PRO_15484', 'PRO_12447'],\n",
       " ['PRO_23332', 'PRO_14273'],\n",
       " ['PRO_18498', 'PRO_11119'],\n",
       " ['PRO_21667', 'PRO_19152'],\n",
       " ['PRO_19569', 'PRO_22499'],\n",
       " ['PRO_1917', 'PRO_15281'],\n",
       " ['PRO_19975', 'PRO_123'],\n",
       " ['PRO_13447', 'PRO_16842'],\n",
       " ['PRO_22974', 'PRO_15765'],\n",
       " ['PRO_11557', 'PRO_3052'],\n",
       " ['PRO_19851', 'PRO_4060'],\n",
       " ['PRO_298', 'PRO_22269'],\n",
       " ['PRO_3787', 'PRO_13148'],\n",
       " ['PRO_22959', 'PRO_16411'],\n",
       " ['PRO_10161', 'PRO_15126'],\n",
       " ['PRO_16342', 'PRO_22487'],\n",
       " ['PRO_20759', 'PRO_18954'],\n",
       " ['PRO_16589', 'PRO_3178'],\n",
       " ['PRO_1451', 'PRO_12334'],\n",
       " ['PRO_19314', 'PRO_23187'],\n",
       " ['PRO_3433', 'PRO_3483'],\n",
       " ['PRO_10025', 'PRO_13758'],\n",
       " ['PRO_11391', 'PRO_12215'],\n",
       " ['PRO_12129', 'PRO_14088'],\n",
       " ['PRO_3823', 'PRO_19915'],\n",
       " ['PRO_19293', 'PRO_1152'],\n",
       " ['PRO_15950', 'PRO_22596'],\n",
       " ['PRO_1202', 'PRO_1540'],\n",
       " ['PRO_22925', 'PRO_4324'],\n",
       " ['PRO_19614', 'PRO_2457'],\n",
       " ['PRO_2068', 'PRO_21048'],\n",
       " ['PRO_17176', 'PRO_21478'],\n",
       " ['PRO_20232', 'PRO_15543'],\n",
       " ['PRO_12639', 'PRO_2336'],\n",
       " ['PRO_12694', 'PRO_14857'],\n",
       " ['PRO_1091', 'PRO_14048'],\n",
       " ['PRO_1359', 'PRO_15406'],\n",
       " ['PRO_12625', 'PRO_16587'],\n",
       " ['PRO_21639', 'PRO_12296'],\n",
       " ['PRO_20677', 'PRO_21490'],\n",
       " ['PRO_19655', 'PRO_12975'],\n",
       " ['PRO_12725', 'PRO_12551'],\n",
       " ['PRO_22475', 'PRO_21806'],\n",
       " ['PRO_19957', 'PRO_4375'],\n",
       " ['PRO_16736', 'PRO_14181'],\n",
       " ['PRO_11247', 'PRO_21109'],\n",
       " ['PRO_23019', 'PRO_10393'],\n",
       " ['PRO_20184', 'PRO_20103'],\n",
       " ['PRO_15152', 'PRO_18526'],\n",
       " ['PRO_20412', 'PRO_10792'],\n",
       " ['PRO_15181', 'PRO_1304'],\n",
       " ['PRO_18917', 'PRO_19979'],\n",
       " ['PRO_4661', 'PRO_19442'],\n",
       " ['PRO_10316', 'PRO_16462'],\n",
       " ['PRO_13594', 'PRO_19964'],\n",
       " ['PRO_14959', 'PRO_20738'],\n",
       " ['PRO_17617', 'PRO_2731'],\n",
       " ['PRO_12190', 'PRO_1348'],\n",
       " ['PRO_19317', 'PRO_12210'],\n",
       " ['PRO_22711', 'PRO_19110'],\n",
       " ['PRO_14182', 'PRO_12259'],\n",
       " ['PRO_18157', 'PRO_2066'],\n",
       " ['PRO_21456', 'PRO_20645'],\n",
       " ['PRO_2535', 'PRO_21388'],\n",
       " ['PRO_14784', 'PRO_16651'],\n",
       " ['PRO_14115', 'PRO_13299'],\n",
       " ['PRO_15602', 'PRO_20617'],\n",
       " ['PRO_13411', 'PRO_21434'],\n",
       " ['PRO_17589', 'PRO_3949'],\n",
       " ['PRO_158', 'PRO_14886'],\n",
       " ['PRO_23976', 'PRO_19812'],\n",
       " ['PRO_18166', 'PRO_18422'],\n",
       " ['PRO_162', 'PRO_2054'],\n",
       " ['PRO_2693', 'PRO_11105'],\n",
       " ['PRO_2877', 'PRO_2097'],\n",
       " ['PRO_16880', 'PRO_15460'],\n",
       " ['PRO_18588', 'PRO_3146'],\n",
       " ['PRO_18329', 'PRO_1944'],\n",
       " ['PRO_17902', 'PRO_15699'],\n",
       " ['PRO_18960', 'PRO_22703'],\n",
       " ['PRO_15628', 'PRO_14185'],\n",
       " ['PRO_13636', 'PRO_14348'],\n",
       " ['PRO_19789', 'PRO_16667'],\n",
       " ['PRO_12794', 'PRO_14287'],\n",
       " ['PRO_16880', 'PRO_21059'],\n",
       " ['PRO_20799', 'PRO_20779'],\n",
       " ['PRO_18924', 'PRO_13130'],\n",
       " ['PRO_16469', 'PRO_20618'],\n",
       " ['PRO_19701', 'PRO_22194'],\n",
       " ['PRO_13979', 'PRO_20797'],\n",
       " ['PRO_16653', 'PRO_3473'],\n",
       " ['PRO_1300', 'PRO_3060'],\n",
       " ['PRO_17497', 'PRO_2847'],\n",
       " ['PRO_18715', 'PRO_13913'],\n",
       " ['PRO_1502', 'PRO_14483'],\n",
       " ['PRO_13221', 'PRO_16475'],\n",
       " ['PRO_12975', 'PRO_19439'],\n",
       " ['PRO_13981', 'PRO_17240'],\n",
       " ['PRO_22587', 'PRO_13308'],\n",
       " ['PRO_21524', 'PRO_21926'],\n",
       " ['PRO_14925', 'PRO_15612'],\n",
       " ['PRO_370', 'PRO_11518'],\n",
       " ['PRO_11840', 'PRO_10353'],\n",
       " ['PRO_21976', 'PRO_17211'],\n",
       " ['PRO_20914', 'PRO_18217'],\n",
       " ['PRO_23165', 'PRO_20952'],\n",
       " ['PRO_16052', 'PRO_22119'],\n",
       " ['PRO_4007', 'PRO_1111'],\n",
       " ['PRO_13158', 'PRO_2241'],\n",
       " ['PRO_1451', 'PRO_13301'],\n",
       " ['PRO_13136', 'PRO_18233'],\n",
       " ['PRO_15747', 'PRO_15254'],\n",
       " ['PRO_19680', 'PRO_15270'],\n",
       " ['PRO_11583', 'PRO_21023'],\n",
       " ['PRO_11594', 'PRO_2387'],\n",
       " ['PRO_15628', 'PRO_19060'],\n",
       " ['PRO_16227', 'PRO_13628'],\n",
       " ['PRO_16652', 'PRO_12597'],\n",
       " ['PRO_10574', 'PRO_16939'],\n",
       " ['PRO_1067', 'PRO_15208'],\n",
       " ['PRO_17747', 'PRO_15451'],\n",
       " ['PRO_12899', 'PRO_23181'],\n",
       " ['PRO_18335', 'PRO_19190'],\n",
       " ['PRO_28', 'PRO_3302'],\n",
       " ['PRO_12735', 'PRO_21567'],\n",
       " ['PRO_14054', 'PRO_13239'],\n",
       " ['PRO_17485', 'PRO_19373'],\n",
       " ['PRO_16146', 'PRO_4221'],\n",
       " ['PRO_15316', 'PRO_19464'],\n",
       " ['PRO_1106', 'PRO_17994'],\n",
       " ['PRO_22985', 'PRO_23226'],\n",
       " ['PRO_19443', 'PRO_13562'],\n",
       " ['PRO_15767', 'PRO_1930'],\n",
       " ['PRO_21419', 'PRO_11480'],\n",
       " ['PRO_14714', 'PRO_10559'],\n",
       " ['PRO_12024', 'PRO_22697'],\n",
       " ['PRO_13953', 'PRO_22719'],\n",
       " ['PRO_13981', 'PRO_21466'],\n",
       " ['PRO_1098', 'PRO_20712'],\n",
       " ['PRO_17441', 'PRO_11368'],\n",
       " ['PRO_23009', 'PRO_3443'],\n",
       " ['PRO_21771', 'PRO_22538'],\n",
       " ['PRO_17490', 'PRO_19070'],\n",
       " ['PRO_21217', 'PRO_21824'],\n",
       " ['PRO_4271', 'PRO_19190'],\n",
       " ['PRO_13354', 'PRO_11229'],\n",
       " ['PRO_4447', 'PRO_20667'],\n",
       " ['PRO_1740', 'PRO_17250'],\n",
       " ['PRO_22690', 'PRO_10786'],\n",
       " ['PRO_1944', 'PRO_11308'],\n",
       " ['PRO_16993', 'PRO_11807'],\n",
       " ['PRO_4537', 'PRO_3729'],\n",
       " ['PRO_22879', 'PRO_14248'],\n",
       " ['PRO_13344', 'PRO_2970'],\n",
       " ['PRO_18249', 'PRO_365'],\n",
       " ['PRO_22616', 'PRO_12447'],\n",
       " ['PRO_10534', 'PRO_17224'],\n",
       " ['PRO_11216', 'PRO_15547'],\n",
       " ['PRO_15841', 'PRO_11373'],\n",
       " ['PRO_22839', 'PRO_20725'],\n",
       " ['PRO_21126', 'PRO_3888'],\n",
       " ['PRO_15548', 'PRO_17439'],\n",
       " ['PRO_12813', 'PRO_20063'],\n",
       " ['PRO_15991', 'PRO_16543'],\n",
       " ['PRO_2228', 'PRO_11181'],\n",
       " ['PRO_1011', 'PRO_14558'],\n",
       " ['PRO_22486', 'PRO_20991'],\n",
       " ['PRO_123', 'PRO_22306'],\n",
       " ['PRO_10427', 'PRO_15354'],\n",
       " ['PRO_15897', 'PRO_12974'],\n",
       " ['PRO_19215', 'PRO_20477'],\n",
       " ['PRO_2081', 'PRO_14827'],\n",
       " ['PRO_4660', 'PRO_11247'],\n",
       " ['PRO_2263', 'PRO_13629'],\n",
       " ['PRO_12597', 'PRO_20422'],\n",
       " ['PRO_3410', 'PRO_22717'],\n",
       " ['PRO_15874', 'PRO_2224'],\n",
       " ['PRO_3119', 'PRO_13265'],\n",
       " ['PRO_19827', 'PRO_4459'],\n",
       " ['PRO_12683', 'PRO_17595'],\n",
       " ['PRO_1492', 'PRO_15751'],\n",
       " ['PRO_21466', 'PRO_3447'],\n",
       " ['PRO_18495', 'PRO_18162'],\n",
       " ['PRO_17294', 'PRO_11005'],\n",
       " ['PRO_10703', 'PRO_2539'],\n",
       " ['PRO_16513', 'PRO_366'],\n",
       " ['PRO_10464', 'PRO_13111'],\n",
       " ['PRO_18269', 'PRO_14678'],\n",
       " ['PRO_3050', 'PRO_15742'],\n",
       " ['PRO_21117', 'PRO_13612'],\n",
       " ['PRO_225', 'PRO_23138'],\n",
       " ['PRO_16131', 'PRO_13113'],\n",
       " ['PRO_3370', 'PRO_21618'],\n",
       " ['PRO_12735', 'PRO_15076'],\n",
       " ['PRO_22100', 'PRO_23263'],\n",
       " ['PRO_19020', 'PRO_20878'],\n",
       " ['PRO_11229', 'PRO_11649'],\n",
       " ['PRO_2874', 'PRO_20175'],\n",
       " ['PRO_4513', 'PRO_1936'],\n",
       " ['PRO_3303', 'PRO_2819'],\n",
       " ['PRO_16588', 'PRO_21960'],\n",
       " ['PRO_13329', 'PRO_13626'],\n",
       " ['PRO_1540', 'PRO_21538'],\n",
       " ['PRO_4458', 'PRO_23094'],\n",
       " ['PRO_1608', 'PRO_16958'],\n",
       " ['PRO_12977', 'PRO_15655'],\n",
       " ['PRO_13309', 'PRO_13179'],\n",
       " ['PRO_14690', 'PRO_15096'],\n",
       " ['PRO_20445', 'PRO_21110'],\n",
       " ['PRO_18696', 'PRO_1393'],\n",
       " ['PRO_12636', 'PRO_15762'],\n",
       " ['PRO_22838', 'PRO_19886'],\n",
       " ['PRO_13089', 'PRO_2874'],\n",
       " ['PRO_14872', 'PRO_3142'],\n",
       " ['PRO_20429', 'PRO_12579'],\n",
       " ['PRO_18456', 'PRO_3282'],\n",
       " ['PRO_10393', 'PRO_12639'],\n",
       " ['PRO_1776', 'PRO_23887'],\n",
       " ['PRO_1151', 'PRO_15235'],\n",
       " ['PRO_2125', 'PRO_23416'],\n",
       " ['PRO_20677', 'PRO_12331'],\n",
       " ['PRO_15848', 'PRO_2983'],\n",
       " ['PRO_18372', 'PRO_18536'],\n",
       " ['PRO_16974', 'PRO_1260'],\n",
       " ['PRO_10696', 'PRO_10921'],\n",
       " ['PRO_2212', 'PRO_23351'],\n",
       " ['PRO_11071', 'PRO_4526'],\n",
       " ['PRO_12314', 'PRO_3552'],\n",
       " ['PRO_15899', 'PRO_10945'],\n",
       " ['PRO_19278', 'PRO_11304'],\n",
       " ['PRO_12937', 'PRO_15435'],\n",
       " ['PRO_1038', 'PRO_11247'],\n",
       " ['PRO_2094', 'PRO_19165'],\n",
       " ['PRO_12816', 'PRO_13901'],\n",
       " ['PRO_17179', 'PRO_18904'],\n",
       " ['PRO_21966', 'PRO_4459'],\n",
       " ['PRO_10874', 'PRO_13127'],\n",
       " ['PRO_20331', 'PRO_14703'],\n",
       " ['PRO_3552', 'PRO_14133'],\n",
       " ['PRO_1623', 'PRO_20134'],\n",
       " ['PRO_23423', 'PRO_20792'],\n",
       " ['PRO_15930', 'PRO_3746'],\n",
       " ['PRO_20015', 'PRO_15406'],\n",
       " ['PRO_13913', 'PRO_10451'],\n",
       " ['PRO_13297', 'PRO_19529'],\n",
       " ['PRO_14043', 'PRO_23611'],\n",
       " ['PRO_18687', 'PRO_12398'],\n",
       " ['PRO_2473', 'PRO_17179'],\n",
       " ['PRO_14220', 'PRO_1367'],\n",
       " ['PRO_4408', 'PRO_20392'],\n",
       " ['PRO_21208', 'PRO_18060'],\n",
       " ['PRO_14096', 'PRO_2982'],\n",
       " ['PRO_19026', 'PRO_14159'],\n",
       " ['PRO_10336', 'PRO_13153'],\n",
       " ['PRO_3949', 'PRO_3846'],\n",
       " ['PRO_16716', 'PRO_17629'],\n",
       " ['PRO_23639', 'PRO_11179'],\n",
       " ['PRO_21310', 'PRO_14359'],\n",
       " ['PRO_15776', 'PRO_12332'],\n",
       " ['PRO_16968', 'PRO_16990'],\n",
       " ['PRO_19614', 'PRO_15345'],\n",
       " ['PRO_1319', 'PRO_12648'],\n",
       " ['PRO_1398', 'PRO_20275'],\n",
       " ['PRO_15950', 'PRO_14547'],\n",
       " ['PRO_23414', 'PRO_16398'],\n",
       " ['PRO_1741', 'PRO_14237'],\n",
       " ['PRO_3526', 'PRO_14766'],\n",
       " ['PRO_1378', 'PRO_3198'],\n",
       " ['PRO_14127', 'PRO_12259'],\n",
       " ['PRO_10834', 'PRO_15610'],\n",
       " ['PRO_21456', 'PRO_19949'],\n",
       " ['PRO_12719', 'PRO_20677'],\n",
       " ['PRO_19435', 'PRO_20745'],\n",
       " ['PRO_13691', 'PRO_17181'],\n",
       " ['PRO_13609', 'PRO_22194'],\n",
       " ['PRO_12120', 'PRO_13309'],\n",
       " ['PRO_13957', 'PRO_12884'],\n",
       " ['PRO_22838', 'PRO_19979'],\n",
       " ['PRO_211', 'PRO_3729'],\n",
       " ['PRO_22691', 'PRO_1806'],\n",
       " ['PRO_20712', 'PRO_3422'],\n",
       " ['PRO_2366', 'PRO_1995'],\n",
       " ['PRO_13420', 'PRO_20652'],\n",
       " ['PRO_1044', 'PRO_3077'],\n",
       " ['PRO_19666', 'PRO_22743'],\n",
       " ['PRO_11296', 'PRO_15751'],\n",
       " ['PRO_21414', 'PRO_22947'],\n",
       " ['PRO_11674', 'PRO_11094'],\n",
       " ['PRO_21490', 'PRO_1063'],\n",
       " ['PRO_12286', 'PRO_116'],\n",
       " ['PRO_4502', 'PRO_16462'],\n",
       " ['PRO_19410', 'PRO_15123'],\n",
       " ['PRO_10791', 'PRO_22888'],\n",
       " ['PRO_2054', 'PRO_20919'],\n",
       " ['PRO_18177', 'PRO_23211'],\n",
       " ['PRO_22512', 'PRO_18747'],\n",
       " ['PRO_13789', 'PRO_12359'],\n",
       " ['PRO_21888', 'PRO_14338'],\n",
       " ['PRO_1881', 'PRO_12684'],\n",
       " ['PRO_13217', 'PRO_3609'],\n",
       " ['PRO_12146', 'PRO_4710'],\n",
       " ['PRO_3579', 'PRO_20784'],\n",
       " ['PRO_20185', 'PRO_17220'],\n",
       " ['PRO_1461', 'PRO_20105'],\n",
       " ['PRO_21613', 'PRO_14061'],\n",
       " ['PRO_17778', 'PRO_14427'],\n",
       " ['PRO_17013', 'PRO_18265'],\n",
       " ['PRO_15696', 'PRO_13322'],\n",
       " ['PRO_23397', 'PRO_14549'],\n",
       " ['PRO_21578', 'PRO_10058'],\n",
       " ['PRO_12108', 'PRO_19147'],\n",
       " ['PRO_1560', 'PRO_13056'],\n",
       " ['PRO_20478', 'PRO_20106'],\n",
       " ['PRO_21960', 'PRO_12937'],\n",
       " ['PRO_21445', 'PRO_13599'],\n",
       " ['PRO_11384', 'PRO_17460'],\n",
       " ['PRO_23639', 'PRO_18075'],\n",
       " ['PRO_16837', 'PRO_14843'],\n",
       " ['PRO_21783', 'PRO_16404'],\n",
       " ['PRO_19010', 'PRO_12014'],\n",
       " ['PRO_13936', 'PRO_12007'],\n",
       " ['PRO_365', 'PRO_19118'],\n",
       " ['PRO_17975', 'PRO_12712'],\n",
       " ['PRO_12196', 'PRO_10485'],\n",
       " ['PRO_18315', 'PRO_14119'],\n",
       " ['PRO_3075', 'PRO_10090'],\n",
       " ['PRO_19170', 'PRO_3778'],\n",
       " ['PRO_21873', 'PRO_20444'],\n",
       " ['PRO_2533', 'PRO_14032'],\n",
       " ['PRO_14577', 'PRO_15559'],\n",
       " ['PRO_14088', 'PRO_18588'],\n",
       " ['PRO_1835', 'PRO_21480'],\n",
       " ['PRO_22830', 'PRO_13413'],\n",
       " ['PRO_14503', 'PRO_11458'],\n",
       " ['PRO_11370', 'PRO_19198'],\n",
       " ['PRO_11846', 'PRO_23405'],\n",
       " ['PRO_13889', 'PRO_12029'],\n",
       " ['PRO_10993', 'PRO_16670'],\n",
       " ['PRO_21738', 'PRO_1244'],\n",
       " ['PRO_16804', 'PRO_2816'],\n",
       " ['PRO_10001', 'PRO_17564'],\n",
       " ['PRO_2611', 'PRO_19794'],\n",
       " ['PRO_4037', 'PRO_14639'],\n",
       " ['PRO_10209', 'PRO_16454'],\n",
       " ['PRO_10635', 'PRO_3570'],\n",
       " ['PRO_1360', 'PRO_3126'],\n",
       " ['PRO_12794', 'PRO_16952'],\n",
       " ['PRO_18129', 'PRO_17015'],\n",
       " ['PRO_1180', 'PRO_20163'],\n",
       " ['PRO_2494', 'PRO_3994'],\n",
       " ['PRO_16535', 'PRO_10937'],\n",
       " ['PRO_11260', 'PRO_15255'],\n",
       " ['PRO_17160', 'PRO_1501'],\n",
       " ['PRO_22469', 'PRO_13302'],\n",
       " ['PRO_17293', 'PRO_16933'],\n",
       " ['PRO_10836', 'PRO_19619'],\n",
       " ['PRO_13329', 'PRO_19286'],\n",
       " ['PRO_3538', 'PRO_21711'],\n",
       " ['PRO_14201', 'PRO_11094'],\n",
       " ['PRO_21086', 'PRO_14362'],\n",
       " ['PRO_1095', 'PRO_2589'],\n",
       " ['PRO_21454', 'PRO_338'],\n",
       " ['PRO_15077', 'PRO_18367'],\n",
       " ['PRO_14970', 'PRO_15713'],\n",
       " ['PRO_19443', 'PRO_2360'],\n",
       " ['PRO_20534', 'PRO_16398'],\n",
       " ['PRO_2108', 'PRO_1863'],\n",
       " ['PRO_10393', 'PRO_2392'],\n",
       " ['PRO_2294', 'PRO_2354'],\n",
       " ['PRO_22379', 'PRO_16075'],\n",
       " ['PRO_19443', 'PRO_15010'],\n",
       " ['PRO_22743', 'PRO_14827'],\n",
       " ['PRO_14512', 'PRO_2359'],\n",
       " ['PRO_15101', 'PRO_13934'],\n",
       " ['PRO_16808', 'PRO_2085'],\n",
       " ['PRO_16652', 'PRO_444'],\n",
       " ['PRO_14826', 'PRO_18513'],\n",
       " ['PRO_22011', 'PRO_12712'],\n",
       " ['PRO_19350', 'PRO_11430'],\n",
       " ['PRO_20153', 'PRO_11888'],\n",
       " ['PRO_16384', 'PRO_10921'],\n",
       " ['PRO_17225', 'PRO_1159'],\n",
       " ['PRO_10437', 'PRO_13922'],\n",
       " ['PRO_4343', 'PRO_3101'],\n",
       " ['PRO_4323', 'PRO_12514'],\n",
       " ['PRO_21615', 'PRO_14457'],\n",
       " ['PRO_1068', 'PRO_18367'],\n",
       " ['PRO_1319', 'PRO_3594'],\n",
       " ['PRO_1178', 'PRO_3443'],\n",
       " ['PRO_21718', 'PRO_3643'],\n",
       " ['PRO_17289', 'PRO_10696'],\n",
       " ['PRO_3679', 'PRO_3369'],\n",
       " ['PRO_4319', 'PRO_1487'],\n",
       " ['PRO_22963', 'PRO_1995'],\n",
       " ['PRO_14547', 'PRO_19419'],\n",
       " ['PRO_14641', 'PRO_17902'],\n",
       " ['PRO_18060', 'PRO_17571'],\n",
       " ['PRO_1313', 'PRO_3924'],\n",
       " ['PRO_1956', 'PRO_1176'],\n",
       " ['PRO_15316', 'PRO_17490'],\n",
       " ['PRO_11005', 'PRO_11229'],\n",
       " ['PRO_18374', 'PRO_18058'],\n",
       " ['PRO_18032', 'PRO_3303'],\n",
       " ['PRO_3036', 'PRO_10895'],\n",
       " ['PRO_15451', 'PRO_11689'],\n",
       " ['PRO_11696', 'PRO_1832'],\n",
       " ['PRO_1314', 'PRO_13346'],\n",
       " ['PRO_13618', 'PRO_10710'],\n",
       " ['PRO_19355', 'PRO_308'],\n",
       " ['PRO_20889', 'PRO_22140'],\n",
       " ['PRO_10390', 'PRO_11600'],\n",
       " ['PRO_23413', 'PRO_16469'],\n",
       " ['PRO_18429', 'PRO_15021'],\n",
       " ['PRO_3953', 'PRO_21758'],\n",
       " ['PRO_2036', 'PRO_176'],\n",
       " ['PRO_16397', 'PRO_14338'],\n",
       " ['PRO_13767', 'PRO_22917'],\n",
       " ['PRO_15317', 'PRO_12854'],\n",
       " ['PRO_19464', 'PRO_3016'],\n",
       " ['PRO_19317', 'PRO_2923'],\n",
       " ['PRO_21171', 'PRO_15359'],\n",
       " ['PRO_15551', 'PRO_17427'],\n",
       " ['PRO_12988', 'PRO_1182'],\n",
       " ['PRO_123', 'PRO_18916'],\n",
       " ['PRO_17460', 'PRO_1816'],\n",
       " ['PRO_2666', 'PRO_13775'],\n",
       " ['PRO_23374', 'PRO_17240'],\n",
       " ['PRO_19975', 'PRO_11247'],\n",
       " ['PRO_15747', 'PRO_12483'],\n",
       " ['PRO_3924', 'PRO_18495'],\n",
       " ['PRO_20267', 'PRO_11257'],\n",
       " ...]"
      ]
     },
     "execution_count": 245,
     "metadata": {},
     "output_type": "execute_result"
    }
   ],
   "source": [
    "final_neg_pairs"
   ]
  },
  {
   "cell_type": "code",
   "execution_count": 249,
   "id": "671e46ab",
   "metadata": {},
   "outputs": [],
   "source": [
    "li_A = []\n",
    "li_B = []\n",
    "label = []\n",
    "l = 0\n",
    "for i,j in final_neg_pairs:\n",
    "    \n",
    "    li_A.append(i)\n",
    "    li_B.append(j)\n",
    "    label.append(0)\n",
    "    \n",
    "test_set_1 = pd.DataFrame()\n",
    "test_set_1['Protein_A'] = li_A\n",
    "test_set_1['Protein_B'] = li_B\n",
    "test_set_1['label'] = label"
   ]
  },
  {
   "cell_type": "code",
   "execution_count": 250,
   "id": "b74bbf52",
   "metadata": {},
   "outputs": [],
   "source": [
    "li_A = []\n",
    "li_B = []\n",
    "label = []\n",
    "\n",
    "for i,j in positive_test_set_pairs:\n",
    "   \n",
    "    li_A.append(i)\n",
    "    li_B.append(j)\n",
    "    label.append(1)\n",
    "test_set_2 = pd.DataFrame()\n",
    "test_set_2['Protein_A'] = li_A\n",
    "test_set_2['Protein_B'] = li_B\n",
    "test_set_2['label'] = label"
   ]
  },
  {
   "cell_type": "code",
   "execution_count": 255,
   "id": "bed45200",
   "metadata": {},
   "outputs": [],
   "source": [
    "all_pairs_neg_test = [[row.Protein_A,row.Protein_B] for index,row in test_set_1.iterrows()]\n"
   ]
  },
  {
   "cell_type": "code",
   "execution_count": 256,
   "id": "3752239b",
   "metadata": {},
   "outputs": [],
   "source": [
    "all_pairs_pos_test = [[row.Protein_B,row.Protein_A] for index,row in test_set_2.iterrows()]"
   ]
  },
  {
   "cell_type": "code",
   "execution_count": 257,
   "id": "8c6ac6a1",
   "metadata": {},
   "outputs": [
    {
     "data": {
      "text/plain": [
       "21347"
      ]
     },
     "execution_count": 257,
     "metadata": {},
     "output_type": "execute_result"
    }
   ],
   "source": [
    "len(all_pairs_pos_test)"
   ]
  },
  {
   "cell_type": "code",
   "execution_count": 259,
   "id": "384871b5",
   "metadata": {},
   "outputs": [],
   "source": [
    "all_pairs_pos_test.extend([[row.Protein_A,row.Protein_B] for index,row in test_set_2.iterrows()])"
   ]
  },
  {
   "cell_type": "code",
   "execution_count": 262,
   "id": "8c12a96c",
   "metadata": {},
   "outputs": [
    {
     "name": "stderr",
     "output_type": "stream",
     "text": [
      "100%|███████████████████████████████████████████████████| 42694/42694 [04:17<00:00, 165.91it/s]\n"
     ]
    }
   ],
   "source": [
    "for i in tqdm(all_pairs_pos_test):\n",
    "    if i in all_pairs_neg_test:\n",
    "        raise ValueError()"
   ]
  },
  {
   "cell_type": "code",
   "execution_count": 263,
   "id": "d236c94d",
   "metadata": {},
   "outputs": [],
   "source": [
    "df = [test_set_2,test_set_1]\n",
    "final_test_set = pd.concat(df)\n"
   ]
  },
  {
   "cell_type": "code",
   "execution_count": 264,
   "id": "4bb6831d",
   "metadata": {},
   "outputs": [],
   "source": [
    "final_test_set.to_csv(\"/home/anwer/Desktop/PPI_prediction/csv_files_new_ppi/training_and_test_set/test_set_without_embedding.csv\",index = False)"
   ]
  },
  {
   "cell_type": "code",
   "execution_count": 265,
   "id": "a99ed285",
   "metadata": {},
   "outputs": [
    {
     "data": {
      "text/html": [
       "<div>\n",
       "<style scoped>\n",
       "    .dataframe tbody tr th:only-of-type {\n",
       "        vertical-align: middle;\n",
       "    }\n",
       "\n",
       "    .dataframe tbody tr th {\n",
       "        vertical-align: top;\n",
       "    }\n",
       "\n",
       "    .dataframe thead th {\n",
       "        text-align: right;\n",
       "    }\n",
       "</style>\n",
       "<table border=\"1\" class=\"dataframe\">\n",
       "  <thead>\n",
       "    <tr style=\"text-align: right;\">\n",
       "      <th></th>\n",
       "      <th>Protein_A</th>\n",
       "      <th>Protein_B</th>\n",
       "      <th>label</th>\n",
       "    </tr>\n",
       "  </thead>\n",
       "  <tbody>\n",
       "    <tr>\n",
       "      <th>0</th>\n",
       "      <td>PRO_4691</td>\n",
       "      <td>PRO_2365</td>\n",
       "      <td>1</td>\n",
       "    </tr>\n",
       "    <tr>\n",
       "      <th>1</th>\n",
       "      <td>PRO_12486</td>\n",
       "      <td>PRO_12486</td>\n",
       "      <td>1</td>\n",
       "    </tr>\n",
       "    <tr>\n",
       "      <th>2</th>\n",
       "      <td>PRO_12486</td>\n",
       "      <td>PRO_15453</td>\n",
       "      <td>1</td>\n",
       "    </tr>\n",
       "    <tr>\n",
       "      <th>3</th>\n",
       "      <td>PRO_12486</td>\n",
       "      <td>PRO_22362</td>\n",
       "      <td>1</td>\n",
       "    </tr>\n",
       "    <tr>\n",
       "      <th>4</th>\n",
       "      <td>PRO_12486</td>\n",
       "      <td>PRO_3423</td>\n",
       "      <td>1</td>\n",
       "    </tr>\n",
       "    <tr>\n",
       "      <th>...</th>\n",
       "      <td>...</td>\n",
       "      <td>...</td>\n",
       "      <td>...</td>\n",
       "    </tr>\n",
       "    <tr>\n",
       "      <th>213453</th>\n",
       "      <td>PRO_11969</td>\n",
       "      <td>PRO_16870</td>\n",
       "      <td>0</td>\n",
       "    </tr>\n",
       "    <tr>\n",
       "      <th>213454</th>\n",
       "      <td>PRO_2554</td>\n",
       "      <td>PRO_3073</td>\n",
       "      <td>0</td>\n",
       "    </tr>\n",
       "    <tr>\n",
       "      <th>213455</th>\n",
       "      <td>PRO_15478</td>\n",
       "      <td>PRO_18292</td>\n",
       "      <td>0</td>\n",
       "    </tr>\n",
       "    <tr>\n",
       "      <th>213456</th>\n",
       "      <td>PRO_1011</td>\n",
       "      <td>PRO_16240</td>\n",
       "      <td>0</td>\n",
       "    </tr>\n",
       "    <tr>\n",
       "      <th>213457</th>\n",
       "      <td>PRO_23909</td>\n",
       "      <td>PRO_4129</td>\n",
       "      <td>0</td>\n",
       "    </tr>\n",
       "  </tbody>\n",
       "</table>\n",
       "<p>234805 rows × 3 columns</p>\n",
       "</div>"
      ],
      "text/plain": [
       "        Protein_A  Protein_B  label\n",
       "0        PRO_4691   PRO_2365      1\n",
       "1       PRO_12486  PRO_12486      1\n",
       "2       PRO_12486  PRO_15453      1\n",
       "3       PRO_12486  PRO_22362      1\n",
       "4       PRO_12486   PRO_3423      1\n",
       "...           ...        ...    ...\n",
       "213453  PRO_11969  PRO_16870      0\n",
       "213454   PRO_2554   PRO_3073      0\n",
       "213455  PRO_15478  PRO_18292      0\n",
       "213456   PRO_1011  PRO_16240      0\n",
       "213457  PRO_23909   PRO_4129      0\n",
       "\n",
       "[234805 rows x 3 columns]"
      ]
     },
     "execution_count": 265,
     "metadata": {},
     "output_type": "execute_result"
    }
   ],
   "source": [
    "final_test_set"
   ]
  },
  {
   "cell_type": "markdown",
   "id": "c64b118f",
   "metadata": {},
   "source": [
    "## 3. Train set\n",
    "\n",
    "\n",
    "<pre>\n",
    "--> all_possible_train_set_protein_pairs\n",
    "--> train_data_pos\n",
    "--> train_data_neg\n",
    "</pre>"
   ]
  },
  {
   "cell_type": "code",
   "execution_count": 271,
   "id": "5ea8180b",
   "metadata": {},
   "outputs": [
    {
     "data": {
      "text/html": [
       "<div>\n",
       "<style scoped>\n",
       "    .dataframe tbody tr th:only-of-type {\n",
       "        vertical-align: middle;\n",
       "    }\n",
       "\n",
       "    .dataframe tbody tr th {\n",
       "        vertical-align: top;\n",
       "    }\n",
       "\n",
       "    .dataframe thead th {\n",
       "        text-align: right;\n",
       "    }\n",
       "</style>\n",
       "<table border=\"1\" class=\"dataframe\">\n",
       "  <thead>\n",
       "    <tr style=\"text-align: right;\">\n",
       "      <th></th>\n",
       "      <th>Protein_A</th>\n",
       "      <th>Protein_B</th>\n",
       "      <th>Protein_A_sequence</th>\n",
       "      <th>Protein_B_sequence</th>\n",
       "    </tr>\n",
       "  </thead>\n",
       "  <tbody>\n",
       "    <tr>\n",
       "      <th>1</th>\n",
       "      <td>PRO_1968</td>\n",
       "      <td>PRO_3259</td>\n",
       "      <td>MAKNPPENCEDCHILNAEAFKSKKICKSLKICGLVFGILALTLIVL...</td>\n",
       "      <td>MASSSTVPLGFHYETKYVVLSYLGLLSQEKLQEQHLSSPQGVQLDI...</td>\n",
       "    </tr>\n",
       "    <tr>\n",
       "      <th>2</th>\n",
       "      <td>PRO_1968</td>\n",
       "      <td>PRO_20825</td>\n",
       "      <td>MAKNPPENCEDCHILNAEAFKSKKICKSLKICGLVFGILALTLIVL...</td>\n",
       "      <td>MSSHLVEPPPPLHNNNNNCEENEQSLPPPAGLNSSWVELPMNSSNG...</td>\n",
       "    </tr>\n",
       "    <tr>\n",
       "      <th>3</th>\n",
       "      <td>PRO_1968</td>\n",
       "      <td>PRO_11236</td>\n",
       "      <td>MAKNPPENCEDCHILNAEAFKSKKICKSLKICGLVFGILALTLIVL...</td>\n",
       "      <td>MPLLLLLPLLWAGALAMDPNFWLQVQESVTVQEGLCVLVPCTFFHP...</td>\n",
       "    </tr>\n",
       "    <tr>\n",
       "      <th>5</th>\n",
       "      <td>PRO_1968</td>\n",
       "      <td>PRO_16190</td>\n",
       "      <td>MAKNPPENCEDCHILNAEAFKSKKICKSLKICGLVFGILALTLIVL...</td>\n",
       "      <td>MWTLKSSLVLLLCLTCSYAFMFSSLRQKTSEPQGKVQYGEHFRIRQ...</td>\n",
       "    </tr>\n",
       "    <tr>\n",
       "      <th>6</th>\n",
       "      <td>PRO_1968</td>\n",
       "      <td>PRO_4579</td>\n",
       "      <td>MAKNPPENCEDCHILNAEAFKSKKICKSLKICGLVFGILALTLIVL...</td>\n",
       "      <td>MGHRFLRGLLTLLLPPPPLYTRHRMLGPESVPPPKRSRSKLMAPPR...</td>\n",
       "    </tr>\n",
       "    <tr>\n",
       "      <th>...</th>\n",
       "      <td>...</td>\n",
       "      <td>...</td>\n",
       "      <td>...</td>\n",
       "      <td>...</td>\n",
       "    </tr>\n",
       "    <tr>\n",
       "      <th>396149</th>\n",
       "      <td>PRO_11977</td>\n",
       "      <td>PRO_20355</td>\n",
       "      <td>SGSWLRDIWDWICEVLSDFKTWLKAKLMPQLPGIPFVSCQRGYKGV...</td>\n",
       "      <td>MGGRSSCEDPGCPRDEERAPRMGCMKSKFLQVGGNTFSKTETSASP...</td>\n",
       "    </tr>\n",
       "    <tr>\n",
       "      <th>396150</th>\n",
       "      <td>PRO_11977</td>\n",
       "      <td>PRO_4583</td>\n",
       "      <td>SGSWLRDIWDWICEVLSDFKTWLKAKLMPQLPGIPFVSCQRGYKGV...</td>\n",
       "      <td>MGCVQCKDKEATKLTEERDGSLNQSSGYRYGTDPTPQHYPSFGVTS...</td>\n",
       "    </tr>\n",
       "    <tr>\n",
       "      <th>396151</th>\n",
       "      <td>PRO_19214</td>\n",
       "      <td>PRO_18202</td>\n",
       "      <td>MDLLVDELFADMNADGASPPPPRPAGGPKNTPAAPPLYATGRLSQA...</td>\n",
       "      <td>MQREEKQLEASLDALLSQVADLKNSLGSFICKLENEYGRLTWPSVL...</td>\n",
       "    </tr>\n",
       "    <tr>\n",
       "      <th>396152</th>\n",
       "      <td>PRO_2146</td>\n",
       "      <td>PRO_4583</td>\n",
       "      <td>MGSGSWLKDVWDWICTVLADLKTWLQSKLLPRLPGVPFLSCQRGYK...</td>\n",
       "      <td>MGCVQCKDKEATKLTEERDGSLNQSSGYRYGTDPTPQHYPSFGVTS...</td>\n",
       "    </tr>\n",
       "    <tr>\n",
       "      <th>396153</th>\n",
       "      <td>PRO_19214</td>\n",
       "      <td>PRO_91</td>\n",
       "      <td>MDLLVDELFADMNADGASPPPPRPAGGPKNTPAAPPLYATGRLSQA...</td>\n",
       "      <td>MSGVRAVRISIESACEKQVHEVGLDGTETYLPPLSMSQNLARLAQR...</td>\n",
       "    </tr>\n",
       "  </tbody>\n",
       "</table>\n",
       "<p>241819 rows × 4 columns</p>\n",
       "</div>"
      ],
      "text/plain": [
       "        Protein_A  Protein_B  \\\n",
       "1        PRO_1968   PRO_3259   \n",
       "2        PRO_1968  PRO_20825   \n",
       "3        PRO_1968  PRO_11236   \n",
       "5        PRO_1968  PRO_16190   \n",
       "6        PRO_1968   PRO_4579   \n",
       "...           ...        ...   \n",
       "396149  PRO_11977  PRO_20355   \n",
       "396150  PRO_11977   PRO_4583   \n",
       "396151  PRO_19214  PRO_18202   \n",
       "396152   PRO_2146   PRO_4583   \n",
       "396153  PRO_19214     PRO_91   \n",
       "\n",
       "                                       Protein_A_sequence  \\\n",
       "1       MAKNPPENCEDCHILNAEAFKSKKICKSLKICGLVFGILALTLIVL...   \n",
       "2       MAKNPPENCEDCHILNAEAFKSKKICKSLKICGLVFGILALTLIVL...   \n",
       "3       MAKNPPENCEDCHILNAEAFKSKKICKSLKICGLVFGILALTLIVL...   \n",
       "5       MAKNPPENCEDCHILNAEAFKSKKICKSLKICGLVFGILALTLIVL...   \n",
       "6       MAKNPPENCEDCHILNAEAFKSKKICKSLKICGLVFGILALTLIVL...   \n",
       "...                                                   ...   \n",
       "396149  SGSWLRDIWDWICEVLSDFKTWLKAKLMPQLPGIPFVSCQRGYKGV...   \n",
       "396150  SGSWLRDIWDWICEVLSDFKTWLKAKLMPQLPGIPFVSCQRGYKGV...   \n",
       "396151  MDLLVDELFADMNADGASPPPPRPAGGPKNTPAAPPLYATGRLSQA...   \n",
       "396152  MGSGSWLKDVWDWICTVLADLKTWLQSKLLPRLPGVPFLSCQRGYK...   \n",
       "396153  MDLLVDELFADMNADGASPPPPRPAGGPKNTPAAPPLYATGRLSQA...   \n",
       "\n",
       "                                       Protein_B_sequence  \n",
       "1       MASSSTVPLGFHYETKYVVLSYLGLLSQEKLQEQHLSSPQGVQLDI...  \n",
       "2       MSSHLVEPPPPLHNNNNNCEENEQSLPPPAGLNSSWVELPMNSSNG...  \n",
       "3       MPLLLLLPLLWAGALAMDPNFWLQVQESVTVQEGLCVLVPCTFFHP...  \n",
       "5       MWTLKSSLVLLLCLTCSYAFMFSSLRQKTSEPQGKVQYGEHFRIRQ...  \n",
       "6       MGHRFLRGLLTLLLPPPPLYTRHRMLGPESVPPPKRSRSKLMAPPR...  \n",
       "...                                                   ...  \n",
       "396149  MGGRSSCEDPGCPRDEERAPRMGCMKSKFLQVGGNTFSKTETSASP...  \n",
       "396150  MGCVQCKDKEATKLTEERDGSLNQSSGYRYGTDPTPQHYPSFGVTS...  \n",
       "396151  MQREEKQLEASLDALLSQVADLKNSLGSFICKLENEYGRLTWPSVL...  \n",
       "396152  MGCVQCKDKEATKLTEERDGSLNQSSGYRYGTDPTPQHYPSFGVTS...  \n",
       "396153  MSGVRAVRISIESACEKQVHEVGLDGTETYLPPLSMSQNLARLAQR...  \n",
       "\n",
       "[241819 rows x 4 columns]"
      ]
     },
     "execution_count": 271,
     "metadata": {},
     "output_type": "execute_result"
    }
   ],
   "source": [
    "train_data_pos"
   ]
  },
  {
   "cell_type": "code",
   "execution_count": 273,
   "id": "6c169081",
   "metadata": {},
   "outputs": [
    {
     "data": {
      "text/plain": [
       "500000"
      ]
     },
     "execution_count": 273,
     "metadata": {},
     "output_type": "execute_result"
    }
   ],
   "source": [
    "len(all_possible_train_set_protein_pairs)"
   ]
  },
  {
   "cell_type": "code",
   "execution_count": 275,
   "id": "755f3120",
   "metadata": {},
   "outputs": [],
   "source": [
    "positive_train_set_pairs = []\n",
    "for index,row in train_data_pos.iterrows():\n",
    "    positive_train_set_pairs.append([row.Protein_A,row.Protein_B])\n",
    "    positive_train_set_pairs.append([row.Protein_B,row.Protein_A])"
   ]
  },
  {
   "cell_type": "code",
   "execution_count": 276,
   "id": "6727432d",
   "metadata": {},
   "outputs": [
    {
     "name": "stderr",
     "output_type": "stream",
     "text": [
      "  0%|                                                  | 1169/500000 [00:12<1:27:31, 94.99it/s]"
     ]
    },
    {
     "name": "stdout",
     "output_type": "stream",
     "text": [
      "['PRO_6756', 'PRO_1162']\n"
     ]
    },
    {
     "name": "stderr",
     "output_type": "stream",
     "text": [
      "  0%|▏                                                 | 1530/500000 [00:16<1:26:29, 96.05it/s]"
     ]
    },
    {
     "name": "stdout",
     "output_type": "stream",
     "text": [
      "['PRO_2374', 'PRO_12142']\n"
     ]
    },
    {
     "name": "stderr",
     "output_type": "stream",
     "text": [
      "  0%|▏                                                 | 2040/500000 [00:21<1:27:51, 94.46it/s]"
     ]
    },
    {
     "name": "stdout",
     "output_type": "stream",
     "text": [
      "['PRO_13349', 'PRO_6594']\n"
     ]
    },
    {
     "name": "stderr",
     "output_type": "stream",
     "text": [
      "  0%|▏                                                 | 2290/500000 [00:24<1:28:17, 93.95it/s]"
     ]
    },
    {
     "name": "stdout",
     "output_type": "stream",
     "text": [
      "['PRO_18208', 'PRO_4095']\n"
     ]
    },
    {
     "name": "stderr",
     "output_type": "stream",
     "text": [
      "  1%|▎                                                 | 2871/500000 [00:30<1:25:46, 96.60it/s]"
     ]
    },
    {
     "name": "stdout",
     "output_type": "stream",
     "text": [
      "['PRO_17016', 'PRO_16829']\n"
     ]
    },
    {
     "name": "stderr",
     "output_type": "stream",
     "text": [
      "  1%|▎                                                 | 3131/500000 [00:33<1:26:42, 95.50it/s]"
     ]
    },
    {
     "name": "stdout",
     "output_type": "stream",
     "text": [
      "['PRO_11437', 'PRO_11798']\n"
     ]
    },
    {
     "name": "stderr",
     "output_type": "stream",
     "text": [
      "  1%|▎                                                 | 3422/500000 [00:36<1:27:19, 94.78it/s]"
     ]
    },
    {
     "name": "stdout",
     "output_type": "stream",
     "text": [
      "['PRO_12400', 'PRO_1612']\n"
     ]
    },
    {
     "name": "stderr",
     "output_type": "stream",
     "text": [
      "  1%|▎                                                 | 3722/500000 [00:39<1:26:37, 95.48it/s]"
     ]
    },
    {
     "name": "stdout",
     "output_type": "stream",
     "text": [
      "['PRO_14726', 'PRO_13216']\n"
     ]
    },
    {
     "name": "stderr",
     "output_type": "stream",
     "text": [
      "  1%|▍                                                 | 4092/500000 [00:43<1:28:53, 92.98it/s]"
     ]
    },
    {
     "name": "stdout",
     "output_type": "stream",
     "text": [
      "['PRO_4216', 'PRO_9626']\n"
     ]
    },
    {
     "name": "stderr",
     "output_type": "stream",
     "text": [
      "  1%|▍                                                 | 4652/500000 [00:49<1:28:10, 93.62it/s]"
     ]
    },
    {
     "name": "stdout",
     "output_type": "stream",
     "text": [
      "['PRO_1726', 'PRO_20679']\n"
     ]
    },
    {
     "name": "stderr",
     "output_type": "stream",
     "text": [
      "  1%|▋                                                 | 6302/500000 [01:06<1:26:58, 94.60it/s]"
     ]
    },
    {
     "name": "stdout",
     "output_type": "stream",
     "text": [
      "['PRO_3902', 'PRO_4306']\n"
     ]
    },
    {
     "name": "stderr",
     "output_type": "stream",
     "text": [
      "  1%|▋                                                 | 6422/500000 [01:08<1:28:46, 92.66it/s]"
     ]
    },
    {
     "name": "stdout",
     "output_type": "stream",
     "text": [
      "['PRO_9591', 'PRO_7273']\n"
     ]
    },
    {
     "name": "stderr",
     "output_type": "stream",
     "text": [
      "  1%|▋                                                 | 6801/500000 [01:12<1:32:53, 88.49it/s]"
     ]
    },
    {
     "name": "stdout",
     "output_type": "stream",
     "text": [
      "['PRO_17874', 'PRO_6456']\n"
     ]
    },
    {
     "name": "stderr",
     "output_type": "stream",
     "text": [
      "  2%|▊                                                 | 7555/500000 [01:20<1:25:17, 96.22it/s]"
     ]
    },
    {
     "name": "stdout",
     "output_type": "stream",
     "text": [
      "['PRO_5000', 'PRO_3254']\n"
     ]
    },
    {
     "name": "stderr",
     "output_type": "stream",
     "text": [
      "  2%|▊                                                 | 8335/500000 [01:28<1:30:37, 90.42it/s]"
     ]
    },
    {
     "name": "stdout",
     "output_type": "stream",
     "text": [
      "['PRO_3047', 'PRO_10508']\n"
     ]
    },
    {
     "name": "stderr",
     "output_type": "stream",
     "text": [
      "  2%|▊                                                 | 8606/500000 [01:31<1:25:52, 95.37it/s]"
     ]
    },
    {
     "name": "stdout",
     "output_type": "stream",
     "text": [
      "['PRO_15616', 'PRO_20843']\n"
     ]
    },
    {
     "name": "stderr",
     "output_type": "stream",
     "text": [
      "  2%|▉                                                | 10202/500000 [01:48<1:38:03, 83.25it/s]"
     ]
    },
    {
     "name": "stdout",
     "output_type": "stream",
     "text": [
      "['PRO_21734', 'PRO_1016']\n"
     ]
    },
    {
     "name": "stderr",
     "output_type": "stream",
     "text": [
      "  2%|█                                                | 10695/500000 [01:54<1:33:34, 87.15it/s]"
     ]
    },
    {
     "name": "stdout",
     "output_type": "stream",
     "text": [
      "['PRO_11541', 'PRO_10969']\n"
     ]
    },
    {
     "name": "stderr",
     "output_type": "stream",
     "text": [
      "  3%|█▎                                               | 13179/500000 [02:21<1:22:33, 98.28it/s]"
     ]
    },
    {
     "name": "stdout",
     "output_type": "stream",
     "text": [
      "['PRO_13433', 'PRO_4255']\n"
     ]
    },
    {
     "name": "stderr",
     "output_type": "stream",
     "text": [
      "  3%|█▎                                               | 13211/500000 [02:22<1:25:50, 94.52it/s]"
     ]
    },
    {
     "name": "stdout",
     "output_type": "stream",
     "text": [
      "['PRO_15446', 'PRO_8205']\n"
     ]
    },
    {
     "name": "stderr",
     "output_type": "stream",
     "text": [
      "  3%|█▍                                               | 14448/500000 [02:35<1:25:44, 94.38it/s]"
     ]
    },
    {
     "name": "stdout",
     "output_type": "stream",
     "text": [
      "['PRO_13805', 'PRO_13671']\n"
     ]
    },
    {
     "name": "stderr",
     "output_type": "stream",
     "text": [
      "  3%|█▍                                               | 15039/500000 [02:41<1:25:26, 94.60it/s]"
     ]
    },
    {
     "name": "stdout",
     "output_type": "stream",
     "text": [
      "['PRO_13350', 'PRO_15070']\n"
     ]
    },
    {
     "name": "stderr",
     "output_type": "stream",
     "text": [
      "  3%|█▍                                               | 15159/500000 [02:43<1:25:10, 94.88it/s]"
     ]
    },
    {
     "name": "stdout",
     "output_type": "stream",
     "text": [
      "['PRO_2160', 'PRO_8590']\n"
     ]
    },
    {
     "name": "stderr",
     "output_type": "stream",
     "text": [
      "  3%|█▍                                               | 15229/500000 [02:43<1:25:06, 94.93it/s]"
     ]
    },
    {
     "name": "stdout",
     "output_type": "stream",
     "text": [
      "['PRO_3385', 'PRO_3863']\n"
     ]
    },
    {
     "name": "stderr",
     "output_type": "stream",
     "text": [
      "  3%|█▌                                               | 15445/500000 [02:46<1:25:59, 93.91it/s]"
     ]
    },
    {
     "name": "stdout",
     "output_type": "stream",
     "text": [
      "['PRO_11237', 'PRO_6551']\n"
     ]
    },
    {
     "name": "stderr",
     "output_type": "stream",
     "text": [
      "  3%|█▌                                               | 15685/500000 [02:48<1:25:47, 94.09it/s]"
     ]
    },
    {
     "name": "stdout",
     "output_type": "stream",
     "text": [
      "['PRO_3692', 'PRO_17032']\n"
     ]
    },
    {
     "name": "stderr",
     "output_type": "stream",
     "text": [
      "  3%|█▌                                               | 16215/500000 [02:54<1:26:37, 93.08it/s]"
     ]
    },
    {
     "name": "stdout",
     "output_type": "stream",
     "text": [
      "['PRO_17805', 'PRO_6304']\n"
     ]
    },
    {
     "name": "stderr",
     "output_type": "stream",
     "text": [
      "  3%|█▋                                               | 16685/500000 [02:59<1:22:47, 97.29it/s]"
     ]
    },
    {
     "name": "stdout",
     "output_type": "stream",
     "text": [
      "['PRO_20421', 'PRO_13534']\n"
     ]
    },
    {
     "name": "stderr",
     "output_type": "stream",
     "text": [
      "  3%|█▋                                               | 17375/500000 [03:06<1:23:33, 96.27it/s]"
     ]
    },
    {
     "name": "stdout",
     "output_type": "stream",
     "text": [
      "['PRO_9988', 'PRO_4735']\n"
     ]
    },
    {
     "name": "stderr",
     "output_type": "stream",
     "text": [
      "  4%|█▋                                               | 17805/500000 [03:11<1:25:27, 94.05it/s]"
     ]
    },
    {
     "name": "stdout",
     "output_type": "stream",
     "text": [
      "['PRO_10431', 'PRO_22131']\n"
     ]
    },
    {
     "name": "stderr",
     "output_type": "stream",
     "text": [
      "  4%|█▊                                               | 18496/500000 [03:18<1:23:40, 95.91it/s]"
     ]
    },
    {
     "name": "stdout",
     "output_type": "stream",
     "text": [
      "['PRO_8020', 'PRO_11423']\n"
     ]
    },
    {
     "name": "stderr",
     "output_type": "stream",
     "text": [
      "  4%|█▉                                               | 20077/500000 [03:35<1:23:21, 95.96it/s]"
     ]
    },
    {
     "name": "stdout",
     "output_type": "stream",
     "text": [
      "['PRO_11245', 'PRO_5296']\n"
     ]
    },
    {
     "name": "stderr",
     "output_type": "stream",
     "text": [
      "  4%|██                                               | 21332/500000 [03:48<1:21:53, 97.42it/s]"
     ]
    },
    {
     "name": "stdout",
     "output_type": "stream",
     "text": [
      "['PRO_17773', 'PRO_7879']\n"
     ]
    },
    {
     "name": "stderr",
     "output_type": "stream",
     "text": [
      "  5%|██▏                                              | 22782/500000 [04:03<1:23:59, 94.70it/s]"
     ]
    },
    {
     "name": "stdout",
     "output_type": "stream",
     "text": [
      "['PRO_1211', 'PRO_11437']\n"
     ]
    },
    {
     "name": "stderr",
     "output_type": "stream",
     "text": [
      "  5%|██▎                                              | 23573/500000 [04:12<1:22:04, 96.74it/s]"
     ]
    },
    {
     "name": "stdout",
     "output_type": "stream",
     "text": [
      "['PRO_7259', 'PRO_716']\n"
     ]
    },
    {
     "name": "stderr",
     "output_type": "stream",
     "text": [
      "  5%|██▎                                              | 23874/500000 [04:15<1:23:41, 94.82it/s]"
     ]
    },
    {
     "name": "stdout",
     "output_type": "stream",
     "text": [
      "['PRO_14611', 'PRO_1743']\n"
     ]
    },
    {
     "name": "stderr",
     "output_type": "stream",
     "text": [
      "  5%|██▍                                              | 25336/500000 [04:30<1:23:01, 95.28it/s]"
     ]
    },
    {
     "name": "stdout",
     "output_type": "stream",
     "text": [
      "['PRO_6158', 'PRO_4456']\n"
     ]
    },
    {
     "name": "stderr",
     "output_type": "stream",
     "text": [
      "  5%|██▍                                              | 25377/500000 [04:31<1:22:43, 95.62it/s]"
     ]
    },
    {
     "name": "stdout",
     "output_type": "stream",
     "text": [
      "['PRO_1022', 'PRO_16351']\n"
     ]
    },
    {
     "name": "stderr",
     "output_type": "stream",
     "text": [
      "  5%|██▌                                              | 25698/500000 [04:34<1:22:37, 95.66it/s]"
     ]
    },
    {
     "name": "stdout",
     "output_type": "stream",
     "text": [
      "['PRO_1168', 'PRO_16746']\n"
     ]
    },
    {
     "name": "stderr",
     "output_type": "stream",
     "text": [
      "  6%|██▋                                              | 28024/500000 [04:59<1:21:05, 97.01it/s]"
     ]
    },
    {
     "name": "stdout",
     "output_type": "stream",
     "text": [
      "['PRO_1411', 'PRO_17408']\n"
     ]
    },
    {
     "name": "stderr",
     "output_type": "stream",
     "text": [
      "  6%|███                                              | 30783/500000 [05:29<1:23:43, 93.40it/s]"
     ]
    },
    {
     "name": "stdout",
     "output_type": "stream",
     "text": [
      "['PRO_12319', 'PRO_6416']\n"
     ]
    },
    {
     "name": "stderr",
     "output_type": "stream",
     "text": [
      "  6%|███                                              | 31141/500000 [05:33<1:26:27, 90.38it/s]"
     ]
    },
    {
     "name": "stdout",
     "output_type": "stream",
     "text": [
      "['PRO_5053', 'PRO_5306']\n"
     ]
    },
    {
     "name": "stderr",
     "output_type": "stream",
     "text": [
      "  7%|███▎                                             | 33750/500000 [06:01<1:21:58, 94.80it/s]"
     ]
    },
    {
     "name": "stdout",
     "output_type": "stream",
     "text": [
      "['PRO_6311', 'PRO_21725']\n"
     ]
    },
    {
     "name": "stderr",
     "output_type": "stream",
     "text": [
      "  7%|███▎                                             | 34290/500000 [06:07<1:23:08, 93.36it/s]"
     ]
    },
    {
     "name": "stdout",
     "output_type": "stream",
     "text": [
      "['PRO_7239', 'PRO_4541']\n"
     ]
    },
    {
     "name": "stderr",
     "output_type": "stream",
     "text": [
      "  7%|███▍                                             | 35370/500000 [06:18<1:22:07, 94.30it/s]"
     ]
    },
    {
     "name": "stdout",
     "output_type": "stream",
     "text": [
      "['PRO_9609', 'PRO_88']\n"
     ]
    },
    {
     "name": "stderr",
     "output_type": "stream",
     "text": [
      "  7%|███▌                                             | 36391/500000 [06:29<1:21:03, 95.32it/s]"
     ]
    },
    {
     "name": "stdout",
     "output_type": "stream",
     "text": [
      "['PRO_1198', 'PRO_1844']\n"
     ]
    },
    {
     "name": "stderr",
     "output_type": "stream",
     "text": [
      "  7%|███▌                                             | 36642/500000 [06:32<1:20:35, 95.82it/s]"
     ]
    },
    {
     "name": "stdout",
     "output_type": "stream",
     "text": [
      "['PRO_127', 'PRO_18009']\n"
     ]
    },
    {
     "name": "stderr",
     "output_type": "stream",
     "text": [
      "  8%|███▋                                             | 37803/500000 [06:44<1:23:52, 91.85it/s]"
     ]
    },
    {
     "name": "stdout",
     "output_type": "stream",
     "text": [
      "['PRO_8320', 'PRO_20507']\n"
     ]
    },
    {
     "name": "stderr",
     "output_type": "stream",
     "text": [
      "  8%|███▋                                             | 38153/500000 [06:48<1:22:15, 93.57it/s]"
     ]
    },
    {
     "name": "stdout",
     "output_type": "stream",
     "text": [
      "['PRO_19488', 'PRO_11437']\n"
     ]
    },
    {
     "name": "stderr",
     "output_type": "stream",
     "text": [
      "  8%|███▊                                             | 39174/500000 [06:59<1:20:21, 95.59it/s]"
     ]
    },
    {
     "name": "stdout",
     "output_type": "stream",
     "text": [
      "['PRO_21195', 'PRO_8184']\n"
     ]
    },
    {
     "name": "stderr",
     "output_type": "stream",
     "text": [
      "  8%|███▊                                             | 39314/500000 [07:01<1:23:08, 92.35it/s]"
     ]
    },
    {
     "name": "stdout",
     "output_type": "stream",
     "text": [
      "['PRO_14523', 'PRO_4341']\n"
     ]
    },
    {
     "name": "stderr",
     "output_type": "stream",
     "text": [
      "  8%|███▉                                             | 39776/500000 [07:06<1:32:48, 82.65it/s]"
     ]
    },
    {
     "name": "stdout",
     "output_type": "stream",
     "text": [
      "['PRO_7186', 'PRO_19745']\n"
     ]
    },
    {
     "name": "stderr",
     "output_type": "stream",
     "text": [
      "  8%|███▉                                             | 40052/500000 [07:09<1:23:16, 92.05it/s]"
     ]
    },
    {
     "name": "stdout",
     "output_type": "stream",
     "text": [
      "['PRO_22699', 'PRO_11369']\n"
     ]
    },
    {
     "name": "stderr",
     "output_type": "stream",
     "text": [
      "  8%|████                                             | 40938/500000 [07:18<1:28:15, 86.68it/s]"
     ]
    },
    {
     "name": "stdout",
     "output_type": "stream",
     "text": [
      "['PRO_13672', 'PRO_713']\n"
     ]
    },
    {
     "name": "stderr",
     "output_type": "stream",
     "text": [
      "  8%|████                                             | 40967/500000 [07:19<1:25:39, 89.32it/s]"
     ]
    },
    {
     "name": "stdout",
     "output_type": "stream",
     "text": [
      "['PRO_7588', 'PRO_7503']\n"
     ]
    },
    {
     "name": "stderr",
     "output_type": "stream",
     "text": [
      "  8%|████                                             | 41675/500000 [07:26<1:20:34, 94.80it/s]"
     ]
    },
    {
     "name": "stdout",
     "output_type": "stream",
     "text": [
      "['PRO_7887', 'PRO_3403']\n"
     ]
    },
    {
     "name": "stderr",
     "output_type": "stream",
     "text": [
      "  8%|████▏                                            | 42307/500000 [07:33<1:23:43, 91.12it/s]"
     ]
    },
    {
     "name": "stdout",
     "output_type": "stream",
     "text": [
      "['PRO_12242', 'PRO_5249']\n"
     ]
    },
    {
     "name": "stderr",
     "output_type": "stream",
     "text": [
      "  8%|████▏                                            | 42337/500000 [07:34<1:23:37, 91.21it/s]"
     ]
    },
    {
     "name": "stdout",
     "output_type": "stream",
     "text": [
      "['PRO_19023', 'PRO_9958']\n"
     ]
    },
    {
     "name": "stderr",
     "output_type": "stream",
     "text": [
      "  8%|████▏                                            | 42457/500000 [07:35<1:20:46, 94.41it/s]"
     ]
    },
    {
     "name": "stdout",
     "output_type": "stream",
     "text": [
      "['PRO_9731', 'PRO_10638']\n"
     ]
    },
    {
     "name": "stderr",
     "output_type": "stream",
     "text": [
      "  9%|████▏                                            | 42507/500000 [07:36<1:21:59, 93.00it/s]"
     ]
    },
    {
     "name": "stdout",
     "output_type": "stream",
     "text": [
      "['PRO_13526', 'PRO_706']\n",
      "['PRO_16951', 'PRO_1505']\n"
     ]
    },
    {
     "name": "stderr",
     "output_type": "stream",
     "text": [
      "  9%|████▏                                            | 43328/500000 [07:44<1:18:44, 96.66it/s]"
     ]
    },
    {
     "name": "stdout",
     "output_type": "stream",
     "text": [
      "['PRO_23197', 'PRO_12484']\n"
     ]
    },
    {
     "name": "stderr",
     "output_type": "stream",
     "text": [
      "  9%|████▎                                            | 44349/500000 [07:55<1:20:25, 94.43it/s]"
     ]
    },
    {
     "name": "stdout",
     "output_type": "stream",
     "text": [
      "['PRO_9619', 'PRO_7259']\n"
     ]
    },
    {
     "name": "stderr",
     "output_type": "stream",
     "text": [
      "  9%|████▌                                            | 46309/500000 [08:16<1:18:59, 95.72it/s]"
     ]
    },
    {
     "name": "stdout",
     "output_type": "stream",
     "text": [
      "['PRO_5437', 'PRO_8274']\n"
     ]
    },
    {
     "name": "stderr",
     "output_type": "stream",
     "text": [
      "  9%|████▌                                            | 46369/500000 [08:17<1:18:52, 95.85it/s]"
     ]
    },
    {
     "name": "stdout",
     "output_type": "stream",
     "text": [
      "['PRO_7616', 'PRO_17389']\n"
     ]
    },
    {
     "name": "stderr",
     "output_type": "stream",
     "text": [
      "  9%|████▋                                            | 47329/500000 [08:27<1:18:45, 95.80it/s]"
     ]
    },
    {
     "name": "stdout",
     "output_type": "stream",
     "text": [
      "['PRO_20985', 'PRO_3363']\n"
     ]
    },
    {
     "name": "stderr",
     "output_type": "stream",
     "text": [
      " 10%|████▋                                            | 47750/500000 [08:31<1:21:18, 92.70it/s]"
     ]
    },
    {
     "name": "stdout",
     "output_type": "stream",
     "text": [
      "['PRO_16537', 'PRO_4026']\n"
     ]
    },
    {
     "name": "stderr",
     "output_type": "stream",
     "text": [
      " 10%|████▋                                            | 48122/500000 [08:35<1:18:30, 95.93it/s]"
     ]
    },
    {
     "name": "stdout",
     "output_type": "stream",
     "text": [
      "['PRO_6108', 'PRO_17145']\n"
     ]
    },
    {
     "name": "stderr",
     "output_type": "stream",
     "text": [
      " 10%|████▊                                            | 48734/500000 [08:42<1:16:54, 97.79it/s]"
     ]
    },
    {
     "name": "stdout",
     "output_type": "stream",
     "text": [
      "['PRO_18415', 'PRO_5249']\n"
     ]
    },
    {
     "name": "stderr",
     "output_type": "stream",
     "text": [
      " 10%|████▊                                            | 49722/500000 [08:52<1:26:25, 86.83it/s]"
     ]
    },
    {
     "name": "stdout",
     "output_type": "stream",
     "text": [
      "['PRO_15599', 'PRO_8546']\n"
     ]
    },
    {
     "name": "stderr",
     "output_type": "stream",
     "text": [
      " 10%|████▉                                            | 49951/500000 [08:55<1:33:42, 80.05it/s]"
     ]
    },
    {
     "name": "stdout",
     "output_type": "stream",
     "text": [
      "['PRO_4871', 'PRO_16772']\n"
     ]
    },
    {
     "name": "stderr",
     "output_type": "stream",
     "text": [
      " 10%|████▉                                            | 50614/500000 [09:02<1:20:45, 92.75it/s]"
     ]
    },
    {
     "name": "stdout",
     "output_type": "stream",
     "text": [
      "['PRO_18134', 'PRO_1347']\n"
     ]
    },
    {
     "name": "stderr",
     "output_type": "stream",
     "text": [
      " 10%|█████                                            | 51545/500000 [09:12<1:17:31, 96.41it/s]"
     ]
    },
    {
     "name": "stdout",
     "output_type": "stream",
     "text": [
      "['PRO_4073', 'PRO_21265']\n"
     ]
    },
    {
     "name": "stderr",
     "output_type": "stream",
     "text": [
      " 11%|█████▏                                           | 52738/500000 [09:25<1:19:34, 93.68it/s]"
     ]
    },
    {
     "name": "stdout",
     "output_type": "stream",
     "text": [
      "['PRO_16694', 'PRO_13396']\n"
     ]
    },
    {
     "name": "stderr",
     "output_type": "stream",
     "text": [
      " 11%|█████▏                                           | 53052/500000 [09:28<1:18:47, 94.54it/s]"
     ]
    },
    {
     "name": "stdout",
     "output_type": "stream",
     "text": [
      "['PRO_2376', 'PRO_21300']\n"
     ]
    },
    {
     "name": "stderr",
     "output_type": "stream",
     "text": [
      " 11%|█████▏                                           | 53413/500000 [09:32<1:17:46, 95.70it/s]"
     ]
    },
    {
     "name": "stdout",
     "output_type": "stream",
     "text": [
      "['PRO_22677', 'PRO_5392']\n"
     ]
    },
    {
     "name": "stderr",
     "output_type": "stream",
     "text": [
      " 11%|█████▎                                           | 54466/500000 [09:43<1:26:59, 85.36it/s]"
     ]
    },
    {
     "name": "stdout",
     "output_type": "stream",
     "text": [
      "['PRO_23196', 'PRO_8934']\n"
     ]
    },
    {
     "name": "stderr",
     "output_type": "stream",
     "text": [
      " 11%|█████▎                                           | 54511/500000 [09:44<1:31:54, 80.78it/s]"
     ]
    },
    {
     "name": "stdout",
     "output_type": "stream",
     "text": [
      "['PRO_15788', 'PRO_14873']\n"
     ]
    },
    {
     "name": "stderr",
     "output_type": "stream",
     "text": [
      " 11%|█████▎                                           | 54756/500000 [09:47<1:17:23, 95.89it/s]"
     ]
    },
    {
     "name": "stdout",
     "output_type": "stream",
     "text": [
      "['PRO_448', 'PRO_3285']\n"
     ]
    },
    {
     "name": "stderr",
     "output_type": "stream",
     "text": [
      " 11%|█████▍                                           | 55107/500000 [09:51<1:16:51, 96.48it/s]"
     ]
    },
    {
     "name": "stdout",
     "output_type": "stream",
     "text": [
      "['PRO_1660', 'PRO_6972']\n"
     ]
    },
    {
     "name": "stderr",
     "output_type": "stream",
     "text": [
      " 11%|█████▍                                           | 55979/500000 [10:00<1:16:11, 97.12it/s]"
     ]
    },
    {
     "name": "stdout",
     "output_type": "stream",
     "text": [
      "['PRO_18520', 'PRO_9785']\n"
     ]
    },
    {
     "name": "stderr",
     "output_type": "stream",
     "text": [
      " 11%|█████▌                                           | 56239/500000 [10:02<1:22:45, 89.37it/s]"
     ]
    },
    {
     "name": "stdout",
     "output_type": "stream",
     "text": [
      "['PRO_20441', 'PRO_5747']\n"
     ]
    },
    {
     "name": "stderr",
     "output_type": "stream",
     "text": [
      " 11%|█████▌                                           | 56289/500000 [10:03<1:19:09, 93.43it/s]"
     ]
    },
    {
     "name": "stdout",
     "output_type": "stream",
     "text": [
      "['PRO_3394', 'PRO_7143']\n"
     ]
    },
    {
     "name": "stderr",
     "output_type": "stream",
     "text": [
      " 11%|█████▌                                           | 56700/500000 [10:07<1:18:48, 93.75it/s]"
     ]
    },
    {
     "name": "stdout",
     "output_type": "stream",
     "text": [
      "['PRO_8147', 'PRO_20097']\n"
     ]
    },
    {
     "name": "stderr",
     "output_type": "stream",
     "text": [
      " 12%|█████▋                                           | 57988/500000 [10:21<1:19:24, 92.76it/s]"
     ]
    },
    {
     "name": "stdout",
     "output_type": "stream",
     "text": [
      "['PRO_20832', 'PRO_6311']\n"
     ]
    },
    {
     "name": "stderr",
     "output_type": "stream",
     "text": [
      " 12%|█████▊                                           | 59088/500000 [10:33<1:16:04, 96.60it/s]"
     ]
    },
    {
     "name": "stdout",
     "output_type": "stream",
     "text": [
      "['PRO_15681', 'PRO_8521']\n"
     ]
    },
    {
     "name": "stderr",
     "output_type": "stream",
     "text": [
      " 12%|█████▊                                           | 59300/500000 [10:35<1:16:53, 95.51it/s]"
     ]
    },
    {
     "name": "stdout",
     "output_type": "stream",
     "text": [
      "['PRO_8787', 'PRO_11225']\n"
     ]
    },
    {
     "name": "stderr",
     "output_type": "stream",
     "text": [
      " 12%|█████▊                                           | 59573/500000 [10:38<1:15:09, 97.67it/s]"
     ]
    },
    {
     "name": "stdout",
     "output_type": "stream",
     "text": [
      "['PRO_56', 'PRO_11972']\n"
     ]
    },
    {
     "name": "stderr",
     "output_type": "stream",
     "text": [
      " 12%|█████▊                                           | 59910/500000 [10:41<1:18:49, 93.05it/s]"
     ]
    },
    {
     "name": "stdout",
     "output_type": "stream",
     "text": [
      "['PRO_10229', 'PRO_21112']\n"
     ]
    },
    {
     "name": "stderr",
     "output_type": "stream",
     "text": [
      " 12%|█████▉                                           | 60729/500000 [10:50<1:14:57, 97.66it/s]"
     ]
    },
    {
     "name": "stdout",
     "output_type": "stream",
     "text": [
      "['PRO_11482', 'PRO_13526']\n"
     ]
    },
    {
     "name": "stderr",
     "output_type": "stream",
     "text": [
      " 12%|██████                                           | 61601/500000 [10:59<1:14:52, 97.59it/s]"
     ]
    },
    {
     "name": "stdout",
     "output_type": "stream",
     "text": [
      "['PRO_5048', 'PRO_11467']\n"
     ]
    },
    {
     "name": "stderr",
     "output_type": "stream",
     "text": [
      " 13%|██████▏                                          | 62763/500000 [11:12<1:15:21, 96.71it/s]"
     ]
    },
    {
     "name": "stdout",
     "output_type": "stream",
     "text": [
      "['PRO_12242', 'PRO_19271']\n"
     ]
    },
    {
     "name": "stderr",
     "output_type": "stream",
     "text": [
      " 13%|██████▏                                          | 62863/500000 [11:13<1:20:28, 90.53it/s]"
     ]
    },
    {
     "name": "stdout",
     "output_type": "stream",
     "text": [
      "['PRO_19821', 'PRO_3399']\n"
     ]
    },
    {
     "name": "stderr",
     "output_type": "stream",
     "text": [
      " 13%|██████▏                                          | 63724/500000 [11:22<1:14:07, 98.09it/s]"
     ]
    },
    {
     "name": "stdout",
     "output_type": "stream",
     "text": [
      "['PRO_19472', 'PRO_9196']\n"
     ]
    },
    {
     "name": "stderr",
     "output_type": "stream",
     "text": [
      " 13%|██████▎                                          | 64287/500000 [11:28<1:14:35, 97.35it/s]"
     ]
    },
    {
     "name": "stdout",
     "output_type": "stream",
     "text": [
      "['PRO_3494', 'PRO_11967']\n"
     ]
    },
    {
     "name": "stderr",
     "output_type": "stream",
     "text": [
      " 13%|██████▎                                          | 64498/500000 [11:30<1:14:13, 97.79it/s]"
     ]
    },
    {
     "name": "stdout",
     "output_type": "stream",
     "text": [
      "['PRO_8439', 'PRO_20107']\n"
     ]
    },
    {
     "name": "stderr",
     "output_type": "stream",
     "text": [
      " 13%|██████▎                                          | 64769/500000 [11:33<1:14:57, 96.77it/s]"
     ]
    },
    {
     "name": "stdout",
     "output_type": "stream",
     "text": [
      "['PRO_2805', 'PRO_1297']\n"
     ]
    },
    {
     "name": "stderr",
     "output_type": "stream",
     "text": [
      " 13%|██████▍                                          | 65502/500000 [11:40<1:15:08, 96.37it/s]"
     ]
    },
    {
     "name": "stdout",
     "output_type": "stream",
     "text": [
      "['PRO_3910', 'PRO_6015']\n"
     ]
    },
    {
     "name": "stderr",
     "output_type": "stream",
     "text": [
      " 13%|██████▍                                          | 65563/500000 [11:41<1:14:33, 97.11it/s]"
     ]
    },
    {
     "name": "stdout",
     "output_type": "stream",
     "text": [
      "['PRO_1277', 'PRO_19996']\n",
      "['PRO_22497', 'PRO_9466']\n"
     ]
    },
    {
     "name": "stderr",
     "output_type": "stream",
     "text": [
      " 13%|██████▍                                          | 65664/500000 [11:42<1:14:58, 96.54it/s]"
     ]
    },
    {
     "name": "stdout",
     "output_type": "stream",
     "text": [
      "['PRO_6019', 'PRO_9173']\n"
     ]
    },
    {
     "name": "stderr",
     "output_type": "stream",
     "text": [
      " 13%|██████▍                                          | 65754/500000 [11:43<1:14:46, 96.78it/s]"
     ]
    },
    {
     "name": "stdout",
     "output_type": "stream",
     "text": [
      "['PRO_5664', 'PRO_22644']\n"
     ]
    },
    {
     "name": "stderr",
     "output_type": "stream",
     "text": [
      " 13%|██████▍                                          | 65834/500000 [11:44<1:15:21, 96.01it/s]"
     ]
    },
    {
     "name": "stdout",
     "output_type": "stream",
     "text": [
      "['PRO_7058', 'PRO_9814']\n"
     ]
    },
    {
     "name": "stderr",
     "output_type": "stream",
     "text": [
      " 13%|██████▍                                          | 66074/500000 [11:46<1:15:10, 96.21it/s]"
     ]
    },
    {
     "name": "stdout",
     "output_type": "stream",
     "text": [
      "['PRO_13954', 'PRO_16150']\n"
     ]
    },
    {
     "name": "stderr",
     "output_type": "stream",
     "text": [
      " 13%|██████▌                                          | 67297/500000 [11:59<1:14:40, 96.57it/s]"
     ]
    },
    {
     "name": "stdout",
     "output_type": "stream",
     "text": [
      "['PRO_8132', 'PRO_5438']\n"
     ]
    },
    {
     "name": "stderr",
     "output_type": "stream",
     "text": [
      " 14%|██████▋                                          | 68089/500000 [12:07<1:13:24, 98.07it/s]"
     ]
    },
    {
     "name": "stdout",
     "output_type": "stream",
     "text": [
      "['PRO_6696', 'PRO_4214']\n"
     ]
    },
    {
     "name": "stderr",
     "output_type": "stream",
     "text": [
      " 14%|██████▋                                          | 68159/500000 [12:08<1:14:56, 96.04it/s]"
     ]
    },
    {
     "name": "stdout",
     "output_type": "stream",
     "text": [
      "['PRO_18511', 'PRO_6066']\n"
     ]
    },
    {
     "name": "stderr",
     "output_type": "stream",
     "text": [
      " 14%|██████▊                                          | 69310/500000 [12:20<1:15:26, 95.15it/s]"
     ]
    },
    {
     "name": "stdout",
     "output_type": "stream",
     "text": [
      "['PRO_8336', 'PRO_15960']\n"
     ]
    },
    {
     "name": "stderr",
     "output_type": "stream",
     "text": [
      " 14%|██████▉                                          | 70681/500000 [12:35<1:12:45, 98.35it/s]"
     ]
    },
    {
     "name": "stdout",
     "output_type": "stream",
     "text": [
      "['PRO_11686', 'PRO_15156']\n",
      "['PRO_20942', 'PRO_9911']\n"
     ]
    },
    {
     "name": "stderr",
     "output_type": "stream",
     "text": [
      " 14%|██████▉                                          | 70722/500000 [12:35<1:13:12, 97.73it/s]"
     ]
    },
    {
     "name": "stdout",
     "output_type": "stream",
     "text": [
      "['PRO_20204', 'PRO_15045']\n"
     ]
    },
    {
     "name": "stderr",
     "output_type": "stream",
     "text": [
      " 14%|██████▉                                          | 70812/500000 [12:36<1:15:59, 94.14it/s]"
     ]
    },
    {
     "name": "stdout",
     "output_type": "stream",
     "text": [
      "['PRO_7146', 'PRO_12042']\n"
     ]
    },
    {
     "name": "stderr",
     "output_type": "stream",
     "text": [
      " 14%|██████▉                                          | 71202/500000 [12:40<1:14:07, 96.42it/s]"
     ]
    },
    {
     "name": "stdout",
     "output_type": "stream",
     "text": [
      "['PRO_2122', 'PRO_7969']\n"
     ]
    },
    {
     "name": "stderr",
     "output_type": "stream",
     "text": [
      " 14%|███████                                          | 71729/500000 [12:46<1:16:01, 93.88it/s]"
     ]
    },
    {
     "name": "stdout",
     "output_type": "stream",
     "text": [
      "['PRO_13378', 'PRO_4955']\n"
     ]
    },
    {
     "name": "stderr",
     "output_type": "stream",
     "text": [
      " 15%|███████                                          | 72629/500000 [12:56<1:13:13, 97.28it/s]"
     ]
    },
    {
     "name": "stdout",
     "output_type": "stream",
     "text": [
      "['PRO_5150', 'PRO_9025']\n"
     ]
    },
    {
     "name": "stderr",
     "output_type": "stream",
     "text": [
      " 15%|███████▏                                         | 73158/500000 [13:01<1:16:17, 93.26it/s]"
     ]
    },
    {
     "name": "stdout",
     "output_type": "stream",
     "text": [
      "['PRO_10665', 'PRO_14599']\n"
     ]
    },
    {
     "name": "stderr",
     "output_type": "stream",
     "text": [
      " 15%|███████▎                                         | 74430/500000 [13:15<1:15:34, 93.85it/s]"
     ]
    },
    {
     "name": "stdout",
     "output_type": "stream",
     "text": [
      "['PRO_11521', 'PRO_9311']\n"
     ]
    },
    {
     "name": "stderr",
     "output_type": "stream",
     "text": [
      " 15%|███████▎                                         | 74670/500000 [13:17<1:13:43, 96.16it/s]"
     ]
    },
    {
     "name": "stdout",
     "output_type": "stream",
     "text": [
      "['PRO_8214', 'PRO_20679']\n"
     ]
    },
    {
     "name": "stderr",
     "output_type": "stream",
     "text": [
      " 15%|███████▍                                         | 75441/500000 [13:25<1:15:41, 93.48it/s]"
     ]
    },
    {
     "name": "stdout",
     "output_type": "stream",
     "text": [
      "['PRO_2270', 'PRO_6547']\n"
     ]
    },
    {
     "name": "stderr",
     "output_type": "stream",
     "text": [
      " 15%|███████▍                                         | 75522/500000 [13:26<1:13:52, 95.76it/s]"
     ]
    },
    {
     "name": "stdout",
     "output_type": "stream",
     "text": [
      "['PRO_2870', 'PRO_5380']\n"
     ]
    },
    {
     "name": "stderr",
     "output_type": "stream",
     "text": [
      " 15%|███████▍                                         | 75702/500000 [13:28<1:13:41, 95.96it/s]"
     ]
    },
    {
     "name": "stdout",
     "output_type": "stream",
     "text": [
      "['PRO_1039', 'PRO_5927']\n"
     ]
    },
    {
     "name": "stderr",
     "output_type": "stream",
     "text": [
      " 15%|███████▍                                         | 76243/500000 [13:34<1:14:46, 94.46it/s]"
     ]
    },
    {
     "name": "stdout",
     "output_type": "stream",
     "text": [
      "['PRO_8577', 'PRO_16785']\n"
     ]
    },
    {
     "name": "stderr",
     "output_type": "stream",
     "text": [
      " 15%|███████▍                                         | 76303/500000 [13:34<1:15:06, 94.02it/s]"
     ]
    },
    {
     "name": "stdout",
     "output_type": "stream",
     "text": [
      "['PRO_20903', 'PRO_11514']\n"
     ]
    },
    {
     "name": "stderr",
     "output_type": "stream",
     "text": [
      " 15%|███████▍                                         | 76464/500000 [13:36<1:14:55, 94.21it/s]"
     ]
    },
    {
     "name": "stdout",
     "output_type": "stream",
     "text": [
      "['PRO_9977', 'PRO_17199']\n"
     ]
    },
    {
     "name": "stderr",
     "output_type": "stream",
     "text": [
      " 15%|███████▌                                         | 76933/500000 [13:41<1:16:29, 92.18it/s]"
     ]
    },
    {
     "name": "stdout",
     "output_type": "stream",
     "text": [
      "['PRO_6355', 'PRO_1638']\n"
     ]
    },
    {
     "name": "stderr",
     "output_type": "stream",
     "text": [
      " 15%|███████▌                                         | 77053/500000 [13:43<1:14:42, 94.37it/s]"
     ]
    },
    {
     "name": "stdout",
     "output_type": "stream",
     "text": [
      "['PRO_5694', 'PRO_5258']\n"
     ]
    },
    {
     "name": "stderr",
     "output_type": "stream",
     "text": [
      " 15%|███████▌                                         | 77472/500000 [13:47<1:14:01, 95.14it/s]"
     ]
    },
    {
     "name": "stdout",
     "output_type": "stream",
     "text": [
      "['PRO_754', 'PRO_9002']\n"
     ]
    },
    {
     "name": "stderr",
     "output_type": "stream",
     "text": [
      " 16%|███████▋                                         | 77884/500000 [13:52<1:12:36, 96.89it/s]"
     ]
    },
    {
     "name": "stdout",
     "output_type": "stream",
     "text": [
      "['PRO_13534', 'PRO_21077']\n"
     ]
    },
    {
     "name": "stderr",
     "output_type": "stream",
     "text": [
      " 16%|███████▋                                         | 78345/500000 [13:56<1:12:26, 97.00it/s]"
     ]
    },
    {
     "name": "stdout",
     "output_type": "stream",
     "text": [
      "['PRO_941', 'PRO_4286']\n"
     ]
    },
    {
     "name": "stderr",
     "output_type": "stream",
     "text": [
      " 16%|███████▋                                         | 78635/500000 [14:00<1:13:32, 95.50it/s]"
     ]
    },
    {
     "name": "stdout",
     "output_type": "stream",
     "text": [
      "['PRO_20507', 'PRO_9691']\n"
     ]
    },
    {
     "name": "stderr",
     "output_type": "stream",
     "text": [
      " 16%|████████                                         | 82042/500000 [14:37<1:19:57, 87.12it/s]"
     ]
    },
    {
     "name": "stdout",
     "output_type": "stream",
     "text": [
      "['PRO_20698', 'PRO_7749']\n"
     ]
    },
    {
     "name": "stderr",
     "output_type": "stream",
     "text": [
      " 16%|████████                                         | 82385/500000 [14:41<1:17:41, 89.59it/s]"
     ]
    },
    {
     "name": "stdout",
     "output_type": "stream",
     "text": [
      "['PRO_901', 'PRO_6475']\n"
     ]
    },
    {
     "name": "stderr",
     "output_type": "stream",
     "text": [
      " 16%|████████                                         | 82472/500000 [14:41<1:17:31, 89.77it/s]"
     ]
    },
    {
     "name": "stdout",
     "output_type": "stream",
     "text": [
      "['PRO_7548', 'PRO_3135']\n"
     ]
    },
    {
     "name": "stderr",
     "output_type": "stream",
     "text": [
      " 16%|████████                                         | 82492/500000 [14:42<1:16:42, 90.71it/s]"
     ]
    },
    {
     "name": "stdout",
     "output_type": "stream",
     "text": [
      "['PRO_12156', 'PRO_5770']\n"
     ]
    },
    {
     "name": "stderr",
     "output_type": "stream",
     "text": [
      " 17%|████████▏                                        | 83485/500000 [14:53<1:19:07, 87.74it/s]"
     ]
    },
    {
     "name": "stdout",
     "output_type": "stream",
     "text": [
      "['PRO_16077', 'PRO_834']\n"
     ]
    },
    {
     "name": "stderr",
     "output_type": "stream",
     "text": [
      " 17%|████████▏                                        | 83741/500000 [14:56<1:17:43, 89.25it/s]"
     ]
    },
    {
     "name": "stdout",
     "output_type": "stream",
     "text": [
      "['PRO_1253', 'PRO_4674']\n"
     ]
    },
    {
     "name": "stderr",
     "output_type": "stream",
     "text": [
      " 17%|████████▎                                        | 84201/500000 [15:01<1:17:07, 89.86it/s]"
     ]
    },
    {
     "name": "stdout",
     "output_type": "stream",
     "text": [
      "['PRO_4685', 'PRO_6121']\n"
     ]
    },
    {
     "name": "stderr",
     "output_type": "stream",
     "text": [
      " 17%|████████▎                                        | 84464/500000 [15:04<1:14:43, 92.67it/s]"
     ]
    },
    {
     "name": "stdout",
     "output_type": "stream",
     "text": [
      "['PRO_21443', 'PRO_18511']\n"
     ]
    },
    {
     "name": "stderr",
     "output_type": "stream",
     "text": [
      " 17%|████████▍                                        | 86410/500000 [15:25<1:13:33, 93.71it/s]"
     ]
    },
    {
     "name": "stdout",
     "output_type": "stream",
     "text": [
      "['PRO_16150', 'PRO_8788']\n"
     ]
    },
    {
     "name": "stderr",
     "output_type": "stream",
     "text": [
      " 17%|████████▌                                        | 86741/500000 [15:29<1:11:12, 96.73it/s]"
     ]
    },
    {
     "name": "stdout",
     "output_type": "stream",
     "text": [
      "['PRO_17779', 'PRO_963']\n"
     ]
    },
    {
     "name": "stderr",
     "output_type": "stream",
     "text": [
      " 17%|████████▌                                        | 87171/500000 [15:34<1:11:18, 96.49it/s]"
     ]
    },
    {
     "name": "stdout",
     "output_type": "stream",
     "text": [
      "['PRO_4026', 'PRO_1750']\n"
     ]
    },
    {
     "name": "stderr",
     "output_type": "stream",
     "text": [
      " 18%|████████▌                                        | 87641/500000 [15:39<1:11:47, 95.73it/s]"
     ]
    },
    {
     "name": "stdout",
     "output_type": "stream",
     "text": [
      "['PRO_8136', 'PRO_17482']\n"
     ]
    },
    {
     "name": "stderr",
     "output_type": "stream",
     "text": [
      " 18%|████████▋                                        | 88152/500000 [15:44<1:12:10, 95.11it/s]"
     ]
    },
    {
     "name": "stdout",
     "output_type": "stream",
     "text": [
      "['PRO_9445', 'PRO_2046']\n"
     ]
    },
    {
     "name": "stderr",
     "output_type": "stream",
     "text": [
      " 18%|████████▋                                        | 88414/500000 [15:47<1:11:29, 95.95it/s]"
     ]
    },
    {
     "name": "stdout",
     "output_type": "stream",
     "text": [
      "['PRO_17357', 'PRO_3210']\n"
     ]
    },
    {
     "name": "stderr",
     "output_type": "stream",
     "text": [
      " 18%|████████▊                                        | 89474/500000 [15:58<1:10:22, 97.23it/s]"
     ]
    },
    {
     "name": "stdout",
     "output_type": "stream",
     "text": [
      "['PRO_2656', 'PRO_12853']\n"
     ]
    },
    {
     "name": "stderr",
     "output_type": "stream",
     "text": [
      " 18%|████████▊                                        | 89624/500000 [15:59<1:12:59, 93.70it/s]"
     ]
    },
    {
     "name": "stdout",
     "output_type": "stream",
     "text": [
      "['PRO_8825', 'PRO_84']\n"
     ]
    },
    {
     "name": "stderr",
     "output_type": "stream",
     "text": [
      " 18%|████████▊                                        | 90255/500000 [16:06<1:10:37, 96.70it/s]"
     ]
    },
    {
     "name": "stdout",
     "output_type": "stream",
     "text": [
      "['PRO_9809', 'PRO_6465']\n"
     ]
    },
    {
     "name": "stderr",
     "output_type": "stream",
     "text": [
      " 18%|████████▉                                        | 91055/500000 [16:15<1:11:02, 95.95it/s]"
     ]
    },
    {
     "name": "stdout",
     "output_type": "stream",
     "text": [
      "['PRO_22614', 'PRO_12489']\n"
     ]
    },
    {
     "name": "stderr",
     "output_type": "stream",
     "text": [
      " 18%|█████████                                        | 91996/500000 [16:25<1:09:57, 97.21it/s]"
     ]
    },
    {
     "name": "stdout",
     "output_type": "stream",
     "text": [
      "['PRO_19042', 'PRO_2581']\n"
     ]
    },
    {
     "name": "stderr",
     "output_type": "stream",
     "text": [
      " 19%|█████████                                        | 92927/500000 [16:34<1:11:07, 95.38it/s]"
     ]
    },
    {
     "name": "stdout",
     "output_type": "stream",
     "text": [
      "['PRO_3618', 'PRO_21119']\n"
     ]
    },
    {
     "name": "stderr",
     "output_type": "stream",
     "text": [
      " 19%|█████████▏                                       | 93608/500000 [16:42<1:10:25, 96.17it/s]"
     ]
    },
    {
     "name": "stdout",
     "output_type": "stream",
     "text": [
      "['PRO_7979', 'PRO_7404']\n"
     ]
    },
    {
     "name": "stderr",
     "output_type": "stream",
     "text": [
      " 19%|█████████▎                                       | 94768/500000 [16:54<1:10:21, 95.99it/s]"
     ]
    },
    {
     "name": "stdout",
     "output_type": "stream",
     "text": [
      "['PRO_22678', 'PRO_3281']\n"
     ]
    },
    {
     "name": "stderr",
     "output_type": "stream",
     "text": [
      " 19%|█████████▎                                       | 94828/500000 [16:54<1:10:59, 95.13it/s]"
     ]
    },
    {
     "name": "stdout",
     "output_type": "stream",
     "text": [
      "['PRO_11029', 'PRO_17812']\n"
     ]
    },
    {
     "name": "stderr",
     "output_type": "stream",
     "text": [
      " 19%|█████████▎                                       | 95368/500000 [17:00<1:10:02, 96.28it/s]"
     ]
    },
    {
     "name": "stdout",
     "output_type": "stream",
     "text": [
      "['PRO_21045', 'PRO_1140']\n"
     ]
    },
    {
     "name": "stderr",
     "output_type": "stream",
     "text": [
      " 19%|█████████▌                                       | 97213/500000 [17:20<1:15:08, 89.35it/s]"
     ]
    },
    {
     "name": "stdout",
     "output_type": "stream",
     "text": [
      "['PRO_15053', 'PRO_6547']\n"
     ]
    },
    {
     "name": "stderr",
     "output_type": "stream",
     "text": [
      " 20%|█████████▌                                       | 97601/500000 [17:25<1:12:24, 92.62it/s]"
     ]
    },
    {
     "name": "stdout",
     "output_type": "stream",
     "text": [
      "['PRO_13349', 'PRO_11126']\n"
     ]
    },
    {
     "name": "stderr",
     "output_type": "stream",
     "text": [
      " 20%|█████████▌                                       | 97811/500000 [17:27<1:09:50, 95.98it/s]"
     ]
    },
    {
     "name": "stdout",
     "output_type": "stream",
     "text": [
      "['PRO_22337', 'PRO_2046']\n"
     ]
    },
    {
     "name": "stderr",
     "output_type": "stream",
     "text": [
      " 20%|█████████▌                                       | 98121/500000 [17:30<1:10:42, 94.73it/s]"
     ]
    },
    {
     "name": "stdout",
     "output_type": "stream",
     "text": [
      "['PRO_16199', 'PRO_21686']\n"
     ]
    },
    {
     "name": "stderr",
     "output_type": "stream",
     "text": [
      " 20%|█████████▊                                       | 99813/500000 [17:48<1:09:26, 96.05it/s]"
     ]
    },
    {
     "name": "stdout",
     "output_type": "stream",
     "text": [
      "['PRO_6783', 'PRO_23248']\n"
     ]
    },
    {
     "name": "stderr",
     "output_type": "stream",
     "text": [
      " 20%|█████████▋                                      | 100899/500000 [18:00<1:11:49, 92.62it/s]"
     ]
    },
    {
     "name": "stdout",
     "output_type": "stream",
     "text": [
      "['PRO_8950', 'PRO_127']\n"
     ]
    },
    {
     "name": "stderr",
     "output_type": "stream",
     "text": [
      " 20%|█████████▊                                      | 101919/500000 [18:11<1:08:48, 96.42it/s]"
     ]
    },
    {
     "name": "stdout",
     "output_type": "stream",
     "text": [
      "['PRO_19426', 'PRO_8019']\n"
     ]
    },
    {
     "name": "stderr",
     "output_type": "stream",
     "text": [
      " 21%|█████████▉                                      | 104059/500000 [18:34<1:08:53, 95.80it/s]"
     ]
    },
    {
     "name": "stdout",
     "output_type": "stream",
     "text": [
      "['PRO_22270', 'PRO_22548']\n"
     ]
    },
    {
     "name": "stderr",
     "output_type": "stream",
     "text": [
      " 21%|██████████                                      | 104500/500000 [18:38<1:08:04, 96.84it/s]"
     ]
    },
    {
     "name": "stdout",
     "output_type": "stream",
     "text": [
      "['PRO_5747', 'PRO_17381']\n"
     ]
    },
    {
     "name": "stderr",
     "output_type": "stream",
     "text": [
      " 21%|██████████                                      | 104840/500000 [18:42<1:09:37, 94.59it/s]"
     ]
    },
    {
     "name": "stdout",
     "output_type": "stream",
     "text": [
      "['PRO_8787', 'PRO_7729']\n"
     ]
    },
    {
     "name": "stderr",
     "output_type": "stream",
     "text": [
      " 21%|██████████▏                                     | 105684/500000 [18:51<1:09:46, 94.19it/s]"
     ]
    },
    {
     "name": "stdout",
     "output_type": "stream",
     "text": [
      "['PRO_7499', 'PRO_3988']\n"
     ]
    },
    {
     "name": "stderr",
     "output_type": "stream",
     "text": [
      " 21%|██████████▏                                     | 105805/500000 [18:52<1:07:33, 97.24it/s]"
     ]
    },
    {
     "name": "stdout",
     "output_type": "stream",
     "text": [
      "['PRO_21865', 'PRO_17779']\n"
     ]
    },
    {
     "name": "stderr",
     "output_type": "stream",
     "text": [
      " 21%|██████████▏                                     | 105986/500000 [18:54<1:07:45, 96.91it/s]"
     ]
    },
    {
     "name": "stdout",
     "output_type": "stream",
     "text": [
      "['PRO_8679', 'PRO_869']\n"
     ]
    },
    {
     "name": "stderr",
     "output_type": "stream",
     "text": [
      " 21%|██████████▏                                     | 106076/500000 [18:55<1:09:03, 95.08it/s]"
     ]
    },
    {
     "name": "stdout",
     "output_type": "stream",
     "text": [
      "['PRO_9526', 'PRO_21757']\n"
     ]
    },
    {
     "name": "stderr",
     "output_type": "stream",
     "text": [
      " 21%|██████████▏                                     | 106517/500000 [19:00<1:07:46, 96.77it/s]"
     ]
    },
    {
     "name": "stdout",
     "output_type": "stream",
     "text": [
      "['PRO_5154', 'PRO_13858']\n"
     ]
    },
    {
     "name": "stderr",
     "output_type": "stream",
     "text": [
      " 21%|██████████▏                                     | 106638/500000 [19:01<1:07:20, 97.36it/s]"
     ]
    },
    {
     "name": "stdout",
     "output_type": "stream",
     "text": [
      "['PRO_16271', 'PRO_9772']\n"
     ]
    },
    {
     "name": "stderr",
     "output_type": "stream",
     "text": [
      " 21%|██████████▎                                     | 107028/500000 [19:05<1:09:20, 94.45it/s]"
     ]
    },
    {
     "name": "stdout",
     "output_type": "stream",
     "text": [
      "['PRO_3722', 'PRO_17654']\n"
     ]
    },
    {
     "name": "stderr",
     "output_type": "stream",
     "text": [
      " 21%|██████████▎                                     | 107128/500000 [19:06<1:09:32, 94.17it/s]"
     ]
    },
    {
     "name": "stdout",
     "output_type": "stream",
     "text": [
      "['PRO_11060', 'PRO_8277']\n"
     ]
    },
    {
     "name": "stderr",
     "output_type": "stream",
     "text": [
      " 22%|██████████▎                                     | 107564/500000 [19:11<1:16:51, 85.11it/s]"
     ]
    },
    {
     "name": "stdout",
     "output_type": "stream",
     "text": [
      "['PRO_3219', 'PRO_16781']\n"
     ]
    },
    {
     "name": "stderr",
     "output_type": "stream",
     "text": [
      " 22%|██████████▍                                     | 108732/500000 [19:24<1:07:13, 96.99it/s]"
     ]
    },
    {
     "name": "stdout",
     "output_type": "stream",
     "text": [
      "['PRO_4917', 'PRO_17435']\n"
     ]
    },
    {
     "name": "stderr",
     "output_type": "stream",
     "text": [
      " 22%|██████████▌                                     | 110603/500000 [19:43<1:07:37, 95.97it/s]"
     ]
    },
    {
     "name": "stdout",
     "output_type": "stream",
     "text": [
      "['PRO_2147', 'PRO_7065']\n"
     ]
    },
    {
     "name": "stderr",
     "output_type": "stream",
     "text": [
      " 23%|██████████▉                                     | 114434/500000 [20:24<1:08:21, 94.01it/s]"
     ]
    },
    {
     "name": "stdout",
     "output_type": "stream",
     "text": [
      "['PRO_14254', 'PRO_3385']\n"
     ]
    },
    {
     "name": "stderr",
     "output_type": "stream",
     "text": [
      " 23%|███████████                                     | 114815/500000 [20:28<1:06:55, 95.92it/s]"
     ]
    },
    {
     "name": "stdout",
     "output_type": "stream",
     "text": [
      "['PRO_21734', 'PRO_10261']\n"
     ]
    },
    {
     "name": "stderr",
     "output_type": "stream",
     "text": [
      " 23%|███████████                                     | 115405/500000 [20:34<1:08:28, 93.61it/s]"
     ]
    },
    {
     "name": "stdout",
     "output_type": "stream",
     "text": [
      "['PRO_18003', 'PRO_15572']\n"
     ]
    },
    {
     "name": "stderr",
     "output_type": "stream",
     "text": [
      " 23%|███████████▏                                    | 115976/500000 [20:40<1:06:07, 96.79it/s]"
     ]
    },
    {
     "name": "stdout",
     "output_type": "stream",
     "text": [
      "['PRO_6052', 'PRO_12885']\n"
     ]
    },
    {
     "name": "stderr",
     "output_type": "stream",
     "text": [
      " 23%|███████████▏                                    | 116416/500000 [20:45<1:06:21, 96.35it/s]"
     ]
    },
    {
     "name": "stdout",
     "output_type": "stream",
     "text": [
      "['PRO_15603', 'PRO_22235']\n"
     ]
    },
    {
     "name": "stderr",
     "output_type": "stream",
     "text": [
      " 23%|███████████▏                                    | 116487/500000 [20:45<1:06:04, 96.73it/s]"
     ]
    },
    {
     "name": "stdout",
     "output_type": "stream",
     "text": [
      "['PRO_12924', 'PRO_12229']\n"
     ]
    },
    {
     "name": "stderr",
     "output_type": "stream",
     "text": [
      " 23%|███████████▏                                    | 117078/500000 [20:52<1:06:58, 95.30it/s]"
     ]
    },
    {
     "name": "stdout",
     "output_type": "stream",
     "text": [
      "['PRO_4960', 'PRO_11798']\n"
     ]
    },
    {
     "name": "stderr",
     "output_type": "stream",
     "text": [
      " 24%|███████████▎                                    | 117668/500000 [20:58<1:07:13, 94.79it/s]"
     ]
    },
    {
     "name": "stdout",
     "output_type": "stream",
     "text": [
      "['PRO_19983', 'PRO_7633']\n"
     ]
    },
    {
     "name": "stderr",
     "output_type": "stream",
     "text": [
      " 24%|███████████▎                                    | 117818/500000 [20:59<1:06:49, 95.31it/s]"
     ]
    },
    {
     "name": "stdout",
     "output_type": "stream",
     "text": [
      "['PRO_9433', 'PRO_19084']\n"
     ]
    },
    {
     "name": "stderr",
     "output_type": "stream",
     "text": [
      " 24%|███████████▎                                    | 118158/500000 [21:03<1:06:51, 95.18it/s]"
     ]
    },
    {
     "name": "stdout",
     "output_type": "stream",
     "text": [
      "['PRO_19913', 'PRO_9018']\n"
     ]
    },
    {
     "name": "stderr",
     "output_type": "stream",
     "text": [
      " 24%|███████████▎                                    | 118289/500000 [21:04<1:05:53, 96.56it/s]"
     ]
    },
    {
     "name": "stdout",
     "output_type": "stream",
     "text": [
      "['PRO_1051', 'PRO_4810']\n"
     ]
    },
    {
     "name": "stderr",
     "output_type": "stream",
     "text": [
      " 24%|███████████▍                                    | 118881/500000 [21:11<1:06:23, 95.68it/s]"
     ]
    },
    {
     "name": "stdout",
     "output_type": "stream",
     "text": [
      "['PRO_1671', 'PRO_20355']\n"
     ]
    },
    {
     "name": "stderr",
     "output_type": "stream",
     "text": [
      " 24%|███████████▍                                    | 118992/500000 [21:12<1:06:19, 95.73it/s]"
     ]
    },
    {
     "name": "stdout",
     "output_type": "stream",
     "text": [
      "['PRO_7276', 'PRO_6203']\n"
     ]
    },
    {
     "name": "stderr",
     "output_type": "stream",
     "text": [
      " 24%|███████████▌                                    | 120262/500000 [21:25<1:06:28, 95.21it/s]"
     ]
    },
    {
     "name": "stdout",
     "output_type": "stream",
     "text": [
      "['PRO_7836', 'PRO_8489']\n"
     ]
    },
    {
     "name": "stderr",
     "output_type": "stream",
     "text": [
      " 24%|███████████▌                                    | 120542/500000 [21:28<1:05:58, 95.87it/s]"
     ]
    },
    {
     "name": "stdout",
     "output_type": "stream",
     "text": [
      "['PRO_18018', 'PRO_8618']\n"
     ]
    },
    {
     "name": "stderr",
     "output_type": "stream",
     "text": [
      " 24%|███████████▌                                    | 120693/500000 [21:30<1:05:57, 95.85it/s]"
     ]
    },
    {
     "name": "stdout",
     "output_type": "stream",
     "text": [
      "['PRO_10016', 'PRO_13119']\n"
     ]
    },
    {
     "name": "stderr",
     "output_type": "stream",
     "text": [
      " 24%|███████████▋                                    | 121232/500000 [21:36<1:06:59, 94.24it/s]"
     ]
    },
    {
     "name": "stdout",
     "output_type": "stream",
     "text": [
      "['PRO_4430', 'PRO_7496']\n"
     ]
    },
    {
     "name": "stderr",
     "output_type": "stream",
     "text": [
      " 24%|███████████▋                                    | 121542/500000 [21:39<1:06:36, 94.70it/s]"
     ]
    },
    {
     "name": "stdout",
     "output_type": "stream",
     "text": [
      "['PRO_7158', 'PRO_20463']\n"
     ]
    },
    {
     "name": "stderr",
     "output_type": "stream",
     "text": [
      " 24%|███████████▋                                    | 122363/500000 [21:48<1:05:10, 96.57it/s]"
     ]
    },
    {
     "name": "stdout",
     "output_type": "stream",
     "text": [
      "['PRO_616', 'PRO_2839']\n"
     ]
    },
    {
     "name": "stderr",
     "output_type": "stream",
     "text": [
      " 25%|███████████▊                                    | 122893/500000 [21:53<1:08:01, 92.38it/s]"
     ]
    },
    {
     "name": "stdout",
     "output_type": "stream",
     "text": [
      "['PRO_15544', 'PRO_8436']\n"
     ]
    },
    {
     "name": "stderr",
     "output_type": "stream",
     "text": [
      " 25%|███████████▉                                    | 124552/500000 [22:11<1:06:41, 93.82it/s]"
     ]
    },
    {
     "name": "stdout",
     "output_type": "stream",
     "text": [
      "['PRO_19299', 'PRO_3813']\n"
     ]
    },
    {
     "name": "stderr",
     "output_type": "stream",
     "text": [
      " 25%|████████████▏                                   | 126820/500000 [22:35<1:04:13, 96.85it/s]"
     ]
    },
    {
     "name": "stdout",
     "output_type": "stream",
     "text": [
      "['PRO_22325', 'PRO_3312']\n"
     ]
    },
    {
     "name": "stderr",
     "output_type": "stream",
     "text": [
      " 26%|████████████▎                                   | 127911/500000 [22:47<1:04:39, 95.90it/s]"
     ]
    },
    {
     "name": "stdout",
     "output_type": "stream",
     "text": [
      "['PRO_4528', 'PRO_16317']\n"
     ]
    },
    {
     "name": "stderr",
     "output_type": "stream",
     "text": [
      " 26%|████████████▎                                   | 128041/500000 [22:48<1:06:28, 93.25it/s]"
     ]
    },
    {
     "name": "stdout",
     "output_type": "stream",
     "text": [
      "['PRO_19711', 'PRO_12015']\n"
     ]
    },
    {
     "name": "stderr",
     "output_type": "stream",
     "text": [
      " 26%|████████████▎                                   | 128409/500000 [22:52<1:04:51, 95.50it/s]"
     ]
    },
    {
     "name": "stdout",
     "output_type": "stream",
     "text": [
      "['PRO_18639', 'PRO_13183']\n"
     ]
    },
    {
     "name": "stderr",
     "output_type": "stream",
     "text": [
      " 26%|████████████▍                                   | 128919/500000 [22:58<1:04:40, 95.62it/s]"
     ]
    },
    {
     "name": "stdout",
     "output_type": "stream",
     "text": [
      "['PRO_4461', 'PRO_1032']\n"
     ]
    },
    {
     "name": "stderr",
     "output_type": "stream",
     "text": [
      " 26%|████████████▍                                   | 129646/500000 [23:05<1:04:58, 95.00it/s]"
     ]
    },
    {
     "name": "stdout",
     "output_type": "stream",
     "text": [
      "['PRO_5648', 'PRO_18709']\n"
     ]
    },
    {
     "name": "stderr",
     "output_type": "stream",
     "text": [
      " 26%|████████████▍                                   | 130147/500000 [23:11<1:03:07, 97.64it/s]"
     ]
    },
    {
     "name": "stdout",
     "output_type": "stream",
     "text": [
      "['PRO_4344', 'PRO_3048']\n"
     ]
    },
    {
     "name": "stderr",
     "output_type": "stream",
     "text": [
      " 26%|████████████▍                                   | 130198/500000 [23:11<1:04:12, 96.00it/s]"
     ]
    },
    {
     "name": "stdout",
     "output_type": "stream",
     "text": [
      "['PRO_16891', 'PRO_13653']\n"
     ]
    },
    {
     "name": "stderr",
     "output_type": "stream",
     "text": [
      " 26%|████████████▌                                   | 131008/500000 [23:20<1:04:43, 95.01it/s]"
     ]
    },
    {
     "name": "stdout",
     "output_type": "stream",
     "text": [
      "['PRO_5878', 'PRO_12958']\n"
     ]
    },
    {
     "name": "stderr",
     "output_type": "stream",
     "text": [
      " 26%|████████████▋                                   | 132249/500000 [23:33<1:04:00, 95.75it/s]"
     ]
    },
    {
     "name": "stdout",
     "output_type": "stream",
     "text": [
      "['PRO_13446', 'PRO_19290']\n"
     ]
    },
    {
     "name": "stderr",
     "output_type": "stream",
     "text": [
      " 26%|████████████▋                                   | 132479/500000 [23:35<1:07:02, 91.37it/s]"
     ]
    },
    {
     "name": "stdout",
     "output_type": "stream",
     "text": [
      "['PRO_4850', 'PRO_10399']\n"
     ]
    },
    {
     "name": "stderr",
     "output_type": "stream",
     "text": [
      " 27%|████████████▊                                   | 132960/500000 [23:40<1:04:37, 94.65it/s]"
     ]
    },
    {
     "name": "stdout",
     "output_type": "stream",
     "text": [
      "['PRO_4315', 'PRO_17913']\n"
     ]
    },
    {
     "name": "stderr",
     "output_type": "stream",
     "text": [
      " 27%|████████████▊                                   | 133190/500000 [23:43<1:05:17, 93.62it/s]"
     ]
    },
    {
     "name": "stdout",
     "output_type": "stream",
     "text": [
      "['PRO_14864', 'PRO_7779']\n"
     ]
    },
    {
     "name": "stderr",
     "output_type": "stream",
     "text": [
      " 27%|████████████▊                                   | 133551/500000 [23:47<1:03:55, 95.53it/s]"
     ]
    },
    {
     "name": "stdout",
     "output_type": "stream",
     "text": [
      "['PRO_6560', 'PRO_6101']\n"
     ]
    },
    {
     "name": "stderr",
     "output_type": "stream",
     "text": [
      " 27%|████████████▊                                   | 133671/500000 [23:48<1:03:01, 96.88it/s]"
     ]
    },
    {
     "name": "stdout",
     "output_type": "stream",
     "text": [
      "['PRO_17029', 'PRO_15671']\n"
     ]
    },
    {
     "name": "stderr",
     "output_type": "stream",
     "text": [
      " 27%|████████████▊                                   | 134081/500000 [23:52<1:04:32, 94.50it/s]"
     ]
    },
    {
     "name": "stdout",
     "output_type": "stream",
     "text": [
      "['PRO_11326', 'PRO_17052']\n"
     ]
    },
    {
     "name": "stderr",
     "output_type": "stream",
     "text": [
      " 27%|█████████████                                   | 136482/500000 [24:18<1:03:30, 95.39it/s]"
     ]
    },
    {
     "name": "stdout",
     "output_type": "stream",
     "text": [
      "['PRO_20481', 'PRO_22359']\n"
     ]
    },
    {
     "name": "stderr",
     "output_type": "stream",
     "text": [
      " 27%|█████████████                                   | 136572/500000 [24:19<1:04:30, 93.89it/s]"
     ]
    },
    {
     "name": "stdout",
     "output_type": "stream",
     "text": [
      "['PRO_5492', 'PRO_1253']\n"
     ]
    },
    {
     "name": "stderr",
     "output_type": "stream",
     "text": [
      " 27%|█████████████▏                                  | 137013/500000 [24:23<1:02:45, 96.40it/s]"
     ]
    },
    {
     "name": "stdout",
     "output_type": "stream",
     "text": [
      "['PRO_19797', 'PRO_21377']\n"
     ]
    },
    {
     "name": "stderr",
     "output_type": "stream",
     "text": [
      " 27%|█████████████▏                                  | 137154/500000 [24:25<1:02:15, 97.12it/s]"
     ]
    },
    {
     "name": "stdout",
     "output_type": "stream",
     "text": [
      "['PRO_2516', 'PRO_10508']\n"
     ]
    },
    {
     "name": "stderr",
     "output_type": "stream",
     "text": [
      " 27%|█████████████▏                                  | 137474/500000 [24:28<1:04:16, 94.00it/s]"
     ]
    },
    {
     "name": "stdout",
     "output_type": "stream",
     "text": [
      "['PRO_21099', 'PRO_5903']\n"
     ]
    },
    {
     "name": "stderr",
     "output_type": "stream",
     "text": [
      " 28%|█████████████▏                                  | 137604/500000 [24:30<1:04:16, 93.98it/s]"
     ]
    },
    {
     "name": "stdout",
     "output_type": "stream",
     "text": [
      "['PRO_5582', 'PRO_9263']\n"
     ]
    },
    {
     "name": "stderr",
     "output_type": "stream",
     "text": [
      " 28%|█████████████▏                                  | 137874/500000 [24:33<1:03:35, 94.91it/s]"
     ]
    },
    {
     "name": "stdout",
     "output_type": "stream",
     "text": [
      "['PRO_12709', 'PRO_12536']\n"
     ]
    },
    {
     "name": "stderr",
     "output_type": "stream",
     "text": [
      " 28%|█████████████▏                                  | 137945/500000 [24:33<1:03:04, 95.66it/s]"
     ]
    },
    {
     "name": "stdout",
     "output_type": "stream",
     "text": [
      "['PRO_6572', 'PRO_14077']\n"
     ]
    },
    {
     "name": "stderr",
     "output_type": "stream",
     "text": [
      " 28%|█████████████▌                                  | 141022/500000 [25:07<1:07:23, 88.78it/s]"
     ]
    },
    {
     "name": "stdout",
     "output_type": "stream",
     "text": [
      "['PRO_7458', 'PRO_17774']\n"
     ]
    },
    {
     "name": "stderr",
     "output_type": "stream",
     "text": [
      " 28%|█████████████▌                                  | 141472/500000 [25:12<1:02:07, 96.19it/s]"
     ]
    },
    {
     "name": "stdout",
     "output_type": "stream",
     "text": [
      "['PRO_13726', 'PRO_20955']\n"
     ]
    },
    {
     "name": "stderr",
     "output_type": "stream",
     "text": [
      " 28%|█████████████▌                                  | 141622/500000 [25:13<1:03:42, 93.76it/s]"
     ]
    },
    {
     "name": "stdout",
     "output_type": "stream",
     "text": [
      "['PRO_2990', 'PRO_17874']\n"
     ]
    },
    {
     "name": "stderr",
     "output_type": "stream",
     "text": [
      " 29%|█████████████▋                                  | 142583/500000 [25:24<1:01:44, 96.48it/s]"
     ]
    },
    {
     "name": "stdout",
     "output_type": "stream",
     "text": [
      "['PRO_14289', 'PRO_6458']\n"
     ]
    },
    {
     "name": "stderr",
     "output_type": "stream",
     "text": [
      " 29%|█████████████▋                                  | 142943/500000 [25:27<1:02:13, 95.64it/s]"
     ]
    },
    {
     "name": "stdout",
     "output_type": "stream",
     "text": [
      "['PRO_1512', 'PRO_8298']\n",
      "['PRO_874', 'PRO_11857']\n"
     ]
    },
    {
     "name": "stderr",
     "output_type": "stream",
     "text": [
      " 29%|█████████████▉                                  | 145103/500000 [25:50<1:02:55, 94.01it/s]"
     ]
    },
    {
     "name": "stdout",
     "output_type": "stream",
     "text": [
      "['PRO_14217', 'PRO_21173']\n"
     ]
    },
    {
     "name": "stderr",
     "output_type": "stream",
     "text": [
      " 29%|██████████████                                  | 146243/500000 [26:03<1:03:00, 93.57it/s]"
     ]
    },
    {
     "name": "stdout",
     "output_type": "stream",
     "text": [
      "['PRO_7490', 'PRO_1148']\n"
     ]
    },
    {
     "name": "stderr",
     "output_type": "stream",
     "text": [
      " 29%|██████████████                                  | 146672/500000 [26:07<1:01:59, 94.99it/s]"
     ]
    },
    {
     "name": "stdout",
     "output_type": "stream",
     "text": [
      "['PRO_10033', 'PRO_21780']\n"
     ]
    },
    {
     "name": "stderr",
     "output_type": "stream",
     "text": [
      " 30%|██████████████▏                                 | 147871/500000 [26:20<1:00:49, 96.50it/s]"
     ]
    },
    {
     "name": "stdout",
     "output_type": "stream",
     "text": [
      "['PRO_9646', 'PRO_15743']\n"
     ]
    },
    {
     "name": "stderr",
     "output_type": "stream",
     "text": [
      " 30%|██████████████▎                                 | 149632/500000 [26:40<1:07:00, 87.15it/s]"
     ]
    },
    {
     "name": "stdout",
     "output_type": "stream",
     "text": [
      "['PRO_6692', 'PRO_5861']\n"
     ]
    },
    {
     "name": "stderr",
     "output_type": "stream",
     "text": [
      " 30%|██████████████▍                                 | 150325/500000 [26:47<1:01:30, 94.75it/s]"
     ]
    },
    {
     "name": "stdout",
     "output_type": "stream",
     "text": [
      "['PRO_12495', 'PRO_10447']\n"
     ]
    },
    {
     "name": "stderr",
     "output_type": "stream",
     "text": [
      " 30%|██████████████▍                                 | 150476/500000 [26:49<1:00:42, 95.96it/s]"
     ]
    },
    {
     "name": "stdout",
     "output_type": "stream",
     "text": [
      "['PRO_10862', 'PRO_19918']\n"
     ]
    },
    {
     "name": "stderr",
     "output_type": "stream",
     "text": [
      " 30%|██████████████▌                                 | 152230/500000 [27:09<1:07:46, 85.52it/s]"
     ]
    },
    {
     "name": "stdout",
     "output_type": "stream",
     "text": [
      "['PRO_7218', 'PRO_18985']\n"
     ]
    },
    {
     "name": "stderr",
     "output_type": "stream",
     "text": [
      " 30%|██████████████▌                                 | 152287/500000 [27:09<1:05:17, 88.77it/s]"
     ]
    },
    {
     "name": "stdout",
     "output_type": "stream",
     "text": [
      "['PRO_23110', 'PRO_2461']\n"
     ]
    },
    {
     "name": "stderr",
     "output_type": "stream",
     "text": [
      " 30%|██████████████▌                                 | 152305/500000 [27:10<1:05:14, 88.81it/s]"
     ]
    },
    {
     "name": "stdout",
     "output_type": "stream",
     "text": [
      "['PRO_10431', 'PRO_13711']\n"
     ]
    },
    {
     "name": "stderr",
     "output_type": "stream",
     "text": [
      " 31%|██████████████▋                                 | 153136/500000 [27:19<1:00:47, 95.09it/s]"
     ]
    },
    {
     "name": "stdout",
     "output_type": "stream",
     "text": [
      "['PRO_9646', 'PRO_21077']\n"
     ]
    },
    {
     "name": "stderr",
     "output_type": "stream",
     "text": [
      " 31%|██████████████▊                                 | 153666/500000 [27:24<1:00:53, 94.79it/s]"
     ]
    },
    {
     "name": "stdout",
     "output_type": "stream",
     "text": [
      "['PRO_7051', 'PRO_12192']\n"
     ]
    },
    {
     "name": "stderr",
     "output_type": "stream",
     "text": [
      " 31%|██████████████▊                                 | 153916/500000 [27:27<1:01:24, 93.92it/s]"
     ]
    },
    {
     "name": "stdout",
     "output_type": "stream",
     "text": [
      "['PRO_21651', 'PRO_137']\n"
     ]
    },
    {
     "name": "stderr",
     "output_type": "stream",
     "text": [
      " 31%|██████████████▊                                 | 154156/500000 [27:29<1:02:40, 91.97it/s]"
     ]
    },
    {
     "name": "stdout",
     "output_type": "stream",
     "text": [
      "['PRO_2945', 'PRO_194']\n"
     ]
    },
    {
     "name": "stderr",
     "output_type": "stream",
     "text": [
      " 31%|██████████████▊                                 | 154817/500000 [27:37<1:00:19, 95.38it/s]"
     ]
    },
    {
     "name": "stdout",
     "output_type": "stream",
     "text": [
      "['PRO_7962', 'PRO_10665']\n"
     ]
    },
    {
     "name": "stderr",
     "output_type": "stream",
     "text": [
      " 31%|███████████████▌                                  | 155228/500000 [27:41<59:44, 96.20it/s]"
     ]
    },
    {
     "name": "stdout",
     "output_type": "stream",
     "text": [
      "['PRO_9715', 'PRO_14072']\n"
     ]
    },
    {
     "name": "stderr",
     "output_type": "stream",
     "text": [
      " 31%|██████████████▉                                 | 155468/500000 [27:43<1:00:44, 94.53it/s]"
     ]
    },
    {
     "name": "stdout",
     "output_type": "stream",
     "text": [
      "['PRO_15789', 'PRO_10177']\n"
     ]
    },
    {
     "name": "stderr",
     "output_type": "stream",
     "text": [
      " 31%|███████████████▋                                  | 157479/500000 [28:05<59:06, 96.57it/s]"
     ]
    },
    {
     "name": "stdout",
     "output_type": "stream",
     "text": [
      "['PRO_7297', 'PRO_14829']\n"
     ]
    },
    {
     "name": "stderr",
     "output_type": "stream",
     "text": [
      " 32%|███████████████▉                                  | 158986/500000 [28:21<59:27, 95.60it/s]"
     ]
    },
    {
     "name": "stdout",
     "output_type": "stream",
     "text": [
      "['PRO_3912', 'PRO_14570']\n"
     ]
    },
    {
     "name": "stderr",
     "output_type": "stream",
     "text": [
      " 32%|███████████████▉                                  | 159217/500000 [28:23<59:06, 96.10it/s]"
     ]
    },
    {
     "name": "stdout",
     "output_type": "stream",
     "text": [
      "['PRO_17809', 'PRO_9568']\n"
     ]
    },
    {
     "name": "stderr",
     "output_type": "stream",
     "text": [
      " 32%|███████████████▍                                | 160347/500000 [28:35<1:01:03, 92.72it/s]"
     ]
    },
    {
     "name": "stdout",
     "output_type": "stream",
     "text": [
      "['PRO_12658', 'PRO_17690']\n"
     ]
    },
    {
     "name": "stderr",
     "output_type": "stream",
     "text": [
      " 32%|███████████████▍                                | 160494/500000 [28:37<1:04:34, 87.62it/s]"
     ]
    },
    {
     "name": "stdout",
     "output_type": "stream",
     "text": [
      "['PRO_12338', 'PRO_17632']\n"
     ]
    },
    {
     "name": "stderr",
     "output_type": "stream",
     "text": [
      " 32%|███████████████▌                                | 161480/500000 [28:47<1:03:01, 89.51it/s]"
     ]
    },
    {
     "name": "stdout",
     "output_type": "stream",
     "text": [
      "['PRO_12151', 'PRO_5053']\n"
     ]
    },
    {
     "name": "stderr",
     "output_type": "stream",
     "text": [
      " 32%|███████████████▌                                | 161530/500000 [28:48<1:00:13, 93.68it/s]"
     ]
    },
    {
     "name": "stdout",
     "output_type": "stream",
     "text": [
      "['PRO_18420', 'PRO_4042']\n"
     ]
    },
    {
     "name": "stderr",
     "output_type": "stream",
     "text": [
      " 32%|████████████████▏                                 | 161880/500000 [28:52<58:52, 95.72it/s]"
     ]
    },
    {
     "name": "stdout",
     "output_type": "stream",
     "text": [
      "['PRO_2206', 'PRO_15034']\n"
     ]
    },
    {
     "name": "stderr",
     "output_type": "stream",
     "text": [
      " 33%|████████████████▎                                 | 162520/500000 [28:59<59:52, 93.94it/s]"
     ]
    },
    {
     "name": "stdout",
     "output_type": "stream",
     "text": [
      "['PRO_20112', 'PRO_1812']\n"
     ]
    },
    {
     "name": "stderr",
     "output_type": "stream",
     "text": [
      " 33%|████████████████▎                                 | 162930/500000 [29:03<59:47, 93.95it/s]"
     ]
    },
    {
     "name": "stdout",
     "output_type": "stream",
     "text": [
      "['PRO_4110', 'PRO_9354']\n"
     ]
    },
    {
     "name": "stderr",
     "output_type": "stream",
     "text": [
      " 33%|███████████████▋                                | 163230/500000 [29:06<1:00:04, 93.43it/s]"
     ]
    },
    {
     "name": "stdout",
     "output_type": "stream",
     "text": [
      "['PRO_11725', 'PRO_3626']\n"
     ]
    },
    {
     "name": "stderr",
     "output_type": "stream",
     "text": [
      " 33%|███████████████▊                                | 164076/500000 [29:16<1:00:01, 93.28it/s]"
     ]
    },
    {
     "name": "stdout",
     "output_type": "stream",
     "text": [
      "['PRO_16781', 'PRO_11509']\n"
     ]
    },
    {
     "name": "stderr",
     "output_type": "stream",
     "text": [
      " 33%|███████████████▊                                | 164854/500000 [29:25<1:01:14, 91.21it/s]"
     ]
    },
    {
     "name": "stdout",
     "output_type": "stream",
     "text": [
      "['PRO_6714', 'PRO_20985']\n"
     ]
    },
    {
     "name": "stderr",
     "output_type": "stream",
     "text": [
      " 33%|████████████████                                | 166987/500000 [29:48<1:01:17, 90.55it/s]"
     ]
    },
    {
     "name": "stdout",
     "output_type": "stream",
     "text": [
      "['PRO_14441', 'PRO_7752']\n"
     ]
    },
    {
     "name": "stderr",
     "output_type": "stream",
     "text": [
      " 33%|████████████████                                | 167312/500000 [29:52<1:02:27, 88.78it/s]"
     ]
    },
    {
     "name": "stdout",
     "output_type": "stream",
     "text": [
      "['PRO_21995', 'PRO_7887']\n"
     ]
    },
    {
     "name": "stderr",
     "output_type": "stream",
     "text": [
      " 34%|████████████████▏                               | 168651/500000 [30:07<1:01:43, 89.48it/s]"
     ]
    },
    {
     "name": "stdout",
     "output_type": "stream",
     "text": [
      "['PRO_6807', 'PRO_3224']\n"
     ]
    },
    {
     "name": "stderr",
     "output_type": "stream",
     "text": [
      " 34%|████████████████▏                               | 169259/500000 [30:15<1:02:55, 87.60it/s]"
     ]
    },
    {
     "name": "stdout",
     "output_type": "stream",
     "text": [
      "['PRO_1425', 'PRO_17418']\n"
     ]
    },
    {
     "name": "stderr",
     "output_type": "stream",
     "text": [
      " 34%|████████████████▉                                 | 169699/500000 [30:20<59:48, 92.04it/s]"
     ]
    },
    {
     "name": "stdout",
     "output_type": "stream",
     "text": [
      "['PRO_15249', 'PRO_12075']\n"
     ]
    },
    {
     "name": "stderr",
     "output_type": "stream",
     "text": [
      " 34%|█████████████████▏                                | 171585/500000 [30:40<58:40, 93.28it/s]"
     ]
    },
    {
     "name": "stdout",
     "output_type": "stream",
     "text": [
      "['PRO_2413', 'PRO_12500']\n"
     ]
    },
    {
     "name": "stderr",
     "output_type": "stream",
     "text": [
      " 35%|█████████████████▎                                | 172635/500000 [30:52<58:05, 93.92it/s]"
     ]
    },
    {
     "name": "stdout",
     "output_type": "stream",
     "text": [
      "['PRO_11438', 'PRO_2356']\n"
     ]
    },
    {
     "name": "stderr",
     "output_type": "stream",
     "text": [
      " 35%|█████████████████▎                                | 172854/500000 [30:54<59:42, 91.31it/s]"
     ]
    },
    {
     "name": "stdout",
     "output_type": "stream",
     "text": [
      "['PRO_6119', 'PRO_16819']\n"
     ]
    },
    {
     "name": "stderr",
     "output_type": "stream",
     "text": [
      " 35%|█████████████████▎                                | 172934/500000 [30:55<58:19, 93.46it/s]"
     ]
    },
    {
     "name": "stdout",
     "output_type": "stream",
     "text": [
      "['PRO_11725', 'PRO_10308']\n"
     ]
    },
    {
     "name": "stderr",
     "output_type": "stream",
     "text": [
      " 35%|█████████████████▎                                | 173115/500000 [30:57<56:52, 95.80it/s]"
     ]
    },
    {
     "name": "stdout",
     "output_type": "stream",
     "text": [
      "['PRO_6753', 'PRO_19290']\n"
     ]
    },
    {
     "name": "stderr",
     "output_type": "stream",
     "text": [
      " 35%|█████████████████▎                                | 173365/500000 [31:00<57:12, 95.15it/s]"
     ]
    },
    {
     "name": "stdout",
     "output_type": "stream",
     "text": [
      "['PRO_17874', 'PRO_11471']\n"
     ]
    },
    {
     "name": "stderr",
     "output_type": "stream",
     "text": [
      " 35%|█████████████████▎                                | 173605/500000 [31:02<57:57, 93.86it/s]"
     ]
    },
    {
     "name": "stdout",
     "output_type": "stream",
     "text": [
      "['PRO_19605', 'PRO_13456']\n"
     ]
    },
    {
     "name": "stderr",
     "output_type": "stream",
     "text": [
      " 35%|█████████████████▌                                | 175103/500000 [31:18<59:55, 90.37it/s]"
     ]
    },
    {
     "name": "stdout",
     "output_type": "stream",
     "text": [
      "['PRO_15449', 'PRO_3336']\n"
     ]
    },
    {
     "name": "stderr",
     "output_type": "stream",
     "text": [
      " 35%|████████████████▊                               | 175417/500000 [31:22<1:02:19, 86.81it/s]"
     ]
    },
    {
     "name": "stdout",
     "output_type": "stream",
     "text": [
      "['PRO_1809', 'PRO_881']\n"
     ]
    },
    {
     "name": "stderr",
     "output_type": "stream",
     "text": [
      " 35%|█████████████████▋                                | 176834/500000 [31:37<57:48, 93.16it/s]"
     ]
    },
    {
     "name": "stdout",
     "output_type": "stream",
     "text": [
      "['PRO_20097', 'PRO_8063']\n"
     ]
    },
    {
     "name": "stderr",
     "output_type": "stream",
     "text": [
      " 35%|█████████████████▋                                | 176995/500000 [31:39<56:29, 95.30it/s]"
     ]
    },
    {
     "name": "stdout",
     "output_type": "stream",
     "text": [
      "['PRO_22364', 'PRO_13992']\n"
     ]
    },
    {
     "name": "stderr",
     "output_type": "stream",
     "text": [
      " 35%|█████████████████▋                                | 177205/500000 [31:41<59:45, 90.04it/s]"
     ]
    },
    {
     "name": "stdout",
     "output_type": "stream",
     "text": [
      "['PRO_8431', 'PRO_9799']\n"
     ]
    },
    {
     "name": "stderr",
     "output_type": "stream",
     "text": [
      " 36%|█████████████████▊                                | 177596/500000 [31:46<55:09, 97.42it/s]"
     ]
    },
    {
     "name": "stdout",
     "output_type": "stream",
     "text": [
      "['PRO_5534', 'PRO_19621']\n"
     ]
    },
    {
     "name": "stderr",
     "output_type": "stream",
     "text": [
      " 36%|█████████████████▉                                | 178756/500000 [31:58<55:44, 96.05it/s]"
     ]
    },
    {
     "name": "stdout",
     "output_type": "stream",
     "text": [
      "['PRO_17044', 'PRO_3127']\n"
     ]
    },
    {
     "name": "stderr",
     "output_type": "stream",
     "text": [
      " 36%|█████████████████▉                                | 178976/500000 [32:00<56:54, 94.02it/s]"
     ]
    },
    {
     "name": "stdout",
     "output_type": "stream",
     "text": [
      "['PRO_16689', 'PRO_16047']\n"
     ]
    },
    {
     "name": "stderr",
     "output_type": "stream",
     "text": [
      " 36%|█████████████████▉                                | 179465/500000 [32:06<58:17, 91.66it/s]"
     ]
    },
    {
     "name": "stdout",
     "output_type": "stream",
     "text": [
      "['PRO_15034', 'PRO_11766']\n"
     ]
    },
    {
     "name": "stderr",
     "output_type": "stream",
     "text": [
      " 36%|█████████████████▉                                | 179825/500000 [32:10<56:38, 94.22it/s]"
     ]
    },
    {
     "name": "stdout",
     "output_type": "stream",
     "text": [
      "['PRO_5519', 'PRO_1512']\n"
     ]
    },
    {
     "name": "stderr",
     "output_type": "stream",
     "text": [
      " 36%|██████████████████                                | 180914/500000 [32:21<55:58, 95.01it/s]"
     ]
    },
    {
     "name": "stdout",
     "output_type": "stream",
     "text": [
      "['PRO_16047', 'PRO_20821']\n"
     ]
    },
    {
     "name": "stderr",
     "output_type": "stream",
     "text": [
      " 36%|██████████████████▏                               | 181822/500000 [32:31<56:53, 93.21it/s]"
     ]
    },
    {
     "name": "stdout",
     "output_type": "stream",
     "text": [
      "['PRO_8973', 'PRO_21300']\n"
     ]
    },
    {
     "name": "stderr",
     "output_type": "stream",
     "text": [
      " 36%|██████████████████▏                               | 181942/500000 [32:32<57:33, 92.11it/s]"
     ]
    },
    {
     "name": "stdout",
     "output_type": "stream",
     "text": [
      "['PRO_10369', 'PRO_13766']\n"
     ]
    },
    {
     "name": "stderr",
     "output_type": "stream",
     "text": [
      " 36%|██████████████████▏                               | 182385/500000 [32:37<55:38, 95.15it/s]"
     ]
    },
    {
     "name": "stdout",
     "output_type": "stream",
     "text": [
      "['PRO_9977', 'PRO_5306']\n"
     ]
    },
    {
     "name": "stderr",
     "output_type": "stream",
     "text": [
      " 37%|██████████████████▎                               | 182585/500000 [32:39<57:48, 91.51it/s]"
     ]
    },
    {
     "name": "stdout",
     "output_type": "stream",
     "text": [
      "['PRO_22593', 'PRO_20532']\n"
     ]
    },
    {
     "name": "stderr",
     "output_type": "stream",
     "text": [
      " 37%|██████████████████▎                               | 183432/500000 [32:49<54:55, 96.07it/s]"
     ]
    },
    {
     "name": "stdout",
     "output_type": "stream",
     "text": [
      "['PRO_819', 'PRO_8583']\n"
     ]
    },
    {
     "name": "stderr",
     "output_type": "stream",
     "text": [
      " 37%|██████████████████▍                               | 184122/500000 [32:56<55:32, 94.78it/s]"
     ]
    },
    {
     "name": "stdout",
     "output_type": "stream",
     "text": [
      "['PRO_6751', 'PRO_8458']\n"
     ]
    },
    {
     "name": "stderr",
     "output_type": "stream",
     "text": [
      " 37%|██████████████████▍                               | 184544/500000 [33:00<53:52, 97.59it/s]"
     ]
    },
    {
     "name": "stdout",
     "output_type": "stream",
     "text": [
      "['PRO_240', 'PRO_7259']\n"
     ]
    },
    {
     "name": "stderr",
     "output_type": "stream",
     "text": [
      " 37%|██████████████████▋                               | 186342/500000 [33:20<55:52, 93.57it/s]"
     ]
    },
    {
     "name": "stdout",
     "output_type": "stream",
     "text": [
      "['PRO_18019', 'PRO_16621']\n"
     ]
    },
    {
     "name": "stderr",
     "output_type": "stream",
     "text": [
      " 37%|██████████████████▋                               | 186592/500000 [33:22<54:54, 95.14it/s]"
     ]
    },
    {
     "name": "stdout",
     "output_type": "stream",
     "text": [
      "['PRO_3910', 'PRO_12400']\n"
     ]
    },
    {
     "name": "stderr",
     "output_type": "stream",
     "text": [
      " 38%|██████████████████▊                               | 187533/500000 [33:32<53:37, 97.10it/s]"
     ]
    },
    {
     "name": "stdout",
     "output_type": "stream",
     "text": [
      "['PRO_21195', 'PRO_6460']\n"
     ]
    },
    {
     "name": "stderr",
     "output_type": "stream",
     "text": [
      " 38%|██████████████████▊                               | 187834/500000 [33:36<55:46, 93.29it/s]"
     ]
    },
    {
     "name": "stdout",
     "output_type": "stream",
     "text": [
      "['PRO_18496', 'PRO_679']\n"
     ]
    },
    {
     "name": "stderr",
     "output_type": "stream",
     "text": [
      " 38%|██████████████████▉                               | 188904/500000 [33:47<57:17, 90.49it/s]"
     ]
    },
    {
     "name": "stdout",
     "output_type": "stream",
     "text": [
      "['PRO_11435', 'PRO_12132']\n"
     ]
    },
    {
     "name": "stderr",
     "output_type": "stream",
     "text": [
      " 38%|███████████████████                               | 190401/500000 [34:04<55:08, 93.59it/s]"
     ]
    },
    {
     "name": "stdout",
     "output_type": "stream",
     "text": [
      "['PRO_3353', 'PRO_19447']\n"
     ]
    },
    {
     "name": "stderr",
     "output_type": "stream",
     "text": [
      " 38%|███████████████████                               | 191178/500000 [34:12<53:28, 96.26it/s]"
     ]
    },
    {
     "name": "stdout",
     "output_type": "stream",
     "text": [
      "['PRO_448', 'PRO_9975']\n"
     ]
    },
    {
     "name": "stderr",
     "output_type": "stream",
     "text": [
      " 38%|███████████████████▏                              | 191988/500000 [34:20<53:06, 96.67it/s]"
     ]
    },
    {
     "name": "stdout",
     "output_type": "stream",
     "text": [
      "['PRO_9228', 'PRO_1758']\n"
     ]
    },
    {
     "name": "stderr",
     "output_type": "stream",
     "text": [
      " 39%|███████████████████▎                              | 192658/500000 [34:28<56:42, 90.32it/s]"
     ]
    },
    {
     "name": "stdout",
     "output_type": "stream",
     "text": [
      "['PRO_17494', 'PRO_4879']\n"
     ]
    },
    {
     "name": "stderr",
     "output_type": "stream",
     "text": [
      " 39%|███████████████████▎                              | 193108/500000 [34:32<53:31, 95.56it/s]"
     ]
    },
    {
     "name": "stdout",
     "output_type": "stream",
     "text": [
      "['PRO_19856', 'PRO_15413']\n"
     ]
    },
    {
     "name": "stderr",
     "output_type": "stream",
     "text": [
      " 39%|███████████████████▎                              | 193138/500000 [34:33<53:30, 95.58it/s]"
     ]
    },
    {
     "name": "stdout",
     "output_type": "stream",
     "text": [
      "['PRO_11875', 'PRO_2481']\n"
     ]
    },
    {
     "name": "stderr",
     "output_type": "stream",
     "text": [
      " 39%|███████████████████▍                              | 194509/500000 [34:47<52:36, 96.78it/s]"
     ]
    },
    {
     "name": "stdout",
     "output_type": "stream",
     "text": [
      "['PRO_10933', 'PRO_18709']\n"
     ]
    },
    {
     "name": "stderr",
     "output_type": "stream",
     "text": [
      " 39%|███████████████████▍                              | 194699/500000 [34:49<52:34, 96.78it/s]"
     ]
    },
    {
     "name": "stdout",
     "output_type": "stream",
     "text": [
      "['PRO_16150', 'PRO_6264']\n"
     ]
    },
    {
     "name": "stderr",
     "output_type": "stream",
     "text": [
      " 39%|███████████████████▍                              | 194839/500000 [34:51<55:00, 92.45it/s]"
     ]
    },
    {
     "name": "stdout",
     "output_type": "stream",
     "text": [
      "['PRO_11875', 'PRO_8811']\n"
     ]
    },
    {
     "name": "stderr",
     "output_type": "stream",
     "text": [
      " 39%|███████████████████▌                              | 195189/500000 [34:54<53:08, 95.61it/s]"
     ]
    },
    {
     "name": "stdout",
     "output_type": "stream",
     "text": [
      "['PRO_5659', 'PRO_12509']\n"
     ]
    },
    {
     "name": "stderr",
     "output_type": "stream",
     "text": [
      " 39%|███████████████████▌                              | 195229/500000 [34:55<53:48, 94.39it/s]"
     ]
    },
    {
     "name": "stdout",
     "output_type": "stream",
     "text": [
      "['PRO_13825', 'PRO_10273']\n"
     ]
    },
    {
     "name": "stderr",
     "output_type": "stream",
     "text": [
      " 39%|███████████████████▋                              | 196649/500000 [35:10<53:27, 94.56it/s]"
     ]
    },
    {
     "name": "stdout",
     "output_type": "stream",
     "text": [
      "['PRO_5139', 'PRO_3281']\n"
     ]
    },
    {
     "name": "stderr",
     "output_type": "stream",
     "text": [
      " 39%|███████████████████▋                              | 197219/500000 [35:16<54:29, 92.61it/s]"
     ]
    },
    {
     "name": "stdout",
     "output_type": "stream",
     "text": [
      "['PRO_13770', 'PRO_7923']\n"
     ]
    },
    {
     "name": "stderr",
     "output_type": "stream",
     "text": [
      " 39%|███████████████████▋                              | 197399/500000 [35:18<54:55, 91.83it/s]"
     ]
    },
    {
     "name": "stdout",
     "output_type": "stream",
     "text": [
      "['PRO_11419', 'PRO_11749']\n"
     ]
    },
    {
     "name": "stderr",
     "output_type": "stream",
     "text": [
      " 40%|███████████████████▉                              | 199245/500000 [35:39<54:48, 91.47it/s]"
     ]
    },
    {
     "name": "stdout",
     "output_type": "stream",
     "text": [
      "['PRO_13055', 'PRO_8451']\n"
     ]
    },
    {
     "name": "stderr",
     "output_type": "stream",
     "text": [
      " 40%|███████████████████▉                              | 199345/500000 [35:40<54:38, 91.70it/s]"
     ]
    },
    {
     "name": "stdout",
     "output_type": "stream",
     "text": [
      "['PRO_4315', 'PRO_769']\n"
     ]
    },
    {
     "name": "stderr",
     "output_type": "stream",
     "text": [
      " 40%|███████████████████▉                              | 199525/500000 [35:42<55:37, 90.03it/s]"
     ]
    },
    {
     "name": "stdout",
     "output_type": "stream",
     "text": [
      "['PRO_5617', 'PRO_14302']\n"
     ]
    },
    {
     "name": "stderr",
     "output_type": "stream",
     "text": [
      " 40%|███████████████████▉                              | 199763/500000 [35:44<53:45, 93.09it/s]"
     ]
    },
    {
     "name": "stdout",
     "output_type": "stream",
     "text": [
      "['PRO_8', 'PRO_21741']\n"
     ]
    },
    {
     "name": "stderr",
     "output_type": "stream",
     "text": [
      " 40%|████████████████████                              | 200272/500000 [35:50<53:37, 93.16it/s]"
     ]
    },
    {
     "name": "stdout",
     "output_type": "stream",
     "text": [
      "['PRO_3312', 'PRO_6110']\n"
     ]
    },
    {
     "name": "stderr",
     "output_type": "stream",
     "text": [
      " 40%|████████████████████                              | 200743/500000 [35:55<51:43, 96.43it/s]"
     ]
    },
    {
     "name": "stdout",
     "output_type": "stream",
     "text": [
      "['PRO_10638', 'PRO_18739']\n"
     ]
    },
    {
     "name": "stderr",
     "output_type": "stream",
     "text": [
      " 40%|████████████████████▏                             | 201911/500000 [36:08<51:55, 95.69it/s]"
     ]
    },
    {
     "name": "stdout",
     "output_type": "stream",
     "text": [
      "['PRO_20526', 'PRO_14956']\n"
     ]
    },
    {
     "name": "stderr",
     "output_type": "stream",
     "text": [
      " 40%|████████████████████▏                             | 202371/500000 [36:13<54:24, 91.17it/s]"
     ]
    },
    {
     "name": "stdout",
     "output_type": "stream",
     "text": [
      "['PRO_8396', 'PRO_1055']\n"
     ]
    },
    {
     "name": "stderr",
     "output_type": "stream",
     "text": [
      " 41%|████████████████████▎                             | 202652/500000 [36:16<51:53, 95.51it/s]"
     ]
    },
    {
     "name": "stdout",
     "output_type": "stream",
     "text": [
      "['PRO_14367', 'PRO_5773']\n"
     ]
    },
    {
     "name": "stderr",
     "output_type": "stream",
     "text": [
      " 41%|████████████████████▎                             | 202672/500000 [36:16<54:23, 91.10it/s]"
     ]
    },
    {
     "name": "stdout",
     "output_type": "stream",
     "text": [
      "['PRO_19575', 'PRO_5258']\n"
     ]
    },
    {
     "name": "stderr",
     "output_type": "stream",
     "text": [
      " 41%|████████████████████▎                             | 203632/500000 [36:26<52:03, 94.87it/s]"
     ]
    },
    {
     "name": "stdout",
     "output_type": "stream",
     "text": [
      "['PRO_22513', 'PRO_19326']\n"
     ]
    },
    {
     "name": "stderr",
     "output_type": "stream",
     "text": [
      " 41%|████████████████████▍                             | 204103/500000 [36:31<50:34, 97.51it/s]"
     ]
    },
    {
     "name": "stdout",
     "output_type": "stream",
     "text": [
      "['PRO_13132', 'PRO_21757']\n"
     ]
    },
    {
     "name": "stderr",
     "output_type": "stream",
     "text": [
      " 41%|████████████████████▍                             | 204504/500000 [36:35<51:06, 96.36it/s]"
     ]
    },
    {
     "name": "stdout",
     "output_type": "stream",
     "text": [
      "['PRO_10192', 'PRO_5951']\n"
     ]
    },
    {
     "name": "stderr",
     "output_type": "stream",
     "text": [
      " 41%|████████████████████▌                             | 205915/500000 [36:50<50:46, 96.55it/s]"
     ]
    },
    {
     "name": "stdout",
     "output_type": "stream",
     "text": [
      "['PRO_4870', 'PRO_5856']\n"
     ]
    },
    {
     "name": "stderr",
     "output_type": "stream",
     "text": [
      " 41%|████████████████████▌                             | 206016/500000 [36:51<50:52, 96.32it/s]"
     ]
    },
    {
     "name": "stdout",
     "output_type": "stream",
     "text": [
      "['PRO_22018', 'PRO_7224']\n"
     ]
    },
    {
     "name": "stderr",
     "output_type": "stream",
     "text": [
      " 41%|████████████████████▋                             | 207036/500000 [37:02<51:06, 95.55it/s]"
     ]
    },
    {
     "name": "stdout",
     "output_type": "stream",
     "text": [
      "['PRO_2821', 'PRO_3738']\n"
     ]
    },
    {
     "name": "stderr",
     "output_type": "stream",
     "text": [
      " 42%|████████████████████▊                             | 208217/500000 [37:15<50:57, 95.42it/s]"
     ]
    },
    {
     "name": "stdout",
     "output_type": "stream",
     "text": [
      "['PRO_84', 'PRO_20034']\n"
     ]
    },
    {
     "name": "stderr",
     "output_type": "stream",
     "text": [
      " 42%|████████████████████▊                             | 208558/500000 [37:18<51:42, 93.93it/s]"
     ]
    },
    {
     "name": "stdout",
     "output_type": "stream",
     "text": [
      "['PRO_1789', 'PRO_6559']\n"
     ]
    },
    {
     "name": "stderr",
     "output_type": "stream",
     "text": [
      " 42%|█████████████████████                             | 210150/500000 [37:36<51:06, 94.52it/s]"
     ]
    },
    {
     "name": "stdout",
     "output_type": "stream",
     "text": [
      "['PRO_16488', 'PRO_19639']\n"
     ]
    },
    {
     "name": "stderr",
     "output_type": "stream",
     "text": [
      " 42%|█████████████████████▏                            | 211779/500000 [37:53<50:55, 94.33it/s]"
     ]
    },
    {
     "name": "stdout",
     "output_type": "stream",
     "text": [
      "['PRO_6794', 'PRO_21464']\n"
     ]
    },
    {
     "name": "stderr",
     "output_type": "stream",
     "text": [
      " 42%|█████████████████████▏                            | 211899/500000 [37:55<50:58, 94.19it/s]"
     ]
    },
    {
     "name": "stdout",
     "output_type": "stream",
     "text": [
      "['PRO_16074', 'PRO_12186']\n"
     ]
    },
    {
     "name": "stderr",
     "output_type": "stream",
     "text": [
      " 43%|█████████████████████▎                            | 212601/500000 [38:02<49:53, 96.00it/s]"
     ]
    },
    {
     "name": "stdout",
     "output_type": "stream",
     "text": [
      "['PRO_14619', 'PRO_6704']\n"
     ]
    },
    {
     "name": "stderr",
     "output_type": "stream",
     "text": [
      " 43%|█████████████████████▎                            | 213139/500000 [38:08<49:37, 96.33it/s]"
     ]
    },
    {
     "name": "stdout",
     "output_type": "stream",
     "text": [
      "['PRO_2517', 'PRO_8681']\n"
     ]
    },
    {
     "name": "stderr",
     "output_type": "stream",
     "text": [
      " 43%|█████████████████████▎                            | 213389/500000 [38:11<49:44, 96.03it/s]"
     ]
    },
    {
     "name": "stdout",
     "output_type": "stream",
     "text": [
      "['PRO_2835', 'PRO_5091']\n"
     ]
    },
    {
     "name": "stderr",
     "output_type": "stream",
     "text": [
      " 43%|█████████████████████▎                            | 213680/500000 [38:14<49:59, 95.45it/s]"
     ]
    },
    {
     "name": "stdout",
     "output_type": "stream",
     "text": [
      "['PRO_21532', 'PRO_137']\n"
     ]
    },
    {
     "name": "stderr",
     "output_type": "stream",
     "text": [
      " 43%|█████████████████████▍                            | 214420/500000 [38:22<49:41, 95.80it/s]"
     ]
    },
    {
     "name": "stdout",
     "output_type": "stream",
     "text": [
      "['PRO_19642', 'PRO_14899']\n"
     ]
    },
    {
     "name": "stderr",
     "output_type": "stream",
     "text": [
      " 43%|█████████████████████▍                            | 214631/500000 [38:24<49:22, 96.34it/s]"
     ]
    },
    {
     "name": "stdout",
     "output_type": "stream",
     "text": [
      "['PRO_4986', 'PRO_9265']\n"
     ]
    },
    {
     "name": "stderr",
     "output_type": "stream",
     "text": [
      " 43%|█████████████████████▍                            | 214701/500000 [38:25<50:58, 93.29it/s]"
     ]
    },
    {
     "name": "stdout",
     "output_type": "stream",
     "text": [
      "['PRO_6019', 'PRO_17108']\n"
     ]
    },
    {
     "name": "stderr",
     "output_type": "stream",
     "text": [
      " 43%|█████████████████████▌                            | 215301/500000 [38:31<50:19, 94.28it/s]"
     ]
    },
    {
     "name": "stdout",
     "output_type": "stream",
     "text": [
      "['PRO_15093', 'PRO_6547']\n"
     ]
    },
    {
     "name": "stderr",
     "output_type": "stream",
     "text": [
      " 43%|█████████████████████▋                            | 216622/500000 [38:45<49:21, 95.70it/s]"
     ]
    },
    {
     "name": "stdout",
     "output_type": "stream",
     "text": [
      "['PRO_2096', 'PRO_6929']\n"
     ]
    },
    {
     "name": "stderr",
     "output_type": "stream",
     "text": [
      " 43%|█████████████████████▋                            | 216802/500000 [38:47<49:41, 94.98it/s]"
     ]
    },
    {
     "name": "stdout",
     "output_type": "stream",
     "text": [
      "['PRO_3281', 'PRO_19700']\n"
     ]
    },
    {
     "name": "stderr",
     "output_type": "stream",
     "text": [
      " 43%|█████████████████████▋                            | 216972/500000 [38:49<51:01, 92.46it/s]"
     ]
    },
    {
     "name": "stdout",
     "output_type": "stream",
     "text": [
      "['PRO_5333', 'PRO_6994']\n"
     ]
    },
    {
     "name": "stderr",
     "output_type": "stream",
     "text": [
      " 44%|█████████████████████▊                            | 218450/500000 [39:04<49:51, 94.13it/s]"
     ]
    },
    {
     "name": "stdout",
     "output_type": "stream",
     "text": [
      "['PRO_6557', 'PRO_7038']\n"
     ]
    },
    {
     "name": "stderr",
     "output_type": "stream",
     "text": [
      " 44%|█████████████████████▉                            | 218784/500000 [39:08<48:57, 95.75it/s]"
     ]
    },
    {
     "name": "stdout",
     "output_type": "stream",
     "text": [
      "['PRO_21596', 'PRO_8206']\n"
     ]
    },
    {
     "name": "stderr",
     "output_type": "stream",
     "text": [
      " 44%|█████████████████████▉                            | 218952/500000 [39:10<50:05, 93.50it/s]"
     ]
    },
    {
     "name": "stdout",
     "output_type": "stream",
     "text": [
      "['PRO_2786', 'PRO_3403']\n"
     ]
    },
    {
     "name": "stderr",
     "output_type": "stream",
     "text": [
      " 44%|█████████████████████▉                            | 219442/500000 [39:15<48:22, 96.65it/s]"
     ]
    },
    {
     "name": "stdout",
     "output_type": "stream",
     "text": [
      "['PRO_7625', 'PRO_14034']\n"
     ]
    },
    {
     "name": "stderr",
     "output_type": "stream",
     "text": [
      " 44%|█████████████████████▉                            | 219582/500000 [39:17<49:51, 93.73it/s]"
     ]
    },
    {
     "name": "stdout",
     "output_type": "stream",
     "text": [
      "['PRO_13672', 'PRO_14601']\n"
     ]
    },
    {
     "name": "stderr",
     "output_type": "stream",
     "text": [
      " 44%|█████████████████████▉                            | 219703/500000 [39:18<51:57, 89.91it/s]"
     ]
    },
    {
     "name": "stdout",
     "output_type": "stream",
     "text": [
      "['PRO_1778', 'PRO_9935']\n"
     ]
    },
    {
     "name": "stderr",
     "output_type": "stream",
     "text": [
      " 45%|██████████████████████▎                           | 222969/500000 [39:53<47:04, 98.08it/s]"
     ]
    },
    {
     "name": "stdout",
     "output_type": "stream",
     "text": [
      "['PRO_186', 'PRO_21112']\n"
     ]
    },
    {
     "name": "stderr",
     "output_type": "stream",
     "text": [
      " 45%|██████████████████████▎                           | 223079/500000 [39:54<47:29, 97.18it/s]"
     ]
    },
    {
     "name": "stdout",
     "output_type": "stream",
     "text": [
      "['PRO_12315', 'PRO_17362']\n"
     ]
    },
    {
     "name": "stderr",
     "output_type": "stream",
     "text": [
      " 45%|██████████████████████▎                           | 223389/500000 [39:57<47:33, 96.95it/s]"
     ]
    },
    {
     "name": "stdout",
     "output_type": "stream",
     "text": [
      "['PRO_8150', 'PRO_13671']\n"
     ]
    },
    {
     "name": "stderr",
     "output_type": "stream",
     "text": [
      " 45%|██████████████████████▍                           | 224000/500000 [40:03<47:13, 97.41it/s]"
     ]
    },
    {
     "name": "stdout",
     "output_type": "stream",
     "text": [
      "['PRO_8560', 'PRO_688']\n"
     ]
    },
    {
     "name": "stderr",
     "output_type": "stream",
     "text": [
      " 45%|██████████████████████▍                           | 224130/500000 [40:05<47:39, 96.46it/s]"
     ]
    },
    {
     "name": "stdout",
     "output_type": "stream",
     "text": [
      "['PRO_18192', 'PRO_4853']\n"
     ]
    },
    {
     "name": "stderr",
     "output_type": "stream",
     "text": [
      " 45%|██████████████████████▍                           | 224190/500000 [40:05<48:27, 94.86it/s]"
     ]
    },
    {
     "name": "stdout",
     "output_type": "stream",
     "text": [
      "['PRO_17418', 'PRO_17593']\n"
     ]
    },
    {
     "name": "stderr",
     "output_type": "stream",
     "text": [
      " 45%|██████████████████████▍                           | 224330/500000 [40:07<48:22, 94.98it/s]"
     ]
    },
    {
     "name": "stdout",
     "output_type": "stream",
     "text": [
      "['PRO_3624', 'PRO_14682']\n"
     ]
    },
    {
     "name": "stderr",
     "output_type": "stream",
     "text": [
      " 45%|██████████████████████▌                           | 225201/500000 [40:16<47:50, 95.72it/s]"
     ]
    },
    {
     "name": "stdout",
     "output_type": "stream",
     "text": [
      "['PRO_14095', 'PRO_22364']\n"
     ]
    },
    {
     "name": "stderr",
     "output_type": "stream",
     "text": [
      " 45%|██████████████████████▋                           | 227102/500000 [40:36<47:51, 95.03it/s]"
     ]
    },
    {
     "name": "stdout",
     "output_type": "stream",
     "text": [
      "['PRO_4130', 'PRO_22464']\n"
     ]
    },
    {
     "name": "stderr",
     "output_type": "stream",
     "text": [
      " 46%|██████████████████████▊                           | 227684/500000 [40:42<46:23, 97.83it/s]"
     ]
    },
    {
     "name": "stdout",
     "output_type": "stream",
     "text": [
      "['PRO_21784', 'PRO_6144']\n"
     ]
    },
    {
     "name": "stderr",
     "output_type": "stream",
     "text": [
      " 46%|██████████████████████▊                           | 228354/500000 [40:49<47:28, 95.37it/s]"
     ]
    },
    {
     "name": "stdout",
     "output_type": "stream",
     "text": [
      "['PRO_13475', 'PRO_16967']\n"
     ]
    },
    {
     "name": "stderr",
     "output_type": "stream",
     "text": [
      " 46%|██████████████████████▉                           | 228873/500000 [40:55<47:50, 94.44it/s]"
     ]
    },
    {
     "name": "stdout",
     "output_type": "stream",
     "text": [
      "['PRO_3604', 'PRO_6686']\n"
     ]
    },
    {
     "name": "stderr",
     "output_type": "stream",
     "text": [
      " 46%|██████████████████████▉                           | 229413/500000 [41:01<47:24, 95.11it/s]"
     ]
    },
    {
     "name": "stdout",
     "output_type": "stream",
     "text": [
      "['PRO_14414', 'PRO_6335']\n"
     ]
    },
    {
     "name": "stderr",
     "output_type": "stream",
     "text": [
      " 46%|██████████████████████▉                           | 229523/500000 [41:02<47:10, 95.56it/s]"
     ]
    },
    {
     "name": "stdout",
     "output_type": "stream",
     "text": [
      "['PRO_20596', 'PRO_14611']\n"
     ]
    },
    {
     "name": "stderr",
     "output_type": "stream",
     "text": [
      " 46%|███████████████████████▏                          | 231572/500000 [41:24<49:09, 91.01it/s]"
     ]
    },
    {
     "name": "stdout",
     "output_type": "stream",
     "text": [
      "['PRO_5903', 'PRO_22463']\n"
     ]
    },
    {
     "name": "stderr",
     "output_type": "stream",
     "text": [
      " 46%|███████████████████████▏                          | 232188/500000 [41:30<49:02, 91.00it/s]"
     ]
    },
    {
     "name": "stdout",
     "output_type": "stream",
     "text": [
      "['PRO_23045', 'PRO_5164']\n"
     ]
    },
    {
     "name": "stderr",
     "output_type": "stream",
     "text": [
      " 46%|███████████████████████▏                          | 232229/500000 [41:31<47:51, 93.26it/s]"
     ]
    },
    {
     "name": "stdout",
     "output_type": "stream",
     "text": [
      "['PRO_9880', 'PRO_29']\n"
     ]
    },
    {
     "name": "stderr",
     "output_type": "stream",
     "text": [
      " 47%|███████████████████████▎                          | 232760/500000 [41:37<46:38, 95.50it/s]"
     ]
    },
    {
     "name": "stdout",
     "output_type": "stream",
     "text": [
      "['PRO_7065', 'PRO_2647']\n"
     ]
    },
    {
     "name": "stderr",
     "output_type": "stream",
     "text": [
      " 47%|███████████████████████▎                          | 233699/500000 [41:47<46:09, 96.14it/s]"
     ]
    },
    {
     "name": "stdout",
     "output_type": "stream",
     "text": [
      "['PRO_1259', 'PRO_904']\n"
     ]
    },
    {
     "name": "stderr",
     "output_type": "stream",
     "text": [
      " 47%|███████████████████████▍                          | 234330/500000 [41:53<46:10, 95.90it/s]"
     ]
    },
    {
     "name": "stdout",
     "output_type": "stream",
     "text": [
      "['PRO_11564', 'PRO_11539']\n"
     ]
    },
    {
     "name": "stderr",
     "output_type": "stream",
     "text": [
      " 47%|███████████████████████▌                          | 235010/500000 [42:01<46:08, 95.72it/s]"
     ]
    },
    {
     "name": "stdout",
     "output_type": "stream",
     "text": [
      "['PRO_262', 'PRO_20237']\n"
     ]
    },
    {
     "name": "stderr",
     "output_type": "stream",
     "text": [
      " 47%|███████████████████████▌                          | 235360/500000 [42:04<45:52, 96.15it/s]"
     ]
    },
    {
     "name": "stdout",
     "output_type": "stream",
     "text": [
      "['PRO_9690', 'PRO_8263']\n"
     ]
    },
    {
     "name": "stderr",
     "output_type": "stream",
     "text": [
      " 47%|███████████████████████▌                          | 235500/500000 [42:06<46:05, 95.63it/s]"
     ]
    },
    {
     "name": "stdout",
     "output_type": "stream",
     "text": [
      "['PRO_6133', 'PRO_21300']\n"
     ]
    },
    {
     "name": "stderr",
     "output_type": "stream",
     "text": [
      " 47%|███████████████████████▋                          | 236521/500000 [42:17<45:55, 95.62it/s]"
     ]
    },
    {
     "name": "stdout",
     "output_type": "stream",
     "text": [
      "['PRO_21677', 'PRO_17291']\n"
     ]
    },
    {
     "name": "stderr",
     "output_type": "stream",
     "text": [
      " 48%|███████████████████████▊                          | 237877/500000 [42:31<45:10, 96.70it/s]"
     ]
    },
    {
     "name": "stdout",
     "output_type": "stream",
     "text": [
      "['PRO_20455', 'PRO_5778']\n"
     ]
    },
    {
     "name": "stderr",
     "output_type": "stream",
     "text": [
      " 48%|███████████████████████▊                          | 238077/500000 [42:33<48:11, 90.59it/s]"
     ]
    },
    {
     "name": "stdout",
     "output_type": "stream",
     "text": [
      "['PRO_8354', 'PRO_11470']\n"
     ]
    },
    {
     "name": "stderr",
     "output_type": "stream",
     "text": [
      " 48%|███████████████████████▊                          | 238517/500000 [42:38<47:39, 91.44it/s]"
     ]
    },
    {
     "name": "stdout",
     "output_type": "stream",
     "text": [
      "['PRO_19604', 'PRO_137']\n"
     ]
    },
    {
     "name": "stderr",
     "output_type": "stream",
     "text": [
      " 48%|███████████████████████▊                          | 238686/500000 [42:40<46:18, 94.06it/s]"
     ]
    },
    {
     "name": "stdout",
     "output_type": "stream",
     "text": [
      "['PRO_17482', 'PRO_5051']\n"
     ]
    },
    {
     "name": "stderr",
     "output_type": "stream",
     "text": [
      " 48%|███████████████████████▉                          | 239049/500000 [42:44<44:54, 96.83it/s]"
     ]
    },
    {
     "name": "stdout",
     "output_type": "stream",
     "text": [
      "['PRO_19832', 'PRO_19450']\n"
     ]
    },
    {
     "name": "stderr",
     "output_type": "stream",
     "text": [
      " 48%|███████████████████████▉                          | 239650/500000 [42:50<43:53, 98.87it/s]"
     ]
    },
    {
     "name": "stdout",
     "output_type": "stream",
     "text": [
      "['PRO_17779', 'PRO_8176']\n"
     ]
    },
    {
     "name": "stderr",
     "output_type": "stream",
     "text": [
      " 48%|████████████████████████                          | 240521/500000 [42:59<47:29, 91.07it/s]"
     ]
    },
    {
     "name": "stdout",
     "output_type": "stream",
     "text": [
      "['PRO_19540', 'PRO_22117']\n"
     ]
    },
    {
     "name": "stderr",
     "output_type": "stream",
     "text": [
      " 48%|████████████████████████                          | 240692/500000 [43:01<45:55, 94.10it/s]"
     ]
    },
    {
     "name": "stdout",
     "output_type": "stream",
     "text": [
      "['PRO_7294', 'PRO_2328']\n"
     ]
    },
    {
     "name": "stderr",
     "output_type": "stream",
     "text": [
      " 48%|████████████████████████▏                         | 241382/500000 [43:08<45:59, 93.71it/s]"
     ]
    },
    {
     "name": "stdout",
     "output_type": "stream",
     "text": [
      "['PRO_12104', 'PRO_4306']\n"
     ]
    },
    {
     "name": "stderr",
     "output_type": "stream",
     "text": [
      " 48%|████████████████████████▏                         | 242185/500000 [43:17<45:17, 94.86it/s]"
     ]
    },
    {
     "name": "stdout",
     "output_type": "stream",
     "text": [
      "['PRO_18287', 'PRO_588']\n"
     ]
    },
    {
     "name": "stderr",
     "output_type": "stream",
     "text": [
      " 48%|████████████████████████▏                         | 242326/500000 [43:18<44:40, 96.11it/s]"
     ]
    },
    {
     "name": "stdout",
     "output_type": "stream",
     "text": [
      "['PRO_12646', 'PRO_342']\n",
      "['PRO_21780', 'PRO_15494']\n"
     ]
    },
    {
     "name": "stderr",
     "output_type": "stream",
     "text": [
      " 49%|████████████████████████▎                         | 243137/500000 [43:27<45:26, 94.22it/s]"
     ]
    },
    {
     "name": "stdout",
     "output_type": "stream",
     "text": [
      "['PRO_9865', 'PRO_18018']\n"
     ]
    },
    {
     "name": "stderr",
     "output_type": "stream",
     "text": [
      " 49%|████████████████████████▎                         | 243527/500000 [43:31<46:42, 91.53it/s]"
     ]
    },
    {
     "name": "stdout",
     "output_type": "stream",
     "text": [
      "['PRO_7840', 'PRO_14441']\n"
     ]
    },
    {
     "name": "stderr",
     "output_type": "stream",
     "text": [
      " 49%|████████████████████████▌                         | 245108/500000 [43:48<44:43, 94.98it/s]"
     ]
    },
    {
     "name": "stdout",
     "output_type": "stream",
     "text": [
      "['PRO_6756', 'PRO_14110']\n"
     ]
    },
    {
     "name": "stderr",
     "output_type": "stream",
     "text": [
      " 49%|████████████████████████▌                         | 245618/500000 [43:53<44:26, 95.38it/s]"
     ]
    },
    {
     "name": "stdout",
     "output_type": "stream",
     "text": [
      "['PRO_21193', 'PRO_13786']\n"
     ]
    },
    {
     "name": "stderr",
     "output_type": "stream",
     "text": [
      " 49%|████████████████████████▌                         | 245818/500000 [43:56<46:17, 91.52it/s]"
     ]
    },
    {
     "name": "stdout",
     "output_type": "stream",
     "text": [
      "['PRO_18262', 'PRO_6547']\n"
     ]
    },
    {
     "name": "stderr",
     "output_type": "stream",
     "text": [
      " 49%|████████████████████████▌                         | 245908/500000 [43:56<45:01, 94.06it/s]"
     ]
    },
    {
     "name": "stdout",
     "output_type": "stream",
     "text": [
      "['PRO_5772', 'PRO_4680']\n"
     ]
    },
    {
     "name": "stderr",
     "output_type": "stream",
     "text": [
      " 49%|████████████████████████▌                         | 246108/500000 [43:59<43:36, 97.05it/s]"
     ]
    },
    {
     "name": "stdout",
     "output_type": "stream",
     "text": [
      "['PRO_12873', 'PRO_22513']\n"
     ]
    },
    {
     "name": "stderr",
     "output_type": "stream",
     "text": [
      " 49%|████████████████████████▌                         | 246208/500000 [44:00<43:50, 96.46it/s]"
     ]
    },
    {
     "name": "stdout",
     "output_type": "stream",
     "text": [
      "['PRO_22878', 'PRO_1924']\n"
     ]
    },
    {
     "name": "stderr",
     "output_type": "stream",
     "text": [
      " 49%|████████████████████████▋                         | 246929/500000 [44:07<43:55, 96.01it/s]"
     ]
    },
    {
     "name": "stdout",
     "output_type": "stream",
     "text": [
      "['PRO_12658', 'PRO_161']\n"
     ]
    },
    {
     "name": "stderr",
     "output_type": "stream",
     "text": [
      " 49%|████████████████████████▋                         | 247120/500000 [44:09<43:44, 96.37it/s]"
     ]
    },
    {
     "name": "stdout",
     "output_type": "stream",
     "text": [
      "['PRO_22288', 'PRO_7166']\n"
     ]
    },
    {
     "name": "stderr",
     "output_type": "stream",
     "text": [
      " 50%|████████████████████████▊                         | 248521/500000 [44:24<43:47, 95.69it/s]"
     ]
    },
    {
     "name": "stdout",
     "output_type": "stream",
     "text": [
      "['PRO_15685', 'PRO_15082']\n"
     ]
    },
    {
     "name": "stderr",
     "output_type": "stream",
     "text": [
      " 50%|████████████████████████▉                         | 248841/500000 [44:28<44:26, 94.20it/s]"
     ]
    },
    {
     "name": "stdout",
     "output_type": "stream",
     "text": [
      "['PRO_7259', 'PRO_19211']\n"
     ]
    },
    {
     "name": "stderr",
     "output_type": "stream",
     "text": [
      " 50%|████████████████████████▉                         | 249091/500000 [44:31<44:10, 94.67it/s]"
     ]
    },
    {
     "name": "stdout",
     "output_type": "stream",
     "text": [
      "['PRO_45', 'PRO_8654']\n"
     ]
    },
    {
     "name": "stderr",
     "output_type": "stream",
     "text": [
      " 50%|████████████████████████▉                         | 249913/500000 [44:40<43:12, 96.45it/s]"
     ]
    },
    {
     "name": "stdout",
     "output_type": "stream",
     "text": [
      "['PRO_19387', 'PRO_16187']\n"
     ]
    },
    {
     "name": "stderr",
     "output_type": "stream",
     "text": [
      " 50%|█████████████████████████▏                        | 251391/500000 [44:55<43:02, 96.28it/s]"
     ]
    },
    {
     "name": "stdout",
     "output_type": "stream",
     "text": [
      "['PRO_17009', 'PRO_19578']\n"
     ]
    },
    {
     "name": "stderr",
     "output_type": "stream",
     "text": [
      " 50%|█████████████████████████▏                        | 252202/500000 [45:04<42:54, 96.23it/s]"
     ]
    },
    {
     "name": "stdout",
     "output_type": "stream",
     "text": [
      "['PRO_8020', 'PRO_21571']\n"
     ]
    },
    {
     "name": "stderr",
     "output_type": "stream",
     "text": [
      " 50%|█████████████████████████▏                        | 252462/500000 [45:07<43:10, 95.55it/s]"
     ]
    },
    {
     "name": "stdout",
     "output_type": "stream",
     "text": [
      "['PRO_8590', 'PRO_17450']\n"
     ]
    },
    {
     "name": "stderr",
     "output_type": "stream",
     "text": [
      " 51%|█████████████████████████▎                        | 252793/500000 [45:10<43:11, 95.37it/s]"
     ]
    },
    {
     "name": "stdout",
     "output_type": "stream",
     "text": [
      "['PRO_12958', 'PRO_21734']\n"
     ]
    },
    {
     "name": "stderr",
     "output_type": "stream",
     "text": [
      " 51%|█████████████████████████▎                        | 253264/500000 [45:15<43:00, 95.61it/s]"
     ]
    },
    {
     "name": "stdout",
     "output_type": "stream",
     "text": [
      "['PRO_23020', 'PRO_18701']\n"
     ]
    },
    {
     "name": "stderr",
     "output_type": "stream",
     "text": [
      " 51%|█████████████████████████▎                        | 253434/500000 [45:17<43:04, 95.40it/s]"
     ]
    },
    {
     "name": "stdout",
     "output_type": "stream",
     "text": [
      "['PRO_3814', 'PRO_22902']\n"
     ]
    },
    {
     "name": "stderr",
     "output_type": "stream",
     "text": [
      " 51%|█████████████████████████▍                        | 253925/500000 [45:22<42:59, 95.41it/s]"
     ]
    },
    {
     "name": "stdout",
     "output_type": "stream",
     "text": [
      "['PRO_7098', 'PRO_2761']\n",
      "['PRO_21752', 'PRO_8978']\n"
     ]
    },
    {
     "name": "stderr",
     "output_type": "stream",
     "text": [
      " 51%|█████████████████████████▌                        | 255566/500000 [45:40<42:37, 95.59it/s]"
     ]
    },
    {
     "name": "stdout",
     "output_type": "stream",
     "text": [
      "['PRO_19620', 'PRO_1990']\n"
     ]
    },
    {
     "name": "stderr",
     "output_type": "stream",
     "text": [
      " 51%|█████████████████████████▋                        | 257017/500000 [45:55<42:28, 95.33it/s]"
     ]
    },
    {
     "name": "stdout",
     "output_type": "stream",
     "text": [
      "['PRO_15599', 'PRO_5243']\n"
     ]
    },
    {
     "name": "stderr",
     "output_type": "stream",
     "text": [
      " 52%|█████████████████████████▊                        | 257598/500000 [46:01<43:54, 92.02it/s]"
     ]
    },
    {
     "name": "stdout",
     "output_type": "stream",
     "text": [
      "['PRO_18018', 'PRO_9914']\n"
     ]
    },
    {
     "name": "stderr",
     "output_type": "stream",
     "text": [
      " 52%|██████████████████████████                        | 260330/500000 [46:30<40:36, 98.35it/s]"
     ]
    },
    {
     "name": "stdout",
     "output_type": "stream",
     "text": [
      "['PRO_8309', 'PRO_23286']\n"
     ]
    },
    {
     "name": "stderr",
     "output_type": "stream",
     "text": [
      " 52%|██████████████████████████▏                       | 261330/500000 [46:40<41:22, 96.12it/s]"
     ]
    },
    {
     "name": "stdout",
     "output_type": "stream",
     "text": [
      "['PRO_21752', 'PRO_3896']\n"
     ]
    },
    {
     "name": "stderr",
     "output_type": "stream",
     "text": [
      " 52%|██████████████████████████▏                       | 261910/500000 [46:46<41:12, 96.28it/s]"
     ]
    },
    {
     "name": "stdout",
     "output_type": "stream",
     "text": [
      "['PRO_21123', 'PRO_5580']\n"
     ]
    },
    {
     "name": "stderr",
     "output_type": "stream",
     "text": [
      " 52%|██████████████████████████▏                       | 261941/500000 [46:47<40:14, 98.58it/s]"
     ]
    },
    {
     "name": "stdout",
     "output_type": "stream",
     "text": [
      "['PRO_15887', 'PRO_2188']\n"
     ]
    },
    {
     "name": "stderr",
     "output_type": "stream",
     "text": [
      " 53%|██████████████████████████▎                       | 263152/500000 [46:59<40:48, 96.74it/s]"
     ]
    },
    {
     "name": "stdout",
     "output_type": "stream",
     "text": [
      "['PRO_1544', 'PRO_14482']\n"
     ]
    },
    {
     "name": "stderr",
     "output_type": "stream",
     "text": [
      " 53%|██████████████████████████▍                       | 264764/500000 [47:16<39:47, 98.51it/s]"
     ]
    },
    {
     "name": "stdout",
     "output_type": "stream",
     "text": [
      "['PRO_6380', 'PRO_5907']\n"
     ]
    },
    {
     "name": "stderr",
     "output_type": "stream",
     "text": [
      " 53%|██████████████████████████▌                       | 265294/500000 [47:22<40:58, 95.48it/s]"
     ]
    },
    {
     "name": "stdout",
     "output_type": "stream",
     "text": [
      "['PRO_8272', 'PRO_21839']\n"
     ]
    },
    {
     "name": "stderr",
     "output_type": "stream",
     "text": [
      " 53%|██████████████████████████▌                       | 266064/500000 [47:30<40:47, 95.60it/s]"
     ]
    },
    {
     "name": "stdout",
     "output_type": "stream",
     "text": [
      "['PRO_6691', 'PRO_20049']\n"
     ]
    },
    {
     "name": "stderr",
     "output_type": "stream",
     "text": [
      " 53%|██████████████████████████▋                       | 266545/500000 [47:35<40:17, 96.55it/s]"
     ]
    },
    {
     "name": "stdout",
     "output_type": "stream",
     "text": [
      "['PRO_22852', 'PRO_3403']\n"
     ]
    },
    {
     "name": "stderr",
     "output_type": "stream",
     "text": [
      " 53%|██████████████████████████▋                       | 266586/500000 [47:35<40:28, 96.12it/s]"
     ]
    },
    {
     "name": "stdout",
     "output_type": "stream",
     "text": [
      "['PRO_8851', 'PRO_8716']\n"
     ]
    },
    {
     "name": "stderr",
     "output_type": "stream",
     "text": [
      " 54%|██████████████████████████▊                       | 267618/500000 [47:46<39:51, 97.18it/s]"
     ]
    },
    {
     "name": "stdout",
     "output_type": "stream",
     "text": [
      "['PRO_3160', 'PRO_5831']\n"
     ]
    },
    {
     "name": "stderr",
     "output_type": "stream",
     "text": [
      " 54%|██████████████████████████▊                       | 267990/500000 [47:50<39:24, 98.11it/s]"
     ]
    },
    {
     "name": "stdout",
     "output_type": "stream",
     "text": [
      "['PRO_8297', 'PRO_12629']\n"
     ]
    },
    {
     "name": "stderr",
     "output_type": "stream",
     "text": [
      " 54%|██████████████████████████▊                       | 268300/500000 [47:53<39:41, 97.28it/s]"
     ]
    },
    {
     "name": "stdout",
     "output_type": "stream",
     "text": [
      "['PRO_19303', 'PRO_18131']\n"
     ]
    },
    {
     "name": "stderr",
     "output_type": "stream",
     "text": [
      " 54%|██████████████████████████▉                       | 269182/500000 [48:02<42:44, 90.00it/s]"
     ]
    },
    {
     "name": "stdout",
     "output_type": "stream",
     "text": [
      "['PRO_7728', 'PRO_13582']\n"
     ]
    },
    {
     "name": "stderr",
     "output_type": "stream",
     "text": [
      " 54%|██████████████████████████▉                       | 269825/500000 [48:10<52:37, 72.91it/s]"
     ]
    },
    {
     "name": "stdout",
     "output_type": "stream",
     "text": [
      "['PRO_20598', 'PRO_7157']\n"
     ]
    },
    {
     "name": "stderr",
     "output_type": "stream",
     "text": [
      " 54%|███████████████████████████                       | 270176/500000 [48:14<39:54, 95.99it/s]"
     ]
    },
    {
     "name": "stdout",
     "output_type": "stream",
     "text": [
      "['PRO_8628', 'PRO_3137']\n"
     ]
    },
    {
     "name": "stderr",
     "output_type": "stream",
     "text": [
      " 54%|███████████████████████████                       | 270206/500000 [48:14<40:10, 95.34it/s]"
     ]
    },
    {
     "name": "stdout",
     "output_type": "stream",
     "text": [
      "['PRO_12814', 'PRO_12036']\n"
     ]
    },
    {
     "name": "stderr",
     "output_type": "stream",
     "text": [
      " 54%|███████████████████████████                       | 270705/500000 [48:19<40:59, 93.21it/s]"
     ]
    },
    {
     "name": "stdout",
     "output_type": "stream",
     "text": [
      "['PRO_12192', 'PRO_4728']\n"
     ]
    },
    {
     "name": "stderr",
     "output_type": "stream",
     "text": [
      " 54%|███████████████████████████                       | 271055/500000 [48:23<39:47, 95.88it/s]"
     ]
    },
    {
     "name": "stdout",
     "output_type": "stream",
     "text": [
      "['PRO_6319', 'PRO_9874']\n"
     ]
    },
    {
     "name": "stderr",
     "output_type": "stream",
     "text": [
      " 54%|███████████████████████████                       | 271165/500000 [48:24<40:07, 95.07it/s]"
     ]
    },
    {
     "name": "stdout",
     "output_type": "stream",
     "text": [
      "['PRO_63', 'PRO_15867']\n"
     ]
    },
    {
     "name": "stderr",
     "output_type": "stream",
     "text": [
      " 54%|███████████████████████████▏                      | 272025/500000 [48:33<40:52, 92.94it/s]"
     ]
    },
    {
     "name": "stdout",
     "output_type": "stream",
     "text": [
      "['PRO_6354', 'PRO_21848']\n"
     ]
    },
    {
     "name": "stderr",
     "output_type": "stream",
     "text": [
      " 54%|███████████████████████████▏                      | 272445/500000 [48:38<40:02, 94.72it/s]"
     ]
    },
    {
     "name": "stdout",
     "output_type": "stream",
     "text": [
      "['PRO_7748', 'PRO_21685']\n"
     ]
    },
    {
     "name": "stderr",
     "output_type": "stream",
     "text": [
      " 55%|███████████████████████████▍                      | 274628/500000 [49:01<38:37, 97.24it/s]"
     ]
    },
    {
     "name": "stdout",
     "output_type": "stream",
     "text": [
      "['PRO_4622', 'PRO_11947']\n"
     ]
    },
    {
     "name": "stderr",
     "output_type": "stream",
     "text": [
      " 55%|███████████████████████████▍                      | 274708/500000 [49:02<38:45, 96.87it/s]"
     ]
    },
    {
     "name": "stdout",
     "output_type": "stream",
     "text": [
      "['PRO_12039', 'PRO_22123']\n"
     ]
    },
    {
     "name": "stderr",
     "output_type": "stream",
     "text": [
      " 55%|███████████████████████████▍                      | 274779/500000 [49:02<39:50, 94.21it/s]"
     ]
    },
    {
     "name": "stdout",
     "output_type": "stream",
     "text": [
      "['PRO_21972', 'PRO_8353']\n"
     ]
    },
    {
     "name": "stderr",
     "output_type": "stream",
     "text": [
      " 55%|███████████████████████████▌                      | 275629/500000 [49:11<39:30, 94.67it/s]"
     ]
    },
    {
     "name": "stdout",
     "output_type": "stream",
     "text": [
      "['PRO_4516', 'PRO_2272']\n"
     ]
    },
    {
     "name": "stderr",
     "output_type": "stream",
     "text": [
      " 56%|███████████████████████████▊                      | 277706/500000 [49:34<38:53, 95.25it/s]"
     ]
    },
    {
     "name": "stdout",
     "output_type": "stream",
     "text": [
      "['PRO_706', 'PRO_22026']\n"
     ]
    },
    {
     "name": "stderr",
     "output_type": "stream",
     "text": [
      " 56%|████████████████████████████                      | 280451/500000 [50:03<37:13, 98.32it/s]"
     ]
    },
    {
     "name": "stdout",
     "output_type": "stream",
     "text": [
      "['PRO_7259', 'PRO_20482']\n",
      "['PRO_5204', 'PRO_10339']\n"
     ]
    },
    {
     "name": "stderr",
     "output_type": "stream",
     "text": [
      " 56%|████████████████████████████▏                     | 281383/500000 [50:12<37:59, 95.91it/s]"
     ]
    },
    {
     "name": "stdout",
     "output_type": "stream",
     "text": [
      "['PRO_12500', 'PRO_19540']\n"
     ]
    },
    {
     "name": "stderr",
     "output_type": "stream",
     "text": [
      " 56%|████████████████████████████▏                     | 281893/500000 [50:18<39:37, 91.74it/s]"
     ]
    },
    {
     "name": "stdout",
     "output_type": "stream",
     "text": [
      "['PRO_15328', 'PRO_6110']\n"
     ]
    },
    {
     "name": "stderr",
     "output_type": "stream",
     "text": [
      " 57%|████████████████████████████▎                     | 283463/500000 [50:34<37:52, 95.27it/s]"
     ]
    },
    {
     "name": "stdout",
     "output_type": "stream",
     "text": [
      "['PRO_23163', 'PRO_15599']\n"
     ]
    },
    {
     "name": "stderr",
     "output_type": "stream",
     "text": [
      " 57%|████████████████████████████▎                     | 283582/500000 [50:36<38:53, 92.75it/s]"
     ]
    },
    {
     "name": "stdout",
     "output_type": "stream",
     "text": [
      "['PRO_9738', 'PRO_9967']\n",
      "['PRO_12150', 'PRO_17161']\n"
     ]
    },
    {
     "name": "stderr",
     "output_type": "stream",
     "text": [
      " 57%|████████████████████████████▍                     | 284662/500000 [50:47<38:24, 93.44it/s]"
     ]
    },
    {
     "name": "stdout",
     "output_type": "stream",
     "text": [
      "['PRO_3814', 'PRO_19416']\n"
     ]
    },
    {
     "name": "stderr",
     "output_type": "stream",
     "text": [
      " 57%|████████████████████████████▌                     | 285519/500000 [50:56<37:22, 95.66it/s]"
     ]
    },
    {
     "name": "stdout",
     "output_type": "stream",
     "text": [
      "['PRO_11029', 'PRO_7448']\n"
     ]
    },
    {
     "name": "stderr",
     "output_type": "stream",
     "text": [
      " 57%|████████████████████████████▋                     | 286750/500000 [51:09<38:50, 91.51it/s]"
     ]
    },
    {
     "name": "stdout",
     "output_type": "stream",
     "text": [
      "['PRO_1763', 'PRO_341']\n"
     ]
    },
    {
     "name": "stderr",
     "output_type": "stream",
     "text": [
      " 57%|████████████████████████████▋                     | 287151/500000 [51:14<38:02, 93.27it/s]"
     ]
    },
    {
     "name": "stdout",
     "output_type": "stream",
     "text": [
      "['PRO_15048', 'PRO_12403']\n"
     ]
    },
    {
     "name": "stderr",
     "output_type": "stream",
     "text": [
      " 57%|████████████████████████████▋                     | 287342/500000 [51:16<38:34, 91.89it/s]"
     ]
    },
    {
     "name": "stdout",
     "output_type": "stream",
     "text": [
      "['PRO_5031', 'PRO_4653']\n"
     ]
    },
    {
     "name": "stderr",
     "output_type": "stream",
     "text": [
      " 58%|████████████████████████████▊                     | 288151/500000 [51:25<37:19, 94.58it/s]"
     ]
    },
    {
     "name": "stdout",
     "output_type": "stream",
     "text": [
      "['PRO_3176', 'PRO_4352']\n"
     ]
    },
    {
     "name": "stderr",
     "output_type": "stream",
     "text": [
      " 58%|████████████████████████████▉                     | 288761/500000 [51:31<36:58, 95.21it/s]"
     ]
    },
    {
     "name": "stdout",
     "output_type": "stream",
     "text": [
      "['PRO_22268', 'PRO_18074']\n"
     ]
    },
    {
     "name": "stderr",
     "output_type": "stream",
     "text": [
      " 58%|████████████████████████████▉                     | 289612/500000 [51:40<36:43, 95.50it/s]"
     ]
    },
    {
     "name": "stdout",
     "output_type": "stream",
     "text": [
      "['PRO_19472', 'PRO_1426']\n"
     ]
    },
    {
     "name": "stderr",
     "output_type": "stream",
     "text": [
      " 58%|█████████████████████████████                     | 290011/500000 [51:44<36:58, 94.64it/s]"
     ]
    },
    {
     "name": "stdout",
     "output_type": "stream",
     "text": [
      "['PRO_3407', 'PRO_17809']\n"
     ]
    },
    {
     "name": "stderr",
     "output_type": "stream",
     "text": [
      " 58%|█████████████████████████████                     | 290992/500000 [51:55<36:31, 95.37it/s]"
     ]
    },
    {
     "name": "stdout",
     "output_type": "stream",
     "text": [
      "['PRO_356', 'PRO_10609']\n"
     ]
    },
    {
     "name": "stderr",
     "output_type": "stream",
     "text": [
      " 58%|█████████████████████████████▏                    | 291593/500000 [52:01<36:06, 96.18it/s]"
     ]
    },
    {
     "name": "stdout",
     "output_type": "stream",
     "text": [
      "['PRO_1510', 'PRO_6238']\n"
     ]
    },
    {
     "name": "stderr",
     "output_type": "stream",
     "text": [
      " 58%|█████████████████████████████▏                    | 291633/500000 [52:02<36:16, 95.72it/s]"
     ]
    },
    {
     "name": "stdout",
     "output_type": "stream",
     "text": [
      "['PRO_23431', 'PRO_8688']\n"
     ]
    },
    {
     "name": "stderr",
     "output_type": "stream",
     "text": [
      " 58%|█████████████████████████████▏                    | 292084/500000 [52:06<36:13, 95.66it/s]"
     ]
    },
    {
     "name": "stdout",
     "output_type": "stream",
     "text": [
      "['PRO_7098', 'PRO_16083']\n"
     ]
    },
    {
     "name": "stderr",
     "output_type": "stream",
     "text": [
      " 59%|█████████████████████████████▎                    | 293275/500000 [52:19<36:15, 95.03it/s]"
     ]
    },
    {
     "name": "stdout",
     "output_type": "stream",
     "text": [
      "['PRO_4739', 'PRO_6030']\n"
     ]
    },
    {
     "name": "stderr",
     "output_type": "stream",
     "text": [
      " 59%|█████████████████████████████▍                    | 293835/500000 [52:25<37:31, 91.58it/s]"
     ]
    },
    {
     "name": "stdout",
     "output_type": "stream",
     "text": [
      "['PRO_17259', 'PRO_7622']\n"
     ]
    },
    {
     "name": "stderr",
     "output_type": "stream",
     "text": [
      " 59%|█████████████████████████████▌                    | 295565/500000 [52:44<35:09, 96.91it/s]"
     ]
    },
    {
     "name": "stdout",
     "output_type": "stream",
     "text": [
      "['PRO_23387', 'PRO_22261']\n"
     ]
    },
    {
     "name": "stderr",
     "output_type": "stream",
     "text": [
      " 59%|█████████████████████████████▌                    | 295645/500000 [52:44<35:21, 96.35it/s]"
     ]
    },
    {
     "name": "stdout",
     "output_type": "stream",
     "text": [
      "['PRO_22304', 'PRO_16488']\n"
     ]
    },
    {
     "name": "stderr",
     "output_type": "stream",
     "text": [
      " 59%|█████████████████████████████▌                    | 295735/500000 [52:45<35:37, 95.54it/s]"
     ]
    },
    {
     "name": "stdout",
     "output_type": "stream",
     "text": [
      "['PRO_19909', 'PRO_6240']\n"
     ]
    },
    {
     "name": "stderr",
     "output_type": "stream",
     "text": [
      " 59%|█████████████████████████████▋                    | 297188/500000 [53:00<34:33, 97.81it/s]"
     ]
    },
    {
     "name": "stdout",
     "output_type": "stream",
     "text": [
      "['PRO_17145', 'PRO_7571']\n",
      "['PRO_8976', 'PRO_6547']\n"
     ]
    },
    {
     "name": "stderr",
     "output_type": "stream",
     "text": [
      " 59%|█████████████████████████████▋                    | 297470/500000 [53:03<34:31, 97.79it/s]"
     ]
    },
    {
     "name": "stdout",
     "output_type": "stream",
     "text": [
      "['PRO_4030', 'PRO_10146']\n"
     ]
    },
    {
     "name": "stderr",
     "output_type": "stream",
     "text": [
      " 60%|█████████████████████████████▊                    | 297511/500000 [53:04<34:26, 97.99it/s]"
     ]
    },
    {
     "name": "stdout",
     "output_type": "stream",
     "text": [
      "['PRO_1168', 'PRO_7422']\n"
     ]
    },
    {
     "name": "stderr",
     "output_type": "stream",
     "text": [
      " 60%|█████████████████████████████▊                    | 298622/500000 [53:16<35:24, 94.78it/s]"
     ]
    },
    {
     "name": "stdout",
     "output_type": "stream",
     "text": [
      "['PRO_4663', 'PRO_9208']\n"
     ]
    },
    {
     "name": "stderr",
     "output_type": "stream",
     "text": [
      " 60%|█████████████████████████████▉                    | 299875/500000 [53:30<35:37, 93.63it/s]"
     ]
    },
    {
     "name": "stdout",
     "output_type": "stream",
     "text": [
      "['PRO_8103', 'PRO_9094']\n"
     ]
    },
    {
     "name": "stderr",
     "output_type": "stream",
     "text": [
      " 60%|██████████████████████████████                    | 300286/500000 [53:35<35:03, 94.95it/s]"
     ]
    },
    {
     "name": "stdout",
     "output_type": "stream",
     "text": [
      "['PRO_19594', 'PRO_7305']\n"
     ]
    },
    {
     "name": "stderr",
     "output_type": "stream",
     "text": [
      " 60%|██████████████████████████████                    | 300747/500000 [53:40<33:57, 97.82it/s]"
     ]
    },
    {
     "name": "stdout",
     "output_type": "stream",
     "text": [
      "['PRO_7636', 'PRO_7464']\n"
     ]
    },
    {
     "name": "stderr",
     "output_type": "stream",
     "text": [
      " 60%|██████████████████████████████                    | 301118/500000 [53:44<35:03, 94.57it/s]"
     ]
    },
    {
     "name": "stdout",
     "output_type": "stream",
     "text": [
      "['PRO_6334', 'PRO_22816']\n"
     ]
    },
    {
     "name": "stderr",
     "output_type": "stream",
     "text": [
      " 60%|██████████████████████████████▏                   | 301468/500000 [53:47<34:45, 95.18it/s]"
     ]
    },
    {
     "name": "stdout",
     "output_type": "stream",
     "text": [
      "['PRO_4960', 'PRO_3268']\n"
     ]
    },
    {
     "name": "stderr",
     "output_type": "stream",
     "text": [
      " 60%|██████████████████████████████▏                   | 301599/500000 [53:49<33:58, 97.33it/s]"
     ]
    },
    {
     "name": "stdout",
     "output_type": "stream",
     "text": [
      "['PRO_22156', 'PRO_17408']\n"
     ]
    },
    {
     "name": "stderr",
     "output_type": "stream",
     "text": [
      " 60%|██████████████████████████████▏                   | 301879/500000 [53:52<34:46, 94.96it/s]"
     ]
    },
    {
     "name": "stdout",
     "output_type": "stream",
     "text": [
      "['PRO_3403', 'PRO_17680']\n"
     ]
    },
    {
     "name": "stderr",
     "output_type": "stream",
     "text": [
      " 60%|██████████████████████████████▏                   | 302412/500000 [53:58<36:01, 91.41it/s]"
     ]
    },
    {
     "name": "stdout",
     "output_type": "stream",
     "text": [
      "['PRO_3665', 'PRO_21572']\n"
     ]
    },
    {
     "name": "stderr",
     "output_type": "stream",
     "text": [
      " 61%|██████████████████████████████▎                   | 303215/500000 [54:06<33:41, 97.35it/s]"
     ]
    },
    {
     "name": "stdout",
     "output_type": "stream",
     "text": [
      "['PRO_20801', 'PRO_662']\n"
     ]
    },
    {
     "name": "stderr",
     "output_type": "stream",
     "text": [
      " 61%|██████████████████████████████▍                   | 303895/500000 [54:13<34:37, 94.41it/s]"
     ]
    },
    {
     "name": "stdout",
     "output_type": "stream",
     "text": [
      "['PRO_13995', 'PRO_8039']\n"
     ]
    },
    {
     "name": "stderr",
     "output_type": "stream",
     "text": [
      " 61%|██████████████████████████████▍                   | 304956/500000 [54:25<33:49, 96.09it/s]"
     ]
    },
    {
     "name": "stdout",
     "output_type": "stream",
     "text": [
      "['PRO_5369', 'PRO_11578']\n"
     ]
    },
    {
     "name": "stderr",
     "output_type": "stream",
     "text": [
      " 61%|██████████████████████████████▋                   | 306667/500000 [54:42<32:58, 97.73it/s]"
     ]
    },
    {
     "name": "stdout",
     "output_type": "stream",
     "text": [
      "['PRO_8550', 'PRO_3097']\n"
     ]
    },
    {
     "name": "stderr",
     "output_type": "stream",
     "text": [
      " 62%|██████████████████████████████▉                   | 309949/500000 [55:17<32:01, 98.93it/s]"
     ]
    },
    {
     "name": "stdout",
     "output_type": "stream",
     "text": [
      "['PRO_22364', 'PRO_21038']\n"
     ]
    },
    {
     "name": "stderr",
     "output_type": "stream",
     "text": [
      " 62%|███████████████████████████████                   | 310029/500000 [55:18<32:57, 96.04it/s]"
     ]
    },
    {
     "name": "stdout",
     "output_type": "stream",
     "text": [
      "['PRO_21349', 'PRO_6008']\n"
     ]
    },
    {
     "name": "stderr",
     "output_type": "stream",
     "text": [
      " 62%|███████████████████████████████                   | 310851/500000 [55:26<33:04, 95.30it/s]"
     ]
    },
    {
     "name": "stdout",
     "output_type": "stream",
     "text": [
      "['PRO_20506', 'PRO_18464']\n"
     ]
    },
    {
     "name": "stderr",
     "output_type": "stream",
     "text": [
      " 62%|███████████████████████████████▏                  | 311803/500000 [55:36<32:13, 97.31it/s]"
     ]
    },
    {
     "name": "stdout",
     "output_type": "stream",
     "text": [
      "['PRO_9129', 'PRO_6761']\n"
     ]
    },
    {
     "name": "stderr",
     "output_type": "stream",
     "text": [
      " 63%|███████████████████████████████▎                  | 312985/500000 [55:48<32:04, 97.17it/s]"
     ]
    },
    {
     "name": "stdout",
     "output_type": "stream",
     "text": [
      "['PRO_3814', 'PRO_3477']\n"
     ]
    },
    {
     "name": "stderr",
     "output_type": "stream",
     "text": [
      " 63%|███████████████████████████████▎                  | 313736/500000 [55:56<31:47, 97.67it/s]"
     ]
    },
    {
     "name": "stdout",
     "output_type": "stream",
     "text": [
      "['PRO_5048', 'PRO_6083']\n"
     ]
    },
    {
     "name": "stderr",
     "output_type": "stream",
     "text": [
      " 63%|███████████████████████████████▍                  | 313797/500000 [55:57<31:47, 97.62it/s]"
     ]
    },
    {
     "name": "stdout",
     "output_type": "stream",
     "text": [
      "['PRO_16126', 'PRO_21734']\n"
     ]
    },
    {
     "name": "stderr",
     "output_type": "stream",
     "text": [
      " 63%|███████████████████████████████▌                  | 315263/500000 [56:12<31:31, 97.66it/s]"
     ]
    },
    {
     "name": "stdout",
     "output_type": "stream",
     "text": [
      "['PRO_2046', 'PRO_4999']\n"
     ]
    },
    {
     "name": "stderr",
     "output_type": "stream",
     "text": [
      " 63%|███████████████████████████████▌                  | 315765/500000 [56:17<31:38, 97.06it/s]"
     ]
    },
    {
     "name": "stdout",
     "output_type": "stream",
     "text": [
      "['PRO_3392', 'PRO_7925']\n"
     ]
    },
    {
     "name": "stderr",
     "output_type": "stream",
     "text": [
      " 63%|███████████████████████████████▋                  | 316707/500000 [56:27<32:18, 94.57it/s]"
     ]
    },
    {
     "name": "stdout",
     "output_type": "stream",
     "text": [
      "['PRO_22884', 'PRO_16834']\n"
     ]
    },
    {
     "name": "stderr",
     "output_type": "stream",
     "text": [
      " 63%|███████████████████████████████▋                  | 317098/500000 [56:31<31:26, 96.95it/s]"
     ]
    },
    {
     "name": "stdout",
     "output_type": "stream",
     "text": [
      "['PRO_4960', 'PRO_9726']\n"
     ]
    },
    {
     "name": "stderr",
     "output_type": "stream",
     "text": [
      " 63%|███████████████████████████████▋                  | 317129/500000 [56:32<31:20, 97.22it/s]"
     ]
    },
    {
     "name": "stdout",
     "output_type": "stream",
     "text": [
      "['PRO_23268', 'PRO_7791']\n"
     ]
    },
    {
     "name": "stderr",
     "output_type": "stream",
     "text": [
      " 64%|████████████████████████████████                  | 320543/500000 [57:07<30:44, 97.28it/s]"
     ]
    },
    {
     "name": "stdout",
     "output_type": "stream",
     "text": [
      "['PRO_11707', 'PRO_6209']\n"
     ]
    },
    {
     "name": "stderr",
     "output_type": "stream",
     "text": [
      " 64%|████████████████████████████████                  | 320864/500000 [57:10<30:19, 98.47it/s]"
     ]
    },
    {
     "name": "stdout",
     "output_type": "stream",
     "text": [
      "['PRO_9646', 'PRO_6967']\n"
     ]
    },
    {
     "name": "stderr",
     "output_type": "stream",
     "text": [
      " 64%|████████████████████████████████▏                 | 321337/500000 [57:15<30:23, 97.96it/s]"
     ]
    },
    {
     "name": "stdout",
     "output_type": "stream",
     "text": [
      "['PRO_7779', 'PRO_5450']\n"
     ]
    },
    {
     "name": "stderr",
     "output_type": "stream",
     "text": [
      " 64%|████████████████████████████████▏                 | 321529/500000 [57:17<30:03, 98.95it/s]"
     ]
    },
    {
     "name": "stdout",
     "output_type": "stream",
     "text": [
      "['PRO_21391', 'PRO_18483']\n"
     ]
    },
    {
     "name": "stderr",
     "output_type": "stream",
     "text": [
      " 65%|████████████████████████████████▎                 | 323454/500000 [57:37<30:59, 94.97it/s]"
     ]
    },
    {
     "name": "stdout",
     "output_type": "stream",
     "text": [
      "['PRO_21895', 'PRO_17408']\n"
     ]
    },
    {
     "name": "stderr",
     "output_type": "stream",
     "text": [
      " 65%|████████████████████████████████▎                 | 323615/500000 [57:39<29:55, 98.24it/s]"
     ]
    },
    {
     "name": "stdout",
     "output_type": "stream",
     "text": [
      "['PRO_18386', 'PRO_2291']\n"
     ]
    },
    {
     "name": "stderr",
     "output_type": "stream",
     "text": [
      " 65%|████████████████████████████████▍                 | 323797/500000 [57:41<29:59, 97.91it/s]"
     ]
    },
    {
     "name": "stdout",
     "output_type": "stream",
     "text": [
      "['PRO_7890', 'PRO_7845']\n"
     ]
    },
    {
     "name": "stderr",
     "output_type": "stream",
     "text": [
      " 65%|████████████████████████████████▍                 | 323859/500000 [57:41<29:41, 98.84it/s]"
     ]
    },
    {
     "name": "stdout",
     "output_type": "stream",
     "text": [
      "['PRO_2584', 'PRO_9622']\n"
     ]
    },
    {
     "name": "stderr",
     "output_type": "stream",
     "text": [
      " 65%|████████████████████████████████▍                 | 324541/500000 [57:49<30:01, 97.39it/s]"
     ]
    },
    {
     "name": "stdout",
     "output_type": "stream",
     "text": [
      "['PRO_22447', 'PRO_19084']\n",
      "['PRO_19023', 'PRO_3189']\n"
     ]
    },
    {
     "name": "stderr",
     "output_type": "stream",
     "text": [
      " 65%|████████████████████████████████▌                 | 325342/500000 [57:57<29:38, 98.22it/s]"
     ]
    },
    {
     "name": "stdout",
     "output_type": "stream",
     "text": [
      "['PRO_17575', 'PRO_11215']\n"
     ]
    },
    {
     "name": "stderr",
     "output_type": "stream",
     "text": [
      " 66%|████████████████████████████████▊                 | 327513/500000 [58:20<29:25, 97.68it/s]"
     ]
    },
    {
     "name": "stdout",
     "output_type": "stream",
     "text": [
      "['PRO_15985', 'PRO_4076']\n",
      "['PRO_7844', 'PRO_8837']\n"
     ]
    },
    {
     "name": "stderr",
     "output_type": "stream",
     "text": [
      " 66%|████████████████████████████████▊                 | 327804/500000 [58:23<29:49, 96.21it/s]"
     ]
    },
    {
     "name": "stdout",
     "output_type": "stream",
     "text": [
      "['PRO_6609', 'PRO_19085']\n"
     ]
    },
    {
     "name": "stderr",
     "output_type": "stream",
     "text": [
      " 66%|████████████████████████████████▉                 | 329475/500000 [58:40<29:10, 97.39it/s]"
     ]
    },
    {
     "name": "stdout",
     "output_type": "stream",
     "text": [
      "['PRO_23061', 'PRO_22183']\n"
     ]
    },
    {
     "name": "stderr",
     "output_type": "stream",
     "text": [
      " 66%|████████████████████████████████▉                 | 329755/500000 [58:43<29:44, 95.39it/s]"
     ]
    },
    {
     "name": "stdout",
     "output_type": "stream",
     "text": [
      "['PRO_15508', 'PRO_19774']\n"
     ]
    },
    {
     "name": "stderr",
     "output_type": "stream",
     "text": [
      " 66%|█████████████████████████████████                 | 330587/500000 [58:52<29:13, 96.64it/s]"
     ]
    },
    {
     "name": "stdout",
     "output_type": "stream",
     "text": [
      "['PRO_18698', 'PRO_22867']\n"
     ]
    },
    {
     "name": "stderr",
     "output_type": "stream",
     "text": [
      " 66%|█████████████████████████████████▏                | 332410/500000 [59:11<28:42, 97.31it/s]"
     ]
    },
    {
     "name": "stdout",
     "output_type": "stream",
     "text": [
      "['PRO_5778', 'PRO_13463']\n"
     ]
    },
    {
     "name": "stderr",
     "output_type": "stream",
     "text": [
      " 67%|█████████████████████████████████▎                | 333093/500000 [59:18<28:31, 97.53it/s]"
     ]
    },
    {
     "name": "stdout",
     "output_type": "stream",
     "text": [
      "['PRO_4326', 'PRO_19820']\n"
     ]
    },
    {
     "name": "stderr",
     "output_type": "stream",
     "text": [
      " 67%|█████████████████████████████████▎                | 333194/500000 [59:19<28:30, 97.52it/s]"
     ]
    },
    {
     "name": "stdout",
     "output_type": "stream",
     "text": [
      "['PRO_6683', 'PRO_13183']\n"
     ]
    },
    {
     "name": "stderr",
     "output_type": "stream",
     "text": [
      " 67%|████████████████████████████████▍               | 337487/500000 [1:00:04<28:03, 96.53it/s]"
     ]
    },
    {
     "name": "stdout",
     "output_type": "stream",
     "text": [
      "['PRO_12781', 'PRO_19048']\n"
     ]
    },
    {
     "name": "stderr",
     "output_type": "stream",
     "text": [
      " 68%|████████████████████████████████▌               | 338908/500000 [1:00:19<28:06, 95.54it/s]"
     ]
    },
    {
     "name": "stdout",
     "output_type": "stream",
     "text": [
      "['PRO_450', 'PRO_11300']\n"
     ]
    },
    {
     "name": "stderr",
     "output_type": "stream",
     "text": [
      " 68%|████████████████████████████████▌               | 339388/500000 [1:00:24<28:09, 95.08it/s]"
     ]
    },
    {
     "name": "stdout",
     "output_type": "stream",
     "text": [
      "['PRO_6729', 'PRO_6673']\n"
     ]
    },
    {
     "name": "stderr",
     "output_type": "stream",
     "text": [
      " 68%|████████████████████████████████▋               | 340656/500000 [1:00:38<28:21, 93.62it/s]\n"
     ]
    },
    {
     "ename": "KeyboardInterrupt",
     "evalue": "",
     "output_type": "error",
     "traceback": [
      "\u001b[0;31m---------------------------------------------------------------------------\u001b[0m",
      "\u001b[0;31mKeyboardInterrupt\u001b[0m                         Traceback (most recent call last)",
      "Input \u001b[0;32mIn [276]\u001b[0m, in \u001b[0;36m<cell line: 2>\u001b[0;34m()\u001b[0m\n\u001b[1;32m      7\u001b[0m     \u001b[38;5;28;01mcontinue\u001b[39;00m\n\u001b[1;32m      8\u001b[0m \u001b[38;5;28;01melse\u001b[39;00m:\n\u001b[0;32m----> 9\u001b[0m     \u001b[43mneg_train_pairs\u001b[49m\u001b[38;5;241m.\u001b[39mappend(i)\n",
      "\u001b[0;31mKeyboardInterrupt\u001b[0m: "
     ]
    }
   ],
   "source": [
    "neg_train_pairs = []\n",
    "for i in tqdm(all_possible_train_set_protein_pairs):\n",
    "    \n",
    "    if i in positive_train_set_pairs:\n",
    "        print(i)\n",
    "        \n",
    "        continue\n",
    "    else:\n",
    "        neg_train_pairs.append(i)"
   ]
  },
  {
   "cell_type": "code",
   "execution_count": 279,
   "id": "f22e52c6",
   "metadata": {},
   "outputs": [
    {
     "data": {
      "text/plain": [
       "340148"
      ]
     },
     "execution_count": 279,
     "metadata": {},
     "output_type": "execute_result"
    }
   ],
   "source": [
    "len(neg_train_pairs)"
   ]
  },
  {
   "cell_type": "code",
   "execution_count": 282,
   "id": "c0845573",
   "metadata": {},
   "outputs": [],
   "source": [
    "neg_train_pairs_subset = random.sample(neg_train_pairs,len(train_data_pos) - len(train_data_neg))"
   ]
  },
  {
   "cell_type": "code",
   "execution_count": 296,
   "id": "93bf87a8",
   "metadata": {},
   "outputs": [],
   "source": [
    "neg_train_set_pairs = []\n",
    "for index,row in train_data_neg.iterrows():\n",
    "   \n",
    "    neg_train_set_pairs.append([row.Protein_A,row.Protein_B])"
   ]
  },
  {
   "cell_type": "code",
   "execution_count": 303,
   "id": "43ba4e5b",
   "metadata": {},
   "outputs": [
    {
     "data": {
      "text/plain": [
       "True"
      ]
     },
     "execution_count": 303,
     "metadata": {},
     "output_type": "execute_result"
    }
   ],
   "source": [
    "\n",
    "len(neg_train_pairs_subset)  +  len(neg_train_set_pairs) == len(train_data_pos) "
   ]
  },
  {
   "cell_type": "code",
   "execution_count": 305,
   "id": "5f141fce",
   "metadata": {},
   "outputs": [],
   "source": [
    "neg_train_set_pairs.extend(neg_train_pairs_subset)"
   ]
  },
  {
   "cell_type": "code",
   "execution_count": 307,
   "id": "d0883461",
   "metadata": {},
   "outputs": [],
   "source": [
    "li_A = []\n",
    "li_B = []\n",
    "label = []\n",
    "l = 0\n",
    "for i,j in neg_train_set_pairs:\n",
    "    \n",
    "    li_A.append(i)\n",
    "    li_B.append(j)\n",
    "    label.append(0)\n",
    "train_set_1 = pd.DataFrame()\n",
    "train_set_1['Protein_A'] = li_A\n",
    "train_set_1['Protein_B'] = li_B\n",
    "train_set_1['label'] = label   "
   ]
  },
  {
   "cell_type": "code",
   "execution_count": 308,
   "id": "943706bc",
   "metadata": {},
   "outputs": [
    {
     "data": {
      "text/html": [
       "<div>\n",
       "<style scoped>\n",
       "    .dataframe tbody tr th:only-of-type {\n",
       "        vertical-align: middle;\n",
       "    }\n",
       "\n",
       "    .dataframe tbody tr th {\n",
       "        vertical-align: top;\n",
       "    }\n",
       "\n",
       "    .dataframe thead th {\n",
       "        text-align: right;\n",
       "    }\n",
       "</style>\n",
       "<table border=\"1\" class=\"dataframe\">\n",
       "  <thead>\n",
       "    <tr style=\"text-align: right;\">\n",
       "      <th></th>\n",
       "      <th>Protein_A</th>\n",
       "      <th>Protein_B</th>\n",
       "      <th>label</th>\n",
       "    </tr>\n",
       "  </thead>\n",
       "  <tbody>\n",
       "    <tr>\n",
       "      <th>0</th>\n",
       "      <td>PRO_11741</td>\n",
       "      <td>PRO_6542</td>\n",
       "      <td>0</td>\n",
       "    </tr>\n",
       "    <tr>\n",
       "      <th>1</th>\n",
       "      <td>PRO_7768</td>\n",
       "      <td>PRO_13606</td>\n",
       "      <td>0</td>\n",
       "    </tr>\n",
       "    <tr>\n",
       "      <th>2</th>\n",
       "      <td>PRO_5048</td>\n",
       "      <td>PRO_9731</td>\n",
       "      <td>0</td>\n",
       "    </tr>\n",
       "    <tr>\n",
       "      <th>3</th>\n",
       "      <td>PRO_18321</td>\n",
       "      <td>PRO_2272</td>\n",
       "      <td>0</td>\n",
       "    </tr>\n",
       "    <tr>\n",
       "      <th>4</th>\n",
       "      <td>PRO_17725</td>\n",
       "      <td>PRO_8548</td>\n",
       "      <td>0</td>\n",
       "    </tr>\n",
       "    <tr>\n",
       "      <th>...</th>\n",
       "      <td>...</td>\n",
       "      <td>...</td>\n",
       "      <td>...</td>\n",
       "    </tr>\n",
       "    <tr>\n",
       "      <th>241814</th>\n",
       "      <td>PRO_6778</td>\n",
       "      <td>PRO_18574</td>\n",
       "      <td>0</td>\n",
       "    </tr>\n",
       "    <tr>\n",
       "      <th>241815</th>\n",
       "      <td>PRO_6260</td>\n",
       "      <td>PRO_20220</td>\n",
       "      <td>0</td>\n",
       "    </tr>\n",
       "    <tr>\n",
       "      <th>241816</th>\n",
       "      <td>PRO_8204</td>\n",
       "      <td>PRO_8043</td>\n",
       "      <td>0</td>\n",
       "    </tr>\n",
       "    <tr>\n",
       "      <th>241817</th>\n",
       "      <td>PRO_83</td>\n",
       "      <td>PRO_3278</td>\n",
       "      <td>0</td>\n",
       "    </tr>\n",
       "    <tr>\n",
       "      <th>241818</th>\n",
       "      <td>PRO_12432</td>\n",
       "      <td>PRO_14075</td>\n",
       "      <td>0</td>\n",
       "    </tr>\n",
       "  </tbody>\n",
       "</table>\n",
       "<p>241819 rows × 3 columns</p>\n",
       "</div>"
      ],
      "text/plain": [
       "        Protein_A  Protein_B  label\n",
       "0       PRO_11741   PRO_6542      0\n",
       "1        PRO_7768  PRO_13606      0\n",
       "2        PRO_5048   PRO_9731      0\n",
       "3       PRO_18321   PRO_2272      0\n",
       "4       PRO_17725   PRO_8548      0\n",
       "...           ...        ...    ...\n",
       "241814   PRO_6778  PRO_18574      0\n",
       "241815   PRO_6260  PRO_20220      0\n",
       "241816   PRO_8204   PRO_8043      0\n",
       "241817     PRO_83   PRO_3278      0\n",
       "241818  PRO_12432  PRO_14075      0\n",
       "\n",
       "[241819 rows x 3 columns]"
      ]
     },
     "execution_count": 308,
     "metadata": {},
     "output_type": "execute_result"
    }
   ],
   "source": [
    "train_set_1"
   ]
  },
  {
   "cell_type": "code",
   "execution_count": 318,
   "id": "a4931ef0",
   "metadata": {},
   "outputs": [
    {
     "data": {
      "text/plain": [
       "241819"
      ]
     },
     "execution_count": 318,
     "metadata": {},
     "output_type": "execute_result"
    }
   ],
   "source": [
    "positive_train_set_pairs = []\n",
    "for index,row in train_pos_data.iterrows():\n",
    "    positive_train_set_pairs.append([row.Protein_A,row.Protein_B])\n",
    "    \n",
    "    \n",
    "    \n",
    "len(positive_train_set_pairs)"
   ]
  },
  {
   "cell_type": "code",
   "execution_count": 311,
   "id": "a94b466d",
   "metadata": {},
   "outputs": [],
   "source": [
    "all_pairs_neg_train_1 = [[row.Protein_A,row.Protein_B] for index,row in train_set_1.iterrows()]"
   ]
  },
  {
   "cell_type": "code",
   "execution_count": 312,
   "id": "5cbf2bf9",
   "metadata": {},
   "outputs": [],
   "source": [
    "all_pairs_neg_train_2 = [[[row.Protein_B,row.Protein_A]] for index,row in train_set_1.iterrows()]\n"
   ]
  },
  {
   "cell_type": "code",
   "execution_count": 313,
   "id": "c15e7bf7",
   "metadata": {},
   "outputs": [],
   "source": [
    "all_pairs_neg_train_1.extend(all_pairs_neg_train_2)\n",
    "all_pairs_neg_train = all_pairs_neg_train_1"
   ]
  },
  {
   "cell_type": "code",
   "execution_count": 319,
   "id": "c0bb8a99",
   "metadata": {},
   "outputs": [
    {
     "name": "stderr",
     "output_type": "stream",
     "text": [
      "  0%|                                                     | 72/483638 [00:00<45:22, 177.63it/s]"
     ]
    },
    {
     "name": "stdout",
     "output_type": "stream",
     "text": [
      "['PRO_7922', 'PRO_4216']\n",
      "['PRO_7922', 'PRO_4216']\n",
      "['PRO_17033', 'PRO_17157']\n"
     ]
    },
    {
     "name": "stderr",
     "output_type": "stream",
     "text": [
      "  0%|                                                    | 297/483638 [00:01<44:51, 179.57it/s]"
     ]
    },
    {
     "name": "stdout",
     "output_type": "stream",
     "text": [
      "['PRO_3824', 'PRO_8548']\n"
     ]
    },
    {
     "name": "stderr",
     "output_type": "stream",
     "text": [
      "  0%|                                                    | 373/483638 [00:02<44:28, 181.08it/s]"
     ]
    },
    {
     "name": "stdout",
     "output_type": "stream",
     "text": [
      "['PRO_20436', 'PRO_19429']\n"
     ]
    },
    {
     "name": "stderr",
     "output_type": "stream",
     "text": [
      "  0%|                                                    | 430/483638 [00:02<44:09, 182.41it/s]"
     ]
    },
    {
     "name": "stdout",
     "output_type": "stream",
     "text": [
      "['PRO_18144', 'PRO_23208']\n",
      "['PRO_9113', 'PRO_9113']\n"
     ]
    },
    {
     "name": "stderr",
     "output_type": "stream",
     "text": [
      "  0%|                                                    | 470/483638 [00:02<42:34, 189.16it/s]"
     ]
    },
    {
     "name": "stdout",
     "output_type": "stream",
     "text": [
      "['PRO_7720', 'PRO_11426']\n",
      "['PRO_4484', 'PRO_7195']\n",
      "['PRO_18066', 'PRO_14906']\n",
      "['PRO_6004', 'PRO_8375']\n",
      "['PRO_6891', 'PRO_12105']\n"
     ]
    },
    {
     "name": "stderr",
     "output_type": "stream",
     "text": [
      "  0%|                                                    | 528/483638 [00:02<42:27, 189.64it/s]"
     ]
    },
    {
     "name": "stdout",
     "output_type": "stream",
     "text": [
      "['PRO_587', 'PRO_12105']\n",
      "['PRO_20923', 'PRO_4490']\n"
     ]
    },
    {
     "name": "stderr",
     "output_type": "stream",
     "text": [
      "  0%|                                                    | 566/483638 [00:03<42:30, 189.42it/s]"
     ]
    },
    {
     "name": "stdout",
     "output_type": "stream",
     "text": [
      "['PRO_11545', 'PRO_6303']\n",
      "['PRO_7720', 'PRO_4490']\n"
     ]
    },
    {
     "name": "stderr",
     "output_type": "stream",
     "text": [
      "  0%|                                                    | 626/483638 [00:03<43:34, 184.75it/s]"
     ]
    },
    {
     "name": "stdout",
     "output_type": "stream",
     "text": [
      "['PRO_8626', 'PRO_16638']\n",
      "['PRO_4881', 'PRO_15596']\n",
      "['PRO_8725', 'PRO_17600']\n",
      "['PRO_20923', 'PRO_12105']\n"
     ]
    },
    {
     "name": "stderr",
     "output_type": "stream",
     "text": [
      "  0%|                                                    | 779/483638 [00:04<43:45, 183.91it/s]"
     ]
    },
    {
     "name": "stdout",
     "output_type": "stream",
     "text": [
      "['PRO_4881', 'PRO_6240']\n"
     ]
    },
    {
     "name": "stderr",
     "output_type": "stream",
     "text": [
      "  0%|                                                    | 838/483638 [00:04<42:39, 188.66it/s]"
     ]
    },
    {
     "name": "stdout",
     "output_type": "stream",
     "text": [
      "['PRO_11424', 'PRO_16638']\n",
      "['PRO_9991', 'PRO_4835']\n",
      "['PRO_22667', 'PRO_4490']\n"
     ]
    },
    {
     "name": "stderr",
     "output_type": "stream",
     "text": [
      "  0%|                                                    | 896/483638 [00:04<42:34, 188.96it/s]"
     ]
    },
    {
     "name": "stdout",
     "output_type": "stream",
     "text": [
      "['PRO_4490', 'PRO_12105']\n",
      "['PRO_22677', 'PRO_19305']\n",
      "['PRO_11545', 'PRO_3087']\n",
      "['PRO_6891', 'PRO_20923']\n",
      "['PRO_9623', 'PRO_11424']\n"
     ]
    },
    {
     "name": "stderr",
     "output_type": "stream",
     "text": [
      "  0%|                                                    | 993/483638 [00:05<43:26, 185.15it/s]"
     ]
    },
    {
     "name": "stdout",
     "output_type": "stream",
     "text": [
      "['PRO_20237', 'PRO_3087']\n",
      "['PRO_11424', 'PRO_22741']\n"
     ]
    },
    {
     "name": "stderr",
     "output_type": "stream",
     "text": [
      "  0%|                                                   | 1051/483638 [00:05<43:58, 182.92it/s]"
     ]
    },
    {
     "name": "stdout",
     "output_type": "stream",
     "text": [
      "['PRO_22741', 'PRO_16638']\n"
     ]
    },
    {
     "name": "stderr",
     "output_type": "stream",
     "text": [
      "100%|█████████████████████████████████████████████████| 483638/483638 [33:50<00:00, 238.13it/s]\n"
     ]
    }
   ],
   "source": [
    "repeat =[]\n",
    "for i in tqdm(all_pairs_neg_train):\n",
    "    \n",
    "    if i in positive_train_set_pairs:\n",
    "         print(i)\n",
    "         repeat.append(i)"
   ]
  },
  {
   "cell_type": "code",
   "execution_count": 320,
   "id": "45d40a26",
   "metadata": {},
   "outputs": [
    {
     "data": {
      "text/plain": [
       "32"
      ]
     },
     "execution_count": 320,
     "metadata": {},
     "output_type": "execute_result"
    }
   ],
   "source": [
    "len(repeat)"
   ]
  },
  {
   "cell_type": "code",
   "execution_count": 321,
   "id": "df02f535",
   "metadata": {},
   "outputs": [
    {
     "data": {
      "text/plain": [
       "[['PRO_7922', 'PRO_4216'],\n",
       " ['PRO_7922', 'PRO_4216'],\n",
       " ['PRO_17033', 'PRO_17157'],\n",
       " ['PRO_3824', 'PRO_8548'],\n",
       " ['PRO_20436', 'PRO_19429'],\n",
       " ['PRO_18144', 'PRO_23208'],\n",
       " ['PRO_9113', 'PRO_9113'],\n",
       " ['PRO_7720', 'PRO_11426'],\n",
       " ['PRO_4484', 'PRO_7195'],\n",
       " ['PRO_18066', 'PRO_14906'],\n",
       " ['PRO_6004', 'PRO_8375'],\n",
       " ['PRO_6891', 'PRO_12105'],\n",
       " ['PRO_587', 'PRO_12105'],\n",
       " ['PRO_20923', 'PRO_4490'],\n",
       " ['PRO_11545', 'PRO_6303'],\n",
       " ['PRO_7720', 'PRO_4490'],\n",
       " ['PRO_8626', 'PRO_16638'],\n",
       " ['PRO_4881', 'PRO_15596'],\n",
       " ['PRO_8725', 'PRO_17600'],\n",
       " ['PRO_20923', 'PRO_12105'],\n",
       " ['PRO_4881', 'PRO_6240'],\n",
       " ['PRO_11424', 'PRO_16638'],\n",
       " ['PRO_9991', 'PRO_4835'],\n",
       " ['PRO_22667', 'PRO_4490'],\n",
       " ['PRO_4490', 'PRO_12105'],\n",
       " ['PRO_22677', 'PRO_19305'],\n",
       " ['PRO_11545', 'PRO_3087'],\n",
       " ['PRO_6891', 'PRO_20923'],\n",
       " ['PRO_9623', 'PRO_11424'],\n",
       " ['PRO_20237', 'PRO_3087'],\n",
       " ['PRO_11424', 'PRO_22741'],\n",
       " ['PRO_22741', 'PRO_16638']]"
      ]
     },
     "execution_count": 321,
     "metadata": {},
     "output_type": "execute_result"
    }
   ],
   "source": [
    "repeat"
   ]
  },
  {
   "cell_type": "code",
   "execution_count": 323,
   "id": "16813041",
   "metadata": {},
   "outputs": [],
   "source": [
    "rep_2 = []\n",
    "for i in repeat:\n",
    "    rep_2.append([i[1],i[0]])"
   ]
  },
  {
   "cell_type": "code",
   "execution_count": 326,
   "id": "71e05edf",
   "metadata": {},
   "outputs": [],
   "source": [
    "rep_2.extend(repeat)"
   ]
  },
  {
   "cell_type": "code",
   "execution_count": 332,
   "id": "e765580f",
   "metadata": {},
   "outputs": [
    {
     "name": "stderr",
     "output_type": "stream",
     "text": [
      "100%|██████████████████████████████████████████████| 241819/241819 [00:00<00:00, 546998.94it/s]\n"
     ]
    }
   ],
   "source": [
    "all_pairs_neg_train = [[row.Protein_A,row.Protein_B] for index,row in train_set_1.iterrows()]\n",
    "real_test_pairs = []\n",
    "for i in tqdm(all_pairs_neg_train):\n",
    "    \n",
    "    if i in rep_2:\n",
    "        continue\n",
    "    else:\n",
    "        real_test_pairs.append(i)"
   ]
  },
  {
   "cell_type": "code",
   "execution_count": 333,
   "id": "8a4abd2b",
   "metadata": {},
   "outputs": [
    {
     "data": {
      "text/plain": [
       "241787"
      ]
     },
     "execution_count": 333,
     "metadata": {},
     "output_type": "execute_result"
    }
   ],
   "source": [
    "len(real_test_pairs)\n"
   ]
  },
  {
   "cell_type": "code",
   "execution_count": 334,
   "id": "e37b627e",
   "metadata": {},
   "outputs": [],
   "source": [
    "li_A = []\n",
    "li_B = []\n",
    "label = []\n",
    "l = 0\n",
    "for i,j in real_test_pairs:\n",
    "    \n",
    "    li_A.append(i)\n",
    "    li_B.append(j)\n",
    "    label.append(0)\n",
    "train_set_1 = pd.DataFrame()\n",
    "train_set_1['Protein_A'] = li_A\n",
    "train_set_1['Protein_B'] = li_B\n",
    "train_set_1['label'] = label  "
   ]
  },
  {
   "cell_type": "code",
   "execution_count": 335,
   "id": "beccd248",
   "metadata": {},
   "outputs": [
    {
     "data": {
      "text/html": [
       "<div>\n",
       "<style scoped>\n",
       "    .dataframe tbody tr th:only-of-type {\n",
       "        vertical-align: middle;\n",
       "    }\n",
       "\n",
       "    .dataframe tbody tr th {\n",
       "        vertical-align: top;\n",
       "    }\n",
       "\n",
       "    .dataframe thead th {\n",
       "        text-align: right;\n",
       "    }\n",
       "</style>\n",
       "<table border=\"1\" class=\"dataframe\">\n",
       "  <thead>\n",
       "    <tr style=\"text-align: right;\">\n",
       "      <th></th>\n",
       "      <th>Protein_A</th>\n",
       "      <th>Protein_B</th>\n",
       "      <th>label</th>\n",
       "    </tr>\n",
       "  </thead>\n",
       "  <tbody>\n",
       "    <tr>\n",
       "      <th>0</th>\n",
       "      <td>PRO_11741</td>\n",
       "      <td>PRO_6542</td>\n",
       "      <td>0</td>\n",
       "    </tr>\n",
       "    <tr>\n",
       "      <th>1</th>\n",
       "      <td>PRO_7768</td>\n",
       "      <td>PRO_13606</td>\n",
       "      <td>0</td>\n",
       "    </tr>\n",
       "    <tr>\n",
       "      <th>2</th>\n",
       "      <td>PRO_5048</td>\n",
       "      <td>PRO_9731</td>\n",
       "      <td>0</td>\n",
       "    </tr>\n",
       "    <tr>\n",
       "      <th>3</th>\n",
       "      <td>PRO_18321</td>\n",
       "      <td>PRO_2272</td>\n",
       "      <td>0</td>\n",
       "    </tr>\n",
       "    <tr>\n",
       "      <th>4</th>\n",
       "      <td>PRO_17725</td>\n",
       "      <td>PRO_8548</td>\n",
       "      <td>0</td>\n",
       "    </tr>\n",
       "    <tr>\n",
       "      <th>...</th>\n",
       "      <td>...</td>\n",
       "      <td>...</td>\n",
       "      <td>...</td>\n",
       "    </tr>\n",
       "    <tr>\n",
       "      <th>241782</th>\n",
       "      <td>PRO_6778</td>\n",
       "      <td>PRO_18574</td>\n",
       "      <td>0</td>\n",
       "    </tr>\n",
       "    <tr>\n",
       "      <th>241783</th>\n",
       "      <td>PRO_6260</td>\n",
       "      <td>PRO_20220</td>\n",
       "      <td>0</td>\n",
       "    </tr>\n",
       "    <tr>\n",
       "      <th>241784</th>\n",
       "      <td>PRO_8204</td>\n",
       "      <td>PRO_8043</td>\n",
       "      <td>0</td>\n",
       "    </tr>\n",
       "    <tr>\n",
       "      <th>241785</th>\n",
       "      <td>PRO_83</td>\n",
       "      <td>PRO_3278</td>\n",
       "      <td>0</td>\n",
       "    </tr>\n",
       "    <tr>\n",
       "      <th>241786</th>\n",
       "      <td>PRO_12432</td>\n",
       "      <td>PRO_14075</td>\n",
       "      <td>0</td>\n",
       "    </tr>\n",
       "  </tbody>\n",
       "</table>\n",
       "<p>241787 rows × 3 columns</p>\n",
       "</div>"
      ],
      "text/plain": [
       "        Protein_A  Protein_B  label\n",
       "0       PRO_11741   PRO_6542      0\n",
       "1        PRO_7768  PRO_13606      0\n",
       "2        PRO_5048   PRO_9731      0\n",
       "3       PRO_18321   PRO_2272      0\n",
       "4       PRO_17725   PRO_8548      0\n",
       "...           ...        ...    ...\n",
       "241782   PRO_6778  PRO_18574      0\n",
       "241783   PRO_6260  PRO_20220      0\n",
       "241784   PRO_8204   PRO_8043      0\n",
       "241785     PRO_83   PRO_3278      0\n",
       "241786  PRO_12432  PRO_14075      0\n",
       "\n",
       "[241787 rows x 3 columns]"
      ]
     },
     "execution_count": 335,
     "metadata": {},
     "output_type": "execute_result"
    }
   ],
   "source": [
    "train_set_1"
   ]
  },
  {
   "cell_type": "code",
   "execution_count": 336,
   "id": "cb1b102a",
   "metadata": {},
   "outputs": [
    {
     "data": {
      "text/plain": [
       "[['PRO_1968', 'PRO_3259'],\n",
       " ['PRO_1968', 'PRO_20825'],\n",
       " ['PRO_1968', 'PRO_11236'],\n",
       " ['PRO_1968', 'PRO_16190'],\n",
       " ['PRO_1968', 'PRO_4579'],\n",
       " ['PRO_1968', 'PRO_21273'],\n",
       " ['PRO_1968', 'PRO_19023'],\n",
       " ['PRO_1968', 'PRO_1849'],\n",
       " ['PRO_1968', 'PRO_3697'],\n",
       " ['PRO_1968', 'PRO_16084'],\n",
       " ['PRO_9020', 'PRO_18013'],\n",
       " ['PRO_9020', 'PRO_2271'],\n",
       " ['PRO_9020', 'PRO_1976'],\n",
       " ['PRO_9020', 'PRO_10891'],\n",
       " ['PRO_5592', 'PRO_8120'],\n",
       " ['PRO_12282', 'PRO_11264'],\n",
       " ['PRO_12282', 'PRO_14708'],\n",
       " ['PRO_12282', 'PRO_3494'],\n",
       " ['PRO_12282', 'PRO_13433'],\n",
       " ['PRO_12282', 'PRO_11511'],\n",
       " ['PRO_12282', 'PRO_11595'],\n",
       " ['PRO_12282', 'PRO_12846'],\n",
       " ['PRO_12282', 'PRO_4167'],\n",
       " ['PRO_12282', 'PRO_9147'],\n",
       " ['PRO_12282', 'PRO_8367'],\n",
       " ['PRO_12282', 'PRO_2481'],\n",
       " ['PRO_12282', 'PRO_22364'],\n",
       " ['PRO_13649', 'PRO_5840'],\n",
       " ['PRO_13649', 'PRO_9113'],\n",
       " ['PRO_13649', 'PRO_13047'],\n",
       " ['PRO_13649', 'PRO_8877'],\n",
       " ['PRO_13649', 'PRO_2636'],\n",
       " ['PRO_13649', 'PRO_11903'],\n",
       " ['PRO_13649', 'PRO_8184'],\n",
       " ['PRO_13649', 'PRO_1587'],\n",
       " ['PRO_13649', 'PRO_10891'],\n",
       " ['PRO_19674', 'PRO_19290'],\n",
       " ['PRO_19674', 'PRO_6228'],\n",
       " ['PRO_19674', 'PRO_12343'],\n",
       " ['PRO_12552', 'PRO_7097'],\n",
       " ['PRO_12552', 'PRO_3894'],\n",
       " ['PRO_5827', 'PRO_5827'],\n",
       " ['PRO_5827', 'PRO_2315'],\n",
       " ['PRO_5827', 'PRO_5840'],\n",
       " ['PRO_5827', 'PRO_8517'],\n",
       " ['PRO_5827', 'PRO_3494'],\n",
       " ['PRO_5827', 'PRO_13574'],\n",
       " ['PRO_5827', 'PRO_11285'],\n",
       " ['PRO_5827', 'PRO_20425'],\n",
       " ['PRO_5827', 'PRO_6991'],\n",
       " ['PRO_10333', 'PRO_4176'],\n",
       " ['PRO_10333', 'PRO_1641'],\n",
       " ['PRO_10333', 'PRO_11332'],\n",
       " ['PRO_10333', 'PRO_12800'],\n",
       " ['PRO_10333', 'PRO_16831'],\n",
       " ['PRO_10333', 'PRO_4771'],\n",
       " ['PRO_10333', 'PRO_18907'],\n",
       " ['PRO_20114', 'PRO_2220'],\n",
       " ['PRO_19420', 'PRO_19488'],\n",
       " ['PRO_19420', 'PRO_4603'],\n",
       " ['PRO_19420', 'PRO_15125'],\n",
       " ['PRO_19420', 'PRO_15229'],\n",
       " ['PRO_19420', 'PRO_18097'],\n",
       " ['PRO_881', 'PRO_532'],\n",
       " ['PRO_881', 'PRO_662'],\n",
       " ['PRO_881', 'PRO_22965'],\n",
       " ['PRO_881', 'PRO_5476'],\n",
       " ['PRO_881', 'PRO_18844'],\n",
       " ['PRO_881', 'PRO_3194'],\n",
       " ['PRO_881', 'PRO_7210'],\n",
       " ['PRO_881', 'PRO_4794'],\n",
       " ['PRO_881', 'PRO_2188'],\n",
       " ['PRO_881', 'PRO_4769'],\n",
       " ['PRO_881', 'PRO_10858'],\n",
       " ['PRO_881', 'PRO_22458'],\n",
       " ['PRO_881', 'PRO_9586'],\n",
       " ['PRO_881', 'PRO_4667'],\n",
       " ['PRO_881', 'PRO_8877'],\n",
       " ['PRO_881', 'PRO_8656'],\n",
       " ['PRO_881', 'PRO_1077'],\n",
       " ['PRO_881', 'PRO_4901'],\n",
       " ['PRO_881', 'PRO_6498'],\n",
       " ['PRO_881', 'PRO_13328'],\n",
       " ['PRO_881', 'PRO_7141'],\n",
       " ['PRO_881', 'PRO_3629'],\n",
       " ['PRO_881', 'PRO_12418'],\n",
       " ['PRO_881', 'PRO_15324'],\n",
       " ['PRO_881', 'PRO_186'],\n",
       " ['PRO_881', 'PRO_530'],\n",
       " ['PRO_881', 'PRO_1721'],\n",
       " ['PRO_881', 'PRO_11496'],\n",
       " ['PRO_881', 'PRO_12782'],\n",
       " ['PRO_881', 'PRO_1809'],\n",
       " ['PRO_881', 'PRO_18432'],\n",
       " ['PRO_881', 'PRO_17145'],\n",
       " ['PRO_881', 'PRO_10399'],\n",
       " ['PRO_881', 'PRO_6826'],\n",
       " ['PRO_881', 'PRO_2980'],\n",
       " ['PRO_881', 'PRO_13754'],\n",
       " ['PRO_881', 'PRO_15125'],\n",
       " ['PRO_881', 'PRO_15229'],\n",
       " ['PRO_881', 'PRO_18020'],\n",
       " ['PRO_881', 'PRO_17710'],\n",
       " ['PRO_881', 'PRO_5712'],\n",
       " ['PRO_881', 'PRO_5394'],\n",
       " ['PRO_881', 'PRO_6246'],\n",
       " ['PRO_881', 'PRO_7304'],\n",
       " ['PRO_881', 'PRO_16086'],\n",
       " ['PRO_881', 'PRO_14783'],\n",
       " ['PRO_881', 'PRO_22503'],\n",
       " ['PRO_881', 'PRO_13151'],\n",
       " ['PRO_881', 'PRO_13875'],\n",
       " ['PRO_881', 'PRO_5075'],\n",
       " ['PRO_881', 'PRO_18097'],\n",
       " ['PRO_881', 'PRO_19520'],\n",
       " ['PRO_881', 'PRO_12251'],\n",
       " ['PRO_881', 'PRO_7039'],\n",
       " ['PRO_881', 'PRO_13577'],\n",
       " ['PRO_881', 'PRO_22986'],\n",
       " ['PRO_881', 'PRO_8112'],\n",
       " ['PRO_881', 'PRO_11482'],\n",
       " ['PRO_881', 'PRO_14404'],\n",
       " ['PRO_881', 'PRO_5427'],\n",
       " ['PRO_881', 'PRO_7395'],\n",
       " ['PRO_881', 'PRO_5334'],\n",
       " ['PRO_881', 'PRO_6102'],\n",
       " ['PRO_881', 'PRO_7225'],\n",
       " ['PRO_881', 'PRO_1039'],\n",
       " ['PRO_881', 'PRO_8897'],\n",
       " ['PRO_881', 'PRO_1899'],\n",
       " ['PRO_881', 'PRO_16746'],\n",
       " ['PRO_881', 'PRO_20965'],\n",
       " ['PRO_881', 'PRO_15932'],\n",
       " ['PRO_881', 'PRO_6376'],\n",
       " ['PRO_881', 'PRO_11627'],\n",
       " ['PRO_881', 'PRO_20841'],\n",
       " ['PRO_881', 'PRO_13563'],\n",
       " ['PRO_881', 'PRO_18860'],\n",
       " ['PRO_21408', 'PRO_2033'],\n",
       " ['PRO_21408', 'PRO_10722'],\n",
       " ['PRO_21408', 'PRO_8245'],\n",
       " ['PRO_21408', 'PRO_7595'],\n",
       " ['PRO_21408', 'PRO_3296'],\n",
       " ['PRO_21408', 'PRO_19447'],\n",
       " ['PRO_21408', 'PRO_10216'],\n",
       " ['PRO_15517', 'PRO_13134'],\n",
       " ['PRO_15517', 'PRO_6603'],\n",
       " ['PRO_15517', 'PRO_918'],\n",
       " ['PRO_15517', 'PRO_6954'],\n",
       " ['PRO_15517', 'PRO_7368'],\n",
       " ['PRO_15517', 'PRO_21100'],\n",
       " ['PRO_15517', 'PRO_8712'],\n",
       " ['PRO_1129', 'PRO_6203'],\n",
       " ['PRO_1129', 'PRO_7543'],\n",
       " ['PRO_1129', 'PRO_20195'],\n",
       " ['PRO_19934', 'PRO_15882'],\n",
       " ['PRO_19934', 'PRO_7305'],\n",
       " ['PRO_19934', 'PRO_17402'],\n",
       " ['PRO_19934', 'PRO_20365'],\n",
       " ['PRO_10028', 'PRO_3164'],\n",
       " ['PRO_10650', 'PRO_9646'],\n",
       " ['PRO_3381', 'PRO_2315'],\n",
       " ['PRO_3381', 'PRO_3494'],\n",
       " ['PRO_8873', 'PRO_11057'],\n",
       " ['PRO_8873', 'PRO_6124'],\n",
       " ['PRO_22459', 'PRO_1184'],\n",
       " ['PRO_7251', 'PRO_22787'],\n",
       " ['PRO_7251', 'PRO_23140'],\n",
       " ['PRO_17217', 'PRO_2116'],\n",
       " ['PRO_17217', 'PRO_15642'],\n",
       " ['PRO_17217', 'PRO_18192'],\n",
       " ['PRO_17217', 'PRO_5124'],\n",
       " ['PRO_17217', 'PRO_13029'],\n",
       " ['PRO_17217', 'PRO_14167'],\n",
       " ['PRO_17217', 'PRO_9573'],\n",
       " ['PRO_17217', 'PRO_6460'],\n",
       " ['PRO_17217', 'PRO_2948'],\n",
       " ['PRO_17217', 'PRO_7549'],\n",
       " ['PRO_17217', 'PRO_17847'],\n",
       " ['PRO_17217', 'PRO_19409'],\n",
       " ['PRO_17217', 'PRO_331'],\n",
       " ['PRO_17217', 'PRO_5548'],\n",
       " ['PRO_17217', 'PRO_11016'],\n",
       " ['PRO_17217', 'PRO_20561'],\n",
       " ['PRO_17217', 'PRO_16176'],\n",
       " ['PRO_17217', 'PRO_18338'],\n",
       " ['PRO_17217', 'PRO_21392'],\n",
       " ['PRO_17217', 'PRO_5005'],\n",
       " ['PRO_17217', 'PRO_4962'],\n",
       " ['PRO_17217', 'PRO_8082'],\n",
       " ['PRO_17217', 'PRO_2547'],\n",
       " ['PRO_17217', 'PRO_16745'],\n",
       " ['PRO_17217', 'PRO_9692'],\n",
       " ['PRO_17217', 'PRO_5491'],\n",
       " ['PRO_17217', 'PRO_8016'],\n",
       " ['PRO_17217', 'PRO_18020'],\n",
       " ['PRO_17217', 'PRO_9833'],\n",
       " ['PRO_17217', 'PRO_21581'],\n",
       " ['PRO_17217', 'PRO_22090'],\n",
       " ['PRO_17217', 'PRO_15031'],\n",
       " ['PRO_17217', 'PRO_7407'],\n",
       " ['PRO_17217', 'PRO_4990'],\n",
       " ['PRO_17217', 'PRO_22939'],\n",
       " ['PRO_17217', 'PRO_15527'],\n",
       " ['PRO_17217', 'PRO_20752'],\n",
       " ['PRO_17217', 'PRO_14416'],\n",
       " ['PRO_17217', 'PRO_977'],\n",
       " ['PRO_17217', 'PRO_9788'],\n",
       " ['PRO_11344', 'PRO_3353'],\n",
       " ['PRO_8341', 'PRO_2534'],\n",
       " ['PRO_14633', 'PRO_6296'],\n",
       " ['PRO_14633', 'PRO_22029'],\n",
       " ['PRO_14633', 'PRO_3307'],\n",
       " ['PRO_8572', 'PRO_12789'],\n",
       " ['PRO_8572', 'PRO_5446'],\n",
       " ['PRO_21722', 'PRO_21722'],\n",
       " ['PRO_21722', 'PRO_13871'],\n",
       " ['PRO_21722', 'PRO_14686'],\n",
       " ['PRO_21722', 'PRO_5050'],\n",
       " ['PRO_21722', 'PRO_10168'],\n",
       " ['PRO_21722', 'PRO_14016'],\n",
       " ['PRO_21722', 'PRO_11559'],\n",
       " ['PRO_21722', 'PRO_8155'],\n",
       " ['PRO_21722', 'PRO_15113'],\n",
       " ['PRO_21722', 'PRO_5485'],\n",
       " ['PRO_21722', 'PRO_10271'],\n",
       " ['PRO_21722', 'PRO_7141'],\n",
       " ['PRO_21722', 'PRO_3629'],\n",
       " ['PRO_21722', 'PRO_6108'],\n",
       " ['PRO_21722', 'PRO_7279'],\n",
       " ['PRO_21722', 'PRO_970'],\n",
       " ['PRO_21722', 'PRO_15819'],\n",
       " ['PRO_21722', 'PRO_17145'],\n",
       " ['PRO_21722', 'PRO_19434'],\n",
       " ['PRO_21722', 'PRO_19092'],\n",
       " ['PRO_21722', 'PRO_20570'],\n",
       " ['PRO_21722', 'PRO_10228'],\n",
       " ['PRO_21722', 'PRO_14783'],\n",
       " ['PRO_21722', 'PRO_6661'],\n",
       " ['PRO_21722', 'PRO_4325'],\n",
       " ['PRO_21722', 'PRO_8248'],\n",
       " ['PRO_21722', 'PRO_5748'],\n",
       " ['PRO_21722', 'PRO_4244'],\n",
       " ['PRO_21722', 'PRO_17177'],\n",
       " ['PRO_22846', 'PRO_18192'],\n",
       " ['PRO_22846', 'PRO_9110'],\n",
       " ['PRO_22846', 'PRO_19405'],\n",
       " ['PRO_22846', 'PRO_6246'],\n",
       " ['PRO_22846', 'PRO_9078'],\n",
       " ['PRO_2315', 'PRO_16275'],\n",
       " ['PRO_2315', 'PRO_14424'],\n",
       " ['PRO_2315', 'PRO_1377'],\n",
       " ['PRO_2315', 'PRO_20199'],\n",
       " ['PRO_2315', 'PRO_15493'],\n",
       " ['PRO_2315', 'PRO_2116'],\n",
       " ['PRO_2315', 'PRO_11813'],\n",
       " ['PRO_2315', 'PRO_15882'],\n",
       " ['PRO_2315', 'PRO_19610'],\n",
       " ['PRO_2315', 'PRO_10500'],\n",
       " ['PRO_2315', 'PRO_22819'],\n",
       " ['PRO_2315', 'PRO_6077'],\n",
       " ['PRO_2315', 'PRO_9065'],\n",
       " ['PRO_2315', 'PRO_9419'],\n",
       " ['PRO_2315', 'PRO_3872'],\n",
       " ['PRO_2315', 'PRO_9113'],\n",
       " ['PRO_2315', 'PRO_8144'],\n",
       " ['PRO_2315', 'PRO_9178'],\n",
       " ['PRO_2315', 'PRO_17729'],\n",
       " ['PRO_2315', 'PRO_8118'],\n",
       " ['PRO_2315', 'PRO_457'],\n",
       " ['PRO_2315', 'PRO_7613'],\n",
       " ['PRO_2315', 'PRO_22514'],\n",
       " ['PRO_2315', 'PRO_5182'],\n",
       " ['PRO_2315', 'PRO_23368'],\n",
       " ['PRO_2315', 'PRO_5845'],\n",
       " ['PRO_2315', 'PRO_10462'],\n",
       " ['PRO_2315', 'PRO_13433'],\n",
       " ['PRO_2315', 'PRO_14799'],\n",
       " ['PRO_2315', 'PRO_530'],\n",
       " ['PRO_2315', 'PRO_19405'],\n",
       " ['PRO_2315', 'PRO_19282'],\n",
       " ['PRO_2315', 'PRO_1019'],\n",
       " ['PRO_2315', 'PRO_17089'],\n",
       " ['PRO_2315', 'PRO_18748'],\n",
       " ['PRO_2315', 'PRO_14208'],\n",
       " ['PRO_2315', 'PRO_22288'],\n",
       " ['PRO_2315', 'PRO_18370'],\n",
       " ['PRO_2315', 'PRO_3137'],\n",
       " ['PRO_2315', 'PRO_19579'],\n",
       " ['PRO_2315', 'PRO_1049'],\n",
       " ['PRO_2315', 'PRO_16046'],\n",
       " ['PRO_2315', 'PRO_15633'],\n",
       " ['PRO_2315', 'PRO_3406'],\n",
       " ['PRO_2315', 'PRO_9990'],\n",
       " ['PRO_2315', 'PRO_5164'],\n",
       " ['PRO_2315', 'PRO_10312'],\n",
       " ['PRO_2315', 'PRO_7965'],\n",
       " ['PRO_2315', 'PRO_13720'],\n",
       " ['PRO_2315', 'PRO_6278'],\n",
       " ['PRO_2315', 'PRO_19873'],\n",
       " ['PRO_2315', 'PRO_13875'],\n",
       " ['PRO_2315', 'PRO_7407'],\n",
       " ['PRO_2315', 'PRO_10862'],\n",
       " ['PRO_2315', 'PRO_5633'],\n",
       " ['PRO_2315', 'PRO_4810'],\n",
       " ['PRO_2315', 'PRO_6661'],\n",
       " ['PRO_2315', 'PRO_10358'],\n",
       " ['PRO_2315', 'PRO_6394'],\n",
       " ['PRO_2315', 'PRO_23219'],\n",
       " ['PRO_2315', 'PRO_16082'],\n",
       " ['PRO_2315', 'PRO_17445'],\n",
       " ['PRO_2315', 'PRO_1802'],\n",
       " ['PRO_7012', 'PRO_15673'],\n",
       " ['PRO_7012', 'PRO_9038'],\n",
       " ['PRO_7012', 'PRO_560'],\n",
       " ['PRO_7012', 'PRO_2751'],\n",
       " ['PRO_7012', 'PRO_6345'],\n",
       " ['PRO_7012', 'PRO_7114'],\n",
       " ['PRO_6634', 'PRO_10504'],\n",
       " ['PRO_6634', 'PRO_8176'],\n",
       " ['PRO_6634', 'PRO_3671'],\n",
       " ['PRO_6634', 'PRO_20452'],\n",
       " ['PRO_6634', 'PRO_2534'],\n",
       " ['PRO_6634', 'PRO_4136'],\n",
       " ['PRO_6634', 'PRO_1327'],\n",
       " ['PRO_6634', 'PRO_14897'],\n",
       " ['PRO_6634', 'PRO_14586'],\n",
       " ['PRO_6634', 'PRO_19936'],\n",
       " ['PRO_6634', 'PRO_6777'],\n",
       " ['PRO_6634', 'PRO_16908'],\n",
       " ['PRO_6634', 'PRO_356'],\n",
       " ['PRO_6634', 'PRO_8553'],\n",
       " ['PRO_6634', 'PRO_5446'],\n",
       " ['PRO_6634', 'PRO_4579'],\n",
       " ['PRO_6634', 'PRO_22686'],\n",
       " ['PRO_6634', 'PRO_808'],\n",
       " ['PRO_6634', 'PRO_4232'],\n",
       " ['PRO_6634', 'PRO_21087'],\n",
       " ['PRO_6634', 'PRO_1746'],\n",
       " ['PRO_6634', 'PRO_3493'],\n",
       " ['PRO_6634', 'PRO_2738'],\n",
       " ['PRO_6634', 'PRO_6381'],\n",
       " ['PRO_6634', 'PRO_15110'],\n",
       " ['PRO_6634', 'PRO_5429'],\n",
       " ['PRO_6634', 'PRO_840'],\n",
       " ['PRO_6634', 'PRO_7137'],\n",
       " ['PRO_6634', 'PRO_17397'],\n",
       " ['PRO_6634', 'PRO_20717'],\n",
       " ['PRO_6634', 'PRO_9708'],\n",
       " ['PRO_6634', 'PRO_17601'],\n",
       " ['PRO_6634', 'PRO_19821'],\n",
       " ['PRO_6634', 'PRO_12583'],\n",
       " ['PRO_6634', 'PRO_17638'],\n",
       " ['PRO_8345', 'PRO_16102'],\n",
       " ['PRO_8345', 'PRO_3706'],\n",
       " ['PRO_8345', 'PRO_1248'],\n",
       " ['PRO_8345', 'PRO_15155'],\n",
       " ['PRO_11633', 'PRO_5050'],\n",
       " ['PRO_11633', 'PRO_6808'],\n",
       " ['PRO_11633', 'PRO_19384'],\n",
       " ['PRO_11633', 'PRO_15384'],\n",
       " ['PRO_11633', 'PRO_18041'],\n",
       " ['PRO_11633', 'PRO_17009'],\n",
       " ['PRO_11633', 'PRO_3629'],\n",
       " ['PRO_11633', 'PRO_22402'],\n",
       " ['PRO_11633', 'PRO_1246'],\n",
       " ['PRO_11633', 'PRO_7820'],\n",
       " ['PRO_11633', 'PRO_3220'],\n",
       " ['PRO_11633', 'PRO_14742'],\n",
       " ['PRO_11633', 'PRO_7479'],\n",
       " ['PRO_11633', 'PRO_19092'],\n",
       " ['PRO_11633', 'PRO_562'],\n",
       " ['PRO_11633', 'PRO_345'],\n",
       " ['PRO_11633', 'PRO_19452'],\n",
       " ['PRO_11633', 'PRO_23219'],\n",
       " ['PRO_11633', 'PRO_1074'],\n",
       " ['PRO_11633', 'PRO_2369'],\n",
       " ['PRO_13871', 'PRO_7224'],\n",
       " ['PRO_13871', 'PRO_15139'],\n",
       " ['PRO_13871', 'PRO_19458'],\n",
       " ['PRO_13871', 'PRO_5646'],\n",
       " ['PRO_13871', 'PRO_19579'],\n",
       " ['PRO_13871', 'PRO_13253'],\n",
       " ['PRO_13871', 'PRO_3353'],\n",
       " ['PRO_13871', 'PRO_11791'],\n",
       " ['PRO_13871', 'PRO_9046'],\n",
       " ['PRO_13871', 'PRO_23048'],\n",
       " ['PRO_13871', 'PRO_19811'],\n",
       " ['PRO_13871', 'PRO_5748'],\n",
       " ['PRO_13871', 'PRO_10891'],\n",
       " ['PRO_17860', 'PRO_5231'],\n",
       " ['PRO_17860', 'PRO_15311'],\n",
       " ['PRO_17860', 'PRO_6102'],\n",
       " ['PRO_17727', 'PRO_10500'],\n",
       " ['PRO_17727', 'PRO_5124'],\n",
       " ['PRO_17727', 'PRO_10488'],\n",
       " ['PRO_17727', 'PRO_11482'],\n",
       " ['PRO_17727', 'PRO_8309'],\n",
       " ['PRO_17727', 'PRO_6102'],\n",
       " ['PRO_17727', 'PRO_14416'],\n",
       " ['PRO_17727', 'PRO_3477'],\n",
       " ['PRO_17727', 'PRO_20965'],\n",
       " ['PRO_17727', 'PRO_15615'],\n",
       " ['PRO_17727', 'PRO_19605'],\n",
       " ['PRO_17727', 'PRO_19164'],\n",
       " ['PRO_17727', 'PRO_13563'],\n",
       " ['PRO_17727', 'PRO_2915'],\n",
       " ['PRO_17727', 'PRO_16317'],\n",
       " ['PRO_17727', 'PRO_450'],\n",
       " ['PRO_8178', 'PRO_4706'],\n",
       " ['PRO_15727', 'PRO_7421'],\n",
       " ['PRO_15727', 'PRO_2721'],\n",
       " ['PRO_15727', 'PRO_5485'],\n",
       " ['PRO_15727', 'PRO_15115'],\n",
       " ['PRO_15727', 'PRO_17045'],\n",
       " ['PRO_15727', 'PRO_15161'],\n",
       " ['PRO_7296', 'PRO_5209'],\n",
       " ['PRO_1851', 'PRO_1880'],\n",
       " ['PRO_1851', 'PRO_6680'],\n",
       " ['PRO_1851', 'PRO_13949'],\n",
       " ['PRO_1851', 'PRO_8147'],\n",
       " ['PRO_1851', 'PRO_16474'],\n",
       " ['PRO_1851', 'PRO_22049'],\n",
       " ['PRO_1851', 'PRO_1310'],\n",
       " ['PRO_1851', 'PRO_3838'],\n",
       " ['PRO_1851', 'PRO_8167'],\n",
       " ['PRO_1851', 'PRO_9501'],\n",
       " ['PRO_4851', 'PRO_8610'],\n",
       " ['PRO_4851', 'PRO_7034'],\n",
       " ['PRO_4851', 'PRO_7224'],\n",
       " ['PRO_4851', 'PRO_10500'],\n",
       " ['PRO_4851', 'PRO_10235'],\n",
       " ['PRO_4851', 'PRO_13858'],\n",
       " ['PRO_4851', 'PRO_6054'],\n",
       " ['PRO_4851', 'PRO_7561'],\n",
       " ['PRO_4851', 'PRO_4255'],\n",
       " ['PRO_4851', 'PRO_14095'],\n",
       " ['PRO_4851', 'PRO_13611'],\n",
       " ['PRO_4851', 'PRO_4120'],\n",
       " ['PRO_4851', 'PRO_16271'],\n",
       " ['PRO_4851', 'PRO_17092'],\n",
       " ['PRO_4851', 'PRO_22270'],\n",
       " ['PRO_4851', 'PRO_22050'],\n",
       " ['PRO_4851', 'PRO_5982'],\n",
       " ['PRO_4851', 'PRO_19434'],\n",
       " ['PRO_4851', 'PRO_2045'],\n",
       " ['PRO_4851', 'PRO_6826'],\n",
       " ['PRO_4851', 'PRO_5686'],\n",
       " ['PRO_4851', 'PRO_14112'],\n",
       " ['PRO_4851', 'PRO_12228'],\n",
       " ['PRO_4851', 'PRO_12877'],\n",
       " ['PRO_4851', 'PRO_12394'],\n",
       " ['PRO_4851', 'PRO_14993'],\n",
       " ['PRO_4851', 'PRO_5334'],\n",
       " ['PRO_4851', 'PRO_15527'],\n",
       " ['PRO_4851', 'PRO_23314'],\n",
       " ['PRO_4851', 'PRO_17133'],\n",
       " ['PRO_4851', 'PRO_1039'],\n",
       " ['PRO_4851', 'PRO_1899'],\n",
       " ['PRO_4851', 'PRO_9788'],\n",
       " ['PRO_12086', 'PRO_9846'],\n",
       " ['PRO_12086', 'PRO_11158'],\n",
       " ['PRO_7535', 'PRO_6498'],\n",
       " ['PRO_23375', 'PRO_10462'],\n",
       " ['PRO_8500', 'PRO_3894'],\n",
       " ['PRO_14767', 'PRO_15100'],\n",
       " ['PRO_14767', 'PRO_10858'],\n",
       " ['PRO_14767', 'PRO_9586'],\n",
       " ['PRO_14767', 'PRO_4165'],\n",
       " ['PRO_14767', 'PRO_6498'],\n",
       " ['PRO_14767', 'PRO_19434'],\n",
       " ['PRO_14767', 'PRO_22861'],\n",
       " ['PRO_14767', 'PRO_18020'],\n",
       " ['PRO_14767', 'PRO_23015'],\n",
       " ['PRO_14767', 'PRO_2384'],\n",
       " ['PRO_14767', 'PRO_19716'],\n",
       " ['PRO_14767', 'PRO_6102'],\n",
       " ['PRO_14767', 'PRO_23219'],\n",
       " ['PRO_14767', 'PRO_1039'],\n",
       " ['PRO_14767', 'PRO_15615'],\n",
       " ['PRO_15419', 'PRO_15419'],\n",
       " ['PRO_15419', 'PRO_7224'],\n",
       " ['PRO_15419', 'PRO_3494'],\n",
       " ['PRO_15419', 'PRO_11757'],\n",
       " ['PRO_4330', 'PRO_5124'],\n",
       " ['PRO_4330', 'PRO_1035'],\n",
       " ['PRO_4330', 'PRO_14189'],\n",
       " ['PRO_4330', 'PRO_14416'],\n",
       " ['PRO_4330', 'PRO_16317'],\n",
       " ['PRO_18850', 'PRO_22356'],\n",
       " ['PRO_12680', 'PRO_4706'],\n",
       " ['PRO_12680', 'PRO_22859'],\n",
       " ['PRO_12680', 'PRO_8577'],\n",
       " ['PRO_12680', 'PRO_4315'],\n",
       " ['PRO_12680', 'PRO_14167'],\n",
       " ['PRO_12680', 'PRO_658'],\n",
       " ['PRO_12680', 'PRO_22567'],\n",
       " ['PRO_12680', 'PRO_11790'],\n",
       " ['PRO_12680', 'PRO_9846'],\n",
       " ['PRO_12680', 'PRO_19179'],\n",
       " ['PRO_12680', 'PRO_9328'],\n",
       " ['PRO_12680', 'PRO_161'],\n",
       " ['PRO_12680', 'PRO_19219'],\n",
       " ['PRO_12680', 'PRO_21919'],\n",
       " ['PRO_12680', 'PRO_19229'],\n",
       " ['PRO_12680', 'PRO_9692'],\n",
       " ['PRO_12680', 'PRO_2045'],\n",
       " ['PRO_12680', 'PRO_6826'],\n",
       " ['PRO_12680', 'PRO_8554'],\n",
       " ['PRO_12680', 'PRO_5686'],\n",
       " ['PRO_12680', 'PRO_6577'],\n",
       " ['PRO_12680', 'PRO_9823'],\n",
       " ['PRO_12680', 'PRO_19969'],\n",
       " ['PRO_12680', 'PRO_1168'],\n",
       " ['PRO_12680', 'PRO_6107'],\n",
       " ['PRO_12680', 'PRO_9580'],\n",
       " ['PRO_5892', 'PRO_19238'],\n",
       " ['PRO_4706', 'PRO_14424'],\n",
       " ['PRO_4706', 'PRO_1377'],\n",
       " ['PRO_4706', 'PRO_20199'],\n",
       " ['PRO_4706', 'PRO_2116'],\n",
       " ['PRO_4706', 'PRO_5840'],\n",
       " ['PRO_4706', 'PRO_5050'],\n",
       " ['PRO_4706', 'PRO_5014'],\n",
       " ['PRO_4706', 'PRO_20941'],\n",
       " ['PRO_4706', 'PRO_5869'],\n",
       " ['PRO_4706', 'PRO_17809'],\n",
       " ['PRO_4706', 'PRO_5899'],\n",
       " ['PRO_4706', 'PRO_5659'],\n",
       " ['PRO_4706', 'PRO_9113'],\n",
       " ['PRO_4706', 'PRO_19687'],\n",
       " ['PRO_4706', 'PRO_20296'],\n",
       " ['PRO_4706', 'PRO_8118'],\n",
       " ['PRO_4706', 'PRO_4466'],\n",
       " ['PRO_4706', 'PRO_10188'],\n",
       " ['PRO_4706', 'PRO_5182'],\n",
       " ['PRO_4706', 'PRO_5548'],\n",
       " ['PRO_4706', 'PRO_23368'],\n",
       " ['PRO_4706', 'PRO_8656'],\n",
       " ['PRO_4706', 'PRO_10462'],\n",
       " ['PRO_4706', 'PRO_13433'],\n",
       " ['PRO_4706', 'PRO_14799'],\n",
       " ['PRO_4706', 'PRO_9186'],\n",
       " ['PRO_4706', 'PRO_852'],\n",
       " ['PRO_4706', 'PRO_3137'],\n",
       " ['PRO_4706', 'PRO_20726'],\n",
       " ['PRO_4706', 'PRO_14997'],\n",
       " ['PRO_4706', 'PRO_6266'],\n",
       " ['PRO_4706', 'PRO_6625'],\n",
       " ['PRO_4706', 'PRO_835'],\n",
       " ['PRO_4706', 'PRO_2209'],\n",
       " ['PRO_4706', 'PRO_3220'],\n",
       " ['PRO_4706', 'PRO_23073'],\n",
       " ['PRO_4706', 'PRO_6217'],\n",
       " ['PRO_4706', 'PRO_5157'],\n",
       " ['PRO_4706', 'PRO_9063'],\n",
       " ['PRO_4706', 'PRO_14112'],\n",
       " ['PRO_4706', 'PRO_601'],\n",
       " ['PRO_4706', 'PRO_10312'],\n",
       " ['PRO_4706', 'PRO_7965'],\n",
       " ['PRO_4706', 'PRO_13720'],\n",
       " ['PRO_4706', 'PRO_15475'],\n",
       " ['PRO_4706', 'PRO_19245'],\n",
       " ['PRO_4706', 'PRO_14803'],\n",
       " ['PRO_4706', 'PRO_10862'],\n",
       " ['PRO_4706', 'PRO_5075'],\n",
       " ['PRO_4706', 'PRO_12115'],\n",
       " ['PRO_4706', 'PRO_12251'],\n",
       " ['PRO_4706', 'PRO_19918'],\n",
       " ['PRO_4706', 'PRO_8093'],\n",
       " ['PRO_4706', 'PRO_16838'],\n",
       " ['PRO_4706', 'PRO_13185'],\n",
       " ['PRO_4706', 'PRO_23219'],\n",
       " ['PRO_4706', 'PRO_3663'],\n",
       " ['PRO_4706', 'PRO_17908'],\n",
       " ['PRO_4706', 'PRO_977'],\n",
       " ['PRO_4706', 'PRO_17445'],\n",
       " ['PRO_4706', 'PRO_4823'],\n",
       " ['PRO_4706', 'PRO_1802'],\n",
       " ['PRO_4706', 'PRO_11309'],\n",
       " ['PRO_4706', 'PRO_9134'],\n",
       " ['PRO_1177', 'PRO_12357'],\n",
       " ['PRO_19694', 'PRO_14906'],\n",
       " ['PRO_19694', 'PRO_10799'],\n",
       " ['PRO_20661', 'PRO_21215'],\n",
       " ['PRO_20661', 'PRO_10535'],\n",
       " ['PRO_20661', 'PRO_18268'],\n",
       " ['PRO_20661', 'PRO_23045'],\n",
       " ['PRO_20661', 'PRO_16746'],\n",
       " ['PRO_5615', 'PRO_19841'],\n",
       " ['PRO_6560', 'PRO_22741'],\n",
       " ['PRO_6560', 'PRO_6243'],\n",
       " ['PRO_6560', 'PRO_7219'],\n",
       " ['PRO_6560', 'PRO_19219'],\n",
       " ['PRO_6560', 'PRO_19405'],\n",
       " ['PRO_6560', 'PRO_18420'],\n",
       " ['PRO_6560', 'PRO_16271'],\n",
       " ['PRO_6560', 'PRO_7294'],\n",
       " ['PRO_6560', 'PRO_6101'],\n",
       " ['PRO_6560', 'PRO_8163'],\n",
       " ['PRO_6560', 'PRO_2313'],\n",
       " ['PRO_6560', 'PRO_3569'],\n",
       " ['PRO_6560', 'PRO_16309'],\n",
       " ['PRO_6560', 'PRO_15565'],\n",
       " ['PRO_6560', 'PRO_7395'],\n",
       " ['PRO_6560', 'PRO_681'],\n",
       " ['PRO_6560', 'PRO_6591'],\n",
       " ['PRO_6560', 'PRO_1969'],\n",
       " ['PRO_5154', 'PRO_1299'],\n",
       " ['PRO_5154', 'PRO_9646'],\n",
       " ['PRO_5154', 'PRO_3654'],\n",
       " ['PRO_5154', 'PRO_6778'],\n",
       " ['PRO_5154', 'PRO_18945'],\n",
       " ['PRO_5154', 'PRO_1641'],\n",
       " ['PRO_5154', 'PRO_5124'],\n",
       " ['PRO_5154', 'PRO_10865'],\n",
       " ['PRO_5154', 'PRO_347'],\n",
       " ['PRO_5154', 'PRO_7790'],\n",
       " ['PRO_5154', 'PRO_7053'],\n",
       " ['PRO_5154', 'PRO_8941'],\n",
       " ['PRO_5154', 'PRO_3747'],\n",
       " ['PRO_5154', 'PRO_21876'],\n",
       " ['PRO_5154', 'PRO_11797'],\n",
       " ['PRO_5154', 'PRO_11617'],\n",
       " ['PRO_5154', 'PRO_6460'],\n",
       " ['PRO_5154', 'PRO_5605'],\n",
       " ['PRO_5154', 'PRO_6006'],\n",
       " ['PRO_5154', 'PRO_10235'],\n",
       " ['PRO_5154', 'PRO_12357'],\n",
       " ['PRO_5154', 'PRO_9921'],\n",
       " ['PRO_5154', 'PRO_13858'],\n",
       " ['PRO_5154', 'PRO_16732'],\n",
       " ['PRO_5154', 'PRO_22187'],\n",
       " ['PRO_5154', 'PRO_10271'],\n",
       " ['PRO_5154', 'PRO_22852'],\n",
       " ['PRO_5154', 'PRO_10488'],\n",
       " ['PRO_5154', 'PRO_4744'],\n",
       " ['PRO_5154', 'PRO_8106'],\n",
       " ['PRO_5154', 'PRO_20341'],\n",
       " ['PRO_5154', 'PRO_21392'],\n",
       " ['PRO_5154', 'PRO_4195'],\n",
       " ['PRO_5154', 'PRO_6625'],\n",
       " ['PRO_5154', 'PRO_13931'],\n",
       " ['PRO_5154', 'PRO_18470'],\n",
       " ['PRO_5154', 'PRO_9776'],\n",
       " ['PRO_5154', 'PRO_16745'],\n",
       " ['PRO_5154', 'PRO_23062'],\n",
       " ['PRO_5154', 'PRO_164'],\n",
       " ['PRO_5154', 'PRO_682'],\n",
       " ['PRO_5154', 'PRO_12578'],\n",
       " ['PRO_5154', 'PRO_20123'],\n",
       " ['PRO_5154', 'PRO_20131'],\n",
       " ['PRO_5154', 'PRO_10228'],\n",
       " ['PRO_5154', 'PRO_21581'],\n",
       " ['PRO_5154', 'PRO_17459'],\n",
       " ['PRO_5154', 'PRO_11621'],\n",
       " ['PRO_5154', 'PRO_18180'],\n",
       " ['PRO_5154', 'PRO_9476'],\n",
       " ['PRO_5154', 'PRO_13875'],\n",
       " ['PRO_5154', 'PRO_3242'],\n",
       " ['PRO_5154', 'PRO_12156'],\n",
       " ['PRO_5154', 'PRO_12329'],\n",
       " ['PRO_5154', 'PRO_7422'],\n",
       " ['PRO_5154', 'PRO_9905'],\n",
       " ['PRO_5154', 'PRO_18080'],\n",
       " ['PRO_5154', 'PRO_16064'],\n",
       " ['PRO_5154', 'PRO_11976'],\n",
       " ['PRO_5154', 'PRO_20752'],\n",
       " ['PRO_5154', 'PRO_1039'],\n",
       " ['PRO_5154', 'PRO_14416'],\n",
       " ['PRO_5154', 'PRO_8141'],\n",
       " ['PRO_5154', 'PRO_18678'],\n",
       " ['PRO_5154', 'PRO_15944'],\n",
       " ['PRO_5154', 'PRO_17350'],\n",
       " ['PRO_5154', 'PRO_3290'],\n",
       " ['PRO_18668', 'PRO_6808'],\n",
       " ['PRO_18668', 'PRO_18020'],\n",
       " ['PRO_710', 'PRO_11482'],\n",
       " ['PRO_710', 'PRO_22364'],\n",
       " ['PRO_8444', 'PRO_7224'],\n",
       " ['PRO_8444', 'PRO_18660'],\n",
       " ['PRO_8444', 'PRO_23139'],\n",
       " ['PRO_8444', 'PRO_19405'],\n",
       " ['PRO_14116', 'PRO_8531'],\n",
       " ['PRO_14116', 'PRO_532'],\n",
       " ['PRO_14116', 'PRO_9646'],\n",
       " ['PRO_14116', 'PRO_22965'],\n",
       " ['PRO_14116', 'PRO_5476'],\n",
       " ['PRO_14116', 'PRO_6808'],\n",
       " ['PRO_14116', 'PRO_20895'],\n",
       " ['PRO_14116', 'PRO_5124'],\n",
       " ['PRO_14116', 'PRO_17729'],\n",
       " ['PRO_14116', 'PRO_6460'],\n",
       " ['PRO_14116', 'PRO_10235'],\n",
       " ['PRO_14116', 'PRO_10488'],\n",
       " ['PRO_14116', 'PRO_19281'],\n",
       " ['PRO_14116', 'PRO_17385'],\n",
       " ['PRO_14116', 'PRO_9370'],\n",
       " ['PRO_14116', 'PRO_2045'],\n",
       " ['PRO_14116', 'PRO_7424'],\n",
       " ['PRO_14116', 'PRO_5686'],\n",
       " ['PRO_14116', 'PRO_6246'],\n",
       " ['PRO_14116', 'PRO_3944'],\n",
       " ['PRO_14116', 'PRO_21112'],\n",
       " ['PRO_14116', 'PRO_8321'],\n",
       " ['PRO_14116', 'PRO_13577'],\n",
       " ['PRO_14116', 'PRO_22986'],\n",
       " ['PRO_14116', 'PRO_7422'],\n",
       " ['PRO_14116', 'PRO_11482'],\n",
       " ['PRO_14116', 'PRO_8309'],\n",
       " ['PRO_14116', 'PRO_9580'],\n",
       " ['PRO_14116', 'PRO_6102'],\n",
       " ['PRO_14116', 'PRO_7225'],\n",
       " ['PRO_14116', 'PRO_5499'],\n",
       " ['PRO_14116', 'PRO_17908'],\n",
       " ['PRO_14116', 'PRO_3477'],\n",
       " ['PRO_14116', 'PRO_19169'],\n",
       " ['PRO_14116', 'PRO_11007'],\n",
       " ['PRO_14116', 'PRO_19605'],\n",
       " ['PRO_14116', 'PRO_19085'],\n",
       " ['PRO_14116', 'PRO_15944'],\n",
       " ['PRO_14116', 'PRO_450'],\n",
       " ['PRO_18993', 'PRO_8731'],\n",
       " ['PRO_18993', 'PRO_19697'],\n",
       " ['PRO_18993', 'PRO_18739'],\n",
       " ['PRO_18993', 'PRO_8340'],\n",
       " ['PRO_21482', 'PRO_2595'],\n",
       " ['PRO_21482', 'PRO_19405'],\n",
       " ['PRO_21482', 'PRO_3137'],\n",
       " ['PRO_21482', 'PRO_20481'],\n",
       " ['PRO_21482', 'PRO_3493'],\n",
       " ['PRO_21482', 'PRO_3658'],\n",
       " ['PRO_5406', 'PRO_8683'],\n",
       " ['PRO_5406', 'PRO_1374'],\n",
       " ['PRO_5406', 'PRO_212'],\n",
       " ['PRO_5406', 'PRO_18584'],\n",
       " ['PRO_5406', 'PRO_20629'],\n",
       " ['PRO_5406', 'PRO_22913'],\n",
       " ['PRO_5406', 'PRO_14897'],\n",
       " ['PRO_5406', 'PRO_7980'],\n",
       " ['PRO_5406', 'PRO_6475'],\n",
       " ['PRO_5406', 'PRO_3589'],\n",
       " ['PRO_5406', 'PRO_1512'],\n",
       " ['PRO_5406', 'PRO_837'],\n",
       " ['PRO_5406', 'PRO_5773'],\n",
       " ['PRO_5406', 'PRO_2033'],\n",
       " ['PRO_5406', 'PRO_4239'],\n",
       " ['PRO_5406', 'PRO_7738'],\n",
       " ['PRO_5406', 'PRO_2576'],\n",
       " ['PRO_5406', 'PRO_10728'],\n",
       " ['PRO_5406', 'PRO_11766'],\n",
       " ['PRO_5406', 'PRO_7818'],\n",
       " ['PRO_5406', 'PRO_14173'],\n",
       " ['PRO_5406', 'PRO_19290'],\n",
       " ['PRO_5406', 'PRO_21765'],\n",
       " ['PRO_5406', 'PRO_20035'],\n",
       " ['PRO_5406', 'PRO_19397'],\n",
       " ['PRO_5406', 'PRO_17274'],\n",
       " ['PRO_5406', 'PRO_3976'],\n",
       " ['PRO_5406', 'PRO_15496'],\n",
       " ['PRO_5406', 'PRO_6024'],\n",
       " ['PRO_5406', 'PRO_4121'],\n",
       " ['PRO_5406', 'PRO_15632'],\n",
       " ['PRO_5406', 'PRO_5739'],\n",
       " ['PRO_5406', 'PRO_6579'],\n",
       " ['PRO_5406', 'PRO_10627'],\n",
       " ['PRO_5406', 'PRO_7754'],\n",
       " ['PRO_5406', 'PRO_20195'],\n",
       " ['PRO_5406', 'PRO_55'],\n",
       " ['PRO_5406', 'PRO_22783'],\n",
       " ['PRO_5406', 'PRO_5477'],\n",
       " ['PRO_5406', 'PRO_7795'],\n",
       " ['PRO_5406', 'PRO_2818'],\n",
       " ['PRO_5406', 'PRO_7346'],\n",
       " ['PRO_5406', 'PRO_7779'],\n",
       " ['PRO_5790', 'PRO_8742'],\n",
       " ['PRO_9858', 'PRO_8286'],\n",
       " ['PRO_9858', 'PRO_22749'],\n",
       " ['PRO_12871', 'PRO_14928'],\n",
       " ['PRO_12871', 'PRO_15560'],\n",
       " ['PRO_12871', 'PRO_6823'],\n",
       " ['PRO_17235', 'PRO_9586'],\n",
       " ['PRO_17235', 'PRO_21509'],\n",
       " ['PRO_17235', 'PRO_10271'],\n",
       " ['PRO_17235', 'PRO_5427'],\n",
       " ['PRO_17235', 'PRO_2481'],\n",
       " ['PRO_14265', 'PRO_14265'],\n",
       " ['PRO_14265', 'PRO_6808'],\n",
       " ['PRO_14265', 'PRO_6483'],\n",
       " ['PRO_14265', 'PRO_10145'],\n",
       " ['PRO_21271', 'PRO_3494'],\n",
       " ['PRO_21651', 'PRO_20199'],\n",
       " ['PRO_13048', 'PRO_14304'],\n",
       " ['PRO_13048', 'PRO_7546'],\n",
       " ['PRO_9999', 'PRO_2116'],\n",
       " ['PRO_9999', 'PRO_10168'],\n",
       " ['PRO_9999', 'PRO_15584'],\n",
       " ['PRO_9999', 'PRO_15944'],\n",
       " ['PRO_7756', 'PRO_2486'],\n",
       " ['PRO_6572', 'PRO_13029'],\n",
       " ['PRO_6572', 'PRO_19271'],\n",
       " ['PRO_6572', 'PRO_13112'],\n",
       " ['PRO_6572', 'PRO_1102'],\n",
       " ['PRO_6572', 'PRO_1964'],\n",
       " ['PRO_6572', 'PRO_8720'],\n",
       " ['PRO_6572', 'PRO_9823'],\n",
       " ['PRO_6572', 'PRO_22095'],\n",
       " ['PRO_6572', 'PRO_18996'],\n",
       " ['PRO_6572', 'PRO_14077'],\n",
       " ['PRO_6572', 'PRO_12083'],\n",
       " ['PRO_16611', 'PRO_21515'],\n",
       " ['PRO_9962', 'PRO_4286'],\n",
       " ['PRO_9962', 'PRO_10271'],\n",
       " ['PRO_9962', 'PRO_3629'],\n",
       " ['PRO_3591', 'PRO_8144'],\n",
       " ['PRO_14781', 'PRO_9796'],\n",
       " ['PRO_17078', 'PRO_5245'],\n",
       " ['PRO_17078', 'PRO_6824'],\n",
       " ['PRO_499', 'PRO_875'],\n",
       " ['PRO_499', 'PRO_18684'],\n",
       " ['PRO_7050', 'PRO_15979'],\n",
       " ['PRO_13016', 'PRO_19440'],\n",
       " ['PRO_13016', 'PRO_2220'],\n",
       " ['PRO_13016', 'PRO_7383'],\n",
       " ['PRO_13016', 'PRO_10514'],\n",
       " ['PRO_13016', 'PRO_14618'],\n",
       " ['PRO_4583', 'PRO_18949'],\n",
       " ['PRO_4583', 'PRO_20536'],\n",
       " ['PRO_4583', 'PRO_3494'],\n",
       " ['PRO_4583', 'PRO_21509'],\n",
       " ['PRO_4583', 'PRO_6521'],\n",
       " ['PRO_17327', 'PRO_11585'],\n",
       " ['PRO_17327', 'PRO_20777'],\n",
       " ['PRO_17327', 'PRO_21100'],\n",
       " ['PRO_17327', 'PRO_2493'],\n",
       " ['PRO_17327', 'PRO_8778'],\n",
       " ['PRO_7077', 'PRO_15642'],\n",
       " ['PRO_7077', 'PRO_3239'],\n",
       " ['PRO_7077', 'PRO_6778'],\n",
       " ['PRO_7077', 'PRO_10500'],\n",
       " ['PRO_7077', 'PRO_6243'],\n",
       " ['PRO_7077', 'PRO_8728'],\n",
       " ['PRO_7077', 'PRO_8144'],\n",
       " ['PRO_7077', 'PRO_12446'],\n",
       " ['PRO_7077', 'PRO_19354'],\n",
       " ['PRO_7077', 'PRO_23237'],\n",
       " ['PRO_7077', 'PRO_9586'],\n",
       " ['PRO_7077', 'PRO_4165'],\n",
       " ['PRO_7077', 'PRO_14095'],\n",
       " ['PRO_7077', 'PRO_16176'],\n",
       " ['PRO_7077', 'PRO_9692'],\n",
       " ['PRO_7077', 'PRO_3185'],\n",
       " ['PRO_7077', 'PRO_14112'],\n",
       " ['PRO_7077', 'PRO_19395'],\n",
       " ['PRO_7077', 'PRO_2384'],\n",
       " ['PRO_7077', 'PRO_11791'],\n",
       " ['PRO_7077', 'PRO_7546'],\n",
       " ['PRO_7077', 'PRO_389'],\n",
       " ['PRO_7077', 'PRO_23219'],\n",
       " ['PRO_7077', 'PRO_14416'],\n",
       " ['PRO_7077', 'PRO_5665'],\n",
       " ['PRO_14900', 'PRO_9580'],\n",
       " ['PRO_9390', 'PRO_19824'],\n",
       " ['PRO_9390', 'PRO_11629'],\n",
       " ['PRO_9390', 'PRO_17929'],\n",
       " ['PRO_9390', 'PRO_1877'],\n",
       " ['PRO_9390', 'PRO_13637'],\n",
       " ['PRO_9390', 'PRO_22359'],\n",
       " ['PRO_9390', 'PRO_8492'],\n",
       " ['PRO_9390', 'PRO_19290'],\n",
       " ['PRO_9390', 'PRO_7415'],\n",
       " ['PRO_9390', 'PRO_21830'],\n",
       " ['PRO_9390', 'PRO_16848'],\n",
       " ['PRO_9390', 'PRO_17914'],\n",
       " ['PRO_9390', 'PRO_17710'],\n",
       " ['PRO_9390', 'PRO_3611'],\n",
       " ['PRO_9390', 'PRO_9929'],\n",
       " ['PRO_9390', 'PRO_15038'],\n",
       " ['PRO_9100', 'PRO_16751'],\n",
       " ['PRO_9100', 'PRO_2220'],\n",
       " ['PRO_8531', 'PRO_7398'],\n",
       " ['PRO_8531', 'PRO_662'],\n",
       " ['PRO_8531', 'PRO_22965'],\n",
       " ['PRO_8531', 'PRO_20906'],\n",
       " ['PRO_8531', 'PRO_13237'],\n",
       " ['PRO_8531', 'PRO_15252'],\n",
       " ['PRO_8531', 'PRO_6460'],\n",
       " ['PRO_8531', 'PRO_20758'],\n",
       " ['PRO_8531', 'PRO_7257'],\n",
       " ['PRO_8531', 'PRO_10486'],\n",
       " ['PRO_8531', 'PRO_5485'],\n",
       " ['PRO_8531', 'PRO_527'],\n",
       " ['PRO_8531', 'PRO_13267'],\n",
       " ['PRO_8531', 'PRO_8160'],\n",
       " ['PRO_8531', 'PRO_19488'],\n",
       " ['PRO_8531', 'PRO_10229'],\n",
       " ['PRO_8531', 'PRO_15429'],\n",
       " ['PRO_8531', 'PRO_18432'],\n",
       " ['PRO_8531', 'PRO_18885'],\n",
       " ['PRO_8531', 'PRO_5807'],\n",
       " ['PRO_8531', 'PRO_17781'],\n",
       " ['PRO_8531', 'PRO_17045'],\n",
       " ['PRO_8531', 'PRO_5421'],\n",
       " ['PRO_8531', 'PRO_2980'],\n",
       " ['PRO_8531', 'PRO_5937'],\n",
       " ['PRO_8531', 'PRO_19259'],\n",
       " ['PRO_8531', 'PRO_11611'],\n",
       " ['PRO_8531', 'PRO_13151'],\n",
       " ['PRO_8531', 'PRO_13919'],\n",
       " ['PRO_8531', 'PRO_14063'],\n",
       " ['PRO_8531', 'PRO_12251'],\n",
       " ['PRO_8531', 'PRO_9580'],\n",
       " ['PRO_8531', 'PRO_7176'],\n",
       " ['PRO_8531', 'PRO_1990'],\n",
       " ['PRO_8531', 'PRO_23131'],\n",
       " ['PRO_20913', 'PRO_532'],\n",
       " ['PRO_20913', 'PRO_6423'],\n",
       " ['PRO_20913', 'PRO_14016'],\n",
       " ['PRO_20913', 'PRO_2788'],\n",
       " ['PRO_20913', 'PRO_16745'],\n",
       " ['PRO_20913', 'PRO_7903'],\n",
       " ['PRO_20913', 'PRO_2741'],\n",
       " ['PRO_20913', 'PRO_6029'],\n",
       " ['PRO_20913', 'PRO_18587'],\n",
       " ['PRO_20913', 'PRO_10558'],\n",
       " ['PRO_13780', 'PRO_13780'],\n",
       " ['PRO_13780', 'PRO_4286'],\n",
       " ['PRO_13780', 'PRO_1573'],\n",
       " ['PRO_13780', 'PRO_10978'],\n",
       " ['PRO_3230', 'PRO_18204'],\n",
       " ['PRO_8458', 'PRO_11757'],\n",
       " ['PRO_22025', 'PRO_8106'],\n",
       " ['PRO_22025', 'PRO_18338'],\n",
       " ['PRO_22025', 'PRO_13875'],\n",
       " ['PRO_22025', 'PRO_2124'],\n",
       " ['PRO_21773', 'PRO_18671'],\n",
       " ['PRO_21773', 'PRO_9586'],\n",
       " ['PRO_21773', 'PRO_1809'],\n",
       " ['PRO_21773', 'PRO_5593'],\n",
       " ['PRO_21773', 'PRO_15229'],\n",
       " ['PRO_21773', 'PRO_15887'],\n",
       " ['PRO_21773', 'PRO_11482'],\n",
       " ['PRO_21773', 'PRO_8309'],\n",
       " ['PRO_21773', 'PRO_6102'],\n",
       " ['PRO_21773', 'PRO_15615'],\n",
       " ['PRO_21773', 'PRO_19620'],\n",
       " ['PRO_21773', 'PRO_2915'],\n",
       " ['PRO_21773', 'PRO_16317'],\n",
       " ['PRO_902', 'PRO_8597'],\n",
       " ['PRO_20973', 'PRO_8877'],\n",
       " ['PRO_21696', 'PRO_17476'],\n",
       " ['PRO_21696', 'PRO_23188'],\n",
       " ['PRO_4805', 'PRO_6433'],\n",
       " ['PRO_4805', 'PRO_10099'],\n",
       " ['PRO_4805', 'PRO_212'],\n",
       " ['PRO_4805', 'PRO_8337'],\n",
       " ['PRO_4805', 'PRO_3589'],\n",
       " ['PRO_4805', 'PRO_922'],\n",
       " ['PRO_4805', 'PRO_4121'],\n",
       " ['PRO_4805', 'PRO_7543'],\n",
       " ['PRO_4805', 'PRO_13530'],\n",
       " ['PRO_4805', 'PRO_5477'],\n",
       " ['PRO_16275', 'PRO_3494'],\n",
       " ['PRO_16275', 'PRO_7784'],\n",
       " ['PRO_16275', 'PRO_17067'],\n",
       " ['PRO_16275', 'PRO_7215'],\n",
       " ['PRO_16275', 'PRO_23336'],\n",
       " ['PRO_16275', 'PRO_6826'],\n",
       " ['PRO_16275', 'PRO_8340'],\n",
       " ['PRO_16275', 'PRO_9983'],\n",
       " ['PRO_5513', 'PRO_5338'],\n",
       " ['PRO_6853', 'PRO_6071'],\n",
       " ['PRO_6853', 'PRO_3296'],\n",
       " ['PRO_15293', 'PRO_1322'],\n",
       " ['PRO_15293', 'PRO_7120'],\n",
       " ['PRO_5210', 'PRO_22065'],\n",
       " ['PRO_5210', 'PRO_22734'],\n",
       " ['PRO_5210', 'PRO_11276'],\n",
       " ['PRO_5210', 'PRO_6096'],\n",
       " ['PRO_5210', 'PRO_15932'],\n",
       " ['PRO_18427', 'PRO_7063'],\n",
       " ['PRO_18427', 'PRO_13614'],\n",
       " ['PRO_18427', 'PRO_13095'],\n",
       " ['PRO_18427', 'PRO_22065'],\n",
       " ['PRO_18427', 'PRO_1374'],\n",
       " ['PRO_18427', 'PRO_16095'],\n",
       " ['PRO_18427', 'PRO_7980'],\n",
       " ['PRO_18427', 'PRO_765'],\n",
       " ['PRO_18427', 'PRO_837'],\n",
       " ['PRO_18427', 'PRO_6022'],\n",
       " ['PRO_18427', 'PRO_900'],\n",
       " ['PRO_18427', 'PRO_16190'],\n",
       " ['PRO_18427', 'PRO_2472'],\n",
       " ['PRO_18427', 'PRO_1760'],\n",
       " ['PRO_18427', 'PRO_1069'],\n",
       " ['PRO_18427', 'PRO_17008'],\n",
       " ['PRO_18427', 'PRO_17089'],\n",
       " ['PRO_18427', 'PRO_1789'],\n",
       " ['PRO_18427', 'PRO_23198'],\n",
       " ['PRO_18427', 'PRO_6805'],\n",
       " ...]"
      ]
     },
     "execution_count": 336,
     "metadata": {},
     "output_type": "execute_result"
    }
   ],
   "source": [
    "positive_train_set_pairs"
   ]
  },
  {
   "cell_type": "code",
   "execution_count": 338,
   "id": "f7049cb4",
   "metadata": {},
   "outputs": [],
   "source": [
    "train_data_pos = train_data_pos[['Protein_A','Protein_B']]"
   ]
  },
  {
   "cell_type": "code",
   "execution_count": 339,
   "id": "94a4a1b1",
   "metadata": {},
   "outputs": [
    {
     "name": "stderr",
     "output_type": "stream",
     "text": [
      "/tmp/ipykernel_17241/756199540.py:1: SettingWithCopyWarning: \n",
      "A value is trying to be set on a copy of a slice from a DataFrame.\n",
      "Try using .loc[row_indexer,col_indexer] = value instead\n",
      "\n",
      "See the caveats in the documentation: https://pandas.pydata.org/pandas-docs/stable/user_guide/indexing.html#returning-a-view-versus-a-copy\n",
      "  train_data_pos['label'] = 1\n"
     ]
    }
   ],
   "source": [
    "train_data_pos['label'] = 1"
   ]
  },
  {
   "cell_type": "code",
   "execution_count": 340,
   "id": "fbb06a8a",
   "metadata": {},
   "outputs": [
    {
     "data": {
      "text/html": [
       "<div>\n",
       "<style scoped>\n",
       "    .dataframe tbody tr th:only-of-type {\n",
       "        vertical-align: middle;\n",
       "    }\n",
       "\n",
       "    .dataframe tbody tr th {\n",
       "        vertical-align: top;\n",
       "    }\n",
       "\n",
       "    .dataframe thead th {\n",
       "        text-align: right;\n",
       "    }\n",
       "</style>\n",
       "<table border=\"1\" class=\"dataframe\">\n",
       "  <thead>\n",
       "    <tr style=\"text-align: right;\">\n",
       "      <th></th>\n",
       "      <th>Protein_A</th>\n",
       "      <th>Protein_B</th>\n",
       "      <th>label</th>\n",
       "    </tr>\n",
       "  </thead>\n",
       "  <tbody>\n",
       "    <tr>\n",
       "      <th>1</th>\n",
       "      <td>PRO_1968</td>\n",
       "      <td>PRO_3259</td>\n",
       "      <td>1</td>\n",
       "    </tr>\n",
       "    <tr>\n",
       "      <th>2</th>\n",
       "      <td>PRO_1968</td>\n",
       "      <td>PRO_20825</td>\n",
       "      <td>1</td>\n",
       "    </tr>\n",
       "    <tr>\n",
       "      <th>3</th>\n",
       "      <td>PRO_1968</td>\n",
       "      <td>PRO_11236</td>\n",
       "      <td>1</td>\n",
       "    </tr>\n",
       "    <tr>\n",
       "      <th>5</th>\n",
       "      <td>PRO_1968</td>\n",
       "      <td>PRO_16190</td>\n",
       "      <td>1</td>\n",
       "    </tr>\n",
       "    <tr>\n",
       "      <th>6</th>\n",
       "      <td>PRO_1968</td>\n",
       "      <td>PRO_4579</td>\n",
       "      <td>1</td>\n",
       "    </tr>\n",
       "    <tr>\n",
       "      <th>...</th>\n",
       "      <td>...</td>\n",
       "      <td>...</td>\n",
       "      <td>...</td>\n",
       "    </tr>\n",
       "    <tr>\n",
       "      <th>396149</th>\n",
       "      <td>PRO_11977</td>\n",
       "      <td>PRO_20355</td>\n",
       "      <td>1</td>\n",
       "    </tr>\n",
       "    <tr>\n",
       "      <th>396150</th>\n",
       "      <td>PRO_11977</td>\n",
       "      <td>PRO_4583</td>\n",
       "      <td>1</td>\n",
       "    </tr>\n",
       "    <tr>\n",
       "      <th>396151</th>\n",
       "      <td>PRO_19214</td>\n",
       "      <td>PRO_18202</td>\n",
       "      <td>1</td>\n",
       "    </tr>\n",
       "    <tr>\n",
       "      <th>396152</th>\n",
       "      <td>PRO_2146</td>\n",
       "      <td>PRO_4583</td>\n",
       "      <td>1</td>\n",
       "    </tr>\n",
       "    <tr>\n",
       "      <th>396153</th>\n",
       "      <td>PRO_19214</td>\n",
       "      <td>PRO_91</td>\n",
       "      <td>1</td>\n",
       "    </tr>\n",
       "  </tbody>\n",
       "</table>\n",
       "<p>241819 rows × 3 columns</p>\n",
       "</div>"
      ],
      "text/plain": [
       "        Protein_A  Protein_B  label\n",
       "1        PRO_1968   PRO_3259      1\n",
       "2        PRO_1968  PRO_20825      1\n",
       "3        PRO_1968  PRO_11236      1\n",
       "5        PRO_1968  PRO_16190      1\n",
       "6        PRO_1968   PRO_4579      1\n",
       "...           ...        ...    ...\n",
       "396149  PRO_11977  PRO_20355      1\n",
       "396150  PRO_11977   PRO_4583      1\n",
       "396151  PRO_19214  PRO_18202      1\n",
       "396152   PRO_2146   PRO_4583      1\n",
       "396153  PRO_19214     PRO_91      1\n",
       "\n",
       "[241819 rows x 3 columns]"
      ]
     },
     "execution_count": 340,
     "metadata": {},
     "output_type": "execute_result"
    }
   ],
   "source": [
    "train_data_pos"
   ]
  },
  {
   "cell_type": "code",
   "execution_count": 341,
   "id": "f55303ce",
   "metadata": {},
   "outputs": [],
   "source": [
    "df = [train_data_pos,train_set_1]\n",
    "final_test_set = pd.concat(df)"
   ]
  },
  {
   "cell_type": "code",
   "execution_count": 342,
   "id": "3a6ac0a5",
   "metadata": {},
   "outputs": [
    {
     "data": {
      "text/html": [
       "<div>\n",
       "<style scoped>\n",
       "    .dataframe tbody tr th:only-of-type {\n",
       "        vertical-align: middle;\n",
       "    }\n",
       "\n",
       "    .dataframe tbody tr th {\n",
       "        vertical-align: top;\n",
       "    }\n",
       "\n",
       "    .dataframe thead th {\n",
       "        text-align: right;\n",
       "    }\n",
       "</style>\n",
       "<table border=\"1\" class=\"dataframe\">\n",
       "  <thead>\n",
       "    <tr style=\"text-align: right;\">\n",
       "      <th></th>\n",
       "      <th>Protein_A</th>\n",
       "      <th>Protein_B</th>\n",
       "      <th>label</th>\n",
       "    </tr>\n",
       "  </thead>\n",
       "  <tbody>\n",
       "    <tr>\n",
       "      <th>1</th>\n",
       "      <td>PRO_1968</td>\n",
       "      <td>PRO_3259</td>\n",
       "      <td>1</td>\n",
       "    </tr>\n",
       "    <tr>\n",
       "      <th>2</th>\n",
       "      <td>PRO_1968</td>\n",
       "      <td>PRO_20825</td>\n",
       "      <td>1</td>\n",
       "    </tr>\n",
       "    <tr>\n",
       "      <th>3</th>\n",
       "      <td>PRO_1968</td>\n",
       "      <td>PRO_11236</td>\n",
       "      <td>1</td>\n",
       "    </tr>\n",
       "    <tr>\n",
       "      <th>5</th>\n",
       "      <td>PRO_1968</td>\n",
       "      <td>PRO_16190</td>\n",
       "      <td>1</td>\n",
       "    </tr>\n",
       "    <tr>\n",
       "      <th>6</th>\n",
       "      <td>PRO_1968</td>\n",
       "      <td>PRO_4579</td>\n",
       "      <td>1</td>\n",
       "    </tr>\n",
       "    <tr>\n",
       "      <th>...</th>\n",
       "      <td>...</td>\n",
       "      <td>...</td>\n",
       "      <td>...</td>\n",
       "    </tr>\n",
       "    <tr>\n",
       "      <th>241782</th>\n",
       "      <td>PRO_6778</td>\n",
       "      <td>PRO_18574</td>\n",
       "      <td>0</td>\n",
       "    </tr>\n",
       "    <tr>\n",
       "      <th>241783</th>\n",
       "      <td>PRO_6260</td>\n",
       "      <td>PRO_20220</td>\n",
       "      <td>0</td>\n",
       "    </tr>\n",
       "    <tr>\n",
       "      <th>241784</th>\n",
       "      <td>PRO_8204</td>\n",
       "      <td>PRO_8043</td>\n",
       "      <td>0</td>\n",
       "    </tr>\n",
       "    <tr>\n",
       "      <th>241785</th>\n",
       "      <td>PRO_83</td>\n",
       "      <td>PRO_3278</td>\n",
       "      <td>0</td>\n",
       "    </tr>\n",
       "    <tr>\n",
       "      <th>241786</th>\n",
       "      <td>PRO_12432</td>\n",
       "      <td>PRO_14075</td>\n",
       "      <td>0</td>\n",
       "    </tr>\n",
       "  </tbody>\n",
       "</table>\n",
       "<p>483606 rows × 3 columns</p>\n",
       "</div>"
      ],
      "text/plain": [
       "        Protein_A  Protein_B  label\n",
       "1        PRO_1968   PRO_3259      1\n",
       "2        PRO_1968  PRO_20825      1\n",
       "3        PRO_1968  PRO_11236      1\n",
       "5        PRO_1968  PRO_16190      1\n",
       "6        PRO_1968   PRO_4579      1\n",
       "...           ...        ...    ...\n",
       "241782   PRO_6778  PRO_18574      0\n",
       "241783   PRO_6260  PRO_20220      0\n",
       "241784   PRO_8204   PRO_8043      0\n",
       "241785     PRO_83   PRO_3278      0\n",
       "241786  PRO_12432  PRO_14075      0\n",
       "\n",
       "[483606 rows x 3 columns]"
      ]
     },
     "execution_count": 342,
     "metadata": {},
     "output_type": "execute_result"
    }
   ],
   "source": [
    "final_test_set"
   ]
  },
  {
   "cell_type": "code",
   "execution_count": 343,
   "id": "c1094f0d",
   "metadata": {},
   "outputs": [
    {
     "data": {
      "text/plain": [
       "1    241819\n",
       "0    241787\n",
       "Name: label, dtype: int64"
      ]
     },
     "execution_count": 343,
     "metadata": {},
     "output_type": "execute_result"
    }
   ],
   "source": [
    "final_test_set.label.value_counts()"
   ]
  },
  {
   "cell_type": "code",
   "execution_count": 344,
   "id": "45341ccb",
   "metadata": {},
   "outputs": [],
   "source": [
    "final_test_set.to_csv(\"/home/anwer/Desktop/PPI_prediction/csv_files_new_ppi/training_and_test_set/train_set_without_embedding.csv\",index = False)"
   ]
  },
  {
   "cell_type": "code",
   "execution_count": 347,
   "id": "4dafb86a",
   "metadata": {},
   "outputs": [
    {
     "data": {
      "text/plain": [
       "17290"
      ]
     },
     "execution_count": 347,
     "metadata": {},
     "output_type": "execute_result"
    }
   ],
   "source": [
    "len(set(final_test_set['Protein_A']).union(final_test_set['Protein_B']))\n"
   ]
  },
  {
   "cell_type": "code",
   "execution_count": 349,
   "id": "3b0240b6",
   "metadata": {},
   "outputs": [],
   "source": [
    "final_test_set = pd.read_csv(\"/home/anwer/Desktop/PPI_prediction/csv_files_new_ppi/training_and_test_set/test_set_without_embedding.csv\")"
   ]
  },
  {
   "cell_type": "code",
   "execution_count": 350,
   "id": "3c9cb208",
   "metadata": {},
   "outputs": [
    {
     "data": {
      "text/plain": [
       "4692"
      ]
     },
     "execution_count": 350,
     "metadata": {},
     "output_type": "execute_result"
    }
   ],
   "source": [
    "len(set(final_test_set['Protein_A']).union(final_test_set['Protein_B']))"
   ]
  },
  {
   "cell_type": "code",
   "execution_count": 352,
   "id": "174bf508",
   "metadata": {},
   "outputs": [
    {
     "data": {
      "text/plain": [
       "0    213458\n",
       "1     21347\n",
       "Name: label, dtype: int64"
      ]
     },
     "execution_count": 352,
     "metadata": {},
     "output_type": "execute_result"
    }
   ],
   "source": [
    "final_test_set.label.value_counts() "
   ]
  },
  {
   "cell_type": "code",
   "execution_count": 353,
   "id": "3ca7021d",
   "metadata": {},
   "outputs": [],
   "source": [
    "final_train_set = pd.read_csv(\"/home/anwer/Desktop/PPI_prediction/csv_files_new_ppi/training_and_test_set/train_set_without_embedding.csv\")"
   ]
  },
  {
   "cell_type": "code",
   "execution_count": 355,
   "id": "0dcfd14e",
   "metadata": {},
   "outputs": [
    {
     "data": {
      "text/plain": [
       "1    241819\n",
       "0    241787\n",
       "Name: label, dtype: int64"
      ]
     },
     "execution_count": 355,
     "metadata": {},
     "output_type": "execute_result"
    }
   ],
   "source": [
    "final_train_set.label.value_counts() "
   ]
  },
  {
   "cell_type": "code",
   "execution_count": null,
   "id": "998ab0b7",
   "metadata": {},
   "outputs": [],
   "source": []
  }
 ],
 "metadata": {
  "kernelspec": {
   "display_name": "Python 3 (ipykernel)",
   "language": "python",
   "name": "python3"
  },
  "language_info": {
   "codemirror_mode": {
    "name": "ipython",
    "version": 3
   },
   "file_extension": ".py",
   "mimetype": "text/x-python",
   "name": "python",
   "nbconvert_exporter": "python",
   "pygments_lexer": "ipython3",
   "version": "3.9.12"
  }
 },
 "nbformat": 4,
 "nbformat_minor": 5
}

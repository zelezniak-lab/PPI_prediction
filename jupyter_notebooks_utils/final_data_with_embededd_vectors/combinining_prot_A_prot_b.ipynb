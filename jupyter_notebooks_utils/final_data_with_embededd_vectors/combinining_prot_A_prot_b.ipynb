{
 "cells": [
  {
   "cell_type": "code",
   "execution_count": 67,
   "id": "00f822f5-df76-4611-923a-46014e75c4e5",
   "metadata": {},
   "outputs": [],
   "source": [
    "import pandas as pd\n",
    "import pickle\n",
    "from tqdm import tqdm"
   ]
  },
  {
   "cell_type": "markdown",
   "id": "48ef2349-2d28-4ee4-848e-8cc9a9dbf617",
   "metadata": {},
   "source": [
    "# Test Data"
   ]
  },
  {
   "cell_type": "code",
   "execution_count": 2,
   "id": "15d9ba80-9a70-4516-993b-ad31f34d2b84",
   "metadata": {},
   "outputs": [],
   "source": [
    "data = pd.read_csv(\"../../csv_files_new_ppi/training_and_test_set/test_set_without_embedding.csv\")"
   ]
  },
  {
   "cell_type": "code",
   "execution_count": 4,
   "id": "734f7ca4-ac89-4767-9630-16ebedb817f3",
   "metadata": {},
   "outputs": [
    {
     "data": {
      "text/plain": [
       "0    213458\n",
       "1     21347\n",
       "Name: label, dtype: int64"
      ]
     },
     "execution_count": 4,
     "metadata": {},
     "output_type": "execute_result"
    }
   ],
   "source": [
    "data.label.value_counts()"
   ]
  },
  {
   "cell_type": "code",
   "execution_count": 16,
   "id": "00bec7ea-aa25-4511-b37f-03fd2334127a",
   "metadata": {},
   "outputs": [],
   "source": [
    "with open('../../pickle/prot_to_seq_pickle/all_prot_seq_for_bert.pickle', 'rb') as handle:\n",
    "        name_to_seq = pickle.load(handle)\n",
    "with open('../../pickle/prot_to_seq_pickle/all_prot_negatome_seq_for_bert.pickle', 'rb') as handle:\n",
    "        name_to_seq_neg = pickle.load(handle)"
   ]
  },
  {
   "cell_type": "code",
   "execution_count": 11,
   "id": "268c59c3-70b4-4418-9f5e-9a9b0554766e",
   "metadata": {},
   "outputs": [
    {
     "data": {
      "text/html": [
       "<div>\n",
       "<style scoped>\n",
       "    .dataframe tbody tr th:only-of-type {\n",
       "        vertical-align: middle;\n",
       "    }\n",
       "\n",
       "    .dataframe tbody tr th {\n",
       "        vertical-align: top;\n",
       "    }\n",
       "\n",
       "    .dataframe thead th {\n",
       "        text-align: right;\n",
       "    }\n",
       "</style>\n",
       "<table border=\"1\" class=\"dataframe\">\n",
       "  <thead>\n",
       "    <tr style=\"text-align: right;\">\n",
       "      <th></th>\n",
       "      <th>Protein_A</th>\n",
       "      <th>Protein_B</th>\n",
       "      <th>label</th>\n",
       "    </tr>\n",
       "  </thead>\n",
       "  <tbody>\n",
       "    <tr>\n",
       "      <th>0</th>\n",
       "      <td>PRO_4691</td>\n",
       "      <td>PRO_2365</td>\n",
       "      <td>1</td>\n",
       "    </tr>\n",
       "    <tr>\n",
       "      <th>1</th>\n",
       "      <td>PRO_12486</td>\n",
       "      <td>PRO_12486</td>\n",
       "      <td>1</td>\n",
       "    </tr>\n",
       "    <tr>\n",
       "      <th>2</th>\n",
       "      <td>PRO_12486</td>\n",
       "      <td>PRO_15453</td>\n",
       "      <td>1</td>\n",
       "    </tr>\n",
       "    <tr>\n",
       "      <th>3</th>\n",
       "      <td>PRO_12486</td>\n",
       "      <td>PRO_22362</td>\n",
       "      <td>1</td>\n",
       "    </tr>\n",
       "    <tr>\n",
       "      <th>4</th>\n",
       "      <td>PRO_12486</td>\n",
       "      <td>PRO_3423</td>\n",
       "      <td>1</td>\n",
       "    </tr>\n",
       "  </tbody>\n",
       "</table>\n",
       "</div>"
      ],
      "text/plain": [
       "   Protein_A  Protein_B  label\n",
       "0   PRO_4691   PRO_2365      1\n",
       "1  PRO_12486  PRO_12486      1\n",
       "2  PRO_12486  PRO_15453      1\n",
       "3  PRO_12486  PRO_22362      1\n",
       "4  PRO_12486   PRO_3423      1"
      ]
     },
     "execution_count": 11,
     "metadata": {},
     "output_type": "execute_result"
    }
   ],
   "source": [
    "data.head()"
   ]
  },
  {
   "cell_type": "code",
   "execution_count": 20,
   "id": "cfd3198c-44c2-4d05-97f9-232f63ecda8f",
   "metadata": {},
   "outputs": [],
   "source": [
    "def return_seq(name):\n",
    "    try:\n",
    "        return name_to_seq[name]\n",
    "    except:\n",
    "        return name_to_seq_neg[name]\n",
    "data['Protein_A_seq'] = data['Protein_A'].apply(return_seq)\n",
    "data['Protein_B_seq'] = data['Protein_B'].apply(return_seq)"
   ]
  },
  {
   "cell_type": "code",
   "execution_count": 29,
   "id": "c3a95257-be00-4ce7-9e89-9f29db26d677",
   "metadata": {},
   "outputs": [],
   "source": [
    "data['Concat_Protein'] = data['Protein_A_seq'] + \" \" + data['Protein_B_seq']\n",
    "data['Concat_Protein_B'] = data['Protein_B_seq'] + \" \" + data['Protein_A_seq']"
   ]
  },
  {
   "cell_type": "code",
   "execution_count": 30,
   "id": "44d799bf-2754-4794-88be-547fc72f0dc4",
   "metadata": {},
   "outputs": [
    {
     "data": {
      "text/plain": [
       "'M A S L E V S R S P R R S R R E L E V R S P R Q N K Y S V L L P T Y N E R E N L P L I V W L L V K S F S E S G I N Y E I I I I D D G S P D G T R D V A E Q L E K I Y G S D R I L L R P R E K K L G L G T A Y I H G M K H A T G N Y I I I M D A D L S H H P K F I P E F I R K Q K E G N F D I V S G T R Y K G N G G V Y G W D L K R K I I S R G A N F L T Q I L L R P G A S D L T G S F R L Y R K E V L E K L I E K C V S K G Y V F Q M E M I V R A R Q L N Y T I G E V P I S F V D R V Y G E S K L G G N E I V S F L K G L L T L F A T T'"
      ]
     },
     "execution_count": 30,
     "metadata": {},
     "output_type": "execute_result"
    }
   ],
   "source": [
    "data.iloc[0].Protein_A_seq"
   ]
  },
  {
   "cell_type": "code",
   "execution_count": 31,
   "id": "79b080a4-ea85-421d-9458-806101ab2ce2",
   "metadata": {},
   "outputs": [
    {
     "data": {
      "text/plain": [
       "'M S G C P F L G N N F G Y T F K K L P V E G S E E D K S Q T G V N R A S K G G L I Y G N Y L H L E K V L N A Q E L Q S E T K G N K I H D E H L F I I T H Q A Y E L W F K Q I L W E L D S V R E I F Q N G H V R D E R N M L K V V S R M H R V S V I L K L L V Q Q F S I L E T M T A L D F N D F R E Y L S P A S G F Q S L Q F R L L E N K I G V L Q N M R V P Y N R R H Y R D N F K G E E N E L L L K S E Q E K T L L E L V E A W L E R T P G L E P H G F N F W G K L E K N I T R G L E E E F I R I Q A K E E S E E K E E Q V A E F Q K Q K E V L L S L F D E K R H E H L L S K G E R R L S Y R A L Q G A L M I Y F Y R E E P R F Q V P F Q L L T S L M D I D S L M T K W R Y N H V C M V H R M L G S K A G T G G S S G Y H Y L R S T V S D R Y K V F V D L F N L S T Y L I P R H W I P K M N P T I H K F L Y T A E Y C D S S Y F S S D E S D'"
      ]
     },
     "execution_count": 31,
     "metadata": {},
     "output_type": "execute_result"
    }
   ],
   "source": [
    "data.iloc[0].Protein_B_seq"
   ]
  },
  {
   "cell_type": "code",
   "execution_count": 33,
   "id": "4d95cf7e-342c-4083-a6bf-d2be39fc7fa3",
   "metadata": {},
   "outputs": [
    {
     "data": {
      "text/plain": [
       "'M A S L E V S R S P R R S R R E L E V R S P R Q N K Y S V L L P T Y N E R E N L P L I V W L L V K S F S E S G I N Y E I I I I D D G S P D G T R D V A E Q L E K I Y G S D R I L L R P R E K K L G L G T A Y I H G M K H A T G N Y I I I M D A D L S H H P K F I P E F I R K Q K E G N F D I V S G T R Y K G N G G V Y G W D L K R K I I S R G A N F L T Q I L L R P G A S D L T G S F R L Y R K E V L E K L I E K C V S K G Y V F Q M E M I V R A R Q L N Y T I G E V P I S F V D R V Y G E S K L G G N E I V S F L K G L L T L F A T T M S G C P F L G N N F G Y T F K K L P V E G S E E D K S Q T G V N R A S K G G L I Y G N Y L H L E K V L N A Q E L Q S E T K G N K I H D E H L F I I T H Q A Y E L W F K Q I L W E L D S V R E I F Q N G H V R D E R N M L K V V S R M H R V S V I L K L L V Q Q F S I L E T M T A L D F N D F R E Y L S P A S G F Q S L Q F R L L E N K I G V L Q N M R V P Y N R R H Y R D N F K G E E N E L L L K S E Q E K T L L E L V E A W L E R T P G L E P H G F N F W G K L E K N I T R G L E E E F I R I Q A K E E S E E K E E Q V A E F Q K Q K E V L L S L F D E K R H E H L L S K G E R R L S Y R A L Q G A L M I Y F Y R E E P R F Q V P F Q L L T S L M D I D S L M T K W R Y N H V C M V H R M L G S K A G T G G S S G Y H Y L R S T V S D R Y K V F V D L F N L S T Y L I P R H W I P K M N P T I H K F L Y T A E Y C D S S Y F S S D E S D'"
      ]
     },
     "execution_count": 33,
     "metadata": {},
     "output_type": "execute_result"
    }
   ],
   "source": [
    "data.iloc[0].Concat_Protein"
   ]
  },
  {
   "cell_type": "code",
   "execution_count": 36,
   "id": "27fcb9ea-b8e1-4cbd-9e5b-a65304daff1d",
   "metadata": {},
   "outputs": [],
   "source": [
    "first_df = pd.DataFrame()\n",
    "first_df[['Protein','label']] = data[['Concat_Protein','label']]\n",
    "first_df_2 = pd.DataFrame()\n",
    "first_df_2[['Protein','label']] = data[['Concat_Protein_B','label']]\n",
    "df = [first_df,first_df_2]\n",
    "data = pd.concat(df)"
   ]
  },
  {
   "cell_type": "code",
   "execution_count": 42,
   "id": "76164e81-cc5e-4918-9483-878fd5ac3009",
   "metadata": {},
   "outputs": [
    {
     "data": {
      "text/html": [
       "<div>\n",
       "<style scoped>\n",
       "    .dataframe tbody tr th:only-of-type {\n",
       "        vertical-align: middle;\n",
       "    }\n",
       "\n",
       "    .dataframe tbody tr th {\n",
       "        vertical-align: top;\n",
       "    }\n",
       "\n",
       "    .dataframe thead th {\n",
       "        text-align: right;\n",
       "    }\n",
       "</style>\n",
       "<table border=\"1\" class=\"dataframe\">\n",
       "  <thead>\n",
       "    <tr style=\"text-align: right;\">\n",
       "      <th></th>\n",
       "      <th>Protein</th>\n",
       "      <th>label</th>\n",
       "    </tr>\n",
       "  </thead>\n",
       "  <tbody>\n",
       "    <tr>\n",
       "      <th>0</th>\n",
       "      <td>M A S L E V S R S P R R S R R E L E V R S P R ...</td>\n",
       "      <td>1</td>\n",
       "    </tr>\n",
       "    <tr>\n",
       "      <th>1</th>\n",
       "      <td>M E D L G E N T M V L S T L R S L N N F I S Q ...</td>\n",
       "      <td>1</td>\n",
       "    </tr>\n",
       "    <tr>\n",
       "      <th>2</th>\n",
       "      <td>M E D L G E N T M V L S T L R S L N N F I S Q ...</td>\n",
       "      <td>1</td>\n",
       "    </tr>\n",
       "    <tr>\n",
       "      <th>3</th>\n",
       "      <td>M E D L G E N T M V L S T L R S L N N F I S Q ...</td>\n",
       "      <td>1</td>\n",
       "    </tr>\n",
       "    <tr>\n",
       "      <th>4</th>\n",
       "      <td>M E D L G E N T M V L S T L R S L N N F I S Q ...</td>\n",
       "      <td>1</td>\n",
       "    </tr>\n",
       "    <tr>\n",
       "      <th>...</th>\n",
       "      <td>...</td>\n",
       "      <td>...</td>\n",
       "    </tr>\n",
       "    <tr>\n",
       "      <th>234800</th>\n",
       "      <td>M D G V T P T L S T I R G R T L E S S T L H V ...</td>\n",
       "      <td>0</td>\n",
       "    </tr>\n",
       "    <tr>\n",
       "      <th>234801</th>\n",
       "      <td>M D E Q A L L G L N P N A D S D F R Q R A L A ...</td>\n",
       "      <td>0</td>\n",
       "    </tr>\n",
       "    <tr>\n",
       "      <th>234802</th>\n",
       "      <td>M E E C W V T E I A N G S K D G L D S N P M K ...</td>\n",
       "      <td>0</td>\n",
       "    </tr>\n",
       "    <tr>\n",
       "      <th>234803</th>\n",
       "      <td>M A A S Q C L C C S K F L F Q R Q N L A C F L ...</td>\n",
       "      <td>0</td>\n",
       "    </tr>\n",
       "    <tr>\n",
       "      <th>234804</th>\n",
       "      <td>M A D E E L E A L R R Q R L A E L Q A K H G D ...</td>\n",
       "      <td>0</td>\n",
       "    </tr>\n",
       "  </tbody>\n",
       "</table>\n",
       "<p>469610 rows × 2 columns</p>\n",
       "</div>"
      ],
      "text/plain": [
       "                                                  Protein  label\n",
       "0       M A S L E V S R S P R R S R R E L E V R S P R ...      1\n",
       "1       M E D L G E N T M V L S T L R S L N N F I S Q ...      1\n",
       "2       M E D L G E N T M V L S T L R S L N N F I S Q ...      1\n",
       "3       M E D L G E N T M V L S T L R S L N N F I S Q ...      1\n",
       "4       M E D L G E N T M V L S T L R S L N N F I S Q ...      1\n",
       "...                                                   ...    ...\n",
       "234800  M D G V T P T L S T I R G R T L E S S T L H V ...      0\n",
       "234801  M D E Q A L L G L N P N A D S D F R Q R A L A ...      0\n",
       "234802  M E E C W V T E I A N G S K D G L D S N P M K ...      0\n",
       "234803  M A A S Q C L C C S K F L F Q R Q N L A C F L ...      0\n",
       "234804  M A D E E L E A L R R Q R L A E L Q A K H G D ...      0\n",
       "\n",
       "[469610 rows x 2 columns]"
      ]
     },
     "execution_count": 42,
     "metadata": {},
     "output_type": "execute_result"
    }
   ],
   "source": [
    "data"
   ]
  },
  {
   "cell_type": "code",
   "execution_count": 45,
   "id": "eee2f11c-95ad-43d1-a879-be22e7a93b1a",
   "metadata": {},
   "outputs": [],
   "source": [
    "combined_seq_to_pro_dct = {}\n",
    "\n",
    "for index,row in data.iterrows():\n",
    "    combined_seq_to_pro_dct[row.Protein] = f\"combined_pro_{index}\"\n",
    "    "
   ]
  },
  {
   "cell_type": "code",
   "execution_count": 49,
   "id": "f2b772c0-3b4e-449a-82ef-1fbf9b2f002a",
   "metadata": {},
   "outputs": [],
   "source": [
    "def return_pro_name(seq):\n",
    "    return combined_seq_to_pro_dct[seq]\n",
    "\n",
    "data['Protein_name'] = data['Protein'].apply(return_pro_name)\n"
   ]
  },
  {
   "cell_type": "code",
   "execution_count": 51,
   "id": "1da85104-9b98-49b9-a740-f4119a2be67a",
   "metadata": {},
   "outputs": [
    {
     "data": {
      "text/html": [
       "<div>\n",
       "<style scoped>\n",
       "    .dataframe tbody tr th:only-of-type {\n",
       "        vertical-align: middle;\n",
       "    }\n",
       "\n",
       "    .dataframe tbody tr th {\n",
       "        vertical-align: top;\n",
       "    }\n",
       "\n",
       "    .dataframe thead th {\n",
       "        text-align: right;\n",
       "    }\n",
       "</style>\n",
       "<table border=\"1\" class=\"dataframe\">\n",
       "  <thead>\n",
       "    <tr style=\"text-align: right;\">\n",
       "      <th></th>\n",
       "      <th>Protein_name</th>\n",
       "      <th>label</th>\n",
       "    </tr>\n",
       "  </thead>\n",
       "  <tbody>\n",
       "    <tr>\n",
       "      <th>0</th>\n",
       "      <td>combined_pro_0</td>\n",
       "      <td>1</td>\n",
       "    </tr>\n",
       "    <tr>\n",
       "      <th>1</th>\n",
       "      <td>combined_pro_1</td>\n",
       "      <td>1</td>\n",
       "    </tr>\n",
       "    <tr>\n",
       "      <th>2</th>\n",
       "      <td>combined_pro_2</td>\n",
       "      <td>1</td>\n",
       "    </tr>\n",
       "    <tr>\n",
       "      <th>3</th>\n",
       "      <td>combined_pro_3</td>\n",
       "      <td>1</td>\n",
       "    </tr>\n",
       "    <tr>\n",
       "      <th>4</th>\n",
       "      <td>combined_pro_4</td>\n",
       "      <td>1</td>\n",
       "    </tr>\n",
       "    <tr>\n",
       "      <th>...</th>\n",
       "      <td>...</td>\n",
       "      <td>...</td>\n",
       "    </tr>\n",
       "    <tr>\n",
       "      <th>234800</th>\n",
       "      <td>combined_pro_234800</td>\n",
       "      <td>0</td>\n",
       "    </tr>\n",
       "    <tr>\n",
       "      <th>234801</th>\n",
       "      <td>combined_pro_234801</td>\n",
       "      <td>0</td>\n",
       "    </tr>\n",
       "    <tr>\n",
       "      <th>234802</th>\n",
       "      <td>combined_pro_234802</td>\n",
       "      <td>0</td>\n",
       "    </tr>\n",
       "    <tr>\n",
       "      <th>234803</th>\n",
       "      <td>combined_pro_234803</td>\n",
       "      <td>0</td>\n",
       "    </tr>\n",
       "    <tr>\n",
       "      <th>234804</th>\n",
       "      <td>combined_pro_234804</td>\n",
       "      <td>0</td>\n",
       "    </tr>\n",
       "  </tbody>\n",
       "</table>\n",
       "<p>469610 rows × 2 columns</p>\n",
       "</div>"
      ],
      "text/plain": [
       "               Protein_name  label\n",
       "0            combined_pro_0      1\n",
       "1            combined_pro_1      1\n",
       "2            combined_pro_2      1\n",
       "3            combined_pro_3      1\n",
       "4            combined_pro_4      1\n",
       "...                     ...    ...\n",
       "234800  combined_pro_234800      0\n",
       "234801  combined_pro_234801      0\n",
       "234802  combined_pro_234802      0\n",
       "234803  combined_pro_234803      0\n",
       "234804  combined_pro_234804      0\n",
       "\n",
       "[469610 rows x 2 columns]"
      ]
     },
     "execution_count": 51,
     "metadata": {},
     "output_type": "execute_result"
    }
   ],
   "source": [
    "final_test_data = data[['Protein_name','label']]\n",
    "final_test_data"
   ]
  },
  {
   "cell_type": "code",
   "execution_count": 52,
   "id": "ed90a2f2-c74b-4895-8868-d68b865d9456",
   "metadata": {},
   "outputs": [
    {
     "data": {
      "text/plain": [
       "0    426916\n",
       "1     42694\n",
       "Name: label, dtype: int64"
      ]
     },
     "execution_count": 52,
     "metadata": {},
     "output_type": "execute_result"
    }
   ],
   "source": [
    "final_test_data.label.value_counts()"
   ]
  },
  {
   "cell_type": "code",
   "execution_count": 53,
   "id": "78cfccde-66a5-4668-8987-1bd15cb40eac",
   "metadata": {},
   "outputs": [],
   "source": [
    "final_test_data.to_csv(\"../../csv_files_new_ppi/training_and_test_set/test/combined_test.csv\",index = False)"
   ]
  },
  {
   "cell_type": "markdown",
   "id": "fbdb45b3-5f1f-4da9-8426-4f30e8f73f4e",
   "metadata": {},
   "source": [
    "# Train Data"
   ]
  },
  {
   "cell_type": "code",
   "execution_count": 56,
   "id": "7acb3a0d-1a89-40cd-b57e-69ed43c3d08d",
   "metadata": {},
   "outputs": [],
   "source": [
    "data = pd.read_csv(\"../../csv_files_new_ppi/training_and_test_set/train_set_without_embedding.csv\")"
   ]
  },
  {
   "cell_type": "code",
   "execution_count": 57,
   "id": "e77dca56-e2b5-415b-8acc-4675360820b1",
   "metadata": {},
   "outputs": [
    {
     "data": {
      "text/html": [
       "<div>\n",
       "<style scoped>\n",
       "    .dataframe tbody tr th:only-of-type {\n",
       "        vertical-align: middle;\n",
       "    }\n",
       "\n",
       "    .dataframe tbody tr th {\n",
       "        vertical-align: top;\n",
       "    }\n",
       "\n",
       "    .dataframe thead th {\n",
       "        text-align: right;\n",
       "    }\n",
       "</style>\n",
       "<table border=\"1\" class=\"dataframe\">\n",
       "  <thead>\n",
       "    <tr style=\"text-align: right;\">\n",
       "      <th></th>\n",
       "      <th>Protein_A</th>\n",
       "      <th>Protein_B</th>\n",
       "      <th>label</th>\n",
       "    </tr>\n",
       "  </thead>\n",
       "  <tbody>\n",
       "    <tr>\n",
       "      <th>0</th>\n",
       "      <td>PRO_1968</td>\n",
       "      <td>PRO_3259</td>\n",
       "      <td>1</td>\n",
       "    </tr>\n",
       "    <tr>\n",
       "      <th>1</th>\n",
       "      <td>PRO_1968</td>\n",
       "      <td>PRO_20825</td>\n",
       "      <td>1</td>\n",
       "    </tr>\n",
       "    <tr>\n",
       "      <th>2</th>\n",
       "      <td>PRO_1968</td>\n",
       "      <td>PRO_11236</td>\n",
       "      <td>1</td>\n",
       "    </tr>\n",
       "    <tr>\n",
       "      <th>3</th>\n",
       "      <td>PRO_1968</td>\n",
       "      <td>PRO_16190</td>\n",
       "      <td>1</td>\n",
       "    </tr>\n",
       "    <tr>\n",
       "      <th>4</th>\n",
       "      <td>PRO_1968</td>\n",
       "      <td>PRO_4579</td>\n",
       "      <td>1</td>\n",
       "    </tr>\n",
       "    <tr>\n",
       "      <th>...</th>\n",
       "      <td>...</td>\n",
       "      <td>...</td>\n",
       "      <td>...</td>\n",
       "    </tr>\n",
       "    <tr>\n",
       "      <th>483601</th>\n",
       "      <td>PRO_6778</td>\n",
       "      <td>PRO_18574</td>\n",
       "      <td>0</td>\n",
       "    </tr>\n",
       "    <tr>\n",
       "      <th>483602</th>\n",
       "      <td>PRO_6260</td>\n",
       "      <td>PRO_20220</td>\n",
       "      <td>0</td>\n",
       "    </tr>\n",
       "    <tr>\n",
       "      <th>483603</th>\n",
       "      <td>PRO_8204</td>\n",
       "      <td>PRO_8043</td>\n",
       "      <td>0</td>\n",
       "    </tr>\n",
       "    <tr>\n",
       "      <th>483604</th>\n",
       "      <td>PRO_83</td>\n",
       "      <td>PRO_3278</td>\n",
       "      <td>0</td>\n",
       "    </tr>\n",
       "    <tr>\n",
       "      <th>483605</th>\n",
       "      <td>PRO_12432</td>\n",
       "      <td>PRO_14075</td>\n",
       "      <td>0</td>\n",
       "    </tr>\n",
       "  </tbody>\n",
       "</table>\n",
       "<p>483606 rows × 3 columns</p>\n",
       "</div>"
      ],
      "text/plain": [
       "        Protein_A  Protein_B  label\n",
       "0        PRO_1968   PRO_3259      1\n",
       "1        PRO_1968  PRO_20825      1\n",
       "2        PRO_1968  PRO_11236      1\n",
       "3        PRO_1968  PRO_16190      1\n",
       "4        PRO_1968   PRO_4579      1\n",
       "...           ...        ...    ...\n",
       "483601   PRO_6778  PRO_18574      0\n",
       "483602   PRO_6260  PRO_20220      0\n",
       "483603   PRO_8204   PRO_8043      0\n",
       "483604     PRO_83   PRO_3278      0\n",
       "483605  PRO_12432  PRO_14075      0\n",
       "\n",
       "[483606 rows x 3 columns]"
      ]
     },
     "execution_count": 57,
     "metadata": {},
     "output_type": "execute_result"
    }
   ],
   "source": [
    "data"
   ]
  },
  {
   "cell_type": "code",
   "execution_count": 58,
   "id": "e5b35282-e0de-4aa7-ad39-6371c88d371e",
   "metadata": {},
   "outputs": [],
   "source": [
    "def return_seq(name):\n",
    "    try:\n",
    "        return name_to_seq[name]\n",
    "    except:\n",
    "        return name_to_seq_neg[name]\n",
    "data['Protein_A_seq'] = data['Protein_A'].apply(return_seq)\n",
    "data['Protein_B_seq'] = data['Protein_B'].apply(return_seq)"
   ]
  },
  {
   "cell_type": "code",
   "execution_count": 59,
   "id": "20df40f7-8de3-4964-a9d0-7f379ed27f53",
   "metadata": {},
   "outputs": [
    {
     "data": {
      "text/html": [
       "<div>\n",
       "<style scoped>\n",
       "    .dataframe tbody tr th:only-of-type {\n",
       "        vertical-align: middle;\n",
       "    }\n",
       "\n",
       "    .dataframe tbody tr th {\n",
       "        vertical-align: top;\n",
       "    }\n",
       "\n",
       "    .dataframe thead th {\n",
       "        text-align: right;\n",
       "    }\n",
       "</style>\n",
       "<table border=\"1\" class=\"dataframe\">\n",
       "  <thead>\n",
       "    <tr style=\"text-align: right;\">\n",
       "      <th></th>\n",
       "      <th>Protein_A</th>\n",
       "      <th>Protein_B</th>\n",
       "      <th>label</th>\n",
       "      <th>Protein_A_seq</th>\n",
       "      <th>Protein_B_seq</th>\n",
       "    </tr>\n",
       "  </thead>\n",
       "  <tbody>\n",
       "    <tr>\n",
       "      <th>0</th>\n",
       "      <td>PRO_1968</td>\n",
       "      <td>PRO_3259</td>\n",
       "      <td>1</td>\n",
       "      <td>M A K N P P E N C E D C H I L N A E A F K S K ...</td>\n",
       "      <td>M A S S S T V P L G F H Y E T K Y V V L S Y L ...</td>\n",
       "    </tr>\n",
       "    <tr>\n",
       "      <th>1</th>\n",
       "      <td>PRO_1968</td>\n",
       "      <td>PRO_20825</td>\n",
       "      <td>1</td>\n",
       "      <td>M A K N P P E N C E D C H I L N A E A F K S K ...</td>\n",
       "      <td>M S S H L V E P P P P L H N N N N N C E E N E ...</td>\n",
       "    </tr>\n",
       "    <tr>\n",
       "      <th>2</th>\n",
       "      <td>PRO_1968</td>\n",
       "      <td>PRO_11236</td>\n",
       "      <td>1</td>\n",
       "      <td>M A K N P P E N C E D C H I L N A E A F K S K ...</td>\n",
       "      <td>M P L L L L L P L L W A G A L A M D P N F W L ...</td>\n",
       "    </tr>\n",
       "    <tr>\n",
       "      <th>3</th>\n",
       "      <td>PRO_1968</td>\n",
       "      <td>PRO_16190</td>\n",
       "      <td>1</td>\n",
       "      <td>M A K N P P E N C E D C H I L N A E A F K S K ...</td>\n",
       "      <td>M W T L K S S L V L L L C L T C S Y A F M F S ...</td>\n",
       "    </tr>\n",
       "    <tr>\n",
       "      <th>4</th>\n",
       "      <td>PRO_1968</td>\n",
       "      <td>PRO_4579</td>\n",
       "      <td>1</td>\n",
       "      <td>M A K N P P E N C E D C H I L N A E A F K S K ...</td>\n",
       "      <td>M G H R F L R G L L T L L L P P P P L Y T R H ...</td>\n",
       "    </tr>\n",
       "    <tr>\n",
       "      <th>...</th>\n",
       "      <td>...</td>\n",
       "      <td>...</td>\n",
       "      <td>...</td>\n",
       "      <td>...</td>\n",
       "      <td>...</td>\n",
       "    </tr>\n",
       "    <tr>\n",
       "      <th>483601</th>\n",
       "      <td>PRO_6778</td>\n",
       "      <td>PRO_18574</td>\n",
       "      <td>0</td>\n",
       "      <td>M A Q A L S E E E F Q R M Q A Q L L E L R T N ...</td>\n",
       "      <td>M K K E Q D S N V T E F V L L G L S S S W E L ...</td>\n",
       "    </tr>\n",
       "    <tr>\n",
       "      <th>483602</th>\n",
       "      <td>PRO_6260</td>\n",
       "      <td>PRO_20220</td>\n",
       "      <td>0</td>\n",
       "      <td>M G A P L A V A L G A L H Y L A L F L Q L G G ...</td>\n",
       "      <td>M E M R W F L S K I Q D D F R G G K I N L E K ...</td>\n",
       "    </tr>\n",
       "    <tr>\n",
       "      <th>483603</th>\n",
       "      <td>PRO_8204</td>\n",
       "      <td>PRO_8043</td>\n",
       "      <td>0</td>\n",
       "      <td>M L R L V P T G A R A I V D M S Y A R H F L D ...</td>\n",
       "      <td>M A P K K S V S K A G K E L E V K K K G G K K ...</td>\n",
       "    </tr>\n",
       "    <tr>\n",
       "      <th>483604</th>\n",
       "      <td>PRO_83</td>\n",
       "      <td>PRO_3278</td>\n",
       "      <td>0</td>\n",
       "      <td>M N G Q L N G F H E A F I E E G T F L F T S E ...</td>\n",
       "      <td>M D L S C S C A T G G S C T C A S S C K C K E ...</td>\n",
       "    </tr>\n",
       "    <tr>\n",
       "      <th>483605</th>\n",
       "      <td>PRO_12432</td>\n",
       "      <td>PRO_14075</td>\n",
       "      <td>0</td>\n",
       "      <td>M G S P A A P E G A L G Y V R E F T R H S S D ...</td>\n",
       "      <td>M G A V M G T F S S L Q T K Q R R P S K D I A ...</td>\n",
       "    </tr>\n",
       "  </tbody>\n",
       "</table>\n",
       "<p>483606 rows × 5 columns</p>\n",
       "</div>"
      ],
      "text/plain": [
       "        Protein_A  Protein_B  label  \\\n",
       "0        PRO_1968   PRO_3259      1   \n",
       "1        PRO_1968  PRO_20825      1   \n",
       "2        PRO_1968  PRO_11236      1   \n",
       "3        PRO_1968  PRO_16190      1   \n",
       "4        PRO_1968   PRO_4579      1   \n",
       "...           ...        ...    ...   \n",
       "483601   PRO_6778  PRO_18574      0   \n",
       "483602   PRO_6260  PRO_20220      0   \n",
       "483603   PRO_8204   PRO_8043      0   \n",
       "483604     PRO_83   PRO_3278      0   \n",
       "483605  PRO_12432  PRO_14075      0   \n",
       "\n",
       "                                            Protein_A_seq  \\\n",
       "0       M A K N P P E N C E D C H I L N A E A F K S K ...   \n",
       "1       M A K N P P E N C E D C H I L N A E A F K S K ...   \n",
       "2       M A K N P P E N C E D C H I L N A E A F K S K ...   \n",
       "3       M A K N P P E N C E D C H I L N A E A F K S K ...   \n",
       "4       M A K N P P E N C E D C H I L N A E A F K S K ...   \n",
       "...                                                   ...   \n",
       "483601  M A Q A L S E E E F Q R M Q A Q L L E L R T N ...   \n",
       "483602  M G A P L A V A L G A L H Y L A L F L Q L G G ...   \n",
       "483603  M L R L V P T G A R A I V D M S Y A R H F L D ...   \n",
       "483604  M N G Q L N G F H E A F I E E G T F L F T S E ...   \n",
       "483605  M G S P A A P E G A L G Y V R E F T R H S S D ...   \n",
       "\n",
       "                                            Protein_B_seq  \n",
       "0       M A S S S T V P L G F H Y E T K Y V V L S Y L ...  \n",
       "1       M S S H L V E P P P P L H N N N N N C E E N E ...  \n",
       "2       M P L L L L L P L L W A G A L A M D P N F W L ...  \n",
       "3       M W T L K S S L V L L L C L T C S Y A F M F S ...  \n",
       "4       M G H R F L R G L L T L L L P P P P L Y T R H ...  \n",
       "...                                                   ...  \n",
       "483601  M K K E Q D S N V T E F V L L G L S S S W E L ...  \n",
       "483602  M E M R W F L S K I Q D D F R G G K I N L E K ...  \n",
       "483603  M A P K K S V S K A G K E L E V K K K G G K K ...  \n",
       "483604  M D L S C S C A T G G S C T C A S S C K C K E ...  \n",
       "483605  M G A V M G T F S S L Q T K Q R R P S K D I A ...  \n",
       "\n",
       "[483606 rows x 5 columns]"
      ]
     },
     "execution_count": 59,
     "metadata": {},
     "output_type": "execute_result"
    }
   ],
   "source": [
    "data"
   ]
  },
  {
   "cell_type": "code",
   "execution_count": 60,
   "id": "bf8abb47-91fb-4101-a162-17d582db77a0",
   "metadata": {},
   "outputs": [],
   "source": [
    "data['Concat_Protein'] = data['Protein_A_seq'] + \" \" + data['Protein_B_seq']\n",
    "data['Concat_Protein_B'] = data['Protein_B_seq'] + \" \" + data['Protein_A_seq']"
   ]
  },
  {
   "cell_type": "code",
   "execution_count": 61,
   "id": "fa78f6ce-34d2-4f50-97fb-eb0a726b4b86",
   "metadata": {},
   "outputs": [],
   "source": [
    "first_df = pd.DataFrame()\n",
    "first_df[['Protein','label']] = data[['Concat_Protein','label']]\n",
    "first_df_2 = pd.DataFrame()\n",
    "first_df_2[['Protein','label']] = data[['Concat_Protein_B','label']]\n",
    "df = [first_df,first_df_2]\n",
    "data = pd.concat(df)"
   ]
  },
  {
   "cell_type": "code",
   "execution_count": 63,
   "id": "9d4b998e-17be-4b87-a714-7fe52c7a0f38",
   "metadata": {},
   "outputs": [
    {
     "data": {
      "text/html": [
       "<div>\n",
       "<style scoped>\n",
       "    .dataframe tbody tr th:only-of-type {\n",
       "        vertical-align: middle;\n",
       "    }\n",
       "\n",
       "    .dataframe tbody tr th {\n",
       "        vertical-align: top;\n",
       "    }\n",
       "\n",
       "    .dataframe thead th {\n",
       "        text-align: right;\n",
       "    }\n",
       "</style>\n",
       "<table border=\"1\" class=\"dataframe\">\n",
       "  <thead>\n",
       "    <tr style=\"text-align: right;\">\n",
       "      <th></th>\n",
       "      <th>Protein</th>\n",
       "      <th>label</th>\n",
       "    </tr>\n",
       "  </thead>\n",
       "  <tbody>\n",
       "    <tr>\n",
       "      <th>0</th>\n",
       "      <td>M A K N P P E N C E D C H I L N A E A F K S K ...</td>\n",
       "      <td>1</td>\n",
       "    </tr>\n",
       "    <tr>\n",
       "      <th>1</th>\n",
       "      <td>M A K N P P E N C E D C H I L N A E A F K S K ...</td>\n",
       "      <td>1</td>\n",
       "    </tr>\n",
       "    <tr>\n",
       "      <th>2</th>\n",
       "      <td>M A K N P P E N C E D C H I L N A E A F K S K ...</td>\n",
       "      <td>1</td>\n",
       "    </tr>\n",
       "    <tr>\n",
       "      <th>3</th>\n",
       "      <td>M A K N P P E N C E D C H I L N A E A F K S K ...</td>\n",
       "      <td>1</td>\n",
       "    </tr>\n",
       "    <tr>\n",
       "      <th>4</th>\n",
       "      <td>M A K N P P E N C E D C H I L N A E A F K S K ...</td>\n",
       "      <td>1</td>\n",
       "    </tr>\n",
       "    <tr>\n",
       "      <th>...</th>\n",
       "      <td>...</td>\n",
       "      <td>...</td>\n",
       "    </tr>\n",
       "    <tr>\n",
       "      <th>967207</th>\n",
       "      <td>M K K E Q D S N V T E F V L L G L S S S W E L ...</td>\n",
       "      <td>0</td>\n",
       "    </tr>\n",
       "    <tr>\n",
       "      <th>967208</th>\n",
       "      <td>M E M R W F L S K I Q D D F R G G K I N L E K ...</td>\n",
       "      <td>0</td>\n",
       "    </tr>\n",
       "    <tr>\n",
       "      <th>967209</th>\n",
       "      <td>M A P K K S V S K A G K E L E V K K K G G K K ...</td>\n",
       "      <td>0</td>\n",
       "    </tr>\n",
       "    <tr>\n",
       "      <th>967210</th>\n",
       "      <td>M D L S C S C A T G G S C T C A S S C K C K E ...</td>\n",
       "      <td>0</td>\n",
       "    </tr>\n",
       "    <tr>\n",
       "      <th>967211</th>\n",
       "      <td>M G A V M G T F S S L Q T K Q R R P S K D I A ...</td>\n",
       "      <td>0</td>\n",
       "    </tr>\n",
       "  </tbody>\n",
       "</table>\n",
       "<p>967212 rows × 2 columns</p>\n",
       "</div>"
      ],
      "text/plain": [
       "                                                  Protein  label\n",
       "0       M A K N P P E N C E D C H I L N A E A F K S K ...      1\n",
       "1       M A K N P P E N C E D C H I L N A E A F K S K ...      1\n",
       "2       M A K N P P E N C E D C H I L N A E A F K S K ...      1\n",
       "3       M A K N P P E N C E D C H I L N A E A F K S K ...      1\n",
       "4       M A K N P P E N C E D C H I L N A E A F K S K ...      1\n",
       "...                                                   ...    ...\n",
       "967207  M K K E Q D S N V T E F V L L G L S S S W E L ...      0\n",
       "967208  M E M R W F L S K I Q D D F R G G K I N L E K ...      0\n",
       "967209  M A P K K S V S K A G K E L E V K K K G G K K ...      0\n",
       "967210  M D L S C S C A T G G S C T C A S S C K C K E ...      0\n",
       "967211  M G A V M G T F S S L Q T K Q R R P S K D I A ...      0\n",
       "\n",
       "[967212 rows x 2 columns]"
      ]
     },
     "execution_count": 63,
     "metadata": {},
     "output_type": "execute_result"
    }
   ],
   "source": [
    "data.reset_index(drop = True)"
   ]
  },
  {
   "cell_type": "code",
   "execution_count": 64,
   "id": "ef1a6f59-b6b1-4af2-9c8c-a4394f562dc2",
   "metadata": {},
   "outputs": [
    {
     "data": {
      "text/plain": [
       "1    483638\n",
       "0    483574\n",
       "Name: label, dtype: int64"
      ]
     },
     "execution_count": 64,
     "metadata": {},
     "output_type": "execute_result"
    }
   ],
   "source": [
    "data.label.value_counts()"
   ]
  },
  {
   "cell_type": "code",
   "execution_count": null,
   "id": "4e59c987-aa6d-4edf-8b2a-82e9b7db7cad",
   "metadata": {},
   "outputs": [],
   "source": [
    "\n",
    "    "
   ]
  },
  {
   "cell_type": "code",
   "execution_count": 73,
   "id": "42d9666a-91a4-4b08-8c95-f66090e63e4d",
   "metadata": {},
   "outputs": [],
   "source": [
    "seq_list = []\n",
    "for i,j in combined_seq_to_pro_dct.items():\n",
    "    seq_list.append(i)\n"
   ]
  },
  {
   "cell_type": "code",
   "execution_count": null,
   "id": "26655b5e-10e8-474a-95ae-ced19a8f2c39",
   "metadata": {},
   "outputs": [
    {
     "name": "stderr",
     "output_type": "stream",
     "text": [
      "298458it [1:18:46, 59.70it/s]"
     ]
    }
   ],
   "source": [
    "for index,row in tqdm(data.iterrows()):\n",
    "    \n",
    "    if row.Protein not in seq_list:\n",
    "        \n",
    "        combined_seq_to_pro_dct[row.Protein] = f\"combined_pro_{index+200000000}\"\n",
    "    else:\n",
    "        continue"
   ]
  },
  {
   "cell_type": "code",
   "execution_count": null,
   "id": "3e36f7b0-7be1-494e-aa09-36291d9f20a1",
   "metadata": {},
   "outputs": [],
   "source": [
    "with open('../../pickle/prot_to_seq_pickle/all_prot_negatome_seq_for_bert.pickle', 'rb') as handle:\n",
    "        name_to_seq_neg = pickle.load(handle)"
   ]
  }
 ],
 "metadata": {
  "kernelspec": {
   "display_name": "Python 3",
   "language": "python",
   "name": "python3"
  },
  "language_info": {
   "codemirror_mode": {
    "name": "ipython",
    "version": 3
   },
   "file_extension": ".py",
   "mimetype": "text/x-python",
   "name": "python",
   "nbconvert_exporter": "python",
   "pygments_lexer": "ipython3",
   "version": "3.8.0"
  }
 },
 "nbformat": 4,
 "nbformat_minor": 5
}

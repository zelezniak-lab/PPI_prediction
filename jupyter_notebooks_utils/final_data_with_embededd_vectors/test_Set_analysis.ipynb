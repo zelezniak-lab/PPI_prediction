{
 "cells": [
  {
   "cell_type": "code",
   "execution_count": 146,
   "id": "f1895559",
   "metadata": {},
   "outputs": [],
   "source": [
    "import pandas as pd\n",
    "import random \n",
    "import pickle\n",
    "from tqdm import tqdm"
   ]
  },
  {
   "cell_type": "code",
   "execution_count": 147,
   "id": "450d02bf",
   "metadata": {},
   "outputs": [
    {
     "data": {
      "text/html": [
       "<div>\n",
       "<style scoped>\n",
       "    .dataframe tbody tr th:only-of-type {\n",
       "        vertical-align: middle;\n",
       "    }\n",
       "\n",
       "    .dataframe tbody tr th {\n",
       "        vertical-align: top;\n",
       "    }\n",
       "\n",
       "    .dataframe thead th {\n",
       "        text-align: right;\n",
       "    }\n",
       "</style>\n",
       "<table border=\"1\" class=\"dataframe\">\n",
       "  <thead>\n",
       "    <tr style=\"text-align: right;\">\n",
       "      <th></th>\n",
       "      <th>Protein_A</th>\n",
       "      <th>Protein_B</th>\n",
       "      <th>Protein_A_sequence</th>\n",
       "      <th>Protein_B_sequence</th>\n",
       "      <th>split_0_10</th>\n",
       "      <th>split_0_20</th>\n",
       "      <th>split_0_30</th>\n",
       "      <th>split_0_40</th>\n",
       "      <th>split_0_50</th>\n",
       "      <th>split_0_60</th>\n",
       "      <th>...</th>\n",
       "      <th>split_1_90</th>\n",
       "      <th>split_2_10</th>\n",
       "      <th>split_2_20</th>\n",
       "      <th>split_2_30</th>\n",
       "      <th>split_2_40</th>\n",
       "      <th>split_2_50</th>\n",
       "      <th>split_2_60</th>\n",
       "      <th>split_2_70</th>\n",
       "      <th>split_2_80</th>\n",
       "      <th>split_2_90</th>\n",
       "    </tr>\n",
       "  </thead>\n",
       "  <tbody>\n",
       "    <tr>\n",
       "      <th>0</th>\n",
       "      <td>PRO_1968</td>\n",
       "      <td>PRO_2127</td>\n",
       "      <td>MAKNPPENCEDCHILNAEAFKSKKICKSLKICGLVFGILALTLIVL...</td>\n",
       "      <td>MRRSSRPGSASSSRKHTPNFFSENSSMSITSEDSKGLRSAEPGPGE...</td>\n",
       "      <td>0</td>\n",
       "      <td>-1</td>\n",
       "      <td>-1</td>\n",
       "      <td>-1</td>\n",
       "      <td>-1</td>\n",
       "      <td>-1</td>\n",
       "      <td>...</td>\n",
       "      <td>1</td>\n",
       "      <td>-1</td>\n",
       "      <td>-1</td>\n",
       "      <td>-1</td>\n",
       "      <td>-1</td>\n",
       "      <td>-1</td>\n",
       "      <td>-1</td>\n",
       "      <td>1</td>\n",
       "      <td>1</td>\n",
       "      <td>1</td>\n",
       "    </tr>\n",
       "    <tr>\n",
       "      <th>1</th>\n",
       "      <td>PRO_1968</td>\n",
       "      <td>PRO_3259</td>\n",
       "      <td>MAKNPPENCEDCHILNAEAFKSKKICKSLKICGLVFGILALTLIVL...</td>\n",
       "      <td>MASSSTVPLGFHYETKYVVLSYLGLLSQEKLQEQHLSSPQGVQLDI...</td>\n",
       "      <td>0</td>\n",
       "      <td>-1</td>\n",
       "      <td>1</td>\n",
       "      <td>1</td>\n",
       "      <td>1</td>\n",
       "      <td>1</td>\n",
       "      <td>...</td>\n",
       "      <td>1</td>\n",
       "      <td>-1</td>\n",
       "      <td>-1</td>\n",
       "      <td>1</td>\n",
       "      <td>1</td>\n",
       "      <td>1</td>\n",
       "      <td>1</td>\n",
       "      <td>1</td>\n",
       "      <td>1</td>\n",
       "      <td>1</td>\n",
       "    </tr>\n",
       "    <tr>\n",
       "      <th>2</th>\n",
       "      <td>PRO_1968</td>\n",
       "      <td>PRO_20825</td>\n",
       "      <td>MAKNPPENCEDCHILNAEAFKSKKICKSLKICGLVFGILALTLIVL...</td>\n",
       "      <td>MSSHLVEPPPPLHNNNNNCEENEQSLPPPAGLNSSWVELPMNSSNG...</td>\n",
       "      <td>-1</td>\n",
       "      <td>1</td>\n",
       "      <td>1</td>\n",
       "      <td>1</td>\n",
       "      <td>1</td>\n",
       "      <td>1</td>\n",
       "      <td>...</td>\n",
       "      <td>-1</td>\n",
       "      <td>-1</td>\n",
       "      <td>-1</td>\n",
       "      <td>-1</td>\n",
       "      <td>-1</td>\n",
       "      <td>1</td>\n",
       "      <td>1</td>\n",
       "      <td>1</td>\n",
       "      <td>1</td>\n",
       "      <td>1</td>\n",
       "    </tr>\n",
       "    <tr>\n",
       "      <th>3</th>\n",
       "      <td>PRO_1968</td>\n",
       "      <td>PRO_11236</td>\n",
       "      <td>MAKNPPENCEDCHILNAEAFKSKKICKSLKICGLVFGILALTLIVL...</td>\n",
       "      <td>MPLLLLLPLLWAGALAMDPNFWLQVQESVTVQEGLCVLVPCTFFHP...</td>\n",
       "      <td>-1</td>\n",
       "      <td>1</td>\n",
       "      <td>1</td>\n",
       "      <td>1</td>\n",
       "      <td>1</td>\n",
       "      <td>1</td>\n",
       "      <td>...</td>\n",
       "      <td>1</td>\n",
       "      <td>-1</td>\n",
       "      <td>-1</td>\n",
       "      <td>-1</td>\n",
       "      <td>1</td>\n",
       "      <td>1</td>\n",
       "      <td>1</td>\n",
       "      <td>1</td>\n",
       "      <td>1</td>\n",
       "      <td>1</td>\n",
       "    </tr>\n",
       "    <tr>\n",
       "      <th>4</th>\n",
       "      <td>PRO_1968</td>\n",
       "      <td>PRO_2577</td>\n",
       "      <td>MAKNPPENCEDCHILNAEAFKSKKICKSLKICGLVFGILALTLIVL...</td>\n",
       "      <td>MKAQTALSFFLILITSLSGSQGIFPLAFFIYVPMNEQIVIGRLDED...</td>\n",
       "      <td>0</td>\n",
       "      <td>-1</td>\n",
       "      <td>-1</td>\n",
       "      <td>-1</td>\n",
       "      <td>-1</td>\n",
       "      <td>1</td>\n",
       "      <td>...</td>\n",
       "      <td>1</td>\n",
       "      <td>-1</td>\n",
       "      <td>-1</td>\n",
       "      <td>1</td>\n",
       "      <td>1</td>\n",
       "      <td>1</td>\n",
       "      <td>1</td>\n",
       "      <td>1</td>\n",
       "      <td>1</td>\n",
       "      <td>1</td>\n",
       "    </tr>\n",
       "    <tr>\n",
       "      <th>...</th>\n",
       "      <td>...</td>\n",
       "      <td>...</td>\n",
       "      <td>...</td>\n",
       "      <td>...</td>\n",
       "      <td>...</td>\n",
       "      <td>...</td>\n",
       "      <td>...</td>\n",
       "      <td>...</td>\n",
       "      <td>...</td>\n",
       "      <td>...</td>\n",
       "      <td>...</td>\n",
       "      <td>...</td>\n",
       "      <td>...</td>\n",
       "      <td>...</td>\n",
       "      <td>...</td>\n",
       "      <td>...</td>\n",
       "      <td>...</td>\n",
       "      <td>...</td>\n",
       "      <td>...</td>\n",
       "      <td>...</td>\n",
       "      <td>...</td>\n",
       "    </tr>\n",
       "    <tr>\n",
       "      <th>397738</th>\n",
       "      <td>PRO_10712</td>\n",
       "      <td>PRO_4734</td>\n",
       "      <td>MADKRKLQGEIDRCLKKVSEGVEQFEDIWQKLHNAANANQKEKYEA...</td>\n",
       "      <td>MSAIQAAWPSGTECIAKYNFHGTAEQDLPFCKGDVLTIVAVTKDPN...</td>\n",
       "      <td>-1</td>\n",
       "      <td>-1</td>\n",
       "      <td>-1</td>\n",
       "      <td>-1</td>\n",
       "      <td>-1</td>\n",
       "      <td>-1</td>\n",
       "      <td>...</td>\n",
       "      <td>-1</td>\n",
       "      <td>0</td>\n",
       "      <td>0</td>\n",
       "      <td>0</td>\n",
       "      <td>0</td>\n",
       "      <td>0</td>\n",
       "      <td>0</td>\n",
       "      <td>0</td>\n",
       "      <td>-1</td>\n",
       "      <td>-1</td>\n",
       "    </tr>\n",
       "    <tr>\n",
       "      <th>397739</th>\n",
       "      <td>PRO_12924</td>\n",
       "      <td>PRO_18242</td>\n",
       "      <td>MRPGTGAERGGLMVSEMESHPPSQGPGDGERRLSGSSLCSGSWVSA...</td>\n",
       "      <td>MSEEKPKEGVKTENDHINLKVAGQDGSVVQFKIKRHTPLSKLMKAY...</td>\n",
       "      <td>1</td>\n",
       "      <td>1</td>\n",
       "      <td>1</td>\n",
       "      <td>1</td>\n",
       "      <td>1</td>\n",
       "      <td>1</td>\n",
       "      <td>...</td>\n",
       "      <td>1</td>\n",
       "      <td>0</td>\n",
       "      <td>0</td>\n",
       "      <td>0</td>\n",
       "      <td>0</td>\n",
       "      <td>-1</td>\n",
       "      <td>-1</td>\n",
       "      <td>-1</td>\n",
       "      <td>1</td>\n",
       "      <td>1</td>\n",
       "    </tr>\n",
       "    <tr>\n",
       "      <th>397740</th>\n",
       "      <td>PRO_4881</td>\n",
       "      <td>PRO_17066</td>\n",
       "      <td>MSELEQLRQEAEQLRNQIRDARKACGDSTLTQITAGLDPVGRIQMR...</td>\n",
       "      <td>MASSSVPPATVSAATAGPGPGFGFASKTKKKHFVQQKVKVFRAADP...</td>\n",
       "      <td>1</td>\n",
       "      <td>1</td>\n",
       "      <td>1</td>\n",
       "      <td>1</td>\n",
       "      <td>1</td>\n",
       "      <td>1</td>\n",
       "      <td>...</td>\n",
       "      <td>1</td>\n",
       "      <td>-1</td>\n",
       "      <td>-1</td>\n",
       "      <td>-1</td>\n",
       "      <td>-1</td>\n",
       "      <td>-1</td>\n",
       "      <td>-1</td>\n",
       "      <td>1</td>\n",
       "      <td>1</td>\n",
       "      <td>1</td>\n",
       "    </tr>\n",
       "    <tr>\n",
       "      <th>397741</th>\n",
       "      <td>PRO_15097</td>\n",
       "      <td>PRO_23695</td>\n",
       "      <td>MSSMNPEYDYLFKLLLIGDSGVGKSCLLLRFADDTYTESYISTIGV...</td>\n",
       "      <td>MGKRLDLSTLTDEEAEHVWAVVQRDFDLRRREEERLQGLKGKIQKE...</td>\n",
       "      <td>-1</td>\n",
       "      <td>-1</td>\n",
       "      <td>1</td>\n",
       "      <td>1</td>\n",
       "      <td>1</td>\n",
       "      <td>1</td>\n",
       "      <td>...</td>\n",
       "      <td>1</td>\n",
       "      <td>0</td>\n",
       "      <td>0</td>\n",
       "      <td>0</td>\n",
       "      <td>0</td>\n",
       "      <td>0</td>\n",
       "      <td>0</td>\n",
       "      <td>-1</td>\n",
       "      <td>-1</td>\n",
       "      <td>-1</td>\n",
       "    </tr>\n",
       "    <tr>\n",
       "      <th>397742</th>\n",
       "      <td>PRO_11821</td>\n",
       "      <td>PRO_14704</td>\n",
       "      <td>MIDTLRPVPFASEMAISKTVAWLNEQLELGNERLLLMDCRPQELYE...</td>\n",
       "      <td>MAQGLVTFADVAIDFSQEEWACLNSAQRDLYWDVMLENYSNLVSLD...</td>\n",
       "      <td>-1</td>\n",
       "      <td>1</td>\n",
       "      <td>1</td>\n",
       "      <td>1</td>\n",
       "      <td>1</td>\n",
       "      <td>1</td>\n",
       "      <td>...</td>\n",
       "      <td>1</td>\n",
       "      <td>-1</td>\n",
       "      <td>-1</td>\n",
       "      <td>-1</td>\n",
       "      <td>-1</td>\n",
       "      <td>-1</td>\n",
       "      <td>1</td>\n",
       "      <td>1</td>\n",
       "      <td>1</td>\n",
       "      <td>1</td>\n",
       "    </tr>\n",
       "  </tbody>\n",
       "</table>\n",
       "<p>397743 rows × 31 columns</p>\n",
       "</div>"
      ],
      "text/plain": [
       "        Protein_A  Protein_B  \\\n",
       "0        PRO_1968   PRO_2127   \n",
       "1        PRO_1968   PRO_3259   \n",
       "2        PRO_1968  PRO_20825   \n",
       "3        PRO_1968  PRO_11236   \n",
       "4        PRO_1968   PRO_2577   \n",
       "...           ...        ...   \n",
       "397738  PRO_10712   PRO_4734   \n",
       "397739  PRO_12924  PRO_18242   \n",
       "397740   PRO_4881  PRO_17066   \n",
       "397741  PRO_15097  PRO_23695   \n",
       "397742  PRO_11821  PRO_14704   \n",
       "\n",
       "                                       Protein_A_sequence  \\\n",
       "0       MAKNPPENCEDCHILNAEAFKSKKICKSLKICGLVFGILALTLIVL...   \n",
       "1       MAKNPPENCEDCHILNAEAFKSKKICKSLKICGLVFGILALTLIVL...   \n",
       "2       MAKNPPENCEDCHILNAEAFKSKKICKSLKICGLVFGILALTLIVL...   \n",
       "3       MAKNPPENCEDCHILNAEAFKSKKICKSLKICGLVFGILALTLIVL...   \n",
       "4       MAKNPPENCEDCHILNAEAFKSKKICKSLKICGLVFGILALTLIVL...   \n",
       "...                                                   ...   \n",
       "397738  MADKRKLQGEIDRCLKKVSEGVEQFEDIWQKLHNAANANQKEKYEA...   \n",
       "397739  MRPGTGAERGGLMVSEMESHPPSQGPGDGERRLSGSSLCSGSWVSA...   \n",
       "397740  MSELEQLRQEAEQLRNQIRDARKACGDSTLTQITAGLDPVGRIQMR...   \n",
       "397741  MSSMNPEYDYLFKLLLIGDSGVGKSCLLLRFADDTYTESYISTIGV...   \n",
       "397742  MIDTLRPVPFASEMAISKTVAWLNEQLELGNERLLLMDCRPQELYE...   \n",
       "\n",
       "                                       Protein_B_sequence  split_0_10  \\\n",
       "0       MRRSSRPGSASSSRKHTPNFFSENSSMSITSEDSKGLRSAEPGPGE...           0   \n",
       "1       MASSSTVPLGFHYETKYVVLSYLGLLSQEKLQEQHLSSPQGVQLDI...           0   \n",
       "2       MSSHLVEPPPPLHNNNNNCEENEQSLPPPAGLNSSWVELPMNSSNG...          -1   \n",
       "3       MPLLLLLPLLWAGALAMDPNFWLQVQESVTVQEGLCVLVPCTFFHP...          -1   \n",
       "4       MKAQTALSFFLILITSLSGSQGIFPLAFFIYVPMNEQIVIGRLDED...           0   \n",
       "...                                                   ...         ...   \n",
       "397738  MSAIQAAWPSGTECIAKYNFHGTAEQDLPFCKGDVLTIVAVTKDPN...          -1   \n",
       "397739  MSEEKPKEGVKTENDHINLKVAGQDGSVVQFKIKRHTPLSKLMKAY...           1   \n",
       "397740  MASSSVPPATVSAATAGPGPGFGFASKTKKKHFVQQKVKVFRAADP...           1   \n",
       "397741  MGKRLDLSTLTDEEAEHVWAVVQRDFDLRRREEERLQGLKGKIQKE...          -1   \n",
       "397742  MAQGLVTFADVAIDFSQEEWACLNSAQRDLYWDVMLENYSNLVSLD...          -1   \n",
       "\n",
       "        split_0_20  split_0_30  split_0_40  split_0_50  split_0_60  ...  \\\n",
       "0               -1          -1          -1          -1          -1  ...   \n",
       "1               -1           1           1           1           1  ...   \n",
       "2                1           1           1           1           1  ...   \n",
       "3                1           1           1           1           1  ...   \n",
       "4               -1          -1          -1          -1           1  ...   \n",
       "...            ...         ...         ...         ...         ...  ...   \n",
       "397738          -1          -1          -1          -1          -1  ...   \n",
       "397739           1           1           1           1           1  ...   \n",
       "397740           1           1           1           1           1  ...   \n",
       "397741          -1           1           1           1           1  ...   \n",
       "397742           1           1           1           1           1  ...   \n",
       "\n",
       "        split_1_90  split_2_10  split_2_20  split_2_30  split_2_40  \\\n",
       "0                1          -1          -1          -1          -1   \n",
       "1                1          -1          -1           1           1   \n",
       "2               -1          -1          -1          -1          -1   \n",
       "3                1          -1          -1          -1           1   \n",
       "4                1          -1          -1           1           1   \n",
       "...            ...         ...         ...         ...         ...   \n",
       "397738          -1           0           0           0           0   \n",
       "397739           1           0           0           0           0   \n",
       "397740           1          -1          -1          -1          -1   \n",
       "397741           1           0           0           0           0   \n",
       "397742           1          -1          -1          -1          -1   \n",
       "\n",
       "        split_2_50  split_2_60  split_2_70  split_2_80  split_2_90  \n",
       "0               -1          -1           1           1           1  \n",
       "1                1           1           1           1           1  \n",
       "2                1           1           1           1           1  \n",
       "3                1           1           1           1           1  \n",
       "4                1           1           1           1           1  \n",
       "...            ...         ...         ...         ...         ...  \n",
       "397738           0           0           0          -1          -1  \n",
       "397739          -1          -1          -1           1           1  \n",
       "397740          -1          -1           1           1           1  \n",
       "397741           0           0          -1          -1          -1  \n",
       "397742          -1           1           1           1           1  \n",
       "\n",
       "[397743 rows x 31 columns]"
      ]
     },
     "execution_count": 147,
     "metadata": {},
     "output_type": "execute_result"
    }
   ],
   "source": [
    "data = pd.read_csv(\"../cluster_by_sandra/new_data.csv\")\n",
    "x =len(data)\n",
    "data = data.drop(columns = ['index'])\n",
    "data"
   ]
  },
  {
   "cell_type": "markdown",
   "id": "e6a829d5",
   "metadata": {},
   "source": [
    "## 1. Choosing train set and test set(Minimizing loss of pairs)"
   ]
  },
  {
   "cell_type": "code",
   "execution_count": 148,
   "id": "aa43f287",
   "metadata": {},
   "outputs": [
    {
     "name": "stdout",
     "output_type": "stream",
     "text": [
      "split_0_10\n",
      "Train set size:  0.22849176478278688   count:  90881\n",
      "Test set size:  0.2728093266254843   count:  108508\n",
      "Deleting pairs:  0.49869890859172883   count:  198354\n",
      "\n",
      "\n",
      "split_0_20\n",
      "Train set size:  0.3533487704371919   count:  140542\n",
      "Test set size:  0.17263408784064083   count:  68664\n",
      "Deleting pairs:  0.47401714172216736   count:  188537\n",
      "\n",
      "\n",
      "split_0_30\n",
      "Train set size:  0.4626731331538204   count:  184025\n",
      "Test set size:  0.11068202331656371   count:  44023\n",
      "Deleting pairs:  0.42664484352961585   count:  169695\n",
      "\n",
      "\n",
      "split_0_40\n",
      "Train set size:  0.5445048687217625   count:  216573\n",
      "Test set size:  0.07627538385339278   count:  30338\n",
      "Deleting pairs:  0.3792197474248447   count:  150832\n",
      "\n",
      "\n",
      "split_0_50\n",
      "Train set size:  0.6106329966837882   count:  242875\n",
      "Test set size:  0.053896611631128646   count:  21437\n",
      "Deleting pairs:  0.3354703916850831   count:  133431\n",
      "\n",
      "\n",
      "split_0_60\n",
      "Train set size:  0.6723889546767636   count:  267438\n",
      "Test set size:  0.03737840766525118   count:  14867\n",
      "Deleting pairs:  0.2902326376579852   count:  115438\n",
      "\n",
      "\n",
      "split_0_70\n",
      "Train set size:  0.7491646616030955   count:  297975\n",
      "Test set size:  0.02032468201828819   count:  8084\n",
      "Deleting pairs:  0.23051065637861634   count:  91684\n",
      "\n",
      "\n",
      "split_0_80\n",
      "Train set size:  0.8282861043437597   count:  329445\n",
      "Test set size:  0.008842393203651605   count:  3517\n",
      "Deleting pairs:  0.16287150245258875   count:  64781\n",
      "\n",
      "\n",
      "split_0_90\n",
      "Train set size:  0.9157370462836555   count:  364228\n",
      "Test set size:  0.0020289483410141727   count:  807\n",
      "Deleting pairs:  0.08223400537533031   count:  32708\n",
      "\n",
      "\n"
     ]
    }
   ],
   "source": [
    "for j in range(1):\n",
    "    for i in range(10,100,10):\n",
    "            print(f'split_{j}_{i}')\n",
    "        \n",
    "            print(\"Train set size: \",data[f'split_{j}_{i}'].value_counts()[1]/x,\"  count: \",data[f'split_{j}_{i}'].value_counts()[1])\n",
    "            print(\"Test set size: \",data[f'split_{j}_{i}'].value_counts()[0]/x,\"  count: \",data[f'split_{j}_{i}'].value_counts()[0])\n",
    "            print(\"Deleting pairs: \",data[f'split_{j}_{i}'].value_counts()[-1]/x,\"  count: \",data[f'split_{j}_{i}'].value_counts()[-1])\n",
    "            print(\"\\n\")\n",
    "            "
   ]
  },
  {
   "cell_type": "code",
   "execution_count": null,
   "id": "129864e6",
   "metadata": {},
   "outputs": [],
   "source": [
    "data_neg = pd.read_csv(\"../../csv_files_new_ppi/final_combined_negative_data_2.csv\")\n",
    "data_neg"
   ]
  },
  {
   "cell_type": "code",
   "execution_count": 149,
   "id": "fdb7bf37",
   "metadata": {},
   "outputs": [
    {
     "data": {
      "text/html": [
       "<div>\n",
       "<style scoped>\n",
       "    .dataframe tbody tr th:only-of-type {\n",
       "        vertical-align: middle;\n",
       "    }\n",
       "\n",
       "    .dataframe tbody tr th {\n",
       "        vertical-align: top;\n",
       "    }\n",
       "\n",
       "    .dataframe thead th {\n",
       "        text-align: right;\n",
       "    }\n",
       "</style>\n",
       "<table border=\"1\" class=\"dataframe\">\n",
       "  <thead>\n",
       "    <tr style=\"text-align: right;\">\n",
       "      <th></th>\n",
       "      <th>Protein_A</th>\n",
       "      <th>Protein_B</th>\n",
       "      <th>Protein_A_sequence</th>\n",
       "      <th>Protein_B_sequence</th>\n",
       "      <th>split_0_10</th>\n",
       "      <th>split_0_20</th>\n",
       "      <th>split_0_30</th>\n",
       "      <th>split_0_40</th>\n",
       "      <th>split_0_50</th>\n",
       "      <th>split_0_60</th>\n",
       "      <th>...</th>\n",
       "      <th>split_1_90</th>\n",
       "      <th>split_2_10</th>\n",
       "      <th>split_2_20</th>\n",
       "      <th>split_2_30</th>\n",
       "      <th>split_2_40</th>\n",
       "      <th>split_2_50</th>\n",
       "      <th>split_2_60</th>\n",
       "      <th>split_2_70</th>\n",
       "      <th>split_2_80</th>\n",
       "      <th>split_2_90</th>\n",
       "    </tr>\n",
       "  </thead>\n",
       "  <tbody>\n",
       "    <tr>\n",
       "      <th>0</th>\n",
       "      <td>PRO_1968</td>\n",
       "      <td>PRO_2127</td>\n",
       "      <td>MAKNPPENCEDCHILNAEAFKSKKICKSLKICGLVFGILALTLIVL...</td>\n",
       "      <td>MRRSSRPGSASSSRKHTPNFFSENSSMSITSEDSKGLRSAEPGPGE...</td>\n",
       "      <td>0</td>\n",
       "      <td>-1</td>\n",
       "      <td>-1</td>\n",
       "      <td>-1</td>\n",
       "      <td>-1</td>\n",
       "      <td>-1</td>\n",
       "      <td>...</td>\n",
       "      <td>1</td>\n",
       "      <td>-1</td>\n",
       "      <td>-1</td>\n",
       "      <td>-1</td>\n",
       "      <td>-1</td>\n",
       "      <td>-1</td>\n",
       "      <td>-1</td>\n",
       "      <td>1</td>\n",
       "      <td>1</td>\n",
       "      <td>1</td>\n",
       "    </tr>\n",
       "    <tr>\n",
       "      <th>1</th>\n",
       "      <td>PRO_1968</td>\n",
       "      <td>PRO_3259</td>\n",
       "      <td>MAKNPPENCEDCHILNAEAFKSKKICKSLKICGLVFGILALTLIVL...</td>\n",
       "      <td>MASSSTVPLGFHYETKYVVLSYLGLLSQEKLQEQHLSSPQGVQLDI...</td>\n",
       "      <td>0</td>\n",
       "      <td>-1</td>\n",
       "      <td>1</td>\n",
       "      <td>1</td>\n",
       "      <td>1</td>\n",
       "      <td>1</td>\n",
       "      <td>...</td>\n",
       "      <td>1</td>\n",
       "      <td>-1</td>\n",
       "      <td>-1</td>\n",
       "      <td>1</td>\n",
       "      <td>1</td>\n",
       "      <td>1</td>\n",
       "      <td>1</td>\n",
       "      <td>1</td>\n",
       "      <td>1</td>\n",
       "      <td>1</td>\n",
       "    </tr>\n",
       "    <tr>\n",
       "      <th>2</th>\n",
       "      <td>PRO_1968</td>\n",
       "      <td>PRO_20825</td>\n",
       "      <td>MAKNPPENCEDCHILNAEAFKSKKICKSLKICGLVFGILALTLIVL...</td>\n",
       "      <td>MSSHLVEPPPPLHNNNNNCEENEQSLPPPAGLNSSWVELPMNSSNG...</td>\n",
       "      <td>-1</td>\n",
       "      <td>1</td>\n",
       "      <td>1</td>\n",
       "      <td>1</td>\n",
       "      <td>1</td>\n",
       "      <td>1</td>\n",
       "      <td>...</td>\n",
       "      <td>-1</td>\n",
       "      <td>-1</td>\n",
       "      <td>-1</td>\n",
       "      <td>-1</td>\n",
       "      <td>-1</td>\n",
       "      <td>1</td>\n",
       "      <td>1</td>\n",
       "      <td>1</td>\n",
       "      <td>1</td>\n",
       "      <td>1</td>\n",
       "    </tr>\n",
       "    <tr>\n",
       "      <th>3</th>\n",
       "      <td>PRO_1968</td>\n",
       "      <td>PRO_11236</td>\n",
       "      <td>MAKNPPENCEDCHILNAEAFKSKKICKSLKICGLVFGILALTLIVL...</td>\n",
       "      <td>MPLLLLLPLLWAGALAMDPNFWLQVQESVTVQEGLCVLVPCTFFHP...</td>\n",
       "      <td>-1</td>\n",
       "      <td>1</td>\n",
       "      <td>1</td>\n",
       "      <td>1</td>\n",
       "      <td>1</td>\n",
       "      <td>1</td>\n",
       "      <td>...</td>\n",
       "      <td>1</td>\n",
       "      <td>-1</td>\n",
       "      <td>-1</td>\n",
       "      <td>-1</td>\n",
       "      <td>1</td>\n",
       "      <td>1</td>\n",
       "      <td>1</td>\n",
       "      <td>1</td>\n",
       "      <td>1</td>\n",
       "      <td>1</td>\n",
       "    </tr>\n",
       "    <tr>\n",
       "      <th>4</th>\n",
       "      <td>PRO_1968</td>\n",
       "      <td>PRO_2577</td>\n",
       "      <td>MAKNPPENCEDCHILNAEAFKSKKICKSLKICGLVFGILALTLIVL...</td>\n",
       "      <td>MKAQTALSFFLILITSLSGSQGIFPLAFFIYVPMNEQIVIGRLDED...</td>\n",
       "      <td>0</td>\n",
       "      <td>-1</td>\n",
       "      <td>-1</td>\n",
       "      <td>-1</td>\n",
       "      <td>-1</td>\n",
       "      <td>1</td>\n",
       "      <td>...</td>\n",
       "      <td>1</td>\n",
       "      <td>-1</td>\n",
       "      <td>-1</td>\n",
       "      <td>1</td>\n",
       "      <td>1</td>\n",
       "      <td>1</td>\n",
       "      <td>1</td>\n",
       "      <td>1</td>\n",
       "      <td>1</td>\n",
       "      <td>1</td>\n",
       "    </tr>\n",
       "    <tr>\n",
       "      <th>...</th>\n",
       "      <td>...</td>\n",
       "      <td>...</td>\n",
       "      <td>...</td>\n",
       "      <td>...</td>\n",
       "      <td>...</td>\n",
       "      <td>...</td>\n",
       "      <td>...</td>\n",
       "      <td>...</td>\n",
       "      <td>...</td>\n",
       "      <td>...</td>\n",
       "      <td>...</td>\n",
       "      <td>...</td>\n",
       "      <td>...</td>\n",
       "      <td>...</td>\n",
       "      <td>...</td>\n",
       "      <td>...</td>\n",
       "      <td>...</td>\n",
       "      <td>...</td>\n",
       "      <td>...</td>\n",
       "      <td>...</td>\n",
       "      <td>...</td>\n",
       "    </tr>\n",
       "    <tr>\n",
       "      <th>396149</th>\n",
       "      <td>PRO_11977</td>\n",
       "      <td>PRO_20355</td>\n",
       "      <td>SGSWLRDIWDWICEVLSDFKTWLKAKLMPQLPGIPFVSCQRGYKGV...</td>\n",
       "      <td>MGGRSSCEDPGCPRDEERAPRMGCMKSKFLQVGGNTFSKTETSASP...</td>\n",
       "      <td>1</td>\n",
       "      <td>1</td>\n",
       "      <td>1</td>\n",
       "      <td>1</td>\n",
       "      <td>1</td>\n",
       "      <td>1</td>\n",
       "      <td>...</td>\n",
       "      <td>-1</td>\n",
       "      <td>0</td>\n",
       "      <td>0</td>\n",
       "      <td>-1</td>\n",
       "      <td>-1</td>\n",
       "      <td>1</td>\n",
       "      <td>1</td>\n",
       "      <td>1</td>\n",
       "      <td>1</td>\n",
       "      <td>1</td>\n",
       "    </tr>\n",
       "    <tr>\n",
       "      <th>396150</th>\n",
       "      <td>PRO_11977</td>\n",
       "      <td>PRO_4583</td>\n",
       "      <td>SGSWLRDIWDWICEVLSDFKTWLKAKLMPQLPGIPFVSCQRGYKGV...</td>\n",
       "      <td>MGCVQCKDKEATKLTEERDGSLNQSSGYRYGTDPTPQHYPSFGVTS...</td>\n",
       "      <td>1</td>\n",
       "      <td>1</td>\n",
       "      <td>1</td>\n",
       "      <td>1</td>\n",
       "      <td>1</td>\n",
       "      <td>1</td>\n",
       "      <td>...</td>\n",
       "      <td>-1</td>\n",
       "      <td>0</td>\n",
       "      <td>-1</td>\n",
       "      <td>-1</td>\n",
       "      <td>-1</td>\n",
       "      <td>1</td>\n",
       "      <td>1</td>\n",
       "      <td>1</td>\n",
       "      <td>1</td>\n",
       "      <td>1</td>\n",
       "    </tr>\n",
       "    <tr>\n",
       "      <th>396151</th>\n",
       "      <td>PRO_19214</td>\n",
       "      <td>PRO_18202</td>\n",
       "      <td>MDLLVDELFADMNADGASPPPPRPAGGPKNTPAAPPLYATGRLSQA...</td>\n",
       "      <td>MQREEKQLEASLDALLSQVADLKNSLGSFICKLENEYGRLTWPSVL...</td>\n",
       "      <td>0</td>\n",
       "      <td>-1</td>\n",
       "      <td>1</td>\n",
       "      <td>1</td>\n",
       "      <td>1</td>\n",
       "      <td>1</td>\n",
       "      <td>...</td>\n",
       "      <td>1</td>\n",
       "      <td>0</td>\n",
       "      <td>0</td>\n",
       "      <td>0</td>\n",
       "      <td>-1</td>\n",
       "      <td>-1</td>\n",
       "      <td>-1</td>\n",
       "      <td>1</td>\n",
       "      <td>1</td>\n",
       "      <td>1</td>\n",
       "    </tr>\n",
       "    <tr>\n",
       "      <th>396152</th>\n",
       "      <td>PRO_2146</td>\n",
       "      <td>PRO_4583</td>\n",
       "      <td>MGSGSWLKDVWDWICTVLADLKTWLQSKLLPRLPGVPFLSCQRGYK...</td>\n",
       "      <td>MGCVQCKDKEATKLTEERDGSLNQSSGYRYGTDPTPQHYPSFGVTS...</td>\n",
       "      <td>1</td>\n",
       "      <td>1</td>\n",
       "      <td>1</td>\n",
       "      <td>1</td>\n",
       "      <td>1</td>\n",
       "      <td>1</td>\n",
       "      <td>...</td>\n",
       "      <td>-1</td>\n",
       "      <td>0</td>\n",
       "      <td>-1</td>\n",
       "      <td>-1</td>\n",
       "      <td>-1</td>\n",
       "      <td>1</td>\n",
       "      <td>1</td>\n",
       "      <td>1</td>\n",
       "      <td>1</td>\n",
       "      <td>1</td>\n",
       "    </tr>\n",
       "    <tr>\n",
       "      <th>396153</th>\n",
       "      <td>PRO_19214</td>\n",
       "      <td>PRO_91</td>\n",
       "      <td>MDLLVDELFADMNADGASPPPPRPAGGPKNTPAAPPLYATGRLSQA...</td>\n",
       "      <td>MSGVRAVRISIESACEKQVHEVGLDGTETYLPPLSMSQNLARLAQR...</td>\n",
       "      <td>0</td>\n",
       "      <td>-1</td>\n",
       "      <td>1</td>\n",
       "      <td>1</td>\n",
       "      <td>1</td>\n",
       "      <td>1</td>\n",
       "      <td>...</td>\n",
       "      <td>1</td>\n",
       "      <td>0</td>\n",
       "      <td>-1</td>\n",
       "      <td>-1</td>\n",
       "      <td>1</td>\n",
       "      <td>1</td>\n",
       "      <td>1</td>\n",
       "      <td>1</td>\n",
       "      <td>1</td>\n",
       "      <td>1</td>\n",
       "    </tr>\n",
       "  </tbody>\n",
       "</table>\n",
       "<p>396154 rows × 31 columns</p>\n",
       "</div>"
      ],
      "text/plain": [
       "        Protein_A  Protein_B  \\\n",
       "0        PRO_1968   PRO_2127   \n",
       "1        PRO_1968   PRO_3259   \n",
       "2        PRO_1968  PRO_20825   \n",
       "3        PRO_1968  PRO_11236   \n",
       "4        PRO_1968   PRO_2577   \n",
       "...           ...        ...   \n",
       "396149  PRO_11977  PRO_20355   \n",
       "396150  PRO_11977   PRO_4583   \n",
       "396151  PRO_19214  PRO_18202   \n",
       "396152   PRO_2146   PRO_4583   \n",
       "396153  PRO_19214     PRO_91   \n",
       "\n",
       "                                       Protein_A_sequence  \\\n",
       "0       MAKNPPENCEDCHILNAEAFKSKKICKSLKICGLVFGILALTLIVL...   \n",
       "1       MAKNPPENCEDCHILNAEAFKSKKICKSLKICGLVFGILALTLIVL...   \n",
       "2       MAKNPPENCEDCHILNAEAFKSKKICKSLKICGLVFGILALTLIVL...   \n",
       "3       MAKNPPENCEDCHILNAEAFKSKKICKSLKICGLVFGILALTLIVL...   \n",
       "4       MAKNPPENCEDCHILNAEAFKSKKICKSLKICGLVFGILALTLIVL...   \n",
       "...                                                   ...   \n",
       "396149  SGSWLRDIWDWICEVLSDFKTWLKAKLMPQLPGIPFVSCQRGYKGV...   \n",
       "396150  SGSWLRDIWDWICEVLSDFKTWLKAKLMPQLPGIPFVSCQRGYKGV...   \n",
       "396151  MDLLVDELFADMNADGASPPPPRPAGGPKNTPAAPPLYATGRLSQA...   \n",
       "396152  MGSGSWLKDVWDWICTVLADLKTWLQSKLLPRLPGVPFLSCQRGYK...   \n",
       "396153  MDLLVDELFADMNADGASPPPPRPAGGPKNTPAAPPLYATGRLSQA...   \n",
       "\n",
       "                                       Protein_B_sequence  split_0_10  \\\n",
       "0       MRRSSRPGSASSSRKHTPNFFSENSSMSITSEDSKGLRSAEPGPGE...           0   \n",
       "1       MASSSTVPLGFHYETKYVVLSYLGLLSQEKLQEQHLSSPQGVQLDI...           0   \n",
       "2       MSSHLVEPPPPLHNNNNNCEENEQSLPPPAGLNSSWVELPMNSSNG...          -1   \n",
       "3       MPLLLLLPLLWAGALAMDPNFWLQVQESVTVQEGLCVLVPCTFFHP...          -1   \n",
       "4       MKAQTALSFFLILITSLSGSQGIFPLAFFIYVPMNEQIVIGRLDED...           0   \n",
       "...                                                   ...         ...   \n",
       "396149  MGGRSSCEDPGCPRDEERAPRMGCMKSKFLQVGGNTFSKTETSASP...           1   \n",
       "396150  MGCVQCKDKEATKLTEERDGSLNQSSGYRYGTDPTPQHYPSFGVTS...           1   \n",
       "396151  MQREEKQLEASLDALLSQVADLKNSLGSFICKLENEYGRLTWPSVL...           0   \n",
       "396152  MGCVQCKDKEATKLTEERDGSLNQSSGYRYGTDPTPQHYPSFGVTS...           1   \n",
       "396153  MSGVRAVRISIESACEKQVHEVGLDGTETYLPPLSMSQNLARLAQR...           0   \n",
       "\n",
       "        split_0_20  split_0_30  split_0_40  split_0_50  split_0_60  ...  \\\n",
       "0               -1          -1          -1          -1          -1  ...   \n",
       "1               -1           1           1           1           1  ...   \n",
       "2                1           1           1           1           1  ...   \n",
       "3                1           1           1           1           1  ...   \n",
       "4               -1          -1          -1          -1           1  ...   \n",
       "...            ...         ...         ...         ...         ...  ...   \n",
       "396149           1           1           1           1           1  ...   \n",
       "396150           1           1           1           1           1  ...   \n",
       "396151          -1           1           1           1           1  ...   \n",
       "396152           1           1           1           1           1  ...   \n",
       "396153          -1           1           1           1           1  ...   \n",
       "\n",
       "        split_1_90  split_2_10  split_2_20  split_2_30  split_2_40  \\\n",
       "0                1          -1          -1          -1          -1   \n",
       "1                1          -1          -1           1           1   \n",
       "2               -1          -1          -1          -1          -1   \n",
       "3                1          -1          -1          -1           1   \n",
       "4                1          -1          -1           1           1   \n",
       "...            ...         ...         ...         ...         ...   \n",
       "396149          -1           0           0          -1          -1   \n",
       "396150          -1           0          -1          -1          -1   \n",
       "396151           1           0           0           0          -1   \n",
       "396152          -1           0          -1          -1          -1   \n",
       "396153           1           0          -1          -1           1   \n",
       "\n",
       "        split_2_50  split_2_60  split_2_70  split_2_80  split_2_90  \n",
       "0               -1          -1           1           1           1  \n",
       "1                1           1           1           1           1  \n",
       "2                1           1           1           1           1  \n",
       "3                1           1           1           1           1  \n",
       "4                1           1           1           1           1  \n",
       "...            ...         ...         ...         ...         ...  \n",
       "396149           1           1           1           1           1  \n",
       "396150           1           1           1           1           1  \n",
       "396151          -1          -1           1           1           1  \n",
       "396152           1           1           1           1           1  \n",
       "396153           1           1           1           1           1  \n",
       "\n",
       "[396154 rows x 31 columns]"
      ]
     },
     "execution_count": 149,
     "metadata": {},
     "output_type": "execute_result"
    }
   ],
   "source": [
    "negative_data = data.iloc[396154:]\n",
    "negative_data\n",
    "\n",
    "positive_data = data.iloc[:396154]\n",
    "positive_data"
   ]
  },
  {
   "cell_type": "code",
   "execution_count": 270,
   "id": "08cbe126",
   "metadata": {},
   "outputs": [],
   "source": [
    "train_data_pos = positive_data[positive_data.split_0_50 == 1][['Protein_A','Protein_B','Protein_A_sequence','Protein_B_sequence']]\n",
    "test_data_pos = positive_data[positive_data.split_0_50 == 0][['Protein_A','Protein_B','Protein_A_sequence','Protein_B_sequence']]\n",
    "\n",
    "train_data_neg = negative_data[negative_data.split_0_50 == 1][['Protein_A','Protein_B','Protein_A_sequence','Protein_B_sequence']]\n",
    "test_data_neg = negative_data[negative_data.split_0_50 == 0][['Protein_A','Protein_B','Protein_A_sequence','Protein_B_sequence']]\n",
    "\n"
   ]
  },
  {
   "cell_type": "code",
   "execution_count": 157,
   "id": "d25a5f03",
   "metadata": {},
   "outputs": [],
   "source": [
    "assert((len(train_data_pos)+len(train_data_neg)) == len(data[data.split_0_50 == 1]))\n",
    "assert((len(test_data_pos)+len(test_data_neg)) == len(data[data.split_0_50 == 0]))\n"
   ]
  },
  {
   "cell_type": "markdown",
   "id": "a4a779b6",
   "metadata": {},
   "source": [
    "## 2. Randomly sampling"
   ]
  },
  {
   "cell_type": "code",
   "execution_count": 160,
   "id": "ba537925",
   "metadata": {},
   "outputs": [],
   "source": [
    "unique_proteins_train_set = list(set(train_data_pos['Protein_A']).union(train_data_pos['Protein_B']).union(train_data_neg['Protein_A']).union(train_data_neg['Protein_B']))\n",
    "unique_proteins_test_set = list(set(test_pos_data['Protein_A']).union(test_pos_data['Protein_B']).union(test_neg_data['Protein_A']).union(test_neg_data['Protein_B']))"
   ]
  },
  {
   "cell_type": "code",
   "execution_count": 167,
   "id": "89c8df11",
   "metadata": {},
   "outputs": [
    {
     "data": {
      "text/plain": [
       "True"
      ]
     },
     "execution_count": 167,
     "metadata": {},
     "output_type": "execute_result"
    }
   ],
   "source": [
    "len(unique_proteins_train_set) == len(set(data[data.split_0_50 ==1].Protein_A).union(data[data.split_0_50 ==1].Protein_B))"
   ]
  },
  {
   "cell_type": "code",
   "execution_count": 168,
   "id": "15158758",
   "metadata": {},
   "outputs": [
    {
     "data": {
      "text/plain": [
       "True"
      ]
     },
     "execution_count": 168,
     "metadata": {},
     "output_type": "execute_result"
    }
   ],
   "source": [
    "len(unique_proteins_test_set) == len(set(data[data.split_0_50 ==0].Protein_A).union(data[data.split_0_50 ==0].Protein_B))"
   ]
  },
  {
   "cell_type": "code",
   "execution_count": 169,
   "id": "72640955",
   "metadata": {},
   "outputs": [],
   "source": [
    "def random_pairs(number_list): \n",
    "    return [number_list[i] for i in random.sample(range(len(number_list)), 2)]"
   ]
  },
  {
   "cell_type": "code",
   "execution_count": 170,
   "id": "3a9e2c8b",
   "metadata": {},
   "outputs": [],
   "source": [
    "all_possible_train_set_protein_pairs = [random_pairs(unique_proteins_train_set) for i in range(500000)]\n",
    "all_possible_test_set_protein_pairs = [random_pairs(unique_proteins_test_set) for i in range(500000)]"
   ]
  },
  {
   "cell_type": "code",
   "execution_count": 174,
   "id": "5d713db2",
   "metadata": {},
   "outputs": [
    {
     "data": {
      "text/plain": [
       "set()"
      ]
     },
     "execution_count": 174,
     "metadata": {},
     "output_type": "execute_result"
    }
   ],
   "source": [
    "set(unique_proteins_test_set).intersection(set(unique_proteins_train_set))"
   ]
  },
  {
   "cell_type": "markdown",
   "id": "e37273d3",
   "metadata": {},
   "source": [
    "### 2.1 Test set\n",
    "\n",
    "<pre>\n",
    "--> all_possible_test_set_protein_pairs\n",
    "--> test_data_pos\n",
    "--> test_data_neg\n",
    "</pre>"
   ]
  },
  {
   "cell_type": "code",
   "execution_count": 175,
   "id": "63e4ac80",
   "metadata": {},
   "outputs": [],
   "source": [
    "positive_test_set_pairs = []\n",
    "for index,row in test_data_pos.iterrows():\n",
    "    positive_test_set_pairs.append([row.Protein_A,row.Protein_B])\n",
    "    positive_test_set_pairs.append([row.Protein_B,row.Protein_A])"
   ]
  },
  {
   "cell_type": "code",
   "execution_count": 176,
   "id": "77d81e41",
   "metadata": {},
   "outputs": [
    {
     "data": {
      "text/plain": [
       "42694"
      ]
     },
     "execution_count": 176,
     "metadata": {},
     "output_type": "execute_result"
    }
   ],
   "source": [
    "len(positive_test_set_pairs)"
   ]
  },
  {
   "cell_type": "code",
   "execution_count": null,
   "id": "d27fcf80",
   "metadata": {},
   "outputs": [],
   "source": [
    "unique_proteins_test_set = list(set(test_pos_data['Protein_A']).union(test_pos_data['Protein_B']).union(test_neg_data['Protein_A']).union(test_neg_data['Protein_B']))\n",
    "all_possible_test_set_protein_pairs = [random_pairs(unique_proteins_test_set) for i in range(500000)]"
   ]
  },
  {
   "cell_type": "code",
   "execution_count": 178,
   "id": "6558d195",
   "metadata": {},
   "outputs": [
    {
     "name": "stderr",
     "output_type": "stream",
     "text": [
      "100%|█████████████████████████████████████████████████| 500000/500000 [13:00<00:00, 640.37it/s]\n"
     ]
    }
   ],
   "source": [
    "# ! Warning\n",
    "\n",
    "neg_test_pairs = []\n",
    "for i in tqdm(all_possible_test_set_protein_pairs):\n",
    "    \n",
    "    if i in positive_test_set_pairs:\n",
    "        \n",
    "        \n",
    "        continue\n",
    "    else:\n",
    "        neg_test_pairs.append(i)"
   ]
  },
  {
   "cell_type": "code",
   "execution_count": 181,
   "id": "c3118d9e",
   "metadata": {},
   "outputs": [],
   "source": [
    "neg_test_pairs_subset = random.sample(neg_test_pairs,len(test_data_pos)*10 - len(test_data_neg))```"
   ]
  },
  {
   "cell_type": "code",
   "execution_count": 217,
   "id": "27918247",
   "metadata": {},
   "outputs": [],
   "source": [
    "# neg_test_pairs_subset"
   ]
  },
  {
   "cell_type": "code",
   "execution_count": 182,
   "id": "3c0ec9ec",
   "metadata": {},
   "outputs": [
    {
     "data": {
      "text/plain": [
       "True"
      ]
     },
     "execution_count": 182,
     "metadata": {},
     "output_type": "execute_result"
    }
   ],
   "source": [
    "len(neg_test_pairs_subset) == 213380"
   ]
  },
  {
   "cell_type": "code",
   "execution_count": 179,
   "id": "b565dc28",
   "metadata": {},
   "outputs": [],
   "source": [
    "neg_test_set_pairs = []\n",
    "for index,row in test_data_neg.iterrows():\n",
    "   \n",
    "    neg_test_set_pairs.append([row.Protein_A,row.Protein_B])"
   ]
  },
  {
   "cell_type": "code",
   "execution_count": 180,
   "id": "e6e3b3ee",
   "metadata": {},
   "outputs": [
    {
     "data": {
      "text/plain": [
       "90"
      ]
     },
     "execution_count": 180,
     "metadata": {},
     "output_type": "execute_result"
    }
   ],
   "source": [
    "len(neg_test_set_pairs)"
   ]
  },
  {
   "cell_type": "code",
   "execution_count": 183,
   "id": "e66823cf",
   "metadata": {},
   "outputs": [
    {
     "data": {
      "text/plain": [
       "213380"
      ]
     },
     "execution_count": 183,
     "metadata": {},
     "output_type": "execute_result"
    }
   ],
   "source": [
    "len(neg_test_pairs_subset)"
   ]
  },
  {
   "cell_type": "code",
   "execution_count": 188,
   "id": "7e31a6b4",
   "metadata": {},
   "outputs": [
    {
     "data": {
      "text/plain": [
       "True"
      ]
     },
     "execution_count": 188,
     "metadata": {},
     "output_type": "execute_result"
    }
   ],
   "source": [
    "neg_test_set_pairs.extend(neg_test_pairs_subset)\n",
    "len(neg_test_set_pairs) == len(test_data_pos)*10"
   ]
  },
  {
   "cell_type": "code",
   "execution_count": 193,
   "id": "eaeb29f1",
   "metadata": {},
   "outputs": [
    {
     "data": {
      "text/plain": [
       "21347"
      ]
     },
     "execution_count": 193,
     "metadata": {},
     "output_type": "execute_result"
    }
   ],
   "source": [
    "positive_test_set_pairs = []\n",
    "for index,row in test_pos_data.iterrows():\n",
    "    positive_test_set_pairs.append([row.Protein_A,row.Protein_B])\n",
    "  \n",
    "len(positive_test_set_pairs)\n"
   ]
  },
  {
   "cell_type": "code",
   "execution_count": 195,
   "id": "593adbe7",
   "metadata": {},
   "outputs": [],
   "source": [
    "li_A = []\n",
    "li_B = []\n",
    "label = []\n",
    "l = 0\n",
    "for i,j in neg_test_set_pairs:\n",
    "    \n",
    "    li_A.append(i)\n",
    "    li_B.append(j)\n",
    "    label.append(0)\n",
    "    \n"
   ]
  },
  {
   "cell_type": "code",
   "execution_count": 196,
   "id": "34282062",
   "metadata": {},
   "outputs": [],
   "source": [
    "test_set_1 = pd.DataFrame()\n",
    "test_set_1['Protein_A'] = li_A\n",
    "test_set_1['Protein_B'] = li_B\n",
    "test_set_1['label'] = label"
   ]
  },
  {
   "cell_type": "code",
   "execution_count": 197,
   "id": "7bd21e26",
   "metadata": {},
   "outputs": [
    {
     "data": {
      "text/html": [
       "<div>\n",
       "<style scoped>\n",
       "    .dataframe tbody tr th:only-of-type {\n",
       "        vertical-align: middle;\n",
       "    }\n",
       "\n",
       "    .dataframe tbody tr th {\n",
       "        vertical-align: top;\n",
       "    }\n",
       "\n",
       "    .dataframe thead th {\n",
       "        text-align: right;\n",
       "    }\n",
       "</style>\n",
       "<table border=\"1\" class=\"dataframe\">\n",
       "  <thead>\n",
       "    <tr style=\"text-align: right;\">\n",
       "      <th></th>\n",
       "      <th>Protein_A</th>\n",
       "      <th>Protein_B</th>\n",
       "      <th>label</th>\n",
       "    </tr>\n",
       "  </thead>\n",
       "  <tbody>\n",
       "    <tr>\n",
       "      <th>0</th>\n",
       "      <td>PRO_23889</td>\n",
       "      <td>PRO_23995</td>\n",
       "      <td>0</td>\n",
       "    </tr>\n",
       "    <tr>\n",
       "      <th>1</th>\n",
       "      <td>PRO_23889</td>\n",
       "      <td>PRO_23995</td>\n",
       "      <td>0</td>\n",
       "    </tr>\n",
       "    <tr>\n",
       "      <th>2</th>\n",
       "      <td>PRO_23995</td>\n",
       "      <td>PRO_23889</td>\n",
       "      <td>0</td>\n",
       "    </tr>\n",
       "    <tr>\n",
       "      <th>3</th>\n",
       "      <td>PRO_10025</td>\n",
       "      <td>PRO_13020</td>\n",
       "      <td>0</td>\n",
       "    </tr>\n",
       "    <tr>\n",
       "      <th>4</th>\n",
       "      <td>PRO_23639</td>\n",
       "      <td>PRO_23650</td>\n",
       "      <td>0</td>\n",
       "    </tr>\n",
       "    <tr>\n",
       "      <th>...</th>\n",
       "      <td>...</td>\n",
       "      <td>...</td>\n",
       "      <td>...</td>\n",
       "    </tr>\n",
       "    <tr>\n",
       "      <th>213465</th>\n",
       "      <td>PRO_11969</td>\n",
       "      <td>PRO_16870</td>\n",
       "      <td>0</td>\n",
       "    </tr>\n",
       "    <tr>\n",
       "      <th>213466</th>\n",
       "      <td>PRO_2554</td>\n",
       "      <td>PRO_3073</td>\n",
       "      <td>0</td>\n",
       "    </tr>\n",
       "    <tr>\n",
       "      <th>213467</th>\n",
       "      <td>PRO_15478</td>\n",
       "      <td>PRO_18292</td>\n",
       "      <td>0</td>\n",
       "    </tr>\n",
       "    <tr>\n",
       "      <th>213468</th>\n",
       "      <td>PRO_1011</td>\n",
       "      <td>PRO_16240</td>\n",
       "      <td>0</td>\n",
       "    </tr>\n",
       "    <tr>\n",
       "      <th>213469</th>\n",
       "      <td>PRO_23909</td>\n",
       "      <td>PRO_4129</td>\n",
       "      <td>0</td>\n",
       "    </tr>\n",
       "  </tbody>\n",
       "</table>\n",
       "<p>213470 rows × 3 columns</p>\n",
       "</div>"
      ],
      "text/plain": [
       "        Protein_A  Protein_B  label\n",
       "0       PRO_23889  PRO_23995      0\n",
       "1       PRO_23889  PRO_23995      0\n",
       "2       PRO_23995  PRO_23889      0\n",
       "3       PRO_10025  PRO_13020      0\n",
       "4       PRO_23639  PRO_23650      0\n",
       "...           ...        ...    ...\n",
       "213465  PRO_11969  PRO_16870      0\n",
       "213466   PRO_2554   PRO_3073      0\n",
       "213467  PRO_15478  PRO_18292      0\n",
       "213468   PRO_1011  PRO_16240      0\n",
       "213469  PRO_23909   PRO_4129      0\n",
       "\n",
       "[213470 rows x 3 columns]"
      ]
     },
     "execution_count": 197,
     "metadata": {},
     "output_type": "execute_result"
    }
   ],
   "source": [
    "test_set_1"
   ]
  },
  {
   "cell_type": "code",
   "execution_count": 204,
   "id": "94974406",
   "metadata": {},
   "outputs": [
    {
     "data": {
      "text/html": [
       "<div>\n",
       "<style scoped>\n",
       "    .dataframe tbody tr th:only-of-type {\n",
       "        vertical-align: middle;\n",
       "    }\n",
       "\n",
       "    .dataframe tbody tr th {\n",
       "        vertical-align: top;\n",
       "    }\n",
       "\n",
       "    .dataframe thead th {\n",
       "        text-align: right;\n",
       "    }\n",
       "</style>\n",
       "<table border=\"1\" class=\"dataframe\">\n",
       "  <thead>\n",
       "    <tr style=\"text-align: right;\">\n",
       "      <th></th>\n",
       "      <th>Protein_A</th>\n",
       "      <th>Protein_B</th>\n",
       "      <th>label</th>\n",
       "    </tr>\n",
       "  </thead>\n",
       "  <tbody>\n",
       "    <tr>\n",
       "      <th>0</th>\n",
       "      <td>PRO_23889</td>\n",
       "      <td>PRO_23995</td>\n",
       "      <td>0</td>\n",
       "    </tr>\n",
       "    <tr>\n",
       "      <th>1</th>\n",
       "      <td>PRO_23995</td>\n",
       "      <td>PRO_23889</td>\n",
       "      <td>0</td>\n",
       "    </tr>\n",
       "    <tr>\n",
       "      <th>2</th>\n",
       "      <td>PRO_10025</td>\n",
       "      <td>PRO_13020</td>\n",
       "      <td>0</td>\n",
       "    </tr>\n",
       "    <tr>\n",
       "      <th>3</th>\n",
       "      <td>PRO_23639</td>\n",
       "      <td>PRO_23650</td>\n",
       "      <td>0</td>\n",
       "    </tr>\n",
       "    <tr>\n",
       "      <th>4</th>\n",
       "      <td>PRO_23685</td>\n",
       "      <td>PRO_23742</td>\n",
       "      <td>0</td>\n",
       "    </tr>\n",
       "    <tr>\n",
       "      <th>...</th>\n",
       "      <td>...</td>\n",
       "      <td>...</td>\n",
       "      <td>...</td>\n",
       "    </tr>\n",
       "    <tr>\n",
       "      <th>212437</th>\n",
       "      <td>PRO_11969</td>\n",
       "      <td>PRO_16870</td>\n",
       "      <td>0</td>\n",
       "    </tr>\n",
       "    <tr>\n",
       "      <th>212438</th>\n",
       "      <td>PRO_2554</td>\n",
       "      <td>PRO_3073</td>\n",
       "      <td>0</td>\n",
       "    </tr>\n",
       "    <tr>\n",
       "      <th>212439</th>\n",
       "      <td>PRO_15478</td>\n",
       "      <td>PRO_18292</td>\n",
       "      <td>0</td>\n",
       "    </tr>\n",
       "    <tr>\n",
       "      <th>212440</th>\n",
       "      <td>PRO_1011</td>\n",
       "      <td>PRO_16240</td>\n",
       "      <td>0</td>\n",
       "    </tr>\n",
       "    <tr>\n",
       "      <th>212441</th>\n",
       "      <td>PRO_23909</td>\n",
       "      <td>PRO_4129</td>\n",
       "      <td>0</td>\n",
       "    </tr>\n",
       "  </tbody>\n",
       "</table>\n",
       "<p>212442 rows × 3 columns</p>\n",
       "</div>"
      ],
      "text/plain": [
       "        Protein_A  Protein_B  label\n",
       "0       PRO_23889  PRO_23995      0\n",
       "1       PRO_23995  PRO_23889      0\n",
       "2       PRO_10025  PRO_13020      0\n",
       "3       PRO_23639  PRO_23650      0\n",
       "4       PRO_23685  PRO_23742      0\n",
       "...           ...        ...    ...\n",
       "212437  PRO_11969  PRO_16870      0\n",
       "212438   PRO_2554   PRO_3073      0\n",
       "212439  PRO_15478  PRO_18292      0\n",
       "212440   PRO_1011  PRO_16240      0\n",
       "212441  PRO_23909   PRO_4129      0\n",
       "\n",
       "[212442 rows x 3 columns]"
      ]
     },
     "execution_count": 204,
     "metadata": {},
     "output_type": "execute_result"
    }
   ],
   "source": [
    "test_set_1.drop_duplicates(subset=None, keep='first', inplace=True, ignore_index=True)\n",
    "test_set_1"
   ]
  },
  {
   "cell_type": "code",
   "execution_count": 200,
   "id": "a659262f",
   "metadata": {},
   "outputs": [],
   "source": [
    "all_pairs_test_set_1 = [[row.Protein_A,row.Protein_B] for index,row in test_set_1.iterrows()]\n",
    "all_pairs_test_set_2 = [[row.Protein_B,row.Protein_A] for index,row in test_set_1.iterrows()]\n",
    "all_pairs_test_set_1.extend(all_pairs_test_set_2)\n",
    "all_pairs_neg_test_set = all_pairs_test_set_1"
   ]
  },
  {
   "cell_type": "code",
   "execution_count": 205,
   "id": "50245a19",
   "metadata": {},
   "outputs": [],
   "source": [
    "all_pairs_test_set_1.extend(all_pairs_test_set_2)\n",
    "all_pairs_neg_test_set = all_pairs_test_set_1"
   ]
  },
  {
   "cell_type": "code",
   "execution_count": 207,
   "id": "26d17087",
   "metadata": {},
   "outputs": [],
   "source": [
    "li_A = []\n",
    "li_B = []\n",
    "label = []\n",
    "\n",
    "for i,j in positive_test_set_pairs:\n",
    "   \n",
    "    li_A.append(i)\n",
    "    li_B.append(j)\n",
    "    label.append(1)"
   ]
  },
  {
   "cell_type": "code",
   "execution_count": 208,
   "id": "9ea8a503",
   "metadata": {},
   "outputs": [],
   "source": [
    "test_set_2 = pd.DataFrame()\n",
    "test_set_2['Protein_A'] = li_A\n",
    "test_set_2['Protein_B'] = li_B\n",
    "test_set_2['label'] = label"
   ]
  },
  {
   "cell_type": "code",
   "execution_count": 218,
   "id": "36080021",
   "metadata": {},
   "outputs": [
    {
     "data": {
      "text/html": [
       "<div>\n",
       "<style scoped>\n",
       "    .dataframe tbody tr th:only-of-type {\n",
       "        vertical-align: middle;\n",
       "    }\n",
       "\n",
       "    .dataframe tbody tr th {\n",
       "        vertical-align: top;\n",
       "    }\n",
       "\n",
       "    .dataframe thead th {\n",
       "        text-align: right;\n",
       "    }\n",
       "</style>\n",
       "<table border=\"1\" class=\"dataframe\">\n",
       "  <thead>\n",
       "    <tr style=\"text-align: right;\">\n",
       "      <th></th>\n",
       "      <th>Protein_A</th>\n",
       "      <th>Protein_B</th>\n",
       "      <th>label</th>\n",
       "    </tr>\n",
       "  </thead>\n",
       "  <tbody>\n",
       "    <tr>\n",
       "      <th>0</th>\n",
       "      <td>PRO_4691</td>\n",
       "      <td>PRO_2365</td>\n",
       "      <td>1</td>\n",
       "    </tr>\n",
       "    <tr>\n",
       "      <th>1</th>\n",
       "      <td>PRO_12486</td>\n",
       "      <td>PRO_12486</td>\n",
       "      <td>1</td>\n",
       "    </tr>\n",
       "    <tr>\n",
       "      <th>2</th>\n",
       "      <td>PRO_12486</td>\n",
       "      <td>PRO_15453</td>\n",
       "      <td>1</td>\n",
       "    </tr>\n",
       "    <tr>\n",
       "      <th>3</th>\n",
       "      <td>PRO_12486</td>\n",
       "      <td>PRO_22362</td>\n",
       "      <td>1</td>\n",
       "    </tr>\n",
       "    <tr>\n",
       "      <th>4</th>\n",
       "      <td>PRO_12486</td>\n",
       "      <td>PRO_3423</td>\n",
       "      <td>1</td>\n",
       "    </tr>\n",
       "    <tr>\n",
       "      <th>...</th>\n",
       "      <td>...</td>\n",
       "      <td>...</td>\n",
       "      <td>...</td>\n",
       "    </tr>\n",
       "    <tr>\n",
       "      <th>21342</th>\n",
       "      <td>PRO_15612</td>\n",
       "      <td>PRO_23102</td>\n",
       "      <td>1</td>\n",
       "    </tr>\n",
       "    <tr>\n",
       "      <th>21343</th>\n",
       "      <td>PRO_4020</td>\n",
       "      <td>PRO_14939</td>\n",
       "      <td>1</td>\n",
       "    </tr>\n",
       "    <tr>\n",
       "      <th>21344</th>\n",
       "      <td>PRO_2235</td>\n",
       "      <td>PRO_22330</td>\n",
       "      <td>1</td>\n",
       "    </tr>\n",
       "    <tr>\n",
       "      <th>21345</th>\n",
       "      <td>PRO_19718</td>\n",
       "      <td>PRO_15698</td>\n",
       "      <td>1</td>\n",
       "    </tr>\n",
       "    <tr>\n",
       "      <th>21346</th>\n",
       "      <td>PRO_10477</td>\n",
       "      <td>PRO_2752</td>\n",
       "      <td>1</td>\n",
       "    </tr>\n",
       "  </tbody>\n",
       "</table>\n",
       "<p>21347 rows × 3 columns</p>\n",
       "</div>"
      ],
      "text/plain": [
       "       Protein_A  Protein_B  label\n",
       "0       PRO_4691   PRO_2365      1\n",
       "1      PRO_12486  PRO_12486      1\n",
       "2      PRO_12486  PRO_15453      1\n",
       "3      PRO_12486  PRO_22362      1\n",
       "4      PRO_12486   PRO_3423      1\n",
       "...          ...        ...    ...\n",
       "21342  PRO_15612  PRO_23102      1\n",
       "21343   PRO_4020  PRO_14939      1\n",
       "21344   PRO_2235  PRO_22330      1\n",
       "21345  PRO_19718  PRO_15698      1\n",
       "21346  PRO_10477   PRO_2752      1\n",
       "\n",
       "[21347 rows x 3 columns]"
      ]
     },
     "execution_count": 218,
     "metadata": {},
     "output_type": "execute_result"
    }
   ],
   "source": [
    "test_set_2"
   ]
  },
  {
   "cell_type": "code",
   "execution_count": 223,
   "id": "5243ac2a",
   "metadata": {},
   "outputs": [
    {
     "data": {
      "text/html": [
       "<div>\n",
       "<style scoped>\n",
       "    .dataframe tbody tr th:only-of-type {\n",
       "        vertical-align: middle;\n",
       "    }\n",
       "\n",
       "    .dataframe tbody tr th {\n",
       "        vertical-align: top;\n",
       "    }\n",
       "\n",
       "    .dataframe thead th {\n",
       "        text-align: right;\n",
       "    }\n",
       "</style>\n",
       "<table border=\"1\" class=\"dataframe\">\n",
       "  <thead>\n",
       "    <tr style=\"text-align: right;\">\n",
       "      <th></th>\n",
       "      <th>Protein_A</th>\n",
       "      <th>Protein_B</th>\n",
       "      <th>Protein_A_sequence</th>\n",
       "      <th>Protein_B_sequence</th>\n",
       "    </tr>\n",
       "  </thead>\n",
       "  <tbody>\n",
       "    <tr>\n",
       "      <th>0</th>\n",
       "      <td>PRO_4691</td>\n",
       "      <td>PRO_2365</td>\n",
       "      <td>MASLEVSRSPRRSRRELEVRSPRQNKYSVLLPTYNERENLPLIVWL...</td>\n",
       "      <td>MSGCPFLGNNFGYTFKKLPVEGSEEDKSQTGVNRASKGGLIYGNYL...</td>\n",
       "    </tr>\n",
       "    <tr>\n",
       "      <th>1</th>\n",
       "      <td>PRO_12486</td>\n",
       "      <td>PRO_12486</td>\n",
       "      <td>MEDLGENTMVLSTLRSLNNFISQRVEGGSGLDISTSAPGSLQMQYQ...</td>\n",
       "      <td>MEDLGENTMVLSTLRSLNNFISQRVEGGSGLDISTSAPGSLQMQYQ...</td>\n",
       "    </tr>\n",
       "    <tr>\n",
       "      <th>2</th>\n",
       "      <td>PRO_12486</td>\n",
       "      <td>PRO_15453</td>\n",
       "      <td>MEDLGENTMVLSTLRSLNNFISQRVEGGSGLDISTSAPGSLQMQYQ...</td>\n",
       "      <td>MTDDKDVLRDVWFGRIPTCFTLYQDEITEREAEPYYLLLPRVSYLT...</td>\n",
       "    </tr>\n",
       "    <tr>\n",
       "      <th>3</th>\n",
       "      <td>PRO_12486</td>\n",
       "      <td>PRO_22362</td>\n",
       "      <td>MEDLGENTMVLSTLRSLNNFISQRVEGGSGLDISTSAPGSLQMQYQ...</td>\n",
       "      <td>MADSKEGVLPLTAASTAPISFGFTRTSARRRLADSGDGAGPSPEEK...</td>\n",
       "    </tr>\n",
       "    <tr>\n",
       "      <th>4</th>\n",
       "      <td>PRO_12486</td>\n",
       "      <td>PRO_3423</td>\n",
       "      <td>MEDLGENTMVLSTLRSLNNFISQRVEGGSGLDISTSAPGSLQMQYQ...</td>\n",
       "      <td>MSRKISKESKKVNISSSLESEDISLETTVPTDDISSSEEREGKVRI...</td>\n",
       "    </tr>\n",
       "    <tr>\n",
       "      <th>...</th>\n",
       "      <td>...</td>\n",
       "      <td>...</td>\n",
       "      <td>...</td>\n",
       "      <td>...</td>\n",
       "    </tr>\n",
       "    <tr>\n",
       "      <th>21342</th>\n",
       "      <td>PRO_15612</td>\n",
       "      <td>PRO_23102</td>\n",
       "      <td>MKSRHHLNTRLLPLSILISALIPAAVLAAPSVAIPPPVQDLINQVQ...</td>\n",
       "      <td>MAIFSVYVVNKAGGLIYQLDSYAPRAEAEKTFSYPLDLLLKLHDER...</td>\n",
       "    </tr>\n",
       "    <tr>\n",
       "      <th>21343</th>\n",
       "      <td>PRO_4020</td>\n",
       "      <td>PRO_14939</td>\n",
       "      <td>MKTWIARLLGKDISIDFPAPWAADSTAIYRWLATWPDSDGPLPAEA...</td>\n",
       "      <td>MGRRSTSSTKSGKFMNPTDQARKEARKRELKKNKKQRMMVRAAVLK...</td>\n",
       "    </tr>\n",
       "    <tr>\n",
       "      <th>21344</th>\n",
       "      <td>PRO_2235</td>\n",
       "      <td>PRO_22330</td>\n",
       "      <td>MKQAFRVALGFLVLWASVLHAEVRIEITQGVDSARPIGVVPFKWMG...</td>\n",
       "      <td>MAAAFRKAAKSRQREHRERSQPGFRKHLGLLEKKKDYKLRADDYRK...</td>\n",
       "    </tr>\n",
       "    <tr>\n",
       "      <th>21345</th>\n",
       "      <td>PRO_19718</td>\n",
       "      <td>PRO_15698</td>\n",
       "      <td>MSEFSQTVPELVAWARKNDFSITLPTERLAFLMAIAALNGERLDGE...</td>\n",
       "      <td>MGTPASGRKRTPVKDRFSAEDEALSNIAREAEARLAAKRAARAEAR...</td>\n",
       "    </tr>\n",
       "    <tr>\n",
       "      <th>21346</th>\n",
       "      <td>PRO_10477</td>\n",
       "      <td>PRO_2752</td>\n",
       "      <td>MASSNRGNARPLKSFLHELYLKHYPEVGDVVHLLNTIGVDCDLPPS...</td>\n",
       "      <td>MWRSLGLALALCLLPSGGTESQDQSSLCKQPPAWSIRDQDPMLNSN...</td>\n",
       "    </tr>\n",
       "  </tbody>\n",
       "</table>\n",
       "<p>21347 rows × 4 columns</p>\n",
       "</div>"
      ],
      "text/plain": [
       "       Protein_A  Protein_B  \\\n",
       "0       PRO_4691   PRO_2365   \n",
       "1      PRO_12486  PRO_12486   \n",
       "2      PRO_12486  PRO_15453   \n",
       "3      PRO_12486  PRO_22362   \n",
       "4      PRO_12486   PRO_3423   \n",
       "...          ...        ...   \n",
       "21342  PRO_15612  PRO_23102   \n",
       "21343   PRO_4020  PRO_14939   \n",
       "21344   PRO_2235  PRO_22330   \n",
       "21345  PRO_19718  PRO_15698   \n",
       "21346  PRO_10477   PRO_2752   \n",
       "\n",
       "                                      Protein_A_sequence  \\\n",
       "0      MASLEVSRSPRRSRRELEVRSPRQNKYSVLLPTYNERENLPLIVWL...   \n",
       "1      MEDLGENTMVLSTLRSLNNFISQRVEGGSGLDISTSAPGSLQMQYQ...   \n",
       "2      MEDLGENTMVLSTLRSLNNFISQRVEGGSGLDISTSAPGSLQMQYQ...   \n",
       "3      MEDLGENTMVLSTLRSLNNFISQRVEGGSGLDISTSAPGSLQMQYQ...   \n",
       "4      MEDLGENTMVLSTLRSLNNFISQRVEGGSGLDISTSAPGSLQMQYQ...   \n",
       "...                                                  ...   \n",
       "21342  MKSRHHLNTRLLPLSILISALIPAAVLAAPSVAIPPPVQDLINQVQ...   \n",
       "21343  MKTWIARLLGKDISIDFPAPWAADSTAIYRWLATWPDSDGPLPAEA...   \n",
       "21344  MKQAFRVALGFLVLWASVLHAEVRIEITQGVDSARPIGVVPFKWMG...   \n",
       "21345  MSEFSQTVPELVAWARKNDFSITLPTERLAFLMAIAALNGERLDGE...   \n",
       "21346  MASSNRGNARPLKSFLHELYLKHYPEVGDVVHLLNTIGVDCDLPPS...   \n",
       "\n",
       "                                      Protein_B_sequence  \n",
       "0      MSGCPFLGNNFGYTFKKLPVEGSEEDKSQTGVNRASKGGLIYGNYL...  \n",
       "1      MEDLGENTMVLSTLRSLNNFISQRVEGGSGLDISTSAPGSLQMQYQ...  \n",
       "2      MTDDKDVLRDVWFGRIPTCFTLYQDEITEREAEPYYLLLPRVSYLT...  \n",
       "3      MADSKEGVLPLTAASTAPISFGFTRTSARRRLADSGDGAGPSPEEK...  \n",
       "4      MSRKISKESKKVNISSSLESEDISLETTVPTDDISSSEEREGKVRI...  \n",
       "...                                                  ...  \n",
       "21342  MAIFSVYVVNKAGGLIYQLDSYAPRAEAEKTFSYPLDLLLKLHDER...  \n",
       "21343  MGRRSTSSTKSGKFMNPTDQARKEARKRELKKNKKQRMMVRAAVLK...  \n",
       "21344  MAAAFRKAAKSRQREHRERSQPGFRKHLGLLEKKKDYKLRADDYRK...  \n",
       "21345  MGTPASGRKRTPVKDRFSAEDEALSNIAREAEARLAAKRAARAEAR...  \n",
       "21346  MWRSLGLALALCLLPSGGTESQDQSSLCKQPPAWSIRDQDPMLNSN...  \n",
       "\n",
       "[21347 rows x 4 columns]"
      ]
     },
     "execution_count": 223,
     "metadata": {},
     "output_type": "execute_result"
    }
   ],
   "source": [
    "test_data_pos.reset_index(drop = True)"
   ]
  },
  {
   "cell_type": "code",
   "execution_count": 221,
   "id": "b77f9366",
   "metadata": {},
   "outputs": [
    {
     "data": {
      "text/html": [
       "<div>\n",
       "<style scoped>\n",
       "    .dataframe tbody tr th:only-of-type {\n",
       "        vertical-align: middle;\n",
       "    }\n",
       "\n",
       "    .dataframe tbody tr th {\n",
       "        vertical-align: top;\n",
       "    }\n",
       "\n",
       "    .dataframe thead th {\n",
       "        text-align: right;\n",
       "    }\n",
       "</style>\n",
       "<table border=\"1\" class=\"dataframe\">\n",
       "  <thead>\n",
       "    <tr style=\"text-align: right;\">\n",
       "      <th></th>\n",
       "      <th>Protein_A</th>\n",
       "      <th>Protein_B</th>\n",
       "      <th>label</th>\n",
       "    </tr>\n",
       "  </thead>\n",
       "  <tbody>\n",
       "    <tr>\n",
       "      <th>0</th>\n",
       "      <td>PRO_23889</td>\n",
       "      <td>PRO_23995</td>\n",
       "      <td>0</td>\n",
       "    </tr>\n",
       "    <tr>\n",
       "      <th>1</th>\n",
       "      <td>PRO_23995</td>\n",
       "      <td>PRO_23889</td>\n",
       "      <td>0</td>\n",
       "    </tr>\n",
       "    <tr>\n",
       "      <th>2</th>\n",
       "      <td>PRO_10025</td>\n",
       "      <td>PRO_13020</td>\n",
       "      <td>0</td>\n",
       "    </tr>\n",
       "    <tr>\n",
       "      <th>3</th>\n",
       "      <td>PRO_23639</td>\n",
       "      <td>PRO_23650</td>\n",
       "      <td>0</td>\n",
       "    </tr>\n",
       "    <tr>\n",
       "      <th>4</th>\n",
       "      <td>PRO_23685</td>\n",
       "      <td>PRO_23742</td>\n",
       "      <td>0</td>\n",
       "    </tr>\n",
       "    <tr>\n",
       "      <th>...</th>\n",
       "      <td>...</td>\n",
       "      <td>...</td>\n",
       "      <td>...</td>\n",
       "    </tr>\n",
       "    <tr>\n",
       "      <th>212437</th>\n",
       "      <td>PRO_11969</td>\n",
       "      <td>PRO_16870</td>\n",
       "      <td>0</td>\n",
       "    </tr>\n",
       "    <tr>\n",
       "      <th>212438</th>\n",
       "      <td>PRO_2554</td>\n",
       "      <td>PRO_3073</td>\n",
       "      <td>0</td>\n",
       "    </tr>\n",
       "    <tr>\n",
       "      <th>212439</th>\n",
       "      <td>PRO_15478</td>\n",
       "      <td>PRO_18292</td>\n",
       "      <td>0</td>\n",
       "    </tr>\n",
       "    <tr>\n",
       "      <th>212440</th>\n",
       "      <td>PRO_1011</td>\n",
       "      <td>PRO_16240</td>\n",
       "      <td>0</td>\n",
       "    </tr>\n",
       "    <tr>\n",
       "      <th>212441</th>\n",
       "      <td>PRO_23909</td>\n",
       "      <td>PRO_4129</td>\n",
       "      <td>0</td>\n",
       "    </tr>\n",
       "  </tbody>\n",
       "</table>\n",
       "<p>212442 rows × 3 columns</p>\n",
       "</div>"
      ],
      "text/plain": [
       "        Protein_A  Protein_B  label\n",
       "0       PRO_23889  PRO_23995      0\n",
       "1       PRO_23995  PRO_23889      0\n",
       "2       PRO_10025  PRO_13020      0\n",
       "3       PRO_23639  PRO_23650      0\n",
       "4       PRO_23685  PRO_23742      0\n",
       "...           ...        ...    ...\n",
       "212437  PRO_11969  PRO_16870      0\n",
       "212438   PRO_2554   PRO_3073      0\n",
       "212439  PRO_15478  PRO_18292      0\n",
       "212440   PRO_1011  PRO_16240      0\n",
       "212441  PRO_23909   PRO_4129      0\n",
       "\n",
       "[212442 rows x 3 columns]"
      ]
     },
     "execution_count": 221,
     "metadata": {},
     "output_type": "execute_result"
    }
   ],
   "source": [
    "test_set_1"
   ]
  },
  {
   "cell_type": "code",
   "execution_count": 215,
   "id": "d997bc5d",
   "metadata": {},
   "outputs": [
    {
     "name": "stderr",
     "output_type": "stream",
     "text": [
      "  0%|                                                   | 240/424884 [00:00<05:37, 1258.15it/s]"
     ]
    },
    {
     "name": "stdout",
     "output_type": "stream",
     "text": [
      "['PRO_10588', 'PRO_10588']\n",
      "['PRO_3142', 'PRO_19666']\n",
      "['PRO_2611', 'PRO_2906']\n",
      "['PRO_19666', 'PRO_2631']\n",
      "['PRO_4144', 'PRO_22947']\n",
      "['PRO_16857', 'PRO_21623']\n",
      "['PRO_12373', 'PRO_19666']\n",
      "['PRO_2611', 'PRO_4144']\n",
      "['PRO_16857', 'PRO_10588']\n",
      "['PRO_2906', 'PRO_22947']\n",
      "['PRO_2906', 'PRO_12854']\n",
      "['PRO_4144', 'PRO_12854']\n"
     ]
    },
    {
     "name": "stderr",
     "output_type": "stream",
     "text": [
      " 50%|████████████████████████                        | 212775/424884 [02:11<02:11, 1609.98it/s]"
     ]
    },
    {
     "name": "stdout",
     "output_type": "stream",
     "text": [
      "['PRO_10588', 'PRO_10588']\n",
      "['PRO_19666', 'PRO_3142']\n",
      "['PRO_2906', 'PRO_2611']\n",
      "['PRO_2631', 'PRO_19666']\n",
      "['PRO_22947', 'PRO_4144']\n",
      "['PRO_21623', 'PRO_16857']\n",
      "['PRO_19666', 'PRO_12373']\n",
      "['PRO_4144', 'PRO_2611']\n",
      "['PRO_10588', 'PRO_16857']\n",
      "['PRO_22947', 'PRO_2906']\n",
      "['PRO_12854', 'PRO_2906']\n",
      "['PRO_12854', 'PRO_4144']\n"
     ]
    },
    {
     "name": "stderr",
     "output_type": "stream",
     "text": [
      "100%|████████████████████████████████████████████████| 424884/424884 [04:28<00:00, 1584.58it/s]\n"
     ]
    }
   ],
   "source": [
    "for i in tqdm(all_pairs_neg_test_set):\n",
    "    \n",
    "    if i in positive_test_set_pairs:\n",
    "         print(i)\n",
    "         \n",
    "        "
   ]
  },
  {
   "cell_type": "code",
   "execution_count": 228,
   "id": "0618e3a0",
   "metadata": {},
   "outputs": [],
   "source": [
    "x = [['PRO_10588', 'PRO_10588'],['PRO_3142', 'PRO_19666'],['PRO_2611', 'PRO_2906'],['PRO_19666', 'PRO_2631'],['PRO_4144', 'PRO_22947'],['PRO_16857', 'PRO_21623'],['PRO_12373', 'PRO_19666'],['PRO_2611', 'PRO_4144'],['PRO_16857', 'PRO_10588'],['PRO_2906', 'PRO_22947'],['PRO_2906', 'PRO_12854'],['PRO_4144', 'PRO_12854']]"
   ]
  },
  {
   "cell_type": "code",
   "execution_count": 237,
   "id": "76500827",
   "metadata": {},
   "outputs": [],
   "source": [
    "l = [[k,j] for j,k in x]\n",
    "l.extend(x)\n",
    "\n"
   ]
  },
  {
   "cell_type": "code",
   "execution_count": 244,
   "id": "cee37e9f",
   "metadata": {},
   "outputs": [
    {
     "name": "stderr",
     "output_type": "stream",
     "text": [
      " 47%|█████████████████████▊                        | 101298/213470 [00:00<00:00, 541013.68it/s]"
     ]
    },
    {
     "name": "stdout",
     "output_type": "stream",
     "text": [
      "['PRO_10588', 'PRO_10588']\n",
      "['PRO_3142', 'PRO_19666']\n",
      "['PRO_2611', 'PRO_2906']\n",
      "['PRO_19666', 'PRO_2631']\n",
      "['PRO_4144', 'PRO_22947']\n",
      "['PRO_16857', 'PRO_21623']\n",
      "['PRO_12373', 'PRO_19666']\n",
      "['PRO_2611', 'PRO_4144']\n",
      "['PRO_16857', 'PRO_10588']\n",
      "['PRO_2906', 'PRO_22947']\n",
      "['PRO_2906', 'PRO_12854']\n",
      "['PRO_4144', 'PRO_12854']\n"
     ]
    },
    {
     "name": "stderr",
     "output_type": "stream",
     "text": [
      "100%|██████████████████████████████████████████████| 213470/213470 [00:00<00:00, 655659.95it/s]\n"
     ]
    }
   ],
   "source": [
    "final_neg_pairs = []\n",
    "for i in tqdm(neg_test_set_pairs):\n",
    "    \n",
    "    if i in l:\n",
    "        print(i)\n",
    "        continue\n",
    "       \n",
    "    else:\n",
    "        final_neg_pairs.append(i)\n",
    "        \n",
    "         "
   ]
  },
  {
   "cell_type": "code",
   "execution_count": 246,
   "id": "d06c3e1b",
   "metadata": {},
   "outputs": [
    {
     "name": "stderr",
     "output_type": "stream",
     "text": [
      "100%|████████████████████████████████████████████████| 213458/213458 [02:19<00:00, 1535.56it/s]\n"
     ]
    }
   ],
   "source": [
    "for i in tqdm(final_neg_pairs):\n",
    "    \n",
    "    if i in positive_test_set_pairs:\n",
    "         print(i)"
   ]
  },
  {
   "cell_type": "code",
   "execution_count": 245,
   "id": "0b22bbbf",
   "metadata": {},
   "outputs": [
    {
     "data": {
      "text/plain": [
       "[['PRO_23889', 'PRO_23995'],\n",
       " ['PRO_23889', 'PRO_23995'],\n",
       " ['PRO_23995', 'PRO_23889'],\n",
       " ['PRO_10025', 'PRO_13020'],\n",
       " ['PRO_23639', 'PRO_23650'],\n",
       " ['PRO_23685', 'PRO_23742'],\n",
       " ['PRO_23685', 'PRO_23611'],\n",
       " ['PRO_23952', 'PRO_23957'],\n",
       " ['PRO_23569', 'PRO_23957'],\n",
       " ['PRO_23349', 'PRO_2877'],\n",
       " ['PRO_23349', 'PRO_23795'],\n",
       " ['PRO_3423', 'PRO_19339'],\n",
       " ['PRO_23976', 'PRO_1456'],\n",
       " ['PRO_16748', 'PRO_23489'],\n",
       " ['PRO_20764', 'PRO_4043'],\n",
       " ['PRO_10335', 'PRO_203'],\n",
       " ['PRO_23618', 'PRO_23616'],\n",
       " ['PRO_4513', 'PRO_12313'],\n",
       " ['PRO_23489', 'PRO_16748'],\n",
       " ['PRO_23745', 'PRO_23632'],\n",
       " ['PRO_23909', 'PRO_23632'],\n",
       " ['PRO_23745', 'PRO_23711'],\n",
       " ['PRO_23909', 'PRO_23711'],\n",
       " ['PRO_23745', 'PRO_23944'],\n",
       " ['PRO_23909', 'PRO_23944'],\n",
       " ['PRO_23745', 'PRO_23667'],\n",
       " ['PRO_23909', 'PRO_23667'],\n",
       " ['PRO_1192', 'PRO_22487'],\n",
       " ['PRO_23965', 'PRO_23895'],\n",
       " ['PRO_23962', 'PRO_23706'],\n",
       " ['PRO_23625', 'PRO_23778'],\n",
       " ['PRO_23631', 'PRO_23874'],\n",
       " ['PRO_23887', 'PRO_23874'],\n",
       " ['PRO_16201', 'PRO_4190'],\n",
       " ['PRO_21024', 'PRO_21024'],\n",
       " ['PRO_21024', 'PRO_3829'],\n",
       " ['PRO_12373', 'PRO_12373'],\n",
       " ['PRO_2631', 'PRO_2631'],\n",
       " ['PRO_10712', 'PRO_16412'],\n",
       " ['PRO_22537', 'PRO_22537'],\n",
       " ['PRO_15208', 'PRO_22537'],\n",
       " ['PRO_16412', 'PRO_19089'],\n",
       " ['PRO_353', 'PRO_22770'],\n",
       " ['PRO_353', 'PRO_3829'],\n",
       " ['PRO_2515', 'PRO_4324'],\n",
       " ['PRO_21024', 'PRO_353'],\n",
       " ['PRO_19666', 'PRO_19666'],\n",
       " ['PRO_1456', 'PRO_16412'],\n",
       " ['PRO_16412', 'PRO_15571'],\n",
       " ['PRO_21024', 'PRO_17333'],\n",
       " ['PRO_14124', 'PRO_14124'],\n",
       " ['PRO_20215', 'PRO_20215'],\n",
       " ['PRO_16857', 'PRO_16857'],\n",
       " ['PRO_10712', 'PRO_19089'],\n",
       " ['PRO_22345', 'PRO_15484'],\n",
       " ['PRO_21024', 'PRO_22770'],\n",
       " ['PRO_19089', 'PRO_19089'],\n",
       " ['PRO_3829', 'PRO_3829'],\n",
       " ['PRO_10712', 'PRO_1456'],\n",
       " ['PRO_3829', 'PRO_22770'],\n",
       " ['PRO_1456', 'PRO_19905'],\n",
       " ['PRO_15208', 'PRO_18299'],\n",
       " ['PRO_16412', 'PRO_19905'],\n",
       " ['PRO_18299', 'PRO_20215'],\n",
       " ['PRO_1456', 'PRO_15571'],\n",
       " ['PRO_22537', 'PRO_20215'],\n",
       " ['PRO_15571', 'PRO_19089'],\n",
       " ['PRO_16321', 'PRO_19486'],\n",
       " ['PRO_10712', 'PRO_15571'],\n",
       " ['PRO_19665', 'PRO_16522'],\n",
       " ['PRO_3142', 'PRO_3142'],\n",
       " ['PRO_15208', 'PRO_20215'],\n",
       " ['PRO_16412', 'PRO_16412'],\n",
       " ['PRO_10712', 'PRO_19905'],\n",
       " ['PRO_1456', 'PRO_19089'],\n",
       " ['PRO_19905', 'PRO_19905'],\n",
       " ['PRO_10712', 'PRO_10712'],\n",
       " ['PRO_20054', 'PRO_20054'],\n",
       " ['PRO_21028', 'PRO_10929'],\n",
       " ['PRO_21190', 'PRO_23274'],\n",
       " ['PRO_22802', 'PRO_14358'],\n",
       " ['PRO_20134', 'PRO_10047'],\n",
       " ['PRO_160', 'PRO_11674'],\n",
       " ['PRO_15209', 'PRO_3760'],\n",
       " ['PRO_17969', 'PRO_195'],\n",
       " ['PRO_15635', 'PRO_20138'],\n",
       " ['PRO_17299', 'PRO_17294'],\n",
       " ['PRO_10276', 'PRO_21475'],\n",
       " ['PRO_15127', 'PRO_12402'],\n",
       " ['PRO_14483', 'PRO_21632'],\n",
       " ['PRO_1906', 'PRO_15928'],\n",
       " ['PRO_2703', 'PRO_2297'],\n",
       " ['PRO_17265', 'PRO_16059'],\n",
       " ['PRO_16959', 'PRO_22587'],\n",
       " ['PRO_17701', 'PRO_20802'],\n",
       " ['PRO_12735', 'PRO_16996'],\n",
       " ['PRO_1559', 'PRO_15123'],\n",
       " ['PRO_13743', 'PRO_19709'],\n",
       " ['PRO_23421', 'PRO_3741'],\n",
       " ['PRO_2421', 'PRO_14564'],\n",
       " ['PRO_4273', 'PRO_13443'],\n",
       " ['PRO_23089', 'PRO_3739'],\n",
       " ['PRO_14359', 'PRO_20991'],\n",
       " ['PRO_3401', 'PRO_1388'],\n",
       " ['PRO_14483', 'PRO_13693'],\n",
       " ['PRO_4293', 'PRO_12072'],\n",
       " ['PRO_20624', 'PRO_17179'],\n",
       " ['PRO_1383', 'PRO_19412'],\n",
       " ['PRO_12565', 'PRO_19727'],\n",
       " ['PRO_12617', 'PRO_10396'],\n",
       " ['PRO_2951', 'PRO_22346'],\n",
       " ['PRO_2054', 'PRO_18700'],\n",
       " ['PRO_2746', 'PRO_10334'],\n",
       " ['PRO_15952', 'PRO_20969'],\n",
       " ['PRO_17902', 'PRO_22201'],\n",
       " ['PRO_18067', 'PRO_19675'],\n",
       " ['PRO_15235', 'PRO_15077'],\n",
       " ['PRO_22404', 'PRO_2338'],\n",
       " ['PRO_3172', 'PRO_16337'],\n",
       " ['PRO_17439', 'PRO_11024'],\n",
       " ['PRO_10633', 'PRO_13822'],\n",
       " ['PRO_3198', 'PRO_284'],\n",
       " ['PRO_1985', 'PRO_12060'],\n",
       " ['PRO_4175', 'PRO_23096'],\n",
       " ['PRO_10000', 'PRO_17863'],\n",
       " ['PRO_17271', 'PRO_18967'],\n",
       " ['PRO_14237', 'PRO_14888'],\n",
       " ['PRO_17237', 'PRO_17118'],\n",
       " ['PRO_1731', 'PRO_12778'],\n",
       " ['PRO_10672', 'PRO_1905'],\n",
       " ['PRO_2819', 'PRO_13040'],\n",
       " ['PRO_21005', 'PRO_20774'],\n",
       " ['PRO_3577', 'PRO_12205'],\n",
       " ['PRO_19944', 'PRO_19147'],\n",
       " ['PRO_3826', 'PRO_12313'],\n",
       " ['PRO_17592', 'PRO_10323'],\n",
       " ['PRO_22485', 'PRO_10278'],\n",
       " ['PRO_16875', 'PRO_14127'],\n",
       " ['PRO_11391', 'PRO_14859'],\n",
       " ['PRO_16025', 'PRO_17129'],\n",
       " ['PRO_2359', 'PRO_19719'],\n",
       " ['PRO_2932', 'PRO_10427'],\n",
       " ['PRO_12267', 'PRO_1093'],\n",
       " ['PRO_21225', 'PRO_22690'],\n",
       " ['PRO_15991', 'PRO_4669'],\n",
       " ['PRO_14622', 'PRO_20535'],\n",
       " ['PRO_1279', 'PRO_17422'],\n",
       " ['PRO_14041', 'PRO_20544'],\n",
       " ['PRO_10091', 'PRO_13737'],\n",
       " ['PRO_13013', 'PRO_16495'],\n",
       " ['PRO_422', 'PRO_12979'],\n",
       " ['PRO_18874', 'PRO_14003'],\n",
       " ['PRO_17421', 'PRO_15088'],\n",
       " ['PRO_19467', 'PRO_20180'],\n",
       " ['PRO_15421', 'PRO_16371'],\n",
       " ['PRO_21140', 'PRO_10160'],\n",
       " ['PRO_19314', 'PRO_21615'],\n",
       " ['PRO_21768', 'PRO_21697'],\n",
       " ['PRO_22691', 'PRO_17909'],\n",
       " ['PRO_18610', 'PRO_4069'],\n",
       " ['PRO_2567', 'PRO_15547'],\n",
       " ['PRO_3873', 'PRO_3105'],\n",
       " ['PRO_12320', 'PRO_3413'],\n",
       " ['PRO_19767', 'PRO_22227'],\n",
       " ['PRO_2588', 'PRO_13826'],\n",
       " ['PRO_3739', 'PRO_11651'],\n",
       " ['PRO_20138', 'PRO_17407'],\n",
       " ['PRO_22106', 'PRO_15174'],\n",
       " ['PRO_20239', 'PRO_1304'],\n",
       " ['PRO_20418', 'PRO_16411'],\n",
       " ['PRO_3042', 'PRO_13721'],\n",
       " ['PRO_19808', 'PRO_22255'],\n",
       " ['PRO_15732', 'PRO_22789'],\n",
       " ['PRO_23667', 'PRO_19102'],\n",
       " ['PRO_12689', 'PRO_2646'],\n",
       " ['PRO_14787', 'PRO_23361'],\n",
       " ['PRO_11280', 'PRO_18455'],\n",
       " ['PRO_18215', 'PRO_15943'],\n",
       " ['PRO_22938', 'PRO_22942'],\n",
       " ['PRO_18367', 'PRO_21380'],\n",
       " ['PRO_2809', 'PRO_2056'],\n",
       " ['PRO_13849', 'PRO_10393'],\n",
       " ['PRO_11018', 'PRO_19760'],\n",
       " ['PRO_3075', 'PRO_4459'],\n",
       " ['PRO_13265', 'PRO_3686'],\n",
       " ['PRO_10001', 'PRO_20105'],\n",
       " ['PRO_17850', 'PRO_3324'],\n",
       " ['PRO_20889', 'PRO_2533'],\n",
       " ['PRO_4704', 'PRO_11518'],\n",
       " ['PRO_3031', 'PRO_1538'],\n",
       " ['PRO_18067', 'PRO_19501'],\n",
       " ['PRO_21738', 'PRO_17813'],\n",
       " ['PRO_20728', 'PRO_18112'],\n",
       " ['PRO_14680', 'PRO_22105'],\n",
       " ['PRO_1881', 'PRO_2728'],\n",
       " ['PRO_17907', 'PRO_12198'],\n",
       " ['PRO_2519', 'PRO_21494'],\n",
       " ['PRO_23667', 'PRO_15451'],\n",
       " ['PRO_21451', 'PRO_4376'],\n",
       " ['PRO_15776', 'PRO_16903'],\n",
       " ['PRO_21451', 'PRO_14347'],\n",
       " ['PRO_13927', 'PRO_16734'],\n",
       " ['PRO_4067', 'PRO_19950'],\n",
       " ['PRO_17059', 'PRO_22629'],\n",
       " ['PRO_1572', 'PRO_22486'],\n",
       " ['PRO_12542', 'PRO_2644'],\n",
       " ['PRO_4637', 'PRO_3101'],\n",
       " ['PRO_2744', 'PRO_21639'],\n",
       " ['PRO_2300', 'PRO_11696'],\n",
       " ['PRO_12460', 'PRO_13279'],\n",
       " ['PRO_21743', 'PRO_17220'],\n",
       " ['PRO_22991', 'PRO_3811'],\n",
       " ['PRO_18290', 'PRO_21380'],\n",
       " ['PRO_17863', 'PRO_15698'],\n",
       " ['PRO_4661', 'PRO_18904'],\n",
       " ['PRO_12694', 'PRO_10804'],\n",
       " ['PRO_20322', 'PRO_21048'],\n",
       " ['PRO_13787', 'PRO_21056'],\n",
       " ['PRO_1108', 'PRO_19908'],\n",
       " ['PRO_10427', 'PRO_13907'],\n",
       " ['PRO_13691', 'PRO_13195'],\n",
       " ['PRO_14483', 'PRO_15062'],\n",
       " ['PRO_18119', 'PRO_14298'],\n",
       " ['PRO_21670', 'PRO_19802'],\n",
       " ['PRO_16469', 'PRO_19742'],\n",
       " ['PRO_20995', 'PRO_14506'],\n",
       " ['PRO_13420', 'PRO_19816'],\n",
       " ['PRO_10930', 'PRO_2184'],\n",
       " ['PRO_3126', 'PRO_10396'],\n",
       " ['PRO_20544', 'PRO_392'],\n",
       " ['PRO_3166', 'PRO_3180'],\n",
       " ['PRO_16686', 'PRO_4472'],\n",
       " ['PRO_11430', 'PRO_20083'],\n",
       " ['PRO_20268', 'PRO_16072'],\n",
       " ['PRO_11286', 'PRO_12279'],\n",
       " ['PRO_4087', 'PRO_12137'],\n",
       " ['PRO_443', 'PRO_23332'],\n",
       " ['PRO_17760', 'PRO_14647'],\n",
       " ['PRO_20594', 'PRO_16734'],\n",
       " ['PRO_12826', 'PRO_14251'],\n",
       " ['PRO_12415', 'PRO_14107'],\n",
       " ['PRO_23778', 'PRO_35'],\n",
       " ['PRO_17179', 'PRO_13241'],\n",
       " ['PRO_13993', 'PRO_12572'],\n",
       " ['PRO_17141', 'PRO_1970'],\n",
       " ['PRO_18757', 'PRO_180'],\n",
       " ['PRO_10680', 'PRO_18128'],\n",
       " ['PRO_21753', 'PRO_14280'],\n",
       " ['PRO_3792', 'PRO_15733'],\n",
       " ['PRO_20799', 'PRO_20500'],\n",
       " ['PRO_13155', 'PRO_10334'],\n",
       " ['PRO_17863', 'PRO_17711'],\n",
       " ['PRO_12793', 'PRO_21117'],\n",
       " ['PRO_2021', 'PRO_14026'],\n",
       " ['PRO_16289', 'PRO_2473'],\n",
       " ['PRO_3273', 'PRO_12747'],\n",
       " ['PRO_15077', 'PRO_23611'],\n",
       " ['PRO_10322', 'PRO_1235'],\n",
       " ['PRO_3522', 'PRO_21833'],\n",
       " ['PRO_10577', 'PRO_1988'],\n",
       " ['PRO_1537', 'PRO_21706'],\n",
       " ['PRO_13567', 'PRO_16981'],\n",
       " ['PRO_15567', 'PRO_21539'],\n",
       " ['PRO_20370', 'PRO_13407'],\n",
       " ['PRO_21171', 'PRO_15460'],\n",
       " ['PRO_15142', 'PRO_12908'],\n",
       " ['PRO_19348', 'PRO_10954'],\n",
       " ['PRO_20175', 'PRO_10348'],\n",
       " ['PRO_15611', 'PRO_383'],\n",
       " ['PRO_18753', 'PRO_18403'],\n",
       " ['PRO_10534', 'PRO_19350'],\n",
       " ['PRO_17817', 'PRO_18355'],\n",
       " ['PRO_10696', 'PRO_17934'],\n",
       " ['PRO_3413', 'PRO_11674'],\n",
       " ['PRO_17602', 'PRO_14994'],\n",
       " ['PRO_15091', 'PRO_14558'],\n",
       " ['PRO_4626', 'PRO_13734'],\n",
       " ['PRO_2819', 'PRO_16268'],\n",
       " ['PRO_10282', 'PRO_4439'],\n",
       " ['PRO_3723', 'PRO_21538'],\n",
       " ['PRO_14395', 'PRO_2590'],\n",
       " ['PRO_1886', 'PRO_11333'],\n",
       " ['PRO_2058', 'PRO_17986'],\n",
       " ['PRO_12538', 'PRO_22035'],\n",
       " ['PRO_14080', 'PRO_17711'],\n",
       " ['PRO_14395', 'PRO_4337'],\n",
       " ['PRO_2036', 'PRO_20004'],\n",
       " ['PRO_19242', 'PRO_17969'],\n",
       " ['PRO_21382', 'PRO_22194'],\n",
       " ['PRO_16098', 'PRO_23632'],\n",
       " ['PRO_2015', 'PRO_13790'],\n",
       " ['PRO_12579', 'PRO_16010'],\n",
       " ['PRO_14366', 'PRO_18694'],\n",
       " ['PRO_3746', 'PRO_14587'],\n",
       " ['PRO_13707', 'PRO_15036'],\n",
       " ['PRO_3538', 'PRO_19455'],\n",
       " ['PRO_14979', 'PRO_11208'],\n",
       " ['PRO_15089', 'PRO_20238'],\n",
       " ['PRO_1362', 'PRO_21186'],\n",
       " ['PRO_14107', 'PRO_22657'],\n",
       " ['PRO_10546', 'PRO_21813'],\n",
       " ['PRO_14515', 'PRO_1208'],\n",
       " ['PRO_15925', 'PRO_18265'],\n",
       " ['PRO_20618', 'PRO_13961'],\n",
       " ['PRO_20429', 'PRO_3306'],\n",
       " ['PRO_13353', 'PRO_17688'],\n",
       " ['PRO_14744', 'PRO_19154'],\n",
       " ['PRO_4312', 'PRO_2207'],\n",
       " ['PRO_4087', 'PRO_10017'],\n",
       " ['PRO_22879', 'PRO_10534'],\n",
       " ['PRO_14032', 'PRO_15762'],\n",
       " ['PRO_19964', 'PRO_15418'],\n",
       " ['PRO_16316', 'PRO_21454'],\n",
       " ['PRO_11296', 'PRO_1836'],\n",
       " ['PRO_16392', 'PRO_10176'],\n",
       " ['PRO_18686', 'PRO_11935'],\n",
       " ['PRO_2283', 'PRO_11969'],\n",
       " ['PRO_141', 'PRO_1104'],\n",
       " ['PRO_11575', 'PRO_21541'],\n",
       " ['PRO_1928', 'PRO_16636'],\n",
       " ['PRO_17496', 'PRO_1274'],\n",
       " ['PRO_13136', 'PRO_19596'],\n",
       " ['PRO_22106', 'PRO_12406'],\n",
       " ['PRO_13961', 'PRO_10546'],\n",
       " ['PRO_2800', 'PRO_10237'],\n",
       " ['PRO_19955', 'PRO_20215'],\n",
       " ['PRO_1243', 'PRO_16748'],\n",
       " ['PRO_17583', 'PRO_19148'],\n",
       " ['PRO_3084', 'PRO_2874'],\n",
       " ['PRO_10726', 'PRO_18575'],\n",
       " ['PRO_13503', 'PRO_4140'],\n",
       " ['PRO_21966', 'PRO_21743'],\n",
       " ['PRO_11112', 'PRO_13067'],\n",
       " ['PRO_20260', 'PRO_3831'],\n",
       " ['PRO_2543', 'PRO_17447'],\n",
       " ['PRO_12435', 'PRO_20218'],\n",
       " ['PRO_2408', 'PRO_1955'],\n",
       " ['PRO_21778', 'PRO_18379'],\n",
       " ['PRO_2202', 'PRO_16863'],\n",
       " ['PRO_13615', 'PRO_2799'],\n",
       " ['PRO_10653', 'PRO_17317'],\n",
       " ['PRO_21413', 'PRO_22583'],\n",
       " ['PRO_278', 'PRO_19655'],\n",
       " ['PRO_23632', 'PRO_19777'],\n",
       " ['PRO_12839', 'PRO_20886'],\n",
       " ['PRO_10930', 'PRO_19333'],\n",
       " ['PRO_1933', 'PRO_15400'],\n",
       " ['PRO_3542', 'PRO_17265'],\n",
       " ['PRO_21317', 'PRO_11843'],\n",
       " ['PRO_21490', 'PRO_15316'],\n",
       " ['PRO_12856', 'PRO_1169'],\n",
       " ['PRO_20969', 'PRO_15144'],\n",
       " ['PRO_251', 'PRO_22139'],\n",
       " ['PRO_11376', 'PRO_1133'],\n",
       " ['PRO_16367', 'PRO_20173'],\n",
       " ['PRO_12609', 'PRO_19308'],\n",
       " ['PRO_1507', 'PRO_12643'],\n",
       " ['PRO_1790', 'PRO_22962'],\n",
       " ['PRO_15610', 'PRO_20321'],\n",
       " ['PRO_17302', 'PRO_10020'],\n",
       " ['PRO_1091', 'PRO_2567'],\n",
       " ['PRO_23364', 'PRO_22100'],\n",
       " ['PRO_3748', 'PRO_19804'],\n",
       " ['PRO_19251', 'PRO_1076'],\n",
       " ['PRO_14577', 'PRO_3031'],\n",
       " ['PRO_21518', 'PRO_11432'],\n",
       " ['PRO_22840', 'PRO_21743'],\n",
       " ['PRO_18294', 'PRO_12260'],\n",
       " ['PRO_14964', 'PRO_18826'],\n",
       " ['PRO_3077', 'PRO_17960'],\n",
       " ['PRO_16959', 'PRO_3994'],\n",
       " ['PRO_2985', 'PRO_19665'],\n",
       " ['PRO_17754', 'PRO_22890'],\n",
       " ['PRO_18848', 'PRO_10270'],\n",
       " ['PRO_1822', 'PRO_16643'],\n",
       " ['PRO_15414', 'PRO_17234'],\n",
       " ['PRO_23667', 'PRO_21478'],\n",
       " ['PRO_4597', 'PRO_10699'],\n",
       " ['PRO_12565', 'PRO_23114'],\n",
       " ['PRO_16201', 'PRO_22208'],\n",
       " ['PRO_23397', 'PRO_16060'],\n",
       " ['PRO_19349', 'PRO_13777'],\n",
       " ['PRO_3998', 'PRO_11316'],\n",
       " ['PRO_12735', 'PRO_18110'],\n",
       " ['PRO_22843', 'PRO_4372'],\n",
       " ['PRO_19546', 'PRO_4067'],\n",
       " ['PRO_13323', 'PRO_2097'],\n",
       " ['PRO_18151', 'PRO_15574'],\n",
       " ['PRO_15359', 'PRO_13044'],\n",
       " ['PRO_14024', 'PRO_21257'],\n",
       " ['PRO_2366', 'PRO_10120'],\n",
       " ['PRO_13983', 'PRO_12422'],\n",
       " ['PRO_3306', 'PRO_22377'],\n",
       " ['PRO_10115', 'PRO_17240'],\n",
       " ['PRO_16265', 'PRO_1155'],\n",
       " ['PRO_14556', 'PRO_13570'],\n",
       " ['PRO_21960', 'PRO_22533'],\n",
       " ['PRO_4425', 'PRO_20619'],\n",
       " ['PRO_1437', 'PRO_16146'],\n",
       " ['PRO_1479', 'PRO_18586'],\n",
       " ['PRO_12401', 'PRO_22507'],\n",
       " ['PRO_3535', 'PRO_11056'],\n",
       " ['PRO_23616', 'PRO_20267'],\n",
       " ['PRO_20781', 'PRO_15253'],\n",
       " ['PRO_12749', 'PRO_13344'],\n",
       " ['PRO_11802', 'PRO_21164'],\n",
       " ['PRO_18708', 'PRO_1517'],\n",
       " ['PRO_12750', 'PRO_15023'],\n",
       " ['PRO_1828', 'PRO_3122'],\n",
       " ['PRO_4288', 'PRO_3411'],\n",
       " ['PRO_16569', 'PRO_13964'],\n",
       " ['PRO_1319', 'PRO_22538'],\n",
       " ['PRO_4493', 'PRO_12539'],\n",
       " ['PRO_2449', 'PRO_19250'],\n",
       " ['PRO_13255', 'PRO_12989'],\n",
       " ['PRO_10983', 'PRO_20380'],\n",
       " ['PRO_14397', 'PRO_10311'],\n",
       " ['PRO_12925', 'PRO_17125'],\n",
       " ['PRO_14647', 'PRO_12061'],\n",
       " ['PRO_10017', 'PRO_21527'],\n",
       " ['PRO_17334', 'PRO_21412'],\n",
       " ['PRO_2859', 'PRO_11649'],\n",
       " ['PRO_2025', 'PRO_14856'],\n",
       " ['PRO_14674', 'PRO_1562'],\n",
       " ['PRO_14707', 'PRO_13110'],\n",
       " ['PRO_21046', 'PRO_22143'],\n",
       " ['PRO_20360', 'PRO_13345'],\n",
       " ['PRO_399', 'PRO_11203'],\n",
       " ['PRO_12784', 'PRO_15469'],\n",
       " ['PRO_421', 'PRO_3231'],\n",
       " ['PRO_13953', 'PRO_12373'],\n",
       " ['PRO_18967', 'PRO_10696'],\n",
       " ['PRO_21935', 'PRO_2763'],\n",
       " ['PRO_2766', 'PRO_13514'],\n",
       " ['PRO_10606', 'PRO_13329'],\n",
       " ['PRO_17005', 'PRO_21622'],\n",
       " ['PRO_2746', 'PRO_19814'],\n",
       " ['PRO_16784', 'PRO_14032'],\n",
       " ['PRO_10993', 'PRO_18128'],\n",
       " ['PRO_1279', 'PRO_3809'],\n",
       " ['PRO_18276', 'PRO_18611'],\n",
       " ['PRO_20117', 'PRO_17198'],\n",
       " ['PRO_11257', 'PRO_3496'],\n",
       " ['PRO_14925', 'PRO_10185'],\n",
       " ['PRO_16870', 'PRO_14520'],\n",
       " ['PRO_11095', 'PRO_21880'],\n",
       " ['PRO_4107', 'PRO_23019'],\n",
       " ['PRO_17927', 'PRO_12975'],\n",
       " ['PRO_2304', 'PRO_12631'],\n",
       " ['PRO_17671', 'PRO_13313'],\n",
       " ['PRO_12005', 'PRO_22598'],\n",
       " ['PRO_16404', 'PRO_14397'],\n",
       " ['PRO_12072', 'PRO_16607'],\n",
       " ['PRO_10694', 'PRO_28'],\n",
       " ['PRO_19306', 'PRO_14287'],\n",
       " ['PRO_14929', 'PRO_13787'],\n",
       " ['PRO_17283', 'PRO_4558'],\n",
       " ['PRO_10626', 'PRO_18793'],\n",
       " ['PRO_23284', 'PRO_1559'],\n",
       " ['PRO_22086', 'PRO_17003'],\n",
       " ['PRO_22286', 'PRO_15145'],\n",
       " ['PRO_13447', 'PRO_21622'],\n",
       " ['PRO_22317', 'PRO_17346'],\n",
       " ['PRO_4376', 'PRO_14888'],\n",
       " ['PRO_15216', 'PRO_10105'],\n",
       " ['PRO_1930', 'PRO_10697'],\n",
       " ['PRO_251', 'PRO_10894'],\n",
       " ['PRO_2244', 'PRO_3306'],\n",
       " ['PRO_14408', 'PRO_1574'],\n",
       " ['PRO_22347', 'PRO_18538'],\n",
       " ['PRO_1379', 'PRO_13190'],\n",
       " ['PRO_19295', 'PRO_2970'],\n",
       " ['PRO_13822', 'PRO_22620'],\n",
       " ['PRO_16933', 'PRO_15600'],\n",
       " ['PRO_18250', 'PRO_18060'],\n",
       " ['PRO_11229', 'PRO_15776'],\n",
       " ['PRO_12363', 'PRO_3678'],\n",
       " ['PRO_1033', 'PRO_12084'],\n",
       " ['PRO_12937', 'PRO_10088'],\n",
       " ['PRO_15754', 'PRO_11124'],\n",
       " ['PRO_3994', 'PRO_1835'],\n",
       " ['PRO_3075', 'PRO_10929'],\n",
       " ['PRO_20170', 'PRO_15486'],\n",
       " ['PRO_11035', 'PRO_3131'],\n",
       " ['PRO_10792', 'PRO_3303'],\n",
       " ['PRO_18379', 'PRO_4094'],\n",
       " ['PRO_18771', 'PRO_22400'],\n",
       " ['PRO_3262', 'PRO_15235'],\n",
       " ['PRO_11802', 'PRO_4542'],\n",
       " ['PRO_4043', 'PRO_15052'],\n",
       " ['PRO_1251', 'PRO_16863'],\n",
       " ['PRO_19643', 'PRO_1133'],\n",
       " ['PRO_17446', 'PRO_2307'],\n",
       " ['PRO_2737', 'PRO_10954'],\n",
       " ['PRO_3073', 'PRO_10874'],\n",
       " ['PRO_13241', 'PRO_15568'],\n",
       " ['PRO_14293', 'PRO_16880'],\n",
       " ['PRO_12459', 'PRO_1087'],\n",
       " ['PRO_18129', 'PRO_20565'],\n",
       " ['PRO_2361', 'PRO_11238'],\n",
       " ['PRO_17224', 'PRO_10696'],\n",
       " ['PRO_1900', 'PRO_21472'],\n",
       " ['PRO_2730', 'PRO_14395'],\n",
       " ['PRO_20135', 'PRO_2703'],\n",
       " ['PRO_21023', 'PRO_11689'],\n",
       " ['PRO_3131', 'PRO_15028'],\n",
       " ['PRO_21490', 'PRO_13943'],\n",
       " ['PRO_14723', 'PRO_19879'],\n",
       " ['PRO_19614', 'PRO_11229'],\n",
       " ['PRO_20217', 'PRO_1038'],\n",
       " ['PRO_437', 'PRO_10129'],\n",
       " ['PRO_11287', 'PRO_18291'],\n",
       " ['PRO_19070', 'PRO_12145'],\n",
       " ['PRO_21333', 'PRO_18058'],\n",
       " ['PRO_399', 'PRO_19929'],\n",
       " ['PRO_1896', 'PRO_3180'],\n",
       " ['PRO_12016', 'PRO_16368'],\n",
       " ['PRO_20176', 'PRO_19504'],\n",
       " ['PRO_1057', 'PRO_19515'],\n",
       " ['PRO_22553', 'PRO_13292'],\n",
       " ['PRO_10393', 'PRO_11522'],\n",
       " ['PRO_4275', 'PRO_15945'],\n",
       " ['PRO_22013', 'PRO_20231'],\n",
       " ['PRO_14675', 'PRO_18078'],\n",
       " ['PRO_17015', 'PRO_23141'],\n",
       " ['PRO_17485', 'PRO_20907'],\n",
       " ['PRO_15760', 'PRO_12802'],\n",
       " ['PRO_12487', 'PRO_4505'],\n",
       " ['PRO_17083', 'PRO_13040'],\n",
       " ['PRO_2799', 'PRO_14576'],\n",
       " ['PRO_16513', 'PRO_20907'],\n",
       " ['PRO_10292', 'PRO_17147'],\n",
       " ['PRO_12557', 'PRO_21802'],\n",
       " ['PRO_14397', 'PRO_4338'],\n",
       " ['PRO_11241', 'PRO_13609'],\n",
       " ['PRO_13732', 'PRO_15281'],\n",
       " ['PRO_23072', 'PRO_2257'],\n",
       " ['PRO_18151', 'PRO_2307'],\n",
       " ['PRO_17363', 'PRO_20893'],\n",
       " ['PRO_18349', 'PRO_13302'],\n",
       " ['PRO_23033', 'PRO_15250'],\n",
       " ['PRO_1274', 'PRO_19935'],\n",
       " ['PRO_16016', 'PRO_12625'],\n",
       " ['PRO_19376', 'PRO_3562'],\n",
       " ['PRO_23146', 'PRO_301'],\n",
       " ['PRO_3186', 'PRO_23976'],\n",
       " ['PRO_12456', 'PRO_20781'],\n",
       " ['PRO_4518', 'PRO_14108'],\n",
       " ['PRO_12916', 'PRO_22347'],\n",
       " ['PRO_10546', 'PRO_21335'],\n",
       " ['PRO_22298', 'PRO_22283'],\n",
       " ['PRO_17111', 'PRO_4362'],\n",
       " ['PRO_4067', 'PRO_16362'],\n",
       " ['PRO_13400', 'PRO_19173'],\n",
       " ['PRO_15834', 'PRO_17994'],\n",
       " ['PRO_22473', 'PRO_16121'],\n",
       " ['PRO_14804', 'PRO_2121'],\n",
       " ['PRO_12146', 'PRO_15414'],\n",
       " ['PRO_10851', 'PRO_11286'],\n",
       " ['PRO_3235', 'PRO_14293'],\n",
       " ['PRO_18224', 'PRO_15145'],\n",
       " ['PRO_1080', 'PRO_2366'],\n",
       " ['PRO_22887', 'PRO_19937'],\n",
       " ['PRO_14944', 'PRO_12456'],\n",
       " ['PRO_4637', 'PRO_15765'],\n",
       " ['PRO_2228', 'PRO_15025'],\n",
       " ['PRO_19453', 'PRO_21302'],\n",
       " ['PRO_22013', 'PRO_12696'],\n",
       " ['PRO_17345', 'PRO_22908'],\n",
       " ['PRO_15484', 'PRO_12447'],\n",
       " ['PRO_23332', 'PRO_14273'],\n",
       " ['PRO_18498', 'PRO_11119'],\n",
       " ['PRO_21667', 'PRO_19152'],\n",
       " ['PRO_19569', 'PRO_22499'],\n",
       " ['PRO_1917', 'PRO_15281'],\n",
       " ['PRO_19975', 'PRO_123'],\n",
       " ['PRO_13447', 'PRO_16842'],\n",
       " ['PRO_22974', 'PRO_15765'],\n",
       " ['PRO_11557', 'PRO_3052'],\n",
       " ['PRO_19851', 'PRO_4060'],\n",
       " ['PRO_298', 'PRO_22269'],\n",
       " ['PRO_3787', 'PRO_13148'],\n",
       " ['PRO_22959', 'PRO_16411'],\n",
       " ['PRO_10161', 'PRO_15126'],\n",
       " ['PRO_16342', 'PRO_22487'],\n",
       " ['PRO_20759', 'PRO_18954'],\n",
       " ['PRO_16589', 'PRO_3178'],\n",
       " ['PRO_1451', 'PRO_12334'],\n",
       " ['PRO_19314', 'PRO_23187'],\n",
       " ['PRO_3433', 'PRO_3483'],\n",
       " ['PRO_10025', 'PRO_13758'],\n",
       " ['PRO_11391', 'PRO_12215'],\n",
       " ['PRO_12129', 'PRO_14088'],\n",
       " ['PRO_3823', 'PRO_19915'],\n",
       " ['PRO_19293', 'PRO_1152'],\n",
       " ['PRO_15950', 'PRO_22596'],\n",
       " ['PRO_1202', 'PRO_1540'],\n",
       " ['PRO_22925', 'PRO_4324'],\n",
       " ['PRO_19614', 'PRO_2457'],\n",
       " ['PRO_2068', 'PRO_21048'],\n",
       " ['PRO_17176', 'PRO_21478'],\n",
       " ['PRO_20232', 'PRO_15543'],\n",
       " ['PRO_12639', 'PRO_2336'],\n",
       " ['PRO_12694', 'PRO_14857'],\n",
       " ['PRO_1091', 'PRO_14048'],\n",
       " ['PRO_1359', 'PRO_15406'],\n",
       " ['PRO_12625', 'PRO_16587'],\n",
       " ['PRO_21639', 'PRO_12296'],\n",
       " ['PRO_20677', 'PRO_21490'],\n",
       " ['PRO_19655', 'PRO_12975'],\n",
       " ['PRO_12725', 'PRO_12551'],\n",
       " ['PRO_22475', 'PRO_21806'],\n",
       " ['PRO_19957', 'PRO_4375'],\n",
       " ['PRO_16736', 'PRO_14181'],\n",
       " ['PRO_11247', 'PRO_21109'],\n",
       " ['PRO_23019', 'PRO_10393'],\n",
       " ['PRO_20184', 'PRO_20103'],\n",
       " ['PRO_15152', 'PRO_18526'],\n",
       " ['PRO_20412', 'PRO_10792'],\n",
       " ['PRO_15181', 'PRO_1304'],\n",
       " ['PRO_18917', 'PRO_19979'],\n",
       " ['PRO_4661', 'PRO_19442'],\n",
       " ['PRO_10316', 'PRO_16462'],\n",
       " ['PRO_13594', 'PRO_19964'],\n",
       " ['PRO_14959', 'PRO_20738'],\n",
       " ['PRO_17617', 'PRO_2731'],\n",
       " ['PRO_12190', 'PRO_1348'],\n",
       " ['PRO_19317', 'PRO_12210'],\n",
       " ['PRO_22711', 'PRO_19110'],\n",
       " ['PRO_14182', 'PRO_12259'],\n",
       " ['PRO_18157', 'PRO_2066'],\n",
       " ['PRO_21456', 'PRO_20645'],\n",
       " ['PRO_2535', 'PRO_21388'],\n",
       " ['PRO_14784', 'PRO_16651'],\n",
       " ['PRO_14115', 'PRO_13299'],\n",
       " ['PRO_15602', 'PRO_20617'],\n",
       " ['PRO_13411', 'PRO_21434'],\n",
       " ['PRO_17589', 'PRO_3949'],\n",
       " ['PRO_158', 'PRO_14886'],\n",
       " ['PRO_23976', 'PRO_19812'],\n",
       " ['PRO_18166', 'PRO_18422'],\n",
       " ['PRO_162', 'PRO_2054'],\n",
       " ['PRO_2693', 'PRO_11105'],\n",
       " ['PRO_2877', 'PRO_2097'],\n",
       " ['PRO_16880', 'PRO_15460'],\n",
       " ['PRO_18588', 'PRO_3146'],\n",
       " ['PRO_18329', 'PRO_1944'],\n",
       " ['PRO_17902', 'PRO_15699'],\n",
       " ['PRO_18960', 'PRO_22703'],\n",
       " ['PRO_15628', 'PRO_14185'],\n",
       " ['PRO_13636', 'PRO_14348'],\n",
       " ['PRO_19789', 'PRO_16667'],\n",
       " ['PRO_12794', 'PRO_14287'],\n",
       " ['PRO_16880', 'PRO_21059'],\n",
       " ['PRO_20799', 'PRO_20779'],\n",
       " ['PRO_18924', 'PRO_13130'],\n",
       " ['PRO_16469', 'PRO_20618'],\n",
       " ['PRO_19701', 'PRO_22194'],\n",
       " ['PRO_13979', 'PRO_20797'],\n",
       " ['PRO_16653', 'PRO_3473'],\n",
       " ['PRO_1300', 'PRO_3060'],\n",
       " ['PRO_17497', 'PRO_2847'],\n",
       " ['PRO_18715', 'PRO_13913'],\n",
       " ['PRO_1502', 'PRO_14483'],\n",
       " ['PRO_13221', 'PRO_16475'],\n",
       " ['PRO_12975', 'PRO_19439'],\n",
       " ['PRO_13981', 'PRO_17240'],\n",
       " ['PRO_22587', 'PRO_13308'],\n",
       " ['PRO_21524', 'PRO_21926'],\n",
       " ['PRO_14925', 'PRO_15612'],\n",
       " ['PRO_370', 'PRO_11518'],\n",
       " ['PRO_11840', 'PRO_10353'],\n",
       " ['PRO_21976', 'PRO_17211'],\n",
       " ['PRO_20914', 'PRO_18217'],\n",
       " ['PRO_23165', 'PRO_20952'],\n",
       " ['PRO_16052', 'PRO_22119'],\n",
       " ['PRO_4007', 'PRO_1111'],\n",
       " ['PRO_13158', 'PRO_2241'],\n",
       " ['PRO_1451', 'PRO_13301'],\n",
       " ['PRO_13136', 'PRO_18233'],\n",
       " ['PRO_15747', 'PRO_15254'],\n",
       " ['PRO_19680', 'PRO_15270'],\n",
       " ['PRO_11583', 'PRO_21023'],\n",
       " ['PRO_11594', 'PRO_2387'],\n",
       " ['PRO_15628', 'PRO_19060'],\n",
       " ['PRO_16227', 'PRO_13628'],\n",
       " ['PRO_16652', 'PRO_12597'],\n",
       " ['PRO_10574', 'PRO_16939'],\n",
       " ['PRO_1067', 'PRO_15208'],\n",
       " ['PRO_17747', 'PRO_15451'],\n",
       " ['PRO_12899', 'PRO_23181'],\n",
       " ['PRO_18335', 'PRO_19190'],\n",
       " ['PRO_28', 'PRO_3302'],\n",
       " ['PRO_12735', 'PRO_21567'],\n",
       " ['PRO_14054', 'PRO_13239'],\n",
       " ['PRO_17485', 'PRO_19373'],\n",
       " ['PRO_16146', 'PRO_4221'],\n",
       " ['PRO_15316', 'PRO_19464'],\n",
       " ['PRO_1106', 'PRO_17994'],\n",
       " ['PRO_22985', 'PRO_23226'],\n",
       " ['PRO_19443', 'PRO_13562'],\n",
       " ['PRO_15767', 'PRO_1930'],\n",
       " ['PRO_21419', 'PRO_11480'],\n",
       " ['PRO_14714', 'PRO_10559'],\n",
       " ['PRO_12024', 'PRO_22697'],\n",
       " ['PRO_13953', 'PRO_22719'],\n",
       " ['PRO_13981', 'PRO_21466'],\n",
       " ['PRO_1098', 'PRO_20712'],\n",
       " ['PRO_17441', 'PRO_11368'],\n",
       " ['PRO_23009', 'PRO_3443'],\n",
       " ['PRO_21771', 'PRO_22538'],\n",
       " ['PRO_17490', 'PRO_19070'],\n",
       " ['PRO_21217', 'PRO_21824'],\n",
       " ['PRO_4271', 'PRO_19190'],\n",
       " ['PRO_13354', 'PRO_11229'],\n",
       " ['PRO_4447', 'PRO_20667'],\n",
       " ['PRO_1740', 'PRO_17250'],\n",
       " ['PRO_22690', 'PRO_10786'],\n",
       " ['PRO_1944', 'PRO_11308'],\n",
       " ['PRO_16993', 'PRO_11807'],\n",
       " ['PRO_4537', 'PRO_3729'],\n",
       " ['PRO_22879', 'PRO_14248'],\n",
       " ['PRO_13344', 'PRO_2970'],\n",
       " ['PRO_18249', 'PRO_365'],\n",
       " ['PRO_22616', 'PRO_12447'],\n",
       " ['PRO_10534', 'PRO_17224'],\n",
       " ['PRO_11216', 'PRO_15547'],\n",
       " ['PRO_15841', 'PRO_11373'],\n",
       " ['PRO_22839', 'PRO_20725'],\n",
       " ['PRO_21126', 'PRO_3888'],\n",
       " ['PRO_15548', 'PRO_17439'],\n",
       " ['PRO_12813', 'PRO_20063'],\n",
       " ['PRO_15991', 'PRO_16543'],\n",
       " ['PRO_2228', 'PRO_11181'],\n",
       " ['PRO_1011', 'PRO_14558'],\n",
       " ['PRO_22486', 'PRO_20991'],\n",
       " ['PRO_123', 'PRO_22306'],\n",
       " ['PRO_10427', 'PRO_15354'],\n",
       " ['PRO_15897', 'PRO_12974'],\n",
       " ['PRO_19215', 'PRO_20477'],\n",
       " ['PRO_2081', 'PRO_14827'],\n",
       " ['PRO_4660', 'PRO_11247'],\n",
       " ['PRO_2263', 'PRO_13629'],\n",
       " ['PRO_12597', 'PRO_20422'],\n",
       " ['PRO_3410', 'PRO_22717'],\n",
       " ['PRO_15874', 'PRO_2224'],\n",
       " ['PRO_3119', 'PRO_13265'],\n",
       " ['PRO_19827', 'PRO_4459'],\n",
       " ['PRO_12683', 'PRO_17595'],\n",
       " ['PRO_1492', 'PRO_15751'],\n",
       " ['PRO_21466', 'PRO_3447'],\n",
       " ['PRO_18495', 'PRO_18162'],\n",
       " ['PRO_17294', 'PRO_11005'],\n",
       " ['PRO_10703', 'PRO_2539'],\n",
       " ['PRO_16513', 'PRO_366'],\n",
       " ['PRO_10464', 'PRO_13111'],\n",
       " ['PRO_18269', 'PRO_14678'],\n",
       " ['PRO_3050', 'PRO_15742'],\n",
       " ['PRO_21117', 'PRO_13612'],\n",
       " ['PRO_225', 'PRO_23138'],\n",
       " ['PRO_16131', 'PRO_13113'],\n",
       " ['PRO_3370', 'PRO_21618'],\n",
       " ['PRO_12735', 'PRO_15076'],\n",
       " ['PRO_22100', 'PRO_23263'],\n",
       " ['PRO_19020', 'PRO_20878'],\n",
       " ['PRO_11229', 'PRO_11649'],\n",
       " ['PRO_2874', 'PRO_20175'],\n",
       " ['PRO_4513', 'PRO_1936'],\n",
       " ['PRO_3303', 'PRO_2819'],\n",
       " ['PRO_16588', 'PRO_21960'],\n",
       " ['PRO_13329', 'PRO_13626'],\n",
       " ['PRO_1540', 'PRO_21538'],\n",
       " ['PRO_4458', 'PRO_23094'],\n",
       " ['PRO_1608', 'PRO_16958'],\n",
       " ['PRO_12977', 'PRO_15655'],\n",
       " ['PRO_13309', 'PRO_13179'],\n",
       " ['PRO_14690', 'PRO_15096'],\n",
       " ['PRO_20445', 'PRO_21110'],\n",
       " ['PRO_18696', 'PRO_1393'],\n",
       " ['PRO_12636', 'PRO_15762'],\n",
       " ['PRO_22838', 'PRO_19886'],\n",
       " ['PRO_13089', 'PRO_2874'],\n",
       " ['PRO_14872', 'PRO_3142'],\n",
       " ['PRO_20429', 'PRO_12579'],\n",
       " ['PRO_18456', 'PRO_3282'],\n",
       " ['PRO_10393', 'PRO_12639'],\n",
       " ['PRO_1776', 'PRO_23887'],\n",
       " ['PRO_1151', 'PRO_15235'],\n",
       " ['PRO_2125', 'PRO_23416'],\n",
       " ['PRO_20677', 'PRO_12331'],\n",
       " ['PRO_15848', 'PRO_2983'],\n",
       " ['PRO_18372', 'PRO_18536'],\n",
       " ['PRO_16974', 'PRO_1260'],\n",
       " ['PRO_10696', 'PRO_10921'],\n",
       " ['PRO_2212', 'PRO_23351'],\n",
       " ['PRO_11071', 'PRO_4526'],\n",
       " ['PRO_12314', 'PRO_3552'],\n",
       " ['PRO_15899', 'PRO_10945'],\n",
       " ['PRO_19278', 'PRO_11304'],\n",
       " ['PRO_12937', 'PRO_15435'],\n",
       " ['PRO_1038', 'PRO_11247'],\n",
       " ['PRO_2094', 'PRO_19165'],\n",
       " ['PRO_12816', 'PRO_13901'],\n",
       " ['PRO_17179', 'PRO_18904'],\n",
       " ['PRO_21966', 'PRO_4459'],\n",
       " ['PRO_10874', 'PRO_13127'],\n",
       " ['PRO_20331', 'PRO_14703'],\n",
       " ['PRO_3552', 'PRO_14133'],\n",
       " ['PRO_1623', 'PRO_20134'],\n",
       " ['PRO_23423', 'PRO_20792'],\n",
       " ['PRO_15930', 'PRO_3746'],\n",
       " ['PRO_20015', 'PRO_15406'],\n",
       " ['PRO_13913', 'PRO_10451'],\n",
       " ['PRO_13297', 'PRO_19529'],\n",
       " ['PRO_14043', 'PRO_23611'],\n",
       " ['PRO_18687', 'PRO_12398'],\n",
       " ['PRO_2473', 'PRO_17179'],\n",
       " ['PRO_14220', 'PRO_1367'],\n",
       " ['PRO_4408', 'PRO_20392'],\n",
       " ['PRO_21208', 'PRO_18060'],\n",
       " ['PRO_14096', 'PRO_2982'],\n",
       " ['PRO_19026', 'PRO_14159'],\n",
       " ['PRO_10336', 'PRO_13153'],\n",
       " ['PRO_3949', 'PRO_3846'],\n",
       " ['PRO_16716', 'PRO_17629'],\n",
       " ['PRO_23639', 'PRO_11179'],\n",
       " ['PRO_21310', 'PRO_14359'],\n",
       " ['PRO_15776', 'PRO_12332'],\n",
       " ['PRO_16968', 'PRO_16990'],\n",
       " ['PRO_19614', 'PRO_15345'],\n",
       " ['PRO_1319', 'PRO_12648'],\n",
       " ['PRO_1398', 'PRO_20275'],\n",
       " ['PRO_15950', 'PRO_14547'],\n",
       " ['PRO_23414', 'PRO_16398'],\n",
       " ['PRO_1741', 'PRO_14237'],\n",
       " ['PRO_3526', 'PRO_14766'],\n",
       " ['PRO_1378', 'PRO_3198'],\n",
       " ['PRO_14127', 'PRO_12259'],\n",
       " ['PRO_10834', 'PRO_15610'],\n",
       " ['PRO_21456', 'PRO_19949'],\n",
       " ['PRO_12719', 'PRO_20677'],\n",
       " ['PRO_19435', 'PRO_20745'],\n",
       " ['PRO_13691', 'PRO_17181'],\n",
       " ['PRO_13609', 'PRO_22194'],\n",
       " ['PRO_12120', 'PRO_13309'],\n",
       " ['PRO_13957', 'PRO_12884'],\n",
       " ['PRO_22838', 'PRO_19979'],\n",
       " ['PRO_211', 'PRO_3729'],\n",
       " ['PRO_22691', 'PRO_1806'],\n",
       " ['PRO_20712', 'PRO_3422'],\n",
       " ['PRO_2366', 'PRO_1995'],\n",
       " ['PRO_13420', 'PRO_20652'],\n",
       " ['PRO_1044', 'PRO_3077'],\n",
       " ['PRO_19666', 'PRO_22743'],\n",
       " ['PRO_11296', 'PRO_15751'],\n",
       " ['PRO_21414', 'PRO_22947'],\n",
       " ['PRO_11674', 'PRO_11094'],\n",
       " ['PRO_21490', 'PRO_1063'],\n",
       " ['PRO_12286', 'PRO_116'],\n",
       " ['PRO_4502', 'PRO_16462'],\n",
       " ['PRO_19410', 'PRO_15123'],\n",
       " ['PRO_10791', 'PRO_22888'],\n",
       " ['PRO_2054', 'PRO_20919'],\n",
       " ['PRO_18177', 'PRO_23211'],\n",
       " ['PRO_22512', 'PRO_18747'],\n",
       " ['PRO_13789', 'PRO_12359'],\n",
       " ['PRO_21888', 'PRO_14338'],\n",
       " ['PRO_1881', 'PRO_12684'],\n",
       " ['PRO_13217', 'PRO_3609'],\n",
       " ['PRO_12146', 'PRO_4710'],\n",
       " ['PRO_3579', 'PRO_20784'],\n",
       " ['PRO_20185', 'PRO_17220'],\n",
       " ['PRO_1461', 'PRO_20105'],\n",
       " ['PRO_21613', 'PRO_14061'],\n",
       " ['PRO_17778', 'PRO_14427'],\n",
       " ['PRO_17013', 'PRO_18265'],\n",
       " ['PRO_15696', 'PRO_13322'],\n",
       " ['PRO_23397', 'PRO_14549'],\n",
       " ['PRO_21578', 'PRO_10058'],\n",
       " ['PRO_12108', 'PRO_19147'],\n",
       " ['PRO_1560', 'PRO_13056'],\n",
       " ['PRO_20478', 'PRO_20106'],\n",
       " ['PRO_21960', 'PRO_12937'],\n",
       " ['PRO_21445', 'PRO_13599'],\n",
       " ['PRO_11384', 'PRO_17460'],\n",
       " ['PRO_23639', 'PRO_18075'],\n",
       " ['PRO_16837', 'PRO_14843'],\n",
       " ['PRO_21783', 'PRO_16404'],\n",
       " ['PRO_19010', 'PRO_12014'],\n",
       " ['PRO_13936', 'PRO_12007'],\n",
       " ['PRO_365', 'PRO_19118'],\n",
       " ['PRO_17975', 'PRO_12712'],\n",
       " ['PRO_12196', 'PRO_10485'],\n",
       " ['PRO_18315', 'PRO_14119'],\n",
       " ['PRO_3075', 'PRO_10090'],\n",
       " ['PRO_19170', 'PRO_3778'],\n",
       " ['PRO_21873', 'PRO_20444'],\n",
       " ['PRO_2533', 'PRO_14032'],\n",
       " ['PRO_14577', 'PRO_15559'],\n",
       " ['PRO_14088', 'PRO_18588'],\n",
       " ['PRO_1835', 'PRO_21480'],\n",
       " ['PRO_22830', 'PRO_13413'],\n",
       " ['PRO_14503', 'PRO_11458'],\n",
       " ['PRO_11370', 'PRO_19198'],\n",
       " ['PRO_11846', 'PRO_23405'],\n",
       " ['PRO_13889', 'PRO_12029'],\n",
       " ['PRO_10993', 'PRO_16670'],\n",
       " ['PRO_21738', 'PRO_1244'],\n",
       " ['PRO_16804', 'PRO_2816'],\n",
       " ['PRO_10001', 'PRO_17564'],\n",
       " ['PRO_2611', 'PRO_19794'],\n",
       " ['PRO_4037', 'PRO_14639'],\n",
       " ['PRO_10209', 'PRO_16454'],\n",
       " ['PRO_10635', 'PRO_3570'],\n",
       " ['PRO_1360', 'PRO_3126'],\n",
       " ['PRO_12794', 'PRO_16952'],\n",
       " ['PRO_18129', 'PRO_17015'],\n",
       " ['PRO_1180', 'PRO_20163'],\n",
       " ['PRO_2494', 'PRO_3994'],\n",
       " ['PRO_16535', 'PRO_10937'],\n",
       " ['PRO_11260', 'PRO_15255'],\n",
       " ['PRO_17160', 'PRO_1501'],\n",
       " ['PRO_22469', 'PRO_13302'],\n",
       " ['PRO_17293', 'PRO_16933'],\n",
       " ['PRO_10836', 'PRO_19619'],\n",
       " ['PRO_13329', 'PRO_19286'],\n",
       " ['PRO_3538', 'PRO_21711'],\n",
       " ['PRO_14201', 'PRO_11094'],\n",
       " ['PRO_21086', 'PRO_14362'],\n",
       " ['PRO_1095', 'PRO_2589'],\n",
       " ['PRO_21454', 'PRO_338'],\n",
       " ['PRO_15077', 'PRO_18367'],\n",
       " ['PRO_14970', 'PRO_15713'],\n",
       " ['PRO_19443', 'PRO_2360'],\n",
       " ['PRO_20534', 'PRO_16398'],\n",
       " ['PRO_2108', 'PRO_1863'],\n",
       " ['PRO_10393', 'PRO_2392'],\n",
       " ['PRO_2294', 'PRO_2354'],\n",
       " ['PRO_22379', 'PRO_16075'],\n",
       " ['PRO_19443', 'PRO_15010'],\n",
       " ['PRO_22743', 'PRO_14827'],\n",
       " ['PRO_14512', 'PRO_2359'],\n",
       " ['PRO_15101', 'PRO_13934'],\n",
       " ['PRO_16808', 'PRO_2085'],\n",
       " ['PRO_16652', 'PRO_444'],\n",
       " ['PRO_14826', 'PRO_18513'],\n",
       " ['PRO_22011', 'PRO_12712'],\n",
       " ['PRO_19350', 'PRO_11430'],\n",
       " ['PRO_20153', 'PRO_11888'],\n",
       " ['PRO_16384', 'PRO_10921'],\n",
       " ['PRO_17225', 'PRO_1159'],\n",
       " ['PRO_10437', 'PRO_13922'],\n",
       " ['PRO_4343', 'PRO_3101'],\n",
       " ['PRO_4323', 'PRO_12514'],\n",
       " ['PRO_21615', 'PRO_14457'],\n",
       " ['PRO_1068', 'PRO_18367'],\n",
       " ['PRO_1319', 'PRO_3594'],\n",
       " ['PRO_1178', 'PRO_3443'],\n",
       " ['PRO_21718', 'PRO_3643'],\n",
       " ['PRO_17289', 'PRO_10696'],\n",
       " ['PRO_3679', 'PRO_3369'],\n",
       " ['PRO_4319', 'PRO_1487'],\n",
       " ['PRO_22963', 'PRO_1995'],\n",
       " ['PRO_14547', 'PRO_19419'],\n",
       " ['PRO_14641', 'PRO_17902'],\n",
       " ['PRO_18060', 'PRO_17571'],\n",
       " ['PRO_1313', 'PRO_3924'],\n",
       " ['PRO_1956', 'PRO_1176'],\n",
       " ['PRO_15316', 'PRO_17490'],\n",
       " ['PRO_11005', 'PRO_11229'],\n",
       " ['PRO_18374', 'PRO_18058'],\n",
       " ['PRO_18032', 'PRO_3303'],\n",
       " ['PRO_3036', 'PRO_10895'],\n",
       " ['PRO_15451', 'PRO_11689'],\n",
       " ['PRO_11696', 'PRO_1832'],\n",
       " ['PRO_1314', 'PRO_13346'],\n",
       " ['PRO_13618', 'PRO_10710'],\n",
       " ['PRO_19355', 'PRO_308'],\n",
       " ['PRO_20889', 'PRO_22140'],\n",
       " ['PRO_10390', 'PRO_11600'],\n",
       " ['PRO_23413', 'PRO_16469'],\n",
       " ['PRO_18429', 'PRO_15021'],\n",
       " ['PRO_3953', 'PRO_21758'],\n",
       " ['PRO_2036', 'PRO_176'],\n",
       " ['PRO_16397', 'PRO_14338'],\n",
       " ['PRO_13767', 'PRO_22917'],\n",
       " ['PRO_15317', 'PRO_12854'],\n",
       " ['PRO_19464', 'PRO_3016'],\n",
       " ['PRO_19317', 'PRO_2923'],\n",
       " ['PRO_21171', 'PRO_15359'],\n",
       " ['PRO_15551', 'PRO_17427'],\n",
       " ['PRO_12988', 'PRO_1182'],\n",
       " ['PRO_123', 'PRO_18916'],\n",
       " ['PRO_17460', 'PRO_1816'],\n",
       " ['PRO_2666', 'PRO_13775'],\n",
       " ['PRO_23374', 'PRO_17240'],\n",
       " ['PRO_19975', 'PRO_11247'],\n",
       " ['PRO_15747', 'PRO_12483'],\n",
       " ['PRO_3924', 'PRO_18495'],\n",
       " ['PRO_20267', 'PRO_11257'],\n",
       " ...]"
      ]
     },
     "execution_count": 245,
     "metadata": {},
     "output_type": "execute_result"
    }
   ],
   "source": [
    "final_neg_pairs"
   ]
  },
  {
   "cell_type": "code",
   "execution_count": 249,
   "id": "8b8f369e",
   "metadata": {},
   "outputs": [],
   "source": [
    "li_A = []\n",
    "li_B = []\n",
    "label = []\n",
    "l = 0\n",
    "for i,j in final_neg_pairs:\n",
    "    \n",
    "    li_A.append(i)\n",
    "    li_B.append(j)\n",
    "    label.append(0)\n",
    "    \n",
    "test_set_1 = pd.DataFrame()\n",
    "test_set_1['Protein_A'] = li_A\n",
    "test_set_1['Protein_B'] = li_B\n",
    "test_set_1['label'] = label"
   ]
  },
  {
   "cell_type": "code",
   "execution_count": 250,
   "id": "206a178a",
   "metadata": {},
   "outputs": [],
   "source": [
    "li_A = []\n",
    "li_B = []\n",
    "label = []\n",
    "\n",
    "for i,j in positive_test_set_pairs:\n",
    "   \n",
    "    li_A.append(i)\n",
    "    li_B.append(j)\n",
    "    label.append(1)\n",
    "test_set_2 = pd.DataFrame()\n",
    "test_set_2['Protein_A'] = li_A\n",
    "test_set_2['Protein_B'] = li_B\n",
    "test_set_2['label'] = label"
   ]
  },
  {
   "cell_type": "code",
   "execution_count": 255,
   "id": "76c40a3e",
   "metadata": {},
   "outputs": [],
   "source": [
    "all_pairs_neg_test = [[row.Protein_A,row.Protein_B] for index,row in test_set_1.iterrows()]\n"
   ]
  },
  {
   "cell_type": "code",
   "execution_count": 256,
   "id": "91490921",
   "metadata": {},
   "outputs": [],
   "source": [
    "all_pairs_pos_test = [[row.Protein_B,row.Protein_A] for index,row in test_set_2.iterrows()]"
   ]
  },
  {
   "cell_type": "code",
   "execution_count": 257,
   "id": "7faabad8",
   "metadata": {},
   "outputs": [
    {
     "data": {
      "text/plain": [
       "21347"
      ]
     },
     "execution_count": 257,
     "metadata": {},
     "output_type": "execute_result"
    }
   ],
   "source": [
    "len(all_pairs_pos_test)"
   ]
  },
  {
   "cell_type": "code",
   "execution_count": 259,
   "id": "ba0d93fb",
   "metadata": {},
   "outputs": [],
   "source": [
    "all_pairs_pos_test.extend([[row.Protein_A,row.Protein_B] for index,row in test_set_2.iterrows()])"
   ]
  },
  {
   "cell_type": "code",
   "execution_count": 262,
   "id": "c22891fb",
   "metadata": {},
   "outputs": [
    {
     "name": "stderr",
     "output_type": "stream",
     "text": [
      "100%|███████████████████████████████████████████████████| 42694/42694 [04:17<00:00, 165.91it/s]\n"
     ]
    }
   ],
   "source": [
    "for i in tqdm(all_pairs_pos_test):\n",
    "    if i in all_pairs_neg_test:\n",
    "        raise ValueError()"
   ]
  },
  {
   "cell_type": "code",
   "execution_count": 263,
   "id": "1fbf34d9",
   "metadata": {},
   "outputs": [],
   "source": [
    "df = [test_set_2,test_set_1]\n",
    "final_test_set = pd.concat(df)\n"
   ]
  },
  {
   "cell_type": "code",
   "execution_count": 264,
   "id": "cba27edd",
   "metadata": {},
   "outputs": [],
   "source": [
    "final_test_set.to_csv(\"/home/anwer/Desktop/PPI_prediction/csv_files_new_ppi/training_and_test_set/test_set_without_embedding.csv\",index = False)"
   ]
  },
  {
   "cell_type": "code",
   "execution_count": 265,
   "id": "d7345a7b",
   "metadata": {},
   "outputs": [
    {
     "data": {
      "text/html": [
       "<div>\n",
       "<style scoped>\n",
       "    .dataframe tbody tr th:only-of-type {\n",
       "        vertical-align: middle;\n",
       "    }\n",
       "\n",
       "    .dataframe tbody tr th {\n",
       "        vertical-align: top;\n",
       "    }\n",
       "\n",
       "    .dataframe thead th {\n",
       "        text-align: right;\n",
       "    }\n",
       "</style>\n",
       "<table border=\"1\" class=\"dataframe\">\n",
       "  <thead>\n",
       "    <tr style=\"text-align: right;\">\n",
       "      <th></th>\n",
       "      <th>Protein_A</th>\n",
       "      <th>Protein_B</th>\n",
       "      <th>label</th>\n",
       "    </tr>\n",
       "  </thead>\n",
       "  <tbody>\n",
       "    <tr>\n",
       "      <th>0</th>\n",
       "      <td>PRO_4691</td>\n",
       "      <td>PRO_2365</td>\n",
       "      <td>1</td>\n",
       "    </tr>\n",
       "    <tr>\n",
       "      <th>1</th>\n",
       "      <td>PRO_12486</td>\n",
       "      <td>PRO_12486</td>\n",
       "      <td>1</td>\n",
       "    </tr>\n",
       "    <tr>\n",
       "      <th>2</th>\n",
       "      <td>PRO_12486</td>\n",
       "      <td>PRO_15453</td>\n",
       "      <td>1</td>\n",
       "    </tr>\n",
       "    <tr>\n",
       "      <th>3</th>\n",
       "      <td>PRO_12486</td>\n",
       "      <td>PRO_22362</td>\n",
       "      <td>1</td>\n",
       "    </tr>\n",
       "    <tr>\n",
       "      <th>4</th>\n",
       "      <td>PRO_12486</td>\n",
       "      <td>PRO_3423</td>\n",
       "      <td>1</td>\n",
       "    </tr>\n",
       "    <tr>\n",
       "      <th>...</th>\n",
       "      <td>...</td>\n",
       "      <td>...</td>\n",
       "      <td>...</td>\n",
       "    </tr>\n",
       "    <tr>\n",
       "      <th>213453</th>\n",
       "      <td>PRO_11969</td>\n",
       "      <td>PRO_16870</td>\n",
       "      <td>0</td>\n",
       "    </tr>\n",
       "    <tr>\n",
       "      <th>213454</th>\n",
       "      <td>PRO_2554</td>\n",
       "      <td>PRO_3073</td>\n",
       "      <td>0</td>\n",
       "    </tr>\n",
       "    <tr>\n",
       "      <th>213455</th>\n",
       "      <td>PRO_15478</td>\n",
       "      <td>PRO_18292</td>\n",
       "      <td>0</td>\n",
       "    </tr>\n",
       "    <tr>\n",
       "      <th>213456</th>\n",
       "      <td>PRO_1011</td>\n",
       "      <td>PRO_16240</td>\n",
       "      <td>0</td>\n",
       "    </tr>\n",
       "    <tr>\n",
       "      <th>213457</th>\n",
       "      <td>PRO_23909</td>\n",
       "      <td>PRO_4129</td>\n",
       "      <td>0</td>\n",
       "    </tr>\n",
       "  </tbody>\n",
       "</table>\n",
       "<p>234805 rows × 3 columns</p>\n",
       "</div>"
      ],
      "text/plain": [
       "        Protein_A  Protein_B  label\n",
       "0        PRO_4691   PRO_2365      1\n",
       "1       PRO_12486  PRO_12486      1\n",
       "2       PRO_12486  PRO_15453      1\n",
       "3       PRO_12486  PRO_22362      1\n",
       "4       PRO_12486   PRO_3423      1\n",
       "...           ...        ...    ...\n",
       "213453  PRO_11969  PRO_16870      0\n",
       "213454   PRO_2554   PRO_3073      0\n",
       "213455  PRO_15478  PRO_18292      0\n",
       "213456   PRO_1011  PRO_16240      0\n",
       "213457  PRO_23909   PRO_4129      0\n",
       "\n",
       "[234805 rows x 3 columns]"
      ]
     },
     "execution_count": 265,
     "metadata": {},
     "output_type": "execute_result"
    }
   ],
   "source": [
    "final_test_set"
   ]
  },
  {
   "cell_type": "markdown",
   "id": "88ea18fc",
   "metadata": {},
   "source": [
    "## 3. Train set\n",
    "\n",
    "\n",
    "<pre>\n",
    "--> all_possible_train_set_protein_pairs\n",
    "--> train_data_pos\n",
    "--> train_data_neg\n",
    "</pre>"
   ]
  },
  {
   "cell_type": "code",
   "execution_count": 271,
   "id": "b0e8b9de",
   "metadata": {},
   "outputs": [
    {
     "data": {
      "text/html": [
       "<div>\n",
       "<style scoped>\n",
       "    .dataframe tbody tr th:only-of-type {\n",
       "        vertical-align: middle;\n",
       "    }\n",
       "\n",
       "    .dataframe tbody tr th {\n",
       "        vertical-align: top;\n",
       "    }\n",
       "\n",
       "    .dataframe thead th {\n",
       "        text-align: right;\n",
       "    }\n",
       "</style>\n",
       "<table border=\"1\" class=\"dataframe\">\n",
       "  <thead>\n",
       "    <tr style=\"text-align: right;\">\n",
       "      <th></th>\n",
       "      <th>Protein_A</th>\n",
       "      <th>Protein_B</th>\n",
       "      <th>Protein_A_sequence</th>\n",
       "      <th>Protein_B_sequence</th>\n",
       "    </tr>\n",
       "  </thead>\n",
       "  <tbody>\n",
       "    <tr>\n",
       "      <th>1</th>\n",
       "      <td>PRO_1968</td>\n",
       "      <td>PRO_3259</td>\n",
       "      <td>MAKNPPENCEDCHILNAEAFKSKKICKSLKICGLVFGILALTLIVL...</td>\n",
       "      <td>MASSSTVPLGFHYETKYVVLSYLGLLSQEKLQEQHLSSPQGVQLDI...</td>\n",
       "    </tr>\n",
       "    <tr>\n",
       "      <th>2</th>\n",
       "      <td>PRO_1968</td>\n",
       "      <td>PRO_20825</td>\n",
       "      <td>MAKNPPENCEDCHILNAEAFKSKKICKSLKICGLVFGILALTLIVL...</td>\n",
       "      <td>MSSHLVEPPPPLHNNNNNCEENEQSLPPPAGLNSSWVELPMNSSNG...</td>\n",
       "    </tr>\n",
       "    <tr>\n",
       "      <th>3</th>\n",
       "      <td>PRO_1968</td>\n",
       "      <td>PRO_11236</td>\n",
       "      <td>MAKNPPENCEDCHILNAEAFKSKKICKSLKICGLVFGILALTLIVL...</td>\n",
       "      <td>MPLLLLLPLLWAGALAMDPNFWLQVQESVTVQEGLCVLVPCTFFHP...</td>\n",
       "    </tr>\n",
       "    <tr>\n",
       "      <th>5</th>\n",
       "      <td>PRO_1968</td>\n",
       "      <td>PRO_16190</td>\n",
       "      <td>MAKNPPENCEDCHILNAEAFKSKKICKSLKICGLVFGILALTLIVL...</td>\n",
       "      <td>MWTLKSSLVLLLCLTCSYAFMFSSLRQKTSEPQGKVQYGEHFRIRQ...</td>\n",
       "    </tr>\n",
       "    <tr>\n",
       "      <th>6</th>\n",
       "      <td>PRO_1968</td>\n",
       "      <td>PRO_4579</td>\n",
       "      <td>MAKNPPENCEDCHILNAEAFKSKKICKSLKICGLVFGILALTLIVL...</td>\n",
       "      <td>MGHRFLRGLLTLLLPPPPLYTRHRMLGPESVPPPKRSRSKLMAPPR...</td>\n",
       "    </tr>\n",
       "    <tr>\n",
       "      <th>...</th>\n",
       "      <td>...</td>\n",
       "      <td>...</td>\n",
       "      <td>...</td>\n",
       "      <td>...</td>\n",
       "    </tr>\n",
       "    <tr>\n",
       "      <th>396149</th>\n",
       "      <td>PRO_11977</td>\n",
       "      <td>PRO_20355</td>\n",
       "      <td>SGSWLRDIWDWICEVLSDFKTWLKAKLMPQLPGIPFVSCQRGYKGV...</td>\n",
       "      <td>MGGRSSCEDPGCPRDEERAPRMGCMKSKFLQVGGNTFSKTETSASP...</td>\n",
       "    </tr>\n",
       "    <tr>\n",
       "      <th>396150</th>\n",
       "      <td>PRO_11977</td>\n",
       "      <td>PRO_4583</td>\n",
       "      <td>SGSWLRDIWDWICEVLSDFKTWLKAKLMPQLPGIPFVSCQRGYKGV...</td>\n",
       "      <td>MGCVQCKDKEATKLTEERDGSLNQSSGYRYGTDPTPQHYPSFGVTS...</td>\n",
       "    </tr>\n",
       "    <tr>\n",
       "      <th>396151</th>\n",
       "      <td>PRO_19214</td>\n",
       "      <td>PRO_18202</td>\n",
       "      <td>MDLLVDELFADMNADGASPPPPRPAGGPKNTPAAPPLYATGRLSQA...</td>\n",
       "      <td>MQREEKQLEASLDALLSQVADLKNSLGSFICKLENEYGRLTWPSVL...</td>\n",
       "    </tr>\n",
       "    <tr>\n",
       "      <th>396152</th>\n",
       "      <td>PRO_2146</td>\n",
       "      <td>PRO_4583</td>\n",
       "      <td>MGSGSWLKDVWDWICTVLADLKTWLQSKLLPRLPGVPFLSCQRGYK...</td>\n",
       "      <td>MGCVQCKDKEATKLTEERDGSLNQSSGYRYGTDPTPQHYPSFGVTS...</td>\n",
       "    </tr>\n",
       "    <tr>\n",
       "      <th>396153</th>\n",
       "      <td>PRO_19214</td>\n",
       "      <td>PRO_91</td>\n",
       "      <td>MDLLVDELFADMNADGASPPPPRPAGGPKNTPAAPPLYATGRLSQA...</td>\n",
       "      <td>MSGVRAVRISIESACEKQVHEVGLDGTETYLPPLSMSQNLARLAQR...</td>\n",
       "    </tr>\n",
       "  </tbody>\n",
       "</table>\n",
       "<p>241819 rows × 4 columns</p>\n",
       "</div>"
      ],
      "text/plain": [
       "        Protein_A  Protein_B  \\\n",
       "1        PRO_1968   PRO_3259   \n",
       "2        PRO_1968  PRO_20825   \n",
       "3        PRO_1968  PRO_11236   \n",
       "5        PRO_1968  PRO_16190   \n",
       "6        PRO_1968   PRO_4579   \n",
       "...           ...        ...   \n",
       "396149  PRO_11977  PRO_20355   \n",
       "396150  PRO_11977   PRO_4583   \n",
       "396151  PRO_19214  PRO_18202   \n",
       "396152   PRO_2146   PRO_4583   \n",
       "396153  PRO_19214     PRO_91   \n",
       "\n",
       "                                       Protein_A_sequence  \\\n",
       "1       MAKNPPENCEDCHILNAEAFKSKKICKSLKICGLVFGILALTLIVL...   \n",
       "2       MAKNPPENCEDCHILNAEAFKSKKICKSLKICGLVFGILALTLIVL...   \n",
       "3       MAKNPPENCEDCHILNAEAFKSKKICKSLKICGLVFGILALTLIVL...   \n",
       "5       MAKNPPENCEDCHILNAEAFKSKKICKSLKICGLVFGILALTLIVL...   \n",
       "6       MAKNPPENCEDCHILNAEAFKSKKICKSLKICGLVFGILALTLIVL...   \n",
       "...                                                   ...   \n",
       "396149  SGSWLRDIWDWICEVLSDFKTWLKAKLMPQLPGIPFVSCQRGYKGV...   \n",
       "396150  SGSWLRDIWDWICEVLSDFKTWLKAKLMPQLPGIPFVSCQRGYKGV...   \n",
       "396151  MDLLVDELFADMNADGASPPPPRPAGGPKNTPAAPPLYATGRLSQA...   \n",
       "396152  MGSGSWLKDVWDWICTVLADLKTWLQSKLLPRLPGVPFLSCQRGYK...   \n",
       "396153  MDLLVDELFADMNADGASPPPPRPAGGPKNTPAAPPLYATGRLSQA...   \n",
       "\n",
       "                                       Protein_B_sequence  \n",
       "1       MASSSTVPLGFHYETKYVVLSYLGLLSQEKLQEQHLSSPQGVQLDI...  \n",
       "2       MSSHLVEPPPPLHNNNNNCEENEQSLPPPAGLNSSWVELPMNSSNG...  \n",
       "3       MPLLLLLPLLWAGALAMDPNFWLQVQESVTVQEGLCVLVPCTFFHP...  \n",
       "5       MWTLKSSLVLLLCLTCSYAFMFSSLRQKTSEPQGKVQYGEHFRIRQ...  \n",
       "6       MGHRFLRGLLTLLLPPPPLYTRHRMLGPESVPPPKRSRSKLMAPPR...  \n",
       "...                                                   ...  \n",
       "396149  MGGRSSCEDPGCPRDEERAPRMGCMKSKFLQVGGNTFSKTETSASP...  \n",
       "396150  MGCVQCKDKEATKLTEERDGSLNQSSGYRYGTDPTPQHYPSFGVTS...  \n",
       "396151  MQREEKQLEASLDALLSQVADLKNSLGSFICKLENEYGRLTWPSVL...  \n",
       "396152  MGCVQCKDKEATKLTEERDGSLNQSSGYRYGTDPTPQHYPSFGVTS...  \n",
       "396153  MSGVRAVRISIESACEKQVHEVGLDGTETYLPPLSMSQNLARLAQR...  \n",
       "\n",
       "[241819 rows x 4 columns]"
      ]
     },
     "execution_count": 271,
     "metadata": {},
     "output_type": "execute_result"
    }
   ],
   "source": [
    "train_data_pos"
   ]
  },
  {
   "cell_type": "code",
   "execution_count": 273,
   "id": "2af289f0",
   "metadata": {},
   "outputs": [
    {
     "data": {
      "text/plain": [
       "500000"
      ]
     },
     "execution_count": 273,
     "metadata": {},
     "output_type": "execute_result"
    }
   ],
   "source": [
    " c fvgbujikop zxc len(all_possible_train_set_protein_pairs)"
   ]
  },
  {
   "cell_type": "code",
   "execution_count": 275,
   "id": "64f675d3",
   "metadata": {},
   "outputs": [],
   "source": [
    "positive_train_set_pairs = []\n",
    "for index,row in train_data_pos.iterrows():\n",
    "    positive_train_set_pairs.append([row.Protein_A,row.Protein_B])\n",
    "    positive_train_set_pairs.append([row.Protein_B,row.Protein_A])"
   ]
  },
  {
   "cell_type": "code",
   "execution_count": null,
   "id": "91538314",
   "metadata": {},
   "outputs": [
    {
     "name": "stderr",
     "output_type": "stream",
     "text": [
      "  0%|                                                  | 1169/500000 [00:12<1:27:31, 94.99it/s]"
     ]
    },
    {
     "name": "stdout",
     "output_type": "stream",
     "text": [
      "['PRO_6756', 'PRO_1162']\n"
     ]
    },
    {
     "name": "stderr",
     "output_type": "stream",
     "text": [
      "  0%|▏                                                 | 1530/500000 [00:16<1:26:29, 96.05it/s]"
     ]
    },
    {
     "name": "stdout",
     "output_type": "stream",
     "text": [
      "['PRO_2374', 'PRO_12142']\n"
     ]
    },
    {
     "name": "stderr",
     "output_type": "stream",
     "text": [
      "  0%|▏                                                 | 2040/500000 [00:21<1:27:51, 94.46it/s]"
     ]
    },
    {
     "name": "stdout",
     "output_type": "stream",
     "text": [
      "['PRO_13349', 'PRO_6594']\n"
     ]
    },
    {
     "name": "stderr",
     "output_type": "stream",
     "text": [
      "  0%|▏                                                 | 2290/500000 [00:24<1:28:17, 93.95it/s]"
     ]
    },
    {
     "name": "stdout",
     "output_type": "stream",
     "text": [
      "['PRO_18208', 'PRO_4095']\n"
     ]
    },
    {
     "name": "stderr",
     "output_type": "stream",
     "text": [
      "  1%|▎                                                 | 2871/500000 [00:30<1:25:46, 96.60it/s]"
     ]
    },
    {
     "name": "stdout",
     "output_type": "stream",
     "text": [
      "['PRO_17016', 'PRO_16829']\n"
     ]
    },
    {
     "name": "stderr",
     "output_type": "stream",
     "text": [
      "  1%|▎                                                 | 3131/500000 [00:33<1:26:42, 95.50it/s]"
     ]
    },
    {
     "name": "stdout",
     "output_type": "stream",
     "text": [
      "['PRO_11437', 'PRO_11798']\n"
     ]
    },
    {
     "name": "stderr",
     "output_type": "stream",
     "text": [
      "  1%|▎                                                 | 3422/500000 [00:36<1:27:19, 94.78it/s]"
     ]
    },
    {
     "name": "stdout",
     "output_type": "stream",
     "text": [
      "['PRO_12400', 'PRO_1612']\n"
     ]
    },
    {
     "name": "stderr",
     "output_type": "stream",
     "text": [
      "  1%|▎                                                 | 3722/500000 [00:39<1:26:37, 95.48it/s]"
     ]
    },
    {
     "name": "stdout",
     "output_type": "stream",
     "text": [
      "['PRO_14726', 'PRO_13216']\n"
     ]
    },
    {
     "name": "stderr",
     "output_type": "stream",
     "text": [
      "  1%|▍                                                 | 4092/500000 [00:43<1:28:53, 92.98it/s]"
     ]
    },
    {
     "name": "stdout",
     "output_type": "stream",
     "text": [
      "['PRO_4216', 'PRO_9626']\n"
     ]
    },
    {
     "name": "stderr",
     "output_type": "stream",
     "text": [
      "  1%|▍                                                 | 4652/500000 [00:49<1:28:10, 93.62it/s]"
     ]
    },
    {
     "name": "stdout",
     "output_type": "stream",
     "text": [
      "['PRO_1726', 'PRO_20679']\n"
     ]
    },
    {
     "name": "stderr",
     "output_type": "stream",
     "text": [
      "  1%|▋                                                 | 6302/500000 [01:06<1:26:58, 94.60it/s]"
     ]
    },
    {
     "name": "stdout",
     "output_type": "stream",
     "text": [
      "['PRO_3902', 'PRO_4306']\n"
     ]
    },
    {
     "name": "stderr",
     "output_type": "stream",
     "text": [
      "  1%|▋                                                 | 6422/500000 [01:08<1:28:46, 92.66it/s]"
     ]
    },
    {
     "name": "stdout",
     "output_type": "stream",
     "text": [
      "['PRO_9591', 'PRO_7273']\n"
     ]
    },
    {
     "name": "stderr",
     "output_type": "stream",
     "text": [
      "  1%|▋                                                 | 6801/500000 [01:12<1:32:53, 88.49it/s]"
     ]
    },
    {
     "name": "stdout",
     "output_type": "stream",
     "text": [
      "['PRO_17874', 'PRO_6456']\n"
     ]
    },
    {
     "name": "stderr",
     "output_type": "stream",
     "text": [
      "  2%|▊                                                 | 7555/500000 [01:20<1:25:17, 96.22it/s]"
     ]
    },
    {
     "name": "stdout",
     "output_type": "stream",
     "text": [
      "['PRO_5000', 'PRO_3254']\n"
     ]
    },
    {
     "name": "stderr",
     "output_type": "stream",
     "text": [
      "  2%|▊                                                 | 8335/500000 [01:28<1:30:37, 90.42it/s]"
     ]
    },
    {
     "name": "stdout",
     "output_type": "stream",
     "text": [
      "['PRO_3047', 'PRO_10508']\n"
     ]
    },
    {
     "name": "stderr",
     "output_type": "stream",
     "text": [
      "  2%|▊                                                 | 8606/500000 [01:31<1:25:52, 95.37it/s]"
     ]
    },
    {
     "name": "stdout",
     "output_type": "stream",
     "text": [
      "['PRO_15616', 'PRO_20843']\n"
     ]
    },
    {
     "name": "stderr",
     "output_type": "stream",
     "text": [
      "  2%|▉                                                | 10202/500000 [01:48<1:38:03, 83.25it/s]"
     ]
    },
    {
     "name": "stdout",
     "output_type": "stream",
     "text": [
      "['PRO_21734', 'PRO_1016']\n"
     ]
    },
    {
     "name": "stderr",
     "output_type": "stream",
     "text": [
      "  2%|█                                                | 10695/500000 [01:54<1:33:34, 87.15it/s]"
     ]
    },
    {
     "name": "stdout",
     "output_type": "stream",
     "text": [
      "['PRO_11541', 'PRO_10969']\n"
     ]
    },
    {
     "name": "stderr",
     "output_type": "stream",
     "text": [
      "  3%|█▎                                               | 13179/500000 [02:21<1:22:33, 98.28it/s]"
     ]
    },
    {
     "name": "stdout",
     "output_type": "stream",
     "text": [
      "['PRO_13433', 'PRO_4255']\n"
     ]
    },
    {
     "name": "stderr",
     "output_type": "stream",
     "text": [
      "  3%|█▎                                               | 13211/500000 [02:22<1:25:50, 94.52it/s]"
     ]
    },
    {
     "name": "stdout",
     "output_type": "stream",
     "text": [
      "['PRO_15446', 'PRO_8205']\n"
     ]
    },
    {
     "name": "stderr",
     "output_type": "stream",
     "text": [
      "  3%|█▍                                               | 14448/500000 [02:35<1:25:44, 94.38it/s]"
     ]
    },
    {
     "name": "stdout",
     "output_type": "stream",
     "text": [
      "['PRO_13805', 'PRO_13671']\n"
     ]
    },
    {
     "name": "stderr",
     "output_type": "stream",
     "text": [
      "  3%|█▍                                               | 15039/500000 [02:41<1:25:26, 94.60it/s]"
     ]
    },
    {
     "name": "stdout",
     "output_type": "stream",
     "text": [
      "['PRO_13350', 'PRO_15070']\n"
     ]
    },
    {
     "name": "stderr",
     "output_type": "stream",
     "text": [
      "  3%|█▍                                               | 15159/500000 [02:43<1:25:10, 94.88it/s]"
     ]
    },
    {
     "name": "stdout",
     "output_type": "stream",
     "text": [
      "['PRO_2160', 'PRO_8590']\n"
     ]
    },
    {
     "name": "stderr",
     "output_type": "stream",
     "text": [
      "  3%|█▍                                               | 15229/500000 [02:43<1:25:06, 94.93it/s]"
     ]
    },
    {
     "name": "stdout",
     "output_type": "stream",
     "text": [
      "['PRO_3385', 'PRO_3863']\n"
     ]
    },
    {
     "name": "stderr",
     "output_type": "stream",
     "text": [
      "  3%|█▌                                               | 15445/500000 [02:46<1:25:59, 93.91it/s]"
     ]
    },
    {
     "name": "stdout",
     "output_type": "stream",
     "text": [
      "['PRO_11237', 'PRO_6551']\n"
     ]
    },
    {
     "name": "stderr",
     "output_type": "stream",
     "text": [
      "  3%|█▌                                               | 15685/500000 [02:48<1:25:47, 94.09it/s]"
     ]
    },
    {
     "name": "stdout",
     "output_type": "stream",
     "text": [
      "['PRO_3692', 'PRO_17032']\n"
     ]
    },
    {
     "name": "stderr",
     "output_type": "stream",
     "text": [
      "  3%|█▌                                               | 16215/500000 [02:54<1:26:37, 93.08it/s]"
     ]
    },
    {
     "name": "stdout",
     "output_type": "stream",
     "text": [
      "['PRO_17805', 'PRO_6304']\n"
     ]
    },
    {
     "name": "stderr",
     "output_type": "stream",
     "text": [
      "  3%|█▋                                               | 16685/500000 [02:59<1:22:47, 97.29it/s]"
     ]
    },
    {
     "name": "stdout",
     "output_type": "stream",
     "text": [
      "['PRO_20421', 'PRO_13534']\n"
     ]
    },
    {
     "name": "stderr",
     "output_type": "stream",
     "text": [
      "  3%|█▋                                               | 17375/500000 [03:06<1:23:33, 96.27it/s]"
     ]
    },
    {
     "name": "stdout",
     "output_type": "stream",
     "text": [
      "['PRO_9988', 'PRO_4735']\n"
     ]
    },
    {
     "name": "stderr",
     "output_type": "stream",
     "text": [
      "  4%|█▋                                               | 17805/500000 [03:11<1:25:27, 94.05it/s]"
     ]
    },
    {
     "name": "stdout",
     "output_type": "stream",
     "text": [
      "['PRO_10431', 'PRO_22131']\n"
     ]
    },
    {
     "name": "stderr",
     "output_type": "stream",
     "text": [
      "  4%|█▊                                               | 18496/500000 [03:18<1:23:40, 95.91it/s]"
     ]
    },
    {
     "name": "stdout",
     "output_type": "stream",
     "text": [
      "['PRO_8020', 'PRO_11423']\n"
     ]
    },
    {
     "name": "stderr",
     "output_type": "stream",
     "text": [
      "  4%|█▉                                               | 20077/500000 [03:35<1:23:21, 95.96it/s]"
     ]
    },
    {
     "name": "stdout",
     "output_type": "stream",
     "text": [
      "['PRO_11245', 'PRO_5296']\n"
     ]
    },
    {
     "name": "stderr",
     "output_type": "stream",
     "text": [
      "  4%|██                                               | 21332/500000 [03:48<1:21:53, 97.42it/s]"
     ]
    },
    {
     "name": "stdout",
     "output_type": "stream",
     "text": [
      "['PRO_17773', 'PRO_7879']\n"
     ]
    },
    {
     "name": "stderr",
     "output_type": "stream",
     "text": [
      "  5%|██▏                                              | 22782/500000 [04:03<1:23:59, 94.70it/s]"
     ]
    },
    {
     "name": "stdout",
     "output_type": "stream",
     "text": [
      "['PRO_1211', 'PRO_11437']\n"
     ]
    },
    {
     "name": "stderr",
     "output_type": "stream",
     "text": [
      "  5%|██▎                                              | 23573/500000 [04:12<1:22:04, 96.74it/s]"
     ]
    },
    {
     "name": "stdout",
     "output_type": "stream",
     "text": [
      "['PRO_7259', 'PRO_716']\n"
     ]
    },
    {
     "name": "stderr",
     "output_type": "stream",
     "text": [
      "  5%|██▎                                              | 23874/500000 [04:15<1:23:41, 94.82it/s]"
     ]
    },
    {
     "name": "stdout",
     "output_type": "stream",
     "text": [
      "['PRO_14611', 'PRO_1743']\n"
     ]
    },
    {
     "name": "stderr",
     "output_type": "stream",
     "text": [
      "  5%|██▍                                              | 25336/500000 [04:30<1:23:01, 95.28it/s]"
     ]
    },
    {
     "name": "stdout",
     "output_type": "stream",
     "text": [
      "['PRO_6158', 'PRO_4456']\n"
     ]
    },
    {
     "name": "stderr",
     "output_type": "stream",
     "text": [
      "  5%|██▍                                              | 25377/500000 [04:31<1:22:43, 95.62it/s]"
     ]
    },
    {
     "name": "stdout",
     "output_type": "stream",
     "text": [
      "['PRO_1022', 'PRO_16351']\n"
     ]
    },
    {
     "name": "stderr",
     "output_type": "stream",
     "text": [
      "  5%|██▌                                              | 25698/500000 [04:34<1:22:37, 95.66it/s]"
     ]
    },
    {
     "name": "stdout",
     "output_type": "stream",
     "text": [
      "['PRO_1168', 'PRO_16746']\n"
     ]
    },
    {
     "name": "stderr",
     "output_type": "stream",
     "text": [
      "  6%|██▋                                              | 28024/500000 [04:59<1:21:05, 97.01it/s]"
     ]
    },
    {
     "name": "stdout",
     "output_type": "stream",
     "text": [
      "['PRO_1411', 'PRO_17408']\n"
     ]
    },
    {
     "name": "stderr",
     "output_type": "stream",
     "text": [
      "  6%|███                                              | 30783/500000 [05:29<1:23:43, 93.40it/s]"
     ]
    },
    {
     "name": "stdout",
     "output_type": "stream",
     "text": [
      "['PRO_12319', 'PRO_6416']\n"
     ]
    },
    {
     "name": "stderr",
     "output_type": "stream",
     "text": [
      "  6%|███                                              | 31141/500000 [05:33<1:26:27, 90.38it/s]"
     ]
    },
    {
     "name": "stdout",
     "output_type": "stream",
     "text": [
      "['PRO_5053', 'PRO_5306']\n"
     ]
    },
    {
     "name": "stderr",
     "output_type": "stream",
     "text": [
      "  7%|███▎                                             | 33750/500000 [06:01<1:21:58, 94.80it/s]"
     ]
    },
    {
     "name": "stdout",
     "output_type": "stream",
     "text": [
      "['PRO_6311', 'PRO_21725']\n"
     ]
    },
    {
     "name": "stderr",
     "output_type": "stream",
     "text": [
      "  7%|███▎                                             | 34290/500000 [06:07<1:23:08, 93.36it/s]"
     ]
    },
    {
     "name": "stdout",
     "output_type": "stream",
     "text": [
      "['PRO_7239', 'PRO_4541']\n"
     ]
    },
    {
     "name": "stderr",
     "output_type": "stream",
     "text": [
      "  7%|███▍                                             | 35370/500000 [06:18<1:22:07, 94.30it/s]"
     ]
    },
    {
     "name": "stdout",
     "output_type": "stream",
     "text": [
      "['PRO_9609', 'PRO_88']\n"
     ]
    },
    {
     "name": "stderr",
     "output_type": "stream",
     "text": [
      "  7%|███▌                                             | 36391/500000 [06:29<1:21:03, 95.32it/s]"
     ]
    },
    {
     "name": "stdout",
     "output_type": "stream",
     "text": [
      "['PRO_1198', 'PRO_1844']\n"
     ]
    },
    {
     "name": "stderr",
     "output_type": "stream",
     "text": [
      "  7%|███▌                                             | 36642/500000 [06:32<1:20:35, 95.82it/s]"
     ]
    },
    {
     "name": "stdout",
     "output_type": "stream",
     "text": [
      "['PRO_127', 'PRO_18009']\n"
     ]
    },
    {
     "name": "stderr",
     "output_type": "stream",
     "text": [
      "  8%|███▋                                             | 37803/500000 [06:44<1:23:52, 91.85it/s]"
     ]
    },
    {
     "name": "stdout",
     "output_type": "stream",
     "text": [
      "['PRO_8320', 'PRO_20507']\n"
     ]
    },
    {
     "name": "stderr",
     "output_type": "stream",
     "text": [
      "  8%|███▋                                             | 38153/500000 [06:48<1:22:15, 93.57it/s]"
     ]
    },
    {
     "name": "stdout",
     "output_type": "stream",
     "text": [
      "['PRO_19488', 'PRO_11437']\n"
     ]
    },
    {
     "name": "stderr",
     "output_type": "stream",
     "text": [
      "  8%|███▊                                             | 39174/500000 [06:59<1:20:21, 95.59it/s]"
     ]
    },
    {
     "name": "stdout",
     "output_type": "stream",
     "text": [
      "['PRO_21195', 'PRO_8184']\n"
     ]
    },
    {
     "name": "stderr",
     "output_type": "stream",
     "text": [
      "  8%|███▊                                             | 39314/500000 [07:01<1:23:08, 92.35it/s]"
     ]
    },
    {
     "name": "stdout",
     "output_type": "stream",
     "text": [
      "['PRO_14523', 'PRO_4341']\n"
     ]
    },
    {
     "name": "stderr",
     "output_type": "stream",
     "text": [
      "  8%|███▉                                             | 39776/500000 [07:06<1:32:48, 82.65it/s]"
     ]
    },
    {
     "name": "stdout",
     "output_type": "stream",
     "text": [
      "['PRO_7186', 'PRO_19745']\n"
     ]
    },
    {
     "name": "stderr",
     "output_type": "stream",
     "text": [
      "  8%|███▉                                             | 40052/500000 [07:09<1:23:16, 92.05it/s]"
     ]
    },
    {
     "name": "stdout",
     "output_type": "stream",
     "text": [
      "['PRO_22699', 'PRO_11369']\n"
     ]
    },
    {
     "name": "stderr",
     "output_type": "stream",
     "text": [
      "  8%|████                                             | 40938/500000 [07:18<1:28:15, 86.68it/s]"
     ]
    },
    {
     "name": "stdout",
     "output_type": "stream",
     "text": [
      "['PRO_13672', 'PRO_713']\n"
     ]
    },
    {
     "name": "stderr",
     "output_type": "stream",
     "text": [
      "  8%|████                                             | 40967/500000 [07:19<1:25:39, 89.32it/s]"
     ]
    },
    {
     "name": "stdout",
     "output_type": "stream",
     "text": [
      "['PRO_7588', 'PRO_7503']\n"
     ]
    },
    {
     "name": "stderr",
     "output_type": "stream",
     "text": [
      "  8%|████                                             | 41675/500000 [07:26<1:20:34, 94.80it/s]"
     ]
    },
    {
     "name": "stdout",
     "output_type": "stream",
     "text": [
      "['PRO_7887', 'PRO_3403']\n"
     ]
    },
    {
     "name": "stderr",
     "output_type": "stream",
     "text": [
      "  8%|████▏                                            | 42307/500000 [07:33<1:23:43, 91.12it/s]"
     ]
    },
    {
     "name": "stdout",
     "output_type": "stream",
     "text": [
      "['PRO_12242', 'PRO_5249']\n"
     ]
    },
    {
     "name": "stderr",
     "output_type": "stream",
     "text": [
      "  8%|████▏                                            | 42337/500000 [07:34<1:23:37, 91.21it/s]"
     ]
    },
    {
     "name": "stdout",
     "output_type": "stream",
     "text": [
      "['PRO_19023', 'PRO_9958']\n"
     ]
    },
    {
     "name": "stderr",
     "output_type": "stream",
     "text": [
      "  8%|████▏                                            | 42457/500000 [07:35<1:20:46, 94.41it/s]"
     ]
    },
    {
     "name": "stdout",
     "output_type": "stream",
     "text": [
      "['PRO_9731', 'PRO_10638']\n"
     ]
    },
    {
     "name": "stderr",
     "output_type": "stream",
     "text": [
      "  9%|████▏                                            | 42507/500000 [07:36<1:21:59, 93.00it/s]"
     ]
    },
    {
     "name": "stdout",
     "output_type": "stream",
     "text": [
      "['PRO_13526', 'PRO_706']\n",
      "['PRO_16951', 'PRO_1505']\n"
     ]
    },
    {
     "name": "stderr",
     "output_type": "stream",
     "text": [
      "  9%|████▏                                            | 43328/500000 [07:44<1:18:44, 96.66it/s]"
     ]
    },
    {
     "name": "stdout",
     "output_type": "stream",
     "text": [
      "['PRO_23197', 'PRO_12484']\n"
     ]
    },
    {
     "name": "stderr",
     "output_type": "stream",
     "text": [
      "  9%|████▎                                            | 44349/500000 [07:55<1:20:25, 94.43it/s]"
     ]
    },
    {
     "name": "stdout",
     "output_type": "stream",
     "text": [
      "['PRO_9619', 'PRO_7259']\n"
     ]
    },
    {
     "name": "stderr",
     "output_type": "stream",
     "text": [
      "  9%|████▌                                            | 46309/500000 [08:16<1:18:59, 95.72it/s]"
     ]
    },
    {
     "name": "stdout",
     "output_type": "stream",
     "text": [
      "['PRO_5437', 'PRO_8274']\n"
     ]
    },
    {
     "name": "stderr",
     "output_type": "stream",
     "text": [
      "  9%|████▌                                            | 46369/500000 [08:17<1:18:52, 95.85it/s]"
     ]
    },
    {
     "name": "stdout",
     "output_type": "stream",
     "text": [
      "['PRO_7616', 'PRO_17389']\n"
     ]
    },
    {
     "name": "stderr",
     "output_type": "stream",
     "text": [
      "  9%|████▋                                            | 47329/500000 [08:27<1:18:45, 95.80it/s]"
     ]
    },
    {
     "name": "stdout",
     "output_type": "stream",
     "text": [
      "['PRO_20985', 'PRO_3363']\n"
     ]
    },
    {
     "name": "stderr",
     "output_type": "stream",
     "text": [
      " 10%|████▋                                            | 47750/500000 [08:31<1:21:18, 92.70it/s]"
     ]
    },
    {
     "name": "stdout",
     "output_type": "stream",
     "text": [
      "['PRO_16537', 'PRO_4026']\n"
     ]
    },
    {
     "name": "stderr",
     "output_type": "stream",
     "text": [
      " 10%|████▋                                            | 48122/500000 [08:35<1:18:30, 95.93it/s]"
     ]
    },
    {
     "name": "stdout",
     "output_type": "stream",
     "text": [
      "['PRO_6108', 'PRO_17145']\n"
     ]
    },
    {
     "name": "stderr",
     "output_type": "stream",
     "text": [
      " 10%|████▊                                            | 48734/500000 [08:42<1:16:54, 97.79it/s]"
     ]
    },
    {
     "name": "stdout",
     "output_type": "stream",
     "text": [
      "['PRO_18415', 'PRO_5249']\n"
     ]
    },
    {
     "name": "stderr",
     "output_type": "stream",
     "text": [
      " 10%|████▊                                            | 49722/500000 [08:52<1:26:25, 86.83it/s]"
     ]
    },
    {
     "name": "stdout",
     "output_type": "stream",
     "text": [
      "['PRO_15599', 'PRO_8546']\n"
     ]
    },
    {
     "name": "stderr",
     "output_type": "stream",
     "text": [
      " 10%|████▉                                            | 49951/500000 [08:55<1:33:42, 80.05it/s]"
     ]
    },
    {
     "name": "stdout",
     "output_type": "stream",
     "text": [
      "['PRO_4871', 'PRO_16772']\n"
     ]
    },
    {
     "name": "stderr",
     "output_type": "stream",
     "text": [
      " 10%|████▉                                            | 50614/500000 [09:02<1:20:45, 92.75it/s]"
     ]
    },
    {
     "name": "stdout",
     "output_type": "stream",
     "text": [
      "['PRO_18134', 'PRO_1347']\n"
     ]
    },
    {
     "name": "stderr",
     "output_type": "stream",
     "text": [
      " 10%|█████                                            | 51545/500000 [09:12<1:17:31, 96.41it/s]"
     ]
    },
    {
     "name": "stdout",
     "output_type": "stream",
     "text": [
      "['PRO_4073', 'PRO_21265']\n"
     ]
    },
    {
     "name": "stderr",
     "output_type": "stream",
     "text": [
      " 11%|█████▏                                           | 52738/500000 [09:25<1:19:34, 93.68it/s]"
     ]
    },
    {
     "name": "stdout",
     "output_type": "stream",
     "text": [
      "['PRO_16694', 'PRO_13396']\n"
     ]
    },
    {
     "name": "stderr",
     "output_type": "stream",
     "text": [
      " 11%|█████▏                                           | 53052/500000 [09:28<1:18:47, 94.54it/s]"
     ]
    },
    {
     "name": "stdout",
     "output_type": "stream",
     "text": [
      "['PRO_2376', 'PRO_21300']\n"
     ]
    },
    {
     "name": "stderr",
     "output_type": "stream",
     "text": [
      " 11%|█████▏                                           | 53413/500000 [09:32<1:17:46, 95.70it/s]"
     ]
    },
    {
     "name": "stdout",
     "output_type": "stream",
     "text": [
      "['PRO_22677', 'PRO_5392']\n"
     ]
    },
    {
     "name": "stderr",
     "output_type": "stream",
     "text": [
      " 11%|█████▎                                           | 54466/500000 [09:43<1:26:59, 85.36it/s]"
     ]
    },
    {
     "name": "stdout",
     "output_type": "stream",
     "text": [
      "['PRO_23196', 'PRO_8934']\n"
     ]
    },
    {
     "name": "stderr",
     "output_type": "stream",
     "text": [
      " 11%|█████▎                                           | 54511/500000 [09:44<1:31:54, 80.78it/s]"
     ]
    },
    {
     "name": "stdout",
     "output_type": "stream",
     "text": [
      "['PRO_15788', 'PRO_14873']\n"
     ]
    },
    {
     "name": "stderr",
     "output_type": "stream",
     "text": [
      " 11%|█████▎                                           | 54756/500000 [09:47<1:17:23, 95.89it/s]"
     ]
    },
    {
     "name": "stdout",
     "output_type": "stream",
     "text": [
      "['PRO_448', 'PRO_3285']\n"
     ]
    },
    {
     "name": "stderr",
     "output_type": "stream",
     "text": [
      " 11%|█████▍                                           | 55107/500000 [09:51<1:16:51, 96.48it/s]"
     ]
    },
    {
     "name": "stdout",
     "output_type": "stream",
     "text": [
      "['PRO_1660', 'PRO_6972']\n"
     ]
    },
    {
     "name": "stderr",
     "output_type": "stream",
     "text": [
      " 11%|█████▍                                           | 55979/500000 [10:00<1:16:11, 97.12it/s]"
     ]
    },
    {
     "name": "stdout",
     "output_type": "stream",
     "text": [
      "['PRO_18520', 'PRO_9785']\n"
     ]
    },
    {
     "name": "stderr",
     "output_type": "stream",
     "text": [
      " 11%|█████▌                                           | 56239/500000 [10:02<1:22:45, 89.37it/s]"
     ]
    },
    {
     "name": "stdout",
     "output_type": "stream",
     "text": [
      "['PRO_20441', 'PRO_5747']\n"
     ]
    },
    {
     "name": "stderr",
     "output_type": "stream",
     "text": [
      " 11%|█████▌                                           | 56289/500000 [10:03<1:19:09, 93.43it/s]"
     ]
    },
    {
     "name": "stdout",
     "output_type": "stream",
     "text": [
      "['PRO_3394', 'PRO_7143']\n"
     ]
    },
    {
     "name": "stderr",
     "output_type": "stream",
     "text": [
      " 11%|█████▌                                           | 56700/500000 [10:07<1:18:48, 93.75it/s]"
     ]
    },
    {
     "name": "stdout",
     "output_type": "stream",
     "text": [
      "['PRO_8147', 'PRO_20097']\n"
     ]
    },
    {
     "name": "stderr",
     "output_type": "stream",
     "text": [
      " 12%|█████▋                                           | 57988/500000 [10:21<1:19:24, 92.76it/s]"
     ]
    },
    {
     "name": "stdout",
     "output_type": "stream",
     "text": [
      "['PRO_20832', 'PRO_6311']\n"
     ]
    },
    {
     "name": "stderr",
     "output_type": "stream",
     "text": [
      " 12%|█████▊                                           | 59088/500000 [10:33<1:16:04, 96.60it/s]"
     ]
    },
    {
     "name": "stdout",
     "output_type": "stream",
     "text": [
      "['PRO_15681', 'PRO_8521']\n"
     ]
    },
    {
     "name": "stderr",
     "output_type": "stream",
     "text": [
      " 12%|█████▊                                           | 59300/500000 [10:35<1:16:53, 95.51it/s]"
     ]
    },
    {
     "name": "stdout",
     "output_type": "stream",
     "text": [
      "['PRO_8787', 'PRO_11225']\n"
     ]
    },
    {
     "name": "stderr",
     "output_type": "stream",
     "text": [
      " 12%|█████▊                                           | 59573/500000 [10:38<1:15:09, 97.67it/s]"
     ]
    },
    {
     "name": "stdout",
     "output_type": "stream",
     "text": [
      "['PRO_56', 'PRO_11972']\n"
     ]
    },
    {
     "name": "stderr",
     "output_type": "stream",
     "text": [
      " 12%|█████▊                                           | 59910/500000 [10:41<1:18:49, 93.05it/s]"
     ]
    },
    {
     "name": "stdout",
     "output_type": "stream",
     "text": [
      "['PRO_10229', 'PRO_21112']\n"
     ]
    },
    {
     "name": "stderr",
     "output_type": "stream",
     "text": [
      " 12%|█████▉                                           | 60729/500000 [10:50<1:14:57, 97.66it/s]"
     ]
    },
    {
     "name": "stdout",
     "output_type": "stream",
     "text": [
      "['PRO_11482', 'PRO_13526']\n"
     ]
    },
    {
     "name": "stderr",
     "output_type": "stream",
     "text": [
      " 12%|██████                                           | 61601/500000 [10:59<1:14:52, 97.59it/s]"
     ]
    },
    {
     "name": "stdout",
     "output_type": "stream",
     "text": [
      "['PRO_5048', 'PRO_11467']\n"
     ]
    },
    {
     "name": "stderr",
     "output_type": "stream",
     "text": [
      " 13%|██████▏                                          | 62763/500000 [11:12<1:15:21, 96.71it/s]"
     ]
    },
    {
     "name": "stdout",
     "output_type": "stream",
     "text": [
      "['PRO_12242', 'PRO_19271']\n"
     ]
    },
    {
     "name": "stderr",
     "output_type": "stream",
     "text": [
      " 13%|██████▏                                          | 62863/500000 [11:13<1:20:28, 90.53it/s]"
     ]
    },
    {
     "name": "stdout",
     "output_type": "stream",
     "text": [
      "['PRO_19821', 'PRO_3399']\n"
     ]
    },
    {
     "name": "stderr",
     "output_type": "stream",
     "text": [
      " 13%|██████▏                                          | 63724/500000 [11:22<1:14:07, 98.09it/s]"
     ]
    },
    {
     "name": "stdout",
     "output_type": "stream",
     "text": [
      "['PRO_19472', 'PRO_9196']\n"
     ]
    },
    {
     "name": "stderr",
     "output_type": "stream",
     "text": [
      " 13%|██████▎                                          | 64287/500000 [11:28<1:14:35, 97.35it/s]"
     ]
    },
    {
     "name": "stdout",
     "output_type": "stream",
     "text": [
      "['PRO_3494', 'PRO_11967']\n"
     ]
    },
    {
     "name": "stderr",
     "output_type": "stream",
     "text": [
      " 13%|██████▎                                          | 64498/500000 [11:30<1:14:13, 97.79it/s]"
     ]
    },
    {
     "name": "stdout",
     "output_type": "stream",
     "text": [
      "['PRO_8439', 'PRO_20107']\n"
     ]
    },
    {
     "name": "stderr",
     "output_type": "stream",
     "text": [
      " 13%|██████▎                                          | 64769/500000 [11:33<1:14:57, 96.77it/s]"
     ]
    },
    {
     "name": "stdout",
     "output_type": "stream",
     "text": [
      "['PRO_2805', 'PRO_1297']\n"
     ]
    },
    {
     "name": "stderr",
     "output_type": "stream",
     "text": [
      " 13%|██████▍                                          | 65502/500000 [11:40<1:15:08, 96.37it/s]"
     ]
    },
    {
     "name": "stdout",
     "output_type": "stream",
     "text": [
      "['PRO_3910', 'PRO_6015']\n"
     ]
    },
    {
     "name": "stderr",
     "output_type": "stream",
     "text": [
      " 13%|██████▍                                          | 65563/500000 [11:41<1:14:33, 97.11it/s]"
     ]
    },
    {
     "name": "stdout",
     "output_type": "stream",
     "text": [
      "['PRO_1277', 'PRO_19996']\n",
      "['PRO_22497', 'PRO_9466']\n"
     ]
    },
    {
     "name": "stderr",
     "output_type": "stream",
     "text": [
      " 13%|██████▍                                          | 65664/500000 [11:42<1:14:58, 96.54it/s]"
     ]
    },
    {
     "name": "stdout",
     "output_type": "stream",
     "text": [
      "['PRO_6019', 'PRO_9173']\n"
     ]
    },
    {
     "name": "stderr",
     "output_type": "stream",
     "text": [
      " 13%|██████▍                                          | 65754/500000 [11:43<1:14:46, 96.78it/s]"
     ]
    },
    {
     "name": "stdout",
     "output_type": "stream",
     "text": [
      "['PRO_5664', 'PRO_22644']\n"
     ]
    },
    {
     "name": "stderr",
     "output_type": "stream",
     "text": [
      " 13%|██████▍                                          | 65834/500000 [11:44<1:15:21, 96.01it/s]"
     ]
    },
    {
     "name": "stdout",
     "output_type": "stream",
     "text": [
      "['PRO_7058', 'PRO_9814']\n"
     ]
    },
    {
     "name": "stderr",
     "output_type": "stream",
     "text": [
      " 13%|██████▍                                          | 66074/500000 [11:46<1:15:10, 96.21it/s]"
     ]
    },
    {
     "name": "stdout",
     "output_type": "stream",
     "text": [
      "['PRO_13954', 'PRO_16150']\n"
     ]
    },
    {
     "name": "stderr",
     "output_type": "stream",
     "text": [
      " 13%|██████▌                                          | 67297/500000 [11:59<1:14:40, 96.57it/s]"
     ]
    },
    {
     "name": "stdout",
     "output_type": "stream",
     "text": [
      "['PRO_8132', 'PRO_5438']\n"
     ]
    },
    {
     "name": "stderr",
     "output_type": "stream",
     "text": [
      " 14%|██████▋                                          | 68089/500000 [12:07<1:13:24, 98.07it/s]"
     ]
    },
    {
     "name": "stdout",
     "output_type": "stream",
     "text": [
      "['PRO_6696', 'PRO_4214']\n"
     ]
    },
    {
     "name": "stderr",
     "output_type": "stream",
     "text": [
      " 14%|██████▋                                          | 68159/500000 [12:08<1:14:56, 96.04it/s]"
     ]
    },
    {
     "name": "stdout",
     "output_type": "stream",
     "text": [
      "['PRO_18511', 'PRO_6066']\n"
     ]
    },
    {
     "name": "stderr",
     "output_type": "stream",
     "text": [
      " 14%|██████▊                                          | 69310/500000 [12:20<1:15:26, 95.15it/s]"
     ]
    },
    {
     "name": "stdout",
     "output_type": "stream",
     "text": [
      "['PRO_8336', 'PRO_15960']\n"
     ]
    },
    {
     "name": "stderr",
     "output_type": "stream",
     "text": [
      " 14%|██████▉                                          | 70681/500000 [12:35<1:12:45, 98.35it/s]"
     ]
    },
    {
     "name": "stdout",
     "output_type": "stream",
     "text": [
      "['PRO_11686', 'PRO_15156']\n",
      "['PRO_20942', 'PRO_9911']\n"
     ]
    },
    {
     "name": "stderr",
     "output_type": "stream",
     "text": [
      " 14%|██████▉                                          | 70722/500000 [12:35<1:13:12, 97.73it/s]"
     ]
    },
    {
     "name": "stdout",
     "output_type": "stream",
     "text": [
      "['PRO_20204', 'PRO_15045']\n"
     ]
    },
    {
     "name": "stderr",
     "output_type": "stream",
     "text": [
      " 14%|██████▉                                          | 70812/500000 [12:36<1:15:59, 94.14it/s]"
     ]
    },
    {
     "name": "stdout",
     "output_type": "stream",
     "text": [
      "['PRO_7146', 'PRO_12042']\n"
     ]
    },
    {
     "name": "stderr",
     "output_type": "stream",
     "text": [
      " 14%|██████▉                                          | 71202/500000 [12:40<1:14:07, 96.42it/s]"
     ]
    },
    {
     "name": "stdout",
     "output_type": "stream",
     "text": [
      "['PRO_2122', 'PRO_7969']\n"
     ]
    },
    {
     "name": "stderr",
     "output_type": "stream",
     "text": [
      " 14%|███████                                          | 71729/500000 [12:46<1:16:01, 93.88it/s]"
     ]
    },
    {
     "name": "stdout",
     "output_type": "stream",
     "text": [
      "['PRO_13378', 'PRO_4955']\n"
     ]
    },
    {
     "name": "stderr",
     "output_type": "stream",
     "text": [
      " 15%|███████                                          | 72629/500000 [12:56<1:13:13, 97.28it/s]"
     ]
    },
    {
     "name": "stdout",
     "output_type": "stream",
     "text": [
      "['PRO_5150', 'PRO_9025']\n"
     ]
    },
    {
     "name": "stderr",
     "output_type": "stream",
     "text": [
      " 15%|███████▏                                         | 73158/500000 [13:01<1:16:17, 93.26it/s]"
     ]
    },
    {
     "name": "stdout",
     "output_type": "stream",
     "text": [
      "['PRO_10665', 'PRO_14599']\n"
     ]
    },
    {
     "name": "stderr",
     "output_type": "stream",
     "text": [
      " 15%|███████▎                                         | 74430/500000 [13:15<1:15:34, 93.85it/s]"
     ]
    },
    {
     "name": "stdout",
     "output_type": "stream",
     "text": [
      "['PRO_11521', 'PRO_9311']\n"
     ]
    },
    {
     "name": "stderr",
     "output_type": "stream",
     "text": [
      " 15%|███████▎                                         | 74670/500000 [13:17<1:13:43, 96.16it/s]"
     ]
    },
    {
     "name": "stdout",
     "output_type": "stream",
     "text": [
      "['PRO_8214', 'PRO_20679']\n"
     ]
    },
    {
     "name": "stderr",
     "output_type": "stream",
     "text": [
      " 15%|███████▍                                         | 75441/500000 [13:25<1:15:41, 93.48it/s]"
     ]
    },
    {
     "name": "stdout",
     "output_type": "stream",
     "text": [
      "['PRO_2270', 'PRO_6547']\n"
     ]
    },
    {
     "name": "stderr",
     "output_type": "stream",
     "text": [
      " 15%|███████▍                                         | 75522/500000 [13:26<1:13:52, 95.76it/s]"
     ]
    },
    {
     "name": "stdout",
     "output_type": "stream",
     "text": [
      "['PRO_2870', 'PRO_5380']\n"
     ]
    },
    {
     "name": "stderr",
     "output_type": "stream",
     "text": [
      " 15%|███████▍                                         | 75702/500000 [13:28<1:13:41, 95.96it/s]"
     ]
    },
    {
     "name": "stdout",
     "output_type": "stream",
     "text": [
      "['PRO_1039', 'PRO_5927']\n"
     ]
    },
    {
     "name": "stderr",
     "output_type": "stream",
     "text": [
      " 15%|███████▍                                         | 76243/500000 [13:34<1:14:46, 94.46it/s]"
     ]
    },
    {
     "name": "stdout",
     "output_type": "stream",
     "text": [
      "['PRO_8577', 'PRO_16785']\n"
     ]
    },
    {
     "name": "stderr",
     "output_type": "stream",
     "text": [
      " 15%|███████▍                                         | 76303/500000 [13:34<1:15:06, 94.02it/s]"
     ]
    },
    {
     "name": "stdout",
     "output_type": "stream",
     "text": [
      "['PRO_20903', 'PRO_11514']\n"
     ]
    },
    {
     "name": "stderr",
     "output_type": "stream",
     "text": [
      " 15%|███████▍                                         | 76464/500000 [13:36<1:14:55, 94.21it/s]"
     ]
    },
    {
     "name": "stdout",
     "output_type": "stream",
     "text": [
      "['PRO_9977', 'PRO_17199']\n"
     ]
    },
    {
     "name": "stderr",
     "output_type": "stream",
     "text": [
      " 15%|███████▌                                         | 76933/500000 [13:41<1:16:29, 92.18it/s]"
     ]
    },
    {
     "name": "stdout",
     "output_type": "stream",
     "text": [
      "['PRO_6355', 'PRO_1638']\n"
     ]
    },
    {
     "name": "stderr",
     "output_type": "stream",
     "text": [
      " 15%|███████▌                                         | 77053/500000 [13:43<1:14:42, 94.37it/s]"
     ]
    },
    {
     "name": "stdout",
     "output_type": "stream",
     "text": [
      "['PRO_5694', 'PRO_5258']\n"
     ]
    },
    {
     "name": "stderr",
     "output_type": "stream",
     "text": [
      " 15%|███████▌                                         | 77472/500000 [13:47<1:14:01, 95.14it/s]"
     ]
    },
    {
     "name": "stdout",
     "output_type": "stream",
     "text": [
      "['PRO_754', 'PRO_9002']\n"
     ]
    },
    {
     "name": "stderr",
     "output_type": "stream",
     "text": [
      " 16%|███████▋                                         | 77884/500000 [13:52<1:12:36, 96.89it/s]"
     ]
    },
    {
     "name": "stdout",
     "output_type": "stream",
     "text": [
      "['PRO_13534', 'PRO_21077']\n"
     ]
    },
    {
     "name": "stderr",
     "output_type": "stream",
     "text": [
      " 16%|███████▋                                         | 78345/500000 [13:56<1:12:26, 97.00it/s]"
     ]
    },
    {
     "name": "stdout",
     "output_type": "stream",
     "text": [
      "['PRO_941', 'PRO_4286']\n"
     ]
    },
    {
     "name": "stderr",
     "output_type": "stream",
     "text": [
      " 16%|███████▋                                         | 78635/500000 [14:00<1:13:32, 95.50it/s]"
     ]
    },
    {
     "name": "stdout",
     "output_type": "stream",
     "text": [
      "['PRO_20507', 'PRO_9691']\n"
     ]
    },
    {
     "name": "stderr",
     "output_type": "stream",
     "text": [
      " 16%|████████                                         | 82042/500000 [14:37<1:19:57, 87.12it/s]"
     ]
    },
    {
     "name": "stdout",
     "output_type": "stream",
     "text": [
      "['PRO_20698', 'PRO_7749']\n"
     ]
    },
    {
     "name": "stderr",
     "output_type": "stream",
     "text": [
      " 16%|████████                                         | 82385/500000 [14:41<1:17:41, 89.59it/s]"
     ]
    },
    {
     "name": "stdout",
     "output_type": "stream",
     "text": [
      "['PRO_901', 'PRO_6475']\n"
     ]
    },
    {
     "name": "stderr",
     "output_type": "stream",
     "text": [
      " 16%|████████                                         | 82472/500000 [14:41<1:17:31, 89.77it/s]"
     ]
    },
    {
     "name": "stdout",
     "output_type": "stream",
     "text": [
      "['PRO_7548', 'PRO_3135']\n"
     ]
    },
    {
     "name": "stderr",
     "output_type": "stream",
     "text": [
      " 16%|████████                                         | 82492/500000 [14:42<1:16:42, 90.71it/s]"
     ]
    },
    {
     "name": "stdout",
     "output_type": "stream",
     "text": [
      "['PRO_12156', 'PRO_5770']\n"
     ]
    },
    {
     "name": "stderr",
     "output_type": "stream",
     "text": [
      " 17%|████████▏                                        | 83485/500000 [14:53<1:19:07, 87.74it/s]"
     ]
    },
    {
     "name": "stdout",
     "output_type": "stream",
     "text": [
      "['PRO_16077', 'PRO_834']\n"
     ]
    },
    {
     "name": "stderr",
     "output_type": "stream",
     "text": [
      " 17%|████████▏                                        | 83741/500000 [14:56<1:17:43, 89.25it/s]"
     ]
    },
    {
     "name": "stdout",
     "output_type": "stream",
     "text": [
      "['PRO_1253', 'PRO_4674']\n"
     ]
    },
    {
     "name": "stderr",
     "output_type": "stream",
     "text": [
      " 17%|████████▎                                        | 84201/500000 [15:01<1:17:07, 89.86it/s]"
     ]
    },
    {
     "name": "stdout",
     "output_type": "stream",
     "text": [
      "['PRO_4685', 'PRO_6121']\n"
     ]
    },
    {
     "name": "stderr",
     "output_type": "stream",
     "text": [
      " 17%|████████▎                                        | 84464/500000 [15:04<1:14:43, 92.67it/s]"
     ]
    },
    {
     "name": "stdout",
     "output_type": "stream",
     "text": [
      "['PRO_21443', 'PRO_18511']\n"
     ]
    },
    {
     "name": "stderr",
     "output_type": "stream",
     "text": [
      " 17%|████████▍                                        | 86410/500000 [15:25<1:13:33, 93.71it/s]"
     ]
    },
    {
     "name": "stdout",
     "output_type": "stream",
     "text": [
      "['PRO_16150', 'PRO_8788']\n"
     ]
    },
    {
     "name": "stderr",
     "output_type": "stream",
     "text": [
      " 17%|████████▌                                        | 86741/500000 [15:29<1:11:12, 96.73it/s]"
     ]
    },
    {
     "name": "stdout",
     "output_type": "stream",
     "text": [
      "['PRO_17779', 'PRO_963']\n"
     ]
    },
    {
     "name": "stderr",
     "output_type": "stream",
     "text": [
      " 17%|████████▌                                        | 87171/500000 [15:34<1:11:18, 96.49it/s]"
     ]
    },
    {
     "name": "stdout",
     "output_type": "stream",
     "text": [
      "['PRO_4026', 'PRO_1750']\n"
     ]
    },
    {
     "name": "stderr",
     "output_type": "stream",
     "text": [
      " 18%|████████▌                                        | 87641/500000 [15:39<1:11:47, 95.73it/s]"
     ]
    },
    {
     "name": "stdout",
     "output_type": "stream",
     "text": [
      "['PRO_8136', 'PRO_17482']\n"
     ]
    },
    {
     "name": "stderr",
     "output_type": "stream",
     "text": [
      " 18%|████████▋                                        | 88152/500000 [15:44<1:12:10, 95.11it/s]"
     ]
    },
    {
     "name": "stdout",
     "output_type": "stream",
     "text": [
      "['PRO_9445', 'PRO_2046']\n"
     ]
    },
    {
     "name": "stderr",
     "output_type": "stream",
     "text": [
      " 18%|████████▋                                        | 88414/500000 [15:47<1:11:29, 95.95it/s]"
     ]
    },
    {
     "name": "stdout",
     "output_type": "stream",
     "text": [
      "['PRO_17357', 'PRO_3210']\n"
     ]
    },
    {
     "name": "stderr",
     "output_type": "stream",
     "text": [
      " 18%|████████▊                                        | 89474/500000 [15:58<1:10:22, 97.23it/s]"
     ]
    },
    {
     "name": "stdout",
     "output_type": "stream",
     "text": [
      "['PRO_2656', 'PRO_12853']\n"
     ]
    },
    {
     "name": "stderr",
     "output_type": "stream",
     "text": [
      " 18%|████████▊                                        | 89624/500000 [15:59<1:12:59, 93.70it/s]"
     ]
    },
    {
     "name": "stdout",
     "output_type": "stream",
     "text": [
      "['PRO_8825', 'PRO_84']\n"
     ]
    },
    {
     "name": "stderr",
     "output_type": "stream",
     "text": [
      " 18%|████████▊                                        | 90255/500000 [16:06<1:10:37, 96.70it/s]"
     ]
    },
    {
     "name": "stdout",
     "output_type": "stream",
     "text": [
      "['PRO_9809', 'PRO_6465']\n"
     ]
    },
    {
     "name": "stderr",
     "output_type": "stream",
     "text": [
      " 18%|████████▉                                        | 91055/500000 [16:15<1:11:02, 95.95it/s]"
     ]
    },
    {
     "name": "stdout",
     "output_type": "stream",
     "text": [
      "['PRO_22614', 'PRO_12489']\n"
     ]
    },
    {
     "name": "stderr",
     "output_type": "stream",
     "text": [
      " 18%|█████████                                        | 91996/500000 [16:25<1:09:57, 97.21it/s]"
     ]
    },
    {
     "name": "stdout",
     "output_type": "stream",
     "text": [
      "['PRO_19042', 'PRO_2581']\n"
     ]
    },
    {
     "name": "stderr",
     "output_type": "stream",
     "text": [
      " 19%|█████████                                        | 92927/500000 [16:34<1:11:07, 95.38it/s]"
     ]
    },
    {
     "name": "stdout",
     "output_type": "stream",
     "text": [
      "['PRO_3618', 'PRO_21119']\n"
     ]
    },
    {
     "name": "stderr",
     "output_type": "stream",
     "text": [
      " 19%|█████████▏                                       | 93608/500000 [16:42<1:10:25, 96.17it/s]"
     ]
    },
    {
     "name": "stdout",
     "output_type": "stream",
     "text": [
      "['PRO_7979', 'PRO_7404']\n"
     ]
    },
    {
     "name": "stderr",
     "output_type": "stream",
     "text": [
      " 19%|█████████▎                                       | 94768/500000 [16:54<1:10:21, 95.99it/s]"
     ]
    },
    {
     "name": "stdout",
     "output_type": "stream",
     "text": [
      "['PRO_22678', 'PRO_3281']\n"
     ]
    },
    {
     "name": "stderr",
     "output_type": "stream",
     "text": [
      " 19%|█████████▎                                       | 94828/500000 [16:54<1:10:59, 95.13it/s]"
     ]
    },
    {
     "name": "stdout",
     "output_type": "stream",
     "text": [
      "['PRO_11029', 'PRO_17812']\n"
     ]
    },
    {
     "name": "stderr",
     "output_type": "stream",
     "text": [
      " 19%|█████████▎                                       | 95368/500000 [17:00<1:10:02, 96.28it/s]"
     ]
    },
    {
     "name": "stdout",
     "output_type": "stream",
     "text": [
      "['PRO_21045', 'PRO_1140']\n"
     ]
    },
    {
     "name": "stderr",
     "output_type": "stream",
     "text": [
      " 19%|█████████▌                                       | 97213/500000 [17:20<1:15:08, 89.35it/s]"
     ]
    },
    {
     "name": "stdout",
     "output_type": "stream",
     "text": [
      "['PRO_15053', 'PRO_6547']\n"
     ]
    },
    {
     "name": "stderr",
     "output_type": "stream",
     "text": [
      " 20%|█████████▌                                       | 97601/500000 [17:25<1:12:24, 92.62it/s]"
     ]
    },
    {
     "name": "stdout",
     "output_type": "stream",
     "text": [
      "['PRO_13349', 'PRO_11126']\n"
     ]
    },
    {
     "name": "stderr",
     "output_type": "stream",
     "text": [
      " 20%|█████████▌                                       | 97811/500000 [17:27<1:09:50, 95.98it/s]"
     ]
    },
    {
     "name": "stdout",
     "output_type": "stream",
     "text": [
      "['PRO_22337', 'PRO_2046']\n"
     ]
    },
    {
     "name": "stderr",
     "output_type": "stream",
     "text": [
      " 20%|█████████▌                                       | 98121/500000 [17:30<1:10:42, 94.73it/s]"
     ]
    },
    {
     "name": "stdout",
     "output_type": "stream",
     "text": [
      "['PRO_16199', 'PRO_21686']\n"
     ]
    },
    {
     "name": "stderr",
     "output_type": "stream",
     "text": [
      " 20%|█████████▊                                       | 99813/500000 [17:48<1:09:26, 96.05it/s]"
     ]
    },
    {
     "name": "stdout",
     "output_type": "stream",
     "text": [
      "['PRO_6783', 'PRO_23248']\n"
     ]
    },
    {
     "name": "stderr",
     "output_type": "stream",
     "text": [
      " 20%|█████████▋                                      | 100899/500000 [18:00<1:11:49, 92.62it/s]"
     ]
    },
    {
     "name": "stdout",
     "output_type": "stream",
     "text": [
      "['PRO_8950', 'PRO_127']\n"
     ]
    },
    {
     "name": "stderr",
     "output_type": "stream",
     "text": [
      " 20%|█████████▊                                      | 101919/500000 [18:11<1:08:48, 96.42it/s]"
     ]
    },
    {
     "name": "stdout",
     "output_type": "stream",
     "text": [
      "['PRO_19426', 'PRO_8019']\n"
     ]
    },
    {
     "name": "stderr",
     "output_type": "stream",
     "text": [
      " 21%|█████████▉                                      | 104059/500000 [18:34<1:08:53, 95.80it/s]"
     ]
    },
    {
     "name": "stdout",
     "output_type": "stream",
     "text": [
      "['PRO_22270', 'PRO_22548']\n"
     ]
    },
    {
     "name": "stderr",
     "output_type": "stream",
     "text": [
      " 21%|██████████                                      | 104500/500000 [18:38<1:08:04, 96.84it/s]"
     ]
    },
    {
     "name": "stdout",
     "output_type": "stream",
     "text": [
      "['PRO_5747', 'PRO_17381']\n"
     ]
    },
    {
     "name": "stderr",
     "output_type": "stream",
     "text": [
      " 21%|██████████                                      | 104840/500000 [18:42<1:09:37, 94.59it/s]"
     ]
    },
    {
     "name": "stdout",
     "output_type": "stream",
     "text": [
      "['PRO_8787', 'PRO_7729']\n"
     ]
    },
    {
     "name": "stderr",
     "output_type": "stream",
     "text": [
      " 21%|██████████▏                                     | 105684/500000 [18:51<1:09:46, 94.19it/s]"
     ]
    },
    {
     "name": "stdout",
     "output_type": "stream",
     "text": [
      "['PRO_7499', 'PRO_3988']\n"
     ]
    },
    {
     "name": "stderr",
     "output_type": "stream",
     "text": [
      " 21%|██████████▏                                     | 105805/500000 [18:52<1:07:33, 97.24it/s]"
     ]
    },
    {
     "name": "stdout",
     "output_type": "stream",
     "text": [
      "['PRO_21865', 'PRO_17779']\n"
     ]
    },
    {
     "name": "stderr",
     "output_type": "stream",
     "text": [
      " 21%|██████████▏                                     | 105986/500000 [18:54<1:07:45, 96.91it/s]"
     ]
    },
    {
     "name": "stdout",
     "output_type": "stream",
     "text": [
      "['PRO_8679', 'PRO_869']\n"
     ]
    },
    {
     "name": "stderr",
     "output_type": "stream",
     "text": [
      " 21%|██████████▏                                     | 106076/500000 [18:55<1:09:03, 95.08it/s]"
     ]
    },
    {
     "name": "stdout",
     "output_type": "stream",
     "text": [
      "['PRO_9526', 'PRO_21757']\n"
     ]
    },
    {
     "name": "stderr",
     "output_type": "stream",
     "text": [
      " 21%|██████████▏                                     | 106517/500000 [19:00<1:07:46, 96.77it/s]"
     ]
    },
    {
     "name": "stdout",
     "output_type": "stream",
     "text": [
      "['PRO_5154', 'PRO_13858']\n"
     ]
    },
    {
     "name": "stderr",
     "output_type": "stream",
     "text": [
      " 21%|██████████▏                                     | 106638/500000 [19:01<1:07:20, 97.36it/s]"
     ]
    },
    {
     "name": "stdout",
     "output_type": "stream",
     "text": [
      "['PRO_16271', 'PRO_9772']\n"
     ]
    },
    {
     "name": "stderr",
     "output_type": "stream",
     "text": [
      " 21%|██████████▎                                     | 107028/500000 [19:05<1:09:20, 94.45it/s]"
     ]
    },
    {
     "name": "stdout",
     "output_type": "stream",
     "text": [
      "['PRO_3722', 'PRO_17654']\n"
     ]
    },
    {
     "name": "stderr",
     "output_type": "stream",
     "text": [
      " 21%|██████████▎                                     | 107128/500000 [19:06<1:09:32, 94.17it/s]"
     ]
    },
    {
     "name": "stdout",
     "output_type": "stream",
     "text": [
      "['PRO_11060', 'PRO_8277']\n"
     ]
    },
    {
     "name": "stderr",
     "output_type": "stream",
     "text": [
      " 22%|██████████▎                                     | 107564/500000 [19:11<1:16:51, 85.11it/s]"
     ]
    },
    {
     "name": "stdout",
     "output_type": "stream",
     "text": [
      "['PRO_3219', 'PRO_16781']\n"
     ]
    },
    {
     "name": "stderr",
     "output_type": "stream",
     "text": [
      " 22%|██████████▍                                     | 108732/500000 [19:24<1:07:13, 96.99it/s]"
     ]
    },
    {
     "name": "stdout",
     "output_type": "stream",
     "text": [
      "['PRO_4917', 'PRO_17435']\n"
     ]
    },
    {
     "name": "stderr",
     "output_type": "stream",
     "text": [
      " 22%|██████████▌                                     | 110603/500000 [19:43<1:07:37, 95.97it/s]"
     ]
    },
    {
     "name": "stdout",
     "output_type": "stream",
     "text": [
      "['PRO_2147', 'PRO_7065']\n"
     ]
    },
    {
     "name": "stderr",
     "output_type": "stream",
     "text": [
      " 23%|██████████▉                                     | 114434/500000 [20:24<1:08:21, 94.01it/s]"
     ]
    },
    {
     "name": "stdout",
     "output_type": "stream",
     "text": [
      "['PRO_14254', 'PRO_3385']\n"
     ]
    },
    {
     "name": "stderr",
     "output_type": "stream",
     "text": [
      " 23%|███████████                                     | 114815/500000 [20:28<1:06:55, 95.92it/s]"
     ]
    },
    {
     "name": "stdout",
     "output_type": "stream",
     "text": [
      "['PRO_21734', 'PRO_10261']\n"
     ]
    },
    {
     "name": "stderr",
     "output_type": "stream",
     "text": [
      " 23%|███████████                                     | 115405/500000 [20:34<1:08:28, 93.61it/s]"
     ]
    },
    {
     "name": "stdout",
     "output_type": "stream",
     "text": [
      "['PRO_18003', 'PRO_15572']\n"
     ]
    },
    {
     "name": "stderr",
     "output_type": "stream",
     "text": [
      " 23%|███████████▏                                    | 115976/500000 [20:40<1:06:07, 96.79it/s]"
     ]
    },
    {
     "name": "stdout",
     "output_type": "stream",
     "text": [
      "['PRO_6052', 'PRO_12885']\n"
     ]
    },
    {
     "name": "stderr",
     "output_type": "stream",
     "text": [
      " 23%|███████████▏                                    | 116416/500000 [20:45<1:06:21, 96.35it/s]"
     ]
    },
    {
     "name": "stdout",
     "output_type": "stream",
     "text": [
      "['PRO_15603', 'PRO_22235']\n"
     ]
    },
    {
     "name": "stderr",
     "output_type": "stream",
     "text": [
      " 23%|███████████▏                                    | 116487/500000 [20:45<1:06:04, 96.73it/s]"
     ]
    },
    {
     "name": "stdout",
     "output_type": "stream",
     "text": [
      "['PRO_12924', 'PRO_12229']\n"
     ]
    },
    {
     "name": "stderr",
     "output_type": "stream",
     "text": [
      " 23%|███████████▏                                    | 117078/500000 [20:52<1:06:58, 95.30it/s]"
     ]
    },
    {
     "name": "stdout",
     "output_type": "stream",
     "text": [
      "['PRO_4960', 'PRO_11798']\n"
     ]
    },
    {
     "name": "stderr",
     "output_type": "stream",
     "text": [
      " 24%|███████████▎                                    | 117668/500000 [20:58<1:07:13, 94.79it/s]"
     ]
    },
    {
     "name": "stdout",
     "output_type": "stream",
     "text": [
      "['PRO_19983', 'PRO_7633']\n"
     ]
    },
    {
     "name": "stderr",
     "output_type": "stream",
     "text": [
      " 24%|███████████▎                                    | 117818/500000 [20:59<1:06:49, 95.31it/s]"
     ]
    },
    {
     "name": "stdout",
     "output_type": "stream",
     "text": [
      "['PRO_9433', 'PRO_19084']\n"
     ]
    },
    {
     "name": "stderr",
     "output_type": "stream",
     "text": [
      " 24%|███████████▎                                    | 118158/500000 [21:03<1:06:51, 95.18it/s]"
     ]
    },
    {
     "name": "stdout",
     "output_type": "stream",
     "text": [
      "['PRO_19913', 'PRO_9018']\n"
     ]
    },
    {
     "name": "stderr",
     "output_type": "stream",
     "text": [
      " 24%|███████████▎                                    | 118289/500000 [21:04<1:05:53, 96.56it/s]"
     ]
    },
    {
     "name": "stdout",
     "output_type": "stream",
     "text": [
      "['PRO_1051', 'PRO_4810']\n"
     ]
    },
    {
     "name": "stderr",
     "output_type": "stream",
     "text": [
      " 24%|███████████▍                                    | 118881/500000 [21:11<1:06:23, 95.68it/s]"
     ]
    },
    {
     "name": "stdout",
     "output_type": "stream",
     "text": [
      "['PRO_1671', 'PRO_20355']\n"
     ]
    },
    {
     "name": "stderr",
     "output_type": "stream",
     "text": [
      " 24%|███████████▍                                    | 118992/500000 [21:12<1:06:19, 95.73it/s]"
     ]
    },
    {
     "name": "stdout",
     "output_type": "stream",
     "text": [
      "['PRO_7276', 'PRO_6203']\n"
     ]
    },
    {
     "name": "stderr",
     "output_type": "stream",
     "text": [
      " 24%|███████████▌                                    | 120262/500000 [21:25<1:06:28, 95.21it/s]"
     ]
    },
    {
     "name": "stdout",
     "output_type": "stream",
     "text": [
      "['PRO_7836', 'PRO_8489']\n"
     ]
    },
    {
     "name": "stderr",
     "output_type": "stream",
     "text": [
      " 24%|███████████▌                                    | 120542/500000 [21:28<1:05:58, 95.87it/s]"
     ]
    },
    {
     "name": "stdout",
     "output_type": "stream",
     "text": [
      "['PRO_18018', 'PRO_8618']\n"
     ]
    },
    {
     "name": "stderr",
     "output_type": "stream",
     "text": [
      " 24%|███████████▌                                    | 120693/500000 [21:30<1:05:57, 95.85it/s]"
     ]
    },
    {
     "name": "stdout",
     "output_type": "stream",
     "text": [
      "['PRO_10016', 'PRO_13119']\n"
     ]
    },
    {
     "name": "stderr",
     "output_type": "stream",
     "text": [
      " 24%|███████████▋                                    | 121232/500000 [21:36<1:06:59, 94.24it/s]"
     ]
    },
    {
     "name": "stdout",
     "output_type": "stream",
     "text": [
      "['PRO_4430', 'PRO_7496']\n"
     ]
    },
    {
     "name": "stderr",
     "output_type": "stream",
     "text": [
      " 24%|███████████▋                                    | 121542/500000 [21:39<1:06:36, 94.70it/s]"
     ]
    },
    {
     "name": "stdout",
     "output_type": "stream",
     "text": [
      "['PRO_7158', 'PRO_20463']\n"
     ]
    },
    {
     "name": "stderr",
     "output_type": "stream",
     "text": [
      " 24%|███████████▋                                    | 122363/500000 [21:48<1:05:10, 96.57it/s]"
     ]
    },
    {
     "name": "stdout",
     "output_type": "stream",
     "text": [
      "['PRO_616', 'PRO_2839']\n"
     ]
    },
    {
     "name": "stderr",
     "output_type": "stream",
     "text": [
      " 25%|███████████▊                                    | 122893/500000 [21:53<1:08:01, 92.38it/s]"
     ]
    },
    {
     "name": "stdout",
     "output_type": "stream",
     "text": [
      "['PRO_15544', 'PRO_8436']\n"
     ]
    },
    {
     "name": "stderr",
     "output_type": "stream",
     "text": [
      " 25%|███████████▉                                    | 124552/500000 [22:11<1:06:41, 93.82it/s]"
     ]
    },
    {
     "name": "stdout",
     "output_type": "stream",
     "text": [
      "['PRO_19299', 'PRO_3813']\n"
     ]
    },
    {
     "name": "stderr",
     "output_type": "stream",
     "text": [
      " 25%|████████████▏                                   | 126820/500000 [22:35<1:04:13, 96.85it/s]"
     ]
    },
    {
     "name": "stdout",
     "output_type": "stream",
     "text": [
      "['PRO_22325', 'PRO_3312']\n"
     ]
    },
    {
     "name": "stderr",
     "output_type": "stream",
     "text": [
      " 26%|████████████▎                                   | 127911/500000 [22:47<1:04:39, 95.90it/s]"
     ]
    },
    {
     "name": "stdout",
     "output_type": "stream",
     "text": [
      "['PRO_4528', 'PRO_16317']\n"
     ]
    },
    {
     "name": "stderr",
     "output_type": "stream",
     "text": [
      " 26%|████████████▎                                   | 128041/500000 [22:48<1:06:28, 93.25it/s]"
     ]
    },
    {
     "name": "stdout",
     "output_type": "stream",
     "text": [
      "['PRO_19711', 'PRO_12015']\n"
     ]
    },
    {
     "name": "stderr",
     "output_type": "stream",
     "text": [
      " 26%|████████████▎                                   | 128409/500000 [22:52<1:04:51, 95.50it/s]"
     ]
    },
    {
     "name": "stdout",
     "output_type": "stream",
     "text": [
      "['PRO_18639', 'PRO_13183']\n"
     ]
    },
    {
     "name": "stderr",
     "output_type": "stream",
     "text": [
      " 26%|████████████▍                                   | 128919/500000 [22:58<1:04:40, 95.62it/s]"
     ]
    },
    {
     "name": "stdout",
     "output_type": "stream",
     "text": [
      "['PRO_4461', 'PRO_1032']\n"
     ]
    },
    {
     "name": "stderr",
     "output_type": "stream",
     "text": [
      " 26%|████████████▍                                   | 129646/500000 [23:05<1:04:58, 95.00it/s]"
     ]
    },
    {
     "name": "stdout",
     "output_type": "stream",
     "text": [
      "['PRO_5648', 'PRO_18709']\n"
     ]
    },
    {
     "name": "stderr",
     "output_type": "stream",
     "text": [
      " 26%|████████████▍                                   | 130147/500000 [23:11<1:03:07, 97.64it/s]"
     ]
    },
    {
     "name": "stdout",
     "output_type": "stream",
     "text": [
      "['PRO_4344', 'PRO_3048']\n"
     ]
    },
    {
     "name": "stderr",
     "output_type": "stream",
     "text": [
      " 26%|████████████▍                                   | 130198/500000 [23:11<1:04:12, 96.00it/s]"
     ]
    },
    {
     "name": "stdout",
     "output_type": "stream",
     "text": [
      "['PRO_16891', 'PRO_13653']\n"
     ]
    },
    {
     "name": "stderr",
     "output_type": "stream",
     "text": [
      " 26%|████████████▌                                   | 131008/500000 [23:20<1:04:43, 95.01it/s]"
     ]
    },
    {
     "name": "stdout",
     "output_type": "stream",
     "text": [
      "['PRO_5878', 'PRO_12958']\n"
     ]
    },
    {
     "name": "stderr",
     "output_type": "stream",
     "text": [
      " 26%|████████████▋                                   | 132249/500000 [23:33<1:04:00, 95.75it/s]"
     ]
    },
    {
     "name": "stdout",
     "output_type": "stream",
     "text": [
      "['PRO_13446', 'PRO_19290']\n"
     ]
    },
    {
     "name": "stderr",
     "output_type": "stream",
     "text": [
      " 26%|████████████▋                                   | 132479/500000 [23:35<1:07:02, 91.37it/s]"
     ]
    },
    {
     "name": "stdout",
     "output_type": "stream",
     "text": [
      "['PRO_4850', 'PRO_10399']\n"
     ]
    },
    {
     "name": "stderr",
     "output_type": "stream",
     "text": [
      " 27%|████████████▊                                   | 132960/500000 [23:40<1:04:37, 94.65it/s]"
     ]
    },
    {
     "name": "stdout",
     "output_type": "stream",
     "text": [
      "['PRO_4315', 'PRO_17913']\n"
     ]
    },
    {
     "name": "stderr",
     "output_type": "stream",
     "text": [
      " 27%|████████████▊                                   | 133190/500000 [23:43<1:05:17, 93.62it/s]"
     ]
    },
    {
     "name": "stdout",
     "output_type": "stream",
     "text": [
      "['PRO_14864', 'PRO_7779']\n"
     ]
    },
    {
     "name": "stderr",
     "output_type": "stream",
     "text": [
      " 27%|████████████▊                                   | 133551/500000 [23:47<1:03:55, 95.53it/s]"
     ]
    },
    {
     "name": "stdout",
     "output_type": "stream",
     "text": [
      "['PRO_6560', 'PRO_6101']\n"
     ]
    },
    {
     "name": "stderr",
     "output_type": "stream",
     "text": [
      " 27%|████████████▊                                   | 133671/500000 [23:48<1:03:01, 96.88it/s]"
     ]
    },
    {
     "name": "stdout",
     "output_type": "stream",
     "text": [
      "['PRO_17029', 'PRO_15671']\n"
     ]
    },
    {
     "name": "stderr",
     "output_type": "stream",
     "text": [
      " 27%|████████████▊                                   | 134081/500000 [23:52<1:04:32, 94.50it/s]"
     ]
    },
    {
     "name": "stdout",
     "output_type": "stream",
     "text": [
      "['PRO_11326', 'PRO_17052']\n"
     ]
    },
    {
     "name": "stderr",
     "output_type": "stream",
     "text": [
      " 27%|█████████████                                   | 136482/500000 [24:18<1:03:30, 95.39it/s]"
     ]
    },
    {
     "name": "stdout",
     "output_type": "stream",
     "text": [
      "['PRO_20481', 'PRO_22359']\n"
     ]
    },
    {
     "name": "stderr",
     "output_type": "stream",
     "text": [
      " 27%|█████████████                                   | 136572/500000 [24:19<1:04:30, 93.89it/s]"
     ]
    },
    {
     "name": "stdout",
     "output_type": "stream",
     "text": [
      "['PRO_5492', 'PRO_1253']\n"
     ]
    },
    {
     "name": "stderr",
     "output_type": "stream",
     "text": [
      " 27%|█████████████▏                                  | 137013/500000 [24:23<1:02:45, 96.40it/s]"
     ]
    },
    {
     "name": "stdout",
     "output_type": "stream",
     "text": [
      "['PRO_19797', 'PRO_21377']\n"
     ]
    },
    {
     "name": "stderr",
     "output_type": "stream",
     "text": [
      " 27%|█████████████▏                                  | 137154/500000 [24:25<1:02:15, 97.12it/s]"
     ]
    },
    {
     "name": "stdout",
     "output_type": "stream",
     "text": [
      "['PRO_2516', 'PRO_10508']\n"
     ]
    },
    {
     "name": "stderr",
     "output_type": "stream",
     "text": [
      " 27%|█████████████▏                                  | 137474/500000 [24:28<1:04:16, 94.00it/s]"
     ]
    },
    {
     "name": "stdout",
     "output_type": "stream",
     "text": [
      "['PRO_21099', 'PRO_5903']\n"
     ]
    },
    {
     "name": "stderr",
     "output_type": "stream",
     "text": [
      " 28%|█████████████▏                                  | 137604/500000 [24:30<1:04:16, 93.98it/s]"
     ]
    },
    {
     "name": "stdout",
     "output_type": "stream",
     "text": [
      "['PRO_5582', 'PRO_9263']\n"
     ]
    },
    {
     "name": "stderr",
     "output_type": "stream",
     "text": [
      " 28%|█████████████▏                                  | 137874/500000 [24:33<1:03:35, 94.91it/s]"
     ]
    },
    {
     "name": "stdout",
     "output_type": "stream",
     "text": [
      "['PRO_12709', 'PRO_12536']\n"
     ]
    },
    {
     "name": "stderr",
     "output_type": "stream",
     "text": [
      " 28%|█████████████▏                                  | 137945/500000 [24:33<1:03:04, 95.66it/s]"
     ]
    },
    {
     "name": "stdout",
     "output_type": "stream",
     "text": [
      "['PRO_6572', 'PRO_14077']\n"
     ]
    },
    {
     "name": "stderr",
     "output_type": "stream",
     "text": [
      " 28%|█████████████▌                                  | 141022/500000 [25:07<1:07:23, 88.78it/s]"
     ]
    },
    {
     "name": "stdout",
     "output_type": "stream",
     "text": [
      "['PRO_7458', 'PRO_17774']\n"
     ]
    },
    {
     "name": "stderr",
     "output_type": "stream",
     "text": [
      " 28%|█████████████▌                                  | 141472/500000 [25:12<1:02:07, 96.19it/s]"
     ]
    },
    {
     "name": "stdout",
     "output_type": "stream",
     "text": [
      "['PRO_13726', 'PRO_20955']\n"
     ]
    },
    {
     "name": "stderr",
     "output_type": "stream",
     "text": [
      " 28%|█████████████▌                                  | 141622/500000 [25:13<1:03:42, 93.76it/s]"
     ]
    },
    {
     "name": "stdout",
     "output_type": "stream",
     "text": [
      "['PRO_2990', 'PRO_17874']\n"
     ]
    },
    {
     "name": "stderr",
     "output_type": "stream",
     "text": [
      " 29%|█████████████▋                                  | 142583/500000 [25:24<1:01:44, 96.48it/s]"
     ]
    },
    {
     "name": "stdout",
     "output_type": "stream",
     "text": [
      "['PRO_14289', 'PRO_6458']\n"
     ]
    },
    {
     "name": "stderr",
     "output_type": "stream",
     "text": [
      " 29%|█████████████▋                                  | 142943/500000 [25:27<1:02:13, 95.64it/s]"
     ]
    },
    {
     "name": "stdout",
     "output_type": "stream",
     "text": [
      "['PRO_1512', 'PRO_8298']\n",
      "['PRO_874', 'PRO_11857']\n"
     ]
    },
    {
     "name": "stderr",
     "output_type": "stream",
     "text": [
      " 29%|█████████████▉                                  | 145103/500000 [25:50<1:02:55, 94.01it/s]"
     ]
    },
    {
     "name": "stdout",
     "output_type": "stream",
     "text": [
      "['PRO_14217', 'PRO_21173']\n"
     ]
    },
    {
     "name": "stderr",
     "output_type": "stream",
     "text": [
      " 29%|██████████████                                  | 146243/500000 [26:03<1:03:00, 93.57it/s]"
     ]
    },
    {
     "name": "stdout",
     "output_type": "stream",
     "text": [
      "['PRO_7490', 'PRO_1148']\n"
     ]
    },
    {
     "name": "stderr",
     "output_type": "stream",
     "text": [
      " 29%|██████████████                                  | 146672/500000 [26:07<1:01:59, 94.99it/s]"
     ]
    },
    {
     "name": "stdout",
     "output_type": "stream",
     "text": [
      "['PRO_10033', 'PRO_21780']\n"
     ]
    },
    {
     "name": "stderr",
     "output_type": "stream",
     "text": [
      " 30%|██████████████▏                                 | 147871/500000 [26:20<1:00:49, 96.50it/s]"
     ]
    },
    {
     "name": "stdout",
     "output_type": "stream",
     "text": [
      "['PRO_9646', 'PRO_15743']\n"
     ]
    },
    {
     "name": "stderr",
     "output_type": "stream",
     "text": [
      " 30%|██████████████▎                                 | 148541/500000 [26:27<1:06:28, 88.12it/s]"
     ]
    }
   ],
   "source": [
    "neg_train_pairs = []\n",
    "for i in tqdm(all_possible_train_set_protein_pairs):\n",
    "    \n",
    "    if i in positive_train_set_pairs:\n",
    "        print(i)\n",
    "        \n",
    "        continue\n",
    "    else:\n",
    "        neg_train_pairs.append(i)"
   ]
  },
  {
   "cell_type": "code",
   "execution_count": null,
   "id": "8d27cb2c",
   "metadata": {},
   "outputs": [],
   "source": []
  }
 ],
 "metadata": {
  "kernelspec": {
   "display_name": "Python 3 (ipykernel)",
   "language": "python",
   "name": "python3"
  },
  "language_info": {
   "codemirror_mode": {
    "name": "ipython",
    "version": 3
   },
   "file_extension": ".py",
   "mimetype": "text/x-python",
   "name": "python",
   "nbconvert_exporter": "python",
   "pygments_lexer": "ipython3",
   "version": "3.9.12"
  }
 },
 "nbformat": 4,
 "nbformat_minor": 5
}

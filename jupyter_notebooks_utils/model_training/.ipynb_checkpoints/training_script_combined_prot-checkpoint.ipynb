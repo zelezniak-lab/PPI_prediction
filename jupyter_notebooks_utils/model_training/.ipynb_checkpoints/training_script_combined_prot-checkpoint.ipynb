{
 "cells": [
  {
   "cell_type": "code",
   "execution_count": 2,
   "id": "34491f6c-6440-4d93-82bb-6e7664cbf005",
   "metadata": {},
   "outputs": [],
   "source": [
    "from tqdm import tqdm\n",
    "import numpy as np\n",
    "import pandas as pd\n",
    "import matplotlib.pyplot as plt\n",
    "import torch\n",
    "import torch.nn as nn\n",
    "import torch.optim as optim\n",
    "from torch.utils.data import Dataset, DataLoader\n",
    "from sklearn.metrics import  confusion_matrix, ConfusionMatrixDisplay\n",
    "from sklearn.metrics import plot_confusion_matrix\n",
    "from matplotlib.pyplot import figure\n",
    "\n",
    "import sys\n",
    "sys.setrecursionlimit(1000000)"
   ]
  },
  {
   "cell_type": "code",
   "execution_count": 3,
   "id": "456d5718-3845-40f7-b51f-c9c2a3a705be",
   "metadata": {},
   "outputs": [
    {
     "name": "stdout",
     "output_type": "stream",
     "text": [
      "/bin/bash: /home/anwer/anaconda3/lib/libtinfo.so.6: no version information available (required by /bin/bash)\r\n",
      "Mon Nov 14 12:38:56 2022       \r\n",
      "+-----------------------------------------------------------------------------+\r\n",
      "| NVIDIA-SMI 515.65.01    Driver Version: 515.65.01    CUDA Version: 11.7     |\r\n",
      "|-------------------------------+----------------------+----------------------+\r\n",
      "| GPU  Name        Persistence-M| Bus-Id        Disp.A | Volatile Uncorr. ECC |\r\n",
      "| Fan  Temp  Perf  Pwr:Usage/Cap|         Memory-Usage | GPU-Util  Compute M. |\r\n",
      "|                               |                      |               MIG M. |\r\n",
      "|===============================+======================+======================|\r\n",
      "|   0  NVIDIA GeForce ...  Off  | 00000000:01:00.0  On |                  N/A |\r\n",
      "| N/A   86C    P0    71W /  N/A |   2168MiB /  6144MiB |     88%      Default |\r\n",
      "|                               |                      |                  N/A |\r\n",
      "+-------------------------------+----------------------+----------------------+\r\n",
      "                                                                               \r\n",
      "+-----------------------------------------------------------------------------+\r\n",
      "| Processes:                                                                  |\r\n",
      "|  GPU   GI   CI        PID   Type   Process name                  GPU Memory |\r\n",
      "|        ID   ID                                                   Usage      |\r\n",
      "|=============================================================================|\r\n",
      "|    0   N/A  N/A      1120      G   /usr/lib/xorg/Xorg                 45MiB |\r\n",
      "|    0   N/A  N/A     71807      C   ...nwer/anaconda3/bin/python     2119MiB |\r\n",
      "+-----------------------------------------------------------------------------+\r\n"
     ]
    }
   ],
   "source": [
    "\n",
    "!nvidia-smi"
   ]
  },
  {
   "cell_type": "code",
   "execution_count": 4,
   "id": "03017144-5be8-49eb-adac-4c30fb886064",
   "metadata": {},
   "outputs": [],
   "source": [
    "data_frame_train = pd.read_csv(\"../../csv_files_new_ppi/training_and_test_set/combined_prot_a_prot_b/combined_embedding_subset_train.csv\")\n",
    "data_frame_test = pd.read_csv(\"../../csv_files_new_ppi/training_and_test_set/combined_prot_a_prot_b/combined_embedding_subset_test.csv\")\n",
    "data_frame_val = pd.read_csv(\"../../csv_files_new_ppi/training_and_test_set/combined_prot_a_prot_b/combined_embedding_subset_val.csv\")"
   ]
  },
  {
   "cell_type": "code",
   "execution_count": 5,
   "id": "bf6d7d49-50e7-45f2-8de0-d3c7882dc7f4",
   "metadata": {},
   "outputs": [
    {
     "data": {
      "text/html": [
       "<div>\n",
       "<style scoped>\n",
       "    .dataframe tbody tr th:only-of-type {\n",
       "        vertical-align: middle;\n",
       "    }\n",
       "\n",
       "    .dataframe tbody tr th {\n",
       "        vertical-align: top;\n",
       "    }\n",
       "\n",
       "    .dataframe thead th {\n",
       "        text-align: right;\n",
       "    }\n",
       "</style>\n",
       "<table border=\"1\" class=\"dataframe\">\n",
       "  <thead>\n",
       "    <tr style=\"text-align: right;\">\n",
       "      <th></th>\n",
       "      <th>0</th>\n",
       "      <th>1</th>\n",
       "      <th>2</th>\n",
       "      <th>3</th>\n",
       "      <th>4</th>\n",
       "      <th>5</th>\n",
       "      <th>6</th>\n",
       "      <th>7</th>\n",
       "      <th>8</th>\n",
       "      <th>9</th>\n",
       "      <th>...</th>\n",
       "      <th>1015</th>\n",
       "      <th>1016</th>\n",
       "      <th>1017</th>\n",
       "      <th>1018</th>\n",
       "      <th>1019</th>\n",
       "      <th>1020</th>\n",
       "      <th>1021</th>\n",
       "      <th>1022</th>\n",
       "      <th>1023</th>\n",
       "      <th>label</th>\n",
       "    </tr>\n",
       "  </thead>\n",
       "  <tbody>\n",
       "    <tr>\n",
       "      <th>0</th>\n",
       "      <td>0.028385</td>\n",
       "      <td>0.027177</td>\n",
       "      <td>0.001707</td>\n",
       "      <td>0.020168</td>\n",
       "      <td>-0.004517</td>\n",
       "      <td>0.028336</td>\n",
       "      <td>0.001413</td>\n",
       "      <td>-0.013377</td>\n",
       "      <td>0.032216</td>\n",
       "      <td>0.030635</td>\n",
       "      <td>...</td>\n",
       "      <td>-0.037687</td>\n",
       "      <td>-0.020171</td>\n",
       "      <td>-0.009614</td>\n",
       "      <td>-0.032648</td>\n",
       "      <td>-0.023692</td>\n",
       "      <td>-0.014956</td>\n",
       "      <td>-0.001067</td>\n",
       "      <td>-0.031846</td>\n",
       "      <td>0.012538</td>\n",
       "      <td>1</td>\n",
       "    </tr>\n",
       "    <tr>\n",
       "      <th>1</th>\n",
       "      <td>0.015617</td>\n",
       "      <td>-0.001422</td>\n",
       "      <td>-0.013470</td>\n",
       "      <td>0.006397</td>\n",
       "      <td>0.025932</td>\n",
       "      <td>-0.022813</td>\n",
       "      <td>-0.000177</td>\n",
       "      <td>-0.020818</td>\n",
       "      <td>-0.007053</td>\n",
       "      <td>0.001988</td>\n",
       "      <td>...</td>\n",
       "      <td>-0.006055</td>\n",
       "      <td>-0.026670</td>\n",
       "      <td>-0.021014</td>\n",
       "      <td>-0.002191</td>\n",
       "      <td>-0.015441</td>\n",
       "      <td>-0.039538</td>\n",
       "      <td>0.015931</td>\n",
       "      <td>-0.026638</td>\n",
       "      <td>0.001783</td>\n",
       "      <td>1</td>\n",
       "    </tr>\n",
       "    <tr>\n",
       "      <th>2</th>\n",
       "      <td>0.001469</td>\n",
       "      <td>0.003226</td>\n",
       "      <td>0.004131</td>\n",
       "      <td>0.047037</td>\n",
       "      <td>0.032908</td>\n",
       "      <td>0.024164</td>\n",
       "      <td>0.029622</td>\n",
       "      <td>0.009962</td>\n",
       "      <td>-0.017095</td>\n",
       "      <td>0.028200</td>\n",
       "      <td>...</td>\n",
       "      <td>-0.062237</td>\n",
       "      <td>-0.021205</td>\n",
       "      <td>-0.018034</td>\n",
       "      <td>-0.044636</td>\n",
       "      <td>-0.003901</td>\n",
       "      <td>0.002548</td>\n",
       "      <td>-0.002773</td>\n",
       "      <td>-0.059739</td>\n",
       "      <td>0.008306</td>\n",
       "      <td>1</td>\n",
       "    </tr>\n",
       "    <tr>\n",
       "      <th>3</th>\n",
       "      <td>0.018104</td>\n",
       "      <td>0.027533</td>\n",
       "      <td>0.002827</td>\n",
       "      <td>-0.021292</td>\n",
       "      <td>0.046611</td>\n",
       "      <td>-0.020751</td>\n",
       "      <td>0.018554</td>\n",
       "      <td>-0.046236</td>\n",
       "      <td>0.027736</td>\n",
       "      <td>-0.018294</td>\n",
       "      <td>...</td>\n",
       "      <td>-0.014451</td>\n",
       "      <td>-0.020901</td>\n",
       "      <td>-0.011621</td>\n",
       "      <td>0.030524</td>\n",
       "      <td>0.028947</td>\n",
       "      <td>-0.027071</td>\n",
       "      <td>0.007687</td>\n",
       "      <td>-0.033697</td>\n",
       "      <td>-0.008957</td>\n",
       "      <td>0</td>\n",
       "    </tr>\n",
       "    <tr>\n",
       "      <th>4</th>\n",
       "      <td>0.020711</td>\n",
       "      <td>0.021858</td>\n",
       "      <td>0.035493</td>\n",
       "      <td>0.064109</td>\n",
       "      <td>0.028367</td>\n",
       "      <td>0.025515</td>\n",
       "      <td>0.003727</td>\n",
       "      <td>-0.004875</td>\n",
       "      <td>-0.027814</td>\n",
       "      <td>-0.004117</td>\n",
       "      <td>...</td>\n",
       "      <td>-0.077938</td>\n",
       "      <td>-0.015088</td>\n",
       "      <td>0.019681</td>\n",
       "      <td>0.014134</td>\n",
       "      <td>-0.015882</td>\n",
       "      <td>-0.015707</td>\n",
       "      <td>0.023588</td>\n",
       "      <td>-0.047237</td>\n",
       "      <td>-0.009997</td>\n",
       "      <td>1</td>\n",
       "    </tr>\n",
       "    <tr>\n",
       "      <th>...</th>\n",
       "      <td>...</td>\n",
       "      <td>...</td>\n",
       "      <td>...</td>\n",
       "      <td>...</td>\n",
       "      <td>...</td>\n",
       "      <td>...</td>\n",
       "      <td>...</td>\n",
       "      <td>...</td>\n",
       "      <td>...</td>\n",
       "      <td>...</td>\n",
       "      <td>...</td>\n",
       "      <td>...</td>\n",
       "      <td>...</td>\n",
       "      <td>...</td>\n",
       "      <td>...</td>\n",
       "      <td>...</td>\n",
       "      <td>...</td>\n",
       "      <td>...</td>\n",
       "      <td>...</td>\n",
       "      <td>...</td>\n",
       "      <td>...</td>\n",
       "    </tr>\n",
       "    <tr>\n",
       "      <th>19995</th>\n",
       "      <td>0.002149</td>\n",
       "      <td>-0.005082</td>\n",
       "      <td>-0.007793</td>\n",
       "      <td>0.026073</td>\n",
       "      <td>0.034440</td>\n",
       "      <td>-0.004397</td>\n",
       "      <td>-0.006836</td>\n",
       "      <td>-0.014811</td>\n",
       "      <td>-0.006304</td>\n",
       "      <td>0.018683</td>\n",
       "      <td>...</td>\n",
       "      <td>-0.029779</td>\n",
       "      <td>0.001915</td>\n",
       "      <td>0.003734</td>\n",
       "      <td>-0.007455</td>\n",
       "      <td>-0.038037</td>\n",
       "      <td>0.004197</td>\n",
       "      <td>0.008961</td>\n",
       "      <td>-0.000200</td>\n",
       "      <td>0.006070</td>\n",
       "      <td>1</td>\n",
       "    </tr>\n",
       "    <tr>\n",
       "      <th>19996</th>\n",
       "      <td>0.019183</td>\n",
       "      <td>-0.001014</td>\n",
       "      <td>0.008177</td>\n",
       "      <td>0.021608</td>\n",
       "      <td>0.021657</td>\n",
       "      <td>0.020940</td>\n",
       "      <td>-0.008094</td>\n",
       "      <td>-0.014137</td>\n",
       "      <td>-0.031861</td>\n",
       "      <td>0.004255</td>\n",
       "      <td>...</td>\n",
       "      <td>-0.074985</td>\n",
       "      <td>0.019865</td>\n",
       "      <td>-0.023345</td>\n",
       "      <td>-0.061145</td>\n",
       "      <td>-0.017200</td>\n",
       "      <td>0.000358</td>\n",
       "      <td>0.020019</td>\n",
       "      <td>0.003406</td>\n",
       "      <td>-0.001012</td>\n",
       "      <td>0</td>\n",
       "    </tr>\n",
       "    <tr>\n",
       "      <th>19997</th>\n",
       "      <td>0.016292</td>\n",
       "      <td>0.026783</td>\n",
       "      <td>-0.000487</td>\n",
       "      <td>-0.003789</td>\n",
       "      <td>0.038305</td>\n",
       "      <td>0.001881</td>\n",
       "      <td>-0.029539</td>\n",
       "      <td>-0.001255</td>\n",
       "      <td>0.032015</td>\n",
       "      <td>0.008985</td>\n",
       "      <td>...</td>\n",
       "      <td>-0.057021</td>\n",
       "      <td>-0.008672</td>\n",
       "      <td>-0.024208</td>\n",
       "      <td>-0.076131</td>\n",
       "      <td>-0.034672</td>\n",
       "      <td>-0.019970</td>\n",
       "      <td>0.010658</td>\n",
       "      <td>-0.024751</td>\n",
       "      <td>-0.011714</td>\n",
       "      <td>0</td>\n",
       "    </tr>\n",
       "    <tr>\n",
       "      <th>19998</th>\n",
       "      <td>-0.030434</td>\n",
       "      <td>0.021819</td>\n",
       "      <td>0.025154</td>\n",
       "      <td>0.032020</td>\n",
       "      <td>0.003013</td>\n",
       "      <td>0.061596</td>\n",
       "      <td>-0.012900</td>\n",
       "      <td>0.001904</td>\n",
       "      <td>-0.008692</td>\n",
       "      <td>0.048690</td>\n",
       "      <td>...</td>\n",
       "      <td>-0.038546</td>\n",
       "      <td>-0.053721</td>\n",
       "      <td>-0.008590</td>\n",
       "      <td>0.037416</td>\n",
       "      <td>0.041671</td>\n",
       "      <td>-0.044147</td>\n",
       "      <td>-0.037194</td>\n",
       "      <td>-0.065800</td>\n",
       "      <td>0.031591</td>\n",
       "      <td>1</td>\n",
       "    </tr>\n",
       "    <tr>\n",
       "      <th>19999</th>\n",
       "      <td>0.029924</td>\n",
       "      <td>0.018162</td>\n",
       "      <td>-0.011681</td>\n",
       "      <td>-0.002145</td>\n",
       "      <td>0.018522</td>\n",
       "      <td>-0.012356</td>\n",
       "      <td>0.003815</td>\n",
       "      <td>-0.002019</td>\n",
       "      <td>0.045906</td>\n",
       "      <td>-0.008772</td>\n",
       "      <td>...</td>\n",
       "      <td>-0.025333</td>\n",
       "      <td>-0.025723</td>\n",
       "      <td>-0.019077</td>\n",
       "      <td>-0.022872</td>\n",
       "      <td>-0.029329</td>\n",
       "      <td>-0.024372</td>\n",
       "      <td>-0.009729</td>\n",
       "      <td>-0.032329</td>\n",
       "      <td>-0.009086</td>\n",
       "      <td>1</td>\n",
       "    </tr>\n",
       "  </tbody>\n",
       "</table>\n",
       "<p>20000 rows × 1025 columns</p>\n",
       "</div>"
      ],
      "text/plain": [
       "              0         1         2         3         4         5         6  \\\n",
       "0      0.028385  0.027177  0.001707  0.020168 -0.004517  0.028336  0.001413   \n",
       "1      0.015617 -0.001422 -0.013470  0.006397  0.025932 -0.022813 -0.000177   \n",
       "2      0.001469  0.003226  0.004131  0.047037  0.032908  0.024164  0.029622   \n",
       "3      0.018104  0.027533  0.002827 -0.021292  0.046611 -0.020751  0.018554   \n",
       "4      0.020711  0.021858  0.035493  0.064109  0.028367  0.025515  0.003727   \n",
       "...         ...       ...       ...       ...       ...       ...       ...   \n",
       "19995  0.002149 -0.005082 -0.007793  0.026073  0.034440 -0.004397 -0.006836   \n",
       "19996  0.019183 -0.001014  0.008177  0.021608  0.021657  0.020940 -0.008094   \n",
       "19997  0.016292  0.026783 -0.000487 -0.003789  0.038305  0.001881 -0.029539   \n",
       "19998 -0.030434  0.021819  0.025154  0.032020  0.003013  0.061596 -0.012900   \n",
       "19999  0.029924  0.018162 -0.011681 -0.002145  0.018522 -0.012356  0.003815   \n",
       "\n",
       "              7         8         9  ...      1015      1016      1017  \\\n",
       "0     -0.013377  0.032216  0.030635  ... -0.037687 -0.020171 -0.009614   \n",
       "1     -0.020818 -0.007053  0.001988  ... -0.006055 -0.026670 -0.021014   \n",
       "2      0.009962 -0.017095  0.028200  ... -0.062237 -0.021205 -0.018034   \n",
       "3     -0.046236  0.027736 -0.018294  ... -0.014451 -0.020901 -0.011621   \n",
       "4     -0.004875 -0.027814 -0.004117  ... -0.077938 -0.015088  0.019681   \n",
       "...         ...       ...       ...  ...       ...       ...       ...   \n",
       "19995 -0.014811 -0.006304  0.018683  ... -0.029779  0.001915  0.003734   \n",
       "19996 -0.014137 -0.031861  0.004255  ... -0.074985  0.019865 -0.023345   \n",
       "19997 -0.001255  0.032015  0.008985  ... -0.057021 -0.008672 -0.024208   \n",
       "19998  0.001904 -0.008692  0.048690  ... -0.038546 -0.053721 -0.008590   \n",
       "19999 -0.002019  0.045906 -0.008772  ... -0.025333 -0.025723 -0.019077   \n",
       "\n",
       "           1018      1019      1020      1021      1022      1023  label  \n",
       "0     -0.032648 -0.023692 -0.014956 -0.001067 -0.031846  0.012538      1  \n",
       "1     -0.002191 -0.015441 -0.039538  0.015931 -0.026638  0.001783      1  \n",
       "2     -0.044636 -0.003901  0.002548 -0.002773 -0.059739  0.008306      1  \n",
       "3      0.030524  0.028947 -0.027071  0.007687 -0.033697 -0.008957      0  \n",
       "4      0.014134 -0.015882 -0.015707  0.023588 -0.047237 -0.009997      1  \n",
       "...         ...       ...       ...       ...       ...       ...    ...  \n",
       "19995 -0.007455 -0.038037  0.004197  0.008961 -0.000200  0.006070      1  \n",
       "19996 -0.061145 -0.017200  0.000358  0.020019  0.003406 -0.001012      0  \n",
       "19997 -0.076131 -0.034672 -0.019970  0.010658 -0.024751 -0.011714      0  \n",
       "19998  0.037416  0.041671 -0.044147 -0.037194 -0.065800  0.031591      1  \n",
       "19999 -0.022872 -0.029329 -0.024372 -0.009729 -0.032329 -0.009086      1  \n",
       "\n",
       "[20000 rows x 1025 columns]"
      ]
     },
     "execution_count": 5,
     "metadata": {},
     "output_type": "execute_result"
    }
   ],
   "source": [
    "data_frame_train"
   ]
  },
  {
   "cell_type": "code",
   "execution_count": 6,
   "id": "02db76e3-c49a-4357-9b6d-e7fdb9eb8af3",
   "metadata": {},
   "outputs": [],
   "source": [
    "train_features = data_frame_train.copy()\n",
    "train_labels = train_features.pop('label')\n",
    "train_features = np.array(train_features)\n",
    "\n",
    "\n",
    "test_features = data_frame_test.copy()\n",
    "test_labels = test_features.pop('label')\n",
    "test_features = np.array(test_features)\n",
    "\n",
    "val_features = data_frame_val.copy()\n",
    "val_labels = val_features.pop('label')\n",
    "val_features = np.array(val_features)\n",
    "        \n",
    "x_train = train_features\n",
    "y_train = train_labels\n",
    "x_test = test_features\n",
    "y_test = test_labels\n",
    "x_val = val_features\n",
    "y_val = val_labels "
   ]
  },
  {
   "cell_type": "code",
   "execution_count": 7,
   "id": "01a817d6-2116-4f4d-be6a-68d5fc0af6d1",
   "metadata": {},
   "outputs": [],
   "source": [
    "# concat_train_features = []\n",
    "# concat_test_features = []\n",
    "# for i in train_features:\n",
    "\n",
    "#     concat_train_features.append(i[0:1024] + i[1024:])\n",
    "\n",
    "# for i in test_features:\n",
    "\n",
    "#     concat_test_features.append(i[0:1024] + i[1024:])\n",
    "\n",
    "# x_train = concat_train_features\n",
    "# y_train = train_labels\n",
    "# x_test = concat_test_features[0:5000]\n",
    "# y_test = test_labels[0:5000]\n",
    "# x_val = concat_test_features[5000:10000]\n",
    "# y_val = np.array(test_labels[5000:10000])"
   ]
  },
  {
   "cell_type": "markdown",
   "id": "0c732469-da2b-479d-9697-e23523522d5f",
   "metadata": {},
   "source": [
    "## 1. Creating Dataloader"
   ]
  },
  {
   "cell_type": "code",
   "execution_count": 10,
   "id": "e9af98a5-acca-4344-9f49-e70a5c6503e1",
   "metadata": {},
   "outputs": [],
   "source": [
    "## train data\n",
    "class Data(Dataset):\n",
    "    \n",
    "    def __init__(self, X_data, y_data):\n",
    "        self.X_data = X_data\n",
    "        self.y_data = y_data\n",
    "        \n",
    "    def __getitem__(self, index):\n",
    "        return self.X_data[index], self.y_data[index]\n",
    "        \n",
    "    def __len__ (self):\n",
    "        return len(self.X_data)\n",
    "\n",
    "\n",
    "train_data = Data(torch.FloatTensor(x_train), \n",
    "                       torch.FloatTensor(y_train))\n",
    "## test data    \n",
    "    \n",
    "\n",
    "val_data = Data(torch.FloatTensor(x_test), \n",
    "                       torch.FloatTensor(y_test))\n",
    "\n",
    "\n",
    "test_data =  Data(torch.FloatTensor(x_val), \n",
    "                       torch.FloatTensor(y_val))"
   ]
  },
  {
   "cell_type": "code",
   "execution_count": 11,
   "id": "11be1fcf-d881-41b9-9b26-11d7d41d4adf",
   "metadata": {},
   "outputs": [],
   "source": [
    "train_loader = DataLoader(dataset=train_data, batch_size=128, shuffle=True,drop_last=True)\n",
    "test_loader = DataLoader(dataset=test_data, batch_size=6000,drop_last=True )\n",
    "val_loader = DataLoader(dataset=val_data, batch_size=128,drop_last=True )"
   ]
  },
  {
   "cell_type": "code",
   "execution_count": 12,
   "id": "5fdbabc8-1620-413e-abb8-b37a8d82c16e",
   "metadata": {},
   "outputs": [
    {
     "name": "stdout",
     "output_type": "stream",
     "text": [
      "cuda:0\n"
     ]
    }
   ],
   "source": [
    "device = torch.device(\"cuda:0\" if torch.cuda.is_available() else \"cpu\")\n",
    "print(device)"
   ]
  },
  {
   "cell_type": "code",
   "execution_count": null,
   "id": "8be1a0df-3910-49d7-a874-7868cb0ad901",
   "metadata": {},
   "outputs": [],
   "source": []
  },
  {
   "cell_type": "markdown",
   "id": "9d8ebbbf-66a8-43e1-b692-d348267452a4",
   "metadata": {},
   "source": [
    "## 2. Model"
   ]
  },
  {
   "cell_type": "code",
   "execution_count": 13,
   "id": "1ac073c4-3ed3-448e-834a-40827fa55a11",
   "metadata": {},
   "outputs": [],
   "source": [
    "import torch\n",
    "import torch.nn as nn\n",
    "\n",
    "device = torch.device('cuda' if torch.cuda.is_available() else 'cpu')"
   ]
  },
  {
   "cell_type": "code",
   "execution_count": 14,
   "id": "be5cbac6-904a-4f09-9eda-107547a01b4c",
   "metadata": {},
   "outputs": [
    {
     "data": {
      "text/plain": [
       "device(type='cuda')"
      ]
     },
     "execution_count": 14,
     "metadata": {},
     "output_type": "execute_result"
    }
   ],
   "source": [
    "device"
   ]
  },
  {
   "cell_type": "code",
   "execution_count": 15,
   "id": "70ffcfbc-8719-467d-bdd0-104fd7c13b2c",
   "metadata": {},
   "outputs": [],
   "source": [
    "class BertClassifier(nn.Module):\n",
    "    \n",
    "    def __init__(self, embed_dim =1024):\n",
    "        super(BertClassifier,self).__init__()\n",
    "     \n",
    "        \n",
    "        self.relu = nn.ReLU()\n",
    "        self.fc1 = nn.Linear(embed_dim,1024)\n",
    "        self.bn1 = nn.BatchNorm1d(num_features=1024)\n",
    "        self.fc1_1 = nn.Linear(1024,512)\n",
    "#         self.fc2 = nn.Linear(512,256)\n",
    "        \n",
    "        self.fc3 = nn.Linear(512,64)\n",
    "        self.bn2 = nn.BatchNorm1d(num_features=64)\n",
    "        self.fc4 = nn.Linear(64,32)\n",
    "        \n",
    "        self.fc5 = nn.Linear(32,16)\n",
    "        self.fc6 = nn.Linear(16,8)\n",
    "        self.fc7 = nn.Linear(8,1)\n",
    "\n",
    "    \n",
    "    def forward(self, inputs):\n",
    "        \n",
    "       \n",
    "        # print(output)\n",
    "        output_1 = self.relu(self.fc1(inputs))\n",
    "        output_1 = self.bn1(output_1)\n",
    "        output_1_1 = self.relu(self.fc1_1(output_1))\n",
    "    \n",
    "        output_2 = self.relu(self.fc3(output_1_1))\n",
    "        output_2  = self.bn2(output_2)\n",
    "        output_3 = self.relu(self.fc4(output_2))\n",
    "        output_4 = self.relu(self.fc5(output_3))\n",
    "        output_5 = self.relu(self.fc6(output_4))\n",
    "        output = self.fc7(output_5)\n",
    "\n",
    "        return output"
   ]
  },
  {
   "cell_type": "markdown",
   "id": "f95d13f7",
   "metadata": {},
   "source": [
    "# "
   ]
  },
  {
   "cell_type": "code",
   "execution_count": 16,
   "id": "634b32d6-9554-4969-abc6-916d55a5b140",
   "metadata": {},
   "outputs": [],
   "source": [
    "def initilize_model(learning_rate=0.001):\n",
    "    \"\"\"Instantiate a CNN model and an optimizer.\"\"\"\n",
    "\n",
    "    model = BertClassifier()\n",
    "    \n",
    "    device = torch.device(\"cuda\" if torch.cuda.is_available() else \"cpu\")\n",
    "    # Send model to `device` (GPU/CPU)\n",
    "    model.to(device)\n",
    "    model= nn.DataParallel(model,device_ids = [0])\n",
    "\n",
    "    \n",
    "    return model\n",
    "\n",
    "model = initilize_model()\n",
    "\n",
    "\n",
    "loss_fn = nn.BCEWithLogitsLoss()"
   ]
  },
  {
   "cell_type": "code",
   "execution_count": 17,
   "id": "8d50169c-71e3-4ca2-b236-f1c4d826f850",
   "metadata": {},
   "outputs": [
    {
     "name": "stdout",
     "output_type": "stream",
     "text": [
      "DataParallel(\n",
      "  (module): BertClassifier(\n",
      "    (relu): ReLU()\n",
      "    (fc1): Linear(in_features=1024, out_features=1024, bias=True)\n",
      "    (bn1): BatchNorm1d(1024, eps=1e-05, momentum=0.1, affine=True, track_running_stats=True)\n",
      "    (fc1_1): Linear(in_features=1024, out_features=512, bias=True)\n",
      "    (fc3): Linear(in_features=512, out_features=64, bias=True)\n",
      "    (bn2): BatchNorm1d(64, eps=1e-05, momentum=0.1, affine=True, track_running_stats=True)\n",
      "    (fc4): Linear(in_features=64, out_features=32, bias=True)\n",
      "    (fc5): Linear(in_features=32, out_features=16, bias=True)\n",
      "    (fc6): Linear(in_features=16, out_features=8, bias=True)\n",
      "    (fc7): Linear(in_features=8, out_features=1, bias=True)\n",
      "  )\n",
      ")\n"
     ]
    }
   ],
   "source": [
    "print(model)"
   ]
  },
  {
   "cell_type": "markdown",
   "id": "469c9ff1-7b61-4107-9f3c-7307445bbe53",
   "metadata": {},
   "source": [
    "## 3. Training"
   ]
  },
  {
   "cell_type": "code",
   "execution_count": 18,
   "id": "aa89d2d6-610a-4372-be72-a8babdc08b84",
   "metadata": {},
   "outputs": [],
   "source": [
    "import random\n",
    "import time\n",
    "from tqdm import tqdm\n",
    "loss_fn = nn.BCEWithLogitsLoss()\n",
    "def train(model, optimizer, train_dataloader, val_dataloader = None, epochs =10):\n",
    "    \n",
    "    best_accuracy = 0\n",
    "    device = torch.device(\"cuda\" if torch.cuda.is_available() else \"cpu\")\n",
    "    print(\"Start training...\\n\")\n",
    "    train_loss_list = []\n",
    "    val_loss_list = []    \n",
    "    # for param in model.bert.parameters():\n",
    "    #     param.requires_grad = False\n",
    "    for epoch_i in range(1,epochs+1):\n",
    "        \n",
    "        total_loss = 0\n",
    "        model.train()\n",
    "        \n",
    "        for step,batch in tqdm(enumerate(train_dataloader)):\n",
    "            \n",
    "            inputs, b_labels = tuple(t.to(device) for t in batch)\n",
    "            \n",
    "            # b_input_ids = b_input_ids.reshape((1,24,1000)).squeeze(0)\n",
    "            # b_attn_masks = b_attn_masks.reshape((1,24,1000)).squeeze(0)\n",
    "            b_labels = b_labels.reshape((1,128,1)).squeeze(0)\n",
    "            # print(b_input_1)\n",
    "            model.zero_grad()\n",
    "            \n",
    "            logits = model(inputs)\n",
    "            \n",
    "        #     preds = torch.round(torch.sigmoid(logits))\n",
    "        # # print(preds,b_labels)\n",
    "        #     accuracy = (preds.float() == b_labels.float()).cpu().numpy().mean() * 100\n",
    "        #     print(accuracy)\n",
    "            \n",
    "#             print(b_labels)\n",
    "           \n",
    "            loss = loss_fn(logits,b_labels.float()) \n",
    "            \n",
    "            total_loss += loss.item()\n",
    "            \n",
    "            loss.mean().backward()\n",
    "            \n",
    "            optimizer.step()\n",
    "               \n",
    "        avg_train_loss = total_loss / len(train_dataloader)\n",
    "        train_loss_list.append(avg_train_loss)\n",
    "    \n",
    "        if val_dataloader is not None:\n",
    "                \n",
    "                val_loss, val_accuracy = evaluate(model, val_dataloader)\n",
    "                val_loss_list.append(val_loss)\n",
    "                   \n",
    "                if val_accuracy > best_accuracy:\n",
    "                    best_accuracy = val_accuracy\n",
    "                    torch.save({\n",
    "                        'epoch': epoch_i + 1,\n",
    "                        'model_state_dict': model.state_dict(),\n",
    "                        'optimizer_state_dict': optimizer.state_dict(),\n",
    "                        'loss': loss_fn,\n",
    "                        }, 'best_model_trained_fc_v2.pth')\n",
    "\n",
    "                # scheduler = torch.optim.lr_scheduler.ReduceLROnPlateau(optimizer, 'max',patience = 3)\n",
    "                # scheduler.step(val_accuracy)\n",
    "        print(f\"Epoch: {epoch_i} | Training Loss: {avg_train_loss}  | Validation Loss: {val_loss}  | Accuracy: {val_accuracy:.2f}\")\n",
    "        with open('result.txt', 'a') as f:\n",
    "            print(f\"Epoch: {epoch_i} | Training Loss: {avg_train_loss}  | Validation Loss: {val_loss}  | Accuracy: {val_accuracy:.2f}\", file=f) \n",
    "    print(\"\\n\")\n",
    "    print(f\"Training complete! Best accuracy: {best_accuracy:.2f}%.\")\n",
    "\n",
    "            \n",
    "   \n",
    "\n",
    "\n",
    "def evaluate(model,val_dataloader):\n",
    "    \n",
    "    model.eval()\n",
    "    \n",
    "    val_accuracy = []\n",
    "    val_loss = []\n",
    "    for batch in tqdm(val_dataloader):\n",
    "        # Load batch to GPU\n",
    "        inputs, b_labels = tuple(t.to(device) for t in batch)\n",
    "        \n",
    "        # b_input_ids = b_input_ids.reshape((1,24,1000)).squeeze(0)\n",
    "        # b_attn_masks = b_attn_masks.reshape((1,24,1000)).squeeze(0)\n",
    "        b_labels = b_labels.reshape((1,128,1)).squeeze(0)\n",
    "        with torch.no_grad():\n",
    "                logits = model(inputs)\n",
    "        \n",
    "        \n",
    "        \n",
    "        \n",
    "        loss = loss_fn(logits, b_labels.float())\n",
    "        \n",
    "        val_loss.append(loss.item())\n",
    "# # model = BertModel.from_pretrained(\"Rostlab/prot_bert_bfd\")\n",
    "# for i in tqdm(train_dataloader):\n",
    "#     print(i)\n",
    "        preds = torch.round(torch.sigmoid(logits))\n",
    "        # print(preds,b_labels)\n",
    "        accuracy = (preds.float() == b_labels.float()).cpu().numpy().mean() * 100\n",
    "\n",
    "        val_accuracy.append(accuracy)\n",
    "    \n",
    "    val_loss = np.mean(val_loss)\n",
    "    val_accuracy = np.mean(val_accuracy)\n",
    "\n",
    "    return val_loss, val_accuracy "
   ]
  },
  {
   "cell_type": "code",
   "execution_count": 19,
   "id": "fad6f83b-b532-45a6-8397-2f80f8b8edd5",
   "metadata": {},
   "outputs": [],
   "source": [
    "optimizer = optim.Adam(model.parameters(),lr=0.001,betas=(0.9,0.999),eps=1e-09,weight_decay=0.01,amsgrad=True)\n",
    "# optimizer = torch.optim.SGD(model.parameters(), nesterov = True, lr=0.001, momentum=0.9)"
   ]
  },
  {
   "cell_type": "code",
   "execution_count": 20,
   "id": "957b9300-65f9-4d32-a67b-327a0c424ba7",
   "metadata": {
    "scrolled": true,
    "tags": []
   },
   "outputs": [
    {
     "name": "stdout",
     "output_type": "stream",
     "text": [
      "Start training...\n",
      "\n"
     ]
    },
    {
     "name": "stderr",
     "output_type": "stream",
     "text": [
      "156it [00:02, 65.72it/s] \n",
      "100%|█████████████████████████████████████████████████████████| 46/46 [00:00<00:00, 174.41it/s]\n"
     ]
    },
    {
     "name": "stdout",
     "output_type": "stream",
     "text": [
      "Epoch: 1 | Training Loss: 0.5373107160513217  | Validation Loss: 0.7575506218101667  | Accuracy: 59.02\n"
     ]
    },
    {
     "name": "stderr",
     "output_type": "stream",
     "text": [
      "156it [00:01, 118.30it/s]\n",
      "100%|█████████████████████████████████████████████████████████| 46/46 [00:00<00:00, 163.53it/s]\n"
     ]
    },
    {
     "name": "stdout",
     "output_type": "stream",
     "text": [
      "Epoch: 2 | Training Loss: 0.47019435656376374  | Validation Loss: 0.750996268313864  | Accuracy: 60.56\n"
     ]
    },
    {
     "name": "stderr",
     "output_type": "stream",
     "text": [
      "156it [00:01, 117.08it/s]\n",
      "100%|█████████████████████████████████████████████████████████| 46/46 [00:00<00:00, 156.64it/s]\n"
     ]
    },
    {
     "name": "stdout",
     "output_type": "stream",
     "text": [
      "Epoch: 3 | Training Loss: 0.44986042915246427  | Validation Loss: 0.7318954325240591  | Accuracy: 62.08\n"
     ]
    },
    {
     "name": "stderr",
     "output_type": "stream",
     "text": [
      "156it [00:01, 119.56it/s]\n",
      "100%|█████████████████████████████████████████████████████████| 46/46 [00:00<00:00, 161.99it/s]\n"
     ]
    },
    {
     "name": "stdout",
     "output_type": "stream",
     "text": [
      "Epoch: 4 | Training Loss: 0.4370350925586162  | Validation Loss: 0.7324612244315769  | Accuracy: 62.96\n"
     ]
    },
    {
     "name": "stderr",
     "output_type": "stream",
     "text": [
      "156it [00:01, 113.59it/s]\n",
      "100%|█████████████████████████████████████████████████████████| 46/46 [00:00<00:00, 156.11it/s]\n"
     ]
    },
    {
     "name": "stdout",
     "output_type": "stream",
     "text": [
      "Epoch: 5 | Training Loss: 0.4236441292823889  | Validation Loss: 0.732108113558396  | Accuracy: 63.30\n"
     ]
    },
    {
     "name": "stderr",
     "output_type": "stream",
     "text": [
      "156it [00:01, 114.48it/s]\n",
      "100%|█████████████████████████████████████████████████████████| 46/46 [00:00<00:00, 199.37it/s]\n"
     ]
    },
    {
     "name": "stdout",
     "output_type": "stream",
     "text": [
      "Epoch: 6 | Training Loss: 0.4217005937527388  | Validation Loss: 0.8361538609732753  | Accuracy: 60.21\n"
     ]
    },
    {
     "name": "stderr",
     "output_type": "stream",
     "text": [
      "156it [00:01, 117.28it/s]\n",
      "100%|█████████████████████████████████████████████████████████| 46/46 [00:00<00:00, 157.78it/s]\n"
     ]
    },
    {
     "name": "stdout",
     "output_type": "stream",
     "text": [
      "Epoch: 7 | Training Loss: 0.4060878446086859  | Validation Loss: 0.7325065252573594  | Accuracy: 62.57\n"
     ]
    },
    {
     "name": "stderr",
     "output_type": "stream",
     "text": [
      "156it [00:01, 117.38it/s]\n",
      "100%|█████████████████████████████████████████████████████████| 46/46 [00:00<00:00, 156.93it/s]\n"
     ]
    },
    {
     "name": "stdout",
     "output_type": "stream",
     "text": [
      "Epoch: 8 | Training Loss: 0.3938551864180809  | Validation Loss: 0.7730794484200685  | Accuracy: 62.33\n"
     ]
    },
    {
     "name": "stderr",
     "output_type": "stream",
     "text": [
      "156it [00:01, 124.83it/s]\n",
      "100%|█████████████████████████████████████████████████████████| 46/46 [00:00<00:00, 159.21it/s]\n"
     ]
    },
    {
     "name": "stdout",
     "output_type": "stream",
     "text": [
      "Epoch: 9 | Training Loss: 0.38968157596313036  | Validation Loss: 0.7496808326762655  | Accuracy: 61.26\n"
     ]
    },
    {
     "name": "stderr",
     "output_type": "stream",
     "text": [
      "156it [00:01, 117.86it/s]\n",
      "100%|█████████████████████████████████████████████████████████| 46/46 [00:00<00:00, 157.06it/s]\n"
     ]
    },
    {
     "name": "stdout",
     "output_type": "stream",
     "text": [
      "Epoch: 10 | Training Loss: 0.38645761135296947  | Validation Loss: 0.7724844515323639  | Accuracy: 61.28\n"
     ]
    },
    {
     "name": "stderr",
     "output_type": "stream",
     "text": [
      "156it [00:01, 118.03it/s]\n",
      "100%|█████████████████████████████████████████████████████████| 46/46 [00:00<00:00, 178.26it/s]\n"
     ]
    },
    {
     "name": "stdout",
     "output_type": "stream",
     "text": [
      "Epoch: 11 | Training Loss: 0.38023848143907696  | Validation Loss: 0.7375697014124497  | Accuracy: 62.82\n"
     ]
    },
    {
     "name": "stderr",
     "output_type": "stream",
     "text": [
      "156it [00:01, 120.90it/s]\n",
      "100%|█████████████████████████████████████████████████████████| 46/46 [00:00<00:00, 157.46it/s]\n"
     ]
    },
    {
     "name": "stdout",
     "output_type": "stream",
     "text": [
      "Epoch: 12 | Training Loss: 0.3712909732682583  | Validation Loss: 0.7494856676329738  | Accuracy: 63.47\n"
     ]
    },
    {
     "name": "stderr",
     "output_type": "stream",
     "text": [
      "156it [00:01, 118.21it/s]\n",
      "100%|█████████████████████████████████████████████████████████| 46/46 [00:00<00:00, 160.52it/s]\n"
     ]
    },
    {
     "name": "stdout",
     "output_type": "stream",
     "text": [
      "Epoch: 13 | Training Loss: 0.36767910172541934  | Validation Loss: 0.8608282791531604  | Accuracy: 60.55\n"
     ]
    },
    {
     "name": "stderr",
     "output_type": "stream",
     "text": [
      "156it [00:01, 128.00it/s]\n",
      "100%|█████████████████████████████████████████████████████████| 46/46 [00:00<00:00, 165.09it/s]\n"
     ]
    },
    {
     "name": "stdout",
     "output_type": "stream",
     "text": [
      "Epoch: 14 | Training Loss: 0.3666099797074611  | Validation Loss: 0.7557062403015469  | Accuracy: 61.77\n"
     ]
    },
    {
     "name": "stderr",
     "output_type": "stream",
     "text": [
      "156it [00:01, 116.39it/s]\n",
      "100%|█████████████████████████████████████████████████████████| 46/46 [00:00<00:00, 159.96it/s]\n"
     ]
    },
    {
     "name": "stdout",
     "output_type": "stream",
     "text": [
      "Epoch: 15 | Training Loss: 0.35885770275042606  | Validation Loss: 0.7576164240422456  | Accuracy: 62.62\n"
     ]
    },
    {
     "name": "stderr",
     "output_type": "stream",
     "text": [
      "156it [00:01, 117.62it/s]\n",
      "100%|█████████████████████████████████████████████████████████| 46/46 [00:00<00:00, 162.48it/s]\n"
     ]
    },
    {
     "name": "stdout",
     "output_type": "stream",
     "text": [
      "Epoch: 16 | Training Loss: 0.35839607862707895  | Validation Loss: 0.8176641710426497  | Accuracy: 62.18\n"
     ]
    },
    {
     "name": "stderr",
     "output_type": "stream",
     "text": [
      "156it [00:01, 125.94it/s]\n",
      "100%|█████████████████████████████████████████████████████████| 46/46 [00:00<00:00, 168.93it/s]\n"
     ]
    },
    {
     "name": "stdout",
     "output_type": "stream",
     "text": [
      "Epoch: 17 | Training Loss: 0.35122195965586567  | Validation Loss: 0.7524714081183724  | Accuracy: 62.99\n"
     ]
    },
    {
     "name": "stderr",
     "output_type": "stream",
     "text": [
      "156it [00:01, 120.84it/s]\n",
      "100%|█████████████████████████████████████████████████████████| 46/46 [00:00<00:00, 166.10it/s]\n"
     ]
    },
    {
     "name": "stdout",
     "output_type": "stream",
     "text": [
      "Epoch: 18 | Training Loss: 0.3544790588128261  | Validation Loss: 0.8052098751068115  | Accuracy: 62.92\n"
     ]
    },
    {
     "name": "stderr",
     "output_type": "stream",
     "text": [
      "156it [00:01, 123.86it/s]\n",
      "100%|█████████████████████████████████████████████████████████| 46/46 [00:00<00:00, 171.98it/s]\n"
     ]
    },
    {
     "name": "stdout",
     "output_type": "stream",
     "text": [
      "Epoch: 19 | Training Loss: 0.34626644467696166  | Validation Loss: 0.8550980311373005  | Accuracy: 60.09\n"
     ]
    },
    {
     "name": "stderr",
     "output_type": "stream",
     "text": [
      "156it [00:01, 117.07it/s]\n",
      "100%|█████████████████████████████████████████████████████████| 46/46 [00:00<00:00, 163.53it/s]\n"
     ]
    },
    {
     "name": "stdout",
     "output_type": "stream",
     "text": [
      "Epoch: 20 | Training Loss: 0.3545930151564953  | Validation Loss: 0.8943240525929824  | Accuracy: 59.73\n"
     ]
    },
    {
     "name": "stderr",
     "output_type": "stream",
     "text": [
      "156it [00:01, 116.75it/s]\n",
      "100%|█████████████████████████████████████████████████████████| 46/46 [00:00<00:00, 160.04it/s]\n"
     ]
    },
    {
     "name": "stdout",
     "output_type": "stream",
     "text": [
      "Epoch: 21 | Training Loss: 0.34594709941974056  | Validation Loss: 0.8241522065971209  | Accuracy: 61.14\n"
     ]
    },
    {
     "name": "stderr",
     "output_type": "stream",
     "text": [
      "156it [00:01, 125.47it/s]\n",
      "100%|█████████████████████████████████████████████████████████| 46/46 [00:00<00:00, 163.22it/s]\n"
     ]
    },
    {
     "name": "stdout",
     "output_type": "stream",
     "text": [
      "Epoch: 22 | Training Loss: 0.3432262350733464  | Validation Loss: 0.9318666056446407  | Accuracy: 59.78\n"
     ]
    },
    {
     "name": "stderr",
     "output_type": "stream",
     "text": [
      "156it [00:01, 117.97it/s]\n",
      "100%|█████████████████████████████████████████████████████████| 46/46 [00:00<00:00, 156.86it/s]\n"
     ]
    },
    {
     "name": "stdout",
     "output_type": "stream",
     "text": [
      "Epoch: 23 | Training Loss: 0.34265545707864636  | Validation Loss: 0.9871902336244998  | Accuracy: 59.27\n"
     ]
    },
    {
     "name": "stderr",
     "output_type": "stream",
     "text": [
      "156it [00:01, 118.55it/s]\n",
      "100%|█████████████████████████████████████████████████████████| 46/46 [00:00<00:00, 221.63it/s]\n"
     ]
    },
    {
     "name": "stdout",
     "output_type": "stream",
     "text": [
      "Epoch: 24 | Training Loss: 0.3383600059419106  | Validation Loss: 1.0045274211012798  | Accuracy: 58.08\n"
     ]
    },
    {
     "name": "stderr",
     "output_type": "stream",
     "text": [
      "156it [00:01, 117.98it/s]\n",
      "100%|█████████████████████████████████████████████████████████| 46/46 [00:00<00:00, 153.93it/s]\n"
     ]
    },
    {
     "name": "stdout",
     "output_type": "stream",
     "text": [
      "Epoch: 25 | Training Loss: 0.3370907067870482  | Validation Loss: 0.9981865649637969  | Accuracy: 58.47\n"
     ]
    },
    {
     "name": "stderr",
     "output_type": "stream",
     "text": [
      "156it [00:01, 117.17it/s]\n",
      "100%|█████████████████████████████████████████████████████████| 46/46 [00:00<00:00, 167.34it/s]\n"
     ]
    },
    {
     "name": "stdout",
     "output_type": "stream",
     "text": [
      "Epoch: 26 | Training Loss: 0.3422139590749374  | Validation Loss: 0.7948697222315747  | Accuracy: 62.96\n"
     ]
    },
    {
     "name": "stderr",
     "output_type": "stream",
     "text": [
      "156it [00:01, 126.45it/s]\n",
      "100%|█████████████████████████████████████████████████████████| 46/46 [00:00<00:00, 159.57it/s]\n"
     ]
    },
    {
     "name": "stdout",
     "output_type": "stream",
     "text": [
      "Epoch: 27 | Training Loss: 0.34434817167810905  | Validation Loss: 0.878958163054093  | Accuracy: 59.63\n"
     ]
    },
    {
     "name": "stderr",
     "output_type": "stream",
     "text": [
      "156it [00:01, 117.16it/s]\n",
      "100%|█████████████████████████████████████████████████████████| 46/46 [00:00<00:00, 163.92it/s]\n"
     ]
    },
    {
     "name": "stdout",
     "output_type": "stream",
     "text": [
      "Epoch: 28 | Training Loss: 0.3373168278963138  | Validation Loss: 0.7923182028791179  | Accuracy: 63.45\n"
     ]
    },
    {
     "name": "stderr",
     "output_type": "stream",
     "text": [
      "156it [00:01, 117.17it/s]\n",
      "100%|█████████████████████████████████████████████████████████| 46/46 [00:00<00:00, 173.95it/s]\n"
     ]
    },
    {
     "name": "stdout",
     "output_type": "stream",
     "text": [
      "Epoch: 29 | Training Loss: 0.33886047223439586  | Validation Loss: 0.8708458490993666  | Accuracy: 62.23\n"
     ]
    },
    {
     "name": "stderr",
     "output_type": "stream",
     "text": [
      "156it [00:01, 120.76it/s]\n",
      "100%|█████████████████████████████████████████████████████████| 46/46 [00:00<00:00, 159.25it/s]\n"
     ]
    },
    {
     "name": "stdout",
     "output_type": "stream",
     "text": [
      "Epoch: 30 | Training Loss: 0.3397644207072564  | Validation Loss: 0.87491105950397  | Accuracy: 61.23\n"
     ]
    },
    {
     "name": "stderr",
     "output_type": "stream",
     "text": [
      "156it [00:01, 116.30it/s]\n",
      "100%|█████████████████████████████████████████████████████████| 46/46 [00:00<00:00, 160.02it/s]\n"
     ]
    },
    {
     "name": "stdout",
     "output_type": "stream",
     "text": [
      "Epoch: 31 | Training Loss: 0.3312595113156698  | Validation Loss: 0.8067869323751201  | Accuracy: 62.81\n"
     ]
    },
    {
     "name": "stderr",
     "output_type": "stream",
     "text": [
      "156it [00:01, 124.75it/s]\n",
      "100%|█████████████████████████████████████████████████████████| 46/46 [00:00<00:00, 165.93it/s]\n"
     ]
    },
    {
     "name": "stdout",
     "output_type": "stream",
     "text": [
      "Epoch: 32 | Training Loss: 0.3251081510232045  | Validation Loss: 0.7840732167596403  | Accuracy: 62.87\n"
     ]
    },
    {
     "name": "stderr",
     "output_type": "stream",
     "text": [
      "156it [00:01, 116.24it/s]\n",
      "100%|█████████████████████████████████████████████████████████| 46/46 [00:00<00:00, 161.32it/s]\n"
     ]
    },
    {
     "name": "stdout",
     "output_type": "stream",
     "text": [
      "Epoch: 33 | Training Loss: 0.327214345909082  | Validation Loss: 0.8511819632157035  | Accuracy: 62.99\n"
     ]
    },
    {
     "name": "stderr",
     "output_type": "stream",
     "text": [
      "156it [00:01, 114.83it/s]\n",
      "100%|█████████████████████████████████████████████████████████| 46/46 [00:00<00:00, 161.28it/s]\n"
     ]
    },
    {
     "name": "stdout",
     "output_type": "stream",
     "text": [
      "Epoch: 34 | Training Loss: 0.32557199924038005  | Validation Loss: 0.8593262511750926  | Accuracy: 62.28\n"
     ]
    },
    {
     "name": "stderr",
     "output_type": "stream",
     "text": [
      "156it [00:01, 122.91it/s]\n",
      "100%|█████████████████████████████████████████████████████████| 46/46 [00:00<00:00, 166.63it/s]\n"
     ]
    },
    {
     "name": "stdout",
     "output_type": "stream",
     "text": [
      "Epoch: 35 | Training Loss: 0.3336302348627494  | Validation Loss: 0.9881269892920619  | Accuracy: 61.48\n"
     ]
    },
    {
     "name": "stderr",
     "output_type": "stream",
     "text": [
      "156it [00:01, 117.33it/s]\n",
      "100%|█████████████████████████████████████████████████████████| 46/46 [00:00<00:00, 158.46it/s]\n"
     ]
    },
    {
     "name": "stdout",
     "output_type": "stream",
     "text": [
      "Epoch: 36 | Training Loss: 0.3235337614822082  | Validation Loss: 0.8634540334991787  | Accuracy: 62.11\n"
     ]
    },
    {
     "name": "stderr",
     "output_type": "stream",
     "text": [
      "156it [00:01, 124.54it/s]\n",
      "100%|█████████████████████████████████████████████████████████| 46/46 [00:00<00:00, 171.48it/s]\n"
     ]
    },
    {
     "name": "stdout",
     "output_type": "stream",
     "text": [
      "Epoch: 37 | Training Loss: 0.324477262986012  | Validation Loss: 1.0116996985414755  | Accuracy: 61.72\n"
     ]
    },
    {
     "name": "stderr",
     "output_type": "stream",
     "text": [
      "156it [00:01, 117.52it/s]\n",
      "100%|█████████████████████████████████████████████████████████| 46/46 [00:00<00:00, 164.53it/s]\n"
     ]
    },
    {
     "name": "stdout",
     "output_type": "stream",
     "text": [
      "Epoch: 38 | Training Loss: 0.3302672372605556  | Validation Loss: 0.8527559003104335  | Accuracy: 61.04\n"
     ]
    },
    {
     "name": "stderr",
     "output_type": "stream",
     "text": [
      "156it [00:01, 118.50it/s]\n",
      "100%|█████████████████████████████████████████████████████████| 46/46 [00:00<00:00, 164.48it/s]\n"
     ]
    },
    {
     "name": "stdout",
     "output_type": "stream",
     "text": [
      "Epoch: 39 | Training Loss: 0.31944661893141574  | Validation Loss: 0.9124883724295575  | Accuracy: 62.04\n"
     ]
    },
    {
     "name": "stderr",
     "output_type": "stream",
     "text": [
      "156it [00:01, 122.99it/s]\n",
      "100%|█████████████████████████████████████████████████████████| 46/46 [00:00<00:00, 161.40it/s]\n"
     ]
    },
    {
     "name": "stdout",
     "output_type": "stream",
     "text": [
      "Epoch: 40 | Training Loss: 0.32441285520027846  | Validation Loss: 0.8774620696254398  | Accuracy: 60.51\n"
     ]
    },
    {
     "name": "stderr",
     "output_type": "stream",
     "text": [
      "156it [00:01, 117.37it/s]\n",
      "100%|█████████████████████████████████████████████████████████| 46/46 [00:00<00:00, 159.75it/s]\n"
     ]
    },
    {
     "name": "stdout",
     "output_type": "stream",
     "text": [
      "Epoch: 41 | Training Loss: 0.32591740003763103  | Validation Loss: 0.9222922338091809  | Accuracy: 60.24\n"
     ]
    },
    {
     "name": "stderr",
     "output_type": "stream",
     "text": [
      "156it [00:01, 119.19it/s]\n",
      "100%|█████████████████████████████████████████████████████████| 46/46 [00:00<00:00, 207.62it/s]\n"
     ]
    },
    {
     "name": "stdout",
     "output_type": "stream",
     "text": [
      "Epoch: 42 | Training Loss: 0.3197582099491205  | Validation Loss: 0.8278490564097529  | Accuracy: 60.89\n"
     ]
    },
    {
     "name": "stderr",
     "output_type": "stream",
     "text": [
      "156it [00:01, 116.81it/s]\n",
      "100%|█████████████████████████████████████████████████████████| 46/46 [00:00<00:00, 160.87it/s]\n"
     ]
    },
    {
     "name": "stdout",
     "output_type": "stream",
     "text": [
      "Epoch: 43 | Training Loss: 0.3279029548359223  | Validation Loss: 0.9842475095520848  | Accuracy: 59.78\n"
     ]
    },
    {
     "name": "stderr",
     "output_type": "stream",
     "text": [
      "156it [00:01, 118.44it/s]\n",
      "100%|█████████████████████████████████████████████████████████| 46/46 [00:00<00:00, 155.43it/s]\n"
     ]
    },
    {
     "name": "stdout",
     "output_type": "stream",
     "text": [
      "Epoch: 44 | Training Loss: 0.320651429776962  | Validation Loss: 0.8962732488694398  | Accuracy: 59.78\n"
     ]
    },
    {
     "name": "stderr",
     "output_type": "stream",
     "text": [
      "156it [00:01, 125.04it/s]\n",
      "100%|█████████████████████████████████████████████████████████| 46/46 [00:00<00:00, 165.93it/s]\n"
     ]
    },
    {
     "name": "stdout",
     "output_type": "stream",
     "text": [
      "Epoch: 45 | Training Loss: 0.31672249218592274  | Validation Loss: 0.9535497064175813  | Accuracy: 61.07\n"
     ]
    },
    {
     "name": "stderr",
     "output_type": "stream",
     "text": [
      "156it [00:01, 117.81it/s]\n",
      "100%|█████████████████████████████████████████████████████████| 46/46 [00:00<00:00, 162.51it/s]\n"
     ]
    },
    {
     "name": "stdout",
     "output_type": "stream",
     "text": [
      "Epoch: 46 | Training Loss: 0.3183277548314669  | Validation Loss: 0.8820743677408799  | Accuracy: 62.53\n"
     ]
    },
    {
     "name": "stderr",
     "output_type": "stream",
     "text": [
      "156it [00:01, 117.97it/s]\n",
      "100%|█████████████████████████████████████████████████████████| 46/46 [00:00<00:00, 178.47it/s]\n"
     ]
    },
    {
     "name": "stdout",
     "output_type": "stream",
     "text": [
      "Epoch: 47 | Training Loss: 0.32310460393245405  | Validation Loss: 0.9350173628848532  | Accuracy: 60.56\n"
     ]
    },
    {
     "name": "stderr",
     "output_type": "stream",
     "text": [
      "156it [00:01, 119.24it/s]\n",
      "100%|█████████████████████████████████████████████████████████| 46/46 [00:00<00:00, 156.89it/s]\n"
     ]
    },
    {
     "name": "stdout",
     "output_type": "stream",
     "text": [
      "Epoch: 48 | Training Loss: 0.31862531965359664  | Validation Loss: 0.8663872195326764  | Accuracy: 61.89\n"
     ]
    },
    {
     "name": "stderr",
     "output_type": "stream",
     "text": [
      "156it [00:01, 117.71it/s]\n",
      "100%|█████████████████████████████████████████████████████████| 46/46 [00:00<00:00, 157.37it/s]\n"
     ]
    },
    {
     "name": "stdout",
     "output_type": "stream",
     "text": [
      "Epoch: 49 | Training Loss: 0.31051749592790234  | Validation Loss: 1.2501554307730303  | Accuracy: 56.37\n"
     ]
    },
    {
     "name": "stderr",
     "output_type": "stream",
     "text": [
      "156it [00:01, 122.77it/s]\n",
      "100%|█████████████████████████████████████████████████████████| 46/46 [00:00<00:00, 157.35it/s]\n"
     ]
    },
    {
     "name": "stdout",
     "output_type": "stream",
     "text": [
      "Epoch: 50 | Training Loss: 0.3187971230691824  | Validation Loss: 0.8338987607022991  | Accuracy: 61.02\n"
     ]
    },
    {
     "name": "stderr",
     "output_type": "stream",
     "text": [
      "156it [00:01, 117.67it/s]\n",
      "100%|█████████████████████████████████████████████████████████| 46/46 [00:00<00:00, 165.88it/s]\n"
     ]
    },
    {
     "name": "stdout",
     "output_type": "stream",
     "text": [
      "Epoch: 51 | Training Loss: 0.3129744288057853  | Validation Loss: 1.0957129403300907  | Accuracy: 58.00\n"
     ]
    },
    {
     "name": "stderr",
     "output_type": "stream",
     "text": [
      "156it [00:01, 117.90it/s]\n",
      "100%|█████████████████████████████████████████████████████████| 46/46 [00:00<00:00, 157.46it/s]\n"
     ]
    },
    {
     "name": "stdout",
     "output_type": "stream",
     "text": [
      "Epoch: 52 | Training Loss: 0.31237346411515504  | Validation Loss: 0.8825194148913674  | Accuracy: 61.40\n"
     ]
    },
    {
     "name": "stderr",
     "output_type": "stream",
     "text": [
      "156it [00:01, 123.47it/s]\n",
      "100%|█████████████████████████████████████████████████████████| 46/46 [00:00<00:00, 155.03it/s]\n"
     ]
    },
    {
     "name": "stdout",
     "output_type": "stream",
     "text": [
      "Epoch: 53 | Training Loss: 0.3145511925029449  | Validation Loss: 0.9125184650006501  | Accuracy: 60.19\n"
     ]
    },
    {
     "name": "stderr",
     "output_type": "stream",
     "text": [
      "156it [00:01, 118.09it/s]\n",
      "100%|█████████████████████████████████████████████████████████| 46/46 [00:00<00:00, 161.47it/s]\n"
     ]
    },
    {
     "name": "stdout",
     "output_type": "stream",
     "text": [
      "Epoch: 54 | Training Loss: 0.3125879102601455  | Validation Loss: 0.8976204719232477  | Accuracy: 60.56\n"
     ]
    },
    {
     "name": "stderr",
     "output_type": "stream",
     "text": [
      "156it [00:01, 124.77it/s]\n",
      "100%|█████████████████████████████████████████████████████████| 46/46 [00:00<00:00, 161.65it/s]\n"
     ]
    },
    {
     "name": "stdout",
     "output_type": "stream",
     "text": [
      "Epoch: 55 | Training Loss: 0.3142085494712377  | Validation Loss: 1.1033953298693118  | Accuracy: 58.02\n"
     ]
    },
    {
     "name": "stderr",
     "output_type": "stream",
     "text": [
      "156it [00:01, 118.33it/s]\n",
      "100%|█████████████████████████████████████████████████████████| 46/46 [00:00<00:00, 159.14it/s]\n"
     ]
    },
    {
     "name": "stdout",
     "output_type": "stream",
     "text": [
      "Epoch: 56 | Training Loss: 0.31363952198089695  | Validation Loss: 0.9274508875349293  | Accuracy: 62.08\n"
     ]
    },
    {
     "name": "stderr",
     "output_type": "stream",
     "text": [
      "156it [00:01, 117.11it/s]\n",
      "100%|█████████████████████████████████████████████████████████| 46/46 [00:00<00:00, 163.48it/s]\n"
     ]
    },
    {
     "name": "stdout",
     "output_type": "stream",
     "text": [
      "Epoch: 57 | Training Loss: 0.31412575795100284  | Validation Loss: 0.8310515608476556  | Accuracy: 63.18\n"
     ]
    },
    {
     "name": "stderr",
     "output_type": "stream",
     "text": [
      "156it [00:01, 124.78it/s]\n",
      "100%|█████████████████████████████████████████████████████████| 46/46 [00:00<00:00, 164.18it/s]\n"
     ]
    },
    {
     "name": "stdout",
     "output_type": "stream",
     "text": [
      "Epoch: 58 | Training Loss: 0.3107227379312882  | Validation Loss: 0.9682093716186025  | Accuracy: 60.05\n"
     ]
    },
    {
     "name": "stderr",
     "output_type": "stream",
     "text": [
      "156it [00:01, 118.00it/s]\n",
      "100%|█████████████████████████████████████████████████████████| 46/46 [00:00<00:00, 163.40it/s]\n"
     ]
    },
    {
     "name": "stdout",
     "output_type": "stream",
     "text": [
      "Epoch: 59 | Training Loss: 0.3082526082602831  | Validation Loss: 1.1695141818212427  | Accuracy: 57.08\n"
     ]
    },
    {
     "name": "stderr",
     "output_type": "stream",
     "text": [
      "156it [00:01, 121.12it/s]\n",
      "100%|█████████████████████████████████████████████████████████| 46/46 [00:00<00:00, 200.77it/s]\n"
     ]
    },
    {
     "name": "stdout",
     "output_type": "stream",
     "text": [
      "Epoch: 60 | Training Loss: 0.31168552812857503  | Validation Loss: 0.9891023208265719  | Accuracy: 58.51\n"
     ]
    },
    {
     "name": "stderr",
     "output_type": "stream",
     "text": [
      "156it [00:01, 118.28it/s]\n",
      "100%|█████████████████████████████████████████████████████████| 46/46 [00:00<00:00, 162.76it/s]\n"
     ]
    },
    {
     "name": "stdout",
     "output_type": "stream",
     "text": [
      "Epoch: 61 | Training Loss: 0.3112264409279212  | Validation Loss: 0.9419963035894476  | Accuracy: 59.94\n"
     ]
    },
    {
     "name": "stderr",
     "output_type": "stream",
     "text": [
      "156it [00:01, 117.50it/s]\n",
      "100%|█████████████████████████████████████████████████████████| 46/46 [00:00<00:00, 165.99it/s]\n"
     ]
    },
    {
     "name": "stdout",
     "output_type": "stream",
     "text": [
      "Epoch: 62 | Training Loss: 0.30903221256075764  | Validation Loss: 1.0407076490961986  | Accuracy: 58.73\n"
     ]
    },
    {
     "name": "stderr",
     "output_type": "stream",
     "text": [
      "156it [00:01, 124.85it/s]\n",
      "100%|█████████████████████████████████████████████████████████| 46/46 [00:00<00:00, 152.20it/s]\n"
     ]
    },
    {
     "name": "stdout",
     "output_type": "stream",
     "text": [
      "Epoch: 63 | Training Loss: 0.3046313560543916  | Validation Loss: 0.9759980012541232  | Accuracy: 59.68\n"
     ]
    },
    {
     "name": "stderr",
     "output_type": "stream",
     "text": [
      "156it [00:01, 115.68it/s]\n",
      "100%|█████████████████████████████████████████████████████████| 46/46 [00:00<00:00, 163.66it/s]\n"
     ]
    },
    {
     "name": "stdout",
     "output_type": "stream",
     "text": [
      "Epoch: 64 | Training Loss: 0.30445218210419017  | Validation Loss: 0.9602237097595049  | Accuracy: 60.87\n"
     ]
    },
    {
     "name": "stderr",
     "output_type": "stream",
     "text": [
      "156it [00:01, 119.88it/s]\n",
      "100%|█████████████████████████████████████████████████████████| 46/46 [00:00<00:00, 182.87it/s]\n"
     ]
    },
    {
     "name": "stdout",
     "output_type": "stream",
     "text": [
      "Epoch: 65 | Training Loss: 0.30221647100570875  | Validation Loss: 0.9481433409711589  | Accuracy: 60.95\n"
     ]
    },
    {
     "name": "stderr",
     "output_type": "stream",
     "text": [
      "156it [00:01, 122.93it/s]\n",
      "100%|█████████████████████████████████████████████████████████| 46/46 [00:00<00:00, 156.93it/s]\n"
     ]
    },
    {
     "name": "stdout",
     "output_type": "stream",
     "text": [
      "Epoch: 66 | Training Loss: 0.3086710226459381  | Validation Loss: 0.9130477063033892  | Accuracy: 60.61\n"
     ]
    },
    {
     "name": "stderr",
     "output_type": "stream",
     "text": [
      "156it [00:01, 112.95it/s]\n",
      "100%|█████████████████████████████████████████████████████████| 46/46 [00:00<00:00, 153.22it/s]\n"
     ]
    },
    {
     "name": "stdout",
     "output_type": "stream",
     "text": [
      "Epoch: 67 | Training Loss: 0.3026827515508884  | Validation Loss: 1.0392499436502871  | Accuracy: 57.17\n"
     ]
    },
    {
     "name": "stderr",
     "output_type": "stream",
     "text": [
      "156it [00:01, 117.89it/s]\n",
      "100%|█████████████████████████████████████████████████████████| 46/46 [00:00<00:00, 150.35it/s]\n"
     ]
    },
    {
     "name": "stdout",
     "output_type": "stream",
     "text": [
      "Epoch: 68 | Training Loss: 0.30529207927294266  | Validation Loss: 0.9332471891589786  | Accuracy: 59.34\n"
     ]
    },
    {
     "name": "stderr",
     "output_type": "stream",
     "text": [
      "156it [00:01, 117.47it/s]\n",
      "100%|█████████████████████████████████████████████████████████| 46/46 [00:00<00:00, 164.56it/s]\n"
     ]
    },
    {
     "name": "stdout",
     "output_type": "stream",
     "text": [
      "Epoch: 69 | Training Loss: 0.3061411563211527  | Validation Loss: 1.0892065089681875  | Accuracy: 58.66\n"
     ]
    },
    {
     "name": "stderr",
     "output_type": "stream",
     "text": [
      "156it [00:01, 118.00it/s]\n",
      "100%|█████████████████████████████████████████████████████████| 46/46 [00:00<00:00, 158.32it/s]\n"
     ]
    },
    {
     "name": "stdout",
     "output_type": "stream",
     "text": [
      "Epoch: 70 | Training Loss: 0.3077839764838035  | Validation Loss: 1.002371530170026  | Accuracy: 58.46\n"
     ]
    },
    {
     "name": "stderr",
     "output_type": "stream",
     "text": [
      "156it [00:01, 121.26it/s]\n",
      "100%|█████████████████████████████████████████████████████████| 46/46 [00:00<00:00, 164.31it/s]\n"
     ]
    },
    {
     "name": "stdout",
     "output_type": "stream",
     "text": [
      "Epoch: 71 | Training Loss: 0.3037067869534859  | Validation Loss: 1.0564970400022424  | Accuracy: 57.88\n"
     ]
    },
    {
     "name": "stderr",
     "output_type": "stream",
     "text": [
      "156it [00:01, 115.21it/s]\n",
      "100%|█████████████████████████████████████████████████████████| 46/46 [00:00<00:00, 160.41it/s]\n"
     ]
    },
    {
     "name": "stdout",
     "output_type": "stream",
     "text": [
      "Epoch: 72 | Training Loss: 0.30191051444182027  | Validation Loss: 0.956387847661972  | Accuracy: 61.45\n"
     ]
    },
    {
     "name": "stderr",
     "output_type": "stream",
     "text": [
      "156it [00:01, 120.84it/s]\n",
      "100%|█████████████████████████████████████████████████████████| 46/46 [00:00<00:00, 170.77it/s]\n"
     ]
    },
    {
     "name": "stdout",
     "output_type": "stream",
     "text": [
      "Epoch: 73 | Training Loss: 0.3082574065297078  | Validation Loss: 0.8551345558270164  | Accuracy: 62.25\n"
     ]
    },
    {
     "name": "stderr",
     "output_type": "stream",
     "text": [
      "156it [00:01, 116.14it/s]\n",
      "100%|█████████████████████████████████████████████████████████| 46/46 [00:00<00:00, 161.07it/s]\n"
     ]
    },
    {
     "name": "stdout",
     "output_type": "stream",
     "text": [
      "Epoch: 74 | Training Loss: 0.3033075057543241  | Validation Loss: 0.8287781749082648  | Accuracy: 62.19\n"
     ]
    },
    {
     "name": "stderr",
     "output_type": "stream",
     "text": [
      "156it [00:01, 115.95it/s]\n",
      "100%|█████████████████████████████████████████████████████████| 46/46 [00:00<00:00, 160.08it/s]\n"
     ]
    },
    {
     "name": "stdout",
     "output_type": "stream",
     "text": [
      "Epoch: 75 | Training Loss: 0.30253887405762303  | Validation Loss: 0.914741267328677  | Accuracy: 60.67\n"
     ]
    },
    {
     "name": "stderr",
     "output_type": "stream",
     "text": [
      "156it [00:01, 121.73it/s]\n",
      "100%|█████████████████████████████████████████████████████████| 46/46 [00:00<00:00, 163.57it/s]\n"
     ]
    },
    {
     "name": "stdout",
     "output_type": "stream",
     "text": [
      "Epoch: 76 | Training Loss: 0.29793746416003275  | Validation Loss: 1.0476408121378527  | Accuracy: 58.29\n"
     ]
    },
    {
     "name": "stderr",
     "output_type": "stream",
     "text": [
      "156it [00:01, 116.12it/s]\n",
      "100%|█████████████████████████████████████████████████████████| 46/46 [00:00<00:00, 159.19it/s]\n"
     ]
    },
    {
     "name": "stdout",
     "output_type": "stream",
     "text": [
      "Epoch: 77 | Training Loss: 0.30292108702736026  | Validation Loss: 1.0435612396053646  | Accuracy: 60.78\n"
     ]
    },
    {
     "name": "stderr",
     "output_type": "stream",
     "text": [
      "156it [00:01, 116.45it/s]\n",
      "100%|█████████████████████████████████████████████████████████| 46/46 [00:00<00:00, 189.17it/s]\n"
     ]
    },
    {
     "name": "stdout",
     "output_type": "stream",
     "text": [
      "Epoch: 78 | Training Loss: 0.301627199141643  | Validation Loss: 1.1180487106675687  | Accuracy: 58.34\n"
     ]
    },
    {
     "name": "stderr",
     "output_type": "stream",
     "text": [
      "156it [00:01, 116.74it/s]\n",
      "100%|█████████████████████████████████████████████████████████| 46/46 [00:00<00:00, 158.33it/s]\n"
     ]
    },
    {
     "name": "stdout",
     "output_type": "stream",
     "text": [
      "Epoch: 79 | Training Loss: 0.30212529462117416  | Validation Loss: 0.9667648349119269  | Accuracy: 60.70\n"
     ]
    },
    {
     "name": "stderr",
     "output_type": "stream",
     "text": [
      "156it [00:01, 115.00it/s]\n",
      "100%|█████████████████████████████████████████████████████████| 46/46 [00:00<00:00, 158.03it/s]\n"
     ]
    },
    {
     "name": "stdout",
     "output_type": "stream",
     "text": [
      "Epoch: 80 | Training Loss: 0.30042476025529397  | Validation Loss: 0.9966931135758109  | Accuracy: 59.38\n"
     ]
    },
    {
     "name": "stderr",
     "output_type": "stream",
     "text": [
      "156it [00:01, 120.78it/s]\n",
      "100%|█████████████████████████████████████████████████████████| 46/46 [00:00<00:00, 146.62it/s]\n"
     ]
    },
    {
     "name": "stdout",
     "output_type": "stream",
     "text": [
      "Epoch: 81 | Training Loss: 0.29744849306268567  | Validation Loss: 1.1928238842798315  | Accuracy: 57.08\n"
     ]
    },
    {
     "name": "stderr",
     "output_type": "stream",
     "text": [
      "156it [00:01, 115.60it/s]\n",
      "100%|█████████████████████████████████████████████████████████| 46/46 [00:00<00:00, 142.37it/s]\n"
     ]
    },
    {
     "name": "stdout",
     "output_type": "stream",
     "text": [
      "Epoch: 82 | Training Loss: 0.29707391665149957  | Validation Loss: 0.8891858912032583  | Accuracy: 61.04\n"
     ]
    },
    {
     "name": "stderr",
     "output_type": "stream",
     "text": [
      "156it [00:01, 112.89it/s]\n",
      "100%|█████████████████████████████████████████████████████████| 46/46 [00:00<00:00, 182.73it/s]\n"
     ]
    },
    {
     "name": "stdout",
     "output_type": "stream",
     "text": [
      "Epoch: 83 | Training Loss: 0.3002866628842476  | Validation Loss: 1.1811896122020225  | Accuracy: 57.20\n"
     ]
    },
    {
     "name": "stderr",
     "output_type": "stream",
     "text": [
      "156it [00:01, 118.50it/s]\n",
      "100%|█████████████████████████████████████████████████████████| 46/46 [00:00<00:00, 159.78it/s]\n"
     ]
    },
    {
     "name": "stdout",
     "output_type": "stream",
     "text": [
      "Epoch: 84 | Training Loss: 0.3034727288744388  | Validation Loss: 0.9309188075687574  | Accuracy: 59.58\n"
     ]
    },
    {
     "name": "stderr",
     "output_type": "stream",
     "text": [
      "156it [00:01, 118.41it/s]\n",
      "100%|█████████████████████████████████████████████████████████| 46/46 [00:00<00:00, 162.06it/s]\n"
     ]
    },
    {
     "name": "stdout",
     "output_type": "stream",
     "text": [
      "Epoch: 85 | Training Loss: 0.2936066591586822  | Validation Loss: 1.009631486042686  | Accuracy: 59.90\n"
     ]
    },
    {
     "name": "stderr",
     "output_type": "stream",
     "text": [
      "156it [00:01, 124.58it/s]\n",
      "100%|█████████████████████████████████████████████████████████| 46/46 [00:00<00:00, 167.41it/s]\n"
     ]
    },
    {
     "name": "stdout",
     "output_type": "stream",
     "text": [
      "Epoch: 86 | Training Loss: 0.2984265811168231  | Validation Loss: 0.9707012591154679  | Accuracy: 60.87\n"
     ]
    },
    {
     "name": "stderr",
     "output_type": "stream",
     "text": [
      "156it [00:01, 115.67it/s]\n",
      "100%|█████████████████████████████████████████████████████████| 46/46 [00:00<00:00, 162.48it/s]\n"
     ]
    },
    {
     "name": "stdout",
     "output_type": "stream",
     "text": [
      "Epoch: 87 | Training Loss: 0.2953873647329135  | Validation Loss: 1.026425098595412  | Accuracy: 58.93\n"
     ]
    },
    {
     "name": "stderr",
     "output_type": "stream",
     "text": [
      "156it [00:01, 114.92it/s]\n",
      "100%|█████████████████████████████████████████████████████████| 46/46 [00:00<00:00, 163.53it/s]\n"
     ]
    },
    {
     "name": "stdout",
     "output_type": "stream",
     "text": [
      "Epoch: 88 | Training Loss: 0.29603217609035665  | Validation Loss: 0.9025502269682677  | Accuracy: 61.74\n"
     ]
    },
    {
     "name": "stderr",
     "output_type": "stream",
     "text": [
      "156it [00:01, 121.44it/s]\n",
      "100%|█████████████████████████████████████████████████████████| 46/46 [00:00<00:00, 160.52it/s]\n"
     ]
    },
    {
     "name": "stdout",
     "output_type": "stream",
     "text": [
      "Epoch: 89 | Training Loss: 0.2938355121475  | Validation Loss: 0.9329293396161951  | Accuracy: 61.84\n"
     ]
    },
    {
     "name": "stderr",
     "output_type": "stream",
     "text": [
      "156it [00:01, 115.65it/s]\n",
      "100%|█████████████████████████████████████████████████████████| 46/46 [00:00<00:00, 153.39it/s]\n"
     ]
    },
    {
     "name": "stdout",
     "output_type": "stream",
     "text": [
      "Epoch: 90 | Training Loss: 0.293290242457237  | Validation Loss: 1.08855973508047  | Accuracy: 60.16\n"
     ]
    },
    {
     "name": "stderr",
     "output_type": "stream",
     "text": [
      "156it [00:01, 119.39it/s]\n",
      "100%|█████████████████████████████████████████████████████████| 46/46 [00:00<00:00, 184.18it/s]\n"
     ]
    },
    {
     "name": "stdout",
     "output_type": "stream",
     "text": [
      "Epoch: 91 | Training Loss: 0.29336249322081226  | Validation Loss: 1.0949259529943052  | Accuracy: 59.24\n"
     ]
    },
    {
     "name": "stderr",
     "output_type": "stream",
     "text": [
      "156it [00:01, 117.84it/s]\n",
      "100%|█████████████████████████████████████████████████████████| 46/46 [00:00<00:00, 163.95it/s]\n"
     ]
    },
    {
     "name": "stdout",
     "output_type": "stream",
     "text": [
      "Epoch: 92 | Training Loss: 0.292822764087946  | Validation Loss: 0.9835403470889382  | Accuracy: 59.26\n"
     ]
    },
    {
     "name": "stderr",
     "output_type": "stream",
     "text": [
      "156it [00:01, 116.18it/s]\n",
      "100%|█████████████████████████████████████████████████████████| 46/46 [00:00<00:00, 160.42it/s]\n"
     ]
    },
    {
     "name": "stdout",
     "output_type": "stream",
     "text": [
      "Epoch: 93 | Training Loss: 0.2945027145055624  | Validation Loss: 1.0290816802045573  | Accuracy: 60.78\n"
     ]
    },
    {
     "name": "stderr",
     "output_type": "stream",
     "text": [
      "156it [00:01, 120.35it/s]\n",
      "100%|█████████████████████████████████████████████████████████| 46/46 [00:00<00:00, 155.97it/s]\n"
     ]
    },
    {
     "name": "stdout",
     "output_type": "stream",
     "text": [
      "Epoch: 94 | Training Loss: 0.2949165678941287  | Validation Loss: 0.964197048674459  | Accuracy: 59.24\n"
     ]
    },
    {
     "name": "stderr",
     "output_type": "stream",
     "text": [
      "156it [00:01, 115.84it/s]\n",
      "100%|█████████████████████████████████████████████████████████| 46/46 [00:00<00:00, 160.89it/s]\n"
     ]
    },
    {
     "name": "stdout",
     "output_type": "stream",
     "text": [
      "Epoch: 95 | Training Loss: 0.2972944648219989  | Validation Loss: 1.0309525702310645  | Accuracy: 60.00\n"
     ]
    },
    {
     "name": "stderr",
     "output_type": "stream",
     "text": [
      "156it [00:01, 115.72it/s]\n",
      "100%|█████████████████████████████████████████████████████████| 46/46 [00:00<00:00, 178.75it/s]\n"
     ]
    },
    {
     "name": "stdout",
     "output_type": "stream",
     "text": [
      "Epoch: 96 | Training Loss: 0.29706555576278615  | Validation Loss: 0.9753843377465787  | Accuracy: 58.95\n"
     ]
    },
    {
     "name": "stderr",
     "output_type": "stream",
     "text": [
      "156it [00:01, 117.68it/s]\n",
      "100%|█████████████████████████████████████████████████████████| 46/46 [00:00<00:00, 159.32it/s]\n"
     ]
    },
    {
     "name": "stdout",
     "output_type": "stream",
     "text": [
      "Epoch: 97 | Training Loss: 0.30239252641032904  | Validation Loss: 0.8787907932115637  | Accuracy: 59.92\n"
     ]
    },
    {
     "name": "stderr",
     "output_type": "stream",
     "text": [
      "156it [00:01, 115.84it/s]\n",
      "100%|█████████████████████████████████████████████████████████| 46/46 [00:00<00:00, 156.48it/s]\n"
     ]
    },
    {
     "name": "stdout",
     "output_type": "stream",
     "text": [
      "Epoch: 98 | Training Loss: 0.2910639449762992  | Validation Loss: 0.8800880792348281  | Accuracy: 62.75\n"
     ]
    },
    {
     "name": "stderr",
     "output_type": "stream",
     "text": [
      "156it [00:01, 122.86it/s]\n",
      "100%|█████████████████████████████████████████████████████████| 46/46 [00:00<00:00, 162.81it/s]\n"
     ]
    },
    {
     "name": "stdout",
     "output_type": "stream",
     "text": [
      "Epoch: 99 | Training Loss: 0.29555335220618123  | Validation Loss: 1.0153237024079198  | Accuracy: 58.93\n"
     ]
    },
    {
     "name": "stderr",
     "output_type": "stream",
     "text": [
      "156it [00:01, 115.20it/s]\n",
      "100%|█████████████████████████████████████████████████████████| 46/46 [00:00<00:00, 160.09it/s]\n"
     ]
    },
    {
     "name": "stdout",
     "output_type": "stream",
     "text": [
      "Epoch: 100 | Training Loss: 0.29435196986947304  | Validation Loss: 0.9896087128183116  | Accuracy: 59.38\n"
     ]
    },
    {
     "name": "stderr",
     "output_type": "stream",
     "text": [
      "156it [00:01, 114.59it/s]\n",
      "100%|█████████████████████████████████████████████████████████| 46/46 [00:00<00:00, 160.06it/s]\n"
     ]
    },
    {
     "name": "stdout",
     "output_type": "stream",
     "text": [
      "Epoch: 101 | Training Loss: 0.28915918522920364  | Validation Loss: 0.9262644480104032  | Accuracy: 62.64\n"
     ]
    },
    {
     "name": "stderr",
     "output_type": "stream",
     "text": [
      "156it [00:01, 120.86it/s]\n",
      "100%|█████████████████████████████████████████████████████████| 46/46 [00:00<00:00, 161.54it/s]\n"
     ]
    },
    {
     "name": "stdout",
     "output_type": "stream",
     "text": [
      "Epoch: 102 | Training Loss: 0.29582725990659153  | Validation Loss: 0.842686318832895  | Accuracy: 62.36\n"
     ]
    },
    {
     "name": "stderr",
     "output_type": "stream",
     "text": [
      "156it [00:01, 115.28it/s]\n",
      "100%|█████████████████████████████████████████████████████████| 46/46 [00:00<00:00, 161.48it/s]\n"
     ]
    },
    {
     "name": "stdout",
     "output_type": "stream",
     "text": [
      "Epoch: 103 | Training Loss: 0.29957571835854113  | Validation Loss: 1.023471034091452  | Accuracy: 58.61\n"
     ]
    },
    {
     "name": "stderr",
     "output_type": "stream",
     "text": [
      "156it [00:01, 123.17it/s]\n",
      "100%|█████████████████████████████████████████████████████████| 46/46 [00:00<00:00, 172.83it/s]\n"
     ]
    },
    {
     "name": "stdout",
     "output_type": "stream",
     "text": [
      "Epoch: 104 | Training Loss: 0.2950162139649575  | Validation Loss: 0.9158455405546271  | Accuracy: 62.25\n"
     ]
    },
    {
     "name": "stderr",
     "output_type": "stream",
     "text": [
      "156it [00:01, 115.75it/s]\n",
      "100%|█████████████████████████████████████████████████████████| 46/46 [00:00<00:00, 163.58it/s]\n"
     ]
    },
    {
     "name": "stdout",
     "output_type": "stream",
     "text": [
      "Epoch: 105 | Training Loss: 0.29499567796786624  | Validation Loss: 1.0486645374609076  | Accuracy: 58.92\n"
     ]
    },
    {
     "name": "stderr",
     "output_type": "stream",
     "text": [
      "156it [00:01, 115.60it/s]\n",
      "100%|█████████████████████████████████████████████████████████| 46/46 [00:00<00:00, 160.95it/s]\n"
     ]
    },
    {
     "name": "stdout",
     "output_type": "stream",
     "text": [
      "Epoch: 106 | Training Loss: 0.29762967418019587  | Validation Loss: 0.899029385784398  | Accuracy: 61.87\n"
     ]
    },
    {
     "name": "stderr",
     "output_type": "stream",
     "text": [
      "156it [00:01, 122.54it/s]\n",
      "100%|█████████████████████████████████████████████████████████| 46/46 [00:00<00:00, 159.87it/s]\n"
     ]
    },
    {
     "name": "stdout",
     "output_type": "stream",
     "text": [
      "Epoch: 107 | Training Loss: 0.29708985697764617  | Validation Loss: 1.0945848161759584  | Accuracy: 60.11\n"
     ]
    },
    {
     "name": "stderr",
     "output_type": "stream",
     "text": [
      "156it [00:01, 117.17it/s]\n",
      "100%|█████████████████████████████████████████████████████████| 46/46 [00:00<00:00, 163.54it/s]\n"
     ]
    },
    {
     "name": "stdout",
     "output_type": "stream",
     "text": [
      "Epoch: 108 | Training Loss: 0.2880689645042786  | Validation Loss: 0.9459009507428044  | Accuracy: 61.12\n"
     ]
    },
    {
     "name": "stderr",
     "output_type": "stream",
     "text": [
      "156it [00:01, 116.27it/s]\n",
      "100%|█████████████████████████████████████████████████████████| 46/46 [00:00<00:00, 212.49it/s]\n"
     ]
    },
    {
     "name": "stdout",
     "output_type": "stream",
     "text": [
      "Epoch: 109 | Training Loss: 0.2928547192460451  | Validation Loss: 0.944100832161696  | Accuracy: 60.19\n"
     ]
    },
    {
     "name": "stderr",
     "output_type": "stream",
     "text": [
      "156it [00:01, 115.89it/s]\n",
      "100%|█████████████████████████████████████████████████████████| 46/46 [00:00<00:00, 161.51it/s]\n"
     ]
    },
    {
     "name": "stdout",
     "output_type": "stream",
     "text": [
      "Epoch: 110 | Training Loss: 0.29354881447477216  | Validation Loss: 0.9455078010973723  | Accuracy: 60.43\n"
     ]
    },
    {
     "name": "stderr",
     "output_type": "stream",
     "text": [
      "156it [00:01, 116.01it/s]\n",
      "100%|█████████████████████████████████████████████████████████| 46/46 [00:00<00:00, 164.88it/s]\n"
     ]
    },
    {
     "name": "stdout",
     "output_type": "stream",
     "text": [
      "Epoch: 111 | Training Loss: 0.2896215604283871  | Validation Loss: 0.9153496610081714  | Accuracy: 61.11\n"
     ]
    },
    {
     "name": "stderr",
     "output_type": "stream",
     "text": [
      "156it [00:01, 123.23it/s]\n",
      "100%|█████████████████████████████████████████████████████████| 46/46 [00:00<00:00, 162.64it/s]\n"
     ]
    },
    {
     "name": "stdout",
     "output_type": "stream",
     "text": [
      "Epoch: 112 | Training Loss: 0.290160976541348  | Validation Loss: 1.0734476939491604  | Accuracy: 59.43\n"
     ]
    },
    {
     "name": "stderr",
     "output_type": "stream",
     "text": [
      "156it [00:01, 117.27it/s]\n",
      "100%|█████████████████████████████████████████████████████████| 46/46 [00:00<00:00, 156.20it/s]\n"
     ]
    },
    {
     "name": "stdout",
     "output_type": "stream",
     "text": [
      "Epoch: 113 | Training Loss: 0.2898988692233196  | Validation Loss: 1.0380854308605194  | Accuracy: 60.24\n"
     ]
    },
    {
     "name": "stderr",
     "output_type": "stream",
     "text": [
      "156it [00:01, 118.73it/s]\n",
      "100%|█████████████████████████████████████████████████████████| 46/46 [00:00<00:00, 161.62it/s]\n"
     ]
    },
    {
     "name": "stdout",
     "output_type": "stream",
     "text": [
      "Epoch: 114 | Training Loss: 0.28872313302678937  | Validation Loss: 0.9037973466126815  | Accuracy: 60.53\n"
     ]
    },
    {
     "name": "stderr",
     "output_type": "stream",
     "text": [
      "156it [00:01, 121.66it/s]\n",
      "100%|█████████████████████████████████████████████████████████| 46/46 [00:00<00:00, 158.30it/s]\n"
     ]
    },
    {
     "name": "stdout",
     "output_type": "stream",
     "text": [
      "Epoch: 115 | Training Loss: 0.28912615499053246  | Validation Loss: 0.9824426886828049  | Accuracy: 59.94\n"
     ]
    },
    {
     "name": "stderr",
     "output_type": "stream",
     "text": [
      "156it [00:01, 114.32it/s]\n",
      "100%|█████████████████████████████████████████████████████████| 46/46 [00:00<00:00, 158.98it/s]\n"
     ]
    },
    {
     "name": "stdout",
     "output_type": "stream",
     "text": [
      "Epoch: 116 | Training Loss: 0.29637501388788223  | Validation Loss: 0.9762961773768716  | Accuracy: 61.67\n"
     ]
    },
    {
     "name": "stderr",
     "output_type": "stream",
     "text": [
      "156it [00:01, 121.45it/s]\n",
      "100%|█████████████████████████████████████████████████████████| 46/46 [00:00<00:00, 160.61it/s]\n"
     ]
    },
    {
     "name": "stdout",
     "output_type": "stream",
     "text": [
      "Epoch: 117 | Training Loss: 0.28760148909611577  | Validation Loss: 0.9688623664171799  | Accuracy: 60.07\n"
     ]
    },
    {
     "name": "stderr",
     "output_type": "stream",
     "text": [
      "156it [00:01, 113.74it/s]\n",
      "100%|█████████████████████████████████████████████████████████| 46/46 [00:00<00:00, 160.61it/s]\n"
     ]
    },
    {
     "name": "stdout",
     "output_type": "stream",
     "text": [
      "Epoch: 118 | Training Loss: 0.29726331766981345  | Validation Loss: 0.99975437314614  | Accuracy: 59.51\n"
     ]
    },
    {
     "name": "stderr",
     "output_type": "stream",
     "text": [
      "156it [00:01, 116.44it/s]\n",
      "100%|█████████████████████████████████████████████████████████| 46/46 [00:00<00:00, 160.72it/s]\n"
     ]
    },
    {
     "name": "stdout",
     "output_type": "stream",
     "text": [
      "Epoch: 119 | Training Loss: 0.29603765341333854  | Validation Loss: 0.9459672570228577  | Accuracy: 59.61\n"
     ]
    },
    {
     "name": "stderr",
     "output_type": "stream",
     "text": [
      "156it [00:01, 124.03it/s]\n",
      "100%|█████████████████████████████████████████████████████████| 46/46 [00:00<00:00, 155.58it/s]\n"
     ]
    },
    {
     "name": "stdout",
     "output_type": "stream",
     "text": [
      "Epoch: 120 | Training Loss: 0.2927160774094936  | Validation Loss: 0.9184882925904315  | Accuracy: 61.82\n"
     ]
    },
    {
     "name": "stderr",
     "output_type": "stream",
     "text": [
      "156it [00:01, 118.98it/s]\n",
      "100%|█████████████████████████████████████████████████████████| 46/46 [00:00<00:00, 160.41it/s]\n"
     ]
    },
    {
     "name": "stdout",
     "output_type": "stream",
     "text": [
      "Epoch: 121 | Training Loss: 0.2893321678424493  | Validation Loss: 0.9288539394088413  | Accuracy: 61.43\n"
     ]
    },
    {
     "name": "stderr",
     "output_type": "stream",
     "text": [
      "156it [00:01, 117.66it/s]\n",
      "100%|█████████████████████████████████████████████████████████| 46/46 [00:00<00:00, 185.78it/s]\n"
     ]
    },
    {
     "name": "stdout",
     "output_type": "stream",
     "text": [
      "Epoch: 122 | Training Loss: 0.2888951613925971  | Validation Loss: 1.0231352215227874  | Accuracy: 60.33\n"
     ]
    },
    {
     "name": "stderr",
     "output_type": "stream",
     "text": [
      "156it [00:01, 114.64it/s]\n",
      "100%|█████████████████████████████████████████████████████████| 46/46 [00:00<00:00, 160.39it/s]\n"
     ]
    },
    {
     "name": "stdout",
     "output_type": "stream",
     "text": [
      "Epoch: 123 | Training Loss: 0.291425642485802  | Validation Loss: 0.8900392612685328  | Accuracy: 61.48\n"
     ]
    },
    {
     "name": "stderr",
     "output_type": "stream",
     "text": [
      "156it [00:01, 116.91it/s]\n",
      "100%|█████████████████████████████████████████████████████████| 46/46 [00:00<00:00, 158.23it/s]\n"
     ]
    },
    {
     "name": "stdout",
     "output_type": "stream",
     "text": [
      "Epoch: 124 | Training Loss: 0.29056561623628324  | Validation Loss: 0.9619824951109679  | Accuracy: 59.46\n"
     ]
    },
    {
     "name": "stderr",
     "output_type": "stream",
     "text": [
      "156it [00:01, 126.81it/s]\n",
      "100%|█████████████████████████████████████████████████████████| 46/46 [00:00<00:00, 163.29it/s]\n"
     ]
    },
    {
     "name": "stdout",
     "output_type": "stream",
     "text": [
      "Epoch: 125 | Training Loss: 0.29035438243777323  | Validation Loss: 0.909658159898675  | Accuracy: 61.58\n"
     ]
    },
    {
     "name": "stderr",
     "output_type": "stream",
     "text": [
      "156it [00:01, 114.43it/s]\n",
      "100%|█████████████████████████████████████████████████████████| 46/46 [00:00<00:00, 161.54it/s]\n"
     ]
    },
    {
     "name": "stdout",
     "output_type": "stream",
     "text": [
      "Epoch: 126 | Training Loss: 0.2908255120691581  | Validation Loss: 0.911984437185785  | Accuracy: 62.28\n"
     ]
    },
    {
     "name": "stderr",
     "output_type": "stream",
     "text": [
      "156it [00:01, 113.49it/s]\n",
      "100%|█████████████████████████████████████████████████████████| 46/46 [00:00<00:00, 181.04it/s]\n"
     ]
    },
    {
     "name": "stdout",
     "output_type": "stream",
     "text": [
      "Epoch: 127 | Training Loss: 0.2905919937751232  | Validation Loss: 0.9009586779967599  | Accuracy: 60.94\n"
     ]
    },
    {
     "name": "stderr",
     "output_type": "stream",
     "text": [
      "156it [00:01, 120.79it/s]\n",
      "100%|█████████████████████████████████████████████████████████| 46/46 [00:00<00:00, 156.43it/s]\n"
     ]
    },
    {
     "name": "stdout",
     "output_type": "stream",
     "text": [
      "Epoch: 128 | Training Loss: 0.29038964498501557  | Validation Loss: 0.9163073806659036  | Accuracy: 60.26\n"
     ]
    },
    {
     "name": "stderr",
     "output_type": "stream",
     "text": [
      "156it [00:01, 118.14it/s]\n",
      "100%|█████████████████████████████████████████████████████████| 46/46 [00:00<00:00, 159.06it/s]\n"
     ]
    },
    {
     "name": "stdout",
     "output_type": "stream",
     "text": [
      "Epoch: 129 | Training Loss: 0.2893681505169624  | Validation Loss: 1.0885652770166812  | Accuracy: 59.14\n"
     ]
    },
    {
     "name": "stderr",
     "output_type": "stream",
     "text": [
      "156it [00:01, 125.61it/s]\n",
      "100%|█████████████████████████████████████████████████████████| 46/46 [00:00<00:00, 154.84it/s]\n"
     ]
    },
    {
     "name": "stdout",
     "output_type": "stream",
     "text": [
      "Epoch: 130 | Training Loss: 0.2858693867157667  | Validation Loss: 0.9982260634069857  | Accuracy: 60.29\n"
     ]
    },
    {
     "name": "stderr",
     "output_type": "stream",
     "text": [
      "156it [00:01, 117.55it/s]\n",
      "100%|█████████████████████████████████████████████████████████| 46/46 [00:00<00:00, 155.05it/s]\n"
     ]
    },
    {
     "name": "stdout",
     "output_type": "stream",
     "text": [
      "Epoch: 131 | Training Loss: 0.29103154584001273  | Validation Loss: 0.9867549072141233  | Accuracy: 59.32\n"
     ]
    },
    {
     "name": "stderr",
     "output_type": "stream",
     "text": [
      "156it [00:01, 116.57it/s]\n",
      "100%|█████████████████████████████████████████████████████████| 46/46 [00:00<00:00, 171.89it/s]\n"
     ]
    },
    {
     "name": "stdout",
     "output_type": "stream",
     "text": [
      "Epoch: 132 | Training Loss: 0.2943419923958106  | Validation Loss: 1.0636737709460051  | Accuracy: 60.68\n"
     ]
    },
    {
     "name": "stderr",
     "output_type": "stream",
     "text": [
      "156it [00:01, 119.75it/s]\n",
      "100%|█████████████████████████████████████████████████████████| 46/46 [00:00<00:00, 157.25it/s]\n"
     ]
    },
    {
     "name": "stdout",
     "output_type": "stream",
     "text": [
      "Epoch: 133 | Training Loss: 0.2885698394324535  | Validation Loss: 1.0181814976360486  | Accuracy: 60.68\n"
     ]
    },
    {
     "name": "stderr",
     "output_type": "stream",
     "text": [
      "156it [00:01, 115.65it/s]\n",
      "100%|█████████████████████████████████████████████████████████| 46/46 [00:00<00:00, 159.96it/s]\n"
     ]
    },
    {
     "name": "stdout",
     "output_type": "stream",
     "text": [
      "Epoch: 134 | Training Loss: 0.28730110155466276  | Validation Loss: 1.1565775158612623  | Accuracy: 57.13\n"
     ]
    },
    {
     "name": "stderr",
     "output_type": "stream",
     "text": [
      "156it [00:01, 123.78it/s]\n",
      "100%|█████████████████████████████████████████████████████████| 46/46 [00:00<00:00, 165.28it/s]\n"
     ]
    },
    {
     "name": "stdout",
     "output_type": "stream",
     "text": [
      "Epoch: 135 | Training Loss: 0.2910298942946471  | Validation Loss: 0.9908215610877328  | Accuracy: 60.94\n"
     ]
    },
    {
     "name": "stderr",
     "output_type": "stream",
     "text": [
      "156it [00:01, 115.95it/s]\n",
      "100%|█████████████████████████████████████████████████████████| 46/46 [00:00<00:00, 144.89it/s]\n"
     ]
    },
    {
     "name": "stdout",
     "output_type": "stream",
     "text": [
      "Epoch: 136 | Training Loss: 0.28895627850523364  | Validation Loss: 0.9745230402635492  | Accuracy: 61.58\n"
     ]
    },
    {
     "name": "stderr",
     "output_type": "stream",
     "text": [
      "156it [00:01, 116.82it/s]\n",
      "100%|█████████████████████████████████████████████████████████| 46/46 [00:00<00:00, 159.10it/s]\n"
     ]
    },
    {
     "name": "stdout",
     "output_type": "stream",
     "text": [
      "Epoch: 137 | Training Loss: 0.290775433755838  | Validation Loss: 0.9479566475619441  | Accuracy: 60.75\n"
     ]
    },
    {
     "name": "stderr",
     "output_type": "stream",
     "text": [
      "156it [00:01, 123.18it/s]\n",
      "100%|█████████████████████████████████████████████████████████| 46/46 [00:00<00:00, 159.56it/s]\n"
     ]
    },
    {
     "name": "stdout",
     "output_type": "stream",
     "text": [
      "Epoch: 138 | Training Loss: 0.28769919792046916  | Validation Loss: 1.1038051338299462  | Accuracy: 57.22\n"
     ]
    },
    {
     "name": "stderr",
     "output_type": "stream",
     "text": [
      "156it [00:01, 114.05it/s]\n",
      "100%|█████████████████████████████████████████████████████████| 46/46 [00:00<00:00, 157.25it/s]\n"
     ]
    },
    {
     "name": "stdout",
     "output_type": "stream",
     "text": [
      "Epoch: 139 | Training Loss: 0.29445326996919435  | Validation Loss: 1.0126834628374681  | Accuracy: 58.14\n"
     ]
    },
    {
     "name": "stderr",
     "output_type": "stream",
     "text": [
      "156it [00:01, 121.67it/s]\n",
      "100%|█████████████████████████████████████████████████████████| 46/46 [00:00<00:00, 173.96it/s]\n"
     ]
    },
    {
     "name": "stdout",
     "output_type": "stream",
     "text": [
      "Epoch: 140 | Training Loss: 0.29333860723254007  | Validation Loss: 1.0336602563443391  | Accuracy: 59.73\n"
     ]
    },
    {
     "name": "stderr",
     "output_type": "stream",
     "text": [
      "156it [00:01, 116.28it/s]\n",
      "100%|█████████████████████████████████████████████████████████| 46/46 [00:00<00:00, 157.34it/s]\n"
     ]
    },
    {
     "name": "stdout",
     "output_type": "stream",
     "text": [
      "Epoch: 141 | Training Loss: 0.2899060959044175  | Validation Loss: 1.0717348339764967  | Accuracy: 58.76\n"
     ]
    },
    {
     "name": "stderr",
     "output_type": "stream",
     "text": [
      "156it [00:01, 115.64it/s]\n",
      "100%|█████████████████████████████████████████████████████████| 46/46 [00:00<00:00, 159.31it/s]\n"
     ]
    },
    {
     "name": "stdout",
     "output_type": "stream",
     "text": [
      "Epoch: 142 | Training Loss: 0.2893149967377002  | Validation Loss: 0.9804707921069601  | Accuracy: 59.90\n"
     ]
    },
    {
     "name": "stderr",
     "output_type": "stream",
     "text": [
      "156it [00:01, 122.94it/s]\n",
      "100%|█████████████████████████████████████████████████████████| 46/46 [00:00<00:00, 164.80it/s]\n"
     ]
    },
    {
     "name": "stdout",
     "output_type": "stream",
     "text": [
      "Epoch: 143 | Training Loss: 0.287657711845942  | Validation Loss: 0.9123793127744094  | Accuracy: 62.06\n"
     ]
    },
    {
     "name": "stderr",
     "output_type": "stream",
     "text": [
      "156it [00:01, 115.30it/s]\n",
      "100%|█████████████████████████████████████████████████████████| 46/46 [00:00<00:00, 167.93it/s]\n"
     ]
    },
    {
     "name": "stdout",
     "output_type": "stream",
     "text": [
      "Epoch: 144 | Training Loss: 0.2865096282882568  | Validation Loss: 1.1698410860870196  | Accuracy: 58.07\n"
     ]
    },
    {
     "name": "stderr",
     "output_type": "stream",
     "text": [
      "156it [00:01, 115.84it/s]\n",
      "100%|█████████████████████████████████████████████████████████| 46/46 [00:00<00:00, 193.71it/s]\n"
     ]
    },
    {
     "name": "stdout",
     "output_type": "stream",
     "text": [
      "Epoch: 145 | Training Loss: 0.28976915213160026  | Validation Loss: 1.0044579920561418  | Accuracy: 60.11\n"
     ]
    },
    {
     "name": "stderr",
     "output_type": "stream",
     "text": [
      "156it [00:01, 114.40it/s]\n",
      "100%|█████████████████████████████████████████████████████████| 46/46 [00:00<00:00, 158.71it/s]\n"
     ]
    },
    {
     "name": "stdout",
     "output_type": "stream",
     "text": [
      "Epoch: 146 | Training Loss: 0.29019864390675837  | Validation Loss: 0.9641162791977758  | Accuracy: 60.73\n"
     ]
    },
    {
     "name": "stderr",
     "output_type": "stream",
     "text": [
      "156it [00:01, 118.41it/s]\n",
      "100%|█████████████████████████████████████████████████████████| 46/46 [00:00<00:00, 164.03it/s]\n"
     ]
    },
    {
     "name": "stdout",
     "output_type": "stream",
     "text": [
      "Epoch: 147 | Training Loss: 0.2835604826418253  | Validation Loss: 0.9950156237768091  | Accuracy: 59.46\n"
     ]
    },
    {
     "name": "stderr",
     "output_type": "stream",
     "text": [
      "156it [00:01, 122.07it/s]\n",
      "100%|█████████████████████████████████████████████████████████| 46/46 [00:00<00:00, 153.61it/s]\n"
     ]
    },
    {
     "name": "stdout",
     "output_type": "stream",
     "text": [
      "Epoch: 148 | Training Loss: 0.28548801394227225  | Validation Loss: 0.9348547044007675  | Accuracy: 62.11\n"
     ]
    },
    {
     "name": "stderr",
     "output_type": "stream",
     "text": [
      "156it [00:01, 110.27it/s]\n",
      "100%|█████████████████████████████████████████████████████████| 46/46 [00:00<00:00, 161.05it/s]\n"
     ]
    },
    {
     "name": "stdout",
     "output_type": "stream",
     "text": [
      "Epoch: 149 | Training Loss: 0.2930844323948408  | Validation Loss: 0.9534050265084142  | Accuracy: 60.60\n"
     ]
    },
    {
     "name": "stderr",
     "output_type": "stream",
     "text": [
      "156it [00:01, 115.64it/s]\n",
      "100%|█████████████████████████████████████████████████████████| 46/46 [00:00<00:00, 177.80it/s]\n"
     ]
    },
    {
     "name": "stdout",
     "output_type": "stream",
     "text": [
      "Epoch: 150 | Training Loss: 0.284404979684414  | Validation Loss: 0.999910074731578  | Accuracy: 60.19\n"
     ]
    },
    {
     "name": "stderr",
     "output_type": "stream",
     "text": [
      "156it [00:01, 116.02it/s]\n",
      "100%|█████████████████████████████████████████████████████████| 46/46 [00:00<00:00, 161.27it/s]\n"
     ]
    },
    {
     "name": "stdout",
     "output_type": "stream",
     "text": [
      "Epoch: 151 | Training Loss: 0.2878286828024265  | Validation Loss: 1.0756386894246805  | Accuracy: 59.56\n"
     ]
    },
    {
     "name": "stderr",
     "output_type": "stream",
     "text": [
      "156it [00:01, 115.10it/s]\n",
      "100%|█████████████████████████████████████████████████████████| 46/46 [00:00<00:00, 160.26it/s]\n"
     ]
    },
    {
     "name": "stdout",
     "output_type": "stream",
     "text": [
      "Epoch: 152 | Training Loss: 0.28505499173815435  | Validation Loss: 1.0925799141759458  | Accuracy: 59.10\n"
     ]
    },
    {
     "name": "stderr",
     "output_type": "stream",
     "text": [
      "156it [00:01, 123.35it/s]\n",
      "100%|█████████████████████████████████████████████████████████| 46/46 [00:00<00:00, 155.81it/s]\n"
     ]
    },
    {
     "name": "stdout",
     "output_type": "stream",
     "text": [
      "Epoch: 153 | Training Loss: 0.2798572752911311  | Validation Loss: 0.9097621751868207  | Accuracy: 61.46\n"
     ]
    },
    {
     "name": "stderr",
     "output_type": "stream",
     "text": [
      "156it [00:01, 116.30it/s]\n",
      "100%|█████████████████████████████████████████████████████████| 46/46 [00:00<00:00, 162.76it/s]\n"
     ]
    },
    {
     "name": "stdout",
     "output_type": "stream",
     "text": [
      "Epoch: 154 | Training Loss: 0.2830224791780496  | Validation Loss: 1.0023046213647593  | Accuracy: 61.04\n"
     ]
    },
    {
     "name": "stderr",
     "output_type": "stream",
     "text": [
      "156it [00:01, 114.18it/s]\n",
      "100%|█████████████████████████████████████████████████████████| 46/46 [00:00<00:00, 155.04it/s]\n"
     ]
    },
    {
     "name": "stdout",
     "output_type": "stream",
     "text": [
      "Epoch: 155 | Training Loss: 0.2861679688287087  | Validation Loss: 0.9807769332243048  | Accuracy: 60.51\n"
     ]
    },
    {
     "name": "stderr",
     "output_type": "stream",
     "text": [
      "156it [00:01, 119.23it/s]\n",
      "100%|█████████████████████████████████████████████████████████| 46/46 [00:00<00:00, 161.46it/s]\n"
     ]
    },
    {
     "name": "stdout",
     "output_type": "stream",
     "text": [
      "Epoch: 156 | Training Loss: 0.2921760762349153  | Validation Loss: 1.0207470512908439  | Accuracy: 59.46\n"
     ]
    },
    {
     "name": "stderr",
     "output_type": "stream",
     "text": [
      "156it [00:01, 115.29it/s]\n",
      "100%|█████████████████████████████████████████████████████████| 46/46 [00:00<00:00, 160.74it/s]\n"
     ]
    },
    {
     "name": "stdout",
     "output_type": "stream",
     "text": [
      "Epoch: 157 | Training Loss: 0.28400581521101487  | Validation Loss: 0.9298165932945583  | Accuracy: 60.87\n"
     ]
    },
    {
     "name": "stderr",
     "output_type": "stream",
     "text": [
      "156it [00:01, 123.20it/s]\n",
      "100%|█████████████████████████████████████████████████████████| 46/46 [00:00<00:00, 160.88it/s]\n"
     ]
    },
    {
     "name": "stdout",
     "output_type": "stream",
     "text": [
      "Epoch: 158 | Training Loss: 0.291977898337138  | Validation Loss: 0.9550369692885358  | Accuracy: 61.67\n"
     ]
    },
    {
     "name": "stderr",
     "output_type": "stream",
     "text": [
      "156it [00:01, 114.79it/s]\n",
      "100%|█████████████████████████████████████████████████████████| 46/46 [00:00<00:00, 159.58it/s]\n"
     ]
    },
    {
     "name": "stdout",
     "output_type": "stream",
     "text": [
      "Epoch: 159 | Training Loss: 0.28691984092195827  | Validation Loss: 1.1023976452972577  | Accuracy: 59.00\n"
     ]
    },
    {
     "name": "stderr",
     "output_type": "stream",
     "text": [
      "156it [00:01, 114.41it/s]\n",
      "100%|█████████████████████████████████████████████████████████| 46/46 [00:00<00:00, 151.66it/s]\n"
     ]
    },
    {
     "name": "stdout",
     "output_type": "stream",
     "text": [
      "Epoch: 160 | Training Loss: 0.28493878465050304  | Validation Loss: 1.1093249450559202  | Accuracy: 60.46\n"
     ]
    },
    {
     "name": "stderr",
     "output_type": "stream",
     "text": [
      "156it [00:01, 122.51it/s]\n",
      "100%|█████████████████████████████████████████████████████████| 46/46 [00:00<00:00, 144.99it/s]\n"
     ]
    },
    {
     "name": "stdout",
     "output_type": "stream",
     "text": [
      "Epoch: 161 | Training Loss: 0.2910317628620527  | Validation Loss: 0.932608741780986  | Accuracy: 60.75\n"
     ]
    },
    {
     "name": "stderr",
     "output_type": "stream",
     "text": [
      "156it [00:01, 116.99it/s]\n",
      "100%|█████████████████████████████████████████████████████████| 46/46 [00:00<00:00, 156.64it/s]\n"
     ]
    },
    {
     "name": "stdout",
     "output_type": "stream",
     "text": [
      "Epoch: 162 | Training Loss: 0.29322350684266824  | Validation Loss: 0.9157017806301946  | Accuracy: 60.26\n"
     ]
    },
    {
     "name": "stderr",
     "output_type": "stream",
     "text": [
      "156it [00:01, 122.68it/s]\n",
      "100%|█████████████████████████████████████████████████████████| 46/46 [00:00<00:00, 171.64it/s]\n"
     ]
    },
    {
     "name": "stdout",
     "output_type": "stream",
     "text": [
      "Epoch: 163 | Training Loss: 0.2897678383458883  | Validation Loss: 0.8917423784732819  | Accuracy: 61.58\n"
     ]
    },
    {
     "name": "stderr",
     "output_type": "stream",
     "text": [
      "156it [00:01, 116.10it/s]\n",
      "100%|█████████████████████████████████████████████████████████| 46/46 [00:00<00:00, 149.71it/s]\n"
     ]
    },
    {
     "name": "stdout",
     "output_type": "stream",
     "text": [
      "Epoch: 164 | Training Loss: 0.2881501013269791  | Validation Loss: 1.0095394720201907  | Accuracy: 61.21\n"
     ]
    },
    {
     "name": "stderr",
     "output_type": "stream",
     "text": [
      "156it [00:01, 115.90it/s]\n",
      "100%|█████████████████████████████████████████████████████████| 46/46 [00:00<00:00, 165.37it/s]\n"
     ]
    },
    {
     "name": "stdout",
     "output_type": "stream",
     "text": [
      "Epoch: 165 | Training Loss: 0.28740365230120146  | Validation Loss: 0.9551882821580638  | Accuracy: 60.41\n"
     ]
    },
    {
     "name": "stderr",
     "output_type": "stream",
     "text": [
      "156it [00:01, 122.70it/s]\n",
      "100%|█████████████████████████████████████████████████████████| 46/46 [00:00<00:00, 161.27it/s]\n"
     ]
    },
    {
     "name": "stdout",
     "output_type": "stream",
     "text": [
      "Epoch: 166 | Training Loss: 0.2875115762536342  | Validation Loss: 0.9691280541212662  | Accuracy: 61.26\n"
     ]
    },
    {
     "name": "stderr",
     "output_type": "stream",
     "text": [
      "156it [00:01, 115.41it/s]\n",
      "100%|█████████████████████████████████████████████████████████| 46/46 [00:00<00:00, 165.31it/s]\n"
     ]
    },
    {
     "name": "stdout",
     "output_type": "stream",
     "text": [
      "Epoch: 167 | Training Loss: 0.28786638828042227  | Validation Loss: 1.1867806393167246  | Accuracy: 56.71\n"
     ]
    },
    {
     "name": "stderr",
     "output_type": "stream",
     "text": [
      "156it [00:01, 118.07it/s]\n",
      "100%|█████████████████████████████████████████████████████████| 46/46 [00:00<00:00, 211.91it/s]\n"
     ]
    },
    {
     "name": "stdout",
     "output_type": "stream",
     "text": [
      "Epoch: 168 | Training Loss: 0.28761207809050876  | Validation Loss: 1.1834329496259275  | Accuracy: 57.73\n"
     ]
    },
    {
     "name": "stderr",
     "output_type": "stream",
     "text": [
      "156it [00:01, 116.04it/s]\n",
      "100%|█████████████████████████████████████████████████████████| 46/46 [00:00<00:00, 161.33it/s]\n"
     ]
    },
    {
     "name": "stdout",
     "output_type": "stream",
     "text": [
      "Epoch: 169 | Training Loss: 0.28774369039978737  | Validation Loss: 1.0161172034947767  | Accuracy: 61.11\n"
     ]
    },
    {
     "name": "stderr",
     "output_type": "stream",
     "text": [
      "156it [00:01, 115.38it/s]\n",
      "100%|█████████████████████████████████████████████████████████| 46/46 [00:00<00:00, 166.60it/s]\n"
     ]
    },
    {
     "name": "stdout",
     "output_type": "stream",
     "text": [
      "Epoch: 170 | Training Loss: 0.2885223996753876  | Validation Loss: 0.8988696919835132  | Accuracy: 62.52\n"
     ]
    },
    {
     "name": "stderr",
     "output_type": "stream",
     "text": [
      "156it [00:01, 122.24it/s]\n",
      "100%|█████████████████████████████████████████████████████████| 46/46 [00:00<00:00, 147.30it/s]\n"
     ]
    },
    {
     "name": "stdout",
     "output_type": "stream",
     "text": [
      "Epoch: 171 | Training Loss: 0.28495606942436635  | Validation Loss: 1.0657148892464845  | Accuracy: 59.44\n"
     ]
    },
    {
     "name": "stderr",
     "output_type": "stream",
     "text": [
      "156it [00:01, 114.25it/s]\n",
      "100%|█████████████████████████████████████████████████████████| 46/46 [00:00<00:00, 161.03it/s]\n"
     ]
    },
    {
     "name": "stdout",
     "output_type": "stream",
     "text": [
      "Epoch: 172 | Training Loss: 0.28758447827436984  | Validation Loss: 0.9277400659478229  | Accuracy: 60.77\n"
     ]
    },
    {
     "name": "stderr",
     "output_type": "stream",
     "text": [
      "156it [00:01, 112.31it/s]\n",
      "100%|█████████████████████████████████████████████████████████| 46/46 [00:00<00:00, 186.76it/s]\n"
     ]
    },
    {
     "name": "stdout",
     "output_type": "stream",
     "text": [
      "Epoch: 173 | Training Loss: 0.28820586023040307  | Validation Loss: 0.9862974765508071  | Accuracy: 61.91\n"
     ]
    },
    {
     "name": "stderr",
     "output_type": "stream",
     "text": [
      "156it [00:01, 116.34it/s]\n",
      "100%|█████████████████████████████████████████████████████████| 46/46 [00:00<00:00, 161.30it/s]\n"
     ]
    },
    {
     "name": "stdout",
     "output_type": "stream",
     "text": [
      "Epoch: 174 | Training Loss: 0.2915977458350169  | Validation Loss: 1.0812785444052324  | Accuracy: 58.66\n"
     ]
    },
    {
     "name": "stderr",
     "output_type": "stream",
     "text": [
      "156it [00:01, 114.42it/s]\n",
      "100%|█████████████████████████████████████████████████████████| 46/46 [00:00<00:00, 162.28it/s]\n"
     ]
    },
    {
     "name": "stdout",
     "output_type": "stream",
     "text": [
      "Epoch: 175 | Training Loss: 0.2862075083912947  | Validation Loss: 0.9921684291051782  | Accuracy: 60.12\n"
     ]
    },
    {
     "name": "stderr",
     "output_type": "stream",
     "text": [
      "156it [00:01, 122.71it/s]\n",
      "100%|█████████████████████████████████████████████████████████| 46/46 [00:00<00:00, 165.88it/s]\n"
     ]
    },
    {
     "name": "stdout",
     "output_type": "stream",
     "text": [
      "Epoch: 176 | Training Loss: 0.2874011741234706  | Validation Loss: 0.9379194236319998  | Accuracy: 61.94\n"
     ]
    },
    {
     "name": "stderr",
     "output_type": "stream",
     "text": [
      "156it [00:01, 115.08it/s]\n",
      "100%|█████████████████████████████████████████████████████████| 46/46 [00:00<00:00, 158.47it/s]\n"
     ]
    },
    {
     "name": "stdout",
     "output_type": "stream",
     "text": [
      "Epoch: 177 | Training Loss: 0.28220230379165745  | Validation Loss: 0.9234148212101149  | Accuracy: 59.85\n"
     ]
    },
    {
     "name": "stderr",
     "output_type": "stream",
     "text": [
      "156it [00:01, 115.87it/s]\n",
      "100%|█████████████████████████████████████████████████████████| 46/46 [00:00<00:00, 162.61it/s]\n"
     ]
    },
    {
     "name": "stdout",
     "output_type": "stream",
     "text": [
      "Epoch: 178 | Training Loss: 0.2888843982647627  | Validation Loss: 0.9281543039757273  | Accuracy: 59.43\n"
     ]
    },
    {
     "name": "stderr",
     "output_type": "stream",
     "text": [
      "156it [00:01, 122.23it/s]\n",
      "100%|█████████████████████████████████████████████████████████| 46/46 [00:00<00:00, 160.76it/s]\n"
     ]
    },
    {
     "name": "stdout",
     "output_type": "stream",
     "text": [
      "Epoch: 179 | Training Loss: 0.2880237412949403  | Validation Loss: 0.9458812397459279  | Accuracy: 61.75\n"
     ]
    },
    {
     "name": "stderr",
     "output_type": "stream",
     "text": [
      "156it [00:01, 114.11it/s]\n",
      "100%|█████████████████████████████████████████████████████████| 46/46 [00:00<00:00, 155.53it/s]\n"
     ]
    },
    {
     "name": "stdout",
     "output_type": "stream",
     "text": [
      "Epoch: 180 | Training Loss: 0.284672582283234  | Validation Loss: 0.8960261720678081  | Accuracy: 61.14\n"
     ]
    },
    {
     "name": "stderr",
     "output_type": "stream",
     "text": [
      "156it [00:01, 122.81it/s]\n",
      "100%|█████████████████████████████████████████████████████████| 46/46 [00:00<00:00, 159.82it/s]\n"
     ]
    },
    {
     "name": "stdout",
     "output_type": "stream",
     "text": [
      "Epoch: 181 | Training Loss: 0.29222751485231596  | Validation Loss: 0.9561631860940353  | Accuracy: 60.11\n"
     ]
    },
    {
     "name": "stderr",
     "output_type": "stream",
     "text": [
      "156it [00:01, 113.80it/s]\n",
      "100%|█████████████████████████████████████████████████████████| 46/46 [00:00<00:00, 158.03it/s]\n"
     ]
    },
    {
     "name": "stdout",
     "output_type": "stream",
     "text": [
      "Epoch: 182 | Training Loss: 0.2861650131451778  | Validation Loss: 1.096281632133152  | Accuracy: 59.04\n"
     ]
    },
    {
     "name": "stderr",
     "output_type": "stream",
     "text": [
      "156it [00:01, 115.00it/s]\n",
      "100%|█████████████████████████████████████████████████████████| 46/46 [00:00<00:00, 157.82it/s]\n"
     ]
    },
    {
     "name": "stdout",
     "output_type": "stream",
     "text": [
      "Epoch: 183 | Training Loss: 0.2842002312342326  | Validation Loss: 1.005635116411292  | Accuracy: 60.41\n"
     ]
    },
    {
     "name": "stderr",
     "output_type": "stream",
     "text": [
      "156it [00:01, 119.90it/s]\n",
      "100%|█████████████████████████████████████████████████████████| 46/46 [00:00<00:00, 157.12it/s]\n"
     ]
    },
    {
     "name": "stdout",
     "output_type": "stream",
     "text": [
      "Epoch: 184 | Training Loss: 0.28595626316009426  | Validation Loss: 1.1301020655943  | Accuracy: 58.95\n"
     ]
    },
    {
     "name": "stderr",
     "output_type": "stream",
     "text": [
      "156it [00:01, 115.16it/s]\n",
      "100%|█████████████████████████████████████████████████████████| 46/46 [00:00<00:00, 160.41it/s]\n"
     ]
    },
    {
     "name": "stdout",
     "output_type": "stream",
     "text": [
      "Epoch: 185 | Training Loss: 0.28696798065151924  | Validation Loss: 1.076169508954753  | Accuracy: 57.54\n"
     ]
    },
    {
     "name": "stderr",
     "output_type": "stream",
     "text": [
      "156it [00:01, 121.76it/s]\n",
      "100%|█████████████████████████████████████████████████████████| 46/46 [00:00<00:00, 178.15it/s]\n"
     ]
    },
    {
     "name": "stdout",
     "output_type": "stream",
     "text": [
      "Epoch: 186 | Training Loss: 0.2893643862543962  | Validation Loss: 1.002817030834115  | Accuracy: 60.68\n"
     ]
    },
    {
     "name": "stderr",
     "output_type": "stream",
     "text": [
      "156it [00:01, 116.08it/s]\n",
      "100%|█████████████████████████████████████████████████████████| 46/46 [00:00<00:00, 164.00it/s]\n"
     ]
    },
    {
     "name": "stdout",
     "output_type": "stream",
     "text": [
      "Epoch: 187 | Training Loss: 0.28495963538686436  | Validation Loss: 0.9824676267478777  | Accuracy: 60.60\n"
     ]
    },
    {
     "name": "stderr",
     "output_type": "stream",
     "text": [
      "156it [00:01, 115.72it/s]\n",
      "100%|█████████████████████████████████████████████████████████| 46/46 [00:00<00:00, 162.81it/s]\n"
     ]
    },
    {
     "name": "stdout",
     "output_type": "stream",
     "text": [
      "Epoch: 188 | Training Loss: 0.2811812922740594  | Validation Loss: 1.1621460098287333  | Accuracy: 58.12\n"
     ]
    },
    {
     "name": "stderr",
     "output_type": "stream",
     "text": [
      "156it [00:01, 123.19it/s]\n",
      "100%|█████████████████████████████████████████████████████████| 46/46 [00:00<00:00, 146.98it/s]\n"
     ]
    },
    {
     "name": "stdout",
     "output_type": "stream",
     "text": [
      "Epoch: 189 | Training Loss: 0.2856185971162258  | Validation Loss: 1.0992611620737158  | Accuracy: 58.24\n"
     ]
    },
    {
     "name": "stderr",
     "output_type": "stream",
     "text": [
      "156it [00:01, 115.34it/s]\n",
      "100%|█████████████████████████████████████████████████████████| 46/46 [00:00<00:00, 154.60it/s]\n"
     ]
    },
    {
     "name": "stdout",
     "output_type": "stream",
     "text": [
      "Epoch: 190 | Training Loss: 0.2800482486685117  | Validation Loss: 1.039788102326186  | Accuracy: 60.12\n"
     ]
    },
    {
     "name": "stderr",
     "output_type": "stream",
     "text": [
      "156it [00:01, 116.79it/s]\n",
      "100%|█████████████████████████████████████████████████████████| 46/46 [00:00<00:00, 194.15it/s]\n"
     ]
    },
    {
     "name": "stdout",
     "output_type": "stream",
     "text": [
      "Epoch: 191 | Training Loss: 0.28192510933448106  | Validation Loss: 0.9131307083627452  | Accuracy: 62.06\n"
     ]
    },
    {
     "name": "stderr",
     "output_type": "stream",
     "text": [
      "156it [00:01, 115.96it/s]\n",
      "100%|█████████████████████████████████████████████████████████| 46/46 [00:00<00:00, 165.18it/s]\n"
     ]
    },
    {
     "name": "stdout",
     "output_type": "stream",
     "text": [
      "Epoch: 192 | Training Loss: 0.2874706167823229  | Validation Loss: 1.1023806411287058  | Accuracy: 58.83\n"
     ]
    },
    {
     "name": "stderr",
     "output_type": "stream",
     "text": [
      "156it [00:01, 116.46it/s]\n",
      "100%|█████████████████████████████████████████████████████████| 46/46 [00:00<00:00, 164.87it/s]\n"
     ]
    },
    {
     "name": "stdout",
     "output_type": "stream",
     "text": [
      "Epoch: 193 | Training Loss: 0.29574338528208244  | Validation Loss: 0.9141349611075028  | Accuracy: 62.13\n"
     ]
    },
    {
     "name": "stderr",
     "output_type": "stream",
     "text": [
      "156it [00:01, 126.64it/s]\n",
      "100%|█████████████████████████████████████████████████████████| 46/46 [00:00<00:00, 163.90it/s]\n"
     ]
    },
    {
     "name": "stdout",
     "output_type": "stream",
     "text": [
      "Epoch: 194 | Training Loss: 0.28780926802219486  | Validation Loss: 1.0646474672400432  | Accuracy: 60.39\n"
     ]
    },
    {
     "name": "stderr",
     "output_type": "stream",
     "text": [
      "156it [00:01, 116.69it/s]\n",
      "100%|█████████████████████████████████████████████████████████| 46/46 [00:00<00:00, 163.58it/s]\n"
     ]
    },
    {
     "name": "stdout",
     "output_type": "stream",
     "text": [
      "Epoch: 195 | Training Loss: 0.292412096204666  | Validation Loss: 1.0237084044062572  | Accuracy: 59.85\n"
     ]
    },
    {
     "name": "stderr",
     "output_type": "stream",
     "text": [
      "156it [00:01, 114.56it/s]\n",
      "100%|█████████████████████████████████████████████████████████| 46/46 [00:00<00:00, 170.95it/s]\n"
     ]
    },
    {
     "name": "stdout",
     "output_type": "stream",
     "text": [
      "Epoch: 196 | Training Loss: 0.2911406640823071  | Validation Loss: 1.0154217015142026  | Accuracy: 59.70\n"
     ]
    },
    {
     "name": "stderr",
     "output_type": "stream",
     "text": [
      "156it [00:01, 120.41it/s]\n",
      "100%|█████████████████████████████████████████████████████████| 46/46 [00:00<00:00, 160.14it/s]\n"
     ]
    },
    {
     "name": "stdout",
     "output_type": "stream",
     "text": [
      "Epoch: 197 | Training Loss: 0.2880378087552694  | Validation Loss: 1.0689374972944674  | Accuracy: 59.38\n"
     ]
    },
    {
     "name": "stderr",
     "output_type": "stream",
     "text": [
      "156it [00:01, 114.65it/s]\n",
      "100%|█████████████████████████████████████████████████████████| 46/46 [00:00<00:00, 154.81it/s]\n"
     ]
    },
    {
     "name": "stdout",
     "output_type": "stream",
     "text": [
      "Epoch: 198 | Training Loss: 0.2836889791756104  | Validation Loss: 0.8801277189151101  | Accuracy: 62.35\n"
     ]
    },
    {
     "name": "stderr",
     "output_type": "stream",
     "text": [
      "156it [00:01, 119.40it/s]\n",
      "100%|█████████████████████████████████████████████████████████| 46/46 [00:00<00:00, 159.31it/s]\n"
     ]
    },
    {
     "name": "stdout",
     "output_type": "stream",
     "text": [
      "Epoch: 199 | Training Loss: 0.28643825497382724  | Validation Loss: 1.0194188861743263  | Accuracy: 59.73\n"
     ]
    },
    {
     "name": "stderr",
     "output_type": "stream",
     "text": [
      "156it [00:01, 114.98it/s]\n",
      "100%|█████████████████████████████████████████████████████████| 46/46 [00:00<00:00, 161.40it/s]\n"
     ]
    },
    {
     "name": "stdout",
     "output_type": "stream",
     "text": [
      "Epoch: 200 | Training Loss: 0.2894151328274837  | Validation Loss: 0.9169736154701399  | Accuracy: 63.01\n"
     ]
    },
    {
     "name": "stderr",
     "output_type": "stream",
     "text": [
      "156it [00:01, 114.91it/s]\n",
      "100%|█████████████████████████████████████████████████████████| 46/46 [00:00<00:00, 159.02it/s]\n"
     ]
    },
    {
     "name": "stdout",
     "output_type": "stream",
     "text": [
      "Epoch: 201 | Training Loss: 0.2824916066840673  | Validation Loss: 0.9851988359637882  | Accuracy: 60.12\n"
     ]
    },
    {
     "name": "stderr",
     "output_type": "stream",
     "text": [
      "156it [00:01, 120.71it/s]\n",
      "100%|█████████████████████████████████████████████████████████| 46/46 [00:00<00:00, 155.46it/s]\n"
     ]
    },
    {
     "name": "stdout",
     "output_type": "stream",
     "text": [
      "Epoch: 202 | Training Loss: 0.28308632406286705  | Validation Loss: 0.9789682393488677  | Accuracy: 62.01\n"
     ]
    },
    {
     "name": "stderr",
     "output_type": "stream",
     "text": [
      "156it [00:01, 115.05it/s]\n",
      "100%|█████████████████████████████████████████████████████████| 46/46 [00:00<00:00, 162.20it/s]\n"
     ]
    },
    {
     "name": "stdout",
     "output_type": "stream",
     "text": [
      "Epoch: 203 | Training Loss: 0.2889440259299217  | Validation Loss: 0.9077308203863061  | Accuracy: 61.09\n"
     ]
    },
    {
     "name": "stderr",
     "output_type": "stream",
     "text": [
      "156it [00:01, 122.08it/s]\n",
      "100%|█████████████████████████████████████████████████████████| 46/46 [00:00<00:00, 157.81it/s]\n"
     ]
    },
    {
     "name": "stdout",
     "output_type": "stream",
     "text": [
      "Epoch: 204 | Training Loss: 0.2872487361041399  | Validation Loss: 1.1397709328195322  | Accuracy: 59.10\n"
     ]
    },
    {
     "name": "stderr",
     "output_type": "stream",
     "text": [
      "156it [00:01, 115.45it/s]\n",
      "100%|█████████████████████████████████████████████████████████| 46/46 [00:00<00:00, 157.70it/s]\n"
     ]
    },
    {
     "name": "stdout",
     "output_type": "stream",
     "text": [
      "Epoch: 205 | Training Loss: 0.2838664890672916  | Validation Loss: 0.8429604004258695  | Accuracy: 62.53\n"
     ]
    },
    {
     "name": "stderr",
     "output_type": "stream",
     "text": [
      "156it [00:01, 115.19it/s]\n",
      "100%|█████████████████████████████████████████████████████████| 46/46 [00:00<00:00, 164.54it/s]\n"
     ]
    },
    {
     "name": "stdout",
     "output_type": "stream",
     "text": [
      "Epoch: 206 | Training Loss: 0.2842804034933066  | Validation Loss: 1.0194303963495337  | Accuracy: 59.97\n"
     ]
    },
    {
     "name": "stderr",
     "output_type": "stream",
     "text": [
      "156it [00:01, 122.61it/s]\n",
      "100%|█████████████████████████████████████████████████████████| 46/46 [00:00<00:00, 159.64it/s]\n"
     ]
    },
    {
     "name": "stdout",
     "output_type": "stream",
     "text": [
      "Epoch: 207 | Training Loss: 0.2853394083869763  | Validation Loss: 1.0848438040069912  | Accuracy: 60.02\n"
     ]
    },
    {
     "name": "stderr",
     "output_type": "stream",
     "text": [
      "156it [00:01, 115.29it/s]\n",
      "100%|█████████████████████████████████████████████████████████| 46/46 [00:00<00:00, 158.16it/s]\n"
     ]
    },
    {
     "name": "stdout",
     "output_type": "stream",
     "text": [
      "Epoch: 208 | Training Loss: 0.2889430982371171  | Validation Loss: 0.8906815570333729  | Accuracy: 62.14\n"
     ]
    },
    {
     "name": "stderr",
     "output_type": "stream",
     "text": [
      "156it [00:01, 120.04it/s]\n",
      "100%|█████████████████████████████████████████████████████████| 46/46 [00:00<00:00, 166.33it/s]\n"
     ]
    },
    {
     "name": "stdout",
     "output_type": "stream",
     "text": [
      "Epoch: 209 | Training Loss: 0.29246465422404117  | Validation Loss: 0.9950174222821775  | Accuracy: 61.28\n"
     ]
    },
    {
     "name": "stderr",
     "output_type": "stream",
     "text": [
      "156it [00:01, 114.98it/s]\n",
      "100%|█████████████████████████████████████████████████████████| 46/46 [00:00<00:00, 158.05it/s]\n"
     ]
    },
    {
     "name": "stdout",
     "output_type": "stream",
     "text": [
      "Epoch: 210 | Training Loss: 0.28583759098098827  | Validation Loss: 1.0661367268665978  | Accuracy: 60.33\n"
     ]
    },
    {
     "name": "stderr",
     "output_type": "stream",
     "text": [
      "156it [00:01, 117.74it/s]\n",
      "100%|█████████████████████████████████████████████████████████| 46/46 [00:00<00:00, 154.33it/s]\n"
     ]
    },
    {
     "name": "stdout",
     "output_type": "stream",
     "text": [
      "Epoch: 211 | Training Loss: 0.2823692224919796  | Validation Loss: 1.0028649542642676  | Accuracy: 60.58\n"
     ]
    },
    {
     "name": "stderr",
     "output_type": "stream",
     "text": [
      "156it [00:01, 124.68it/s]\n",
      "100%|█████████████████████████████████████████████████████████| 46/46 [00:00<00:00, 160.49it/s]\n"
     ]
    },
    {
     "name": "stdout",
     "output_type": "stream",
     "text": [
      "Epoch: 212 | Training Loss: 0.2818697839975357  | Validation Loss: 1.0210825865683348  | Accuracy: 60.11\n"
     ]
    },
    {
     "name": "stderr",
     "output_type": "stream",
     "text": [
      "156it [00:01, 115.63it/s]\n",
      "100%|█████████████████████████████████████████████████████████| 46/46 [00:00<00:00, 160.58it/s]\n"
     ]
    },
    {
     "name": "stdout",
     "output_type": "stream",
     "text": [
      "Epoch: 213 | Training Loss: 0.28343530371785164  | Validation Loss: 1.173351632512134  | Accuracy: 58.27\n"
     ]
    },
    {
     "name": "stderr",
     "output_type": "stream",
     "text": [
      "156it [00:01, 114.44it/s]\n",
      "100%|█████████████████████████████████████████████████████████| 46/46 [00:00<00:00, 195.97it/s]\n"
     ]
    },
    {
     "name": "stdout",
     "output_type": "stream",
     "text": [
      "Epoch: 214 | Training Loss: 0.28228213389714557  | Validation Loss: 1.20530689669692  | Accuracy: 58.03\n"
     ]
    },
    {
     "name": "stderr",
     "output_type": "stream",
     "text": [
      "156it [00:01, 118.97it/s]\n",
      "100%|█████████████████████████████████████████████████████████| 46/46 [00:00<00:00, 158.96it/s]\n"
     ]
    },
    {
     "name": "stdout",
     "output_type": "stream",
     "text": [
      "Epoch: 215 | Training Loss: 0.28095574122972977  | Validation Loss: 1.0117341746454653  | Accuracy: 60.12\n"
     ]
    },
    {
     "name": "stderr",
     "output_type": "stream",
     "text": [
      "156it [00:01, 117.13it/s]\n",
      "100%|█████████████████████████████████████████████████████████| 46/46 [00:00<00:00, 161.72it/s]\n"
     ]
    },
    {
     "name": "stdout",
     "output_type": "stream",
     "text": [
      "Epoch: 216 | Training Loss: 0.28197804131569004  | Validation Loss: 1.017681069996046  | Accuracy: 59.90\n"
     ]
    },
    {
     "name": "stderr",
     "output_type": "stream",
     "text": [
      "156it [00:01, 123.71it/s]\n",
      "100%|█████████████████████████████████████████████████████████| 46/46 [00:00<00:00, 161.58it/s]\n"
     ]
    },
    {
     "name": "stdout",
     "output_type": "stream",
     "text": [
      "Epoch: 217 | Training Loss: 0.2852387015636151  | Validation Loss: 1.2614610013754473  | Accuracy: 56.13\n"
     ]
    },
    {
     "name": "stderr",
     "output_type": "stream",
     "text": [
      "156it [00:01, 118.51it/s]\n",
      "100%|█████████████████████████████████████████████████████████| 46/46 [00:00<00:00, 162.53it/s]\n"
     ]
    },
    {
     "name": "stdout",
     "output_type": "stream",
     "text": [
      "Epoch: 218 | Training Loss: 0.2843115996473875  | Validation Loss: 0.9448832584464032  | Accuracy: 61.07\n"
     ]
    },
    {
     "name": "stderr",
     "output_type": "stream",
     "text": [
      "156it [00:01, 115.22it/s]\n",
      "100%|█████████████████████████████████████████████████████████| 46/46 [00:00<00:00, 165.73it/s]\n"
     ]
    },
    {
     "name": "stdout",
     "output_type": "stream",
     "text": [
      "Epoch: 219 | Training Loss: 0.2821438343097002  | Validation Loss: 1.0218356847763062  | Accuracy: 59.53\n"
     ]
    },
    {
     "name": "stderr",
     "output_type": "stream",
     "text": [
      "156it [00:01, 123.18it/s]\n",
      "100%|█████████████████████████████████████████████████████████| 46/46 [00:00<00:00, 158.87it/s]\n"
     ]
    },
    {
     "name": "stdout",
     "output_type": "stream",
     "text": [
      "Epoch: 220 | Training Loss: 0.28885918187025267  | Validation Loss: 0.9182163839754851  | Accuracy: 61.60\n"
     ]
    },
    {
     "name": "stderr",
     "output_type": "stream",
     "text": [
      "156it [00:01, 117.46it/s]\n",
      "100%|█████████████████████████████████████████████████████████| 46/46 [00:00<00:00, 162.30it/s]\n"
     ]
    },
    {
     "name": "stdout",
     "output_type": "stream",
     "text": [
      "Epoch: 221 | Training Loss: 0.28535324363754344  | Validation Loss: 1.0012064822342084  | Accuracy: 60.70\n"
     ]
    },
    {
     "name": "stderr",
     "output_type": "stream",
     "text": [
      "156it [00:01, 123.74it/s]\n",
      "100%|█████████████████████████████████████████████████████████| 46/46 [00:00<00:00, 171.48it/s]\n"
     ]
    },
    {
     "name": "stdout",
     "output_type": "stream",
     "text": [
      "Epoch: 222 | Training Loss: 0.2831975064980678  | Validation Loss: 1.0458449293737826  | Accuracy: 59.53\n"
     ]
    },
    {
     "name": "stderr",
     "output_type": "stream",
     "text": [
      "156it [00:01, 115.79it/s]\n",
      "100%|█████████████████████████████████████████████████████████| 46/46 [00:00<00:00, 164.59it/s]\n"
     ]
    },
    {
     "name": "stdout",
     "output_type": "stream",
     "text": [
      "Epoch: 223 | Training Loss: 0.2846992531648049  | Validation Loss: 0.8890377153520999  | Accuracy: 61.94\n"
     ]
    },
    {
     "name": "stderr",
     "output_type": "stream",
     "text": [
      "156it [00:01, 114.99it/s]\n",
      "100%|█████████████████████████████████████████████████████████| 46/46 [00:00<00:00, 149.26it/s]\n"
     ]
    },
    {
     "name": "stdout",
     "output_type": "stream",
     "text": [
      "Epoch: 224 | Training Loss: 0.2888019254001287  | Validation Loss: 1.0197923999765646  | Accuracy: 61.55\n"
     ]
    },
    {
     "name": "stderr",
     "output_type": "stream",
     "text": [
      "156it [00:01, 121.80it/s]\n",
      "100%|█████████████████████████████████████████████████████████| 46/46 [00:00<00:00, 146.30it/s]\n"
     ]
    },
    {
     "name": "stdout",
     "output_type": "stream",
     "text": [
      "Epoch: 225 | Training Loss: 0.28986954345152927  | Validation Loss: 1.0115324815978175  | Accuracy: 59.75\n"
     ]
    },
    {
     "name": "stderr",
     "output_type": "stream",
     "text": [
      "156it [00:01, 111.58it/s]\n",
      "100%|█████████████████████████████████████████████████████████| 46/46 [00:00<00:00, 151.93it/s]\n"
     ]
    },
    {
     "name": "stdout",
     "output_type": "stream",
     "text": [
      "Epoch: 226 | Training Loss: 0.29194145296246576  | Validation Loss: 0.9433343358661818  | Accuracy: 61.80\n"
     ]
    },
    {
     "name": "stderr",
     "output_type": "stream",
     "text": [
      "156it [00:01, 120.60it/s]\n",
      "100%|█████████████████████████████████████████████████████████| 46/46 [00:00<00:00, 179.42it/s]\n"
     ]
    },
    {
     "name": "stdout",
     "output_type": "stream",
     "text": [
      "Epoch: 227 | Training Loss: 0.29103427342115307  | Validation Loss: 0.9637396685455156  | Accuracy: 62.06\n"
     ]
    },
    {
     "name": "stderr",
     "output_type": "stream",
     "text": [
      "156it [00:01, 115.91it/s]\n",
      "100%|█████████████████████████████████████████████████████████| 46/46 [00:00<00:00, 163.32it/s]\n"
     ]
    },
    {
     "name": "stdout",
     "output_type": "stream",
     "text": [
      "Epoch: 228 | Training Loss: 0.2880015283440932  | Validation Loss: 0.9937661393829014  | Accuracy: 59.87\n"
     ]
    },
    {
     "name": "stderr",
     "output_type": "stream",
     "text": [
      "156it [00:01, 115.42it/s]\n",
      "100%|█████████████████████████████████████████████████████████| 46/46 [00:00<00:00, 160.56it/s]\n"
     ]
    },
    {
     "name": "stdout",
     "output_type": "stream",
     "text": [
      "Epoch: 229 | Training Loss: 0.2920508293960339  | Validation Loss: 1.096227756013041  | Accuracy: 58.73\n"
     ]
    },
    {
     "name": "stderr",
     "output_type": "stream",
     "text": [
      "156it [00:01, 124.00it/s]\n",
      "100%|█████████████████████████████████████████████████████████| 46/46 [00:00<00:00, 159.24it/s]\n"
     ]
    },
    {
     "name": "stdout",
     "output_type": "stream",
     "text": [
      "Epoch: 230 | Training Loss: 0.2925758665570846  | Validation Loss: 1.1590937077999115  | Accuracy: 57.05\n"
     ]
    },
    {
     "name": "stderr",
     "output_type": "stream",
     "text": [
      "156it [00:01, 114.45it/s]\n",
      "100%|█████████████████████████████████████████████████████████| 46/46 [00:00<00:00, 159.89it/s]\n"
     ]
    },
    {
     "name": "stdout",
     "output_type": "stream",
     "text": [
      "Epoch: 231 | Training Loss: 0.28981838346673894  | Validation Loss: 1.1229257700235948  | Accuracy: 58.12\n"
     ]
    },
    {
     "name": "stderr",
     "output_type": "stream",
     "text": [
      "156it [00:01, 115.53it/s]\n",
      "100%|█████████████████████████████████████████████████████████| 46/46 [00:00<00:00, 189.16it/s]\n"
     ]
    },
    {
     "name": "stdout",
     "output_type": "stream",
     "text": [
      "Epoch: 232 | Training Loss: 0.29083022045401424  | Validation Loss: 0.9468649224094723  | Accuracy: 61.43\n"
     ]
    },
    {
     "name": "stderr",
     "output_type": "stream",
     "text": [
      "156it [00:01, 116.84it/s]\n",
      "100%|█████████████████████████████████████████████████████████| 46/46 [00:00<00:00, 158.50it/s]\n"
     ]
    },
    {
     "name": "stdout",
     "output_type": "stream",
     "text": [
      "Epoch: 233 | Training Loss: 0.2852210690959906  | Validation Loss: 1.0301926110101782  | Accuracy: 61.50\n"
     ]
    },
    {
     "name": "stderr",
     "output_type": "stream",
     "text": [
      "156it [00:01, 116.60it/s]\n",
      "100%|█████████████████████████████████████████████████████████| 46/46 [00:00<00:00, 162.13it/s]\n"
     ]
    },
    {
     "name": "stdout",
     "output_type": "stream",
     "text": [
      "Epoch: 234 | Training Loss: 0.2835033159607496  | Validation Loss: 0.940960389116536  | Accuracy: 62.26\n"
     ]
    },
    {
     "name": "stderr",
     "output_type": "stream",
     "text": [
      "156it [00:01, 122.20it/s]\n",
      "100%|█████████████████████████████████████████████████████████| 46/46 [00:00<00:00, 162.71it/s]\n"
     ]
    },
    {
     "name": "stdout",
     "output_type": "stream",
     "text": [
      "Epoch: 235 | Training Loss: 0.28882005925361925  | Validation Loss: 0.9895550401314445  | Accuracy: 61.28\n"
     ]
    },
    {
     "name": "stderr",
     "output_type": "stream",
     "text": [
      "156it [00:01, 115.24it/s]\n",
      "100%|█████████████████████████████████████████████████████████| 46/46 [00:00<00:00, 158.83it/s]\n"
     ]
    },
    {
     "name": "stdout",
     "output_type": "stream",
     "text": [
      "Epoch: 236 | Training Loss: 0.28766747755117905  | Validation Loss: 0.979527464379435  | Accuracy: 59.41\n"
     ]
    },
    {
     "name": "stderr",
     "output_type": "stream",
     "text": [
      "156it [00:01, 115.43it/s]\n",
      "100%|█████████████████████████████████████████████████████████| 46/46 [00:00<00:00, 165.27it/s]\n"
     ]
    },
    {
     "name": "stdout",
     "output_type": "stream",
     "text": [
      "Epoch: 237 | Training Loss: 0.28840137406801564  | Validation Loss: 0.9442226627598638  | Accuracy: 60.92\n"
     ]
    },
    {
     "name": "stderr",
     "output_type": "stream",
     "text": [
      "156it [00:01, 121.03it/s]\n",
      "100%|█████████████████████████████████████████████████████████| 46/46 [00:00<00:00, 143.65it/s]\n"
     ]
    },
    {
     "name": "stdout",
     "output_type": "stream",
     "text": [
      "Epoch: 238 | Training Loss: 0.28797260146492565  | Validation Loss: 1.0242033263911372  | Accuracy: 59.60\n"
     ]
    },
    {
     "name": "stderr",
     "output_type": "stream",
     "text": [
      "156it [00:01, 112.85it/s]\n",
      "100%|█████████████████████████████████████████████████████████| 46/46 [00:00<00:00, 162.71it/s]\n"
     ]
    },
    {
     "name": "stdout",
     "output_type": "stream",
     "text": [
      "Epoch: 239 | Training Loss: 0.2893303581155263  | Validation Loss: 1.0108108287272246  | Accuracy: 58.41\n"
     ]
    },
    {
     "name": "stderr",
     "output_type": "stream",
     "text": [
      "156it [00:01, 122.14it/s]\n",
      "100%|█████████████████████████████████████████████████████████| 46/46 [00:00<00:00, 166.86it/s]\n"
     ]
    },
    {
     "name": "stdout",
     "output_type": "stream",
     "text": [
      "Epoch: 240 | Training Loss: 0.2826000032707667  | Validation Loss: 1.1796685470187145  | Accuracy: 58.56\n"
     ]
    },
    {
     "name": "stderr",
     "output_type": "stream",
     "text": [
      "156it [00:01, 115.81it/s]\n",
      "100%|█████████████████████████████████████████████████████████| 46/46 [00:00<00:00, 158.62it/s]\n"
     ]
    },
    {
     "name": "stdout",
     "output_type": "stream",
     "text": [
      "Epoch: 241 | Training Loss: 0.29244074053489244  | Validation Loss: 1.0269462647645369  | Accuracy: 60.73\n"
     ]
    },
    {
     "name": "stderr",
     "output_type": "stream",
     "text": [
      "156it [00:01, 114.86it/s]\n",
      "100%|█████████████████████████████████████████████████████████| 46/46 [00:00<00:00, 154.55it/s]\n"
     ]
    },
    {
     "name": "stdout",
     "output_type": "stream",
     "text": [
      "Epoch: 242 | Training Loss: 0.288251214971145  | Validation Loss: 1.115473906631055  | Accuracy: 58.83\n"
     ]
    },
    {
     "name": "stderr",
     "output_type": "stream",
     "text": [
      "156it [00:01, 123.38it/s]\n",
      "100%|█████████████████████████████████████████████████████████| 46/46 [00:00<00:00, 159.38it/s]\n"
     ]
    },
    {
     "name": "stdout",
     "output_type": "stream",
     "text": [
      "Epoch: 243 | Training Loss: 0.28893406307085967  | Validation Loss: 1.2086482073949731  | Accuracy: 57.40\n"
     ]
    },
    {
     "name": "stderr",
     "output_type": "stream",
     "text": [
      "156it [00:01, 116.13it/s]\n",
      "100%|█████████████████████████████████████████████████████████| 46/46 [00:00<00:00, 159.80it/s]\n"
     ]
    },
    {
     "name": "stdout",
     "output_type": "stream",
     "text": [
      "Epoch: 244 | Training Loss: 0.2875944744700041  | Validation Loss: 0.9522949431253516  | Accuracy: 61.28\n"
     ]
    },
    {
     "name": "stderr",
     "output_type": "stream",
     "text": [
      "156it [00:01, 121.25it/s]\n",
      "100%|█████████████████████████████████████████████████████████| 46/46 [00:00<00:00, 170.98it/s]\n"
     ]
    },
    {
     "name": "stdout",
     "output_type": "stream",
     "text": [
      "Epoch: 245 | Training Loss: 0.2896240807305544  | Validation Loss: 0.8385490269764609  | Accuracy: 63.99\n"
     ]
    },
    {
     "name": "stderr",
     "output_type": "stream",
     "text": [
      "156it [00:01, 116.67it/s]\n",
      "100%|█████████████████████████████████████████████████████████| 46/46 [00:00<00:00, 161.38it/s]\n"
     ]
    },
    {
     "name": "stdout",
     "output_type": "stream",
     "text": [
      "Epoch: 246 | Training Loss: 0.28669729847938585  | Validation Loss: 1.0924507159253825  | Accuracy: 59.41\n"
     ]
    },
    {
     "name": "stderr",
     "output_type": "stream",
     "text": [
      "156it [00:01, 116.91it/s]\n",
      "100%|█████████████████████████████████████████████████████████| 46/46 [00:00<00:00, 159.05it/s]\n"
     ]
    },
    {
     "name": "stdout",
     "output_type": "stream",
     "text": [
      "Epoch: 247 | Training Loss: 0.2869422666919537  | Validation Loss: 0.887975082449291  | Accuracy: 62.79\n"
     ]
    },
    {
     "name": "stderr",
     "output_type": "stream",
     "text": [
      "156it [00:01, 124.86it/s]\n",
      "100%|█████████████████████████████████████████████████████████| 46/46 [00:00<00:00, 161.13it/s]\n"
     ]
    },
    {
     "name": "stdout",
     "output_type": "stream",
     "text": [
      "Epoch: 248 | Training Loss: 0.2858951003887715  | Validation Loss: 1.0342375519482985  | Accuracy: 58.87\n"
     ]
    },
    {
     "name": "stderr",
     "output_type": "stream",
     "text": [
      "156it [00:01, 117.17it/s]\n",
      "100%|█████████████████████████████████████████████████████████| 46/46 [00:00<00:00, 162.31it/s]\n"
     ]
    },
    {
     "name": "stdout",
     "output_type": "stream",
     "text": [
      "Epoch: 249 | Training Loss: 0.2786230285389301  | Validation Loss: 1.1169057138588117  | Accuracy: 59.39\n"
     ]
    },
    {
     "name": "stderr",
     "output_type": "stream",
     "text": [
      "156it [00:01, 117.88it/s]\n",
      "100%|█████████████████████████████████████████████████████████| 46/46 [00:00<00:00, 207.97it/s]\n"
     ]
    },
    {
     "name": "stdout",
     "output_type": "stream",
     "text": [
      "Epoch: 250 | Training Loss: 0.2828394506031122  | Validation Loss: 1.2117920297643412  | Accuracy: 57.91\n"
     ]
    },
    {
     "name": "stderr",
     "output_type": "stream",
     "text": [
      "156it [00:01, 118.44it/s]\n",
      "100%|█████████████████████████████████████████████████████████| 46/46 [00:00<00:00, 163.06it/s]\n"
     ]
    },
    {
     "name": "stdout",
     "output_type": "stream",
     "text": [
      "Epoch: 251 | Training Loss: 0.2882767277650344  | Validation Loss: 1.0245460764221523  | Accuracy: 60.00\n"
     ]
    },
    {
     "name": "stderr",
     "output_type": "stream",
     "text": [
      "156it [00:01, 112.70it/s]\n",
      "100%|█████████████████████████████████████████████████████████| 46/46 [00:00<00:00, 159.14it/s]\n"
     ]
    },
    {
     "name": "stdout",
     "output_type": "stream",
     "text": [
      "Epoch: 252 | Training Loss: 0.2871604770995103  | Validation Loss: 1.1343866625557775  | Accuracy: 58.64\n"
     ]
    },
    {
     "name": "stderr",
     "output_type": "stream",
     "text": [
      "156it [00:01, 121.74it/s]\n",
      "100%|█████████████████████████████████████████████████████████| 46/46 [00:00<00:00, 159.40it/s]\n"
     ]
    },
    {
     "name": "stdout",
     "output_type": "stream",
     "text": [
      "Epoch: 253 | Training Loss: 0.2849828393604511  | Validation Loss: 0.9803301277367965  | Accuracy: 60.89\n"
     ]
    },
    {
     "name": "stderr",
     "output_type": "stream",
     "text": [
      "156it [00:01, 116.43it/s]\n",
      "100%|█████████████████████████████████████████████████████████| 46/46 [00:00<00:00, 158.77it/s]\n"
     ]
    },
    {
     "name": "stdout",
     "output_type": "stream",
     "text": [
      "Epoch: 254 | Training Loss: 0.2872424443753866  | Validation Loss: 0.9115380761416062  | Accuracy: 62.57\n"
     ]
    },
    {
     "name": "stderr",
     "output_type": "stream",
     "text": [
      "156it [00:01, 115.35it/s]\n",
      "100%|█████████████████████████████████████████████████████████| 46/46 [00:00<00:00, 177.22it/s]\n"
     ]
    },
    {
     "name": "stdout",
     "output_type": "stream",
     "text": [
      "Epoch: 255 | Training Loss: 0.28432612302593696  | Validation Loss: 0.9928304073603257  | Accuracy: 60.60\n"
     ]
    },
    {
     "name": "stderr",
     "output_type": "stream",
     "text": [
      "156it [00:01, 115.61it/s]\n",
      "100%|█████████████████████████████████████████████████████████| 46/46 [00:00<00:00, 159.03it/s]\n"
     ]
    },
    {
     "name": "stdout",
     "output_type": "stream",
     "text": [
      "Epoch: 256 | Training Loss: 0.28329835364069694  | Validation Loss: 1.0799485354319862  | Accuracy: 60.92\n"
     ]
    },
    {
     "name": "stderr",
     "output_type": "stream",
     "text": [
      "156it [00:01, 114.15it/s]\n",
      "100%|█████████████████████████████████████████████████████████| 46/46 [00:00<00:00, 162.57it/s]\n"
     ]
    },
    {
     "name": "stdout",
     "output_type": "stream",
     "text": [
      "Epoch: 257 | Training Loss: 0.28390652800981814  | Validation Loss: 1.0685010228468024  | Accuracy: 59.17\n"
     ]
    },
    {
     "name": "stderr",
     "output_type": "stream",
     "text": [
      "156it [00:01, 124.19it/s]\n",
      "100%|█████████████████████████████████████████████████████████| 46/46 [00:00<00:00, 162.36it/s]\n"
     ]
    },
    {
     "name": "stdout",
     "output_type": "stream",
     "text": [
      "Epoch: 258 | Training Loss: 0.2890363593514149  | Validation Loss: 0.9462721684704656  | Accuracy: 62.26\n"
     ]
    },
    {
     "name": "stderr",
     "output_type": "stream",
     "text": [
      "156it [00:01, 116.59it/s]\n",
      "100%|█████████████████████████████████████████████████████████| 46/46 [00:00<00:00, 160.35it/s]\n"
     ]
    },
    {
     "name": "stdout",
     "output_type": "stream",
     "text": [
      "Epoch: 259 | Training Loss: 0.28455843604527986  | Validation Loss: 1.0427790595137554  | Accuracy: 59.92\n"
     ]
    },
    {
     "name": "stderr",
     "output_type": "stream",
     "text": [
      "156it [00:01, 116.32it/s]\n",
      "100%|█████████████████████████████████████████████████████████| 46/46 [00:00<00:00, 161.94it/s]\n"
     ]
    },
    {
     "name": "stdout",
     "output_type": "stream",
     "text": [
      "Epoch: 260 | Training Loss: 0.2906759280997973  | Validation Loss: 1.1110848849234374  | Accuracy: 58.88\n"
     ]
    },
    {
     "name": "stderr",
     "output_type": "stream",
     "text": [
      "156it [00:01, 124.40it/s]\n",
      "100%|█████████████████████████████████████████████████████████| 46/46 [00:00<00:00, 160.90it/s]\n"
     ]
    },
    {
     "name": "stdout",
     "output_type": "stream",
     "text": [
      "Epoch: 261 | Training Loss: 0.287129437407622  | Validation Loss: 1.0864022711048955  | Accuracy: 60.67\n"
     ]
    },
    {
     "name": "stderr",
     "output_type": "stream",
     "text": [
      "156it [00:01, 116.10it/s]\n",
      "100%|█████████████████████████████████████████████████████████| 46/46 [00:00<00:00, 158.82it/s]\n"
     ]
    },
    {
     "name": "stdout",
     "output_type": "stream",
     "text": [
      "Epoch: 262 | Training Loss: 0.2840934427311787  | Validation Loss: 0.9627268962238146  | Accuracy: 60.09\n"
     ]
    },
    {
     "name": "stderr",
     "output_type": "stream",
     "text": [
      "156it [00:01, 123.53it/s]\n",
      "100%|█████████████████████████████████████████████████████████| 46/46 [00:00<00:00, 169.46it/s]\n"
     ]
    },
    {
     "name": "stdout",
     "output_type": "stream",
     "text": [
      "Epoch: 263 | Training Loss: 0.28599784571008807  | Validation Loss: 0.9551647370276244  | Accuracy: 60.16\n"
     ]
    },
    {
     "name": "stderr",
     "output_type": "stream",
     "text": [
      "156it [00:01, 116.10it/s]\n",
      "100%|█████████████████████████████████████████████████████████| 46/46 [00:00<00:00, 169.58it/s]\n"
     ]
    },
    {
     "name": "stdout",
     "output_type": "stream",
     "text": [
      "Epoch: 264 | Training Loss: 0.286878002091096  | Validation Loss: 1.054649557756341  | Accuracy: 59.09\n"
     ]
    },
    {
     "name": "stderr",
     "output_type": "stream",
     "text": [
      "156it [00:01, 114.79it/s]\n",
      "100%|█████████████████████████████████████████████████████████| 46/46 [00:00<00:00, 167.88it/s]\n"
     ]
    },
    {
     "name": "stdout",
     "output_type": "stream",
     "text": [
      "Epoch: 265 | Training Loss: 0.2862338826824457  | Validation Loss: 0.9930413637472235  | Accuracy: 60.70\n"
     ]
    },
    {
     "name": "stderr",
     "output_type": "stream",
     "text": [
      "156it [00:01, 123.12it/s]\n",
      "100%|█████████████████████████████████████████████████████████| 46/46 [00:00<00:00, 158.57it/s]\n"
     ]
    },
    {
     "name": "stdout",
     "output_type": "stream",
     "text": [
      "Epoch: 266 | Training Loss: 0.2821880829257843  | Validation Loss: 0.9580132753952689  | Accuracy: 60.44\n"
     ]
    },
    {
     "name": "stderr",
     "output_type": "stream",
     "text": [
      "156it [00:01, 115.74it/s]\n",
      "100%|█████████████████████████████████████████████████████████| 46/46 [00:00<00:00, 165.12it/s]\n"
     ]
    },
    {
     "name": "stdout",
     "output_type": "stream",
     "text": [
      "Epoch: 267 | Training Loss: 0.28835386687364334  | Validation Loss: 1.0922773687735847  | Accuracy: 58.58\n"
     ]
    },
    {
     "name": "stderr",
     "output_type": "stream",
     "text": [
      "156it [00:01, 115.85it/s]\n",
      "100%|█████████████████████████████████████████████████████████| 46/46 [00:00<00:00, 214.31it/s]\n"
     ]
    },
    {
     "name": "stdout",
     "output_type": "stream",
     "text": [
      "Epoch: 268 | Training Loss: 0.2900535776638068  | Validation Loss: 1.106770370317542  | Accuracy: 58.17\n"
     ]
    },
    {
     "name": "stderr",
     "output_type": "stream",
     "text": [
      "156it [00:01, 115.20it/s]\n",
      "100%|█████████████████████████████████████████████████████████| 46/46 [00:00<00:00, 163.22it/s]\n"
     ]
    },
    {
     "name": "stdout",
     "output_type": "stream",
     "text": [
      "Epoch: 269 | Training Loss: 0.28436809749557423  | Validation Loss: 1.0561632902725884  | Accuracy: 59.65\n"
     ]
    },
    {
     "name": "stderr",
     "output_type": "stream",
     "text": [
      "156it [00:01, 114.75it/s]\n",
      "100%|█████████████████████████████████████████████████████████| 46/46 [00:00<00:00, 164.08it/s]\n"
     ]
    },
    {
     "name": "stdout",
     "output_type": "stream",
     "text": [
      "Epoch: 270 | Training Loss: 0.29092668044643527  | Validation Loss: 1.014723969542462  | Accuracy: 60.50\n"
     ]
    },
    {
     "name": "stderr",
     "output_type": "stream",
     "text": [
      "156it [00:01, 120.27it/s]\n",
      "100%|█████████████████████████████████████████████████████████| 46/46 [00:00<00:00, 157.95it/s]\n"
     ]
    },
    {
     "name": "stdout",
     "output_type": "stream",
     "text": [
      "Epoch: 271 | Training Loss: 0.28926874926457036  | Validation Loss: 0.9890818246032881  | Accuracy: 61.26\n"
     ]
    },
    {
     "name": "stderr",
     "output_type": "stream",
     "text": [
      "156it [00:01, 114.60it/s]\n",
      "100%|█████████████████████████████████████████████████████████| 46/46 [00:00<00:00, 164.76it/s]\n"
     ]
    },
    {
     "name": "stdout",
     "output_type": "stream",
     "text": [
      "Epoch: 272 | Training Loss: 0.2834383233044392  | Validation Loss: 1.0789259102033533  | Accuracy: 59.49\n"
     ]
    },
    {
     "name": "stderr",
     "output_type": "stream",
     "text": [
      "156it [00:01, 115.20it/s]\n",
      "100%|█████████████████████████████████████████████████████████| 46/46 [00:00<00:00, 175.26it/s]\n"
     ]
    },
    {
     "name": "stdout",
     "output_type": "stream",
     "text": [
      "Epoch: 273 | Training Loss: 0.2793880460353998  | Validation Loss: 1.0543720981349116  | Accuracy: 59.80\n"
     ]
    },
    {
     "name": "stderr",
     "output_type": "stream",
     "text": [
      "156it [00:01, 118.97it/s]\n",
      "100%|█████████████████████████████████████████████████████████| 46/46 [00:00<00:00, 160.80it/s]\n"
     ]
    },
    {
     "name": "stdout",
     "output_type": "stream",
     "text": [
      "Epoch: 274 | Training Loss: 0.27847539241879415  | Validation Loss: 0.9765027813289476  | Accuracy: 60.95\n"
     ]
    },
    {
     "name": "stderr",
     "output_type": "stream",
     "text": [
      "156it [00:01, 116.83it/s]\n",
      "100%|█████████████████████████████████████████████████████████| 46/46 [00:00<00:00, 163.01it/s]\n"
     ]
    },
    {
     "name": "stdout",
     "output_type": "stream",
     "text": [
      "Epoch: 275 | Training Loss: 0.2843596852169587  | Validation Loss: 1.0526235868101534  | Accuracy: 59.80\n"
     ]
    },
    {
     "name": "stderr",
     "output_type": "stream",
     "text": [
      "156it [00:01, 123.67it/s]\n",
      "100%|█████████████████████████████████████████████████████████| 46/46 [00:00<00:00, 164.04it/s]\n"
     ]
    },
    {
     "name": "stdout",
     "output_type": "stream",
     "text": [
      "Epoch: 276 | Training Loss: 0.2851838802871032  | Validation Loss: 0.9845408356708029  | Accuracy: 59.53\n"
     ]
    },
    {
     "name": "stderr",
     "output_type": "stream",
     "text": [
      "156it [00:01, 116.74it/s]\n",
      "100%|█████████████████████████████████████████████████████████| 46/46 [00:00<00:00, 158.96it/s]\n"
     ]
    },
    {
     "name": "stdout",
     "output_type": "stream",
     "text": [
      "Epoch: 277 | Training Loss: 0.28300914607751065  | Validation Loss: 1.0078847239846769  | Accuracy: 59.61\n"
     ]
    },
    {
     "name": "stderr",
     "output_type": "stream",
     "text": [
      "156it [00:01, 116.42it/s]\n",
      "100%|█████████████████████████████████████████████████████████| 46/46 [00:00<00:00, 161.86it/s]\n"
     ]
    },
    {
     "name": "stdout",
     "output_type": "stream",
     "text": [
      "Epoch: 278 | Training Loss: 0.28557955072476315  | Validation Loss: 1.1245988698109337  | Accuracy: 59.12\n"
     ]
    },
    {
     "name": "stderr",
     "output_type": "stream",
     "text": [
      "156it [00:01, 121.63it/s]\n",
      "100%|█████████████████████████████████████████████████████████| 46/46 [00:00<00:00, 144.73it/s]\n"
     ]
    },
    {
     "name": "stdout",
     "output_type": "stream",
     "text": [
      "Epoch: 279 | Training Loss: 0.28815250566754586  | Validation Loss: 1.0447191453498343  | Accuracy: 59.68\n"
     ]
    },
    {
     "name": "stderr",
     "output_type": "stream",
     "text": [
      "156it [00:01, 114.31it/s]\n",
      "100%|█████████████████████████████████████████████████████████| 46/46 [00:00<00:00, 156.06it/s]\n"
     ]
    },
    {
     "name": "stdout",
     "output_type": "stream",
     "text": [
      "Epoch: 280 | Training Loss: 0.28567536862996906  | Validation Loss: 0.9630369621774425  | Accuracy: 60.09\n"
     ]
    },
    {
     "name": "stderr",
     "output_type": "stream",
     "text": [
      "156it [00:01, 123.18it/s]\n",
      "100%|█████████████████████████████████████████████████████████| 46/46 [00:00<00:00, 146.07it/s]\n"
     ]
    },
    {
     "name": "stdout",
     "output_type": "stream",
     "text": [
      "Epoch: 281 | Training Loss: 0.2823063991008661  | Validation Loss: 0.9557631754356882  | Accuracy: 61.43\n"
     ]
    },
    {
     "name": "stderr",
     "output_type": "stream",
     "text": [
      "156it [00:01, 115.89it/s]\n",
      "100%|█████████████████████████████████████████████████████████| 46/46 [00:00<00:00, 165.41it/s]\n"
     ]
    },
    {
     "name": "stdout",
     "output_type": "stream",
     "text": [
      "Epoch: 282 | Training Loss: 0.27800293763478595  | Validation Loss: 1.0259834851907648  | Accuracy: 60.70\n"
     ]
    },
    {
     "name": "stderr",
     "output_type": "stream",
     "text": [
      "156it [00:01, 117.79it/s]\n",
      "100%|█████████████████████████████████████████████████████████| 46/46 [00:00<00:00, 161.30it/s]\n"
     ]
    },
    {
     "name": "stdout",
     "output_type": "stream",
     "text": [
      "Epoch: 283 | Training Loss: 0.28166994404716367  | Validation Loss: 0.9857931383278059  | Accuracy: 60.87\n"
     ]
    },
    {
     "name": "stderr",
     "output_type": "stream",
     "text": [
      "156it [00:01, 126.84it/s]\n",
      "100%|█████████████████████████████████████████████████████████| 46/46 [00:00<00:00, 155.35it/s]\n"
     ]
    },
    {
     "name": "stdout",
     "output_type": "stream",
     "text": [
      "Epoch: 284 | Training Loss: 0.289239253084629  | Validation Loss: 0.9049475231896276  | Accuracy: 61.80\n"
     ]
    },
    {
     "name": "stderr",
     "output_type": "stream",
     "text": [
      "156it [00:01, 116.31it/s]\n",
      "100%|█████████████████████████████████████████████████████████| 46/46 [00:00<00:00, 164.96it/s]\n"
     ]
    },
    {
     "name": "stdout",
     "output_type": "stream",
     "text": [
      "Epoch: 285 | Training Loss: 0.2844310350334033  | Validation Loss: 1.0061426007229348  | Accuracy: 60.80\n"
     ]
    },
    {
     "name": "stderr",
     "output_type": "stream",
     "text": [
      "156it [00:01, 118.84it/s]\n",
      "100%|█████████████████████████████████████████████████████████| 46/46 [00:00<00:00, 215.33it/s]\n"
     ]
    },
    {
     "name": "stdout",
     "output_type": "stream",
     "text": [
      "Epoch: 286 | Training Loss: 0.27983385228957885  | Validation Loss: 1.0263625733230426  | Accuracy: 60.89\n"
     ]
    },
    {
     "name": "stderr",
     "output_type": "stream",
     "text": [
      "156it [00:01, 116.07it/s]\n",
      "100%|█████████████████████████████████████████████████████████| 46/46 [00:00<00:00, 149.12it/s]\n"
     ]
    },
    {
     "name": "stdout",
     "output_type": "stream",
     "text": [
      "Epoch: 287 | Training Loss: 0.282012614970788  | Validation Loss: 1.1274734048739723  | Accuracy: 58.76\n"
     ]
    },
    {
     "name": "stderr",
     "output_type": "stream",
     "text": [
      "156it [00:01, 114.12it/s]\n",
      "100%|█████████████████████████████████████████████████████████| 46/46 [00:00<00:00, 143.62it/s]\n"
     ]
    },
    {
     "name": "stdout",
     "output_type": "stream",
     "text": [
      "Epoch: 288 | Training Loss: 0.2754125345784884  | Validation Loss: 1.014398050049077  | Accuracy: 60.22\n"
     ]
    },
    {
     "name": "stderr",
     "output_type": "stream",
     "text": [
      "156it [00:01, 122.34it/s]\n",
      "100%|█████████████████████████████████████████████████████████| 46/46 [00:00<00:00, 143.39it/s]\n"
     ]
    },
    {
     "name": "stdout",
     "output_type": "stream",
     "text": [
      "Epoch: 289 | Training Loss: 0.2853283549730594  | Validation Loss: 1.0695169451444044  | Accuracy: 59.49\n"
     ]
    },
    {
     "name": "stderr",
     "output_type": "stream",
     "text": [
      "156it [00:01, 113.73it/s]\n",
      "100%|█████████████████████████████████████████████████████████| 46/46 [00:00<00:00, 158.86it/s]\n"
     ]
    },
    {
     "name": "stdout",
     "output_type": "stream",
     "text": [
      "Epoch: 290 | Training Loss: 0.2903867898843227  | Validation Loss: 0.9824151785477347  | Accuracy: 59.65\n"
     ]
    },
    {
     "name": "stderr",
     "output_type": "stream",
     "text": [
      "156it [00:01, 117.34it/s]\n",
      "100%|█████████████████████████████████████████████████████████| 46/46 [00:00<00:00, 212.38it/s]\n"
     ]
    },
    {
     "name": "stdout",
     "output_type": "stream",
     "text": [
      "Epoch: 291 | Training Loss: 0.28311188528553033  | Validation Loss: 1.0381881374379862  | Accuracy: 60.48\n"
     ]
    },
    {
     "name": "stderr",
     "output_type": "stream",
     "text": [
      "156it [00:01, 114.49it/s]\n",
      "100%|█████████████████████████████████████████████████████████| 46/46 [00:00<00:00, 157.42it/s]\n"
     ]
    },
    {
     "name": "stdout",
     "output_type": "stream",
     "text": [
      "Epoch: 292 | Training Loss: 0.2880046313198713  | Validation Loss: 1.0473164294077002  | Accuracy: 60.05\n"
     ]
    },
    {
     "name": "stderr",
     "output_type": "stream",
     "text": [
      "156it [00:01, 115.60it/s]\n",
      "100%|█████████████████████████████████████████████████████████| 46/46 [00:00<00:00, 161.58it/s]\n"
     ]
    },
    {
     "name": "stdout",
     "output_type": "stream",
     "text": [
      "Epoch: 293 | Training Loss: 0.28226658415335876  | Validation Loss: 0.9538943935995516  | Accuracy: 61.33\n"
     ]
    },
    {
     "name": "stderr",
     "output_type": "stream",
     "text": [
      "156it [00:01, 123.35it/s]\n",
      "100%|█████████████████████████████████████████████████████████| 46/46 [00:00<00:00, 158.65it/s]\n"
     ]
    },
    {
     "name": "stdout",
     "output_type": "stream",
     "text": [
      "Epoch: 294 | Training Loss: 0.28308271979674315  | Validation Loss: 0.958195184883864  | Accuracy: 61.50\n"
     ]
    },
    {
     "name": "stderr",
     "output_type": "stream",
     "text": [
      "156it [00:01, 114.69it/s]\n",
      "100%|█████████████████████████████████████████████████████████| 46/46 [00:00<00:00, 162.38it/s]\n"
     ]
    },
    {
     "name": "stdout",
     "output_type": "stream",
     "text": [
      "Epoch: 295 | Training Loss: 0.2849771766326366  | Validation Loss: 0.9455255671687748  | Accuracy: 62.13\n"
     ]
    },
    {
     "name": "stderr",
     "output_type": "stream",
     "text": [
      "156it [00:01, 116.00it/s]\n",
      "100%|█████████████████████████████████████████████████████████| 46/46 [00:00<00:00, 188.70it/s]\n"
     ]
    },
    {
     "name": "stdout",
     "output_type": "stream",
     "text": [
      "Epoch: 296 | Training Loss: 0.2871106370137288  | Validation Loss: 1.006394291701524  | Accuracy: 60.48\n"
     ]
    },
    {
     "name": "stderr",
     "output_type": "stream",
     "text": [
      "156it [00:01, 118.91it/s]\n",
      "100%|█████████████████████████████████████████████████████████| 46/46 [00:00<00:00, 163.78it/s]\n"
     ]
    },
    {
     "name": "stdout",
     "output_type": "stream",
     "text": [
      "Epoch: 297 | Training Loss: 0.28776989800807756  | Validation Loss: 1.0546021992745607  | Accuracy: 59.97\n"
     ]
    },
    {
     "name": "stderr",
     "output_type": "stream",
     "text": [
      "156it [00:01, 115.26it/s]\n",
      "100%|█████████████████████████████████████████████████████████| 46/46 [00:00<00:00, 158.88it/s]\n"
     ]
    },
    {
     "name": "stdout",
     "output_type": "stream",
     "text": [
      "Epoch: 298 | Training Loss: 0.28631614053096527  | Validation Loss: 0.9374361569466798  | Accuracy: 60.99\n"
     ]
    },
    {
     "name": "stderr",
     "output_type": "stream",
     "text": [
      "156it [00:01, 122.62it/s]\n",
      "100%|█████████████████████████████████████████████████████████| 46/46 [00:00<00:00, 164.31it/s]\n"
     ]
    },
    {
     "name": "stdout",
     "output_type": "stream",
     "text": [
      "Epoch: 299 | Training Loss: 0.282038305241328  | Validation Loss: 1.0846423986165419  | Accuracy: 60.26\n"
     ]
    },
    {
     "name": "stderr",
     "output_type": "stream",
     "text": [
      "156it [00:01, 116.42it/s]\n",
      "100%|█████████████████████████████████████████████████████████| 46/46 [00:00<00:00, 165.17it/s]\n"
     ]
    },
    {
     "name": "stdout",
     "output_type": "stream",
     "text": [
      "Epoch: 300 | Training Loss: 0.28500326417195493  | Validation Loss: 1.0099219563214674  | Accuracy: 61.16\n"
     ]
    },
    {
     "name": "stderr",
     "output_type": "stream",
     "text": [
      "156it [00:01, 114.28it/s]\n",
      "100%|█████████████████████████████████████████████████████████| 46/46 [00:00<00:00, 161.48it/s]\n"
     ]
    },
    {
     "name": "stdout",
     "output_type": "stream",
     "text": [
      "Epoch: 301 | Training Loss: 0.28470798963919663  | Validation Loss: 1.0087378038012462  | Accuracy: 60.58\n"
     ]
    },
    {
     "name": "stderr",
     "output_type": "stream",
     "text": [
      "156it [00:01, 122.17it/s]\n",
      "100%|█████████████████████████████████████████████████████████| 46/46 [00:00<00:00, 144.92it/s]\n"
     ]
    },
    {
     "name": "stdout",
     "output_type": "stream",
     "text": [
      "Epoch: 302 | Training Loss: 0.28217405625260794  | Validation Loss: 1.049605421397997  | Accuracy: 59.94\n"
     ]
    },
    {
     "name": "stderr",
     "output_type": "stream",
     "text": [
      "156it [00:01, 116.21it/s]\n",
      "100%|█████████████████████████████████████████████████████████| 46/46 [00:00<00:00, 158.21it/s]\n"
     ]
    },
    {
     "name": "stdout",
     "output_type": "stream",
     "text": [
      "Epoch: 303 | Training Loss: 0.280619278550148  | Validation Loss: 1.0701909039331519  | Accuracy: 58.61\n"
     ]
    },
    {
     "name": "stderr",
     "output_type": "stream",
     "text": [
      "156it [00:01, 123.14it/s]\n",
      "100%|█████████████████████████████████████████████████████████| 46/46 [00:00<00:00, 170.62it/s]\n"
     ]
    },
    {
     "name": "stdout",
     "output_type": "stream",
     "text": [
      "Epoch: 304 | Training Loss: 0.28116499393796307  | Validation Loss: 1.1889482270116392  | Accuracy: 57.81\n"
     ]
    },
    {
     "name": "stderr",
     "output_type": "stream",
     "text": [
      "156it [00:01, 115.67it/s]\n",
      "100%|█████████████████████████████████████████████████████████| 46/46 [00:00<00:00, 146.06it/s]\n"
     ]
    },
    {
     "name": "stdout",
     "output_type": "stream",
     "text": [
      "Epoch: 305 | Training Loss: 0.2823901935838736  | Validation Loss: 0.9691678816857545  | Accuracy: 61.31\n"
     ]
    },
    {
     "name": "stderr",
     "output_type": "stream",
     "text": [
      "156it [00:01, 116.79it/s]\n",
      "100%|█████████████████████████████████████████████████████████| 46/46 [00:00<00:00, 146.21it/s]\n"
     ]
    },
    {
     "name": "stdout",
     "output_type": "stream",
     "text": [
      "Epoch: 306 | Training Loss: 0.28116476812805885  | Validation Loss: 0.9423863058504851  | Accuracy: 60.44\n"
     ]
    },
    {
     "name": "stderr",
     "output_type": "stream",
     "text": [
      "156it [00:01, 122.21it/s]\n",
      "100%|█████████████████████████████████████████████████████████| 46/46 [00:00<00:00, 161.19it/s]\n"
     ]
    },
    {
     "name": "stdout",
     "output_type": "stream",
     "text": [
      "Epoch: 307 | Training Loss: 0.2899225323628157  | Validation Loss: 1.1116989099461099  | Accuracy: 59.00\n"
     ]
    },
    {
     "name": "stderr",
     "output_type": "stream",
     "text": [
      "156it [00:01, 115.73it/s]\n",
      "100%|█████████████████████████████████████████████████████████| 46/46 [00:00<00:00, 159.93it/s]\n"
     ]
    },
    {
     "name": "stdout",
     "output_type": "stream",
     "text": [
      "Epoch: 308 | Training Loss: 0.2819479151796072  | Validation Loss: 1.1214660600475643  | Accuracy: 59.09\n"
     ]
    },
    {
     "name": "stderr",
     "output_type": "stream",
     "text": [
      "156it [00:01, 118.58it/s]\n",
      "100%|█████████████████████████████████████████████████████████| 46/46 [00:00<00:00, 191.73it/s]\n"
     ]
    },
    {
     "name": "stdout",
     "output_type": "stream",
     "text": [
      "Epoch: 309 | Training Loss: 0.2809646285306185  | Validation Loss: 1.0228843326153962  | Accuracy: 60.58\n"
     ]
    },
    {
     "name": "stderr",
     "output_type": "stream",
     "text": [
      "156it [00:01, 116.18it/s]\n",
      "100%|█████████████████████████████████████████████████████████| 46/46 [00:00<00:00, 162.36it/s]\n"
     ]
    },
    {
     "name": "stdout",
     "output_type": "stream",
     "text": [
      "Epoch: 310 | Training Loss: 0.28183744083612394  | Validation Loss: 1.034808971311735  | Accuracy: 60.89\n"
     ]
    },
    {
     "name": "stderr",
     "output_type": "stream",
     "text": [
      "156it [00:01, 114.65it/s]\n",
      "100%|█████████████████████████████████████████████████████████| 46/46 [00:00<00:00, 161.08it/s]\n"
     ]
    },
    {
     "name": "stdout",
     "output_type": "stream",
     "text": [
      "Epoch: 311 | Training Loss: 0.28555421684032833  | Validation Loss: 1.1636445237242656  | Accuracy: 57.91\n"
     ]
    },
    {
     "name": "stderr",
     "output_type": "stream",
     "text": [
      "156it [00:01, 126.28it/s]\n",
      "100%|█████████████████████████████████████████████████████████| 46/46 [00:00<00:00, 163.07it/s]\n"
     ]
    },
    {
     "name": "stdout",
     "output_type": "stream",
     "text": [
      "Epoch: 312 | Training Loss: 0.2873746859721648  | Validation Loss: 1.0115845890148827  | Accuracy: 60.41\n"
     ]
    },
    {
     "name": "stderr",
     "output_type": "stream",
     "text": [
      "156it [00:01, 115.52it/s]\n",
      "100%|█████████████████████████████████████████████████████████| 46/46 [00:00<00:00, 164.78it/s]\n"
     ]
    },
    {
     "name": "stdout",
     "output_type": "stream",
     "text": [
      "Epoch: 313 | Training Loss: 0.28364093678119856  | Validation Loss: 1.1081342541653176  | Accuracy: 59.60\n"
     ]
    },
    {
     "name": "stderr",
     "output_type": "stream",
     "text": [
      "156it [00:01, 114.21it/s]\n",
      "100%|█████████████████████████████████████████████████████████| 46/46 [00:00<00:00, 188.88it/s]\n"
     ]
    },
    {
     "name": "stdout",
     "output_type": "stream",
     "text": [
      "Epoch: 314 | Training Loss: 0.2798052829427597  | Validation Loss: 1.010284080453541  | Accuracy: 60.53\n"
     ]
    },
    {
     "name": "stderr",
     "output_type": "stream",
     "text": [
      "156it [00:01, 118.17it/s]\n",
      "100%|█████████████████████████████████████████████████████████| 46/46 [00:00<00:00, 161.94it/s]\n"
     ]
    },
    {
     "name": "stdout",
     "output_type": "stream",
     "text": [
      "Epoch: 315 | Training Loss: 0.2818137672849191  | Validation Loss: 1.0156017528927845  | Accuracy: 60.21\n"
     ]
    },
    {
     "name": "stderr",
     "output_type": "stream",
     "text": [
      "156it [00:01, 115.48it/s]\n",
      "100%|█████████████████████████████████████████████████████████| 46/46 [00:00<00:00, 148.22it/s]\n"
     ]
    },
    {
     "name": "stdout",
     "output_type": "stream",
     "text": [
      "Epoch: 316 | Training Loss: 0.2802500805984705  | Validation Loss: 1.2017125422539918  | Accuracy: 57.90\n"
     ]
    },
    {
     "name": "stderr",
     "output_type": "stream",
     "text": [
      "156it [00:01, 121.63it/s]\n",
      "100%|█████████████████████████████████████████████████████████| 46/46 [00:00<00:00, 147.72it/s]\n"
     ]
    },
    {
     "name": "stdout",
     "output_type": "stream",
     "text": [
      "Epoch: 317 | Training Loss: 0.2839366821333384  | Validation Loss: 0.9642593912456346  | Accuracy: 61.75\n"
     ]
    },
    {
     "name": "stderr",
     "output_type": "stream",
     "text": [
      "156it [00:01, 116.18it/s]\n",
      "100%|█████████████████████████████████████████████████████████| 46/46 [00:00<00:00, 144.01it/s]\n"
     ]
    },
    {
     "name": "stdout",
     "output_type": "stream",
     "text": [
      "Epoch: 318 | Training Loss: 0.2835756037861873  | Validation Loss: 0.9539555518523507  | Accuracy: 60.82\n"
     ]
    },
    {
     "name": "stderr",
     "output_type": "stream",
     "text": [
      "156it [00:01, 116.36it/s]\n",
      "100%|█████████████████████████████████████████████████████████| 46/46 [00:00<00:00, 175.57it/s]\n"
     ]
    },
    {
     "name": "stdout",
     "output_type": "stream",
     "text": [
      "Epoch: 319 | Training Loss: 0.27660374687268185  | Validation Loss: 1.0187362484309985  | Accuracy: 60.44\n"
     ]
    },
    {
     "name": "stderr",
     "output_type": "stream",
     "text": [
      "156it [00:01, 119.69it/s]\n",
      "100%|█████████████████████████████████████████████████████████| 46/46 [00:00<00:00, 149.46it/s]\n"
     ]
    },
    {
     "name": "stdout",
     "output_type": "stream",
     "text": [
      "Epoch: 320 | Training Loss: 0.2841428617636363  | Validation Loss: 1.0365123230478037  | Accuracy: 60.78\n"
     ]
    },
    {
     "name": "stderr",
     "output_type": "stream",
     "text": [
      "156it [00:01, 114.13it/s]\n",
      "100%|█████████████████████████████████████████████████████████| 46/46 [00:00<00:00, 144.91it/s]\n"
     ]
    },
    {
     "name": "stdout",
     "output_type": "stream",
     "text": [
      "Epoch: 321 | Training Loss: 0.28194758200492614  | Validation Loss: 1.067451553500217  | Accuracy: 60.70\n"
     ]
    },
    {
     "name": "stderr",
     "output_type": "stream",
     "text": [
      "156it [00:01, 122.42it/s]\n",
      "100%|█████████████████████████████████████████████████████████| 46/46 [00:00<00:00, 146.77it/s]\n"
     ]
    },
    {
     "name": "stdout",
     "output_type": "stream",
     "text": [
      "Epoch: 322 | Training Loss: 0.28062797700747466  | Validation Loss: 0.9030453290628351  | Accuracy: 61.65\n"
     ]
    },
    {
     "name": "stderr",
     "output_type": "stream",
     "text": [
      "156it [00:01, 114.73it/s]\n",
      "100%|█████████████████████████████████████████████████████████| 46/46 [00:00<00:00, 146.35it/s]\n"
     ]
    },
    {
     "name": "stdout",
     "output_type": "stream",
     "text": [
      "Epoch: 323 | Training Loss: 0.28380138522539383  | Validation Loss: 0.9998029470443726  | Accuracy: 60.68\n"
     ]
    },
    {
     "name": "stderr",
     "output_type": "stream",
     "text": [
      "156it [00:01, 115.32it/s]\n",
      "100%|█████████████████████████████████████████████████████████| 46/46 [00:00<00:00, 170.37it/s]\n"
     ]
    },
    {
     "name": "stdout",
     "output_type": "stream",
     "text": [
      "Epoch: 324 | Training Loss: 0.28295711303750676  | Validation Loss: 1.0524629224901614  | Accuracy: 60.04\n"
     ]
    },
    {
     "name": "stderr",
     "output_type": "stream",
     "text": [
      "156it [00:01, 118.08it/s]\n",
      "100%|█████████████████████████████████████████████████████████| 46/46 [00:00<00:00, 164.39it/s]\n"
     ]
    },
    {
     "name": "stdout",
     "output_type": "stream",
     "text": [
      "Epoch: 325 | Training Loss: 0.27825491082591886  | Validation Loss: 0.996344628541366  | Accuracy: 60.99\n"
     ]
    },
    {
     "name": "stderr",
     "output_type": "stream",
     "text": [
      "156it [00:01, 116.26it/s]\n",
      "100%|█████████████████████████████████████████████████████████| 46/46 [00:00<00:00, 155.91it/s]\n"
     ]
    },
    {
     "name": "stdout",
     "output_type": "stream",
     "text": [
      "Epoch: 326 | Training Loss: 0.28261354412788  | Validation Loss: 1.0227582869322405  | Accuracy: 60.44\n"
     ]
    },
    {
     "name": "stderr",
     "output_type": "stream",
     "text": [
      "156it [00:01, 121.74it/s]\n",
      "100%|█████████████████████████████████████████████████████████| 46/46 [00:00<00:00, 162.28it/s]\n"
     ]
    },
    {
     "name": "stdout",
     "output_type": "stream",
     "text": [
      "Epoch: 327 | Training Loss: 0.2831948072864459  | Validation Loss: 0.9686417035434557  | Accuracy: 60.55\n"
     ]
    },
    {
     "name": "stderr",
     "output_type": "stream",
     "text": [
      "156it [00:01, 115.17it/s]\n",
      "100%|█████████████████████████████████████████████████████████| 46/46 [00:00<00:00, 146.79it/s]\n"
     ]
    },
    {
     "name": "stdout",
     "output_type": "stream",
     "text": [
      "Epoch: 328 | Training Loss: 0.2800620851608423  | Validation Loss: 1.0274086413176164  | Accuracy: 60.51\n"
     ]
    },
    {
     "name": "stderr",
     "output_type": "stream",
     "text": [
      "156it [00:01, 116.36it/s]\n",
      "100%|█████████████████████████████████████████████████████████| 46/46 [00:00<00:00, 146.96it/s]\n"
     ]
    },
    {
     "name": "stdout",
     "output_type": "stream",
     "text": [
      "Epoch: 329 | Training Loss: 0.2826701582242281  | Validation Loss: 1.0985088853732399  | Accuracy: 58.02\n"
     ]
    },
    {
     "name": "stderr",
     "output_type": "stream",
     "text": [
      "156it [00:01, 121.96it/s]\n",
      "100%|█████████████████████████████████████████████████████████| 46/46 [00:00<00:00, 161.92it/s]\n"
     ]
    },
    {
     "name": "stdout",
     "output_type": "stream",
     "text": [
      "Epoch: 330 | Training Loss: 0.28228539505448097  | Validation Loss: 0.9711848704711251  | Accuracy: 59.56\n"
     ]
    },
    {
     "name": "stderr",
     "output_type": "stream",
     "text": [
      "156it [00:01, 115.41it/s]\n",
      "100%|█████████████████████████████████████████████████████████| 46/46 [00:00<00:00, 158.82it/s]\n"
     ]
    },
    {
     "name": "stdout",
     "output_type": "stream",
     "text": [
      "Epoch: 331 | Training Loss: 0.28373915577928227  | Validation Loss: 0.9526846007160519  | Accuracy: 61.87\n"
     ]
    },
    {
     "name": "stderr",
     "output_type": "stream",
     "text": [
      "156it [00:01, 122.80it/s]\n",
      "100%|█████████████████████████████████████████████████████████| 46/46 [00:00<00:00, 157.11it/s]\n"
     ]
    },
    {
     "name": "stdout",
     "output_type": "stream",
     "text": [
      "Epoch: 332 | Training Loss: 0.28031027221526855  | Validation Loss: 0.9587211893952411  | Accuracy: 61.62\n"
     ]
    },
    {
     "name": "stderr",
     "output_type": "stream",
     "text": [
      "156it [00:01, 115.82it/s]\n",
      "100%|█████████████████████████████████████████████████████████| 46/46 [00:00<00:00, 161.72it/s]\n"
     ]
    },
    {
     "name": "stdout",
     "output_type": "stream",
     "text": [
      "Epoch: 333 | Training Loss: 0.2814767071260856  | Validation Loss: 0.947696882745494  | Accuracy: 60.95\n"
     ]
    },
    {
     "name": "stderr",
     "output_type": "stream",
     "text": [
      "156it [00:01, 115.40it/s]\n",
      "100%|█████████████████████████████████████████████████████████| 46/46 [00:00<00:00, 154.50it/s]\n"
     ]
    },
    {
     "name": "stdout",
     "output_type": "stream",
     "text": [
      "Epoch: 334 | Training Loss: 0.27766983583569527  | Validation Loss: 1.0364636105039846  | Accuracy: 60.60\n"
     ]
    },
    {
     "name": "stderr",
     "output_type": "stream",
     "text": [
      "156it [00:01, 122.29it/s]\n",
      "100%|█████████████████████████████████████████████████████████| 46/46 [00:00<00:00, 158.72it/s]\n"
     ]
    },
    {
     "name": "stdout",
     "output_type": "stream",
     "text": [
      "Epoch: 335 | Training Loss: 0.27898350711434317  | Validation Loss: 1.0285719607187354  | Accuracy: 61.01\n"
     ]
    },
    {
     "name": "stderr",
     "output_type": "stream",
     "text": [
      "156it [00:01, 115.11it/s]\n",
      "100%|█████████████████████████████████████████████████████████| 46/46 [00:00<00:00, 156.73it/s]\n"
     ]
    },
    {
     "name": "stdout",
     "output_type": "stream",
     "text": [
      "Epoch: 336 | Training Loss: 0.28521878272295  | Validation Loss: 0.9534322982249053  | Accuracy: 62.91\n"
     ]
    },
    {
     "name": "stderr",
     "output_type": "stream",
     "text": [
      "156it [00:01, 117.33it/s]\n",
      "100%|█████████████████████████████████████████████████████████| 46/46 [00:00<00:00, 174.00it/s]\n"
     ]
    },
    {
     "name": "stdout",
     "output_type": "stream",
     "text": [
      "Epoch: 337 | Training Loss: 0.28124555802116025  | Validation Loss: 0.9345012669977935  | Accuracy: 61.97\n"
     ]
    },
    {
     "name": "stderr",
     "output_type": "stream",
     "text": [
      "156it [00:01, 117.20it/s]\n",
      "100%|█████████████████████████████████████████████████████████| 46/46 [00:00<00:00, 164.82it/s]\n"
     ]
    },
    {
     "name": "stdout",
     "output_type": "stream",
     "text": [
      "Epoch: 338 | Training Loss: 0.2881184224134836  | Validation Loss: 0.9223136577917181  | Accuracy: 61.41\n"
     ]
    },
    {
     "name": "stderr",
     "output_type": "stream",
     "text": [
      "156it [00:01, 114.85it/s]\n",
      "100%|█████████████████████████████████████████████████████████| 46/46 [00:00<00:00, 159.70it/s]\n"
     ]
    },
    {
     "name": "stdout",
     "output_type": "stream",
     "text": [
      "Epoch: 339 | Training Loss: 0.2811464120944341  | Validation Loss: 1.0705912968386775  | Accuracy: 59.99\n"
     ]
    },
    {
     "name": "stderr",
     "output_type": "stream",
     "text": [
      "156it [00:01, 123.41it/s]\n",
      "100%|█████████████████████████████████████████████████████████| 46/46 [00:00<00:00, 155.42it/s]\n"
     ]
    },
    {
     "name": "stdout",
     "output_type": "stream",
     "text": [
      "Epoch: 340 | Training Loss: 0.2823367826640606  | Validation Loss: 0.9946901565012725  | Accuracy: 61.70\n"
     ]
    },
    {
     "name": "stderr",
     "output_type": "stream",
     "text": [
      "156it [00:01, 112.28it/s]\n",
      "100%|█████████████████████████████████████████████████████████| 46/46 [00:00<00:00, 155.79it/s]\n"
     ]
    },
    {
     "name": "stdout",
     "output_type": "stream",
     "text": [
      "Epoch: 341 | Training Loss: 0.2850611908122515  | Validation Loss: 0.9721981377705283  | Accuracy: 61.96\n"
     ]
    },
    {
     "name": "stderr",
     "output_type": "stream",
     "text": [
      "156it [00:01, 110.91it/s]\n",
      "100%|█████████████████████████████████████████████████████████| 46/46 [00:00<00:00, 183.67it/s]\n"
     ]
    },
    {
     "name": "stdout",
     "output_type": "stream",
     "text": [
      "Epoch: 342 | Training Loss: 0.28647706800928485  | Validation Loss: 0.9816456203875334  | Accuracy: 61.57\n"
     ]
    },
    {
     "name": "stderr",
     "output_type": "stream",
     "text": [
      "156it [00:01, 112.36it/s]\n",
      "100%|█████████████████████████████████████████████████████████| 46/46 [00:00<00:00, 155.22it/s]\n"
     ]
    },
    {
     "name": "stdout",
     "output_type": "stream",
     "text": [
      "Epoch: 343 | Training Loss: 0.2787774830865554  | Validation Loss: 1.1514046865960825  | Accuracy: 58.80\n"
     ]
    },
    {
     "name": "stderr",
     "output_type": "stream",
     "text": [
      "156it [00:01, 110.77it/s]\n",
      "100%|█████████████████████████████████████████████████████████| 46/46 [00:00<00:00, 155.65it/s]\n"
     ]
    },
    {
     "name": "stdout",
     "output_type": "stream",
     "text": [
      "Epoch: 344 | Training Loss: 0.28365021399580514  | Validation Loss: 1.049872461868369  | Accuracy: 59.95\n"
     ]
    },
    {
     "name": "stderr",
     "output_type": "stream",
     "text": [
      "156it [00:01, 119.22it/s]\n",
      "100%|█████████████████████████████████████████████████████████| 46/46 [00:00<00:00, 155.00it/s]\n"
     ]
    },
    {
     "name": "stdout",
     "output_type": "stream",
     "text": [
      "Epoch: 345 | Training Loss: 0.2793616999227267  | Validation Loss: 0.9502687376478444  | Accuracy: 61.45\n"
     ]
    },
    {
     "name": "stderr",
     "output_type": "stream",
     "text": [
      "156it [00:01, 112.36it/s]\n",
      "100%|█████████████████████████████████████████████████████████| 46/46 [00:00<00:00, 153.10it/s]\n"
     ]
    },
    {
     "name": "stdout",
     "output_type": "stream",
     "text": [
      "Epoch: 346 | Training Loss: 0.2816596885140126  | Validation Loss: 1.094411421081294  | Accuracy: 60.14\n"
     ]
    },
    {
     "name": "stderr",
     "output_type": "stream",
     "text": [
      "156it [00:01, 111.97it/s]\n",
      "100%|█████████████████████████████████████████████████████████| 46/46 [00:00<00:00, 152.90it/s]\n"
     ]
    },
    {
     "name": "stdout",
     "output_type": "stream",
     "text": [
      "Epoch: 347 | Training Loss: 0.28283814369485927  | Validation Loss: 1.011730926192325  | Accuracy: 60.87\n"
     ]
    },
    {
     "name": "stderr",
     "output_type": "stream",
     "text": [
      "156it [00:01, 117.77it/s]\n",
      "100%|█████████████████████████████████████████████████████████| 46/46 [00:00<00:00, 155.02it/s]\n"
     ]
    },
    {
     "name": "stdout",
     "output_type": "stream",
     "text": [
      "Epoch: 348 | Training Loss: 0.2803143720405224  | Validation Loss: 0.9743253148120382  | Accuracy: 60.55\n"
     ]
    },
    {
     "name": "stderr",
     "output_type": "stream",
     "text": [
      "156it [00:01, 112.32it/s]\n",
      "100%|█████████████████████████████████████████████████████████| 46/46 [00:00<00:00, 151.44it/s]\n"
     ]
    },
    {
     "name": "stdout",
     "output_type": "stream",
     "text": [
      "Epoch: 349 | Training Loss: 0.28125475203761685  | Validation Loss: 1.187233400085698  | Accuracy: 57.57\n"
     ]
    },
    {
     "name": "stderr",
     "output_type": "stream",
     "text": [
      "156it [00:01, 118.87it/s]\n",
      "100%|█████████████████████████████████████████████████████████| 46/46 [00:00<00:00, 170.68it/s]\n"
     ]
    },
    {
     "name": "stdout",
     "output_type": "stream",
     "text": [
      "Epoch: 350 | Training Loss: 0.2784204376049531  | Validation Loss: 1.171335079099821  | Accuracy: 58.24\n"
     ]
    },
    {
     "name": "stderr",
     "output_type": "stream",
     "text": [
      "156it [00:01, 117.15it/s]\n",
      "100%|█████████████████████████████████████████████████████████| 46/46 [00:00<00:00, 162.13it/s]\n"
     ]
    },
    {
     "name": "stdout",
     "output_type": "stream",
     "text": [
      "Epoch: 351 | Training Loss: 0.28122670614184475  | Validation Loss: 0.9645570840524591  | Accuracy: 61.75\n"
     ]
    },
    {
     "name": "stderr",
     "output_type": "stream",
     "text": [
      "156it [00:01, 116.10it/s]\n",
      "100%|█████████████████████████████████████████████████████████| 46/46 [00:00<00:00, 162.91it/s]\n"
     ]
    },
    {
     "name": "stdout",
     "output_type": "stream",
     "text": [
      "Epoch: 352 | Training Loss: 0.28980645594688564  | Validation Loss: 0.9684160533158676  | Accuracy: 59.63\n"
     ]
    },
    {
     "name": "stderr",
     "output_type": "stream",
     "text": [
      "156it [00:01, 124.31it/s]\n",
      "100%|█████████████████████████████████████████████████████████| 46/46 [00:00<00:00, 160.52it/s]\n"
     ]
    },
    {
     "name": "stdout",
     "output_type": "stream",
     "text": [
      "Epoch: 353 | Training Loss: 0.28139265903677696  | Validation Loss: 1.116394448539485  | Accuracy: 59.61\n"
     ]
    },
    {
     "name": "stderr",
     "output_type": "stream",
     "text": [
      "156it [00:01, 116.99it/s]\n",
      "100%|█████████████████████████████████████████████████████████| 46/46 [00:00<00:00, 159.56it/s]\n"
     ]
    },
    {
     "name": "stdout",
     "output_type": "stream",
     "text": [
      "Epoch: 354 | Training Loss: 0.27835433786878216  | Validation Loss: 1.0043615193470665  | Accuracy: 60.19\n"
     ]
    },
    {
     "name": "stderr",
     "output_type": "stream",
     "text": [
      "156it [00:01, 116.93it/s]\n",
      "100%|█████████████████████████████████████████████████████████| 46/46 [00:00<00:00, 210.86it/s]\n"
     ]
    },
    {
     "name": "stdout",
     "output_type": "stream",
     "text": [
      "Epoch: 355 | Training Loss: 0.286571291490243  | Validation Loss: 1.0606314125268355  | Accuracy: 59.68\n"
     ]
    },
    {
     "name": "stderr",
     "output_type": "stream",
     "text": [
      "156it [00:01, 116.36it/s]\n",
      "100%|█████████████████████████████████████████████████████████| 46/46 [00:00<00:00, 165.41it/s]\n"
     ]
    },
    {
     "name": "stdout",
     "output_type": "stream",
     "text": [
      "Epoch: 356 | Training Loss: 0.28268245693582755  | Validation Loss: 1.0992602900318478  | Accuracy: 59.41\n"
     ]
    },
    {
     "name": "stderr",
     "output_type": "stream",
     "text": [
      "156it [00:01, 116.18it/s]\n",
      "100%|█████████████████████████████████████████████████████████| 46/46 [00:00<00:00, 161.03it/s]\n"
     ]
    },
    {
     "name": "stdout",
     "output_type": "stream",
     "text": [
      "Epoch: 357 | Training Loss: 0.28315989119120133  | Validation Loss: 0.9957314017026321  | Accuracy: 59.17\n"
     ]
    },
    {
     "name": "stderr",
     "output_type": "stream",
     "text": [
      "156it [00:01, 123.63it/s]\n",
      "100%|█████████████████████████████████████████████████████████| 46/46 [00:00<00:00, 156.25it/s]\n"
     ]
    },
    {
     "name": "stdout",
     "output_type": "stream",
     "text": [
      "Epoch: 358 | Training Loss: 0.2846598867804576  | Validation Loss: 0.9291638952234517  | Accuracy: 60.90\n"
     ]
    },
    {
     "name": "stderr",
     "output_type": "stream",
     "text": [
      "156it [00:01, 118.06it/s]\n",
      "100%|█████████████████████████████████████████████████████████| 46/46 [00:00<00:00, 157.04it/s]\n"
     ]
    },
    {
     "name": "stdout",
     "output_type": "stream",
     "text": [
      "Epoch: 359 | Training Loss: 0.2846458839873473  | Validation Loss: 0.898858368396759  | Accuracy: 62.14\n"
     ]
    },
    {
     "name": "stderr",
     "output_type": "stream",
     "text": [
      "156it [00:01, 115.53it/s]\n",
      "100%|█████████████████████████████████████████████████████████| 46/46 [00:00<00:00, 169.71it/s]\n"
     ]
    },
    {
     "name": "stdout",
     "output_type": "stream",
     "text": [
      "Epoch: 360 | Training Loss: 0.2759351926163221  | Validation Loss: 1.0040009553017823  | Accuracy: 60.90\n"
     ]
    },
    {
     "name": "stderr",
     "output_type": "stream",
     "text": [
      "156it [00:01, 120.58it/s]\n",
      "100%|█████████████████████████████████████████████████████████| 46/46 [00:00<00:00, 159.97it/s]\n"
     ]
    },
    {
     "name": "stdout",
     "output_type": "stream",
     "text": [
      "Epoch: 361 | Training Loss: 0.27835149069627124  | Validation Loss: 1.2566634753476018  | Accuracy: 58.22\n"
     ]
    },
    {
     "name": "stderr",
     "output_type": "stream",
     "text": [
      "156it [00:01, 119.22it/s]\n",
      "100%|█████████████████████████████████████████████████████████| 46/46 [00:00<00:00, 159.60it/s]\n"
     ]
    },
    {
     "name": "stdout",
     "output_type": "stream",
     "text": [
      "Epoch: 362 | Training Loss: 0.28307769476221156  | Validation Loss: 0.9068781500277312  | Accuracy: 61.11\n"
     ]
    },
    {
     "name": "stderr",
     "output_type": "stream",
     "text": [
      "156it [00:01, 123.83it/s]\n",
      "100%|█████████████████████████████████████████████████████████| 46/46 [00:00<00:00, 158.23it/s]\n"
     ]
    },
    {
     "name": "stdout",
     "output_type": "stream",
     "text": [
      "Epoch: 363 | Training Loss: 0.2801331731562431  | Validation Loss: 1.1251500054546024  | Accuracy: 59.29\n"
     ]
    },
    {
     "name": "stderr",
     "output_type": "stream",
     "text": [
      "156it [00:01, 118.56it/s]\n",
      "100%|█████████████████████████████████████████████████████████| 46/46 [00:00<00:00, 165.61it/s]\n"
     ]
    },
    {
     "name": "stdout",
     "output_type": "stream",
     "text": [
      "Epoch: 364 | Training Loss: 0.28088201047518313  | Validation Loss: 1.0844203350336656  | Accuracy: 60.53\n"
     ]
    },
    {
     "name": "stderr",
     "output_type": "stream",
     "text": [
      "156it [00:01, 119.97it/s]\n",
      "100%|█████████████████████████████████████████████████████████| 46/46 [00:00<00:00, 157.65it/s]\n"
     ]
    },
    {
     "name": "stdout",
     "output_type": "stream",
     "text": [
      "Epoch: 365 | Training Loss: 0.27931816598925835  | Validation Loss: 0.9866247721340345  | Accuracy: 60.53\n"
     ]
    },
    {
     "name": "stderr",
     "output_type": "stream",
     "text": [
      "156it [00:01, 122.98it/s]\n",
      "100%|█████████████████████████████████████████████████████████| 46/46 [00:00<00:00, 158.87it/s]\n"
     ]
    },
    {
     "name": "stdout",
     "output_type": "stream",
     "text": [
      "Epoch: 366 | Training Loss: 0.2787393935215779  | Validation Loss: 0.9320291241873866  | Accuracy: 62.99\n"
     ]
    },
    {
     "name": "stderr",
     "output_type": "stream",
     "text": [
      "156it [00:01, 115.53it/s]\n",
      "100%|█████████████████████████████████████████████████████████| 46/46 [00:00<00:00, 157.90it/s]\n"
     ]
    },
    {
     "name": "stdout",
     "output_type": "stream",
     "text": [
      "Epoch: 367 | Training Loss: 0.2842088072345807  | Validation Loss: 0.9675016234750333  | Accuracy: 59.85\n"
     ]
    },
    {
     "name": "stderr",
     "output_type": "stream",
     "text": [
      "156it [00:01, 118.59it/s]\n",
      "100%|█████████████████████████████████████████████████████████| 46/46 [00:00<00:00, 183.57it/s]\n"
     ]
    },
    {
     "name": "stdout",
     "output_type": "stream",
     "text": [
      "Epoch: 368 | Training Loss: 0.2769314030615183  | Validation Loss: 0.9810175105281498  | Accuracy: 62.21\n"
     ]
    },
    {
     "name": "stderr",
     "output_type": "stream",
     "text": [
      "156it [00:01, 116.23it/s]\n",
      "100%|█████████████████████████████████████████████████████████| 46/46 [00:00<00:00, 157.77it/s]\n"
     ]
    },
    {
     "name": "stdout",
     "output_type": "stream",
     "text": [
      "Epoch: 369 | Training Loss: 0.2774083803479488  | Validation Loss: 1.0579007060631462  | Accuracy: 58.98\n"
     ]
    },
    {
     "name": "stderr",
     "output_type": "stream",
     "text": [
      "156it [00:01, 115.80it/s]\n",
      "100%|█████████████████████████████████████████████████████████| 46/46 [00:00<00:00, 161.76it/s]\n"
     ]
    },
    {
     "name": "stdout",
     "output_type": "stream",
     "text": [
      "Epoch: 370 | Training Loss: 0.2756250907595341  | Validation Loss: 1.0887642023356066  | Accuracy: 60.09\n"
     ]
    },
    {
     "name": "stderr",
     "output_type": "stream",
     "text": [
      "156it [00:01, 122.26it/s]\n",
      "100%|█████████████████████████████████████████████████████████| 46/46 [00:00<00:00, 153.05it/s]\n"
     ]
    },
    {
     "name": "stdout",
     "output_type": "stream",
     "text": [
      "Epoch: 371 | Training Loss: 0.2826562254474713  | Validation Loss: 0.9744287172089452  | Accuracy: 60.21\n"
     ]
    },
    {
     "name": "stderr",
     "output_type": "stream",
     "text": [
      "156it [00:01, 115.89it/s]\n",
      "100%|█████████████████████████████████████████████████████████| 46/46 [00:00<00:00, 159.79it/s]\n"
     ]
    },
    {
     "name": "stdout",
     "output_type": "stream",
     "text": [
      "Epoch: 372 | Training Loss: 0.27786752562492323  | Validation Loss: 0.9747294952040133  | Accuracy: 62.48\n"
     ]
    },
    {
     "name": "stderr",
     "output_type": "stream",
     "text": [
      "156it [00:01, 115.25it/s]\n",
      "100%|█████████████████████████████████████████████████████████| 46/46 [00:00<00:00, 192.09it/s]\n"
     ]
    },
    {
     "name": "stdout",
     "output_type": "stream",
     "text": [
      "Epoch: 373 | Training Loss: 0.2818828257612693  | Validation Loss: 1.053766801305439  | Accuracy: 60.04\n"
     ]
    },
    {
     "name": "stderr",
     "output_type": "stream",
     "text": [
      "156it [00:01, 115.11it/s]\n",
      "100%|█████████████████████████████████████████████████████████| 46/46 [00:00<00:00, 161.57it/s]\n"
     ]
    },
    {
     "name": "stdout",
     "output_type": "stream",
     "text": [
      "Epoch: 374 | Training Loss: 0.28105106682349473  | Validation Loss: 1.0987471730812737  | Accuracy: 58.44\n"
     ]
    },
    {
     "name": "stderr",
     "output_type": "stream",
     "text": [
      "156it [00:01, 116.00it/s]\n",
      "100%|█████████████████████████████████████████████████████████| 46/46 [00:00<00:00, 155.49it/s]\n"
     ]
    },
    {
     "name": "stdout",
     "output_type": "stream",
     "text": [
      "Epoch: 375 | Training Loss: 0.2829690674940745  | Validation Loss: 1.1950804176537886  | Accuracy: 57.95\n"
     ]
    },
    {
     "name": "stderr",
     "output_type": "stream",
     "text": [
      "156it [00:01, 122.86it/s]\n",
      "100%|█████████████████████████████████████████████████████████| 46/46 [00:00<00:00, 156.14it/s]\n"
     ]
    },
    {
     "name": "stdout",
     "output_type": "stream",
     "text": [
      "Epoch: 376 | Training Loss: 0.2849519111407109  | Validation Loss: 1.0358205580193063  | Accuracy: 58.80\n"
     ]
    },
    {
     "name": "stderr",
     "output_type": "stream",
     "text": [
      "156it [00:01, 115.65it/s]\n",
      "100%|█████████████████████████████████████████████████████████| 46/46 [00:00<00:00, 159.38it/s]\n"
     ]
    },
    {
     "name": "stdout",
     "output_type": "stream",
     "text": [
      "Epoch: 377 | Training Loss: 0.28092062540161306  | Validation Loss: 0.9771942366724429  | Accuracy: 61.35\n"
     ]
    },
    {
     "name": "stderr",
     "output_type": "stream",
     "text": [
      "156it [00:01, 115.95it/s]\n",
      "100%|█████████████████████████████████████████████████████████| 46/46 [00:00<00:00, 177.81it/s]\n"
     ]
    },
    {
     "name": "stdout",
     "output_type": "stream",
     "text": [
      "Epoch: 378 | Training Loss: 0.27986603507246727  | Validation Loss: 1.1330986424632694  | Accuracy: 58.64\n"
     ]
    },
    {
     "name": "stderr",
     "output_type": "stream",
     "text": [
      "156it [00:01, 118.40it/s]\n",
      "100%|█████████████████████████████████████████████████████████| 46/46 [00:00<00:00, 157.35it/s]\n"
     ]
    },
    {
     "name": "stdout",
     "output_type": "stream",
     "text": [
      "Epoch: 379 | Training Loss: 0.2752587203031931  | Validation Loss: 1.0303965664428214  | Accuracy: 61.04\n"
     ]
    },
    {
     "name": "stderr",
     "output_type": "stream",
     "text": [
      "156it [00:01, 116.23it/s]\n",
      "100%|█████████████████████████████████████████████████████████| 46/46 [00:00<00:00, 159.06it/s]\n"
     ]
    },
    {
     "name": "stdout",
     "output_type": "stream",
     "text": [
      "Epoch: 380 | Training Loss: 0.28490653003637606  | Validation Loss: 0.9674701587013577  | Accuracy: 61.51\n"
     ]
    },
    {
     "name": "stderr",
     "output_type": "stream",
     "text": [
      "156it [00:01, 121.80it/s]\n",
      "100%|█████████████████████████████████████████████████████████| 46/46 [00:00<00:00, 159.13it/s]\n"
     ]
    },
    {
     "name": "stdout",
     "output_type": "stream",
     "text": [
      "Epoch: 381 | Training Loss: 0.2784352635916991  | Validation Loss: 0.9618404766787654  | Accuracy: 60.04\n"
     ]
    },
    {
     "name": "stderr",
     "output_type": "stream",
     "text": [
      "156it [00:01, 115.06it/s]\n",
      "100%|█████████████████████████████████████████████████████████| 46/46 [00:00<00:00, 151.30it/s]\n"
     ]
    },
    {
     "name": "stdout",
     "output_type": "stream",
     "text": [
      "Epoch: 382 | Training Loss: 0.2757286672026683  | Validation Loss: 1.1199180237624957  | Accuracy: 58.12\n"
     ]
    },
    {
     "name": "stderr",
     "output_type": "stream",
     "text": [
      "156it [00:01, 107.24it/s]\n",
      "100%|█████████████████████████████████████████████████████████| 46/46 [00:00<00:00, 153.84it/s]\n"
     ]
    },
    {
     "name": "stdout",
     "output_type": "stream",
     "text": [
      "Epoch: 383 | Training Loss: 0.2784613885749609  | Validation Loss: 1.083358832027601  | Accuracy: 60.28\n"
     ]
    },
    {
     "name": "stderr",
     "output_type": "stream",
     "text": [
      "156it [00:01, 113.95it/s]\n",
      "100%|█████████████████████████████████████████████████████████| 46/46 [00:00<00:00, 154.87it/s]\n"
     ]
    },
    {
     "name": "stdout",
     "output_type": "stream",
     "text": [
      "Epoch: 384 | Training Loss: 0.2817676972884398  | Validation Loss: 1.0266562428163446  | Accuracy: 60.28\n"
     ]
    },
    {
     "name": "stderr",
     "output_type": "stream",
     "text": [
      "156it [00:01, 114.01it/s]\n",
      "100%|█████████████████████████████████████████████████████████| 46/46 [00:00<00:00, 153.89it/s]\n"
     ]
    },
    {
     "name": "stdout",
     "output_type": "stream",
     "text": [
      "Epoch: 385 | Training Loss: 0.27884837488333386  | Validation Loss: 0.9669685713622881  | Accuracy: 60.65\n"
     ]
    },
    {
     "name": "stderr",
     "output_type": "stream",
     "text": [
      "156it [00:01, 118.26it/s]\n",
      "100%|█████████████████████████████████████████████████████████| 46/46 [00:00<00:00, 185.02it/s]\n"
     ]
    },
    {
     "name": "stdout",
     "output_type": "stream",
     "text": [
      "Epoch: 386 | Training Loss: 0.27385373595051277  | Validation Loss: 0.8757773871007173  | Accuracy: 63.82\n"
     ]
    },
    {
     "name": "stderr",
     "output_type": "stream",
     "text": [
      "156it [00:01, 114.11it/s]\n",
      "100%|█████████████████████████████████████████████████████████| 46/46 [00:00<00:00, 158.92it/s]\n"
     ]
    },
    {
     "name": "stdout",
     "output_type": "stream",
     "text": [
      "Epoch: 387 | Training Loss: 0.27823427185798305  | Validation Loss: 1.0379270561363385  | Accuracy: 60.56\n"
     ]
    },
    {
     "name": "stderr",
     "output_type": "stream",
     "text": [
      "156it [00:01, 113.59it/s]\n",
      "100%|█████████████████████████████████████████████████████████| 46/46 [00:00<00:00, 157.44it/s]\n"
     ]
    },
    {
     "name": "stdout",
     "output_type": "stream",
     "text": [
      "Epoch: 388 | Training Loss: 0.28165563396536386  | Validation Loss: 0.9665336025797803  | Accuracy: 62.16\n"
     ]
    },
    {
     "name": "stderr",
     "output_type": "stream",
     "text": [
      "156it [00:01, 119.88it/s]\n",
      "100%|█████████████████████████████████████████████████████████| 46/46 [00:00<00:00, 155.70it/s]\n"
     ]
    },
    {
     "name": "stdout",
     "output_type": "stream",
     "text": [
      "Epoch: 389 | Training Loss: 0.28001763146275127  | Validation Loss: 0.8968655065349911  | Accuracy: 62.70\n"
     ]
    },
    {
     "name": "stderr",
     "output_type": "stream",
     "text": [
      "156it [00:01, 114.05it/s]\n",
      "100%|█████████████████████████████████████████████████████████| 46/46 [00:00<00:00, 156.91it/s]\n"
     ]
    },
    {
     "name": "stdout",
     "output_type": "stream",
     "text": [
      "Epoch: 390 | Training Loss: 0.2829979083094841  | Validation Loss: 1.113292245761208  | Accuracy: 58.95\n"
     ]
    },
    {
     "name": "stderr",
     "output_type": "stream",
     "text": [
      "156it [00:01, 113.71it/s]\n",
      "100%|█████████████████████████████████████████████████████████| 46/46 [00:00<00:00, 181.92it/s]\n"
     ]
    },
    {
     "name": "stdout",
     "output_type": "stream",
     "text": [
      "Epoch: 391 | Training Loss: 0.28131404729225695  | Validation Loss: 0.9583045412664828  | Accuracy: 60.39\n"
     ]
    },
    {
     "name": "stderr",
     "output_type": "stream",
     "text": [
      "156it [00:01, 115.14it/s]\n",
      "100%|█████████████████████████████████████████████████████████| 46/46 [00:00<00:00, 155.17it/s]\n"
     ]
    },
    {
     "name": "stdout",
     "output_type": "stream",
     "text": [
      "Epoch: 392 | Training Loss: 0.27658408450392574  | Validation Loss: 1.1260128228560737  | Accuracy: 58.80\n"
     ]
    },
    {
     "name": "stderr",
     "output_type": "stream",
     "text": [
      "156it [00:01, 115.78it/s]\n",
      "100%|█████████████████████████████████████████████████████████| 46/46 [00:00<00:00, 158.99it/s]\n"
     ]
    },
    {
     "name": "stdout",
     "output_type": "stream",
     "text": [
      "Epoch: 393 | Training Loss: 0.2734433721082333  | Validation Loss: 1.0808902771576592  | Accuracy: 59.92\n"
     ]
    },
    {
     "name": "stderr",
     "output_type": "stream",
     "text": [
      "156it [00:01, 121.68it/s]\n",
      "100%|█████████████████████████████████████████████████████████| 46/46 [00:00<00:00, 151.62it/s]\n"
     ]
    },
    {
     "name": "stdout",
     "output_type": "stream",
     "text": [
      "Epoch: 394 | Training Loss: 0.2801871091509477  | Validation Loss: 0.9886839480503745  | Accuracy: 60.00\n"
     ]
    },
    {
     "name": "stderr",
     "output_type": "stream",
     "text": [
      "156it [00:01, 112.75it/s]\n",
      "100%|█████████████████████████████████████████████████████████| 46/46 [00:00<00:00, 154.30it/s]\n"
     ]
    },
    {
     "name": "stdout",
     "output_type": "stream",
     "text": [
      "Epoch: 395 | Training Loss: 0.2810539930867843  | Validation Loss: 1.0834245409654535  | Accuracy: 59.83\n"
     ]
    },
    {
     "name": "stderr",
     "output_type": "stream",
     "text": [
      "156it [00:01, 112.50it/s]\n",
      "100%|█████████████████████████████████████████████████████████| 46/46 [00:00<00:00, 151.08it/s]\n"
     ]
    },
    {
     "name": "stdout",
     "output_type": "stream",
     "text": [
      "Epoch: 396 | Training Loss: 0.2826718192260999  | Validation Loss: 0.8904926750970923  | Accuracy: 62.42\n"
     ]
    },
    {
     "name": "stderr",
     "output_type": "stream",
     "text": [
      "156it [00:01, 119.67it/s]\n",
      "100%|█████████████████████████████████████████████████████████| 46/46 [00:00<00:00, 160.99it/s]\n"
     ]
    },
    {
     "name": "stdout",
     "output_type": "stream",
     "text": [
      "Epoch: 397 | Training Loss: 0.28257174904529864  | Validation Loss: 1.0414537152518397  | Accuracy: 60.28\n"
     ]
    },
    {
     "name": "stderr",
     "output_type": "stream",
     "text": [
      "156it [00:01, 114.21it/s]\n",
      "100%|█████████████████████████████████████████████████████████| 46/46 [00:00<00:00, 154.75it/s]\n"
     ]
    },
    {
     "name": "stdout",
     "output_type": "stream",
     "text": [
      "Epoch: 398 | Training Loss: 0.2823393819614863  | Validation Loss: 1.0527113468750664  | Accuracy: 59.88\n"
     ]
    },
    {
     "name": "stderr",
     "output_type": "stream",
     "text": [
      "156it [00:01, 120.80it/s]\n",
      "100%|█████████████████████████████████████████████████████████| 46/46 [00:00<00:00, 168.24it/s]\n"
     ]
    },
    {
     "name": "stdout",
     "output_type": "stream",
     "text": [
      "Epoch: 399 | Training Loss: 0.2862355535229047  | Validation Loss: 1.1046227022357609  | Accuracy: 59.09\n"
     ]
    },
    {
     "name": "stderr",
     "output_type": "stream",
     "text": [
      "156it [00:01, 114.34it/s]\n",
      "100%|█████████████████████████████████████████████████████████| 46/46 [00:00<00:00, 157.50it/s]\n"
     ]
    },
    {
     "name": "stdout",
     "output_type": "stream",
     "text": [
      "Epoch: 400 | Training Loss: 0.28596263856459886  | Validation Loss: 0.9377321121485337  | Accuracy: 62.30\n"
     ]
    },
    {
     "name": "stderr",
     "output_type": "stream",
     "text": [
      "156it [00:01, 114.25it/s]\n",
      "100%|█████████████████████████████████████████████████████████| 46/46 [00:00<00:00, 146.86it/s]\n"
     ]
    },
    {
     "name": "stdout",
     "output_type": "stream",
     "text": [
      "Epoch: 401 | Training Loss: 0.2833208082578121  | Validation Loss: 1.0234304912712262  | Accuracy: 59.95\n"
     ]
    },
    {
     "name": "stderr",
     "output_type": "stream",
     "text": [
      "156it [00:01, 121.06it/s]\n",
      "100%|█████████████████████████████████████████████████████████| 46/46 [00:00<00:00, 139.48it/s]\n"
     ]
    },
    {
     "name": "stdout",
     "output_type": "stream",
     "text": [
      "Epoch: 402 | Training Loss: 0.27918288914056927  | Validation Loss: 1.0208416011022485  | Accuracy: 60.21\n"
     ]
    },
    {
     "name": "stderr",
     "output_type": "stream",
     "text": [
      "156it [00:01, 113.16it/s]\n",
      "100%|█████████████████████████████████████████████████████████| 46/46 [00:00<00:00, 144.65it/s]\n"
     ]
    },
    {
     "name": "stdout",
     "output_type": "stream",
     "text": [
      "Epoch: 403 | Training Loss: 0.2781558345334652  | Validation Loss: 1.0647369649099268  | Accuracy: 59.58\n"
     ]
    },
    {
     "name": "stderr",
     "output_type": "stream",
     "text": [
      "156it [00:01, 116.31it/s]\n",
      "100%|█████████████████████████████████████████████████████████| 46/46 [00:00<00:00, 185.09it/s]\n"
     ]
    },
    {
     "name": "stdout",
     "output_type": "stream",
     "text": [
      "Epoch: 404 | Training Loss: 0.27975369235261893  | Validation Loss: 0.9777127076750216  | Accuracy: 60.55\n"
     ]
    },
    {
     "name": "stderr",
     "output_type": "stream",
     "text": [
      "156it [00:01, 114.15it/s]\n",
      "100%|█████████████████████████████████████████████████████████| 46/46 [00:00<00:00, 156.04it/s]\n"
     ]
    },
    {
     "name": "stdout",
     "output_type": "stream",
     "text": [
      "Epoch: 405 | Training Loss: 0.28702204177776974  | Validation Loss: 1.0466453342334083  | Accuracy: 59.44\n"
     ]
    },
    {
     "name": "stderr",
     "output_type": "stream",
     "text": [
      "156it [00:01, 112.72it/s]\n",
      "100%|█████████████████████████████████████████████████████████| 46/46 [00:00<00:00, 161.05it/s]\n"
     ]
    },
    {
     "name": "stdout",
     "output_type": "stream",
     "text": [
      "Epoch: 406 | Training Loss: 0.28365279199221194  | Validation Loss: 0.996270768020464  | Accuracy: 59.34\n"
     ]
    },
    {
     "name": "stderr",
     "output_type": "stream",
     "text": [
      "156it [00:01, 121.20it/s]\n",
      "100%|█████████████████████████████████████████████████████████| 46/46 [00:00<00:00, 156.74it/s]\n"
     ]
    },
    {
     "name": "stdout",
     "output_type": "stream",
     "text": [
      "Epoch: 407 | Training Loss: 0.28433142105738324  | Validation Loss: 0.9393793655478436  | Accuracy: 61.06\n"
     ]
    },
    {
     "name": "stderr",
     "output_type": "stream",
     "text": [
      "156it [00:01, 112.48it/s]\n",
      "100%|█████████████████████████████████████████████████████████| 46/46 [00:00<00:00, 158.93it/s]\n"
     ]
    },
    {
     "name": "stdout",
     "output_type": "stream",
     "text": [
      "Epoch: 408 | Training Loss: 0.27921557961366117  | Validation Loss: 1.023179186427075  | Accuracy: 60.84\n"
     ]
    },
    {
     "name": "stderr",
     "output_type": "stream",
     "text": [
      "156it [00:01, 113.29it/s]\n",
      "100%|█████████████████████████████████████████████████████████| 46/46 [00:00<00:00, 179.13it/s]\n"
     ]
    },
    {
     "name": "stdout",
     "output_type": "stream",
     "text": [
      "Epoch: 409 | Training Loss: 0.28068138792728764  | Validation Loss: 1.0392971336841583  | Accuracy: 59.32\n"
     ]
    },
    {
     "name": "stderr",
     "output_type": "stream",
     "text": [
      "156it [00:01, 120.77it/s]\n",
      "100%|█████████████████████████████████████████████████████████| 46/46 [00:00<00:00, 154.70it/s]\n"
     ]
    },
    {
     "name": "stdout",
     "output_type": "stream",
     "text": [
      "Epoch: 410 | Training Loss: 0.2834743865980552  | Validation Loss: 1.1628949862459432  | Accuracy: 57.86\n"
     ]
    },
    {
     "name": "stderr",
     "output_type": "stream",
     "text": [
      "156it [00:01, 119.31it/s]\n",
      "100%|█████████████████████████████████████████████████████████| 46/46 [00:00<00:00, 159.25it/s]\n"
     ]
    },
    {
     "name": "stdout",
     "output_type": "stream",
     "text": [
      "Epoch: 411 | Training Loss: 0.27895962217679393  | Validation Loss: 1.0058013032311979  | Accuracy: 60.61\n"
     ]
    },
    {
     "name": "stderr",
     "output_type": "stream",
     "text": [
      "156it [00:01, 125.34it/s]\n",
      "100%|█████████████████████████████████████████████████████████| 46/46 [00:00<00:00, 161.07it/s]\n"
     ]
    },
    {
     "name": "stdout",
     "output_type": "stream",
     "text": [
      "Epoch: 412 | Training Loss: 0.28813785687088966  | Validation Loss: 0.9427848160266876  | Accuracy: 58.75\n"
     ]
    },
    {
     "name": "stderr",
     "output_type": "stream",
     "text": [
      "156it [00:01, 118.14it/s]\n",
      "100%|█████████████████████████████████████████████████████████| 46/46 [00:00<00:00, 163.37it/s]\n"
     ]
    },
    {
     "name": "stdout",
     "output_type": "stream",
     "text": [
      "Epoch: 413 | Training Loss: 0.2790383236148419  | Validation Loss: 0.9220189555831577  | Accuracy: 61.26\n"
     ]
    },
    {
     "name": "stderr",
     "output_type": "stream",
     "text": [
      "156it [00:01, 116.85it/s]\n",
      "100%|█████████████████████████████████████████████████████████| 46/46 [00:00<00:00, 156.22it/s]\n"
     ]
    },
    {
     "name": "stdout",
     "output_type": "stream",
     "text": [
      "Epoch: 414 | Training Loss: 0.28616991811073744  | Validation Loss: 1.0604830604532491  | Accuracy: 58.98\n"
     ]
    },
    {
     "name": "stderr",
     "output_type": "stream",
     "text": [
      "156it [00:01, 124.13it/s]\n",
      "100%|█████████████████████████████████████████████████████████| 46/46 [00:00<00:00, 157.37it/s]\n"
     ]
    },
    {
     "name": "stdout",
     "output_type": "stream",
     "text": [
      "Epoch: 415 | Training Loss: 0.2800686281078901  | Validation Loss: 0.9927345514297485  | Accuracy: 59.24\n"
     ]
    },
    {
     "name": "stderr",
     "output_type": "stream",
     "text": [
      "156it [00:01, 118.84it/s]\n",
      "100%|█████████████████████████████████████████████████████████| 46/46 [00:00<00:00, 154.19it/s]\n"
     ]
    },
    {
     "name": "stdout",
     "output_type": "stream",
     "text": [
      "Epoch: 416 | Training Loss: 0.28169157365575814  | Validation Loss: 1.0600636290467305  | Accuracy: 59.46\n"
     ]
    },
    {
     "name": "stderr",
     "output_type": "stream",
     "text": [
      "156it [00:01, 125.20it/s]\n",
      "100%|█████████████████████████████████████████████████████████| 46/46 [00:00<00:00, 170.52it/s]\n"
     ]
    },
    {
     "name": "stdout",
     "output_type": "stream",
     "text": [
      "Epoch: 417 | Training Loss: 0.2771824207634498  | Validation Loss: 1.0374677090541176  | Accuracy: 61.06\n"
     ]
    },
    {
     "name": "stderr",
     "output_type": "stream",
     "text": [
      "156it [00:01, 118.82it/s]\n",
      "100%|█████████████████████████████████████████████████████████| 46/46 [00:00<00:00, 153.74it/s]\n"
     ]
    },
    {
     "name": "stdout",
     "output_type": "stream",
     "text": [
      "Epoch: 418 | Training Loss: 0.27887940167998654  | Validation Loss: 1.1101198649924735  | Accuracy: 59.58\n"
     ]
    },
    {
     "name": "stderr",
     "output_type": "stream",
     "text": [
      "156it [00:01, 118.29it/s]\n",
      "100%|█████████████████████████████████████████████████████████| 46/46 [00:00<00:00, 163.53it/s]\n"
     ]
    },
    {
     "name": "stdout",
     "output_type": "stream",
     "text": [
      "Epoch: 419 | Training Loss: 0.28172446090059405  | Validation Loss: 1.091539255950762  | Accuracy: 59.41\n"
     ]
    },
    {
     "name": "stderr",
     "output_type": "stream",
     "text": [
      "156it [00:01, 122.46it/s]\n",
      "100%|█████████████████████████████████████████████████████████| 46/46 [00:00<00:00, 155.94it/s]\n"
     ]
    },
    {
     "name": "stdout",
     "output_type": "stream",
     "text": [
      "Epoch: 420 | Training Loss: 0.2791196229175115  | Validation Loss: 1.018665655799534  | Accuracy: 60.70\n"
     ]
    },
    {
     "name": "stderr",
     "output_type": "stream",
     "text": [
      "156it [00:01, 112.66it/s]\n",
      "100%|█████████████████████████████████████████████████████████| 46/46 [00:00<00:00, 157.22it/s]\n"
     ]
    },
    {
     "name": "stdout",
     "output_type": "stream",
     "text": [
      "Epoch: 421 | Training Loss: 0.27738106546875757  | Validation Loss: 1.0594566555126854  | Accuracy: 60.39\n"
     ]
    },
    {
     "name": "stderr",
     "output_type": "stream",
     "text": [
      "156it [00:01, 116.77it/s]\n",
      "100%|█████████████████████████████████████████████████████████| 46/46 [00:00<00:00, 214.86it/s]\n"
     ]
    },
    {
     "name": "stdout",
     "output_type": "stream",
     "text": [
      "Epoch: 422 | Training Loss: 0.28135736429920566  | Validation Loss: 1.0153713964897653  | Accuracy: 61.14\n"
     ]
    },
    {
     "name": "stderr",
     "output_type": "stream",
     "text": [
      "156it [00:01, 115.42it/s]\n",
      "100%|█████████████████████████████████████████████████████████| 46/46 [00:00<00:00, 157.03it/s]\n"
     ]
    },
    {
     "name": "stdout",
     "output_type": "stream",
     "text": [
      "Epoch: 423 | Training Loss: 0.2798554473198377  | Validation Loss: 1.0135275255078855  | Accuracy: 61.07\n"
     ]
    },
    {
     "name": "stderr",
     "output_type": "stream",
     "text": [
      "156it [00:01, 114.31it/s]\n",
      "100%|█████████████████████████████████████████████████████████| 46/46 [00:00<00:00, 154.51it/s]\n"
     ]
    },
    {
     "name": "stdout",
     "output_type": "stream",
     "text": [
      "Epoch: 424 | Training Loss: 0.28190490651207095  | Validation Loss: 1.0128197035063868  | Accuracy: 60.38\n"
     ]
    },
    {
     "name": "stderr",
     "output_type": "stream",
     "text": [
      "156it [00:01, 121.87it/s]\n",
      "100%|█████████████████████████████████████████████████████████| 46/46 [00:00<00:00, 152.45it/s]\n"
     ]
    },
    {
     "name": "stdout",
     "output_type": "stream",
     "text": [
      "Epoch: 425 | Training Loss: 0.2855473602047333  | Validation Loss: 0.9392032869484114  | Accuracy: 62.06\n"
     ]
    },
    {
     "name": "stderr",
     "output_type": "stream",
     "text": [
      "156it [00:01, 113.76it/s]\n",
      "100%|█████████████████████████████████████████████████████████| 46/46 [00:00<00:00, 159.64it/s]\n"
     ]
    },
    {
     "name": "stdout",
     "output_type": "stream",
     "text": [
      "Epoch: 426 | Training Loss: 0.28171100343267125  | Validation Loss: 1.0169027318125186  | Accuracy: 58.49\n"
     ]
    },
    {
     "name": "stderr",
     "output_type": "stream",
     "text": [
      "156it [00:01, 113.39it/s]\n",
      "100%|█████████████████████████████████████████████████████████| 46/46 [00:00<00:00, 181.24it/s]\n"
     ]
    },
    {
     "name": "stdout",
     "output_type": "stream",
     "text": [
      "Epoch: 427 | Training Loss: 0.28142914921045303  | Validation Loss: 1.125948228265928  | Accuracy: 59.53\n"
     ]
    },
    {
     "name": "stderr",
     "output_type": "stream",
     "text": [
      "156it [00:01, 118.03it/s]\n",
      "100%|█████████████████████████████████████████████████████████| 46/46 [00:00<00:00, 154.59it/s]\n"
     ]
    },
    {
     "name": "stdout",
     "output_type": "stream",
     "text": [
      "Epoch: 428 | Training Loss: 0.2783557860515056  | Validation Loss: 1.00640019385711  | Accuracy: 60.04\n"
     ]
    },
    {
     "name": "stderr",
     "output_type": "stream",
     "text": [
      "156it [00:01, 113.46it/s]\n",
      "100%|█████████████████████████████████████████████████████████| 46/46 [00:00<00:00, 157.34it/s]\n"
     ]
    },
    {
     "name": "stdout",
     "output_type": "stream",
     "text": [
      "Epoch: 429 | Training Loss: 0.2796093280880879  | Validation Loss: 1.264219405858413  | Accuracy: 57.18\n"
     ]
    },
    {
     "name": "stderr",
     "output_type": "stream",
     "text": [
      "156it [00:01, 121.18it/s]\n",
      "100%|█████████████████████████████████████████████████████████| 46/46 [00:00<00:00, 154.72it/s]\n"
     ]
    },
    {
     "name": "stdout",
     "output_type": "stream",
     "text": [
      "Epoch: 430 | Training Loss: 0.2865767372915378  | Validation Loss: 0.9613972552444624  | Accuracy: 60.65\n"
     ]
    },
    {
     "name": "stderr",
     "output_type": "stream",
     "text": [
      "156it [00:01, 114.87it/s]\n",
      "100%|█████████████████████████████████████████████████████████| 46/46 [00:00<00:00, 153.65it/s]\n"
     ]
    },
    {
     "name": "stdout",
     "output_type": "stream",
     "text": [
      "Epoch: 431 | Training Loss: 0.2801777246670845  | Validation Loss: 0.9253949522972107  | Accuracy: 61.57\n"
     ]
    },
    {
     "name": "stderr",
     "output_type": "stream",
     "text": [
      "156it [00:01, 113.56it/s]\n",
      "100%|█████████████████████████████████████████████████████████| 46/46 [00:00<00:00, 153.00it/s]\n"
     ]
    },
    {
     "name": "stdout",
     "output_type": "stream",
     "text": [
      "Epoch: 432 | Training Loss: 0.2782710251899866  | Validation Loss: 0.9739033217015474  | Accuracy: 61.38\n"
     ]
    },
    {
     "name": "stderr",
     "output_type": "stream",
     "text": [
      "156it [00:01, 120.01it/s]\n",
      "100%|█████████████████████████████████████████████████████████| 46/46 [00:00<00:00, 152.79it/s]\n"
     ]
    },
    {
     "name": "stdout",
     "output_type": "stream",
     "text": [
      "Epoch: 433 | Training Loss: 0.2844875808327626  | Validation Loss: 1.0424041475938715  | Accuracy: 61.04\n"
     ]
    },
    {
     "name": "stderr",
     "output_type": "stream",
     "text": [
      "156it [00:01, 112.80it/s]\n",
      "100%|█████████████████████████████████████████████████████████| 46/46 [00:00<00:00, 145.99it/s]\n"
     ]
    },
    {
     "name": "stdout",
     "output_type": "stream",
     "text": [
      "Epoch: 434 | Training Loss: 0.2852451761181538  | Validation Loss: 0.9533343794553176  | Accuracy: 61.09\n"
     ]
    },
    {
     "name": "stderr",
     "output_type": "stream",
     "text": [
      "156it [00:01, 118.98it/s]\n",
      "100%|█████████████████████████████████████████████████████████| 46/46 [00:00<00:00, 170.26it/s]\n"
     ]
    },
    {
     "name": "stdout",
     "output_type": "stream",
     "text": [
      "Epoch: 435 | Training Loss: 0.2849447560042907  | Validation Loss: 0.9871962770171787  | Accuracy: 60.29\n"
     ]
    },
    {
     "name": "stderr",
     "output_type": "stream",
     "text": [
      "156it [00:01, 114.20it/s]\n",
      "100%|█████████████████████████████████████████████████████████| 46/46 [00:00<00:00, 157.08it/s]\n"
     ]
    },
    {
     "name": "stdout",
     "output_type": "stream",
     "text": [
      "Epoch: 436 | Training Loss: 0.2829900941787622  | Validation Loss: 1.0517786819001902  | Accuracy: 59.41\n"
     ]
    },
    {
     "name": "stderr",
     "output_type": "stream",
     "text": [
      "156it [00:01, 114.22it/s]\n",
      "100%|█████████████████████████████████████████████████████████| 46/46 [00:00<00:00, 155.65it/s]\n"
     ]
    },
    {
     "name": "stdout",
     "output_type": "stream",
     "text": [
      "Epoch: 437 | Training Loss: 0.2832622974155805  | Validation Loss: 1.1490703367668649  | Accuracy: 57.95\n"
     ]
    },
    {
     "name": "stderr",
     "output_type": "stream",
     "text": [
      "156it [00:01, 121.72it/s]\n",
      "100%|█████████████████████████████████████████████████████████| 46/46 [00:00<00:00, 155.61it/s]\n"
     ]
    },
    {
     "name": "stdout",
     "output_type": "stream",
     "text": [
      "Epoch: 438 | Training Loss: 0.2810032880650117  | Validation Loss: 0.9250848824563234  | Accuracy: 60.24\n"
     ]
    },
    {
     "name": "stderr",
     "output_type": "stream",
     "text": [
      "156it [00:01, 113.85it/s]\n",
      "100%|█████████████████████████████████████████████████████████| 46/46 [00:00<00:00, 157.20it/s]\n"
     ]
    },
    {
     "name": "stdout",
     "output_type": "stream",
     "text": [
      "Epoch: 439 | Training Loss: 0.2811410105190216  | Validation Loss: 0.9810349111971648  | Accuracy: 60.46\n"
     ]
    },
    {
     "name": "stderr",
     "output_type": "stream",
     "text": [
      "156it [00:01, 115.50it/s]\n",
      "100%|█████████████████████████████████████████████████████████| 46/46 [00:00<00:00, 194.47it/s]\n"
     ]
    },
    {
     "name": "stdout",
     "output_type": "stream",
     "text": [
      "Epoch: 440 | Training Loss: 0.27897661465864915  | Validation Loss: 0.9896314416242682  | Accuracy: 60.22\n"
     ]
    },
    {
     "name": "stderr",
     "output_type": "stream",
     "text": [
      "156it [00:01, 113.66it/s]\n",
      "100%|█████████████████████████████████████████████████████████| 46/46 [00:00<00:00, 160.38it/s]\n"
     ]
    },
    {
     "name": "stdout",
     "output_type": "stream",
     "text": [
      "Epoch: 441 | Training Loss: 0.28419497599586463  | Validation Loss: 1.0183419948038848  | Accuracy: 61.26\n"
     ]
    },
    {
     "name": "stderr",
     "output_type": "stream",
     "text": [
      "156it [00:01, 112.04it/s]\n",
      "100%|█████████████████████████████████████████████████████████| 46/46 [00:00<00:00, 159.42it/s]\n"
     ]
    },
    {
     "name": "stdout",
     "output_type": "stream",
     "text": [
      "Epoch: 442 | Training Loss: 0.2769865076511334  | Validation Loss: 0.9538514173549154  | Accuracy: 60.94\n"
     ]
    },
    {
     "name": "stderr",
     "output_type": "stream",
     "text": [
      "156it [00:01, 121.08it/s]\n",
      "100%|█████████████████████████████████████████████████████████| 46/46 [00:00<00:00, 160.27it/s]\n"
     ]
    },
    {
     "name": "stdout",
     "output_type": "stream",
     "text": [
      "Epoch: 443 | Training Loss: 0.28234486205455583  | Validation Loss: 0.956474376761395  | Accuracy: 60.21\n"
     ]
    },
    {
     "name": "stderr",
     "output_type": "stream",
     "text": [
      "156it [00:01, 114.94it/s]\n",
      "100%|█████████████████████████████████████████████████████████| 46/46 [00:00<00:00, 157.27it/s]\n"
     ]
    },
    {
     "name": "stdout",
     "output_type": "stream",
     "text": [
      "Epoch: 444 | Training Loss: 0.27932838856791836  | Validation Loss: 0.9550343298393748  | Accuracy: 61.91\n"
     ]
    },
    {
     "name": "stderr",
     "output_type": "stream",
     "text": [
      "156it [00:01, 113.61it/s]\n",
      "100%|█████████████████████████████████████████████████████████| 46/46 [00:00<00:00, 165.48it/s]\n"
     ]
    },
    {
     "name": "stdout",
     "output_type": "stream",
     "text": [
      "Epoch: 445 | Training Loss: 0.2749682170076248  | Validation Loss: 1.0073384033597035  | Accuracy: 61.50\n"
     ]
    },
    {
     "name": "stderr",
     "output_type": "stream",
     "text": [
      "156it [00:01, 117.70it/s]\n",
      "100%|█████████████████████████████████████████████████████████| 46/46 [00:00<00:00, 153.53it/s]\n"
     ]
    },
    {
     "name": "stdout",
     "output_type": "stream",
     "text": [
      "Epoch: 446 | Training Loss: 0.28337845616997814  | Validation Loss: 1.027696474738743  | Accuracy: 60.63\n"
     ]
    },
    {
     "name": "stderr",
     "output_type": "stream",
     "text": [
      "156it [00:01, 115.02it/s]\n",
      "100%|█████████████████████████████████████████████████████████| 46/46 [00:00<00:00, 154.09it/s]\n"
     ]
    },
    {
     "name": "stdout",
     "output_type": "stream",
     "text": [
      "Epoch: 447 | Training Loss: 0.2772832488020261  | Validation Loss: 0.9698499415231787  | Accuracy: 61.02\n"
     ]
    },
    {
     "name": "stderr",
     "output_type": "stream",
     "text": [
      "156it [00:01, 123.98it/s]\n",
      "100%|█████████████████████████████████████████████████████████| 46/46 [00:00<00:00, 150.01it/s]\n"
     ]
    },
    {
     "name": "stdout",
     "output_type": "stream",
     "text": [
      "Epoch: 448 | Training Loss: 0.28430734001673186  | Validation Loss: 1.0020248371621836  | Accuracy: 60.12\n"
     ]
    },
    {
     "name": "stderr",
     "output_type": "stream",
     "text": [
      "156it [00:01, 118.52it/s]\n",
      "100%|█████████████████████████████████████████████████████████| 46/46 [00:00<00:00, 157.34it/s]\n"
     ]
    },
    {
     "name": "stdout",
     "output_type": "stream",
     "text": [
      "Epoch: 449 | Training Loss: 0.2770931546886762  | Validation Loss: 0.956664906895679  | Accuracy: 61.70\n"
     ]
    },
    {
     "name": "stderr",
     "output_type": "stream",
     "text": [
      "156it [00:01, 116.49it/s]\n",
      "100%|█████████████████████████████████████████████████████████| 46/46 [00:00<00:00, 159.50it/s]\n"
     ]
    },
    {
     "name": "stdout",
     "output_type": "stream",
     "text": [
      "Epoch: 450 | Training Loss: 0.27806674679502463  | Validation Loss: 1.0450689170671545  | Accuracy: 58.12\n"
     ]
    },
    {
     "name": "stderr",
     "output_type": "stream",
     "text": [
      "156it [00:01, 121.36it/s]\n",
      "100%|█████████████████████████████████████████████████████████| 46/46 [00:00<00:00, 148.47it/s]\n"
     ]
    },
    {
     "name": "stdout",
     "output_type": "stream",
     "text": [
      "Epoch: 451 | Training Loss: 0.28542610391592366  | Validation Loss: 0.9706058009811069  | Accuracy: 60.43\n"
     ]
    },
    {
     "name": "stderr",
     "output_type": "stream",
     "text": [
      "156it [00:01, 115.91it/s]\n",
      "100%|█████████████████████████████████████████████████████████| 46/46 [00:00<00:00, 147.04it/s]\n"
     ]
    },
    {
     "name": "stdout",
     "output_type": "stream",
     "text": [
      "Epoch: 452 | Training Loss: 0.2836859004619794  | Validation Loss: 0.9783012685568436  | Accuracy: 61.92\n"
     ]
    },
    {
     "name": "stderr",
     "output_type": "stream",
     "text": [
      "156it [00:01, 120.79it/s]\n",
      "100%|█████████████████████████████████████████████████████████| 46/46 [00:00<00:00, 164.53it/s]\n"
     ]
    },
    {
     "name": "stdout",
     "output_type": "stream",
     "text": [
      "Epoch: 453 | Training Loss: 0.2803727326293786  | Validation Loss: 1.1493147715278293  | Accuracy: 58.37\n"
     ]
    },
    {
     "name": "stderr",
     "output_type": "stream",
     "text": [
      "156it [00:01, 115.76it/s]\n",
      "100%|█████████████████████████████████████████████████████████| 46/46 [00:00<00:00, 158.61it/s]\n"
     ]
    },
    {
     "name": "stdout",
     "output_type": "stream",
     "text": [
      "Epoch: 454 | Training Loss: 0.27661552824653113  | Validation Loss: 1.066674987906995  | Accuracy: 60.41\n"
     ]
    },
    {
     "name": "stderr",
     "output_type": "stream",
     "text": [
      "156it [00:01, 111.91it/s]\n",
      "100%|█████████████████████████████████████████████████████████| 46/46 [00:00<00:00, 158.65it/s]\n"
     ]
    },
    {
     "name": "stdout",
     "output_type": "stream",
     "text": [
      "Epoch: 455 | Training Loss: 0.2814182933324423  | Validation Loss: 1.0415596145650614  | Accuracy: 60.90\n"
     ]
    },
    {
     "name": "stderr",
     "output_type": "stream",
     "text": [
      "156it [00:01, 118.38it/s]\n",
      "100%|█████████████████████████████████████████████████████████| 46/46 [00:00<00:00, 159.29it/s]\n"
     ]
    },
    {
     "name": "stdout",
     "output_type": "stream",
     "text": [
      "Epoch: 456 | Training Loss: 0.2786646308616186  | Validation Loss: 1.0107408736063086  | Accuracy: 60.26\n"
     ]
    },
    {
     "name": "stderr",
     "output_type": "stream",
     "text": [
      "156it [00:01, 111.86it/s]\n",
      "100%|█████████████████████████████████████████████████████████| 46/46 [00:00<00:00, 157.02it/s]\n"
     ]
    },
    {
     "name": "stdout",
     "output_type": "stream",
     "text": [
      "Epoch: 457 | Training Loss: 0.28262909912528134  | Validation Loss: 1.0592409592607748  | Accuracy: 59.48\n"
     ]
    },
    {
     "name": "stderr",
     "output_type": "stream",
     "text": [
      "156it [00:01, 122.68it/s]\n",
      "100%|█████████████████████████████████████████████████████████| 46/46 [00:00<00:00, 158.57it/s]\n"
     ]
    },
    {
     "name": "stdout",
     "output_type": "stream",
     "text": [
      "Epoch: 458 | Training Loss: 0.2787995732938632  | Validation Loss: 0.9392967871997667  | Accuracy: 60.41\n"
     ]
    },
    {
     "name": "stderr",
     "output_type": "stream",
     "text": [
      "156it [00:01, 113.27it/s]\n",
      "100%|█████████████████████████████████████████████████████████| 46/46 [00:00<00:00, 153.59it/s]\n"
     ]
    },
    {
     "name": "stdout",
     "output_type": "stream",
     "text": [
      "Epoch: 459 | Training Loss: 0.28647602922641313  | Validation Loss: 1.0000623322051505  | Accuracy: 59.00\n"
     ]
    },
    {
     "name": "stderr",
     "output_type": "stream",
     "text": [
      "156it [00:01, 113.51it/s]\n",
      "100%|█████████████████████████████████████████████████████████| 46/46 [00:00<00:00, 153.07it/s]\n"
     ]
    },
    {
     "name": "stdout",
     "output_type": "stream",
     "text": [
      "Epoch: 460 | Training Loss: 0.27873767683139217  | Validation Loss: 0.96297229891238  | Accuracy: 60.29\n"
     ]
    },
    {
     "name": "stderr",
     "output_type": "stream",
     "text": [
      "156it [00:01, 116.97it/s]\n",
      "100%|█████████████████████████████████████████████████████████| 46/46 [00:00<00:00, 156.22it/s]\n"
     ]
    },
    {
     "name": "stdout",
     "output_type": "stream",
     "text": [
      "Epoch: 461 | Training Loss: 0.27998626213043165  | Validation Loss: 0.9444327963435132  | Accuracy: 62.04\n"
     ]
    },
    {
     "name": "stderr",
     "output_type": "stream",
     "text": [
      "156it [00:01, 112.72it/s]\n",
      "100%|█████████████████████████████████████████████████████████| 46/46 [00:00<00:00, 160.13it/s]\n"
     ]
    },
    {
     "name": "stdout",
     "output_type": "stream",
     "text": [
      "Epoch: 462 | Training Loss: 0.276294829753729  | Validation Loss: 0.9738876301309337  | Accuracy: 60.87\n"
     ]
    },
    {
     "name": "stderr",
     "output_type": "stream",
     "text": [
      "156it [00:01, 115.58it/s]\n",
      "100%|█████████████████████████████████████████████████████████| 46/46 [00:00<00:00, 200.05it/s]\n"
     ]
    },
    {
     "name": "stdout",
     "output_type": "stream",
     "text": [
      "Epoch: 463 | Training Loss: 0.2813026543993216  | Validation Loss: 0.9732310590536698  | Accuracy: 61.43\n"
     ]
    },
    {
     "name": "stderr",
     "output_type": "stream",
     "text": [
      "156it [00:01, 113.60it/s]\n",
      "100%|█████████████████████████████████████████████████████████| 46/46 [00:00<00:00, 152.94it/s]\n"
     ]
    },
    {
     "name": "stdout",
     "output_type": "stream",
     "text": [
      "Epoch: 464 | Training Loss: 0.2793956510722637  | Validation Loss: 0.9101548920507017  | Accuracy: 62.52\n"
     ]
    },
    {
     "name": "stderr",
     "output_type": "stream",
     "text": [
      "156it [00:01, 113.38it/s]\n",
      "100%|█████████████████████████████████████████████████████████| 46/46 [00:00<00:00, 154.12it/s]\n"
     ]
    },
    {
     "name": "stdout",
     "output_type": "stream",
     "text": [
      "Epoch: 465 | Training Loss: 0.2816110607714225  | Validation Loss: 0.9773245570452317  | Accuracy: 62.02\n"
     ]
    },
    {
     "name": "stderr",
     "output_type": "stream",
     "text": [
      "156it [00:01, 120.44it/s]\n",
      "100%|█████████████████████████████████████████████████████████| 46/46 [00:00<00:00, 166.16it/s]\n"
     ]
    },
    {
     "name": "stdout",
     "output_type": "stream",
     "text": [
      "Epoch: 466 | Training Loss: 0.2803201165336829  | Validation Loss: 0.983199998088505  | Accuracy: 60.41\n"
     ]
    },
    {
     "name": "stderr",
     "output_type": "stream",
     "text": [
      "156it [00:01, 116.73it/s]\n",
      "100%|█████████████████████████████████████████████████████████| 46/46 [00:00<00:00, 163.75it/s]\n"
     ]
    },
    {
     "name": "stdout",
     "output_type": "stream",
     "text": [
      "Epoch: 467 | Training Loss: 0.2826319332115161  | Validation Loss: 1.02250590790873  | Accuracy: 59.41\n"
     ]
    },
    {
     "name": "stderr",
     "output_type": "stream",
     "text": [
      "156it [00:01, 116.37it/s]\n",
      "100%|█████████████████████████████████████████████████████████| 46/46 [00:00<00:00, 176.49it/s]\n"
     ]
    },
    {
     "name": "stdout",
     "output_type": "stream",
     "text": [
      "Epoch: 468 | Training Loss: 0.2807388875920039  | Validation Loss: 1.0979739388693934  | Accuracy: 58.70\n"
     ]
    },
    {
     "name": "stderr",
     "output_type": "stream",
     "text": [
      "156it [00:01, 117.35it/s]\n",
      "100%|█████████████████████████████████████████████████████████| 46/46 [00:00<00:00, 157.31it/s]\n"
     ]
    },
    {
     "name": "stdout",
     "output_type": "stream",
     "text": [
      "Epoch: 469 | Training Loss: 0.2827508501135386  | Validation Loss: 0.9343089707519697  | Accuracy: 60.72\n"
     ]
    },
    {
     "name": "stderr",
     "output_type": "stream",
     "text": [
      "156it [00:01, 115.16it/s]\n",
      "100%|█████████████████████████████████████████████████████████| 46/46 [00:00<00:00, 156.93it/s]\n"
     ]
    },
    {
     "name": "stdout",
     "output_type": "stream",
     "text": [
      "Epoch: 470 | Training Loss: 0.282230366116915  | Validation Loss: 1.047258242316868  | Accuracy: 59.71\n"
     ]
    },
    {
     "name": "stderr",
     "output_type": "stream",
     "text": [
      "156it [00:01, 121.24it/s]\n",
      "100%|█████████████████████████████████████████████████████████| 46/46 [00:00<00:00, 165.29it/s]\n"
     ]
    },
    {
     "name": "stdout",
     "output_type": "stream",
     "text": [
      "Epoch: 471 | Training Loss: 0.2754269966330284  | Validation Loss: 1.0310032873050026  | Accuracy: 60.92\n"
     ]
    },
    {
     "name": "stderr",
     "output_type": "stream",
     "text": [
      "156it [00:01, 119.00it/s]\n",
      "100%|█████████████████████████████████████████████████████████| 46/46 [00:00<00:00, 162.11it/s]\n"
     ]
    },
    {
     "name": "stdout",
     "output_type": "stream",
     "text": [
      "Epoch: 472 | Training Loss: 0.28106544176355386  | Validation Loss: 1.0679347074550132  | Accuracy: 60.19\n"
     ]
    },
    {
     "name": "stderr",
     "output_type": "stream",
     "text": [
      "156it [00:01, 118.44it/s]\n",
      "100%|█████████████████████████████████████████████████████████| 46/46 [00:00<00:00, 163.61it/s]\n"
     ]
    },
    {
     "name": "stdout",
     "output_type": "stream",
     "text": [
      "Epoch: 473 | Training Loss: 0.2789307664602231  | Validation Loss: 1.0410867411157358  | Accuracy: 60.73\n"
     ]
    },
    {
     "name": "stderr",
     "output_type": "stream",
     "text": [
      "156it [00:01, 120.59it/s]\n",
      "100%|█████████████████████████████████████████████████████████| 46/46 [00:00<00:00, 157.34it/s]\n"
     ]
    },
    {
     "name": "stdout",
     "output_type": "stream",
     "text": [
      "Epoch: 474 | Training Loss: 0.28115722049887365  | Validation Loss: 1.0552890028642572  | Accuracy: 59.87\n"
     ]
    },
    {
     "name": "stderr",
     "output_type": "stream",
     "text": [
      "156it [00:01, 118.03it/s]\n",
      "100%|█████████████████████████████████████████████████████████| 46/46 [00:00<00:00, 156.54it/s]\n"
     ]
    },
    {
     "name": "stdout",
     "output_type": "stream",
     "text": [
      "Epoch: 475 | Training Loss: 0.28146539150904387  | Validation Loss: 1.1340205993341363  | Accuracy: 59.10\n"
     ]
    },
    {
     "name": "stderr",
     "output_type": "stream",
     "text": [
      "156it [00:01, 122.86it/s]\n",
      "100%|█████████████████████████████████████████████████████████| 46/46 [00:00<00:00, 162.39it/s]\n"
     ]
    },
    {
     "name": "stdout",
     "output_type": "stream",
     "text": [
      "Epoch: 476 | Training Loss: 0.2840118578229195  | Validation Loss: 1.0947862241579138  | Accuracy: 58.70\n"
     ]
    },
    {
     "name": "stderr",
     "output_type": "stream",
     "text": [
      "156it [00:01, 117.52it/s]\n",
      "100%|█████████████████████████████████████████████████████████| 46/46 [00:00<00:00, 163.13it/s]\n"
     ]
    },
    {
     "name": "stdout",
     "output_type": "stream",
     "text": [
      "Epoch: 477 | Training Loss: 0.28295994187012696  | Validation Loss: 1.122319703516753  | Accuracy: 58.64\n"
     ]
    },
    {
     "name": "stderr",
     "output_type": "stream",
     "text": [
      "156it [00:01, 116.77it/s]\n",
      "100%|█████████████████████████████████████████████████████████| 46/46 [00:00<00:00, 155.76it/s]\n"
     ]
    },
    {
     "name": "stdout",
     "output_type": "stream",
     "text": [
      "Epoch: 478 | Training Loss: 0.28056723099106395  | Validation Loss: 1.0262500993583514  | Accuracy: 61.16\n"
     ]
    },
    {
     "name": "stderr",
     "output_type": "stream",
     "text": [
      "156it [00:01, 122.05it/s]\n",
      "100%|█████████████████████████████████████████████████████████| 46/46 [00:00<00:00, 158.00it/s]\n"
     ]
    },
    {
     "name": "stdout",
     "output_type": "stream",
     "text": [
      "Epoch: 479 | Training Loss: 0.27963749882884514  | Validation Loss: 0.9547133614187655  | Accuracy: 61.40\n"
     ]
    },
    {
     "name": "stderr",
     "output_type": "stream",
     "text": [
      "156it [00:01, 114.19it/s]\n",
      "100%|█████████████████████████████████████████████████████████| 46/46 [00:00<00:00, 158.92it/s]\n"
     ]
    },
    {
     "name": "stdout",
     "output_type": "stream",
     "text": [
      "Epoch: 480 | Training Loss: 0.2833321765065193  | Validation Loss: 1.0140104241993115  | Accuracy: 59.36\n"
     ]
    },
    {
     "name": "stderr",
     "output_type": "stream",
     "text": [
      "156it [00:01, 117.80it/s]\n",
      "100%|█████████████████████████████████████████████████████████| 46/46 [00:00<00:00, 170.61it/s]\n"
     ]
    },
    {
     "name": "stdout",
     "output_type": "stream",
     "text": [
      "Epoch: 481 | Training Loss: 0.2858322544548756  | Validation Loss: 0.9237704652806987  | Accuracy: 61.85\n"
     ]
    },
    {
     "name": "stderr",
     "output_type": "stream",
     "text": [
      "156it [00:01, 114.59it/s]\n",
      "100%|█████████████████████████████████████████████████████████| 46/46 [00:00<00:00, 160.17it/s]\n"
     ]
    },
    {
     "name": "stdout",
     "output_type": "stream",
     "text": [
      "Epoch: 482 | Training Loss: 0.2877394965825937  | Validation Loss: 0.9213878019996311  | Accuracy: 62.13\n"
     ]
    },
    {
     "name": "stderr",
     "output_type": "stream",
     "text": [
      "156it [00:01, 114.39it/s]\n",
      "100%|█████████████████████████████████████████████████████████| 46/46 [00:00<00:00, 160.56it/s]\n"
     ]
    },
    {
     "name": "stdout",
     "output_type": "stream",
     "text": [
      "Epoch: 483 | Training Loss: 0.283568634914282  | Validation Loss: 1.0205025815445443  | Accuracy: 60.04\n"
     ]
    },
    {
     "name": "stderr",
     "output_type": "stream",
     "text": [
      "156it [00:01, 120.81it/s]\n",
      "100%|█████████████████████████████████████████████████████████| 46/46 [00:00<00:00, 158.46it/s]\n"
     ]
    },
    {
     "name": "stdout",
     "output_type": "stream",
     "text": [
      "Epoch: 484 | Training Loss: 0.2794364275267491  | Validation Loss: 1.0362792805485104  | Accuracy: 59.58\n"
     ]
    },
    {
     "name": "stderr",
     "output_type": "stream",
     "text": [
      "156it [00:01, 113.96it/s]\n",
      "100%|█████████████████████████████████████████████████████████| 46/46 [00:00<00:00, 160.09it/s]\n"
     ]
    },
    {
     "name": "stdout",
     "output_type": "stream",
     "text": [
      "Epoch: 485 | Training Loss: 0.28517316692532635  | Validation Loss: 1.1604977988678475  | Accuracy: 58.95\n"
     ]
    },
    {
     "name": "stderr",
     "output_type": "stream",
     "text": [
      "156it [00:01, 114.08it/s]\n",
      "100%|█████████████████████████████████████████████████████████| 46/46 [00:00<00:00, 187.95it/s]\n"
     ]
    },
    {
     "name": "stdout",
     "output_type": "stream",
     "text": [
      "Epoch: 486 | Training Loss: 0.2789309585514741  | Validation Loss: 1.069302324367606  | Accuracy: 60.38\n"
     ]
    },
    {
     "name": "stderr",
     "output_type": "stream",
     "text": [
      "156it [00:01, 112.80it/s]\n",
      "100%|█████████████████████████████████████████████████████████| 46/46 [00:00<00:00, 158.33it/s]\n"
     ]
    },
    {
     "name": "stdout",
     "output_type": "stream",
     "text": [
      "Epoch: 487 | Training Loss: 0.2832844187624944  | Validation Loss: 1.0465347896451536  | Accuracy: 60.11\n"
     ]
    },
    {
     "name": "stderr",
     "output_type": "stream",
     "text": [
      "156it [00:01, 114.59it/s]\n",
      "100%|█████████████████████████████████████████████████████████| 46/46 [00:00<00:00, 159.63it/s]\n"
     ]
    },
    {
     "name": "stdout",
     "output_type": "stream",
     "text": [
      "Epoch: 488 | Training Loss: 0.2809807189190999  | Validation Loss: 0.9560604225034299  | Accuracy: 60.16\n"
     ]
    },
    {
     "name": "stderr",
     "output_type": "stream",
     "text": [
      "156it [00:01, 118.51it/s]\n",
      "100%|█████████████████████████████████████████████████████████| 46/46 [00:00<00:00, 160.89it/s]\n"
     ]
    },
    {
     "name": "stdout",
     "output_type": "stream",
     "text": [
      "Epoch: 489 | Training Loss: 0.2819062693951986  | Validation Loss: 0.9947161208028379  | Accuracy: 61.04\n"
     ]
    },
    {
     "name": "stderr",
     "output_type": "stream",
     "text": [
      "156it [00:01, 115.00it/s]\n",
      "100%|█████████████████████████████████████████████████████████| 46/46 [00:00<00:00, 154.09it/s]\n"
     ]
    },
    {
     "name": "stdout",
     "output_type": "stream",
     "text": [
      "Epoch: 490 | Training Loss: 0.2828491310087534  | Validation Loss: 0.9746142561021058  | Accuracy: 60.63\n"
     ]
    },
    {
     "name": "stderr",
     "output_type": "stream",
     "text": [
      "156it [00:01, 116.86it/s]\n",
      "100%|█████████████████████████████████████████████████████████| 46/46 [00:00<00:00, 158.54it/s]\n"
     ]
    },
    {
     "name": "stdout",
     "output_type": "stream",
     "text": [
      "Epoch: 491 | Training Loss: 0.2801929048429697  | Validation Loss: 1.0916687833226246  | Accuracy: 58.00\n"
     ]
    },
    {
     "name": "stderr",
     "output_type": "stream",
     "text": [
      "156it [00:01, 122.11it/s]\n",
      "100%|█████████████████████████████████████████████████████████| 46/46 [00:00<00:00, 153.21it/s]\n"
     ]
    },
    {
     "name": "stdout",
     "output_type": "stream",
     "text": [
      "Epoch: 492 | Training Loss: 0.28355553918159926  | Validation Loss: 0.9695246867511583  | Accuracy: 61.31\n"
     ]
    },
    {
     "name": "stderr",
     "output_type": "stream",
     "text": [
      "156it [00:01, 116.47it/s]\n",
      "100%|█████████████████████████████████████████████████████████| 46/46 [00:00<00:00, 158.86it/s]\n"
     ]
    },
    {
     "name": "stdout",
     "output_type": "stream",
     "text": [
      "Epoch: 493 | Training Loss: 0.28133272990966457  | Validation Loss: 0.9384677176890166  | Accuracy: 61.07\n"
     ]
    },
    {
     "name": "stderr",
     "output_type": "stream",
     "text": [
      "156it [00:01, 120.38it/s]\n",
      "100%|█████████████████████████████████████████████████████████| 46/46 [00:00<00:00, 158.77it/s]\n"
     ]
    },
    {
     "name": "stdout",
     "output_type": "stream",
     "text": [
      "Epoch: 494 | Training Loss: 0.2814742265603481  | Validation Loss: 0.9751303182995837  | Accuracy: 60.19\n"
     ]
    },
    {
     "name": "stderr",
     "output_type": "stream",
     "text": [
      "156it [00:01, 113.82it/s]\n",
      "100%|█████████████████████████████████████████████████████████| 46/46 [00:00<00:00, 156.42it/s]\n"
     ]
    },
    {
     "name": "stdout",
     "output_type": "stream",
     "text": [
      "Epoch: 495 | Training Loss: 0.2801670339436103  | Validation Loss: 0.9977714587812838  | Accuracy: 60.56\n"
     ]
    },
    {
     "name": "stderr",
     "output_type": "stream",
     "text": [
      "156it [00:01, 114.63it/s]\n",
      "100%|█████████████████████████████████████████████████████████| 46/46 [00:00<00:00, 143.06it/s]\n"
     ]
    },
    {
     "name": "stdout",
     "output_type": "stream",
     "text": [
      "Epoch: 496 | Training Loss: 0.28043707297780573  | Validation Loss: 0.9777983880561331  | Accuracy: 60.43\n"
     ]
    },
    {
     "name": "stderr",
     "output_type": "stream",
     "text": [
      "156it [00:01, 121.51it/s]\n",
      "100%|█████████████████████████████████████████████████████████| 46/46 [00:00<00:00, 144.09it/s]\n"
     ]
    },
    {
     "name": "stdout",
     "output_type": "stream",
     "text": [
      "Epoch: 497 | Training Loss: 0.27882693564662564  | Validation Loss: 0.9391593803530154  | Accuracy: 61.07\n"
     ]
    },
    {
     "name": "stderr",
     "output_type": "stream",
     "text": [
      "156it [00:01, 115.44it/s]\n",
      "100%|█████████████████████████████████████████████████████████| 46/46 [00:00<00:00, 143.73it/s]\n"
     ]
    },
    {
     "name": "stdout",
     "output_type": "stream",
     "text": [
      "Epoch: 498 | Training Loss: 0.2729043158201071  | Validation Loss: 1.016858538855677  | Accuracy: 60.36\n"
     ]
    },
    {
     "name": "stderr",
     "output_type": "stream",
     "text": [
      "156it [00:01, 118.80it/s]\n",
      "100%|█████████████████████████████████████████████████████████| 46/46 [00:00<00:00, 169.87it/s]\n"
     ]
    },
    {
     "name": "stdout",
     "output_type": "stream",
     "text": [
      "Epoch: 499 | Training Loss: 0.28568414598703384  | Validation Loss: 0.913819696592248  | Accuracy: 62.91\n"
     ]
    },
    {
     "name": "stderr",
     "output_type": "stream",
     "text": [
      "156it [00:01, 114.62it/s]\n",
      "100%|█████████████████████████████████████████████████████████| 46/46 [00:00<00:00, 144.22it/s]\n"
     ]
    },
    {
     "name": "stdout",
     "output_type": "stream",
     "text": [
      "Epoch: 500 | Training Loss: 0.2779567232116675  | Validation Loss: 1.0158470882021862  | Accuracy: 60.51\n"
     ]
    },
    {
     "name": "stderr",
     "output_type": "stream",
     "text": [
      "156it [00:01, 114.62it/s]\n",
      "100%|█████████████████████████████████████████████████████████| 46/46 [00:00<00:00, 142.94it/s]\n"
     ]
    },
    {
     "name": "stdout",
     "output_type": "stream",
     "text": [
      "Epoch: 501 | Training Loss: 0.28075505793094635  | Validation Loss: 1.040919331104859  | Accuracy: 60.41\n"
     ]
    },
    {
     "name": "stderr",
     "output_type": "stream",
     "text": [
      "156it [00:01, 120.19it/s]\n",
      "100%|█████████████████████████████████████████████████████████| 46/46 [00:00<00:00, 160.34it/s]\n"
     ]
    },
    {
     "name": "stdout",
     "output_type": "stream",
     "text": [
      "Epoch: 502 | Training Loss: 0.2803084936279517  | Validation Loss: 0.988734298426172  | Accuracy: 61.82\n"
     ]
    },
    {
     "name": "stderr",
     "output_type": "stream",
     "text": [
      "156it [00:01, 114.40it/s]\n",
      "100%|█████████████████████████████████████████████████████████| 46/46 [00:00<00:00, 156.75it/s]\n"
     ]
    },
    {
     "name": "stdout",
     "output_type": "stream",
     "text": [
      "Epoch: 503 | Training Loss: 0.28347791979710263  | Validation Loss: 1.053115348453107  | Accuracy: 59.26\n"
     ]
    },
    {
     "name": "stderr",
     "output_type": "stream",
     "text": [
      "156it [00:01, 116.46it/s]\n",
      "100%|█████████████████████████████████████████████████████████| 46/46 [00:00<00:00, 190.78it/s]\n"
     ]
    },
    {
     "name": "stdout",
     "output_type": "stream",
     "text": [
      "Epoch: 504 | Training Loss: 0.2803404087630602  | Validation Loss: 1.004544374735459  | Accuracy: 60.11\n"
     ]
    },
    {
     "name": "stderr",
     "output_type": "stream",
     "text": [
      "156it [00:01, 114.17it/s]\n",
      "100%|█████████████████████████████████████████████████████████| 46/46 [00:00<00:00, 156.69it/s]\n"
     ]
    },
    {
     "name": "stdout",
     "output_type": "stream",
     "text": [
      "Epoch: 505 | Training Loss: 0.2807591662575037  | Validation Loss: 0.9306430350179258  | Accuracy: 62.64\n"
     ]
    },
    {
     "name": "stderr",
     "output_type": "stream",
     "text": [
      "156it [00:01, 115.50it/s]\n",
      "100%|█████████████████████████████████████████████████████████| 46/46 [00:00<00:00, 155.47it/s]\n"
     ]
    },
    {
     "name": "stdout",
     "output_type": "stream",
     "text": [
      "Epoch: 506 | Training Loss: 0.2792877988555493  | Validation Loss: 1.0116849736027096  | Accuracy: 59.71\n"
     ]
    },
    {
     "name": "stderr",
     "output_type": "stream",
     "text": [
      "156it [00:01, 118.48it/s]\n",
      "100%|█████████████████████████████████████████████████████████| 46/46 [00:00<00:00, 158.80it/s]\n"
     ]
    },
    {
     "name": "stdout",
     "output_type": "stream",
     "text": [
      "Epoch: 507 | Training Loss: 0.2867139053459351  | Validation Loss: 0.9591985448547031  | Accuracy: 60.34\n"
     ]
    },
    {
     "name": "stderr",
     "output_type": "stream",
     "text": [
      "156it [00:01, 115.07it/s]\n",
      "100%|█████████████████████████████████████████████████████████| 46/46 [00:00<00:00, 147.00it/s]\n"
     ]
    },
    {
     "name": "stdout",
     "output_type": "stream",
     "text": [
      "Epoch: 508 | Training Loss: 0.2774345755386047  | Validation Loss: 1.0995841039263683  | Accuracy: 58.90\n"
     ]
    },
    {
     "name": "stderr",
     "output_type": "stream",
     "text": [
      "156it [00:01, 114.23it/s]\n",
      "100%|█████████████████████████████████████████████████████████| 46/46 [00:00<00:00, 165.18it/s]\n"
     ]
    },
    {
     "name": "stdout",
     "output_type": "stream",
     "text": [
      "Epoch: 509 | Training Loss: 0.281293463630554  | Validation Loss: 0.9660341985847639  | Accuracy: 60.77\n"
     ]
    },
    {
     "name": "stderr",
     "output_type": "stream",
     "text": [
      "156it [00:01, 117.96it/s]\n",
      "100%|█████████████████████████████████████████████████████████| 46/46 [00:00<00:00, 156.12it/s]\n"
     ]
    },
    {
     "name": "stdout",
     "output_type": "stream",
     "text": [
      "Epoch: 510 | Training Loss: 0.28180814018616307  | Validation Loss: 0.9864785697149194  | Accuracy: 59.73\n"
     ]
    },
    {
     "name": "stderr",
     "output_type": "stream",
     "text": [
      "156it [00:01, 113.45it/s]\n",
      "100%|█████████████████████████████████████████████████████████| 46/46 [00:00<00:00, 160.70it/s]\n"
     ]
    },
    {
     "name": "stdout",
     "output_type": "stream",
     "text": [
      "Epoch: 511 | Training Loss: 0.28481299105363017  | Validation Loss: 0.9280222511809805  | Accuracy: 61.50\n"
     ]
    },
    {
     "name": "stderr",
     "output_type": "stream",
     "text": [
      "156it [00:01, 120.53it/s]\n",
      "100%|█████████████████████████████████████████████████████████| 46/46 [00:00<00:00, 142.39it/s]\n"
     ]
    },
    {
     "name": "stdout",
     "output_type": "stream",
     "text": [
      "Epoch: 512 | Training Loss: 0.2821100778304614  | Validation Loss: 1.1851424484149269  | Accuracy: 57.42\n"
     ]
    },
    {
     "name": "stderr",
     "output_type": "stream",
     "text": [
      "156it [00:01, 113.76it/s]\n",
      "100%|█████████████████████████████████████████████████████████| 46/46 [00:00<00:00, 160.41it/s]\n"
     ]
    },
    {
     "name": "stdout",
     "output_type": "stream",
     "text": [
      "Epoch: 513 | Training Loss: 0.2805075681744478  | Validation Loss: 1.0402823207171068  | Accuracy: 61.16\n"
     ]
    },
    {
     "name": "stderr",
     "output_type": "stream",
     "text": [
      "156it [00:01, 114.52it/s]\n",
      "100%|█████████████████████████████████████████████████████████| 46/46 [00:00<00:00, 159.04it/s]\n"
     ]
    },
    {
     "name": "stdout",
     "output_type": "stream",
     "text": [
      "Epoch: 514 | Training Loss: 0.28287847922780573  | Validation Loss: 1.0723886904509172  | Accuracy: 59.21\n"
     ]
    },
    {
     "name": "stderr",
     "output_type": "stream",
     "text": [
      "156it [00:01, 123.61it/s]\n",
      "100%|█████████████████████████████████████████████████████████| 46/46 [00:00<00:00, 152.78it/s]\n"
     ]
    },
    {
     "name": "stdout",
     "output_type": "stream",
     "text": [
      "Epoch: 515 | Training Loss: 0.2828460820974448  | Validation Loss: 0.91034822360329  | Accuracy: 62.48\n"
     ]
    },
    {
     "name": "stderr",
     "output_type": "stream",
     "text": [
      "156it [00:01, 112.72it/s]\n",
      "100%|█████████████████████████████████████████████████████████| 46/46 [00:00<00:00, 143.08it/s]\n"
     ]
    },
    {
     "name": "stdout",
     "output_type": "stream",
     "text": [
      "Epoch: 516 | Training Loss: 0.2830138301046995  | Validation Loss: 1.031211352866629  | Accuracy: 60.63\n"
     ]
    },
    {
     "name": "stderr",
     "output_type": "stream",
     "text": [
      "156it [00:01, 121.74it/s]\n",
      "100%|█████████████████████████████████████████████████████████| 46/46 [00:00<00:00, 168.09it/s]\n"
     ]
    },
    {
     "name": "stdout",
     "output_type": "stream",
     "text": [
      "Epoch: 517 | Training Loss: 0.2793725605767507  | Validation Loss: 0.9696337140124777  | Accuracy: 61.46\n"
     ]
    },
    {
     "name": "stderr",
     "output_type": "stream",
     "text": [
      "156it [00:01, 114.30it/s]\n",
      "100%|█████████████████████████████████████████████████████████| 46/46 [00:00<00:00, 157.57it/s]\n"
     ]
    },
    {
     "name": "stdout",
     "output_type": "stream",
     "text": [
      "Epoch: 518 | Training Loss: 0.27755238631596935  | Validation Loss: 0.8916082706140436  | Accuracy: 61.87\n"
     ]
    },
    {
     "name": "stderr",
     "output_type": "stream",
     "text": [
      "156it [00:01, 115.65it/s]\n",
      "100%|█████████████████████████████████████████████████████████| 46/46 [00:00<00:00, 156.83it/s]\n"
     ]
    },
    {
     "name": "stdout",
     "output_type": "stream",
     "text": [
      "Epoch: 519 | Training Loss: 0.28338996091714275  | Validation Loss: 1.0052263231381127  | Accuracy: 61.04\n"
     ]
    },
    {
     "name": "stderr",
     "output_type": "stream",
     "text": [
      "156it [00:01, 123.95it/s]\n",
      "100%|█████████████████████████████████████████████████████████| 46/46 [00:00<00:00, 163.34it/s]\n"
     ]
    },
    {
     "name": "stdout",
     "output_type": "stream",
     "text": [
      "Epoch: 520 | Training Loss: 0.2766191255396757  | Validation Loss: 0.9730856833250626  | Accuracy: 61.50\n"
     ]
    },
    {
     "name": "stderr",
     "output_type": "stream",
     "text": [
      "156it [00:01, 115.13it/s]\n",
      "100%|█████████████████████████████████████████████████████████| 46/46 [00:00<00:00, 151.01it/s]\n"
     ]
    },
    {
     "name": "stdout",
     "output_type": "stream",
     "text": [
      "Epoch: 521 | Training Loss: 0.2817331470358066  | Validation Loss: 0.9722162200056989  | Accuracy: 60.46\n"
     ]
    },
    {
     "name": "stderr",
     "output_type": "stream",
     "text": [
      "156it [00:01, 113.25it/s]\n",
      "100%|█████████████████████████████████████████████████████████| 46/46 [00:00<00:00, 192.24it/s]\n"
     ]
    },
    {
     "name": "stdout",
     "output_type": "stream",
     "text": [
      "Epoch: 522 | Training Loss: 0.28362643737823534  | Validation Loss: 0.9780533987542858  | Accuracy: 60.97\n"
     ]
    },
    {
     "name": "stderr",
     "output_type": "stream",
     "text": [
      "156it [00:01, 114.43it/s]\n",
      "100%|█████████████████████████████████████████████████████████| 46/46 [00:00<00:00, 158.07it/s]\n"
     ]
    },
    {
     "name": "stdout",
     "output_type": "stream",
     "text": [
      "Epoch: 523 | Training Loss: 0.28186396815073794  | Validation Loss: 1.086673933526744  | Accuracy: 59.95\n"
     ]
    },
    {
     "name": "stderr",
     "output_type": "stream",
     "text": [
      "156it [00:01, 114.60it/s]\n",
      "100%|█████████████████████████████████████████████████████████| 46/46 [00:00<00:00, 157.72it/s]\n"
     ]
    },
    {
     "name": "stdout",
     "output_type": "stream",
     "text": [
      "Epoch: 524 | Training Loss: 0.2840691619576552  | Validation Loss: 0.9747720503288767  | Accuracy: 61.28\n"
     ]
    },
    {
     "name": "stderr",
     "output_type": "stream",
     "text": [
      "156it [00:01, 122.23it/s]\n",
      "100%|█████████████████████████████████████████████████████████| 46/46 [00:00<00:00, 158.93it/s]\n"
     ]
    },
    {
     "name": "stdout",
     "output_type": "stream",
     "text": [
      "Epoch: 525 | Training Loss: 0.2762082932660213  | Validation Loss: 0.9592969521232273  | Accuracy: 61.91\n"
     ]
    },
    {
     "name": "stderr",
     "output_type": "stream",
     "text": [
      "156it [00:01, 115.96it/s]\n",
      "100%|█████████████████████████████████████████████████████████| 46/46 [00:00<00:00, 156.84it/s]\n"
     ]
    },
    {
     "name": "stdout",
     "output_type": "stream",
     "text": [
      "Epoch: 526 | Training Loss: 0.2816002512207398  | Validation Loss: 0.9182428847188535  | Accuracy: 61.96\n"
     ]
    },
    {
     "name": "stderr",
     "output_type": "stream",
     "text": [
      "156it [00:01, 118.04it/s]\n",
      "100%|█████████████████████████████████████████████████████████| 46/46 [00:00<00:00, 170.90it/s]\n"
     ]
    },
    {
     "name": "stdout",
     "output_type": "stream",
     "text": [
      "Epoch: 527 | Training Loss: 0.2797742477403237  | Validation Loss: 0.9412313907042794  | Accuracy: 61.82\n"
     ]
    },
    {
     "name": "stderr",
     "output_type": "stream",
     "text": [
      "156it [00:01, 121.38it/s]\n",
      "100%|█████████████████████████████████████████████████████████| 46/46 [00:00<00:00, 159.71it/s]\n"
     ]
    },
    {
     "name": "stdout",
     "output_type": "stream",
     "text": [
      "Epoch: 528 | Training Loss: 0.2811705015408687  | Validation Loss: 1.0017757610134457  | Accuracy: 61.21\n"
     ]
    },
    {
     "name": "stderr",
     "output_type": "stream",
     "text": [
      "156it [00:01, 117.41it/s]\n",
      "100%|█████████████████████████████████████████████████████████| 46/46 [00:00<00:00, 157.27it/s]\n"
     ]
    },
    {
     "name": "stdout",
     "output_type": "stream",
     "text": [
      "Epoch: 529 | Training Loss: 0.2836678421650177  | Validation Loss: 0.952241872963698  | Accuracy: 61.04\n"
     ]
    },
    {
     "name": "stderr",
     "output_type": "stream",
     "text": [
      "156it [00:01, 125.49it/s]\n",
      "100%|█████████████████████████████████████████████████████████| 46/46 [00:00<00:00, 153.61it/s]\n"
     ]
    },
    {
     "name": "stdout",
     "output_type": "stream",
     "text": [
      "Epoch: 530 | Training Loss: 0.2780489430595667  | Validation Loss: 1.0793620101783588  | Accuracy: 58.92\n"
     ]
    },
    {
     "name": "stderr",
     "output_type": "stream",
     "text": [
      "156it [00:01, 118.19it/s]\n",
      "100%|█████████████████████████████████████████████████████████| 46/46 [00:00<00:00, 155.95it/s]\n"
     ]
    },
    {
     "name": "stdout",
     "output_type": "stream",
     "text": [
      "Epoch: 531 | Training Loss: 0.28321954474235195  | Validation Loss: 0.9856214393740115  | Accuracy: 61.09\n"
     ]
    },
    {
     "name": "stderr",
     "output_type": "stream",
     "text": [
      "156it [00:01, 112.23it/s]\n",
      "100%|█████████████████████████████████████████████████████████| 46/46 [00:00<00:00, 154.43it/s]\n"
     ]
    },
    {
     "name": "stdout",
     "output_type": "stream",
     "text": [
      "Epoch: 532 | Training Loss: 0.2753519219083664  | Validation Loss: 1.0122029120507448  | Accuracy: 60.77\n"
     ]
    },
    {
     "name": "stderr",
     "output_type": "stream",
     "text": [
      "156it [00:01, 121.59it/s]\n",
      "100%|█████████████████████████████████████████████████████████| 46/46 [00:00<00:00, 158.70it/s]\n"
     ]
    },
    {
     "name": "stdout",
     "output_type": "stream",
     "text": [
      "Epoch: 533 | Training Loss: 0.28313978952475083  | Validation Loss: 1.003989964723587  | Accuracy: 60.72\n"
     ]
    },
    {
     "name": "stderr",
     "output_type": "stream",
     "text": [
      "156it [00:01, 115.88it/s]\n",
      "100%|█████████████████████████████████████████████████████████| 46/46 [00:00<00:00, 155.42it/s]\n"
     ]
    },
    {
     "name": "stdout",
     "output_type": "stream",
     "text": [
      "Epoch: 534 | Training Loss: 0.27759746643595207  | Validation Loss: 1.0011958065240278  | Accuracy: 60.68\n"
     ]
    },
    {
     "name": "stderr",
     "output_type": "stream",
     "text": [
      "156it [00:01, 122.87it/s]\n",
      "100%|█████████████████████████████████████████████████████████| 46/46 [00:00<00:00, 172.09it/s]\n"
     ]
    },
    {
     "name": "stdout",
     "output_type": "stream",
     "text": [
      "Epoch: 535 | Training Loss: 0.2839572151693014  | Validation Loss: 1.1096456037915272  | Accuracy: 59.15\n"
     ]
    },
    {
     "name": "stderr",
     "output_type": "stream",
     "text": [
      "156it [00:01, 115.27it/s]\n",
      "100%|█████████████████████████████████████████████████████████| 46/46 [00:00<00:00, 154.52it/s]\n"
     ]
    },
    {
     "name": "stdout",
     "output_type": "stream",
     "text": [
      "Epoch: 536 | Training Loss: 0.2838189466259418  | Validation Loss: 0.9938685479371444  | Accuracy: 60.60\n"
     ]
    },
    {
     "name": "stderr",
     "output_type": "stream",
     "text": [
      "156it [00:01, 119.28it/s]\n",
      "100%|█████████████████████████████████████████████████████████| 46/46 [00:00<00:00, 160.13it/s]\n"
     ]
    },
    {
     "name": "stdout",
     "output_type": "stream",
     "text": [
      "Epoch: 537 | Training Loss: 0.28252534033396304  | Validation Loss: 0.9477567970752716  | Accuracy: 62.02\n"
     ]
    },
    {
     "name": "stderr",
     "output_type": "stream",
     "text": [
      "156it [00:01, 122.07it/s]\n",
      "100%|█████████████████████████████████████████████████████████| 46/46 [00:00<00:00, 161.41it/s]\n"
     ]
    },
    {
     "name": "stdout",
     "output_type": "stream",
     "text": [
      "Epoch: 538 | Training Loss: 0.28647274046372145  | Validation Loss: 1.0584282939848693  | Accuracy: 59.73\n"
     ]
    },
    {
     "name": "stderr",
     "output_type": "stream",
     "text": [
      "156it [00:01, 114.45it/s]\n",
      "100%|█████████████████████████████████████████████████████████| 46/46 [00:00<00:00, 157.82it/s]\n"
     ]
    },
    {
     "name": "stdout",
     "output_type": "stream",
     "text": [
      "Epoch: 539 | Training Loss: 0.2803259525352564  | Validation Loss: 1.0368100067843562  | Accuracy: 59.95\n"
     ]
    },
    {
     "name": "stderr",
     "output_type": "stream",
     "text": [
      "156it [00:01, 115.90it/s]\n",
      "100%|█████████████████████████████████████████████████████████| 46/46 [00:00<00:00, 191.49it/s]\n"
     ]
    },
    {
     "name": "stdout",
     "output_type": "stream",
     "text": [
      "Epoch: 540 | Training Loss: 0.2788584187435798  | Validation Loss: 1.0142305039841195  | Accuracy: 61.09\n"
     ]
    },
    {
     "name": "stderr",
     "output_type": "stream",
     "text": [
      "156it [00:01, 114.04it/s]\n",
      "100%|█████████████████████████████████████████████████████████| 46/46 [00:00<00:00, 162.86it/s]\n"
     ]
    },
    {
     "name": "stdout",
     "output_type": "stream",
     "text": [
      "Epoch: 541 | Training Loss: 0.2840852436537926  | Validation Loss: 1.0652090764564017  | Accuracy: 58.70\n"
     ]
    },
    {
     "name": "stderr",
     "output_type": "stream",
     "text": [
      "156it [00:01, 115.90it/s]\n",
      "100%|█████████████████████████████████████████████████████████| 46/46 [00:00<00:00, 162.45it/s]\n"
     ]
    },
    {
     "name": "stdout",
     "output_type": "stream",
     "text": [
      "Epoch: 542 | Training Loss: 0.27912977796334487  | Validation Loss: 1.115917082713998  | Accuracy: 59.24\n"
     ]
    },
    {
     "name": "stderr",
     "output_type": "stream",
     "text": [
      "156it [00:01, 123.03it/s]\n",
      "100%|█████████████████████████████████████████████████████████| 46/46 [00:00<00:00, 157.78it/s]\n"
     ]
    },
    {
     "name": "stdout",
     "output_type": "stream",
     "text": [
      "Epoch: 543 | Training Loss: 0.27793932839846  | Validation Loss: 1.0826031267642975  | Accuracy: 58.37\n"
     ]
    },
    {
     "name": "stderr",
     "output_type": "stream",
     "text": [
      "156it [00:01, 118.33it/s]\n",
      "100%|█████████████████████████████████████████████████████████| 46/46 [00:00<00:00, 164.41it/s]\n"
     ]
    },
    {
     "name": "stdout",
     "output_type": "stream",
     "text": [
      "Epoch: 544 | Training Loss: 0.27524878399876446  | Validation Loss: 0.9689999650353971  | Accuracy: 61.70\n"
     ]
    },
    {
     "name": "stderr",
     "output_type": "stream",
     "text": [
      "156it [00:01, 115.60it/s]\n",
      "100%|█████████████████████████████████████████████████████████| 46/46 [00:00<00:00, 187.54it/s]\n"
     ]
    },
    {
     "name": "stdout",
     "output_type": "stream",
     "text": [
      "Epoch: 545 | Training Loss: 0.287041816000755  | Validation Loss: 1.1178658228853475  | Accuracy: 58.95\n"
     ]
    },
    {
     "name": "stderr",
     "output_type": "stream",
     "text": [
      "156it [00:01, 119.34it/s]\n",
      "100%|█████████████████████████████████████████████████████████| 46/46 [00:00<00:00, 161.30it/s]\n"
     ]
    },
    {
     "name": "stdout",
     "output_type": "stream",
     "text": [
      "Epoch: 546 | Training Loss: 0.27707914711955267  | Validation Loss: 0.989541373823  | Accuracy: 62.09\n"
     ]
    },
    {
     "name": "stderr",
     "output_type": "stream",
     "text": [
      "156it [00:01, 115.62it/s]\n",
      "100%|█████████████████████████████████████████████████████████| 46/46 [00:00<00:00, 166.02it/s]\n"
     ]
    },
    {
     "name": "stdout",
     "output_type": "stream",
     "text": [
      "Epoch: 547 | Training Loss: 0.27983381245762873  | Validation Loss: 0.9526394398316093  | Accuracy: 62.18\n"
     ]
    },
    {
     "name": "stderr",
     "output_type": "stream",
     "text": [
      "156it [00:01, 123.61it/s]\n",
      "100%|█████████████████████████████████████████████████████████| 46/46 [00:00<00:00, 155.04it/s]\n"
     ]
    },
    {
     "name": "stdout",
     "output_type": "stream",
     "text": [
      "Epoch: 548 | Training Loss: 0.27876710203977734  | Validation Loss: 0.9800556859244471  | Accuracy: 60.84\n"
     ]
    },
    {
     "name": "stderr",
     "output_type": "stream",
     "text": [
      "156it [00:01, 117.18it/s]\n",
      "100%|█████████████████████████████████████████████████████████| 46/46 [00:00<00:00, 162.83it/s]\n"
     ]
    },
    {
     "name": "stdout",
     "output_type": "stream",
     "text": [
      "Epoch: 549 | Training Loss: 0.27591390430163115  | Validation Loss: 0.9997067632882491  | Accuracy: 60.53\n"
     ]
    },
    {
     "name": "stderr",
     "output_type": "stream",
     "text": [
      "156it [00:01, 116.12it/s]\n",
      "100%|█████████████████████████████████████████████████████████| 46/46 [00:00<00:00, 161.76it/s]\n"
     ]
    },
    {
     "name": "stdout",
     "output_type": "stream",
     "text": [
      "Epoch: 550 | Training Loss: 0.2810443019828735  | Validation Loss: 1.1035789510478144  | Accuracy: 59.12\n"
     ]
    },
    {
     "name": "stderr",
     "output_type": "stream",
     "text": [
      "156it [00:01, 123.42it/s]\n",
      "100%|█████████████████████████████████████████████████████████| 46/46 [00:00<00:00, 162.02it/s]\n"
     ]
    },
    {
     "name": "stdout",
     "output_type": "stream",
     "text": [
      "Epoch: 551 | Training Loss: 0.28094092336220616  | Validation Loss: 1.1390047086321788  | Accuracy: 57.91\n"
     ]
    },
    {
     "name": "stderr",
     "output_type": "stream",
     "text": [
      "156it [00:01, 115.18it/s]\n",
      "100%|█████████████████████████████████████████████████████████| 46/46 [00:00<00:00, 162.35it/s]\n"
     ]
    },
    {
     "name": "stdout",
     "output_type": "stream",
     "text": [
      "Epoch: 552 | Training Loss: 0.2822032378843197  | Validation Loss: 1.0415518879890442  | Accuracy: 59.43\n"
     ]
    },
    {
     "name": "stderr",
     "output_type": "stream",
     "text": [
      "156it [00:01, 119.27it/s]\n",
      "100%|█████████████████████████████████████████████████████████| 46/46 [00:00<00:00, 182.94it/s]\n"
     ]
    },
    {
     "name": "stdout",
     "output_type": "stream",
     "text": [
      "Epoch: 553 | Training Loss: 0.27636806504466593  | Validation Loss: 0.9854033369085063  | Accuracy: 60.63\n"
     ]
    },
    {
     "name": "stderr",
     "output_type": "stream",
     "text": [
      "156it [00:01, 116.42it/s]\n",
      "100%|█████████████████████████████████████████████████████████| 46/46 [00:00<00:00, 162.33it/s]\n"
     ]
    },
    {
     "name": "stdout",
     "output_type": "stream",
     "text": [
      "Epoch: 554 | Training Loss: 0.28272847649760735  | Validation Loss: 1.0569112313830333  | Accuracy: 60.09\n"
     ]
    },
    {
     "name": "stderr",
     "output_type": "stream",
     "text": [
      "156it [00:01, 115.43it/s]\n",
      "100%|█████████████████████████████████████████████████████████| 46/46 [00:00<00:00, 161.28it/s]\n"
     ]
    },
    {
     "name": "stdout",
     "output_type": "stream",
     "text": [
      "Epoch: 555 | Training Loss: 0.2818860088785489  | Validation Loss: 1.2746266074802564  | Accuracy: 57.34\n"
     ]
    },
    {
     "name": "stderr",
     "output_type": "stream",
     "text": [
      "156it [00:01, 123.21it/s]\n",
      "100%|█████████████████████████████████████████████████████████| 46/46 [00:00<00:00, 160.11it/s]\n"
     ]
    },
    {
     "name": "stdout",
     "output_type": "stream",
     "text": [
      "Epoch: 556 | Training Loss: 0.27200804373774773  | Validation Loss: 1.0105721639550251  | Accuracy: 61.09\n"
     ]
    },
    {
     "name": "stderr",
     "output_type": "stream",
     "text": [
      "156it [00:01, 116.42it/s]\n",
      "100%|█████████████████████████████████████████████████████████| 46/46 [00:00<00:00, 165.39it/s]\n"
     ]
    },
    {
     "name": "stdout",
     "output_type": "stream",
     "text": [
      "Epoch: 557 | Training Loss: 0.28500787417093915  | Validation Loss: 0.8875335208747698  | Accuracy: 62.74\n"
     ]
    },
    {
     "name": "stderr",
     "output_type": "stream",
     "text": [
      "156it [00:01, 115.81it/s]\n",
      "100%|█████████████████████████████████████████████████████████| 46/46 [00:00<00:00, 184.80it/s]\n"
     ]
    },
    {
     "name": "stdout",
     "output_type": "stream",
     "text": [
      "Epoch: 558 | Training Loss: 0.28214447209850335  | Validation Loss: 0.9367286433344302  | Accuracy: 62.33\n"
     ]
    },
    {
     "name": "stderr",
     "output_type": "stream",
     "text": [
      "156it [00:01, 118.30it/s]\n",
      "100%|█████████████████████████████████████████████████████████| 46/46 [00:00<00:00, 153.61it/s]\n"
     ]
    },
    {
     "name": "stdout",
     "output_type": "stream",
     "text": [
      "Epoch: 559 | Training Loss: 0.28209688036869734  | Validation Loss: 0.9712738265161929  | Accuracy: 61.09\n"
     ]
    },
    {
     "name": "stderr",
     "output_type": "stream",
     "text": [
      "156it [00:01, 116.88it/s]\n",
      "100%|█████████████████████████████████████████████████████████| 46/46 [00:00<00:00, 165.14it/s]\n"
     ]
    },
    {
     "name": "stdout",
     "output_type": "stream",
     "text": [
      "Epoch: 560 | Training Loss: 0.27655709544435525  | Validation Loss: 1.0503794369490251  | Accuracy: 59.78\n"
     ]
    },
    {
     "name": "stderr",
     "output_type": "stream",
     "text": [
      "156it [00:01, 122.09it/s]\n",
      "100%|█████████████████████████████████████████████████████████| 46/46 [00:00<00:00, 163.66it/s]\n"
     ]
    },
    {
     "name": "stdout",
     "output_type": "stream",
     "text": [
      "Epoch: 561 | Training Loss: 0.2809143812419512  | Validation Loss: 0.9747135885383772  | Accuracy: 60.77\n"
     ]
    },
    {
     "name": "stderr",
     "output_type": "stream",
     "text": [
      "156it [00:01, 116.46it/s]\n",
      "100%|█████████████████████████████████████████████████████████| 46/46 [00:00<00:00, 162.66it/s]\n"
     ]
    },
    {
     "name": "stdout",
     "output_type": "stream",
     "text": [
      "Epoch: 562 | Training Loss: 0.278147113437836  | Validation Loss: 0.9339005117831023  | Accuracy: 61.26\n"
     ]
    },
    {
     "name": "stderr",
     "output_type": "stream",
     "text": [
      "156it [00:01, 117.24it/s]\n",
      "100%|█████████████████████████████████████████████████████████| 46/46 [00:00<00:00, 162.30it/s]\n"
     ]
    },
    {
     "name": "stdout",
     "output_type": "stream",
     "text": [
      "Epoch: 563 | Training Loss: 0.28100272172536606  | Validation Loss: 0.9990692605143008  | Accuracy: 60.61\n"
     ]
    },
    {
     "name": "stderr",
     "output_type": "stream",
     "text": [
      "156it [00:01, 123.94it/s]\n",
      "100%|█████████████████████████████████████████████████████████| 46/46 [00:00<00:00, 152.63it/s]\n"
     ]
    },
    {
     "name": "stdout",
     "output_type": "stream",
     "text": [
      "Epoch: 564 | Training Loss: 0.2808316139838634  | Validation Loss: 1.0495999416579371  | Accuracy: 59.10\n"
     ]
    },
    {
     "name": "stderr",
     "output_type": "stream",
     "text": [
      "156it [00:01, 116.29it/s]\n",
      "100%|█████████████████████████████████████████████████████████| 46/46 [00:00<00:00, 161.11it/s]\n"
     ]
    },
    {
     "name": "stdout",
     "output_type": "stream",
     "text": [
      "Epoch: 565 | Training Loss: 0.2842574928624508  | Validation Loss: 1.0281262851279716  | Accuracy: 60.65\n"
     ]
    },
    {
     "name": "stderr",
     "output_type": "stream",
     "text": [
      "156it [00:01, 123.04it/s]\n",
      "100%|█████████████████████████████████████████████████████████| 46/46 [00:00<00:00, 168.86it/s]\n"
     ]
    },
    {
     "name": "stdout",
     "output_type": "stream",
     "text": [
      "Epoch: 566 | Training Loss: 0.28162145738800365  | Validation Loss: 1.1266785497250764  | Accuracy: 58.92\n"
     ]
    },
    {
     "name": "stderr",
     "output_type": "stream",
     "text": [
      "156it [00:01, 115.43it/s]\n",
      "100%|█████████████████████████████████████████████████████████| 46/46 [00:00<00:00, 154.88it/s]\n"
     ]
    },
    {
     "name": "stdout",
     "output_type": "stream",
     "text": [
      "Epoch: 567 | Training Loss: 0.2796261593317374  | Validation Loss: 1.2306785687156345  | Accuracy: 57.68\n"
     ]
    },
    {
     "name": "stderr",
     "output_type": "stream",
     "text": [
      "156it [00:01, 115.49it/s]\n",
      "100%|█████████████████████████████████████████████████████████| 46/46 [00:00<00:00, 159.17it/s]\n"
     ]
    },
    {
     "name": "stdout",
     "output_type": "stream",
     "text": [
      "Epoch: 568 | Training Loss: 0.2860170376415436  | Validation Loss: 1.0413078756436058  | Accuracy: 60.24\n"
     ]
    },
    {
     "name": "stderr",
     "output_type": "stream",
     "text": [
      "156it [00:01, 122.00it/s]\n",
      "100%|█████████████████████████████████████████████████████████| 46/46 [00:00<00:00, 161.59it/s]\n"
     ]
    },
    {
     "name": "stdout",
     "output_type": "stream",
     "text": [
      "Epoch: 569 | Training Loss: 0.27563461479850304  | Validation Loss: 1.1374138528886049  | Accuracy: 58.34\n"
     ]
    },
    {
     "name": "stderr",
     "output_type": "stream",
     "text": [
      "156it [00:01, 115.56it/s]\n",
      "100%|█████████████████████████████████████████████████████████| 46/46 [00:00<00:00, 157.87it/s]\n"
     ]
    },
    {
     "name": "stdout",
     "output_type": "stream",
     "text": [
      "Epoch: 570 | Training Loss: 0.27782052067609936  | Validation Loss: 1.049758405789085  | Accuracy: 59.22\n"
     ]
    },
    {
     "name": "stderr",
     "output_type": "stream",
     "text": [
      "156it [00:01, 116.86it/s]\n",
      "100%|█████████████████████████████████████████████████████████| 46/46 [00:00<00:00, 207.69it/s]\n"
     ]
    },
    {
     "name": "stdout",
     "output_type": "stream",
     "text": [
      "Epoch: 571 | Training Loss: 0.2851581662320174  | Validation Loss: 0.9631098949390909  | Accuracy: 60.82\n"
     ]
    },
    {
     "name": "stderr",
     "output_type": "stream",
     "text": [
      "156it [00:01, 115.81it/s]\n",
      "100%|█████████████████████████████████████████████████████████| 46/46 [00:00<00:00, 164.72it/s]\n"
     ]
    },
    {
     "name": "stdout",
     "output_type": "stream",
     "text": [
      "Epoch: 572 | Training Loss: 0.27883584262468875  | Validation Loss: 0.9280230053093123  | Accuracy: 62.42\n"
     ]
    },
    {
     "name": "stderr",
     "output_type": "stream",
     "text": [
      "156it [00:01, 116.34it/s]\n",
      "100%|█████████████████████████████████████████████████████████| 46/46 [00:00<00:00, 164.08it/s]\n"
     ]
    },
    {
     "name": "stdout",
     "output_type": "stream",
     "text": [
      "Epoch: 573 | Training Loss: 0.2821722002938772  | Validation Loss: 0.9908813017865886  | Accuracy: 60.92\n"
     ]
    },
    {
     "name": "stderr",
     "output_type": "stream",
     "text": [
      "156it [00:01, 123.91it/s]\n",
      "100%|█████████████████████████████████████████████████████████| 46/46 [00:00<00:00, 160.67it/s]\n"
     ]
    },
    {
     "name": "stdout",
     "output_type": "stream",
     "text": [
      "Epoch: 574 | Training Loss: 0.2781869334479173  | Validation Loss: 1.0795158873433652  | Accuracy: 60.53\n"
     ]
    },
    {
     "name": "stderr",
     "output_type": "stream",
     "text": [
      "156it [00:01, 114.95it/s]\n",
      "100%|█████████████████████████████████████████████████████████| 46/46 [00:00<00:00, 163.90it/s]\n"
     ]
    },
    {
     "name": "stdout",
     "output_type": "stream",
     "text": [
      "Epoch: 575 | Training Loss: 0.2783255160619051  | Validation Loss: 1.0259181027827056  | Accuracy: 59.27\n"
     ]
    },
    {
     "name": "stderr",
     "output_type": "stream",
     "text": [
      "156it [00:01, 115.14it/s]\n",
      "100%|█████████████████████████████████████████████████████████| 46/46 [00:00<00:00, 175.16it/s]\n"
     ]
    },
    {
     "name": "stdout",
     "output_type": "stream",
     "text": [
      "Epoch: 576 | Training Loss: 0.28130003676200527  | Validation Loss: 0.965167821749397  | Accuracy: 61.11\n"
     ]
    },
    {
     "name": "stderr",
     "output_type": "stream",
     "text": [
      "156it [00:01, 121.96it/s]\n",
      "100%|█████████████████████████████████████████████████████████| 46/46 [00:00<00:00, 146.58it/s]\n"
     ]
    },
    {
     "name": "stdout",
     "output_type": "stream",
     "text": [
      "Epoch: 577 | Training Loss: 0.28164914030677235  | Validation Loss: 1.0273874570494113  | Accuracy: 60.22\n"
     ]
    },
    {
     "name": "stderr",
     "output_type": "stream",
     "text": [
      "156it [00:01, 116.20it/s]\n",
      "100%|█████████████████████████████████████████████████████████| 46/46 [00:00<00:00, 165.33it/s]\n"
     ]
    },
    {
     "name": "stdout",
     "output_type": "stream",
     "text": [
      "Epoch: 578 | Training Loss: 0.2837940818415238  | Validation Loss: 0.9262147558772046  | Accuracy: 60.63\n"
     ]
    },
    {
     "name": "stderr",
     "output_type": "stream",
     "text": [
      "156it [00:01, 123.07it/s]\n",
      "100%|█████████████████████████████████████████████████████████| 46/46 [00:00<00:00, 159.23it/s]\n"
     ]
    },
    {
     "name": "stdout",
     "output_type": "stream",
     "text": [
      "Epoch: 579 | Training Loss: 0.2806328752866158  | Validation Loss: 1.0947547775247823  | Accuracy: 59.43\n"
     ]
    },
    {
     "name": "stderr",
     "output_type": "stream",
     "text": [
      "156it [00:01, 115.97it/s]\n",
      "100%|█████████████████████████████████████████████████████████| 46/46 [00:00<00:00, 161.46it/s]\n"
     ]
    },
    {
     "name": "stdout",
     "output_type": "stream",
     "text": [
      "Epoch: 580 | Training Loss: 0.2802228427086121  | Validation Loss: 1.0607178353745004  | Accuracy: 59.73\n"
     ]
    },
    {
     "name": "stderr",
     "output_type": "stream",
     "text": [
      "156it [00:01, 115.54it/s]\n",
      "100%|█████████████████████████████████████████████████████████| 46/46 [00:00<00:00, 158.12it/s]\n"
     ]
    },
    {
     "name": "stdout",
     "output_type": "stream",
     "text": [
      "Epoch: 581 | Training Loss: 0.2835235659701702  | Validation Loss: 1.115337072507195  | Accuracy: 59.71\n"
     ]
    },
    {
     "name": "stderr",
     "output_type": "stream",
     "text": [
      "156it [00:01, 123.11it/s]\n",
      "100%|█████████████████████████████████████████████████████████| 46/46 [00:00<00:00, 155.27it/s]\n"
     ]
    },
    {
     "name": "stdout",
     "output_type": "stream",
     "text": [
      "Epoch: 582 | Training Loss: 0.2769426478025241  | Validation Loss: 0.939381119997605  | Accuracy: 61.35\n"
     ]
    },
    {
     "name": "stderr",
     "output_type": "stream",
     "text": [
      "156it [00:01, 116.52it/s]\n",
      "100%|█████████████████████████████████████████████████████████| 46/46 [00:00<00:00, 149.16it/s]\n"
     ]
    },
    {
     "name": "stdout",
     "output_type": "stream",
     "text": [
      "Epoch: 583 | Training Loss: 0.28038330318836063  | Validation Loss: 1.079003376805264  | Accuracy: 59.14\n"
     ]
    },
    {
     "name": "stderr",
     "output_type": "stream",
     "text": [
      "156it [00:01, 122.62it/s]\n",
      "100%|█████████████████████████████████████████████████████████| 46/46 [00:00<00:00, 158.31it/s]\n"
     ]
    },
    {
     "name": "stdout",
     "output_type": "stream",
     "text": [
      "Epoch: 584 | Training Loss: 0.2828136446575324  | Validation Loss: 0.931229381457619  | Accuracy: 62.16\n"
     ]
    },
    {
     "name": "stderr",
     "output_type": "stream",
     "text": [
      "156it [00:01, 114.71it/s]\n",
      "100%|█████████████████████████████████████████████████████████| 46/46 [00:00<00:00, 160.08it/s]\n"
     ]
    },
    {
     "name": "stdout",
     "output_type": "stream",
     "text": [
      "Epoch: 585 | Training Loss: 0.2794007925459972  | Validation Loss: 0.9501341464726821  | Accuracy: 62.02\n"
     ]
    },
    {
     "name": "stderr",
     "output_type": "stream",
     "text": [
      "156it [00:01, 115.00it/s]\n",
      "100%|█████████████████████████████████████████████████████████| 46/46 [00:00<00:00, 152.45it/s]\n"
     ]
    },
    {
     "name": "stdout",
     "output_type": "stream",
     "text": [
      "Epoch: 586 | Training Loss: 0.2825885790471847  | Validation Loss: 0.9796431492204252  | Accuracy: 60.60\n"
     ]
    },
    {
     "name": "stderr",
     "output_type": "stream",
     "text": [
      "156it [00:01, 122.20it/s]\n",
      "100%|█████████████████████████████████████████████████████████| 46/46 [00:00<00:00, 147.40it/s]\n"
     ]
    },
    {
     "name": "stdout",
     "output_type": "stream",
     "text": [
      "Epoch: 587 | Training Loss: 0.2857057499961975  | Validation Loss: 0.9562788216964059  | Accuracy: 61.28\n"
     ]
    },
    {
     "name": "stderr",
     "output_type": "stream",
     "text": [
      "156it [00:01, 115.93it/s]\n",
      "100%|█████████████████████████████████████████████████████████| 46/46 [00:00<00:00, 163.75it/s]\n"
     ]
    },
    {
     "name": "stdout",
     "output_type": "stream",
     "text": [
      "Epoch: 588 | Training Loss: 0.27814242473015416  | Validation Loss: 0.9584729062474292  | Accuracy: 60.56\n"
     ]
    },
    {
     "name": "stderr",
     "output_type": "stream",
     "text": [
      "156it [00:01, 119.21it/s]\n",
      "100%|█████████████████████████████████████████████████████████| 46/46 [00:00<00:00, 196.32it/s]\n"
     ]
    },
    {
     "name": "stdout",
     "output_type": "stream",
     "text": [
      "Epoch: 589 | Training Loss: 0.2797327481974394  | Validation Loss: 1.0499174802199653  | Accuracy: 59.87\n"
     ]
    },
    {
     "name": "stderr",
     "output_type": "stream",
     "text": [
      "156it [00:01, 115.27it/s]\n",
      "100%|█████████████████████████████████████████████████████████| 46/46 [00:00<00:00, 158.08it/s]\n"
     ]
    },
    {
     "name": "stdout",
     "output_type": "stream",
     "text": [
      "Epoch: 590 | Training Loss: 0.2744844530064326  | Validation Loss: 1.0557731817597928  | Accuracy: 60.17\n"
     ]
    },
    {
     "name": "stderr",
     "output_type": "stream",
     "text": [
      "156it [00:01, 116.34it/s]\n",
      "100%|█████████████████████████████████████████████████████████| 46/46 [00:00<00:00, 161.92it/s]\n"
     ]
    },
    {
     "name": "stdout",
     "output_type": "stream",
     "text": [
      "Epoch: 591 | Training Loss: 0.27841233901488477  | Validation Loss: 0.9256779564463574  | Accuracy: 61.67\n"
     ]
    },
    {
     "name": "stderr",
     "output_type": "stream",
     "text": [
      "156it [00:01, 120.88it/s]\n",
      "100%|█████████████████████████████████████████████████████████| 46/46 [00:00<00:00, 162.23it/s]\n"
     ]
    },
    {
     "name": "stdout",
     "output_type": "stream",
     "text": [
      "Epoch: 592 | Training Loss: 0.27878147783951884  | Validation Loss: 1.0537927448749542  | Accuracy: 59.32\n"
     ]
    },
    {
     "name": "stderr",
     "output_type": "stream",
     "text": [
      "156it [00:01, 115.48it/s]\n",
      "100%|█████████████████████████████████████████████████████████| 46/46 [00:00<00:00, 159.25it/s]\n"
     ]
    },
    {
     "name": "stdout",
     "output_type": "stream",
     "text": [
      "Epoch: 593 | Training Loss: 0.2809024985211018  | Validation Loss: 1.0632769206295842  | Accuracy: 59.29\n"
     ]
    },
    {
     "name": "stderr",
     "output_type": "stream",
     "text": [
      "156it [00:01, 116.53it/s]\n",
      "100%|█████████████████████████████████████████████████████████| 46/46 [00:00<00:00, 181.12it/s]\n"
     ]
    },
    {
     "name": "stdout",
     "output_type": "stream",
     "text": [
      "Epoch: 594 | Training Loss: 0.28162798896814006  | Validation Loss: 1.0772613870060963  | Accuracy: 59.70\n"
     ]
    },
    {
     "name": "stderr",
     "output_type": "stream",
     "text": [
      "156it [00:01, 117.51it/s]\n",
      "100%|█████████████████████████████████████████████████████████| 46/46 [00:00<00:00, 161.75it/s]\n"
     ]
    },
    {
     "name": "stdout",
     "output_type": "stream",
     "text": [
      "Epoch: 595 | Training Loss: 0.27918965512743366  | Validation Loss: 0.9232466052407804  | Accuracy: 62.67\n"
     ]
    },
    {
     "name": "stderr",
     "output_type": "stream",
     "text": [
      "156it [00:01, 114.39it/s]\n",
      "100%|█████████████████████████████████████████████████████████| 46/46 [00:00<00:00, 152.75it/s]\n"
     ]
    },
    {
     "name": "stdout",
     "output_type": "stream",
     "text": [
      "Epoch: 596 | Training Loss: 0.28072641369624013  | Validation Loss: 0.9163235672142195  | Accuracy: 62.30\n"
     ]
    },
    {
     "name": "stderr",
     "output_type": "stream",
     "text": [
      "156it [00:01, 123.65it/s]\n",
      "100%|█████████████████████████████████████████████████████████| 46/46 [00:00<00:00, 162.61it/s]\n"
     ]
    },
    {
     "name": "stdout",
     "output_type": "stream",
     "text": [
      "Epoch: 597 | Training Loss: 0.27939440720738506  | Validation Loss: 0.9585948145907858  | Accuracy: 61.63\n"
     ]
    },
    {
     "name": "stderr",
     "output_type": "stream",
     "text": [
      "156it [00:01, 114.67it/s]\n",
      "100%|█████████████████████████████████████████████████████████| 46/46 [00:00<00:00, 155.10it/s]\n"
     ]
    },
    {
     "name": "stdout",
     "output_type": "stream",
     "text": [
      "Epoch: 598 | Training Loss: 0.27793544120131397  | Validation Loss: 1.1028364300727844  | Accuracy: 58.81\n"
     ]
    },
    {
     "name": "stderr",
     "output_type": "stream",
     "text": [
      "156it [00:01, 116.57it/s]\n",
      "100%|█████████████████████████████████████████████████████████| 46/46 [00:00<00:00, 165.20it/s]\n"
     ]
    },
    {
     "name": "stdout",
     "output_type": "stream",
     "text": [
      "Epoch: 599 | Training Loss: 0.28159039572645456  | Validation Loss: 1.0152513255243716  | Accuracy: 59.46\n"
     ]
    },
    {
     "name": "stderr",
     "output_type": "stream",
     "text": [
      "156it [00:01, 121.26it/s]\n",
      "100%|█████████████████████████████████████████████████████████| 46/46 [00:00<00:00, 145.00it/s]\n"
     ]
    },
    {
     "name": "stdout",
     "output_type": "stream",
     "text": [
      "Epoch: 600 | Training Loss: 0.275215784040017  | Validation Loss: 0.9307276917540509  | Accuracy: 62.74\n"
     ]
    },
    {
     "name": "stderr",
     "output_type": "stream",
     "text": [
      "156it [00:01, 111.59it/s]\n",
      "100%|█████████████████████████████████████████████████████████| 46/46 [00:00<00:00, 150.66it/s]\n"
     ]
    },
    {
     "name": "stdout",
     "output_type": "stream",
     "text": [
      "Epoch: 601 | Training Loss: 0.27541545511056215  | Validation Loss: 1.0448058778825013  | Accuracy: 60.16\n"
     ]
    },
    {
     "name": "stderr",
     "output_type": "stream",
     "text": [
      "156it [00:01, 112.29it/s]\n",
      "100%|█████████████████████████████████████████████████████████| 46/46 [00:00<00:00, 154.39it/s]\n"
     ]
    },
    {
     "name": "stdout",
     "output_type": "stream",
     "text": [
      "Epoch: 602 | Training Loss: 0.27906635613777697  | Validation Loss: 0.9475831881813381  | Accuracy: 61.28\n"
     ]
    },
    {
     "name": "stderr",
     "output_type": "stream",
     "text": [
      "156it [00:01, 108.31it/s]\n",
      "100%|█████████████████████████████████████████████████████████| 46/46 [00:00<00:00, 150.20it/s]\n"
     ]
    },
    {
     "name": "stdout",
     "output_type": "stream",
     "text": [
      "Epoch: 603 | Training Loss: 0.2782062186071506  | Validation Loss: 1.1005817392598027  | Accuracy: 58.93\n"
     ]
    },
    {
     "name": "stderr",
     "output_type": "stream",
     "text": [
      "156it [00:01, 105.30it/s]\n",
      "100%|█████████████████████████████████████████████████████████| 46/46 [00:00<00:00, 143.87it/s]\n"
     ]
    },
    {
     "name": "stdout",
     "output_type": "stream",
     "text": [
      "Epoch: 604 | Training Loss: 0.2806010563404132  | Validation Loss: 1.101164566433948  | Accuracy: 57.63\n"
     ]
    },
    {
     "name": "stderr",
     "output_type": "stream",
     "text": [
      "156it [00:01, 119.23it/s]\n",
      "100%|█████████████████████████████████████████████████████████| 46/46 [00:00<00:00, 156.58it/s]\n"
     ]
    },
    {
     "name": "stdout",
     "output_type": "stream",
     "text": [
      "Epoch: 605 | Training Loss: 0.2815517392487098  | Validation Loss: 0.9710968823536582  | Accuracy: 61.01\n"
     ]
    },
    {
     "name": "stderr",
     "output_type": "stream",
     "text": [
      "156it [00:01, 113.28it/s]\n",
      "100%|█████████████████████████████████████████████████████████| 46/46 [00:00<00:00, 153.46it/s]\n"
     ]
    },
    {
     "name": "stdout",
     "output_type": "stream",
     "text": [
      "Epoch: 606 | Training Loss: 0.27617515317904645  | Validation Loss: 1.012464112561682  | Accuracy: 59.90\n"
     ]
    },
    {
     "name": "stderr",
     "output_type": "stream",
     "text": [
      "156it [00:01, 114.77it/s]\n",
      "100%|█████████████████████████████████████████████████████████| 46/46 [00:00<00:00, 179.29it/s]\n"
     ]
    },
    {
     "name": "stdout",
     "output_type": "stream",
     "text": [
      "Epoch: 607 | Training Loss: 0.2739601145761135  | Validation Loss: 1.027747031139291  | Accuracy: 60.56\n"
     ]
    },
    {
     "name": "stderr",
     "output_type": "stream",
     "text": [
      "156it [00:01, 112.72it/s]\n",
      "100%|█████████████████████████████████████████████████████████| 46/46 [00:00<00:00, 160.42it/s]\n"
     ]
    },
    {
     "name": "stdout",
     "output_type": "stream",
     "text": [
      "Epoch: 608 | Training Loss: 0.2762745742041331  | Validation Loss: 1.1293259366698887  | Accuracy: 58.59\n"
     ]
    },
    {
     "name": "stderr",
     "output_type": "stream",
     "text": [
      "156it [00:01, 112.56it/s]\n",
      "100%|█████████████████████████████████████████████████████████| 46/46 [00:00<00:00, 154.58it/s]\n"
     ]
    },
    {
     "name": "stdout",
     "output_type": "stream",
     "text": [
      "Epoch: 609 | Training Loss: 0.28011570593867546  | Validation Loss: 1.1198500368906104  | Accuracy: 58.61\n"
     ]
    },
    {
     "name": "stderr",
     "output_type": "stream",
     "text": [
      "156it [00:01, 119.93it/s]\n",
      "100%|█████████████████████████████████████████████████████████| 46/46 [00:00<00:00, 148.40it/s]\n"
     ]
    },
    {
     "name": "stdout",
     "output_type": "stream",
     "text": [
      "Epoch: 610 | Training Loss: 0.2786184471005049  | Validation Loss: 1.095527991004612  | Accuracy: 57.95\n"
     ]
    },
    {
     "name": "stderr",
     "output_type": "stream",
     "text": [
      "156it [00:01, 113.61it/s]\n",
      "100%|█████████████████████████████████████████████████████████| 46/46 [00:00<00:00, 159.30it/s]\n"
     ]
    },
    {
     "name": "stdout",
     "output_type": "stream",
     "text": [
      "Epoch: 611 | Training Loss: 0.2721125330680456  | Validation Loss: 1.0177037625209144  | Accuracy: 60.50\n"
     ]
    },
    {
     "name": "stderr",
     "output_type": "stream",
     "text": [
      "156it [00:01, 110.45it/s]\n",
      "100%|█████████████████████████████████████████████████████████| 46/46 [00:00<00:00, 186.98it/s]\n"
     ]
    },
    {
     "name": "stdout",
     "output_type": "stream",
     "text": [
      "Epoch: 612 | Training Loss: 0.27653516723941535  | Validation Loss: 1.018613690915315  | Accuracy: 59.00\n"
     ]
    },
    {
     "name": "stderr",
     "output_type": "stream",
     "text": [
      "156it [00:01, 115.05it/s]\n",
      "100%|█████████████████████████████████████████████████████████| 46/46 [00:00<00:00, 138.65it/s]\n"
     ]
    },
    {
     "name": "stdout",
     "output_type": "stream",
     "text": [
      "Epoch: 613 | Training Loss: 0.2840933843682974  | Validation Loss: 1.0091370318246924  | Accuracy: 59.99\n"
     ]
    },
    {
     "name": "stderr",
     "output_type": "stream",
     "text": [
      "156it [00:01, 113.99it/s]\n",
      "100%|█████████████████████████████████████████████████████████| 46/46 [00:00<00:00, 152.47it/s]\n"
     ]
    },
    {
     "name": "stdout",
     "output_type": "stream",
     "text": [
      "Epoch: 614 | Training Loss: 0.27998635105979747  | Validation Loss: 1.0411821979543436  | Accuracy: 59.05\n"
     ]
    },
    {
     "name": "stderr",
     "output_type": "stream",
     "text": [
      "156it [00:01, 122.50it/s]\n",
      "100%|█████████████████████████████████████████████████████████| 46/46 [00:00<00:00, 140.12it/s]\n"
     ]
    },
    {
     "name": "stdout",
     "output_type": "stream",
     "text": [
      "Epoch: 615 | Training Loss: 0.2806615609771166  | Validation Loss: 0.9521315784558005  | Accuracy: 61.79\n"
     ]
    },
    {
     "name": "stderr",
     "output_type": "stream",
     "text": [
      "156it [00:01, 113.31it/s]\n",
      "100%|█████████████████████████████████████████████████████████| 46/46 [00:00<00:00, 138.07it/s]\n"
     ]
    },
    {
     "name": "stdout",
     "output_type": "stream",
     "text": [
      "Epoch: 616 | Training Loss: 0.28835562033913076  | Validation Loss: 1.0655016963896544  | Accuracy: 59.83\n"
     ]
    },
    {
     "name": "stderr",
     "output_type": "stream",
     "text": [
      "156it [00:01, 112.67it/s]\n",
      "100%|█████████████████████████████████████████████████████████| 46/46 [00:00<00:00, 150.92it/s]\n"
     ]
    },
    {
     "name": "stdout",
     "output_type": "stream",
     "text": [
      "Epoch: 617 | Training Loss: 0.27806164792332894  | Validation Loss: 0.9906306538892828  | Accuracy: 60.44\n"
     ]
    },
    {
     "name": "stderr",
     "output_type": "stream",
     "text": [
      "156it [00:01, 118.77it/s]\n",
      "100%|█████████████████████████████████████████████████████████| 46/46 [00:00<00:00, 152.72it/s]\n"
     ]
    },
    {
     "name": "stdout",
     "output_type": "stream",
     "text": [
      "Epoch: 618 | Training Loss: 0.28026362432119173  | Validation Loss: 1.0280091412689374  | Accuracy: 60.58\n"
     ]
    },
    {
     "name": "stderr",
     "output_type": "stream",
     "text": [
      "156it [00:01, 113.05it/s]\n",
      "100%|█████████████████████████████████████████████████████████| 46/46 [00:00<00:00, 157.90it/s]\n"
     ]
    },
    {
     "name": "stdout",
     "output_type": "stream",
     "text": [
      "Epoch: 619 | Training Loss: 0.28180114160745573  | Validation Loss: 0.9375688006048617  | Accuracy: 62.19\n"
     ]
    },
    {
     "name": "stderr",
     "output_type": "stream",
     "text": [
      "156it [00:01, 119.72it/s]\n",
      "100%|█████████████████████████████████████████████████████████| 46/46 [00:00<00:00, 156.56it/s]\n"
     ]
    },
    {
     "name": "stdout",
     "output_type": "stream",
     "text": [
      "Epoch: 620 | Training Loss: 0.2791819318364828  | Validation Loss: 0.9625897835130277  | Accuracy: 60.89\n"
     ]
    },
    {
     "name": "stderr",
     "output_type": "stream",
     "text": [
      "156it [00:01, 112.95it/s]\n",
      "100%|█████████████████████████████████████████████████████████| 46/46 [00:00<00:00, 159.65it/s]\n"
     ]
    },
    {
     "name": "stdout",
     "output_type": "stream",
     "text": [
      "Epoch: 621 | Training Loss: 0.27506389163243467  | Validation Loss: 0.9822117932464766  | Accuracy: 61.02\n"
     ]
    },
    {
     "name": "stderr",
     "output_type": "stream",
     "text": [
      "156it [00:01, 112.65it/s]\n",
      "100%|█████████████████████████████████████████████████████████| 46/46 [00:00<00:00, 156.50it/s]\n"
     ]
    },
    {
     "name": "stdout",
     "output_type": "stream",
     "text": [
      "Epoch: 622 | Training Loss: 0.28579435764979094  | Validation Loss: 0.9801581825899042  | Accuracy: 60.68\n"
     ]
    },
    {
     "name": "stderr",
     "output_type": "stream",
     "text": [
      "156it [00:01, 119.53it/s]\n",
      "100%|█████████████████████████████████████████████████████████| 46/46 [00:00<00:00, 159.34it/s]\n"
     ]
    },
    {
     "name": "stdout",
     "output_type": "stream",
     "text": [
      "Epoch: 623 | Training Loss: 0.27731832527579403  | Validation Loss: 0.9292265280433323  | Accuracy: 62.89\n"
     ]
    },
    {
     "name": "stderr",
     "output_type": "stream",
     "text": [
      "156it [00:01, 112.96it/s]\n",
      "100%|█████████████████████████████████████████████████████████| 46/46 [00:00<00:00, 149.42it/s]\n"
     ]
    },
    {
     "name": "stdout",
     "output_type": "stream",
     "text": [
      "Epoch: 624 | Training Loss: 0.2788653346017385  | Validation Loss: 0.972747925830924  | Accuracy: 60.78\n"
     ]
    },
    {
     "name": "stderr",
     "output_type": "stream",
     "text": [
      "156it [00:01, 116.84it/s]\n",
      "100%|█████████████████████████████████████████████████████████| 46/46 [00:00<00:00, 182.43it/s]\n"
     ]
    },
    {
     "name": "stdout",
     "output_type": "stream",
     "text": [
      "Epoch: 625 | Training Loss: 0.2761829309165478  | Validation Loss: 1.0568738722282907  | Accuracy: 59.88\n"
     ]
    },
    {
     "name": "stderr",
     "output_type": "stream",
     "text": [
      "156it [00:01, 112.89it/s]\n",
      "100%|█████████████████████████████████████████████████████████| 46/46 [00:00<00:00, 154.29it/s]\n"
     ]
    },
    {
     "name": "stdout",
     "output_type": "stream",
     "text": [
      "Epoch: 626 | Training Loss: 0.282738376981937  | Validation Loss: 0.8923821708430415  | Accuracy: 62.06\n"
     ]
    },
    {
     "name": "stderr",
     "output_type": "stream",
     "text": [
      "156it [00:01, 114.27it/s]\n",
      "100%|█████████████████████████████████████████████████████████| 46/46 [00:00<00:00, 160.20it/s]\n"
     ]
    },
    {
     "name": "stdout",
     "output_type": "stream",
     "text": [
      "Epoch: 627 | Training Loss: 0.27875568154148567  | Validation Loss: 1.050328200278075  | Accuracy: 59.02\n"
     ]
    },
    {
     "name": "stderr",
     "output_type": "stream",
     "text": [
      "156it [00:01, 120.18it/s]\n",
      "100%|█████████████████████████████████████████████████████████| 46/46 [00:00<00:00, 158.60it/s]\n"
     ]
    },
    {
     "name": "stdout",
     "output_type": "stream",
     "text": [
      "Epoch: 628 | Training Loss: 0.2877719814960773  | Validation Loss: 0.9503445949243463  | Accuracy: 61.67\n"
     ]
    },
    {
     "name": "stderr",
     "output_type": "stream",
     "text": [
      "156it [00:01, 113.11it/s]\n",
      "100%|█████████████████████████████████████████████████████████| 46/46 [00:00<00:00, 160.10it/s]\n"
     ]
    },
    {
     "name": "stdout",
     "output_type": "stream",
     "text": [
      "Epoch: 629 | Training Loss: 0.27647849783683437  | Validation Loss: 0.981893750636474  | Accuracy: 59.48\n"
     ]
    },
    {
     "name": "stderr",
     "output_type": "stream",
     "text": [
      "156it [00:01, 113.33it/s]\n",
      "100%|█████████████████████████████████████████████████████████| 46/46 [00:00<00:00, 168.54it/s]\n"
     ]
    },
    {
     "name": "stdout",
     "output_type": "stream",
     "text": [
      "Epoch: 630 | Training Loss: 0.28029218669503164  | Validation Loss: 0.8849320411682129  | Accuracy: 63.38\n"
     ]
    },
    {
     "name": "stderr",
     "output_type": "stream",
     "text": [
      "156it [00:01, 115.81it/s]\n",
      "100%|█████████████████████████████████████████████████████████| 46/46 [00:00<00:00, 157.48it/s]\n"
     ]
    },
    {
     "name": "stdout",
     "output_type": "stream",
     "text": [
      "Epoch: 631 | Training Loss: 0.27600386729225135  | Validation Loss: 1.0948374660118767  | Accuracy: 59.41\n"
     ]
    },
    {
     "name": "stderr",
     "output_type": "stream",
     "text": [
      "156it [00:01, 113.12it/s]\n",
      "100%|█████████████████████████████████████████████████████████| 46/46 [00:00<00:00, 159.34it/s]\n"
     ]
    },
    {
     "name": "stdout",
     "output_type": "stream",
     "text": [
      "Epoch: 632 | Training Loss: 0.28365796441451097  | Validation Loss: 0.9040171361487844  | Accuracy: 62.70\n"
     ]
    },
    {
     "name": "stderr",
     "output_type": "stream",
     "text": [
      "156it [00:01, 122.18it/s]\n",
      "100%|█████████████████████████████████████████████████████████| 46/46 [00:00<00:00, 157.87it/s]\n"
     ]
    },
    {
     "name": "stdout",
     "output_type": "stream",
     "text": [
      "Epoch: 633 | Training Loss: 0.27509486379149634  | Validation Loss: 0.9017955051816028  | Accuracy: 61.97\n"
     ]
    },
    {
     "name": "stderr",
     "output_type": "stream",
     "text": [
      "156it [00:01, 113.66it/s]\n",
      "100%|█████████████████████████████████████████████████████████| 46/46 [00:00<00:00, 160.97it/s]\n"
     ]
    },
    {
     "name": "stdout",
     "output_type": "stream",
     "text": [
      "Epoch: 634 | Training Loss: 0.27798360395125854  | Validation Loss: 0.9662247481553451  | Accuracy: 59.70\n"
     ]
    },
    {
     "name": "stderr",
     "output_type": "stream",
     "text": [
      "156it [00:01, 112.00it/s]\n",
      "100%|█████████████████████████████████████████████████████████| 46/46 [00:00<00:00, 154.11it/s]\n"
     ]
    },
    {
     "name": "stdout",
     "output_type": "stream",
     "text": [
      "Epoch: 635 | Training Loss: 0.276958165738063  | Validation Loss: 0.9117863372616146  | Accuracy: 62.06\n"
     ]
    },
    {
     "name": "stderr",
     "output_type": "stream",
     "text": [
      "156it [00:01, 122.21it/s]\n",
      "100%|█████████████████████████████████████████████████████████| 46/46 [00:00<00:00, 158.21it/s]\n"
     ]
    },
    {
     "name": "stdout",
     "output_type": "stream",
     "text": [
      "Epoch: 636 | Training Loss: 0.27505921505582637  | Validation Loss: 1.0200615875099017  | Accuracy: 59.60\n"
     ]
    },
    {
     "name": "stderr",
     "output_type": "stream",
     "text": [
      "156it [00:01, 116.60it/s]\n",
      "100%|█████████████████████████████████████████████████████████| 46/46 [00:00<00:00, 163.54it/s]\n"
     ]
    },
    {
     "name": "stdout",
     "output_type": "stream",
     "text": [
      "Epoch: 637 | Training Loss: 0.27981348221118635  | Validation Loss: 1.1576723650745724  | Accuracy: 58.17\n"
     ]
    },
    {
     "name": "stderr",
     "output_type": "stream",
     "text": [
      "156it [00:01, 123.32it/s]\n",
      "100%|█████████████████████████████████████████████████████████| 46/46 [00:00<00:00, 156.32it/s]\n"
     ]
    },
    {
     "name": "stdout",
     "output_type": "stream",
     "text": [
      "Epoch: 638 | Training Loss: 0.27955793503385323  | Validation Loss: 0.9693484591401141  | Accuracy: 61.14\n"
     ]
    },
    {
     "name": "stderr",
     "output_type": "stream",
     "text": [
      "156it [00:01, 116.50it/s]\n",
      "100%|█████████████████████████████████████████████████████████| 46/46 [00:00<00:00, 163.34it/s]\n"
     ]
    },
    {
     "name": "stdout",
     "output_type": "stream",
     "text": [
      "Epoch: 639 | Training Loss: 0.27946914493655545  | Validation Loss: 1.011015877775524  | Accuracy: 61.11\n"
     ]
    },
    {
     "name": "stderr",
     "output_type": "stream",
     "text": [
      "156it [00:01, 117.61it/s]\n",
      "100%|█████████████████████████████████████████████████████████| 46/46 [00:00<00:00, 159.09it/s]\n"
     ]
    },
    {
     "name": "stdout",
     "output_type": "stream",
     "text": [
      "Epoch: 640 | Training Loss: 0.2794286201779659  | Validation Loss: 1.1702040874439736  | Accuracy: 59.05\n"
     ]
    },
    {
     "name": "stderr",
     "output_type": "stream",
     "text": [
      "156it [00:01, 123.77it/s]\n",
      "100%|█████████████████████████████████████████████████████████| 46/46 [00:00<00:00, 159.84it/s]\n"
     ]
    },
    {
     "name": "stdout",
     "output_type": "stream",
     "text": [
      "Epoch: 641 | Training Loss: 0.27335866855887264  | Validation Loss: 0.9497902121232904  | Accuracy: 59.70\n"
     ]
    },
    {
     "name": "stderr",
     "output_type": "stream",
     "text": [
      "156it [00:01, 115.92it/s]\n",
      "100%|█████████████████████████████████████████████████████████| 46/46 [00:00<00:00, 163.83it/s]\n"
     ]
    },
    {
     "name": "stdout",
     "output_type": "stream",
     "text": [
      "Epoch: 642 | Training Loss: 0.27879244757768434  | Validation Loss: 0.9039645220922388  | Accuracy: 62.52\n"
     ]
    },
    {
     "name": "stderr",
     "output_type": "stream",
     "text": [
      "156it [00:01, 121.13it/s]\n",
      "100%|█████████████████████████████████████████████████████████| 46/46 [00:00<00:00, 185.49it/s]\n"
     ]
    },
    {
     "name": "stdout",
     "output_type": "stream",
     "text": [
      "Epoch: 643 | Training Loss: 0.28440241572948605  | Validation Loss: 0.9744593721369038  | Accuracy: 61.87\n"
     ]
    },
    {
     "name": "stderr",
     "output_type": "stream",
     "text": [
      "156it [00:01, 116.89it/s]\n",
      "100%|█████████████████████████████████████████████████████████| 46/46 [00:00<00:00, 164.24it/s]\n"
     ]
    },
    {
     "name": "stdout",
     "output_type": "stream",
     "text": [
      "Epoch: 644 | Training Loss: 0.27864593162368506  | Validation Loss: 0.9363923383795697  | Accuracy: 62.31\n"
     ]
    },
    {
     "name": "stderr",
     "output_type": "stream",
     "text": [
      "156it [00:01, 118.06it/s]\n",
      "100%|█████████████████████████████████████████████████████████| 46/46 [00:00<00:00, 167.01it/s]\n"
     ]
    },
    {
     "name": "stdout",
     "output_type": "stream",
     "text": [
      "Epoch: 645 | Training Loss: 0.2744051093856494  | Validation Loss: 0.9912062611268915  | Accuracy: 61.38\n"
     ]
    },
    {
     "name": "stderr",
     "output_type": "stream",
     "text": [
      "156it [00:01, 125.37it/s]\n",
      "100%|█████████████████████████████████████████████████████████| 46/46 [00:00<00:00, 155.57it/s]\n"
     ]
    },
    {
     "name": "stdout",
     "output_type": "stream",
     "text": [
      "Epoch: 646 | Training Loss: 0.2733417813403484  | Validation Loss: 1.010650996280753  | Accuracy: 61.12\n"
     ]
    },
    {
     "name": "stderr",
     "output_type": "stream",
     "text": [
      "156it [00:01, 110.71it/s]\n",
      "100%|█████████████████████████████████████████████████████████| 46/46 [00:00<00:00, 152.96it/s]\n"
     ]
    },
    {
     "name": "stdout",
     "output_type": "stream",
     "text": [
      "Epoch: 647 | Training Loss: 0.27660348610236096  | Validation Loss: 1.111716389656067  | Accuracy: 59.87\n"
     ]
    },
    {
     "name": "stderr",
     "output_type": "stream",
     "text": [
      "156it [00:01, 110.91it/s]\n",
      "100%|█████████████████████████████████████████████████████████| 46/46 [00:00<00:00, 168.09it/s]\n"
     ]
    },
    {
     "name": "stdout",
     "output_type": "stream",
     "text": [
      "Epoch: 648 | Training Loss: 0.2839422791432112  | Validation Loss: 1.0103916409222975  | Accuracy: 60.33\n"
     ]
    },
    {
     "name": "stderr",
     "output_type": "stream",
     "text": [
      "156it [00:01, 117.74it/s]\n",
      "100%|█████████████████████████████████████████████████████████| 46/46 [00:00<00:00, 161.12it/s]\n"
     ]
    },
    {
     "name": "stdout",
     "output_type": "stream",
     "text": [
      "Epoch: 649 | Training Loss: 0.28156910015222353  | Validation Loss: 1.0591503485389377  | Accuracy: 60.31\n"
     ]
    },
    {
     "name": "stderr",
     "output_type": "stream",
     "text": [
      "156it [00:01, 115.40it/s]\n",
      "100%|█████████████████████████████████████████████████████████| 46/46 [00:00<00:00, 163.69it/s]\n"
     ]
    },
    {
     "name": "stdout",
     "output_type": "stream",
     "text": [
      "Epoch: 650 | Training Loss: 0.2768286311855683  | Validation Loss: 1.0137256124745244  | Accuracy: 60.48\n"
     ]
    },
    {
     "name": "stderr",
     "output_type": "stream",
     "text": [
      "156it [00:01, 126.33it/s]\n",
      "100%|█████████████████████████████████████████████████████████| 46/46 [00:00<00:00, 163.28it/s]\n"
     ]
    },
    {
     "name": "stdout",
     "output_type": "stream",
     "text": [
      "Epoch: 651 | Training Loss: 0.2769479966507508  | Validation Loss: 0.9512330980404563  | Accuracy: 61.14\n"
     ]
    },
    {
     "name": "stderr",
     "output_type": "stream",
     "text": [
      "156it [00:01, 118.37it/s]\n",
      "100%|█████████████████████████████████████████████████████████| 46/46 [00:00<00:00, 165.22it/s]\n"
     ]
    },
    {
     "name": "stdout",
     "output_type": "stream",
     "text": [
      "Epoch: 652 | Training Loss: 0.2770887304766056  | Validation Loss: 1.3386184210362642  | Accuracy: 55.83\n"
     ]
    },
    {
     "name": "stderr",
     "output_type": "stream",
     "text": [
      "156it [00:01, 118.38it/s]\n",
      "100%|█████████████████████████████████████████████████████████| 46/46 [00:00<00:00, 160.53it/s]\n"
     ]
    },
    {
     "name": "stdout",
     "output_type": "stream",
     "text": [
      "Epoch: 653 | Training Loss: 0.27868976444005966  | Validation Loss: 0.9948851336603579  | Accuracy: 61.11\n"
     ]
    },
    {
     "name": "stderr",
     "output_type": "stream",
     "text": [
      "156it [00:01, 122.70it/s]\n",
      "100%|█████████████████████████████████████████████████████████| 46/46 [00:00<00:00, 161.39it/s]\n"
     ]
    },
    {
     "name": "stdout",
     "output_type": "stream",
     "text": [
      "Epoch: 654 | Training Loss: 0.27938559183325523  | Validation Loss: 1.0786544291869453  | Accuracy: 59.07\n"
     ]
    },
    {
     "name": "stderr",
     "output_type": "stream",
     "text": [
      "156it [00:01, 115.43it/s]\n",
      "100%|█████████████████████████████████████████████████████████| 46/46 [00:00<00:00, 160.58it/s]\n"
     ]
    },
    {
     "name": "stdout",
     "output_type": "stream",
     "text": [
      "Epoch: 655 | Training Loss: 0.27394245182856536  | Validation Loss: 0.9989859409954237  | Accuracy: 59.10\n"
     ]
    },
    {
     "name": "stderr",
     "output_type": "stream",
     "text": [
      "156it [00:01, 119.59it/s]\n",
      "100%|█████████████████████████████████████████████████████████| 46/46 [00:00<00:00, 181.93it/s]\n"
     ]
    },
    {
     "name": "stdout",
     "output_type": "stream",
     "text": [
      "Epoch: 656 | Training Loss: 0.2749617242087156  | Validation Loss: 1.027632579855297  | Accuracy: 59.38\n"
     ]
    },
    {
     "name": "stderr",
     "output_type": "stream",
     "text": [
      "156it [00:01, 115.52it/s]\n",
      "100%|█████████████████████████████████████████████████████████| 46/46 [00:00<00:00, 163.31it/s]\n"
     ]
    },
    {
     "name": "stdout",
     "output_type": "stream",
     "text": [
      "Epoch: 657 | Training Loss: 0.2747053469602878  | Validation Loss: 0.9381419264751932  | Accuracy: 61.68\n"
     ]
    },
    {
     "name": "stderr",
     "output_type": "stream",
     "text": [
      "156it [00:01, 114.77it/s]\n",
      "100%|█████████████████████████████████████████████████████████| 46/46 [00:00<00:00, 162.49it/s]\n"
     ]
    },
    {
     "name": "stdout",
     "output_type": "stream",
     "text": [
      "Epoch: 658 | Training Loss: 0.2771176513379965  | Validation Loss: 1.063480046780213  | Accuracy: 60.04\n"
     ]
    },
    {
     "name": "stderr",
     "output_type": "stream",
     "text": [
      "156it [00:01, 119.82it/s]\n",
      "100%|█████████████████████████████████████████████████████████| 46/46 [00:00<00:00, 147.23it/s]\n"
     ]
    },
    {
     "name": "stdout",
     "output_type": "stream",
     "text": [
      "Epoch: 659 | Training Loss: 0.2773940946238163  | Validation Loss: 1.0692781793034596  | Accuracy: 60.02\n"
     ]
    },
    {
     "name": "stderr",
     "output_type": "stream",
     "text": [
      "156it [00:01, 116.85it/s]\n",
      "100%|█████████████████████████████████████████████████████████| 46/46 [00:00<00:00, 143.82it/s]\n"
     ]
    },
    {
     "name": "stdout",
     "output_type": "stream",
     "text": [
      "Epoch: 660 | Training Loss: 0.2795566301315259  | Validation Loss: 0.9968795905942502  | Accuracy: 59.09\n"
     ]
    },
    {
     "name": "stderr",
     "output_type": "stream",
     "text": [
      "156it [00:01, 117.47it/s]\n",
      "100%|█████████████████████████████████████████████████████████| 46/46 [00:00<00:00, 199.37it/s]\n"
     ]
    },
    {
     "name": "stdout",
     "output_type": "stream",
     "text": [
      "Epoch: 661 | Training Loss: 0.283962400104755  | Validation Loss: 1.034054705630178  | Accuracy: 59.22\n"
     ]
    },
    {
     "name": "stderr",
     "output_type": "stream",
     "text": [
      "156it [00:01, 116.38it/s]\n",
      "100%|█████████████████████████████████████████████████████████| 46/46 [00:00<00:00, 146.77it/s]\n"
     ]
    },
    {
     "name": "stdout",
     "output_type": "stream",
     "text": [
      "Epoch: 662 | Training Loss: 0.2728558410054598  | Validation Loss: 1.034151941537857  | Accuracy: 60.41\n"
     ]
    },
    {
     "name": "stderr",
     "output_type": "stream",
     "text": [
      "156it [00:01, 116.51it/s]\n",
      "100%|█████████████████████████████████████████████████████████| 46/46 [00:00<00:00, 143.56it/s]\n"
     ]
    },
    {
     "name": "stdout",
     "output_type": "stream",
     "text": [
      "Epoch: 663 | Training Loss: 0.27968396790898764  | Validation Loss: 1.0183911245802175  | Accuracy: 59.88\n"
     ]
    },
    {
     "name": "stderr",
     "output_type": "stream",
     "text": [
      "156it [00:01, 123.40it/s]\n",
      "100%|█████████████████████████████████████████████████████████| 46/46 [00:00<00:00, 161.30it/s]\n"
     ]
    },
    {
     "name": "stdout",
     "output_type": "stream",
     "text": [
      "Epoch: 664 | Training Loss: 0.27643500793820774  | Validation Loss: 0.9517136371654012  | Accuracy: 61.45\n"
     ]
    },
    {
     "name": "stderr",
     "output_type": "stream",
     "text": [
      "156it [00:01, 115.42it/s]\n",
      "100%|█████████████████████████████████████████████████████████| 46/46 [00:00<00:00, 161.44it/s]\n"
     ]
    },
    {
     "name": "stdout",
     "output_type": "stream",
     "text": [
      "Epoch: 665 | Training Loss: 0.2767184849541921  | Validation Loss: 1.1217395430025847  | Accuracy: 58.14\n"
     ]
    },
    {
     "name": "stderr",
     "output_type": "stream",
     "text": [
      "156it [00:01, 116.13it/s]\n",
      "100%|█████████████████████████████████████████████████████████| 46/46 [00:00<00:00, 187.26it/s]\n"
     ]
    },
    {
     "name": "stdout",
     "output_type": "stream",
     "text": [
      "Epoch: 666 | Training Loss: 0.2779880485091454  | Validation Loss: 1.0037172631077145  | Accuracy: 59.95\n"
     ]
    },
    {
     "name": "stderr",
     "output_type": "stream",
     "text": [
      "156it [00:01, 120.41it/s]\n",
      "100%|█████████████████████████████████████████████████████████| 46/46 [00:00<00:00, 162.51it/s]\n"
     ]
    },
    {
     "name": "stdout",
     "output_type": "stream",
     "text": [
      "Epoch: 667 | Training Loss: 0.27594868552226287  | Validation Loss: 0.9761469869509988  | Accuracy: 59.97\n"
     ]
    },
    {
     "name": "stderr",
     "output_type": "stream",
     "text": [
      "156it [00:01, 115.56it/s]\n",
      "100%|█████████████████████████████████████████████████████████| 46/46 [00:00<00:00, 161.37it/s]\n"
     ]
    },
    {
     "name": "stdout",
     "output_type": "stream",
     "text": [
      "Epoch: 668 | Training Loss: 0.27502119206847286  | Validation Loss: 1.140252746965574  | Accuracy: 59.09\n"
     ]
    },
    {
     "name": "stderr",
     "output_type": "stream",
     "text": [
      "156it [00:01, 124.05it/s]\n",
      "100%|█████████████████████████████████████████████████████████| 46/46 [00:00<00:00, 159.96it/s]\n"
     ]
    },
    {
     "name": "stdout",
     "output_type": "stream",
     "text": [
      "Epoch: 669 | Training Loss: 0.2796364172528952  | Validation Loss: 0.9800344252068064  | Accuracy: 61.63\n"
     ]
    },
    {
     "name": "stderr",
     "output_type": "stream",
     "text": [
      "156it [00:01, 115.91it/s]\n",
      "100%|█████████████████████████████████████████████████████████| 46/46 [00:00<00:00, 162.78it/s]\n"
     ]
    },
    {
     "name": "stdout",
     "output_type": "stream",
     "text": [
      "Epoch: 670 | Training Loss: 0.28405947543871707  | Validation Loss: 1.1426915098791537  | Accuracy: 58.03\n"
     ]
    },
    {
     "name": "stderr",
     "output_type": "stream",
     "text": [
      "156it [00:01, 116.40it/s]\n",
      "100%|█████████████████████████████████████████████████████████| 46/46 [00:00<00:00, 159.01it/s]\n"
     ]
    },
    {
     "name": "stdout",
     "output_type": "stream",
     "text": [
      "Epoch: 671 | Training Loss: 0.2756320712849116  | Validation Loss: 1.1195669511090154  | Accuracy: 59.38\n"
     ]
    },
    {
     "name": "stderr",
     "output_type": "stream",
     "text": [
      "156it [00:01, 121.77it/s]\n",
      "100%|█████████████████████████████████████████████████████████| 46/46 [00:00<00:00, 158.60it/s]\n"
     ]
    },
    {
     "name": "stdout",
     "output_type": "stream",
     "text": [
      "Epoch: 672 | Training Loss: 0.2775616785272574  | Validation Loss: 1.0388569287631824  | Accuracy: 60.36\n"
     ]
    },
    {
     "name": "stderr",
     "output_type": "stream",
     "text": [
      "156it [00:01, 115.87it/s]\n",
      "100%|█████████████████████████████████████████████████████████| 46/46 [00:00<00:00, 160.03it/s]\n"
     ]
    },
    {
     "name": "stdout",
     "output_type": "stream",
     "text": [
      "Epoch: 673 | Training Loss: 0.27830169397668963  | Validation Loss: 1.1161540681901185  | Accuracy: 58.88\n"
     ]
    },
    {
     "name": "stderr",
     "output_type": "stream",
     "text": [
      "156it [00:01, 121.66it/s]\n",
      "100%|█████████████████████████████████████████████████████████| 46/46 [00:00<00:00, 168.88it/s]\n"
     ]
    },
    {
     "name": "stdout",
     "output_type": "stream",
     "text": [
      "Epoch: 674 | Training Loss: 0.2779694867248719  | Validation Loss: 0.9711921720401101  | Accuracy: 61.04\n"
     ]
    },
    {
     "name": "stderr",
     "output_type": "stream",
     "text": [
      "156it [00:01, 115.40it/s]\n",
      "100%|█████████████████████████████████████████████████████████| 46/46 [00:00<00:00, 165.04it/s]\n"
     ]
    },
    {
     "name": "stdout",
     "output_type": "stream",
     "text": [
      "Epoch: 675 | Training Loss: 0.27513996435281557  | Validation Loss: 1.0375225647636082  | Accuracy: 60.36\n"
     ]
    },
    {
     "name": "stderr",
     "output_type": "stream",
     "text": [
      "156it [00:01, 116.35it/s]\n",
      "100%|█████████████████████████████████████████████████████████| 46/46 [00:00<00:00, 161.59it/s]\n"
     ]
    },
    {
     "name": "stdout",
     "output_type": "stream",
     "text": [
      "Epoch: 676 | Training Loss: 0.2839422663434958  | Validation Loss: 0.9586046973000402  | Accuracy: 61.92\n"
     ]
    },
    {
     "name": "stderr",
     "output_type": "stream",
     "text": [
      "156it [00:01, 124.14it/s]\n",
      "100%|█████████████████████████████████████████████████████████| 46/46 [00:00<00:00, 164.43it/s]\n"
     ]
    },
    {
     "name": "stdout",
     "output_type": "stream",
     "text": [
      "Epoch: 677 | Training Loss: 0.27562901224845493  | Validation Loss: 1.019994800505431  | Accuracy: 61.14\n"
     ]
    },
    {
     "name": "stderr",
     "output_type": "stream",
     "text": [
      "156it [00:01, 115.81it/s]\n",
      "100%|█████████████████████████████████████████████████████████| 46/46 [00:00<00:00, 144.04it/s]\n"
     ]
    },
    {
     "name": "stdout",
     "output_type": "stream",
     "text": [
      "Epoch: 678 | Training Loss: 0.2822725536922614  | Validation Loss: 0.9969857503538546  | Accuracy: 61.21\n"
     ]
    },
    {
     "name": "stderr",
     "output_type": "stream",
     "text": [
      "156it [00:01, 116.52it/s]\n",
      "100%|█████████████████████████████████████████████████████████| 46/46 [00:00<00:00, 204.81it/s]\n"
     ]
    },
    {
     "name": "stdout",
     "output_type": "stream",
     "text": [
      "Epoch: 679 | Training Loss: 0.2801890366543562  | Validation Loss: 0.9488790112992992  | Accuracy: 61.16\n"
     ]
    },
    {
     "name": "stderr",
     "output_type": "stream",
     "text": [
      "156it [00:01, 116.26it/s]\n",
      "100%|█████████████████████████████████████████████████████████| 46/46 [00:00<00:00, 146.55it/s]\n"
     ]
    },
    {
     "name": "stdout",
     "output_type": "stream",
     "text": [
      "Epoch: 680 | Training Loss: 0.27629450307442593  | Validation Loss: 1.0135474127271902  | Accuracy: 60.63\n"
     ]
    },
    {
     "name": "stderr",
     "output_type": "stream",
     "text": [
      "156it [00:01, 116.14it/s]\n",
      "100%|█████████████████████████████████████████████████████████| 46/46 [00:00<00:00, 147.06it/s]\n"
     ]
    },
    {
     "name": "stdout",
     "output_type": "stream",
     "text": [
      "Epoch: 681 | Training Loss: 0.27663919377403384  | Validation Loss: 0.9701447201811749  | Accuracy: 61.23\n"
     ]
    },
    {
     "name": "stderr",
     "output_type": "stream",
     "text": [
      "156it [00:01, 125.10it/s]\n",
      "100%|█████████████████████████████████████████████████████████| 46/46 [00:00<00:00, 144.92it/s]\n"
     ]
    },
    {
     "name": "stdout",
     "output_type": "stream",
     "text": [
      "Epoch: 682 | Training Loss: 0.27696421169317686  | Validation Loss: 1.0444865745046865  | Accuracy: 60.21\n"
     ]
    },
    {
     "name": "stderr",
     "output_type": "stream",
     "text": [
      "156it [00:01, 114.37it/s]\n",
      "100%|█████████████████████████████████████████████████████████| 46/46 [00:00<00:00, 159.14it/s]\n"
     ]
    },
    {
     "name": "stdout",
     "output_type": "stream",
     "text": [
      "Epoch: 683 | Training Loss: 0.2762285333413344  | Validation Loss: 0.9803709348906642  | Accuracy: 60.53\n"
     ]
    },
    {
     "name": "stderr",
     "output_type": "stream",
     "text": [
      "156it [00:01, 116.40it/s]\n",
      "100%|█████████████████████████████████████████████████████████| 46/46 [00:00<00:00, 188.69it/s]\n"
     ]
    },
    {
     "name": "stdout",
     "output_type": "stream",
     "text": [
      "Epoch: 684 | Training Loss: 0.27540268615270275  | Validation Loss: 0.9164436226305754  | Accuracy: 61.96\n"
     ]
    },
    {
     "name": "stderr",
     "output_type": "stream",
     "text": [
      "156it [00:01, 118.10it/s]\n",
      "100%|█████████████████████████████████████████████████████████| 46/46 [00:00<00:00, 164.02it/s]\n"
     ]
    },
    {
     "name": "stdout",
     "output_type": "stream",
     "text": [
      "Epoch: 685 | Training Loss: 0.27467332904537517  | Validation Loss: 1.1207419620907826  | Accuracy: 58.32\n"
     ]
    },
    {
     "name": "stderr",
     "output_type": "stream",
     "text": [
      "156it [00:01, 116.00it/s]\n",
      "100%|█████████████████████████████████████████████████████████| 46/46 [00:00<00:00, 163.60it/s]\n"
     ]
    },
    {
     "name": "stdout",
     "output_type": "stream",
     "text": [
      "Epoch: 686 | Training Loss: 0.2812874655310924  | Validation Loss: 1.0947653469832048  | Accuracy: 59.15\n"
     ]
    },
    {
     "name": "stderr",
     "output_type": "stream",
     "text": [
      "156it [00:01, 124.79it/s]\n",
      "100%|█████████████████████████████████████████████████████████| 46/46 [00:00<00:00, 159.68it/s]\n"
     ]
    },
    {
     "name": "stdout",
     "output_type": "stream",
     "text": [
      "Epoch: 687 | Training Loss: 0.2806399968954233  | Validation Loss: 0.9877798933049907  | Accuracy: 61.28\n"
     ]
    },
    {
     "name": "stderr",
     "output_type": "stream",
     "text": [
      "156it [00:01, 116.17it/s]\n",
      "100%|█████████████████████████████████████████████████████████| 46/46 [00:00<00:00, 149.26it/s]\n"
     ]
    },
    {
     "name": "stdout",
     "output_type": "stream",
     "text": [
      "Epoch: 688 | Training Loss: 0.2794926390051842  | Validation Loss: 1.0364873163078143  | Accuracy: 59.99\n"
     ]
    },
    {
     "name": "stderr",
     "output_type": "stream",
     "text": [
      "156it [00:01, 117.16it/s]\n",
      "100%|█████████████████████████████████████████████████████████| 46/46 [00:00<00:00, 148.78it/s]\n"
     ]
    },
    {
     "name": "stdout",
     "output_type": "stream",
     "text": [
      "Epoch: 689 | Training Loss: 0.2768124230206013  | Validation Loss: 1.1073959560497948  | Accuracy: 59.04\n"
     ]
    },
    {
     "name": "stderr",
     "output_type": "stream",
     "text": [
      "156it [00:01, 122.67it/s]\n",
      "100%|█████████████████████████████████████████████████████████| 46/46 [00:00<00:00, 146.42it/s]\n"
     ]
    },
    {
     "name": "stdout",
     "output_type": "stream",
     "text": [
      "Epoch: 690 | Training Loss: 0.2795474941913898  | Validation Loss: 0.9522362105224443  | Accuracy: 60.36\n"
     ]
    },
    {
     "name": "stderr",
     "output_type": "stream",
     "text": [
      "156it [00:01, 115.31it/s]\n",
      "100%|█████████████████████████████████████████████████████████| 46/46 [00:00<00:00, 161.68it/s]\n"
     ]
    },
    {
     "name": "stdout",
     "output_type": "stream",
     "text": [
      "Epoch: 691 | Training Loss: 0.2748131487423029  | Validation Loss: 1.063790465178697  | Accuracy: 60.19\n"
     ]
    },
    {
     "name": "stderr",
     "output_type": "stream",
     "text": [
      "156it [00:01, 122.22it/s]\n",
      "100%|█████████████████████████████████████████████████████████| 46/46 [00:00<00:00, 157.50it/s]\n"
     ]
    },
    {
     "name": "stdout",
     "output_type": "stream",
     "text": [
      "Epoch: 692 | Training Loss: 0.2782130997914534  | Validation Loss: 1.0464972970278368  | Accuracy: 59.22\n"
     ]
    },
    {
     "name": "stderr",
     "output_type": "stream",
     "text": [
      "156it [00:01, 115.97it/s]\n",
      "100%|█████████████████████████████████████████████████████████| 46/46 [00:00<00:00, 152.89it/s]\n"
     ]
    },
    {
     "name": "stdout",
     "output_type": "stream",
     "text": [
      "Epoch: 693 | Training Loss: 0.2866950824092596  | Validation Loss: 0.9839560467263927  | Accuracy: 61.09\n"
     ]
    },
    {
     "name": "stderr",
     "output_type": "stream",
     "text": [
      "156it [00:01, 116.56it/s]\n",
      "100%|█████████████████████████████████████████████████████████| 46/46 [00:00<00:00, 159.32it/s]\n"
     ]
    },
    {
     "name": "stdout",
     "output_type": "stream",
     "text": [
      "Epoch: 694 | Training Loss: 0.282715913385917  | Validation Loss: 0.9614391015923541  | Accuracy: 61.38\n"
     ]
    },
    {
     "name": "stderr",
     "output_type": "stream",
     "text": [
      "156it [00:01, 122.19it/s]\n",
      "100%|█████████████████████████████████████████████████████████| 46/46 [00:00<00:00, 164.71it/s]\n"
     ]
    },
    {
     "name": "stdout",
     "output_type": "stream",
     "text": [
      "Epoch: 695 | Training Loss: 0.280504350287792  | Validation Loss: 0.9437448550825533  | Accuracy: 59.97\n"
     ]
    },
    {
     "name": "stderr",
     "output_type": "stream",
     "text": [
      "156it [00:01, 115.72it/s]\n",
      "100%|█████████████████████████████████████████████████████████| 46/46 [00:00<00:00, 163.34it/s]\n"
     ]
    },
    {
     "name": "stdout",
     "output_type": "stream",
     "text": [
      "Epoch: 696 | Training Loss: 0.27918385876676977  | Validation Loss: 0.9976786802644315  | Accuracy: 61.41\n"
     ]
    },
    {
     "name": "stderr",
     "output_type": "stream",
     "text": [
      "156it [00:01, 117.18it/s]\n",
      "100%|█████████████████████████████████████████████████████████| 46/46 [00:00<00:00, 194.66it/s]\n"
     ]
    },
    {
     "name": "stdout",
     "output_type": "stream",
     "text": [
      "Epoch: 697 | Training Loss: 0.2840981687872838  | Validation Loss: 1.0030914143375729  | Accuracy: 59.70\n"
     ]
    },
    {
     "name": "stderr",
     "output_type": "stream",
     "text": [
      "156it [00:01, 114.83it/s]\n",
      "100%|█████████████████████████████████████████████████████████| 46/46 [00:00<00:00, 161.02it/s]\n"
     ]
    },
    {
     "name": "stdout",
     "output_type": "stream",
     "text": [
      "Epoch: 698 | Training Loss: 0.27334301001750505  | Validation Loss: 0.9414216603921808  | Accuracy: 61.50\n"
     ]
    },
    {
     "name": "stderr",
     "output_type": "stream",
     "text": [
      "156it [00:01, 113.57it/s]\n",
      "100%|█████████████████████████████████████████████████████████| 46/46 [00:00<00:00, 155.58it/s]\n"
     ]
    },
    {
     "name": "stdout",
     "output_type": "stream",
     "text": [
      "Epoch: 699 | Training Loss: 0.2758424568634767  | Validation Loss: 1.0161957183609838  | Accuracy: 59.00\n"
     ]
    },
    {
     "name": "stderr",
     "output_type": "stream",
     "text": [
      "156it [00:01, 119.71it/s]\n",
      "100%|█████████████████████████████████████████████████████████| 46/46 [00:00<00:00, 151.61it/s]\n"
     ]
    },
    {
     "name": "stdout",
     "output_type": "stream",
     "text": [
      "Epoch: 700 | Training Loss: 0.28601598405303097  | Validation Loss: 0.9743438622225886  | Accuracy: 59.73\n"
     ]
    },
    {
     "name": "stderr",
     "output_type": "stream",
     "text": [
      "156it [00:01, 114.03it/s]\n",
      "100%|█████████████████████████████████████████████████████████| 46/46 [00:00<00:00, 157.37it/s]\n"
     ]
    },
    {
     "name": "stdout",
     "output_type": "stream",
     "text": [
      "Epoch: 701 | Training Loss: 0.27687442417328173  | Validation Loss: 1.066012363071027  | Accuracy: 59.82\n"
     ]
    },
    {
     "name": "stderr",
     "output_type": "stream",
     "text": [
      "156it [00:01, 115.24it/s]\n",
      "100%|█████████████████████████████████████████████████████████| 46/46 [00:00<00:00, 235.66it/s]\n"
     ]
    },
    {
     "name": "stdout",
     "output_type": "stream",
     "text": [
      "Epoch: 702 | Training Loss: 0.27847755948702496  | Validation Loss: 1.031352365794389  | Accuracy: 59.51\n"
     ]
    },
    {
     "name": "stderr",
     "output_type": "stream",
     "text": [
      "156it [00:01, 114.75it/s]\n",
      "100%|█████████████████████████████████████████████████████████| 46/46 [00:00<00:00, 158.85it/s]\n"
     ]
    },
    {
     "name": "stdout",
     "output_type": "stream",
     "text": [
      "Epoch: 703 | Training Loss: 0.28049602636542076  | Validation Loss: 1.130384130322415  | Accuracy: 58.83\n"
     ]
    },
    {
     "name": "stderr",
     "output_type": "stream",
     "text": [
      "156it [00:01, 106.62it/s]\n",
      "100%|█████████████████████████████████████████████████████████| 46/46 [00:00<00:00, 155.50it/s]\n"
     ]
    },
    {
     "name": "stdout",
     "output_type": "stream",
     "text": [
      "Epoch: 704 | Training Loss: 0.2792512099139201  | Validation Loss: 1.027699270974035  | Accuracy: 59.83\n"
     ]
    },
    {
     "name": "stderr",
     "output_type": "stream",
     "text": [
      "156it [00:01, 116.42it/s]\n",
      "100%|█████████████████████████████████████████████████████████| 46/46 [00:00<00:00, 156.29it/s]\n"
     ]
    },
    {
     "name": "stdout",
     "output_type": "stream",
     "text": [
      "Epoch: 705 | Training Loss: 0.2797415120861469  | Validation Loss: 1.0100795963536138  | Accuracy: 59.88\n"
     ]
    },
    {
     "name": "stderr",
     "output_type": "stream",
     "text": [
      "156it [00:01, 110.22it/s]\n",
      "100%|█████████████████████████████████████████████████████████| 46/46 [00:00<00:00, 151.94it/s]\n"
     ]
    },
    {
     "name": "stdout",
     "output_type": "stream",
     "text": [
      "Epoch: 706 | Training Loss: 0.2784426496961178  | Validation Loss: 0.9941454179908918  | Accuracy: 59.66\n"
     ]
    },
    {
     "name": "stderr",
     "output_type": "stream",
     "text": [
      "156it [00:01, 111.38it/s]\n",
      "100%|█████████████████████████████████████████████████████████| 46/46 [00:00<00:00, 155.06it/s]\n"
     ]
    },
    {
     "name": "stdout",
     "output_type": "stream",
     "text": [
      "Epoch: 707 | Training Loss: 0.2807609904079865  | Validation Loss: 1.006840362496998  | Accuracy: 60.55\n"
     ]
    },
    {
     "name": "stderr",
     "output_type": "stream",
     "text": [
      "156it [00:01, 114.86it/s]\n",
      "100%|█████████████████████████████████████████████████████████| 46/46 [00:00<00:00, 154.44it/s]\n"
     ]
    },
    {
     "name": "stdout",
     "output_type": "stream",
     "text": [
      "Epoch: 708 | Training Loss: 0.2721725933444806  | Validation Loss: 0.9689172493374866  | Accuracy: 60.92\n"
     ]
    },
    {
     "name": "stderr",
     "output_type": "stream",
     "text": [
      "156it [00:01, 109.71it/s]\n",
      "100%|█████████████████████████████████████████████████████████| 46/46 [00:00<00:00, 135.93it/s]\n"
     ]
    },
    {
     "name": "stdout",
     "output_type": "stream",
     "text": [
      "Epoch: 709 | Training Loss: 0.2817967103268856  | Validation Loss: 0.8777775194333948  | Accuracy: 62.65\n"
     ]
    },
    {
     "name": "stderr",
     "output_type": "stream",
     "text": [
      "156it [00:01, 117.92it/s]\n",
      "100%|█████████████████████████████████████████████████████████| 46/46 [00:00<00:00, 162.65it/s]\n"
     ]
    },
    {
     "name": "stdout",
     "output_type": "stream",
     "text": [
      "Epoch: 710 | Training Loss: 0.2806019763915967  | Validation Loss: 1.04112309217453  | Accuracy: 59.87\n"
     ]
    },
    {
     "name": "stderr",
     "output_type": "stream",
     "text": [
      "156it [00:01, 111.43it/s]\n",
      "100%|█████████████████████████████████████████████████████████| 46/46 [00:00<00:00, 155.57it/s]\n"
     ]
    },
    {
     "name": "stdout",
     "output_type": "stream",
     "text": [
      "Epoch: 711 | Training Loss: 0.27937862706872135  | Validation Loss: 0.9691147195256274  | Accuracy: 62.04\n"
     ]
    },
    {
     "name": "stderr",
     "output_type": "stream",
     "text": [
      "156it [00:01, 111.76it/s]\n",
      "100%|█████████████████████████████████████████████████████████| 46/46 [00:00<00:00, 154.66it/s]\n"
     ]
    },
    {
     "name": "stdout",
     "output_type": "stream",
     "text": [
      "Epoch: 712 | Training Loss: 0.27816595318607795  | Validation Loss: 1.0210445601007212  | Accuracy: 59.32\n"
     ]
    },
    {
     "name": "stderr",
     "output_type": "stream",
     "text": [
      "156it [00:01, 120.44it/s]\n",
      "100%|█████████████████████████████████████████████████████████| 46/46 [00:00<00:00, 156.47it/s]\n"
     ]
    },
    {
     "name": "stdout",
     "output_type": "stream",
     "text": [
      "Epoch: 713 | Training Loss: 0.2763807318913631  | Validation Loss: 0.9815552105074343  | Accuracy: 61.96\n"
     ]
    },
    {
     "name": "stderr",
     "output_type": "stream",
     "text": [
      "156it [00:01, 116.65it/s]\n",
      "100%|█████████████████████████████████████████████████████████| 46/46 [00:00<00:00, 162.15it/s]\n"
     ]
    },
    {
     "name": "stdout",
     "output_type": "stream",
     "text": [
      "Epoch: 714 | Training Loss: 0.27873613809545833  | Validation Loss: 0.9587050469025321  | Accuracy: 60.92\n"
     ]
    },
    {
     "name": "stderr",
     "output_type": "stream",
     "text": [
      "156it [00:01, 116.82it/s]\n",
      "100%|█████████████████████████████████████████████████████████| 46/46 [00:00<00:00, 215.85it/s]\n"
     ]
    },
    {
     "name": "stdout",
     "output_type": "stream",
     "text": [
      "Epoch: 715 | Training Loss: 0.2783793708643852  | Validation Loss: 1.0263539850711823  | Accuracy: 60.46\n"
     ]
    },
    {
     "name": "stderr",
     "output_type": "stream",
     "text": [
      "156it [00:01, 116.54it/s]\n",
      "100%|█████████████████████████████████████████████████████████| 46/46 [00:00<00:00, 164.54it/s]\n"
     ]
    },
    {
     "name": "stdout",
     "output_type": "stream",
     "text": [
      "Epoch: 716 | Training Loss: 0.2856877970580871  | Validation Loss: 1.069049049978671  | Accuracy: 59.27\n"
     ]
    },
    {
     "name": "stderr",
     "output_type": "stream",
     "text": [
      "156it [00:01, 116.06it/s]\n",
      "100%|█████████████████████████████████████████████████████████| 46/46 [00:00<00:00, 163.32it/s]\n"
     ]
    },
    {
     "name": "stdout",
     "output_type": "stream",
     "text": [
      "Epoch: 717 | Training Loss: 0.27822997831763363  | Validation Loss: 0.9044789205426755  | Accuracy: 61.51\n"
     ]
    },
    {
     "name": "stderr",
     "output_type": "stream",
     "text": [
      "156it [00:01, 122.74it/s]\n",
      "100%|█████████████████████████████████████████████████████████| 46/46 [00:00<00:00, 156.50it/s]\n"
     ]
    },
    {
     "name": "stdout",
     "output_type": "stream",
     "text": [
      "Epoch: 718 | Training Loss: 0.27469249088794756  | Validation Loss: 1.0680806831173275  | Accuracy: 60.34\n"
     ]
    },
    {
     "name": "stderr",
     "output_type": "stream",
     "text": [
      "156it [00:01, 114.92it/s]\n",
      "100%|█████████████████████████████████████████████████████████| 46/46 [00:00<00:00, 158.84it/s]\n"
     ]
    },
    {
     "name": "stdout",
     "output_type": "stream",
     "text": [
      "Epoch: 719 | Training Loss: 0.2774761258027492  | Validation Loss: 0.9910298663636913  | Accuracy: 60.90\n"
     ]
    },
    {
     "name": "stderr",
     "output_type": "stream",
     "text": [
      "156it [00:01, 112.05it/s]\n",
      "100%|█████████████████████████████████████████████████████████| 46/46 [00:00<00:00, 174.15it/s]\n"
     ]
    },
    {
     "name": "stdout",
     "output_type": "stream",
     "text": [
      "Epoch: 720 | Training Loss: 0.2818869153658549  | Validation Loss: 0.992715738389803  | Accuracy: 60.82\n"
     ]
    },
    {
     "name": "stderr",
     "output_type": "stream",
     "text": [
      "156it [00:01, 112.22it/s]\n",
      "100%|█████████████████████████████████████████████████████████| 46/46 [00:00<00:00, 161.94it/s]\n"
     ]
    },
    {
     "name": "stdout",
     "output_type": "stream",
     "text": [
      "Epoch: 721 | Training Loss: 0.27674370574263424  | Validation Loss: 0.924395053283028  | Accuracy: 62.72\n"
     ]
    },
    {
     "name": "stderr",
     "output_type": "stream",
     "text": [
      "156it [00:01, 115.66it/s]\n",
      "100%|█████████████████████████████████████████████████████████| 46/46 [00:00<00:00, 157.26it/s]\n"
     ]
    },
    {
     "name": "stdout",
     "output_type": "stream",
     "text": [
      "Epoch: 722 | Training Loss: 0.27796978551225787  | Validation Loss: 1.0932890759861988  | Accuracy: 59.70\n"
     ]
    },
    {
     "name": "stderr",
     "output_type": "stream",
     "text": [
      "156it [00:01, 120.69it/s]\n",
      "100%|█████████████████████████████████████████████████████████| 46/46 [00:00<00:00, 152.38it/s]\n"
     ]
    },
    {
     "name": "stdout",
     "output_type": "stream",
     "text": [
      "Epoch: 723 | Training Loss: 0.27877841708369744  | Validation Loss: 0.9747352237286775  | Accuracy: 60.16\n"
     ]
    },
    {
     "name": "stderr",
     "output_type": "stream",
     "text": [
      "156it [00:01, 107.88it/s]\n",
      "100%|█████████████████████████████████████████████████████████| 46/46 [00:00<00:00, 149.17it/s]\n"
     ]
    },
    {
     "name": "stdout",
     "output_type": "stream",
     "text": [
      "Epoch: 724 | Training Loss: 0.2770381563175947  | Validation Loss: 0.9516774390054785  | Accuracy: 60.46\n"
     ]
    },
    {
     "name": "stderr",
     "output_type": "stream",
     "text": [
      "156it [00:01, 107.16it/s]\n",
      "100%|█████████████████████████████████████████████████████████| 46/46 [00:00<00:00, 159.51it/s]\n"
     ]
    },
    {
     "name": "stdout",
     "output_type": "stream",
     "text": [
      "Epoch: 725 | Training Loss: 0.272985003888607  | Validation Loss: 0.9559573906919231  | Accuracy: 60.92\n"
     ]
    },
    {
     "name": "stderr",
     "output_type": "stream",
     "text": [
      "156it [00:01, 107.33it/s]\n",
      "100%|█████████████████████████████████████████████████████████| 46/46 [00:00<00:00, 133.16it/s]\n"
     ]
    },
    {
     "name": "stdout",
     "output_type": "stream",
     "text": [
      "Epoch: 726 | Training Loss: 0.27268162828225356  | Validation Loss: 0.9311192800169406  | Accuracy: 62.25\n"
     ]
    },
    {
     "name": "stderr",
     "output_type": "stream",
     "text": [
      "156it [00:01, 107.67it/s]\n",
      "100%|█████████████████████████████████████████████████████████| 46/46 [00:00<00:00, 153.15it/s]\n"
     ]
    },
    {
     "name": "stdout",
     "output_type": "stream",
     "text": [
      "Epoch: 727 | Training Loss: 0.2720015003130986  | Validation Loss: 0.964619175247524  | Accuracy: 60.92\n"
     ]
    },
    {
     "name": "stderr",
     "output_type": "stream",
     "text": [
      "156it [00:01, 113.65it/s]\n",
      "100%|█████████████████████████████████████████████████████████| 46/46 [00:00<00:00, 144.98it/s]\n"
     ]
    },
    {
     "name": "stdout",
     "output_type": "stream",
     "text": [
      "Epoch: 728 | Training Loss: 0.27445728971790045  | Validation Loss: 1.1901712352814882  | Accuracy: 58.73\n"
     ]
    },
    {
     "name": "stderr",
     "output_type": "stream",
     "text": [
      "156it [00:01, 109.47it/s]\n",
      "100%|█████████████████████████████████████████████████████████| 46/46 [00:00<00:00, 150.47it/s]\n"
     ]
    },
    {
     "name": "stdout",
     "output_type": "stream",
     "text": [
      "Epoch: 729 | Training Loss: 0.2745013204522622  | Validation Loss: 0.9824029906936314  | Accuracy: 62.18\n"
     ]
    },
    {
     "name": "stderr",
     "output_type": "stream",
     "text": [
      "156it [00:01, 109.25it/s]\n",
      "100%|█████████████████████████████████████████████████████████| 46/46 [00:00<00:00, 154.81it/s]\n"
     ]
    },
    {
     "name": "stdout",
     "output_type": "stream",
     "text": [
      "Epoch: 730 | Training Loss: 0.2777586444639243  | Validation Loss: 1.0141541582086813  | Accuracy: 60.24\n"
     ]
    },
    {
     "name": "stderr",
     "output_type": "stream",
     "text": [
      "156it [00:01, 112.10it/s]\n",
      "100%|█████████████████████████████████████████████████████████| 46/46 [00:00<00:00, 134.58it/s]\n"
     ]
    },
    {
     "name": "stdout",
     "output_type": "stream",
     "text": [
      "Epoch: 731 | Training Loss: 0.28231292619155  | Validation Loss: 0.9305250696513964  | Accuracy: 61.04\n"
     ]
    },
    {
     "name": "stderr",
     "output_type": "stream",
     "text": [
      "156it [00:01, 108.11it/s]\n",
      "100%|█████████████████████████████████████████████████████████| 46/46 [00:00<00:00, 152.61it/s]\n"
     ]
    },
    {
     "name": "stdout",
     "output_type": "stream",
     "text": [
      "Epoch: 732 | Training Loss: 0.27629881285322017  | Validation Loss: 1.1115022107310917  | Accuracy: 60.33\n"
     ]
    },
    {
     "name": "stderr",
     "output_type": "stream",
     "text": [
      "156it [00:01, 116.93it/s]\n",
      "100%|█████████████████████████████████████████████████████████| 46/46 [00:00<00:00, 150.12it/s]\n"
     ]
    },
    {
     "name": "stdout",
     "output_type": "stream",
     "text": [
      "Epoch: 733 | Training Loss: 0.28106794983912736  | Validation Loss: 0.9987437750982202  | Accuracy: 61.58\n"
     ]
    },
    {
     "name": "stderr",
     "output_type": "stream",
     "text": [
      "156it [00:01, 109.83it/s]\n",
      "100%|█████████████████████████████████████████████████████████| 46/46 [00:00<00:00, 153.99it/s]\n"
     ]
    },
    {
     "name": "stdout",
     "output_type": "stream",
     "text": [
      "Epoch: 734 | Training Loss: 0.27239940487421477  | Validation Loss: 0.9450807480708413  | Accuracy: 61.21\n"
     ]
    },
    {
     "name": "stderr",
     "output_type": "stream",
     "text": [
      "156it [00:01, 109.63it/s]\n",
      "100%|█████████████████████████████████████████████████████████| 46/46 [00:00<00:00, 154.40it/s]\n"
     ]
    },
    {
     "name": "stdout",
     "output_type": "stream",
     "text": [
      "Epoch: 735 | Training Loss: 0.277685369627598  | Validation Loss: 0.9483192355736442  | Accuracy: 61.55\n"
     ]
    },
    {
     "name": "stderr",
     "output_type": "stream",
     "text": [
      "156it [00:01, 117.67it/s]\n",
      "100%|█████████████████████████████████████████████████████████| 46/46 [00:00<00:00, 141.49it/s]\n"
     ]
    },
    {
     "name": "stdout",
     "output_type": "stream",
     "text": [
      "Epoch: 736 | Training Loss: 0.27911641888129407  | Validation Loss: 0.9648913002532461  | Accuracy: 60.72\n"
     ]
    },
    {
     "name": "stderr",
     "output_type": "stream",
     "text": [
      "156it [00:01, 108.43it/s]\n",
      "100%|█████████████████████████████████████████████████████████| 46/46 [00:00<00:00, 150.58it/s]\n"
     ]
    },
    {
     "name": "stdout",
     "output_type": "stream",
     "text": [
      "Epoch: 737 | Training Loss: 0.2716990594680493  | Validation Loss: 1.051648701014726  | Accuracy: 59.94\n"
     ]
    },
    {
     "name": "stderr",
     "output_type": "stream",
     "text": [
      "156it [00:01, 112.26it/s]\n",
      "100%|█████████████████████████████████████████████████████████| 46/46 [00:00<00:00, 180.48it/s]\n"
     ]
    },
    {
     "name": "stdout",
     "output_type": "stream",
     "text": [
      "Epoch: 738 | Training Loss: 0.2787259329014864  | Validation Loss: 1.0081611534823542  | Accuracy: 61.24\n"
     ]
    },
    {
     "name": "stderr",
     "output_type": "stream",
     "text": [
      "156it [00:01, 115.40it/s]\n",
      "100%|█████████████████████████████████████████████████████████| 46/46 [00:00<00:00, 146.16it/s]\n"
     ]
    },
    {
     "name": "stdout",
     "output_type": "stream",
     "text": [
      "Epoch: 739 | Training Loss: 0.27707546309400827  | Validation Loss: 0.9288593193759089  | Accuracy: 61.70\n"
     ]
    },
    {
     "name": "stderr",
     "output_type": "stream",
     "text": [
      "156it [00:01, 116.11it/s]\n",
      "100%|█████████████████████████████████████████████████████████| 46/46 [00:00<00:00, 163.08it/s]\n"
     ]
    },
    {
     "name": "stdout",
     "output_type": "stream",
     "text": [
      "Epoch: 740 | Training Loss: 0.27536263240453523  | Validation Loss: 1.1546575984229213  | Accuracy: 57.69\n"
     ]
    },
    {
     "name": "stderr",
     "output_type": "stream",
     "text": [
      "156it [00:01, 123.75it/s]\n",
      "100%|█████████████████████████████████████████████████████████| 46/46 [00:00<00:00, 153.33it/s]\n"
     ]
    },
    {
     "name": "stdout",
     "output_type": "stream",
     "text": [
      "Epoch: 741 | Training Loss: 0.27733855560804027  | Validation Loss: 1.0998370725175608  | Accuracy: 59.15\n"
     ]
    },
    {
     "name": "stderr",
     "output_type": "stream",
     "text": [
      "156it [00:01, 115.36it/s]\n",
      "100%|█████████████████████████████████████████████████████████| 46/46 [00:00<00:00, 158.89it/s]\n"
     ]
    },
    {
     "name": "stdout",
     "output_type": "stream",
     "text": [
      "Epoch: 742 | Training Loss: 0.27730224176477164  | Validation Loss: 0.9492141410060551  | Accuracy: 61.40\n"
     ]
    },
    {
     "name": "stderr",
     "output_type": "stream",
     "text": [
      "156it [00:01, 115.34it/s]\n",
      "100%|█████████████████████████████████████████████████████████| 46/46 [00:00<00:00, 176.36it/s]\n"
     ]
    },
    {
     "name": "stdout",
     "output_type": "stream",
     "text": [
      "Epoch: 743 | Training Loss: 0.2770973878602187  | Validation Loss: 0.9943690079709758  | Accuracy: 59.85\n"
     ]
    },
    {
     "name": "stderr",
     "output_type": "stream",
     "text": [
      "156it [00:01, 117.23it/s]\n",
      "100%|█████████████████████████████████████████████████████████| 46/46 [00:00<00:00, 155.39it/s]\n"
     ]
    },
    {
     "name": "stdout",
     "output_type": "stream",
     "text": [
      "Epoch: 744 | Training Loss: 0.27784459015879875  | Validation Loss: 1.0119494536648626  | Accuracy: 61.07\n"
     ]
    },
    {
     "name": "stderr",
     "output_type": "stream",
     "text": [
      "156it [00:01, 115.94it/s]\n",
      "100%|█████████████████████████████████████████████████████████| 46/46 [00:00<00:00, 147.77it/s]\n"
     ]
    },
    {
     "name": "stdout",
     "output_type": "stream",
     "text": [
      "Epoch: 745 | Training Loss: 0.27936441155198294  | Validation Loss: 0.9886645221191904  | Accuracy: 60.72\n"
     ]
    },
    {
     "name": "stderr",
     "output_type": "stream",
     "text": [
      "156it [00:01, 121.31it/s]\n",
      "100%|█████████████████████████████████████████████████████████| 46/46 [00:00<00:00, 161.24it/s]\n"
     ]
    },
    {
     "name": "stdout",
     "output_type": "stream",
     "text": [
      "Epoch: 746 | Training Loss: 0.2729444179015282  | Validation Loss: 0.9668318020260852  | Accuracy: 61.87\n"
     ]
    },
    {
     "name": "stderr",
     "output_type": "stream",
     "text": [
      "156it [00:01, 115.75it/s]\n",
      "100%|█████████████████████████████████████████████████████████| 46/46 [00:00<00:00, 155.12it/s]\n"
     ]
    },
    {
     "name": "stdout",
     "output_type": "stream",
     "text": [
      "Epoch: 747 | Training Loss: 0.2797680815251974  | Validation Loss: 0.9730631074179774  | Accuracy: 61.07\n"
     ]
    },
    {
     "name": "stderr",
     "output_type": "stream",
     "text": [
      "156it [00:01, 114.33it/s]\n",
      "100%|█████████████████████████████████████████████████████████| 46/46 [00:00<00:00, 151.92it/s]\n"
     ]
    },
    {
     "name": "stdout",
     "output_type": "stream",
     "text": [
      "Epoch: 748 | Training Loss: 0.27411896630357474  | Validation Loss: 1.020437250966611  | Accuracy: 59.32\n"
     ]
    },
    {
     "name": "stderr",
     "output_type": "stream",
     "text": [
      "156it [00:01, 119.99it/s]\n",
      "100%|█████████████████████████████████████████████████████████| 46/46 [00:00<00:00, 142.07it/s]\n"
     ]
    },
    {
     "name": "stdout",
     "output_type": "stream",
     "text": [
      "Epoch: 749 | Training Loss: 0.2766436136876925  | Validation Loss: 0.9793609264104263  | Accuracy: 62.01\n"
     ]
    },
    {
     "name": "stderr",
     "output_type": "stream",
     "text": [
      "156it [00:01, 115.12it/s]\n",
      "100%|█████████████████████████████████████████████████████████| 46/46 [00:00<00:00, 159.97it/s]\n"
     ]
    },
    {
     "name": "stdout",
     "output_type": "stream",
     "text": [
      "Epoch: 750 | Training Loss: 0.27577057767372865  | Validation Loss: 1.1308095351509426  | Accuracy: 56.33\n"
     ]
    },
    {
     "name": "stderr",
     "output_type": "stream",
     "text": [
      "156it [00:01, 123.01it/s]\n",
      "100%|█████████████████████████████████████████████████████████| 46/46 [00:00<00:00, 158.68it/s]\n"
     ]
    },
    {
     "name": "stdout",
     "output_type": "stream",
     "text": [
      "Epoch: 751 | Training Loss: 0.27978082259113973  | Validation Loss: 0.9614952828573144  | Accuracy: 59.97\n"
     ]
    },
    {
     "name": "stderr",
     "output_type": "stream",
     "text": [
      "156it [00:01, 114.00it/s]\n",
      "100%|█████████████████████████████████████████████████████████| 46/46 [00:00<00:00, 158.97it/s]\n"
     ]
    },
    {
     "name": "stdout",
     "output_type": "stream",
     "text": [
      "Epoch: 752 | Training Loss: 0.27700270932072246  | Validation Loss: 0.9696061831453572  | Accuracy: 59.90\n"
     ]
    },
    {
     "name": "stderr",
     "output_type": "stream",
     "text": [
      "156it [00:01, 115.11it/s]\n",
      "100%|█████████████████████████████████████████████████████████| 46/46 [00:00<00:00, 160.27it/s]\n"
     ]
    },
    {
     "name": "stdout",
     "output_type": "stream",
     "text": [
      "Epoch: 753 | Training Loss: 0.2798421419201753  | Validation Loss: 1.0656923548035  | Accuracy: 58.10\n"
     ]
    },
    {
     "name": "stderr",
     "output_type": "stream",
     "text": [
      "156it [00:01, 122.92it/s]\n",
      "100%|█████████████████████████████████████████████████████████| 46/46 [00:00<00:00, 160.78it/s]\n"
     ]
    },
    {
     "name": "stdout",
     "output_type": "stream",
     "text": [
      "Epoch: 754 | Training Loss: 0.27886158428513086  | Validation Loss: 1.0847723043483237  | Accuracy: 58.15\n"
     ]
    },
    {
     "name": "stderr",
     "output_type": "stream",
     "text": [
      "156it [00:01, 114.93it/s]\n",
      "100%|█████████████████████████████████████████████████████████| 46/46 [00:00<00:00, 151.56it/s]\n"
     ]
    },
    {
     "name": "stdout",
     "output_type": "stream",
     "text": [
      "Epoch: 755 | Training Loss: 0.2798685834575922  | Validation Loss: 1.0601426259331082  | Accuracy: 60.63\n"
     ]
    },
    {
     "name": "stderr",
     "output_type": "stream",
     "text": [
      "156it [00:01, 121.09it/s]\n",
      "100%|█████████████████████████████████████████████████████████| 46/46 [00:00<00:00, 188.06it/s]\n"
     ]
    },
    {
     "name": "stdout",
     "output_type": "stream",
     "text": [
      "Epoch: 756 | Training Loss: 0.27240932847444826  | Validation Loss: 1.0170823167199674  | Accuracy: 61.75\n"
     ]
    },
    {
     "name": "stderr",
     "output_type": "stream",
     "text": [
      "156it [00:01, 114.69it/s]\n",
      "100%|█████████████████████████████████████████████████████████| 46/46 [00:00<00:00, 155.03it/s]\n"
     ]
    },
    {
     "name": "stdout",
     "output_type": "stream",
     "text": [
      "Epoch: 757 | Training Loss: 0.27729336926952386  | Validation Loss: 0.9361736968807552  | Accuracy: 60.73\n"
     ]
    },
    {
     "name": "stderr",
     "output_type": "stream",
     "text": [
      "156it [00:01, 115.10it/s]\n",
      "100%|█████████████████████████████████████████████████████████| 46/46 [00:00<00:00, 157.75it/s]\n"
     ]
    },
    {
     "name": "stdout",
     "output_type": "stream",
     "text": [
      "Epoch: 758 | Training Loss: 0.2782394399818702  | Validation Loss: 1.058077740928401  | Accuracy: 59.51\n"
     ]
    },
    {
     "name": "stderr",
     "output_type": "stream",
     "text": [
      "156it [00:01, 122.45it/s]\n",
      "100%|█████████████████████████████████████████████████████████| 46/46 [00:00<00:00, 155.41it/s]\n"
     ]
    },
    {
     "name": "stdout",
     "output_type": "stream",
     "text": [
      "Epoch: 759 | Training Loss: 0.2748497426509857  | Validation Loss: 1.11205862009007  | Accuracy: 58.53\n"
     ]
    },
    {
     "name": "stderr",
     "output_type": "stream",
     "text": [
      "156it [00:01, 115.19it/s]\n",
      "100%|█████████████████████████████████████████████████████████| 46/46 [00:00<00:00, 153.63it/s]\n"
     ]
    },
    {
     "name": "stdout",
     "output_type": "stream",
     "text": [
      "Epoch: 760 | Training Loss: 0.27872446857583827  | Validation Loss: 0.9918853381405706  | Accuracy: 59.73\n"
     ]
    },
    {
     "name": "stderr",
     "output_type": "stream",
     "text": [
      "156it [00:01, 116.03it/s]\n",
      "100%|█████████████████████████████████████████████████████████| 46/46 [00:00<00:00, 203.70it/s]\n"
     ]
    },
    {
     "name": "stdout",
     "output_type": "stream",
     "text": [
      "Epoch: 761 | Training Loss: 0.27317674563099176  | Validation Loss: 0.928171615237775  | Accuracy: 61.63\n"
     ]
    },
    {
     "name": "stderr",
     "output_type": "stream",
     "text": [
      "156it [00:01, 120.19it/s]\n",
      "100%|█████████████████████████████████████████████████████████| 46/46 [00:00<00:00, 158.31it/s]\n"
     ]
    },
    {
     "name": "stdout",
     "output_type": "stream",
     "text": [
      "Epoch: 762 | Training Loss: 0.2775250209065584  | Validation Loss: 1.0228369637675907  | Accuracy: 60.33\n"
     ]
    },
    {
     "name": "stderr",
     "output_type": "stream",
     "text": [
      "156it [00:01, 114.48it/s]\n",
      "100%|█████████████████████████████████████████████████████████| 46/46 [00:00<00:00, 161.36it/s]\n"
     ]
    },
    {
     "name": "stdout",
     "output_type": "stream",
     "text": [
      "Epoch: 763 | Training Loss: 0.2722361324689327  | Validation Loss: 0.9869852817576864  | Accuracy: 60.89\n"
     ]
    },
    {
     "name": "stderr",
     "output_type": "stream",
     "text": [
      "156it [00:01, 122.79it/s]\n",
      "100%|█████████████████████████████████████████████████████████| 46/46 [00:00<00:00, 162.74it/s]\n"
     ]
    },
    {
     "name": "stdout",
     "output_type": "stream",
     "text": [
      "Epoch: 764 | Training Loss: 0.27847510089094824  | Validation Loss: 1.2187571603318919  | Accuracy: 56.76\n"
     ]
    },
    {
     "name": "stderr",
     "output_type": "stream",
     "text": [
      "156it [00:01, 113.22it/s]\n",
      "100%|█████████████████████████████████████████████████████████| 46/46 [00:00<00:00, 158.71it/s]\n"
     ]
    },
    {
     "name": "stdout",
     "output_type": "stream",
     "text": [
      "Epoch: 765 | Training Loss: 0.2730290980484241  | Validation Loss: 0.9594681262969971  | Accuracy: 61.92\n"
     ]
    },
    {
     "name": "stderr",
     "output_type": "stream",
     "text": [
      "156it [00:01, 113.80it/s]\n",
      "100%|█████████████████████████████████████████████████████████| 46/46 [00:00<00:00, 158.56it/s]\n"
     ]
    },
    {
     "name": "stdout",
     "output_type": "stream",
     "text": [
      "Epoch: 766 | Training Loss: 0.2747155715448734  | Validation Loss: 1.0909928187080051  | Accuracy: 59.58\n"
     ]
    },
    {
     "name": "stderr",
     "output_type": "stream",
     "text": [
      "156it [00:01, 121.79it/s]\n",
      "100%|█████████████████████████████████████████████████████████| 46/46 [00:00<00:00, 160.49it/s]\n"
     ]
    },
    {
     "name": "stdout",
     "output_type": "stream",
     "text": [
      "Epoch: 767 | Training Loss: 0.27396921546031267  | Validation Loss: 1.1246964801912722  | Accuracy: 58.64\n"
     ]
    },
    {
     "name": "stderr",
     "output_type": "stream",
     "text": [
      "156it [00:01, 115.27it/s]\n",
      "100%|█████████████████████████████████████████████████████████| 46/46 [00:00<00:00, 160.20it/s]\n"
     ]
    },
    {
     "name": "stdout",
     "output_type": "stream",
     "text": [
      "Epoch: 768 | Training Loss: 0.2812156014335461  | Validation Loss: 0.9784893574921981  | Accuracy: 60.68\n"
     ]
    },
    {
     "name": "stderr",
     "output_type": "stream",
     "text": [
      "156it [00:01, 122.74it/s]\n",
      "100%|█████████████████████████████████████████████████████████| 46/46 [00:00<00:00, 167.56it/s]\n"
     ]
    },
    {
     "name": "stdout",
     "output_type": "stream",
     "text": [
      "Epoch: 769 | Training Loss: 0.2765262308411109  | Validation Loss: 0.9898006682810576  | Accuracy: 61.80\n"
     ]
    },
    {
     "name": "stderr",
     "output_type": "stream",
     "text": [
      "156it [00:01, 115.51it/s]\n",
      "100%|█████████████████████████████████████████████████████████| 46/46 [00:00<00:00, 160.99it/s]\n"
     ]
    },
    {
     "name": "stdout",
     "output_type": "stream",
     "text": [
      "Epoch: 770 | Training Loss: 0.2778741850111729  | Validation Loss: 1.0845040834468345  | Accuracy: 59.19\n"
     ]
    },
    {
     "name": "stderr",
     "output_type": "stream",
     "text": [
      "156it [00:01, 115.35it/s]\n",
      "100%|█████████████████████████████████████████████████████████| 46/46 [00:00<00:00, 163.26it/s]\n"
     ]
    },
    {
     "name": "stdout",
     "output_type": "stream",
     "text": [
      "Epoch: 771 | Training Loss: 0.27732878560439134  | Validation Loss: 0.9421148883259814  | Accuracy: 61.41\n"
     ]
    },
    {
     "name": "stderr",
     "output_type": "stream",
     "text": [
      "156it [00:01, 122.07it/s]\n",
      "100%|█████████████████████████████████████████████████████████| 46/46 [00:00<00:00, 159.79it/s]\n"
     ]
    },
    {
     "name": "stdout",
     "output_type": "stream",
     "text": [
      "Epoch: 772 | Training Loss: 0.2738227742986801  | Validation Loss: 0.9436868208905925  | Accuracy: 60.94\n"
     ]
    },
    {
     "name": "stderr",
     "output_type": "stream",
     "text": [
      "156it [00:01, 115.60it/s]\n",
      "100%|█████████████████████████████████████████████████████████| 46/46 [00:00<00:00, 164.09it/s]\n"
     ]
    },
    {
     "name": "stdout",
     "output_type": "stream",
     "text": [
      "Epoch: 773 | Training Loss: 0.27272425066584194  | Validation Loss: 1.078850014054257  | Accuracy: 60.44\n"
     ]
    },
    {
     "name": "stderr",
     "output_type": "stream",
     "text": [
      "156it [00:01, 113.92it/s]\n",
      "100%|█████████████████████████████████████████████████████████| 46/46 [00:00<00:00, 192.40it/s]\n"
     ]
    },
    {
     "name": "stdout",
     "output_type": "stream",
     "text": [
      "Epoch: 774 | Training Loss: 0.28439229392470455  | Validation Loss: 0.9796870441540427  | Accuracy: 60.39\n"
     ]
    },
    {
     "name": "stderr",
     "output_type": "stream",
     "text": [
      "156it [00:01, 115.76it/s]\n",
      "100%|█████████████████████████████████████████████████████████| 46/46 [00:00<00:00, 162.67it/s]\n"
     ]
    },
    {
     "name": "stdout",
     "output_type": "stream",
     "text": [
      "Epoch: 775 | Training Loss: 0.28109813328736866  | Validation Loss: 1.0733018556366796  | Accuracy: 59.77\n"
     ]
    },
    {
     "name": "stderr",
     "output_type": "stream",
     "text": [
      "156it [00:01, 115.59it/s]\n",
      "100%|█████████████████████████████████████████████████████████| 46/46 [00:00<00:00, 159.74it/s]\n"
     ]
    },
    {
     "name": "stdout",
     "output_type": "stream",
     "text": [
      "Epoch: 776 | Training Loss: 0.2815319953056482  | Validation Loss: 1.0100108346213466  | Accuracy: 60.92\n"
     ]
    },
    {
     "name": "stderr",
     "output_type": "stream",
     "text": [
      "156it [00:01, 124.42it/s]\n",
      "100%|█████████████████████████████████████████████████████████| 46/46 [00:00<00:00, 157.81it/s]\n"
     ]
    },
    {
     "name": "stdout",
     "output_type": "stream",
     "text": [
      "Epoch: 777 | Training Loss: 0.27641537078680134  | Validation Loss: 0.9552875744259876  | Accuracy: 61.96\n"
     ]
    },
    {
     "name": "stderr",
     "output_type": "stream",
     "text": [
      "156it [00:01, 115.91it/s]\n",
      "100%|█████████████████████████████████████████████████████████| 46/46 [00:00<00:00, 161.90it/s]\n"
     ]
    },
    {
     "name": "stdout",
     "output_type": "stream",
     "text": [
      "Epoch: 778 | Training Loss: 0.28109273868493545  | Validation Loss: 0.9693198968534884  | Accuracy: 60.61\n"
     ]
    },
    {
     "name": "stderr",
     "output_type": "stream",
     "text": [
      "156it [00:01, 114.64it/s]\n",
      "100%|█████████████████████████████████████████████████████████| 46/46 [00:00<00:00, 160.11it/s]\n"
     ]
    },
    {
     "name": "stdout",
     "output_type": "stream",
     "text": [
      "Epoch: 779 | Training Loss: 0.2821012955063429  | Validation Loss: 0.9794322355933811  | Accuracy: 61.23\n"
     ]
    },
    {
     "name": "stderr",
     "output_type": "stream",
     "text": [
      "156it [00:01, 120.12it/s]\n",
      "100%|█████████████████████████████████████████████████████████| 46/46 [00:00<00:00, 161.36it/s]\n"
     ]
    },
    {
     "name": "stdout",
     "output_type": "stream",
     "text": [
      "Epoch: 780 | Training Loss: 0.27969913671796137  | Validation Loss: 1.0075250384600267  | Accuracy: 59.31\n"
     ]
    },
    {
     "name": "stderr",
     "output_type": "stream",
     "text": [
      "156it [00:01, 114.47it/s]\n",
      "100%|█████████████████████████████████████████████████████████| 46/46 [00:00<00:00, 161.18it/s]\n"
     ]
    },
    {
     "name": "stdout",
     "output_type": "stream",
     "text": [
      "Epoch: 781 | Training Loss: 0.2785749110655907  | Validation Loss: 1.1055443131405374  | Accuracy: 59.10\n"
     ]
    },
    {
     "name": "stderr",
     "output_type": "stream",
     "text": [
      "156it [00:01, 122.04it/s]\n",
      "100%|█████████████████████████████████████████████████████████| 46/46 [00:00<00:00, 154.85it/s]\n"
     ]
    },
    {
     "name": "stdout",
     "output_type": "stream",
     "text": [
      "Epoch: 782 | Training Loss: 0.2745801391891944  | Validation Loss: 1.068528652191162  | Accuracy: 58.56\n"
     ]
    },
    {
     "name": "stderr",
     "output_type": "stream",
     "text": [
      "156it [00:01, 114.09it/s]\n",
      "100%|█████████████████████████████████████████████████████████| 46/46 [00:00<00:00, 158.70it/s]\n"
     ]
    },
    {
     "name": "stdout",
     "output_type": "stream",
     "text": [
      "Epoch: 783 | Training Loss: 0.275916604946057  | Validation Loss: 1.1018893666889356  | Accuracy: 59.90\n"
     ]
    },
    {
     "name": "stderr",
     "output_type": "stream",
     "text": [
      "156it [00:01, 114.04it/s]\n",
      "100%|█████████████████████████████████████████████████████████| 46/46 [00:00<00:00, 158.10it/s]\n"
     ]
    },
    {
     "name": "stdout",
     "output_type": "stream",
     "text": [
      "Epoch: 784 | Training Loss: 0.2788233572664933  | Validation Loss: 0.9600916997246121  | Accuracy: 61.41\n"
     ]
    },
    {
     "name": "stderr",
     "output_type": "stream",
     "text": [
      "156it [00:01, 124.99it/s]\n",
      "100%|█████████████████████████████████████████████████████████| 46/46 [00:00<00:00, 145.39it/s]\n"
     ]
    },
    {
     "name": "stdout",
     "output_type": "stream",
     "text": [
      "Epoch: 785 | Training Loss: 0.2788592955240837  | Validation Loss: 0.982506750718407  | Accuracy: 60.92\n"
     ]
    },
    {
     "name": "stderr",
     "output_type": "stream",
     "text": [
      "156it [00:01, 117.64it/s]\n",
      "100%|█████████████████████████████████████████████████████████| 46/46 [00:00<00:00, 162.87it/s]\n"
     ]
    },
    {
     "name": "stdout",
     "output_type": "stream",
     "text": [
      "Epoch: 786 | Training Loss: 0.2729086228288137  | Validation Loss: 1.0641350590664407  | Accuracy: 60.16\n"
     ]
    },
    {
     "name": "stderr",
     "output_type": "stream",
     "text": [
      "156it [00:01, 119.22it/s]\n",
      "100%|█████████████████████████████████████████████████████████| 46/46 [00:00<00:00, 191.01it/s]\n"
     ]
    },
    {
     "name": "stdout",
     "output_type": "stream",
     "text": [
      "Epoch: 787 | Training Loss: 0.2791775900584001  | Validation Loss: 1.0837047696113586  | Accuracy: 59.41\n"
     ]
    },
    {
     "name": "stderr",
     "output_type": "stream",
     "text": [
      "156it [00:01, 114.71it/s]\n",
      "100%|█████████████████████████████████████████████████████████| 46/46 [00:00<00:00, 153.82it/s]\n"
     ]
    },
    {
     "name": "stdout",
     "output_type": "stream",
     "text": [
      "Epoch: 788 | Training Loss: 0.2777433741169098  | Validation Loss: 0.9092291386231132  | Accuracy: 62.23\n"
     ]
    },
    {
     "name": "stderr",
     "output_type": "stream",
     "text": [
      "156it [00:01, 115.36it/s]\n",
      "100%|█████████████████████████████████████████████████████████| 46/46 [00:00<00:00, 160.90it/s]\n"
     ]
    },
    {
     "name": "stdout",
     "output_type": "stream",
     "text": [
      "Epoch: 789 | Training Loss: 0.27823715571027535  | Validation Loss: 0.9863638242949611  | Accuracy: 60.92\n"
     ]
    },
    {
     "name": "stderr",
     "output_type": "stream",
     "text": [
      "156it [00:01, 122.72it/s]\n",
      "100%|█████████████████████████████████████████████████████████| 46/46 [00:00<00:00, 160.71it/s]\n"
     ]
    },
    {
     "name": "stdout",
     "output_type": "stream",
     "text": [
      "Epoch: 790 | Training Loss: 0.28226538671132845  | Validation Loss: 1.0054886613203131  | Accuracy: 60.78\n"
     ]
    },
    {
     "name": "stderr",
     "output_type": "stream",
     "text": [
      "156it [00:01, 115.86it/s]\n",
      "100%|█████████████████████████████████████████████████████████| 46/46 [00:00<00:00, 158.28it/s]\n"
     ]
    },
    {
     "name": "stdout",
     "output_type": "stream",
     "text": [
      "Epoch: 791 | Training Loss: 0.28107186922660243  | Validation Loss: 1.0125741258911465  | Accuracy: 60.00\n"
     ]
    },
    {
     "name": "stderr",
     "output_type": "stream",
     "text": [
      "156it [00:01, 115.35it/s]\n",
      "100%|█████████████████████████████████████████████████████████| 46/46 [00:00<00:00, 181.40it/s]\n"
     ]
    },
    {
     "name": "stdout",
     "output_type": "stream",
     "text": [
      "Epoch: 792 | Training Loss: 0.281129906192804  | Validation Loss: 0.855445613031802  | Accuracy: 62.02\n"
     ]
    },
    {
     "name": "stderr",
     "output_type": "stream",
     "text": [
      "156it [00:01, 117.63it/s]\n",
      "100%|█████████████████████████████████████████████████████████| 46/46 [00:00<00:00, 157.69it/s]\n"
     ]
    },
    {
     "name": "stdout",
     "output_type": "stream",
     "text": [
      "Epoch: 793 | Training Loss: 0.27802853582379145  | Validation Loss: 1.0298772791157598  | Accuracy: 60.82\n"
     ]
    },
    {
     "name": "stderr",
     "output_type": "stream",
     "text": [
      "156it [00:01, 115.10it/s]\n",
      "100%|█████████████████████████████████████████████████████████| 46/46 [00:00<00:00, 158.91it/s]\n"
     ]
    },
    {
     "name": "stdout",
     "output_type": "stream",
     "text": [
      "Epoch: 794 | Training Loss: 0.2802828241808292  | Validation Loss: 1.0339828833289768  | Accuracy: 59.58\n"
     ]
    },
    {
     "name": "stderr",
     "output_type": "stream",
     "text": [
      "156it [00:01, 121.26it/s]\n",
      "100%|█████████████████████████████████████████████████████████| 46/46 [00:00<00:00, 159.44it/s]\n"
     ]
    },
    {
     "name": "stdout",
     "output_type": "stream",
     "text": [
      "Epoch: 795 | Training Loss: 0.2801380665638508  | Validation Loss: 1.0151658317317134  | Accuracy: 61.55\n"
     ]
    },
    {
     "name": "stderr",
     "output_type": "stream",
     "text": [
      "156it [00:01, 115.81it/s]\n",
      "100%|█████████████████████████████████████████████████████████| 46/46 [00:00<00:00, 156.91it/s]\n"
     ]
    },
    {
     "name": "stdout",
     "output_type": "stream",
     "text": [
      "Epoch: 796 | Training Loss: 0.2817464529130703  | Validation Loss: 1.0841704619967418  | Accuracy: 58.80\n"
     ]
    },
    {
     "name": "stderr",
     "output_type": "stream",
     "text": [
      "156it [00:01, 114.88it/s]\n",
      "100%|█████████████████████████████████████████████████████████| 46/46 [00:00<00:00, 157.50it/s]\n"
     ]
    },
    {
     "name": "stdout",
     "output_type": "stream",
     "text": [
      "Epoch: 797 | Training Loss: 0.2773361802101135  | Validation Loss: 0.950643786917562  | Accuracy: 61.19\n"
     ]
    },
    {
     "name": "stderr",
     "output_type": "stream",
     "text": [
      "156it [00:01, 119.94it/s]\n",
      "100%|█████████████████████████████████████████████████████████| 46/46 [00:00<00:00, 154.70it/s]\n"
     ]
    },
    {
     "name": "stdout",
     "output_type": "stream",
     "text": [
      "Epoch: 798 | Training Loss: 0.278215827468114  | Validation Loss: 1.0401590984800588  | Accuracy: 61.01\n"
     ]
    },
    {
     "name": "stderr",
     "output_type": "stream",
     "text": [
      "156it [00:01, 114.25it/s]\n",
      "100%|█████████████████████████████████████████████████████████| 46/46 [00:00<00:00, 152.59it/s]\n"
     ]
    },
    {
     "name": "stdout",
     "output_type": "stream",
     "text": [
      "Epoch: 799 | Training Loss: 0.2775134907510036  | Validation Loss: 0.9239467434261156  | Accuracy: 62.30\n"
     ]
    },
    {
     "name": "stderr",
     "output_type": "stream",
     "text": [
      "156it [00:01, 121.34it/s]\n",
      "100%|█████████████████████████████████████████████████████████| 46/46 [00:00<00:00, 157.56it/s]\n"
     ]
    },
    {
     "name": "stdout",
     "output_type": "stream",
     "text": [
      "Epoch: 800 | Training Loss: 0.27678682015110284  | Validation Loss: 1.083746719619502  | Accuracy: 60.07\n"
     ]
    },
    {
     "name": "stderr",
     "output_type": "stream",
     "text": [
      "156it [00:01, 115.32it/s]\n",
      "100%|█████████████████████████████████████████████████████████| 46/46 [00:00<00:00, 160.02it/s]\n"
     ]
    },
    {
     "name": "stdout",
     "output_type": "stream",
     "text": [
      "Epoch: 801 | Training Loss: 0.28037909265512073  | Validation Loss: 1.0113314869611159  | Accuracy: 60.36\n"
     ]
    },
    {
     "name": "stderr",
     "output_type": "stream",
     "text": [
      "156it [00:01, 115.69it/s]\n",
      "100%|█████████████████████████████████████████████████████████| 46/46 [00:00<00:00, 154.45it/s]\n"
     ]
    },
    {
     "name": "stdout",
     "output_type": "stream",
     "text": [
      "Epoch: 802 | Training Loss: 0.2772271052384988  | Validation Loss: 0.9418471636979476  | Accuracy: 61.11\n"
     ]
    },
    {
     "name": "stderr",
     "output_type": "stream",
     "text": [
      "156it [00:01, 122.96it/s]\n",
      "100%|█████████████████████████████████████████████████████████| 46/46 [00:00<00:00, 157.59it/s]\n"
     ]
    },
    {
     "name": "stdout",
     "output_type": "stream",
     "text": [
      "Epoch: 803 | Training Loss: 0.27525886157766366  | Validation Loss: 1.0008953952271005  | Accuracy: 59.82\n"
     ]
    },
    {
     "name": "stderr",
     "output_type": "stream",
     "text": [
      "156it [00:01, 113.92it/s]\n",
      "100%|█████████████████████████████████████████████████████████| 46/46 [00:00<00:00, 162.85it/s]\n"
     ]
    },
    {
     "name": "stdout",
     "output_type": "stream",
     "text": [
      "Epoch: 804 | Training Loss: 0.28569896032030767  | Validation Loss: 0.9693520600381105  | Accuracy: 61.40\n"
     ]
    },
    {
     "name": "stderr",
     "output_type": "stream",
     "text": [
      "156it [00:01, 117.62it/s]\n",
      "100%|█████████████████████████████████████████████████████████| 46/46 [00:00<00:00, 188.10it/s]\n"
     ]
    },
    {
     "name": "stdout",
     "output_type": "stream",
     "text": [
      "Epoch: 805 | Training Loss: 0.27571640068139786  | Validation Loss: 1.2327661151471345  | Accuracy: 57.42\n"
     ]
    },
    {
     "name": "stderr",
     "output_type": "stream",
     "text": [
      "156it [00:01, 115.22it/s]\n",
      "100%|█████████████████████████████████████████████████████████| 46/46 [00:00<00:00, 158.33it/s]\n"
     ]
    },
    {
     "name": "stdout",
     "output_type": "stream",
     "text": [
      "Epoch: 806 | Training Loss: 0.2759908211345856  | Validation Loss: 1.0278854370117188  | Accuracy: 59.10\n"
     ]
    },
    {
     "name": "stderr",
     "output_type": "stream",
     "text": [
      "156it [00:01, 114.83it/s]\n",
      "100%|█████████████████████████████████████████████████████████| 46/46 [00:00<00:00, 160.36it/s]\n"
     ]
    },
    {
     "name": "stdout",
     "output_type": "stream",
     "text": [
      "Epoch: 807 | Training Loss: 0.2797227113101727  | Validation Loss: 1.0090941605360613  | Accuracy: 60.00\n"
     ]
    },
    {
     "name": "stderr",
     "output_type": "stream",
     "text": [
      "156it [00:01, 121.85it/s]\n",
      "100%|█████████████████████████████████████████████████████████| 46/46 [00:00<00:00, 163.20it/s]\n"
     ]
    },
    {
     "name": "stdout",
     "output_type": "stream",
     "text": [
      "Epoch: 808 | Training Loss: 0.27822202768845433  | Validation Loss: 0.8882985529692277  | Accuracy: 62.02\n"
     ]
    },
    {
     "name": "stderr",
     "output_type": "stream",
     "text": [
      "156it [00:01, 116.15it/s]\n",
      "100%|█████████████████████████████████████████████████████████| 46/46 [00:00<00:00, 157.32it/s]\n"
     ]
    },
    {
     "name": "stdout",
     "output_type": "stream",
     "text": [
      "Epoch: 809 | Training Loss: 0.2745834555572424  | Validation Loss: 0.9354489873284879  | Accuracy: 61.67\n"
     ]
    },
    {
     "name": "stderr",
     "output_type": "stream",
     "text": [
      "156it [00:01, 116.27it/s]\n",
      "100%|█████████████████████████████████████████████████████████| 46/46 [00:00<00:00, 173.23it/s]\n"
     ]
    },
    {
     "name": "stdout",
     "output_type": "stream",
     "text": [
      "Epoch: 810 | Training Loss: 0.27525088554009414  | Validation Loss: 1.1010902200056158  | Accuracy: 60.09\n"
     ]
    },
    {
     "name": "stderr",
     "output_type": "stream",
     "text": [
      "156it [00:01, 117.50it/s]\n",
      "100%|█████████████████████████████████████████████████████████| 46/46 [00:00<00:00, 144.79it/s]\n"
     ]
    },
    {
     "name": "stdout",
     "output_type": "stream",
     "text": [
      "Epoch: 811 | Training Loss: 0.27724306419109684  | Validation Loss: 1.1429862950159155  | Accuracy: 59.14\n"
     ]
    },
    {
     "name": "stderr",
     "output_type": "stream",
     "text": [
      "156it [00:01, 115.19it/s]\n",
      "100%|█████████████████████████████████████████████████████████| 46/46 [00:00<00:00, 155.43it/s]\n"
     ]
    },
    {
     "name": "stdout",
     "output_type": "stream",
     "text": [
      "Epoch: 812 | Training Loss: 0.2776890696050265  | Validation Loss: 0.9307937647985376  | Accuracy: 60.82\n"
     ]
    },
    {
     "name": "stderr",
     "output_type": "stream",
     "text": [
      "156it [00:01, 120.96it/s]\n",
      "100%|█████████████████████████████████████████████████████████| 46/46 [00:00<00:00, 150.53it/s]\n"
     ]
    },
    {
     "name": "stdout",
     "output_type": "stream",
     "text": [
      "Epoch: 813 | Training Loss: 0.2760985809832047  | Validation Loss: 1.0425899352716363  | Accuracy: 59.68\n"
     ]
    },
    {
     "name": "stderr",
     "output_type": "stream",
     "text": [
      "156it [00:01, 114.49it/s]\n",
      "100%|█████████████████████████████████████████████████████████| 46/46 [00:00<00:00, 156.18it/s]\n"
     ]
    },
    {
     "name": "stdout",
     "output_type": "stream",
     "text": [
      "Epoch: 814 | Training Loss: 0.27998093124001455  | Validation Loss: 0.9922603018905806  | Accuracy: 60.44\n"
     ]
    },
    {
     "name": "stderr",
     "output_type": "stream",
     "text": [
      "156it [00:01, 115.29it/s]\n",
      "100%|█████████████████████████████████████████████████████████| 46/46 [00:00<00:00, 165.34it/s]\n"
     ]
    },
    {
     "name": "stdout",
     "output_type": "stream",
     "text": [
      "Epoch: 815 | Training Loss: 0.27838417343222177  | Validation Loss: 1.1609678177729896  | Accuracy: 58.78\n"
     ]
    },
    {
     "name": "stderr",
     "output_type": "stream",
     "text": [
      "156it [00:01, 121.13it/s]\n",
      "100%|█████████████████████████████████████████████████████████| 46/46 [00:00<00:00, 157.96it/s]\n"
     ]
    },
    {
     "name": "stdout",
     "output_type": "stream",
     "text": [
      "Epoch: 816 | Training Loss: 0.2774841426274715  | Validation Loss: 0.9447883639646613  | Accuracy: 60.90\n"
     ]
    },
    {
     "name": "stderr",
     "output_type": "stream",
     "text": [
      "156it [00:01, 115.77it/s]\n",
      "100%|█████████████████████████████████████████████████████████| 46/46 [00:00<00:00, 145.16it/s]\n"
     ]
    },
    {
     "name": "stdout",
     "output_type": "stream",
     "text": [
      "Epoch: 817 | Training Loss: 0.2802650366838162  | Validation Loss: 1.066629680602447  | Accuracy: 59.24\n"
     ]
    },
    {
     "name": "stderr",
     "output_type": "stream",
     "text": [
      "156it [00:01, 125.74it/s]\n",
      "100%|█████████████████████████████████████████████████████████| 46/46 [00:00<00:00, 154.06it/s]\n"
     ]
    },
    {
     "name": "stdout",
     "output_type": "stream",
     "text": [
      "Epoch: 818 | Training Loss: 0.27396313215677554  | Validation Loss: 1.0133645560430444  | Accuracy: 59.82\n"
     ]
    },
    {
     "name": "stderr",
     "output_type": "stream",
     "text": [
      "156it [00:01, 118.44it/s]\n",
      "100%|█████████████████████████████████████████████████████████| 46/46 [00:00<00:00, 158.13it/s]\n"
     ]
    },
    {
     "name": "stdout",
     "output_type": "stream",
     "text": [
      "Epoch: 819 | Training Loss: 0.2799801046076493  | Validation Loss: 1.0030007673346477  | Accuracy: 61.33\n"
     ]
    },
    {
     "name": "stderr",
     "output_type": "stream",
     "text": [
      "156it [00:01, 117.18it/s]\n",
      "100%|█████████████████████████████████████████████████████████| 46/46 [00:00<00:00, 161.36it/s]\n"
     ]
    },
    {
     "name": "stdout",
     "output_type": "stream",
     "text": [
      "Epoch: 820 | Training Loss: 0.27881003868503446  | Validation Loss: 1.0198054611682892  | Accuracy: 60.60\n"
     ]
    },
    {
     "name": "stderr",
     "output_type": "stream",
     "text": [
      "156it [00:01, 120.98it/s]\n",
      "100%|█████████████████████████████████████████████████████████| 46/46 [00:00<00:00, 153.82it/s]\n"
     ]
    },
    {
     "name": "stdout",
     "output_type": "stream",
     "text": [
      "Epoch: 821 | Training Loss: 0.27720774528689873  | Validation Loss: 0.9700397343739219  | Accuracy: 60.77\n"
     ]
    },
    {
     "name": "stderr",
     "output_type": "stream",
     "text": [
      "156it [00:01, 115.04it/s]\n",
      "100%|█████████████████████████████████████████████████████████| 46/46 [00:00<00:00, 159.72it/s]\n"
     ]
    },
    {
     "name": "stdout",
     "output_type": "stream",
     "text": [
      "Epoch: 822 | Training Loss: 0.28024514105457526  | Validation Loss: 0.9368748924006587  | Accuracy: 63.08\n"
     ]
    },
    {
     "name": "stderr",
     "output_type": "stream",
     "text": [
      "156it [00:01, 117.71it/s]\n",
      "100%|█████████████████████████████████████████████████████████| 46/46 [00:00<00:00, 192.41it/s]\n"
     ]
    },
    {
     "name": "stdout",
     "output_type": "stream",
     "text": [
      "Epoch: 823 | Training Loss: 0.27414295201500255  | Validation Loss: 0.9708656357682269  | Accuracy: 60.90\n"
     ]
    },
    {
     "name": "stderr",
     "output_type": "stream",
     "text": [
      "156it [00:01, 115.31it/s]\n",
      "100%|█████████████████████████████████████████████████████████| 46/46 [00:00<00:00, 158.27it/s]\n"
     ]
    },
    {
     "name": "stdout",
     "output_type": "stream",
     "text": [
      "Epoch: 824 | Training Loss: 0.27674651652192456  | Validation Loss: 1.1005474432655002  | Accuracy: 59.85\n"
     ]
    },
    {
     "name": "stderr",
     "output_type": "stream",
     "text": [
      "156it [00:01, 114.28it/s]\n",
      "100%|█████████████████████████████████████████████████████████| 46/46 [00:00<00:00, 156.21it/s]\n"
     ]
    },
    {
     "name": "stdout",
     "output_type": "stream",
     "text": [
      "Epoch: 825 | Training Loss: 0.27585663550939316  | Validation Loss: 0.9883785183015077  | Accuracy: 60.77\n"
     ]
    },
    {
     "name": "stderr",
     "output_type": "stream",
     "text": [
      "156it [00:01, 121.51it/s]\n",
      "100%|█████████████████████████████████████████████████████████| 46/46 [00:00<00:00, 147.03it/s]\n"
     ]
    },
    {
     "name": "stdout",
     "output_type": "stream",
     "text": [
      "Epoch: 826 | Training Loss: 0.2749093425197479  | Validation Loss: 1.0513717143431953  | Accuracy: 59.09\n"
     ]
    },
    {
     "name": "stderr",
     "output_type": "stream",
     "text": [
      "156it [00:01, 116.49it/s]\n",
      "100%|█████████████████████████████████████████████████████████| 46/46 [00:00<00:00, 145.14it/s]\n"
     ]
    },
    {
     "name": "stdout",
     "output_type": "stream",
     "text": [
      "Epoch: 827 | Training Loss: 0.281044217160879  | Validation Loss: 1.0648951465668886  | Accuracy: 60.60\n"
     ]
    },
    {
     "name": "stderr",
     "output_type": "stream",
     "text": [
      "156it [00:01, 114.99it/s]\n",
      "100%|█████████████████████████████████████████████████████████| 46/46 [00:00<00:00, 218.05it/s]\n"
     ]
    },
    {
     "name": "stdout",
     "output_type": "stream",
     "text": [
      "Epoch: 828 | Training Loss: 0.27728130754369956  | Validation Loss: 0.9660897838032764  | Accuracy: 59.27\n"
     ]
    },
    {
     "name": "stderr",
     "output_type": "stream",
     "text": [
      "156it [00:01, 116.44it/s]\n",
      "100%|█████████████████████████████████████████████████████████| 46/46 [00:00<00:00, 160.38it/s]\n"
     ]
    },
    {
     "name": "stdout",
     "output_type": "stream",
     "text": [
      "Epoch: 829 | Training Loss: 0.2790026560616799  | Validation Loss: 0.9822606249995853  | Accuracy: 62.18\n"
     ]
    },
    {
     "name": "stderr",
     "output_type": "stream",
     "text": [
      "156it [00:01, 115.45it/s]\n",
      "100%|█████████████████████████████████████████████████████████| 46/46 [00:00<00:00, 160.38it/s]\n"
     ]
    },
    {
     "name": "stdout",
     "output_type": "stream",
     "text": [
      "Epoch: 830 | Training Loss: 0.2771466913131567  | Validation Loss: 1.1769159151160198  | Accuracy: 58.22\n"
     ]
    },
    {
     "name": "stderr",
     "output_type": "stream",
     "text": [
      "156it [00:01, 123.62it/s]\n",
      "100%|█████████████████████████████████████████████████████████| 46/46 [00:00<00:00, 150.45it/s]\n"
     ]
    },
    {
     "name": "stdout",
     "output_type": "stream",
     "text": [
      "Epoch: 831 | Training Loss: 0.2719064473341673  | Validation Loss: 0.9481495942758478  | Accuracy: 61.77\n"
     ]
    },
    {
     "name": "stderr",
     "output_type": "stream",
     "text": [
      "156it [00:01, 115.21it/s]\n",
      "100%|█████████████████████████████████████████████████████████| 46/46 [00:00<00:00, 159.09it/s]\n"
     ]
    },
    {
     "name": "stdout",
     "output_type": "stream",
     "text": [
      "Epoch: 832 | Training Loss: 0.2801537192784823  | Validation Loss: 1.0363101803738137  | Accuracy: 59.60\n"
     ]
    },
    {
     "name": "stderr",
     "output_type": "stream",
     "text": [
      "156it [00:01, 113.86it/s]\n",
      "100%|█████████████████████████████████████████████████████████| 46/46 [00:00<00:00, 169.24it/s]\n"
     ]
    },
    {
     "name": "stdout",
     "output_type": "stream",
     "text": [
      "Epoch: 833 | Training Loss: 0.278379715883579  | Validation Loss: 0.9153092840443486  | Accuracy: 62.67\n"
     ]
    },
    {
     "name": "stderr",
     "output_type": "stream",
     "text": [
      "156it [00:01, 122.72it/s]\n",
      "100%|█████████████████████████████████████████████████████████| 46/46 [00:00<00:00, 154.89it/s]\n"
     ]
    },
    {
     "name": "stdout",
     "output_type": "stream",
     "text": [
      "Epoch: 834 | Training Loss: 0.2757164541727457  | Validation Loss: 1.0640166000179623  | Accuracy: 59.05\n"
     ]
    },
    {
     "name": "stderr",
     "output_type": "stream",
     "text": [
      "156it [00:01, 115.72it/s]\n",
      "100%|█████████████████████████████████████████████████████████| 46/46 [00:00<00:00, 155.72it/s]\n"
     ]
    },
    {
     "name": "stdout",
     "output_type": "stream",
     "text": [
      "Epoch: 835 | Training Loss: 0.2743226174169626  | Validation Loss: 0.9119960652745288  | Accuracy: 62.72\n"
     ]
    },
    {
     "name": "stderr",
     "output_type": "stream",
     "text": [
      "156it [00:01, 123.14it/s]\n",
      "100%|█████████████████████████████████████████████████████████| 46/46 [00:00<00:00, 156.43it/s]\n"
     ]
    },
    {
     "name": "stdout",
     "output_type": "stream",
     "text": [
      "Epoch: 836 | Training Loss: 0.27767351556282777  | Validation Loss: 0.996986281612645  | Accuracy: 59.78\n"
     ]
    },
    {
     "name": "stderr",
     "output_type": "stream",
     "text": [
      "156it [00:01, 116.52it/s]\n",
      "100%|█████████████████████████████████████████████████████████| 46/46 [00:00<00:00, 145.48it/s]\n"
     ]
    },
    {
     "name": "stdout",
     "output_type": "stream",
     "text": [
      "Epoch: 837 | Training Loss: 0.27624306799127507  | Validation Loss: 1.092623048502466  | Accuracy: 58.81\n"
     ]
    },
    {
     "name": "stderr",
     "output_type": "stream",
     "text": [
      "156it [00:01, 116.64it/s]\n",
      "100%|█████████████████████████████████████████████████████████| 46/46 [00:00<00:00, 142.74it/s]\n"
     ]
    },
    {
     "name": "stdout",
     "output_type": "stream",
     "text": [
      "Epoch: 838 | Training Loss: 0.2788069452612828  | Validation Loss: 1.1398341072642284  | Accuracy: 58.54\n"
     ]
    },
    {
     "name": "stderr",
     "output_type": "stream",
     "text": [
      "156it [00:01, 124.63it/s]\n",
      "100%|█████████████████████████████████████████████████████████| 46/46 [00:00<00:00, 150.36it/s]\n"
     ]
    },
    {
     "name": "stdout",
     "output_type": "stream",
     "text": [
      "Epoch: 839 | Training Loss: 0.2746522433291643  | Validation Loss: 0.9846504602743231  | Accuracy: 60.09\n"
     ]
    },
    {
     "name": "stderr",
     "output_type": "stream",
     "text": [
      "156it [00:01, 110.53it/s]\n",
      "100%|█████████████████████████████████████████████████████████| 46/46 [00:00<00:00, 156.56it/s]\n"
     ]
    },
    {
     "name": "stdout",
     "output_type": "stream",
     "text": [
      "Epoch: 840 | Training Loss: 0.2758801800127213  | Validation Loss: 0.9956599888594254  | Accuracy: 60.87\n"
     ]
    },
    {
     "name": "stderr",
     "output_type": "stream",
     "text": [
      "156it [00:01, 123.05it/s]\n",
      "100%|█████████████████████████████████████████████████████████| 46/46 [00:00<00:00, 181.99it/s]\n"
     ]
    },
    {
     "name": "stdout",
     "output_type": "stream",
     "text": [
      "Epoch: 841 | Training Loss: 0.27553092860258543  | Validation Loss: 1.1117718543695367  | Accuracy: 58.80\n"
     ]
    },
    {
     "name": "stderr",
     "output_type": "stream",
     "text": [
      "156it [00:01, 116.04it/s]\n",
      "100%|█████████████████████████████████████████████████████████| 46/46 [00:00<00:00, 159.95it/s]\n"
     ]
    },
    {
     "name": "stdout",
     "output_type": "stream",
     "text": [
      "Epoch: 842 | Training Loss: 0.27940783267601943  | Validation Loss: 1.1079504515813745  | Accuracy: 59.15\n"
     ]
    },
    {
     "name": "stderr",
     "output_type": "stream",
     "text": [
      "156it [00:01, 116.10it/s]\n",
      "100%|█████████████████████████████████████████████████████████| 46/46 [00:00<00:00, 161.89it/s]\n"
     ]
    },
    {
     "name": "stdout",
     "output_type": "stream",
     "text": [
      "Epoch: 843 | Training Loss: 0.2758273689601666  | Validation Loss: 0.9593608781047489  | Accuracy: 61.77\n"
     ]
    },
    {
     "name": "stderr",
     "output_type": "stream",
     "text": [
      "156it [00:01, 122.56it/s]\n",
      "100%|█████████████████████████████████████████████████████████| 46/46 [00:00<00:00, 155.69it/s]\n"
     ]
    },
    {
     "name": "stdout",
     "output_type": "stream",
     "text": [
      "Epoch: 844 | Training Loss: 0.27650861766857976  | Validation Loss: 1.0123621147611868  | Accuracy: 59.05\n"
     ]
    },
    {
     "name": "stderr",
     "output_type": "stream",
     "text": [
      "156it [00:01, 114.65it/s]\n",
      "100%|█████████████████████████████████████████████████████████| 46/46 [00:00<00:00, 161.31it/s]\n"
     ]
    },
    {
     "name": "stdout",
     "output_type": "stream",
     "text": [
      "Epoch: 845 | Training Loss: 0.2790075612182801  | Validation Loss: 1.0990633433279784  | Accuracy: 59.36\n"
     ]
    },
    {
     "name": "stderr",
     "output_type": "stream",
     "text": [
      "156it [00:01, 114.90it/s]\n",
      "100%|█████████████████████████████████████████████████████████| 46/46 [00:00<00:00, 209.44it/s]\n"
     ]
    },
    {
     "name": "stdout",
     "output_type": "stream",
     "text": [
      "Epoch: 846 | Training Loss: 0.276883133710959  | Validation Loss: 0.9299595226412234  | Accuracy: 62.16\n"
     ]
    },
    {
     "name": "stderr",
     "output_type": "stream",
     "text": [
      "156it [00:01, 116.12it/s]\n",
      "100%|█████████████████████████████████████████████████████████| 46/46 [00:00<00:00, 163.58it/s]\n"
     ]
    },
    {
     "name": "stdout",
     "output_type": "stream",
     "text": [
      "Epoch: 847 | Training Loss: 0.277909681869623  | Validation Loss: 0.9388041794300079  | Accuracy: 61.36\n"
     ]
    },
    {
     "name": "stderr",
     "output_type": "stream",
     "text": [
      "156it [00:01, 115.17it/s]\n",
      "100%|█████████████████████████████████████████████████████████| 46/46 [00:00<00:00, 162.49it/s]\n"
     ]
    },
    {
     "name": "stdout",
     "output_type": "stream",
     "text": [
      "Epoch: 848 | Training Loss: 0.27305988136392373  | Validation Loss: 1.0940744825031445  | Accuracy: 60.00\n"
     ]
    },
    {
     "name": "stderr",
     "output_type": "stream",
     "text": [
      "156it [00:01, 123.68it/s]\n",
      "100%|█████████████████████████████████████████████████████████| 46/46 [00:00<00:00, 158.71it/s]\n"
     ]
    },
    {
     "name": "stdout",
     "output_type": "stream",
     "text": [
      "Epoch: 849 | Training Loss: 0.27886891536987746  | Validation Loss: 0.9563906594463016  | Accuracy: 60.21\n"
     ]
    },
    {
     "name": "stderr",
     "output_type": "stream",
     "text": [
      "156it [00:01, 114.94it/s]\n",
      "100%|█████████████████████████████████████████████████████████| 46/46 [00:00<00:00, 147.62it/s]\n"
     ]
    },
    {
     "name": "stdout",
     "output_type": "stream",
     "text": [
      "Epoch: 850 | Training Loss: 0.2794215070704619  | Validation Loss: 1.1720577154470526  | Accuracy: 58.47\n"
     ]
    },
    {
     "name": "stderr",
     "output_type": "stream",
     "text": [
      "156it [00:01, 115.37it/s]\n",
      "100%|█████████████████████████████████████████████████████████| 46/46 [00:00<00:00, 161.80it/s]\n"
     ]
    },
    {
     "name": "stdout",
     "output_type": "stream",
     "text": [
      "Epoch: 851 | Training Loss: 0.2661701983366257  | Validation Loss: 0.9510610310927682  | Accuracy: 62.11\n"
     ]
    },
    {
     "name": "stderr",
     "output_type": "stream",
     "text": [
      "156it [00:01, 122.79it/s]\n",
      "100%|█████████████████████████████████████████████████████████| 46/46 [00:00<00:00, 153.85it/s]\n"
     ]
    },
    {
     "name": "stdout",
     "output_type": "stream",
     "text": [
      "Epoch: 852 | Training Loss: 0.2724542749615816  | Validation Loss: 0.9637045601139897  | Accuracy: 61.43\n"
     ]
    },
    {
     "name": "stderr",
     "output_type": "stream",
     "text": [
      "156it [00:01, 114.70it/s]\n",
      "100%|█████████████████████████████████████████████████████████| 46/46 [00:00<00:00, 159.65it/s]\n"
     ]
    },
    {
     "name": "stdout",
     "output_type": "stream",
     "text": [
      "Epoch: 853 | Training Loss: 0.27418267325713086  | Validation Loss: 1.0067639972852624  | Accuracy: 59.99\n"
     ]
    },
    {
     "name": "stderr",
     "output_type": "stream",
     "text": [
      "156it [00:01, 121.16it/s]\n",
      "100%|█████████████████████████████████████████████████████████| 46/46 [00:00<00:00, 163.79it/s]\n"
     ]
    },
    {
     "name": "stdout",
     "output_type": "stream",
     "text": [
      "Epoch: 854 | Training Loss: 0.27418963506053656  | Validation Loss: 0.9625946348128112  | Accuracy: 61.87\n"
     ]
    },
    {
     "name": "stderr",
     "output_type": "stream",
     "text": [
      "156it [00:01, 117.16it/s]\n",
      "100%|█████████████████████████████████████████████████████████| 46/46 [00:00<00:00, 156.61it/s]\n"
     ]
    },
    {
     "name": "stdout",
     "output_type": "stream",
     "text": [
      "Epoch: 855 | Training Loss: 0.27188633296352166  | Validation Loss: 0.9394844161427539  | Accuracy: 62.58\n"
     ]
    },
    {
     "name": "stderr",
     "output_type": "stream",
     "text": [
      "156it [00:01, 114.98it/s]\n",
      "100%|█████████████████████████████████████████████████████████| 46/46 [00:00<00:00, 159.48it/s]\n"
     ]
    },
    {
     "name": "stdout",
     "output_type": "stream",
     "text": [
      "Epoch: 856 | Training Loss: 0.2761888256630836  | Validation Loss: 1.075781312973603  | Accuracy: 59.39\n"
     ]
    },
    {
     "name": "stderr",
     "output_type": "stream",
     "text": [
      "156it [00:01, 122.43it/s]\n",
      "100%|█████████████████████████████████████████████████████████| 46/46 [00:00<00:00, 157.09it/s]\n"
     ]
    },
    {
     "name": "stdout",
     "output_type": "stream",
     "text": [
      "Epoch: 857 | Training Loss: 0.2718823115604046  | Validation Loss: 1.0384811849697777  | Accuracy: 59.88\n"
     ]
    },
    {
     "name": "stderr",
     "output_type": "stream",
     "text": [
      "156it [00:01, 111.07it/s]\n",
      "100%|█████████████████████████████████████████████████████████| 46/46 [00:00<00:00, 149.40it/s]\n"
     ]
    },
    {
     "name": "stdout",
     "output_type": "stream",
     "text": [
      "Epoch: 858 | Training Loss: 0.2729306908754202  | Validation Loss: 0.9399719756582509  | Accuracy: 61.62\n"
     ]
    },
    {
     "name": "stderr",
     "output_type": "stream",
     "text": [
      "156it [00:01, 119.06it/s]\n",
      "100%|█████████████████████████████████████████████████████████| 46/46 [00:00<00:00, 174.36it/s]\n"
     ]
    },
    {
     "name": "stdout",
     "output_type": "stream",
     "text": [
      "Epoch: 859 | Training Loss: 0.27753218941581553  | Validation Loss: 0.9867244829302249  | Accuracy: 61.31\n"
     ]
    },
    {
     "name": "stderr",
     "output_type": "stream",
     "text": [
      "156it [00:01, 115.08it/s]\n",
      "100%|█████████████████████████████████████████████████████████| 46/46 [00:00<00:00, 158.18it/s]\n"
     ]
    },
    {
     "name": "stdout",
     "output_type": "stream",
     "text": [
      "Epoch: 860 | Training Loss: 0.2754859624382777  | Validation Loss: 0.9970194541889689  | Accuracy: 62.04\n"
     ]
    },
    {
     "name": "stderr",
     "output_type": "stream",
     "text": [
      "156it [00:01, 115.35it/s]\n",
      "100%|█████████████████████████████████████████████████████████| 46/46 [00:00<00:00, 159.52it/s]\n"
     ]
    },
    {
     "name": "stdout",
     "output_type": "stream",
     "text": [
      "Epoch: 861 | Training Loss: 0.2837506353090971  | Validation Loss: 1.091010052224864  | Accuracy: 59.95\n"
     ]
    },
    {
     "name": "stderr",
     "output_type": "stream",
     "text": [
      "156it [00:01, 121.53it/s]\n",
      "100%|█████████████████████████████████████████████████████████| 46/46 [00:00<00:00, 164.08it/s]\n"
     ]
    },
    {
     "name": "stdout",
     "output_type": "stream",
     "text": [
      "Epoch: 862 | Training Loss: 0.2798627718136861  | Validation Loss: 1.0673118751981985  | Accuracy: 59.22\n"
     ]
    },
    {
     "name": "stderr",
     "output_type": "stream",
     "text": [
      "156it [00:01, 116.02it/s]\n",
      "100%|█████████████████████████████████████████████████████████| 46/46 [00:00<00:00, 158.07it/s]\n"
     ]
    },
    {
     "name": "stdout",
     "output_type": "stream",
     "text": [
      "Epoch: 863 | Training Loss: 0.2794438960651557  | Validation Loss: 0.8931703489759694  | Accuracy: 61.89\n"
     ]
    },
    {
     "name": "stderr",
     "output_type": "stream",
     "text": [
      "156it [00:01, 117.15it/s]\n",
      "100%|█████████████████████████████████████████████████████████| 46/46 [00:00<00:00, 201.61it/s]\n"
     ]
    },
    {
     "name": "stdout",
     "output_type": "stream",
     "text": [
      "Epoch: 864 | Training Loss: 0.2784969844879248  | Validation Loss: 0.8884874595248181  | Accuracy: 61.45\n"
     ]
    },
    {
     "name": "stderr",
     "output_type": "stream",
     "text": [
      "156it [00:01, 117.23it/s]\n",
      "100%|█████████████████████████████████████████████████████████| 46/46 [00:00<00:00, 159.95it/s]\n"
     ]
    },
    {
     "name": "stdout",
     "output_type": "stream",
     "text": [
      "Epoch: 865 | Training Loss: 0.2753291407074684  | Validation Loss: 1.0262158966582755  | Accuracy: 60.04\n"
     ]
    },
    {
     "name": "stderr",
     "output_type": "stream",
     "text": [
      "156it [00:01, 114.15it/s]\n",
      "100%|█████████████████████████████████████████████████████████| 46/46 [00:00<00:00, 160.22it/s]\n"
     ]
    },
    {
     "name": "stdout",
     "output_type": "stream",
     "text": [
      "Epoch: 866 | Training Loss: 0.28033396878685707  | Validation Loss: 1.0602701293385548  | Accuracy: 58.97\n"
     ]
    },
    {
     "name": "stderr",
     "output_type": "stream",
     "text": [
      "156it [00:01, 120.57it/s]\n",
      "100%|█████████████████████████████████████████████████████████| 46/46 [00:00<00:00, 145.66it/s]\n"
     ]
    },
    {
     "name": "stdout",
     "output_type": "stream",
     "text": [
      "Epoch: 867 | Training Loss: 0.2760720841395549  | Validation Loss: 0.9353506137495455  | Accuracy: 62.04\n"
     ]
    },
    {
     "name": "stderr",
     "output_type": "stream",
     "text": [
      "156it [00:01, 113.91it/s]\n",
      "100%|█████████████████████████████████████████████████████████| 46/46 [00:00<00:00, 153.01it/s]\n"
     ]
    },
    {
     "name": "stdout",
     "output_type": "stream",
     "text": [
      "Epoch: 868 | Training Loss: 0.2770616758901339  | Validation Loss: 1.0423600557057753  | Accuracy: 59.32\n"
     ]
    },
    {
     "name": "stderr",
     "output_type": "stream",
     "text": [
      "156it [00:01, 113.80it/s]\n",
      "100%|█████████████████████████████████████████████████████████| 46/46 [00:00<00:00, 167.57it/s]\n"
     ]
    },
    {
     "name": "stdout",
     "output_type": "stream",
     "text": [
      "Epoch: 869 | Training Loss: 0.2739780891018036  | Validation Loss: 1.0483670429043148  | Accuracy: 59.36\n"
     ]
    },
    {
     "name": "stderr",
     "output_type": "stream",
     "text": [
      "156it [00:01, 121.38it/s]\n",
      "100%|█████████████████████████████████████████████████████████| 46/46 [00:00<00:00, 153.55it/s]\n"
     ]
    },
    {
     "name": "stdout",
     "output_type": "stream",
     "text": [
      "Epoch: 870 | Training Loss: 0.2753557134897281  | Validation Loss: 1.087166974078054  | Accuracy: 59.65\n"
     ]
    },
    {
     "name": "stderr",
     "output_type": "stream",
     "text": [
      "156it [00:01, 114.12it/s]\n",
      "100%|█████████████████████████████████████████████████████████| 46/46 [00:00<00:00, 149.54it/s]\n"
     ]
    },
    {
     "name": "stdout",
     "output_type": "stream",
     "text": [
      "Epoch: 871 | Training Loss: 0.2745141330628823  | Validation Loss: 0.9573800745217697  | Accuracy: 60.92\n"
     ]
    },
    {
     "name": "stderr",
     "output_type": "stream",
     "text": [
      "156it [00:01, 124.08it/s]\n",
      "100%|█████████████████████████████████████████████████████████| 46/46 [00:00<00:00, 159.93it/s]\n"
     ]
    },
    {
     "name": "stdout",
     "output_type": "stream",
     "text": [
      "Epoch: 872 | Training Loss: 0.2804260974129041  | Validation Loss: 1.1241385431393334  | Accuracy: 59.21\n"
     ]
    },
    {
     "name": "stderr",
     "output_type": "stream",
     "text": [
      "156it [00:01, 115.44it/s]\n",
      "100%|█████████████████████████████████████████████████████████| 46/46 [00:00<00:00, 158.33it/s]\n"
     ]
    },
    {
     "name": "stdout",
     "output_type": "stream",
     "text": [
      "Epoch: 873 | Training Loss: 0.2759477274540143  | Validation Loss: 1.0521162489186162  | Accuracy: 59.43\n"
     ]
    },
    {
     "name": "stderr",
     "output_type": "stream",
     "text": [
      "156it [00:01, 115.72it/s]\n",
      "100%|█████████████████████████████████████████████████████████| 46/46 [00:00<00:00, 157.78it/s]\n"
     ]
    },
    {
     "name": "stdout",
     "output_type": "stream",
     "text": [
      "Epoch: 874 | Training Loss: 0.2758945541886183  | Validation Loss: 0.9443513660327248  | Accuracy: 60.67\n"
     ]
    },
    {
     "name": "stderr",
     "output_type": "stream",
     "text": [
      "156it [00:01, 121.71it/s]\n",
      "100%|█████████████████████████████████████████████████████████| 46/46 [00:00<00:00, 156.65it/s]\n"
     ]
    },
    {
     "name": "stdout",
     "output_type": "stream",
     "text": [
      "Epoch: 875 | Training Loss: 0.28230384479348475  | Validation Loss: 0.9203999444194462  | Accuracy: 61.74\n"
     ]
    },
    {
     "name": "stderr",
     "output_type": "stream",
     "text": [
      "156it [00:01, 115.04it/s]\n",
      "100%|█████████████████████████████████████████████████████████| 46/46 [00:00<00:00, 160.36it/s]\n"
     ]
    },
    {
     "name": "stdout",
     "output_type": "stream",
     "text": [
      "Epoch: 876 | Training Loss: 0.27679758986983544  | Validation Loss: 0.9149962054646533  | Accuracy: 61.38\n"
     ]
    },
    {
     "name": "stderr",
     "output_type": "stream",
     "text": [
      "156it [00:01, 118.64it/s]\n",
      "100%|█████████████████████████████████████████████████████████| 46/46 [00:00<00:00, 190.93it/s]\n"
     ]
    },
    {
     "name": "stdout",
     "output_type": "stream",
     "text": [
      "Epoch: 877 | Training Loss: 0.2713200899843986  | Validation Loss: 0.8970589961694635  | Accuracy: 62.70\n"
     ]
    },
    {
     "name": "stderr",
     "output_type": "stream",
     "text": [
      "156it [00:01, 115.75it/s]\n",
      "100%|█████████████████████████████████████████████████████████| 46/46 [00:00<00:00, 163.52it/s]\n"
     ]
    },
    {
     "name": "stdout",
     "output_type": "stream",
     "text": [
      "Epoch: 878 | Training Loss: 0.28270290046930313  | Validation Loss: 0.9500493627527485  | Accuracy: 61.87\n"
     ]
    },
    {
     "name": "stderr",
     "output_type": "stream",
     "text": [
      "156it [00:01, 115.01it/s]\n",
      "100%|█████████████████████████████████████████████████████████| 46/46 [00:00<00:00, 157.46it/s]\n"
     ]
    },
    {
     "name": "stdout",
     "output_type": "stream",
     "text": [
      "Epoch: 879 | Training Loss: 0.27515539947228557  | Validation Loss: 1.2056795216124991  | Accuracy: 57.37\n"
     ]
    },
    {
     "name": "stderr",
     "output_type": "stream",
     "text": [
      "156it [00:01, 121.43it/s]\n",
      "100%|█████████████████████████████████████████████████████████| 46/46 [00:00<00:00, 160.59it/s]\n"
     ]
    },
    {
     "name": "stdout",
     "output_type": "stream",
     "text": [
      "Epoch: 880 | Training Loss: 0.28263542782037687  | Validation Loss: 1.2021118441353673  | Accuracy: 57.22\n"
     ]
    },
    {
     "name": "stderr",
     "output_type": "stream",
     "text": [
      "156it [00:01, 114.80it/s]\n",
      "100%|█████████████████████████████████████████████████████████| 46/46 [00:00<00:00, 141.62it/s]\n"
     ]
    },
    {
     "name": "stdout",
     "output_type": "stream",
     "text": [
      "Epoch: 881 | Training Loss: 0.28049240519221014  | Validation Loss: 0.9519663673380147  | Accuracy: 61.92\n"
     ]
    },
    {
     "name": "stderr",
     "output_type": "stream",
     "text": [
      "156it [00:01, 113.58it/s]\n",
      "100%|█████████████████████████████████████████████████████████| 46/46 [00:00<00:00, 192.22it/s]\n"
     ]
    },
    {
     "name": "stdout",
     "output_type": "stream",
     "text": [
      "Epoch: 882 | Training Loss: 0.27741768717383725  | Validation Loss: 0.8816953495792721  | Accuracy: 63.49\n"
     ]
    },
    {
     "name": "stderr",
     "output_type": "stream",
     "text": [
      "156it [00:01, 116.07it/s]\n",
      "100%|█████████████████████████████████████████████████████████| 46/46 [00:00<00:00, 161.69it/s]\n"
     ]
    },
    {
     "name": "stdout",
     "output_type": "stream",
     "text": [
      "Epoch: 883 | Training Loss: 0.27860776573801654  | Validation Loss: 1.007811708294827  | Accuracy: 59.83\n"
     ]
    },
    {
     "name": "stderr",
     "output_type": "stream",
     "text": [
      "156it [00:01, 115.73it/s]\n",
      "100%|█████████████████████████████████████████████████████████| 46/46 [00:00<00:00, 161.93it/s]\n"
     ]
    },
    {
     "name": "stdout",
     "output_type": "stream",
     "text": [
      "Epoch: 884 | Training Loss: 0.27518175857571453  | Validation Loss: 1.093799755625103  | Accuracy: 59.36\n"
     ]
    },
    {
     "name": "stderr",
     "output_type": "stream",
     "text": [
      "156it [00:01, 125.23it/s]\n",
      "100%|█████████████████████████████████████████████████████████| 46/46 [00:00<00:00, 159.51it/s]\n"
     ]
    },
    {
     "name": "stdout",
     "output_type": "stream",
     "text": [
      "Epoch: 885 | Training Loss: 0.2729472999389355  | Validation Loss: 0.9543171576831652  | Accuracy: 60.70\n"
     ]
    },
    {
     "name": "stderr",
     "output_type": "stream",
     "text": [
      "156it [00:01, 117.32it/s]\n",
      "100%|█████████████████████████████████████████████████████████| 46/46 [00:00<00:00, 161.25it/s]\n"
     ]
    },
    {
     "name": "stdout",
     "output_type": "stream",
     "text": [
      "Epoch: 886 | Training Loss: 0.2762419135333636  | Validation Loss: 1.0419007176938264  | Accuracy: 60.77\n"
     ]
    },
    {
     "name": "stderr",
     "output_type": "stream",
     "text": [
      "156it [00:01, 117.63it/s]\n",
      "100%|█████████████████████████████████████████████████████████| 46/46 [00:00<00:00, 160.27it/s]\n"
     ]
    },
    {
     "name": "stdout",
     "output_type": "stream",
     "text": [
      "Epoch: 887 | Training Loss: 0.2773705901434788  | Validation Loss: 1.148352950811386  | Accuracy: 58.78\n"
     ]
    },
    {
     "name": "stderr",
     "output_type": "stream",
     "text": [
      "156it [00:01, 123.61it/s]\n",
      "100%|█████████████████████████████████████████████████████████| 46/46 [00:00<00:00, 162.10it/s]\n"
     ]
    },
    {
     "name": "stdout",
     "output_type": "stream",
     "text": [
      "Epoch: 888 | Training Loss: 0.2759115933798827  | Validation Loss: 0.9820779691571775  | Accuracy: 60.90\n"
     ]
    },
    {
     "name": "stderr",
     "output_type": "stream",
     "text": [
      "156it [00:01, 117.99it/s]\n",
      "100%|█████████████████████████████████████████████████████████| 46/46 [00:00<00:00, 158.83it/s]\n"
     ]
    },
    {
     "name": "stdout",
     "output_type": "stream",
     "text": [
      "Epoch: 889 | Training Loss: 0.27586190660412496  | Validation Loss: 1.0209327495616416  | Accuracy: 60.33\n"
     ]
    },
    {
     "name": "stderr",
     "output_type": "stream",
     "text": [
      "156it [00:01, 126.02it/s]\n",
      "100%|█████████████████████████████████████████████████████████| 46/46 [00:00<00:00, 163.71it/s]\n"
     ]
    },
    {
     "name": "stdout",
     "output_type": "stream",
     "text": [
      "Epoch: 890 | Training Loss: 0.2753208027436183  | Validation Loss: 0.9964358404926632  | Accuracy: 60.09\n"
     ]
    },
    {
     "name": "stderr",
     "output_type": "stream",
     "text": [
      "156it [00:01, 119.17it/s]\n",
      "100%|█████████████████████████████████████████████████████████| 46/46 [00:00<00:00, 161.04it/s]\n"
     ]
    },
    {
     "name": "stdout",
     "output_type": "stream",
     "text": [
      "Epoch: 891 | Training Loss: 0.2714446293046841  | Validation Loss: 1.0848050441430963  | Accuracy: 59.80\n"
     ]
    },
    {
     "name": "stderr",
     "output_type": "stream",
     "text": [
      "156it [00:01, 118.67it/s]\n",
      "100%|█████████████████████████████████████████████████████████| 46/46 [00:00<00:00, 162.42it/s]\n"
     ]
    },
    {
     "name": "stdout",
     "output_type": "stream",
     "text": [
      "Epoch: 892 | Training Loss: 0.2723701247611107  | Validation Loss: 1.0938117335671964  | Accuracy: 59.21\n"
     ]
    },
    {
     "name": "stderr",
     "output_type": "stream",
     "text": [
      "156it [00:01, 128.44it/s]\n",
      "100%|█████████████████████████████████████████████████████████| 46/46 [00:00<00:00, 160.96it/s]\n"
     ]
    },
    {
     "name": "stdout",
     "output_type": "stream",
     "text": [
      "Epoch: 893 | Training Loss: 0.27286046953537524  | Validation Loss: 1.0457671271718068  | Accuracy: 60.07\n"
     ]
    },
    {
     "name": "stderr",
     "output_type": "stream",
     "text": [
      "156it [00:01, 117.92it/s]\n",
      "100%|█████████████████████████████████████████████████████████| 46/46 [00:00<00:00, 160.80it/s]\n"
     ]
    },
    {
     "name": "stdout",
     "output_type": "stream",
     "text": [
      "Epoch: 894 | Training Loss: 0.27603468146079624  | Validation Loss: 0.9714626721713854  | Accuracy: 61.09\n"
     ]
    },
    {
     "name": "stderr",
     "output_type": "stream",
     "text": [
      "156it [00:01, 121.00it/s]\n",
      "100%|█████████████████████████████████████████████████████████| 46/46 [00:00<00:00, 190.49it/s]\n"
     ]
    },
    {
     "name": "stdout",
     "output_type": "stream",
     "text": [
      "Epoch: 895 | Training Loss: 0.28368116705081403  | Validation Loss: 0.9795306169468424  | Accuracy: 60.28\n"
     ]
    },
    {
     "name": "stderr",
     "output_type": "stream",
     "text": [
      "156it [00:01, 116.56it/s]\n",
      "100%|█████████████████████████████████████████████████████████| 46/46 [00:00<00:00, 151.55it/s]\n"
     ]
    },
    {
     "name": "stdout",
     "output_type": "stream",
     "text": [
      "Epoch: 896 | Training Loss: 0.277802963860524  | Validation Loss: 0.9789381364117498  | Accuracy: 61.63\n"
     ]
    },
    {
     "name": "stderr",
     "output_type": "stream",
     "text": [
      "156it [00:01, 110.67it/s]\n",
      "100%|█████████████████████████████████████████████████████████| 46/46 [00:00<00:00, 155.31it/s]\n"
     ]
    },
    {
     "name": "stdout",
     "output_type": "stream",
     "text": [
      "Epoch: 897 | Training Loss: 0.2801319890870498  | Validation Loss: 1.0255599371764972  | Accuracy: 59.94\n"
     ]
    },
    {
     "name": "stderr",
     "output_type": "stream",
     "text": [
      "156it [00:01, 122.39it/s]\n",
      "100%|█████████████████████████████████████████████████████████| 46/46 [00:00<00:00, 163.36it/s]\n"
     ]
    },
    {
     "name": "stdout",
     "output_type": "stream",
     "text": [
      "Epoch: 898 | Training Loss: 0.2820896328641818  | Validation Loss: 1.0192303644574208  | Accuracy: 59.58\n"
     ]
    },
    {
     "name": "stderr",
     "output_type": "stream",
     "text": [
      "156it [00:01, 115.59it/s]\n",
      "100%|█████████████████████████████████████████████████████████| 46/46 [00:00<00:00, 161.01it/s]\n"
     ]
    },
    {
     "name": "stdout",
     "output_type": "stream",
     "text": [
      "Epoch: 899 | Training Loss: 0.2758820538337414  | Validation Loss: 0.9873576436353766  | Accuracy: 61.12\n"
     ]
    },
    {
     "name": "stderr",
     "output_type": "stream",
     "text": [
      "156it [00:01, 116.00it/s]\n",
      "100%|█████████████████████████████████████████████████████████| 46/46 [00:00<00:00, 175.57it/s]\n"
     ]
    },
    {
     "name": "stdout",
     "output_type": "stream",
     "text": [
      "Epoch: 900 | Training Loss: 0.27438773157504887  | Validation Loss: 1.0319965468800587  | Accuracy: 60.07\n"
     ]
    },
    {
     "name": "stderr",
     "output_type": "stream",
     "text": [
      "156it [00:01, 117.57it/s]\n",
      "100%|█████████████████████████████████████████████████████████| 46/46 [00:00<00:00, 146.44it/s]\n"
     ]
    },
    {
     "name": "stdout",
     "output_type": "stream",
     "text": [
      "Epoch: 901 | Training Loss: 0.2779639167472338  | Validation Loss: 0.9544479626676311  | Accuracy: 61.85\n"
     ]
    },
    {
     "name": "stderr",
     "output_type": "stream",
     "text": [
      "156it [00:01, 115.63it/s]\n",
      "100%|█████████████████████████████████████████████████████████| 46/46 [00:00<00:00, 156.55it/s]\n"
     ]
    },
    {
     "name": "stdout",
     "output_type": "stream",
     "text": [
      "Epoch: 902 | Training Loss: 0.27965579029077137  | Validation Loss: 0.9862207187258679  | Accuracy: 61.16\n"
     ]
    },
    {
     "name": "stderr",
     "output_type": "stream",
     "text": [
      "156it [00:01, 122.31it/s]\n",
      "100%|█████████████████████████████████████████████████████████| 46/46 [00:00<00:00, 162.59it/s]\n"
     ]
    },
    {
     "name": "stdout",
     "output_type": "stream",
     "text": [
      "Epoch: 903 | Training Loss: 0.28226909327965516  | Validation Loss: 0.9189953622610673  | Accuracy: 61.14\n"
     ]
    },
    {
     "name": "stderr",
     "output_type": "stream",
     "text": [
      "156it [00:01, 116.07it/s]\n",
      "100%|█████████████████████████████████████████████████████████| 46/46 [00:00<00:00, 168.06it/s]\n"
     ]
    },
    {
     "name": "stdout",
     "output_type": "stream",
     "text": [
      "Epoch: 904 | Training Loss: 0.28010764536567223  | Validation Loss: 1.0281133690605992  | Accuracy: 59.63\n"
     ]
    },
    {
     "name": "stderr",
     "output_type": "stream",
     "text": [
      "156it [00:01, 117.00it/s]\n",
      "100%|█████████████████████████████████████████████████████████| 46/46 [00:00<00:00, 161.66it/s]\n"
     ]
    },
    {
     "name": "stdout",
     "output_type": "stream",
     "text": [
      "Epoch: 905 | Training Loss: 0.2816839524759696  | Validation Loss: 1.012770025626473  | Accuracy: 61.63\n"
     ]
    },
    {
     "name": "stderr",
     "output_type": "stream",
     "text": [
      "156it [00:01, 121.95it/s]\n",
      "100%|█████████████████████████████████████████████████████████| 46/46 [00:00<00:00, 157.73it/s]\n"
     ]
    },
    {
     "name": "stdout",
     "output_type": "stream",
     "text": [
      "Epoch: 906 | Training Loss: 0.27722996167647534  | Validation Loss: 1.1652166389900704  | Accuracy: 57.97\n"
     ]
    },
    {
     "name": "stderr",
     "output_type": "stream",
     "text": [
      "156it [00:01, 115.32it/s]\n",
      "100%|█████████████████████████████████████████████████████████| 46/46 [00:00<00:00, 160.34it/s]\n"
     ]
    },
    {
     "name": "stdout",
     "output_type": "stream",
     "text": [
      "Epoch: 907 | Training Loss: 0.27683864476589054  | Validation Loss: 1.0836196632488915  | Accuracy: 60.44\n"
     ]
    },
    {
     "name": "stderr",
     "output_type": "stream",
     "text": [
      "156it [00:01, 121.87it/s]\n",
      "100%|█████████████████████████████████████████████████████████| 46/46 [00:00<00:00, 170.12it/s]\n"
     ]
    },
    {
     "name": "stdout",
     "output_type": "stream",
     "text": [
      "Epoch: 908 | Training Loss: 0.27264363194505375  | Validation Loss: 1.0385679693325707  | Accuracy: 59.24\n"
     ]
    },
    {
     "name": "stderr",
     "output_type": "stream",
     "text": [
      "156it [00:01, 113.42it/s]\n",
      "100%|█████████████████████████████████████████████████████████| 46/46 [00:00<00:00, 159.77it/s]\n"
     ]
    },
    {
     "name": "stdout",
     "output_type": "stream",
     "text": [
      "Epoch: 909 | Training Loss: 0.2772749691055371  | Validation Loss: 0.957150733989218  | Accuracy: 61.38\n"
     ]
    },
    {
     "name": "stderr",
     "output_type": "stream",
     "text": [
      "156it [00:01, 115.67it/s]\n",
      "100%|█████████████████████████████████████████████████████████| 46/46 [00:00<00:00, 157.80it/s]\n"
     ]
    },
    {
     "name": "stdout",
     "output_type": "stream",
     "text": [
      "Epoch: 910 | Training Loss: 0.2814453912851138  | Validation Loss: 0.9974264994911526  | Accuracy: 61.09\n"
     ]
    },
    {
     "name": "stderr",
     "output_type": "stream",
     "text": [
      "156it [00:01, 123.96it/s]\n",
      "100%|█████████████████████████████████████████████████████████| 46/46 [00:00<00:00, 160.58it/s]\n"
     ]
    },
    {
     "name": "stdout",
     "output_type": "stream",
     "text": [
      "Epoch: 911 | Training Loss: 0.2811083959845396  | Validation Loss: 0.9746444419674252  | Accuracy: 60.73\n"
     ]
    },
    {
     "name": "stderr",
     "output_type": "stream",
     "text": [
      "156it [00:01, 117.71it/s]\n",
      "100%|█████████████████████████████████████████████████████████| 46/46 [00:00<00:00, 159.88it/s]\n"
     ]
    },
    {
     "name": "stdout",
     "output_type": "stream",
     "text": [
      "Epoch: 912 | Training Loss: 0.27815993741536754  | Validation Loss: 1.0329100917214933  | Accuracy: 60.78\n"
     ]
    },
    {
     "name": "stderr",
     "output_type": "stream",
     "text": [
      "156it [00:01, 117.53it/s]\n",
      "100%|█████████████████████████████████████████████████████████| 46/46 [00:00<00:00, 206.19it/s]\n"
     ]
    },
    {
     "name": "stdout",
     "output_type": "stream",
     "text": [
      "Epoch: 913 | Training Loss: 0.2734806673266949  | Validation Loss: 0.9192271452883015  | Accuracy: 61.38\n"
     ]
    },
    {
     "name": "stderr",
     "output_type": "stream",
     "text": [
      "156it [00:01, 117.98it/s]\n",
      "100%|█████████████████████████████████████████████████████████| 46/46 [00:00<00:00, 162.82it/s]\n"
     ]
    },
    {
     "name": "stdout",
     "output_type": "stream",
     "text": [
      "Epoch: 914 | Training Loss: 0.2710718209735858  | Validation Loss: 0.8530116703199304  | Accuracy: 64.03\n"
     ]
    },
    {
     "name": "stderr",
     "output_type": "stream",
     "text": [
      "156it [00:01, 119.41it/s]\n",
      "100%|█████████████████████████████████████████████████████████| 46/46 [00:00<00:00, 161.21it/s]\n"
     ]
    },
    {
     "name": "stdout",
     "output_type": "stream",
     "text": [
      "Epoch: 915 | Training Loss: 0.2756735886900853  | Validation Loss: 0.9526915006015612  | Accuracy: 61.63\n"
     ]
    },
    {
     "name": "stderr",
     "output_type": "stream",
     "text": [
      "156it [00:01, 122.85it/s]\n",
      "100%|█████████████████████████████████████████████████████████| 46/46 [00:00<00:00, 159.84it/s]\n"
     ]
    },
    {
     "name": "stdout",
     "output_type": "stream",
     "text": [
      "Epoch: 916 | Training Loss: 0.2764503543193524  | Validation Loss: 0.9905883307042329  | Accuracy: 61.23\n"
     ]
    },
    {
     "name": "stderr",
     "output_type": "stream",
     "text": [
      "156it [00:01, 116.21it/s]\n",
      "100%|█████████████████████████████████████████████████████████| 46/46 [00:00<00:00, 162.91it/s]\n"
     ]
    },
    {
     "name": "stdout",
     "output_type": "stream",
     "text": [
      "Epoch: 917 | Training Loss: 0.2785132772838458  | Validation Loss: 1.0019485872724783  | Accuracy: 59.73\n"
     ]
    },
    {
     "name": "stderr",
     "output_type": "stream",
     "text": [
      "156it [00:01, 116.20it/s]\n",
      "100%|█████████████████████████████████████████████████████████| 46/46 [00:00<00:00, 185.93it/s]\n"
     ]
    },
    {
     "name": "stdout",
     "output_type": "stream",
     "text": [
      "Epoch: 918 | Training Loss: 0.2800426396230857  | Validation Loss: 0.935939768086309  | Accuracy: 58.90\n"
     ]
    },
    {
     "name": "stderr",
     "output_type": "stream",
     "text": [
      "156it [00:01, 120.22it/s]\n",
      "100%|█████████████████████████████████████████████████████████| 46/46 [00:00<00:00, 145.54it/s]\n"
     ]
    },
    {
     "name": "stdout",
     "output_type": "stream",
     "text": [
      "Epoch: 919 | Training Loss: 0.2754318380776124  | Validation Loss: 1.0303873536379442  | Accuracy: 59.82\n"
     ]
    },
    {
     "name": "stderr",
     "output_type": "stream",
     "text": [
      "156it [00:01, 116.10it/s]\n",
      "100%|█████████████████████████████████████████████████████████| 46/46 [00:00<00:00, 164.92it/s]\n"
     ]
    },
    {
     "name": "stdout",
     "output_type": "stream",
     "text": [
      "Epoch: 920 | Training Loss: 0.2768924175164638  | Validation Loss: 0.9087898277718088  | Accuracy: 62.75\n"
     ]
    },
    {
     "name": "stderr",
     "output_type": "stream",
     "text": [
      "156it [00:01, 123.49it/s]\n",
      "100%|█████████████████████████████████████████████████████████| 46/46 [00:00<00:00, 164.34it/s]\n"
     ]
    },
    {
     "name": "stdout",
     "output_type": "stream",
     "text": [
      "Epoch: 921 | Training Loss: 0.2779805109095879  | Validation Loss: 1.0651863035948381  | Accuracy: 59.83\n"
     ]
    },
    {
     "name": "stderr",
     "output_type": "stream",
     "text": [
      "156it [00:01, 115.41it/s]\n",
      "100%|█████████████████████████████████████████████████████████| 46/46 [00:00<00:00, 158.65it/s]\n"
     ]
    },
    {
     "name": "stdout",
     "output_type": "stream",
     "text": [
      "Epoch: 922 | Training Loss: 0.27602857962632793  | Validation Loss: 1.05691466772038  | Accuracy: 58.97\n"
     ]
    },
    {
     "name": "stderr",
     "output_type": "stream",
     "text": [
      "156it [00:01, 116.01it/s]\n",
      "100%|█████████████████████████████████████████████████████████| 46/46 [00:00<00:00, 160.06it/s]\n"
     ]
    },
    {
     "name": "stdout",
     "output_type": "stream",
     "text": [
      "Epoch: 923 | Training Loss: 0.2780962488017021  | Validation Loss: 0.9659423180248426  | Accuracy: 61.45\n"
     ]
    },
    {
     "name": "stderr",
     "output_type": "stream",
     "text": [
      "156it [00:01, 122.80it/s]\n",
      "100%|█████████████████████████████████████████████████████████| 46/46 [00:00<00:00, 161.77it/s]\n"
     ]
    },
    {
     "name": "stdout",
     "output_type": "stream",
     "text": [
      "Epoch: 924 | Training Loss: 0.27579340596611684  | Validation Loss: 1.0223246825777965  | Accuracy: 60.46\n"
     ]
    },
    {
     "name": "stderr",
     "output_type": "stream",
     "text": [
      "156it [00:01, 115.35it/s]\n",
      "100%|█████████████████████████████████████████████████████████| 46/46 [00:00<00:00, 160.20it/s]\n"
     ]
    },
    {
     "name": "stdout",
     "output_type": "stream",
     "text": [
      "Epoch: 925 | Training Loss: 0.27277470007538795  | Validation Loss: 0.9842203129892764  | Accuracy: 61.51\n"
     ]
    },
    {
     "name": "stderr",
     "output_type": "stream",
     "text": [
      "156it [00:01, 119.75it/s]\n",
      "100%|█████████████████████████████████████████████████████████| 46/46 [00:00<00:00, 164.74it/s]\n"
     ]
    },
    {
     "name": "stdout",
     "output_type": "stream",
     "text": [
      "Epoch: 926 | Training Loss: 0.2749877374332685  | Validation Loss: 1.0610865121302397  | Accuracy: 60.28\n"
     ]
    },
    {
     "name": "stderr",
     "output_type": "stream",
     "text": [
      "156it [00:01, 111.57it/s]\n",
      "100%|█████████████████████████████████████████████████████████| 46/46 [00:00<00:00, 159.42it/s]\n"
     ]
    },
    {
     "name": "stdout",
     "output_type": "stream",
     "text": [
      "Epoch: 927 | Training Loss: 0.28355902328323096  | Validation Loss: 1.0454958120118016  | Accuracy: 60.09\n"
     ]
    },
    {
     "name": "stderr",
     "output_type": "stream",
     "text": [
      "156it [00:01, 113.45it/s]\n",
      "100%|█████████████████████████████████████████████████████████| 46/46 [00:00<00:00, 160.41it/s]\n"
     ]
    },
    {
     "name": "stdout",
     "output_type": "stream",
     "text": [
      "Epoch: 928 | Training Loss: 0.27661133385621584  | Validation Loss: 0.9345889493175175  | Accuracy: 62.72\n"
     ]
    },
    {
     "name": "stderr",
     "output_type": "stream",
     "text": [
      "156it [00:01, 121.36it/s]\n",
      "100%|█████████████████████████████████████████████████████████| 46/46 [00:00<00:00, 156.97it/s]\n"
     ]
    },
    {
     "name": "stdout",
     "output_type": "stream",
     "text": [
      "Epoch: 929 | Training Loss: 0.28324120434430927  | Validation Loss: 0.989237790522368  | Accuracy: 60.17\n"
     ]
    },
    {
     "name": "stderr",
     "output_type": "stream",
     "text": [
      "156it [00:01, 112.37it/s]\n",
      "100%|█████████████████████████████████████████████████████████| 46/46 [00:00<00:00, 155.86it/s]\n"
     ]
    },
    {
     "name": "stdout",
     "output_type": "stream",
     "text": [
      "Epoch: 930 | Training Loss: 0.2755060196878054  | Validation Loss: 0.939616893944533  | Accuracy: 62.09\n"
     ]
    },
    {
     "name": "stderr",
     "output_type": "stream",
     "text": [
      "156it [00:01, 116.51it/s]\n",
      "100%|█████████████████████████████████████████████████████████| 46/46 [00:00<00:00, 194.21it/s]\n"
     ]
    },
    {
     "name": "stdout",
     "output_type": "stream",
     "text": [
      "Epoch: 931 | Training Loss: 0.281224111524912  | Validation Loss: 0.9646915456523066  | Accuracy: 61.11\n"
     ]
    },
    {
     "name": "stderr",
     "output_type": "stream",
     "text": [
      "156it [00:01, 115.65it/s]\n",
      "100%|█████████████████████████████████████████████████████████| 46/46 [00:00<00:00, 155.92it/s]\n"
     ]
    },
    {
     "name": "stdout",
     "output_type": "stream",
     "text": [
      "Epoch: 932 | Training Loss: 0.28065003387821025  | Validation Loss: 0.9154079349144645  | Accuracy: 62.33\n"
     ]
    },
    {
     "name": "stderr",
     "output_type": "stream",
     "text": [
      "156it [00:01, 116.06it/s]\n",
      "100%|█████████████████████████████████████████████████████████| 46/46 [00:00<00:00, 164.51it/s]\n"
     ]
    },
    {
     "name": "stdout",
     "output_type": "stream",
     "text": [
      "Epoch: 933 | Training Loss: 0.2769290329172061  | Validation Loss: 1.0003429275491964  | Accuracy: 60.68\n"
     ]
    },
    {
     "name": "stderr",
     "output_type": "stream",
     "text": [
      "156it [00:01, 124.34it/s]\n",
      "100%|█████████████████████████████████████████████████████████| 46/46 [00:00<00:00, 159.37it/s]\n"
     ]
    },
    {
     "name": "stdout",
     "output_type": "stream",
     "text": [
      "Epoch: 934 | Training Loss: 0.27271654418645763  | Validation Loss: 0.9938934691574263  | Accuracy: 61.16\n"
     ]
    },
    {
     "name": "stderr",
     "output_type": "stream",
     "text": [
      "156it [00:01, 116.02it/s]\n",
      "100%|█████████████████████████████████████████████████████████| 46/46 [00:00<00:00, 160.39it/s]\n"
     ]
    },
    {
     "name": "stdout",
     "output_type": "stream",
     "text": [
      "Epoch: 935 | Training Loss: 0.2788251777872061  | Validation Loss: 1.0312262760556263  | Accuracy: 60.80\n"
     ]
    },
    {
     "name": "stderr",
     "output_type": "stream",
     "text": [
      "156it [00:01, 116.99it/s]\n",
      "100%|█████████████████████████████████████████████████████████| 46/46 [00:00<00:00, 190.78it/s]\n"
     ]
    },
    {
     "name": "stdout",
     "output_type": "stream",
     "text": [
      "Epoch: 936 | Training Loss: 0.2770312381669497  | Validation Loss: 1.096836226141971  | Accuracy: 59.43\n"
     ]
    },
    {
     "name": "stderr",
     "output_type": "stream",
     "text": [
      "156it [00:01, 118.37it/s]\n",
      "100%|█████████████████████████████████████████████████████████| 46/46 [00:00<00:00, 148.68it/s]\n"
     ]
    },
    {
     "name": "stdout",
     "output_type": "stream",
     "text": [
      "Epoch: 937 | Training Loss: 0.2803155910701324  | Validation Loss: 1.0471542322117349  | Accuracy: 60.67\n"
     ]
    },
    {
     "name": "stderr",
     "output_type": "stream",
     "text": [
      "156it [00:01, 118.49it/s]\n",
      "100%|█████████████████████████████████████████████████████████| 46/46 [00:00<00:00, 145.18it/s]\n"
     ]
    },
    {
     "name": "stdout",
     "output_type": "stream",
     "text": [
      "Epoch: 938 | Training Loss: 0.2747058841662529  | Validation Loss: 1.0152875483036041  | Accuracy: 61.41\n"
     ]
    },
    {
     "name": "stderr",
     "output_type": "stream",
     "text": [
      "156it [00:01, 128.00it/s]\n",
      "100%|█████████████████████████████████████████████████████████| 46/46 [00:00<00:00, 158.14it/s]\n"
     ]
    },
    {
     "name": "stdout",
     "output_type": "stream",
     "text": [
      "Epoch: 939 | Training Loss: 0.2752258407954986  | Validation Loss: 0.963712435701619  | Accuracy: 61.36\n"
     ]
    },
    {
     "name": "stderr",
     "output_type": "stream",
     "text": [
      "156it [00:01, 118.92it/s]\n",
      "100%|█████████████████████████████████████████████████████████| 46/46 [00:00<00:00, 163.72it/s]\n"
     ]
    },
    {
     "name": "stdout",
     "output_type": "stream",
     "text": [
      "Epoch: 940 | Training Loss: 0.2737145929191357  | Validation Loss: 1.033264854679937  | Accuracy: 60.51\n"
     ]
    },
    {
     "name": "stderr",
     "output_type": "stream",
     "text": [
      "156it [00:01, 116.90it/s]\n",
      "100%|█████████████████████████████████████████████████████████| 46/46 [00:00<00:00, 155.35it/s]\n"
     ]
    },
    {
     "name": "stdout",
     "output_type": "stream",
     "text": [
      "Epoch: 941 | Training Loss: 0.2771252995500198  | Validation Loss: 0.9535064878671066  | Accuracy: 60.90\n"
     ]
    },
    {
     "name": "stderr",
     "output_type": "stream",
     "text": [
      "156it [00:01, 123.67it/s]\n",
      "100%|█████████████████████████████████████████████████████████| 46/46 [00:00<00:00, 163.77it/s]\n"
     ]
    },
    {
     "name": "stdout",
     "output_type": "stream",
     "text": [
      "Epoch: 942 | Training Loss: 0.2791546533505122  | Validation Loss: 1.1847272981768069  | Accuracy: 58.32\n"
     ]
    },
    {
     "name": "stderr",
     "output_type": "stream",
     "text": [
      "156it [00:01, 116.10it/s]\n",
      "100%|█████████████████████████████████████████████████████████| 46/46 [00:00<00:00, 158.48it/s]\n"
     ]
    },
    {
     "name": "stdout",
     "output_type": "stream",
     "text": [
      "Epoch: 943 | Training Loss: 0.27415129962639934  | Validation Loss: 0.961107585741126  | Accuracy: 60.85\n"
     ]
    },
    {
     "name": "stderr",
     "output_type": "stream",
     "text": [
      "156it [00:01, 120.94it/s]\n",
      "100%|█████████████████████████████████████████████████████████| 46/46 [00:00<00:00, 177.23it/s]\n"
     ]
    },
    {
     "name": "stdout",
     "output_type": "stream",
     "text": [
      "Epoch: 944 | Training Loss: 0.27207582042767453  | Validation Loss: 0.9700412970522175  | Accuracy: 60.24\n"
     ]
    },
    {
     "name": "stderr",
     "output_type": "stream",
     "text": [
      "156it [00:01, 115.42it/s]\n",
      "100%|█████████████████████████████████████████████████████████| 46/46 [00:00<00:00, 160.71it/s]\n"
     ]
    },
    {
     "name": "stdout",
     "output_type": "stream",
     "text": [
      "Epoch: 945 | Training Loss: 0.2790736459577695  | Validation Loss: 0.9183508429838263  | Accuracy: 62.91\n"
     ]
    },
    {
     "name": "stderr",
     "output_type": "stream",
     "text": [
      "156it [00:01, 115.91it/s]\n",
      "100%|█████████████████████████████████████████████████████████| 46/46 [00:00<00:00, 162.32it/s]\n"
     ]
    },
    {
     "name": "stdout",
     "output_type": "stream",
     "text": [
      "Epoch: 946 | Training Loss: 0.280503158003856  | Validation Loss: 1.0173738236012666  | Accuracy: 59.99\n"
     ]
    },
    {
     "name": "stderr",
     "output_type": "stream",
     "text": [
      "156it [00:01, 126.20it/s]\n",
      "100%|█████████████████████████████████████████████████████████| 46/46 [00:00<00:00, 161.13it/s]\n"
     ]
    },
    {
     "name": "stdout",
     "output_type": "stream",
     "text": [
      "Epoch: 947 | Training Loss: 0.27679324589478665  | Validation Loss: 1.062754037587539  | Accuracy: 59.95\n"
     ]
    },
    {
     "name": "stderr",
     "output_type": "stream",
     "text": [
      "156it [00:01, 117.70it/s]\n",
      "100%|█████████████████████████████████████████████████████████| 46/46 [00:00<00:00, 161.00it/s]\n"
     ]
    },
    {
     "name": "stdout",
     "output_type": "stream",
     "text": [
      "Epoch: 948 | Training Loss: 0.2730349021462294  | Validation Loss: 1.0745083378708882  | Accuracy: 58.87\n"
     ]
    },
    {
     "name": "stderr",
     "output_type": "stream",
     "text": [
      "156it [00:01, 114.18it/s]\n",
      "100%|█████████████████████████████████████████████████████████| 46/46 [00:00<00:00, 187.29it/s]\n"
     ]
    },
    {
     "name": "stdout",
     "output_type": "stream",
     "text": [
      "Epoch: 949 | Training Loss: 0.28046319614618254  | Validation Loss: 0.9787535408268804  | Accuracy: 59.66\n"
     ]
    },
    {
     "name": "stderr",
     "output_type": "stream",
     "text": [
      "156it [00:01, 117.22it/s]\n",
      "100%|█████████████████████████████████████████████████████████| 46/46 [00:00<00:00, 160.31it/s]\n"
     ]
    },
    {
     "name": "stdout",
     "output_type": "stream",
     "text": [
      "Epoch: 950 | Training Loss: 0.2699128954838484  | Validation Loss: 1.0843356510867244  | Accuracy: 59.97\n"
     ]
    },
    {
     "name": "stderr",
     "output_type": "stream",
     "text": [
      "156it [00:01, 115.80it/s]\n",
      "100%|█████████████████████████████████████████████████████████| 46/46 [00:00<00:00, 163.80it/s]\n"
     ]
    },
    {
     "name": "stdout",
     "output_type": "stream",
     "text": [
      "Epoch: 951 | Training Loss: 0.28156332585674065  | Validation Loss: 1.0442876582560332  | Accuracy: 58.64\n"
     ]
    },
    {
     "name": "stderr",
     "output_type": "stream",
     "text": [
      "156it [00:01, 123.81it/s]\n",
      "100%|█████████████████████████████████████████████████████████| 46/46 [00:00<00:00, 163.13it/s]\n"
     ]
    },
    {
     "name": "stdout",
     "output_type": "stream",
     "text": [
      "Epoch: 952 | Training Loss: 0.2774238677170032  | Validation Loss: 0.9881982362788656  | Accuracy: 61.28\n"
     ]
    },
    {
     "name": "stderr",
     "output_type": "stream",
     "text": [
      "156it [00:01, 115.98it/s]\n",
      "100%|█████████████████████████████████████████████████████████| 46/46 [00:00<00:00, 158.55it/s]\n"
     ]
    },
    {
     "name": "stdout",
     "output_type": "stream",
     "text": [
      "Epoch: 953 | Training Loss: 0.2822899632155895  | Validation Loss: 0.9395660136056982  | Accuracy: 62.18\n"
     ]
    },
    {
     "name": "stderr",
     "output_type": "stream",
     "text": [
      "156it [00:01, 116.71it/s]\n",
      "100%|█████████████████████████████████████████████████████████| 46/46 [00:00<00:00, 161.99it/s]\n"
     ]
    },
    {
     "name": "stdout",
     "output_type": "stream",
     "text": [
      "Epoch: 954 | Training Loss: 0.2822079868652882  | Validation Loss: 1.0295507506183956  | Accuracy: 60.60\n"
     ]
    },
    {
     "name": "stderr",
     "output_type": "stream",
     "text": [
      "156it [00:01, 123.59it/s]\n",
      "100%|█████████████████████████████████████████████████████████| 46/46 [00:00<00:00, 161.10it/s]\n"
     ]
    },
    {
     "name": "stdout",
     "output_type": "stream",
     "text": [
      "Epoch: 955 | Training Loss: 0.28009326287951225  | Validation Loss: 0.9383464922075686  | Accuracy: 60.60\n"
     ]
    },
    {
     "name": "stderr",
     "output_type": "stream",
     "text": [
      "156it [00:01, 114.85it/s]\n",
      "100%|█████████████████████████████████████████████████████████| 46/46 [00:00<00:00, 157.85it/s]\n"
     ]
    },
    {
     "name": "stdout",
     "output_type": "stream",
     "text": [
      "Epoch: 956 | Training Loss: 0.27481353053679836  | Validation Loss: 1.0981940121754357  | Accuracy: 58.29\n"
     ]
    },
    {
     "name": "stderr",
     "output_type": "stream",
     "text": [
      "156it [00:01, 121.22it/s]\n",
      "100%|█████████████████████████████████████████████████████████| 46/46 [00:00<00:00, 168.11it/s]\n"
     ]
    },
    {
     "name": "stdout",
     "output_type": "stream",
     "text": [
      "Epoch: 957 | Training Loss: 0.2758759463635775  | Validation Loss: 1.0455435773600703  | Accuracy: 60.00\n"
     ]
    },
    {
     "name": "stderr",
     "output_type": "stream",
     "text": [
      "156it [00:01, 115.77it/s]\n",
      "100%|█████████████████████████████████████████████████████████| 46/46 [00:00<00:00, 142.84it/s]\n"
     ]
    },
    {
     "name": "stdout",
     "output_type": "stream",
     "text": [
      "Epoch: 958 | Training Loss: 0.28007804793425095  | Validation Loss: 0.9632396244484446  | Accuracy: 60.53\n"
     ]
    },
    {
     "name": "stderr",
     "output_type": "stream",
     "text": [
      "156it [00:01, 113.43it/s]\n",
      "100%|█████████████████████████████████████████████████████████| 46/46 [00:00<00:00, 161.50it/s]\n"
     ]
    },
    {
     "name": "stdout",
     "output_type": "stream",
     "text": [
      "Epoch: 959 | Training Loss: 0.2747085735392876  | Validation Loss: 0.9380323329697484  | Accuracy: 62.69\n"
     ]
    },
    {
     "name": "stderr",
     "output_type": "stream",
     "text": [
      "156it [00:01, 121.05it/s]\n",
      "100%|█████████████████████████████████████████████████████████| 46/46 [00:00<00:00, 161.38it/s]\n"
     ]
    },
    {
     "name": "stdout",
     "output_type": "stream",
     "text": [
      "Epoch: 960 | Training Loss: 0.2759935900760003  | Validation Loss: 1.0263858761476434  | Accuracy: 58.87\n"
     ]
    },
    {
     "name": "stderr",
     "output_type": "stream",
     "text": [
      "156it [00:01, 116.22it/s]\n",
      "100%|█████████████████████████████████████████████████████████| 46/46 [00:00<00:00, 163.18it/s]\n"
     ]
    },
    {
     "name": "stdout",
     "output_type": "stream",
     "text": [
      "Epoch: 961 | Training Loss: 0.2744580785242411  | Validation Loss: 0.999089443165323  | Accuracy: 61.12\n"
     ]
    },
    {
     "name": "stderr",
     "output_type": "stream",
     "text": [
      "156it [00:01, 119.17it/s]\n",
      "100%|█████████████████████████████████████████████████████████| 46/46 [00:00<00:00, 189.41it/s]\n"
     ]
    },
    {
     "name": "stdout",
     "output_type": "stream",
     "text": [
      "Epoch: 962 | Training Loss: 0.2765156678282298  | Validation Loss: 1.0245242727839428  | Accuracy: 60.17\n"
     ]
    },
    {
     "name": "stderr",
     "output_type": "stream",
     "text": [
      "156it [00:01, 115.37it/s]\n",
      "100%|█████████████████████████████████████████████████████████| 46/46 [00:00<00:00, 157.10it/s]\n"
     ]
    },
    {
     "name": "stdout",
     "output_type": "stream",
     "text": [
      "Epoch: 963 | Training Loss: 0.2802529578598646  | Validation Loss: 1.0295923974203027  | Accuracy: 60.11\n"
     ]
    },
    {
     "name": "stderr",
     "output_type": "stream",
     "text": [
      "156it [00:01, 115.94it/s]\n",
      "100%|█████████████████████████████████████████████████████████| 46/46 [00:00<00:00, 157.91it/s]\n"
     ]
    },
    {
     "name": "stdout",
     "output_type": "stream",
     "text": [
      "Epoch: 964 | Training Loss: 0.27353047388486373  | Validation Loss: 1.0346661119357399  | Accuracy: 59.60\n"
     ]
    },
    {
     "name": "stderr",
     "output_type": "stream",
     "text": [
      "156it [00:01, 123.79it/s]\n",
      "100%|█████████████████████████████████████████████████████████| 46/46 [00:00<00:00, 161.52it/s]\n"
     ]
    },
    {
     "name": "stdout",
     "output_type": "stream",
     "text": [
      "Epoch: 965 | Training Loss: 0.2795989895478273  | Validation Loss: 1.076766954815906  | Accuracy: 59.87\n"
     ]
    },
    {
     "name": "stderr",
     "output_type": "stream",
     "text": [
      "156it [00:01, 116.10it/s]\n",
      "100%|█████████████████████████████████████████████████████████| 46/46 [00:00<00:00, 157.96it/s]\n"
     ]
    },
    {
     "name": "stdout",
     "output_type": "stream",
     "text": [
      "Epoch: 966 | Training Loss: 0.2762911356985569  | Validation Loss: 1.1268348395824432  | Accuracy: 59.15\n"
     ]
    },
    {
     "name": "stderr",
     "output_type": "stream",
     "text": [
      "156it [00:01, 115.83it/s]\n",
      "100%|█████████████████████████████████████████████████████████| 46/46 [00:00<00:00, 186.83it/s]\n"
     ]
    },
    {
     "name": "stdout",
     "output_type": "stream",
     "text": [
      "Epoch: 967 | Training Loss: 0.2741344678096282  | Validation Loss: 0.989707552868387  | Accuracy: 60.84\n"
     ]
    },
    {
     "name": "stderr",
     "output_type": "stream",
     "text": [
      "156it [00:01, 117.61it/s]\n",
      "100%|█████████████████████████████████████████████████████████| 46/46 [00:00<00:00, 159.64it/s]\n"
     ]
    },
    {
     "name": "stdout",
     "output_type": "stream",
     "text": [
      "Epoch: 968 | Training Loss: 0.27524954968920123  | Validation Loss: 1.0302798294502755  | Accuracy: 60.75\n"
     ]
    },
    {
     "name": "stderr",
     "output_type": "stream",
     "text": [
      "156it [00:01, 116.06it/s]\n",
      "100%|█████████████████████████████████████████████████████████| 46/46 [00:00<00:00, 159.58it/s]\n"
     ]
    },
    {
     "name": "stdout",
     "output_type": "stream",
     "text": [
      "Epoch: 969 | Training Loss: 0.2799392545070404  | Validation Loss: 1.0159304103125697  | Accuracy: 60.92\n"
     ]
    },
    {
     "name": "stderr",
     "output_type": "stream",
     "text": [
      "156it [00:01, 121.05it/s]\n",
      "100%|█████████████████████████████████████████████████████████| 46/46 [00:00<00:00, 160.27it/s]\n"
     ]
    },
    {
     "name": "stdout",
     "output_type": "stream",
     "text": [
      "Epoch: 970 | Training Loss: 0.2744107838624563  | Validation Loss: 0.918117766794951  | Accuracy: 62.14\n"
     ]
    },
    {
     "name": "stderr",
     "output_type": "stream",
     "text": [
      "156it [00:01, 116.13it/s]\n",
      "100%|█████████████████████████████████████████████████████████| 46/46 [00:00<00:00, 161.27it/s]\n"
     ]
    },
    {
     "name": "stdout",
     "output_type": "stream",
     "text": [
      "Epoch: 971 | Training Loss: 0.27543297753884244  | Validation Loss: 0.9689865773138793  | Accuracy: 60.05\n"
     ]
    },
    {
     "name": "stderr",
     "output_type": "stream",
     "text": [
      "156it [00:01, 115.37it/s]\n",
      "100%|█████████████████████████████████████████████████████████| 46/46 [00:00<00:00, 161.22it/s]\n"
     ]
    },
    {
     "name": "stdout",
     "output_type": "stream",
     "text": [
      "Epoch: 972 | Training Loss: 0.2788034116801543  | Validation Loss: 1.0226610471373019  | Accuracy: 60.90\n"
     ]
    },
    {
     "name": "stderr",
     "output_type": "stream",
     "text": [
      "156it [00:01, 121.95it/s]\n",
      "100%|█████████████████████████████████████████████████████████| 46/46 [00:00<00:00, 161.01it/s]\n"
     ]
    },
    {
     "name": "stdout",
     "output_type": "stream",
     "text": [
      "Epoch: 973 | Training Loss: 0.27692746800872  | Validation Loss: 1.0135917378508525  | Accuracy: 59.63\n"
     ]
    },
    {
     "name": "stderr",
     "output_type": "stream",
     "text": [
      "156it [00:01, 115.93it/s]\n",
      "100%|█████████████████████████████████████████████████████████| 46/46 [00:00<00:00, 155.02it/s]\n"
     ]
    },
    {
     "name": "stdout",
     "output_type": "stream",
     "text": [
      "Epoch: 974 | Training Loss: 0.2802098431648352  | Validation Loss: 0.9391975493534751  | Accuracy: 61.63\n"
     ]
    },
    {
     "name": "stderr",
     "output_type": "stream",
     "text": [
      "156it [00:01, 122.63it/s]\n",
      "100%|█████████████████████████████████████████████████████████| 46/46 [00:00<00:00, 179.23it/s]\n"
     ]
    },
    {
     "name": "stdout",
     "output_type": "stream",
     "text": [
      "Epoch: 975 | Training Loss: 0.27796489143600833  | Validation Loss: 1.088447305171386  | Accuracy: 59.71\n"
     ]
    },
    {
     "name": "stderr",
     "output_type": "stream",
     "text": [
      "156it [00:01, 116.89it/s]\n",
      "100%|█████████████████████████████████████████████████████████| 46/46 [00:00<00:00, 161.32it/s]\n"
     ]
    },
    {
     "name": "stdout",
     "output_type": "stream",
     "text": [
      "Epoch: 976 | Training Loss: 0.27900338488129467  | Validation Loss: 0.9862229733363442  | Accuracy: 59.85\n"
     ]
    },
    {
     "name": "stderr",
     "output_type": "stream",
     "text": [
      "156it [00:01, 116.00it/s]\n",
      "100%|█████████████████████████████████████████████████████████| 46/46 [00:00<00:00, 158.75it/s]\n"
     ]
    },
    {
     "name": "stdout",
     "output_type": "stream",
     "text": [
      "Epoch: 977 | Training Loss: 0.27700343135839856  | Validation Loss: 1.2454773939174155  | Accuracy: 57.57\n"
     ]
    },
    {
     "name": "stderr",
     "output_type": "stream",
     "text": [
      "156it [00:01, 124.10it/s]\n",
      "100%|█████████████████████████████████████████████████████████| 46/46 [00:00<00:00, 157.58it/s]\n"
     ]
    },
    {
     "name": "stdout",
     "output_type": "stream",
     "text": [
      "Epoch: 978 | Training Loss: 0.2812703342582935  | Validation Loss: 1.0497506079466448  | Accuracy: 60.56\n"
     ]
    },
    {
     "name": "stderr",
     "output_type": "stream",
     "text": [
      "156it [00:01, 113.47it/s]\n",
      "100%|█████████████████████████████████████████████████████████| 46/46 [00:00<00:00, 162.32it/s]\n"
     ]
    },
    {
     "name": "stdout",
     "output_type": "stream",
     "text": [
      "Epoch: 979 | Training Loss: 0.27617144164366597  | Validation Loss: 0.9396248006302378  | Accuracy: 62.01\n"
     ]
    },
    {
     "name": "stderr",
     "output_type": "stream",
     "text": [
      "156it [00:01, 116.17it/s]\n",
      "100%|█████████████████████████████████████████████████████████| 46/46 [00:00<00:00, 204.05it/s]\n"
     ]
    },
    {
     "name": "stdout",
     "output_type": "stream",
     "text": [
      "Epoch: 980 | Training Loss: 0.2698777390596194  | Validation Loss: 0.9500321732914966  | Accuracy: 60.65\n"
     ]
    },
    {
     "name": "stderr",
     "output_type": "stream",
     "text": [
      "156it [00:01, 115.99it/s]\n",
      "100%|█████████████████████████████████████████████████████████| 46/46 [00:00<00:00, 157.72it/s]\n"
     ]
    },
    {
     "name": "stdout",
     "output_type": "stream",
     "text": [
      "Epoch: 981 | Training Loss: 0.2745756713243631  | Validation Loss: 0.9242156679215638  | Accuracy: 62.52\n"
     ]
    },
    {
     "name": "stderr",
     "output_type": "stream",
     "text": [
      "156it [00:01, 116.43it/s]\n",
      "100%|█████████████████████████████████████████████████████████| 46/46 [00:00<00:00, 158.41it/s]\n"
     ]
    },
    {
     "name": "stdout",
     "output_type": "stream",
     "text": [
      "Epoch: 982 | Training Loss: 0.27257408851232284  | Validation Loss: 0.9229496367599653  | Accuracy: 61.63\n"
     ]
    },
    {
     "name": "stderr",
     "output_type": "stream",
     "text": [
      "156it [00:01, 123.06it/s]\n",
      "100%|█████████████████████████████████████████████████████████| 46/46 [00:00<00:00, 164.03it/s]\n"
     ]
    },
    {
     "name": "stdout",
     "output_type": "stream",
     "text": [
      "Epoch: 983 | Training Loss: 0.27310859736723775  | Validation Loss: 0.9541521694349206  | Accuracy: 60.77\n"
     ]
    },
    {
     "name": "stderr",
     "output_type": "stream",
     "text": [
      "156it [00:01, 116.01it/s]\n",
      "100%|█████████████████████████████████████████████████████████| 46/46 [00:00<00:00, 144.49it/s]\n"
     ]
    },
    {
     "name": "stdout",
     "output_type": "stream",
     "text": [
      "Epoch: 984 | Training Loss: 0.27744892163154405  | Validation Loss: 1.1281280958134194  | Accuracy: 59.38\n"
     ]
    },
    {
     "name": "stderr",
     "output_type": "stream",
     "text": [
      "156it [00:01, 113.89it/s]\n",
      "100%|█████████████████████████████████████████████████████████| 46/46 [00:00<00:00, 182.52it/s]\n"
     ]
    },
    {
     "name": "stdout",
     "output_type": "stream",
     "text": [
      "Epoch: 985 | Training Loss: 0.2776046068622516  | Validation Loss: 1.2205769134604412  | Accuracy: 57.07\n"
     ]
    },
    {
     "name": "stderr",
     "output_type": "stream",
     "text": [
      "156it [00:01, 117.45it/s]\n",
      "100%|█████████████████████████████████████████████████████████| 46/46 [00:00<00:00, 162.04it/s]\n"
     ]
    },
    {
     "name": "stdout",
     "output_type": "stream",
     "text": [
      "Epoch: 986 | Training Loss: 0.27450709092693454  | Validation Loss: 0.9984345306520876  | Accuracy: 60.90\n"
     ]
    },
    {
     "name": "stderr",
     "output_type": "stream",
     "text": [
      "156it [00:01, 114.62it/s]\n",
      "100%|█████████████████████████████████████████████████████████| 46/46 [00:00<00:00, 159.11it/s]\n"
     ]
    },
    {
     "name": "stdout",
     "output_type": "stream",
     "text": [
      "Epoch: 987 | Training Loss: 0.27524550144488996  | Validation Loss: 1.0376352447530497  | Accuracy: 59.60\n"
     ]
    },
    {
     "name": "stderr",
     "output_type": "stream",
     "text": [
      "156it [00:01, 121.98it/s]\n",
      "100%|█████████████████████████████████████████████████████████| 46/46 [00:00<00:00, 162.78it/s]\n"
     ]
    },
    {
     "name": "stdout",
     "output_type": "stream",
     "text": [
      "Epoch: 988 | Training Loss: 0.2751238539050787  | Validation Loss: 1.1413085732771002  | Accuracy: 58.80\n"
     ]
    },
    {
     "name": "stderr",
     "output_type": "stream",
     "text": [
      "156it [00:01, 113.66it/s]\n",
      "100%|█████████████████████████████████████████████████████████| 46/46 [00:00<00:00, 161.95it/s]\n"
     ]
    },
    {
     "name": "stdout",
     "output_type": "stream",
     "text": [
      "Epoch: 989 | Training Loss: 0.2743547967611215  | Validation Loss: 1.2043429988881815  | Accuracy: 57.54\n"
     ]
    },
    {
     "name": "stderr",
     "output_type": "stream",
     "text": [
      "156it [00:01, 113.63it/s]\n",
      "100%|█████████████████████████████████████████████████████████| 46/46 [00:00<00:00, 163.99it/s]\n"
     ]
    },
    {
     "name": "stdout",
     "output_type": "stream",
     "text": [
      "Epoch: 990 | Training Loss: 0.2759053589632878  | Validation Loss: 0.9903307181337605  | Accuracy: 60.28\n"
     ]
    },
    {
     "name": "stderr",
     "output_type": "stream",
     "text": [
      "156it [00:01, 121.09it/s]\n",
      "100%|█████████████████████████████████████████████████████████| 46/46 [00:00<00:00, 158.74it/s]\n"
     ]
    },
    {
     "name": "stdout",
     "output_type": "stream",
     "text": [
      "Epoch: 991 | Training Loss: 0.2740713887107678  | Validation Loss: 0.9874088621657827  | Accuracy: 60.89\n"
     ]
    },
    {
     "name": "stderr",
     "output_type": "stream",
     "text": [
      "156it [00:01, 115.24it/s]\n",
      "100%|█████████████████████████████████████████████████████████| 46/46 [00:00<00:00, 159.63it/s]\n"
     ]
    },
    {
     "name": "stdout",
     "output_type": "stream",
     "text": [
      "Epoch: 992 | Training Loss: 0.27474286942145765  | Validation Loss: 0.9987823755844779  | Accuracy: 60.87\n"
     ]
    },
    {
     "name": "stderr",
     "output_type": "stream",
     "text": [
      "156it [00:01, 125.15it/s]\n",
      "100%|█████████████████████████████████████████████████████████| 46/46 [00:00<00:00, 161.90it/s]\n"
     ]
    },
    {
     "name": "stdout",
     "output_type": "stream",
     "text": [
      "Epoch: 993 | Training Loss: 0.279847970757729  | Validation Loss: 1.0122608399909476  | Accuracy: 59.63\n"
     ]
    },
    {
     "name": "stderr",
     "output_type": "stream",
     "text": [
      "156it [00:01, 115.82it/s]\n",
      "100%|█████████████████████████████████████████████████████████| 46/46 [00:00<00:00, 161.86it/s]\n"
     ]
    },
    {
     "name": "stdout",
     "output_type": "stream",
     "text": [
      "Epoch: 994 | Training Loss: 0.27718697755764693  | Validation Loss: 0.9316754289295363  | Accuracy: 60.56\n"
     ]
    },
    {
     "name": "stderr",
     "output_type": "stream",
     "text": [
      "156it [00:01, 115.62it/s]\n",
      "100%|█████████████████████████████████████████████████████████| 46/46 [00:00<00:00, 159.79it/s]\n"
     ]
    },
    {
     "name": "stdout",
     "output_type": "stream",
     "text": [
      "Epoch: 995 | Training Loss: 0.2824708739152321  | Validation Loss: 0.9790373224279155  | Accuracy: 61.11\n"
     ]
    },
    {
     "name": "stderr",
     "output_type": "stream",
     "text": [
      "156it [00:01, 122.41it/s]\n",
      "100%|█████████████████████████████████████████████████████████| 46/46 [00:00<00:00, 149.55it/s]\n"
     ]
    },
    {
     "name": "stdout",
     "output_type": "stream",
     "text": [
      "Epoch: 996 | Training Loss: 0.2774557788402606  | Validation Loss: 0.9934096012426459  | Accuracy: 60.70\n"
     ]
    },
    {
     "name": "stderr",
     "output_type": "stream",
     "text": [
      "156it [00:01, 115.10it/s]\n",
      "100%|█████████████████████████████████████████████████████████| 46/46 [00:00<00:00, 143.07it/s]\n"
     ]
    },
    {
     "name": "stdout",
     "output_type": "stream",
     "text": [
      "Epoch: 997 | Training Loss: 0.2756609126734428  | Validation Loss: 1.008104180512221  | Accuracy: 61.36\n"
     ]
    },
    {
     "name": "stderr",
     "output_type": "stream",
     "text": [
      "156it [00:01, 121.42it/s]\n",
      "100%|█████████████████████████████████████████████████████████| 46/46 [00:00<00:00, 192.74it/s]\n"
     ]
    },
    {
     "name": "stdout",
     "output_type": "stream",
     "text": [
      "Epoch: 998 | Training Loss: 0.2779776664116444  | Validation Loss: 1.0115096659764  | Accuracy: 60.97\n"
     ]
    },
    {
     "name": "stderr",
     "output_type": "stream",
     "text": [
      "156it [00:01, 115.12it/s]\n",
      "100%|█████████████████████████████████████████████████████████| 46/46 [00:00<00:00, 163.11it/s]\n"
     ]
    },
    {
     "name": "stdout",
     "output_type": "stream",
     "text": [
      "Epoch: 999 | Training Loss: 0.27273466524023277  | Validation Loss: 0.9782212765320487  | Accuracy: 62.09\n"
     ]
    },
    {
     "name": "stderr",
     "output_type": "stream",
     "text": [
      "156it [00:01, 115.11it/s]\n",
      "100%|█████████████████████████████████████████████████████████| 46/46 [00:00<00:00, 162.71it/s]"
     ]
    },
    {
     "name": "stdout",
     "output_type": "stream",
     "text": [
      "Epoch: 1000 | Training Loss: 0.2773157024803834  | Validation Loss: 0.9774093278076338  | Accuracy: 61.74\n",
      "\n",
      "\n",
      "Training complete! Best accuracy: 64.03%.\n"
     ]
    },
    {
     "name": "stderr",
     "output_type": "stream",
     "text": [
      "\n"
     ]
    }
   ],
   "source": [
    "train(model, optimizer,train_loader,val_loader,epochs=1000)"
   ]
  },
  {
   "cell_type": "markdown",
   "id": "457b02cf-2bb0-4e96-819d-44c7f0b352eb",
   "metadata": {},
   "source": [
    "## 4. Evaluating trained model"
   ]
  },
  {
   "cell_type": "code",
   "execution_count": 29,
   "id": "e6908fa3-7372-4f62-bcee-bb1db54dc600",
   "metadata": {},
   "outputs": [],
   "source": [
    "checkpoint = torch.load(\"best_model_trained_fc_v2.pth\")"
   ]
  },
  {
   "cell_type": "code",
   "execution_count": 30,
   "id": "94df1f92-1851-4920-9699-dbe3dd1e3dc2",
   "metadata": {},
   "outputs": [
    {
     "data": {
      "text/plain": [
       "<All keys matched successfully>"
      ]
     },
     "execution_count": 30,
     "metadata": {},
     "output_type": "execute_result"
    }
   ],
   "source": [
    "model.load_state_dict(checkpoint['model_state_dict'])"
   ]
  },
  {
   "cell_type": "code",
   "execution_count": 31,
   "id": "bd13966d-8ee0-49d1-adc5-f76d312110f2",
   "metadata": {},
   "outputs": [],
   "source": [
    "def evaluate(model,val_dataloader):\n",
    "    \n",
    "    model.eval()\n",
    "    \n",
    "    val_accuracy = []\n",
    "    val_loss = []\n",
    "    y_pred = []\n",
    "    y_true = []\n",
    "    for batch in tqdm(val_dataloader):\n",
    "        # Load batch to GPU\n",
    "        inputs, b_labels = tuple(t.to(device) for t in batch)\n",
    "        \n",
    "        # b_input_ids = b_input_ids.reshape((1,24,1000)).squeeze(0)\n",
    "        # b_attn_masks = b_attn_masks.reshape((1,24,1000)).squeeze(0)\n",
    "        b_labels = b_labels.reshape((1,128,1)).squeeze(0)\n",
    "        with torch.no_grad():\n",
    "                logits = model(inputs)\n",
    "        \n",
    "        \n",
    "        \n",
    "        y_true.extend(b_labels)\n",
    "        loss = loss_fn(logits, b_labels.float())\n",
    "\n",
    "        val_loss.append(loss.item())\n",
    "# # model = BertModel.from_pretrained(\"Rostlab/prot_bert_bfd\")\n",
    "# for i in tqdm(train_dataloader):\n",
    "#     print(i)\n",
    "        preds = torch.round(torch.sigmoid(logits))\n",
    "        y_pred.extend(preds)\n",
    "        # print(preds,b_labels)\n",
    "        accuracy = (preds.float() == b_labels.float()).cpu().numpy().mean() * 100\n",
    "\n",
    "        val_accuracy.append(accuracy)\n",
    "    \n",
    "    val_loss = np.mean(val_loss)\n",
    "    val_accuracy = np.mean(val_accuracy)\n",
    "    return val_loss, val_accuracy, y_true, y_pred "
   ]
  },
  {
   "cell_type": "code",
   "execution_count": 32,
   "id": "3e577775-c7e7-43be-9e04-e751d5e9508e",
   "metadata": {},
   "outputs": [
    {
     "name": "stderr",
     "output_type": "stream",
     "text": [
      "100%|████████████████████████████████████████████████████████████| 1/1 [00:00<00:00, 11.39it/s]\n"
     ]
    }
   ],
   "source": [
    "test_loss, test_accuracy,y_true,y_pred =  evaluate(model,test_loader)"
   ]
  },
  {
   "cell_type": "code",
   "execution_count": 33,
   "id": "ce93c0f3-0386-4b56-9a81-caed9c7b1bc9",
   "metadata": {},
   "outputs": [
    {
     "data": {
      "text/plain": [
       "69.28333333333333"
      ]
     },
     "execution_count": 33,
     "metadata": {},
     "output_type": "execute_result"
    }
   ],
   "source": [
    "test_accuracy"
   ]
  },
  {
   "cell_type": "code",
   "execution_count": 34,
   "id": "58a49b01-756e-45d3-a252-19cdcbeb14ff",
   "metadata": {},
   "outputs": [
    {
     "data": {
      "text/plain": [
       "0.6828536987304688"
      ]
     },
     "execution_count": 34,
     "metadata": {},
     "output_type": "execute_result"
    }
   ],
   "source": [
    "test_loss"
   ]
  },
  {
   "cell_type": "code",
   "execution_count": 35,
   "id": "b356048b-f9ab-491c-a1fe-e49ccef71175",
   "metadata": {
    "scrolled": true,
    "tags": []
   },
   "outputs": [
    {
     "data": {
      "text/plain": [
       "tensor([[0.],\n",
       "        [0.],\n",
       "        [0.],\n",
       "        ...,\n",
       "        [0.],\n",
       "        [0.],\n",
       "        [1.]], device='cuda:0')"
      ]
     },
     "execution_count": 35,
     "metadata": {},
     "output_type": "execute_result"
    }
   ],
   "source": []
  },
  {
   "cell_type": "code",
   "execution_count": 28,
   "id": "ac4d7347-051a-40d8-9a0a-ee3671503a26",
   "metadata": {},
   "outputs": [],
   "source": [
    "\n",
    "y_pred = [j[0].cpu() for j in  y_pred]\n",
    "y_true = [j[0].cpu() for j in  y_true]"
   ]
  },
  {
   "cell_type": "code",
   "execution_count": 88,
   "id": "4adb6c98-158f-475d-82ba-c499f1a95ac6",
   "metadata": {},
   "outputs": [],
   "source": [
    "cm = confusion_matrix(y_true, y_pred)"
   ]
  },
  {
   "cell_type": "code",
   "execution_count": 89,
   "id": "beb89d84-0cb2-4152-9110-a57f7ccad496",
   "metadata": {},
   "outputs": [
    {
     "data": {
      "text/plain": [
       "<sklearn.metrics._plot.confusion_matrix.ConfusionMatrixDisplay at 0x7f0d805f1370>"
      ]
     },
     "execution_count": 89,
     "metadata": {},
     "output_type": "execute_result"
    },
    {
     "data": {
      "image/png": "[encoded data removed]",
      "text/plain": [
       "<Figure size 720x720 with 2 Axes>"
      ]
     },
     "metadata": {
      "needs_background": "light"
     },
     "output_type": "display_data"
    }
   ],
   "source": [
    "disp = ConfusionMatrixDisplay(confusion_matrix=cm,\n",
    "                              display_labels=[1,0])\n",
    "fig, ax = plt.subplots(figsize=(10,10))\n",
    "disp.plot(ax=ax)\n"
   ]
  },
  {
   "cell_type": "code",
   "execution_count": 64,
   "id": "85c09591-6456-4e12-b337-a4d4aa0d56b7",
   "metadata": {},
   "outputs": [
    {
     "name": "stdout",
     "output_type": "stream",
     "text": [
      "[tensor([[ 0.0338,  0.0178, -0.0191,  ..., -0.0020, -0.0584,  0.0137],\n",
      "        [-0.0143, -0.0311, -0.0006,  ..., -0.0044, -0.0140,  0.0191],\n",
      "        [ 0.0150,  0.0059, -0.0172,  ...,  0.0191, -0.0298, -0.0335],\n",
      "        ...,\n",
      "        [ 0.0416,  0.0081, -0.0126,  ..., -0.0176, -0.0341, -0.0131],\n",
      "        [-0.0204, -0.0420, -0.0413,  ..., -0.0443, -0.0165, -0.0059],\n",
      "        [ 0.0138,  0.0015,  0.0026,  ...,  0.0089, -0.0175,  0.0045]]), tensor([0., 0., 1., 1., 1., 0., 0., 1., 1., 1., 0., 0., 0., 1., 0., 0., 1., 0.,\n",
      "        1., 1., 1., 1., 1., 1., 1., 1., 0., 1., 0., 0., 0., 0., 1., 1., 0., 0.,\n",
      "        0., 1., 1., 0., 1., 1., 0., 1., 0., 0., 1., 0., 0., 1., 0., 0., 1., 0.,\n",
      "        1., 1., 0., 0., 0., 0., 0., 1., 1., 1., 1., 0., 1., 0., 0., 1., 0., 0.,\n",
      "        1., 0., 1., 0., 0., 1., 0., 1., 0., 1., 1., 0., 1., 0., 1., 0., 1., 1.,\n",
      "        1., 1., 0., 1., 1., 0., 1., 0., 0., 1., 0., 0., 0., 1., 1., 1., 0., 1.,\n",
      "        0., 0., 0., 0., 1., 0., 1., 1., 1., 0., 0., 0., 1., 0., 1., 0., 0., 1.,\n",
      "        0., 1.])]\n"
     ]
    }
   ],
   "source": [
    "from matplotlib.pylab import plt\n",
    "from numpy import arange\n",
    " \n",
    "\n",
    "\n",
    " \n",
    "# Generate a sequence of integers to represent the epoch numbers\n",
    "epochs = range(1, 1000)\n",
    " \n",
    "# Plot and label the training and validation loss values\n",
    "plt.plot(epochs, train_values, label='Training Loss')\n",
    "plt.plot(epochs, val_values, label='Validation Loss')\n",
    " \n",
    "# Add in a title and axes labels\n",
    "plt.title('Training and Validation Loss')\n",
    "plt.xlabel('Epochs')\n",
    "plt.ylabel('Loss')\n",
    " \n",
    "# Set the tick locations\n",
    "plt.xticks(arange(0, 1000,50)\n",
    " \n",
    "# Display the plot\n",
    "plt.legend(loc='best')\n",
    "plt.show()"
   ]
  },
  {
   "cell_type": "code",
   "execution_count": 101,
   "id": "4398b07f-1002-43b4-af78-d9ca57fedd4c",
   "metadata": {},
   "outputs": [
    {
     "data": {
      "text/plain": [
       "1154"
      ]
     },
     "execution_count": 101,
     "metadata": {},
     "output_type": "execute_result"
    }
   ],
   "source": [
    "len(train_loss)"
   ]
  },
  {
   "cell_type": "code",
   "execution_count": 66,
   "id": "31cda53c-602f-4c0a-8597-798c068eb1fd",
   "metadata": {},
   "outputs": [
    {
     "data": {
      "text/plain": [
       "128"
      ]
     },
     "execution_count": 66,
     "metadata": {},
     "output_type": "execute_result"
    }
   ],
   "source": [
    "len(y_pred)"
   ]
  },
  {
   "cell_type": "code",
   "execution_count": null,
   "id": "99d74033",
   "metadata": {},
   "outputs": [],
   "source": []
  }
 ],
 "metadata": {
  "kernelspec": {
   "display_name": "Python 3 (ipykernel)",
   "language": "python",
   "name": "python3"
  },
  "language_info": {
   "codemirror_mode": {
    "name": "ipython",
    "version": 3
   },
   "file_extension": ".py",
   "mimetype": "text/x-python",
   "name": "python",
   "nbconvert_exporter": "python",
   "pygments_lexer": "ipython3",
   "version": "3.9.12"
  }
 },
 "nbformat": 4,
 "nbformat_minor": 5
}

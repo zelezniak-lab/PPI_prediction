{
 "cells": [
  {
   "cell_type": "code",
   "execution_count": 1,
   "id": "34491f6c-6440-4d93-82bb-6e7664cbf005",
   "metadata": {},
   "outputs": [],
   "source": [
    "from tqdm import tqdm\n",
    "import numpy as np\n",
    "import pandas as pd\n",
    "import matplotlib.pyplot as plt\n",
    "import torch\n",
    "import torch.nn as nn\n",
    "import torch.optim as optim\n",
    "from torch.utils.data import Dataset, DataLoader\n",
    "from sklearn.metrics import  confusion_matrix, ConfusionMatrixDisplay\n",
    "from sklearn.metrics import plot_confusion_matrix\n",
    "from matplotlib.pyplot import figure\n",
    "\n",
    "import sys\n",
    "sys.setrecursionlimit(1000000)"
   ]
  },
  {
   "cell_type": "code",
   "execution_count": 2,
   "id": "456d5718-3845-40f7-b51f-c9c2a3a705be",
   "metadata": {},
   "outputs": [
    {
     "name": "stdout",
     "output_type": "stream",
     "text": [
      "/bin/bash: /home/anwer/anaconda3/lib/libtinfo.so.6: no version information available (required by /bin/bash)\r\n",
      "Tue Nov 15 08:12:43 2022       \r\n",
      "+-----------------------------------------------------------------------------+\r\n",
      "| NVIDIA-SMI 515.65.01    Driver Version: 515.65.01    CUDA Version: 11.7     |\r\n",
      "|-------------------------------+----------------------+----------------------+\r\n",
      "| GPU  Name        Persistence-M| Bus-Id        Disp.A | Volatile Uncorr. ECC |\r\n",
      "| Fan  Temp  Perf  Pwr:Usage/Cap|         Memory-Usage | GPU-Util  Compute M. |\r\n",
      "|                               |                      |               MIG M. |\r\n",
      "|===============================+======================+======================|\r\n",
      "|   0  NVIDIA GeForce ...  Off  | 00000000:01:00.0  On |                  N/A |\r\n",
      "| N/A   65C    P8    10W /  N/A |     46MiB /  6144MiB |     37%      Default |\r\n",
      "|                               |                      |                  N/A |\r\n",
      "+-------------------------------+----------------------+----------------------+\r\n",
      "                                                                               \r\n",
      "+-----------------------------------------------------------------------------+\r\n",
      "| Processes:                                                                  |\r\n",
      "|  GPU   GI   CI        PID   Type   Process name                  GPU Memory |\r\n",
      "|        ID   ID                                                   Usage      |\r\n",
      "|=============================================================================|\r\n",
      "|    0   N/A  N/A      1132      G   /usr/lib/xorg/Xorg                 45MiB |\r\n",
      "+-----------------------------------------------------------------------------+\r\n"
     ]
    }
   ],
   "source": [
    "\n",
    "!nvidia-smi"
   ]
  },
  {
   "cell_type": "code",
   "execution_count": 3,
   "id": "03017144-5be8-49eb-adac-4c30fb886064",
   "metadata": {},
   "outputs": [],
   "source": [
    "data_frame_train = pd.read_csv(\"../../csv_files_new_ppi/training_and_test_set/combined_prot_a_prot_b/combined_embedding_subset_train.csv\")\n",
    "data_frame_test = pd.read_csv(\"../../csv_files_new_ppi/training_and_test_set/combined_prot_a_prot_b/combined_embedding_subset_test.csv\")\n",
    "data_frame_val = pd.read_csv(\"../../csv_files_new_ppi/training_and_test_set/combined_prot_a_prot_b/combined_embedding_subset_val.csv\")"
   ]
  },
  {
   "cell_type": "code",
   "execution_count": 4,
   "id": "bf6d7d49-50e7-45f2-8de0-d3c7882dc7f4",
   "metadata": {},
   "outputs": [
    {
     "data": {
      "text/html": [
       "<div>\n",
       "<style scoped>\n",
       "    .dataframe tbody tr th:only-of-type {\n",
       "        vertical-align: middle;\n",
       "    }\n",
       "\n",
       "    .dataframe tbody tr th {\n",
       "        vertical-align: top;\n",
       "    }\n",
       "\n",
       "    .dataframe thead th {\n",
       "        text-align: right;\n",
       "    }\n",
       "</style>\n",
       "<table border=\"1\" class=\"dataframe\">\n",
       "  <thead>\n",
       "    <tr style=\"text-align: right;\">\n",
       "      <th></th>\n",
       "      <th>0</th>\n",
       "      <th>1</th>\n",
       "      <th>2</th>\n",
       "      <th>3</th>\n",
       "      <th>4</th>\n",
       "      <th>5</th>\n",
       "      <th>6</th>\n",
       "      <th>7</th>\n",
       "      <th>8</th>\n",
       "      <th>9</th>\n",
       "      <th>...</th>\n",
       "      <th>1015</th>\n",
       "      <th>1016</th>\n",
       "      <th>1017</th>\n",
       "      <th>1018</th>\n",
       "      <th>1019</th>\n",
       "      <th>1020</th>\n",
       "      <th>1021</th>\n",
       "      <th>1022</th>\n",
       "      <th>1023</th>\n",
       "      <th>label</th>\n",
       "    </tr>\n",
       "  </thead>\n",
       "  <tbody>\n",
       "    <tr>\n",
       "      <th>0</th>\n",
       "      <td>0.028385</td>\n",
       "      <td>0.027177</td>\n",
       "      <td>0.001707</td>\n",
       "      <td>0.020168</td>\n",
       "      <td>-0.004517</td>\n",
       "      <td>0.028336</td>\n",
       "      <td>0.001413</td>\n",
       "      <td>-0.013377</td>\n",
       "      <td>0.032216</td>\n",
       "      <td>0.030635</td>\n",
       "      <td>...</td>\n",
       "      <td>-0.037687</td>\n",
       "      <td>-0.020171</td>\n",
       "      <td>-0.009614</td>\n",
       "      <td>-0.032648</td>\n",
       "      <td>-0.023692</td>\n",
       "      <td>-0.014956</td>\n",
       "      <td>-0.001067</td>\n",
       "      <td>-0.031846</td>\n",
       "      <td>0.012538</td>\n",
       "      <td>1</td>\n",
       "    </tr>\n",
       "    <tr>\n",
       "      <th>1</th>\n",
       "      <td>0.015617</td>\n",
       "      <td>-0.001422</td>\n",
       "      <td>-0.013470</td>\n",
       "      <td>0.006397</td>\n",
       "      <td>0.025932</td>\n",
       "      <td>-0.022813</td>\n",
       "      <td>-0.000177</td>\n",
       "      <td>-0.020818</td>\n",
       "      <td>-0.007053</td>\n",
       "      <td>0.001988</td>\n",
       "      <td>...</td>\n",
       "      <td>-0.006055</td>\n",
       "      <td>-0.026670</td>\n",
       "      <td>-0.021014</td>\n",
       "      <td>-0.002191</td>\n",
       "      <td>-0.015441</td>\n",
       "      <td>-0.039538</td>\n",
       "      <td>0.015931</td>\n",
       "      <td>-0.026638</td>\n",
       "      <td>0.001783</td>\n",
       "      <td>1</td>\n",
       "    </tr>\n",
       "    <tr>\n",
       "      <th>2</th>\n",
       "      <td>0.001469</td>\n",
       "      <td>0.003226</td>\n",
       "      <td>0.004131</td>\n",
       "      <td>0.047037</td>\n",
       "      <td>0.032908</td>\n",
       "      <td>0.024164</td>\n",
       "      <td>0.029622</td>\n",
       "      <td>0.009962</td>\n",
       "      <td>-0.017095</td>\n",
       "      <td>0.028200</td>\n",
       "      <td>...</td>\n",
       "      <td>-0.062237</td>\n",
       "      <td>-0.021205</td>\n",
       "      <td>-0.018034</td>\n",
       "      <td>-0.044636</td>\n",
       "      <td>-0.003901</td>\n",
       "      <td>0.002548</td>\n",
       "      <td>-0.002773</td>\n",
       "      <td>-0.059739</td>\n",
       "      <td>0.008306</td>\n",
       "      <td>1</td>\n",
       "    </tr>\n",
       "    <tr>\n",
       "      <th>3</th>\n",
       "      <td>0.018104</td>\n",
       "      <td>0.027533</td>\n",
       "      <td>0.002827</td>\n",
       "      <td>-0.021292</td>\n",
       "      <td>0.046611</td>\n",
       "      <td>-0.020751</td>\n",
       "      <td>0.018554</td>\n",
       "      <td>-0.046236</td>\n",
       "      <td>0.027736</td>\n",
       "      <td>-0.018294</td>\n",
       "      <td>...</td>\n",
       "      <td>-0.014451</td>\n",
       "      <td>-0.020901</td>\n",
       "      <td>-0.011621</td>\n",
       "      <td>0.030524</td>\n",
       "      <td>0.028947</td>\n",
       "      <td>-0.027071</td>\n",
       "      <td>0.007687</td>\n",
       "      <td>-0.033697</td>\n",
       "      <td>-0.008957</td>\n",
       "      <td>0</td>\n",
       "    </tr>\n",
       "    <tr>\n",
       "      <th>4</th>\n",
       "      <td>0.020711</td>\n",
       "      <td>0.021858</td>\n",
       "      <td>0.035493</td>\n",
       "      <td>0.064109</td>\n",
       "      <td>0.028367</td>\n",
       "      <td>0.025515</td>\n",
       "      <td>0.003727</td>\n",
       "      <td>-0.004875</td>\n",
       "      <td>-0.027814</td>\n",
       "      <td>-0.004117</td>\n",
       "      <td>...</td>\n",
       "      <td>-0.077938</td>\n",
       "      <td>-0.015088</td>\n",
       "      <td>0.019681</td>\n",
       "      <td>0.014134</td>\n",
       "      <td>-0.015882</td>\n",
       "      <td>-0.015707</td>\n",
       "      <td>0.023588</td>\n",
       "      <td>-0.047237</td>\n",
       "      <td>-0.009997</td>\n",
       "      <td>1</td>\n",
       "    </tr>\n",
       "    <tr>\n",
       "      <th>...</th>\n",
       "      <td>...</td>\n",
       "      <td>...</td>\n",
       "      <td>...</td>\n",
       "      <td>...</td>\n",
       "      <td>...</td>\n",
       "      <td>...</td>\n",
       "      <td>...</td>\n",
       "      <td>...</td>\n",
       "      <td>...</td>\n",
       "      <td>...</td>\n",
       "      <td>...</td>\n",
       "      <td>...</td>\n",
       "      <td>...</td>\n",
       "      <td>...</td>\n",
       "      <td>...</td>\n",
       "      <td>...</td>\n",
       "      <td>...</td>\n",
       "      <td>...</td>\n",
       "      <td>...</td>\n",
       "      <td>...</td>\n",
       "      <td>...</td>\n",
       "    </tr>\n",
       "    <tr>\n",
       "      <th>19995</th>\n",
       "      <td>0.002149</td>\n",
       "      <td>-0.005082</td>\n",
       "      <td>-0.007793</td>\n",
       "      <td>0.026073</td>\n",
       "      <td>0.034440</td>\n",
       "      <td>-0.004397</td>\n",
       "      <td>-0.006836</td>\n",
       "      <td>-0.014811</td>\n",
       "      <td>-0.006304</td>\n",
       "      <td>0.018683</td>\n",
       "      <td>...</td>\n",
       "      <td>-0.029779</td>\n",
       "      <td>0.001915</td>\n",
       "      <td>0.003734</td>\n",
       "      <td>-0.007455</td>\n",
       "      <td>-0.038037</td>\n",
       "      <td>0.004197</td>\n",
       "      <td>0.008961</td>\n",
       "      <td>-0.000200</td>\n",
       "      <td>0.006070</td>\n",
       "      <td>1</td>\n",
       "    </tr>\n",
       "    <tr>\n",
       "      <th>19996</th>\n",
       "      <td>0.019183</td>\n",
       "      <td>-0.001014</td>\n",
       "      <td>0.008177</td>\n",
       "      <td>0.021608</td>\n",
       "      <td>0.021657</td>\n",
       "      <td>0.020940</td>\n",
       "      <td>-0.008094</td>\n",
       "      <td>-0.014137</td>\n",
       "      <td>-0.031861</td>\n",
       "      <td>0.004255</td>\n",
       "      <td>...</td>\n",
       "      <td>-0.074985</td>\n",
       "      <td>0.019865</td>\n",
       "      <td>-0.023345</td>\n",
       "      <td>-0.061145</td>\n",
       "      <td>-0.017200</td>\n",
       "      <td>0.000358</td>\n",
       "      <td>0.020019</td>\n",
       "      <td>0.003406</td>\n",
       "      <td>-0.001012</td>\n",
       "      <td>0</td>\n",
       "    </tr>\n",
       "    <tr>\n",
       "      <th>19997</th>\n",
       "      <td>0.016292</td>\n",
       "      <td>0.026783</td>\n",
       "      <td>-0.000487</td>\n",
       "      <td>-0.003789</td>\n",
       "      <td>0.038305</td>\n",
       "      <td>0.001881</td>\n",
       "      <td>-0.029539</td>\n",
       "      <td>-0.001255</td>\n",
       "      <td>0.032015</td>\n",
       "      <td>0.008985</td>\n",
       "      <td>...</td>\n",
       "      <td>-0.057021</td>\n",
       "      <td>-0.008672</td>\n",
       "      <td>-0.024208</td>\n",
       "      <td>-0.076131</td>\n",
       "      <td>-0.034672</td>\n",
       "      <td>-0.019970</td>\n",
       "      <td>0.010658</td>\n",
       "      <td>-0.024751</td>\n",
       "      <td>-0.011714</td>\n",
       "      <td>0</td>\n",
       "    </tr>\n",
       "    <tr>\n",
       "      <th>19998</th>\n",
       "      <td>-0.030434</td>\n",
       "      <td>0.021819</td>\n",
       "      <td>0.025154</td>\n",
       "      <td>0.032020</td>\n",
       "      <td>0.003013</td>\n",
       "      <td>0.061596</td>\n",
       "      <td>-0.012900</td>\n",
       "      <td>0.001904</td>\n",
       "      <td>-0.008692</td>\n",
       "      <td>0.048690</td>\n",
       "      <td>...</td>\n",
       "      <td>-0.038546</td>\n",
       "      <td>-0.053721</td>\n",
       "      <td>-0.008590</td>\n",
       "      <td>0.037416</td>\n",
       "      <td>0.041671</td>\n",
       "      <td>-0.044147</td>\n",
       "      <td>-0.037194</td>\n",
       "      <td>-0.065800</td>\n",
       "      <td>0.031591</td>\n",
       "      <td>1</td>\n",
       "    </tr>\n",
       "    <tr>\n",
       "      <th>19999</th>\n",
       "      <td>0.029924</td>\n",
       "      <td>0.018162</td>\n",
       "      <td>-0.011681</td>\n",
       "      <td>-0.002145</td>\n",
       "      <td>0.018522</td>\n",
       "      <td>-0.012356</td>\n",
       "      <td>0.003815</td>\n",
       "      <td>-0.002019</td>\n",
       "      <td>0.045906</td>\n",
       "      <td>-0.008772</td>\n",
       "      <td>...</td>\n",
       "      <td>-0.025333</td>\n",
       "      <td>-0.025723</td>\n",
       "      <td>-0.019077</td>\n",
       "      <td>-0.022872</td>\n",
       "      <td>-0.029329</td>\n",
       "      <td>-0.024372</td>\n",
       "      <td>-0.009729</td>\n",
       "      <td>-0.032329</td>\n",
       "      <td>-0.009086</td>\n",
       "      <td>1</td>\n",
       "    </tr>\n",
       "  </tbody>\n",
       "</table>\n",
       "<p>20000 rows × 1025 columns</p>\n",
       "</div>"
      ],
      "text/plain": [
       "              0         1         2         3         4         5         6  \\\n",
       "0      0.028385  0.027177  0.001707  0.020168 -0.004517  0.028336  0.001413   \n",
       "1      0.015617 -0.001422 -0.013470  0.006397  0.025932 -0.022813 -0.000177   \n",
       "2      0.001469  0.003226  0.004131  0.047037  0.032908  0.024164  0.029622   \n",
       "3      0.018104  0.027533  0.002827 -0.021292  0.046611 -0.020751  0.018554   \n",
       "4      0.020711  0.021858  0.035493  0.064109  0.028367  0.025515  0.003727   \n",
       "...         ...       ...       ...       ...       ...       ...       ...   \n",
       "19995  0.002149 -0.005082 -0.007793  0.026073  0.034440 -0.004397 -0.006836   \n",
       "19996  0.019183 -0.001014  0.008177  0.021608  0.021657  0.020940 -0.008094   \n",
       "19997  0.016292  0.026783 -0.000487 -0.003789  0.038305  0.001881 -0.029539   \n",
       "19998 -0.030434  0.021819  0.025154  0.032020  0.003013  0.061596 -0.012900   \n",
       "19999  0.029924  0.018162 -0.011681 -0.002145  0.018522 -0.012356  0.003815   \n",
       "\n",
       "              7         8         9  ...      1015      1016      1017  \\\n",
       "0     -0.013377  0.032216  0.030635  ... -0.037687 -0.020171 -0.009614   \n",
       "1     -0.020818 -0.007053  0.001988  ... -0.006055 -0.026670 -0.021014   \n",
       "2      0.009962 -0.017095  0.028200  ... -0.062237 -0.021205 -0.018034   \n",
       "3     -0.046236  0.027736 -0.018294  ... -0.014451 -0.020901 -0.011621   \n",
       "4     -0.004875 -0.027814 -0.004117  ... -0.077938 -0.015088  0.019681   \n",
       "...         ...       ...       ...  ...       ...       ...       ...   \n",
       "19995 -0.014811 -0.006304  0.018683  ... -0.029779  0.001915  0.003734   \n",
       "19996 -0.014137 -0.031861  0.004255  ... -0.074985  0.019865 -0.023345   \n",
       "19997 -0.001255  0.032015  0.008985  ... -0.057021 -0.008672 -0.024208   \n",
       "19998  0.001904 -0.008692  0.048690  ... -0.038546 -0.053721 -0.008590   \n",
       "19999 -0.002019  0.045906 -0.008772  ... -0.025333 -0.025723 -0.019077   \n",
       "\n",
       "           1018      1019      1020      1021      1022      1023  label  \n",
       "0     -0.032648 -0.023692 -0.014956 -0.001067 -0.031846  0.012538      1  \n",
       "1     -0.002191 -0.015441 -0.039538  0.015931 -0.026638  0.001783      1  \n",
       "2     -0.044636 -0.003901  0.002548 -0.002773 -0.059739  0.008306      1  \n",
       "3      0.030524  0.028947 -0.027071  0.007687 -0.033697 -0.008957      0  \n",
       "4      0.014134 -0.015882 -0.015707  0.023588 -0.047237 -0.009997      1  \n",
       "...         ...       ...       ...       ...       ...       ...    ...  \n",
       "19995 -0.007455 -0.038037  0.004197  0.008961 -0.000200  0.006070      1  \n",
       "19996 -0.061145 -0.017200  0.000358  0.020019  0.003406 -0.001012      0  \n",
       "19997 -0.076131 -0.034672 -0.019970  0.010658 -0.024751 -0.011714      0  \n",
       "19998  0.037416  0.041671 -0.044147 -0.037194 -0.065800  0.031591      1  \n",
       "19999 -0.022872 -0.029329 -0.024372 -0.009729 -0.032329 -0.009086      1  \n",
       "\n",
       "[20000 rows x 1025 columns]"
      ]
     },
     "execution_count": 4,
     "metadata": {},
     "output_type": "execute_result"
    }
   ],
   "source": [
    "data_frame_train"
   ]
  },
  {
   "cell_type": "code",
   "execution_count": 5,
   "id": "02db76e3-c49a-4357-9b6d-e7fdb9eb8af3",
   "metadata": {},
   "outputs": [],
   "source": [
    "train_features = data_frame_train.copy()\n",
    "train_labels = train_features.pop('label')\n",
    "train_features = np.array(train_features)\n",
    "\n",
    "\n",
    "test_features = data_frame_test.copy()\n",
    "test_labels = test_features.pop('label')\n",
    "test_features = np.array(test_features)\n",
    "\n",
    "val_features = data_frame_val.copy()\n",
    "val_labels = val_features.pop('label')\n",
    "val_features = np.array(val_features)\n",
    "        \n",
    "x_train = train_features\n",
    "y_train = train_labels\n",
    "x_test = test_features\n",
    "y_test = test_labels\n",
    "x_val = val_features\n",
    "y_val = val_labels "
   ]
  },
  {
   "cell_type": "code",
   "execution_count": 6,
   "id": "01a817d6-2116-4f4d-be6a-68d5fc0af6d1",
   "metadata": {},
   "outputs": [],
   "source": [
    "# concat_train_features = []\n",
    "# concat_test_features = []\n",
    "# for i in train_features:\n",
    "\n",
    "#     concat_train_features.append(i[0:1024] + i[1024:])\n",
    "\n",
    "# for i in test_features:\n",
    "\n",
    "#     concat_test_features.append(i[0:1024] + i[1024:])\n",
    "\n",
    "# x_train = concat_train_features\n",
    "# y_train = train_labels\n",
    "# x_test = concat_test_features[0:5000]\n",
    "# y_test = test_labels[0:5000]\n",
    "# x_val = concat_test_features[5000:10000]\n",
    "# y_val = np.array(test_labels[5000:10000])"
   ]
  },
  {
   "cell_type": "markdown",
   "id": "0c732469-da2b-479d-9697-e23523522d5f",
   "metadata": {},
   "source": [
    "## 1. Creating Dataloader"
   ]
  },
  {
   "cell_type": "code",
   "execution_count": 7,
   "id": "e9af98a5-acca-4344-9f49-e70a5c6503e1",
   "metadata": {},
   "outputs": [],
   "source": [
    "## train data\n",
    "class Data(Dataset):\n",
    "    \n",
    "    def __init__(self, X_data, y_data):\n",
    "        self.X_data = X_data\n",
    "        self.y_data = y_data\n",
    "        \n",
    "    def __getitem__(self, index):\n",
    "        return self.X_data[index], self.y_data[index]\n",
    "        \n",
    "    def __len__ (self):\n",
    "        return len(self.X_data)\n",
    "\n",
    "\n",
    "train_data = Data(torch.FloatTensor(x_train), \n",
    "                       torch.FloatTensor(y_train))\n",
    "## test data    \n",
    "    \n",
    "\n",
    "val_data = Data(torch.FloatTensor(x_test), \n",
    "                       torch.FloatTensor(y_test))\n",
    "\n",
    "\n",
    "test_data =  Data(torch.FloatTensor(x_val), \n",
    "                       torch.FloatTensor(y_val))"
   ]
  },
  {
   "cell_type": "code",
   "execution_count": 8,
   "id": "11be1fcf-d881-41b9-9b26-11d7d41d4adf",
   "metadata": {},
   "outputs": [],
   "source": [
    "train_loader = DataLoader(dataset=train_data, batch_size=128, shuffle=True,drop_last=True)\n",
    "test_loader = DataLoader(dataset=test_data, batch_size=128,drop_last=True )\n",
    "val_loader = DataLoader(dataset=val_data, batch_size=128,drop_last=True )"
   ]
  },
  {
   "cell_type": "code",
   "execution_count": 9,
   "id": "5fdbabc8-1620-413e-abb8-b37a8d82c16e",
   "metadata": {},
   "outputs": [
    {
     "name": "stdout",
     "output_type": "stream",
     "text": [
      "cuda:0\n"
     ]
    }
   ],
   "source": [
    "device = torch.device(\"cuda:0\" if torch.cuda.is_available() else \"cpu\")\n",
    "print(device)"
   ]
  },
  {
   "cell_type": "code",
   "execution_count": null,
   "id": "8be1a0df-3910-49d7-a874-7868cb0ad901",
   "metadata": {},
   "outputs": [],
   "source": []
  },
  {
   "cell_type": "markdown",
   "id": "9d8ebbbf-66a8-43e1-b692-d348267452a4",
   "metadata": {},
   "source": [
    "## 2. Model"
   ]
  },
  {
   "cell_type": "code",
   "execution_count": 10,
   "id": "1ac073c4-3ed3-448e-834a-40827fa55a11",
   "metadata": {},
   "outputs": [],
   "source": [
    "import torch\n",
    "import torch.nn as nn\n",
    "\n",
    "device = torch.device('cuda' if torch.cuda.is_available() else 'cpu')"
   ]
  },
  {
   "cell_type": "code",
   "execution_count": 11,
   "id": "be5cbac6-904a-4f09-9eda-107547a01b4c",
   "metadata": {},
   "outputs": [
    {
     "data": {
      "text/plain": [
       "device(type='cuda')"
      ]
     },
     "execution_count": 11,
     "metadata": {},
     "output_type": "execute_result"
    }
   ],
   "source": [
    "device"
   ]
  },
  {
   "cell_type": "code",
   "execution_count": 12,
   "id": "70ffcfbc-8719-467d-bdd0-104fd7c13b2c",
   "metadata": {},
   "outputs": [],
   "source": [
    "class BertClassifier(nn.Module):\n",
    "    \n",
    "    def __init__(self, embed_dim = 1024):\n",
    "        super(BertClassifier,self).__init__()\n",
    "     \n",
    "        \n",
    "        self.relu = nn.ReLU()\n",
    "        self.conv1  = nn.Conv1d(in_channels = 1,out_channels = 33, kernel_size = 3, stride=1)\n",
    "        self.fc1 = nn.Linear(33726,1024)\n",
    "        self.bn1 = nn.BatchNorm1d(num_features=1024)\n",
    "        self.fc1_1 = nn.Linear(1024,1024)\n",
    "#         self.fc2 = nn.Linear(512,256)\n",
    "        \n",
    "        self.fc3 = nn.Linear(1024,64)\n",
    "        self.bn2 = nn.BatchNorm1d(num_features=64)\n",
    "        self.fc4 = nn.Linear(64,32)\n",
    "        \n",
    "        self.fc5 = nn.Linear(32,16)\n",
    "        self.fc6 = nn.Linear(16,8)\n",
    "        self.fc7 = nn.Linear(8,1)\n",
    "\n",
    "    \n",
    "    def forward(self, inputs):\n",
    "        \n",
    "       \n",
    "        \n",
    "        inputs = inputs.reshape(128,1,1024)\n",
    "        output_conv = self.relu(self.conv1(inputs))\n",
    "        output_conv = output_conv.reshape(128,33726)\n",
    "        output_1 = self.relu(self.fc1(output_conv))\n",
    "        output_1 = self.bn1(output_1)\n",
    "        output_1_1 = self.relu(self.fc1_1(output_1))\n",
    "        output_1_1 = output_1_1 + output_1\n",
    "        \n",
    "        output_2 = self.relu(self.fc3(output_1_1))\n",
    "        output_2  = self.bn2(output_2)\n",
    "        output_3 = self.relu(self.fc4(output_2))\n",
    "        output_4 = self.relu(self.fc5(output_3))\n",
    "        output_5 = self.relu(self.fc6(output_4))\n",
    "        output = self.fc7(output_5)\n",
    "\n",
    "        return output"
   ]
  },
  {
   "cell_type": "code",
   "execution_count": 13,
   "id": "4298bc02",
   "metadata": {},
   "outputs": [],
   "source": [
    "# for i in train_loader:\n",
    "#     print(i[0])\n",
    "#     print(i[0].shape)\n",
    "#     j = i[0].reshape(128,1,1024)\n",
    "#     print(j)\n",
    "#     x = nn.Conv1d(in_channels = 1,out_channels = 33, kernel_size = 3, stride=1)\n",
    "#     conv_out = x(j)\n",
    "#     print(conv_out)\n",
    "#     print(conv_out.shape)\n",
    "#     conv_out = conv_out.reshape(128,33726)\n",
    "#     print(conv_out)\n",
    "#     print(conv_out.shape)\n",
    "    \n",
    "#     break"
   ]
  },
  {
   "cell_type": "markdown",
   "id": "efe432c6",
   "metadata": {},
   "source": [
    "# "
   ]
  },
  {
   "cell_type": "code",
   "execution_count": 14,
   "id": "634b32d6-9554-4969-abc6-916d55a5b140",
   "metadata": {},
   "outputs": [],
   "source": [
    "def initilize_model(learning_rate=0.001):\n",
    "    \"\"\"Instantiate a CNN model and an optimizer.\"\"\"\n",
    "\n",
    "    model = BertClassifier()\n",
    "    \n",
    "    device = torch.device(\"cuda\" if torch.cuda.is_available() else \"cpu\")\n",
    "    # Send model to `device` (GPU/CPU)\n",
    "    model.to(device)\n",
    "    model= nn.DataParallel(model,device_ids = [0])\n",
    "\n",
    "    \n",
    "    return model\n",
    "\n",
    "model = initilize_model()\n",
    "\n",
    "\n",
    "loss_fn = nn.BCEWithLogitsLoss()"
   ]
  },
  {
   "cell_type": "code",
   "execution_count": 15,
   "id": "8d50169c-71e3-4ca2-b236-f1c4d826f850",
   "metadata": {},
   "outputs": [
    {
     "name": "stdout",
     "output_type": "stream",
     "text": [
      "DataParallel(\n",
      "  (module): BertClassifier(\n",
      "    (relu): ReLU()\n",
      "    (conv1): Conv1d(1, 33, kernel_size=(3,), stride=(1,))\n",
      "    (fc1): Linear(in_features=33726, out_features=1024, bias=True)\n",
      "    (bn1): BatchNorm1d(1024, eps=1e-05, momentum=0.1, affine=True, track_running_stats=True)\n",
      "    (fc1_1): Linear(in_features=1024, out_features=1024, bias=True)\n",
      "    (fc3): Linear(in_features=1024, out_features=64, bias=True)\n",
      "    (bn2): BatchNorm1d(64, eps=1e-05, momentum=0.1, affine=True, track_running_stats=True)\n",
      "    (fc4): Linear(in_features=64, out_features=32, bias=True)\n",
      "    (fc5): Linear(in_features=32, out_features=16, bias=True)\n",
      "    (fc6): Linear(in_features=16, out_features=8, bias=True)\n",
      "    (fc7): Linear(in_features=8, out_features=1, bias=True)\n",
      "  )\n",
      ")\n"
     ]
    }
   ],
   "source": [
    "print(model)"
   ]
  },
  {
   "cell_type": "markdown",
   "id": "469c9ff1-7b61-4107-9f3c-7307445bbe53",
   "metadata": {},
   "source": [
    "## 3. Training"
   ]
  },
  {
   "cell_type": "code",
   "execution_count": 29,
   "id": "aa89d2d6-610a-4372-be72-a8babdc08b84",
   "metadata": {},
   "outputs": [],
   "source": [
    "import random\n",
    "import time\n",
    "from tqdm import tqdm\n",
    "loss_fn = nn.BCEWithLogitsLoss()\n",
    "def train(model, optimizer, train_dataloader, val_dataloader = None, epochs =10):\n",
    "    \n",
    "    best_accuracy = 0\n",
    "    device = torch.device(\"cuda\" if torch.cuda.is_available() else \"cpu\")\n",
    "    print(\"Start training...\\n\")\n",
    "    \n",
    "    # for param in model.bert.parameters():\n",
    "    #     param.requires_grad = False\n",
    "    for epoch_i in range(1,epochs+1):\n",
    "        \n",
    "        total_loss = 0\n",
    "        model.train()\n",
    "        \n",
    "        for step,batch in tqdm(enumerate(train_dataloader)):\n",
    "            \n",
    "            inputs, b_labels = tuple(t.to(device) for t in batch)\n",
    "            \n",
    "            # b_input_ids = b_input_ids.reshape((1,24,1000)).squeeze(0)\n",
    "            # b_attn_masks = b_attn_masks.reshape((1,24,1000)).squeeze(0)\n",
    "            b_labels = b_labels.reshape((1,128,1)).squeeze(0)\n",
    "            # print(b_input_1)\n",
    "            model.zero_grad()\n",
    "            \n",
    "            logits = model(inputs)\n",
    "            \n",
    "        #     preds = torch.round(torch.sigmoid(logits))\n",
    "        # # print(preds,b_labels)\n",
    "        #     accuracy = (preds.float() == b_labels.float()).cpu().numpy().mean() * 100\n",
    "        #     print(accuracy)\n",
    "            \n",
    "#             print(b_labels)\n",
    "           \n",
    "            loss = loss_fn(logits,b_labels.float()) \n",
    "            \n",
    "            total_loss += loss.item()\n",
    "            \n",
    "            loss.mean().backward()\n",
    "            \n",
    "            optimizer.step()\n",
    "               \n",
    "        avg_train_loss = total_loss / len(train_dataloader)\n",
    "        \n",
    "    \n",
    "        if val_dataloader is not None:\n",
    "                \n",
    "                val_loss, val_accuracy = evaluate(model, val_dataloader)\n",
    "\n",
    "                   \n",
    "                if val_accuracy > best_accuracy:\n",
    "                    best_accuracy = val_accuracy\n",
    "                    torch.save({\n",
    "                        'epoch': epoch_i + 1,\n",
    "                        'model_state_dict': model.state_dict(),\n",
    "                        'optimizer_state_dict': optimizer.state_dict(),\n",
    "                        'loss': loss_fn,\n",
    "                        }, 'best_conv_model_trained_v2.pth')\n",
    "\n",
    "                # scheduler = torch.optim.lr_scheduler.ReduceLROnPlateau(optimizer, 'max',patience = 3)\n",
    "                # scheduler.step(val_accuracy)\n",
    "        print(f\"Epoch: {epoch_i} | Training Loss: {avg_train_loss}  | Validation Loss: {val_loss}  | Accuracy: {val_accuracy:.2f}\")\n",
    "        with open('result.txt', 'a') as f:\n",
    "            print(f\"Epoch: {epoch_i} | Training Loss: {avg_train_loss}  | Validation Loss: {val_loss}  | Accuracy: {val_accuracy:.2f}\", file=f) \n",
    "    print(\"\\n\")\n",
    "    print(f\"Training complete! Best accuracy: {best_accuracy:.2f}%.\")\n",
    "\n",
    "            \n",
    "   \n",
    "\n",
    "\n",
    "def evaluate(model,val_dataloader):\n",
    "    \n",
    "    model.eval()\n",
    "    \n",
    "    val_accuracy = []\n",
    "    val_loss = []\n",
    "    for batch in tqdm(val_dataloader):\n",
    "        # Load batch to GPU\n",
    "        inputs, b_labels = tuple(t.to(device) for t in batch)\n",
    "        \n",
    "        # b_input_ids = b_input_ids.reshape((1,24,1000)).squeeze(0)\n",
    "        # b_attn_masks = b_attn_masks.reshape((1,24,1000)).squeeze(0)\n",
    "        b_labels = b_labels.reshape((1,128,1)).squeeze(0)\n",
    "        with torch.no_grad():\n",
    "                logits = model(inputs)\n",
    "        \n",
    "        \n",
    "        \n",
    "        \n",
    "        loss = loss_fn(logits, b_labels.float())\n",
    "\n",
    "        val_loss.append(loss.item())\n",
    "# # model = BertModel.from_pretrained(\"Rostlab/prot_bert_bfd\")\n",
    "# for i in tqdm(train_dataloader):\n",
    "#     print(i)\n",
    "        preds = torch.round(torch.sigmoid(logits))\n",
    "        # print(preds,b_labels)\n",
    "        accuracy = (preds.float() == b_labels.float()).cpu().numpy().mean() * 100\n",
    "\n",
    "        val_accuracy.append(accuracy)\n",
    "    \n",
    "    val_loss = np.mean(val_loss)\n",
    "    val_accuracy = np.mean(val_accuracy)\n",
    "\n",
    "    return val_loss, val_accuracy "
   ]
  },
  {
   "cell_type": "code",
   "execution_count": 30,
   "id": "fad6f83b-b532-45a6-8397-2f80f8b8edd5",
   "metadata": {},
   "outputs": [],
   "source": [
    "optimizer = optim.Adam(model.parameters(),lr=0.001,betas=(0.9,0.999),eps=1e-08,weight_decay=0.0,amsgrad=True)\n",
    "# optimizer = torch.optim.SGD(model.parameters(), nesterov = True, lr=0.001, momentum=0.9)"
   ]
  },
  {
   "cell_type": "code",
   "execution_count": 31,
   "id": "957b9300-65f9-4d32-a67b-327a0c424ba7",
   "metadata": {
    "scrolled": true,
    "tags": []
   },
   "outputs": [
    {
     "name": "stdout",
     "output_type": "stream",
     "text": [
      "Start training...\n",
      "\n"
     ]
    },
    {
     "name": "stderr",
     "output_type": "stream",
     "text": [
      "156it [00:05, 30.59it/s]\n",
      "100%|█████████████████████████████████████████████████████████| 46/46 [00:00<00:00, 169.42it/s]\n"
     ]
    },
    {
     "name": "stdout",
     "output_type": "stream",
     "text": [
      "Epoch: 1 | Training Loss: 0.3484171970914572  | Validation Loss: 0.7926900153574736  | Accuracy: 61.75\n"
     ]
    },
    {
     "name": "stderr",
     "output_type": "stream",
     "text": [
      "156it [00:05, 30.31it/s]\n",
      "100%|█████████████████████████████████████████████████████████| 46/46 [00:00<00:00, 153.29it/s]\n"
     ]
    },
    {
     "name": "stdout",
     "output_type": "stream",
     "text": [
      "Epoch: 2 | Training Loss: 0.3336101416976024  | Validation Loss: 0.7900539934635162  | Accuracy: 62.62\n"
     ]
    },
    {
     "name": "stderr",
     "output_type": "stream",
     "text": [
      "49it [00:01, 30.23it/s]\n"
     ]
    },
    {
     "ename": "KeyboardInterrupt",
     "evalue": "",
     "output_type": "error",
     "traceback": [
      "\u001b[0;31m---------------------------------------------------------------------------\u001b[0m",
      "\u001b[0;31mKeyboardInterrupt\u001b[0m                         Traceback (most recent call last)",
      "Input \u001b[0;32mIn [31]\u001b[0m, in \u001b[0;36m<cell line: 1>\u001b[0;34m()\u001b[0m\n\u001b[0;32m----> 1\u001b[0m \u001b[43mtrain\u001b[49m\u001b[43m(\u001b[49m\u001b[43mmodel\u001b[49m\u001b[43m,\u001b[49m\u001b[43m \u001b[49m\u001b[43moptimizer\u001b[49m\u001b[43m,\u001b[49m\u001b[43mtrain_loader\u001b[49m\u001b[43m,\u001b[49m\u001b[43mval_loader\u001b[49m\u001b[43m,\u001b[49m\u001b[43mepochs\u001b[49m\u001b[38;5;241;43m=\u001b[39;49m\u001b[38;5;241;43m500\u001b[39;49m\u001b[43m)\u001b[49m\n",
      "Input \u001b[0;32mIn [29]\u001b[0m, in \u001b[0;36mtrain\u001b[0;34m(model, optimizer, train_dataloader, val_dataloader, epochs)\u001b[0m\n\u001b[1;32m     16\u001b[0m model\u001b[38;5;241m.\u001b[39mtrain()\n\u001b[1;32m     18\u001b[0m \u001b[38;5;28;01mfor\u001b[39;00m step,batch \u001b[38;5;129;01min\u001b[39;00m tqdm(\u001b[38;5;28menumerate\u001b[39m(train_dataloader)):\n\u001b[0;32m---> 20\u001b[0m     inputs, b_labels \u001b[38;5;241m=\u001b[39m \u001b[38;5;28;43mtuple\u001b[39;49m\u001b[43m(\u001b[49m\u001b[43mt\u001b[49m\u001b[38;5;241;43m.\u001b[39;49m\u001b[43mto\u001b[49m\u001b[43m(\u001b[49m\u001b[43mdevice\u001b[49m\u001b[43m)\u001b[49m\u001b[43m \u001b[49m\u001b[38;5;28;43;01mfor\u001b[39;49;00m\u001b[43m \u001b[49m\u001b[43mt\u001b[49m\u001b[43m \u001b[49m\u001b[38;5;129;43;01min\u001b[39;49;00m\u001b[43m \u001b[49m\u001b[43mbatch\u001b[49m\u001b[43m)\u001b[49m\n\u001b[1;32m     22\u001b[0m     \u001b[38;5;66;03m# b_input_ids = b_input_ids.reshape((1,24,1000)).squeeze(0)\u001b[39;00m\n\u001b[1;32m     23\u001b[0m     \u001b[38;5;66;03m# b_attn_masks = b_attn_masks.reshape((1,24,1000)).squeeze(0)\u001b[39;00m\n\u001b[1;32m     24\u001b[0m     b_labels \u001b[38;5;241m=\u001b[39m b_labels\u001b[38;5;241m.\u001b[39mreshape((\u001b[38;5;241m1\u001b[39m,\u001b[38;5;241m128\u001b[39m,\u001b[38;5;241m1\u001b[39m))\u001b[38;5;241m.\u001b[39msqueeze(\u001b[38;5;241m0\u001b[39m)\n",
      "Input \u001b[0;32mIn [29]\u001b[0m, in \u001b[0;36m<genexpr>\u001b[0;34m(.0)\u001b[0m\n\u001b[1;32m     16\u001b[0m model\u001b[38;5;241m.\u001b[39mtrain()\n\u001b[1;32m     18\u001b[0m \u001b[38;5;28;01mfor\u001b[39;00m step,batch \u001b[38;5;129;01min\u001b[39;00m tqdm(\u001b[38;5;28menumerate\u001b[39m(train_dataloader)):\n\u001b[0;32m---> 20\u001b[0m     inputs, b_labels \u001b[38;5;241m=\u001b[39m \u001b[38;5;28mtuple\u001b[39m(\u001b[43mt\u001b[49m\u001b[38;5;241;43m.\u001b[39;49m\u001b[43mto\u001b[49m\u001b[43m(\u001b[49m\u001b[43mdevice\u001b[49m\u001b[43m)\u001b[49m \u001b[38;5;28;01mfor\u001b[39;00m t \u001b[38;5;129;01min\u001b[39;00m batch)\n\u001b[1;32m     22\u001b[0m     \u001b[38;5;66;03m# b_input_ids = b_input_ids.reshape((1,24,1000)).squeeze(0)\u001b[39;00m\n\u001b[1;32m     23\u001b[0m     \u001b[38;5;66;03m# b_attn_masks = b_attn_masks.reshape((1,24,1000)).squeeze(0)\u001b[39;00m\n\u001b[1;32m     24\u001b[0m     b_labels \u001b[38;5;241m=\u001b[39m b_labels\u001b[38;5;241m.\u001b[39mreshape((\u001b[38;5;241m1\u001b[39m,\u001b[38;5;241m128\u001b[39m,\u001b[38;5;241m1\u001b[39m))\u001b[38;5;241m.\u001b[39msqueeze(\u001b[38;5;241m0\u001b[39m)\n",
      "\u001b[0;31mKeyboardInterrupt\u001b[0m: "
     ]
    }
   ],
   "source": [
    "train(model, optimizer,train_loader,val_loader,epochs=500)"
   ]
  },
  {
   "cell_type": "markdown",
   "id": "457b02cf-2bb0-4e96-819d-44c7f0b352eb",
   "metadata": {},
   "source": [
    "## 4. Evaluating trained model"
   ]
  },
  {
   "cell_type": "code",
   "execution_count": 32,
   "id": "e6908fa3-7372-4f62-bcee-bb1db54dc600",
   "metadata": {},
   "outputs": [],
   "source": [
    "checkpoint = torch.load(\"best_conv_model_trained_v2.pth\")"
   ]
  },
  {
   "cell_type": "code",
   "execution_count": 33,
   "id": "94df1f92-1851-4920-9699-dbe3dd1e3dc2",
   "metadata": {},
   "outputs": [
    {
     "data": {
      "text/plain": [
       "<All keys matched successfully>"
      ]
     },
     "execution_count": 33,
     "metadata": {},
     "output_type": "execute_result"
    }
   ],
   "source": [
    "model.load_state_dict(checkpoint['model_state_dict'])"
   ]
  },
  {
   "cell_type": "code",
   "execution_count": 34,
   "id": "bd13966d-8ee0-49d1-adc5-f76d312110f2",
   "metadata": {},
   "outputs": [],
   "source": [
    "def evaluate(model,val_dataloader):\n",
    "    \n",
    "    model.eval()\n",
    "    \n",
    "    val_accuracy = []\n",
    "    val_loss = []\n",
    "    y_pred = []\n",
    "    y_true = []\n",
    "    for batch in tqdm(val_dataloader):\n",
    "        # Load batch to GPU\n",
    "        inputs, b_labels = tuple(t.to(device) for t in batch)\n",
    "        \n",
    "        # b_input_ids = b_input_ids.reshape((1,24,1000)).squeeze(0)\n",
    "        # b_attn_masks = b_attn_masks.reshape((1,24,1000)).squeeze(0)\n",
    "        b_labels = b_labels.reshape((1,128,1)).squeeze(0)\n",
    "        with torch.no_grad():\n",
    "                logits = model(inputs)\n",
    "        \n",
    "        \n",
    "        \n",
    "        y_true.extend(b_labels)\n",
    "        loss = loss_fn(logits, b_labels.float())\n",
    "\n",
    "        val_loss.append(loss.item())\n",
    "# # model = BertModel.from_pretrained(\"Rostlab/prot_bert_bfd\")\n",
    "# for i in tqdm(train_dataloader):\n",
    "#     print(i)\n",
    "        preds = torch.round(torch.sigmoid(logits))\n",
    "        y_pred.extend(preds)\n",
    "        # print(preds,b_labels)\n",
    "        accuracy = (preds.float() == b_labels.float()).cpu().numpy().mean() * 100\n",
    "\n",
    "        val_accuracy.append(accuracy)\n",
    "    \n",
    "    val_loss = np.mean(val_loss)\n",
    "    val_accuracy = np.mean(val_accuracy)\n",
    "    return val_loss, val_accuracy, y_true, y_pred \n"
   ]
  },
  {
   "cell_type": "code",
   "execution_count": 35,
   "id": "3e577775-c7e7-43be-9e04-e751d5e9508e",
   "metadata": {},
   "outputs": [
    {
     "name": "stderr",
     "output_type": "stream",
     "text": [
      "100%|█████████████████████████████████████████████████████████| 46/46 [00:00<00:00, 163.23it/s]\n"
     ]
    }
   ],
   "source": [
    "test_loss, test_accuracy,y_true,y_pred =  evaluate(model,test_loader)"
   ]
  },
  {
   "cell_type": "code",
   "execution_count": 36,
   "id": "ce93c0f3-0386-4b56-9a81-caed9c7b1bc9",
   "metadata": {},
   "outputs": [
    {
     "data": {
      "text/plain": [
       "69.4633152173913"
      ]
     },
     "execution_count": 36,
     "metadata": {},
     "output_type": "execute_result"
    }
   ],
   "source": [
    "test_accuracy"
   ]
  },
  {
   "cell_type": "code",
   "execution_count": 37,
   "id": "58a49b01-756e-45d3-a252-19cdcbeb14ff",
   "metadata": {},
   "outputs": [
    {
     "data": {
      "text/plain": [
       "0.6166724342366924"
      ]
     },
     "execution_count": 37,
     "metadata": {},
     "output_type": "execute_result"
    }
   ],
   "source": [
    "test_loss"
   ]
  },
  {
   "cell_type": "code",
   "execution_count": 38,
   "id": "ac4d7347-051a-40d8-9a0a-ee3671503a26",
   "metadata": {},
   "outputs": [],
   "source": [
    "y_pred = [j[0].cpu() for j in  y_pred]\n",
    "y_true = [j[0].cpu() for j in  y_true]"
   ]
  },
  {
   "cell_type": "code",
   "execution_count": 39,
   "id": "4adb6c98-158f-475d-82ba-c499f1a95ac6",
   "metadata": {},
   "outputs": [],
   "source": [
    "cm = confusion_matrix(y_true, y_pred)"
   ]
  },
  {
   "cell_type": "code",
   "execution_count": 40,
   "id": "beb89d84-0cb2-4152-9110-a57f7ccad496",
   "metadata": {},
   "outputs": [
    {
     "data": {
      "text/plain": [
       "<sklearn.metrics._plot.confusion_matrix.ConfusionMatrixDisplay at 0x7ff91a436e20>"
      ]
     },
     "execution_count": 40,
     "metadata": {},
     "output_type": "execute_result"
    },
    {
     "data": {
      "image/png": "[encoded data removed]",
      "text/plain": [
       "<Figure size 720x720 with 2 Axes>"
      ]
     },
     "metadata": {
      "needs_background": "light"
     },
     "output_type": "display_data"
    }
   ],
   "source": [
    "disp = ConfusionMatrixDisplay(confusion_matrix=cm,\n",
    "                              display_labels=[1,0])\n",
    "fig, ax = plt.subplots(figsize=(10,10))\n",
    "disp.plot(ax=ax)\n"
   ]
  },
  {
   "cell_type": "code",
   "execution_count": 42,
   "id": "85c09591-6456-4e12-b337-a4d4aa0d56b7",
   "metadata": {},
   "outputs": [],
   "source": [
    "# from matplotlib.pylab import plt\n",
    "# from numpy import arange\n",
    " \n",
    "\n",
    "\n",
    " \n",
    "# # Generate a sequence of integers to represent the epoch numbers\n",
    "# epochs = range(1, 500)\n",
    " \n",
    "# # Plot and label the training and validation loss values\n",
    "# plt.plot(epochs, train_loss_list, label='Training Loss')\n",
    "# plt.plot(epochs, val_values, label='Validation Loss')\n",
    " \n",
    "# # Add in a title and axes labels\n",
    "# plt.title('Training and Validation Loss')\n",
    "# plt.xlabel('Epochs')\n",
    "# plt.ylabel('Loss')\n",
    " \n",
    "# # Set the tick locations\n",
    "# plt.xticks(arange(0, 500,20)\n",
    " \n",
    "# # Display the plot\n",
    "# plt.legend(loc='best')\n",
    "# plt.show()"
   ]
  },
  {
   "cell_type": "code",
   "execution_count": null,
   "id": "bb16cb3e",
   "metadata": {},
   "outputs": [],
   "source": []
  }
 ],
 "metadata": {
  "kernelspec": {
   "display_name": "Python 3 (ipykernel)",
   "language": "python",
   "name": "python3"
  },
  "language_info": {
   "codemirror_mode": {
    "name": "ipython",
    "version": 3
   },
   "file_extension": ".py",
   "mimetype": "text/x-python",
   "name": "python",
   "nbconvert_exporter": "python",
   "pygments_lexer": "ipython3",
   "version": "3.9.12"
  }
 },
 "nbformat": 4,
 "nbformat_minor": 5
}

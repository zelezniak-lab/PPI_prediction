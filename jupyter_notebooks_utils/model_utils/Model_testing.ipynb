{
 "cells": [
  {
   "cell_type": "code",
   "execution_count": 111,
   "id": "c53ad7d9-7c3d-43c6-935f-62f2737961d0",
   "metadata": {},
   "outputs": [],
   "source": [
    "from tqdm import tqdm\n",
    "import numpy as np\n",
    "import pandas as pd\n",
    "import matplotlib.pyplot as plt\n",
    "\n",
    "import sys\n",
    "sys.setrecursionlimit(1000000)"
   ]
  },
  {
   "cell_type": "code",
   "execution_count": 112,
   "id": "cc49a3f5-c1a4-4d6c-921d-4dba686ff824",
   "metadata": {},
   "outputs": [
    {
     "data": {
      "text/plain": [
       "19566"
      ]
     },
     "execution_count": 112,
     "metadata": {},
     "output_type": "execute_result"
    }
   ],
   "source": [
    "id =[]\n",
    "sequence = []\n",
    "name_to_seq_dict = {}\n",
    "from Bio import SeqIO\n",
    "for seq_record in SeqIO.parse(\"9606.protein.sequences.v11.5.fa\", \"fasta\"):\n",
    "    id.append(seq_record.id)\n",
    "    x = repr(seq_record.seq)[5:-2]\n",
    "    l = \"\"\n",
    "    for i in x:\n",
    "        l = l + i + \" \"\n",
    "    l = l.rstrip()\n",
    "    \n",
    "    sequence.append(l)\n",
    "name_to_seq_dict = dict(zip(id, sequence))\n",
    "name_to_seq_dict['9606.ENSP00000002829']\n",
    "len(name_to_seq_dict) "
   ]
  },
  {
   "cell_type": "code",
   "execution_count": 113,
   "id": "956ae79c-65fe-4de2-b2a0-f71edda7b90b",
   "metadata": {},
   "outputs": [],
   "source": [
    "data = pd.read_csv(\"ppi_dataset_from_positive_pair_string.csv\")\n",
    "data.head()\n",
    "data['protein1_sequence'] = data.apply (lambda row: name_to_seq_dict[row['protein1']], axis=1)\n",
    "data['protein2_sequence'] = data.apply (lambda row: name_to_seq_dict[row['protein2']], axis=1)"
   ]
  },
  {
   "cell_type": "code",
   "execution_count": 114,
   "id": "5bd07533-8cc5-471b-90c8-36c534f7099d",
   "metadata": {},
   "outputs": [
    {
     "name": "stdout",
     "output_type": "stream",
     "text": [
      "Device name: NVIDIA GeForce RTX 2060\n"
     ]
    }
   ],
   "source": [
    "import torch\n",
    "torch.cuda.is_available()\n",
    "\n",
    "print('Device name:', torch.cuda.get_device_name(0))\n"
   ]
  },
  {
   "cell_type": "code",
   "execution_count": 115,
   "id": "0ae8c5c5-d7cd-4868-873d-61c1bd91888f",
   "metadata": {},
   "outputs": [],
   "source": [
    "data_2 = pd.DataFrame()\n",
    "data = data[['protein1_sequence','protein2_sequence','label']]\n",
    "data['concat_protein'] = data['protein1_sequence'] +\" \" + data['protein2_sequence']\n",
    "data_2['concat_protein'] = + data['protein2_sequence']+\" \" + data['protein1_sequence'] \n",
    "data_2['label'] = data['label']\n",
    "data = data[['concat_protein','label']]\n",
    "data_2 = data_2[['concat_protein','label']]"
   ]
  },
  {
   "cell_type": "code",
   "execution_count": 116,
   "id": "8fe8660d-626a-4cf0-876a-d729c2edc274",
   "metadata": {},
   "outputs": [],
   "source": [
    "final_data = pd.concat([data,data_2]).reset_index(drop = True)"
   ]
  },
  {
   "cell_type": "code",
   "execution_count": 117,
   "id": "153b7b36-78fa-4968-bfe9-c283dfe2cf5f",
   "metadata": {},
   "outputs": [],
   "source": [
    "from sklearn.model_selection import train_test_split\n",
    "X  = final_data.drop(['label'],axis=1).values\n",
    "y = final_data['label'].values\n",
    "X_train, X_test, y_train, y_test = train_test_split(X, y, test_size=0.25, random_state=42)"
   ]
  },
  {
   "cell_type": "code",
   "execution_count": 118,
   "id": "372a6bc2-9719-4344-b728-28582d870bf0",
   "metadata": {},
   "outputs": [],
   "source": [
    "from transformers import BertTokenizer\n",
    "tokenizer = BertTokenizer.from_pretrained('Rostlab/prot_bert_bfd', do_lower_case=False )"
   ]
  },
  {
   "cell_type": "code",
   "execution_count": 119,
   "id": "f554149a-1623-419d-8cb9-3f63efa11e4d",
   "metadata": {},
   "outputs": [],
   "source": [
    "def preprocessing_for_bert(protein_sequences,MAX_LEN = 122):\n",
    "    input_ids = []\n",
    "    attention_masks = []\n",
    "    for protein_sequence in tqdm(protein_sequences):\n",
    "        id = tokenizer.batch_encode_plus(protein_sequence ,max_length = MAX_LEN, add_special_tokens=True, pad_to_max_length=True)\n",
    "        input_id = id.get('input_ids')\n",
    "        attention_mask = id.get('attention_mask')\n",
    "        input_ids.append(input_id)\n",
    "        attention_masks.append(attention_mask)\n",
    "    \n",
    "    input_ids = torch.tensor(input_ids)\n",
    "    attention_masks = torch.tensor(attention_masks)\n",
    "    \n",
    "    return input_ids, attention_masks"
   ]
  },
  {
   "cell_type": "code",
   "execution_count": 120,
   "id": "5c963eb9-0249-406f-a08b-528804e5fab8",
   "metadata": {},
   "outputs": [],
   "source": [
    "from torch.utils.data import TensorDataset, DataLoader, RandomSampler, SequentialSampler\n",
    "y_train = torch.tensor(y_train)\n",
    "y_test = torch.tensor(y_test)\n",
    "y_test = y_test[0:10000]"
   ]
  },
  {
   "cell_type": "code",
   "execution_count": 121,
   "id": "7e850570",
   "metadata": {},
   "outputs": [
    {
     "data": {
      "text/plain": [
       "169248"
      ]
     },
     "execution_count": 121,
     "metadata": {},
     "output_type": "execute_result"
    }
   ],
   "source": [
    "len(y_train)"
   ]
  },
  {
   "cell_type": "code",
   "execution_count": 122,
   "id": "eab536e0-fa72-41d7-a231-76c80f81a390",
   "metadata": {},
   "outputs": [
    {
     "name": "stderr",
     "output_type": "stream",
     "text": [
      "  0%|                                                                                        | 0/10000 [00:00<?, ?it/s]Truncation was not explicitly activated but `max_length` is provided a specific value, please use `truncation=True` to explicitly truncate examples to max length. Defaulting to 'longest_first' truncation strategy. If you encode pairs of sequences (GLUE-style) with the tokenizer you can select this strategy more precisely by providing a specific strategy to `truncation`.\n",
      "C:\\Users\\danwe\\anaconda3\\lib\\site-packages\\transformers\\tokenization_utils_base.py:2285: FutureWarning: The `pad_to_max_length` argument is deprecated and will be removed in a future version, use `padding=True` or `padding='longest'` to pad to the longest sequence in the batch, or use `padding='max_length'` to pad to a max length. In this case, you can give a specific length with `max_length` (e.g. `max_length=45`) or leave max_length to None to pad to the maximal input size of the model (e.g. 512 for Bert).\n",
      "  warnings.warn(\n",
      "100%|██████████████████████████████████████████████████████████████████████████| 10000/10000 [00:07<00:00, 1266.03it/s]\n"
     ]
    }
   ],
   "source": [
    "test_inputs,test_masks = preprocessing_for_bert(X_test[0:10000])"
   ]
  },
  {
   "cell_type": "code",
   "execution_count": null,
   "id": "4afacfe5",
   "metadata": {},
   "outputs": [],
   "source": []
  },
  {
   "cell_type": "code",
   "execution_count": 130,
   "id": "0a015581-2546-497b-9813-ed797cbbc57b",
   "metadata": {},
   "outputs": [],
   "source": [
    "batch_size = 16\n",
    "# train_data = TensorDataset(train_inputs, train_masks,y_train)\n",
    "# train_sampler = RandomSampler(train_data)\n",
    "# train_dataloader = DataLoader(train_data, sampler = train_sampler, batch_size = batch_size,drop_last=True)\n",
    "\n",
    "test_data = TensorDataset(test_inputs, test_masks,y_test)\n",
    "test_sampler = RandomSampler(test_data)\n",
    "test_dataloader = DataLoader(test_data, sampler = test_sampler, batch_size = batch_size,drop_last=True)"
   ]
  },
  {
   "cell_type": "code",
   "execution_count": 124,
   "id": "532d290a-e875-4099-969c-de64f146187d",
   "metadata": {},
   "outputs": [],
   "source": [
    "import torch\n",
    "import torch.nn as nn\n",
    "from transformers import BertModel, BertTokenizer\n",
    "device = torch.device('cuda:0' if torch.cuda.is_available() else 'cpu')"
   ]
  },
  {
   "cell_type": "code",
   "execution_count": 125,
   "id": "1a51b711-10a3-465a-b53a-7bce52266057",
   "metadata": {},
   "outputs": [
    {
     "data": {
      "text/plain": [
       "device(type='cuda', index=0)"
      ]
     },
     "execution_count": 125,
     "metadata": {},
     "output_type": "execute_result"
    }
   ],
   "source": [
    "device"
   ]
  },
  {
   "cell_type": "code",
   "execution_count": 126,
   "id": "fb4740af-f17f-4795-bd14-481109ec69d0",
   "metadata": {},
   "outputs": [],
   "source": [
    "class BertClassifier(nn.Module):\n",
    "    \n",
    "    def __init__(self, embed_dim = 1024):\n",
    "        super(BertClassifier,self).__init__()\n",
    "        self.bert = BertModel.from_pretrained(\"Rostlab/prot_bert_bfd\")\n",
    "        \n",
    "        self.relu = nn.ReLU()\n",
    "        self.fc1 = nn.Linear(embed_dim,512)\n",
    "        self.fc2 = nn.Linear(512,256)\n",
    "        \n",
    "        self.fc3 = nn.Linear(512,64)\n",
    "        self.fc4 = nn.Linear(64,32)\n",
    "        \n",
    "        self.fc5 = nn.Linear(32,16)\n",
    "        self.fc6 = nn.Linear(16,8)\n",
    "        self.fc7 = nn.Linear(8,1)\n",
    "\n",
    "    \n",
    "    def forward(self, input_ids,attention_mask):\n",
    "        \n",
    "        embedding = self.bert(input_ids=input_ids,attention_mask=attention_mask)\n",
    "        output = torch.tensor(embedding[0][:, 0, :])\n",
    "        # print(output)\n",
    "        output_1 = self.relu(self.fc1(output))\n",
    "        output_2 = self.relu(self.fc3(output_1))\n",
    "        output_3 = self.relu(self.fc4(output_2))\n",
    "        output_4 = self.relu(self.fc5(output_3))\n",
    "        output_5 = self.relu(self.fc6(output_4))\n",
    "        output = self.fc7(output_5)\n",
    "\n",
    "        return output"
   ]
  },
  {
   "cell_type": "code",
   "execution_count": 131,
   "id": "57e11cd6-63a5-49f8-a48d-25e65f8f8e7d",
   "metadata": {},
   "outputs": [],
   "source": [
    "import torch.optim as optim\n",
    "\n",
    "def initilize_model(learning_rate=0.001):\n",
    "    \"\"\"Instantiate a CNN model and an optimizer.\"\"\"\n",
    "\n",
    "    model = BertClassifier()\n",
    "    \n",
    "    \n",
    "    # Send model to `device` (GPU/CPU)\n",
    "    model.to(device)\n",
    "\n",
    "    \n",
    "    return model"
   ]
  },
  {
   "cell_type": "code",
   "execution_count": 132,
   "id": "9c92927d-7d6a-48b2-bfa2-150f54874be3",
   "metadata": {},
   "outputs": [
    {
     "name": "stderr",
     "output_type": "stream",
     "text": [
      "Some weights of the model checkpoint at Rostlab/prot_bert_bfd were not used when initializing BertModel: ['cls.predictions.transform.dense.weight', 'cls.predictions.bias', 'cls.predictions.transform.LayerNorm.weight', 'cls.predictions.decoder.bias', 'cls.seq_relationship.weight', 'cls.predictions.transform.LayerNorm.bias', 'cls.predictions.transform.dense.bias', 'cls.predictions.decoder.weight', 'cls.seq_relationship.bias']\n",
      "- This IS expected if you are initializing BertModel from the checkpoint of a model trained on another task or with another architecture (e.g. initializing a BertForSequenceClassification model from a BertForPreTraining model).\n",
      "- This IS NOT expected if you are initializing BertModel from the checkpoint of a model that you expect to be exactly identical (initializing a BertForSequenceClassification model from a BertForSequenceClassification model).\n"
     ]
    },
    {
     "data": {
      "text/plain": [
       "<All keys matched successfully>"
      ]
     },
     "execution_count": 132,
     "metadata": {},
     "output_type": "execute_result"
    }
   ],
   "source": [
    "model = initilize_model(learning_rate=0.01)\n",
    "checkpoint = torch.load('best_mode_trained_after_37_epochs.pth')\n",
    "model.load_state_dict(checkpoint['model_state_dict'])\n",
    "# optimizer.load_state_dict(checkpoint['optimizer_state_dict'])"
   ]
  },
  {
   "cell_type": "code",
   "execution_count": 133,
   "id": "e337614c-22df-40e1-9783-f3b21c7c5b77",
   "metadata": {},
   "outputs": [
    {
     "name": "stderr",
     "output_type": "stream",
     "text": [
      "  0%|                                                                                          | 0/625 [00:00<?, ?it/s]C:\\Users\\danwe\\AppData\\Local\\Temp/ipykernel_19200/3806280748.py:22: UserWarning: To copy construct from a tensor, it is recommended to use sourceTensor.clone().detach() or sourceTensor.clone().detach().requires_grad_(True), rather than torch.tensor(sourceTensor).\n",
      "  output = torch.tensor(embedding[0][:, 0, :])\n",
      "100%|████████████████████████████████████████████████████████████████████████████████| 625/625 [03:57<00:00,  2.63it/s]"
     ]
    },
    {
     "name": "stdout",
     "output_type": "stream",
     "text": [
      "85.79\n"
     ]
    },
    {
     "name": "stderr",
     "output_type": "stream",
     "text": [
      "\n"
     ]
    }
   ],
   "source": [
    "model.eval()\n",
    "loss_fn = nn.BCEWithLogitsLoss()    \n",
    "val_accuracy = []\n",
    "val_loss = []\n",
    "y_test = []\n",
    "y_pred  = []\n",
    "for batch in tqdm(test_dataloader):\n",
    "        # Load batch to GPU\n",
    "    b_input_ids, b_attn_masks, b_labels = tuple(t.to(device) for t in batch)\n",
    "    b_input_ids = b_input_ids.reshape((1,16,122)).squeeze(0)\n",
    "    b_attn_masks = b_attn_masks.reshape((1,16,122)).squeeze(0)\n",
    "    b_labels = b_labels.reshape((1,16,1)).squeeze(0)\n",
    "    with torch.no_grad():\n",
    "        logits = model( b_input_ids, b_attn_masks)\n",
    "        \n",
    "        \n",
    "        \n",
    "    \n",
    "    loss = loss_fn(logits, b_labels.float())\n",
    "\n",
    "    val_loss.append(loss.item())\n",
    "# # model = BertModel.from_pretrained(\"Rostlab/prot_bert_bfd\")\n",
    "# for i in tqdm(train_dataloader):\n",
    "#     print(i)\n",
    "    preds = torch.round(torch.sigmoid(logits))\n",
    "        # print(preds,b_labels)\n",
    "    accuracy = (preds.float() == b_labels.float()).cpu().numpy().mean() * 100\n",
    "    y_test.extend( b_labels.float())\n",
    "    y_pred.extend(preds.float())\n",
    "    val_accuracy.append(accuracy)\n",
    "    \n",
    "val_loss = np.mean(val_loss)\n",
    "val_accuracy = np.mean(val_accuracy)\n",
    "print(val_accuracy)"
   ]
  },
  {
   "cell_type": "code",
   "execution_count": 135,
   "id": "f59a53cd",
   "metadata": {},
   "outputs": [
    {
     "name": "stderr",
     "output_type": "stream",
     "text": [
      "C:\\Users\\danwe\\AppData\\Local\\Temp/ipykernel_19200/2547964273.py:1: UserWarning: To copy construct from a tensor, it is recommended to use sourceTensor.clone().detach() or sourceTensor.clone().detach().requires_grad_(True), rather than torch.tensor(sourceTensor).\n",
      "  y_test = torch.tensor(y_test, device = 'cpu')\n",
      "C:\\Users\\danwe\\AppData\\Local\\Temp/ipykernel_19200/2547964273.py:2: UserWarning: To copy construct from a tensor, it is recommended to use sourceTensor.clone().detach() or sourceTensor.clone().detach().requires_grad_(True), rather than torch.tensor(sourceTensor).\n",
      "  y_pred = torch.tensor(y_pred, device = 'cpu')\n"
     ]
    }
   ],
   "source": [
    "y_test = torch.tensor(y_test, device = 'cpu')\n",
    "y_pred = torch.tensor(y_pred, device = 'cpu')\n"
   ]
  },
  {
   "cell_type": "code",
   "execution_count": 136,
   "id": "c8a1f8d0-7826-469f-8dd7-c866bc9fbe3d",
   "metadata": {},
   "outputs": [],
   "source": [
    "from sklearn.metrics import confusion_matrix, ConfusionMatrixDisplay\n",
    "from sklearn.metrics import f1_score"
   ]
  },
  {
   "cell_type": "markdown",
   "id": "d693fef6",
   "metadata": {},
   "source": [
    "## Model result"
   ]
  },
  {
   "cell_type": "code",
   "execution_count": 137,
   "id": "08d650f7-9d52-43fc-96bf-00b1b9ed0ff2",
   "metadata": {},
   "outputs": [
    {
     "data": {
      "image/png": "[encoded data removed]",
      "text/plain": [
       "<Figure size 576x396 with 2 Axes>"
      ]
     },
     "metadata": {
      "needs_background": "light"
     },
     "output_type": "display_data"
    }
   ],
   "source": [
    "# y_test =  y_test.to('cpu')\n",
    "# y_pred =  y_pred.to('cpu')\n",
    "import matplotlib.pyplot as plt\n",
    "plt.rcParams[\"figure.figsize\"] = (8,5.5)\n",
    "cm = confusion_matrix(y_test, y_pred)\n",
    "disp = ConfusionMatrixDisplay(confusion_matrix=cm)\n",
    "disp.plot()\n",
    "plt.show()"
   ]
  },
  {
   "cell_type": "markdown",
   "id": "4121899b",
   "metadata": {},
   "source": [
    "## Model testing on APID dataset"
   ]
  },
  {
   "cell_type": "code",
   "execution_count": 96,
   "id": "6a7af093",
   "metadata": {},
   "outputs": [
    {
     "data": {
      "text/html": [
       "<div>\n",
       "<style scoped>\n",
       "    .dataframe tbody tr th:only-of-type {\n",
       "        vertical-align: middle;\n",
       "    }\n",
       "\n",
       "    .dataframe tbody tr th {\n",
       "        vertical-align: top;\n",
       "    }\n",
       "\n",
       "    .dataframe thead th {\n",
       "        text-align: right;\n",
       "    }\n",
       "</style>\n",
       "<table border=\"1\" class=\"dataframe\">\n",
       "  <thead>\n",
       "    <tr style=\"text-align: right;\">\n",
       "      <th></th>\n",
       "      <th>UniprotName_A_sequence</th>\n",
       "      <th>UniprotName_B_sequence</th>\n",
       "      <th>label</th>\n",
       "    </tr>\n",
       "  </thead>\n",
       "  <tbody>\n",
       "    <tr>\n",
       "      <th>0</th>\n",
       "      <td>M S Q S K G K K R N P G L K I P K E A F E Q P ...</td>\n",
       "      <td>M E G S K T S N N S T M Q V S F V C Q R C S Q ...</td>\n",
       "      <td>1</td>\n",
       "    </tr>\n",
       "    <tr>\n",
       "      <th>1</th>\n",
       "      <td>M A D Q L T E E Q I A E F K E A F S L F D K D ...</td>\n",
       "      <td>M N F T V G F K P L L G D A H S M D N L E K Q ...</td>\n",
       "      <td>1</td>\n",
       "    </tr>\n",
       "    <tr>\n",
       "      <th>2</th>\n",
       "      <td>M F E E P E W A E A A P V A A G L G P V I S R ...</td>\n",
       "      <td>M A C A R P L I S V Y S E K G E S S G K N V T ...</td>\n",
       "      <td>1</td>\n",
       "    </tr>\n",
       "    <tr>\n",
       "      <th>3</th>\n",
       "      <td>M T R K N Y T S L T E F V L L G L A D T L E L ...</td>\n",
       "      <td>M A S V T R A V F G E L P S G G G T V E K F Q ...</td>\n",
       "      <td>1</td>\n",
       "    </tr>\n",
       "    <tr>\n",
       "      <th>4</th>\n",
       "      <td>M A A L D L R A E L D S L V L Q L L G D L E E ...</td>\n",
       "      <td>M S C I N L P T V L P G S P S K T R G Q I Q V ...</td>\n",
       "      <td>1</td>\n",
       "    </tr>\n",
       "    <tr>\n",
       "      <th>...</th>\n",
       "      <td>...</td>\n",
       "      <td>...</td>\n",
       "      <td>...</td>\n",
       "    </tr>\n",
       "    <tr>\n",
       "      <th>1995</th>\n",
       "      <td>M A A S R Y R R F L K L C E E W P V D E T K R ...</td>\n",
       "      <td>M A E E R E P E L Y L K W K H C E T P G V K T ...</td>\n",
       "      <td>0</td>\n",
       "    </tr>\n",
       "    <tr>\n",
       "      <th>1996</th>\n",
       "      <td>M N S G R E P R T P R T L L S I A D I L A P R ...</td>\n",
       "      <td>M A R V G P G R A G V S C Q G R G R G R G G S ...</td>\n",
       "      <td>0</td>\n",
       "    </tr>\n",
       "    <tr>\n",
       "      <th>1997</th>\n",
       "      <td>M G S L V L T L C A L F C L A A Y L V S G S P ...</td>\n",
       "      <td>M L S R A V C G T S R Q L A P V L G Y L G S R ...</td>\n",
       "      <td>0</td>\n",
       "    </tr>\n",
       "    <tr>\n",
       "      <th>1998</th>\n",
       "      <td>M T V R N I A S I C N M G T N A S A L E K D I ...</td>\n",
       "      <td>M A L D V K S R A K R Y E K L D F L G E G Q F ...</td>\n",
       "      <td>0</td>\n",
       "    </tr>\n",
       "    <tr>\n",
       "      <th>1999</th>\n",
       "      <td>M F L T R S E Y D R G V N T F S P E G R L F Q ...</td>\n",
       "      <td>M K F Q G P L A C L L L A L C L G S G E A G P ...</td>\n",
       "      <td>0</td>\n",
       "    </tr>\n",
       "  </tbody>\n",
       "</table>\n",
       "<p>2000 rows × 3 columns</p>\n",
       "</div>"
      ],
      "text/plain": [
       "                                 UniprotName_A_sequence  \\\n",
       "0     M S Q S K G K K R N P G L K I P K E A F E Q P ...   \n",
       "1     M A D Q L T E E Q I A E F K E A F S L F D K D ...   \n",
       "2     M F E E P E W A E A A P V A A G L G P V I S R ...   \n",
       "3     M T R K N Y T S L T E F V L L G L A D T L E L ...   \n",
       "4     M A A L D L R A E L D S L V L Q L L G D L E E ...   \n",
       "...                                                 ...   \n",
       "1995  M A A S R Y R R F L K L C E E W P V D E T K R ...   \n",
       "1996  M N S G R E P R T P R T L L S I A D I L A P R ...   \n",
       "1997  M G S L V L T L C A L F C L A A Y L V S G S P ...   \n",
       "1998  M T V R N I A S I C N M G T N A S A L E K D I ...   \n",
       "1999  M F L T R S E Y D R G V N T F S P E G R L F Q ...   \n",
       "\n",
       "                                 UniprotName_B_sequence  label  \n",
       "0     M E G S K T S N N S T M Q V S F V C Q R C S Q ...      1  \n",
       "1     M N F T V G F K P L L G D A H S M D N L E K Q ...      1  \n",
       "2     M A C A R P L I S V Y S E K G E S S G K N V T ...      1  \n",
       "3     M A S V T R A V F G E L P S G G G T V E K F Q ...      1  \n",
       "4     M S C I N L P T V L P G S P S K T R G Q I Q V ...      1  \n",
       "...                                                 ...    ...  \n",
       "1995  M A E E R E P E L Y L K W K H C E T P G V K T ...      0  \n",
       "1996  M A R V G P G R A G V S C Q G R G R G R G G S ...      0  \n",
       "1997  M L S R A V C G T S R Q L A P V L G Y L G S R ...      0  \n",
       "1998  M A L D V K S R A K R Y E K L D F L G E G Q F ...      0  \n",
       "1999  M K F Q G P L A C L L L A L C L G S G E A G P ...      0  \n",
       "\n",
       "[2000 rows x 3 columns]"
      ]
     },
     "execution_count": 96,
     "metadata": {},
     "output_type": "execute_result"
    }
   ],
   "source": [
    "test_apid = pd.read_csv(\"apid_test_set.csv\")\n",
    "test_apid = test_apid[['UniprotName_A_sequence','UniprotName_B_sequence','label']]\n",
    "test_apid"
   ]
  },
  {
   "cell_type": "code",
   "execution_count": 97,
   "id": "4afd4206",
   "metadata": {},
   "outputs": [],
   "source": [
    "test_apid_2 = pd.DataFrame()\n",
    "test_apid = test_apid[['UniprotName_A_sequence','UniprotName_B_sequence','label']]\n",
    "test_apid['concat_protein'] = test_apid['UniprotName_A_sequence'] +\" \" + test_apid['UniprotName_B_sequence']\n",
    "test_apid_2['concat_protein'] = + test_apid['UniprotName_B_sequence']+\" \" + test_apid['UniprotName_A_sequence'] \n",
    "test_apid_2['label'] = test_apid['label']\n",
    "test_apid = test_apid[['concat_protein','label']]\n",
    "test_apid_2 = test_apid_2[['concat_protein','label']]\n",
    "final_data_apid = pd.concat([test_apid,test_apid_2]).reset_index(drop = True)"
   ]
  },
  {
   "cell_type": "code",
   "execution_count": 98,
   "id": "a6615fe0",
   "metadata": {},
   "outputs": [
    {
     "data": {
      "text/plain": [
       "1    2000\n",
       "0    2000\n",
       "Name: label, dtype: int64"
      ]
     },
     "execution_count": 98,
     "metadata": {},
     "output_type": "execute_result"
    }
   ],
   "source": [
    "final_data_apid.label.value_counts()"
   ]
  },
  {
   "cell_type": "code",
   "execution_count": 99,
   "id": "467d6972",
   "metadata": {},
   "outputs": [],
   "source": [
    "from transformers import BertTokenizer\n",
    "tokenizer = BertTokenizer.from_pretrained('Rostlab/prot_bert_bfd', do_lower_case=False )"
   ]
  },
  {
   "cell_type": "code",
   "execution_count": 100,
   "id": "0018ef59",
   "metadata": {},
   "outputs": [],
   "source": [
    "def preprocessing_for_bert(protein_sequences,MAX_LEN = 1000):\n",
    "    input_ids = []\n",
    "    attention_masks = []\n",
    "    for protein_sequence in tqdm(protein_sequences):\n",
    "        id = tokenizer.batch_encode_plus(protein_sequence ,max_length = MAX_LEN, add_special_tokens=True, pad_to_max_length=True)\n",
    "        input_id = id.get('input_ids')\n",
    "        attention_mask = id.get('attention_mask')\n",
    "        input_ids.append(input_id)\n",
    "        attention_masks.append(attention_mask)\n",
    "    \n",
    "    input_ids = torch.tensor(input_ids)\n",
    "    attention_masks = torch.tensor(attention_masks)\n",
    "    \n",
    "    return input_ids, attention_masks"
   ]
  },
  {
   "cell_type": "code",
   "execution_count": 101,
   "id": "13140fe8",
   "metadata": {},
   "outputs": [
    {
     "data": {
      "text/plain": [
       "1983"
      ]
     },
     "execution_count": 101,
     "metadata": {},
     "output_type": "execute_result"
    }
   ],
   "source": [
    "max_len  = max([len(i) for i in final_data_apid['concat_protein'].tolist()])\n",
    "max_len"
   ]
  },
  {
   "cell_type": "code",
   "execution_count": 102,
   "id": "91d89d12",
   "metadata": {},
   "outputs": [],
   "source": [
    "X  = final_data_apid.drop(['label'],axis=1).values\n",
    "y = final_data_apid['label'].values"
   ]
  },
  {
   "cell_type": "code",
   "execution_count": 103,
   "id": "577a5be4",
   "metadata": {},
   "outputs": [
    {
     "data": {
      "text/plain": [
       "(4000, 1)"
      ]
     },
     "execution_count": 103,
     "metadata": {},
     "output_type": "execute_result"
    }
   ],
   "source": [
    "y =torch.tensor(y)\n",
    "X.shape"
   ]
  },
  {
   "cell_type": "code",
   "execution_count": 104,
   "id": "416abc39",
   "metadata": {},
   "outputs": [
    {
     "name": "stderr",
     "output_type": "stream",
     "text": [
      "  0%|                                                                                         | 0/4000 [00:00<?, ?it/s]Truncation was not explicitly activated but `max_length` is provided a specific value, please use `truncation=True` to explicitly truncate examples to max length. Defaulting to 'longest_first' truncation strategy. If you encode pairs of sequences (GLUE-style) with the tokenizer you can select this strategy more precisely by providing a specific strategy to `truncation`.\n",
      "C:\\Users\\danwe\\anaconda3\\lib\\site-packages\\transformers\\tokenization_utils_base.py:2285: FutureWarning: The `pad_to_max_length` argument is deprecated and will be removed in a future version, use `padding=True` or `padding='longest'` to pad to the longest sequence in the batch, or use `padding='max_length'` to pad to a max length. In this case, you can give a specific length with `max_length` (e.g. `max_length=45`) or leave max_length to None to pad to the maximal input size of the model (e.g. 512 for Bert).\n",
      "  warnings.warn(\n",
      "100%|█████████████████████████████████████████████████████████████████████████████| 4000/4000 [00:14<00:00, 280.89it/s]\n"
     ]
    }
   ],
   "source": [
    "batch_size = 2\n",
    "# train_data = TensorDataset(train_inputs, train_masks,y_train)\n",
    "# train_sampler = RandomSampler(train_data)\n",
    "# train_dataloader = DataLoader(train_data, sampler = train_sampler, batch_size = batch_size,drop_last=True)\n",
    "test_inputs,test_masks = preprocessing_for_bert(X)\n",
    "test_data = TensorDataset(test_inputs, test_masks,y)\n",
    "test_sampler = RandomSampler(test_data)\n",
    "test_dataloader = DataLoader(test_data, sampler = test_sampler, batch_size = batch_size,drop_last=True)"
   ]
  },
  {
   "cell_type": "code",
   "execution_count": 107,
   "id": "df8b5ac5",
   "metadata": {},
   "outputs": [
    {
     "name": "stderr",
     "output_type": "stream",
     "text": [
      "  0%|                                                                                         | 0/2000 [00:00<?, ?it/s]C:\\Users\\danwe\\AppData\\Local\\Temp/ipykernel_19200/3806280748.py:22: UserWarning: To copy construct from a tensor, it is recommended to use sourceTensor.clone().detach() or sourceTensor.clone().detach().requires_grad_(True), rather than torch.tensor(sourceTensor).\n",
      "  output = torch.tensor(embedding[0][:, 0, :])\n",
      "100%|██████████████████████████████████████████████████████████████████████████████| 2000/2000 [22:12<00:00,  1.50it/s]"
     ]
    },
    {
     "name": "stdout",
     "output_type": "stream",
     "text": [
      "57.0\n"
     ]
    },
    {
     "name": "stderr",
     "output_type": "stream",
     "text": [
      "\n"
     ]
    }
   ],
   "source": [
    "model.eval()\n",
    "loss_fn = nn.BCEWithLogitsLoss()    \n",
    "val_accuracy = []\n",
    "val_loss = []\n",
    "y_test = []\n",
    "y_pred  = []\n",
    "for batch in tqdm(test_dataloader):\n",
    "        # Load batch to GPU\n",
    "    b_input_ids, b_attn_masks, b_labels = tuple(t.to(device) for t in batch)\n",
    "    b_input_ids = b_input_ids.reshape((1,2,1000)).squeeze(0)\n",
    "    b_attn_masks = b_attn_masks.reshape((1,2,1000)).squeeze(0)\n",
    "    b_labels = b_labels.reshape((1,2,1)).squeeze(0)\n",
    "    with torch.no_grad():\n",
    "        logits = model( b_input_ids, b_attn_masks)\n",
    "        \n",
    "        \n",
    "        \n",
    "    \n",
    "    loss = loss_fn(logits, b_labels.float())\n",
    "\n",
    "    val_loss.append(loss.item())\n",
    "# # model = BertModel.from_pretrained(\"Rostlab/prot_bert_bfd\")\n",
    "# for i in tqdm(train_dataloader):\n",
    "#     print(i)\n",
    "    preds = torch.round(torch.sigmoid(logits))\n",
    "        # print(preds,b_labels)\n",
    "    accuracy = (preds.float() == b_labels.float()).cpu().numpy().mean() * 100\n",
    "    y_test.extend( b_labels.float())\n",
    "    y_pred.extend(preds.float())\n",
    "    val_accuracy.append(accuracy)\n",
    "    \n",
    "val_loss = np.mean(val_loss)\n",
    "val_accuracy = np.mean(val_accuracy)\n",
    "print(val_accuracy)"
   ]
  },
  {
   "cell_type": "code",
   "execution_count": 109,
   "id": "99a678c6",
   "metadata": {},
   "outputs": [
    {
     "data": {
      "image/png": "[encoded data removed]",
      "text/plain": [
       "<Figure size 432x288 with 2 Axes>"
      ]
     },
     "metadata": {
      "needs_background": "light"
     },
     "output_type": "display_data"
    }
   ],
   "source": [
    "y_test = torch.tensor(y_test, device = 'cpu')\n",
    "y_pred = torch.tensor(y_pred, device = 'cpu')\n",
    "cm = confusion_matrix(y_test, y_pred)\n",
    "disp = ConfusionMatrixDisplay(confusion_matrix=cm)\n",
    "disp.plot()\n",
    "plt.show()"
   ]
  },
  {
   "cell_type": "code",
   "execution_count": null,
   "id": "ff20e47b",
   "metadata": {},
   "outputs": [],
   "source": []
  }
 ],
 "metadata": {
  "kernelspec": {
   "display_name": "Python 3 (ipykernel)",
   "language": "python",
   "name": "python3"
  },
  "language_info": {
   "codemirror_mode": {
    "name": "ipython",
    "version": 3
   },
   "file_extension": ".py",
   "mimetype": "text/x-python",
   "name": "python",
   "nbconvert_exporter": "python",
   "pygments_lexer": "ipython3",
   "version": "3.9.7"
  }
 },
 "nbformat": 4,
 "nbformat_minor": 5
}

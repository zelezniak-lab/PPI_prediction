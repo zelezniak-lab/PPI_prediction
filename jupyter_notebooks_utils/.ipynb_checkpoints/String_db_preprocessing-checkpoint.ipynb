{
 "cells": [
  {
   "cell_type": "code",
   "execution_count": 45,
   "id": "2efdfa89",
   "metadata": {},
   "outputs": [],
   "source": [
    "import pandas as pd\n",
    "import Bio.SeqIO as SeqIO"
   ]
  },
  {
   "cell_type": "code",
   "execution_count": 46,
   "id": "d99ac4c0",
   "metadata": {},
   "outputs": [
    {
     "data": {
      "text/html": [
       "<div>\n",
       "<style scoped>\n",
       "    .dataframe tbody tr th:only-of-type {\n",
       "        vertical-align: middle;\n",
       "    }\n",
       "\n",
       "    .dataframe tbody tr th {\n",
       "        vertical-align: top;\n",
       "    }\n",
       "\n",
       "    .dataframe thead th {\n",
       "        text-align: right;\n",
       "    }\n",
       "</style>\n",
       "<table border=\"1\" class=\"dataframe\">\n",
       "  <thead>\n",
       "    <tr style=\"text-align: right;\">\n",
       "      <th></th>\n",
       "      <th>protein1</th>\n",
       "      <th>protein2</th>\n",
       "      <th>homology</th>\n",
       "      <th>experiments</th>\n",
       "      <th>experiments_transferred</th>\n",
       "      <th>database</th>\n",
       "      <th>database_transferred</th>\n",
       "      <th>textmining</th>\n",
       "      <th>textmining_transferred</th>\n",
       "      <th>combined_score</th>\n",
       "    </tr>\n",
       "  </thead>\n",
       "  <tbody>\n",
       "    <tr>\n",
       "      <th>0</th>\n",
       "      <td>9606.ENSP00000000233</td>\n",
       "      <td>9606.ENSP00000264718</td>\n",
       "      <td>0</td>\n",
       "      <td>0</td>\n",
       "      <td>157</td>\n",
       "      <td>0</td>\n",
       "      <td>0</td>\n",
       "      <td>0</td>\n",
       "      <td>0</td>\n",
       "      <td>156</td>\n",
       "    </tr>\n",
       "    <tr>\n",
       "      <th>1</th>\n",
       "      <td>9606.ENSP00000000233</td>\n",
       "      <td>9606.ENSP00000346046</td>\n",
       "      <td>0</td>\n",
       "      <td>0</td>\n",
       "      <td>178</td>\n",
       "      <td>0</td>\n",
       "      <td>0</td>\n",
       "      <td>0</td>\n",
       "      <td>0</td>\n",
       "      <td>177</td>\n",
       "    </tr>\n",
       "    <tr>\n",
       "      <th>2</th>\n",
       "      <td>9606.ENSP00000000233</td>\n",
       "      <td>9606.ENSP00000347134</td>\n",
       "      <td>0</td>\n",
       "      <td>0</td>\n",
       "      <td>143</td>\n",
       "      <td>0</td>\n",
       "      <td>0</td>\n",
       "      <td>0</td>\n",
       "      <td>63</td>\n",
       "      <td>162</td>\n",
       "    </tr>\n",
       "    <tr>\n",
       "      <th>3</th>\n",
       "      <td>9606.ENSP00000000233</td>\n",
       "      <td>9606.ENSP00000317469</td>\n",
       "      <td>0</td>\n",
       "      <td>0</td>\n",
       "      <td>345</td>\n",
       "      <td>0</td>\n",
       "      <td>0</td>\n",
       "      <td>0</td>\n",
       "      <td>92</td>\n",
       "      <td>379</td>\n",
       "    </tr>\n",
       "    <tr>\n",
       "      <th>4</th>\n",
       "      <td>9606.ENSP00000000233</td>\n",
       "      <td>9606.ENSP00000302393</td>\n",
       "      <td>0</td>\n",
       "      <td>272</td>\n",
       "      <td>62</td>\n",
       "      <td>0</td>\n",
       "      <td>0</td>\n",
       "      <td>0</td>\n",
       "      <td>0</td>\n",
       "      <td>287</td>\n",
       "    </tr>\n",
       "  </tbody>\n",
       "</table>\n",
       "</div>"
      ],
      "text/plain": [
       "               protein1              protein2  homology  experiments  \\\n",
       "0  9606.ENSP00000000233  9606.ENSP00000264718         0            0   \n",
       "1  9606.ENSP00000000233  9606.ENSP00000346046         0            0   \n",
       "2  9606.ENSP00000000233  9606.ENSP00000347134         0            0   \n",
       "3  9606.ENSP00000000233  9606.ENSP00000317469         0            0   \n",
       "4  9606.ENSP00000000233  9606.ENSP00000302393         0          272   \n",
       "\n",
       "   experiments_transferred  database  database_transferred  textmining  \\\n",
       "0                      157         0                     0           0   \n",
       "1                      178         0                     0           0   \n",
       "2                      143         0                     0           0   \n",
       "3                      345         0                     0           0   \n",
       "4                       62         0                     0           0   \n",
       "\n",
       "   textmining_transferred  combined_score  \n",
       "0                       0             156  \n",
       "1                       0             177  \n",
       "2                      63             162  \n",
       "3                      92             379  \n",
       "4                       0             287  "
      ]
     },
     "execution_count": 46,
     "metadata": {},
     "output_type": "execute_result"
    }
   ],
   "source": [
    "data = pd.read_csv(\"/home/anwer/Desktop/PPI_prediction/Dataset_ppi/string_db/9606.protein.physical.links.full.v11.5.txt\",sep=\" \")\n",
    "data.head()"
   ]
  },
  {
   "cell_type": "markdown",
   "id": "ed3f0c36",
   "metadata": {},
   "source": [
    "## 1. Data Preprocessing"
   ]
  },
  {
   "cell_type": "markdown",
   "id": "449b34b4",
   "metadata": {},
   "source": [
    "#### Experiments score > 500"
   ]
  },
  {
   "cell_type": "code",
   "execution_count": 47,
   "id": "8f051465",
   "metadata": {},
   "outputs": [],
   "source": [
    "data = data[data['experiments']> 500][['protein1','protein2','experiments']]"
   ]
  },
  {
   "cell_type": "code",
   "execution_count": 48,
   "id": "80f8748c",
   "metadata": {},
   "outputs": [
    {
     "name": "stderr",
     "output_type": "stream",
     "text": [
      "19566it [00:00, 143040.47it/s]\n"
     ]
    }
   ],
   "source": [
    "from tqdm import tqdm\n",
    "dct = {}\n",
    "for rec in tqdm(SeqIO.parse(\"/home/anwer/Desktop/PPI_prediction/fasta_file/9606.protein.sequences.v11.5.fa\",\"fasta\")):\n",
    "    dct[rec.id] =  str(rec.seq)   \n",
    "    "
   ]
  },
  {
   "cell_type": "code",
   "execution_count": 49,
   "id": "d056a154",
   "metadata": {},
   "outputs": [],
   "source": [
    "def convert_to_seq(seq_name):\n",
    "    try:\n",
    "        return dct[seq_name]\n",
    "    except:\n",
    "        return None"
   ]
  },
  {
   "cell_type": "code",
   "execution_count": 50,
   "id": "1df6bb8f",
   "metadata": {},
   "outputs": [],
   "source": [
    "data[\"protein_1_sequence\"] = data['protein1'].apply(convert_to_seq)\n",
    "data[\"protein_2_sequence\"] = data['protein2'].apply(convert_to_seq)\n",
    "data.dropna(inplace = True)"
   ]
  },
  {
   "cell_type": "code",
   "execution_count": 51,
   "id": "3d8fe78c",
   "metadata": {},
   "outputs": [
    {
     "data": {
      "text/html": [
       "<div>\n",
       "<style scoped>\n",
       "    .dataframe tbody tr th:only-of-type {\n",
       "        vertical-align: middle;\n",
       "    }\n",
       "\n",
       "    .dataframe tbody tr th {\n",
       "        vertical-align: top;\n",
       "    }\n",
       "\n",
       "    .dataframe thead th {\n",
       "        text-align: right;\n",
       "    }\n",
       "</style>\n",
       "<table border=\"1\" class=\"dataframe\">\n",
       "  <thead>\n",
       "    <tr style=\"text-align: right;\">\n",
       "      <th></th>\n",
       "      <th>protein1</th>\n",
       "      <th>protein2</th>\n",
       "      <th>experiments</th>\n",
       "      <th>protein_1_sequence</th>\n",
       "      <th>protein_2_sequence</th>\n",
       "    </tr>\n",
       "  </thead>\n",
       "  <tbody>\n",
       "    <tr>\n",
       "      <th>185</th>\n",
       "      <td>9606.ENSP00000000233</td>\n",
       "      <td>9606.ENSP00000440005</td>\n",
       "      <td>679</td>\n",
       "      <td>MGLTVSALFSRIFGKKQMRILMVGLDAAGKTTILYKLKLGEIVTTI...</td>\n",
       "      <td>MGNIFANLFKGLFGKKEMRILMVGLDAAGKTTILYKLKLGEIVTTI...</td>\n",
       "    </tr>\n",
       "    <tr>\n",
       "      <th>325</th>\n",
       "      <td>9606.ENSP00000000233</td>\n",
       "      <td>9606.ENSP00000452762</td>\n",
       "      <td>550</td>\n",
       "      <td>MGLTVSALFSRIFGKKQMRILMVGLDAAGKTTILYKLKLGEIVTTI...</td>\n",
       "      <td>MFRAAAPGQLRRAASLLRFQSTLVIAEHANDSLAPITLNTITAATR...</td>\n",
       "    </tr>\n",
       "    <tr>\n",
       "      <th>515</th>\n",
       "      <td>9606.ENSP00000000412</td>\n",
       "      <td>9606.ENSP00000438085</td>\n",
       "      <td>932</td>\n",
       "      <td>MFPFYSCWRTGLLLLLLAVAVRESWQTEEKTCDLVGEKGKESEKEL...</td>\n",
       "      <td>MAEAEGESLESWLNKATNPSNRQEDWEYIIGFCDQINKELEGPQIA...</td>\n",
       "    </tr>\n",
       "    <tr>\n",
       "      <th>718</th>\n",
       "      <td>9606.ENSP00000001008</td>\n",
       "      <td>9606.ENSP00000359385</td>\n",
       "      <td>525</td>\n",
       "      <td>MTAEEMKATESGAQSAPLPMEGVDISPKQDEGVLKVIKREGTGTEM...</td>\n",
       "      <td>MAVEELQSIIKRCQILEEQDFKEEDFGLFQLAGQRCIEEGHTDQLL...</td>\n",
       "    </tr>\n",
       "    <tr>\n",
       "      <th>790</th>\n",
       "      <td>9606.ENSP00000001008</td>\n",
       "      <td>9606.ENSP00000360609</td>\n",
       "      <td>504</td>\n",
       "      <td>MTAEEMKATESGAQSAPLPMEGVDISPKQDEGVLKVIKREGTGTEM...</td>\n",
       "      <td>MPEEVHHGEEEVETFAFQAEIAQLMSLIINTFYSNKEIFLRELISN...</td>\n",
       "    </tr>\n",
       "  </tbody>\n",
       "</table>\n",
       "</div>"
      ],
      "text/plain": [
       "                 protein1              protein2  experiments  \\\n",
       "185  9606.ENSP00000000233  9606.ENSP00000440005          679   \n",
       "325  9606.ENSP00000000233  9606.ENSP00000452762          550   \n",
       "515  9606.ENSP00000000412  9606.ENSP00000438085          932   \n",
       "718  9606.ENSP00000001008  9606.ENSP00000359385          525   \n",
       "790  9606.ENSP00000001008  9606.ENSP00000360609          504   \n",
       "\n",
       "                                    protein_1_sequence  \\\n",
       "185  MGLTVSALFSRIFGKKQMRILMVGLDAAGKTTILYKLKLGEIVTTI...   \n",
       "325  MGLTVSALFSRIFGKKQMRILMVGLDAAGKTTILYKLKLGEIVTTI...   \n",
       "515  MFPFYSCWRTGLLLLLLAVAVRESWQTEEKTCDLVGEKGKESEKEL...   \n",
       "718  MTAEEMKATESGAQSAPLPMEGVDISPKQDEGVLKVIKREGTGTEM...   \n",
       "790  MTAEEMKATESGAQSAPLPMEGVDISPKQDEGVLKVIKREGTGTEM...   \n",
       "\n",
       "                                    protein_2_sequence  \n",
       "185  MGNIFANLFKGLFGKKEMRILMVGLDAAGKTTILYKLKLGEIVTTI...  \n",
       "325  MFRAAAPGQLRRAASLLRFQSTLVIAEHANDSLAPITLNTITAATR...  \n",
       "515  MAEAEGESLESWLNKATNPSNRQEDWEYIIGFCDQINKELEGPQIA...  \n",
       "718  MAVEELQSIIKRCQILEEQDFKEEDFGLFQLAGQRCIEEGHTDQLL...  \n",
       "790  MPEEVHHGEEEVETFAFQAEIAQLMSLIINTFYSNKEIFLRELISN...  "
      ]
     },
     "execution_count": 51,
     "metadata": {},
     "output_type": "execute_result"
    }
   ],
   "source": [
    "data.head()"
   ]
  },
  {
   "cell_type": "code",
   "execution_count": 54,
   "id": "3e7f363f",
   "metadata": {},
   "outputs": [],
   "source": [
    "data['protein_1_sequence'] = data['protein_1_sequence'].apply(lambda x: x.strip())\n",
    "data['protein_2_sequence'] = data['protein_2_sequence'].apply(lambda x: x.strip())\n",
    "data.to_csv(\"/home/anwer/Desktop/PPI_prediction/csv_files/String_ppi_with_sequences.csv\",index = False)"
   ]
  },
  {
   "cell_type": "markdown",
   "id": "18b85f53",
   "metadata": {},
   "source": [
    "## 2. Exploratory Data Analysis"
   ]
  },
  {
   "cell_type": "markdown",
   "id": "9defb904",
   "metadata": {},
   "source": [
    "##### Human-human PPIs"
   ]
  },
  {
   "cell_type": "code",
   "execution_count": 55,
   "id": "92c03f48",
   "metadata": {},
   "outputs": [
    {
     "data": {
      "text/html": [
       "<div>\n",
       "<style scoped>\n",
       "    .dataframe tbody tr th:only-of-type {\n",
       "        vertical-align: middle;\n",
       "    }\n",
       "\n",
       "    .dataframe tbody tr th {\n",
       "        vertical-align: top;\n",
       "    }\n",
       "\n",
       "    .dataframe thead th {\n",
       "        text-align: right;\n",
       "    }\n",
       "</style>\n",
       "<table border=\"1\" class=\"dataframe\">\n",
       "  <thead>\n",
       "    <tr style=\"text-align: right;\">\n",
       "      <th></th>\n",
       "      <th>protein1</th>\n",
       "      <th>protein2</th>\n",
       "      <th>experiments</th>\n",
       "      <th>protein_1_sequence</th>\n",
       "      <th>protein_2_sequence</th>\n",
       "    </tr>\n",
       "  </thead>\n",
       "  <tbody>\n",
       "    <tr>\n",
       "      <th>0</th>\n",
       "      <td>9606.ENSP00000000233</td>\n",
       "      <td>9606.ENSP00000440005</td>\n",
       "      <td>679</td>\n",
       "      <td>MGLTVSALFSRIFGKKQMRILMVGLDAAGKTTILYKLKLGEIVTTI...</td>\n",
       "      <td>MGNIFANLFKGLFGKKEMRILMVGLDAAGKTTILYKLKLGEIVTTI...</td>\n",
       "    </tr>\n",
       "    <tr>\n",
       "      <th>1</th>\n",
       "      <td>9606.ENSP00000000233</td>\n",
       "      <td>9606.ENSP00000452762</td>\n",
       "      <td>550</td>\n",
       "      <td>MGLTVSALFSRIFGKKQMRILMVGLDAAGKTTILYKLKLGEIVTTI...</td>\n",
       "      <td>MFRAAAPGQLRRAASLLRFQSTLVIAEHANDSLAPITLNTITAATR...</td>\n",
       "    </tr>\n",
       "    <tr>\n",
       "      <th>2</th>\n",
       "      <td>9606.ENSP00000000412</td>\n",
       "      <td>9606.ENSP00000438085</td>\n",
       "      <td>932</td>\n",
       "      <td>MFPFYSCWRTGLLLLLLAVAVRESWQTEEKTCDLVGEKGKESEKEL...</td>\n",
       "      <td>MAEAEGESLESWLNKATNPSNRQEDWEYIIGFCDQINKELEGPQIA...</td>\n",
       "    </tr>\n",
       "    <tr>\n",
       "      <th>3</th>\n",
       "      <td>9606.ENSP00000001008</td>\n",
       "      <td>9606.ENSP00000359385</td>\n",
       "      <td>525</td>\n",
       "      <td>MTAEEMKATESGAQSAPLPMEGVDISPKQDEGVLKVIKREGTGTEM...</td>\n",
       "      <td>MAVEELQSIIKRCQILEEQDFKEEDFGLFQLAGQRCIEEGHTDQLL...</td>\n",
       "    </tr>\n",
       "    <tr>\n",
       "      <th>4</th>\n",
       "      <td>9606.ENSP00000001008</td>\n",
       "      <td>9606.ENSP00000360609</td>\n",
       "      <td>504</td>\n",
       "      <td>MTAEEMKATESGAQSAPLPMEGVDISPKQDEGVLKVIKREGTGTEM...</td>\n",
       "      <td>MPEEVHHGEEEVETFAFQAEIAQLMSLIINTFYSNKEIFLRELISN...</td>\n",
       "    </tr>\n",
       "  </tbody>\n",
       "</table>\n",
       "</div>"
      ],
      "text/plain": [
       "               protein1              protein2  experiments  \\\n",
       "0  9606.ENSP00000000233  9606.ENSP00000440005          679   \n",
       "1  9606.ENSP00000000233  9606.ENSP00000452762          550   \n",
       "2  9606.ENSP00000000412  9606.ENSP00000438085          932   \n",
       "3  9606.ENSP00000001008  9606.ENSP00000359385          525   \n",
       "4  9606.ENSP00000001008  9606.ENSP00000360609          504   \n",
       "\n",
       "                                  protein_1_sequence  \\\n",
       "0  MGLTVSALFSRIFGKKQMRILMVGLDAAGKTTILYKLKLGEIVTTI...   \n",
       "1  MGLTVSALFSRIFGKKQMRILMVGLDAAGKTTILYKLKLGEIVTTI...   \n",
       "2  MFPFYSCWRTGLLLLLLAVAVRESWQTEEKTCDLVGEKGKESEKEL...   \n",
       "3  MTAEEMKATESGAQSAPLPMEGVDISPKQDEGVLKVIKREGTGTEM...   \n",
       "4  MTAEEMKATESGAQSAPLPMEGVDISPKQDEGVLKVIKREGTGTEM...   \n",
       "\n",
       "                                  protein_2_sequence  \n",
       "0  MGNIFANLFKGLFGKKEMRILMVGLDAAGKTTILYKLKLGEIVTTI...  \n",
       "1  MFRAAAPGQLRRAASLLRFQSTLVIAEHANDSLAPITLNTITAATR...  \n",
       "2  MAEAEGESLESWLNKATNPSNRQEDWEYIIGFCDQINKELEGPQIA...  \n",
       "3  MAVEELQSIIKRCQILEEQDFKEEDFGLFQLAGQRCIEEGHTDQLL...  \n",
       "4  MPEEVHHGEEEVETFAFQAEIAQLMSLIINTFYSNKEIFLRELISN...  "
      ]
     },
     "execution_count": 55,
     "metadata": {},
     "output_type": "execute_result"
    }
   ],
   "source": [
    "data = pd.read_csv(\"/home/anwer/Desktop/PPI_prediction/csv_files/String_ppi_with_sequences.csv\")\n",
    "data.head()"
   ]
  },
  {
   "cell_type": "code",
   "execution_count": 57,
   "id": "2cd70b5e",
   "metadata": {},
   "outputs": [
    {
     "name": "stdout",
     "output_type": "stream",
     "text": [
      "Total Number of pairs:  81380\n"
     ]
    }
   ],
   "source": [
    "print(\"Total Number of pairs: \", len(data))"
   ]
  },
  {
   "cell_type": "code",
   "execution_count": 60,
   "id": "87afe840",
   "metadata": {},
   "outputs": [
    {
     "name": "stdout",
     "output_type": "stream",
     "text": [
      "Number of unique Proteins:  7781\n"
     ]
    }
   ],
   "source": [
    "print(\"Number of unique Proteins: \", len(set(data['protein_1_sequence']).union(set(data['protein_2_sequence']))) )"
   ]
  },
  {
   "cell_type": "code",
   "execution_count": 61,
   "id": "c28e8773",
   "metadata": {},
   "outputs": [
    {
     "name": "stdout",
     "output_type": "stream",
     "text": [
      "Maximum length proteins:  XLPAPAAALPGAPPPPPGVRGYPARARGLQGASGGARFPSSLSLPVPGKGGWVVSRAKFPALDSCEITTAHPRLCFAVSPPFSCSLPLPSLFPHSPLLGRPKRQAKPAADEGFWDCSVCTFRNSAEAFKCSICDVRKGTSTRKPRINSQLVAQQVAQQYATPPPPKKEKKEKVEKQDKEKPEKDKEISPSVTKKNTNKKTKPKSDILKDPPSEANSIQSANATTKTSETNHTSRPRLKNVDRSTAQQLAVTVGNVTVIITDFKEKTRSSSTSSSTVTSSAGSEQQNQSSSGSESTDKGSSRSSTPKGDMSAVNDESF\n",
      "\n",
      "\n",
      "Maximum length of Proteins sequences:  317\n"
     ]
    }
   ],
   "source": [
    "print(\"Maximum length proteins: \", max(set(data['protein_1_sequence']).union(set(data['protein_2_sequence']))))\n",
    "print('\\n' )\n",
    "print(\"Maximum length of Proteins sequences: \", len(max(set(data['protein_1_sequence']).union(set(data['protein_1_sequence'])))))"
   ]
  },
  {
   "cell_type": "code",
   "execution_count": null,
   "id": "c1adb66a",
   "metadata": {},
   "outputs": [],
   "source": []
  }
 ],
 "metadata": {
  "kernelspec": {
   "display_name": "Python 3 (ipykernel)",
   "language": "python",
   "name": "python3"
  },
  "language_info": {
   "codemirror_mode": {
    "name": "ipython",
    "version": 3
   },
   "file_extension": ".py",
   "mimetype": "text/x-python",
   "name": "python",
   "nbconvert_exporter": "python",
   "pygments_lexer": "ipython3",
   "version": "3.9.12"
  }
 },
 "nbformat": 4,
 "nbformat_minor": 5
}

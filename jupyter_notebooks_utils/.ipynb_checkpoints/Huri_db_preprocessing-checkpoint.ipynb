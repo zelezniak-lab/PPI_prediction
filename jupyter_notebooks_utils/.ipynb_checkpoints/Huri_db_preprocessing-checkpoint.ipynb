{
 "cells": [
  {
   "cell_type": "code",
   "execution_count": 116,
   "id": "475ff6ab",
   "metadata": {},
   "outputs": [],
   "source": [
    "import pandas as pd\n",
    "import numpy as np\n",
    "from tqdm import tqdm\n",
    "from collections import Counter\n",
    "import matplotlib.pyplot as plt\n",
    "from matplotlib.pyplot import figure"
   ]
  },
  {
   "cell_type": "code",
   "execution_count": 194,
   "id": "280a24fe",
   "metadata": {},
   "outputs": [],
   "source": [
    "data = pd.read_csv(\"/home/anwer/Desktop/PPI_prediction/Dataset_ppi/Nature_Aleksej/HURI/HI-union.tsv\", sep='\\t')"
   ]
  },
  {
   "cell_type": "code",
   "execution_count": 195,
   "id": "14056272",
   "metadata": {},
   "outputs": [
    {
     "data": {
      "text/html": [
       "<div>\n",
       "<style scoped>\n",
       "    .dataframe tbody tr th:only-of-type {\n",
       "        vertical-align: middle;\n",
       "    }\n",
       "\n",
       "    .dataframe tbody tr th {\n",
       "        vertical-align: top;\n",
       "    }\n",
       "\n",
       "    .dataframe thead th {\n",
       "        text-align: right;\n",
       "    }\n",
       "</style>\n",
       "<table border=\"1\" class=\"dataframe\">\n",
       "  <thead>\n",
       "    <tr style=\"text-align: right;\">\n",
       "      <th></th>\n",
       "      <th>Protein A</th>\n",
       "      <th>Protein B</th>\n",
       "    </tr>\n",
       "  </thead>\n",
       "  <tbody>\n",
       "    <tr>\n",
       "      <th>0</th>\n",
       "      <td>ENSG00000000005</td>\n",
       "      <td>ENSG00000061656</td>\n",
       "    </tr>\n",
       "    <tr>\n",
       "      <th>1</th>\n",
       "      <td>ENSG00000000005</td>\n",
       "      <td>ENSG00000099968</td>\n",
       "    </tr>\n",
       "    <tr>\n",
       "      <th>2</th>\n",
       "      <td>ENSG00000000005</td>\n",
       "      <td>ENSG00000104765</td>\n",
       "    </tr>\n",
       "    <tr>\n",
       "      <th>3</th>\n",
       "      <td>ENSG00000000005</td>\n",
       "      <td>ENSG00000105383</td>\n",
       "    </tr>\n",
       "    <tr>\n",
       "      <th>4</th>\n",
       "      <td>ENSG00000000005</td>\n",
       "      <td>ENSG00000114455</td>\n",
       "    </tr>\n",
       "  </tbody>\n",
       "</table>\n",
       "</div>"
      ],
      "text/plain": [
       "         Protein A        Protein B\n",
       "0  ENSG00000000005  ENSG00000061656\n",
       "1  ENSG00000000005  ENSG00000099968\n",
       "2  ENSG00000000005  ENSG00000104765\n",
       "3  ENSG00000000005  ENSG00000105383\n",
       "4  ENSG00000000005  ENSG00000114455"
      ]
     },
     "execution_count": 195,
     "metadata": {},
     "output_type": "execute_result"
    }
   ],
   "source": [
    "data.head()"
   ]
  },
  {
   "cell_type": "code",
   "execution_count": 196,
   "id": "c00353f1",
   "metadata": {},
   "outputs": [
    {
     "name": "stdout",
     "output_type": "stream",
     "text": [
      "Number of unique Proteins:  9094\n"
     ]
    }
   ],
   "source": [
    "print(\"Number of unique Proteins: \", len(set(data['Protein A']).union(set(data['Protein B']))))"
   ]
  },
  {
   "cell_type": "markdown",
   "id": "f66b973e",
   "metadata": {},
   "source": [
    "## 1. Data Preprocessing\n",
    "### 1.1 Protein name to sequence"
   ]
  },
  {
   "cell_type": "code",
   "execution_count": 197,
   "id": "f041b5a2",
   "metadata": {},
   "outputs": [],
   "source": [
    "unique_proteins = set(data['Protein A']).union(set(data['Protein B']))"
   ]
  },
  {
   "cell_type": "code",
   "execution_count": 198,
   "id": "ba0f93e7",
   "metadata": {},
   "outputs": [],
   "source": [
    "string_pro = \"\"\n",
    "for i in unique_proteins:\n",
    "    string_pro = string_pro + str(i)+ \" \"\n",
    "with open('unique_prot.txt', 'w') as f:\n",
    "    f.write(string_pro)    "
   ]
  },
  {
   "cell_type": "code",
   "execution_count": 199,
   "id": "79e8606b",
   "metadata": {},
   "outputs": [
    {
     "data": {
      "text/plain": [
       "'ENSG00000261408 ENSG00000279968 ENSG00000275993 ENSG00000174899 ENSG00000125462 ENSG00000278272 ENSG00000185594 ENSG00000228623 ENSG00000212643 ENSG00000213204 ENSG00000272196 ENSG00000215790 ENSG00000183729 ENSG00000283374 ENSG00000105501 ENSG00000283900 ENSG00000221972 ENSG00000204183 ENSG00000214215 ENSG00000204677 ENSG00000213029 ENSG00000243440 ENSG00000205861 ENSG00000185689 ENSG00000198054 ENSG00000250486 ENSG00000273331 ENSG00000186493 ENSG00000184258 ENSG00000125122 ENSG00000196312 ENSG00000204661 ENSG00000221995 ENSG00000181013 ENSG00000197536 ENSG00000197568 ENSG00000206483 ENSG00000274276 ENSG00000181577 ENSG00000171570 ENSG00000273590 ENSG00000163098 ENSG00000182257 ENSG00000182077 ENSG00000203812 ENSG00000173209 ENSG00000284341 ENSG00000130489 ENSG00000268173 ENSG00000167774 ENSG00000158483 ENSG00000274267 ENSG00000042304 ENSG00000261796 ENSG00000222047'"
      ]
     },
     "execution_count": 199,
     "metadata": {},
     "output_type": "execute_result"
    }
   ],
   "source": [
    "## ID not mapped to UNIprotKB\n",
    "id_not_mapped = 'ENSG00000261408 ENSG00000279968 ENSG00000275993 ENSG00000174899 ENSG00000125462 ENSG00000278272 ENSG00000185594 ENSG00000228623 ENSG00000212643 ENSG00000213204 ENSG00000272196 ENSG00000215790 ENSG00000183729 ENSG00000283374 ENSG00000105501 ENSG00000283900 ENSG00000221972 ENSG00000204183 ENSG00000214215 ENSG00000204677 ENSG00000213029 ENSG00000243440 ENSG00000205861 ENSG00000185689 ENSG00000198054 ENSG00000250486 ENSG00000273331 ENSG00000186493 ENSG00000184258 ENSG00000125122 ENSG00000196312 ENSG00000204661 ENSG00000221995 ENSG00000181013 ENSG00000197536 ENSG00000197568 ENSG00000206483 ENSG00000274276 ENSG00000181577 ENSG00000171570 ENSG00000273590 ENSG00000163098 ENSG00000182257 ENSG00000182077 ENSG00000203812 ENSG00000173209 ENSG00000284341 ENSG00000130489 ENSG00000268173 ENSG00000167774 ENSG00000158483 ENSG00000274267 ENSG00000042304 ENSG00000261796 ENSG00000222047'\n",
    "id_not_mapped"
   ]
  },
  {
   "cell_type": "code",
   "execution_count": 200,
   "id": "ae41f55a",
   "metadata": {},
   "outputs": [],
   "source": [
    "name_to_seq_mapp =pd.read_csv(\"/home/anwer/Desktop/PPI_prediction/fasta_file/uniprot-compressed_true_download_true_fields_accession_2Creviewed_2C-2022.10.25-09.24.16.10.tsv\", sep='\\t')"
   ]
  },
  {
   "cell_type": "code",
   "execution_count": 201,
   "id": "08579a16",
   "metadata": {},
   "outputs": [
    {
     "data": {
      "text/html": [
       "<div>\n",
       "<style scoped>\n",
       "    .dataframe tbody tr th:only-of-type {\n",
       "        vertical-align: middle;\n",
       "    }\n",
       "\n",
       "    .dataframe tbody tr th {\n",
       "        vertical-align: top;\n",
       "    }\n",
       "\n",
       "    .dataframe thead th {\n",
       "        text-align: right;\n",
       "    }\n",
       "</style>\n",
       "<table border=\"1\" class=\"dataframe\">\n",
       "  <thead>\n",
       "    <tr style=\"text-align: right;\">\n",
       "      <th></th>\n",
       "      <th>From</th>\n",
       "      <th>Entry</th>\n",
       "      <th>Reviewed</th>\n",
       "      <th>Entry Name</th>\n",
       "      <th>Protein names</th>\n",
       "      <th>Gene Names</th>\n",
       "      <th>Sequence</th>\n",
       "      <th>Organism (ID)</th>\n",
       "      <th>Organism</th>\n",
       "      <th>Taxonomic lineage (Ids)</th>\n",
       "    </tr>\n",
       "  </thead>\n",
       "  <tbody>\n",
       "    <tr>\n",
       "      <th>0</th>\n",
       "      <td>ENSG00000141744</td>\n",
       "      <td>P11086</td>\n",
       "      <td>reviewed</td>\n",
       "      <td>PNMT_HUMAN</td>\n",
       "      <td>Phenylethanolamine N-methyltransferase (PNMTas...</td>\n",
       "      <td>PNMT PENT</td>\n",
       "      <td>MSGADRSPNAGAAPDSAPGQAAVASAYQRFEPRAYLRNNYAPPRGD...</td>\n",
       "      <td>9606</td>\n",
       "      <td>Homo sapiens (Human)</td>\n",
       "      <td>9605 (genus), 207598 (subfamily), 9604 (family...</td>\n",
       "    </tr>\n",
       "    <tr>\n",
       "      <th>1</th>\n",
       "      <td>ENSG00000164440</td>\n",
       "      <td>Q8N3L3</td>\n",
       "      <td>reviewed</td>\n",
       "      <td>TXLNB_HUMAN</td>\n",
       "      <td>Beta-taxilin (Muscle-derived protein 77) (hMDP77)</td>\n",
       "      <td>TXLNB C6orf198 MDP77</td>\n",
       "      <td>MEANHSEQLSAERQSTPPGDSSSLPSHNGLEKEDGQDSPTPVQPPE...</td>\n",
       "      <td>9606</td>\n",
       "      <td>Homo sapiens (Human)</td>\n",
       "      <td>9605 (genus), 207598 (subfamily), 9604 (family...</td>\n",
       "    </tr>\n",
       "    <tr>\n",
       "      <th>2</th>\n",
       "      <td>ENSG00000162194</td>\n",
       "      <td>Q9BQE6</td>\n",
       "      <td>reviewed</td>\n",
       "      <td>LBHD1_HUMAN</td>\n",
       "      <td>LBH domain-containing protein 1</td>\n",
       "      <td>LBHD1 C11orf48</td>\n",
       "      <td>MALVPGRSKEDGLWTRNSPGSSQHPESPRLPNPLWDRGKIGKVEGH...</td>\n",
       "      <td>9606</td>\n",
       "      <td>Homo sapiens (Human)</td>\n",
       "      <td>9605 (genus), 207598 (subfamily), 9604 (family...</td>\n",
       "    </tr>\n",
       "    <tr>\n",
       "      <th>3</th>\n",
       "      <td>ENSG00000176401</td>\n",
       "      <td>Q96D98</td>\n",
       "      <td>reviewed</td>\n",
       "      <td>EID2B_HUMAN</td>\n",
       "      <td>EP300-interacting inhibitor of differentiation...</td>\n",
       "      <td>EID2B EID3</td>\n",
       "      <td>MAEPTGLLEMSELPGDSSVPQVGTASGVSDVLRGAVGGGVRVQEAR...</td>\n",
       "      <td>9606</td>\n",
       "      <td>Homo sapiens (Human)</td>\n",
       "      <td>9605 (genus), 207598 (subfamily), 9604 (family...</td>\n",
       "    </tr>\n",
       "    <tr>\n",
       "      <th>4</th>\n",
       "      <td>ENSG00000179950</td>\n",
       "      <td>Q9UHX1</td>\n",
       "      <td>reviewed</td>\n",
       "      <td>PUF60_HUMAN</td>\n",
       "      <td>Poly(U)-binding-splicing factor PUF60 (60 kDa ...</td>\n",
       "      <td>PUF60 FIR ROBPI SIAHBP1</td>\n",
       "      <td>MATATIALQVNGQQGGGSEPAAAAAVVAAGDKWKPPQGTDSIKMEN...</td>\n",
       "      <td>9606</td>\n",
       "      <td>Homo sapiens (Human)</td>\n",
       "      <td>9605 (genus), 207598 (subfamily), 9604 (family...</td>\n",
       "    </tr>\n",
       "  </tbody>\n",
       "</table>\n",
       "</div>"
      ],
      "text/plain": [
       "              From   Entry  Reviewed   Entry Name  \\\n",
       "0  ENSG00000141744  P11086  reviewed   PNMT_HUMAN   \n",
       "1  ENSG00000164440  Q8N3L3  reviewed  TXLNB_HUMAN   \n",
       "2  ENSG00000162194  Q9BQE6  reviewed  LBHD1_HUMAN   \n",
       "3  ENSG00000176401  Q96D98  reviewed  EID2B_HUMAN   \n",
       "4  ENSG00000179950  Q9UHX1  reviewed  PUF60_HUMAN   \n",
       "\n",
       "                                       Protein names               Gene Names  \\\n",
       "0  Phenylethanolamine N-methyltransferase (PNMTas...                PNMT PENT   \n",
       "1  Beta-taxilin (Muscle-derived protein 77) (hMDP77)     TXLNB C6orf198 MDP77   \n",
       "2                    LBH domain-containing protein 1           LBHD1 C11orf48   \n",
       "3  EP300-interacting inhibitor of differentiation...               EID2B EID3   \n",
       "4  Poly(U)-binding-splicing factor PUF60 (60 kDa ...  PUF60 FIR ROBPI SIAHBP1   \n",
       "\n",
       "                                            Sequence  Organism (ID)  \\\n",
       "0  MSGADRSPNAGAAPDSAPGQAAVASAYQRFEPRAYLRNNYAPPRGD...           9606   \n",
       "1  MEANHSEQLSAERQSTPPGDSSSLPSHNGLEKEDGQDSPTPVQPPE...           9606   \n",
       "2  MALVPGRSKEDGLWTRNSPGSSQHPESPRLPNPLWDRGKIGKVEGH...           9606   \n",
       "3  MAEPTGLLEMSELPGDSSVPQVGTASGVSDVLRGAVGGGVRVQEAR...           9606   \n",
       "4  MATATIALQVNGQQGGGSEPAAAAAVVAAGDKWKPPQGTDSIKMEN...           9606   \n",
       "\n",
       "               Organism                            Taxonomic lineage (Ids)  \n",
       "0  Homo sapiens (Human)  9605 (genus), 207598 (subfamily), 9604 (family...  \n",
       "1  Homo sapiens (Human)  9605 (genus), 207598 (subfamily), 9604 (family...  \n",
       "2  Homo sapiens (Human)  9605 (genus), 207598 (subfamily), 9604 (family...  \n",
       "3  Homo sapiens (Human)  9605 (genus), 207598 (subfamily), 9604 (family...  \n",
       "4  Homo sapiens (Human)  9605 (genus), 207598 (subfamily), 9604 (family...  "
      ]
     },
     "execution_count": 201,
     "metadata": {},
     "output_type": "execute_result"
    }
   ],
   "source": [
    "name_to_seq_mapp = name_to_seq_mapp[name_to_seq_mapp.Reviewed == 'reviewed'].reset_index(drop = True)\n",
    "name_to_seq_mapp.head()"
   ]
  },
  {
   "cell_type": "code",
   "execution_count": 202,
   "id": "233debd2",
   "metadata": {},
   "outputs": [],
   "source": [
    "map_to_seq_dict = {}\n",
    "for i in unique_proteins:\n",
    "    map_to_seq_dict[i] = name_to_seq_mapp[name_to_seq_mapp.From == i].Sequence.tolist()"
   ]
  },
  {
   "cell_type": "markdown",
   "id": "9e93138d",
   "metadata": {},
   "source": [
    "#### Removing sequences of length more than 1024"
   ]
  },
  {
   "cell_type": "code",
   "execution_count": 203,
   "id": "75d4c032",
   "metadata": {},
   "outputs": [],
   "source": [
    "map_to_seq_dict_less_than_1024 = {}\n",
    "for i,j in map_to_seq_dict.items():\n",
    "    try:\n",
    "       if len(j[0]) <= 1024: \n",
    "           map_to_seq_dict_less_than_1024[i] = j[0]\n",
    "          \n",
    "    except:\n",
    "        continue"
   ]
  },
  {
   "cell_type": "code",
   "execution_count": 204,
   "id": "8a31f005",
   "metadata": {},
   "outputs": [
    {
     "data": {
      "text/plain": [
       "8395"
      ]
     },
     "execution_count": 204,
     "metadata": {},
     "output_type": "execute_result"
    }
   ],
   "source": [
    "len(map_to_seq_dict_less_than_1024)"
   ]
  },
  {
   "cell_type": "code",
   "execution_count": 205,
   "id": "7c23e9b8",
   "metadata": {},
   "outputs": [
    {
     "data": {
      "text/html": [
       "<div>\n",
       "<style scoped>\n",
       "    .dataframe tbody tr th:only-of-type {\n",
       "        vertical-align: middle;\n",
       "    }\n",
       "\n",
       "    .dataframe tbody tr th {\n",
       "        vertical-align: top;\n",
       "    }\n",
       "\n",
       "    .dataframe thead th {\n",
       "        text-align: right;\n",
       "    }\n",
       "</style>\n",
       "<table border=\"1\" class=\"dataframe\">\n",
       "  <thead>\n",
       "    <tr style=\"text-align: right;\">\n",
       "      <th></th>\n",
       "      <th>Protein A</th>\n",
       "      <th>Protein B</th>\n",
       "    </tr>\n",
       "  </thead>\n",
       "  <tbody>\n",
       "    <tr>\n",
       "      <th>0</th>\n",
       "      <td>ENSG00000000005</td>\n",
       "      <td>ENSG00000061656</td>\n",
       "    </tr>\n",
       "    <tr>\n",
       "      <th>1</th>\n",
       "      <td>ENSG00000000005</td>\n",
       "      <td>ENSG00000099968</td>\n",
       "    </tr>\n",
       "    <tr>\n",
       "      <th>2</th>\n",
       "      <td>ENSG00000000005</td>\n",
       "      <td>ENSG00000104765</td>\n",
       "    </tr>\n",
       "    <tr>\n",
       "      <th>3</th>\n",
       "      <td>ENSG00000000005</td>\n",
       "      <td>ENSG00000105383</td>\n",
       "    </tr>\n",
       "    <tr>\n",
       "      <th>4</th>\n",
       "      <td>ENSG00000000005</td>\n",
       "      <td>ENSG00000114455</td>\n",
       "    </tr>\n",
       "  </tbody>\n",
       "</table>\n",
       "</div>"
      ],
      "text/plain": [
       "         Protein A        Protein B\n",
       "0  ENSG00000000005  ENSG00000061656\n",
       "1  ENSG00000000005  ENSG00000099968\n",
       "2  ENSG00000000005  ENSG00000104765\n",
       "3  ENSG00000000005  ENSG00000105383\n",
       "4  ENSG00000000005  ENSG00000114455"
      ]
     },
     "execution_count": 205,
     "metadata": {},
     "output_type": "execute_result"
    }
   ],
   "source": [
    "data.head()"
   ]
  },
  {
   "cell_type": "code",
   "execution_count": 208,
   "id": "0ff2009d",
   "metadata": {},
   "outputs": [],
   "source": [
    "def convert_to_seq(seq_name):\n",
    "    try:\n",
    "        return map_to_seq_dict_less_than_1024[seq_name]\n",
    "    except:\n",
    "        return np.nan\n",
    "    \n",
    "data[\"Protein_A_sequence\"] = data['Protein A'].apply(convert_to_seq)\n",
    "data[\"Protein_B_sequence\"] = data['Protein B'].apply(convert_to_seq)\n",
    "data.dropna(inplace = True)"
   ]
  },
  {
   "cell_type": "code",
   "execution_count": 209,
   "id": "12139785",
   "metadata": {},
   "outputs": [
    {
     "data": {
      "text/html": [
       "<div>\n",
       "<style scoped>\n",
       "    .dataframe tbody tr th:only-of-type {\n",
       "        vertical-align: middle;\n",
       "    }\n",
       "\n",
       "    .dataframe tbody tr th {\n",
       "        vertical-align: top;\n",
       "    }\n",
       "\n",
       "    .dataframe thead th {\n",
       "        text-align: right;\n",
       "    }\n",
       "</style>\n",
       "<table border=\"1\" class=\"dataframe\">\n",
       "  <thead>\n",
       "    <tr style=\"text-align: right;\">\n",
       "      <th></th>\n",
       "      <th>Protein A</th>\n",
       "      <th>Protein B</th>\n",
       "      <th>Protein_A_sequence</th>\n",
       "      <th>Protein_B_sequence</th>\n",
       "    </tr>\n",
       "  </thead>\n",
       "  <tbody>\n",
       "    <tr>\n",
       "      <th>0</th>\n",
       "      <td>ENSG00000000005</td>\n",
       "      <td>ENSG00000061656</td>\n",
       "      <td>MAKNPPENCEDCHILNAEAFKSKKICKSLKICGLVFGILALTLIVL...</td>\n",
       "      <td>MRRSSRPGSASSSRKHTPNFFSENSSMSITSEDSKGLRSAEPGPGE...</td>\n",
       "    </tr>\n",
       "    <tr>\n",
       "      <th>1</th>\n",
       "      <td>ENSG00000000005</td>\n",
       "      <td>ENSG00000099968</td>\n",
       "      <td>MAKNPPENCEDCHILNAEAFKSKKICKSLKICGLVFGILALTLIVL...</td>\n",
       "      <td>MASSSTVPLGFHYETKYVVLSYLGLLSQEKLQEQHLSSPQGVQLDI...</td>\n",
       "    </tr>\n",
       "    <tr>\n",
       "      <th>2</th>\n",
       "      <td>ENSG00000000005</td>\n",
       "      <td>ENSG00000104765</td>\n",
       "      <td>MAKNPPENCEDCHILNAEAFKSKKICKSLKICGLVFGILALTLIVL...</td>\n",
       "      <td>MSSHLVEPPPPLHNNNNNCEENEQSLPPPAGLNSSWVELPMNSSNG...</td>\n",
       "    </tr>\n",
       "    <tr>\n",
       "      <th>3</th>\n",
       "      <td>ENSG00000000005</td>\n",
       "      <td>ENSG00000105383</td>\n",
       "      <td>MAKNPPENCEDCHILNAEAFKSKKICKSLKICGLVFGILALTLIVL...</td>\n",
       "      <td>MPLLLLLPLLWAGALAMDPNFWLQVQESVTVQEGLCVLVPCTFFHP...</td>\n",
       "    </tr>\n",
       "    <tr>\n",
       "      <th>4</th>\n",
       "      <td>ENSG00000000005</td>\n",
       "      <td>ENSG00000114455</td>\n",
       "      <td>MAKNPPENCEDCHILNAEAFKSKKICKSLKICGLVFGILALTLIVL...</td>\n",
       "      <td>MKAQTALSFFLILITSLSGSQGIFPLAFFIYVPMNEQIVIGRLDED...</td>\n",
       "    </tr>\n",
       "    <tr>\n",
       "      <th>...</th>\n",
       "      <td>...</td>\n",
       "      <td>...</td>\n",
       "      <td>...</td>\n",
       "      <td>...</td>\n",
       "    </tr>\n",
       "    <tr>\n",
       "      <th>63998</th>\n",
       "      <td>ENSG00000273899</td>\n",
       "      <td>ENSG00000273899</td>\n",
       "      <td>MGRNKKKKRDGDDRRPRLVLSFDEEKRREYLTGFHKRKVERKKAAI...</td>\n",
       "      <td>MGRNKKKKRDGDDRRPRLVLSFDEEKRREYLTGFHKRKVERKKAAI...</td>\n",
       "    </tr>\n",
       "    <tr>\n",
       "      <th>64000</th>\n",
       "      <td>ENSG00000275302</td>\n",
       "      <td>ENSG00000278619</td>\n",
       "      <td>MKLCVTVLSLLMLVAAFCSPALSAPMGSDPPTACCFSYTARKLPRN...</td>\n",
       "      <td>MALLSTVRGATWGRLVTRHFSHAARHGERPGGEELSRLLLDDLVPT...</td>\n",
       "    </tr>\n",
       "    <tr>\n",
       "      <th>64001</th>\n",
       "      <td>ENSG00000275774</td>\n",
       "      <td>ENSG00000275774</td>\n",
       "      <td>MASNVTNKMDPHSVNSRVFIGNLNTLVVKKSDVEAIFSKYGKIAGC...</td>\n",
       "      <td>MASNVTNKMDPHSVNSRVFIGNLNTLVVKKSDVEAIFSKYGKIAGC...</td>\n",
       "    </tr>\n",
       "    <tr>\n",
       "      <th>64002</th>\n",
       "      <td>ENSG00000276070</td>\n",
       "      <td>ENSG00000278619</td>\n",
       "      <td>MKLCVTVLSLLVLVAAFCSLALSAPMGSDPPTACCFSYTARKLPRN...</td>\n",
       "      <td>MALLSTVRGATWGRLVTRHFSHAARHGERPGGEELSRLLLDDLVPT...</td>\n",
       "    </tr>\n",
       "    <tr>\n",
       "      <th>64004</th>\n",
       "      <td>ENSG00000276644</td>\n",
       "      <td>ENSG00000276644</td>\n",
       "      <td>MAVPAALIPPTQLVPPQPPISTSASSSGTTTSTSSATSSPAPSIGP...</td>\n",
       "      <td>MAVPAALIPPTQLVPPQPPISTSASSSGTTTSTSSATSSPAPSIGP...</td>\n",
       "    </tr>\n",
       "  </tbody>\n",
       "</table>\n",
       "<p>57101 rows × 4 columns</p>\n",
       "</div>"
      ],
      "text/plain": [
       "             Protein A        Protein B  \\\n",
       "0      ENSG00000000005  ENSG00000061656   \n",
       "1      ENSG00000000005  ENSG00000099968   \n",
       "2      ENSG00000000005  ENSG00000104765   \n",
       "3      ENSG00000000005  ENSG00000105383   \n",
       "4      ENSG00000000005  ENSG00000114455   \n",
       "...                ...              ...   \n",
       "63998  ENSG00000273899  ENSG00000273899   \n",
       "64000  ENSG00000275302  ENSG00000278619   \n",
       "64001  ENSG00000275774  ENSG00000275774   \n",
       "64002  ENSG00000276070  ENSG00000278619   \n",
       "64004  ENSG00000276644  ENSG00000276644   \n",
       "\n",
       "                                      Protein_A_sequence  \\\n",
       "0      MAKNPPENCEDCHILNAEAFKSKKICKSLKICGLVFGILALTLIVL...   \n",
       "1      MAKNPPENCEDCHILNAEAFKSKKICKSLKICGLVFGILALTLIVL...   \n",
       "2      MAKNPPENCEDCHILNAEAFKSKKICKSLKICGLVFGILALTLIVL...   \n",
       "3      MAKNPPENCEDCHILNAEAFKSKKICKSLKICGLVFGILALTLIVL...   \n",
       "4      MAKNPPENCEDCHILNAEAFKSKKICKSLKICGLVFGILALTLIVL...   \n",
       "...                                                  ...   \n",
       "63998  MGRNKKKKRDGDDRRPRLVLSFDEEKRREYLTGFHKRKVERKKAAI...   \n",
       "64000  MKLCVTVLSLLMLVAAFCSPALSAPMGSDPPTACCFSYTARKLPRN...   \n",
       "64001  MASNVTNKMDPHSVNSRVFIGNLNTLVVKKSDVEAIFSKYGKIAGC...   \n",
       "64002  MKLCVTVLSLLVLVAAFCSLALSAPMGSDPPTACCFSYTARKLPRN...   \n",
       "64004  MAVPAALIPPTQLVPPQPPISTSASSSGTTTSTSSATSSPAPSIGP...   \n",
       "\n",
       "                                      Protein_B_sequence  \n",
       "0      MRRSSRPGSASSSRKHTPNFFSENSSMSITSEDSKGLRSAEPGPGE...  \n",
       "1      MASSSTVPLGFHYETKYVVLSYLGLLSQEKLQEQHLSSPQGVQLDI...  \n",
       "2      MSSHLVEPPPPLHNNNNNCEENEQSLPPPAGLNSSWVELPMNSSNG...  \n",
       "3      MPLLLLLPLLWAGALAMDPNFWLQVQESVTVQEGLCVLVPCTFFHP...  \n",
       "4      MKAQTALSFFLILITSLSGSQGIFPLAFFIYVPMNEQIVIGRLDED...  \n",
       "...                                                  ...  \n",
       "63998  MGRNKKKKRDGDDRRPRLVLSFDEEKRREYLTGFHKRKVERKKAAI...  \n",
       "64000  MALLSTVRGATWGRLVTRHFSHAARHGERPGGEELSRLLLDDLVPT...  \n",
       "64001  MASNVTNKMDPHSVNSRVFIGNLNTLVVKKSDVEAIFSKYGKIAGC...  \n",
       "64002  MALLSTVRGATWGRLVTRHFSHAARHGERPGGEELSRLLLDDLVPT...  \n",
       "64004  MAVPAALIPPTQLVPPQPPISTSASSSGTTTSTSSATSSPAPSIGP...  \n",
       "\n",
       "[57101 rows x 4 columns]"
      ]
     },
     "execution_count": 209,
     "metadata": {},
     "output_type": "execute_result"
    }
   ],
   "source": [
    "data.dropna()"
   ]
  },
  {
   "cell_type": "code",
   "execution_count": 210,
   "id": "4d01d5b5",
   "metadata": {},
   "outputs": [],
   "source": [
    "data.to_csv(\"/home/anwer/Desktop/PPI_prediction/csv_files/Huri_ppi_with_sequences.csv\",index = False)"
   ]
  },
  {
   "cell_type": "markdown",
   "id": "0e3e96ac",
   "metadata": {},
   "source": [
    "### 1.2 Exploratory Data Analysis"
   ]
  },
  {
   "cell_type": "code",
   "execution_count": 75,
   "id": "662e283b",
   "metadata": {},
   "outputs": [],
   "source": [
    "data = pd.read_csv(\"/home/anwer/Desktop/PPI_prediction/csv_files/Huri_ppi_with_sequences.csv\")"
   ]
  },
  {
   "cell_type": "code",
   "execution_count": 77,
   "id": "87223bc0",
   "metadata": {},
   "outputs": [
    {
     "data": {
      "text/html": [
       "<div>\n",
       "<style scoped>\n",
       "    .dataframe tbody tr th:only-of-type {\n",
       "        vertical-align: middle;\n",
       "    }\n",
       "\n",
       "    .dataframe tbody tr th {\n",
       "        vertical-align: top;\n",
       "    }\n",
       "\n",
       "    .dataframe thead th {\n",
       "        text-align: right;\n",
       "    }\n",
       "</style>\n",
       "<table border=\"1\" class=\"dataframe\">\n",
       "  <thead>\n",
       "    <tr style=\"text-align: right;\">\n",
       "      <th></th>\n",
       "      <th>Protein A</th>\n",
       "      <th>Protein B</th>\n",
       "      <th>Protein_A_sequence</th>\n",
       "      <th>Protein_B_sequence</th>\n",
       "    </tr>\n",
       "  </thead>\n",
       "  <tbody>\n",
       "    <tr>\n",
       "      <th>0</th>\n",
       "      <td>ENSG00000000005</td>\n",
       "      <td>ENSG00000061656</td>\n",
       "      <td>MAKNPPENCEDCHILNAEAFKSKKICKSLKICGLVFGILALTLIVL...</td>\n",
       "      <td>MRRSSRPGSASSSRKHTPNFFSENSSMSITSEDSKGLRSAEPGPGE...</td>\n",
       "    </tr>\n",
       "    <tr>\n",
       "      <th>1</th>\n",
       "      <td>ENSG00000000005</td>\n",
       "      <td>ENSG00000099968</td>\n",
       "      <td>MAKNPPENCEDCHILNAEAFKSKKICKSLKICGLVFGILALTLIVL...</td>\n",
       "      <td>MASSSTVPLGFHYETKYVVLSYLGLLSQEKLQEQHLSSPQGVQLDI...</td>\n",
       "    </tr>\n",
       "    <tr>\n",
       "      <th>2</th>\n",
       "      <td>ENSG00000000005</td>\n",
       "      <td>ENSG00000104765</td>\n",
       "      <td>MAKNPPENCEDCHILNAEAFKSKKICKSLKICGLVFGILALTLIVL...</td>\n",
       "      <td>MSSHLVEPPPPLHNNNNNCEENEQSLPPPAGLNSSWVELPMNSSNG...</td>\n",
       "    </tr>\n",
       "    <tr>\n",
       "      <th>3</th>\n",
       "      <td>ENSG00000000005</td>\n",
       "      <td>ENSG00000105383</td>\n",
       "      <td>MAKNPPENCEDCHILNAEAFKSKKICKSLKICGLVFGILALTLIVL...</td>\n",
       "      <td>MPLLLLLPLLWAGALAMDPNFWLQVQESVTVQEGLCVLVPCTFFHP...</td>\n",
       "    </tr>\n",
       "    <tr>\n",
       "      <th>4</th>\n",
       "      <td>ENSG00000000005</td>\n",
       "      <td>ENSG00000114455</td>\n",
       "      <td>MAKNPPENCEDCHILNAEAFKSKKICKSLKICGLVFGILALTLIVL...</td>\n",
       "      <td>MKAQTALSFFLILITSLSGSQGIFPLAFFIYVPMNEQIVIGRLDED...</td>\n",
       "    </tr>\n",
       "  </tbody>\n",
       "</table>\n",
       "</div>"
      ],
      "text/plain": [
       "         Protein A        Protein B  \\\n",
       "0  ENSG00000000005  ENSG00000061656   \n",
       "1  ENSG00000000005  ENSG00000099968   \n",
       "2  ENSG00000000005  ENSG00000104765   \n",
       "3  ENSG00000000005  ENSG00000105383   \n",
       "4  ENSG00000000005  ENSG00000114455   \n",
       "\n",
       "                                  Protein_A_sequence  \\\n",
       "0  MAKNPPENCEDCHILNAEAFKSKKICKSLKICGLVFGILALTLIVL...   \n",
       "1  MAKNPPENCEDCHILNAEAFKSKKICKSLKICGLVFGILALTLIVL...   \n",
       "2  MAKNPPENCEDCHILNAEAFKSKKICKSLKICGLVFGILALTLIVL...   \n",
       "3  MAKNPPENCEDCHILNAEAFKSKKICKSLKICGLVFGILALTLIVL...   \n",
       "4  MAKNPPENCEDCHILNAEAFKSKKICKSLKICGLVFGILALTLIVL...   \n",
       "\n",
       "                                  Protein_B_sequence  \n",
       "0  MRRSSRPGSASSSRKHTPNFFSENSSMSITSEDSKGLRSAEPGPGE...  \n",
       "1  MASSSTVPLGFHYETKYVVLSYLGLLSQEKLQEQHLSSPQGVQLDI...  \n",
       "2  MSSHLVEPPPPLHNNNNNCEENEQSLPPPAGLNSSWVELPMNSSNG...  \n",
       "3  MPLLLLLPLLWAGALAMDPNFWLQVQESVTVQEGLCVLVPCTFFHP...  \n",
       "4  MKAQTALSFFLILITSLSGSQGIFPLAFFIYVPMNEQIVIGRLDED...  "
      ]
     },
     "execution_count": 77,
     "metadata": {},
     "output_type": "execute_result"
    }
   ],
   "source": [
    "data.head()"
   ]
  },
  {
   "cell_type": "code",
   "execution_count": 211,
   "id": "e6061444",
   "metadata": {},
   "outputs": [
    {
     "data": {
      "text/html": [
       "<div>\n",
       "<style scoped>\n",
       "    .dataframe tbody tr th:only-of-type {\n",
       "        vertical-align: middle;\n",
       "    }\n",
       "\n",
       "    .dataframe tbody tr th {\n",
       "        vertical-align: top;\n",
       "    }\n",
       "\n",
       "    .dataframe thead th {\n",
       "        text-align: right;\n",
       "    }\n",
       "</style>\n",
       "<table border=\"1\" class=\"dataframe\">\n",
       "  <thead>\n",
       "    <tr style=\"text-align: right;\">\n",
       "      <th></th>\n",
       "      <th>Protein A</th>\n",
       "      <th>Protein B</th>\n",
       "      <th>Protein_A_sequence</th>\n",
       "      <th>Protein_B_sequence</th>\n",
       "    </tr>\n",
       "  </thead>\n",
       "  <tbody>\n",
       "    <tr>\n",
       "      <th>0</th>\n",
       "      <td>ENSG00000000005</td>\n",
       "      <td>ENSG00000061656</td>\n",
       "      <td>MAKNPPENCEDCHILNAEAFKSKKICKSLKICGLVFGILALTLIVL...</td>\n",
       "      <td>MRRSSRPGSASSSRKHTPNFFSENSSMSITSEDSKGLRSAEPGPGE...</td>\n",
       "    </tr>\n",
       "    <tr>\n",
       "      <th>1</th>\n",
       "      <td>ENSG00000000005</td>\n",
       "      <td>ENSG00000099968</td>\n",
       "      <td>MAKNPPENCEDCHILNAEAFKSKKICKSLKICGLVFGILALTLIVL...</td>\n",
       "      <td>MASSSTVPLGFHYETKYVVLSYLGLLSQEKLQEQHLSSPQGVQLDI...</td>\n",
       "    </tr>\n",
       "    <tr>\n",
       "      <th>2</th>\n",
       "      <td>ENSG00000000005</td>\n",
       "      <td>ENSG00000104765</td>\n",
       "      <td>MAKNPPENCEDCHILNAEAFKSKKICKSLKICGLVFGILALTLIVL...</td>\n",
       "      <td>MSSHLVEPPPPLHNNNNNCEENEQSLPPPAGLNSSWVELPMNSSNG...</td>\n",
       "    </tr>\n",
       "    <tr>\n",
       "      <th>3</th>\n",
       "      <td>ENSG00000000005</td>\n",
       "      <td>ENSG00000105383</td>\n",
       "      <td>MAKNPPENCEDCHILNAEAFKSKKICKSLKICGLVFGILALTLIVL...</td>\n",
       "      <td>MPLLLLLPLLWAGALAMDPNFWLQVQESVTVQEGLCVLVPCTFFHP...</td>\n",
       "    </tr>\n",
       "    <tr>\n",
       "      <th>4</th>\n",
       "      <td>ENSG00000000005</td>\n",
       "      <td>ENSG00000114455</td>\n",
       "      <td>MAKNPPENCEDCHILNAEAFKSKKICKSLKICGLVFGILALTLIVL...</td>\n",
       "      <td>MKAQTALSFFLILITSLSGSQGIFPLAFFIYVPMNEQIVIGRLDED...</td>\n",
       "    </tr>\n",
       "  </tbody>\n",
       "</table>\n",
       "</div>"
      ],
      "text/plain": [
       "         Protein A        Protein B  \\\n",
       "0  ENSG00000000005  ENSG00000061656   \n",
       "1  ENSG00000000005  ENSG00000099968   \n",
       "2  ENSG00000000005  ENSG00000104765   \n",
       "3  ENSG00000000005  ENSG00000105383   \n",
       "4  ENSG00000000005  ENSG00000114455   \n",
       "\n",
       "                                  Protein_A_sequence  \\\n",
       "0  MAKNPPENCEDCHILNAEAFKSKKICKSLKICGLVFGILALTLIVL...   \n",
       "1  MAKNPPENCEDCHILNAEAFKSKKICKSLKICGLVFGILALTLIVL...   \n",
       "2  MAKNPPENCEDCHILNAEAFKSKKICKSLKICGLVFGILALTLIVL...   \n",
       "3  MAKNPPENCEDCHILNAEAFKSKKICKSLKICGLVFGILALTLIVL...   \n",
       "4  MAKNPPENCEDCHILNAEAFKSKKICKSLKICGLVFGILALTLIVL...   \n",
       "\n",
       "                                  Protein_B_sequence  \n",
       "0  MRRSSRPGSASSSRKHTPNFFSENSSMSITSEDSKGLRSAEPGPGE...  \n",
       "1  MASSSTVPLGFHYETKYVVLSYLGLLSQEKLQEQHLSSPQGVQLDI...  \n",
       "2  MSSHLVEPPPPLHNNNNNCEENEQSLPPPAGLNSSWVELPMNSSNG...  \n",
       "3  MPLLLLLPLLWAGALAMDPNFWLQVQESVTVQEGLCVLVPCTFFHP...  \n",
       "4  MKAQTALSFFLILITSLSGSQGIFPLAFFIYVPMNEQIVIGRLDED...  "
      ]
     },
     "execution_count": 211,
     "metadata": {},
     "output_type": "execute_result"
    }
   ],
   "source": [
    "data = data.apply(lambda x: x.str.strip())\n",
    "data.head()"
   ]
  },
  {
   "cell_type": "code",
   "execution_count": 212,
   "id": "d66d93a6",
   "metadata": {},
   "outputs": [
    {
     "name": "stdout",
     "output_type": "stream",
     "text": [
      "Number of positive pairs:  57101\n"
     ]
    }
   ],
   "source": [
    "print(\"Number of positive pairs: \", len(data))"
   ]
  },
  {
   "cell_type": "code",
   "execution_count": 213,
   "id": "1a42357c",
   "metadata": {},
   "outputs": [
    {
     "name": "stdout",
     "output_type": "stream",
     "text": [
      "Number of unique Proteins:  8331\n"
     ]
    }
   ],
   "source": [
    "print(\"Number of unique Proteins: \", len(set(data['Protein A']).union(set(data['Protein B']))) )"
   ]
  },
  {
   "cell_type": "code",
   "execution_count": 214,
   "id": "88de24ea",
   "metadata": {},
   "outputs": [
    {
     "name": "stdout",
     "output_type": "stream",
     "text": [
      "\n",
      "\n",
      "Maximum length of Proteins sequences:  1024\n",
      "\n",
      "\n",
      "Minimum length of Proteins sequences:  25\n"
     ]
    }
   ],
   "source": [
    "# print(\"Maximum length proteins: \", max(set(data['Protein_A_sequence']).union(set(data['Protein_B_sequence'])),key=len))\n",
    "print('\\n' )\n",
    "print(\"Maximum length of Proteins sequences: \", len(max(set(data['Protein_A_sequence']).union(set(data['Protein_B_sequence'])),key=len)))\n",
    "\n",
    "# print(\"Minimum length proteins: \", min(set(data['Protein_A_sequence']).union(set(data['Protein_B_sequence'])),key=len))\n",
    "print('\\n' )\n",
    "print(\"Minimum length of Proteins sequences: \", len(min(set(data['Protein_A_sequence']).union(set(data['Protein_B_sequence'])),key=len)))"
   ]
  },
  {
   "cell_type": "code",
   "execution_count": 215,
   "id": "a3413009",
   "metadata": {},
   "outputs": [],
   "source": [
    "col_list_protein_A = data['Protein A'].values.tolist()\n",
    "col_list_protein_B = data['Protein B'].values.tolist()\n",
    "count_col_A = Counter(col_list_protein_A)\n",
    "count_col_B = Counter(col_list_protein_B)\n",
    "count = count_col_A | count_col_B\n",
    "count = dict(sorted(count.items(), key=lambda item: item[1],reverse = True))\n"
   ]
  },
  {
   "cell_type": "code",
   "execution_count": 216,
   "id": "6ff9c15d",
   "metadata": {},
   "outputs": [
    {
     "data": {
      "text/plain": [
       "<Figure size 1440x1440 with 0 Axes>"
      ]
     },
     "metadata": {},
     "output_type": "display_data"
    },
    {
     "data": {
      "image/png": "[encoded data removed]",
      "text/plain": [
       "<Figure size 1080x720 with 1 Axes>"
      ]
     },
     "metadata": {
      "needs_background": "light"
     },
     "output_type": "display_data"
    }
   ],
   "source": [
    "keys = count.keys()\n",
    "values = count.values()\n",
    "plt.figure(figsize=(20, 20))\n",
    "fig, ax = plt.subplots(figsize=(15,10))\n",
    "ax.bar(list(keys)[0:20], list(values)[0:20])\n",
    "ax.set_xlabel('x-axis', fontsize = 22)\n",
    "ax.set_ylabel('y-axis', fontsize = 20)\n",
    "plt.ylabel('Count of pairs')\n",
    "plt.xlabel('Name of Proteins')\n",
    "plt.xticks(rotation=90)\n",
    "plt.title(\"Number of repetition of proteins in data\")\n",
    "plt.tight_layout()\n",
    "plt.show()"
   ]
  },
  {
   "cell_type": "markdown",
   "id": "53271bcc",
   "metadata": {},
   "source": [
    "### Summary of EDA\n",
    "1. Published in paper:  A reference map of the human binary protein interactome, Improved ppi prediction using     AF2(Nature communciation, suggested by aleksej)\n",
    "2. Number of unique pairs: 62596\n",
    "3. Number of proteins: 8935\n",
    "4. Max length of sequences: 117\n",
    "5. Top 5 redundant proteins: \n",
    "\n",
    "\n",
    "     'ENSG00000106511': 483,\n",
    "     'ENSG00000197191': 404,\n",
    "     'ENSG00000072201': 335,\n",
    "     'ENSG00000264343': 316,\n",
    "     'ENSG00000204889': 306,\n"
   ]
  },
  {
   "cell_type": "code",
   "execution_count": null,
   "id": "9953cb34",
   "metadata": {},
   "outputs": [],
   "source": [
    "\n"
   ]
  },
  {
   "cell_type": "code",
   "execution_count": null,
   "id": "c28d48a0",
   "metadata": {},
   "outputs": [],
   "source": []
  }
 ],
 "metadata": {
  "kernelspec": {
   "display_name": "Python 3 (ipykernel)",
   "language": "python",
   "name": "python3"
  },
  "language_info": {
   "codemirror_mode": {
    "name": "ipython",
    "version": 3
   },
   "file_extension": ".py",
   "mimetype": "text/x-python",
   "name": "python",
   "nbconvert_exporter": "python",
   "pygments_lexer": "ipython3",
   "version": "3.9.12"
  }
 },
 "nbformat": 4,
 "nbformat_minor": 5
}

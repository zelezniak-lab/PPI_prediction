{
 "cells": [
  {
   "cell_type": "code",
   "execution_count": 10,
   "id": "926f5da6",
   "metadata": {},
   "outputs": [],
   "source": [
    "import pandas as pd\n",
    "from tqdm import tqdm\n",
    "import numpy as np\n",
    "import pickle"
   ]
  },
  {
   "cell_type": "code",
   "execution_count": 33,
   "id": "e0d4c758",
   "metadata": {},
   "outputs": [],
   "source": [
    "data = pd.read_csv(\"../../Dataset_ppi/Negative_pairs/manual_stringent.txt\", sep = \"\\t\")"
   ]
  },
  {
   "cell_type": "code",
   "execution_count": 27,
   "id": "20af1768",
   "metadata": {},
   "outputs": [
    {
     "data": {
      "text/html": [
       "<div>\n",
       "<style scoped>\n",
       "    .dataframe tbody tr th:only-of-type {\n",
       "        vertical-align: middle;\n",
       "    }\n",
       "\n",
       "    .dataframe tbody tr th {\n",
       "        vertical-align: top;\n",
       "    }\n",
       "\n",
       "    .dataframe thead th {\n",
       "        text-align: right;\n",
       "    }\n",
       "</style>\n",
       "<table border=\"1\" class=\"dataframe\">\n",
       "  <thead>\n",
       "    <tr style=\"text-align: right;\">\n",
       "      <th></th>\n",
       "      <th>PRO1</th>\n",
       "      <th>PRO2</th>\n",
       "      <th>ID</th>\n",
       "      <th>MI Score</th>\n",
       "    </tr>\n",
       "  </thead>\n",
       "  <tbody>\n",
       "    <tr>\n",
       "      <th>0</th>\n",
       "      <td>Q6ZNK6</td>\n",
       "      <td>Q9Y4K3</td>\n",
       "      <td>15047173</td>\n",
       "      <td>MI:0019 - coimmunoprecipitation</td>\n",
       "    </tr>\n",
       "    <tr>\n",
       "      <th>1</th>\n",
       "      <td>Q9NR31</td>\n",
       "      <td>Q15797</td>\n",
       "      <td>17356069</td>\n",
       "      <td>MI:0019 - coimmunoprecipitation</td>\n",
       "    </tr>\n",
       "    <tr>\n",
       "      <th>2</th>\n",
       "      <td>P11627</td>\n",
       "      <td>P53986</td>\n",
       "      <td>20155396</td>\n",
       "      <td>MI:0411- enzyme linked immunosorbent assay</td>\n",
       "    </tr>\n",
       "    <tr>\n",
       "      <th>3</th>\n",
       "      <td>P33176</td>\n",
       "      <td>Q96EK5</td>\n",
       "      <td>16225668</td>\n",
       "      <td>MI:0059 - gst pull down</td>\n",
       "    </tr>\n",
       "    <tr>\n",
       "      <th>4</th>\n",
       "      <td>Q9NPY3</td>\n",
       "      <td>P02745</td>\n",
       "      <td>11994479</td>\n",
       "      <td>MI:0411- enzyme linked immunosorbent assay</td>\n",
       "    </tr>\n",
       "    <tr>\n",
       "      <th>...</th>\n",
       "      <td>...</td>\n",
       "      <td>...</td>\n",
       "      <td>...</td>\n",
       "      <td>...</td>\n",
       "    </tr>\n",
       "    <tr>\n",
       "      <th>1986</th>\n",
       "      <td>P51693</td>\n",
       "      <td>Q8NI70</td>\n",
       "      <td>15383276</td>\n",
       "      <td>MI:0018 - two hybrid</td>\n",
       "    </tr>\n",
       "    <tr>\n",
       "      <th>1987</th>\n",
       "      <td>P62879</td>\n",
       "      <td>Q8TBX8</td>\n",
       "      <td>18255255</td>\n",
       "      <td>MI:0019 - coimmunoprecipitation; MI:0096</td>\n",
       "    </tr>\n",
       "    <tr>\n",
       "      <th>1988</th>\n",
       "      <td>P42285</td>\n",
       "      <td>Q9NQT4</td>\n",
       "      <td>15231747</td>\n",
       "      <td>MI:0018 - two hybrid</td>\n",
       "    </tr>\n",
       "    <tr>\n",
       "      <th>1989</th>\n",
       "      <td>P62821</td>\n",
       "      <td>Q91V27</td>\n",
       "      <td>11856727</td>\n",
       "      <td>MI:0007 - anti tag coimmunoprecipitation</td>\n",
       "    </tr>\n",
       "    <tr>\n",
       "      <th>1990</th>\n",
       "      <td>Q16828</td>\n",
       "      <td>Q9NQX6</td>\n",
       "      <td>18255255</td>\n",
       "      <td>MI:0019 - coimmunoprecipitation; MI:0096</td>\n",
       "    </tr>\n",
       "  </tbody>\n",
       "</table>\n",
       "<p>1991 rows × 4 columns</p>\n",
       "</div>"
      ],
      "text/plain": [
       "        PRO1    PRO2        ID                                    MI Score\n",
       "0     Q6ZNK6  Q9Y4K3  15047173             MI:0019 - coimmunoprecipitation\n",
       "1     Q9NR31  Q15797  17356069             MI:0019 - coimmunoprecipitation\n",
       "2     P11627  P53986  20155396  MI:0411- enzyme linked immunosorbent assay\n",
       "3     P33176  Q96EK5  16225668                     MI:0059 - gst pull down\n",
       "4     Q9NPY3  P02745  11994479  MI:0411- enzyme linked immunosorbent assay\n",
       "...      ...     ...       ...                                         ...\n",
       "1986  P51693  Q8NI70  15383276                        MI:0018 - two hybrid\n",
       "1987  P62879  Q8TBX8  18255255    MI:0019 - coimmunoprecipitation; MI:0096\n",
       "1988  P42285  Q9NQT4  15231747                        MI:0018 - two hybrid\n",
       "1989  P62821  Q91V27  11856727    MI:0007 - anti tag coimmunoprecipitation\n",
       "1990  Q16828  Q9NQX6  18255255    MI:0019 - coimmunoprecipitation; MI:0096\n",
       "\n",
       "[1991 rows x 4 columns]"
      ]
     },
     "execution_count": 27,
     "metadata": {},
     "output_type": "execute_result"
    }
   ],
   "source": [
    "data"
   ]
  },
  {
   "cell_type": "code",
   "execution_count": 5,
   "id": "3e07132a",
   "metadata": {},
   "outputs": [],
   "source": [
    "id = set(data['PRO1'].tolist()).union(set(data['PRO2'].tolist()))"
   ]
  },
  {
   "cell_type": "code",
   "execution_count": 6,
   "id": "f283beb0",
   "metadata": {},
   "outputs": [
    {
     "data": {
      "text/plain": [
       "1733"
      ]
     },
     "execution_count": 6,
     "metadata": {},
     "output_type": "execute_result"
    }
   ],
   "source": [
    "len(id)"
   ]
  },
  {
   "cell_type": "code",
   "execution_count": 7,
   "id": "27505504",
   "metadata": {},
   "outputs": [],
   "source": [
    "import requests\n",
    "\n",
    "def return_seq(id):\n",
    "    \n",
    "    response = requests.get(id)\n",
    "    return (str(response.text.split(\" \")[-1]))"
   ]
  },
  {
   "cell_type": "code",
   "execution_count": 8,
   "id": "04eeb0a6",
   "metadata": {},
   "outputs": [
    {
     "name": "stderr",
     "output_type": "stream",
     "text": [
      "100%|██████████████████████████████████████████████████████| 1733/1733 [08:47<00:00,  3.29it/s]\n"
     ]
    }
   ],
   "source": [
    "dct_pro_to_seq = {}\n",
    "for i in tqdm(id):\n",
    "    if i not in dct_pro_to_seq.keys():\n",
    "        url = 'https://www.uniprot.org/uniprot/'+str(i)+\".fasta\"\n",
    "        seq = return_seq(url)\n",
    "    #     print(seq)\n",
    "    #     print(\"\".join(seq.split(\"\\n\")[1:]))\n",
    "        dct_pro_to_seq[i] = \"\".join(seq.split(\"\\n\")[1:])\n",
    "    else:\n",
    "        continue\n",
    "    \n",
    "    \n",
    "    \n"
   ]
  },
  {
   "cell_type": "code",
   "execution_count": 11,
   "id": "bd8d9ba1",
   "metadata": {},
   "outputs": [],
   "source": [
    "dct_pro_to_seq\n",
    "dct_pro_to_seq_2 = {}\n",
    "for i,j in dct_pro_to_seq.items():\n",
    "    if len(j) <= 1024:\n",
    "        dct_pro_to_seq_2[i] = j\n",
    "with open('../../pickle/prot_to_seq_pickle/negatome_prot_to_seq.pickle', 'wb') as handle:\n",
    "    pickle.dump(dct_pro_to_seq_2, handle, protocol=pickle.HIGHEST_PROTOCOL)\n"
   ]
  },
  {
   "cell_type": "code",
   "execution_count": 34,
   "id": "c4506edc",
   "metadata": {},
   "outputs": [],
   "source": [
    "def return_seq(prot_name):\n",
    "    try:\n",
    "        return dct_pro_to_seq_2[prot_name]\n",
    "    except:\n",
    "        return np.nan\n",
    "    \n",
    "\n",
    "data['Protein_A_sequence'] = data['PRO1'].apply(return_seq)\n",
    "data['Protein_B_sequence'] = data['PRO2'].apply(return_seq)"
   ]
  },
  {
   "cell_type": "code",
   "execution_count": 35,
   "id": "f9b92fb1",
   "metadata": {},
   "outputs": [
    {
     "data": {
      "text/html": [
       "<div>\n",
       "<style scoped>\n",
       "    .dataframe tbody tr th:only-of-type {\n",
       "        vertical-align: middle;\n",
       "    }\n",
       "\n",
       "    .dataframe tbody tr th {\n",
       "        vertical-align: top;\n",
       "    }\n",
       "\n",
       "    .dataframe thead th {\n",
       "        text-align: right;\n",
       "    }\n",
       "</style>\n",
       "<table border=\"1\" class=\"dataframe\">\n",
       "  <thead>\n",
       "    <tr style=\"text-align: right;\">\n",
       "      <th></th>\n",
       "      <th>PRO1</th>\n",
       "      <th>PRO2</th>\n",
       "      <th>ID</th>\n",
       "      <th>MI Score</th>\n",
       "      <th>Protein_A_sequence</th>\n",
       "      <th>Protein_B_sequence</th>\n",
       "    </tr>\n",
       "  </thead>\n",
       "  <tbody>\n",
       "    <tr>\n",
       "      <th>0</th>\n",
       "      <td>Q6ZNK6</td>\n",
       "      <td>Q9Y4K3</td>\n",
       "      <td>15047173</td>\n",
       "      <td>MI:0019 - coimmunoprecipitation</td>\n",
       "      <td>MEKPLTVLRVSLYHPTLGPSAFANVPPRLQHDTSPLLLGRGQDAHL...</td>\n",
       "      <td>MSLLNCENSCGSSQSESDCCVAMASSCSAVTKDDSVGGTASTGNLS...</td>\n",
       "    </tr>\n",
       "    <tr>\n",
       "      <th>1</th>\n",
       "      <td>Q9NR31</td>\n",
       "      <td>Q15797</td>\n",
       "      <td>17356069</td>\n",
       "      <td>MI:0019 - coimmunoprecipitation</td>\n",
       "      <td>MSFIFEWIYNGFSSVLQFLGLYKKSGKLVFLGLDNAGKTTLLHMLK...</td>\n",
       "      <td>MNVTSLFSFTSPAVKRLLGWKQGDEEEKWAEKAVDALVKKLKKKKG...</td>\n",
       "    </tr>\n",
       "    <tr>\n",
       "      <th>2</th>\n",
       "      <td>P11627</td>\n",
       "      <td>P53986</td>\n",
       "      <td>20155396</td>\n",
       "      <td>MI:0411- enzyme linked immunosorbent assay</td>\n",
       "      <td>NaN</td>\n",
       "      <td>MPPAIGGPVGYTPPDGGWGWAVLVGAFISIGFSYAFPKSITVFFKE...</td>\n",
       "    </tr>\n",
       "    <tr>\n",
       "      <th>3</th>\n",
       "      <td>P33176</td>\n",
       "      <td>Q96EK5</td>\n",
       "      <td>16225668</td>\n",
       "      <td>MI:0059 - gst pull down</td>\n",
       "      <td>MADLAECNIKVMCRFRPLNESEVNRGDKYIAKFQGEDTVVIASKPY...</td>\n",
       "      <td>MANVPWAEVCEKFQAALALSRVELHKNPEKEPYKSKYSARALLEEV...</td>\n",
       "    </tr>\n",
       "    <tr>\n",
       "      <th>4</th>\n",
       "      <td>Q9NPY3</td>\n",
       "      <td>P02745</td>\n",
       "      <td>11994479</td>\n",
       "      <td>MI:0411- enzyme linked immunosorbent assay</td>\n",
       "      <td>MATSMGLLLLLLLLLTQPGAGTGADTEAVVCVGTACYTAHSGKLSA...</td>\n",
       "      <td>MEGPRGWLVLCVLAISLASMVTEDLCRAPDGKKGEAGRPGRRGRPG...</td>\n",
       "    </tr>\n",
       "    <tr>\n",
       "      <th>...</th>\n",
       "      <td>...</td>\n",
       "      <td>...</td>\n",
       "      <td>...</td>\n",
       "      <td>...</td>\n",
       "      <td>...</td>\n",
       "      <td>...</td>\n",
       "    </tr>\n",
       "    <tr>\n",
       "      <th>1986</th>\n",
       "      <td>P51693</td>\n",
       "      <td>Q8NI70</td>\n",
       "      <td>15383276</td>\n",
       "      <td>MI:0018 - two hybrid</td>\n",
       "      <td>MGPASPAARGLSRRPGQPPLPLLLPLLLLLLRAQPAIGSLAGGSPG...</td>\n",
       "      <td></td>\n",
       "    </tr>\n",
       "    <tr>\n",
       "      <th>1987</th>\n",
       "      <td>P62879</td>\n",
       "      <td>Q8TBX8</td>\n",
       "      <td>18255255</td>\n",
       "      <td>MI:0019 - coimmunoprecipitation; MI:0096</td>\n",
       "      <td>MSELEQLRQEAEQLRNQIRDARKACGDSTLTQITAGLDPVGRIQMR...</td>\n",
       "      <td>MASSSVPPATVSAATAGPGPGFGFASKTKKKHFVQQKVKVFRAADP...</td>\n",
       "    </tr>\n",
       "    <tr>\n",
       "      <th>1988</th>\n",
       "      <td>P42285</td>\n",
       "      <td>Q9NQT4</td>\n",
       "      <td>15231747</td>\n",
       "      <td>MI:0018 - two hybrid</td>\n",
       "      <td>NaN</td>\n",
       "      <td>MEEETHTDAKIRAENGTGSSPRGPGCSLRHFACEQNLLSRPDGSAS...</td>\n",
       "    </tr>\n",
       "    <tr>\n",
       "      <th>1989</th>\n",
       "      <td>P62821</td>\n",
       "      <td>Q91V27</td>\n",
       "      <td>11856727</td>\n",
       "      <td>MI:0007 - anti tag coimmunoprecipitation</td>\n",
       "      <td>MSSMNPEYDYLFKLLLIGDSGVGKSCLLLRFADDTYTESYISTIGV...</td>\n",
       "      <td>MGKRLDLSTLTDEEAEHVWAVVQRDFDLRRREEERLQGLKGKIQKE...</td>\n",
       "    </tr>\n",
       "    <tr>\n",
       "      <th>1990</th>\n",
       "      <td>Q16828</td>\n",
       "      <td>Q9NQX6</td>\n",
       "      <td>18255255</td>\n",
       "      <td>MI:0019 - coimmunoprecipitation; MI:0096</td>\n",
       "      <td>MIDTLRPVPFASEMAISKTVAWLNEQLELGNERLLLMDCRPQELYE...</td>\n",
       "      <td>MAQGLVTFADVAIDFSQEEWACLNSAQRDLYWDVMLENYSNLVSLD...</td>\n",
       "    </tr>\n",
       "  </tbody>\n",
       "</table>\n",
       "<p>1991 rows × 6 columns</p>\n",
       "</div>"
      ],
      "text/plain": [
       "        PRO1    PRO2        ID                                    MI Score  \\\n",
       "0     Q6ZNK6  Q9Y4K3  15047173             MI:0019 - coimmunoprecipitation   \n",
       "1     Q9NR31  Q15797  17356069             MI:0019 - coimmunoprecipitation   \n",
       "2     P11627  P53986  20155396  MI:0411- enzyme linked immunosorbent assay   \n",
       "3     P33176  Q96EK5  16225668                     MI:0059 - gst pull down   \n",
       "4     Q9NPY3  P02745  11994479  MI:0411- enzyme linked immunosorbent assay   \n",
       "...      ...     ...       ...                                         ...   \n",
       "1986  P51693  Q8NI70  15383276                        MI:0018 - two hybrid   \n",
       "1987  P62879  Q8TBX8  18255255    MI:0019 - coimmunoprecipitation; MI:0096   \n",
       "1988  P42285  Q9NQT4  15231747                        MI:0018 - two hybrid   \n",
       "1989  P62821  Q91V27  11856727    MI:0007 - anti tag coimmunoprecipitation   \n",
       "1990  Q16828  Q9NQX6  18255255    MI:0019 - coimmunoprecipitation; MI:0096   \n",
       "\n",
       "                                     Protein_A_sequence  \\\n",
       "0     MEKPLTVLRVSLYHPTLGPSAFANVPPRLQHDTSPLLLGRGQDAHL...   \n",
       "1     MSFIFEWIYNGFSSVLQFLGLYKKSGKLVFLGLDNAGKTTLLHMLK...   \n",
       "2                                                   NaN   \n",
       "3     MADLAECNIKVMCRFRPLNESEVNRGDKYIAKFQGEDTVVIASKPY...   \n",
       "4     MATSMGLLLLLLLLLTQPGAGTGADTEAVVCVGTACYTAHSGKLSA...   \n",
       "...                                                 ...   \n",
       "1986  MGPASPAARGLSRRPGQPPLPLLLPLLLLLLRAQPAIGSLAGGSPG...   \n",
       "1987  MSELEQLRQEAEQLRNQIRDARKACGDSTLTQITAGLDPVGRIQMR...   \n",
       "1988                                                NaN   \n",
       "1989  MSSMNPEYDYLFKLLLIGDSGVGKSCLLLRFADDTYTESYISTIGV...   \n",
       "1990  MIDTLRPVPFASEMAISKTVAWLNEQLELGNERLLLMDCRPQELYE...   \n",
       "\n",
       "                                     Protein_B_sequence  \n",
       "0     MSLLNCENSCGSSQSESDCCVAMASSCSAVTKDDSVGGTASTGNLS...  \n",
       "1     MNVTSLFSFTSPAVKRLLGWKQGDEEEKWAEKAVDALVKKLKKKKG...  \n",
       "2     MPPAIGGPVGYTPPDGGWGWAVLVGAFISIGFSYAFPKSITVFFKE...  \n",
       "3     MANVPWAEVCEKFQAALALSRVELHKNPEKEPYKSKYSARALLEEV...  \n",
       "4     MEGPRGWLVLCVLAISLASMVTEDLCRAPDGKKGEAGRPGRRGRPG...  \n",
       "...                                                 ...  \n",
       "1986                                                     \n",
       "1987  MASSSVPPATVSAATAGPGPGFGFASKTKKKHFVQQKVKVFRAADP...  \n",
       "1988  MEEETHTDAKIRAENGTGSSPRGPGCSLRHFACEQNLLSRPDGSAS...  \n",
       "1989  MGKRLDLSTLTDEEAEHVWAVVQRDFDLRRREEERLQGLKGKIQKE...  \n",
       "1990  MAQGLVTFADVAIDFSQEEWACLNSAQRDLYWDVMLENYSNLVSLD...  \n",
       "\n",
       "[1991 rows x 6 columns]"
      ]
     },
     "execution_count": 35,
     "metadata": {},
     "output_type": "execute_result"
    }
   ],
   "source": [
    "data"
   ]
  },
  {
   "cell_type": "code",
   "execution_count": 36,
   "id": "ffe69689",
   "metadata": {},
   "outputs": [],
   "source": [
    "data.dropna(inplace = True)\n"
   ]
  },
  {
   "cell_type": "code",
   "execution_count": 37,
   "id": "33138d3c",
   "metadata": {},
   "outputs": [],
   "source": [
    "data_1 = data[['PRO1','PRO2','Protein_A_sequence','Protein_B_sequence']]\n",
    "data_1.to_csv(\"../../csv_files_new_ppi/negatome_pairs.csv\",index=False)\n"
   ]
  },
  {
   "cell_type": "code",
   "execution_count": 39,
   "id": "179a55f7",
   "metadata": {},
   "outputs": [
    {
     "data": {
      "text/plain": [
       "PRO1                                                             P51693\n",
       "PRO2                                                             Q8NI70\n",
       "Protein_A_sequence    MGPASPAARGLSRRPGQPPLPLLLPLLLLLLRAQPAIGSLAGGSPG...\n",
       "Protein_B_sequence                                                     \n",
       "Name: 1986, dtype: object"
      ]
     },
     "execution_count": 39,
     "metadata": {},
     "output_type": "execute_result"
    }
   ],
   "source": [
    "data_1.iloc[1637]"
   ]
  },
  {
   "cell_type": "code",
   "execution_count": 40,
   "id": "abf062ed",
   "metadata": {},
   "outputs": [
    {
     "data": {
      "text/plain": [
       "''"
      ]
     },
     "execution_count": 40,
     "metadata": {},
     "output_type": "execute_result"
    }
   ],
   "source": [
    "dct_pro_to_seq['Q8NI70']"
   ]
  },
  {
   "cell_type": "code",
   "execution_count": null,
   "id": "df76635a",
   "metadata": {},
   "outputs": [],
   "source": []
  }
 ],
 "metadata": {
  "kernelspec": {
   "display_name": "Python 3 (ipykernel)",
   "language": "python",
   "name": "python3"
  },
  "language_info": {
   "codemirror_mode": {
    "name": "ipython",
    "version": 3
   },
   "file_extension": ".py",
   "mimetype": "text/x-python",
   "name": "python",
   "nbconvert_exporter": "python",
   "pygments_lexer": "ipython3",
   "version": "3.9.12"
  }
 },
 "nbformat": 4,
 "nbformat_minor": 5
}

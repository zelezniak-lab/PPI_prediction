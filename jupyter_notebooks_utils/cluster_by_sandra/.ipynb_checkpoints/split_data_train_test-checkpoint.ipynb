{
 "cells": [
  {
   "cell_type": "code",
   "execution_count": 1,
   "id": "5bc3f4ee-c11b-4ac1-a9a0-ceae7f5f8e75",
   "metadata": {},
   "outputs": [],
   "source": [
    "from Bio import SeqIO\n",
    "import pandas as pd"
   ]
  },
  {
   "cell_type": "markdown",
   "id": "42d6d844-77a0-4623-b019-11c8045475e4",
   "metadata": {},
   "source": [
    "# Cluster data\n",
    "First step in making a independent test set is to cluster all sequences at a low identity like 30% or smaler.\n",
    "This will ensure that you minimize the data leakage between your training data set and your test data set.\n",
    "\n",
    "The identity value of 30% comes from the field of structural prediction.\n",
    "https://tbiomed.biomedcentral.com/articles/10.1186/s12976-015-0014-1\n",
    "https://bmcbioinformatics.biomedcentral.com/articles/10.1186/s12859-019-2932-0"
   ]
  },
  {
   "cell_type": "code",
   "execution_count": null,
   "id": "f4d7ffd2-ebe9-40d9-953a-dfc77fd61152",
   "metadata": {},
   "outputs": [],
   "source": [
    "## cluster data\n",
    "! mmseqs easy-cluster non_redundant_v2.fasta clu_30 tmp --min-seq-id 0.3 -c 0.8 --cov-mode 1"
   ]
  },
  {
   "cell_type": "markdown",
   "id": "d0b932e8-5a7c-43a1-b3cc-641bd81a9a55",
   "metadata": {},
   "source": [
    "# Pick n largest clusters\n",
    "\n",
    "Depending on the size you can choose n to minimize the loss of data while still be a good representation of your data set."
   ]
  },
  {
   "cell_type": "code",
   "execution_count": 46,
   "id": "cbb2c7bf-a742-4fa5-9710-7ba29709972c",
   "metadata": {},
   "outputs": [],
   "source": [
    "#create test set out of top 10 clusters\n",
    "\n",
    "! cat clu_30_cluster.tsv | cut -f 1 | uniq -c | sort -n | tail -n 10 | awk ' { t = $1; $1 = $2; $2 = t; print; } ' | cut -f 1 -d \" \" > test_clusters.tsv\n"
   ]
  },
  {
   "cell_type": "code",
   "execution_count": 47,
   "id": "da2fde85-4d2a-490e-b7f3-fc156e7fd896",
   "metadata": {
    "tags": []
   },
   "outputs": [],
   "source": [
    "# Create test sequences\n",
    "! for CLU in `cat test_clusters.tsv`; do grep ${CLU} clu_30_cluster.tsv ; done > test_sequences.tsv"
   ]
  },
  {
   "cell_type": "markdown",
   "id": "c5dcd668-43d0-492d-8c11-68d40602f6e3",
   "metadata": {},
   "source": [
    "# Extract test sequences\n",
    "\n",
    "All sequences in the clusters selected for test set should be extracted from the training data set."
   ]
  },
  {
   "cell_type": "code",
   "execution_count": 48,
   "id": "62b1a9a5-39bd-4f87-82af-1c2e9f13c8fb",
   "metadata": {},
   "outputs": [
    {
     "data": {
      "text/html": [
       "<div>\n",
       "<style scoped>\n",
       "    .dataframe tbody tr th:only-of-type {\n",
       "        vertical-align: middle;\n",
       "    }\n",
       "\n",
       "    .dataframe tbody tr th {\n",
       "        vertical-align: top;\n",
       "    }\n",
       "\n",
       "    .dataframe thead th {\n",
       "        text-align: right;\n",
       "    }\n",
       "</style>\n",
       "<table border=\"1\" class=\"dataframe\">\n",
       "  <thead>\n",
       "    <tr style=\"text-align: right;\">\n",
       "      <th></th>\n",
       "      <th>cluster</th>\n",
       "      <th>sequence</th>\n",
       "    </tr>\n",
       "  </thead>\n",
       "  <tbody>\n",
       "    <tr>\n",
       "      <th>0</th>\n",
       "      <td>E6SHI4</td>\n",
       "      <td>E6SHI4</td>\n",
       "    </tr>\n",
       "    <tr>\n",
       "      <th>1</th>\n",
       "      <td>E6SHI4</td>\n",
       "      <td>K6PR81</td>\n",
       "    </tr>\n",
       "    <tr>\n",
       "      <th>2</th>\n",
       "      <td>E6SHI4</td>\n",
       "      <td>A0A1C3SFZ0</td>\n",
       "    </tr>\n",
       "    <tr>\n",
       "      <th>3</th>\n",
       "      <td>E6SHI4</td>\n",
       "      <td>A0A0V8JF87</td>\n",
       "    </tr>\n",
       "    <tr>\n",
       "      <th>4</th>\n",
       "      <td>E6SHI4</td>\n",
       "      <td>M5P5R4</td>\n",
       "    </tr>\n",
       "  </tbody>\n",
       "</table>\n",
       "</div>"
      ],
      "text/plain": [
       "  cluster    sequence\n",
       "0  E6SHI4      E6SHI4\n",
       "1  E6SHI4      K6PR81\n",
       "2  E6SHI4  A0A1C3SFZ0\n",
       "3  E6SHI4  A0A0V8JF87\n",
       "4  E6SHI4      M5P5R4"
      ]
     },
     "execution_count": 48,
     "metadata": {},
     "output_type": "execute_result"
    }
   ],
   "source": [
    "## Read test_tsv\n",
    "\n",
    "df = pd.read_csv(\"test_sequences.tsv\", sep = \"\\t\", names=[\"cluster\", \"sequence\"])\n",
    "df.head()"
   ]
  },
  {
   "cell_type": "code",
   "execution_count": 49,
   "id": "48f50e12-eacb-4970-bf20-5d648ea26dee",
   "metadata": {},
   "outputs": [],
   "source": [
    "ids = list(df[\"sequence\"])\n",
    "file = \"non_redundant_v2.fasta\"\n",
    "dict_seq = {\"ID\": [], \"Seq\": [], \"Temp\": []}\n",
    "for rec in SeqIO.parse(file, \"fasta\"):\n",
    "    dict_seq[\"ID\"].append(rec.id)\n",
    "    dict_seq[\"Seq\"].append(str(rec.seq))\n",
    "    dict_seq[\"Temp\"].append(float(rec.description.split()[-1]))\n",
    "    \n",
    "df_seq = pd.DataFrame(dict_seq)\n",
    "\n",
    "df_test=pd.merge(df, df_seq, how='left', left_on=['sequence'], right_on=['ID'])\n",
    "df_train=pd.merge(df_seq, df_test, how='outer', indicator=True, left_on=['ID'], right_on=['ID']).query('_merge==\"left_only\"').drop('_merge', axis=1)    "
   ]
  },
  {
   "cell_type": "code",
   "execution_count": 50,
   "id": "a8e082cd-756c-4a0f-b215-df6b620f14a7",
   "metadata": {},
   "outputs": [],
   "source": [
    "## write train and test fasta\n",
    "\n",
    "### Write train\n",
    "with open(\"train.fasta\", \"w\") as file_writer:\n",
    "    for row in df_train.iterrows():\n",
    "\n",
    "        file_writer.write(f\">{row[1]['ID']} {row[1]['Temp_x']}\\n{row[1]['Seq_x']}\\n\")\n",
    "        \n",
    "### Write train\n",
    "with open(\"test.fasta\", \"w\") as file_writer:\n",
    "    for row in df_test.iterrows():\n",
    "        file_writer.write(f\">{row[1]['ID']} {row[1]['Temp']}\\n{row[1]['Seq']}\\n\")\n",
    "        \n"
   ]
  },
  {
   "cell_type": "code",
   "execution_count": 39,
   "id": "7d8846b6-f8c0-4fa2-98ea-89785356486c",
   "metadata": {},
   "outputs": [
    {
     "data": {
      "text/plain": [
       "2719862"
      ]
     },
     "execution_count": 39,
     "metadata": {},
     "output_type": "execute_result"
    }
   ],
   "source": []
  },
  {
   "cell_type": "code",
   "execution_count": null,
   "id": "14b42687-61f6-4270-860d-54a3af43a404",
   "metadata": {},
   "outputs": [],
   "source": []
  }
 ],
 "metadata": {
  "kernelspec": {
   "display_name": "Python 3 (ipykernel)",
   "language": "python",
   "name": "python3"
  },
  "language_info": {
   "codemirror_mode": {
    "name": "ipython",
    "version": 3
   },
   "file_extension": ".py",
   "mimetype": "text/x-python",
   "name": "python",
   "nbconvert_exporter": "python",
   "pygments_lexer": "ipython3",
   "version": "3.9.12"
  }
 },
 "nbformat": 4,
 "nbformat_minor": 5
}

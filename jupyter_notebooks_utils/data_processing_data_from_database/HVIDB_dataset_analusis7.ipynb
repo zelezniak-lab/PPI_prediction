{
 "cells": [
  {
   "cell_type": "code",
   "execution_count": 24,
   "id": "342cc869",
   "metadata": {},
   "outputs": [],
   "source": [
    "import pandas as pd\n",
    "import numpy as np"
   ]
  },
  {
   "cell_type": "code",
   "execution_count": 12,
   "id": "ac684acc",
   "metadata": {},
   "outputs": [],
   "source": [
    "data = pd.read_csv(\"/home/anwer/Desktop/PPI_prediction/databases/HVIDB_PPIs.txt\", sep=\"\\t\")"
   ]
  },
  {
   "cell_type": "code",
   "execution_count": 18,
   "id": "1e7d7ca6",
   "metadata": {},
   "outputs": [
    {
     "data": {
      "text/html": [
       "<div>\n",
       "<style scoped>\n",
       "    .dataframe tbody tr th:only-of-type {\n",
       "        vertical-align: middle;\n",
       "    }\n",
       "\n",
       "    .dataframe tbody tr th {\n",
       "        vertical-align: top;\n",
       "    }\n",
       "\n",
       "    .dataframe thead th {\n",
       "        text-align: right;\n",
       "    }\n",
       "</style>\n",
       "<table border=\"1\" class=\"dataframe\">\n",
       "  <thead>\n",
       "    <tr style=\"text-align: right;\">\n",
       "      <th></th>\n",
       "      <th>Uniprot_human</th>\n",
       "      <th>Uniprot_virus</th>\n",
       "      <th>EntryName_human</th>\n",
       "      <th>EntryName_virus</th>\n",
       "      <th>Organism_human</th>\n",
       "      <th>Organism_virus</th>\n",
       "      <th>Organism_Interactor_human</th>\n",
       "      <th>Organism_Interactor_virus</th>\n",
       "      <th>Experimental_System</th>\n",
       "      <th>Pubmed_ID</th>\n",
       "      <th>...</th>\n",
       "      <th>Short</th>\n",
       "      <th>HDF</th>\n",
       "      <th>HRF</th>\n",
       "      <th>Viral_family</th>\n",
       "      <th>Human_GeneName</th>\n",
       "      <th>Human_ProteinName</th>\n",
       "      <th>Human_GeneID</th>\n",
       "      <th>Virus_GeneName</th>\n",
       "      <th>Virus_ProteinName</th>\n",
       "      <th>Virus_GeneID</th>\n",
       "    </tr>\n",
       "  </thead>\n",
       "  <tbody>\n",
       "    <tr>\n",
       "      <th>0</th>\n",
       "      <td>P62277</td>\n",
       "      <td>Q1HVI8</td>\n",
       "      <td>RS13_HUMAN</td>\n",
       "      <td>EBNA5_EBVA8</td>\n",
       "      <td>Homo sapiens (Human)</td>\n",
       "      <td>Epstein-Barr virus (strain AG876) (HHV-4) (Hum...</td>\n",
       "      <td>9606</td>\n",
       "      <td>82830</td>\n",
       "      <td>two hybrid</td>\n",
       "      <td>22761553</td>\n",
       "      <td>...</td>\n",
       "      <td>HHV-4</td>\n",
       "      <td>no</td>\n",
       "      <td>no</td>\n",
       "      <td>Herpesviridae</td>\n",
       "      <td>RPS13</td>\n",
       "      <td>40S ribosomal protein S13</td>\n",
       "      <td>6207</td>\n",
       "      <td>EBNA-LP;EBNA5</td>\n",
       "      <td>Epstein-Barr nuclear antigen leader protein</td>\n",
       "      <td>5176191</td>\n",
       "    </tr>\n",
       "    <tr>\n",
       "      <th>1</th>\n",
       "      <td>Q8NFH4</td>\n",
       "      <td>P05954</td>\n",
       "      <td>NUP37_HUMAN</td>\n",
       "      <td>VPR_HV1RH</td>\n",
       "      <td>Homo sapiens (Human)</td>\n",
       "      <td>Human immunodeficiency virus type 1 group M su...</td>\n",
       "      <td>9606</td>\n",
       "      <td>11701</td>\n",
       "      <td>Reactome Curated</td>\n",
       "      <td>21067998</td>\n",
       "      <td>...</td>\n",
       "      <td>HIV-1</td>\n",
       "      <td>no</td>\n",
       "      <td>no</td>\n",
       "      <td>Retroviridae</td>\n",
       "      <td>NUP37</td>\n",
       "      <td>Nucleoporin Nup37</td>\n",
       "      <td>79023</td>\n",
       "      <td>vpr</td>\n",
       "      <td>Protein Vpr</td>\n",
       "      <td>NaN</td>\n",
       "    </tr>\n",
       "    <tr>\n",
       "      <th>2</th>\n",
       "      <td>Q9UI26</td>\n",
       "      <td>Q2HRD4</td>\n",
       "      <td>IPO11_HUMAN</td>\n",
       "      <td>ORF4_HHV8P</td>\n",
       "      <td>Homo sapiens (Human)</td>\n",
       "      <td>Human herpesvirus 8 type P (isolate GK18) (HHV...</td>\n",
       "      <td>9606</td>\n",
       "      <td>868565</td>\n",
       "      <td>affinity chromatography technology</td>\n",
       "      <td>25544563</td>\n",
       "      <td>...</td>\n",
       "      <td>HHV-8P</td>\n",
       "      <td>no</td>\n",
       "      <td>no</td>\n",
       "      <td>Herpesviridae</td>\n",
       "      <td>IPO11;RANBP11</td>\n",
       "      <td>Importin-11</td>\n",
       "      <td>51194</td>\n",
       "      <td>ORF4</td>\n",
       "      <td>Complement control protein</td>\n",
       "      <td>4961488</td>\n",
       "    </tr>\n",
       "    <tr>\n",
       "      <th>3</th>\n",
       "      <td>Q8TAE8</td>\n",
       "      <td>I6TAH8</td>\n",
       "      <td>G45IP_HUMAN</td>\n",
       "      <td>I6TAH8_I68A0</td>\n",
       "      <td>Homo sapiens (Human)</td>\n",
       "      <td>Influenza A virus (strain A/Aichi/2/1968 H3N2)</td>\n",
       "      <td>9606</td>\n",
       "      <td>387139</td>\n",
       "      <td>anti tag coimmunoprecipitation</td>\n",
       "      <td>28169297</td>\n",
       "      <td>...</td>\n",
       "      <td>H3N2</td>\n",
       "      <td>no</td>\n",
       "      <td>no</td>\n",
       "      <td>Orthomyxoviridae</td>\n",
       "      <td>GADD45GIP1;MRPL59;PLINP1;PRG6</td>\n",
       "      <td>Growth arrest and DNA damage-inducible protein...</td>\n",
       "      <td>90480</td>\n",
       "      <td>NP</td>\n",
       "      <td>Nucleoprotein</td>\n",
       "      <td>NaN</td>\n",
       "    </tr>\n",
       "    <tr>\n",
       "      <th>4</th>\n",
       "      <td>Q7Z3B4</td>\n",
       "      <td>P35962</td>\n",
       "      <td>NUP54_HUMAN</td>\n",
       "      <td>GAG_HV1Y2</td>\n",
       "      <td>Homo sapiens (Human)</td>\n",
       "      <td>Human immunodeficiency virus type 1 group M su...</td>\n",
       "      <td>9606</td>\n",
       "      <td>362651</td>\n",
       "      <td>Reactome Curated</td>\n",
       "      <td>21067998</td>\n",
       "      <td>...</td>\n",
       "      <td>HIV-1</td>\n",
       "      <td>no</td>\n",
       "      <td>no</td>\n",
       "      <td>Retroviridae</td>\n",
       "      <td>NUP54</td>\n",
       "      <td>Nucleoporin p54</td>\n",
       "      <td>53371</td>\n",
       "      <td>gag</td>\n",
       "      <td>Gag polyprotein</td>\n",
       "      <td>NaN</td>\n",
       "    </tr>\n",
       "  </tbody>\n",
       "</table>\n",
       "<p>5 rows × 23 columns</p>\n",
       "</div>"
      ],
      "text/plain": [
       "  Uniprot_human Uniprot_virus EntryName_human EntryName_virus  \\\n",
       "0        P62277        Q1HVI8      RS13_HUMAN     EBNA5_EBVA8   \n",
       "1        Q8NFH4        P05954     NUP37_HUMAN       VPR_HV1RH   \n",
       "2        Q9UI26        Q2HRD4     IPO11_HUMAN      ORF4_HHV8P   \n",
       "3        Q8TAE8        I6TAH8     G45IP_HUMAN    I6TAH8_I68A0   \n",
       "4        Q7Z3B4        P35962     NUP54_HUMAN       GAG_HV1Y2   \n",
       "\n",
       "         Organism_human                                     Organism_virus  \\\n",
       "0  Homo sapiens (Human)  Epstein-Barr virus (strain AG876) (HHV-4) (Hum...   \n",
       "1  Homo sapiens (Human)  Human immunodeficiency virus type 1 group M su...   \n",
       "2  Homo sapiens (Human)  Human herpesvirus 8 type P (isolate GK18) (HHV...   \n",
       "3  Homo sapiens (Human)     Influenza A virus (strain A/Aichi/2/1968 H3N2)   \n",
       "4  Homo sapiens (Human)  Human immunodeficiency virus type 1 group M su...   \n",
       "\n",
       "   Organism_Interactor_human Organism_Interactor_virus  \\\n",
       "0                       9606                     82830   \n",
       "1                       9606                     11701   \n",
       "2                       9606                    868565   \n",
       "3                       9606                    387139   \n",
       "4                       9606                    362651   \n",
       "\n",
       "                  Experimental_System Pubmed_ID  ...   Short HDF HRF  \\\n",
       "0                          two hybrid  22761553  ...   HHV-4  no  no   \n",
       "1                    Reactome Curated  21067998  ...   HIV-1  no  no   \n",
       "2  affinity chromatography technology  25544563  ...  HHV-8P  no  no   \n",
       "3      anti tag coimmunoprecipitation  28169297  ...    H3N2  no  no   \n",
       "4                    Reactome Curated  21067998  ...   HIV-1  no  no   \n",
       "\n",
       "       Viral_family                 Human_GeneName  \\\n",
       "0     Herpesviridae                          RPS13   \n",
       "1      Retroviridae                          NUP37   \n",
       "2     Herpesviridae                  IPO11;RANBP11   \n",
       "3  Orthomyxoviridae  GADD45GIP1;MRPL59;PLINP1;PRG6   \n",
       "4      Retroviridae                          NUP54   \n",
       "\n",
       "                                   Human_ProteinName Human_GeneID  \\\n",
       "0                          40S ribosomal protein S13         6207   \n",
       "1                                  Nucleoporin Nup37        79023   \n",
       "2                                        Importin-11        51194   \n",
       "3  Growth arrest and DNA damage-inducible protein...        90480   \n",
       "4                                    Nucleoporin p54        53371   \n",
       "\n",
       "  Virus_GeneName                            Virus_ProteinName Virus_GeneID  \n",
       "0  EBNA-LP;EBNA5  Epstein-Barr nuclear antigen leader protein      5176191  \n",
       "1            vpr                                  Protein Vpr          NaN  \n",
       "2           ORF4                   Complement control protein      4961488  \n",
       "3             NP                                Nucleoprotein          NaN  \n",
       "4            gag                              Gag polyprotein          NaN  \n",
       "\n",
       "[5 rows x 23 columns]"
      ]
     },
     "execution_count": 18,
     "metadata": {},
     "output_type": "execute_result"
    }
   ],
   "source": [
    "data.head(5)"
   ]
  },
  {
   "cell_type": "code",
   "execution_count": 26,
   "id": "1301a9f6",
   "metadata": {},
   "outputs": [],
   "source": [
    "array1 = np.append(data['Uniprot_human'].unique(),(data['Uniprot_virus'].unique()))"
   ]
  },
  {
   "cell_type": "code",
   "execution_count": 35,
   "id": "ba5928da",
   "metadata": {},
   "outputs": [
    {
     "data": {
      "text/plain": [
       "9900"
      ]
     },
     "execution_count": 35,
     "metadata": {},
     "output_type": "execute_result"
    }
   ],
   "source": [
    "len(set(array1))"
   ]
  },
  {
   "cell_type": "code",
   "execution_count": 30,
   "id": "e5f77663",
   "metadata": {},
   "outputs": [
    {
     "data": {
      "text/plain": [
       "7796"
      ]
     },
     "execution_count": 30,
     "metadata": {},
     "output_type": "execute_result"
    }
   ],
   "source": [
    "len(data['Uniprot_human'].unique())"
   ]
  },
  {
   "cell_type": "code",
   "execution_count": 37,
   "id": "c8c15d2b",
   "metadata": {},
   "outputs": [
    {
     "data": {
      "text/plain": [
       "48643"
      ]
     },
     "execution_count": 37,
     "metadata": {},
     "output_type": "execute_result"
    }
   ],
   "source": [
    "len(data['Uniprot_human'])"
   ]
  },
  {
   "cell_type": "code",
   "execution_count": null,
   "id": "d05af0dd",
   "metadata": {},
   "outputs": [],
   "source": []
  }
 ],
 "metadata": {
  "kernelspec": {
   "display_name": "Python 3 (ipykernel)",
   "language": "python",
   "name": "python3"
  },
  "language_info": {
   "codemirror_mode": {
    "name": "ipython",
    "version": 3
   },
   "file_extension": ".py",
   "mimetype": "text/x-python",
   "name": "python",
   "nbconvert_exporter": "python",
   "pygments_lexer": "ipython3",
   "version": "3.9.12"
  }
 },
 "nbformat": 4,
 "nbformat_minor": 5
}

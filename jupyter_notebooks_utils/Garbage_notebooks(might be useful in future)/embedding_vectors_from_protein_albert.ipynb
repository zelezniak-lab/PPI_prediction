{
 "cells": [
  {
   "cell_type": "code",
   "execution_count": 1,
   "metadata": {},
   "outputs": [],
   "source": [
    "import torch\n",
    "from transformers import AlbertModel, AlbertTokenizer\n",
    "import re\n",
    "import os\n",
    "import requests\n",
    "from tqdm.auto import tqdm"
   ]
  },
  {
   "cell_type": "code",
   "execution_count": 2,
   "metadata": {},
   "outputs": [],
   "source": [
    "\n",
    "tokenizer = AlbertTokenizer.from_pretrained(\"Rostlab/prot_albert\", do_lower_case=False)"
   ]
  },
  {
   "cell_type": "code",
   "execution_count": 3,
   "metadata": {},
   "outputs": [
    {
     "name": "stderr",
     "output_type": "stream",
     "text": [
      "Some weights of the model checkpoint at Rostlab/prot_albert were not used when initializing AlbertModel: ['sop_classifier.classifier.bias', 'predictions.bias', 'predictions.dense.bias', 'predictions.LayerNorm.weight', 'predictions.LayerNorm.bias', 'predictions.decoder.weight', 'sop_classifier.classifier.weight', 'predictions.decoder.bias', 'predictions.dense.weight']\n",
      "- This IS expected if you are initializing AlbertModel from the checkpoint of a model trained on another task or with another architecture (e.g. initializing a BertForSequenceClassification model from a BertForPreTraining model).\n",
      "- This IS NOT expected if you are initializing AlbertModel from the checkpoint of a model that you expect to be exactly identical (initializing a BertForSequenceClassification model from a BertForSequenceClassification model).\n"
     ]
    }
   ],
   "source": [
    "model = AlbertModel.from_pretrained(\"Rostlab/prot_albert\")"
   ]
  },
  {
   "cell_type": "code",
   "execution_count": 4,
   "metadata": {},
   "outputs": [],
   "source": [
    "device = torch.device('cuda:0' if torch.cuda.is_available() else 'cpu')\n",
    "model = model.to(device)\n",
    "model = model.eval()"
   ]
  },
  {
   "cell_type": "code",
   "execution_count": 5,
   "metadata": {},
   "outputs": [],
   "source": [
    "sequences_Example = [\"A E T C Z A O\",\"S K T Z P\"]"
   ]
  },
  {
   "cell_type": "code",
   "execution_count": 6,
   "metadata": {},
   "outputs": [],
   "source": [
    "sequences_Example = [re.sub(r\"[UZOB]\", \"X\", sequence) for sequence in sequences_Example]"
   ]
  },
  {
   "cell_type": "code",
   "execution_count": 7,
   "metadata": {},
   "outputs": [
    {
     "name": "stderr",
     "output_type": "stream",
     "text": [
      "/cephyr/users/anwer/Alvis/.local/lib/python3.8/site-packages/transformers/tokenization_utils_base.py:2323: FutureWarning: The `pad_to_max_length` argument is deprecated and will be removed in a future version, use `padding=True` or `padding='longest'` to pad to the longest sequence in the batch, or use `padding='max_length'` to pad to a max length. In this case, you can give a specific length with `max_length` (e.g. `max_length=45`) or leave max_length to None to pad to the maximal input size of the model (e.g. 512 for Bert).\n",
      "  warnings.warn(\n"
     ]
    }
   ],
   "source": [
    "ids = tokenizer.batch_encode_plus(sequences_Example, add_special_tokens=True, pad_to_max_length=True)"
   ]
  },
  {
   "cell_type": "code",
   "execution_count": 8,
   "metadata": {},
   "outputs": [],
   "source": [
    "input_ids = torch.tensor(ids['input_ids']).to(device)\n",
    "attention_mask = torch.tensor(ids['attention_mask']).to(device)"
   ]
  },
  {
   "cell_type": "code",
   "execution_count": 9,
   "metadata": {},
   "outputs": [],
   "source": [
    "\n",
    "with torch.no_grad():\n",
    "    embedding = model(input_ids=input_ids,attention_mask=attention_mask)[0]"
   ]
  },
  {
   "cell_type": "code",
   "execution_count": 25,
   "metadata": {},
   "outputs": [],
   "source": [
    "\n",
    "features = [] \n",
    "for seq_num in range(len(embedding)):\n",
    "    seq_len = (attention_mask[seq_num] == 1).sum()\n",
    "    seq_emd = embedding[seq_num][1:seq_len-1]\n",
    "    features.append(seq_emd)"
   ]
  },
  {
   "cell_type": "code",
   "execution_count": 26,
   "metadata": {},
   "outputs": [
    {
     "data": {
      "text/plain": [
       "[array([[ 0.04881065,  0.0173279 , -0.06056878, ...,  0.03967572,\n",
       "          0.06766801, -0.02328246],\n",
       "        [ 0.04336544,  0.02077006, -0.0606331 , ...,  0.01556444,\n",
       "          0.0737777 , -0.03080053],\n",
       "        [ 0.04282778,  0.0218733 , -0.06006568, ...,  0.01582877,\n",
       "          0.07274354, -0.03015471],\n",
       "        ...,\n",
       "        [ 0.04327178,  0.0184369 , -0.06224973, ...,  0.01926246,\n",
       "          0.0711671 , -0.02991483],\n",
       "        [ 0.03798865,  0.04147185, -0.01904989, ...,  0.02265862,\n",
       "          0.0638179 , -0.04559465],\n",
       "        [ 0.04313156,  0.02955717, -0.06327148, ...,  0.00930989,\n",
       "          0.0831347 , -0.02575161]], dtype=float32),\n",
       " array([[-0.03264696,  0.01471225, -0.02923778, ..., -0.11908071,\n",
       "         -0.11510337,  0.07991273],\n",
       "        [-0.04346962,  0.02021889, -0.02541854, ..., -0.12042315,\n",
       "         -0.10899493,  0.09714412],\n",
       "        [-0.04365508,  0.0226448 , -0.02413503, ..., -0.12346406,\n",
       "         -0.10826724,  0.10378322],\n",
       "        [-0.04474265,  0.02288034, -0.02274427, ..., -0.12170675,\n",
       "         -0.10816703,  0.09890909],\n",
       "        [-0.0452038 ,  0.02370102, -0.02436163, ..., -0.12383203,\n",
       "         -0.10606906,  0.11345205]], dtype=float32)]"
      ]
     },
     "execution_count": 26,
     "metadata": {},
     "output_type": "execute_result"
    }
   ],
   "source": [
    "features"
   ]
  },
  {
   "cell_type": "code",
   "execution_count": 29,
   "metadata": {},
   "outputs": [],
   "source": [
    "# embedding = embedding.cpu().numpy()\n",
    "features_1 = [] \n",
    "for seq_num in range(len(embedding)):\n",
    "    seq_len = (attention_mask[seq_num] == 1).sum()\n",
    "    seq_emd = embedding[seq_num][1:seq_len-1]\n",
    "    features_1.append(seq_emd)"
   ]
  },
  {
   "cell_type": "code",
   "execution_count": 32,
   "metadata": {},
   "outputs": [
    {
     "data": {
      "text/plain": [
       "[array([[ 0.04881065,  0.0173279 , -0.06056878, ...,  0.03967572,\n",
       "          0.06766801, -0.02328246],\n",
       "        [ 0.04336544,  0.02077006, -0.0606331 , ...,  0.01556444,\n",
       "          0.0737777 , -0.03080053],\n",
       "        [ 0.04282778,  0.0218733 , -0.06006568, ...,  0.01582877,\n",
       "          0.07274354, -0.03015471],\n",
       "        ...,\n",
       "        [ 0.04327178,  0.0184369 , -0.06224973, ...,  0.01926246,\n",
       "          0.0711671 , -0.02991483],\n",
       "        [ 0.03798865,  0.04147185, -0.01904989, ...,  0.02265862,\n",
       "          0.0638179 , -0.04559465],\n",
       "        [ 0.04313156,  0.02955717, -0.06327148, ...,  0.00930989,\n",
       "          0.0831347 , -0.02575161]], dtype=float32),\n",
       " array([[-0.03264696,  0.01471225, -0.02923778, ..., -0.11908071,\n",
       "         -0.11510337,  0.07991273],\n",
       "        [-0.04346962,  0.02021889, -0.02541854, ..., -0.12042315,\n",
       "         -0.10899493,  0.09714412],\n",
       "        [-0.04365508,  0.0226448 , -0.02413503, ..., -0.12346406,\n",
       "         -0.10826724,  0.10378322],\n",
       "        [-0.04474265,  0.02288034, -0.02274427, ..., -0.12170675,\n",
       "         -0.10816703,  0.09890909],\n",
       "        [-0.0452038 ,  0.02370102, -0.02436163, ..., -0.12383203,\n",
       "         -0.10606906,  0.11345205]], dtype=float32)]"
      ]
     },
     "execution_count": 32,
     "metadata": {},
     "output_type": "execute_result"
    }
   ],
   "source": [
    "features_1"
   ]
  },
  {
   "cell_type": "code",
   "execution_count": 35,
   "metadata": {},
   "outputs": [
    {
     "ename": "AttributeError",
     "evalue": "'list' object has no attribute 'shape'",
     "output_type": "error",
     "traceback": [
      "\u001b[0;31m---------------------------------------------------------------------------\u001b[0m",
      "\u001b[0;31mAttributeError\u001b[0m                            Traceback (most recent call last)",
      "\u001b[0;32m<ipython-input-35-56f874da4c81>\u001b[0m in \u001b[0;36m<module>\u001b[0;34m\u001b[0m\n\u001b[0;32m----> 1\u001b[0;31m \u001b[0mfeatures_1\u001b[0m\u001b[0;34m.\u001b[0m\u001b[0mshape\u001b[0m\u001b[0;34m\u001b[0m\u001b[0;34m\u001b[0m\u001b[0m\n\u001b[0m",
      "\u001b[0;31mAttributeError\u001b[0m: 'list' object has no attribute 'shape'"
     ]
    }
   ],
   "source": [
    "features_1.shape"
   ]
  },
  {
   "cell_type": "code",
   "execution_count": null,
   "metadata": {},
   "outputs": [],
   "source": []
  }
 ],
 "metadata": {
  "kernelspec": {
   "display_name": "Python 3",
   "language": "python",
   "name": "python3"
  },
  "language_info": {
   "codemirror_mode": {
    "name": "ipython",
    "version": 3
   },
   "file_extension": ".py",
   "mimetype": "text/x-python",
   "name": "python",
   "nbconvert_exporter": "python",
   "pygments_lexer": "ipython3",
   "version": "3.8.6"
  }
 },
 "nbformat": 4,
 "nbformat_minor": 5
}

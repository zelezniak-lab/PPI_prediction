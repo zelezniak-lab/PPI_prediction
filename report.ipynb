{
  "nbformat": 4,
  "nbformat_minor": 0,
  "metadata": {
    "colab": {
      "provenance": []
    },
    "kernelspec": {
      "name": "python3",
      "display_name": "Python 3"
    },
    "language_info": {
      "name": "python"
    }
  },
  "cells": [
    {
      "cell_type": "markdown",
      "source": [
        "## Jupyter notebook index\n",
        "\n",
        "<pre>\n",
        "1. <b>Dataset</b>\n",
        "    1.1 Information about our dataset\n",
        "          -- Script to download data from google drive\n",
        "    1.2 Information about benchmark dataset\n",
        "          -- Script to download data from google drive\n",
        "\n",
        "2. <b>Pickles file</b>\n",
        "      Information about all the pickles files containing embedding vectors and sequences\n",
        "           --- Script to download pickles file\n",
        "\n",
        "3. <b>Model Weights and architectures</b>\n",
        "      Script to download trained model weights and model architecture(another jupyter notebook)\n",
        "           -\n",
        "</pre>"
      ],
      "metadata": {
        "id": "GKmUpUAPc5a6"
      }
    },
    {
      "cell_type": "code",
      "execution_count": 1,
      "metadata": {
        "id": "Uv0g6aBVJiB9"
      },
      "outputs": [],
      "source": [
        "import pandas as pd"
      ]
    },
    {
      "cell_type": "markdown",
      "source": [
        "## 1. Information about Dataset"
      ],
      "metadata": {
        "id": "tcxFIP8nJ5Du"
      }
    },
    {
      "cell_type": "markdown",
      "source": [
        "<pre>\n",
        "<b>Link to get all the required files to repeat the experiment:</b> https://drive.google.com/drive/folders/1bi1_9A5YOUtBRBuO5GRZEaPcsXGbUPOP?usp=share_link\n",
        "\n",
        "<b>Raw dataset from published articles and databases: </b>https://drive.google.com/drive/folders/17d7w3JpKmenS-iN5y_arOOj-OS3FI16t?usp=share_link\n",
        "</pre>\n"
      ],
      "metadata": {
        "id": "qZJJCQf0ZDuf"
      }
    },
    {
      "cell_type": "markdown",
      "source": [
        "## 1.1 Our Dataset\n",
        "\n"
      ],
      "metadata": {
        "id": "YOPAI6EFJ_4e"
      }
    },
    {
      "cell_type": "code",
      "source": [
        "!wget --no-check-certificate 'https://docs.google.com/uc?export=download&id=1wWO-I8cExssypW_HFOu6xaw0UYM4shlG' -O train_set.csv\n",
        "!wget --no-check-certificate 'https://docs.google.com/uc?export=download&id=1VzkSzZaTsM86Yp9gLLRXsWublp5zQdAZ' -O test_set.csv"
      ],
      "metadata": {
        "colab": {
          "base_uri": "https://localhost:8080/"
        },
        "id": "aMGwx7ZXJsGU",
        "outputId": "0bde5c56-36be-44a6-e5e6-037f035288fe"
      },
      "execution_count": 3,
      "outputs": [
        {
          "output_type": "stream",
          "name": "stdout",
          "text": [
            "--2023-01-23 05:45:36--  https://docs.google.com/uc?export=download&id=1wWO-I8cExssypW_HFOu6xaw0UYM4shlG\n",
            "Resolving docs.google.com (docs.google.com)... 142.250.101.100, 142.250.101.101, 142.250.101.138, ...\n",
            "Connecting to docs.google.com (docs.google.com)|142.250.101.100|:443... connected.\n",
            "HTTP request sent, awaiting response... 303 See Other\n",
            "Location: https://doc-14-2s-docs.googleusercontent.com/docs/securesc/ha0ro937gcuc7l7deffksulhg5h7mbp1/honmshh7kbis3f2adaljujrntjueaer0/1674452700000/17049954329865554887/*/1wWO-I8cExssypW_HFOu6xaw0UYM4shlG?e=download&uuid=41c795ec-365f-499f-9934-99c1f3752a7d [following]\n",
            "Warning: wildcards not supported in HTTP.\n",
            "--2023-01-23 05:45:38--  https://doc-14-2s-docs.googleusercontent.com/docs/securesc/ha0ro937gcuc7l7deffksulhg5h7mbp1/honmshh7kbis3f2adaljujrntjueaer0/1674452700000/17049954329865554887/*/1wWO-I8cExssypW_HFOu6xaw0UYM4shlG?e=download&uuid=41c795ec-365f-499f-9934-99c1f3752a7d\n",
            "Resolving doc-14-2s-docs.googleusercontent.com (doc-14-2s-docs.googleusercontent.com)... 142.251.2.132, 2607:f8b0:4023:c0d::84\n",
            "Connecting to doc-14-2s-docs.googleusercontent.com (doc-14-2s-docs.googleusercontent.com)|142.251.2.132|:443... connected.\n",
            "HTTP request sent, awaiting response... 200 OK\n",
            "Length: 10123390 (9.7M) [text/csv]\n",
            "Saving to: ‘train_set.csv’\n",
            "\n",
            "train_set.csv       100%[===================>]   9.65M  --.-KB/s    in 0.08s   \n",
            "\n",
            "2023-01-23 05:45:39 (114 MB/s) - ‘train_set.csv’ saved [10123390/10123390]\n",
            "\n",
            "--2023-01-23 05:45:39--  https://docs.google.com/uc?export=download&id=1VzkSzZaTsM86Yp9gLLRXsWublp5zQdAZ\n",
            "Resolving docs.google.com (docs.google.com)... 142.250.101.100, 142.250.101.101, 142.250.101.138, ...\n",
            "Connecting to docs.google.com (docs.google.com)|142.250.101.100|:443... connected.\n",
            "HTTP request sent, awaiting response... 303 See Other\n",
            "Location: https://doc-0k-2s-docs.googleusercontent.com/docs/securesc/ha0ro937gcuc7l7deffksulhg5h7mbp1/uchv0f2hi1gka1ai6f6sah24c693cb4p/1674452700000/17049954329865554887/*/1VzkSzZaTsM86Yp9gLLRXsWublp5zQdAZ?e=download&uuid=3b6468b0-4add-4174-9641-cda7130802ec [following]\n",
            "Warning: wildcards not supported in HTTP.\n",
            "--2023-01-23 05:45:39--  https://doc-0k-2s-docs.googleusercontent.com/docs/securesc/ha0ro937gcuc7l7deffksulhg5h7mbp1/uchv0f2hi1gka1ai6f6sah24c693cb4p/1674452700000/17049954329865554887/*/1VzkSzZaTsM86Yp9gLLRXsWublp5zQdAZ?e=download&uuid=3b6468b0-4add-4174-9641-cda7130802ec\n",
            "Resolving doc-0k-2s-docs.googleusercontent.com (doc-0k-2s-docs.googleusercontent.com)... 142.251.2.132, 2607:f8b0:4023:c0d::84\n",
            "Connecting to doc-0k-2s-docs.googleusercontent.com (doc-0k-2s-docs.googleusercontent.com)|142.251.2.132|:443... connected.\n",
            "HTTP request sent, awaiting response... 200 OK\n",
            "Length: 5044225 (4.8M) [text/csv]\n",
            "Saving to: ‘test_set.csv’\n",
            "\n",
            "test_set.csv        100%[===================>]   4.81M  26.3MB/s    in 0.2s    \n",
            "\n",
            "2023-01-23 05:45:40 (26.3 MB/s) - ‘test_set.csv’ saved [5044225/5044225]\n",
            "\n"
          ]
        }
      ]
    },
    {
      "cell_type": "code",
      "source": [
        "train_set = pd.read_csv('train_set.csv')\n",
        "test_set = pd.read_csv('test_set.csv')"
      ],
      "metadata": {
        "id": "O_zAvZdBJwfB"
      },
      "execution_count": 7,
      "outputs": []
    },
    {
      "cell_type": "code",
      "source": [
        "train_set.head(2)"
      ],
      "metadata": {
        "colab": {
          "base_uri": "https://localhost:8080/",
          "height": 112
        },
        "id": "EizhX4_mLGRe",
        "outputId": "7e656073-97fa-4f80-c0fe-a1eee0afc7d6"
      },
      "execution_count": 14,
      "outputs": [
        {
          "output_type": "execute_result",
          "data": {
            "text/plain": [
              "  Protein_A  Protein_B  label\n",
              "0  PRO_1968   PRO_3259      1\n",
              "1  PRO_1968  PRO_20825      1"
            ],
            "text/html": [
              "\n",
              "  <div id=\"df-7b00ea9f-6fc4-466d-a2dd-e6769004cd33\">\n",
              "    <div class=\"colab-df-container\">\n",
              "      <div>\n",
              "<style scoped>\n",
              "    .dataframe tbody tr th:only-of-type {\n",
              "        vertical-align: middle;\n",
              "    }\n",
              "\n",
              "    .dataframe tbody tr th {\n",
              "        vertical-align: top;\n",
              "    }\n",
              "\n",
              "    .dataframe thead th {\n",
              "        text-align: right;\n",
              "    }\n",
              "</style>\n",
              "<table border=\"1\" class=\"dataframe\">\n",
              "  <thead>\n",
              "    <tr style=\"text-align: right;\">\n",
              "      <th></th>\n",
              "      <th>Protein_A</th>\n",
              "      <th>Protein_B</th>\n",
              "      <th>label</th>\n",
              "    </tr>\n",
              "  </thead>\n",
              "  <tbody>\n",
              "    <tr>\n",
              "      <th>0</th>\n",
              "      <td>PRO_1968</td>\n",
              "      <td>PRO_3259</td>\n",
              "      <td>1</td>\n",
              "    </tr>\n",
              "    <tr>\n",
              "      <th>1</th>\n",
              "      <td>PRO_1968</td>\n",
              "      <td>PRO_20825</td>\n",
              "      <td>1</td>\n",
              "    </tr>\n",
              "  </tbody>\n",
              "</table>\n",
              "</div>\n",
              "      <button class=\"colab-df-convert\" onclick=\"convertToInteractive('df-7b00ea9f-6fc4-466d-a2dd-e6769004cd33')\"\n",
              "              title=\"Convert this dataframe to an interactive table.\"\n",
              "              style=\"display:none;\">\n",
              "        \n",
              "  <svg xmlns=\"http://www.w3.org/2000/svg\" height=\"24px\"viewBox=\"0 0 24 24\"\n",
              "       width=\"24px\">\n",
              "    <path d=\"M0 0h24v24H0V0z\" fill=\"none\"/>\n",
              "    <path d=\"M18.56 5.44l.94 2.06.94-2.06 2.06-.94-2.06-.94-.94-2.06-.94 2.06-2.06.94zm-11 1L8.5 8.5l.94-2.06 2.06-.94-2.06-.94L8.5 2.5l-.94 2.06-2.06.94zm10 10l.94 2.06.94-2.06 2.06-.94-2.06-.94-.94-2.06-.94 2.06-2.06.94z\"/><path d=\"M17.41 7.96l-1.37-1.37c-.4-.4-.92-.59-1.43-.59-.52 0-1.04.2-1.43.59L10.3 9.45l-7.72 7.72c-.78.78-.78 2.05 0 2.83L4 21.41c.39.39.9.59 1.41.59.51 0 1.02-.2 1.41-.59l7.78-7.78 2.81-2.81c.8-.78.8-2.07 0-2.86zM5.41 20L4 18.59l7.72-7.72 1.47 1.35L5.41 20z\"/>\n",
              "  </svg>\n",
              "      </button>\n",
              "      \n",
              "  <style>\n",
              "    .colab-df-container {\n",
              "      display:flex;\n",
              "      flex-wrap:wrap;\n",
              "      gap: 12px;\n",
              "    }\n",
              "\n",
              "    .colab-df-convert {\n",
              "      background-color: #E8F0FE;\n",
              "      border: none;\n",
              "      border-radius: 50%;\n",
              "      cursor: pointer;\n",
              "      display: none;\n",
              "      fill: #1967D2;\n",
              "      height: 32px;\n",
              "      padding: 0 0 0 0;\n",
              "      width: 32px;\n",
              "    }\n",
              "\n",
              "    .colab-df-convert:hover {\n",
              "      background-color: #E2EBFA;\n",
              "      box-shadow: 0px 1px 2px rgba(60, 64, 67, 0.3), 0px 1px 3px 1px rgba(60, 64, 67, 0.15);\n",
              "      fill: #174EA6;\n",
              "    }\n",
              "\n",
              "    [theme=dark] .colab-df-convert {\n",
              "      background-color: #3B4455;\n",
              "      fill: #D2E3FC;\n",
              "    }\n",
              "\n",
              "    [theme=dark] .colab-df-convert:hover {\n",
              "      background-color: #434B5C;\n",
              "      box-shadow: 0px 1px 3px 1px rgba(0, 0, 0, 0.15);\n",
              "      filter: drop-shadow(0px 1px 2px rgba(0, 0, 0, 0.3));\n",
              "      fill: #FFFFFF;\n",
              "    }\n",
              "  </style>\n",
              "\n",
              "      <script>\n",
              "        const buttonEl =\n",
              "          document.querySelector('#df-7b00ea9f-6fc4-466d-a2dd-e6769004cd33 button.colab-df-convert');\n",
              "        buttonEl.style.display =\n",
              "          google.colab.kernel.accessAllowed ? 'block' : 'none';\n",
              "\n",
              "        async function convertToInteractive(key) {\n",
              "          const element = document.querySelector('#df-7b00ea9f-6fc4-466d-a2dd-e6769004cd33');\n",
              "          const dataTable =\n",
              "            await google.colab.kernel.invokeFunction('convertToInteractive',\n",
              "                                                     [key], {});\n",
              "          if (!dataTable) return;\n",
              "\n",
              "          const docLinkHtml = 'Like what you see? Visit the ' +\n",
              "            '<a target=\"_blank\" href=https://colab.research.google.com/notebooks/data_table.ipynb>data table notebook</a>'\n",
              "            + ' to learn more about interactive tables.';\n",
              "          element.innerHTML = '';\n",
              "          dataTable['output_type'] = 'display_data';\n",
              "          await google.colab.output.renderOutput(dataTable, element);\n",
              "          const docLink = document.createElement('div');\n",
              "          docLink.innerHTML = docLinkHtml;\n",
              "          element.appendChild(docLink);\n",
              "        }\n",
              "      </script>\n",
              "    </div>\n",
              "  </div>\n",
              "  "
            ]
          },
          "metadata": {},
          "execution_count": 14
        }
      ]
    },
    {
      "cell_type": "code",
      "source": [
        "test_set.head(2)"
      ],
      "metadata": {
        "colab": {
          "base_uri": "https://localhost:8080/",
          "height": 112
        },
        "id": "jZZKkItvLI8R",
        "outputId": "22a39ccc-ad75-4b36-c180-d726439f9eda"
      },
      "execution_count": 15,
      "outputs": [
        {
          "output_type": "execute_result",
          "data": {
            "text/plain": [
              "   Protein_A  Protein_B  label\n",
              "0   PRO_4691   PRO_2365      1\n",
              "1  PRO_12486  PRO_12486      1"
            ],
            "text/html": [
              "\n",
              "  <div id=\"df-5685b97e-0288-45e5-9a6f-ba84ec641148\">\n",
              "    <div class=\"colab-df-container\">\n",
              "      <div>\n",
              "<style scoped>\n",
              "    .dataframe tbody tr th:only-of-type {\n",
              "        vertical-align: middle;\n",
              "    }\n",
              "\n",
              "    .dataframe tbody tr th {\n",
              "        vertical-align: top;\n",
              "    }\n",
              "\n",
              "    .dataframe thead th {\n",
              "        text-align: right;\n",
              "    }\n",
              "</style>\n",
              "<table border=\"1\" class=\"dataframe\">\n",
              "  <thead>\n",
              "    <tr style=\"text-align: right;\">\n",
              "      <th></th>\n",
              "      <th>Protein_A</th>\n",
              "      <th>Protein_B</th>\n",
              "      <th>label</th>\n",
              "    </tr>\n",
              "  </thead>\n",
              "  <tbody>\n",
              "    <tr>\n",
              "      <th>0</th>\n",
              "      <td>PRO_4691</td>\n",
              "      <td>PRO_2365</td>\n",
              "      <td>1</td>\n",
              "    </tr>\n",
              "    <tr>\n",
              "      <th>1</th>\n",
              "      <td>PRO_12486</td>\n",
              "      <td>PRO_12486</td>\n",
              "      <td>1</td>\n",
              "    </tr>\n",
              "  </tbody>\n",
              "</table>\n",
              "</div>\n",
              "      <button class=\"colab-df-convert\" onclick=\"convertToInteractive('df-5685b97e-0288-45e5-9a6f-ba84ec641148')\"\n",
              "              title=\"Convert this dataframe to an interactive table.\"\n",
              "              style=\"display:none;\">\n",
              "        \n",
              "  <svg xmlns=\"http://www.w3.org/2000/svg\" height=\"24px\"viewBox=\"0 0 24 24\"\n",
              "       width=\"24px\">\n",
              "    <path d=\"M0 0h24v24H0V0z\" fill=\"none\"/>\n",
              "    <path d=\"M18.56 5.44l.94 2.06.94-2.06 2.06-.94-2.06-.94-.94-2.06-.94 2.06-2.06.94zm-11 1L8.5 8.5l.94-2.06 2.06-.94-2.06-.94L8.5 2.5l-.94 2.06-2.06.94zm10 10l.94 2.06.94-2.06 2.06-.94-2.06-.94-.94-2.06-.94 2.06-2.06.94z\"/><path d=\"M17.41 7.96l-1.37-1.37c-.4-.4-.92-.59-1.43-.59-.52 0-1.04.2-1.43.59L10.3 9.45l-7.72 7.72c-.78.78-.78 2.05 0 2.83L4 21.41c.39.39.9.59 1.41.59.51 0 1.02-.2 1.41-.59l7.78-7.78 2.81-2.81c.8-.78.8-2.07 0-2.86zM5.41 20L4 18.59l7.72-7.72 1.47 1.35L5.41 20z\"/>\n",
              "  </svg>\n",
              "      </button>\n",
              "      \n",
              "  <style>\n",
              "    .colab-df-container {\n",
              "      display:flex;\n",
              "      flex-wrap:wrap;\n",
              "      gap: 12px;\n",
              "    }\n",
              "\n",
              "    .colab-df-convert {\n",
              "      background-color: #E8F0FE;\n",
              "      border: none;\n",
              "      border-radius: 50%;\n",
              "      cursor: pointer;\n",
              "      display: none;\n",
              "      fill: #1967D2;\n",
              "      height: 32px;\n",
              "      padding: 0 0 0 0;\n",
              "      width: 32px;\n",
              "    }\n",
              "\n",
              "    .colab-df-convert:hover {\n",
              "      background-color: #E2EBFA;\n",
              "      box-shadow: 0px 1px 2px rgba(60, 64, 67, 0.3), 0px 1px 3px 1px rgba(60, 64, 67, 0.15);\n",
              "      fill: #174EA6;\n",
              "    }\n",
              "\n",
              "    [theme=dark] .colab-df-convert {\n",
              "      background-color: #3B4455;\n",
              "      fill: #D2E3FC;\n",
              "    }\n",
              "\n",
              "    [theme=dark] .colab-df-convert:hover {\n",
              "      background-color: #434B5C;\n",
              "      box-shadow: 0px 1px 3px 1px rgba(0, 0, 0, 0.15);\n",
              "      filter: drop-shadow(0px 1px 2px rgba(0, 0, 0, 0.3));\n",
              "      fill: #FFFFFF;\n",
              "    }\n",
              "  </style>\n",
              "\n",
              "      <script>\n",
              "        const buttonEl =\n",
              "          document.querySelector('#df-5685b97e-0288-45e5-9a6f-ba84ec641148 button.colab-df-convert');\n",
              "        buttonEl.style.display =\n",
              "          google.colab.kernel.accessAllowed ? 'block' : 'none';\n",
              "\n",
              "        async function convertToInteractive(key) {\n",
              "          const element = document.querySelector('#df-5685b97e-0288-45e5-9a6f-ba84ec641148');\n",
              "          const dataTable =\n",
              "            await google.colab.kernel.invokeFunction('convertToInteractive',\n",
              "                                                     [key], {});\n",
              "          if (!dataTable) return;\n",
              "\n",
              "          const docLinkHtml = 'Like what you see? Visit the ' +\n",
              "            '<a target=\"_blank\" href=https://colab.research.google.com/notebooks/data_table.ipynb>data table notebook</a>'\n",
              "            + ' to learn more about interactive tables.';\n",
              "          element.innerHTML = '';\n",
              "          dataTable['output_type'] = 'display_data';\n",
              "          await google.colab.output.renderOutput(dataTable, element);\n",
              "          const docLink = document.createElement('div');\n",
              "          docLink.innerHTML = docLinkHtml;\n",
              "          element.appendChild(docLink);\n",
              "        }\n",
              "      </script>\n",
              "    </div>\n",
              "  </div>\n",
              "  "
            ]
          },
          "metadata": {},
          "execution_count": 15
        }
      ]
    },
    {
      "cell_type": "code",
      "source": [
        "print(f\"Number of positive in points train set: {len(train_set[train_set.label == 1])}\")\n",
        "print(f\"Number of positive in points train set: {len(train_set[train_set.label == 0])}\")\n",
        "print(f\"Number of positive in points test set: {len(test_set[test_set.label == 1])}\")\n",
        "print(f\"Number of positive in points test set: {len(test_set[test_set.label == 0])}\")"
      ],
      "metadata": {
        "colab": {
          "base_uri": "https://localhost:8080/"
        },
        "id": "yTAnRQGlKadI",
        "outputId": "a834c296-c1b8-4eec-ffd7-ad04111a0617"
      },
      "execution_count": 29,
      "outputs": [
        {
          "output_type": "stream",
          "name": "stdout",
          "text": [
            "Number of positive in points train set: 241819\n",
            "Number of positive in points train set: 241787\n",
            "Number of positive in points test set: 21347\n",
            "Number of positive in points test set: 213458\n"
          ]
        }
      ]
    },
    {
      "cell_type": "markdown",
      "source": [
        "## 1.2 Benchmark Dataset"
      ],
      "metadata": {
        "id": "ISxn566QLPHD"
      }
    },
    {
      "cell_type": "code",
      "source": [
        "!wget --no-check-certificate 'https://docs.google.com/uc?export=download&id=1U1DN4XnhZmEaY7ivoPdj8tY0tau7X0sC' -O test_set_benchmark.csv\n",
        "!wget --no-check-certificate 'https://docs.google.com/uc?export=download&id=1t4AXRG0uITtlqsKuRSgDVmmwsn3t2NRM' -O train_set_benchmark.csv"
      ],
      "metadata": {
        "colab": {
          "base_uri": "https://localhost:8080/"
        },
        "id": "2Fqf6ap6Kymw",
        "outputId": "361a10bf-c77e-4590-b906-f90791fc0add"
      },
      "execution_count": 26,
      "outputs": [
        {
          "output_type": "stream",
          "name": "stdout",
          "text": [
            "--2023-01-23 05:54:46--  https://docs.google.com/uc?export=download&id=1U1DN4XnhZmEaY7ivoPdj8tY0tau7X0sC\n",
            "Resolving docs.google.com (docs.google.com)... 142.251.2.101, 142.251.2.100, 142.251.2.138, ...\n",
            "Connecting to docs.google.com (docs.google.com)|142.251.2.101|:443... connected.\n",
            "HTTP request sent, awaiting response... 303 See Other\n",
            "Location: https://doc-00-2s-docs.googleusercontent.com/docs/securesc/ha0ro937gcuc7l7deffksulhg5h7mbp1/vfs6uklvdce8qorira5eh5e9gflvvdst/1674453225000/17049954329865554887/*/1U1DN4XnhZmEaY7ivoPdj8tY0tau7X0sC?e=download&uuid=a55b9e5a-420d-46f1-a0ae-537150749976 [following]\n",
            "Warning: wildcards not supported in HTTP.\n",
            "--2023-01-23 05:54:47--  https://doc-00-2s-docs.googleusercontent.com/docs/securesc/ha0ro937gcuc7l7deffksulhg5h7mbp1/vfs6uklvdce8qorira5eh5e9gflvvdst/1674453225000/17049954329865554887/*/1U1DN4XnhZmEaY7ivoPdj8tY0tau7X0sC?e=download&uuid=a55b9e5a-420d-46f1-a0ae-537150749976\n",
            "Resolving doc-00-2s-docs.googleusercontent.com (doc-00-2s-docs.googleusercontent.com)... 142.251.2.132, 2607:f8b0:4023:c0d::84\n",
            "Connecting to doc-00-2s-docs.googleusercontent.com (doc-00-2s-docs.googleusercontent.com)|142.251.2.132|:443... connected.\n",
            "HTTP request sent, awaiting response... 200 OK\n",
            "Length: 98470 (96K) [text/tab-separated-values]\n",
            "Saving to: ‘test_set_benchmark.csv’\n",
            "\n",
            "test_set_benchmark. 100%[===================>]  96.16K  --.-KB/s    in 0.001s  \n",
            "\n",
            "2023-01-23 05:54:47 (65.2 MB/s) - ‘test_set_benchmark.csv’ saved [98470/98470]\n",
            "\n",
            "--2023-01-23 05:54:47--  https://docs.google.com/uc?export=download&id=1t4AXRG0uITtlqsKuRSgDVmmwsn3t2NRM\n",
            "Resolving docs.google.com (docs.google.com)... 142.251.2.101, 142.251.2.100, 142.251.2.138, ...\n",
            "Connecting to docs.google.com (docs.google.com)|142.251.2.101|:443... connected.\n",
            "HTTP request sent, awaiting response... 303 See Other\n",
            "Location: https://doc-0k-2s-docs.googleusercontent.com/docs/securesc/ha0ro937gcuc7l7deffksulhg5h7mbp1/g61i6ln77olj9dol2bqtum9n0dvdne5f/1674453225000/17049954329865554887/*/1t4AXRG0uITtlqsKuRSgDVmmwsn3t2NRM?e=download&uuid=7584ea94-235a-489f-8830-720f77572931 [following]\n",
            "Warning: wildcards not supported in HTTP.\n",
            "--2023-01-23 05:54:48--  https://doc-0k-2s-docs.googleusercontent.com/docs/securesc/ha0ro937gcuc7l7deffksulhg5h7mbp1/g61i6ln77olj9dol2bqtum9n0dvdne5f/1674453225000/17049954329865554887/*/1t4AXRG0uITtlqsKuRSgDVmmwsn3t2NRM?e=download&uuid=7584ea94-235a-489f-8830-720f77572931\n",
            "Resolving doc-0k-2s-docs.googleusercontent.com (doc-0k-2s-docs.googleusercontent.com)... 142.251.2.132, 2607:f8b0:4023:c0d::84\n",
            "Connecting to doc-0k-2s-docs.googleusercontent.com (doc-0k-2s-docs.googleusercontent.com)|142.251.2.132|:443... connected.\n",
            "HTTP request sent, awaiting response... 200 OK\n",
            "Length: 1451295 (1.4M) [text/tab-separated-values]\n",
            "Saving to: ‘train_set_benchmark.csv’\n",
            "\n",
            "train_set_benchmark 100%[===================>]   1.38M  --.-KB/s    in 0.01s   \n",
            "\n",
            "2023-01-23 05:54:48 (114 MB/s) - ‘train_set_benchmark.csv’ saved [1451295/1451295]\n",
            "\n"
          ]
        }
      ]
    },
    {
      "cell_type": "code",
      "source": [
        "train_set_benchmark = pd.read_csv('train_set_benchmark.csv', delimiter = '\\t',header = None)\n",
        "test_set_benchmark = pd.read_csv('test_set_benchmark.csv', delimiter = '\\t',header = None)"
      ],
      "metadata": {
        "id": "GEYzk1WOLwA-"
      },
      "execution_count": 33,
      "outputs": []
    },
    {
      "cell_type": "code",
      "source": [
        "print(f\"Number of positive points in train set: {len(train_set_benchmark[train_set_benchmark[2] == 1])}\")\n",
        "print(f\"Number of positive points in train set: {len(train_set_benchmark[train_set_benchmark[2] == 0])}\")\n",
        "print(f\"Number of positive points in test set: {len(test_set_benchmark[test_set_benchmark[2] == 1])}\")\n",
        "print(f\"Number of positive points in test set: {len(test_set_benchmark[test_set_benchmark[2] == 0])}\")"
      ],
      "metadata": {
        "colab": {
          "base_uri": "https://localhost:8080/"
        },
        "id": "8aSYMJYmL2eY",
        "outputId": "13345577-8482-4e37-ad2c-e265e2b18d1e"
      },
      "execution_count": 36,
      "outputs": [
        {
          "output_type": "stream",
          "name": "stdout",
          "text": [
            "Number of positive points in train set: 50000\n",
            "Number of positive points in train set: 50000\n",
            "Number of positive points in test set: 3415\n",
            "Number of positive points in test set: 3415\n"
          ]
        }
      ]
    },
    {
      "cell_type": "code",
      "source": [
        "train_set_benchmark.head(1)"
      ],
      "metadata": {
        "colab": {
          "base_uri": "https://localhost:8080/",
          "height": 81
        },
        "id": "bhc-udIrL_qR",
        "outputId": "83fca4d3-e6d2-433b-e358-bb4b6a75210c"
      },
      "execution_count": 35,
      "outputs": [
        {
          "output_type": "execute_result",
          "data": {
            "text/plain": [
              "      0       1  2\n",
              "0  8812  165140  1"
            ],
            "text/html": [
              "\n",
              "  <div id=\"df-3b69983d-17cb-4d52-a5a1-4580d00205bd\">\n",
              "    <div class=\"colab-df-container\">\n",
              "      <div>\n",
              "<style scoped>\n",
              "    .dataframe tbody tr th:only-of-type {\n",
              "        vertical-align: middle;\n",
              "    }\n",
              "\n",
              "    .dataframe tbody tr th {\n",
              "        vertical-align: top;\n",
              "    }\n",
              "\n",
              "    .dataframe thead th {\n",
              "        text-align: right;\n",
              "    }\n",
              "</style>\n",
              "<table border=\"1\" class=\"dataframe\">\n",
              "  <thead>\n",
              "    <tr style=\"text-align: right;\">\n",
              "      <th></th>\n",
              "      <th>0</th>\n",
              "      <th>1</th>\n",
              "      <th>2</th>\n",
              "    </tr>\n",
              "  </thead>\n",
              "  <tbody>\n",
              "    <tr>\n",
              "      <th>0</th>\n",
              "      <td>8812</td>\n",
              "      <td>165140</td>\n",
              "      <td>1</td>\n",
              "    </tr>\n",
              "  </tbody>\n",
              "</table>\n",
              "</div>\n",
              "      <button class=\"colab-df-convert\" onclick=\"convertToInteractive('df-3b69983d-17cb-4d52-a5a1-4580d00205bd')\"\n",
              "              title=\"Convert this dataframe to an interactive table.\"\n",
              "              style=\"display:none;\">\n",
              "        \n",
              "  <svg xmlns=\"http://www.w3.org/2000/svg\" height=\"24px\"viewBox=\"0 0 24 24\"\n",
              "       width=\"24px\">\n",
              "    <path d=\"M0 0h24v24H0V0z\" fill=\"none\"/>\n",
              "    <path d=\"M18.56 5.44l.94 2.06.94-2.06 2.06-.94-2.06-.94-.94-2.06-.94 2.06-2.06.94zm-11 1L8.5 8.5l.94-2.06 2.06-.94-2.06-.94L8.5 2.5l-.94 2.06-2.06.94zm10 10l.94 2.06.94-2.06 2.06-.94-2.06-.94-.94-2.06-.94 2.06-2.06.94z\"/><path d=\"M17.41 7.96l-1.37-1.37c-.4-.4-.92-.59-1.43-.59-.52 0-1.04.2-1.43.59L10.3 9.45l-7.72 7.72c-.78.78-.78 2.05 0 2.83L4 21.41c.39.39.9.59 1.41.59.51 0 1.02-.2 1.41-.59l7.78-7.78 2.81-2.81c.8-.78.8-2.07 0-2.86zM5.41 20L4 18.59l7.72-7.72 1.47 1.35L5.41 20z\"/>\n",
              "  </svg>\n",
              "      </button>\n",
              "      \n",
              "  <style>\n",
              "    .colab-df-container {\n",
              "      display:flex;\n",
              "      flex-wrap:wrap;\n",
              "      gap: 12px;\n",
              "    }\n",
              "\n",
              "    .colab-df-convert {\n",
              "      background-color: #E8F0FE;\n",
              "      border: none;\n",
              "      border-radius: 50%;\n",
              "      cursor: pointer;\n",
              "      display: none;\n",
              "      fill: #1967D2;\n",
              "      height: 32px;\n",
              "      padding: 0 0 0 0;\n",
              "      width: 32px;\n",
              "    }\n",
              "\n",
              "    .colab-df-convert:hover {\n",
              "      background-color: #E2EBFA;\n",
              "      box-shadow: 0px 1px 2px rgba(60, 64, 67, 0.3), 0px 1px 3px 1px rgba(60, 64, 67, 0.15);\n",
              "      fill: #174EA6;\n",
              "    }\n",
              "\n",
              "    [theme=dark] .colab-df-convert {\n",
              "      background-color: #3B4455;\n",
              "      fill: #D2E3FC;\n",
              "    }\n",
              "\n",
              "    [theme=dark] .colab-df-convert:hover {\n",
              "      background-color: #434B5C;\n",
              "      box-shadow: 0px 1px 3px 1px rgba(0, 0, 0, 0.15);\n",
              "      filter: drop-shadow(0px 1px 2px rgba(0, 0, 0, 0.3));\n",
              "      fill: #FFFFFF;\n",
              "    }\n",
              "  </style>\n",
              "\n",
              "      <script>\n",
              "        const buttonEl =\n",
              "          document.querySelector('#df-3b69983d-17cb-4d52-a5a1-4580d00205bd button.colab-df-convert');\n",
              "        buttonEl.style.display =\n",
              "          google.colab.kernel.accessAllowed ? 'block' : 'none';\n",
              "\n",
              "        async function convertToInteractive(key) {\n",
              "          const element = document.querySelector('#df-3b69983d-17cb-4d52-a5a1-4580d00205bd');\n",
              "          const dataTable =\n",
              "            await google.colab.kernel.invokeFunction('convertToInteractive',\n",
              "                                                     [key], {});\n",
              "          if (!dataTable) return;\n",
              "\n",
              "          const docLinkHtml = 'Like what you see? Visit the ' +\n",
              "            '<a target=\"_blank\" href=https://colab.research.google.com/notebooks/data_table.ipynb>data table notebook</a>'\n",
              "            + ' to learn more about interactive tables.';\n",
              "          element.innerHTML = '';\n",
              "          dataTable['output_type'] = 'display_data';\n",
              "          await google.colab.output.renderOutput(dataTable, element);\n",
              "          const docLink = document.createElement('div');\n",
              "          docLink.innerHTML = docLinkHtml;\n",
              "          element.appendChild(docLink);\n",
              "        }\n",
              "      </script>\n",
              "    </div>\n",
              "  </div>\n",
              "  "
            ]
          },
          "metadata": {},
          "execution_count": 35
        }
      ]
    },
    {
      "cell_type": "markdown",
      "source": [
        "## 2. Information about Pickle Files\n",
        "\n",
        "---\n",
        "\n"
      ],
      "metadata": {
        "id": "sHG8td8xNMlf"
      }
    },
    {
      "cell_type": "code",
      "source": [
        "\n",
        "!wget --no-check-certificate 'https://docs.google.com/uc?export=download&id=1-5bhZvskkFILsDhoNaaVlieUkkRdE3ir' -O our_dataset_negatome_pro_to_seq.pickle\n",
        "!wget --no-check-certificate 'https://docs.google.com/uc?export=download&id=1Eu7OkO4WuVqaM4NqD6zF8r-Bbq1B5W7L' -O our_dataset_positive_pro_to_seq.pickle\n",
        "!wget --no-check-certificate 'https://docs.google.com/uc?export=download&id=1k-BZJFS6u1UabFyLf32IkcigExSXkMYw' -O benchmark_pro_to_seq.pickle\n",
        "!wget --no-check-certificate 'https://docs.google.com/uc?export=download&id=1kjHUjV5aIhaDADjV6w9__MtHteqWurQN' -O benchmark_sum_of_amino_acids_vectors.pickle\n",
        "!wget --no-check-certificate 'https://docs.google.com/uc?export=download&id=1WpxAnS8-k3e-th5CumOpG8su5wL1wjp0' -O our_dataset_sum_of_amino_acids_vectors.pickle"
      ],
      "metadata": {
        "colab": {
          "base_uri": "https://localhost:8080/"
        },
        "id": "dtqA5kHrMBXr",
        "outputId": "bd6939fc-fd0b-4daa-f228-f3f862d33746"
      },
      "execution_count": 39,
      "outputs": [
        {
          "output_type": "stream",
          "name": "stdout",
          "text": [
            "--2023-01-23 06:06:05--  https://docs.google.com/uc?export=download&id=1-5bhZvskkFILsDhoNaaVlieUkkRdE3ir\n",
            "Resolving docs.google.com (docs.google.com)... 142.251.2.113, 142.251.2.102, 142.251.2.101, ...\n",
            "Connecting to docs.google.com (docs.google.com)|142.251.2.113|:443... connected.\n",
            "HTTP request sent, awaiting response... 303 See Other\n",
            "Location: https://doc-08-2s-docs.googleusercontent.com/docs/securesc/ha0ro937gcuc7l7deffksulhg5h7mbp1/u6653rs7r9mjqosks2dvrj9257qpa60d/1674453900000/17049954329865554887/*/1-5bhZvskkFILsDhoNaaVlieUkkRdE3ir?e=download&uuid=4899355a-54e3-41a9-bbc1-0b9b55db9c95 [following]\n",
            "Warning: wildcards not supported in HTTP.\n",
            "--2023-01-23 06:06:06--  https://doc-08-2s-docs.googleusercontent.com/docs/securesc/ha0ro937gcuc7l7deffksulhg5h7mbp1/u6653rs7r9mjqosks2dvrj9257qpa60d/1674453900000/17049954329865554887/*/1-5bhZvskkFILsDhoNaaVlieUkkRdE3ir?e=download&uuid=4899355a-54e3-41a9-bbc1-0b9b55db9c95\n",
            "Resolving doc-08-2s-docs.googleusercontent.com (doc-08-2s-docs.googleusercontent.com)... 142.251.2.132, 2607:f8b0:4023:c0d::84\n",
            "Connecting to doc-08-2s-docs.googleusercontent.com (doc-08-2s-docs.googleusercontent.com)|142.251.2.132|:443... connected.\n",
            "HTTP request sent, awaiting response... 200 OK\n",
            "Length: 1204319 (1.1M) [application/octet-stream]\n",
            "Saving to: ‘our_dataset_negatome_pro_to_seq.pickle’\n",
            "\n",
            "our_dataset_negatom 100%[===================>]   1.15M  --.-KB/s    in 0.01s   \n",
            "\n",
            "2023-01-23 06:06:06 (94.5 MB/s) - ‘our_dataset_negatome_pro_to_seq.pickle’ saved [1204319/1204319]\n",
            "\n",
            "--2023-01-23 06:06:06--  https://docs.google.com/uc?export=download&id=1Eu7OkO4WuVqaM4NqD6zF8r-Bbq1B5W7L\n",
            "Resolving docs.google.com (docs.google.com)... 142.251.2.113, 142.251.2.102, 142.251.2.101, ...\n",
            "Connecting to docs.google.com (docs.google.com)|142.251.2.113|:443... connected.\n",
            "HTTP request sent, awaiting response... 303 See Other\n",
            "Location: https://doc-0c-2s-docs.googleusercontent.com/docs/securesc/ha0ro937gcuc7l7deffksulhg5h7mbp1/4oq2v81m5ecem3cn0s4uinllf3atotr7/1674453900000/17049954329865554887/*/1Eu7OkO4WuVqaM4NqD6zF8r-Bbq1B5W7L?e=download&uuid=49161fd5-f3ab-4fa4-8a22-45fef2f2fbe0 [following]\n",
            "Warning: wildcards not supported in HTTP.\n",
            "--2023-01-23 06:06:07--  https://doc-0c-2s-docs.googleusercontent.com/docs/securesc/ha0ro937gcuc7l7deffksulhg5h7mbp1/4oq2v81m5ecem3cn0s4uinllf3atotr7/1674453900000/17049954329865554887/*/1Eu7OkO4WuVqaM4NqD6zF8r-Bbq1B5W7L?e=download&uuid=49161fd5-f3ab-4fa4-8a22-45fef2f2fbe0\n",
            "Resolving doc-0c-2s-docs.googleusercontent.com (doc-0c-2s-docs.googleusercontent.com)... 142.251.2.132, 2607:f8b0:4023:c0d::84\n",
            "Connecting to doc-0c-2s-docs.googleusercontent.com (doc-0c-2s-docs.googleusercontent.com)|142.251.2.132|:443... connected.\n",
            "HTTP request sent, awaiting response... 200 OK\n",
            "Length: 19683755 (19M) [application/octet-stream]\n",
            "Saving to: ‘our_dataset_positive_pro_to_seq.pickle’\n",
            "\n",
            "our_dataset_positiv 100%[===================>]  18.77M  58.3MB/s    in 0.3s    \n",
            "\n",
            "2023-01-23 06:06:08 (58.3 MB/s) - ‘our_dataset_positive_pro_to_seq.pickle’ saved [19683755/19683755]\n",
            "\n",
            "--2023-01-23 06:06:08--  https://docs.google.com/uc?export=download&id=1k-BZJFS6u1UabFyLf32IkcigExSXkMYw\n",
            "Resolving docs.google.com (docs.google.com)... 142.251.2.113, 142.251.2.102, 142.251.2.101, ...\n",
            "Connecting to docs.google.com (docs.google.com)|142.251.2.113|:443... connected.\n",
            "HTTP request sent, awaiting response... 303 See Other\n",
            "Location: https://doc-0o-2s-docs.googleusercontent.com/docs/securesc/ha0ro937gcuc7l7deffksulhg5h7mbp1/ocp28d3ihhjes8h88ct35gt8g0m03d5c/1674453900000/17049954329865554887/*/1k-BZJFS6u1UabFyLf32IkcigExSXkMYw?e=download&uuid=94d2537c-9e0d-4e79-8d9b-309160671b62 [following]\n",
            "Warning: wildcards not supported in HTTP.\n",
            "--2023-01-23 06:06:09--  https://doc-0o-2s-docs.googleusercontent.com/docs/securesc/ha0ro937gcuc7l7deffksulhg5h7mbp1/ocp28d3ihhjes8h88ct35gt8g0m03d5c/1674453900000/17049954329865554887/*/1k-BZJFS6u1UabFyLf32IkcigExSXkMYw?e=download&uuid=94d2537c-9e0d-4e79-8d9b-309160671b62\n",
            "Resolving doc-0o-2s-docs.googleusercontent.com (doc-0o-2s-docs.googleusercontent.com)... 142.251.2.132, 2607:f8b0:4023:c0d::84\n",
            "Connecting to doc-0o-2s-docs.googleusercontent.com (doc-0o-2s-docs.googleusercontent.com)|142.251.2.132|:443... connected.\n",
            "HTTP request sent, awaiting response... 200 OK\n",
            "Length: 14433094 (14M) [application/octet-stream]\n",
            "Saving to: ‘benchmark_pro_to_seq.pickle’\n",
            "\n",
            "benchmark_pro_to_se 100%[===================>]  13.76M  53.9MB/s    in 0.3s    \n",
            "\n",
            "2023-01-23 06:06:10 (53.9 MB/s) - ‘benchmark_pro_to_seq.pickle’ saved [14433094/14433094]\n",
            "\n",
            "--2023-01-23 06:06:10--  https://docs.google.com/uc?export=download&id=1kjHUjV5aIhaDADjV6w9__MtHteqWurQN\n",
            "Resolving docs.google.com (docs.google.com)... 142.251.2.113, 142.251.2.102, 142.251.2.101, ...\n",
            "Connecting to docs.google.com (docs.google.com)|142.251.2.113|:443... connected.\n",
            "HTTP request sent, awaiting response... 303 See Other\n",
            "Location: https://doc-0o-2s-docs.googleusercontent.com/docs/securesc/ha0ro937gcuc7l7deffksulhg5h7mbp1/u5rd7hgf0dq0842p4ek1kb1hr5bt8d79/1674453900000/17049954329865554887/*/1kjHUjV5aIhaDADjV6w9__MtHteqWurQN?e=download&uuid=76fe6ad6-cffa-49a9-9aad-62df16fbd183 [following]\n",
            "Warning: wildcards not supported in HTTP.\n",
            "--2023-01-23 06:06:12--  https://doc-0o-2s-docs.googleusercontent.com/docs/securesc/ha0ro937gcuc7l7deffksulhg5h7mbp1/u5rd7hgf0dq0842p4ek1kb1hr5bt8d79/1674453900000/17049954329865554887/*/1kjHUjV5aIhaDADjV6w9__MtHteqWurQN?e=download&uuid=76fe6ad6-cffa-49a9-9aad-62df16fbd183\n",
            "Resolving doc-0o-2s-docs.googleusercontent.com (doc-0o-2s-docs.googleusercontent.com)... 142.251.2.132, 2607:f8b0:4023:c0d::84\n",
            "Connecting to doc-0o-2s-docs.googleusercontent.com (doc-0o-2s-docs.googleusercontent.com)|142.251.2.132|:443... connected.\n",
            "HTTP request sent, awaiting response... 200 OK\n",
            "Length: 68779829 (66M) [application/octet-stream]\n",
            "Saving to: ‘benchmark_sum_of_amino_acids_vectors.pickle’\n",
            "\n",
            "benchmark_sum_of_am 100%[===================>]  65.59M  63.9MB/s    in 1.0s    \n",
            "\n",
            "2023-01-23 06:06:13 (63.9 MB/s) - ‘benchmark_sum_of_amino_acids_vectors.pickle’ saved [68779829/68779829]\n",
            "\n",
            "--2023-01-23 06:06:13--  https://docs.google.com/uc?export=download&id=1WpxAnS8-k3e-th5CumOpG8su5wL1wjp0\n",
            "Resolving docs.google.com (docs.google.com)... 142.251.2.113, 142.251.2.102, 142.251.2.101, ...\n",
            "Connecting to docs.google.com (docs.google.com)|142.251.2.113|:443... connected.\n",
            "HTTP request sent, awaiting response... 303 See Other\n",
            "Location: https://doc-00-2s-docs.googleusercontent.com/docs/securesc/ha0ro937gcuc7l7deffksulhg5h7mbp1/tq81b1soa4d6sa91dims30mn5et16hkj/1674453975000/17049954329865554887/*/1WpxAnS8-k3e-th5CumOpG8su5wL1wjp0?e=download&uuid=dea389de-6b31-44d7-8943-fdab87bb64d3 [following]\n",
            "Warning: wildcards not supported in HTTP.\n",
            "--2023-01-23 06:06:16--  https://doc-00-2s-docs.googleusercontent.com/docs/securesc/ha0ro937gcuc7l7deffksulhg5h7mbp1/tq81b1soa4d6sa91dims30mn5et16hkj/1674453975000/17049954329865554887/*/1WpxAnS8-k3e-th5CumOpG8su5wL1wjp0?e=download&uuid=dea389de-6b31-44d7-8943-fdab87bb64d3\n",
            "Resolving doc-00-2s-docs.googleusercontent.com (doc-00-2s-docs.googleusercontent.com)... 142.251.2.132, 2607:f8b0:4023:c0d::84\n",
            "Connecting to doc-00-2s-docs.googleusercontent.com (doc-00-2s-docs.googleusercontent.com)|142.251.2.132|:443... connected.\n",
            "HTTP request sent, awaiting response... 200 OK\n",
            "Length: 99334246 (95M) [application/octet-stream]\n",
            "Saving to: ‘our_dataset_sum_of_amino_acids_vectors.pickle’\n",
            "\n",
            "our_dataset_sum_of_ 100%[===================>]  94.73M  63.4MB/s    in 1.5s    \n",
            "\n",
            "2023-01-23 06:06:18 (63.4 MB/s) - ‘our_dataset_sum_of_amino_acids_vectors.pickle’ saved [99334246/99334246]\n",
            "\n"
          ]
        }
      ]
    },
    {
      "cell_type": "code",
      "source": [
        "import pickle"
      ],
      "metadata": {
        "id": "gKdeLnfpNrQS"
      },
      "execution_count": 38,
      "outputs": []
    },
    {
      "cell_type": "markdown",
      "source": [
        "### 2.1 our_dataset_negatome_pro_to_seq.pickle\n",
        "\n",
        "<pre>\n",
        "It converts proteins of our dataset to sequence(only proteins from negative dateset)\n",
        "</pre>"
      ],
      "metadata": {
        "id": "DPmtBEgfPFQE"
      }
    },
    {
      "cell_type": "code",
      "source": [
        "with open(\"our_dataset_negatome_pro_to_seq.pickle\",'rb') as handle:\n",
        "    our_dataset_negatome_pro_to_seq = pickle.load(handle)"
      ],
      "metadata": {
        "id": "WDQQ-ro8NsUs"
      },
      "execution_count": 40,
      "outputs": []
    },
    {
      "cell_type": "code",
      "source": [
        "our_dataset_negatome_pro_to_seq['PRO_8117']"
      ],
      "metadata": {
        "colab": {
          "base_uri": "https://localhost:8080/",
          "height": 122
        },
        "id": "jAwgjeeMPc7H",
        "outputId": "eeecc1bc-8e55-4d19-b32a-5bb42fcfc7ae"
      },
      "execution_count": 42,
      "outputs": [
        {
          "output_type": "execute_result",
          "data": {
            "text/plain": [
              "'M S L K S E R R G I H V D Q S D L L C K K G C G Y Y G N P A W Q G F C S K C W R E E Y H K A R Q K Q I Q E D W E L A E R L Q R E E E E A F A S S Q S S Q G A Q S L T F S K F E E K K T N E K T R K V T T V K K F F S A S S R V G S K K E I Q E A K A P S P S I N R Q T S I E T D R V S K E F I E F L K T F H K T G Q E I Y K Q T K L F L E G M H Y K R D L S I E E Q S E C A Q D F Y H N V A E R M Q T R G K V P P E R V E K I M D Q I E K Y I M T R L Y K Y V F C P E T T D D E K K D L A I Q K R I R A L R W V T P Q M L C V P V N E D I P E V S D M V V K A I T D I I E M D S K R V P R D K L A C I T K C S K H I F N A I K I T K N E P A S A D D F L P T L I Y I V L K G N P P R L Q S N I Q Y I T R F C N P S R L M T G E D G Y Y F T N L C C A V A F I E K L D A Q S L N L S Q E D F D R Y M S G Q T S P R K Q E A E S W S P D A C L G V K Q M Y K N L D L L S Q L N E R Q E R I M N E A K K L E K D L I D W T D G I A R E V Q D I V E K Y P L E I K P P N Q P L A A I D S E N V E N D K L P P P L Q P Q V Y A G'"
            ],
            "application/vnd.google.colaboratory.intrinsic+json": {
              "type": "string"
            }
          },
          "metadata": {},
          "execution_count": 42
        }
      ]
    },
    {
      "cell_type": "markdown",
      "source": [
        "### 2.2 our_dataset_positive_pro_to_seq.pickle\n",
        "\n",
        "<pre>\n",
        "It converts proteins of our dataset to sequence(only proteins from positive dateset)\n",
        "</pre>"
      ],
      "metadata": {
        "id": "GH_r4RYuPpUO"
      }
    },
    {
      "cell_type": "code",
      "source": [
        "with open(\"our_dataset_positive_pro_to_seq.pickle\",'rb') as handle:\n",
        "    our_dataset_positive_pro_to_seq = pickle.load(handle)\n",
        "\n"
      ],
      "metadata": {
        "id": "3FMASEG2PeOs"
      },
      "execution_count": 43,
      "outputs": []
    },
    {
      "cell_type": "code",
      "source": [
        "our_dataset_positive_pro_to_seq['PRO_1']"
      ],
      "metadata": {
        "colab": {
          "base_uri": "https://localhost:8080/",
          "height": 87
        },
        "id": "tV6jfKJXP4IC",
        "outputId": "9622699e-86f8-4ef4-d122-00189e9cde7b"
      },
      "execution_count": 44,
      "outputs": [
        {
          "output_type": "execute_result",
          "data": {
            "text/plain": [
              "'M E P L N R T E V S E F F L K G F S G Y P A L E H L L F P L C S A M Y L V T L L G N T A I M A V S V L D I H L H T P V Y F F L G N L S T L D I C Y T P T F V P L M L V H L L S S R K T I S F A V C A I Q M C L S L S T G S T E C L L L A I T A Y D R Y L A I C Q P L R Y H V L M S H R L C V L L M G A A W V L C L L K S V T E M V I S M R L P F C G H H V V S H F T C K I L A V L K L A C G N T S V S E D F L L A G S I L L L P V P L A F I C L S Y L L I L A T I L R V P S A A R C C K A F S T C L A H L A V V L L F Y G T I I F M Y L K P K S K E A H I S D E V F T V L Y A M V T T M L N P T I Y S L R N K E V K E A A R K V W G R S R A S R'"
            ],
            "application/vnd.google.colaboratory.intrinsic+json": {
              "type": "string"
            }
          },
          "metadata": {},
          "execution_count": 44
        }
      ]
    },
    {
      "cell_type": "code",
      "source": [
        "x = len(our_dataset_positive_pro_to_seq) + len(our_dataset_negatome_pro_to_seq)\n",
        "print(f\"Total unique proteins on our dataset: {x}\")"
      ],
      "metadata": {
        "colab": {
          "base_uri": "https://localhost:8080/"
        },
        "id": "q2u0dkUYP7FZ",
        "outputId": "712f1811-d4c7-4e14-eeea-0b03a144ab63"
      },
      "execution_count": 48,
      "outputs": [
        {
          "output_type": "stream",
          "name": "stdout",
          "text": [
            "Total unique proteins on our dataset: 24781\n"
          ]
        }
      ]
    },
    {
      "cell_type": "markdown",
      "source": [
        "### 2.3 benchmark_pro_to_seq.pickle\n",
        "\n",
        "<pre>\n",
        "It converts proteins of benchmark dataset to sequence\n",
        "\n",
        " benchmark_pro_to_seq.pickle\n",
        "benchmark_sum_of_amino_acids_vectors.pickle\n",
        " our_dataset_sum_of_amino_acids_vectors.pickle\n",
        "</pre>"
      ],
      "metadata": {
        "id": "RwG4wqoFQxdR"
      }
    },
    {
      "cell_type": "code",
      "source": [
        "with open(\"benchmark_pro_to_seq.pickle\",'rb') as handle:\n",
        "     benchmark_pro_to_seq = pickle.load(handle)\n",
        "print(len( benchmark_pro_to_seq))"
      ],
      "metadata": {
        "colab": {
          "base_uri": "https://localhost:8080/"
        },
        "id": "bKXYJDwgQwk0",
        "outputId": "1d997d49-a07e-4064-9591-37357a284746"
      },
      "execution_count": 50,
      "outputs": [
        {
          "output_type": "stream",
          "name": "stdout",
          "text": [
            "16640\n"
          ]
        }
      ]
    },
    {
      "cell_type": "markdown",
      "source": [
        "### 2.4 benchmark_sum_of_amino_acids_vectors.pickle\n",
        "\n",
        "<pre>\n",
        "It converts proteins of benchmark protein's sequence to embedding vectors(input of siamese network)\n",
        "\n",
        "</pre>"
      ],
      "metadata": {
        "id": "uxCc1SoyRkJx"
      }
    },
    {
      "cell_type": "code",
      "source": [
        "with open(\"benchmark_sum_of_amino_acids_vectors.pickle\",'rb') as handle:\n",
        "     benchmark_sum_of_amino_acids_vectors = pickle.load(handle)\n",
        "print(len( benchmark_sum_of_amino_acids_vectors))"
      ],
      "metadata": {
        "colab": {
          "base_uri": "https://localhost:8080/"
        },
        "id": "JOKdfeU4Ruxd",
        "outputId": "671cbe20-f008-41d2-d24a-f28ff40679ee"
      },
      "execution_count": 51,
      "outputs": [
        {
          "output_type": "stream",
          "name": "stdout",
          "text": [
            "16640\n"
          ]
        }
      ]
    },
    {
      "cell_type": "markdown",
      "source": [
        "### 2.5 our_dataset_sum_of_amino_acids_vectors.pickle\n",
        "\n",
        "<pre>\n",
        "It converts proteins of our dataset protein's sequence to embedding vectors(input of siamese network)\n",
        "</pre>"
      ],
      "metadata": {
        "id": "npnjyWTiR_Z-"
      }
    },
    {
      "cell_type": "code",
      "source": [
        "with open(\"our_dataset_sum_of_amino_acids_vectors.pickle\",'rb') as handle:\n",
        "      our_dataset_sum_of_amino_acids_vectors = pickle.load(handle)\n",
        "print(len( our_dataset_sum_of_amino_acids_vectors))"
      ],
      "metadata": {
        "colab": {
          "base_uri": "https://localhost:8080/"
        },
        "id": "rg-3ZATvZ53t",
        "outputId": "66c94cd8-cba4-4a32-dda7-7ef6a7a8d489"
      },
      "execution_count": 60,
      "outputs": [
        {
          "output_type": "stream",
          "name": "stdout",
          "text": [
            "24016\n"
          ]
        }
      ]
    },
    {
      "cell_type": "markdown",
      "source": [
        "### 2.6 amino_acids_embedded_vectors_bert_bfd.pickle(for our dataset)\n",
        "\n",
        "<pre>\n",
        "\n",
        "Embeddings of each amino acids from Protein Bert\n",
        "\n",
        "<b>Path:</b> /mimer/NOBACKUP/groups/snic2019-35-21/PPI/pickle_files/amino_acids_embedded_vectors_bert_bfd.pickle"
      ],
      "metadata": {
        "id": "t309xhdEZ96l"
      }
    },
    {
      "cell_type": "markdown",
      "source": [
        "### 2.7 amino_acids_embedded_vectors_bert_albert.pickle(for our dataset)\n",
        "\n",
        "<pre>\n",
        "\n",
        "Embeddings of each amino acids from Protein Albert\n",
        "\n",
        "<b>Path:</b> /mimer/NOBACKUP/groups/snic2019-35-21/PPI/pickle_files/amino_acids_embedded_vectors_bert_albert.pickle\n",
        "\n",
        "\n",
        "</pre>"
      ],
      "metadata": {
        "id": "-eZoz009YLpx"
      }
    },
    {
      "cell_type": "markdown",
      "source": [
        "### 2.8 amino_acids_benchmark_embedded_vectors_bert_bfd.pickle(for benchmark)\n",
        "\n",
        "<pre>\n",
        "\n",
        "Embeddings of each amino acids from Protein Albert\n",
        "\n",
        "<b>Path:</b> /mimer/NOBACKUP/groups/snic2019-35-21/PPI/pickle_files/amino_acids_benchmark_embedded_vectors_bert_bfd.pickle\n",
        "\n",
        "\n",
        "</pre>"
      ],
      "metadata": {
        "id": "eY59sZ9wYLhu"
      }
    },
    {
      "cell_type": "markdown",
      "source": [
        "## Summary of dataset\n",
        "#### Our dataset\n",
        "<pre>\n",
        "Number of unique proteins in our dataset: 24781\n",
        "Max_length of proteins: 1024\n",
        "Number of positive in points train set: 241819\n",
        "Number of positive in points train set: 241787\n",
        "</pre>\n",
        "\n",
        "#### Benchmark dataset\n",
        "<pre>\n",
        "Number of unique proteins in benchmark dataset: 16640\n",
        "Max_length of proteins: 1024\n",
        "Number of positive in points train set: 50000\n",
        "Number of positive in points train set: 50000\n",
        "</pre>"
      ],
      "metadata": {
        "id": "E-z-mgMZQPh4"
      }
    },
    {
      "cell_type": "markdown",
      "source": [
        "## 3. Trained_model_weights and architecture\n",
        "\n",
        "\n"
      ],
      "metadata": {
        "id": "gRLNV56ZSetV"
      }
    },
    {
      "cell_type": "markdown",
      "source": [
        "#### 3.1 Model Weights"
      ],
      "metadata": {
        "id": "XvfSRkA8URG9"
      }
    },
    {
      "cell_type": "code",
      "source": [
        "!wget --load-cookies /tmp/cookies.txt \"https://docs.google.com/uc?export=download&confirm=$(wget --quiet --save-cookies /tmp/cookies.txt --keep-session-cookies --no-check-certificate 'https://docs.google.com/uc?export=download&id=1NpFxtOpYr0cb8zB8x4Xah2mzY0lhQ1t7' -O- | sed -rn 's/.*confirm=([0-9A-Za-z_]+).*/\\1\\n/p')&id=1NpFxtOpYr0cb8zB8x4Xah2mzY0lhQ1t7\" -O best_model_trained_our_dataset.pth && rm -rf /tmp/cookies.txt"
      ],
      "metadata": {
        "colab": {
          "base_uri": "https://localhost:8080/"
        },
        "id": "yi5u5bwhSekx",
        "outputId": "15000f81-7665-4406-9e85-93cd40e907a6"
      },
      "execution_count": 55,
      "outputs": [
        {
          "output_type": "stream",
          "name": "stdout",
          "text": [
            "--2023-01-23 06:24:17--  https://docs.google.com/uc?export=download&confirm=t&id=1NpFxtOpYr0cb8zB8x4Xah2mzY0lhQ1t7\n",
            "Resolving docs.google.com (docs.google.com)... 142.250.101.113, 142.250.101.138, 142.250.101.102, ...\n",
            "Connecting to docs.google.com (docs.google.com)|142.250.101.113|:443... connected.\n",
            "HTTP request sent, awaiting response... 303 See Other\n",
            "Location: https://doc-14-2s-docs.googleusercontent.com/docs/securesc/ha0ro937gcuc7l7deffksulhg5h7mbp1/1l6l0bccoj648o6687n8h2i467o2kitu/1674455025000/17049954329865554887/*/1NpFxtOpYr0cb8zB8x4Xah2mzY0lhQ1t7?e=download&uuid=8947cdd3-838c-4c5a-9991-46c50b4eee19 [following]\n",
            "Warning: wildcards not supported in HTTP.\n",
            "--2023-01-23 06:24:18--  https://doc-14-2s-docs.googleusercontent.com/docs/securesc/ha0ro937gcuc7l7deffksulhg5h7mbp1/1l6l0bccoj648o6687n8h2i467o2kitu/1674455025000/17049954329865554887/*/1NpFxtOpYr0cb8zB8x4Xah2mzY0lhQ1t7?e=download&uuid=8947cdd3-838c-4c5a-9991-46c50b4eee19\n",
            "Resolving doc-14-2s-docs.googleusercontent.com (doc-14-2s-docs.googleusercontent.com)... 142.251.2.132, 2607:f8b0:4023:c0d::84\n",
            "Connecting to doc-14-2s-docs.googleusercontent.com (doc-14-2s-docs.googleusercontent.com)|142.251.2.132|:443... connected.\n",
            "HTTP request sent, awaiting response... 200 OK\n",
            "Length: 1276912699 (1.2G) [application/x-zip]\n",
            "Saving to: ‘best_model_trained_our_dataset.pth’\n",
            "\n",
            "best_model_trained_ 100%[===================>]   1.19G  83.2MB/s    in 18s     \n",
            "\n",
            "2023-01-23 06:24:36 (68.9 MB/s) - ‘best_model_trained_our_dataset.pth’ saved [1276912699/1276912699]\n",
            "\n"
          ]
        }
      ]
    },
    {
      "cell_type": "code",
      "source": [
        "!wget --load-cookies /tmp/cookies.txt \"https://docs.google.com/uc?export=download&confirm=$(wget --quiet --save-cookies /tmp/cookies.txt --keep-session-cookies --no-check-certificate 'https://docs.google.com/uc?export=download&id=1yPrF55izZwhl7oD-1oHXuHS2UO9s4stU' -O- | sed -rn 's/.*confirm=([0-9A-Za-z_]+).*/\\1\\n/p')&id=1yPrF55izZwhl7oD-1oHXuHS2UO9s4stU\" -O best_model_trained_on_benchmark.pth && rm -rf /tmp/cookies.txt"
      ],
      "metadata": {
        "colab": {
          "base_uri": "https://localhost:8080/"
        },
        "id": "Z9qoTxCwQBtX",
        "outputId": "e16c9c8f-0710-44fe-ae44-9d84eaf23e61"
      },
      "execution_count": 56,
      "outputs": [
        {
          "output_type": "stream",
          "name": "stdout",
          "text": [
            "--2023-01-23 06:26:01--  https://docs.google.com/uc?export=download&confirm=t&id=1yPrF55izZwhl7oD-1oHXuHS2UO9s4stU\n",
            "Resolving docs.google.com (docs.google.com)... 142.250.101.139, 142.250.101.102, 142.250.101.113, ...\n",
            "Connecting to docs.google.com (docs.google.com)|142.250.101.139|:443... connected.\n",
            "HTTP request sent, awaiting response... 303 See Other\n",
            "Location: https://doc-0k-2s-docs.googleusercontent.com/docs/securesc/ha0ro937gcuc7l7deffksulhg5h7mbp1/93td38pn1f2p3niei6btat2pe55jshhf/1674455100000/17049954329865554887/*/1yPrF55izZwhl7oD-1oHXuHS2UO9s4stU?e=download&uuid=187fc8d6-dc10-4274-8591-d9f3b291ff85 [following]\n",
            "Warning: wildcards not supported in HTTP.\n",
            "--2023-01-23 06:26:02--  https://doc-0k-2s-docs.googleusercontent.com/docs/securesc/ha0ro937gcuc7l7deffksulhg5h7mbp1/93td38pn1f2p3niei6btat2pe55jshhf/1674455100000/17049954329865554887/*/1yPrF55izZwhl7oD-1oHXuHS2UO9s4stU?e=download&uuid=187fc8d6-dc10-4274-8591-d9f3b291ff85\n",
            "Resolving doc-0k-2s-docs.googleusercontent.com (doc-0k-2s-docs.googleusercontent.com)... 142.251.2.132, 2607:f8b0:4023:c0d::84\n",
            "Connecting to doc-0k-2s-docs.googleusercontent.com (doc-0k-2s-docs.googleusercontent.com)|142.251.2.132|:443... connected.\n",
            "HTTP request sent, awaiting response... 200 OK\n",
            "Length: 1276912699 (1.2G) [application/x-zip]\n",
            "Saving to: ‘best_model_trained_on_benchmark.pth’\n",
            "\n",
            "best_model_trained_ 100%[===================>]   1.19G  71.7MB/s    in 18s     \n",
            "\n",
            "2023-01-23 06:26:20 (69.2 MB/s) - ‘best_model_trained_on_benchmark.pth’ saved [1276912699/1276912699]\n",
            "\n"
          ]
        }
      ]
    },
    {
      "cell_type": "markdown",
      "source": [
        "<pre>\n",
        "<b>best_model_trained_our_dataset.pth</b>: Weights of model trained on our dataset (Accuracy: 80%)\n",
        "<b>best_model_trained_on_benchmark.pth</b>: Weights of model trained on benchmark dataset (Accuracy: ~76%)\n",
        "</pre>"
      ],
      "metadata": {
        "id": "NC5IANaZTwTP"
      }
    },
    {
      "cell_type": "markdown",
      "source": [
        "#### 3.2 Model Architecture code"
      ],
      "metadata": {
        "id": "WXtuOoG6UJ7U"
      }
    },
    {
      "cell_type": "code",
      "source": [
        "## Download model testing jupyter notebook\n",
        "\n",
        "!wget https://raw.githubusercontent.com/danish2562022/PPI_prediction/main/model_results_analysis/model_testing.ipynb"
      ],
      "metadata": {
        "colab": {
          "base_uri": "https://localhost:8080/"
        },
        "id": "XIQiNhqAUptk",
        "outputId": "03c356d0-077c-4c91-b6ef-c7afd02441cc"
      },
      "execution_count": 59,
      "outputs": [
        {
          "output_type": "stream",
          "name": "stdout",
          "text": [
            "--2023-01-23 06:34:03--  https://raw.githubusercontent.com/danish2562022/PPI_prediction/main/model_results_analysis/model_testing.ipynb\n",
            "Resolving raw.githubusercontent.com (raw.githubusercontent.com)... 185.199.108.133, 185.199.109.133, 185.199.110.133, ...\n",
            "Connecting to raw.githubusercontent.com (raw.githubusercontent.com)|185.199.108.133|:443... connected.\n",
            "HTTP request sent, awaiting response... 200 OK\n",
            "Length: 21505 (21K) [text/plain]\n",
            "Saving to: ‘model_testing.ipynb.2’\n",
            "\n",
            "\rmodel_testing.ipynb   0%[                    ]       0  --.-KB/s               \rmodel_testing.ipynb 100%[===================>]  21.00K  --.-KB/s    in 0s      \n",
            "\n",
            "2023-01-23 06:34:03 (56.3 MB/s) - ‘model_testing.ipynb.2’ saved [21505/21505]\n",
            "\n"
          ]
        }
      ]
    },
    {
      "cell_type": "code",
      "source": [],
      "metadata": {
        "id": "NuxQFw5CVLSt"
      },
      "execution_count": 58,
      "outputs": []
    }
  ]
}
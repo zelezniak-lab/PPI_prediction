{
 "cells": [
  {
   "cell_type": "markdown",
   "id": "ee9e6e12",
   "metadata": {},
   "source": [
    "# 1. Importing important libraries"
   ]
  },
  {
   "cell_type": "code",
   "execution_count": 128,
   "id": "f87afc0c",
   "metadata": {},
   "outputs": [
    {
     "data": {
      "text/plain": [
       "True"
      ]
     },
     "execution_count": 128,
     "metadata": {},
     "output_type": "execute_result"
    }
   ],
   "source": [
    "from tqdm import tqdm\n",
    "import numpy as np\n",
    "import pandas as pd\n",
    "import matplotlib.pyplot as plt\n",
    "import torch\n",
    "import timeit\n",
    "\n",
    "import os\n",
    "import pickle\n",
    "import torch.nn as nn\n",
    "import torch.optim as optim\n",
    "from torch.utils.data import Dataset, DataLoader\n",
    "from sklearn.metrics import  confusion_matrix, ConfusionMatrixDisplay\n",
    "from sklearn.metrics import plot_confusion_matrix\n",
    "from matplotlib.pyplot import figure\n",
    "import wandb\n",
    "\n",
    "wandb.login()"
   ]
  },
  {
   "cell_type": "markdown",
   "id": "d13201b4",
   "metadata": {},
   "source": [
    "# 2. Basic EDA"
   ]
  },
  {
   "cell_type": "code",
   "execution_count": 135,
   "id": "b86c4140",
   "metadata": {},
   "outputs": [],
   "source": [
    "# train = pd.read_csv(\"../../csv_files_new_ppi/training_and_test_set/train_set_without_embedding.csv\")\n",
    "test =  pd.read_csv(\"../../csv_files_new_ppi/training_and_test_set/test_set_without_embedding.csv\")"
   ]
  },
  {
   "cell_type": "code",
   "execution_count": 136,
   "id": "100b971e",
   "metadata": {},
   "outputs": [
    {
     "data": {
      "text/plain": [
       "0    200000\n",
       "1     20000\n",
       "Name: label, dtype: int64"
      ]
     },
     "execution_count": 136,
     "metadata": {},
     "output_type": "execute_result"
    }
   ],
   "source": [
    "# train_pos = train[train.label == 1][0:100000]\n",
    "# train_neg = train[train.label == 0][0:100000]\n",
    "# train = pd.concat([train_pos,train_neg])\n",
    "\n",
    "test_pos = test[test.label == 1][0:20000]\n",
    "test_neg = test[test.label ==0][0:len(test_pos)*10]\n",
    "test = pd.concat([test_pos,test_neg])\n",
    "test.label.value_counts()"
   ]
  },
  {
   "cell_type": "code",
   "execution_count": 137,
   "id": "a875593d",
   "metadata": {},
   "outputs": [],
   "source": [
    "val_pos =  test[test.label == 1][0:10000]\n",
    "val_neg =  test[test.label == 0][0:10000]\n",
    "val = pd.concat([val_pos,val_neg])\n",
    "\n",
    "test_pos =  test[test.label == 1][10000:]\n",
    "test_neg =  test[test.label == 0][10000:]\n",
    "test = pd.concat([test_pos,test_neg])"
   ]
  },
  {
   "cell_type": "code",
   "execution_count": 138,
   "id": "54417de4",
   "metadata": {},
   "outputs": [
    {
     "name": "stdout",
     "output_type": "stream",
     "text": [
      "Size of Test dataset:  200000\n",
      "Size of val dataset:  20000\n"
     ]
    }
   ],
   "source": [
    "# print(\"Size of Train dataset: \", len(train))\n",
    "print(\"Size of Test dataset: \", len(test))\n",
    "print(\"Size of val dataset: \", len(val))"
   ]
  },
  {
   "cell_type": "code",
   "execution_count": 140,
   "id": "76efd1ad",
   "metadata": {},
   "outputs": [
    {
     "name": "stdout",
     "output_type": "stream",
     "text": [
      "------------------------------------------------------------------------------------------------------------------------------------------------------------------------------------------------------------------------------------\n",
      "Number of negative points in test set: 190000\n",
      "Number of positive points in test set: 10000\n",
      "------------------------------------------------------------------------------------------------------------------------------------------------------------------------------------------------------------------------------------\n",
      "Number of negative points in val set: 10000\n",
      "Number of positive points in val set: 10000\n"
     ]
    }
   ],
   "source": [
    "# print(f\"Number of negative points in training set: {train.label.value_counts()[0]}\")\n",
    "# print(f\"Number of positive points in training set: {train.label.value_counts()[1]}\")\n",
    "print(\"----\"*57)\n",
    "print(f\"Number of negative points in test set: {test.label.value_counts()[0]}\")\n",
    "print(f\"Number of positive points in test set: {test.label.value_counts()[1]}\")\n",
    "print(\"----\"*57)\n",
    "print(f\"Number of negative points in val set: {val.label.value_counts()[0]}\")\n",
    "print(f\"Number of positive points in val set: {val.label.value_counts()[1]}\")"
   ]
  },
  {
   "cell_type": "markdown",
   "id": "1dbb3682",
   "metadata": {},
   "source": [
    "# 3. Importing embedding vectors from pickle file"
   ]
  },
  {
   "cell_type": "code",
   "execution_count": 141,
   "id": "0de3e5d3",
   "metadata": {},
   "outputs": [],
   "source": [
    "with open(\"../../pickle/embedding_vectors_pickle/sum_of_amino_acid_vector.pickle\",'rb') as handle:\n",
    "    dc = pickle.load(handle)"
   ]
  },
  {
   "cell_type": "code",
   "execution_count": 142,
   "id": "de026ef2",
   "metadata": {},
   "outputs": [],
   "source": [
    "def return_embed(prot_name):\n",
    "    try:\n",
    "        return dc[prot_name]\n",
    "    except:\n",
    "        return np.nan\n",
    "# train['embed_vec_protein_A'] = train[\"Protein_A\"].apply(return_embed)\n",
    "# train['embed_vec_protein_B'] = train[\"Protein_B\"].apply(return_embed)\n",
    "\n",
    "test['embed_vec_protein_A'] = test[\"Protein_A\"].apply(return_embed)\n",
    "test['embed_vec_protein_B'] = test[\"Protein_B\"].apply(return_embed)\n",
    "\n",
    "# val['embed_vec_protein_A'] = val[\"Protein_A\"].apply(return_embed)\n",
    "# val['embed_vec_protein_B'] = val[\"Protein_B\"].apply(return_embed)\n",
    "\n",
    "\n",
    "# train = train.dropna()\n",
    "test = test.dropna()\n",
    "# val = val.dropna()"
   ]
  },
  {
   "cell_type": "code",
   "execution_count": 143,
   "id": "b64e9a6a",
   "metadata": {},
   "outputs": [
    {
     "name": "stderr",
     "output_type": "stream",
     "text": [
      "100%|████████████████████████████████████████████████| 200000/200000 [00:42<00:00, 4665.09it/s]\n"
     ]
    }
   ],
   "source": [
    "train_features_Protein_A = []\n",
    "train_features_Protein_B = []\n",
    "train_label = []\n",
    "test_features_Protein_A = []\n",
    "test_features_Protein_B = []\n",
    "test_label =[]\n",
    "val_features_Protein_A = []\n",
    "val_features_Protein_B = []\n",
    "# val_label = []\n",
    "# for i in tqdm(range(len(train))):\n",
    "#     train_features_Protein_A.append(np.array(train.iloc[i].embed_vec_protein_A))\n",
    "#     train_features_Protein_B.append(np.array(train.iloc[i].embed_vec_protein_B))\n",
    "#     train_label.append(np.array(train.iloc[i].label))\n",
    "    \n",
    "for i in tqdm(range(len(test))):\n",
    "    test_features_Protein_A.append(np.array(test.iloc[i].embed_vec_protein_A))\n",
    "    test_features_Protein_B.append(np.array(test.iloc[i].embed_vec_protein_B))\n",
    "    test_label.append(np.array(test.iloc[i].label))  \n",
    "# for i in tqdm(range(len(val))):\n",
    "    \n",
    "    \n",
    "#     val_features_Protein_A.append(np.array(val.iloc[i].embed_vec_protein_A))\n",
    "#     val_features_Protein_B.append(np.array(val.iloc[i].embed_vec_protein_B))\n",
    "#     val_label.append(np.array(val.iloc[i].label))"
   ]
  },
  {
   "cell_type": "code",
   "execution_count": 144,
   "id": "8b1f23cc",
   "metadata": {},
   "outputs": [],
   "source": [
    "# train_features_Protein_A = np.array(train_features_Protein_A)\n",
    "# train_features_Protein_B = np.array(train_features_Protein_B)\n",
    "# train_label = np.array(train_label)\n",
    "\n",
    "test_features_Protein_A = np.array(test_features_Protein_A)\n",
    "test_features_Protein_B = np.array(test_features_Protein_B)\n",
    "test_label = np.array(test_label)\n",
    "\n",
    "# val_features_Protein_A = np.array(val_features_Protein_A)\n",
    "# val_features_Protein_B = np.array(val_features_Protein_B)\n",
    "# val_label = np.array(val_label)"
   ]
  },
  {
   "cell_type": "markdown",
   "id": "f6833262",
   "metadata": {},
   "source": [
    "# 4. Dataloader"
   ]
  },
  {
   "cell_type": "code",
   "execution_count": 145,
   "id": "5fcd522a",
   "metadata": {},
   "outputs": [],
   "source": [
    "class Data(Dataset):\n",
    "    \n",
    "    def __init__(self, X_data_A,X_data_B, y_data):\n",
    "        self.X_data_A = X_data_A\n",
    "        self.X_data_B = X_data_B\n",
    "        self.y_data = y_data\n",
    "        \n",
    "    def __getitem__(self, index):\n",
    "        return self.X_data_A[index],self.X_data_B[index], self.y_data[index]\n",
    "        \n",
    "    def __len__ (self):\n",
    "        return len(self.X_data_A)"
   ]
  },
  {
   "cell_type": "code",
   "execution_count": 146,
   "id": "cbf7455f",
   "metadata": {},
   "outputs": [],
   "source": [
    "# train_data = Data(torch.FloatTensor(train_features_Protein_A), torch.FloatTensor(train_features_Protein_B),\n",
    "#                        torch.FloatTensor(train_label))\n",
    "\n",
    "test_data = Data(torch.FloatTensor(test_features_Protein_A), torch.FloatTensor(test_features_Protein_B),\n",
    "                       torch.FloatTensor(test_label))\n",
    "\n",
    "# val_data = Data(torch.FloatTensor(val_features_Protein_A), torch.FloatTensor(val_features_Protein_B),\n",
    "#                        torch.FloatTensor(val_label))"
   ]
  },
  {
   "cell_type": "code",
   "execution_count": 147,
   "id": "c0f2589d",
   "metadata": {},
   "outputs": [],
   "source": [
    "\n",
    "# train_loader = DataLoader(dataset=train_data, batch_size=512, shuffle=True,drop_last=True)\n",
    "test_loader = DataLoader(dataset=test_data, batch_size=512,shuffle=True,drop_last=True )\n",
    "# val_loader = DataLoader(dataset=val_data, batch_size=512,shuffle=True,drop_last=True )"
   ]
  },
  {
   "cell_type": "code",
   "execution_count": 148,
   "id": "ced5e5c3",
   "metadata": {},
   "outputs": [
    {
     "name": "stdout",
     "output_type": "stream",
     "text": [
      "torch.Size([512, 1024])\n",
      "torch.Size([512, 1024])\n",
      "torch.Size([512])\n"
     ]
    }
   ],
   "source": [
    "for i,j,k in test_loader:\n",
    "    print(i.shape)\n",
    "    print(j.shape)\n",
    "    print(k.shape)\n",
    "    break\n",
    "    "
   ]
  },
  {
   "cell_type": "markdown",
   "id": "070aa937",
   "metadata": {},
   "source": [
    "\n",
    "# 5. Model_testing"
   ]
  },
  {
   "cell_type": "markdown",
   "id": "1b44a933",
   "metadata": {},
   "source": [
    "### 5.1  Approach_2_concat_siamese_network_on_sum_(Probert-BFD)\n",
    "<pre>\n",
    "Training Script: Approach_2_concat_siamese_network_on_sum_.ipynb\n",
    "</pre>\n"
   ]
  },
  {
   "cell_type": "code",
   "execution_count": 149,
   "id": "317ccc0f",
   "metadata": {},
   "outputs": [],
   "source": [
    "class BertClassifier(nn.Module):\n",
    "    \n",
    "    def __init__(self,config, embed_dim =1024):\n",
    "        super(BertClassifier,self).__init__()\n",
    "        self.relu = nn.ReLU()\n",
    "        self.config = config\n",
    "        self.conv1  = nn.Conv1d(in_channels = 1,out_channels = 33, kernel_size = 3, stride=1)\n",
    "        self.fc1 = nn.Linear(33726,config.dim_1)\n",
    "        self.fully_connected_layers_1 = nn.ModuleList([nn.Linear(config.dim_1*2,config.dim_1*2)\n",
    "                                                    for _ in range(config.layer_fc_1)])\n",
    "        \n",
    "        \n",
    "    \n",
    "        self.fc_2 = nn.Linear(config.dim_1*2,config.dim_2)\n",
    "        self.fully_connected_layers_2 = nn.ModuleList([nn.Linear(config.dim_2,config.dim_2)\n",
    "                                                    for _ in range(config.layer_fc_2)]) \n",
    "        self.bn2 = nn.BatchNorm1d(num_features=config.dim_2)\n",
    "        self.fc3 = nn.Linear(config.dim_2,config.dim_1)\n",
    "        \n",
    "        self.fc4 = nn.Linear(config.dim_1,256)\n",
    "        self.drop = nn.Dropout(p = 0.2)\n",
    "        self.fc5 = nn.Linear(256,128)\n",
    "        self.fc6 = nn.Linear(128,64)\n",
    "        self.fc7 = nn.Linear(64,32)\n",
    "        self.fc8 = nn.Linear(32,16)\n",
    "        self.fc9 = nn.Linear(16,8)\n",
    "        self.fc10 = nn.Linear(8,1)\n",
    "    \n",
    "    def forward(self, inputs_A,inputs_B):\n",
    "        \n",
    "        \n",
    "        inputs_A = inputs_A.reshape(512,1,1024)\n",
    "        output_conv_A = self.relu(self.conv1(inputs_A))\n",
    "        output_conv_A = output_conv_A.reshape(512,33726) \n",
    "        output_A = self.relu(self.fc1(output_conv_A))\n",
    "        \n",
    "        inputs_B = inputs_B.reshape(512,1,1024)\n",
    "        output_conv_B = self.relu(self.conv1(inputs_B))\n",
    "        output_conv_B = output_conv_B.reshape(512,33726) \n",
    "        output_B = self.relu(self.fc1(output_conv_B))\n",
    "        \n",
    "        \n",
    "        output = torch.cat((output_A, output_B),1)\n",
    "        for i in range(self.config.layer_fc_1):\n",
    "            output = self.relu(self.fully_connected_layers_1[i](output))\n",
    "        output = self.relu(self.fc_2(output))\n",
    "        for i in range(self.config.layer_fc_2):\n",
    "            output = self.relu(self.fully_connected_layers_2[i](output))\n",
    "            \n",
    "        output  = self.bn2(output)\n",
    "        output = self.relu(self.fc3(output))\n",
    "        if self.config.dropout:\n",
    "            output = self.drop(output)\n",
    "            \n",
    "        output = self.relu(self.fc4(output))\n",
    "        output = self.relu(self.fc5(output))\n",
    "        output = self.relu(self.fc6(output))\n",
    "        output = self.fc7(output)\n",
    "        output = self.fc8(output)\n",
    "        output = self.fc9(output)\n",
    "        output = self.fc10(output)\n",
    "\n",
    "        return output"
   ]
  },
  {
   "cell_type": "code",
   "execution_count": 150,
   "id": "ae8abe36",
   "metadata": {},
   "outputs": [],
   "source": [
    "def evaluate(val_dataloader,config):\n",
    "    device = \"cpu\"\n",
    "    loss_fn = nn.BCEWithLogitsLoss()\n",
    "    model = BertClassifier(config)\n",
    "    model.load_state_dict(torch.load(\"best_model_trained_fc_v2.pth\")['model_state_dict'])\n",
    "    model.eval()\n",
    "    val_accuracy = []\n",
    "    val_loss = []\n",
    "    for batch in tqdm(val_dataloader):\n",
    "        device = torch.device(\"cpu\")\n",
    "        inputs_A,inputs_B ,b_labels = tuple(t.to(device) for t in batch)\n",
    "        b_labels = b_labels.reshape((1,512,1)).squeeze(0)\n",
    "        with torch.no_grad():\n",
    "                logits = model(inputs_A,inputs_B)\n",
    "        \n",
    "        loss = loss_fn(logits, b_labels.float())\n",
    "        val_loss.append(loss.item())\n",
    "        preds = torch.round(torch.sigmoid(logits))\n",
    "        \n",
    "        accuracy = (preds.float() == b_labels.float()).cpu().numpy().mean() * 100\n",
    "        val_accuracy.append(accuracy)\n",
    "    \n",
    "    val_loss = np.mean(val_loss)\n",
    "    val_accuracy = np.mean(val_accuracy)\n",
    "\n",
    "    return val_loss, val_accuracy,model "
   ]
  },
  {
   "cell_type": "code",
   "execution_count": 151,
   "id": "187891f7",
   "metadata": {},
   "outputs": [
    {
     "data": {
      "text/plain": [
       "{'layer_fc_1': 2,\n",
       " 'dim_1': 2048,\n",
       " 'layer_fc_2': 2,\n",
       " 'dim_2': 512,\n",
       " 'dropout': False,\n",
       " 'optimizer': 'adam',\n",
       " 'learning_rate': 7e-05,\n",
       " 'momentum': 0.95,\n",
       " 'weight_decay': 0.01,\n",
       " 'amsgrad': False,\n",
       " 'epochs': 500}"
      ]
     },
     "execution_count": 151,
     "metadata": {},
     "output_type": "execute_result"
    }
   ],
   "source": [
    "config = dict(layer_fc_1 = 2,\n",
    "        dim_1 = 2048,\n",
    "        layer_fc_2 = 2,\n",
    "        dim_2 = 512,\n",
    "        dropout = False,\n",
    "        optimizer = 'adam',\n",
    "        learning_rate = 0.00007,\n",
    "        momentum = 0.95,\n",
    "        weight_decay = 0.01,\n",
    "        amsgrad = False,\n",
    "        epochs = 500)\n",
    "# model = BertClassifier(config)\n",
    "config"
   ]
  },
  {
   "cell_type": "code",
   "execution_count": 152,
   "id": "22c5cbf8",
   "metadata": {},
   "outputs": [],
   "source": [
    "def model_pipeline(config=None):\n",
    "\n",
    "    # tell wandb to get started\n",
    "    with wandb.init(project=\"model_testing_Approach_2_concat_siamese_network_on_sum_\", config=config):\n",
    "      # access all HPs through wandb.config, so logging matches execution!\n",
    "      config = wandb.config\n",
    "      for i,j,k in test_loader:\n",
    "          x = (i,j)\n",
    "          \n",
    "      val_loss,val_accuracy,model = evaluate(test_loader,config)\n",
    "      \n",
    "      \n",
    "      torch.onnx.export(model,x, \"model.onnx\")\n",
    "      wandb.save(\"model.onnx\")\n",
    "      return val_loss,val_accuracy,model"
   ]
  },
  {
   "cell_type": "code",
   "execution_count": 155,
   "id": "e2c7af69",
   "metadata": {},
   "outputs": [
    {
     "name": "stderr",
     "output_type": "stream",
     "text": [
      "100%|████████████████████████████████████████████████████████| 390/390 [07:37<00:00,  1.17s/it]\n"
     ]
    }
   ],
   "source": [
    "truth = []\n",
    "predicted = []   \n",
    "for inputs_A,inputs_B,b_label in tqdm(test_loader):\n",
    "    b_label = b_label.reshape((1,512,1)).squeeze(0)\n",
    "    with torch.no_grad():\n",
    "        logits = model(inputs_A,inputs_B)\n",
    "        \n",
    "    preds = torch.round(torch.sigmoid(logits))\n",
    "    predicted.extend(preds.detach().numpy())\n",
    "    truth.extend(b_label.detach().numpy())    "
   ]
  },
  {
   "cell_type": "code",
   "execution_count": 156,
   "id": "f481f32f",
   "metadata": {},
   "outputs": [
    {
     "name": "stderr",
     "output_type": "stream",
     "text": [
      "199680it [00:00, 839407.29it/s]\n"
     ]
    }
   ],
   "source": [
    "TN = 0\n",
    "FN = 0  \n",
    "TP = 0\n",
    "FP = 0\n",
    "\n",
    "for i,j in tqdm(enumerate(truth)):\n",
    "    if int(j[0]) == 0:\n",
    "        if int(predicted[i][0]) == 0:\n",
    "            TN += 1\n",
    "        else:\n",
    "            FP += 1\n",
    "            \n",
    "    elif int(j[0]) == 1:\n",
    "        if int(predicted[i][0]) == 0:\n",
    "            FN += 1\n",
    "        else:\n",
    "            TP += 1"
   ]
  },
  {
   "cell_type": "code",
   "execution_count": 157,
   "id": "2b8e8c16",
   "metadata": {},
   "outputs": [
    {
     "name": "stdout",
     "output_type": "stream",
     "text": [
      "Positive Accuracy/Recall/Sensitivity/TPR: 79.10283368378892%\n",
      "Negative Accuracy/Specificity/TNR: 80.91758789201499%\n"
     ]
    }
   ],
   "source": [
    "print(f\"Positive Accuracy/Recall/Sensitivity/TPR: {TP/truth.count(1)*100}%\")\n",
    "print(f\"Negative Accuracy/Specificity/TNR: {TN/truth.count(0)*100}%\")"
   ]
  },
  {
   "cell_type": "code",
   "execution_count": 160,
   "id": "185eab07",
   "metadata": {},
   "outputs": [],
   "source": [
    "assert(FP+TN == truth.count(0))\n",
    "assert(FN+TP == truth.count(1))"
   ]
  },
  {
   "cell_type": "code",
   "execution_count": 161,
   "id": "e7cfcb77",
   "metadata": {},
   "outputs": [
    {
     "name": "stdout",
     "output_type": "stream",
     "text": [
      "FPR: 19.082412107985007%\n",
      "FNR: 20.897166316211074%\n"
     ]
    }
   ],
   "source": [
    "false_positive_rate = FP/truth.count(0)\n",
    "false_negative_rate = FN/truth.count(1)\n",
    "print(f\"FPR: {false_positive_rate *100}%\")\n",
    "print(f\"FNR: {false_negative_rate *100}%\")"
   ]
  },
  {
   "cell_type": "markdown",
   "id": "640e8da4",
   "metadata": {},
   "source": [
    "#### Results summary \n",
    "\n",
    "<pre>\n",
    "On highly imbalanced independdent test-set(1:19)\n",
    "Positive Accuracy: 79.102%\n",
    "negative_Accuracy: 80.19%\n",
    "FPR: 19.08%\n",
    "FNR: 20.89%\n",
    "</pre>"
   ]
  },
  {
   "cell_type": "code",
   "execution_count": null,
   "id": "5b51b225",
   "metadata": {},
   "outputs": [],
   "source": []
  },
  {
   "cell_type": "code",
   "execution_count": null,
   "id": "a51af2c1",
   "metadata": {},
   "outputs": [],
   "source": []
  }
 ],
 "metadata": {
  "kernelspec": {
   "display_name": "Python 3 (ipykernel)",
   "language": "python",
   "name": "python3"
  },
  "language_info": {
   "codemirror_mode": {
    "name": "ipython",
    "version": 3
   },
   "file_extension": ".py",
   "mimetype": "text/x-python",
   "name": "python",
   "nbconvert_exporter": "python",
   "pygments_lexer": "ipython3",
   "version": "3.9.12"
  }
 },
 "nbformat": 4,
 "nbformat_minor": 5
}

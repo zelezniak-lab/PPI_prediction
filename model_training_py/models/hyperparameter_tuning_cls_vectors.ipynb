{
 "cells": [
  {
   "cell_type": "code",
   "execution_count": 1,
   "id": "b3f58838",
   "metadata": {},
   "outputs": [
    {
     "name": "stderr",
     "output_type": "stream",
     "text": [
      "/home/anwer/anaconda3/lib/python3.9/site-packages/scipy/__init__.py:146: UserWarning: A NumPy version >=1.16.5 and <1.23.0 is required for this version of SciPy (detected version 1.23.5\n",
      "  warnings.warn(f\"A NumPy version >={np_minversion} and <{np_maxversion}\"\n"
     ]
    }
   ],
   "source": [
    "from tqdm import tqdm\n",
    "import numpy as np\n",
    "import pandas as pd\n",
    "import matplotlib.pyplot as plt\n",
    "import torch\n",
    "import timeit\n",
    "\n",
    "import os\n",
    "import pickle\n",
    "import torch.nn as nn\n",
    "import torch.optim as optim\n",
    "from torch.utils.data import Dataset, DataLoader\n",
    "from sklearn.metrics import  confusion_matrix, ConfusionMatrixDisplay\n",
    "from sklearn.metrics import plot_confusion_matrix\n",
    "from matplotlib.pyplot import figure"
   ]
  },
  {
   "cell_type": "markdown",
   "id": "ad918536",
   "metadata": {},
   "source": [
    "# 1. Data Load"
   ]
  },
  {
   "cell_type": "code",
   "execution_count": 3,
   "id": "9cc49f7d",
   "metadata": {},
   "outputs": [],
   "source": [
    "dc = {}\n",
    "l = 0 \n",
    "for i in os.listdir(\"/home/anwer/Desktop/cls_embed/\"):\n",
    "    path = os.path.join(\"/home/anwer/Desktop/cls_embed/\",i)\n",
    "    with open(path,'rb') as handle:\n",
    "        d = pickle.load(handle)\n",
    "    l = l+1\n",
    "   \n",
    "    dc.update(d)\n",
    "    if l == 7:\n",
    "        break"
   ]
  },
  {
   "cell_type": "code",
   "execution_count": 4,
   "id": "d22b3e2e",
   "metadata": {},
   "outputs": [],
   "source": [
    "train = pd.read_csv(\"../../csv_files_new_ppi/training_and_test_set/combined_prot_a_prot_b//combined_train_only_name.csv\")\n",
    "test =  pd.read_csv(\"../../csv_files_new_ppi/training_and_test_set/combined_prot_a_prot_b//combined_test_only_name.csv\")"
   ]
  },
  {
   "cell_type": "code",
   "execution_count": 5,
   "id": "91231f5a",
   "metadata": {},
   "outputs": [],
   "source": [
    "def return_embed(prot_name):\n",
    "    try:\n",
    "        return dc[prot_name]\n",
    "    except:\n",
    "        return np.nan\n",
    "train['embed_vec'] = train[\"Protein_name\"].apply(return_embed)\n",
    "test['embed_vec'] = test[\"Protein_name\"].apply(return_embed)\n",
    "\n",
    "train = train.dropna()\n",
    "test = test.dropna()"
   ]
  },
  {
   "cell_type": "code",
   "execution_count": 6,
   "id": "1f65b40a",
   "metadata": {},
   "outputs": [
    {
     "data": {
      "text/plain": [
       "0    45434\n",
       "1     4566\n",
       "Name: label, dtype: int64"
      ]
     },
     "execution_count": 6,
     "metadata": {},
     "output_type": "execute_result"
    }
   ],
   "source": [
    "train = train.sample(frac=1).reset_index(drop=True)\n",
    "test = test.sample(frac=1).reset_index(drop=True)\n",
    "val = test.iloc[50000:]\n",
    "test = test.iloc[0:50000]\n",
    "test.label.value_counts()"
   ]
  },
  {
   "cell_type": "code",
   "execution_count": 7,
   "id": "71663e21",
   "metadata": {},
   "outputs": [],
   "source": [
    "val_neg = val[val.label == 0][0:6163]\n",
    "val_pos = val[val.label == 1][0:6163]\n",
    "val = pd.concat([val_neg,val_pos])\n",
    "val = val.sample(frac=1).reset_index(drop=True)"
   ]
  },
  {
   "cell_type": "code",
   "execution_count": 8,
   "id": "11f0a45e",
   "metadata": {},
   "outputs": [
    {
     "name": "stdout",
     "output_type": "stream",
     "text": [
      "0    6163\n",
      "1    5361\n",
      "Name: label, dtype: int64\n"
     ]
    },
    {
     "data": {
      "text/html": [
       "<div>\n",
       "<style scoped>\n",
       "    .dataframe tbody tr th:only-of-type {\n",
       "        vertical-align: middle;\n",
       "    }\n",
       "\n",
       "    .dataframe tbody tr th {\n",
       "        vertical-align: top;\n",
       "    }\n",
       "\n",
       "    .dataframe thead th {\n",
       "        text-align: right;\n",
       "    }\n",
       "</style>\n",
       "<table border=\"1\" class=\"dataframe\">\n",
       "  <thead>\n",
       "    <tr style=\"text-align: right;\">\n",
       "      <th></th>\n",
       "      <th>Protein_name</th>\n",
       "      <th>label</th>\n",
       "      <th>embed_vec</th>\n",
       "    </tr>\n",
       "  </thead>\n",
       "  <tbody>\n",
       "    <tr>\n",
       "      <th>0</th>\n",
       "      <td>Prot_1291389</td>\n",
       "      <td>0</td>\n",
       "      <td>[0.086794764, 0.013156574, 0.0744264, 0.035471...</td>\n",
       "    </tr>\n",
       "    <tr>\n",
       "      <th>1</th>\n",
       "      <td>Prot_1293446</td>\n",
       "      <td>1</td>\n",
       "      <td>[0.04804376, -0.0044574244, 0.07434094, 0.0169...</td>\n",
       "    </tr>\n",
       "    <tr>\n",
       "      <th>2</th>\n",
       "      <td>Prot_1020546</td>\n",
       "      <td>0</td>\n",
       "      <td>[0.104832344, 0.002876829, 0.057814967, 0.0509...</td>\n",
       "    </tr>\n",
       "    <tr>\n",
       "      <th>3</th>\n",
       "      <td>Prot_1169728</td>\n",
       "      <td>0</td>\n",
       "      <td>[0.05599065, 0.0009083219, 0.11614447, 0.01728...</td>\n",
       "    </tr>\n",
       "    <tr>\n",
       "      <th>4</th>\n",
       "      <td>Prot_1273451</td>\n",
       "      <td>0</td>\n",
       "      <td>[0.08105801, 0.01175717, 0.10160175, 0.0184878...</td>\n",
       "    </tr>\n",
       "  </tbody>\n",
       "</table>\n",
       "</div>"
      ],
      "text/plain": [
       "   Protein_name  label                                          embed_vec\n",
       "0  Prot_1291389      0  [0.086794764, 0.013156574, 0.0744264, 0.035471...\n",
       "1  Prot_1293446      1  [0.04804376, -0.0044574244, 0.07434094, 0.0169...\n",
       "2  Prot_1020546      0  [0.104832344, 0.002876829, 0.057814967, 0.0509...\n",
       "3  Prot_1169728      0  [0.05599065, 0.0009083219, 0.11614447, 0.01728...\n",
       "4  Prot_1273451      0  [0.08105801, 0.01175717, 0.10160175, 0.0184878..."
      ]
     },
     "execution_count": 8,
     "metadata": {},
     "output_type": "execute_result"
    }
   ],
   "source": [
    "print(val.label.value_counts())\n",
    "\n",
    "val.head()"
   ]
  },
  {
   "cell_type": "code",
   "execution_count": 9,
   "id": "7f44be4a",
   "metadata": {},
   "outputs": [
    {
     "name": "stdout",
     "output_type": "stream",
     "text": [
      "0    45434\n",
      "1     4566\n",
      "Name: label, dtype: int64\n"
     ]
    },
    {
     "data": {
      "text/html": [
       "<div>\n",
       "<style scoped>\n",
       "    .dataframe tbody tr th:only-of-type {\n",
       "        vertical-align: middle;\n",
       "    }\n",
       "\n",
       "    .dataframe tbody tr th {\n",
       "        vertical-align: top;\n",
       "    }\n",
       "\n",
       "    .dataframe thead th {\n",
       "        text-align: right;\n",
       "    }\n",
       "</style>\n",
       "<table border=\"1\" class=\"dataframe\">\n",
       "  <thead>\n",
       "    <tr style=\"text-align: right;\">\n",
       "      <th></th>\n",
       "      <th>Protein_name</th>\n",
       "      <th>label</th>\n",
       "      <th>embed_vec</th>\n",
       "    </tr>\n",
       "  </thead>\n",
       "  <tbody>\n",
       "    <tr>\n",
       "      <th>0</th>\n",
       "      <td>Prot_1044787</td>\n",
       "      <td>0</td>\n",
       "      <td>[0.06247573, -0.036905456, 0.05860683, 0.04706...</td>\n",
       "    </tr>\n",
       "    <tr>\n",
       "      <th>1</th>\n",
       "      <td>Prot_1119375</td>\n",
       "      <td>0</td>\n",
       "      <td>[0.094629884, 0.030718494, 0.1497275, 0.017708...</td>\n",
       "    </tr>\n",
       "    <tr>\n",
       "      <th>2</th>\n",
       "      <td>Prot_1217529</td>\n",
       "      <td>0</td>\n",
       "      <td>[0.08543196, -0.004241375, 0.062733404, 0.0195...</td>\n",
       "    </tr>\n",
       "    <tr>\n",
       "      <th>3</th>\n",
       "      <td>Prot_1282723</td>\n",
       "      <td>1</td>\n",
       "      <td>[0.0911243, -0.05816635, 0.049549427, -0.00700...</td>\n",
       "    </tr>\n",
       "    <tr>\n",
       "      <th>4</th>\n",
       "      <td>Prot_1266332</td>\n",
       "      <td>0</td>\n",
       "      <td>[0.024641423, 0.024009382, 0.11739512, 0.04144...</td>\n",
       "    </tr>\n",
       "  </tbody>\n",
       "</table>\n",
       "</div>"
      ],
      "text/plain": [
       "   Protein_name  label                                          embed_vec\n",
       "0  Prot_1044787      0  [0.06247573, -0.036905456, 0.05860683, 0.04706...\n",
       "1  Prot_1119375      0  [0.094629884, 0.030718494, 0.1497275, 0.017708...\n",
       "2  Prot_1217529      0  [0.08543196, -0.004241375, 0.062733404, 0.0195...\n",
       "3  Prot_1282723      1  [0.0911243, -0.05816635, 0.049549427, -0.00700...\n",
       "4  Prot_1266332      0  [0.024641423, 0.024009382, 0.11739512, 0.04144..."
      ]
     },
     "execution_count": 9,
     "metadata": {},
     "output_type": "execute_result"
    }
   ],
   "source": [
    "print(test.label.value_counts())\n",
    "test.head()"
   ]
  },
  {
   "cell_type": "code",
   "execution_count": 10,
   "id": "cc62bbd3",
   "metadata": {},
   "outputs": [
    {
     "name": "stdout",
     "output_type": "stream",
     "text": [
      "1    113334\n",
      "0    113292\n",
      "Name: label, dtype: int64\n"
     ]
    },
    {
     "data": {
      "text/html": [
       "<div>\n",
       "<style scoped>\n",
       "    .dataframe tbody tr th:only-of-type {\n",
       "        vertical-align: middle;\n",
       "    }\n",
       "\n",
       "    .dataframe tbody tr th {\n",
       "        vertical-align: top;\n",
       "    }\n",
       "\n",
       "    .dataframe thead th {\n",
       "        text-align: right;\n",
       "    }\n",
       "</style>\n",
       "<table border=\"1\" class=\"dataframe\">\n",
       "  <thead>\n",
       "    <tr style=\"text-align: right;\">\n",
       "      <th></th>\n",
       "      <th>Protein_name</th>\n",
       "      <th>label</th>\n",
       "      <th>embed_vec</th>\n",
       "    </tr>\n",
       "  </thead>\n",
       "  <tbody>\n",
       "    <tr>\n",
       "      <th>0</th>\n",
       "      <td>Prot_1125492</td>\n",
       "      <td>0</td>\n",
       "      <td>[0.04241518, 0.031186987, 0.11757413, 0.003731...</td>\n",
       "    </tr>\n",
       "    <tr>\n",
       "      <th>1</th>\n",
       "      <td>Prot_1368020</td>\n",
       "      <td>0</td>\n",
       "      <td>[0.08584418, -0.005175212, 0.112279445, 0.0255...</td>\n",
       "    </tr>\n",
       "    <tr>\n",
       "      <th>2</th>\n",
       "      <td>Prot_1272998</td>\n",
       "      <td>1</td>\n",
       "      <td>[0.07758383, -0.0066675195, 0.1364541, 0.03598...</td>\n",
       "    </tr>\n",
       "    <tr>\n",
       "      <th>3</th>\n",
       "      <td>Prot_1164555</td>\n",
       "      <td>1</td>\n",
       "      <td>[0.07059293, 0.03491224, 0.09695114, 0.0062628...</td>\n",
       "    </tr>\n",
       "    <tr>\n",
       "      <th>4</th>\n",
       "      <td>Prot_1006280</td>\n",
       "      <td>0</td>\n",
       "      <td>[0.12699686, -0.003101216, 0.10533013, 0.03658...</td>\n",
       "    </tr>\n",
       "  </tbody>\n",
       "</table>\n",
       "</div>"
      ],
      "text/plain": [
       "   Protein_name  label                                          embed_vec\n",
       "0  Prot_1125492      0  [0.04241518, 0.031186987, 0.11757413, 0.003731...\n",
       "1  Prot_1368020      0  [0.08584418, -0.005175212, 0.112279445, 0.0255...\n",
       "2  Prot_1272998      1  [0.07758383, -0.0066675195, 0.1364541, 0.03598...\n",
       "3  Prot_1164555      1  [0.07059293, 0.03491224, 0.09695114, 0.0062628...\n",
       "4  Prot_1006280      0  [0.12699686, -0.003101216, 0.10533013, 0.03658..."
      ]
     },
     "execution_count": 10,
     "metadata": {},
     "output_type": "execute_result"
    }
   ],
   "source": [
    "print(train.label.value_counts())\n",
    "train.head()"
   ]
  },
  {
   "cell_type": "markdown",
   "id": "c2055e8a",
   "metadata": {},
   "source": [
    "## 1.1 Dataloader"
   ]
  },
  {
   "cell_type": "code",
   "execution_count": 11,
   "id": "219b1f81",
   "metadata": {},
   "outputs": [
    {
     "name": "stderr",
     "output_type": "stream",
     "text": [
      "100%|████████████████████████████████████████████████| 226626/226626 [00:33<00:00, 6852.01it/s]\n",
      "100%|██████████████████████████████████████████████████| 50000/50000 [00:07<00:00, 6853.42it/s]\n",
      "100%|██████████████████████████████████████████████████| 11524/11524 [00:01<00:00, 6942.94it/s]\n"
     ]
    }
   ],
   "source": [
    "train_features = []\n",
    "train_label = []\n",
    "test_features = []\n",
    "test_label =[]\n",
    "val_features = []\n",
    "val_label = []\n",
    "for i in tqdm(range(len(train))):\n",
    "    train_features.append(np.array(train.iloc[i].embed_vec))\n",
    "    train_label.append(np.array(train.iloc[i].label))\n",
    "    \n",
    "for i in tqdm(range(len(test))):\n",
    "    test_features.append(np.array(test.iloc[i].embed_vec))\n",
    "    test_label.append(np.array(test.iloc[i].label))  \n",
    "for i in tqdm(range(len(val))):\n",
    "    \n",
    "    val_features.append(np.array(val.iloc[i].embed_vec))\n",
    "    val_label.append(np.array(val.iloc[i].label))"
   ]
  },
  {
   "cell_type": "code",
   "execution_count": 13,
   "id": "9017b07c",
   "metadata": {},
   "outputs": [],
   "source": [
    "train_features = np.array(train_features)\n",
    "train_label = np.array(train_label)\n",
    "\n",
    "test_features = np.array(test_features)\n",
    "test_label = np.array(test_label)\n",
    "\n",
    "val_features = np.array(val_features)\n",
    "val_label = np.array(val_label)"
   ]
  },
  {
   "cell_type": "code",
   "execution_count": 14,
   "id": "403c42b6",
   "metadata": {},
   "outputs": [
    {
     "data": {
      "text/plain": [
       "array([0, 1, 0, ..., 0, 0, 0])"
      ]
     },
     "execution_count": 14,
     "metadata": {},
     "output_type": "execute_result"
    }
   ],
   "source": [
    "val_label"
   ]
  },
  {
   "cell_type": "code",
   "execution_count": 15,
   "id": "d5d1de65",
   "metadata": {},
   "outputs": [],
   "source": [
    "class Data(Dataset):\n",
    "    \n",
    "    def __init__(self, X_data, y_data):\n",
    "        self.X_data = X_data\n",
    "        self.y_data = y_data\n",
    "        \n",
    "    def __getitem__(self, index):\n",
    "        return self.X_data[index], self.y_data[index]\n",
    "        \n",
    "    def __len__ (self):\n",
    "        return len(self.X_data)"
   ]
  },
  {
   "cell_type": "code",
   "execution_count": 16,
   "id": "489d7f56",
   "metadata": {},
   "outputs": [],
   "source": [
    "train_data = Data(torch.FloatTensor(train_features), \n",
    "                       torch.FloatTensor(train_label))\n",
    "\n",
    "test_data = Data(torch.FloatTensor(test_features), \n",
    "                       torch.FloatTensor(test_label))\n",
    "\n",
    "val_data = Data(torch.FloatTensor(val_features), \n",
    "                       torch.FloatTensor(val_label))"
   ]
  },
  {
   "cell_type": "code",
   "execution_count": 17,
   "id": "9b1940e3",
   "metadata": {},
   "outputs": [],
   "source": [
    "train_loader = DataLoader(dataset=train_data, batch_size=2048*10, shuffle=True,drop_last=True)\n",
    "test_loader = DataLoader(dataset=test_data, batch_size=6000,drop_last=True )\n",
    "val_loader = DataLoader(dataset=val_data, batch_size=6000,drop_last=True )"
   ]
  },
  {
   "cell_type": "markdown",
   "id": "86979746",
   "metadata": {},
   "source": [
    "# 2. Hyperparameter Tuning"
   ]
  },
  {
   "cell_type": "code",
   "execution_count": 18,
   "id": "ad2b8c22",
   "metadata": {},
   "outputs": [
    {
     "name": "stderr",
     "output_type": "stream",
     "text": [
      "Failed to detect the name of this notebook, you can set it manually with the WANDB_NOTEBOOK_NAME environment variable to enable code saving.\n",
      "\u001b[34m\u001b[1mwandb\u001b[0m: Currently logged in as: \u001b[33mdanish2562022\u001b[0m. Use \u001b[1m`wandb login --relogin`\u001b[0m to force relogin\n"
     ]
    },
    {
     "data": {
      "text/plain": [
       "True"
      ]
     },
     "execution_count": 18,
     "metadata": {},
     "output_type": "execute_result"
    }
   ],
   "source": [
    "import wandb\n",
    "\n",
    "wandb.login()"
   ]
  },
  {
   "cell_type": "markdown",
   "id": "7fbffd08",
   "metadata": {},
   "source": [
    "# 3. Model Building for HP tuning"
   ]
  },
  {
   "cell_type": "code",
   "execution_count": 19,
   "id": "ec59cbc9",
   "metadata": {},
   "outputs": [],
   "source": [
    "# class BertClassifier(nn.Module):\n",
    "    \n",
    "#     def __init__(self,config, embed_dim =1024):\n",
    "#         super(BertClassifier,self).__init__()\n",
    "#         self.config = config\n",
    "#         self.relu = nn.ReLU()\n",
    "#         self.fc1 =  nn.Linear(embed_dim,config.dim_1)\n",
    "#         self.fully_connected_layers_1 = nn.ModuleList([nn.Linear(config.dim_1,config.dim_1)\n",
    "#                                                     for _ in range(config.layer_fc_1)])\n",
    "        \n",
    "        \n",
    "#         self.fc_layer_A = nn.Linear(config.dim_1,config.dim_2)\n",
    "#         self.fully_connected_layers_2 = nn.ModuleList([nn.Linear(config.dim_2,config.dim_2)\n",
    "#                                                     for _ in range(config.layer_fc_2)])\n",
    "        \n",
    "#         self.dropout_B = nn.Dropout(p = config.dropout_prob_B)\n",
    "#         self.fc_layer_B = nn.Linear(config.dim_2,config.dim_3)\n",
    "#         self.fully_connected_layers_3 = nn.ModuleList([nn.Linear(config.dim_3,config.dim_3)\n",
    "#                                                     for _ in range(config.layer_fc_3)])\n",
    "#         self.bn = nn.BatchNorm1d(config.dim_3)\n",
    "#         self.BN_C = config.batch_norm_3\n",
    "# #         self.fc_layer_C = nn.Linear(config.dim_3,config.dim_4)\n",
    "#         self.fc_layer_C = nn.Linear(config.dim_2,config.dim_4)\n",
    "#         self.fully_connected_layers_4 = nn.ModuleList([nn.Linear(config.dim_4,config.dim_4)\n",
    "#                                                     for _ in range(config.layer_fc_4)])\n",
    "        \n",
    "#         self.dropout_C = nn.Dropout(p = config.dropout_prob_C)\n",
    "#         self.output_layer_1 = nn.Linear(config.dim_4,8)\n",
    "#         self.output_layer = nn.Linear(8,1)\n",
    "      \n",
    "    \n",
    "#     def forward(self, inputs):\n",
    "        \n",
    "#         input = self.fc1(inputs)\n",
    "#         for i in range(self.config.layer_fc_1):\n",
    "#             input = self.relu(self.fully_connected_layers_1[i](input))\n",
    "        \n",
    "#         input = self.relu(self.fc_layer_A(input))\n",
    "#         for i in range(self.config.layer_fc_2):\n",
    "#             input = self.relu(self.fully_connected_layers_2[i](input))\n",
    "        \n",
    "        \n",
    "# #         input = self.relu(self.fc_layer_B(input))\n",
    "# #         for i in range(self.config.layer_fc_3):\n",
    "# #             input = self.relu(self.fully_connected_layers_3[i](input))\n",
    "        \n",
    "#         if self.BN_C:\n",
    "#             input = self.bn(input)\n",
    "          \n",
    "#         input = self.relu(self.fc_layer_C(input))\n",
    "#         for i in range(self.config.layer_fc_4):\n",
    "#             input = self.relu(self.fully_connected_layers_4[i](input))\n",
    "        \n",
    "#         input = self.output_layer_1(input)\n",
    "#         output = self.output_layer(input)\n",
    "\n",
    "#         return output"
   ]
  },
  {
   "cell_type": "code",
   "execution_count": 20,
   "id": "41e2ec13",
   "metadata": {},
   "outputs": [],
   "source": [
    "class BertClassifier(nn.Module):\n",
    "    \n",
    "    def __init__(self,config, embed_dim =1024):\n",
    "        super(BertClassifier,self).__init__()\n",
    "        self.relu = nn.ReLU()\n",
    "        self.config = config\n",
    "        self.fc1 = nn.Linear(embed_dim,config.dim_1)\n",
    "        self.fully_connected_layers_1 = nn.ModuleList([nn.Linear(config.dim_1,config.dim_1)\n",
    "                                                    for _ in range(config.layer_fc_1)])\n",
    "        \n",
    "        \n",
    "    \n",
    "        self.fc_2 = nn.Linear(config.dim_1,config.dim_2)\n",
    "        self.fully_connected_layers_2 = nn.ModuleList([nn.Linear(config.dim_2,config.dim_2)\n",
    "                                                    for _ in range(config.layer_fc_2)]) \n",
    "        self.bn2 = nn.BatchNorm1d(num_features=config.dim_2)\n",
    "        self.fc3 = nn.Linear(config.dim_2,64)\n",
    "        \n",
    "        self.fc4 = nn.Linear(64,32)\n",
    "        self.drop = nn.Dropout(p = 0.2)\n",
    "        self.fc5 = nn.Linear(32,16)\n",
    "        self.fc6 = nn.Linear(16,8)\n",
    "        self.fc7 = nn.Linear(8,1)\n",
    "    \n",
    "    def forward(self, inputs):\n",
    "        \n",
    "        output = self.relu(self.fc1(inputs))\n",
    "#         output_1 = self.bn1(output_1)\n",
    "        for i in range(self.config.layer_fc_1):\n",
    "            output = self.relu(self.fully_connected_layers_1[i](output))\n",
    "        output = self.relu(self.fc_2(output))\n",
    "        for i in range(self.config.layer_fc_2):\n",
    "            output = self.relu(self.fully_connected_layers_2[i](output))\n",
    "            \n",
    "        output  = self.bn2(output)\n",
    "        output = self.relu(self.fc3(output))\n",
    "        \n",
    "        if self.config.dropout:\n",
    "            output = self.drop(output)\n",
    "            \n",
    "        output = self.relu(self.fc4(output))\n",
    "        output = self.relu(self.fc5(output))\n",
    "        output = self.relu(self.fc6(output))\n",
    "        output = self.fc7(output)\n",
    "\n",
    "        return output"
   ]
  },
  {
   "cell_type": "code",
   "execution_count": 21,
   "id": "89e1471e",
   "metadata": {},
   "outputs": [],
   "source": [
    "def build_optimizer(network, optimizer,learning_rate, momentum, weight_decay, amsgrad):\n",
    "    \n",
    "    \n",
    "#     if optimizer == \"sgd\":\n",
    "#         optimizer_ = optim.SGD(network.parameters(),\n",
    "#                               lr = learning_rate, momentum = momentum, weight_decay = weight_decay,\n",
    "#                               )\n",
    "        \n",
    "        \n",
    "    if optimizer == \"adam\":\n",
    "        optimizer_ = optim.Adam(network.parameters(),\n",
    "                               lr = learning_rate, betas = (0.9,0.999), weight_decay = weight_decay,\n",
    "                               amsgrad = amsgrad)\n",
    "        \n",
    "#     elif optimizer == \"rms_prop\":\n",
    "#         optimizer_ = optim.RMSprop(network.parameters(),\n",
    "#                                lr = learning_rate, alpha = 0.99, momentum = momentum,\n",
    "#                                   weight_decay = weight_decay)\n",
    "                               \n",
    "        \n",
    "    return optimizer_\n"
   ]
  },
  {
   "cell_type": "markdown",
   "id": "46907805",
   "metadata": {},
   "source": [
    "## 3.1 Hyperparameters Defining"
   ]
  },
  {
   "cell_type": "code",
   "execution_count": 22,
   "id": "115c8c71",
   "metadata": {},
   "outputs": [],
   "source": [
    "# sweep_config = {\n",
    "#     'method': 'random'\n",
    "    \n",
    "#     }\n",
    "# metric = {\n",
    "#     'name': 'val_loss',\n",
    "#     'goal': 'minimize'   \n",
    "#     }\n",
    "# early_terminate = {\"type\": \"hyperband\",\n",
    "#       \"min_iter\": 3 }\n",
    "\n",
    "# sweep_config['metric'] = metric \n",
    "# sweep_config['early_terminate'] = early_terminate \n",
    "\n",
    "# parameters_dict = {\n",
    "    \n",
    "#     'layer_fc_1': {\n",
    "#         'values': [1,2,3,4,5]\n",
    "#         },\n",
    "   \n",
    "#     'dim_1': {\n",
    "#           'values': [1024,2058]\n",
    "#         },\n",
    "    \n",
    "#     'layer_fc_2': {\n",
    "#         'values': [1,2]\n",
    "#         },\n",
    "#     'dim_2': {\n",
    "#           'values': [256]\n",
    "#         },\n",
    "    \n",
    "#     'layer_fc_3': {\n",
    "#         'values': [1,2]\n",
    "#         },\n",
    "    \n",
    "#     'dim_3': {\n",
    "#           'values': [256]\n",
    "#         },\n",
    "        \n",
    "    \n",
    "#     'layer_fc_4': {\n",
    "#         'values': [1,2]\n",
    "#         },\n",
    "#     'dim_4': {\n",
    "#           'values': [256]\n",
    "#         },\n",
    "    \n",
    "#     'layer_fc_5': {\n",
    "#         'values': [1,2]\n",
    "#         },\n",
    "#     'dim_5': {\n",
    "#           'values': [256]\n",
    "#         },\n",
    "    \n",
    "#     'layer_fc_6': {\n",
    "#         'values': [1]\n",
    "#         },\n",
    "#     'dim_6': {\n",
    "#           'values': [256]\n",
    "#         },\n",
    "    \n",
    "#     'batch_norm_3': {\n",
    "#           'values': [True,False]\n",
    "#         },\n",
    "    \n",
    "#     'dropout_prob_C': {\n",
    "#           'values': [0,0.25,0.5]\n",
    "#         },\n",
    "   \n",
    "#     'dropout_prob_B': {\n",
    "#           'values': [0,0.25,0.5]\n",
    "#         },\n",
    "    \n",
    "#     'optimizer': {\n",
    "#           'values': ['adam','sgd']   #\n",
    "#         }\n",
    "#     ,\n",
    "#     'learning_rate': {\n",
    "#             'distribution': 'uniform',\n",
    "#             'min': 0,\n",
    "#             'max': 0.01\n",
    "#         },\n",
    "    \n",
    "#     'momentum': {\n",
    "#           'values': [0.85,0.9,0.95,0.99]\n",
    "#         },\n",
    "    \n",
    "#     'weight_decay': {\n",
    "#             'distribution': 'uniform',\n",
    "#             'min': 0,\n",
    "#             'max': 0.001\n",
    "#         },\n",
    "#     'nesterov': {\n",
    "#           'values': [True, False]\n",
    "#         },\n",
    "        \n",
    "#     'amsgrad': {\n",
    "#           'values': [True, False]\n",
    "#         },\n",
    "    \n",
    "    \n",
    "#     'dampening': {\n",
    "#           'distribution': 'uniform',\n",
    "#             'min': 0,\n",
    "#             'max': 0.1\n",
    "#         },\n",
    "#     }\n",
    "\n",
    "\n",
    "# sweep_config['parameters'] = parameters_dict\n",
    "# parameters_dict.update({\n",
    "#     'epochs': {\n",
    "#         'value': 10}\n",
    "#     })\n",
    "\n",
    "\n",
    "# import pprint\n",
    "\n",
    "# pprint.pprint(sweep_config)"
   ]
  },
  {
   "cell_type": "code",
   "execution_count": 24,
   "id": "737655a5",
   "metadata": {},
   "outputs": [
    {
     "name": "stdout",
     "output_type": "stream",
     "text": [
      "{'early_terminate': {'min_iter': 3, 'type': 'hyperband'},\n",
      " 'method': 'random',\n",
      " 'metric': {'goal': 'maximize', 'name': 'val_accuracy'},\n",
      " 'parameters': {'amsgrad': {'values': [True, False]},\n",
      "                'dim_1': {'values': [2048, 4048]},\n",
      "                'dim_2': {'values': [128, 256, 512, 1024]},\n",
      "                'dropout': {'values': [True, False]},\n",
      "                'epochs': {'value': 30},\n",
      "                'layer_fc_1': {'values': [1]},\n",
      "                'layer_fc_2': {'values': [1, 2]},\n",
      "                'learning_rate': {'distribution': 'uniform',\n",
      "                                  'max': 0.01,\n",
      "                                  'min': 0.001},\n",
      "                'momentum': {'values': [0.85, 0.9, 0.95, 0.99]},\n",
      "                'optimizer': {'values': ['adam']},\n",
      "                'weight_decay': {'distribution': 'uniform',\n",
      "                                 'max': 0.01,\n",
      "                                 'min': 0.001}}}\n"
     ]
    }
   ],
   "source": [
    "sweep_config = {\n",
    "    'method': 'random'\n",
    "    \n",
    "    }\n",
    "metric = {\n",
    "    'name': 'val_accuracy',\n",
    "    'goal': 'maximize'   \n",
    "    }\n",
    "early_terminate = {\"type\": \"hyperband\",\n",
    "      \"min_iter\": 3 }\n",
    "\n",
    "sweep_config['metric'] = metric \n",
    "sweep_config['early_terminate'] = early_terminate \n",
    "\n",
    "parameters_dict = {\n",
    "    \n",
    "    'layer_fc_1': {\n",
    "        'values': [1]\n",
    "        },\n",
    "   \n",
    "    'dim_1': {\n",
    "          'values': [2048,4048]\n",
    "        },\n",
    "    \n",
    "    'layer_fc_2': {\n",
    "        'values': [1,2]\n",
    "        },\n",
    "    'dim_2': {\n",
    "          'values': [128,256,512,1024]\n",
    "        },\n",
    "    \n",
    "    \n",
    "    'dropout': {\n",
    "          'values': [True,False]\n",
    "        },\n",
    "   \n",
    "    \n",
    "    \n",
    "    'optimizer': {\n",
    "          'values': ['adam']   #\n",
    "        }\n",
    "    ,\n",
    "    'learning_rate': {\n",
    "            'distribution': 'uniform',\n",
    "            'min': 0.001,\n",
    "            'max': 0.01\n",
    "        },\n",
    "    \n",
    "    'momentum': {\n",
    "          'values': [0.85,0.9,0.95,0.99]\n",
    "        },\n",
    "    \n",
    "    'weight_decay': {\n",
    "            'distribution': 'uniform',\n",
    "            'min': 0.001,\n",
    "            'max': 0.01\n",
    "        },\n",
    "   \n",
    "        \n",
    "    'amsgrad': {\n",
    "          'values': [True, False]\n",
    "        },\n",
    "    \n",
    "    \n",
    "    }\n",
    "\n",
    "\n",
    "sweep_config['parameters'] = parameters_dict\n",
    "parameters_dict.update({\n",
    "    'epochs': {\n",
    "        'value': 30}\n",
    "    })\n",
    "\n",
    "\n",
    "import pprint\n",
    "\n",
    "pprint.pprint(sweep_config)"
   ]
  },
  {
   "cell_type": "markdown",
   "id": "c605c4a2",
   "metadata": {},
   "source": [
    "# 4. Training"
   ]
  },
  {
   "cell_type": "code",
   "execution_count": 25,
   "id": "72d00382",
   "metadata": {},
   "outputs": [],
   "source": [
    "import random\n",
    "import time\n",
    "from tqdm import tqdm\n",
    "loss_fn = nn.BCEWithLogitsLoss()\n",
    "def train(config, train_dataloader,val_dataloader = None):\n",
    "    \n",
    "    best_accuracy = 0\n",
    "    device = torch.device(\"cuda\" if torch.cuda.is_available() else \"cpu\")\n",
    "    print(\"Start training...\\n\")\n",
    "    epochs = config.epochs\n",
    "    \n",
    "    model = BertClassifier(config).to(device)\n",
    "    loss_fn = nn.BCEWithLogitsLoss()\n",
    "    optimizer,learning_rate, momentum, weight_decay, amsgrad = config.optimizer,config.learning_rate, config.momentum, config.weight_decay, config.amsgrad\n",
    "    optimizer = build_optimizer(model,optimizer,learning_rate, momentum, weight_decay, amsgrad)\n",
    "    \n",
    "    \n",
    "    for epoch_i in range(1,epochs+1):\n",
    "        \n",
    "        total_loss = 0\n",
    "        model.train()\n",
    "        \n",
    "        for step,batch in tqdm(enumerate(train_dataloader)):\n",
    "            \n",
    "            inputs, b_labels = tuple(t.to(device) for t in batch)\n",
    "            b_labels = b_labels.reshape((1,2048*10,1)).squeeze(0)\n",
    "            model.zero_grad()\n",
    "            logits = model(inputs)\n",
    "            loss = loss_fn(logits,b_labels.float()) \n",
    "            total_loss += loss.item()\n",
    "            loss.mean().backward()\n",
    "            optimizer.step()\n",
    "               \n",
    "        avg_train_loss = total_loss / len(train_dataloader)\n",
    "        \n",
    "    \n",
    "        if val_dataloader is not None:\n",
    "                \n",
    "                val_loss, val_accuracy = evaluate(model, val_dataloader)\n",
    "                if val_accuracy > best_accuracy:\n",
    "                    best_accuracy = val_accuracy\n",
    "                    torch.save({\n",
    "                        'epoch': epoch_i ,\n",
    "                        'model_state_dict': model.state_dict(),\n",
    "                        'optimizer_state_dict': optimizer.state_dict(),\n",
    "                        'loss': loss_fn,\n",
    "                        }, 'best_model_trained_fc_v2.pth')\n",
    "        \n",
    "        wandb.log({\n",
    "                    'epoch': epoch_i, \n",
    "                    \"train_loss\": avg_train_loss,\n",
    "                    \"val_loss\": val_loss,\n",
    "                   })\n",
    "        print(f\"Epoch: {epoch_i} | Training Loss: {avg_train_loss}  | Validation Loss: {val_loss}  | Accuracy: {val_accuracy:.2f}\")\n",
    "        with open('result.txt', 'a') as f:\n",
    "            print(f\"Epoch: {epoch_i} | Training Loss: {avg_train_loss}  | Validation Loss: {val_loss}  | Accuracy: {val_accuracy:.2f}\", file=f) \n",
    "    print(\"\\n\")\n",
    "    wandb.log({\"val_accuracy\": best_accuracy,\n",
    "                   })\n",
    "    print(f\"Training complete! Best accuracy: {best_accuracy:.2f}%.\")\n",
    "    \n",
    "\n",
    "def evaluate(model,val_dataloader):\n",
    "    \n",
    "    \n",
    "    model.eval()\n",
    "    val_accuracy = []\n",
    "    val_loss = []\n",
    "    for batch in tqdm(val_dataloader):\n",
    "        device = torch.device(\"cuda\" if torch.cuda.is_available() else \"cpu\")\n",
    "        inputs, b_labels = tuple(t.to(device) for t in batch)\n",
    "        b_labels = b_labels.reshape((1,6000,1)).squeeze(0)\n",
    "        with torch.no_grad():\n",
    "                logits = model(inputs)\n",
    "        \n",
    "        loss = loss_fn(logits, b_labels.float())\n",
    "        val_loss.append(loss.item())\n",
    "        preds = torch.round(torch.sigmoid(logits))\n",
    "        \n",
    "        accuracy = (preds.float() == b_labels.float()).cpu().numpy().mean() * 100\n",
    "        val_accuracy.append(accuracy)\n",
    "    \n",
    "    val_loss = np.mean(val_loss)\n",
    "    val_accuracy = np.mean(val_accuracy)\n",
    "\n",
    "    return val_loss, val_accuracy "
   ]
  },
  {
   "cell_type": "code",
   "execution_count": 26,
   "id": "a27f3f9b",
   "metadata": {},
   "outputs": [],
   "source": [
    "def make(config):\n",
    "    # Make the data\n",
    "    if torch.cuda.is_available():\n",
    "        device = torch.device('cuda')\n",
    "        print('The code uses GPU...')\n",
    "    else:\n",
    "        device = torch.device('cpu')\n",
    "        print('The code uses CPU!!!')\n",
    "\n",
    "    \n",
    "    model = BertClassifier(config).to(device)\n",
    "\n",
    "    # Make the loss and optimizer\n",
    "    criterion = nn.BCEWithLogitsLoss()\n",
    "    optimizer,learning_rate, momentum, weight_decay, amsgrad = config.optimizer,config.learning_rate, config.momentum, config.weight_decay, config.amsgrad\n",
    "    optimizer = build_optimizer(model,optimizer,learning_rate, momentum, weight_decay, amsgrad)\n",
    "    \n",
    "    return model, criterion, optimizer"
   ]
  },
  {
   "cell_type": "code",
   "execution_count": 27,
   "id": "cfdb1d64",
   "metadata": {},
   "outputs": [],
   "source": [
    "def model_pipeline(config=None):\n",
    "\n",
    "    # tell wandb to get started\n",
    "    with wandb.init(config=config):\n",
    "      # access all HPs through wandb.config, so logging matches execution!\n",
    "      config = wandb.config\n",
    "      \n",
    "      # make the model, data, and optimization problem\n",
    "      \n",
    "      \n",
    "      \n",
    "      # and use them to train the model\n",
    "      train(config, train_loader,val_dataloader = val_loader)\n",
    "     \n",
    "      for i,j in test_loader:\n",
    "          x = i\n",
    "      wandb.save(\"model.onnx\")\n",
    "\n",
    "    "
   ]
  },
  {
   "cell_type": "markdown",
   "id": "01d40f05",
   "metadata": {},
   "source": [
    "# 5. Tuning"
   ]
  },
  {
   "cell_type": "code",
   "execution_count": 28,
   "id": "4306fbd4",
   "metadata": {},
   "outputs": [
    {
     "name": "stdout",
     "output_type": "stream",
     "text": [
      "Create sweep with ID: gyyc8zyb\n",
      "Sweep URL: https://wandb.ai/danish2562022/PI__prediction_fc__hyperparameter_tuning_cls_vector/sweeps/gyyc8zyb\n"
     ]
    }
   ],
   "source": [
    "sweep_id = wandb.sweep(sweep_config, project=\"PI__prediction_fc__hyperparameter_tuning_cls_vector\")"
   ]
  },
  {
   "cell_type": "code",
   "execution_count": null,
   "id": "8c078b01",
   "metadata": {},
   "outputs": [
    {
     "name": "stderr",
     "output_type": "stream",
     "text": [
      "\u001b[34m\u001b[1mwandb\u001b[0m: Agent Starting Run: ls3eepi5 with config:\n",
      "\u001b[34m\u001b[1mwandb\u001b[0m: \tamsgrad: True\n",
      "\u001b[34m\u001b[1mwandb\u001b[0m: \tdim_1: 4048\n",
      "\u001b[34m\u001b[1mwandb\u001b[0m: \tdim_2: 256\n",
      "\u001b[34m\u001b[1mwandb\u001b[0m: \tdropout: False\n",
      "\u001b[34m\u001b[1mwandb\u001b[0m: \tepochs: 30\n",
      "\u001b[34m\u001b[1mwandb\u001b[0m: \tlayer_fc_1: 1\n",
      "\u001b[34m\u001b[1mwandb\u001b[0m: \tlayer_fc_2: 1\n",
      "\u001b[34m\u001b[1mwandb\u001b[0m: \tlearning_rate: 0.002146424428806191\n",
      "\u001b[34m\u001b[1mwandb\u001b[0m: \tmomentum: 0.85\n",
      "\u001b[34m\u001b[1mwandb\u001b[0m: \toptimizer: adam\n",
      "\u001b[34m\u001b[1mwandb\u001b[0m: \tweight_decay: 0.00263156505842998\n",
      "Failed to detect the name of this notebook, you can set it manually with the WANDB_NOTEBOOK_NAME environment variable to enable code saving.\n"
     ]
    },
    {
     "data": {
      "text/html": [
       "wandb version 0.13.5 is available!  To upgrade, please run:\n",
       " $ pip install wandb --upgrade"
      ],
      "text/plain": [
       "<IPython.core.display.HTML object>"
      ]
     },
     "metadata": {},
     "output_type": "display_data"
    },
    {
     "data": {
      "text/html": [
       "Tracking run with wandb version 0.13.4"
      ],
      "text/plain": [
       "<IPython.core.display.HTML object>"
      ]
     },
     "metadata": {},
     "output_type": "display_data"
    },
    {
     "data": {
      "text/html": [
       "Run data is saved locally in <code>/home/anwer/Desktop/PPI_prediction/model_training_py/models/wandb/run-20221129_081944-ls3eepi5</code>"
      ],
      "text/plain": [
       "<IPython.core.display.HTML object>"
      ]
     },
     "metadata": {},
     "output_type": "display_data"
    },
    {
     "data": {
      "text/html": [
       "Syncing run <strong><a href=\"https://wandb.ai/danish2562022/PI__prediction_fc__hyperparameter_tuning_cls_vector/runs/ls3eepi5\" target=\"_blank\">easy-sweep-1</a></strong> to <a href=\"https://wandb.ai/danish2562022/PI__prediction_fc__hyperparameter_tuning_cls_vector\" target=\"_blank\">Weights & Biases</a> (<a href=\"https://wandb.me/run\" target=\"_blank\">docs</a>)<br/>Sweep page:  <a href=\"https://wandb.ai/danish2562022/PI__prediction_fc__hyperparameter_tuning_cls_vector/sweeps/gyyc8zyb\" target=\"_blank\">https://wandb.ai/danish2562022/PI__prediction_fc__hyperparameter_tuning_cls_vector/sweeps/gyyc8zyb</a>"
      ],
      "text/plain": [
       "<IPython.core.display.HTML object>"
      ]
     },
     "metadata": {},
     "output_type": "display_data"
    },
    {
     "name": "stdout",
     "output_type": "stream",
     "text": [
      "Start training...\n",
      "\n"
     ]
    },
    {
     "name": "stderr",
     "output_type": "stream",
     "text": [
      "11it [00:06,  1.58it/s]\n",
      "100%|████████████████████████████████████████████████████████████| 1/1 [00:00<00:00,  2.97it/s]\n"
     ]
    },
    {
     "name": "stdout",
     "output_type": "stream",
     "text": [
      "Epoch: 1 | Training Loss: 0.6851957006887957  | Validation Loss: 0.6937920451164246  | Accuracy: 46.75\n"
     ]
    },
    {
     "name": "stderr",
     "output_type": "stream",
     "text": [
      "11it [00:08,  1.31it/s]\n",
      "100%|████████████████████████████████████████████████████████████| 1/1 [00:00<00:00,  3.01it/s]\n"
     ]
    },
    {
     "name": "stdout",
     "output_type": "stream",
     "text": [
      "Epoch: 2 | Training Loss: 0.6355893611907959  | Validation Loss: 0.6809123158454895  | Accuracy: 53.23\n"
     ]
    },
    {
     "name": "stderr",
     "output_type": "stream",
     "text": [
      "11it [00:05,  2.15it/s]\n",
      "100%|████████████████████████████████████████████████████████████| 1/1 [00:00<00:00,  3.02it/s]\n"
     ]
    },
    {
     "name": "stdout",
     "output_type": "stream",
     "text": [
      "Epoch: 3 | Training Loss: 0.5848020857030695  | Validation Loss: 0.6753372550010681  | Accuracy: 53.98\n"
     ]
    },
    {
     "name": "stderr",
     "output_type": "stream",
     "text": [
      "11it [00:05,  2.13it/s]\n",
      "100%|████████████████████████████████████████████████████████████| 1/1 [00:00<00:00,  3.01it/s]\n"
     ]
    },
    {
     "name": "stdout",
     "output_type": "stream",
     "text": [
      "Epoch: 4 | Training Loss: 0.556034039367329  | Validation Loss: 0.7265276908874512  | Accuracy: 47.40\n"
     ]
    },
    {
     "name": "stderr",
     "output_type": "stream",
     "text": [
      "11it [00:05,  2.11it/s]\n",
      "100%|████████████████████████████████████████████████████████████| 1/1 [00:00<00:00,  2.99it/s]\n"
     ]
    },
    {
     "name": "stdout",
     "output_type": "stream",
     "text": [
      "Epoch: 5 | Training Loss: 0.5574166883121837  | Validation Loss: 0.63005131483078  | Accuracy: 66.75\n"
     ]
    },
    {
     "name": "stderr",
     "output_type": "stream",
     "text": [
      "11it [00:05,  2.11it/s]\n",
      "100%|████████████████████████████████████████████████████████████| 1/1 [00:00<00:00,  2.94it/s]\n"
     ]
    },
    {
     "name": "stdout",
     "output_type": "stream",
     "text": [
      "Epoch: 6 | Training Loss: 0.546446290883151  | Validation Loss: 0.6668241024017334  | Accuracy: 60.82\n"
     ]
    },
    {
     "name": "stderr",
     "output_type": "stream",
     "text": [
      "11it [00:05,  2.03it/s]\n",
      "100%|████████████████████████████████████████████████████████████| 1/1 [00:00<00:00,  2.97it/s]\n"
     ]
    },
    {
     "name": "stdout",
     "output_type": "stream",
     "text": [
      "Epoch: 7 | Training Loss: 0.5472351583567533  | Validation Loss: 0.6420467495918274  | Accuracy: 65.33\n"
     ]
    },
    {
     "name": "stderr",
     "output_type": "stream",
     "text": [
      "11it [00:05,  2.11it/s]\n",
      "100%|████████████████████████████████████████████████████████████| 1/1 [00:00<00:00,  2.97it/s]\n"
     ]
    },
    {
     "name": "stdout",
     "output_type": "stream",
     "text": [
      "Epoch: 8 | Training Loss: 0.5388279232111844  | Validation Loss: 0.688434898853302  | Accuracy: 48.70\n"
     ]
    },
    {
     "name": "stderr",
     "output_type": "stream",
     "text": [
      "11it [00:05,  2.09it/s]\n",
      "100%|████████████████████████████████████████████████████████████| 1/1 [00:00<00:00,  2.93it/s]\n"
     ]
    },
    {
     "name": "stdout",
     "output_type": "stream",
     "text": [
      "Epoch: 9 | Training Loss: 0.5644401691176675  | Validation Loss: 0.7483828067779541  | Accuracy: 46.83\n"
     ]
    },
    {
     "name": "stderr",
     "output_type": "stream",
     "text": [
      "11it [00:05,  2.11it/s]\n",
      "100%|████████████████████████████████████████████████████████████| 1/1 [00:00<00:00,  2.93it/s]\n"
     ]
    },
    {
     "name": "stdout",
     "output_type": "stream",
     "text": [
      "Epoch: 10 | Training Loss: 0.5948619083924727  | Validation Loss: 9.15942668914795  | Accuracy: 52.93\n"
     ]
    },
    {
     "name": "stderr",
     "output_type": "stream",
     "text": [
      "11it [00:05,  2.06it/s]\n",
      "100%|████████████████████████████████████████████████████████████| 1/1 [00:00<00:00,  2.80it/s]\n"
     ]
    },
    {
     "name": "stdout",
     "output_type": "stream",
     "text": [
      "Epoch: 11 | Training Loss: 0.5699429728768088  | Validation Loss: 0.9006026983261108  | Accuracy: 48.27\n"
     ]
    },
    {
     "name": "stderr",
     "output_type": "stream",
     "text": [
      "11it [00:05,  1.95it/s]\n",
      "100%|████████████████████████████████████████████████████████████| 1/1 [00:00<00:00,  2.69it/s]\n"
     ]
    },
    {
     "name": "stdout",
     "output_type": "stream",
     "text": [
      "Epoch: 12 | Training Loss: 0.5465847524729642  | Validation Loss: 1.2869293689727783  | Accuracy: 46.75\n"
     ]
    },
    {
     "name": "stderr",
     "output_type": "stream",
     "text": [
      "11it [00:05,  1.96it/s]\n",
      "100%|████████████████████████████████████████████████████████████| 1/1 [00:00<00:00,  2.63it/s]\n"
     ]
    },
    {
     "name": "stdout",
     "output_type": "stream",
     "text": [
      "Epoch: 13 | Training Loss: 0.5399000211195513  | Validation Loss: 0.8380953073501587  | Accuracy: 46.75\n"
     ]
    },
    {
     "name": "stderr",
     "output_type": "stream",
     "text": [
      "11it [00:05,  1.94it/s]\n",
      "100%|████████████████████████████████████████████████████████████| 1/1 [00:00<00:00,  2.49it/s]\n"
     ]
    },
    {
     "name": "stdout",
     "output_type": "stream",
     "text": [
      "Epoch: 14 | Training Loss: 0.5361206206408414  | Validation Loss: 0.7004795074462891  | Accuracy: 46.75\n"
     ]
    },
    {
     "name": "stderr",
     "output_type": "stream",
     "text": [
      "11it [00:05,  1.91it/s]\n",
      "100%|████████████████████████████████████████████████████████████| 1/1 [00:00<00:00,  2.59it/s]\n"
     ]
    },
    {
     "name": "stdout",
     "output_type": "stream",
     "text": [
      "Epoch: 15 | Training Loss: 0.5362048474225131  | Validation Loss: 0.8798834681510925  | Accuracy: 46.75\n"
     ]
    },
    {
     "name": "stderr",
     "output_type": "stream",
     "text": [
      "11it [00:05,  1.91it/s]\n",
      "100%|████████████████████████████████████████████████████████████| 1/1 [00:00<00:00,  2.61it/s]\n"
     ]
    },
    {
     "name": "stdout",
     "output_type": "stream",
     "text": [
      "Epoch: 16 | Training Loss: 0.5493590615012429  | Validation Loss: 0.6671743988990784  | Accuracy: 51.27\n"
     ]
    },
    {
     "name": "stderr",
     "output_type": "stream",
     "text": [
      "11it [00:06,  1.75it/s]\n",
      "100%|████████████████████████████████████████████████████████████| 1/1 [00:00<00:00,  2.36it/s]\n"
     ]
    },
    {
     "name": "stdout",
     "output_type": "stream",
     "text": [
      "Epoch: 17 | Training Loss: 0.5365703322670676  | Validation Loss: 0.6847203969955444  | Accuracy: 46.95\n"
     ]
    },
    {
     "name": "stderr",
     "output_type": "stream",
     "text": [
      "11it [00:06,  1.78it/s]\n",
      "100%|████████████████████████████████████████████████████████████| 1/1 [00:00<00:00,  2.43it/s]\n"
     ]
    },
    {
     "name": "stdout",
     "output_type": "stream",
     "text": [
      "Epoch: 18 | Training Loss: 0.5306600278074091  | Validation Loss: 0.8305768370628357  | Accuracy: 47.10\n"
     ]
    },
    {
     "name": "stderr",
     "output_type": "stream",
     "text": [
      "11it [00:06,  1.81it/s]\n",
      "100%|████████████████████████████████████████████████████████████| 1/1 [00:00<00:00,  2.44it/s]\n"
     ]
    },
    {
     "name": "stdout",
     "output_type": "stream",
     "text": [
      "Epoch: 19 | Training Loss: 0.5366347377950494  | Validation Loss: 0.6618533730506897  | Accuracy: 62.43\n"
     ]
    },
    {
     "name": "stderr",
     "output_type": "stream",
     "text": [
      "11it [00:06,  1.81it/s]\n",
      "100%|████████████████████████████████████████████████████████████| 1/1 [00:00<00:00,  2.42it/s]\n"
     ]
    },
    {
     "name": "stdout",
     "output_type": "stream",
     "text": [
      "Epoch: 20 | Training Loss: 0.5473654432730242  | Validation Loss: 0.919895350933075  | Accuracy: 56.95\n"
     ]
    },
    {
     "name": "stderr",
     "output_type": "stream",
     "text": [
      "11it [00:06,  1.72it/s]\n",
      "100%|████████████████████████████████████████████████████████████| 1/1 [00:00<00:00,  2.26it/s]\n"
     ]
    },
    {
     "name": "stdout",
     "output_type": "stream",
     "text": [
      "Epoch: 21 | Training Loss: 0.5342473116787997  | Validation Loss: 0.711345374584198  | Accuracy: 58.90\n"
     ]
    },
    {
     "name": "stderr",
     "output_type": "stream",
     "text": [
      "11it [00:06,  1.69it/s]\n",
      "100%|████████████████████████████████████████████████████████████| 1/1 [00:00<00:00,  2.32it/s]\n"
     ]
    },
    {
     "name": "stdout",
     "output_type": "stream",
     "text": [
      "Epoch: 22 | Training Loss: 0.5251261375167153  | Validation Loss: 0.6331633925437927  | Accuracy: 63.90\n"
     ]
    },
    {
     "name": "stderr",
     "output_type": "stream",
     "text": [
      "11it [00:06,  1.66it/s]\n",
      "100%|████████████████████████████████████████████████████████████| 1/1 [00:00<00:00,  2.37it/s]\n"
     ]
    },
    {
     "name": "stdout",
     "output_type": "stream",
     "text": [
      "Epoch: 23 | Training Loss: 0.5272699269381437  | Validation Loss: 0.6302374601364136  | Accuracy: 65.38\n"
     ]
    },
    {
     "name": "stderr",
     "output_type": "stream",
     "text": [
      "11it [00:06,  1.74it/s]\n",
      "100%|████████████████████████████████████████████████████████████| 1/1 [00:00<00:00,  2.49it/s]\n"
     ]
    },
    {
     "name": "stdout",
     "output_type": "stream",
     "text": [
      "Epoch: 24 | Training Loss: 0.5252328352494673  | Validation Loss: 0.9791921973228455  | Accuracy: 51.08\n"
     ]
    },
    {
     "name": "stderr",
     "output_type": "stream",
     "text": [
      "11it [00:06,  1.71it/s]\n",
      "100%|████████████████████████████████████████████████████████████| 1/1 [00:00<00:00,  2.35it/s]\n"
     ]
    },
    {
     "name": "stdout",
     "output_type": "stream",
     "text": [
      "Epoch: 25 | Training Loss: 0.5320048874074762  | Validation Loss: 0.8414627313613892  | Accuracy: 51.15\n"
     ]
    },
    {
     "name": "stderr",
     "output_type": "stream",
     "text": [
      "11it [00:06,  1.75it/s]\n",
      "100%|████████████████████████████████████████████████████████████| 1/1 [00:00<00:00,  2.33it/s]\n"
     ]
    },
    {
     "name": "stdout",
     "output_type": "stream",
     "text": [
      "Epoch: 26 | Training Loss: 0.550862577828494  | Validation Loss: 1.1667568683624268  | Accuracy: 56.48\n"
     ]
    },
    {
     "name": "stderr",
     "output_type": "stream",
     "text": [
      "11it [00:06,  1.76it/s]\n",
      "100%|████████████████████████████████████████████████████████████| 1/1 [00:00<00:00,  2.32it/s]\n"
     ]
    },
    {
     "name": "stdout",
     "output_type": "stream",
     "text": [
      "Epoch: 27 | Training Loss: 0.5475035960024054  | Validation Loss: 0.7213523387908936  | Accuracy: 67.10\n"
     ]
    },
    {
     "name": "stderr",
     "output_type": "stream",
     "text": [
      "11it [00:06,  1.65it/s]\n",
      "100%|████████████████████████████████████████████████████████████| 1/1 [00:00<00:00,  2.34it/s]\n"
     ]
    },
    {
     "name": "stdout",
     "output_type": "stream",
     "text": [
      "Epoch: 28 | Training Loss: 0.5293245803226124  | Validation Loss: 0.6328140497207642  | Accuracy: 62.88\n"
     ]
    },
    {
     "name": "stderr",
     "output_type": "stream",
     "text": [
      "11it [00:07,  1.56it/s]\n",
      "100%|████████████████████████████████████████████████████████████| 1/1 [00:00<00:00,  2.26it/s]\n"
     ]
    },
    {
     "name": "stdout",
     "output_type": "stream",
     "text": [
      "Epoch: 29 | Training Loss: 0.524225733496926  | Validation Loss: 0.6396051049232483  | Accuracy: 65.32\n"
     ]
    },
    {
     "name": "stderr",
     "output_type": "stream",
     "text": [
      "11it [00:06,  1.63it/s]\n",
      "100%|████████████████████████████████████████████████████████████| 1/1 [00:00<00:00,  2.23it/s]\n"
     ]
    },
    {
     "name": "stdout",
     "output_type": "stream",
     "text": [
      "Epoch: 30 | Training Loss: 0.5201167301698164  | Validation Loss: 0.6784032583236694  | Accuracy: 47.20\n",
      "\n",
      "\n",
      "Training complete! Best accuracy: 67.10%.\n"
     ]
    },
    {
     "data": {
      "text/html": [
       "Waiting for W&B process to finish... <strong style=\"color:green\">(success).</strong>"
      ],
      "text/plain": [
       "<IPython.core.display.HTML object>"
      ]
     },
     "metadata": {},
     "output_type": "display_data"
    },
    {
     "data": {
      "application/vnd.jupyter.widget-view+json": {
       "model_id": "e0849d2fc60846e8859e749fa777d90b",
       "version_major": 2,
       "version_minor": 0
      },
      "text/plain": [
       "VBox(children=(Label(value='0.001 MB of 0.001 MB uploaded (0.000 MB deduped)\\r'), FloatProgress(value=1.0, max…"
      ]
     },
     "metadata": {},
     "output_type": "display_data"
    },
    {
     "data": {
      "text/html": [
       "<style>\n",
       "    table.wandb td:nth-child(1) { padding: 0 10px; text-align: left ; width: auto;} td:nth-child(2) {text-align: left ; width: 100%}\n",
       "    .wandb-row { display: flex; flex-direction: row; flex-wrap: wrap; justify-content: flex-start; width: 100% }\n",
       "    .wandb-col { display: flex; flex-direction: column; flex-basis: 100%; flex: 1; padding: 10px; }\n",
       "    </style>\n",
       "<div class=\"wandb-row\"><div class=\"wandb-col\"><h3>Run history:</h3><br/><table class=\"wandb\"><tr><td>epoch</td><td>▁▁▁▂▂▂▂▃▃▃▃▄▄▄▄▅▅▅▅▆▆▆▆▇▇▇▇███</td></tr><tr><td>train_loss</td><td>█▆▄▃▃▂▂▂▃▄▃▂▂▂▂▂▂▁▂▂▂▁▁▁▂▂▂▁▁▁</td></tr><tr><td>val_accuracy</td><td>▁</td></tr><tr><td>val_loss</td><td>▁▁▁▁▁▁▁▁▁█▁▂▁▁▁▁▁▁▁▁▁▁▁▁▁▁▁▁▁▁</td></tr></table><br/></div><div class=\"wandb-col\"><h3>Run summary:</h3><br/><table class=\"wandb\"><tr><td>epoch</td><td>30</td></tr><tr><td>train_loss</td><td>0.52012</td></tr><tr><td>val_accuracy</td><td>67.1</td></tr><tr><td>val_loss</td><td>0.6784</td></tr></table><br/></div></div>"
      ],
      "text/plain": [
       "<IPython.core.display.HTML object>"
      ]
     },
     "metadata": {},
     "output_type": "display_data"
    },
    {
     "data": {
      "text/html": [
       "Synced <strong style=\"color:#cdcd00\">easy-sweep-1</strong>: <a href=\"https://wandb.ai/danish2562022/PI__prediction_fc__hyperparameter_tuning_cls_vector/runs/ls3eepi5\" target=\"_blank\">https://wandb.ai/danish2562022/PI__prediction_fc__hyperparameter_tuning_cls_vector/runs/ls3eepi5</a><br/>Synced 6 W&B file(s), 0 media file(s), 0 artifact file(s) and 0 other file(s)"
      ],
      "text/plain": [
       "<IPython.core.display.HTML object>"
      ]
     },
     "metadata": {},
     "output_type": "display_data"
    },
    {
     "data": {
      "text/html": [
       "Find logs at: <code>./wandb/run-20221129_081944-ls3eepi5/logs</code>"
      ],
      "text/plain": [
       "<IPython.core.display.HTML object>"
      ]
     },
     "metadata": {},
     "output_type": "display_data"
    },
    {
     "name": "stderr",
     "output_type": "stream",
     "text": [
      "\u001b[34m\u001b[1mwandb\u001b[0m: Agent Starting Run: grhf08ub with config:\n",
      "\u001b[34m\u001b[1mwandb\u001b[0m: \tamsgrad: True\n",
      "\u001b[34m\u001b[1mwandb\u001b[0m: \tdim_1: 4048\n",
      "\u001b[34m\u001b[1mwandb\u001b[0m: \tdim_2: 1024\n",
      "\u001b[34m\u001b[1mwandb\u001b[0m: \tdropout: True\n",
      "\u001b[34m\u001b[1mwandb\u001b[0m: \tepochs: 30\n",
      "\u001b[34m\u001b[1mwandb\u001b[0m: \tlayer_fc_1: 1\n",
      "\u001b[34m\u001b[1mwandb\u001b[0m: \tlayer_fc_2: 1\n",
      "\u001b[34m\u001b[1mwandb\u001b[0m: \tlearning_rate: 0.003864726587258329\n",
      "\u001b[34m\u001b[1mwandb\u001b[0m: \tmomentum: 0.9\n",
      "\u001b[34m\u001b[1mwandb\u001b[0m: \toptimizer: adam\n",
      "\u001b[34m\u001b[1mwandb\u001b[0m: \tweight_decay: 0.002297425345957895\n",
      "Failed to detect the name of this notebook, you can set it manually with the WANDB_NOTEBOOK_NAME environment variable to enable code saving.\n"
     ]
    },
    {
     "data": {
      "text/html": [
       "wandb version 0.13.5 is available!  To upgrade, please run:\n",
       " $ pip install wandb --upgrade"
      ],
      "text/plain": [
       "<IPython.core.display.HTML object>"
      ]
     },
     "metadata": {},
     "output_type": "display_data"
    },
    {
     "data": {
      "text/html": [
       "Tracking run with wandb version 0.13.4"
      ],
      "text/plain": [
       "<IPython.core.display.HTML object>"
      ]
     },
     "metadata": {},
     "output_type": "display_data"
    },
    {
     "data": {
      "text/html": [
       "Run data is saved locally in <code>/home/anwer/Desktop/PPI_prediction/model_training_py/models/wandb/run-20221129_082319-grhf08ub</code>"
      ],
      "text/plain": [
       "<IPython.core.display.HTML object>"
      ]
     },
     "metadata": {},
     "output_type": "display_data"
    },
    {
     "data": {
      "text/html": [
       "Syncing run <strong><a href=\"https://wandb.ai/danish2562022/PI__prediction_fc__hyperparameter_tuning_cls_vector/runs/grhf08ub\" target=\"_blank\">splendid-sweep-2</a></strong> to <a href=\"https://wandb.ai/danish2562022/PI__prediction_fc__hyperparameter_tuning_cls_vector\" target=\"_blank\">Weights & Biases</a> (<a href=\"https://wandb.me/run\" target=\"_blank\">docs</a>)<br/>Sweep page:  <a href=\"https://wandb.ai/danish2562022/PI__prediction_fc__hyperparameter_tuning_cls_vector/sweeps/gyyc8zyb\" target=\"_blank\">https://wandb.ai/danish2562022/PI__prediction_fc__hyperparameter_tuning_cls_vector/sweeps/gyyc8zyb</a>"
      ],
      "text/plain": [
       "<IPython.core.display.HTML object>"
      ]
     },
     "metadata": {},
     "output_type": "display_data"
    },
    {
     "name": "stdout",
     "output_type": "stream",
     "text": [
      "Start training...\n",
      "\n"
     ]
    },
    {
     "name": "stderr",
     "output_type": "stream",
     "text": [
      "11it [00:06,  1.64it/s]\n",
      "100%|████████████████████████████████████████████████████████████| 1/1 [00:00<00:00,  2.27it/s]\n"
     ]
    },
    {
     "name": "stdout",
     "output_type": "stream",
     "text": [
      "Epoch: 1 | Training Loss: 0.6854314533146945  | Validation Loss: 0.6906445026397705  | Accuracy: 53.25\n"
     ]
    },
    {
     "name": "stderr",
     "output_type": "stream",
     "text": [
      "11it [00:06,  1.60it/s]\n",
      "100%|████████████████████████████████████████████████████████████| 1/1 [00:00<00:00,  2.00it/s]\n"
     ]
    },
    {
     "name": "stdout",
     "output_type": "stream",
     "text": [
      "Epoch: 2 | Training Loss: 0.6215426542542197  | Validation Loss: 0.6668018102645874  | Accuracy: 56.33\n"
     ]
    },
    {
     "name": "stderr",
     "output_type": "stream",
     "text": [
      "11it [00:07,  1.45it/s]\n",
      "100%|████████████████████████████████████████████████████████████| 1/1 [00:00<00:00,  1.93it/s]\n"
     ]
    },
    {
     "name": "stdout",
     "output_type": "stream",
     "text": [
      "Epoch: 3 | Training Loss: 0.5783519473942843  | Validation Loss: 0.7106176018714905  | Accuracy: 53.25\n"
     ]
    },
    {
     "name": "stderr",
     "output_type": "stream",
     "text": [
      "11it [00:07,  1.44it/s]\n",
      "100%|████████████████████████████████████████████████████████████| 1/1 [00:00<00:00,  1.90it/s]\n"
     ]
    },
    {
     "name": "stdout",
     "output_type": "stream",
     "text": [
      "Epoch: 4 | Training Loss: 0.6033284609968012  | Validation Loss: 2.608356475830078  | Accuracy: 46.88\n"
     ]
    },
    {
     "name": "stderr",
     "output_type": "stream",
     "text": [
      "11it [00:07,  1.41it/s]\n",
      "100%|████████████████████████████████████████████████████████████| 1/1 [00:00<00:00,  1.70it/s]\n"
     ]
    },
    {
     "name": "stdout",
     "output_type": "stream",
     "text": [
      "Epoch: 5 | Training Loss: 0.5634605776179921  | Validation Loss: 1.1013303995132446  | Accuracy: 53.25\n"
     ]
    },
    {
     "name": "stderr",
     "output_type": "stream",
     "text": [
      "11it [00:08,  1.34it/s]\n",
      "100%|████████████████████████████████████████████████████████████| 1/1 [00:00<00:00,  1.86it/s]\n"
     ]
    },
    {
     "name": "stdout",
     "output_type": "stream",
     "text": [
      "Epoch: 6 | Training Loss: 0.5756332711739973  | Validation Loss: 0.9061570763587952  | Accuracy: 47.07\n"
     ]
    },
    {
     "name": "stderr",
     "output_type": "stream",
     "text": [
      "11it [00:08,  1.37it/s]\n",
      "100%|████████████████████████████████████████████████████████████| 1/1 [00:00<00:00,  1.79it/s]\n"
     ]
    },
    {
     "name": "stdout",
     "output_type": "stream",
     "text": [
      "Epoch: 7 | Training Loss: 0.5690088488838889  | Validation Loss: 0.6068153381347656  | Accuracy: 67.13\n"
     ]
    },
    {
     "name": "stderr",
     "output_type": "stream",
     "text": [
      "11it [00:08,  1.35it/s]\n",
      "100%|████████████████████████████████████████████████████████████| 1/1 [00:00<00:00,  1.90it/s]\n"
     ]
    },
    {
     "name": "stdout",
     "output_type": "stream",
     "text": [
      "Epoch: 8 | Training Loss: 0.5582466884092852  | Validation Loss: 1.047868013381958  | Accuracy: 53.55\n"
     ]
    },
    {
     "name": "stderr",
     "output_type": "stream",
     "text": [
      "11it [00:07,  1.42it/s]\n",
      "100%|████████████████████████████████████████████████████████████| 1/1 [00:00<00:00,  1.89it/s]\n"
     ]
    },
    {
     "name": "stdout",
     "output_type": "stream",
     "text": [
      "Epoch: 9 | Training Loss: 0.6071653853763234  | Validation Loss: 0.6804377436637878  | Accuracy: 63.90\n"
     ]
    },
    {
     "name": "stderr",
     "output_type": "stream",
     "text": [
      "11it [00:07,  1.38it/s]\n",
      "100%|████████████████████████████████████████████████████████████| 1/1 [00:00<00:00,  1.84it/s]\n"
     ]
    },
    {
     "name": "stdout",
     "output_type": "stream",
     "text": [
      "Epoch: 10 | Training Loss: 0.5595806403593584  | Validation Loss: 1.228520154953003  | Accuracy: 53.25\n"
     ]
    },
    {
     "name": "stderr",
     "output_type": "stream",
     "text": [
      "11it [00:08,  1.37it/s]\n",
      "100%|████████████████████████████████████████████████████████████| 1/1 [00:00<00:00,  1.84it/s]\n"
     ]
    },
    {
     "name": "stdout",
     "output_type": "stream",
     "text": [
      "Epoch: 11 | Training Loss: 0.5753021023490212  | Validation Loss: 0.9140427708625793  | Accuracy: 50.53\n"
     ]
    },
    {
     "name": "stderr",
     "output_type": "stream",
     "text": [
      "11it [00:07,  1.38it/s]\n",
      "100%|████████████████████████████████████████████████████████████| 1/1 [00:00<00:00,  1.89it/s]\n"
     ]
    },
    {
     "name": "stdout",
     "output_type": "stream",
     "text": [
      "Epoch: 12 | Training Loss: 0.5602982531894337  | Validation Loss: 0.6711794137954712  | Accuracy: 61.42\n"
     ]
    },
    {
     "name": "stderr",
     "output_type": "stream",
     "text": [
      "11it [00:08,  1.34it/s]\n",
      "100%|████████████████████████████████████████████████████████████| 1/1 [00:00<00:00,  1.87it/s]\n"
     ]
    },
    {
     "name": "stdout",
     "output_type": "stream",
     "text": [
      "Epoch: 13 | Training Loss: 0.6002356518398632  | Validation Loss: 4.154619216918945  | Accuracy: 46.78\n"
     ]
    },
    {
     "name": "stderr",
     "output_type": "stream",
     "text": [
      "11it [00:07,  1.43it/s]\n",
      "100%|████████████████████████████████████████████████████████████| 1/1 [00:00<00:00,  1.83it/s]\n"
     ]
    },
    {
     "name": "stdout",
     "output_type": "stream",
     "text": [
      "Epoch: 14 | Training Loss: 0.5755914774808016  | Validation Loss: 0.6177147030830383  | Accuracy: 66.80\n"
     ]
    },
    {
     "name": "stderr",
     "output_type": "stream",
     "text": [
      "11it [00:08,  1.27it/s]\n",
      "100%|████████████████████████████████████████████████████████████| 1/1 [00:00<00:00,  1.78it/s]\n"
     ]
    },
    {
     "name": "stdout",
     "output_type": "stream",
     "text": [
      "Epoch: 15 | Training Loss: 0.5500055876645175  | Validation Loss: 1.315916895866394  | Accuracy: 53.25\n"
     ]
    },
    {
     "name": "stderr",
     "output_type": "stream",
     "text": [
      "11it [00:08,  1.33it/s]\n",
      "100%|████████████████████████████████████████████████████████████| 1/1 [00:00<00:00,  1.81it/s]\n"
     ]
    },
    {
     "name": "stdout",
     "output_type": "stream",
     "text": [
      "Epoch: 16 | Training Loss: 0.5477626648816195  | Validation Loss: 1.7272988557815552  | Accuracy: 53.25\n"
     ]
    },
    {
     "name": "stderr",
     "output_type": "stream",
     "text": [
      "11it [00:08,  1.34it/s]\n",
      "100%|████████████████████████████████████████████████████████████| 1/1 [00:00<00:00,  1.92it/s]\n"
     ]
    },
    {
     "name": "stdout",
     "output_type": "stream",
     "text": [
      "Epoch: 17 | Training Loss: 0.5923950563777577  | Validation Loss: 0.8852882981300354  | Accuracy: 46.87\n"
     ]
    },
    {
     "name": "stderr",
     "output_type": "stream",
     "text": [
      "11it [00:08,  1.37it/s]\n",
      "100%|████████████████████████████████████████████████████████████| 1/1 [00:00<00:00,  1.84it/s]\n"
     ]
    },
    {
     "name": "stdout",
     "output_type": "stream",
     "text": [
      "Epoch: 18 | Training Loss: 0.6307143677364696  | Validation Loss: 0.8186119794845581  | Accuracy: 60.60\n"
     ]
    },
    {
     "name": "stderr",
     "output_type": "stream",
     "text": [
      "11it [00:08,  1.32it/s]\n",
      "100%|████████████████████████████████████████████████████████████| 1/1 [00:00<00:00,  1.77it/s]\n"
     ]
    },
    {
     "name": "stdout",
     "output_type": "stream",
     "text": [
      "Epoch: 19 | Training Loss: 0.5841529965400696  | Validation Loss: 0.8057804107666016  | Accuracy: 58.63\n"
     ]
    },
    {
     "name": "stderr",
     "output_type": "stream",
     "text": [
      "11it [00:07,  1.38it/s]\n",
      "100%|████████████████████████████████████████████████████████████| 1/1 [00:00<00:00,  1.87it/s]\n"
     ]
    },
    {
     "name": "stdout",
     "output_type": "stream",
     "text": [
      "Epoch: 20 | Training Loss: 0.5574681596322493  | Validation Loss: 1.0684376955032349  | Accuracy: 53.28\n"
     ]
    },
    {
     "name": "stderr",
     "output_type": "stream",
     "text": [
      "11it [00:08,  1.33it/s]\n",
      "100%|████████████████████████████████████████████████████████████| 1/1 [00:00<00:00,  1.79it/s]\n"
     ]
    },
    {
     "name": "stdout",
     "output_type": "stream",
     "text": [
      "Epoch: 21 | Training Loss: 0.5489520376378839  | Validation Loss: 1.3429484367370605  | Accuracy: 53.25\n"
     ]
    },
    {
     "name": "stderr",
     "output_type": "stream",
     "text": [
      "11it [00:08,  1.29it/s]\n",
      "100%|████████████████████████████████████████████████████████████| 1/1 [00:00<00:00,  1.87it/s]\n"
     ]
    },
    {
     "name": "stdout",
     "output_type": "stream",
     "text": [
      "Epoch: 22 | Training Loss: 0.5699143734845248  | Validation Loss: 0.6892845630645752  | Accuracy: 56.58\n"
     ]
    },
    {
     "name": "stderr",
     "output_type": "stream",
     "text": [
      "11it [00:08,  1.29it/s]\n",
      "100%|████████████████████████████████████████████████████████████| 1/1 [00:00<00:00,  1.71it/s]\n"
     ]
    },
    {
     "name": "stdout",
     "output_type": "stream",
     "text": [
      "Epoch: 23 | Training Loss: 0.5514217994429849  | Validation Loss: 0.8341702222824097  | Accuracy: 50.32\n"
     ]
    },
    {
     "name": "stderr",
     "output_type": "stream",
     "text": [
      "11it [00:08,  1.37it/s]\n",
      "100%|████████████████████████████████████████████████████████████| 1/1 [00:00<00:00,  1.83it/s]\n"
     ]
    },
    {
     "name": "stdout",
     "output_type": "stream",
     "text": [
      "Epoch: 24 | Training Loss: 0.5643360289660367  | Validation Loss: 1.0270627737045288  | Accuracy: 59.07\n"
     ]
    },
    {
     "name": "stderr",
     "output_type": "stream",
     "text": [
      "11it [00:08,  1.36it/s]\n",
      "100%|████████████████████████████████████████████████████████████| 1/1 [00:00<00:00,  1.79it/s]\n"
     ]
    },
    {
     "name": "stdout",
     "output_type": "stream",
     "text": [
      "Epoch: 25 | Training Loss: 0.5545640587806702  | Validation Loss: 1.2105813026428223  | Accuracy: 53.73\n"
     ]
    },
    {
     "name": "stderr",
     "output_type": "stream",
     "text": [
      "11it [00:08,  1.29it/s]\n",
      "100%|████████████████████████████████████████████████████████████| 1/1 [00:00<00:00,  1.81it/s]\n"
     ]
    },
    {
     "name": "stdout",
     "output_type": "stream",
     "text": [
      "Epoch: 26 | Training Loss: 0.5459217862649397  | Validation Loss: 0.754565417766571  | Accuracy: 57.17\n"
     ]
    },
    {
     "name": "stderr",
     "output_type": "stream",
     "text": [
      "11it [00:08,  1.29it/s]\n",
      "100%|████████████████████████████████████████████████████████████| 1/1 [00:00<00:00,  1.87it/s]\n"
     ]
    },
    {
     "name": "stdout",
     "output_type": "stream",
     "text": [
      "Epoch: 27 | Training Loss: 0.5767703002149408  | Validation Loss: 1.4908313751220703  | Accuracy: 47.00\n"
     ]
    },
    {
     "name": "stderr",
     "output_type": "stream",
     "text": [
      "11it [00:08,  1.35it/s]\n",
      "100%|████████████████████████████████████████████████████████████| 1/1 [00:00<00:00,  1.76it/s]\n"
     ]
    },
    {
     "name": "stdout",
     "output_type": "stream",
     "text": [
      "Epoch: 28 | Training Loss: 0.5498367710547014  | Validation Loss: 0.6100083589553833  | Accuracy: 66.00\n"
     ]
    },
    {
     "name": "stderr",
     "output_type": "stream",
     "text": [
      "11it [00:08,  1.30it/s]\n",
      "100%|████████████████████████████████████████████████████████████| 1/1 [00:00<00:00,  1.77it/s]\n"
     ]
    },
    {
     "name": "stdout",
     "output_type": "stream",
     "text": [
      "Epoch: 29 | Training Loss: 0.538905842737718  | Validation Loss: 0.8920437693595886  | Accuracy: 54.08\n"
     ]
    },
    {
     "name": "stderr",
     "output_type": "stream",
     "text": [
      "11it [00:08,  1.36it/s]\n",
      "100%|████████████████████████████████████████████████████████████| 1/1 [00:00<00:00,  1.73it/s]\n"
     ]
    },
    {
     "name": "stdout",
     "output_type": "stream",
     "text": [
      "Epoch: 30 | Training Loss: 0.5366362983530218  | Validation Loss: 1.4072786569595337  | Accuracy: 53.25\n",
      "\n",
      "\n",
      "Training complete! Best accuracy: 67.13%.\n"
     ]
    },
    {
     "data": {
      "text/html": [
       "Waiting for W&B process to finish... <strong style=\"color:green\">(success).</strong>"
      ],
      "text/plain": [
       "<IPython.core.display.HTML object>"
      ]
     },
     "metadata": {},
     "output_type": "display_data"
    },
    {
     "data": {
      "application/vnd.jupyter.widget-view+json": {
       "model_id": "11f03144596b48b3b5d2875d706e3970",
       "version_major": 2,
       "version_minor": 0
      },
      "text/plain": [
       "VBox(children=(Label(value='0.001 MB of 0.001 MB uploaded (0.000 MB deduped)\\r'), FloatProgress(value=1.0, max…"
      ]
     },
     "metadata": {},
     "output_type": "display_data"
    },
    {
     "data": {
      "text/html": [
       "<style>\n",
       "    table.wandb td:nth-child(1) { padding: 0 10px; text-align: left ; width: auto;} td:nth-child(2) {text-align: left ; width: 100%}\n",
       "    .wandb-row { display: flex; flex-direction: row; flex-wrap: wrap; justify-content: flex-start; width: 100% }\n",
       "    .wandb-col { display: flex; flex-direction: column; flex-basis: 100%; flex: 1; padding: 10px; }\n",
       "    </style>\n",
       "<div class=\"wandb-row\"><div class=\"wandb-col\"><h3>Run history:</h3><br/><table class=\"wandb\"><tr><td>epoch</td><td>▁▁▁▂▂▂▂▃▃▃▃▄▄▄▄▅▅▅▅▆▆▆▆▇▇▇▇███</td></tr><tr><td>train_loss</td><td>█▅▃▄▂▃▃▂▄▂▃▂▄▃▂▂▄▅▃▂▂▃▂▂▂▁▃▂▁▁</td></tr><tr><td>val_accuracy</td><td>▁</td></tr><tr><td>val_loss</td><td>▁▁▁▅▂▂▁▂▁▂▂▁█▁▂▃▂▁▁▂▂▁▁▂▂▁▃▁▂▃</td></tr></table><br/></div><div class=\"wandb-col\"><h3>Run summary:</h3><br/><table class=\"wandb\"><tr><td>epoch</td><td>30</td></tr><tr><td>train_loss</td><td>0.53664</td></tr><tr><td>val_accuracy</td><td>67.13333</td></tr><tr><td>val_loss</td><td>1.40728</td></tr></table><br/></div></div>"
      ],
      "text/plain": [
       "<IPython.core.display.HTML object>"
      ]
     },
     "metadata": {},
     "output_type": "display_data"
    },
    {
     "data": {
      "text/html": [
       "Synced <strong style=\"color:#cdcd00\">splendid-sweep-2</strong>: <a href=\"https://wandb.ai/danish2562022/PI__prediction_fc__hyperparameter_tuning_cls_vector/runs/grhf08ub\" target=\"_blank\">https://wandb.ai/danish2562022/PI__prediction_fc__hyperparameter_tuning_cls_vector/runs/grhf08ub</a><br/>Synced 6 W&B file(s), 0 media file(s), 0 artifact file(s) and 0 other file(s)"
      ],
      "text/plain": [
       "<IPython.core.display.HTML object>"
      ]
     },
     "metadata": {},
     "output_type": "display_data"
    },
    {
     "data": {
      "text/html": [
       "Find logs at: <code>./wandb/run-20221129_082319-grhf08ub/logs</code>"
      ],
      "text/plain": [
       "<IPython.core.display.HTML object>"
      ]
     },
     "metadata": {},
     "output_type": "display_data"
    },
    {
     "name": "stderr",
     "output_type": "stream",
     "text": [
      "\u001b[34m\u001b[1mwandb\u001b[0m: Agent Starting Run: a9kbt7ez with config:\n",
      "\u001b[34m\u001b[1mwandb\u001b[0m: \tamsgrad: True\n",
      "\u001b[34m\u001b[1mwandb\u001b[0m: \tdim_1: 4048\n",
      "\u001b[34m\u001b[1mwandb\u001b[0m: \tdim_2: 1024\n",
      "\u001b[34m\u001b[1mwandb\u001b[0m: \tdropout: False\n",
      "\u001b[34m\u001b[1mwandb\u001b[0m: \tepochs: 30\n",
      "\u001b[34m\u001b[1mwandb\u001b[0m: \tlayer_fc_1: 1\n",
      "\u001b[34m\u001b[1mwandb\u001b[0m: \tlayer_fc_2: 1\n",
      "\u001b[34m\u001b[1mwandb\u001b[0m: \tlearning_rate: 0.0036990696963572246\n",
      "\u001b[34m\u001b[1mwandb\u001b[0m: \tmomentum: 0.85\n",
      "\u001b[34m\u001b[1mwandb\u001b[0m: \toptimizer: adam\n",
      "\u001b[34m\u001b[1mwandb\u001b[0m: \tweight_decay: 0.006783697200231098\n",
      "Failed to detect the name of this notebook, you can set it manually with the WANDB_NOTEBOOK_NAME environment variable to enable code saving.\n"
     ]
    },
    {
     "data": {
      "text/html": [
       "wandb version 0.13.5 is available!  To upgrade, please run:\n",
       " $ pip install wandb --upgrade"
      ],
      "text/plain": [
       "<IPython.core.display.HTML object>"
      ]
     },
     "metadata": {},
     "output_type": "display_data"
    },
    {
     "data": {
      "text/html": [
       "Tracking run with wandb version 0.13.4"
      ],
      "text/plain": [
       "<IPython.core.display.HTML object>"
      ]
     },
     "metadata": {},
     "output_type": "display_data"
    },
    {
     "data": {
      "text/html": [
       "Run data is saved locally in <code>/home/anwer/Desktop/PPI_prediction/model_training_py/models/wandb/run-20221129_082757-a9kbt7ez</code>"
      ],
      "text/plain": [
       "<IPython.core.display.HTML object>"
      ]
     },
     "metadata": {},
     "output_type": "display_data"
    },
    {
     "data": {
      "text/html": [
       "Syncing run <strong><a href=\"https://wandb.ai/danish2562022/PI__prediction_fc__hyperparameter_tuning_cls_vector/runs/a9kbt7ez\" target=\"_blank\">stilted-sweep-3</a></strong> to <a href=\"https://wandb.ai/danish2562022/PI__prediction_fc__hyperparameter_tuning_cls_vector\" target=\"_blank\">Weights & Biases</a> (<a href=\"https://wandb.me/run\" target=\"_blank\">docs</a>)<br/>Sweep page:  <a href=\"https://wandb.ai/danish2562022/PI__prediction_fc__hyperparameter_tuning_cls_vector/sweeps/gyyc8zyb\" target=\"_blank\">https://wandb.ai/danish2562022/PI__prediction_fc__hyperparameter_tuning_cls_vector/sweeps/gyyc8zyb</a>"
      ],
      "text/plain": [
       "<IPython.core.display.HTML object>"
      ]
     },
     "metadata": {},
     "output_type": "display_data"
    },
    {
     "name": "stdout",
     "output_type": "stream",
     "text": [
      "Start training...\n",
      "\n"
     ]
    },
    {
     "name": "stderr",
     "output_type": "stream",
     "text": [
      "11it [00:06,  1.64it/s]\n",
      "100%|████████████████████████████████████████████████████████████| 1/1 [00:00<00:00,  2.13it/s]\n"
     ]
    },
    {
     "name": "stdout",
     "output_type": "stream",
     "text": [
      "Epoch: 1 | Training Loss: 0.7027818777344443  | Validation Loss: 0.7079532742500305  | Accuracy: 46.75\n"
     ]
    },
    {
     "name": "stderr",
     "output_type": "stream",
     "text": [
      "11it [00:07,  1.52it/s]\n",
      "100%|████████████████████████████████████████████████████████████| 1/1 [00:00<00:00,  1.98it/s]\n"
     ]
    },
    {
     "name": "stdout",
     "output_type": "stream",
     "text": [
      "Epoch: 2 | Training Loss: 0.6983577500690114  | Validation Loss: 0.7016445398330688  | Accuracy: 46.75\n"
     ]
    },
    {
     "name": "stderr",
     "output_type": "stream",
     "text": [
      "11it [00:07,  1.41it/s]\n",
      "100%|████████████████████████████████████████████████████████████| 1/1 [00:00<00:00,  1.85it/s]\n"
     ]
    },
    {
     "name": "stdout",
     "output_type": "stream",
     "text": [
      "Epoch: 3 | Training Loss: 0.6951136534864252  | Validation Loss: 0.6965356469154358  | Accuracy: 46.75\n"
     ]
    },
    {
     "name": "stderr",
     "output_type": "stream",
     "text": [
      "11it [00:08,  1.33it/s]\n",
      "100%|████████████████████████████████████████████████████████████| 1/1 [00:00<00:00,  1.87it/s]\n"
     ]
    },
    {
     "name": "stdout",
     "output_type": "stream",
     "text": [
      "Epoch: 4 | Training Loss: 0.6935106136582114  | Validation Loss: 0.6939407587051392  | Accuracy: 46.75\n"
     ]
    },
    {
     "name": "stderr",
     "output_type": "stream",
     "text": [
      "11it [00:08,  1.31it/s]\n",
      "100%|████████████████████████████████████████████████████████████| 1/1 [00:00<00:00,  1.74it/s]\n"
     ]
    },
    {
     "name": "stdout",
     "output_type": "stream",
     "text": [
      "Epoch: 5 | Training Loss: 0.6931797699494795  | Validation Loss: 0.6934394240379333  | Accuracy: 46.75\n"
     ]
    },
    {
     "name": "stderr",
     "output_type": "stream",
     "text": [
      "11it [00:08,  1.28it/s]\n",
      "100%|████████████████████████████████████████████████████████████| 1/1 [00:00<00:00,  1.79it/s]\n"
     ]
    },
    {
     "name": "stdout",
     "output_type": "stream",
     "text": [
      "Epoch: 6 | Training Loss: 0.6931722976944663  | Validation Loss: 0.6938024163246155  | Accuracy: 46.75\n"
     ]
    },
    {
     "name": "stderr",
     "output_type": "stream",
     "text": [
      "11it [00:08,  1.34it/s]\n",
      "100%|████████████████████████████████████████████████████████████| 1/1 [00:00<00:00,  1.77it/s]\n"
     ]
    },
    {
     "name": "stdout",
     "output_type": "stream",
     "text": [
      "Epoch: 7 | Training Loss: 0.693204560063102  | Validation Loss: 0.6939947605133057  | Accuracy: 46.75\n"
     ]
    },
    {
     "name": "stderr",
     "output_type": "stream",
     "text": [
      "11it [00:08,  1.37it/s]\n",
      "100%|████████████████████████████████████████████████████████████| 1/1 [00:00<00:00,  1.81it/s]\n"
     ]
    },
    {
     "name": "stdout",
     "output_type": "stream",
     "text": [
      "Epoch: 8 | Training Loss: 0.6932108727368441  | Validation Loss: 0.6939655542373657  | Accuracy: 46.75\n"
     ]
    },
    {
     "name": "stderr",
     "output_type": "stream",
     "text": [
      "11it [00:08,  1.35it/s]\n",
      "100%|████████████████████████████████████████████████████████████| 1/1 [00:00<00:00,  1.83it/s]\n"
     ]
    },
    {
     "name": "stdout",
     "output_type": "stream",
     "text": [
      "Epoch: 9 | Training Loss: 0.6932150233875621  | Validation Loss: 0.6939508318901062  | Accuracy: 46.75\n"
     ]
    },
    {
     "name": "stderr",
     "output_type": "stream",
     "text": [
      "11it [00:08,  1.30it/s]\n",
      "100%|████████████████████████████████████████████████████████████| 1/1 [00:00<00:00,  1.72it/s]\n"
     ]
    },
    {
     "name": "stdout",
     "output_type": "stream",
     "text": [
      "Epoch: 10 | Training Loss: 0.6932091171091254  | Validation Loss: 0.6939073801040649  | Accuracy: 46.75\n"
     ]
    },
    {
     "name": "stderr",
     "output_type": "stream",
     "text": [
      "11it [00:08,  1.35it/s]\n",
      "100%|████████████████████████████████████████████████████████████| 1/1 [00:00<00:00,  1.79it/s]\n"
     ]
    },
    {
     "name": "stdout",
     "output_type": "stream",
     "text": [
      "Epoch: 11 | Training Loss: 0.6931960962035439  | Validation Loss: 0.6938134431838989  | Accuracy: 46.75\n"
     ]
    },
    {
     "name": "stderr",
     "output_type": "stream",
     "text": [
      "11it [00:08,  1.25it/s]\n",
      "100%|████████████████████████████████████████████████████████████| 1/1 [00:00<00:00,  1.78it/s]\n"
     ]
    },
    {
     "name": "stdout",
     "output_type": "stream",
     "text": [
      "Epoch: 12 | Training Loss: 0.69319133866917  | Validation Loss: 0.6937949061393738  | Accuracy: 46.75\n"
     ]
    },
    {
     "name": "stderr",
     "output_type": "stream",
     "text": [
      "11it [00:08,  1.35it/s]\n",
      "100%|████████████████████████████████████████████████████████████| 1/1 [00:00<00:00,  1.80it/s]\n"
     ]
    },
    {
     "name": "stdout",
     "output_type": "stream",
     "text": [
      "Epoch: 13 | Training Loss: 0.6931923682039435  | Validation Loss: 0.6938024759292603  | Accuracy: 46.75\n"
     ]
    },
    {
     "name": "stderr",
     "output_type": "stream",
     "text": [
      "11it [00:08,  1.28it/s]\n",
      "100%|████████████████████████████████████████████████████████████| 1/1 [00:00<00:00,  1.71it/s]\n"
     ]
    },
    {
     "name": "stdout",
     "output_type": "stream",
     "text": [
      "Epoch: 14 | Training Loss: 0.6931903579018333  | Validation Loss: 0.6937825679779053  | Accuracy: 46.75\n"
     ]
    },
    {
     "name": "stderr",
     "output_type": "stream",
     "text": [
      "11it [00:08,  1.31it/s]\n",
      "100%|████████████████████████████████████████████████████████████| 1/1 [00:00<00:00,  1.66it/s]\n"
     ]
    },
    {
     "name": "stdout",
     "output_type": "stream",
     "text": [
      "Epoch: 15 | Training Loss: 0.693179114298387  | Validation Loss: 0.6937086582183838  | Accuracy: 46.75\n"
     ]
    },
    {
     "name": "stderr",
     "output_type": "stream",
     "text": [
      "11it [00:08,  1.33it/s]\n",
      "100%|████████████████████████████████████████████████████████████| 1/1 [00:00<00:00,  1.79it/s]\n"
     ]
    },
    {
     "name": "stdout",
     "output_type": "stream",
     "text": [
      "Epoch: 16 | Training Loss: 0.6931820891120217  | Validation Loss: 0.6937485337257385  | Accuracy: 46.75\n"
     ]
    },
    {
     "name": "stderr",
     "output_type": "stream",
     "text": [
      "11it [00:08,  1.22it/s]\n",
      "100%|████████████████████████████████████████████████████████████| 1/1 [00:00<00:00,  1.76it/s]\n"
     ]
    },
    {
     "name": "stdout",
     "output_type": "stream",
     "text": [
      "Epoch: 17 | Training Loss: 0.6931797807866876  | Validation Loss: 0.6936630606651306  | Accuracy: 46.75\n"
     ]
    },
    {
     "name": "stderr",
     "output_type": "stream",
     "text": [
      "11it [00:08,  1.33it/s]\n",
      "100%|████████████████████████████████████████████████████████████| 1/1 [00:00<00:00,  1.77it/s]\n"
     ]
    },
    {
     "name": "stdout",
     "output_type": "stream",
     "text": [
      "Epoch: 18 | Training Loss: 0.6931717179038308  | Validation Loss: 0.6935717463493347  | Accuracy: 46.75\n"
     ]
    },
    {
     "name": "stderr",
     "output_type": "stream",
     "text": [
      "11it [00:08,  1.30it/s]\n",
      "100%|████████████████████████████████████████████████████████████| 1/1 [00:00<00:00,  1.73it/s]\n"
     ]
    },
    {
     "name": "stdout",
     "output_type": "stream",
     "text": [
      "Epoch: 19 | Training Loss: 0.6931661855090748  | Validation Loss: 0.6936060190200806  | Accuracy: 46.75\n"
     ]
    },
    {
     "name": "stderr",
     "output_type": "stream",
     "text": [
      "11it [00:08,  1.37it/s]\n",
      "100%|████████████████████████████████████████████████████████████| 1/1 [00:00<00:00,  1.81it/s]\n"
     ]
    },
    {
     "name": "stdout",
     "output_type": "stream",
     "text": [
      "Epoch: 20 | Training Loss: 0.6931680386716669  | Validation Loss: 0.6936057209968567  | Accuracy: 46.75\n"
     ]
    },
    {
     "name": "stderr",
     "output_type": "stream",
     "text": [
      "11it [00:08,  1.31it/s]\n",
      "100%|████████████████████████████████████████████████████████████| 1/1 [00:00<00:00,  1.79it/s]\n"
     ]
    },
    {
     "name": "stdout",
     "output_type": "stream",
     "text": [
      "Epoch: 21 | Training Loss: 0.693168125369332  | Validation Loss: 0.6935802102088928  | Accuracy: 46.75\n"
     ]
    },
    {
     "name": "stderr",
     "output_type": "stream",
     "text": [
      "11it [00:08,  1.30it/s]\n",
      "100%|████████████████████████████████████████████████████████████| 1/1 [00:00<00:00,  1.76it/s]\n"
     ]
    },
    {
     "name": "stdout",
     "output_type": "stream",
     "text": [
      "Epoch: 22 | Training Loss: 0.6931645328348334  | Validation Loss: 0.6935113072395325  | Accuracy: 46.75\n"
     ]
    },
    {
     "name": "stderr",
     "output_type": "stream",
     "text": [
      "11it [00:08,  1.28it/s]\n",
      "100%|████████████████████████████████████████████████████████████| 1/1 [00:00<00:00,  1.89it/s]\n"
     ]
    },
    {
     "name": "stdout",
     "output_type": "stream",
     "text": [
      "Epoch: 23 | Training Loss: 0.6931594772772356  | Validation Loss: 0.6934822797775269  | Accuracy: 46.75\n"
     ]
    },
    {
     "name": "stderr",
     "output_type": "stream",
     "text": [
      "11it [00:07,  1.39it/s]\n",
      "100%|████████████████████████████████████████████████████████████| 1/1 [00:00<00:00,  1.90it/s]\n"
     ]
    },
    {
     "name": "stdout",
     "output_type": "stream",
     "text": [
      "Epoch: 24 | Training Loss: 0.6931578083471819  | Validation Loss: 0.6934239864349365  | Accuracy: 46.75\n"
     ]
    },
    {
     "name": "stderr",
     "output_type": "stream",
     "text": [
      "11it [00:07,  1.38it/s]\n",
      "100%|████████████████████████████████████████████████████████████| 1/1 [00:00<00:00,  1.89it/s]\n"
     ]
    },
    {
     "name": "stdout",
     "output_type": "stream",
     "text": [
      "Epoch: 25 | Training Loss: 0.6931551369753751  | Validation Loss: 0.6934317946434021  | Accuracy: 46.75\n"
     ]
    },
    {
     "name": "stderr",
     "output_type": "stream",
     "text": [
      "11it [00:07,  1.42it/s]\n",
      "100%|████████████████████████████████████████████████████████████| 1/1 [00:00<00:00,  1.97it/s]\n"
     ]
    },
    {
     "name": "stdout",
     "output_type": "stream",
     "text": [
      "Epoch: 26 | Training Loss: 0.6931542754173279  | Validation Loss: 0.6934010982513428  | Accuracy: 46.75\n"
     ]
    },
    {
     "name": "stderr",
     "output_type": "stream",
     "text": [
      "11it [00:08,  1.37it/s]\n",
      "100%|████████████████████████████████████████████████████████████| 1/1 [00:00<00:00,  1.94it/s]\n"
     ]
    },
    {
     "name": "stdout",
     "output_type": "stream",
     "text": [
      "Epoch: 27 | Training Loss: 0.6931533325802196  | Validation Loss: 0.6933434009552002  | Accuracy: 46.75\n"
     ]
    },
    {
     "name": "stderr",
     "output_type": "stream",
     "text": [
      "11it [00:07,  1.41it/s]\n",
      "100%|████████████████████████████████████████████████████████████| 1/1 [00:00<00:00,  1.77it/s]\n"
     ]
    },
    {
     "name": "stdout",
     "output_type": "stream",
     "text": [
      "Epoch: 28 | Training Loss: 0.6931510459293019  | Validation Loss: 0.6933074593544006  | Accuracy: 46.75\n"
     ]
    },
    {
     "name": "stderr",
     "output_type": "stream",
     "text": [
      "11it [00:07,  1.43it/s]\n",
      "100%|████████████████████████████████████████████████████████████| 1/1 [00:00<00:00,  1.97it/s]\n"
     ]
    },
    {
     "name": "stdout",
     "output_type": "stream",
     "text": [
      "Epoch: 29 | Training Loss: 0.6931498863480308  | Validation Loss: 0.6933059692382812  | Accuracy: 46.75\n"
     ]
    },
    {
     "name": "stderr",
     "output_type": "stream",
     "text": [
      "11it [00:07,  1.43it/s]\n",
      "100%|████████████████████████████████████████████████████████████| 1/1 [00:00<00:00,  1.97it/s]\n"
     ]
    },
    {
     "name": "stdout",
     "output_type": "stream",
     "text": [
      "Epoch: 30 | Training Loss: 0.6931523843245073  | Validation Loss: 0.6933255195617676  | Accuracy: 46.75\n",
      "\n",
      "\n",
      "Training complete! Best accuracy: 46.75%.\n"
     ]
    },
    {
     "data": {
      "text/html": [
       "Waiting for W&B process to finish... <strong style=\"color:green\">(success).</strong>"
      ],
      "text/plain": [
       "<IPython.core.display.HTML object>"
      ]
     },
     "metadata": {},
     "output_type": "display_data"
    },
    {
     "data": {
      "text/html": [
       "<style>\n",
       "    table.wandb td:nth-child(1) { padding: 0 10px; text-align: left ; width: auto;} td:nth-child(2) {text-align: left ; width: 100%}\n",
       "    .wandb-row { display: flex; flex-direction: row; flex-wrap: wrap; justify-content: flex-start; width: 100% }\n",
       "    .wandb-col { display: flex; flex-direction: column; flex-basis: 100%; flex: 1; padding: 10px; }\n",
       "    </style>\n",
       "<div class=\"wandb-row\"><div class=\"wandb-col\"><h3>Run history:</h3><br/><table class=\"wandb\"><tr><td>epoch</td><td>▁▁▁▂▂▂▂▃▃▃▃▄▄▄▄▅▅▅▅▆▆▆▆▇▇▇▇███</td></tr><tr><td>train_loss</td><td>█▅▂▁▁▁▁▁▁▁▁▁▁▁▁▁▁▁▁▁▁▁▁▁▁▁▁▁▁▁</td></tr><tr><td>val_accuracy</td><td>▁</td></tr><tr><td>val_loss</td><td>█▅▃▁▁▁▁▁▁▁▁▁▁▁▁▁▁▁▁▁▁▁▁▁▁▁▁▁▁▁</td></tr></table><br/></div><div class=\"wandb-col\"><h3>Run summary:</h3><br/><table class=\"wandb\"><tr><td>epoch</td><td>30</td></tr><tr><td>train_loss</td><td>0.69315</td></tr><tr><td>val_accuracy</td><td>46.75</td></tr><tr><td>val_loss</td><td>0.69333</td></tr></table><br/></div></div>"
      ],
      "text/plain": [
       "<IPython.core.display.HTML object>"
      ]
     },
     "metadata": {},
     "output_type": "display_data"
    },
    {
     "data": {
      "text/html": [
       "Synced <strong style=\"color:#cdcd00\">stilted-sweep-3</strong>: <a href=\"https://wandb.ai/danish2562022/PI__prediction_fc__hyperparameter_tuning_cls_vector/runs/a9kbt7ez\" target=\"_blank\">https://wandb.ai/danish2562022/PI__prediction_fc__hyperparameter_tuning_cls_vector/runs/a9kbt7ez</a><br/>Synced 6 W&B file(s), 0 media file(s), 0 artifact file(s) and 0 other file(s)"
      ],
      "text/plain": [
       "<IPython.core.display.HTML object>"
      ]
     },
     "metadata": {},
     "output_type": "display_data"
    },
    {
     "data": {
      "text/html": [
       "Find logs at: <code>./wandb/run-20221129_082757-a9kbt7ez/logs</code>"
      ],
      "text/plain": [
       "<IPython.core.display.HTML object>"
      ]
     },
     "metadata": {},
     "output_type": "display_data"
    },
    {
     "name": "stderr",
     "output_type": "stream",
     "text": [
      "\u001b[34m\u001b[1mwandb\u001b[0m: Agent Starting Run: mhozlum7 with config:\n",
      "\u001b[34m\u001b[1mwandb\u001b[0m: \tamsgrad: True\n",
      "\u001b[34m\u001b[1mwandb\u001b[0m: \tdim_1: 4048\n",
      "\u001b[34m\u001b[1mwandb\u001b[0m: \tdim_2: 1024\n",
      "\u001b[34m\u001b[1mwandb\u001b[0m: \tdropout: True\n",
      "\u001b[34m\u001b[1mwandb\u001b[0m: \tepochs: 30\n",
      "\u001b[34m\u001b[1mwandb\u001b[0m: \tlayer_fc_1: 1\n",
      "\u001b[34m\u001b[1mwandb\u001b[0m: \tlayer_fc_2: 1\n",
      "\u001b[34m\u001b[1mwandb\u001b[0m: \tlearning_rate: 0.00858552115066987\n",
      "\u001b[34m\u001b[1mwandb\u001b[0m: \tmomentum: 0.95\n",
      "\u001b[34m\u001b[1mwandb\u001b[0m: \toptimizer: adam\n",
      "\u001b[34m\u001b[1mwandb\u001b[0m: \tweight_decay: 0.00505206298093026\n",
      "Failed to detect the name of this notebook, you can set it manually with the WANDB_NOTEBOOK_NAME environment variable to enable code saving.\n"
     ]
    },
    {
     "data": {
      "text/html": [
       "wandb version 0.13.5 is available!  To upgrade, please run:\n",
       " $ pip install wandb --upgrade"
      ],
      "text/plain": [
       "<IPython.core.display.HTML object>"
      ]
     },
     "metadata": {},
     "output_type": "display_data"
    },
    {
     "data": {
      "text/html": [
       "Tracking run with wandb version 0.13.4"
      ],
      "text/plain": [
       "<IPython.core.display.HTML object>"
      ]
     },
     "metadata": {},
     "output_type": "display_data"
    },
    {
     "data": {
      "text/html": [
       "Run data is saved locally in <code>/home/anwer/Desktop/PPI_prediction/model_training_py/models/wandb/run-20221129_083232-mhozlum7</code>"
      ],
      "text/plain": [
       "<IPython.core.display.HTML object>"
      ]
     },
     "metadata": {},
     "output_type": "display_data"
    },
    {
     "data": {
      "text/html": [
       "Syncing run <strong><a href=\"https://wandb.ai/danish2562022/PI__prediction_fc__hyperparameter_tuning_cls_vector/runs/mhozlum7\" target=\"_blank\">peach-sweep-4</a></strong> to <a href=\"https://wandb.ai/danish2562022/PI__prediction_fc__hyperparameter_tuning_cls_vector\" target=\"_blank\">Weights & Biases</a> (<a href=\"https://wandb.me/run\" target=\"_blank\">docs</a>)<br/>Sweep page:  <a href=\"https://wandb.ai/danish2562022/PI__prediction_fc__hyperparameter_tuning_cls_vector/sweeps/gyyc8zyb\" target=\"_blank\">https://wandb.ai/danish2562022/PI__prediction_fc__hyperparameter_tuning_cls_vector/sweeps/gyyc8zyb</a>"
      ],
      "text/plain": [
       "<IPython.core.display.HTML object>"
      ]
     },
     "metadata": {},
     "output_type": "display_data"
    },
    {
     "name": "stdout",
     "output_type": "stream",
     "text": [
      "Start training...\n",
      "\n"
     ]
    },
    {
     "name": "stderr",
     "output_type": "stream",
     "text": [
      "11it [00:07,  1.56it/s]\n",
      "100%|████████████████████████████████████████████████████████████| 1/1 [00:00<00:00,  2.12it/s]\n"
     ]
    },
    {
     "name": "stdout",
     "output_type": "stream",
     "text": [
      "Epoch: 1 | Training Loss: 0.6974970427426425  | Validation Loss: 0.6986062526702881  | Accuracy: 46.75\n"
     ]
    },
    {
     "name": "stderr",
     "output_type": "stream",
     "text": [
      "11it [00:07,  1.48it/s]\n",
      "100%|████████████████████████████████████████████████████████████| 1/1 [00:00<00:00,  1.95it/s]\n"
     ]
    },
    {
     "name": "stdout",
     "output_type": "stream",
     "text": [
      "Epoch: 2 | Training Loss: 0.6938134377652948  | Validation Loss: 0.6934126019477844  | Accuracy: 46.75\n"
     ]
    },
    {
     "name": "stderr",
     "output_type": "stream",
     "text": [
      "11it [00:07,  1.42it/s]\n",
      "100%|████████████████████████████████████████████████████████████| 1/1 [00:00<00:00,  1.83it/s]\n"
     ]
    },
    {
     "name": "stdout",
     "output_type": "stream",
     "text": [
      "Epoch: 3 | Training Loss: 0.693172655322335  | Validation Loss: 0.6926017999649048  | Accuracy: 53.25\n"
     ]
    },
    {
     "name": "stderr",
     "output_type": "stream",
     "text": [
      "11it [00:08,  1.33it/s]\n",
      "100%|████████████████████████████████████████████████████████████| 1/1 [00:00<00:00,  1.78it/s]\n"
     ]
    },
    {
     "name": "stdout",
     "output_type": "stream",
     "text": [
      "Epoch: 4 | Training Loss: 0.6931630102070895  | Validation Loss: 0.6932321786880493  | Accuracy: 46.75\n"
     ]
    },
    {
     "name": "stderr",
     "output_type": "stream",
     "text": [
      "11it [00:08,  1.36it/s]\n",
      "100%|████████████████████████████████████████████████████████████| 1/1 [00:00<00:00,  1.73it/s]\n"
     ]
    },
    {
     "name": "stdout",
     "output_type": "stream",
     "text": [
      "Epoch: 5 | Training Loss: 0.6931496912782843  | Validation Loss: 0.6933792233467102  | Accuracy: 46.75\n"
     ]
    },
    {
     "name": "stderr",
     "output_type": "stream",
     "text": [
      "11it [00:08,  1.34it/s]\n",
      "100%|████████████████████████████████████████████████████████████| 1/1 [00:00<00:00,  1.83it/s]\n"
     ]
    },
    {
     "name": "stdout",
     "output_type": "stream",
     "text": [
      "Epoch: 6 | Training Loss: 0.6931533976034685  | Validation Loss: 0.6933290958404541  | Accuracy: 46.75\n"
     ]
    },
    {
     "name": "stderr",
     "output_type": "stream",
     "text": [
      "11it [00:08,  1.30it/s]\n",
      "100%|████████████████████████████████████████████████████████████| 1/1 [00:00<00:00,  1.72it/s]\n"
     ]
    },
    {
     "name": "stdout",
     "output_type": "stream",
     "text": [
      "Epoch: 7 | Training Loss: 0.6931483528830789  | Validation Loss: 0.6931951642036438  | Accuracy: 46.75\n"
     ]
    },
    {
     "name": "stderr",
     "output_type": "stream",
     "text": [
      "11it [00:08,  1.29it/s]\n",
      "100%|████████████████████████████████████████████████████████████| 1/1 [00:00<00:00,  1.72it/s]\n"
     ]
    },
    {
     "name": "stdout",
     "output_type": "stream",
     "text": [
      "Epoch: 8 | Training Loss: 0.693148054859855  | Validation Loss: 0.6931028366088867  | Accuracy: 53.25\n"
     ]
    },
    {
     "name": "stderr",
     "output_type": "stream",
     "text": [
      "11it [00:08,  1.25it/s]\n",
      "100%|████████████████████████████████████████████████████████████| 1/1 [00:00<00:00,  1.73it/s]\n"
     ]
    },
    {
     "name": "stdout",
     "output_type": "stream",
     "text": [
      "Epoch: 9 | Training Loss: 0.6931479735807939  | Validation Loss: 0.6930888891220093  | Accuracy: 53.25\n"
     ]
    },
    {
     "name": "stderr",
     "output_type": "stream",
     "text": [
      "11it [00:08,  1.32it/s]\n",
      "100%|████████████████████████████████████████████████████████████| 1/1 [00:00<00:00,  1.65it/s]\n"
     ]
    },
    {
     "name": "stdout",
     "output_type": "stream",
     "text": [
      "Epoch: 10 | Training Loss: 0.6931491439992731  | Validation Loss: 0.6931709051132202  | Accuracy: 46.75\n"
     ]
    },
    {
     "name": "stderr",
     "output_type": "stream",
     "text": [
      "11it [00:08,  1.25it/s]\n",
      "100%|████████████████████████████████████████████████████████████| 1/1 [00:00<00:00,  1.68it/s]\n"
     ]
    },
    {
     "name": "stdout",
     "output_type": "stream",
     "text": [
      "Epoch: 11 | Training Loss: 0.6931486671621149  | Validation Loss: 0.693123996257782  | Accuracy: 53.25\n"
     ]
    },
    {
     "name": "stderr",
     "output_type": "stream",
     "text": [
      "11it [00:08,  1.26it/s]\n",
      "100%|████████████████████████████████████████████████████████████| 1/1 [00:00<00:00,  1.73it/s]\n"
     ]
    },
    {
     "name": "stdout",
     "output_type": "stream",
     "text": [
      "Epoch: 12 | Training Loss: 0.693148591301658  | Validation Loss: 0.6931923627853394  | Accuracy: 46.75\n"
     ]
    },
    {
     "name": "stderr",
     "output_type": "stream",
     "text": [
      "11it [00:08,  1.25it/s]\n",
      "100%|████████████████████████████████████████████████████████████| 1/1 [00:00<00:00,  1.74it/s]\n"
     ]
    },
    {
     "name": "stdout",
     "output_type": "stream",
     "text": [
      "Epoch: 13 | Training Loss: 0.6931473666971381  | Validation Loss: 0.6931936740875244  | Accuracy: 46.75\n"
     ]
    },
    {
     "name": "stderr",
     "output_type": "stream",
     "text": [
      "11it [00:08,  1.26it/s]\n",
      "100%|████████████████████████████████████████████████████████████| 1/1 [00:00<00:00,  1.75it/s]\n"
     ]
    },
    {
     "name": "stdout",
     "output_type": "stream",
     "text": [
      "Epoch: 14 | Training Loss: 0.6931473233483054  | Validation Loss: 0.6931482553482056  | Accuracy: 46.75\n"
     ]
    },
    {
     "name": "stderr",
     "output_type": "stream",
     "text": [
      "11it [00:08,  1.31it/s]\n",
      "100%|████████████████████████████████████████████████████████████| 1/1 [00:00<00:00,  1.76it/s]\n"
     ]
    },
    {
     "name": "stdout",
     "output_type": "stream",
     "text": [
      "Epoch: 15 | Training Loss: 0.6931490031155673  | Validation Loss: 0.6930962800979614  | Accuracy: 53.25\n"
     ]
    },
    {
     "name": "stderr",
     "output_type": "stream",
     "text": [
      "11it [00:08,  1.29it/s]\n",
      "100%|████████████████████████████████████████████████████████████| 1/1 [00:00<00:00,  1.68it/s]\n"
     ]
    },
    {
     "name": "stdout",
     "output_type": "stream",
     "text": [
      "Epoch: 16 | Training Loss: 0.6931497833945535  | Validation Loss: 0.6932300329208374  | Accuracy: 46.75\n"
     ]
    },
    {
     "name": "stderr",
     "output_type": "stream",
     "text": [
      "11it [00:08,  1.26it/s]\n",
      "100%|████████████████████████████████████████████████████████████| 1/1 [00:00<00:00,  1.68it/s]\n"
     ]
    },
    {
     "name": "stdout",
     "output_type": "stream",
     "text": [
      "Epoch: 17 | Training Loss: 0.6931485100225969  | Validation Loss: 0.6931919455528259  | Accuracy: 46.75\n"
     ]
    },
    {
     "name": "stderr",
     "output_type": "stream",
     "text": [
      "11it [00:08,  1.26it/s]\n",
      "100%|████████████████████████████████████████████████████████████| 1/1 [00:00<00:00,  1.71it/s]\n"
     ]
    },
    {
     "name": "stdout",
     "output_type": "stream",
     "text": [
      "Epoch: 18 | Training Loss: 0.6931523463942788  | Validation Loss: 0.6930493712425232  | Accuracy: 53.25\n"
     ]
    },
    {
     "name": "stderr",
     "output_type": "stream",
     "text": [
      "11it [00:08,  1.32it/s]\n",
      "100%|████████████████████████████████████████████████████████████| 1/1 [00:00<00:00,  1.71it/s]\n"
     ]
    },
    {
     "name": "stdout",
     "output_type": "stream",
     "text": [
      "Epoch: 19 | Training Loss: 0.6931490410457958  | Validation Loss: 0.6932235956192017  | Accuracy: 46.75\n"
     ]
    },
    {
     "name": "stderr",
     "output_type": "stream",
     "text": [
      "11it [00:08,  1.26it/s]\n",
      "100%|████████████████████████████████████████████████████████████| 1/1 [00:00<00:00,  1.70it/s]\n"
     ]
    },
    {
     "name": "stdout",
     "output_type": "stream",
     "text": [
      "Epoch: 20 | Training Loss: 0.6931487050923434  | Validation Loss: 0.6932246088981628  | Accuracy: 46.75\n"
     ]
    },
    {
     "name": "stderr",
     "output_type": "stream",
     "text": [
      "11it [00:08,  1.33it/s]\n",
      "100%|████████████████████████████████████████████████████████████| 1/1 [00:00<00:00,  1.75it/s]\n"
     ]
    },
    {
     "name": "stdout",
     "output_type": "stream",
     "text": [
      "Epoch: 21 | Training Loss: 0.6931487701155923  | Validation Loss: 0.693086564540863  | Accuracy: 53.25\n"
     ]
    },
    {
     "name": "stderr",
     "output_type": "stream",
     "text": [
      "11it [00:08,  1.25it/s]\n",
      "100%|████████████████████████████████████████████████████████████| 1/1 [00:00<00:00,  1.78it/s]\n"
     ]
    },
    {
     "name": "stdout",
     "output_type": "stream",
     "text": [
      "Epoch: 22 | Training Loss: 0.693149057301608  | Validation Loss: 0.6931009292602539  | Accuracy: 53.25\n"
     ]
    },
    {
     "name": "stderr",
     "output_type": "stream",
     "text": [
      "11it [00:08,  1.31it/s]\n",
      "100%|████████████████████████████████████████████████████████████| 1/1 [00:00<00:00,  1.85it/s]\n"
     ]
    },
    {
     "name": "stdout",
     "output_type": "stream",
     "text": [
      "Epoch: 23 | Training Loss: 0.6931471445343711  | Validation Loss: 0.6932045817375183  | Accuracy: 46.75\n"
     ]
    },
    {
     "name": "stderr",
     "output_type": "stream",
     "text": [
      "11it [00:08,  1.37it/s]\n",
      "100%|████████████████████████████████████████████████████████████| 1/1 [00:00<00:00,  1.81it/s]\n"
     ]
    },
    {
     "name": "stdout",
     "output_type": "stream",
     "text": [
      "Epoch: 24 | Training Loss: 0.6931511813944037  | Validation Loss: 0.6932828426361084  | Accuracy: 46.75\n"
     ]
    },
    {
     "name": "stderr",
     "output_type": "stream",
     "text": [
      "11it [00:08,  1.31it/s]\n",
      "100%|████████████████████████████████████████████████████████████| 1/1 [00:00<00:00,  1.81it/s]\n"
     ]
    },
    {
     "name": "stdout",
     "output_type": "stream",
     "text": [
      "Epoch: 25 | Training Loss: 0.6931473992087624  | Validation Loss: 0.6930766701698303  | Accuracy: 53.25\n"
     ]
    },
    {
     "name": "stderr",
     "output_type": "stream",
     "text": [
      "11it [00:08,  1.32it/s]\n",
      "100%|████████████████████████████████████████████████████████████| 1/1 [00:00<00:00,  1.80it/s]\n"
     ]
    },
    {
     "name": "stdout",
     "output_type": "stream",
     "text": [
      "Epoch: 26 | Training Loss: 0.6931491548364813  | Validation Loss: 0.6930501461029053  | Accuracy: 53.25\n"
     ]
    },
    {
     "name": "stderr",
     "output_type": "stream",
     "text": [
      "11it [00:07,  1.38it/s]\n",
      "100%|████████████████████████████████████████████████████████████| 1/1 [00:00<00:00,  1.90it/s]\n"
     ]
    },
    {
     "name": "stdout",
     "output_type": "stream",
     "text": [
      "Epoch: 27 | Training Loss: 0.6931525685570457  | Validation Loss: 0.6931849122047424  | Accuracy: 46.75\n"
     ]
    },
    {
     "name": "stderr",
     "output_type": "stream",
     "text": [
      "11it [00:08,  1.32it/s]\n",
      "100%|████████████████████████████████████████████████████████████| 1/1 [00:00<00:00,  1.90it/s]\n"
     ]
    },
    {
     "name": "stdout",
     "output_type": "stream",
     "text": [
      "Epoch: 28 | Training Loss: 0.693147978999398  | Validation Loss: 0.6931194067001343  | Accuracy: 53.25\n"
     ]
    },
    {
     "name": "stderr",
     "output_type": "stream",
     "text": [
      "11it [00:08,  1.31it/s]\n",
      "100%|████████████████████████████████████████████████████████████| 1/1 [00:00<00:00,  1.84it/s]\n"
     ]
    },
    {
     "name": "stdout",
     "output_type": "stream",
     "text": [
      "Epoch: 29 | Training Loss: 0.6931493065573953  | Validation Loss: 0.6931837201118469  | Accuracy: 46.75\n"
     ]
    },
    {
     "name": "stderr",
     "output_type": "stream",
     "text": [
      "11it [00:08,  1.34it/s]\n",
      "100%|████████████████████████████████████████████████████████████| 1/1 [00:00<00:00,  1.85it/s]\n"
     ]
    },
    {
     "name": "stdout",
     "output_type": "stream",
     "text": [
      "Epoch: 30 | Training Loss: 0.6931475075808439  | Validation Loss: 0.6931647062301636  | Accuracy: 46.75\n",
      "\n",
      "\n",
      "Training complete! Best accuracy: 53.25%.\n"
     ]
    },
    {
     "data": {
      "text/html": [
       "Waiting for W&B process to finish... <strong style=\"color:green\">(success).</strong>"
      ],
      "text/plain": [
       "<IPython.core.display.HTML object>"
      ]
     },
     "metadata": {},
     "output_type": "display_data"
    },
    {
     "data": {
      "application/vnd.jupyter.widget-view+json": {
       "model_id": "ea5116b77b2f44f088c4a5c1f7f34de1",
       "version_major": 2,
       "version_minor": 0
      },
      "text/plain": [
       "VBox(children=(Label(value='0.001 MB of 0.025 MB uploaded (0.000 MB deduped)\\r'), FloatProgress(value=0.029246…"
      ]
     },
     "metadata": {},
     "output_type": "display_data"
    },
    {
     "data": {
      "text/html": [
       "<style>\n",
       "    table.wandb td:nth-child(1) { padding: 0 10px; text-align: left ; width: auto;} td:nth-child(2) {text-align: left ; width: 100%}\n",
       "    .wandb-row { display: flex; flex-direction: row; flex-wrap: wrap; justify-content: flex-start; width: 100% }\n",
       "    .wandb-col { display: flex; flex-direction: column; flex-basis: 100%; flex: 1; padding: 10px; }\n",
       "    </style>\n",
       "<div class=\"wandb-row\"><div class=\"wandb-col\"><h3>Run history:</h3><br/><table class=\"wandb\"><tr><td>epoch</td><td>▁▁▁▂▂▂▂▃▃▃▃▄▄▄▄▅▅▅▅▆▆▆▆▇▇▇▇███</td></tr><tr><td>train_loss</td><td>█▂▁▁▁▁▁▁▁▁▁▁▁▁▁▁▁▁▁▁▁▁▁▁▁▁▁▁▁▁</td></tr><tr><td>val_accuracy</td><td>▁</td></tr><tr><td>val_loss</td><td>█▂▁▂▂▂▂▂▂▂▂▂▂▂▂▂▂▂▂▂▂▂▂▂▂▂▂▂▂▂</td></tr></table><br/></div><div class=\"wandb-col\"><h3>Run summary:</h3><br/><table class=\"wandb\"><tr><td>epoch</td><td>30</td></tr><tr><td>train_loss</td><td>0.69315</td></tr><tr><td>val_accuracy</td><td>53.25</td></tr><tr><td>val_loss</td><td>0.69316</td></tr></table><br/></div></div>"
      ],
      "text/plain": [
       "<IPython.core.display.HTML object>"
      ]
     },
     "metadata": {},
     "output_type": "display_data"
    },
    {
     "data": {
      "text/html": [
       "Synced <strong style=\"color:#cdcd00\">peach-sweep-4</strong>: <a href=\"https://wandb.ai/danish2562022/PI__prediction_fc__hyperparameter_tuning_cls_vector/runs/mhozlum7\" target=\"_blank\">https://wandb.ai/danish2562022/PI__prediction_fc__hyperparameter_tuning_cls_vector/runs/mhozlum7</a><br/>Synced 6 W&B file(s), 0 media file(s), 0 artifact file(s) and 0 other file(s)"
      ],
      "text/plain": [
       "<IPython.core.display.HTML object>"
      ]
     },
     "metadata": {},
     "output_type": "display_data"
    },
    {
     "data": {
      "text/html": [
       "Find logs at: <code>./wandb/run-20221129_083232-mhozlum7/logs</code>"
      ],
      "text/plain": [
       "<IPython.core.display.HTML object>"
      ]
     },
     "metadata": {},
     "output_type": "display_data"
    },
    {
     "name": "stderr",
     "output_type": "stream",
     "text": [
      "\u001b[34m\u001b[1mwandb\u001b[0m: Agent Starting Run: 6j5emo2y with config:\n",
      "\u001b[34m\u001b[1mwandb\u001b[0m: \tamsgrad: False\n",
      "\u001b[34m\u001b[1mwandb\u001b[0m: \tdim_1: 2048\n",
      "\u001b[34m\u001b[1mwandb\u001b[0m: \tdim_2: 512\n",
      "\u001b[34m\u001b[1mwandb\u001b[0m: \tdropout: True\n",
      "\u001b[34m\u001b[1mwandb\u001b[0m: \tepochs: 30\n",
      "\u001b[34m\u001b[1mwandb\u001b[0m: \tlayer_fc_1: 1\n",
      "\u001b[34m\u001b[1mwandb\u001b[0m: \tlayer_fc_2: 1\n",
      "\u001b[34m\u001b[1mwandb\u001b[0m: \tlearning_rate: 0.007944906948331665\n",
      "\u001b[34m\u001b[1mwandb\u001b[0m: \tmomentum: 0.85\n",
      "\u001b[34m\u001b[1mwandb\u001b[0m: \toptimizer: adam\n",
      "\u001b[34m\u001b[1mwandb\u001b[0m: \tweight_decay: 0.005725044307199864\n",
      "Failed to detect the name of this notebook, you can set it manually with the WANDB_NOTEBOOK_NAME environment variable to enable code saving.\n"
     ]
    },
    {
     "data": {
      "text/html": [
       "wandb version 0.13.5 is available!  To upgrade, please run:\n",
       " $ pip install wandb --upgrade"
      ],
      "text/plain": [
       "<IPython.core.display.HTML object>"
      ]
     },
     "metadata": {},
     "output_type": "display_data"
    },
    {
     "data": {
      "text/html": [
       "Tracking run with wandb version 0.13.4"
      ],
      "text/plain": [
       "<IPython.core.display.HTML object>"
      ]
     },
     "metadata": {},
     "output_type": "display_data"
    },
    {
     "data": {
      "text/html": [
       "Run data is saved locally in <code>/home/anwer/Desktop/PPI_prediction/model_training_py/models/wandb/run-20221129_083717-6j5emo2y</code>"
      ],
      "text/plain": [
       "<IPython.core.display.HTML object>"
      ]
     },
     "metadata": {},
     "output_type": "display_data"
    },
    {
     "data": {
      "text/html": [
       "Syncing run <strong><a href=\"https://wandb.ai/danish2562022/PI__prediction_fc__hyperparameter_tuning_cls_vector/runs/6j5emo2y\" target=\"_blank\">stellar-sweep-5</a></strong> to <a href=\"https://wandb.ai/danish2562022/PI__prediction_fc__hyperparameter_tuning_cls_vector\" target=\"_blank\">Weights & Biases</a> (<a href=\"https://wandb.me/run\" target=\"_blank\">docs</a>)<br/>Sweep page:  <a href=\"https://wandb.ai/danish2562022/PI__prediction_fc__hyperparameter_tuning_cls_vector/sweeps/gyyc8zyb\" target=\"_blank\">https://wandb.ai/danish2562022/PI__prediction_fc__hyperparameter_tuning_cls_vector/sweeps/gyyc8zyb</a>"
      ],
      "text/plain": [
       "<IPython.core.display.HTML object>"
      ]
     },
     "metadata": {},
     "output_type": "display_data"
    },
    {
     "name": "stdout",
     "output_type": "stream",
     "text": [
      "Start training...\n",
      "\n"
     ]
    },
    {
     "name": "stderr",
     "output_type": "stream",
     "text": [
      "11it [00:03,  3.65it/s]\n",
      "100%|████████████████████████████████████████████████████████████| 1/1 [00:00<00:00,  8.50it/s]\n"
     ]
    },
    {
     "name": "stdout",
     "output_type": "stream",
     "text": [
      "Epoch: 1 | Training Loss: 0.694405349818143  | Validation Loss: 0.69223552942276  | Accuracy: 53.25\n"
     ]
    },
    {
     "name": "stderr",
     "output_type": "stream",
     "text": [
      "11it [00:03,  3.66it/s]\n",
      "100%|████████████████████████████████████████████████████████████| 1/1 [00:00<00:00,  7.39it/s]\n"
     ]
    },
    {
     "name": "stdout",
     "output_type": "stream",
     "text": [
      "Epoch: 2 | Training Loss: 0.6931679899042303  | Validation Loss: 0.6938093304634094  | Accuracy: 46.75\n"
     ]
    },
    {
     "name": "stderr",
     "output_type": "stream",
     "text": [
      "11it [00:03,  3.66it/s]\n",
      "100%|████████████████████████████████████████████████████████████| 1/1 [00:00<00:00,  6.90it/s]\n"
     ]
    },
    {
     "name": "stdout",
     "output_type": "stream",
     "text": [
      "Epoch: 3 | Training Loss: 0.6931853673674844  | Validation Loss: 0.6936333179473877  | Accuracy: 46.75\n"
     ]
    },
    {
     "name": "stderr",
     "output_type": "stream",
     "text": [
      "11it [00:02,  3.86it/s]\n",
      "100%|████████████████████████████████████████████████████████████| 1/1 [00:00<00:00,  7.09it/s]\n"
     ]
    },
    {
     "name": "stdout",
     "output_type": "stream",
     "text": [
      "Epoch: 4 | Training Loss: 0.6931575049053539  | Validation Loss: 0.6932651996612549  | Accuracy: 46.75\n"
     ]
    },
    {
     "name": "stderr",
     "output_type": "stream",
     "text": [
      "11it [00:02,  3.77it/s]\n",
      "100%|████████████████████████████████████████████████████████████| 1/1 [00:00<00:00,  7.06it/s]\n"
     ]
    },
    {
     "name": "stdout",
     "output_type": "stream",
     "text": [
      "Epoch: 5 | Training Loss: 0.6931486292318865  | Validation Loss: 0.6930218935012817  | Accuracy: 53.25\n"
     ]
    },
    {
     "name": "stderr",
     "output_type": "stream",
     "text": [
      "11it [00:03,  3.57it/s]\n",
      "100%|████████████████████████████████████████████████████████████| 1/1 [00:00<00:00,  6.33it/s]\n"
     ]
    },
    {
     "name": "stdout",
     "output_type": "stream",
     "text": [
      "Epoch: 6 | Training Loss: 0.6931503144177523  | Validation Loss: 0.6930729150772095  | Accuracy: 53.25\n"
     ]
    },
    {
     "name": "stderr",
     "output_type": "stream",
     "text": [
      "11it [00:03,  3.39it/s]\n",
      "100%|████████████████████████████████████████████████████████████| 1/1 [00:00<00:00,  6.93it/s]\n"
     ]
    },
    {
     "name": "stdout",
     "output_type": "stream",
     "text": [
      "Epoch: 7 | Training Loss: 0.6931483962319114  | Validation Loss: 0.6932047605514526  | Accuracy: 46.75\n"
     ]
    },
    {
     "name": "stderr",
     "output_type": "stream",
     "text": [
      "11it [00:03,  3.62it/s]\n",
      "100%|████████████████████████████████████████████████████████████| 1/1 [00:00<00:00,  6.26it/s]\n"
     ]
    },
    {
     "name": "stdout",
     "output_type": "stream",
     "text": [
      "Epoch: 8 | Training Loss: 0.6931483583016829  | Validation Loss: 0.6932758092880249  | Accuracy: 46.75\n"
     ]
    },
    {
     "name": "stderr",
     "output_type": "stream",
     "text": [
      "11it [00:03,  3.51it/s]\n",
      "100%|████████████████████████████████████████████████████████████| 1/1 [00:00<00:00,  6.22it/s]\n"
     ]
    },
    {
     "name": "stdout",
     "output_type": "stream",
     "text": [
      "Epoch: 9 | Training Loss: 0.6931493119759993  | Validation Loss: 0.6931166648864746  | Accuracy: 53.25\n"
     ]
    },
    {
     "name": "stderr",
     "output_type": "stream",
     "text": [
      "11it [00:03,  3.64it/s]\n",
      "100%|████████████████████████████████████████████████████████████| 1/1 [00:00<00:00,  5.44it/s]\n"
     ]
    },
    {
     "name": "stdout",
     "output_type": "stream",
     "text": [
      "Epoch: 10 | Training Loss: 0.6931496425108477  | Validation Loss: 0.6930892467498779  | Accuracy: 53.25\n"
     ]
    },
    {
     "name": "stderr",
     "output_type": "stream",
     "text": [
      "11it [00:03,  3.65it/s]\n",
      "100%|████████████████████████████████████████████████████████████| 1/1 [00:00<00:00,  6.36it/s]\n"
     ]
    },
    {
     "name": "stdout",
     "output_type": "stream",
     "text": [
      "Epoch: 11 | Training Loss: 0.693151360208338  | Validation Loss: 0.6933063864707947  | Accuracy: 46.75\n"
     ]
    },
    {
     "name": "stderr",
     "output_type": "stream",
     "text": [
      "11it [00:03,  3.54it/s]\n",
      "100%|████████████████████████████████████████████████████████████| 1/1 [00:00<00:00,  6.61it/s]\n"
     ]
    },
    {
     "name": "stdout",
     "output_type": "stream",
     "text": [
      "Epoch: 12 | Training Loss: 0.6931485696272417  | Validation Loss: 0.6931321620941162  | Accuracy: 53.25\n"
     ]
    },
    {
     "name": "stderr",
     "output_type": "stream",
     "text": [
      "11it [00:02,  3.68it/s]\n",
      "100%|████████████████████████████████████████████████████████████| 1/1 [00:00<00:00,  4.11it/s]\n"
     ]
    },
    {
     "name": "stdout",
     "output_type": "stream",
     "text": [
      "Epoch: 13 | Training Loss: 0.693150520324707  | Validation Loss: 0.693060040473938  | Accuracy: 53.25\n"
     ]
    },
    {
     "name": "stderr",
     "output_type": "stream",
     "text": [
      "11it [00:03,  3.53it/s]\n",
      "100%|████████████████████████████████████████████████████████████| 1/1 [00:00<00:00,  5.61it/s]\n"
     ]
    },
    {
     "name": "stdout",
     "output_type": "stream",
     "text": [
      "Epoch: 14 | Training Loss: 0.6931484720923684  | Validation Loss: 0.6932427287101746  | Accuracy: 46.75\n"
     ]
    },
    {
     "name": "stderr",
     "output_type": "stream",
     "text": [
      "11it [00:03,  3.34it/s]\n",
      "100%|████████████████████████████████████████████████████████████| 1/1 [00:00<00:00,  6.30it/s]\n"
     ]
    },
    {
     "name": "stdout",
     "output_type": "stream",
     "text": [
      "Epoch: 15 | Training Loss: 0.6931490464643999  | Validation Loss: 0.6931666731834412  | Accuracy: 46.75\n"
     ]
    },
    {
     "name": "stderr",
     "output_type": "stream",
     "text": [
      "11it [00:03,  3.51it/s]\n",
      "100%|████████████████████████████████████████████████████████████| 1/1 [00:00<00:00,  6.24it/s]\n"
     ]
    },
    {
     "name": "stdout",
     "output_type": "stream",
     "text": [
      "Epoch: 16 | Training Loss: 0.6931480223482306  | Validation Loss: 0.6930916905403137  | Accuracy: 53.25\n"
     ]
    },
    {
     "name": "stderr",
     "output_type": "stream",
     "text": [
      "11it [00:03,  3.52it/s]\n",
      "100%|████████████████████████████████████████████████████████████| 1/1 [00:00<00:00,  6.58it/s]\n"
     ]
    },
    {
     "name": "stdout",
     "output_type": "stream",
     "text": [
      "Epoch: 17 | Training Loss: 0.6931481957435608  | Validation Loss: 0.6932114362716675  | Accuracy: 46.75\n"
     ]
    },
    {
     "name": "stderr",
     "output_type": "stream",
     "text": [
      "11it [00:03,  3.45it/s]\n",
      "100%|████████████████████████████████████████████████████████████| 1/1 [00:00<00:00,  5.49it/s]\n"
     ]
    },
    {
     "name": "stdout",
     "output_type": "stream",
     "text": [
      "Epoch: 18 | Training Loss: 0.6931504661386664  | Validation Loss: 0.693085253238678  | Accuracy: 53.25\n"
     ]
    },
    {
     "name": "stderr",
     "output_type": "stream",
     "text": [
      "11it [00:03,  3.35it/s]\n",
      "100%|████████████████████████████████████████████████████████████| 1/1 [00:00<00:00,  7.03it/s]\n"
     ]
    },
    {
     "name": "stdout",
     "output_type": "stream",
     "text": [
      "Epoch: 19 | Training Loss: 0.6931546384638007  | Validation Loss: 0.6932771801948547  | Accuracy: 46.75\n"
     ]
    },
    {
     "name": "stderr",
     "output_type": "stream",
     "text": [
      "11it [00:03,  3.35it/s]\n",
      "100%|████████████████████████████████████████████████████████████| 1/1 [00:00<00:00,  6.80it/s]\n"
     ]
    },
    {
     "name": "stdout",
     "output_type": "stream",
     "text": [
      "Epoch: 20 | Training Loss: 0.6931473233483054  | Validation Loss: 0.6930742263793945  | Accuracy: 53.25\n"
     ]
    },
    {
     "name": "stderr",
     "output_type": "stream",
     "text": [
      "11it [00:03,  3.35it/s]\n",
      "100%|████████████████████████████████████████████████████████████| 1/1 [00:00<00:00,  6.22it/s]\n"
     ]
    },
    {
     "name": "stdout",
     "output_type": "stream",
     "text": [
      "Epoch: 21 | Training Loss: 0.6931525306268171  | Validation Loss: 0.693111002445221  | Accuracy: 53.25\n"
     ]
    },
    {
     "name": "stderr",
     "output_type": "stream",
     "text": [
      "11it [00:03,  3.42it/s]\n",
      "100%|████████████████████████████████████████████████████████████| 1/1 [00:00<00:00,  5.98it/s]\n"
     ]
    },
    {
     "name": "stdout",
     "output_type": "stream",
     "text": [
      "Epoch: 22 | Training Loss: 0.6931486671621149  | Validation Loss: 0.6931533217430115  | Accuracy: 46.75\n"
     ]
    },
    {
     "name": "stderr",
     "output_type": "stream",
     "text": [
      "11it [00:03,  3.53it/s]\n",
      "100%|████████████████████████████████████████████████████████████| 1/1 [00:00<00:00,  9.20it/s]\n"
     ]
    },
    {
     "name": "stdout",
     "output_type": "stream",
     "text": [
      "Epoch: 23 | Training Loss: 0.6931502819061279  | Validation Loss: 0.6931997537612915  | Accuracy: 46.75\n"
     ]
    },
    {
     "name": "stderr",
     "output_type": "stream",
     "text": [
      "11it [00:03,  3.21it/s]\n",
      "100%|████████████████████████████████████████████████████████████| 1/1 [00:00<00:00,  6.55it/s]\n"
     ]
    },
    {
     "name": "stdout",
     "output_type": "stream",
     "text": [
      "Epoch: 24 | Training Loss: 0.6931505799293518  | Validation Loss: 0.6930240988731384  | Accuracy: 53.25\n"
     ]
    },
    {
     "name": "stderr",
     "output_type": "stream",
     "text": [
      "11it [00:03,  3.26it/s]\n",
      "100%|████████████████████████████████████████████████████████████| 1/1 [00:00<00:00,  6.79it/s]\n"
     ]
    },
    {
     "name": "stdout",
     "output_type": "stream",
     "text": [
      "Epoch: 25 | Training Loss: 0.693149821324782  | Validation Loss: 0.6932635307312012  | Accuracy: 46.75\n"
     ]
    },
    {
     "name": "stderr",
     "output_type": "stream",
     "text": [
      "11it [00:03,  3.30it/s]\n",
      "100%|████████████████████████████████████████████████████████████| 1/1 [00:00<00:00,  6.86it/s]\n"
     ]
    },
    {
     "name": "stdout",
     "output_type": "stream",
     "text": [
      "Epoch: 26 | Training Loss: 0.6931502819061279  | Validation Loss: 0.6930795907974243  | Accuracy: 53.25\n"
     ]
    },
    {
     "name": "stderr",
     "output_type": "stream",
     "text": [
      "11it [00:03,  3.52it/s]\n",
      "100%|████████████████████████████████████████████████████████████| 1/1 [00:00<00:00,  5.46it/s]\n"
     ]
    },
    {
     "name": "stdout",
     "output_type": "stream",
     "text": [
      "Epoch: 27 | Training Loss: 0.6931496208364313  | Validation Loss: 0.6931426525115967  | Accuracy: 53.25\n"
     ]
    },
    {
     "name": "stderr",
     "output_type": "stream",
     "text": [
      "11it [00:03,  3.46it/s]\n",
      "100%|████████████████████████████████████████████████████████████| 1/1 [00:00<00:00,  8.88it/s]\n"
     ]
    },
    {
     "name": "stdout",
     "output_type": "stream",
     "text": [
      "Epoch: 28 | Training Loss: 0.6931469277902083  | Validation Loss: 0.6932342052459717  | Accuracy: 46.75\n"
     ]
    },
    {
     "name": "stderr",
     "output_type": "stream",
     "text": [
      "11it [00:03,  3.23it/s]\n",
      "100%|████████████████████████████████████████████████████████████| 1/1 [00:00<00:00,  4.00it/s]\n"
     ]
    },
    {
     "name": "stdout",
     "output_type": "stream",
     "text": [
      "Epoch: 29 | Training Loss: 0.6931487809528004  | Validation Loss: 0.6932270526885986  | Accuracy: 46.75\n"
     ]
    },
    {
     "name": "stderr",
     "output_type": "stream",
     "text": [
      "11it [00:03,  3.36it/s]\n",
      "100%|████████████████████████████████████████████████████████████| 1/1 [00:00<00:00,  6.35it/s]\n"
     ]
    },
    {
     "name": "stdout",
     "output_type": "stream",
     "text": [
      "Epoch: 30 | Training Loss: 0.6931477730924432  | Validation Loss: 0.6931293606758118  | Accuracy: 53.25\n",
      "\n",
      "\n",
      "Training complete! Best accuracy: 53.25%.\n"
     ]
    },
    {
     "data": {
      "text/html": [
       "Waiting for W&B process to finish... <strong style=\"color:green\">(success).</strong>"
      ],
      "text/plain": [
       "<IPython.core.display.HTML object>"
      ]
     },
     "metadata": {},
     "output_type": "display_data"
    },
    {
     "data": {
      "application/vnd.jupyter.widget-view+json": {
       "model_id": "8cc0b1b38e7549bb8f4056031ed4e6b5",
       "version_major": 2,
       "version_minor": 0
      },
      "text/plain": [
       "VBox(children=(Label(value='0.001 MB of 0.001 MB uploaded (0.000 MB deduped)\\r'), FloatProgress(value=1.0, max…"
      ]
     },
     "metadata": {},
     "output_type": "display_data"
    },
    {
     "data": {
      "text/html": [
       "<style>\n",
       "    table.wandb td:nth-child(1) { padding: 0 10px; text-align: left ; width: auto;} td:nth-child(2) {text-align: left ; width: 100%}\n",
       "    .wandb-row { display: flex; flex-direction: row; flex-wrap: wrap; justify-content: flex-start; width: 100% }\n",
       "    .wandb-col { display: flex; flex-direction: column; flex-basis: 100%; flex: 1; padding: 10px; }\n",
       "    </style>\n",
       "<div class=\"wandb-row\"><div class=\"wandb-col\"><h3>Run history:</h3><br/><table class=\"wandb\"><tr><td>epoch</td><td>▁▁▁▂▂▂▂▃▃▃▃▄▄▄▄▅▅▅▅▆▆▆▆▇▇▇▇███</td></tr><tr><td>train_loss</td><td>█▁▁▁▁▁▁▁▁▁▁▁▁▁▁▁▁▁▁▁▁▁▁▁▁▁▁▁▁▁</td></tr><tr><td>val_accuracy</td><td>▁</td></tr><tr><td>val_loss</td><td>▁█▇▆▄▅▅▆▅▅▆▅▅▅▅▅▅▅▆▅▅▅▅▅▆▅▅▅▅▅</td></tr></table><br/></div><div class=\"wandb-col\"><h3>Run summary:</h3><br/><table class=\"wandb\"><tr><td>epoch</td><td>30</td></tr><tr><td>train_loss</td><td>0.69315</td></tr><tr><td>val_accuracy</td><td>53.25</td></tr><tr><td>val_loss</td><td>0.69313</td></tr></table><br/></div></div>"
      ],
      "text/plain": [
       "<IPython.core.display.HTML object>"
      ]
     },
     "metadata": {},
     "output_type": "display_data"
    },
    {
     "data": {
      "text/html": [
       "Synced <strong style=\"color:#cdcd00\">stellar-sweep-5</strong>: <a href=\"https://wandb.ai/danish2562022/PI__prediction_fc__hyperparameter_tuning_cls_vector/runs/6j5emo2y\" target=\"_blank\">https://wandb.ai/danish2562022/PI__prediction_fc__hyperparameter_tuning_cls_vector/runs/6j5emo2y</a><br/>Synced 6 W&B file(s), 0 media file(s), 0 artifact file(s) and 0 other file(s)"
      ],
      "text/plain": [
       "<IPython.core.display.HTML object>"
      ]
     },
     "metadata": {},
     "output_type": "display_data"
    },
    {
     "data": {
      "text/html": [
       "Find logs at: <code>./wandb/run-20221129_083717-6j5emo2y/logs</code>"
      ],
      "text/plain": [
       "<IPython.core.display.HTML object>"
      ]
     },
     "metadata": {},
     "output_type": "display_data"
    },
    {
     "name": "stderr",
     "output_type": "stream",
     "text": [
      "\u001b[34m\u001b[1mwandb\u001b[0m: Agent Starting Run: p33hsdqx with config:\n",
      "\u001b[34m\u001b[1mwandb\u001b[0m: \tamsgrad: True\n",
      "\u001b[34m\u001b[1mwandb\u001b[0m: \tdim_1: 2048\n",
      "\u001b[34m\u001b[1mwandb\u001b[0m: \tdim_2: 128\n",
      "\u001b[34m\u001b[1mwandb\u001b[0m: \tdropout: False\n",
      "\u001b[34m\u001b[1mwandb\u001b[0m: \tepochs: 30\n",
      "\u001b[34m\u001b[1mwandb\u001b[0m: \tlayer_fc_1: 1\n",
      "\u001b[34m\u001b[1mwandb\u001b[0m: \tlayer_fc_2: 1\n",
      "\u001b[34m\u001b[1mwandb\u001b[0m: \tlearning_rate: 0.004780061429565812\n",
      "\u001b[34m\u001b[1mwandb\u001b[0m: \tmomentum: 0.95\n",
      "\u001b[34m\u001b[1mwandb\u001b[0m: \toptimizer: adam\n",
      "\u001b[34m\u001b[1mwandb\u001b[0m: \tweight_decay: 0.009315996617970786\n",
      "Failed to detect the name of this notebook, you can set it manually with the WANDB_NOTEBOOK_NAME environment variable to enable code saving.\n"
     ]
    },
    {
     "data": {
      "text/html": [
       "wandb version 0.13.5 is available!  To upgrade, please run:\n",
       " $ pip install wandb --upgrade"
      ],
      "text/plain": [
       "<IPython.core.display.HTML object>"
      ]
     },
     "metadata": {},
     "output_type": "display_data"
    },
    {
     "data": {
      "text/html": [
       "Tracking run with wandb version 0.13.4"
      ],
      "text/plain": [
       "<IPython.core.display.HTML object>"
      ]
     },
     "metadata": {},
     "output_type": "display_data"
    },
    {
     "data": {
      "text/html": [
       "Run data is saved locally in <code>/home/anwer/Desktop/PPI_prediction/model_training_py/models/wandb/run-20221129_083913-p33hsdqx</code>"
      ],
      "text/plain": [
       "<IPython.core.display.HTML object>"
      ]
     },
     "metadata": {},
     "output_type": "display_data"
    },
    {
     "data": {
      "text/html": [
       "Syncing run <strong><a href=\"https://wandb.ai/danish2562022/PI__prediction_fc__hyperparameter_tuning_cls_vector/runs/p33hsdqx\" target=\"_blank\">prime-sweep-6</a></strong> to <a href=\"https://wandb.ai/danish2562022/PI__prediction_fc__hyperparameter_tuning_cls_vector\" target=\"_blank\">Weights & Biases</a> (<a href=\"https://wandb.me/run\" target=\"_blank\">docs</a>)<br/>Sweep page:  <a href=\"https://wandb.ai/danish2562022/PI__prediction_fc__hyperparameter_tuning_cls_vector/sweeps/gyyc8zyb\" target=\"_blank\">https://wandb.ai/danish2562022/PI__prediction_fc__hyperparameter_tuning_cls_vector/sweeps/gyyc8zyb</a>"
      ],
      "text/plain": [
       "<IPython.core.display.HTML object>"
      ]
     },
     "metadata": {},
     "output_type": "display_data"
    },
    {
     "name": "stdout",
     "output_type": "stream",
     "text": [
      "Start training...\n",
      "\n"
     ]
    },
    {
     "name": "stderr",
     "output_type": "stream",
     "text": [
      "11it [00:02,  4.05it/s]\n",
      "100%|████████████████████████████████████████████████████████████| 1/1 [00:00<00:00, 10.38it/s]\n"
     ]
    },
    {
     "name": "stdout",
     "output_type": "stream",
     "text": [
      "Epoch: 1 | Training Loss: 0.697834621776234  | Validation Loss: 0.7004246115684509  | Accuracy: 46.75\n"
     ]
    },
    {
     "name": "stderr",
     "output_type": "stream",
     "text": [
      "11it [00:02,  3.79it/s]\n",
      "100%|████████████████████████████████████████████████████████████| 1/1 [00:00<00:00,  9.72it/s]\n"
     ]
    },
    {
     "name": "stdout",
     "output_type": "stream",
     "text": [
      "Epoch: 2 | Training Loss: 0.6945634863593362  | Validation Loss: 0.6956402659416199  | Accuracy: 46.75\n"
     ]
    },
    {
     "name": "stderr",
     "output_type": "stream",
     "text": [
      "11it [00:02,  4.10it/s]\n",
      "100%|████████████████████████████████████████████████████████████| 1/1 [00:00<00:00,  9.17it/s]\n"
     ]
    },
    {
     "name": "stdout",
     "output_type": "stream",
     "text": [
      "Epoch: 3 | Training Loss: 0.6933216073296287  | Validation Loss: 0.693548321723938  | Accuracy: 46.75\n"
     ]
    },
    {
     "name": "stderr",
     "output_type": "stream",
     "text": [
      "11it [00:02,  4.03it/s]\n",
      "100%|████████████████████████████████████████████████████████████| 1/1 [00:00<00:00,  9.42it/s]\n"
     ]
    },
    {
     "name": "stdout",
     "output_type": "stream",
     "text": [
      "Epoch: 4 | Training Loss: 0.6931531049988486  | Validation Loss: 0.6934224367141724  | Accuracy: 46.75\n"
     ]
    },
    {
     "name": "stderr",
     "output_type": "stream",
     "text": [
      "11it [00:02,  3.68it/s]\n",
      "100%|████████████████████████████████████████████████████████████| 1/1 [00:00<00:00,  9.06it/s]\n"
     ]
    },
    {
     "name": "stdout",
     "output_type": "stream",
     "text": [
      "Epoch: 5 | Training Loss: 0.6931651668115095  | Validation Loss: 0.6937251091003418  | Accuracy: 46.75\n"
     ]
    },
    {
     "name": "stderr",
     "output_type": "stream",
     "text": [
      "11it [00:02,  4.08it/s]\n",
      "100%|████████████████████████████████████████████████████████████| 1/1 [00:00<00:00, 10.29it/s]\n"
     ]
    },
    {
     "name": "stdout",
     "output_type": "stream",
     "text": [
      "Epoch: 6 | Training Loss: 0.6931991306218234  | Validation Loss: 0.6939579844474792  | Accuracy: 46.75\n"
     ]
    },
    {
     "name": "stderr",
     "output_type": "stream",
     "text": [
      "11it [00:02,  4.07it/s]\n",
      "100%|████████████████████████████████████████████████████████████| 1/1 [00:00<00:00,  7.75it/s]\n"
     ]
    },
    {
     "name": "stdout",
     "output_type": "stream",
     "text": [
      "Epoch: 7 | Training Loss: 0.6932077732953158  | Validation Loss: 0.6938100457191467  | Accuracy: 46.75\n"
     ]
    },
    {
     "name": "stderr",
     "output_type": "stream",
     "text": [
      "11it [00:02,  3.79it/s]\n",
      "100%|████████████████████████████████████████████████████████████| 1/1 [00:00<00:00,  7.56it/s]\n"
     ]
    },
    {
     "name": "stdout",
     "output_type": "stream",
     "text": [
      "Epoch: 8 | Training Loss: 0.6931826851584695  | Validation Loss: 0.6936583518981934  | Accuracy: 46.75\n"
     ]
    },
    {
     "name": "stderr",
     "output_type": "stream",
     "text": [
      "11it [00:02,  4.11it/s]\n",
      "100%|████████████████████████████████████████████████████████████| 1/1 [00:00<00:00,  7.94it/s]\n"
     ]
    },
    {
     "name": "stdout",
     "output_type": "stream",
     "text": [
      "Epoch: 9 | Training Loss: 0.693170195276087  | Validation Loss: 0.6935520768165588  | Accuracy: 46.75\n"
     ]
    },
    {
     "name": "stderr",
     "output_type": "stream",
     "text": [
      "11it [00:02,  3.93it/s]\n",
      "100%|████████████████████████████████████████████████████████████| 1/1 [00:00<00:00,  8.05it/s]\n"
     ]
    },
    {
     "name": "stdout",
     "output_type": "stream",
     "text": [
      "Epoch: 10 | Training Loss: 0.6931656761602922  | Validation Loss: 0.6935507655143738  | Accuracy: 46.75\n"
     ]
    },
    {
     "name": "stderr",
     "output_type": "stream",
     "text": [
      "11it [00:02,  4.02it/s]\n",
      "100%|████████████████████████████████████████████████████████████| 1/1 [00:00<00:00,  7.02it/s]\n"
     ]
    },
    {
     "name": "stdout",
     "output_type": "stream",
     "text": [
      "Epoch: 11 | Training Loss: 0.6931615309281782  | Validation Loss: 0.6934741139411926  | Accuracy: 46.75\n"
     ]
    },
    {
     "name": "stderr",
     "output_type": "stream",
     "text": [
      "11it [00:02,  3.75it/s]\n",
      "100%|████████████████████████████████████████████████████████████| 1/1 [00:00<00:00,  7.70it/s]\n"
     ]
    },
    {
     "name": "stdout",
     "output_type": "stream",
     "text": [
      "Epoch: 12 | Training Loss: 0.6931556029753252  | Validation Loss: 0.6934082508087158  | Accuracy: 46.75\n"
     ]
    },
    {
     "name": "stderr",
     "output_type": "stream",
     "text": [
      "11it [00:02,  3.85it/s]\n",
      "100%|████████████████████████████████████████████████████████████| 1/1 [00:00<00:00,  8.09it/s]\n"
     ]
    },
    {
     "name": "stdout",
     "output_type": "stream",
     "text": [
      "Epoch: 13 | Training Loss: 0.6931527527895841  | Validation Loss: 0.6933304071426392  | Accuracy: 46.75\n"
     ]
    },
    {
     "name": "stderr",
     "output_type": "stream",
     "text": [
      "11it [00:02,  3.87it/s]\n",
      "100%|████████████████████████████████████████████████████████████| 1/1 [00:00<00:00,  4.65it/s]\n"
     ]
    },
    {
     "name": "stdout",
     "output_type": "stream",
     "text": [
      "Epoch: 14 | Training Loss: 0.6931499296968634  | Validation Loss: 0.6932893991470337  | Accuracy: 46.75\n"
     ]
    },
    {
     "name": "stderr",
     "output_type": "stream",
     "text": [
      "11it [00:02,  4.08it/s]\n",
      "100%|████████████████████████████████████████████████████████████| 1/1 [00:00<00:00, 10.28it/s]\n"
     ]
    },
    {
     "name": "stdout",
     "output_type": "stream",
     "text": [
      "Epoch: 15 | Training Loss: 0.6931492198597301  | Validation Loss: 0.6932622194290161  | Accuracy: 46.75\n"
     ]
    },
    {
     "name": "stderr",
     "output_type": "stream",
     "text": [
      "11it [00:02,  3.99it/s]\n",
      "100%|████████████████████████████████████████████████████████████| 1/1 [00:00<00:00,  6.56it/s]\n"
     ]
    },
    {
     "name": "stdout",
     "output_type": "stream",
     "text": [
      "Epoch: 16 | Training Loss: 0.6931486996737394  | Validation Loss: 0.6932669281959534  | Accuracy: 46.75\n"
     ]
    },
    {
     "name": "stderr",
     "output_type": "stream",
     "text": [
      "11it [00:02,  3.90it/s]\n",
      "100%|████████████████████████████████████████████████████████████| 1/1 [00:00<00:00,  8.06it/s]\n"
     ]
    },
    {
     "name": "stdout",
     "output_type": "stream",
     "text": [
      "Epoch: 17 | Training Loss: 0.6931493228132074  | Validation Loss: 0.6932006478309631  | Accuracy: 46.75\n"
     ]
    },
    {
     "name": "stderr",
     "output_type": "stream",
     "text": [
      "11it [00:02,  4.11it/s]\n",
      "100%|████████████████████████████████████████████████████████████| 1/1 [00:00<00:00,  7.76it/s]\n"
     ]
    },
    {
     "name": "stdout",
     "output_type": "stream",
     "text": [
      "Epoch: 18 | Training Loss: 0.6931482716040178  | Validation Loss: 0.6932166218757629  | Accuracy: 46.75\n"
     ]
    },
    {
     "name": "stderr",
     "output_type": "stream",
     "text": [
      "11it [00:02,  3.99it/s]\n",
      "100%|████████████████████████████████████████████████████████████| 1/1 [00:00<00:00,  8.36it/s]\n"
     ]
    },
    {
     "name": "stdout",
     "output_type": "stream",
     "text": [
      "Epoch: 19 | Training Loss: 0.6931475129994479  | Validation Loss: 0.6931734085083008  | Accuracy: 46.75\n"
     ]
    },
    {
     "name": "stderr",
     "output_type": "stream",
     "text": [
      "11it [00:02,  3.70it/s]\n",
      "100%|████████████████████████████████████████████████████████████| 1/1 [00:00<00:00,  8.06it/s]\n"
     ]
    },
    {
     "name": "stdout",
     "output_type": "stream",
     "text": [
      "Epoch: 20 | Training Loss: 0.6931478110226718  | Validation Loss: 0.6931566596031189  | Accuracy: 46.75\n"
     ]
    },
    {
     "name": "stderr",
     "output_type": "stream",
     "text": [
      "11it [00:02,  3.97it/s]\n",
      "100%|████████████████████████████████████████████████████████████| 1/1 [00:00<00:00,  7.90it/s]\n"
     ]
    },
    {
     "name": "stdout",
     "output_type": "stream",
     "text": [
      "Epoch: 21 | Training Loss: 0.6931486292318865  | Validation Loss: 0.6931230425834656  | Accuracy: 53.25\n"
     ]
    },
    {
     "name": "stderr",
     "output_type": "stream",
     "text": [
      "11it [00:02,  4.17it/s]\n",
      "100%|████████████████████████████████████████████████████████████| 1/1 [00:00<00:00,  7.85it/s]\n"
     ]
    },
    {
     "name": "stdout",
     "output_type": "stream",
     "text": [
      "Epoch: 22 | Training Loss: 0.693147903138941  | Validation Loss: 0.69320148229599  | Accuracy: 46.75\n"
     ]
    },
    {
     "name": "stderr",
     "output_type": "stream",
     "text": [
      "11it [00:02,  4.07it/s]\n",
      "100%|████████████████████████████████████████████████████████████| 1/1 [00:00<00:00,  8.23it/s]\n"
     ]
    },
    {
     "name": "stdout",
     "output_type": "stream",
     "text": [
      "Epoch: 23 | Training Loss: 0.6931483312086626  | Validation Loss: 0.6932079792022705  | Accuracy: 46.75\n"
     ]
    },
    {
     "name": "stderr",
     "output_type": "stream",
     "text": [
      "11it [00:02,  4.14it/s]\n",
      "100%|████████████████████████████████████████████████████████████| 1/1 [00:00<00:00,  8.04it/s]\n"
     ]
    },
    {
     "name": "stdout",
     "output_type": "stream",
     "text": [
      "Epoch: 24 | Training Loss: 0.6931483420458707  | Validation Loss: 0.6931254863739014  | Accuracy: 53.25\n"
     ]
    },
    {
     "name": "stderr",
     "output_type": "stream",
     "text": [
      "11it [00:02,  4.01it/s]\n",
      "100%|████████████████████████████████████████████████████████████| 1/1 [00:00<00:00,  7.96it/s]\n"
     ]
    },
    {
     "name": "stdout",
     "output_type": "stream",
     "text": [
      "Epoch: 25 | Training Loss: 0.6931479681621898  | Validation Loss: 0.6931689977645874  | Accuracy: 46.75\n"
     ]
    },
    {
     "name": "stderr",
     "output_type": "stream",
     "text": [
      "11it [00:02,  3.80it/s]\n",
      "100%|████████████████████████████████████████████████████████████| 1/1 [00:00<00:00,  8.45it/s]\n"
     ]
    },
    {
     "name": "stdout",
     "output_type": "stream",
     "text": [
      "Epoch: 26 | Training Loss: 0.6931480060924183  | Validation Loss: 0.6931936740875244  | Accuracy: 46.75\n"
     ]
    },
    {
     "name": "stderr",
     "output_type": "stream",
     "text": [
      "11it [00:02,  4.13it/s]\n",
      "100%|████████████████████████████████████████████████████████████| 1/1 [00:00<00:00,  8.15it/s]\n"
     ]
    },
    {
     "name": "stdout",
     "output_type": "stream",
     "text": [
      "Epoch: 27 | Training Loss: 0.6931475346738641  | Validation Loss: 0.6931301951408386  | Accuracy: 53.25\n"
     ]
    },
    {
     "name": "stderr",
     "output_type": "stream",
     "text": [
      "11it [00:02,  4.07it/s]\n",
      "100%|████████████████████████████████████████████████████████████| 1/1 [00:00<00:00,  9.76it/s]\n"
     ]
    },
    {
     "name": "stdout",
     "output_type": "stream",
     "text": [
      "Epoch: 28 | Training Loss: 0.6931475942785089  | Validation Loss: 0.6931201219558716  | Accuracy: 53.25\n"
     ]
    },
    {
     "name": "stderr",
     "output_type": "stream",
     "text": [
      "11it [00:02,  4.14it/s]\n",
      "100%|████████████████████████████████████████████████████████████| 1/1 [00:00<00:00,  8.40it/s]\n"
     ]
    },
    {
     "name": "stdout",
     "output_type": "stream",
     "text": [
      "Epoch: 29 | Training Loss: 0.6931478435342963  | Validation Loss: 0.6931090354919434  | Accuracy: 53.25\n"
     ]
    },
    {
     "name": "stderr",
     "output_type": "stream",
     "text": [
      "11it [00:02,  4.00it/s]\n",
      "100%|████████████████████████████████████████████████████████████| 1/1 [00:00<00:00,  8.47it/s]\n"
     ]
    },
    {
     "name": "stdout",
     "output_type": "stream",
     "text": [
      "Epoch: 30 | Training Loss: 0.6931473287669095  | Validation Loss: 0.6931675672531128  | Accuracy: 46.75\n",
      "\n",
      "\n",
      "Training complete! Best accuracy: 53.25%.\n"
     ]
    },
    {
     "data": {
      "text/html": [
       "Waiting for W&B process to finish... <strong style=\"color:green\">(success).</strong>"
      ],
      "text/plain": [
       "<IPython.core.display.HTML object>"
      ]
     },
     "metadata": {},
     "output_type": "display_data"
    },
    {
     "data": {
      "text/html": [
       "<style>\n",
       "    table.wandb td:nth-child(1) { padding: 0 10px; text-align: left ; width: auto;} td:nth-child(2) {text-align: left ; width: 100%}\n",
       "    .wandb-row { display: flex; flex-direction: row; flex-wrap: wrap; justify-content: flex-start; width: 100% }\n",
       "    .wandb-col { display: flex; flex-direction: column; flex-basis: 100%; flex: 1; padding: 10px; }\n",
       "    </style>\n",
       "<div class=\"wandb-row\"><div class=\"wandb-col\"><h3>Run history:</h3><br/><table class=\"wandb\"><tr><td>epoch</td><td>▁▁▁▂▂▂▂▃▃▃▃▄▄▄▄▅▅▅▅▆▆▆▆▇▇▇▇███</td></tr><tr><td>train_loss</td><td>█▃▁▁▁▁▁▁▁▁▁▁▁▁▁▁▁▁▁▁▁▁▁▁▁▁▁▁▁▁</td></tr><tr><td>val_accuracy</td><td>▁</td></tr><tr><td>val_loss</td><td>█▃▁▁▂▂▂▂▁▁▁▁▁▁▁▁▁▁▁▁▁▁▁▁▁▁▁▁▁▁</td></tr></table><br/></div><div class=\"wandb-col\"><h3>Run summary:</h3><br/><table class=\"wandb\"><tr><td>epoch</td><td>30</td></tr><tr><td>train_loss</td><td>0.69315</td></tr><tr><td>val_accuracy</td><td>53.25</td></tr><tr><td>val_loss</td><td>0.69317</td></tr></table><br/></div></div>"
      ],
      "text/plain": [
       "<IPython.core.display.HTML object>"
      ]
     },
     "metadata": {},
     "output_type": "display_data"
    },
    {
     "data": {
      "text/html": [
       "Synced <strong style=\"color:#cdcd00\">prime-sweep-6</strong>: <a href=\"https://wandb.ai/danish2562022/PI__prediction_fc__hyperparameter_tuning_cls_vector/runs/p33hsdqx\" target=\"_blank\">https://wandb.ai/danish2562022/PI__prediction_fc__hyperparameter_tuning_cls_vector/runs/p33hsdqx</a><br/>Synced 6 W&B file(s), 0 media file(s), 0 artifact file(s) and 0 other file(s)"
      ],
      "text/plain": [
       "<IPython.core.display.HTML object>"
      ]
     },
     "metadata": {},
     "output_type": "display_data"
    },
    {
     "data": {
      "text/html": [
       "Find logs at: <code>./wandb/run-20221129_083913-p33hsdqx/logs</code>"
      ],
      "text/plain": [
       "<IPython.core.display.HTML object>"
      ]
     },
     "metadata": {},
     "output_type": "display_data"
    },
    {
     "name": "stderr",
     "output_type": "stream",
     "text": [
      "\u001b[34m\u001b[1mwandb\u001b[0m: Sweep Agent: Waiting for job.\n",
      "\u001b[34m\u001b[1mwandb\u001b[0m: Job received.\n",
      "\u001b[34m\u001b[1mwandb\u001b[0m: Agent Starting Run: so2iuio2 with config:\n",
      "\u001b[34m\u001b[1mwandb\u001b[0m: \tamsgrad: False\n",
      "\u001b[34m\u001b[1mwandb\u001b[0m: \tdim_1: 2048\n",
      "\u001b[34m\u001b[1mwandb\u001b[0m: \tdim_2: 256\n",
      "\u001b[34m\u001b[1mwandb\u001b[0m: \tdropout: False\n",
      "\u001b[34m\u001b[1mwandb\u001b[0m: \tepochs: 30\n",
      "\u001b[34m\u001b[1mwandb\u001b[0m: \tlayer_fc_1: 1\n",
      "\u001b[34m\u001b[1mwandb\u001b[0m: \tlayer_fc_2: 2\n",
      "\u001b[34m\u001b[1mwandb\u001b[0m: \tlearning_rate: 0.009538828274788018\n",
      "\u001b[34m\u001b[1mwandb\u001b[0m: \tmomentum: 0.99\n",
      "\u001b[34m\u001b[1mwandb\u001b[0m: \toptimizer: adam\n",
      "\u001b[34m\u001b[1mwandb\u001b[0m: \tweight_decay: 0.0036597138579884192\n",
      "Failed to detect the name of this notebook, you can set it manually with the WANDB_NOTEBOOK_NAME environment variable to enable code saving.\n"
     ]
    },
    {
     "data": {
      "text/html": [
       "wandb version 0.13.5 is available!  To upgrade, please run:\n",
       " $ pip install wandb --upgrade"
      ],
      "text/plain": [
       "<IPython.core.display.HTML object>"
      ]
     },
     "metadata": {},
     "output_type": "display_data"
    },
    {
     "data": {
      "text/html": [
       "Tracking run with wandb version 0.13.4"
      ],
      "text/plain": [
       "<IPython.core.display.HTML object>"
      ]
     },
     "metadata": {},
     "output_type": "display_data"
    },
    {
     "data": {
      "text/html": [
       "Run data is saved locally in <code>/home/anwer/Desktop/PPI_prediction/model_training_py/models/wandb/run-20221129_084105-so2iuio2</code>"
      ],
      "text/plain": [
       "<IPython.core.display.HTML object>"
      ]
     },
     "metadata": {},
     "output_type": "display_data"
    },
    {
     "data": {
      "text/html": [
       "Syncing run <strong><a href=\"https://wandb.ai/danish2562022/PI__prediction_fc__hyperparameter_tuning_cls_vector/runs/so2iuio2\" target=\"_blank\">bumbling-sweep-7</a></strong> to <a href=\"https://wandb.ai/danish2562022/PI__prediction_fc__hyperparameter_tuning_cls_vector\" target=\"_blank\">Weights & Biases</a> (<a href=\"https://wandb.me/run\" target=\"_blank\">docs</a>)<br/>Sweep page:  <a href=\"https://wandb.ai/danish2562022/PI__prediction_fc__hyperparameter_tuning_cls_vector/sweeps/gyyc8zyb\" target=\"_blank\">https://wandb.ai/danish2562022/PI__prediction_fc__hyperparameter_tuning_cls_vector/sweeps/gyyc8zyb</a>"
      ],
      "text/plain": [
       "<IPython.core.display.HTML object>"
      ]
     },
     "metadata": {},
     "output_type": "display_data"
    },
    {
     "name": "stdout",
     "output_type": "stream",
     "text": [
      "Start training...\n",
      "\n"
     ]
    },
    {
     "name": "stderr",
     "output_type": "stream",
     "text": [
      "11it [00:02,  4.06it/s]\n",
      "100%|████████████████████████████████████████████████████████████| 1/1 [00:00<00:00,  9.47it/s]\n"
     ]
    },
    {
     "name": "stdout",
     "output_type": "stream",
     "text": [
      "Epoch: 1 | Training Loss: 0.6931842890652743  | Validation Loss: 0.6938093304634094  | Accuracy: 46.75\n"
     ]
    },
    {
     "name": "stderr",
     "output_type": "stream",
     "text": [
      "11it [00:02,  4.18it/s]\n",
      "100%|████████████████████████████████████████████████████████████| 1/1 [00:00<00:00,  9.59it/s]\n"
     ]
    },
    {
     "name": "stdout",
     "output_type": "stream",
     "text": [
      "Epoch: 2 | Training Loss: 0.6931512789292769  | Validation Loss: 0.6930731534957886  | Accuracy: 53.25\n"
     ]
    },
    {
     "name": "stderr",
     "output_type": "stream",
     "text": [
      "11it [00:02,  4.24it/s]\n",
      "100%|████████████████████████████████████████████████████████████| 1/1 [00:00<00:00,  9.52it/s]\n"
     ]
    },
    {
     "name": "stdout",
     "output_type": "stream",
     "text": [
      "Epoch: 3 | Training Loss: 0.6931632540442727  | Validation Loss: 0.6931641101837158  | Accuracy: 46.75\n"
     ]
    },
    {
     "name": "stderr",
     "output_type": "stream",
     "text": [
      "11it [00:02,  4.24it/s]\n",
      "100%|████████████████████████████████████████████████████████████| 1/1 [00:00<00:00,  4.71it/s]\n"
     ]
    },
    {
     "name": "stdout",
     "output_type": "stream",
     "text": [
      "Epoch: 4 | Training Loss: 0.6931561773473566  | Validation Loss: 0.6930999159812927  | Accuracy: 53.25\n"
     ]
    },
    {
     "name": "stderr",
     "output_type": "stream",
     "text": [
      "11it [00:02,  4.22it/s]\n",
      "100%|████████████████████████████████████████████████████████████| 1/1 [00:00<00:00,  8.83it/s]\n"
     ]
    },
    {
     "name": "stdout",
     "output_type": "stream",
     "text": [
      "Epoch: 5 | Training Loss: 0.6931672583926808  | Validation Loss: 0.6931816339492798  | Accuracy: 46.75\n"
     ]
    },
    {
     "name": "stderr",
     "output_type": "stream",
     "text": [
      "11it [00:02,  4.19it/s]\n",
      "100%|████████████████████████████████████████████████████████████| 1/1 [00:00<00:00,  9.54it/s]\n"
     ]
    },
    {
     "name": "stdout",
     "output_type": "stream",
     "text": [
      "Epoch: 6 | Training Loss: 0.6931626363234087  | Validation Loss: 0.6931238770484924  | Accuracy: 53.25\n"
     ]
    },
    {
     "name": "stderr",
     "output_type": "stream",
     "text": [
      "11it [00:02,  4.20it/s]\n",
      "100%|████████████████████████████████████████████████████████████| 1/1 [00:00<00:00,  9.23it/s]\n"
     ]
    },
    {
     "name": "stdout",
     "output_type": "stream",
     "text": [
      "Epoch: 7 | Training Loss: 0.6931498971852389  | Validation Loss: 0.6931964159011841  | Accuracy: 46.75\n"
     ]
    },
    {
     "name": "stderr",
     "output_type": "stream",
     "text": [
      "11it [00:02,  4.22it/s]\n",
      "100%|████████████████████████████████████████████████████████████| 1/1 [00:00<00:00,  8.72it/s]\n"
     ]
    },
    {
     "name": "stdout",
     "output_type": "stream",
     "text": [
      "Epoch: 8 | Training Loss: 0.69315105676651  | Validation Loss: 0.693217933177948  | Accuracy: 46.75\n"
     ]
    },
    {
     "name": "stderr",
     "output_type": "stream",
     "text": [
      "11it [00:02,  4.11it/s]\n",
      "100%|████████████████████████████████████████████████████████████| 1/1 [00:00<00:00,  8.80it/s]\n"
     ]
    },
    {
     "name": "stdout",
     "output_type": "stream",
     "text": [
      "Epoch: 9 | Training Loss: 0.69314951246435  | Validation Loss: 0.6931576132774353  | Accuracy: 46.75\n"
     ]
    },
    {
     "name": "stderr",
     "output_type": "stream",
     "text": [
      "11it [00:02,  3.85it/s]\n",
      "100%|████████████████████████████████████████████████████████████| 1/1 [00:00<00:00,  8.20it/s]\n"
     ]
    },
    {
     "name": "stdout",
     "output_type": "stream",
     "text": [
      "Epoch: 10 | Training Loss: 0.6931519129059531  | Validation Loss: 0.6930842995643616  | Accuracy: 53.25\n"
     ]
    },
    {
     "name": "stderr",
     "output_type": "stream",
     "text": [
      "11it [00:02,  4.15it/s]\n",
      "100%|████████████████████████████████████████████████████████████| 1/1 [00:00<00:00,  8.25it/s]\n"
     ]
    },
    {
     "name": "stdout",
     "output_type": "stream",
     "text": [
      "Epoch: 11 | Training Loss: 0.6931500326503407  | Validation Loss: 0.6930967569351196  | Accuracy: 53.25\n"
     ]
    },
    {
     "name": "stderr",
     "output_type": "stream",
     "text": [
      "11it [00:02,  4.04it/s]\n",
      "100%|████████████████████████████████████████████████████████████| 1/1 [00:00<00:00,  7.87it/s]\n"
     ]
    },
    {
     "name": "stdout",
     "output_type": "stream",
     "text": [
      "Epoch: 12 | Training Loss: 0.6931529261849143  | Validation Loss: 0.6931373476982117  | Accuracy: 53.25\n"
     ]
    },
    {
     "name": "stderr",
     "output_type": "stream",
     "text": [
      "11it [00:02,  4.10it/s]\n",
      "100%|████████████████████████████████████████████████████████████| 1/1 [00:00<00:00,  9.56it/s]\n"
     ]
    },
    {
     "name": "stdout",
     "output_type": "stream",
     "text": [
      "Epoch: 13 | Training Loss: 0.6931502656503157  | Validation Loss: 0.6931988596916199  | Accuracy: 46.75\n"
     ]
    },
    {
     "name": "stderr",
     "output_type": "stream",
     "text": [
      "11it [00:02,  3.84it/s]\n",
      "100%|████████████████████████████████████████████████████████████| 1/1 [00:00<00:00,  8.15it/s]\n"
     ]
    },
    {
     "name": "stdout",
     "output_type": "stream",
     "text": [
      "Epoch: 14 | Training Loss: 0.6931515336036682  | Validation Loss: 0.6930469274520874  | Accuracy: 53.25\n"
     ]
    },
    {
     "name": "stderr",
     "output_type": "stream",
     "text": [
      "11it [00:02,  4.03it/s]\n",
      "100%|████████████████████████████████████████████████████████████| 1/1 [00:00<00:00,  6.08it/s]\n"
     ]
    },
    {
     "name": "stdout",
     "output_type": "stream",
     "text": [
      "Epoch: 15 | Training Loss: 0.6931555596264926  | Validation Loss: 0.6932320594787598  | Accuracy: 46.75\n"
     ]
    },
    {
     "name": "stderr",
     "output_type": "stream",
     "text": [
      "11it [00:02,  3.89it/s]\n",
      "100%|████████████████████████████████████████████████████████████| 1/1 [00:00<00:00,  6.12it/s]\n"
     ]
    },
    {
     "name": "stdout",
     "output_type": "stream",
     "text": [
      "Epoch: 16 | Training Loss: 0.6931529912081632  | Validation Loss: 0.6930683255195618  | Accuracy: 53.25\n"
     ]
    },
    {
     "name": "stderr",
     "output_type": "stream",
     "text": [
      "11it [00:02,  3.93it/s]\n",
      "100%|████████████████████████████████████████████████████████████| 1/1 [00:00<00:00,  8.31it/s]\n"
     ]
    },
    {
     "name": "stdout",
     "output_type": "stream",
     "text": [
      "Epoch: 17 | Training Loss: 0.6931494203480807  | Validation Loss: 0.6932200193405151  | Accuracy: 46.75\n"
     ]
    },
    {
     "name": "stderr",
     "output_type": "stream",
     "text": [
      "11it [00:02,  4.05it/s]\n",
      "100%|████████████████████████████████████████████████████████████| 1/1 [00:00<00:00,  8.14it/s]\n"
     ]
    },
    {
     "name": "stdout",
     "output_type": "stream",
     "text": [
      "Epoch: 18 | Training Loss: 0.6931510838595304  | Validation Loss: 0.6931469440460205  | Accuracy: 53.25\n"
     ]
    },
    {
     "name": "stderr",
     "output_type": "stream",
     "text": [
      "11it [00:02,  4.03it/s]\n",
      "100%|████████████████████████████████████████████████████████████| 1/1 [00:00<00:00,  8.36it/s]\n"
     ]
    },
    {
     "name": "stdout",
     "output_type": "stream",
     "text": [
      "Epoch: 19 | Training Loss: 0.6931541995568709  | Validation Loss: 0.6931819319725037  | Accuracy: 46.75\n"
     ]
    },
    {
     "name": "stderr",
     "output_type": "stream",
     "text": [
      "11it [00:02,  4.08it/s]\n",
      "100%|████████████████████████████████████████████████████████████| 1/1 [00:00<00:00,  4.68it/s]\n"
     ]
    },
    {
     "name": "stdout",
     "output_type": "stream",
     "text": [
      "Epoch: 20 | Training Loss: 0.6931508020921187  | Validation Loss: 0.6932263374328613  | Accuracy: 46.75\n"
     ]
    },
    {
     "name": "stderr",
     "output_type": "stream",
     "text": [
      "11it [00:02,  3.93it/s]\n",
      "100%|████████████████████████████████████████████████████████████| 1/1 [00:00<00:00,  9.64it/s]\n"
     ]
    },
    {
     "name": "stdout",
     "output_type": "stream",
     "text": [
      "Epoch: 21 | Training Loss: 0.6931482499296014  | Validation Loss: 0.6930016279220581  | Accuracy: 53.25\n"
     ]
    },
    {
     "name": "stderr",
     "output_type": "stream",
     "text": [
      "11it [00:02,  4.11it/s]\n",
      "100%|████████████████████████████████████████████████████████████| 1/1 [00:00<00:00,  8.36it/s]\n"
     ]
    },
    {
     "name": "stdout",
     "output_type": "stream",
     "text": [
      "Epoch: 22 | Training Loss: 0.6931575374169783  | Validation Loss: 0.6931188106536865  | Accuracy: 53.25\n"
     ]
    },
    {
     "name": "stderr",
     "output_type": "stream",
     "text": [
      "11it [00:02,  3.98it/s]\n",
      "100%|████████████████████████████████████████████████████████████| 1/1 [00:00<00:00,  7.48it/s]\n"
     ]
    },
    {
     "name": "stdout",
     "output_type": "stream",
     "text": [
      "Epoch: 23 | Training Loss: 0.693149371580644  | Validation Loss: 0.6931954622268677  | Accuracy: 46.75\n"
     ]
    },
    {
     "name": "stderr",
     "output_type": "stream",
     "text": [
      "11it [00:02,  4.08it/s]\n",
      "100%|████████████████████████████████████████████████████████████| 1/1 [00:00<00:00,  8.20it/s]\n"
     ]
    },
    {
     "name": "stdout",
     "output_type": "stream",
     "text": [
      "Epoch: 24 | Training Loss: 0.6931492523713545  | Validation Loss: 0.6932101249694824  | Accuracy: 46.75\n"
     ]
    },
    {
     "name": "stderr",
     "output_type": "stream",
     "text": [
      "11it [00:02,  4.04it/s]\n",
      "100%|████████████████████████████████████████████████████████████| 1/1 [00:00<00:00,  7.94it/s]\n"
     ]
    },
    {
     "name": "stdout",
     "output_type": "stream",
     "text": [
      "Epoch: 25 | Training Loss: 0.6931591955098239  | Validation Loss: 0.6932315826416016  | Accuracy: 46.75\n"
     ]
    },
    {
     "name": "stderr",
     "output_type": "stream",
     "text": [
      "11it [00:02,  4.00it/s]\n",
      "100%|████████████████████████████████████████████████████████████| 1/1 [00:00<00:00,  8.20it/s]\n"
     ]
    },
    {
     "name": "stdout",
     "output_type": "stream",
     "text": [
      "Epoch: 26 | Training Loss: 0.6931513927199624  | Validation Loss: 0.6931541562080383  | Accuracy: 46.75\n"
     ]
    },
    {
     "name": "stderr",
     "output_type": "stream",
     "text": [
      "11it [00:02,  3.81it/s]\n",
      "100%|████████████████████████████████████████████████████████████| 1/1 [00:00<00:00,  7.77it/s]\n"
     ]
    },
    {
     "name": "stdout",
     "output_type": "stream",
     "text": [
      "Epoch: 27 | Training Loss: 0.6931570334867998  | Validation Loss: 0.6930742263793945  | Accuracy: 53.25\n"
     ]
    },
    {
     "name": "stderr",
     "output_type": "stream",
     "text": [
      "11it [00:02,  4.10it/s]\n",
      "100%|████████████████████████████████████████████████████████████| 1/1 [00:00<00:00,  9.33it/s]\n"
     ]
    },
    {
     "name": "stdout",
     "output_type": "stream",
     "text": [
      "Epoch: 28 | Training Loss: 0.6931603171608665  | Validation Loss: 0.6933714151382446  | Accuracy: 46.75\n"
     ]
    },
    {
     "name": "stderr",
     "output_type": "stream",
     "text": [
      "11it [00:02,  4.08it/s]\n",
      "100%|████████████████████████████████████████████████████████████| 1/1 [00:00<00:00,  7.48it/s]\n"
     ]
    },
    {
     "name": "stdout",
     "output_type": "stream",
     "text": [
      "Epoch: 29 | Training Loss: 0.6931574019518766  | Validation Loss: 0.6929978728294373  | Accuracy: 53.25\n"
     ]
    },
    {
     "name": "stderr",
     "output_type": "stream",
     "text": [
      "11it [00:02,  4.05it/s]\n",
      "100%|████████████████████████████████████████████████████████████| 1/1 [00:00<00:00,  8.22it/s]\n"
     ]
    },
    {
     "name": "stdout",
     "output_type": "stream",
     "text": [
      "Epoch: 30 | Training Loss: 0.6931489868597551  | Validation Loss: 0.6932607889175415  | Accuracy: 46.75\n",
      "\n",
      "\n",
      "Training complete! Best accuracy: 53.25%.\n"
     ]
    },
    {
     "data": {
      "text/html": [
       "Waiting for W&B process to finish... <strong style=\"color:green\">(success).</strong>"
      ],
      "text/plain": [
       "<IPython.core.display.HTML object>"
      ]
     },
     "metadata": {},
     "output_type": "display_data"
    },
    {
     "data": {
      "application/vnd.jupyter.widget-view+json": {
       "model_id": "36445ea20c2a47798c75a054b987de89",
       "version_major": 2,
       "version_minor": 0
      },
      "text/plain": [
       "VBox(children=(Label(value='0.001 MB of 0.001 MB uploaded (0.000 MB deduped)\\r'), FloatProgress(value=1.0, max…"
      ]
     },
     "metadata": {},
     "output_type": "display_data"
    },
    {
     "data": {
      "text/html": [
       "<style>\n",
       "    table.wandb td:nth-child(1) { padding: 0 10px; text-align: left ; width: auto;} td:nth-child(2) {text-align: left ; width: 100%}\n",
       "    .wandb-row { display: flex; flex-direction: row; flex-wrap: wrap; justify-content: flex-start; width: 100% }\n",
       "    .wandb-col { display: flex; flex-direction: column; flex-basis: 100%; flex: 1; padding: 10px; }\n",
       "    </style>\n",
       "<div class=\"wandb-row\"><div class=\"wandb-col\"><h3>Run history:</h3><br/><table class=\"wandb\"><tr><td>epoch</td><td>▁▁▁▂▂▂▂▃▃▃▃▄▄▄▄▅▅▅▅▆▆▆▆▇▇▇▇███</td></tr><tr><td>train_loss</td><td>█▂▄▃▅▄▁▂▁▂▁▂▁▂▂▂▁▂▂▁▁▃▁▁▃▂▃▃▃▁</td></tr><tr><td>val_accuracy</td><td>▁</td></tr><tr><td>val_loss</td><td>█▂▂▂▃▂▃▃▂▂▂▂▃▁▃▂▃▂▃▃▁▂▃▃▃▂▂▄▁▃</td></tr></table><br/></div><div class=\"wandb-col\"><h3>Run summary:</h3><br/><table class=\"wandb\"><tr><td>epoch</td><td>30</td></tr><tr><td>train_loss</td><td>0.69315</td></tr><tr><td>val_accuracy</td><td>53.25</td></tr><tr><td>val_loss</td><td>0.69326</td></tr></table><br/></div></div>"
      ],
      "text/plain": [
       "<IPython.core.display.HTML object>"
      ]
     },
     "metadata": {},
     "output_type": "display_data"
    },
    {
     "data": {
      "text/html": [
       "Synced <strong style=\"color:#cdcd00\">bumbling-sweep-7</strong>: <a href=\"https://wandb.ai/danish2562022/PI__prediction_fc__hyperparameter_tuning_cls_vector/runs/so2iuio2\" target=\"_blank\">https://wandb.ai/danish2562022/PI__prediction_fc__hyperparameter_tuning_cls_vector/runs/so2iuio2</a><br/>Synced 6 W&B file(s), 0 media file(s), 0 artifact file(s) and 0 other file(s)"
      ],
      "text/plain": [
       "<IPython.core.display.HTML object>"
      ]
     },
     "metadata": {},
     "output_type": "display_data"
    },
    {
     "data": {
      "text/html": [
       "Find logs at: <code>./wandb/run-20221129_084105-so2iuio2/logs</code>"
      ],
      "text/plain": [
       "<IPython.core.display.HTML object>"
      ]
     },
     "metadata": {},
     "output_type": "display_data"
    },
    {
     "name": "stderr",
     "output_type": "stream",
     "text": [
      "\u001b[34m\u001b[1mwandb\u001b[0m: Agent Starting Run: 4xs8j206 with config:\n",
      "\u001b[34m\u001b[1mwandb\u001b[0m: \tamsgrad: True\n",
      "\u001b[34m\u001b[1mwandb\u001b[0m: \tdim_1: 4048\n",
      "\u001b[34m\u001b[1mwandb\u001b[0m: \tdim_2: 512\n",
      "\u001b[34m\u001b[1mwandb\u001b[0m: \tdropout: False\n",
      "\u001b[34m\u001b[1mwandb\u001b[0m: \tepochs: 30\n",
      "\u001b[34m\u001b[1mwandb\u001b[0m: \tlayer_fc_1: 1\n",
      "\u001b[34m\u001b[1mwandb\u001b[0m: \tlayer_fc_2: 2\n",
      "\u001b[34m\u001b[1mwandb\u001b[0m: \tlearning_rate: 0.00106625419763881\n",
      "\u001b[34m\u001b[1mwandb\u001b[0m: \tmomentum: 0.95\n",
      "\u001b[34m\u001b[1mwandb\u001b[0m: \toptimizer: adam\n",
      "\u001b[34m\u001b[1mwandb\u001b[0m: \tweight_decay: 0.0050279724574047256\n",
      "Failed to detect the name of this notebook, you can set it manually with the WANDB_NOTEBOOK_NAME environment variable to enable code saving.\n"
     ]
    },
    {
     "data": {
      "text/html": [
       "wandb version 0.13.5 is available!  To upgrade, please run:\n",
       " $ pip install wandb --upgrade"
      ],
      "text/plain": [
       "<IPython.core.display.HTML object>"
      ]
     },
     "metadata": {},
     "output_type": "display_data"
    },
    {
     "data": {
      "text/html": [
       "Tracking run with wandb version 0.13.4"
      ],
      "text/plain": [
       "<IPython.core.display.HTML object>"
      ]
     },
     "metadata": {},
     "output_type": "display_data"
    },
    {
     "data": {
      "text/html": [
       "Run data is saved locally in <code>/home/anwer/Desktop/PPI_prediction/model_training_py/models/wandb/run-20221129_084246-4xs8j206</code>"
      ],
      "text/plain": [
       "<IPython.core.display.HTML object>"
      ]
     },
     "metadata": {},
     "output_type": "display_data"
    },
    {
     "data": {
      "text/html": [
       "Syncing run <strong><a href=\"https://wandb.ai/danish2562022/PI__prediction_fc__hyperparameter_tuning_cls_vector/runs/4xs8j206\" target=\"_blank\">atomic-sweep-8</a></strong> to <a href=\"https://wandb.ai/danish2562022/PI__prediction_fc__hyperparameter_tuning_cls_vector\" target=\"_blank\">Weights & Biases</a> (<a href=\"https://wandb.me/run\" target=\"_blank\">docs</a>)<br/>Sweep page:  <a href=\"https://wandb.ai/danish2562022/PI__prediction_fc__hyperparameter_tuning_cls_vector/sweeps/gyyc8zyb\" target=\"_blank\">https://wandb.ai/danish2562022/PI__prediction_fc__hyperparameter_tuning_cls_vector/sweeps/gyyc8zyb</a>"
      ],
      "text/plain": [
       "<IPython.core.display.HTML object>"
      ]
     },
     "metadata": {},
     "output_type": "display_data"
    },
    {
     "name": "stdout",
     "output_type": "stream",
     "text": [
      "Start training...\n",
      "\n"
     ]
    },
    {
     "name": "stderr",
     "output_type": "stream",
     "text": [
      "11it [00:05,  1.86it/s]\n",
      "100%|████████████████████████████████████████████████████████████| 1/1 [00:00<00:00,  2.47it/s]\n"
     ]
    },
    {
     "name": "stdout",
     "output_type": "stream",
     "text": [
      "Epoch: 1 | Training Loss: 0.6877970587123524  | Validation Loss: 0.6941591501235962  | Accuracy: 53.25\n"
     ]
    },
    {
     "name": "stderr",
     "output_type": "stream",
     "text": [
      "11it [00:06,  1.76it/s]\n",
      "100%|████████████████████████████████████████████████████████████| 1/1 [00:00<00:00,  2.12it/s]\n"
     ]
    },
    {
     "name": "stdout",
     "output_type": "stream",
     "text": [
      "Epoch: 2 | Training Loss: 0.6284765926274386  | Validation Loss: 0.6821374893188477  | Accuracy: 53.25\n"
     ]
    },
    {
     "name": "stderr",
     "output_type": "stream",
     "text": [
      "11it [00:06,  1.66it/s]\n",
      "100%|████████████████████████████████████████████████████████████| 1/1 [00:00<00:00,  2.25it/s]\n"
     ]
    },
    {
     "name": "stdout",
     "output_type": "stream",
     "text": [
      "Epoch: 3 | Training Loss: 0.5700121847066012  | Validation Loss: 0.6911079287528992  | Accuracy: 53.25\n"
     ]
    },
    {
     "name": "stderr",
     "output_type": "stream",
     "text": [
      "11it [00:06,  1.60it/s]\n",
      "100%|████████████████████████████████████████████████████████████| 1/1 [00:00<00:00,  2.19it/s]\n"
     ]
    },
    {
     "name": "stdout",
     "output_type": "stream",
     "text": [
      "Epoch: 4 | Training Loss: 0.5530716505917636  | Validation Loss: 0.6728352904319763  | Accuracy: 53.95\n"
     ]
    },
    {
     "name": "stderr",
     "output_type": "stream",
     "text": [
      "11it [00:07,  1.55it/s]\n",
      "100%|████████████████████████████████████████████████████████████| 1/1 [00:00<00:00,  2.06it/s]\n"
     ]
    },
    {
     "name": "stdout",
     "output_type": "stream",
     "text": [
      "Epoch: 5 | Training Loss: 0.5456429882483049  | Validation Loss: 0.6690457463264465  | Accuracy: 55.15\n"
     ]
    },
    {
     "name": "stderr",
     "output_type": "stream",
     "text": [
      "11it [00:07,  1.55it/s]\n",
      "100%|████████████████████████████████████████████████████████████| 1/1 [00:00<00:00,  2.17it/s]\n"
     ]
    },
    {
     "name": "stdout",
     "output_type": "stream",
     "text": [
      "Epoch: 6 | Training Loss: 0.5389811017296531  | Validation Loss: 0.6497649550437927  | Accuracy: 64.62\n"
     ]
    },
    {
     "name": "stderr",
     "output_type": "stream",
     "text": [
      "11it [00:07,  1.56it/s]\n",
      "100%|████████████████████████████████████████████████████████████| 1/1 [00:00<00:00,  2.05it/s]\n"
     ]
    },
    {
     "name": "stdout",
     "output_type": "stream",
     "text": [
      "Epoch: 7 | Training Loss: 0.5322327342900363  | Validation Loss: 0.6367628574371338  | Accuracy: 63.08\n"
     ]
    },
    {
     "name": "stderr",
     "output_type": "stream",
     "text": [
      "11it [00:06,  1.61it/s]\n",
      "100%|████████████████████████████████████████████████████████████| 1/1 [00:00<00:00,  2.20it/s]\n"
     ]
    },
    {
     "name": "stdout",
     "output_type": "stream",
     "text": [
      "Epoch: 8 | Training Loss: 0.5301919362761758  | Validation Loss: 0.6414753198623657  | Accuracy: 60.92\n"
     ]
    },
    {
     "name": "stderr",
     "output_type": "stream",
     "text": [
      "11it [00:07,  1.48it/s]\n",
      "100%|████████████████████████████████████████████████████████████| 1/1 [00:00<00:00,  2.06it/s]\n"
     ]
    },
    {
     "name": "stdout",
     "output_type": "stream",
     "text": [
      "Epoch: 9 | Training Loss: 0.5251234878193248  | Validation Loss: 0.6560720801353455  | Accuracy: 58.68\n"
     ]
    },
    {
     "name": "stderr",
     "output_type": "stream",
     "text": [
      "11it [00:07,  1.52it/s]\n",
      "100%|████████████████████████████████████████████████████████████| 1/1 [00:00<00:00,  2.13it/s]\n"
     ]
    },
    {
     "name": "stdout",
     "output_type": "stream",
     "text": [
      "Epoch: 10 | Training Loss: 0.522532349283045  | Validation Loss: 0.7028127908706665  | Accuracy: 60.62\n"
     ]
    },
    {
     "name": "stderr",
     "output_type": "stream",
     "text": [
      "11it [00:07,  1.55it/s]\n",
      "100%|████████████████████████████████████████████████████████████| 1/1 [00:00<00:00,  2.09it/s]\n"
     ]
    },
    {
     "name": "stdout",
     "output_type": "stream",
     "text": [
      "Epoch: 11 | Training Loss: 0.5293788042935458  | Validation Loss: 0.6741018891334534  | Accuracy: 59.82\n"
     ]
    },
    {
     "name": "stderr",
     "output_type": "stream",
     "text": [
      "11it [00:07,  1.52it/s]\n",
      "100%|████████████████████████████████████████████████████████████| 1/1 [00:00<00:00,  2.06it/s]\n"
     ]
    },
    {
     "name": "stdout",
     "output_type": "stream",
     "text": [
      "Epoch: 12 | Training Loss: 0.518870624628934  | Validation Loss: 0.852118968963623  | Accuracy: 52.30\n"
     ]
    },
    {
     "name": "stderr",
     "output_type": "stream",
     "text": [
      "11it [00:06,  1.59it/s]\n",
      "100%|████████████████████████████████████████████████████████████| 1/1 [00:00<00:00,  2.08it/s]\n"
     ]
    },
    {
     "name": "stdout",
     "output_type": "stream",
     "text": [
      "Epoch: 13 | Training Loss: 0.5080270144072446  | Validation Loss: 0.5848833918571472  | Accuracy: 68.77\n"
     ]
    },
    {
     "name": "stderr",
     "output_type": "stream",
     "text": [
      "11it [00:07,  1.53it/s]\n",
      "100%|████████████████████████████████████████████████████████████| 1/1 [00:00<00:00,  2.08it/s]\n"
     ]
    },
    {
     "name": "stdout",
     "output_type": "stream",
     "text": [
      "Epoch: 14 | Training Loss: 0.5056902793320742  | Validation Loss: 0.7462153434753418  | Accuracy: 62.40\n"
     ]
    },
    {
     "name": "stderr",
     "output_type": "stream",
     "text": [
      "11it [00:07,  1.50it/s]\n",
      "100%|████████████████████████████████████████████████████████████| 1/1 [00:00<00:00,  2.07it/s]\n"
     ]
    },
    {
     "name": "stdout",
     "output_type": "stream",
     "text": [
      "Epoch: 15 | Training Loss: 0.5188796709884297  | Validation Loss: 0.5815290212631226  | Accuracy: 69.65\n"
     ]
    },
    {
     "name": "stderr",
     "output_type": "stream",
     "text": [
      "11it [00:07,  1.53it/s]\n",
      "100%|████████████████████████████████████████████████████████████| 1/1 [00:00<00:00,  2.13it/s]\n"
     ]
    },
    {
     "name": "stdout",
     "output_type": "stream",
     "text": [
      "Epoch: 16 | Training Loss: 0.5170291418379004  | Validation Loss: 0.8512629866600037  | Accuracy: 54.45\n"
     ]
    },
    {
     "name": "stderr",
     "output_type": "stream",
     "text": [
      "11it [00:07,  1.54it/s]\n",
      "100%|████████████████████████████████████████████████████████████| 1/1 [00:00<00:00,  2.07it/s]\n"
     ]
    },
    {
     "name": "stdout",
     "output_type": "stream",
     "text": [
      "Epoch: 17 | Training Loss: 0.49781391295519745  | Validation Loss: 0.8209841847419739  | Accuracy: 55.82\n"
     ]
    },
    {
     "name": "stderr",
     "output_type": "stream",
     "text": [
      "11it [00:07,  1.50it/s]\n",
      "100%|████████████████████████████████████████████████████████████| 1/1 [00:00<00:00,  2.16it/s]\n"
     ]
    },
    {
     "name": "stdout",
     "output_type": "stream",
     "text": [
      "Epoch: 18 | Training Loss: 0.4947102828459306  | Validation Loss: 0.6028655767440796  | Accuracy: 67.63\n"
     ]
    },
    {
     "name": "stderr",
     "output_type": "stream",
     "text": [
      "11it [00:07,  1.51it/s]\n",
      "100%|████████████████████████████████████████████████████████████| 1/1 [00:00<00:00,  2.01it/s]\n"
     ]
    },
    {
     "name": "stdout",
     "output_type": "stream",
     "text": [
      "Epoch: 19 | Training Loss: 0.4922577847133983  | Validation Loss: 0.6563520431518555  | Accuracy: 61.17\n"
     ]
    },
    {
     "name": "stderr",
     "output_type": "stream",
     "text": [
      "11it [00:06,  1.59it/s]\n",
      "100%|████████████████████████████████████████████████████████████| 1/1 [00:00<00:00,  2.06it/s]\n"
     ]
    },
    {
     "name": "stdout",
     "output_type": "stream",
     "text": [
      "Epoch: 20 | Training Loss: 0.5021899965676394  | Validation Loss: 0.6415693163871765  | Accuracy: 66.08\n"
     ]
    },
    {
     "name": "stderr",
     "output_type": "stream",
     "text": [
      "11it [00:07,  1.52it/s]\n",
      "100%|████████████████████████████████████████████████████████████| 1/1 [00:00<00:00,  2.10it/s]\n"
     ]
    },
    {
     "name": "stdout",
     "output_type": "stream",
     "text": [
      "Epoch: 21 | Training Loss: 0.5028664550997994  | Validation Loss: 0.743577778339386  | Accuracy: 57.78\n"
     ]
    },
    {
     "name": "stderr",
     "output_type": "stream",
     "text": [
      "11it [00:07,  1.57it/s]\n",
      "100%|████████████████████████████████████████████████████████████| 1/1 [00:00<00:00,  2.09it/s]\n"
     ]
    },
    {
     "name": "stdout",
     "output_type": "stream",
     "text": [
      "Epoch: 22 | Training Loss: 0.4992590980096297  | Validation Loss: 1.0465128421783447  | Accuracy: 57.10\n"
     ]
    },
    {
     "name": "stderr",
     "output_type": "stream",
     "text": [
      "11it [00:07,  1.54it/s]\n",
      "100%|████████████████████████████████████████████████████████████| 1/1 [00:00<00:00,  2.14it/s]\n"
     ]
    },
    {
     "name": "stdout",
     "output_type": "stream",
     "text": [
      "Epoch: 23 | Training Loss: 0.4900119927796451  | Validation Loss: 0.6794149279594421  | Accuracy: 64.63\n"
     ]
    },
    {
     "name": "stderr",
     "output_type": "stream",
     "text": [
      "11it [00:06,  1.59it/s]\n",
      "100%|████████████████████████████████████████████████████████████| 1/1 [00:00<00:00,  2.13it/s]\n"
     ]
    },
    {
     "name": "stdout",
     "output_type": "stream",
     "text": [
      "Epoch: 24 | Training Loss: 0.4903353588147597  | Validation Loss: 0.6177688837051392  | Accuracy: 65.30\n"
     ]
    },
    {
     "name": "stderr",
     "output_type": "stream",
     "text": [
      "11it [00:07,  1.57it/s]\n",
      "100%|████████████████████████████████████████████████████████████| 1/1 [00:00<00:00,  2.02it/s]\n"
     ]
    },
    {
     "name": "stdout",
     "output_type": "stream",
     "text": [
      "Epoch: 25 | Training Loss: 0.48172168027270923  | Validation Loss: 0.6132282614707947  | Accuracy: 67.62\n"
     ]
    },
    {
     "name": "stderr",
     "output_type": "stream",
     "text": [
      "11it [00:07,  1.54it/s]\n",
      "100%|████████████████████████████████████████████████████████████| 1/1 [00:00<00:00,  2.08it/s]\n"
     ]
    },
    {
     "name": "stdout",
     "output_type": "stream",
     "text": [
      "Epoch: 26 | Training Loss: 0.4811998578635129  | Validation Loss: 0.5876883864402771  | Accuracy: 68.17\n"
     ]
    },
    {
     "name": "stderr",
     "output_type": "stream",
     "text": [
      "11it [00:07,  1.52it/s]\n",
      "100%|████████████████████████████████████████████████████████████| 1/1 [00:00<00:00,  1.98it/s]\n"
     ]
    },
    {
     "name": "stdout",
     "output_type": "stream",
     "text": [
      "Epoch: 27 | Training Loss: 0.478694503957575  | Validation Loss: 0.7427646517753601  | Accuracy: 63.32\n"
     ]
    },
    {
     "name": "stderr",
     "output_type": "stream",
     "text": [
      "11it [00:07,  1.55it/s]\n",
      "100%|████████████████████████████████████████████████████████████| 1/1 [00:00<00:00,  2.11it/s]\n"
     ]
    },
    {
     "name": "stdout",
     "output_type": "stream",
     "text": [
      "Epoch: 28 | Training Loss: 0.4786756228316914  | Validation Loss: 0.6068924069404602  | Accuracy: 66.43\n"
     ]
    },
    {
     "name": "stderr",
     "output_type": "stream",
     "text": [
      "11it [00:07,  1.53it/s]\n",
      "100%|████████████████████████████████████████████████████████████| 1/1 [00:00<00:00,  2.06it/s]\n"
     ]
    },
    {
     "name": "stdout",
     "output_type": "stream",
     "text": [
      "Epoch: 29 | Training Loss: 0.47515910322015936  | Validation Loss: 1.0515258312225342  | Accuracy: 57.28\n"
     ]
    },
    {
     "name": "stderr",
     "output_type": "stream",
     "text": [
      "11it [00:07,  1.51it/s]\n",
      "100%|████████████████████████████████████████████████████████████| 1/1 [00:00<00:00,  2.05it/s]\n"
     ]
    },
    {
     "name": "stdout",
     "output_type": "stream",
     "text": [
      "Epoch: 30 | Training Loss: 0.4735461337999864  | Validation Loss: 0.5974665284156799  | Accuracy: 69.88\n",
      "\n",
      "\n",
      "Training complete! Best accuracy: 69.88%.\n"
     ]
    },
    {
     "data": {
      "text/html": [
       "Waiting for W&B process to finish... <strong style=\"color:green\">(success).</strong>"
      ],
      "text/plain": [
       "<IPython.core.display.HTML object>"
      ]
     },
     "metadata": {},
     "output_type": "display_data"
    },
    {
     "data": {
      "application/vnd.jupyter.widget-view+json": {
       "model_id": "3fdf1e7ec20b4da69ae91f38bde8d673",
       "version_major": 2,
       "version_minor": 0
      },
      "text/plain": [
       "VBox(children=(Label(value='0.001 MB of 0.033 MB uploaded (0.000 MB deduped)\\r'), FloatProgress(value=0.021874…"
      ]
     },
     "metadata": {},
     "output_type": "display_data"
    },
    {
     "data": {
      "text/html": [
       "<style>\n",
       "    table.wandb td:nth-child(1) { padding: 0 10px; text-align: left ; width: auto;} td:nth-child(2) {text-align: left ; width: 100%}\n",
       "    .wandb-row { display: flex; flex-direction: row; flex-wrap: wrap; justify-content: flex-start; width: 100% }\n",
       "    .wandb-col { display: flex; flex-direction: column; flex-basis: 100%; flex: 1; padding: 10px; }\n",
       "    </style>\n",
       "<div class=\"wandb-row\"><div class=\"wandb-col\"><h3>Run history:</h3><br/><table class=\"wandb\"><tr><td>epoch</td><td>▁▁▁▂▂▂▂▃▃▃▃▄▄▄▄▅▅▅▅▆▆▆▆▇▇▇▇███</td></tr><tr><td>train_loss</td><td>█▆▄▄▃▃▃▃▃▃▃▂▂▂▂▂▂▂▂▂▂▂▂▂▁▁▁▁▁▁</td></tr><tr><td>val_accuracy</td><td>▁</td></tr><tr><td>val_loss</td><td>▃▂▃▂▂▂▂▂▂▃▂▅▁▃▁▅▅▁▂▂▃█▂▂▁▁▃▁█▁</td></tr></table><br/></div><div class=\"wandb-col\"><h3>Run summary:</h3><br/><table class=\"wandb\"><tr><td>epoch</td><td>30</td></tr><tr><td>train_loss</td><td>0.47355</td></tr><tr><td>val_accuracy</td><td>69.88333</td></tr><tr><td>val_loss</td><td>0.59747</td></tr></table><br/></div></div>"
      ],
      "text/plain": [
       "<IPython.core.display.HTML object>"
      ]
     },
     "metadata": {},
     "output_type": "display_data"
    },
    {
     "data": {
      "text/html": [
       "Synced <strong style=\"color:#cdcd00\">atomic-sweep-8</strong>: <a href=\"https://wandb.ai/danish2562022/PI__prediction_fc__hyperparameter_tuning_cls_vector/runs/4xs8j206\" target=\"_blank\">https://wandb.ai/danish2562022/PI__prediction_fc__hyperparameter_tuning_cls_vector/runs/4xs8j206</a><br/>Synced 6 W&B file(s), 0 media file(s), 0 artifact file(s) and 0 other file(s)"
      ],
      "text/plain": [
       "<IPython.core.display.HTML object>"
      ]
     },
     "metadata": {},
     "output_type": "display_data"
    },
    {
     "data": {
      "text/html": [
       "Find logs at: <code>./wandb/run-20221129_084246-4xs8j206/logs</code>"
      ],
      "text/plain": [
       "<IPython.core.display.HTML object>"
      ]
     },
     "metadata": {},
     "output_type": "display_data"
    },
    {
     "name": "stderr",
     "output_type": "stream",
     "text": [
      "\u001b[34m\u001b[1mwandb\u001b[0m: Agent Starting Run: u0cedzi0 with config:\n",
      "\u001b[34m\u001b[1mwandb\u001b[0m: \tamsgrad: True\n",
      "\u001b[34m\u001b[1mwandb\u001b[0m: \tdim_1: 2048\n",
      "\u001b[34m\u001b[1mwandb\u001b[0m: \tdim_2: 1024\n",
      "\u001b[34m\u001b[1mwandb\u001b[0m: \tdropout: False\n",
      "\u001b[34m\u001b[1mwandb\u001b[0m: \tepochs: 30\n",
      "\u001b[34m\u001b[1mwandb\u001b[0m: \tlayer_fc_1: 1\n",
      "\u001b[34m\u001b[1mwandb\u001b[0m: \tlayer_fc_2: 2\n",
      "\u001b[34m\u001b[1mwandb\u001b[0m: \tlearning_rate: 0.004747642387167276\n",
      "\u001b[34m\u001b[1mwandb\u001b[0m: \tmomentum: 0.9\n",
      "\u001b[34m\u001b[1mwandb\u001b[0m: \toptimizer: adam\n",
      "\u001b[34m\u001b[1mwandb\u001b[0m: \tweight_decay: 0.002484193799901144\n",
      "Failed to detect the name of this notebook, you can set it manually with the WANDB_NOTEBOOK_NAME environment variable to enable code saving.\n"
     ]
    },
    {
     "data": {
      "text/html": [
       "wandb version 0.13.5 is available!  To upgrade, please run:\n",
       " $ pip install wandb --upgrade"
      ],
      "text/plain": [
       "<IPython.core.display.HTML object>"
      ]
     },
     "metadata": {},
     "output_type": "display_data"
    },
    {
     "data": {
      "text/html": [
       "Tracking run with wandb version 0.13.4"
      ],
      "text/plain": [
       "<IPython.core.display.HTML object>"
      ]
     },
     "metadata": {},
     "output_type": "display_data"
    },
    {
     "data": {
      "text/html": [
       "Run data is saved locally in <code>/home/anwer/Desktop/PPI_prediction/model_training_py/models/wandb/run-20221129_084654-u0cedzi0</code>"
      ],
      "text/plain": [
       "<IPython.core.display.HTML object>"
      ]
     },
     "metadata": {},
     "output_type": "display_data"
    },
    {
     "data": {
      "text/html": [
       "Syncing run <strong><a href=\"https://wandb.ai/danish2562022/PI__prediction_fc__hyperparameter_tuning_cls_vector/runs/u0cedzi0\" target=\"_blank\">hardy-sweep-9</a></strong> to <a href=\"https://wandb.ai/danish2562022/PI__prediction_fc__hyperparameter_tuning_cls_vector\" target=\"_blank\">Weights & Biases</a> (<a href=\"https://wandb.me/run\" target=\"_blank\">docs</a>)<br/>Sweep page:  <a href=\"https://wandb.ai/danish2562022/PI__prediction_fc__hyperparameter_tuning_cls_vector/sweeps/gyyc8zyb\" target=\"_blank\">https://wandb.ai/danish2562022/PI__prediction_fc__hyperparameter_tuning_cls_vector/sweeps/gyyc8zyb</a>"
      ],
      "text/plain": [
       "<IPython.core.display.HTML object>"
      ]
     },
     "metadata": {},
     "output_type": "display_data"
    },
    {
     "name": "stdout",
     "output_type": "stream",
     "text": [
      "Start training...\n",
      "\n"
     ]
    },
    {
     "name": "stderr",
     "output_type": "stream",
     "text": [
      "11it [00:03,  3.29it/s]\n",
      "100%|████████████████████████████████████████████████████████████| 1/1 [00:00<00:00,  5.95it/s]\n"
     ]
    },
    {
     "name": "stdout",
     "output_type": "stream",
     "text": [
      "Epoch: 1 | Training Loss: 0.6812132922085848  | Validation Loss: 0.6986388564109802  | Accuracy: 46.75\n"
     ]
    },
    {
     "name": "stderr",
     "output_type": "stream",
     "text": [
      "11it [00:03,  3.35it/s]\n",
      "100%|████████████████████████████████████████████████████████████| 1/1 [00:00<00:00,  5.55it/s]\n"
     ]
    },
    {
     "name": "stdout",
     "output_type": "stream",
     "text": [
      "Epoch: 2 | Training Loss: 0.6650980602611195  | Validation Loss: 2.4553580284118652  | Accuracy: 46.95\n"
     ]
    },
    {
     "name": "stderr",
     "output_type": "stream",
     "text": [
      "11it [00:03,  3.14it/s]\n",
      "100%|████████████████████████████████████████████████████████████| 1/1 [00:00<00:00,  5.16it/s]\n"
     ]
    },
    {
     "name": "stdout",
     "output_type": "stream",
     "text": [
      "Epoch: 3 | Training Loss: 0.5871294953606345  | Validation Loss: 1.448035478591919  | Accuracy: 53.25\n"
     ]
    },
    {
     "name": "stderr",
     "output_type": "stream",
     "text": [
      "11it [00:03,  3.14it/s]\n",
      "100%|████████████████████████████████████████████████████████████| 1/1 [00:00<00:00,  5.13it/s]\n"
     ]
    },
    {
     "name": "stdout",
     "output_type": "stream",
     "text": [
      "Epoch: 4 | Training Loss: 0.5814844749190591  | Validation Loss: 0.7386767268180847  | Accuracy: 55.85\n"
     ]
    },
    {
     "name": "stderr",
     "output_type": "stream",
     "text": [
      "11it [00:03,  3.02it/s]\n",
      "100%|████████████████████████████████████████████████████████████| 1/1 [00:00<00:00,  5.18it/s]\n"
     ]
    },
    {
     "name": "stdout",
     "output_type": "stream",
     "text": [
      "Epoch: 5 | Training Loss: 0.578729970888658  | Validation Loss: 1.3222383260726929  | Accuracy: 47.83\n"
     ]
    },
    {
     "name": "stderr",
     "output_type": "stream",
     "text": [
      "11it [00:03,  3.01it/s]\n",
      "100%|████████████████████████████████████████████████████████████| 1/1 [00:00<00:00,  4.84it/s]\n"
     ]
    },
    {
     "name": "stdout",
     "output_type": "stream",
     "text": [
      "Epoch: 6 | Training Loss: 0.5608676238493486  | Validation Loss: 1.3675568103790283  | Accuracy: 53.25\n"
     ]
    },
    {
     "name": "stderr",
     "output_type": "stream",
     "text": [
      "11it [00:03,  3.10it/s]\n",
      "100%|████████████████████████████████████████████████████████████| 1/1 [00:00<00:00,  4.67it/s]\n"
     ]
    },
    {
     "name": "stdout",
     "output_type": "stream",
     "text": [
      "Epoch: 7 | Training Loss: 0.5913977297869596  | Validation Loss: 0.6319871544837952  | Accuracy: 63.32\n"
     ]
    },
    {
     "name": "stderr",
     "output_type": "stream",
     "text": [
      "11it [00:03,  3.01it/s]\n",
      "100%|████████████████████████████████████████████████████████████| 1/1 [00:00<00:00,  4.74it/s]\n"
     ]
    },
    {
     "name": "stdout",
     "output_type": "stream",
     "text": [
      "Epoch: 8 | Training Loss: 0.5847377614541487  | Validation Loss: 0.664111316204071  | Accuracy: 59.92\n"
     ]
    },
    {
     "name": "stderr",
     "output_type": "stream",
     "text": [
      "11it [00:03,  2.97it/s]\n",
      "100%|████████████████████████████████████████████████████████████| 1/1 [00:00<00:00,  4.61it/s]\n"
     ]
    },
    {
     "name": "stdout",
     "output_type": "stream",
     "text": [
      "Epoch: 9 | Training Loss: 0.5546028668230231  | Validation Loss: 1.286679744720459  | Accuracy: 53.25\n"
     ]
    },
    {
     "name": "stderr",
     "output_type": "stream",
     "text": [
      "11it [00:03,  2.98it/s]\n",
      "100%|████████████████████████████████████████████████████████████| 1/1 [00:00<00:00,  4.40it/s]\n"
     ]
    },
    {
     "name": "stdout",
     "output_type": "stream",
     "text": [
      "Epoch: 10 | Training Loss: 0.5496655865149065  | Validation Loss: 1.2401998043060303  | Accuracy: 53.25\n"
     ]
    },
    {
     "name": "stderr",
     "output_type": "stream",
     "text": [
      "11it [00:03,  2.94it/s]\n",
      "100%|████████████████████████████████████████████████████████████| 1/1 [00:00<00:00,  5.80it/s]\n"
     ]
    },
    {
     "name": "stdout",
     "output_type": "stream",
     "text": [
      "Epoch: 11 | Training Loss: 0.6083976572210138  | Validation Loss: 1.2092334032058716  | Accuracy: 47.72\n"
     ]
    },
    {
     "name": "stderr",
     "output_type": "stream",
     "text": [
      "11it [00:03,  2.82it/s]\n",
      "100%|████████████████████████████████████████████████████████████| 1/1 [00:00<00:00,  4.67it/s]\n"
     ]
    },
    {
     "name": "stdout",
     "output_type": "stream",
     "text": [
      "Epoch: 12 | Training Loss: 0.55733938108791  | Validation Loss: 0.7584562301635742  | Accuracy: 54.08\n"
     ]
    },
    {
     "name": "stderr",
     "output_type": "stream",
     "text": [
      "11it [00:03,  2.86it/s]\n",
      "100%|████████████████████████████████████████████████████████████| 1/1 [00:00<00:00,  4.72it/s]\n"
     ]
    },
    {
     "name": "stdout",
     "output_type": "stream",
     "text": [
      "Epoch: 13 | Training Loss: 0.5512601841579784  | Validation Loss: 0.6161752343177795  | Accuracy: 66.90\n"
     ]
    },
    {
     "name": "stderr",
     "output_type": "stream",
     "text": [
      "11it [00:03,  2.92it/s]\n",
      "100%|████████████████████████████████████████████████████████████| 1/1 [00:00<00:00,  4.06it/s]\n"
     ]
    },
    {
     "name": "stdout",
     "output_type": "stream",
     "text": [
      "Epoch: 14 | Training Loss: 0.5472346164963462  | Validation Loss: 1.132492184638977  | Accuracy: 53.27\n"
     ]
    },
    {
     "name": "stderr",
     "output_type": "stream",
     "text": [
      "11it [00:03,  2.87it/s]\n",
      "100%|████████████████████████████████████████████████████████████| 1/1 [00:00<00:00,  4.84it/s]\n"
     ]
    },
    {
     "name": "stdout",
     "output_type": "stream",
     "text": [
      "Epoch: 15 | Training Loss: 0.6002929535779086  | Validation Loss: 3.3760592937469482  | Accuracy: 46.78\n"
     ]
    },
    {
     "name": "stderr",
     "output_type": "stream",
     "text": [
      "11it [00:03,  2.83it/s]\n",
      "100%|████████████████████████████████████████████████████████████| 1/1 [00:00<00:00,  5.76it/s]\n"
     ]
    },
    {
     "name": "stdout",
     "output_type": "stream",
     "text": [
      "Epoch: 16 | Training Loss: 0.5659160776571794  | Validation Loss: 0.6994226574897766  | Accuracy: 58.82\n"
     ]
    },
    {
     "name": "stderr",
     "output_type": "stream",
     "text": [
      "11it [00:04,  2.68it/s]\n",
      "100%|████████████████████████████████████████████████████████████| 1/1 [00:00<00:00,  4.64it/s]\n"
     ]
    },
    {
     "name": "stdout",
     "output_type": "stream",
     "text": [
      "Epoch: 17 | Training Loss: 0.5480580817569386  | Validation Loss: 1.0276504755020142  | Accuracy: 53.40\n"
     ]
    },
    {
     "name": "stderr",
     "output_type": "stream",
     "text": [
      "11it [00:03,  2.81it/s]\n",
      "100%|████████████████████████████████████████████████████████████| 1/1 [00:00<00:00,  4.66it/s]\n"
     ]
    },
    {
     "name": "stdout",
     "output_type": "stream",
     "text": [
      "Epoch: 18 | Training Loss: 0.540600597858429  | Validation Loss: 1.570028305053711  | Accuracy: 53.25\n"
     ]
    },
    {
     "name": "stderr",
     "output_type": "stream",
     "text": [
      "11it [00:03,  2.94it/s]\n",
      "100%|████████████████████████████████████████████████████████████| 1/1 [00:00<00:00,  4.50it/s]\n"
     ]
    },
    {
     "name": "stdout",
     "output_type": "stream",
     "text": [
      "Epoch: 19 | Training Loss: 0.5398943586782976  | Validation Loss: 1.1365336179733276  | Accuracy: 53.25\n"
     ]
    },
    {
     "name": "stderr",
     "output_type": "stream",
     "text": [
      "11it [00:04,  2.74it/s]\n",
      "100%|████████████████████████████████████████████████████████████| 1/1 [00:00<00:00,  4.37it/s]\n"
     ]
    },
    {
     "name": "stdout",
     "output_type": "stream",
     "text": [
      "Epoch: 20 | Training Loss: 0.5673864971507679  | Validation Loss: 0.6386176943778992  | Accuracy: 63.13\n"
     ]
    },
    {
     "name": "stderr",
     "output_type": "stream",
     "text": [
      "11it [00:03,  2.85it/s]\n",
      "100%|████████████████████████████████████████████████████████████| 1/1 [00:00<00:00,  4.29it/s]\n"
     ]
    },
    {
     "name": "stdout",
     "output_type": "stream",
     "text": [
      "Epoch: 21 | Training Loss: 0.5935053771192377  | Validation Loss: 3.869765520095825  | Accuracy: 46.77\n"
     ]
    },
    {
     "name": "stderr",
     "output_type": "stream",
     "text": [
      "11it [00:03,  2.86it/s]\n",
      "100%|████████████████████████████████████████████████████████████| 1/1 [00:00<00:00,  4.62it/s]\n"
     ]
    },
    {
     "name": "stdout",
     "output_type": "stream",
     "text": [
      "Epoch: 22 | Training Loss: 0.5522206588224932  | Validation Loss: 1.2264093160629272  | Accuracy: 53.30\n"
     ]
    },
    {
     "name": "stderr",
     "output_type": "stream",
     "text": [
      "11it [00:03,  2.82it/s]\n",
      "100%|████████████████████████████████████████████████████████████| 1/1 [00:00<00:00,  4.38it/s]\n"
     ]
    },
    {
     "name": "stdout",
     "output_type": "stream",
     "text": [
      "Epoch: 23 | Training Loss: 0.5555925965309143  | Validation Loss: 1.1066774129867554  | Accuracy: 53.30\n"
     ]
    },
    {
     "name": "stderr",
     "output_type": "stream",
     "text": [
      "11it [00:03,  2.87it/s]\n",
      "100%|████████████████████████████████████████████████████████████| 1/1 [00:00<00:00,  4.51it/s]\n"
     ]
    },
    {
     "name": "stdout",
     "output_type": "stream",
     "text": [
      "Epoch: 24 | Training Loss: 0.5393564809452404  | Validation Loss: 1.0401383638381958  | Accuracy: 53.28\n"
     ]
    },
    {
     "name": "stderr",
     "output_type": "stream",
     "text": [
      "11it [00:03,  2.83it/s]\n",
      "100%|████████████████████████████████████████████████████████████| 1/1 [00:00<00:00,  4.70it/s]\n"
     ]
    },
    {
     "name": "stdout",
     "output_type": "stream",
     "text": [
      "Epoch: 25 | Training Loss: 0.5424228689887307  | Validation Loss: 0.7729238271713257  | Accuracy: 54.75\n"
     ]
    },
    {
     "name": "stderr",
     "output_type": "stream",
     "text": [
      "11it [00:03,  2.80it/s]\n",
      "100%|████████████████████████████████████████████████████████████| 1/1 [00:00<00:00,  4.33it/s]\n"
     ]
    },
    {
     "name": "stdout",
     "output_type": "stream",
     "text": [
      "Epoch: 26 | Training Loss: 0.5360688783905723  | Validation Loss: 1.0453664064407349  | Accuracy: 53.47\n"
     ]
    },
    {
     "name": "stderr",
     "output_type": "stream",
     "text": [
      "11it [00:03,  2.99it/s]\n",
      "100%|████████████████████████████████████████████████████████████| 1/1 [00:00<00:00,  4.08it/s]\n"
     ]
    },
    {
     "name": "stdout",
     "output_type": "stream",
     "text": [
      "Epoch: 27 | Training Loss: 0.5739700794219971  | Validation Loss: 2.01393461227417  | Accuracy: 46.83\n"
     ]
    },
    {
     "name": "stderr",
     "output_type": "stream",
     "text": [
      "11it [00:03,  2.80it/s]\n",
      "100%|████████████████████████████████████████████████████████████| 1/1 [00:00<00:00,  3.94it/s]\n"
     ]
    },
    {
     "name": "stdout",
     "output_type": "stream",
     "text": [
      "Epoch: 28 | Training Loss: 0.5800721211866899  | Validation Loss: 3.0393760204315186  | Accuracy: 46.77\n"
     ]
    },
    {
     "name": "stderr",
     "output_type": "stream",
     "text": [
      "11it [00:03,  2.82it/s]\n",
      "100%|████████████████████████████████████████████████████████████| 1/1 [00:00<00:00,  4.33it/s]\n"
     ]
    },
    {
     "name": "stdout",
     "output_type": "stream",
     "text": [
      "Epoch: 29 | Training Loss: 0.5497604391791604  | Validation Loss: 0.659318745136261  | Accuracy: 63.33\n"
     ]
    },
    {
     "name": "stderr",
     "output_type": "stream",
     "text": [
      "11it [00:03,  2.83it/s]\n",
      "100%|████████████████████████████████████████████████████████████| 1/1 [00:00<00:00,  4.17it/s]\n"
     ]
    },
    {
     "name": "stdout",
     "output_type": "stream",
     "text": [
      "Epoch: 30 | Training Loss: 0.5407288616353815  | Validation Loss: 1.3742822408676147  | Accuracy: 53.25\n",
      "\n",
      "\n",
      "Training complete! Best accuracy: 66.90%.\n"
     ]
    },
    {
     "data": {
      "text/html": [
       "Waiting for W&B process to finish... <strong style=\"color:green\">(success).</strong>"
      ],
      "text/plain": [
       "<IPython.core.display.HTML object>"
      ]
     },
     "metadata": {},
     "output_type": "display_data"
    },
    {
     "data": {
      "text/html": [
       "<style>\n",
       "    table.wandb td:nth-child(1) { padding: 0 10px; text-align: left ; width: auto;} td:nth-child(2) {text-align: left ; width: 100%}\n",
       "    .wandb-row { display: flex; flex-direction: row; flex-wrap: wrap; justify-content: flex-start; width: 100% }\n",
       "    .wandb-col { display: flex; flex-direction: column; flex-basis: 100%; flex: 1; padding: 10px; }\n",
       "    </style>\n",
       "<div class=\"wandb-row\"><div class=\"wandb-col\"><h3>Run history:</h3><br/><table class=\"wandb\"><tr><td>epoch</td><td>▁▁▁▂▂▂▂▃▃▃▃▄▄▄▄▅▅▅▅▆▆▆▆▇▇▇▇███</td></tr><tr><td>train_loss</td><td>█▇▃▃▃▂▄▃▂▂▄▂▂▂▄▂▂▁▁▃▄▂▂▁▁▁▃▃▂▁</td></tr><tr><td>val_accuracy</td><td>▁</td></tr><tr><td>val_loss</td><td>▁▅▃▁▃▃▁▁▂▂▂▁▁▂▇▁▂▃▂▁█▂▂▂▁▂▄▆▁▃</td></tr></table><br/></div><div class=\"wandb-col\"><h3>Run summary:</h3><br/><table class=\"wandb\"><tr><td>epoch</td><td>30</td></tr><tr><td>train_loss</td><td>0.54073</td></tr><tr><td>val_accuracy</td><td>66.9</td></tr><tr><td>val_loss</td><td>1.37428</td></tr></table><br/></div></div>"
      ],
      "text/plain": [
       "<IPython.core.display.HTML object>"
      ]
     },
     "metadata": {},
     "output_type": "display_data"
    },
    {
     "data": {
      "text/html": [
       "Synced <strong style=\"color:#cdcd00\">hardy-sweep-9</strong>: <a href=\"https://wandb.ai/danish2562022/PI__prediction_fc__hyperparameter_tuning_cls_vector/runs/u0cedzi0\" target=\"_blank\">https://wandb.ai/danish2562022/PI__prediction_fc__hyperparameter_tuning_cls_vector/runs/u0cedzi0</a><br/>Synced 6 W&B file(s), 0 media file(s), 0 artifact file(s) and 0 other file(s)"
      ],
      "text/plain": [
       "<IPython.core.display.HTML object>"
      ]
     },
     "metadata": {},
     "output_type": "display_data"
    },
    {
     "data": {
      "text/html": [
       "Find logs at: <code>./wandb/run-20221129_084654-u0cedzi0/logs</code>"
      ],
      "text/plain": [
       "<IPython.core.display.HTML object>"
      ]
     },
     "metadata": {},
     "output_type": "display_data"
    },
    {
     "name": "stderr",
     "output_type": "stream",
     "text": [
      "\u001b[34m\u001b[1mwandb\u001b[0m: Agent Starting Run: ln8ukdi6 with config:\n",
      "\u001b[34m\u001b[1mwandb\u001b[0m: \tamsgrad: False\n",
      "\u001b[34m\u001b[1mwandb\u001b[0m: \tdim_1: 4048\n",
      "\u001b[34m\u001b[1mwandb\u001b[0m: \tdim_2: 1024\n",
      "\u001b[34m\u001b[1mwandb\u001b[0m: \tdropout: True\n",
      "\u001b[34m\u001b[1mwandb\u001b[0m: \tepochs: 30\n",
      "\u001b[34m\u001b[1mwandb\u001b[0m: \tlayer_fc_1: 1\n",
      "\u001b[34m\u001b[1mwandb\u001b[0m: \tlayer_fc_2: 1\n",
      "\u001b[34m\u001b[1mwandb\u001b[0m: \tlearning_rate: 0.001971647093618686\n",
      "\u001b[34m\u001b[1mwandb\u001b[0m: \tmomentum: 0.85\n",
      "\u001b[34m\u001b[1mwandb\u001b[0m: \toptimizer: adam\n",
      "\u001b[34m\u001b[1mwandb\u001b[0m: \tweight_decay: 0.003602405149397578\n",
      "Failed to detect the name of this notebook, you can set it manually with the WANDB_NOTEBOOK_NAME environment variable to enable code saving.\n"
     ]
    },
    {
     "data": {
      "text/html": [
       "wandb version 0.13.5 is available!  To upgrade, please run:\n",
       " $ pip install wandb --upgrade"
      ],
      "text/plain": [
       "<IPython.core.display.HTML object>"
      ]
     },
     "metadata": {},
     "output_type": "display_data"
    },
    {
     "data": {
      "text/html": [
       "Tracking run with wandb version 0.13.4"
      ],
      "text/plain": [
       "<IPython.core.display.HTML object>"
      ]
     },
     "metadata": {},
     "output_type": "display_data"
    },
    {
     "data": {
      "text/html": [
       "Run data is saved locally in <code>/home/anwer/Desktop/PPI_prediction/model_training_py/models/wandb/run-20221129_084911-ln8ukdi6</code>"
      ],
      "text/plain": [
       "<IPython.core.display.HTML object>"
      ]
     },
     "metadata": {},
     "output_type": "display_data"
    },
    {
     "data": {
      "text/html": [
       "Syncing run <strong><a href=\"https://wandb.ai/danish2562022/PI__prediction_fc__hyperparameter_tuning_cls_vector/runs/ln8ukdi6\" target=\"_blank\">serene-sweep-10</a></strong> to <a href=\"https://wandb.ai/danish2562022/PI__prediction_fc__hyperparameter_tuning_cls_vector\" target=\"_blank\">Weights & Biases</a> (<a href=\"https://wandb.me/run\" target=\"_blank\">docs</a>)<br/>Sweep page:  <a href=\"https://wandb.ai/danish2562022/PI__prediction_fc__hyperparameter_tuning_cls_vector/sweeps/gyyc8zyb\" target=\"_blank\">https://wandb.ai/danish2562022/PI__prediction_fc__hyperparameter_tuning_cls_vector/sweeps/gyyc8zyb</a>"
      ],
      "text/plain": [
       "<IPython.core.display.HTML object>"
      ]
     },
     "metadata": {},
     "output_type": "display_data"
    },
    {
     "name": "stdout",
     "output_type": "stream",
     "text": [
      "Start training...\n",
      "\n"
     ]
    },
    {
     "name": "stderr",
     "output_type": "stream",
     "text": [
      "11it [00:06,  1.58it/s]\n",
      "100%|████████████████████████████████████████████████████████████| 1/1 [00:00<00:00,  1.93it/s]\n"
     ]
    },
    {
     "name": "stdout",
     "output_type": "stream",
     "text": [
      "Epoch: 1 | Training Loss: 0.6803904988548972  | Validation Loss: 0.691639244556427  | Accuracy: 51.68\n"
     ]
    },
    {
     "name": "stderr",
     "output_type": "stream",
     "text": [
      "11it [00:07,  1.45it/s]\n",
      "100%|████████████████████████████████████████████████████████████| 1/1 [00:00<00:00,  1.94it/s]\n"
     ]
    },
    {
     "name": "stdout",
     "output_type": "stream",
     "text": [
      "Epoch: 2 | Training Loss: 0.6255788152868097  | Validation Loss: 0.6846309304237366  | Accuracy: 58.53\n"
     ]
    },
    {
     "name": "stderr",
     "output_type": "stream",
     "text": [
      "11it [00:08,  1.35it/s]\n",
      "100%|████████████████████████████████████████████████████████████| 1/1 [00:00<00:00,  1.82it/s]\n"
     ]
    },
    {
     "name": "stdout",
     "output_type": "stream",
     "text": [
      "Epoch: 3 | Training Loss: 0.566567453471097  | Validation Loss: 0.6838643550872803  | Accuracy: 53.62\n"
     ]
    },
    {
     "name": "stderr",
     "output_type": "stream",
     "text": [
      "11it [00:08,  1.32it/s]\n",
      "100%|████████████████████████████████████████████████████████████| 1/1 [00:00<00:00,  1.81it/s]\n"
     ]
    },
    {
     "name": "stdout",
     "output_type": "stream",
     "text": [
      "Epoch: 4 | Training Loss: 0.5669007247144525  | Validation Loss: 0.6669851541519165  | Accuracy: 67.03\n"
     ]
    },
    {
     "name": "stderr",
     "output_type": "stream",
     "text": [
      "11it [00:07,  1.41it/s]\n",
      "100%|████████████████████████████████████████████████████████████| 1/1 [00:00<00:00,  1.82it/s]\n"
     ]
    },
    {
     "name": "stdout",
     "output_type": "stream",
     "text": [
      "Epoch: 5 | Training Loss: 0.5507223335179415  | Validation Loss: 0.6645345687866211  | Accuracy: 66.02\n"
     ]
    },
    {
     "name": "stderr",
     "output_type": "stream",
     "text": [
      "11it [00:08,  1.37it/s]\n",
      "100%|████████████████████████████████████████████████████████████| 1/1 [00:00<00:00,  1.72it/s]\n"
     ]
    },
    {
     "name": "stdout",
     "output_type": "stream",
     "text": [
      "Epoch: 6 | Training Loss: 0.5535719448869879  | Validation Loss: 0.6539609432220459  | Accuracy: 67.75\n"
     ]
    },
    {
     "name": "stderr",
     "output_type": "stream",
     "text": [
      "11it [00:08,  1.31it/s]\n",
      "100%|████████████████████████████████████████████████████████████| 1/1 [00:00<00:00,  1.76it/s]\n"
     ]
    },
    {
     "name": "stdout",
     "output_type": "stream",
     "text": [
      "Epoch: 7 | Training Loss: 0.5528321320360358  | Validation Loss: 0.697537899017334  | Accuracy: 55.23\n"
     ]
    },
    {
     "name": "stderr",
     "output_type": "stream",
     "text": [
      "11it [00:08,  1.34it/s]\n",
      "100%|████████████████████████████████████████████████████████████| 1/1 [00:00<00:00,  1.77it/s]\n"
     ]
    },
    {
     "name": "stdout",
     "output_type": "stream",
     "text": [
      "Epoch: 8 | Training Loss: 0.5443682453849099  | Validation Loss: 0.702392578125  | Accuracy: 55.83\n"
     ]
    },
    {
     "name": "stderr",
     "output_type": "stream",
     "text": [
      "11it [00:08,  1.27it/s]\n",
      "100%|████████████████████████████████████████████████████████████| 1/1 [00:00<00:00,  1.70it/s]\n"
     ]
    },
    {
     "name": "stdout",
     "output_type": "stream",
     "text": [
      "Epoch: 9 | Training Loss: 0.5447052608836781  | Validation Loss: 0.6147531867027283  | Accuracy: 65.23\n"
     ]
    },
    {
     "name": "stderr",
     "output_type": "stream",
     "text": [
      "11it [00:08,  1.25it/s]\n",
      "100%|████████████████████████████████████████████████████████████| 1/1 [00:00<00:00,  1.72it/s]\n"
     ]
    },
    {
     "name": "stdout",
     "output_type": "stream",
     "text": [
      "Epoch: 10 | Training Loss: 0.551901871507818  | Validation Loss: 0.9274347424507141  | Accuracy: 50.80\n"
     ]
    },
    {
     "name": "stderr",
     "output_type": "stream",
     "text": [
      "11it [00:08,  1.32it/s]\n",
      "100%|████████████████████████████████████████████████████████████| 1/1 [00:00<00:00,  1.64it/s]\n"
     ]
    },
    {
     "name": "stdout",
     "output_type": "stream",
     "text": [
      "Epoch: 11 | Training Loss: 0.5452235666188326  | Validation Loss: 0.6073567271232605  | Accuracy: 67.93\n"
     ]
    },
    {
     "name": "stderr",
     "output_type": "stream",
     "text": [
      "11it [00:08,  1.32it/s]\n",
      "100%|████████████████████████████████████████████████████████████| 1/1 [00:00<00:00,  1.76it/s]\n"
     ]
    },
    {
     "name": "stdout",
     "output_type": "stream",
     "text": [
      "Epoch: 12 | Training Loss: 0.5590440847656943  | Validation Loss: 3.1107089519500732  | Accuracy: 47.02\n"
     ]
    },
    {
     "name": "stderr",
     "output_type": "stream",
     "text": [
      "11it [00:08,  1.30it/s]\n",
      "100%|████████████████████████████████████████████████████████████| 1/1 [00:00<00:00,  1.71it/s]\n"
     ]
    },
    {
     "name": "stdout",
     "output_type": "stream",
     "text": [
      "Epoch: 13 | Training Loss: 0.5428076928312128  | Validation Loss: 0.6857527494430542  | Accuracy: 61.10\n"
     ]
    },
    {
     "name": "stderr",
     "output_type": "stream",
     "text": [
      "11it [00:08,  1.26it/s]\n",
      "100%|████████████████████████████████████████████████████████████| 1/1 [00:00<00:00,  1.70it/s]\n"
     ]
    },
    {
     "name": "stdout",
     "output_type": "stream",
     "text": [
      "Epoch: 14 | Training Loss: 0.5316181020303206  | Validation Loss: 1.6012227535247803  | Accuracy: 53.25\n"
     ]
    },
    {
     "name": "stderr",
     "output_type": "stream",
     "text": [
      "11it [00:08,  1.25it/s]\n",
      "100%|████████████████████████████████████████████████████████████| 1/1 [00:00<00:00,  1.62it/s]\n"
     ]
    },
    {
     "name": "stdout",
     "output_type": "stream",
     "text": [
      "Epoch: 15 | Training Loss: 0.5284274979071184  | Validation Loss: 1.482249140739441  | Accuracy: 53.25\n"
     ]
    },
    {
     "name": "stderr",
     "output_type": "stream",
     "text": [
      "11it [00:09,  1.22it/s]\n",
      "100%|████████████████████████████████████████████████████████████| 1/1 [00:00<00:00,  1.64it/s]\n"
     ]
    },
    {
     "name": "stdout",
     "output_type": "stream",
     "text": [
      "Epoch: 16 | Training Loss: 0.5315200252966448  | Validation Loss: 1.1861019134521484  | Accuracy: 53.47\n"
     ]
    },
    {
     "name": "stderr",
     "output_type": "stream",
     "text": [
      "11it [00:08,  1.30it/s]\n",
      "100%|████████████████████████████████████████████████████████████| 1/1 [00:00<00:00,  1.72it/s]\n"
     ]
    },
    {
     "name": "stdout",
     "output_type": "stream",
     "text": [
      "Epoch: 17 | Training Loss: 0.5364686738361012  | Validation Loss: 0.8807350397109985  | Accuracy: 56.35\n"
     ]
    },
    {
     "name": "stderr",
     "output_type": "stream",
     "text": [
      "11it [00:08,  1.23it/s]\n",
      "100%|████████████████████████████████████████████████████████████| 1/1 [00:00<00:00,  1.67it/s]\n"
     ]
    },
    {
     "name": "stdout",
     "output_type": "stream",
     "text": [
      "Epoch: 18 | Training Loss: 0.5746552835811268  | Validation Loss: 1.3092321157455444  | Accuracy: 50.00\n"
     ]
    },
    {
     "name": "stderr",
     "output_type": "stream",
     "text": [
      "11it [00:08,  1.34it/s]\n",
      "100%|████████████████████████████████████████████████████████████| 1/1 [00:00<00:00,  1.78it/s]\n"
     ]
    },
    {
     "name": "stdout",
     "output_type": "stream",
     "text": [
      "Epoch: 19 | Training Loss: 0.6201091733845797  | Validation Loss: 1.200158715248108  | Accuracy: 54.45\n"
     ]
    },
    {
     "name": "stderr",
     "output_type": "stream",
     "text": [
      "11it [00:08,  1.32it/s]\n",
      "100%|████████████████████████████████████████████████████████████| 1/1 [00:00<00:00,  1.77it/s]\n"
     ]
    },
    {
     "name": "stdout",
     "output_type": "stream",
     "text": [
      "Epoch: 20 | Training Loss: 0.5597358508543535  | Validation Loss: 0.6102777719497681  | Accuracy: 67.70\n"
     ]
    },
    {
     "name": "stderr",
     "output_type": "stream",
     "text": [
      "11it [00:08,  1.28it/s]\n",
      "100%|████████████████████████████████████████████████████████████| 1/1 [00:00<00:00,  1.85it/s]\n"
     ]
    },
    {
     "name": "stdout",
     "output_type": "stream",
     "text": [
      "Epoch: 21 | Training Loss: 0.5461033961989663  | Validation Loss: 1.29563307762146  | Accuracy: 53.25\n"
     ]
    },
    {
     "name": "stderr",
     "output_type": "stream",
     "text": [
      "11it [00:08,  1.26it/s]\n",
      "100%|████████████████████████████████████████████████████████████| 1/1 [00:00<00:00,  1.71it/s]\n"
     ]
    },
    {
     "name": "stdout",
     "output_type": "stream",
     "text": [
      "Epoch: 22 | Training Loss: 0.535191302949732  | Validation Loss: 1.5584259033203125  | Accuracy: 53.25\n"
     ]
    },
    {
     "name": "stderr",
     "output_type": "stream",
     "text": [
      "11it [00:08,  1.30it/s]\n",
      "100%|████████████████████████████████████████████████████████████| 1/1 [00:00<00:00,  1.74it/s]\n"
     ]
    },
    {
     "name": "stdout",
     "output_type": "stream",
     "text": [
      "Epoch: 23 | Training Loss: 0.5418659882111982  | Validation Loss: 1.2817882299423218  | Accuracy: 53.25\n"
     ]
    },
    {
     "name": "stderr",
     "output_type": "stream",
     "text": [
      "11it [00:08,  1.28it/s]\n",
      "100%|████████████████████████████████████████████████████████████| 1/1 [00:00<00:00,  1.71it/s]\n"
     ]
    },
    {
     "name": "stdout",
     "output_type": "stream",
     "text": [
      "Epoch: 24 | Training Loss: 0.5337255868044767  | Validation Loss: 1.4414927959442139  | Accuracy: 53.25\n"
     ]
    },
    {
     "name": "stderr",
     "output_type": "stream",
     "text": [
      "11it [00:08,  1.28it/s]\n",
      "100%|████████████████████████████████████████████████████████████| 1/1 [00:00<00:00,  1.71it/s]\n"
     ]
    },
    {
     "name": "stdout",
     "output_type": "stream",
     "text": [
      "Epoch: 25 | Training Loss: 0.5261731960556724  | Validation Loss: 1.238581657409668  | Accuracy: 53.38\n"
     ]
    },
    {
     "name": "stderr",
     "output_type": "stream",
     "text": [
      "11it [00:09,  1.19it/s]\n",
      "100%|████████████████████████████████████████████████████████████| 1/1 [00:00<00:00,  1.53it/s]\n"
     ]
    },
    {
     "name": "stdout",
     "output_type": "stream",
     "text": [
      "Epoch: 26 | Training Loss: 0.5285590616139498  | Validation Loss: 0.7564947605133057  | Accuracy: 57.25\n"
     ]
    },
    {
     "name": "stderr",
     "output_type": "stream",
     "text": [
      "11it [00:09,  1.18it/s]\n",
      "100%|████████████████████████████████████████████████████████████| 1/1 [00:00<00:00,  1.68it/s]\n"
     ]
    },
    {
     "name": "stdout",
     "output_type": "stream",
     "text": [
      "Epoch: 27 | Training Loss: 0.5678109743378379  | Validation Loss: 1.7710843086242676  | Accuracy: 47.18\n"
     ]
    },
    {
     "name": "stderr",
     "output_type": "stream",
     "text": [
      "11it [00:08,  1.28it/s]\n",
      "100%|████████████████████████████████████████████████████████████| 1/1 [00:00<00:00,  1.68it/s]\n"
     ]
    },
    {
     "name": "stdout",
     "output_type": "stream",
     "text": [
      "Epoch: 28 | Training Loss: 0.6036567742174322  | Validation Loss: 0.745367169380188  | Accuracy: 57.52\n"
     ]
    },
    {
     "name": "stderr",
     "output_type": "stream",
     "text": [
      "11it [00:08,  1.26it/s]\n",
      "100%|████████████████████████████████████████████████████████████| 1/1 [00:00<00:00,  1.69it/s]\n"
     ]
    },
    {
     "name": "stdout",
     "output_type": "stream",
     "text": [
      "Epoch: 29 | Training Loss: 0.5459607297723944  | Validation Loss: 0.6540922522544861  | Accuracy: 62.13\n"
     ]
    },
    {
     "name": "stderr",
     "output_type": "stream",
     "text": [
      "11it [00:08,  1.26it/s]\n",
      "100%|████████████████████████████████████████████████████████████| 1/1 [00:00<00:00,  1.69it/s]\n"
     ]
    },
    {
     "name": "stdout",
     "output_type": "stream",
     "text": [
      "Epoch: 30 | Training Loss: 0.5300192399458452  | Validation Loss: 0.8253610134124756  | Accuracy: 55.23\n",
      "\n",
      "\n",
      "Training complete! Best accuracy: 67.93%.\n"
     ]
    },
    {
     "data": {
      "text/html": [
       "Waiting for W&B process to finish... <strong style=\"color:green\">(success).</strong>"
      ],
      "text/plain": [
       "<IPython.core.display.HTML object>"
      ]
     },
     "metadata": {},
     "output_type": "display_data"
    },
    {
     "data": {
      "text/html": [
       "<style>\n",
       "    table.wandb td:nth-child(1) { padding: 0 10px; text-align: left ; width: auto;} td:nth-child(2) {text-align: left ; width: 100%}\n",
       "    .wandb-row { display: flex; flex-direction: row; flex-wrap: wrap; justify-content: flex-start; width: 100% }\n",
       "    .wandb-col { display: flex; flex-direction: column; flex-basis: 100%; flex: 1; padding: 10px; }\n",
       "    </style>\n",
       "<div class=\"wandb-row\"><div class=\"wandb-col\"><h3>Run history:</h3><br/><table class=\"wandb\"><tr><td>epoch</td><td>▁▁▁▂▂▂▂▃▃▃▃▄▄▄▄▅▅▅▅▆▆▆▆▇▇▇▇███</td></tr><tr><td>train_loss</td><td>█▆▃▃▂▂▂▂▂▂▂▂▂▁▁▁▁▃▅▃▂▁▂▁▁▁▃▅▂▁</td></tr><tr><td>val_accuracy</td><td>▁</td></tr><tr><td>val_loss</td><td>▁▁▁▁▁▁▁▁▁▂▁█▁▄▃▃▂▃▃▁▃▄▃▃▃▁▄▁▁▂</td></tr></table><br/></div><div class=\"wandb-col\"><h3>Run summary:</h3><br/><table class=\"wandb\"><tr><td>epoch</td><td>30</td></tr><tr><td>train_loss</td><td>0.53002</td></tr><tr><td>val_accuracy</td><td>67.93333</td></tr><tr><td>val_loss</td><td>0.82536</td></tr></table><br/></div></div>"
      ],
      "text/plain": [
       "<IPython.core.display.HTML object>"
      ]
     },
     "metadata": {},
     "output_type": "display_data"
    },
    {
     "data": {
      "text/html": [
       "Synced <strong style=\"color:#cdcd00\">serene-sweep-10</strong>: <a href=\"https://wandb.ai/danish2562022/PI__prediction_fc__hyperparameter_tuning_cls_vector/runs/ln8ukdi6\" target=\"_blank\">https://wandb.ai/danish2562022/PI__prediction_fc__hyperparameter_tuning_cls_vector/runs/ln8ukdi6</a><br/>Synced 6 W&B file(s), 0 media file(s), 0 artifact file(s) and 0 other file(s)"
      ],
      "text/plain": [
       "<IPython.core.display.HTML object>"
      ]
     },
     "metadata": {},
     "output_type": "display_data"
    },
    {
     "data": {
      "text/html": [
       "Find logs at: <code>./wandb/run-20221129_084911-ln8ukdi6/logs</code>"
      ],
      "text/plain": [
       "<IPython.core.display.HTML object>"
      ]
     },
     "metadata": {},
     "output_type": "display_data"
    },
    {
     "name": "stderr",
     "output_type": "stream",
     "text": [
      "\u001b[34m\u001b[1mwandb\u001b[0m: Sweep Agent: Waiting for job.\n",
      "\u001b[34m\u001b[1mwandb\u001b[0m: Job received.\n",
      "\u001b[34m\u001b[1mwandb\u001b[0m: Agent Starting Run: 0kuecjr8 with config:\n",
      "\u001b[34m\u001b[1mwandb\u001b[0m: \tamsgrad: True\n",
      "\u001b[34m\u001b[1mwandb\u001b[0m: \tdim_1: 2048\n",
      "\u001b[34m\u001b[1mwandb\u001b[0m: \tdim_2: 256\n",
      "\u001b[34m\u001b[1mwandb\u001b[0m: \tdropout: True\n",
      "\u001b[34m\u001b[1mwandb\u001b[0m: \tepochs: 30\n",
      "\u001b[34m\u001b[1mwandb\u001b[0m: \tlayer_fc_1: 1\n",
      "\u001b[34m\u001b[1mwandb\u001b[0m: \tlayer_fc_2: 1\n",
      "\u001b[34m\u001b[1mwandb\u001b[0m: \tlearning_rate: 0.009169452139907755\n",
      "\u001b[34m\u001b[1mwandb\u001b[0m: \tmomentum: 0.99\n",
      "\u001b[34m\u001b[1mwandb\u001b[0m: \toptimizer: adam\n",
      "\u001b[34m\u001b[1mwandb\u001b[0m: \tweight_decay: 0.006050941982729873\n",
      "Failed to detect the name of this notebook, you can set it manually with the WANDB_NOTEBOOK_NAME environment variable to enable code saving.\n"
     ]
    },
    {
     "data": {
      "text/html": [
       "wandb version 0.13.5 is available!  To upgrade, please run:\n",
       " $ pip install wandb --upgrade"
      ],
      "text/plain": [
       "<IPython.core.display.HTML object>"
      ]
     },
     "metadata": {},
     "output_type": "display_data"
    },
    {
     "data": {
      "text/html": [
       "Tracking run with wandb version 0.13.4"
      ],
      "text/plain": [
       "<IPython.core.display.HTML object>"
      ]
     },
     "metadata": {},
     "output_type": "display_data"
    },
    {
     "data": {
      "text/html": [
       "Run data is saved locally in <code>/home/anwer/Desktop/PPI_prediction/model_training_py/models/wandb/run-20221129_085411-0kuecjr8</code>"
      ],
      "text/plain": [
       "<IPython.core.display.HTML object>"
      ]
     },
     "metadata": {},
     "output_type": "display_data"
    },
    {
     "data": {
      "text/html": [
       "Syncing run <strong><a href=\"https://wandb.ai/danish2562022/PI__prediction_fc__hyperparameter_tuning_cls_vector/runs/0kuecjr8\" target=\"_blank\">unique-sweep-11</a></strong> to <a href=\"https://wandb.ai/danish2562022/PI__prediction_fc__hyperparameter_tuning_cls_vector\" target=\"_blank\">Weights & Biases</a> (<a href=\"https://wandb.me/run\" target=\"_blank\">docs</a>)<br/>Sweep page:  <a href=\"https://wandb.ai/danish2562022/PI__prediction_fc__hyperparameter_tuning_cls_vector/sweeps/gyyc8zyb\" target=\"_blank\">https://wandb.ai/danish2562022/PI__prediction_fc__hyperparameter_tuning_cls_vector/sweeps/gyyc8zyb</a>"
      ],
      "text/plain": [
       "<IPython.core.display.HTML object>"
      ]
     },
     "metadata": {},
     "output_type": "display_data"
    },
    {
     "name": "stdout",
     "output_type": "stream",
     "text": [
      "Start training...\n",
      "\n"
     ]
    },
    {
     "name": "stderr",
     "output_type": "stream",
     "text": [
      "11it [00:02,  4.02it/s]\n",
      "100%|████████████████████████████████████████████████████████████| 1/1 [00:00<00:00,  9.68it/s]\n"
     ]
    },
    {
     "name": "stdout",
     "output_type": "stream",
     "text": [
      "Epoch: 1 | Training Loss: 0.6945196065035734  | Validation Loss: 0.6933475732803345  | Accuracy: 46.75\n"
     ]
    },
    {
     "name": "stderr",
     "output_type": "stream",
     "text": [
      "11it [00:02,  3.96it/s]\n",
      "100%|████████████████████████████████████████████████████████████| 1/1 [00:00<00:00,  9.52it/s]\n"
     ]
    },
    {
     "name": "stdout",
     "output_type": "stream",
     "text": [
      "Epoch: 2 | Training Loss: 0.6692270203070207  | Validation Loss: 0.9793184995651245  | Accuracy: 46.75\n"
     ]
    },
    {
     "name": "stderr",
     "output_type": "stream",
     "text": [
      "11it [00:02,  3.73it/s]\n",
      "100%|████████████████████████████████████████████████████████████| 1/1 [00:00<00:00,  9.39it/s]\n"
     ]
    },
    {
     "name": "stdout",
     "output_type": "stream",
     "text": [
      "Epoch: 3 | Training Loss: 0.623289167881012  | Validation Loss: 0.68701171875  | Accuracy: 53.42\n"
     ]
    },
    {
     "name": "stderr",
     "output_type": "stream",
     "text": [
      "11it [00:02,  3.84it/s]\n",
      "100%|████████████████████████████████████████████████████████████| 1/1 [00:00<00:00,  9.69it/s]\n"
     ]
    },
    {
     "name": "stdout",
     "output_type": "stream",
     "text": [
      "Epoch: 4 | Training Loss: 0.6127664988691156  | Validation Loss: 0.6846315860748291  | Accuracy: 54.60\n"
     ]
    },
    {
     "name": "stderr",
     "output_type": "stream",
     "text": [
      "11it [00:02,  4.01it/s]\n",
      "100%|████████████████████████████████████████████████████████████| 1/1 [00:00<00:00,  8.51it/s]\n"
     ]
    },
    {
     "name": "stdout",
     "output_type": "stream",
     "text": [
      "Epoch: 5 | Training Loss: 0.613534542647275  | Validation Loss: 0.8279231786727905  | Accuracy: 46.93\n"
     ]
    },
    {
     "name": "stderr",
     "output_type": "stream",
     "text": [
      "11it [00:02,  3.68it/s]\n",
      "100%|████████████████████████████████████████████████████████████| 1/1 [00:00<00:00,  8.62it/s]\n"
     ]
    },
    {
     "name": "stdout",
     "output_type": "stream",
     "text": [
      "Epoch: 6 | Training Loss: 0.612958165732297  | Validation Loss: 0.8426362872123718  | Accuracy: 47.13\n"
     ]
    },
    {
     "name": "stderr",
     "output_type": "stream",
     "text": [
      "11it [00:02,  3.88it/s]\n",
      "100%|████████████████████████████████████████████████████████████| 1/1 [00:00<00:00,  9.59it/s]\n"
     ]
    },
    {
     "name": "stdout",
     "output_type": "stream",
     "text": [
      "Epoch: 7 | Training Loss: 0.6029682484540072  | Validation Loss: 0.6872766017913818  | Accuracy: 53.12\n"
     ]
    },
    {
     "name": "stderr",
     "output_type": "stream",
     "text": [
      "11it [00:02,  3.80it/s]\n",
      "100%|████████████████████████████████████████████████████████████| 1/1 [00:00<00:00,  7.36it/s]\n"
     ]
    },
    {
     "name": "stdout",
     "output_type": "stream",
     "text": [
      "Epoch: 8 | Training Loss: 0.5948423472317782  | Validation Loss: 0.9699295163154602  | Accuracy: 53.80\n"
     ]
    },
    {
     "name": "stderr",
     "output_type": "stream",
     "text": [
      "11it [00:02,  3.82it/s]\n",
      "100%|████████████████████████████████████████████████████████████| 1/1 [00:00<00:00,  7.79it/s]\n"
     ]
    },
    {
     "name": "stdout",
     "output_type": "stream",
     "text": [
      "Epoch: 9 | Training Loss: 0.5880679054693743  | Validation Loss: 1.4296778440475464  | Accuracy: 53.25\n"
     ]
    },
    {
     "name": "stderr",
     "output_type": "stream",
     "text": [
      "11it [00:02,  3.87it/s]\n",
      "100%|████████████████████████████████████████████████████████████| 1/1 [00:00<00:00,  7.56it/s]\n"
     ]
    },
    {
     "name": "stdout",
     "output_type": "stream",
     "text": [
      "Epoch: 10 | Training Loss: 0.5864596583626487  | Validation Loss: 0.7007851600646973  | Accuracy: 59.77\n"
     ]
    },
    {
     "name": "stderr",
     "output_type": "stream",
     "text": [
      "11it [00:03,  3.59it/s]\n",
      "100%|████████████████████████████████████████████████████████████| 1/1 [00:00<00:00,  7.63it/s]\n"
     ]
    },
    {
     "name": "stdout",
     "output_type": "stream",
     "text": [
      "Epoch: 11 | Training Loss: 0.5939892042766918  | Validation Loss: 0.6472474932670593  | Accuracy: 65.00\n"
     ]
    },
    {
     "name": "stderr",
     "output_type": "stream",
     "text": [
      "11it [00:03,  3.61it/s]\n",
      "100%|████████████████████████████████████████████████████████████| 1/1 [00:00<00:00,  7.45it/s]\n"
     ]
    },
    {
     "name": "stdout",
     "output_type": "stream",
     "text": [
      "Epoch: 12 | Training Loss: 0.5814290209250017  | Validation Loss: 1.0714433193206787  | Accuracy: 53.25\n"
     ]
    },
    {
     "name": "stderr",
     "output_type": "stream",
     "text": [
      "11it [00:02,  3.93it/s]\n",
      "100%|████████████████████████████████████████████████████████████| 1/1 [00:00<00:00,  7.45it/s]\n"
     ]
    },
    {
     "name": "stdout",
     "output_type": "stream",
     "text": [
      "Epoch: 13 | Training Loss: 0.5712882713838057  | Validation Loss: 0.6585339307785034  | Accuracy: 62.95\n"
     ]
    },
    {
     "name": "stderr",
     "output_type": "stream",
     "text": [
      "11it [00:02,  3.85it/s]\n",
      "100%|████████████████████████████████████████████████████████████| 1/1 [00:00<00:00,  7.29it/s]\n"
     ]
    },
    {
     "name": "stdout",
     "output_type": "stream",
     "text": [
      "Epoch: 14 | Training Loss: 0.6288156888701699  | Validation Loss: 0.9319774508476257  | Accuracy: 47.50\n"
     ]
    },
    {
     "name": "stderr",
     "output_type": "stream",
     "text": [
      "11it [00:02,  3.96it/s]\n",
      "100%|████████████████████████████████████████████████████████████| 1/1 [00:00<00:00,  7.35it/s]\n"
     ]
    },
    {
     "name": "stdout",
     "output_type": "stream",
     "text": [
      "Epoch: 15 | Training Loss: 0.5853064168583263  | Validation Loss: 0.6741358041763306  | Accuracy: 58.65\n"
     ]
    },
    {
     "name": "stderr",
     "output_type": "stream",
     "text": [
      "11it [00:02,  3.83it/s]\n",
      "100%|████████████████████████████████████████████████████████████| 1/1 [00:00<00:00,  7.71it/s]\n"
     ]
    },
    {
     "name": "stdout",
     "output_type": "stream",
     "text": [
      "Epoch: 16 | Training Loss: 0.5895520177754489  | Validation Loss: 0.7626910209655762  | Accuracy: 51.35\n"
     ]
    },
    {
     "name": "stderr",
     "output_type": "stream",
     "text": [
      "11it [00:02,  3.78it/s]\n",
      "100%|████████████████████████████████████████████████████████████| 1/1 [00:00<00:00,  6.26it/s]\n"
     ]
    },
    {
     "name": "stdout",
     "output_type": "stream",
     "text": [
      "Epoch: 17 | Training Loss: 0.5894354310902682  | Validation Loss: 0.7365344166755676  | Accuracy: 56.42\n"
     ]
    },
    {
     "name": "stderr",
     "output_type": "stream",
     "text": [
      "11it [00:03,  3.54it/s]\n",
      "100%|████████████████████████████████████████████████████████████| 1/1 [00:00<00:00,  6.16it/s]\n"
     ]
    },
    {
     "name": "stdout",
     "output_type": "stream",
     "text": [
      "Epoch: 18 | Training Loss: 0.5883693153207953  | Validation Loss: 0.9015175700187683  | Accuracy: 54.13\n"
     ]
    },
    {
     "name": "stderr",
     "output_type": "stream",
     "text": [
      "11it [00:02,  3.67it/s]\n",
      "100%|████████████████████████████████████████████████████████████| 1/1 [00:00<00:00,  7.43it/s]\n"
     ]
    },
    {
     "name": "stdout",
     "output_type": "stream",
     "text": [
      "Epoch: 19 | Training Loss: 0.5784692114049738  | Validation Loss: 1.359947681427002  | Accuracy: 53.25\n"
     ]
    },
    {
     "name": "stderr",
     "output_type": "stream",
     "text": [
      "11it [00:02,  3.68it/s]\n",
      "100%|████████████████████████████████████████████████████████████| 1/1 [00:00<00:00,  9.43it/s]\n"
     ]
    },
    {
     "name": "stdout",
     "output_type": "stream",
     "text": [
      "Epoch: 20 | Training Loss: 0.5918758511543274  | Validation Loss: 1.0700371265411377  | Accuracy: 47.00\n"
     ]
    },
    {
     "name": "stderr",
     "output_type": "stream",
     "text": [
      "11it [00:03,  3.52it/s]\n",
      "100%|████████████████████████████████████████████████████████████| 1/1 [00:00<00:00,  6.92it/s]\n"
     ]
    },
    {
     "name": "stdout",
     "output_type": "stream",
     "text": [
      "Epoch: 21 | Training Loss: 0.5883146090940996  | Validation Loss: 0.6918622851371765  | Accuracy: 60.07\n"
     ]
    },
    {
     "name": "stderr",
     "output_type": "stream",
     "text": [
      "11it [00:03,  3.62it/s]\n",
      "100%|████████████████████████████████████████████████████████████| 1/1 [00:00<00:00,  6.13it/s]\n"
     ]
    },
    {
     "name": "stdout",
     "output_type": "stream",
     "text": [
      "Epoch: 22 | Training Loss: 0.5685741901397705  | Validation Loss: 1.008316993713379  | Accuracy: 53.33\n"
     ]
    },
    {
     "name": "stderr",
     "output_type": "stream",
     "text": [
      "11it [00:03,  3.61it/s]\n",
      "100%|████████████████████████████████████████████████████████████| 1/1 [00:00<00:00,  6.13it/s]\n"
     ]
    },
    {
     "name": "stdout",
     "output_type": "stream",
     "text": [
      "Epoch: 23 | Training Loss: 0.5997531143101779  | Validation Loss: 1.2486388683319092  | Accuracy: 46.85\n"
     ]
    },
    {
     "name": "stderr",
     "output_type": "stream",
     "text": [
      "11it [00:03,  3.28it/s]\n",
      "100%|████████████████████████████████████████████████████████████| 1/1 [00:00<00:00,  6.42it/s]\n"
     ]
    },
    {
     "name": "stdout",
     "output_type": "stream",
     "text": [
      "Epoch: 24 | Training Loss: 0.6137716932730242  | Validation Loss: 1.0051674842834473  | Accuracy: 47.12\n"
     ]
    },
    {
     "name": "stderr",
     "output_type": "stream",
     "text": [
      "11it [00:03,  3.63it/s]\n",
      "100%|████████████████████████████████████████████████████████████| 1/1 [00:00<00:00,  6.19it/s]\n"
     ]
    },
    {
     "name": "stdout",
     "output_type": "stream",
     "text": [
      "Epoch: 25 | Training Loss: 0.6016108935529535  | Validation Loss: 1.1251111030578613  | Accuracy: 53.25\n"
     ]
    },
    {
     "name": "stderr",
     "output_type": "stream",
     "text": [
      "11it [00:03,  3.63it/s]\n",
      "100%|████████████████████████████████████████████████████████████| 1/1 [00:00<00:00,  6.83it/s]\n"
     ]
    },
    {
     "name": "stdout",
     "output_type": "stream",
     "text": [
      "Epoch: 26 | Training Loss: 0.584227751601826  | Validation Loss: 1.0979634523391724  | Accuracy: 53.25\n"
     ]
    },
    {
     "name": "stderr",
     "output_type": "stream",
     "text": [
      "11it [00:02,  3.74it/s]\n",
      "100%|████████████████████████████████████████████████████████████| 1/1 [00:00<00:00,  6.18it/s]\n"
     ]
    },
    {
     "name": "stdout",
     "output_type": "stream",
     "text": [
      "Epoch: 27 | Training Loss: 0.5910635861483488  | Validation Loss: 0.9473947882652283  | Accuracy: 53.28\n"
     ]
    },
    {
     "name": "stderr",
     "output_type": "stream",
     "text": [
      "11it [00:02,  3.71it/s]\n",
      "100%|████████████████████████████████████████████████████████████| 1/1 [00:00<00:00,  8.70it/s]\n"
     ]
    },
    {
     "name": "stdout",
     "output_type": "stream",
     "text": [
      "Epoch: 28 | Training Loss: 0.596234224059365  | Validation Loss: 0.7186199426651001  | Accuracy: 53.43\n"
     ]
    },
    {
     "name": "stderr",
     "output_type": "stream",
     "text": [
      "11it [00:02,  3.74it/s]\n",
      "100%|████████████████████████████████████████████████████████████| 1/1 [00:00<00:00,  6.36it/s]\n"
     ]
    },
    {
     "name": "stdout",
     "output_type": "stream",
     "text": [
      "Epoch: 29 | Training Loss: 0.5913141098889437  | Validation Loss: 0.9178585410118103  | Accuracy: 47.15\n"
     ]
    },
    {
     "name": "stderr",
     "output_type": "stream",
     "text": [
      "11it [00:02,  3.67it/s]\n",
      "100%|████████████████████████████████████████████████████████████| 1/1 [00:00<00:00,  7.15it/s]\n"
     ]
    },
    {
     "name": "stdout",
     "output_type": "stream",
     "text": [
      "Epoch: 30 | Training Loss: 0.5870342525568876  | Validation Loss: 0.7507696747779846  | Accuracy: 59.03\n",
      "\n",
      "\n",
      "Training complete! Best accuracy: 65.00%.\n"
     ]
    },
    {
     "data": {
      "text/html": [
       "Waiting for W&B process to finish... <strong style=\"color:green\">(success).</strong>"
      ],
      "text/plain": [
       "<IPython.core.display.HTML object>"
      ]
     },
     "metadata": {},
     "output_type": "display_data"
    },
    {
     "data": {
      "application/vnd.jupyter.widget-view+json": {
       "model_id": "993ef371f10c4bcda2b66526dc0d2cb7",
       "version_major": 2,
       "version_minor": 0
      },
      "text/plain": [
       "VBox(children=(Label(value='0.001 MB of 0.001 MB uploaded (0.000 MB deduped)\\r'), FloatProgress(value=1.0, max…"
      ]
     },
     "metadata": {},
     "output_type": "display_data"
    },
    {
     "data": {
      "text/html": [
       "<style>\n",
       "    table.wandb td:nth-child(1) { padding: 0 10px; text-align: left ; width: auto;} td:nth-child(2) {text-align: left ; width: 100%}\n",
       "    .wandb-row { display: flex; flex-direction: row; flex-wrap: wrap; justify-content: flex-start; width: 100% }\n",
       "    .wandb-col { display: flex; flex-direction: column; flex-basis: 100%; flex: 1; padding: 10px; }\n",
       "    </style>\n",
       "<div class=\"wandb-row\"><div class=\"wandb-col\"><h3>Run history:</h3><br/><table class=\"wandb\"><tr><td>epoch</td><td>▁▁▁▂▂▂▂▃▃▃▃▄▄▄▄▅▅▅▅▆▆▆▆▇▇▇▇███</td></tr><tr><td>train_loss</td><td>█▇▄▃▃▃▃▂▂▂▂▂▁▄▂▂▂▂▂▂▂▁▃▄▃▂▂▃▂▂</td></tr><tr><td>val_accuracy</td><td>▁</td></tr><tr><td>val_loss</td><td>▁▄▁▁▃▃▁▄█▁▁▅▁▄▁▂▂▃▇▅▁▄▆▄▅▅▄▂▃▂</td></tr></table><br/></div><div class=\"wandb-col\"><h3>Run summary:</h3><br/><table class=\"wandb\"><tr><td>epoch</td><td>30</td></tr><tr><td>train_loss</td><td>0.58703</td></tr><tr><td>val_accuracy</td><td>65.0</td></tr><tr><td>val_loss</td><td>0.75077</td></tr></table><br/></div></div>"
      ],
      "text/plain": [
       "<IPython.core.display.HTML object>"
      ]
     },
     "metadata": {},
     "output_type": "display_data"
    },
    {
     "data": {
      "text/html": [
       "Synced <strong style=\"color:#cdcd00\">unique-sweep-11</strong>: <a href=\"https://wandb.ai/danish2562022/PI__prediction_fc__hyperparameter_tuning_cls_vector/runs/0kuecjr8\" target=\"_blank\">https://wandb.ai/danish2562022/PI__prediction_fc__hyperparameter_tuning_cls_vector/runs/0kuecjr8</a><br/>Synced 6 W&B file(s), 0 media file(s), 0 artifact file(s) and 0 other file(s)"
      ],
      "text/plain": [
       "<IPython.core.display.HTML object>"
      ]
     },
     "metadata": {},
     "output_type": "display_data"
    },
    {
     "data": {
      "text/html": [
       "Find logs at: <code>./wandb/run-20221129_085411-0kuecjr8/logs</code>"
      ],
      "text/plain": [
       "<IPython.core.display.HTML object>"
      ]
     },
     "metadata": {},
     "output_type": "display_data"
    },
    {
     "name": "stderr",
     "output_type": "stream",
     "text": [
      "\u001b[34m\u001b[1mwandb\u001b[0m: Agent Starting Run: h80bsxrn with config:\n",
      "\u001b[34m\u001b[1mwandb\u001b[0m: \tamsgrad: True\n",
      "\u001b[34m\u001b[1mwandb\u001b[0m: \tdim_1: 4048\n",
      "\u001b[34m\u001b[1mwandb\u001b[0m: \tdim_2: 128\n",
      "\u001b[34m\u001b[1mwandb\u001b[0m: \tdropout: True\n",
      "\u001b[34m\u001b[1mwandb\u001b[0m: \tepochs: 30\n",
      "\u001b[34m\u001b[1mwandb\u001b[0m: \tlayer_fc_1: 1\n",
      "\u001b[34m\u001b[1mwandb\u001b[0m: \tlayer_fc_2: 2\n",
      "\u001b[34m\u001b[1mwandb\u001b[0m: \tlearning_rate: 0.004568576107821646\n",
      "\u001b[34m\u001b[1mwandb\u001b[0m: \tmomentum: 0.85\n",
      "\u001b[34m\u001b[1mwandb\u001b[0m: \toptimizer: adam\n",
      "\u001b[34m\u001b[1mwandb\u001b[0m: \tweight_decay: 0.004136601227728067\n",
      "Failed to detect the name of this notebook, you can set it manually with the WANDB_NOTEBOOK_NAME environment variable to enable code saving.\n"
     ]
    },
    {
     "data": {
      "text/html": [
       "wandb version 0.13.5 is available!  To upgrade, please run:\n",
       " $ pip install wandb --upgrade"
      ],
      "text/plain": [
       "<IPython.core.display.HTML object>"
      ]
     },
     "metadata": {},
     "output_type": "display_data"
    },
    {
     "data": {
      "text/html": [
       "Tracking run with wandb version 0.13.4"
      ],
      "text/plain": [
       "<IPython.core.display.HTML object>"
      ]
     },
     "metadata": {},
     "output_type": "display_data"
    },
    {
     "data": {
      "text/html": [
       "Run data is saved locally in <code>/home/anwer/Desktop/PPI_prediction/model_training_py/models/wandb/run-20221129_085558-h80bsxrn</code>"
      ],
      "text/plain": [
       "<IPython.core.display.HTML object>"
      ]
     },
     "metadata": {},
     "output_type": "display_data"
    },
    {
     "data": {
      "text/html": [
       "Syncing run <strong><a href=\"https://wandb.ai/danish2562022/PI__prediction_fc__hyperparameter_tuning_cls_vector/runs/h80bsxrn\" target=\"_blank\">mild-sweep-12</a></strong> to <a href=\"https://wandb.ai/danish2562022/PI__prediction_fc__hyperparameter_tuning_cls_vector\" target=\"_blank\">Weights & Biases</a> (<a href=\"https://wandb.me/run\" target=\"_blank\">docs</a>)<br/>Sweep page:  <a href=\"https://wandb.ai/danish2562022/PI__prediction_fc__hyperparameter_tuning_cls_vector/sweeps/gyyc8zyb\" target=\"_blank\">https://wandb.ai/danish2562022/PI__prediction_fc__hyperparameter_tuning_cls_vector/sweeps/gyyc8zyb</a>"
      ],
      "text/plain": [
       "<IPython.core.display.HTML object>"
      ]
     },
     "metadata": {},
     "output_type": "display_data"
    },
    {
     "name": "stdout",
     "output_type": "stream",
     "text": [
      "Start training...\n",
      "\n"
     ]
    },
    {
     "name": "stderr",
     "output_type": "stream",
     "text": [
      "11it [00:05,  1.90it/s]\n",
      "100%|████████████████████████████████████████████████████████████| 1/1 [00:00<00:00,  2.58it/s]\n"
     ]
    },
    {
     "name": "stdout",
     "output_type": "stream",
     "text": [
      "Epoch: 1 | Training Loss: 0.6911452250047163  | Validation Loss: 0.6918649077415466  | Accuracy: 53.25\n"
     ]
    },
    {
     "name": "stderr",
     "output_type": "stream",
     "text": [
      "11it [00:06,  1.75it/s]\n",
      "100%|████████████████████████████████████████████████████████████| 1/1 [00:00<00:00,  2.47it/s]\n"
     ]
    },
    {
     "name": "stdout",
     "output_type": "stream",
     "text": [
      "Epoch: 2 | Training Loss: 0.6509746421467174  | Validation Loss: 0.7731491327285767  | Accuracy: 47.12\n"
     ]
    },
    {
     "name": "stderr",
     "output_type": "stream",
     "text": [
      "11it [00:06,  1.77it/s]\n",
      "100%|████████████████████████████████████████████████████████████| 1/1 [00:00<00:00,  2.39it/s]\n"
     ]
    },
    {
     "name": "stdout",
     "output_type": "stream",
     "text": [
      "Epoch: 3 | Training Loss: 0.6307598135688088  | Validation Loss: 0.7082589268684387  | Accuracy: 53.25\n"
     ]
    },
    {
     "name": "stderr",
     "output_type": "stream",
     "text": [
      "11it [00:06,  1.67it/s]\n",
      "100%|████████████████████████████████████████████████████████████| 1/1 [00:00<00:00,  2.30it/s]\n"
     ]
    },
    {
     "name": "stdout",
     "output_type": "stream",
     "text": [
      "Epoch: 4 | Training Loss: 0.6002378734675321  | Validation Loss: 0.7145332098007202  | Accuracy: 53.63\n"
     ]
    },
    {
     "name": "stderr",
     "output_type": "stream",
     "text": [
      "11it [00:06,  1.68it/s]\n",
      "100%|████████████████████████████████████████████████████████████| 1/1 [00:00<00:00,  2.26it/s]\n"
     ]
    },
    {
     "name": "stdout",
     "output_type": "stream",
     "text": [
      "Epoch: 5 | Training Loss: 0.6191678426482461  | Validation Loss: 0.6976320743560791  | Accuracy: 55.80\n"
     ]
    },
    {
     "name": "stderr",
     "output_type": "stream",
     "text": [
      "11it [00:06,  1.66it/s]\n",
      "100%|████████████████████████████████████████████████████████████| 1/1 [00:00<00:00,  2.21it/s]\n"
     ]
    },
    {
     "name": "stdout",
     "output_type": "stream",
     "text": [
      "Epoch: 6 | Training Loss: 0.5856258273124695  | Validation Loss: 0.7996549606323242  | Accuracy: 53.45\n"
     ]
    },
    {
     "name": "stderr",
     "output_type": "stream",
     "text": [
      "11it [00:07,  1.56it/s]\n",
      "100%|████████████████████████████████████████████████████████████| 1/1 [00:00<00:00,  2.29it/s]\n"
     ]
    },
    {
     "name": "stdout",
     "output_type": "stream",
     "text": [
      "Epoch: 7 | Training Loss: 0.5854524536566301  | Validation Loss: 0.6683051586151123  | Accuracy: 55.88\n"
     ]
    },
    {
     "name": "stderr",
     "output_type": "stream",
     "text": [
      "11it [00:06,  1.64it/s]\n",
      "100%|████████████████████████████████████████████████████████████| 1/1 [00:00<00:00,  2.25it/s]\n"
     ]
    },
    {
     "name": "stdout",
     "output_type": "stream",
     "text": [
      "Epoch: 8 | Training Loss: 0.5655064366080544  | Validation Loss: 1.0355571508407593  | Accuracy: 53.43\n"
     ]
    },
    {
     "name": "stderr",
     "output_type": "stream",
     "text": [
      "11it [00:06,  1.67it/s]\n",
      "100%|████████████████████████████████████████████████████████████| 1/1 [00:00<00:00,  2.27it/s]\n"
     ]
    },
    {
     "name": "stdout",
     "output_type": "stream",
     "text": [
      "Epoch: 9 | Training Loss: 0.6149677363308993  | Validation Loss: 1.744975209236145  | Accuracy: 46.95\n"
     ]
    },
    {
     "name": "stderr",
     "output_type": "stream",
     "text": [
      "11it [00:06,  1.64it/s]\n",
      "100%|████████████████████████████████████████████████████████████| 1/1 [00:00<00:00,  2.21it/s]\n"
     ]
    },
    {
     "name": "stdout",
     "output_type": "stream",
     "text": [
      "Epoch: 10 | Training Loss: 0.5766210610216315  | Validation Loss: 0.923036515712738  | Accuracy: 53.95\n"
     ]
    },
    {
     "name": "stderr",
     "output_type": "stream",
     "text": [
      "11it [00:06,  1.65it/s]\n",
      "100%|████████████████████████████████████████████████████████████| 1/1 [00:00<00:00,  2.25it/s]\n"
     ]
    },
    {
     "name": "stdout",
     "output_type": "stream",
     "text": [
      "Epoch: 11 | Training Loss: 0.5706719972870566  | Validation Loss: 1.3809654712677002  | Accuracy: 53.25\n"
     ]
    },
    {
     "name": "stderr",
     "output_type": "stream",
     "text": [
      "11it [00:06,  1.64it/s]\n",
      "100%|████████████████████████████████████████████████████████████| 1/1 [00:00<00:00,  2.22it/s]\n"
     ]
    },
    {
     "name": "stdout",
     "output_type": "stream",
     "text": [
      "Epoch: 12 | Training Loss: 0.5778169577771967  | Validation Loss: 0.7545304298400879  | Accuracy: 57.70\n"
     ]
    },
    {
     "name": "stderr",
     "output_type": "stream",
     "text": [
      "11it [00:06,  1.66it/s]\n",
      "100%|████████████████████████████████████████████████████████████| 1/1 [00:00<00:00,  2.27it/s]\n"
     ]
    },
    {
     "name": "stdout",
     "output_type": "stream",
     "text": [
      "Epoch: 13 | Training Loss: 0.6034289219162681  | Validation Loss: 2.1181273460388184  | Accuracy: 46.92\n"
     ]
    },
    {
     "name": "stderr",
     "output_type": "stream",
     "text": [
      "11it [00:06,  1.64it/s]\n",
      "100%|████████████████████████████████████████████████████████████| 1/1 [00:00<00:00,  2.13it/s]\n"
     ]
    },
    {
     "name": "stdout",
     "output_type": "stream",
     "text": [
      "Epoch: 14 | Training Loss: 0.5817983800714667  | Validation Loss: 1.7631585597991943  | Accuracy: 46.87\n"
     ]
    },
    {
     "name": "stderr",
     "output_type": "stream",
     "text": [
      "11it [00:06,  1.63it/s]\n",
      "100%|████████████████████████████████████████████████████████████| 1/1 [00:00<00:00,  2.22it/s]\n"
     ]
    },
    {
     "name": "stdout",
     "output_type": "stream",
     "text": [
      "Epoch: 15 | Training Loss: 0.5691630244255066  | Validation Loss: 0.7095564603805542  | Accuracy: 57.88\n"
     ]
    },
    {
     "name": "stderr",
     "output_type": "stream",
     "text": [
      "11it [00:06,  1.62it/s]\n",
      "100%|████████████████████████████████████████████████████████████| 1/1 [00:00<00:00,  2.22it/s]\n"
     ]
    },
    {
     "name": "stdout",
     "output_type": "stream",
     "text": [
      "Epoch: 16 | Training Loss: 0.5760271007364447  | Validation Loss: 1.096571683883667  | Accuracy: 53.27\n"
     ]
    },
    {
     "name": "stderr",
     "output_type": "stream",
     "text": [
      "11it [00:06,  1.61it/s]\n",
      "100%|████████████████████████████████████████████████████████████| 1/1 [00:00<00:00,  2.05it/s]\n"
     ]
    },
    {
     "name": "stdout",
     "output_type": "stream",
     "text": [
      "Epoch: 17 | Training Loss: 0.5660229596224698  | Validation Loss: 0.9122955799102783  | Accuracy: 53.63\n"
     ]
    },
    {
     "name": "stderr",
     "output_type": "stream",
     "text": [
      "11it [00:06,  1.62it/s]\n",
      "100%|████████████████████████████████████████████████████████████| 1/1 [00:00<00:00,  2.21it/s]\n"
     ]
    },
    {
     "name": "stdout",
     "output_type": "stream",
     "text": [
      "Epoch: 18 | Training Loss: 0.5606310096654025  | Validation Loss: 0.9836114645004272  | Accuracy: 53.37\n"
     ]
    },
    {
     "name": "stderr",
     "output_type": "stream",
     "text": [
      "11it [00:06,  1.63it/s]\n",
      "100%|████████████████████████████████████████████████████████████| 1/1 [00:00<00:00,  2.23it/s]\n"
     ]
    },
    {
     "name": "stdout",
     "output_type": "stream",
     "text": [
      "Epoch: 19 | Training Loss: 0.6060436964035034  | Validation Loss: 1.9177662134170532  | Accuracy: 46.95\n"
     ]
    },
    {
     "name": "stderr",
     "output_type": "stream",
     "text": [
      "11it [00:06,  1.59it/s]\n",
      "100%|████████████████████████████████████████████████████████████| 1/1 [00:00<00:00,  2.22it/s]\n"
     ]
    },
    {
     "name": "stdout",
     "output_type": "stream",
     "text": [
      "Epoch: 20 | Training Loss: 0.572332501411438  | Validation Loss: 0.6631885766983032  | Accuracy: 61.40\n"
     ]
    },
    {
     "name": "stderr",
     "output_type": "stream",
     "text": [
      "11it [00:07,  1.55it/s]\n",
      "100%|████████████████████████████████████████████████████████████| 1/1 [00:00<00:00,  2.17it/s]\n"
     ]
    },
    {
     "name": "stdout",
     "output_type": "stream",
     "text": [
      "Epoch: 21 | Training Loss: 0.5747203664346174  | Validation Loss: 0.8923668265342712  | Accuracy: 53.60\n"
     ]
    },
    {
     "name": "stderr",
     "output_type": "stream",
     "text": [
      "11it [00:06,  1.66it/s]\n",
      "100%|████████████████████████████████████████████████████████████| 1/1 [00:00<00:00,  2.22it/s]\n"
     ]
    },
    {
     "name": "stdout",
     "output_type": "stream",
     "text": [
      "Epoch: 22 | Training Loss: 0.556740858338096  | Validation Loss: 1.0994787216186523  | Accuracy: 53.25\n"
     ]
    },
    {
     "name": "stderr",
     "output_type": "stream",
     "text": [
      "11it [00:06,  1.61it/s]\n",
      "100%|████████████████████████████████████████████████████████████| 1/1 [00:00<00:00,  2.16it/s]\n"
     ]
    },
    {
     "name": "stdout",
     "output_type": "stream",
     "text": [
      "Epoch: 23 | Training Loss: 0.5753126848827709  | Validation Loss: 0.6933034062385559  | Accuracy: 64.92\n"
     ]
    },
    {
     "name": "stderr",
     "output_type": "stream",
     "text": [
      "11it [00:06,  1.73it/s]\n",
      "100%|████████████████████████████████████████████████████████████| 1/1 [00:00<00:00,  2.37it/s]\n"
     ]
    },
    {
     "name": "stdout",
     "output_type": "stream",
     "text": [
      "Epoch: 24 | Training Loss: 0.5881384611129761  | Validation Loss: 0.8289209604263306  | Accuracy: 51.47\n"
     ]
    },
    {
     "name": "stderr",
     "output_type": "stream",
     "text": [
      "11it [00:06,  1.67it/s]\n",
      "100%|████████████████████████████████████████████████████████████| 1/1 [00:00<00:00,  2.27it/s]\n"
     ]
    },
    {
     "name": "stdout",
     "output_type": "stream",
     "text": [
      "Epoch: 25 | Training Loss: 0.5646725622090426  | Validation Loss: 0.6206983923912048  | Accuracy: 66.35\n"
     ]
    },
    {
     "name": "stderr",
     "output_type": "stream",
     "text": [
      "11it [00:06,  1.63it/s]\n",
      "100%|████████████████████████████████████████████████████████████| 1/1 [00:00<00:00,  2.23it/s]\n"
     ]
    },
    {
     "name": "stdout",
     "output_type": "stream",
     "text": [
      "Epoch: 26 | Training Loss: 0.561344255100597  | Validation Loss: 1.2858177423477173  | Accuracy: 53.27\n"
     ]
    },
    {
     "name": "stderr",
     "output_type": "stream",
     "text": [
      "11it [00:06,  1.57it/s]\n",
      "100%|████████████████████████████████████████████████████████████| 1/1 [00:00<00:00,  2.16it/s]\n"
     ]
    },
    {
     "name": "stdout",
     "output_type": "stream",
     "text": [
      "Epoch: 27 | Training Loss: 0.5532565171068365  | Validation Loss: 1.284961223602295  | Accuracy: 53.27\n"
     ]
    },
    {
     "name": "stderr",
     "output_type": "stream",
     "text": [
      "11it [00:07,  1.51it/s]\n",
      "100%|████████████████████████████████████████████████████████████| 1/1 [00:00<00:00,  2.19it/s]\n"
     ]
    },
    {
     "name": "stdout",
     "output_type": "stream",
     "text": [
      "Epoch: 28 | Training Loss: 0.5783481164412065  | Validation Loss: 0.6971293091773987  | Accuracy: 56.15\n"
     ]
    },
    {
     "name": "stderr",
     "output_type": "stream",
     "text": [
      "11it [00:06,  1.60it/s]\n",
      "100%|████████████████████████████████████████████████████████████| 1/1 [00:00<00:00,  2.24it/s]\n"
     ]
    },
    {
     "name": "stdout",
     "output_type": "stream",
     "text": [
      "Epoch: 29 | Training Loss: 0.5693441412665627  | Validation Loss: 0.6108658909797668  | Accuracy: 67.35\n"
     ]
    },
    {
     "name": "stderr",
     "output_type": "stream",
     "text": [
      "11it [00:07,  1.54it/s]\n",
      "100%|████████████████████████████████████████████████████████████| 1/1 [00:00<00:00,  2.10it/s]\n"
     ]
    },
    {
     "name": "stdout",
     "output_type": "stream",
     "text": [
      "Epoch: 30 | Training Loss: 0.5537396127527411  | Validation Loss: 0.6763535737991333  | Accuracy: 60.82\n",
      "\n",
      "\n",
      "Training complete! Best accuracy: 67.35%.\n"
     ]
    },
    {
     "data": {
      "text/html": [
       "Waiting for W&B process to finish... <strong style=\"color:green\">(success).</strong>"
      ],
      "text/plain": [
       "<IPython.core.display.HTML object>"
      ]
     },
     "metadata": {},
     "output_type": "display_data"
    },
    {
     "data": {
      "application/vnd.jupyter.widget-view+json": {
       "model_id": "10eb6a9d361e4b218c09d5406bcadf2b",
       "version_major": 2,
       "version_minor": 0
      },
      "text/plain": [
       "VBox(children=(Label(value='0.001 MB of 0.001 MB uploaded (0.000 MB deduped)\\r'), FloatProgress(value=1.0, max…"
      ]
     },
     "metadata": {},
     "output_type": "display_data"
    },
    {
     "data": {
      "text/html": [
       "<style>\n",
       "    table.wandb td:nth-child(1) { padding: 0 10px; text-align: left ; width: auto;} td:nth-child(2) {text-align: left ; width: 100%}\n",
       "    .wandb-row { display: flex; flex-direction: row; flex-wrap: wrap; justify-content: flex-start; width: 100% }\n",
       "    .wandb-col { display: flex; flex-direction: column; flex-basis: 100%; flex: 1; padding: 10px; }\n",
       "    </style>\n",
       "<div class=\"wandb-row\"><div class=\"wandb-col\"><h3>Run history:</h3><br/><table class=\"wandb\"><tr><td>epoch</td><td>▁▁▁▂▂▂▂▃▃▃▃▄▄▄▄▅▅▅▅▆▆▆▆▇▇▇▇███</td></tr><tr><td>train_loss</td><td>█▆▅▃▄▃▃▂▄▂▂▂▄▂▂▂▂▁▄▂▂▁▂▃▂▁▁▂▂▁</td></tr><tr><td>val_accuracy</td><td>▁</td></tr><tr><td>val_loss</td><td>▁▂▁▁▁▂▁▃▆▂▅▂█▆▁▃▂▃▇▁▂▃▁▂▁▄▄▁▁▁</td></tr></table><br/></div><div class=\"wandb-col\"><h3>Run summary:</h3><br/><table class=\"wandb\"><tr><td>epoch</td><td>30</td></tr><tr><td>train_loss</td><td>0.55374</td></tr><tr><td>val_accuracy</td><td>67.35</td></tr><tr><td>val_loss</td><td>0.67635</td></tr></table><br/></div></div>"
      ],
      "text/plain": [
       "<IPython.core.display.HTML object>"
      ]
     },
     "metadata": {},
     "output_type": "display_data"
    },
    {
     "data": {
      "text/html": [
       "Synced <strong style=\"color:#cdcd00\">mild-sweep-12</strong>: <a href=\"https://wandb.ai/danish2562022/PI__prediction_fc__hyperparameter_tuning_cls_vector/runs/h80bsxrn\" target=\"_blank\">https://wandb.ai/danish2562022/PI__prediction_fc__hyperparameter_tuning_cls_vector/runs/h80bsxrn</a><br/>Synced 6 W&B file(s), 0 media file(s), 0 artifact file(s) and 0 other file(s)"
      ],
      "text/plain": [
       "<IPython.core.display.HTML object>"
      ]
     },
     "metadata": {},
     "output_type": "display_data"
    },
    {
     "data": {
      "text/html": [
       "Find logs at: <code>./wandb/run-20221129_085558-h80bsxrn/logs</code>"
      ],
      "text/plain": [
       "<IPython.core.display.HTML object>"
      ]
     },
     "metadata": {},
     "output_type": "display_data"
    },
    {
     "name": "stderr",
     "output_type": "stream",
     "text": [
      "\u001b[34m\u001b[1mwandb\u001b[0m: Agent Starting Run: m2jyocwr with config:\n",
      "\u001b[34m\u001b[1mwandb\u001b[0m: \tamsgrad: False\n",
      "\u001b[34m\u001b[1mwandb\u001b[0m: \tdim_1: 4048\n",
      "\u001b[34m\u001b[1mwandb\u001b[0m: \tdim_2: 256\n",
      "\u001b[34m\u001b[1mwandb\u001b[0m: \tdropout: False\n",
      "\u001b[34m\u001b[1mwandb\u001b[0m: \tepochs: 30\n",
      "\u001b[34m\u001b[1mwandb\u001b[0m: \tlayer_fc_1: 1\n",
      "\u001b[34m\u001b[1mwandb\u001b[0m: \tlayer_fc_2: 1\n",
      "\u001b[34m\u001b[1mwandb\u001b[0m: \tlearning_rate: 0.0033294074736214046\n",
      "\u001b[34m\u001b[1mwandb\u001b[0m: \tmomentum: 0.95\n",
      "\u001b[34m\u001b[1mwandb\u001b[0m: \toptimizer: adam\n",
      "\u001b[34m\u001b[1mwandb\u001b[0m: \tweight_decay: 0.008568365119476016\n",
      "Failed to detect the name of this notebook, you can set it manually with the WANDB_NOTEBOOK_NAME environment variable to enable code saving.\n"
     ]
    },
    {
     "data": {
      "text/html": [
       "wandb version 0.13.5 is available!  To upgrade, please run:\n",
       " $ pip install wandb --upgrade"
      ],
      "text/plain": [
       "<IPython.core.display.HTML object>"
      ]
     },
     "metadata": {},
     "output_type": "display_data"
    },
    {
     "data": {
      "text/html": [
       "Tracking run with wandb version 0.13.4"
      ],
      "text/plain": [
       "<IPython.core.display.HTML object>"
      ]
     },
     "metadata": {},
     "output_type": "display_data"
    },
    {
     "data": {
      "text/html": [
       "Run data is saved locally in <code>/home/anwer/Desktop/PPI_prediction/model_training_py/models/wandb/run-20221129_090000-m2jyocwr</code>"
      ],
      "text/plain": [
       "<IPython.core.display.HTML object>"
      ]
     },
     "metadata": {},
     "output_type": "display_data"
    },
    {
     "data": {
      "text/html": [
       "Syncing run <strong><a href=\"https://wandb.ai/danish2562022/PI__prediction_fc__hyperparameter_tuning_cls_vector/runs/m2jyocwr\" target=\"_blank\">decent-sweep-13</a></strong> to <a href=\"https://wandb.ai/danish2562022/PI__prediction_fc__hyperparameter_tuning_cls_vector\" target=\"_blank\">Weights & Biases</a> (<a href=\"https://wandb.me/run\" target=\"_blank\">docs</a>)<br/>Sweep page:  <a href=\"https://wandb.ai/danish2562022/PI__prediction_fc__hyperparameter_tuning_cls_vector/sweeps/gyyc8zyb\" target=\"_blank\">https://wandb.ai/danish2562022/PI__prediction_fc__hyperparameter_tuning_cls_vector/sweeps/gyyc8zyb</a>"
      ],
      "text/plain": [
       "<IPython.core.display.HTML object>"
      ]
     },
     "metadata": {},
     "output_type": "display_data"
    },
    {
     "name": "stdout",
     "output_type": "stream",
     "text": [
      "Start training...\n",
      "\n"
     ]
    },
    {
     "name": "stderr",
     "output_type": "stream",
     "text": [
      "11it [00:05,  1.88it/s]\n",
      "100%|████████████████████████████████████████████████████████████| 1/1 [00:00<00:00,  2.42it/s]\n"
     ]
    },
    {
     "name": "stdout",
     "output_type": "stream",
     "text": [
      "Epoch: 1 | Training Loss: 0.7121147134087302  | Validation Loss: 0.6969013810157776  | Accuracy: 53.25\n"
     ]
    },
    {
     "name": "stderr",
     "output_type": "stream",
     "text": [
      "11it [00:06,  1.68it/s]\n",
      "100%|████████████████████████████████████████████████████████████| 1/1 [00:00<00:00,  2.27it/s]\n"
     ]
    },
    {
     "name": "stdout",
     "output_type": "stream",
     "text": [
      "Epoch: 2 | Training Loss: 0.7040835402228616  | Validation Loss: 0.6937180757522583  | Accuracy: 53.25\n"
     ]
    },
    {
     "name": "stderr",
     "output_type": "stream",
     "text": [
      "11it [00:06,  1.66it/s]\n",
      "100%|████████████████████████████████████████████████████████████| 1/1 [00:00<00:00,  2.21it/s]\n"
     ]
    },
    {
     "name": "stdout",
     "output_type": "stream",
     "text": [
      "Epoch: 3 | Training Loss: 0.7016511234370145  | Validation Loss: 0.692564845085144  | Accuracy: 53.25\n"
     ]
    },
    {
     "name": "stderr",
     "output_type": "stream",
     "text": [
      "11it [00:07,  1.54it/s]\n",
      "100%|████████████████████████████████████████████████████████████| 1/1 [00:00<00:00,  2.13it/s]\n"
     ]
    },
    {
     "name": "stdout",
     "output_type": "stream",
     "text": [
      "Epoch: 4 | Training Loss: 0.6995783394033258  | Validation Loss: 0.6918237805366516  | Accuracy: 53.25\n"
     ]
    },
    {
     "name": "stderr",
     "output_type": "stream",
     "text": [
      "11it [00:07,  1.47it/s]\n",
      "100%|████████████████████████████████████████████████████████████| 1/1 [00:00<00:00,  2.46it/s]\n"
     ]
    },
    {
     "name": "stdout",
     "output_type": "stream",
     "text": [
      "Epoch: 5 | Training Loss: 0.6980293501507152  | Validation Loss: 0.6913666725158691  | Accuracy: 53.25\n"
     ]
    },
    {
     "name": "stderr",
     "output_type": "stream",
     "text": [
      "11it [00:07,  1.51it/s]\n",
      "100%|████████████████████████████████████████████████████████████| 1/1 [00:00<00:00,  2.05it/s]\n"
     ]
    },
    {
     "name": "stdout",
     "output_type": "stream",
     "text": [
      "Epoch: 6 | Training Loss: 0.6968029087240045  | Validation Loss: 0.6911168694496155  | Accuracy: 53.25\n"
     ]
    },
    {
     "name": "stderr",
     "output_type": "stream",
     "text": [
      "11it [00:07,  1.49it/s]\n",
      "100%|████████████████████████████████████████████████████████████| 1/1 [00:00<00:00,  2.00it/s]\n"
     ]
    },
    {
     "name": "stdout",
     "output_type": "stream",
     "text": [
      "Epoch: 7 | Training Loss: 0.6957860480655323  | Validation Loss: 0.6910340785980225  | Accuracy: 53.25\n"
     ]
    },
    {
     "name": "stderr",
     "output_type": "stream",
     "text": [
      "11it [00:07,  1.48it/s]\n",
      "100%|████████████████████████████████████████████████████████████| 1/1 [00:00<00:00,  2.01it/s]\n"
     ]
    },
    {
     "name": "stdout",
     "output_type": "stream",
     "text": [
      "Epoch: 8 | Training Loss: 0.69505605914376  | Validation Loss: 0.6910763382911682  | Accuracy: 53.25\n"
     ]
    },
    {
     "name": "stderr",
     "output_type": "stream",
     "text": [
      "11it [00:07,  1.48it/s]\n",
      "100%|████████████████████████████████████████████████████████████| 1/1 [00:00<00:00,  2.13it/s]\n"
     ]
    },
    {
     "name": "stdout",
     "output_type": "stream",
     "text": [
      "Epoch: 9 | Training Loss: 0.6945028792728077  | Validation Loss: 0.6912088394165039  | Accuracy: 53.25\n"
     ]
    },
    {
     "name": "stderr",
     "output_type": "stream",
     "text": [
      "11it [00:07,  1.46it/s]\n",
      "100%|████████████████████████████████████████████████████████████| 1/1 [00:00<00:00,  2.03it/s]\n"
     ]
    },
    {
     "name": "stdout",
     "output_type": "stream",
     "text": [
      "Epoch: 10 | Training Loss: 0.6940630674362183  | Validation Loss: 0.6914116144180298  | Accuracy: 53.25\n"
     ]
    },
    {
     "name": "stderr",
     "output_type": "stream",
     "text": [
      "11it [00:07,  1.51it/s]\n",
      "100%|████████████████████████████████████████████████████████████| 1/1 [00:00<00:00,  1.95it/s]\n"
     ]
    },
    {
     "name": "stdout",
     "output_type": "stream",
     "text": [
      "Epoch: 11 | Training Loss: 0.6937253691933372  | Validation Loss: 0.6916822791099548  | Accuracy: 53.25\n"
     ]
    },
    {
     "name": "stderr",
     "output_type": "stream",
     "text": [
      "11it [00:07,  1.47it/s]\n",
      "100%|████████████████████████████████████████████████████████████| 1/1 [00:00<00:00,  2.11it/s]\n"
     ]
    },
    {
     "name": "stdout",
     "output_type": "stream",
     "text": [
      "Epoch: 12 | Training Loss: 0.6934713287787004  | Validation Loss: 0.692003071308136  | Accuracy: 53.25\n"
     ]
    },
    {
     "name": "stderr",
     "output_type": "stream",
     "text": [
      "11it [00:07,  1.51it/s]\n",
      "100%|████████████████████████████████████████████████████████████| 1/1 [00:00<00:00,  1.98it/s]\n"
     ]
    },
    {
     "name": "stdout",
     "output_type": "stream",
     "text": [
      "Epoch: 13 | Training Loss: 0.6933058987964283  | Validation Loss: 0.6923285126686096  | Accuracy: 53.25\n"
     ]
    },
    {
     "name": "stderr",
     "output_type": "stream",
     "text": [
      "11it [00:07,  1.50it/s]\n",
      "100%|████████████████████████████████████████████████████████████| 1/1 [00:00<00:00,  2.09it/s]\n"
     ]
    },
    {
     "name": "stdout",
     "output_type": "stream",
     "text": [
      "Epoch: 14 | Training Loss: 0.6932311112230475  | Validation Loss: 0.692466139793396  | Accuracy: 53.25\n"
     ]
    },
    {
     "name": "stderr",
     "output_type": "stream",
     "text": [
      "11it [00:07,  1.54it/s]\n",
      "100%|████████████████████████████████████████████████████████████| 1/1 [00:00<00:00,  2.09it/s]\n"
     ]
    },
    {
     "name": "stdout",
     "output_type": "stream",
     "text": [
      "Epoch: 15 | Training Loss: 0.6932094964114103  | Validation Loss: 0.6925073266029358  | Accuracy: 53.25\n"
     ]
    },
    {
     "name": "stderr",
     "output_type": "stream",
     "text": [
      "11it [00:07,  1.47it/s]\n",
      "100%|████████████████████████████████████████████████████████████| 1/1 [00:00<00:00,  2.04it/s]\n"
     ]
    },
    {
     "name": "stdout",
     "output_type": "stream",
     "text": [
      "Epoch: 16 | Training Loss: 0.6932068792256442  | Validation Loss: 0.6925472021102905  | Accuracy: 53.25\n"
     ]
    },
    {
     "name": "stderr",
     "output_type": "stream",
     "text": [
      "11it [00:07,  1.50it/s]\n",
      "100%|████████████████████████████████████████████████████████████| 1/1 [00:00<00:00,  1.99it/s]\n"
     ]
    },
    {
     "name": "stdout",
     "output_type": "stream",
     "text": [
      "Epoch: 17 | Training Loss: 0.6931923736225475  | Validation Loss: 0.6926202178001404  | Accuracy: 53.25\n"
     ]
    },
    {
     "name": "stderr",
     "output_type": "stream",
     "text": [
      "11it [00:06,  1.58it/s]\n",
      "100%|████████████████████████████████████████████████████████████| 1/1 [00:01<00:00,  1.17s/it]\n"
     ]
    },
    {
     "name": "stdout",
     "output_type": "stream",
     "text": [
      "Epoch: 18 | Training Loss: 0.6931825659491799  | Validation Loss: 0.6926990747451782  | Accuracy: 53.25\n"
     ]
    },
    {
     "name": "stderr",
     "output_type": "stream",
     "text": [
      "11it [00:23,  2.14s/it]\n",
      "100%|████████████████████████████████████████████████████████████| 1/1 [00:01<00:00,  1.71s/it]\n"
     ]
    },
    {
     "name": "stdout",
     "output_type": "stream",
     "text": [
      "Epoch: 19 | Training Loss: 0.6931712139736522  | Validation Loss: 0.692798912525177  | Accuracy: 53.25\n"
     ]
    },
    {
     "name": "stderr",
     "output_type": "stream",
     "text": [
      "11it [00:23,  2.17s/it]\n",
      "100%|████████████████████████████████████████████████████████████| 1/1 [00:01<00:00,  1.47s/it]\n"
     ]
    },
    {
     "name": "stdout",
     "output_type": "stream",
     "text": [
      "Epoch: 20 | Training Loss: 0.6931605013934049  | Validation Loss: 0.6928784847259521  | Accuracy: 53.25\n"
     ]
    },
    {
     "name": "stderr",
     "output_type": "stream",
     "text": [
      "11it [00:23,  2.12s/it]\n",
      "100%|████████████████████████████████████████████████████████████| 1/1 [00:01<00:00,  1.65s/it]\n"
     ]
    },
    {
     "name": "stdout",
     "output_type": "stream",
     "text": [
      "Epoch: 21 | Training Loss: 0.6931553212079135  | Validation Loss: 0.6929517984390259  | Accuracy: 53.25\n"
     ]
    },
    {
     "name": "stderr",
     "output_type": "stream",
     "text": [
      "11it [00:24,  2.20s/it]\n",
      "100%|████████████████████████████████████████████████████████████| 1/1 [00:01<00:00,  1.72s/it]\n"
     ]
    },
    {
     "name": "stdout",
     "output_type": "stream",
     "text": [
      "Epoch: 22 | Training Loss: 0.6931509483944286  | Validation Loss: 0.6929996609687805  | Accuracy: 53.25\n"
     ]
    },
    {
     "name": "stderr",
     "output_type": "stream",
     "text": [
      "11it [00:23,  2.18s/it]\n",
      "100%|████████████████████████████████████████████████████████████| 1/1 [00:01<00:00,  1.73s/it]\n"
     ]
    },
    {
     "name": "stdout",
     "output_type": "stream",
     "text": [
      "Epoch: 23 | Training Loss: 0.6931491277434609  | Validation Loss: 0.6930511593818665  | Accuracy: 53.25\n"
     ]
    },
    {
     "name": "stderr",
     "output_type": "stream",
     "text": [
      "11it [00:22,  2.08s/it]\n",
      "100%|████████████████████████████████████████████████████████████| 1/1 [00:01<00:00,  1.44s/it]\n"
     ]
    },
    {
     "name": "stdout",
     "output_type": "stream",
     "text": [
      "Epoch: 24 | Training Loss: 0.6931483420458707  | Validation Loss: 0.6930843591690063  | Accuracy: 53.25\n"
     ]
    },
    {
     "name": "stderr",
     "output_type": "stream",
     "text": [
      "11it [00:24,  2.24s/it]\n",
      "100%|████████████████████████████████████████████████████████████| 1/1 [00:01<00:00,  1.41s/it]\n"
     ]
    },
    {
     "name": "stdout",
     "output_type": "stream",
     "text": [
      "Epoch: 25 | Training Loss: 0.6931480873714794  | Validation Loss: 0.6931105256080627  | Accuracy: 53.25\n"
     ]
    },
    {
     "name": "stderr",
     "output_type": "stream",
     "text": [
      "11it [00:24,  2.26s/it]\n",
      "100%|████████████████████████████████████████████████████████████| 1/1 [00:01<00:00,  1.44s/it]\n"
     ]
    },
    {
     "name": "stdout",
     "output_type": "stream",
     "text": [
      "Epoch: 26 | Training Loss: 0.693147518418052  | Validation Loss: 0.6931201219558716  | Accuracy: 53.25\n"
     ]
    },
    {
     "name": "stderr",
     "output_type": "stream",
     "text": [
      "11it [00:24,  2.23s/it]\n",
      "100%|████████████████████████████████████████████████████████████| 1/1 [00:01<00:00,  1.74s/it]\n"
     ]
    },
    {
     "name": "stdout",
     "output_type": "stream",
     "text": [
      "Epoch: 27 | Training Loss: 0.6931474588134072  | Validation Loss: 0.6931263208389282  | Accuracy: 53.25\n"
     ]
    },
    {
     "name": "stderr",
     "output_type": "stream",
     "text": [
      "11it [00:24,  2.20s/it]\n",
      "100%|████████████████████████████████████████████████████████████| 1/1 [00:01<00:00,  1.72s/it]\n"
     ]
    },
    {
     "name": "stdout",
     "output_type": "stream",
     "text": [
      "Epoch: 28 | Training Loss: 0.6931473396041177  | Validation Loss: 0.6931479573249817  | Accuracy: 46.75\n"
     ]
    },
    {
     "name": "stderr",
     "output_type": "stream",
     "text": [
      "11it [00:24,  2.21s/it]\n",
      "100%|████████████████████████████████████████████████████████████| 1/1 [00:01<00:00,  1.44s/it]\n"
     ]
    },
    {
     "name": "stdout",
     "output_type": "stream",
     "text": [
      "Epoch: 29 | Training Loss: 0.6931471553715792  | Validation Loss: 0.6931547522544861  | Accuracy: 46.75\n"
     ]
    },
    {
     "name": "stderr",
     "output_type": "stream",
     "text": [
      "11it [00:24,  2.23s/it]\n",
      "100%|████████████████████████████████████████████████████████████| 1/1 [00:01<00:00,  1.69s/it]\n"
     ]
    },
    {
     "name": "stdout",
     "output_type": "stream",
     "text": [
      "Epoch: 30 | Training Loss: 0.6931472203948281  | Validation Loss: 0.6931667923927307  | Accuracy: 46.75\n",
      "\n",
      "\n",
      "Training complete! Best accuracy: 53.25%.\n"
     ]
    },
    {
     "data": {
      "text/html": [
       "Waiting for W&B process to finish... <strong style=\"color:green\">(success).</strong>"
      ],
      "text/plain": [
       "<IPython.core.display.HTML object>"
      ]
     },
     "metadata": {},
     "output_type": "display_data"
    },
    {
     "data": {
      "application/vnd.jupyter.widget-view+json": {
       "model_id": "ff3e39c695054258992c74673876ea08",
       "version_major": 2,
       "version_minor": 0
      },
      "text/plain": [
       "VBox(children=(Label(value='0.001 MB of 0.025 MB uploaded (0.000 MB deduped)\\r'), FloatProgress(value=0.029007…"
      ]
     },
     "metadata": {},
     "output_type": "display_data"
    },
    {
     "data": {
      "text/html": [
       "<style>\n",
       "    table.wandb td:nth-child(1) { padding: 0 10px; text-align: left ; width: auto;} td:nth-child(2) {text-align: left ; width: 100%}\n",
       "    .wandb-row { display: flex; flex-direction: row; flex-wrap: wrap; justify-content: flex-start; width: 100% }\n",
       "    .wandb-col { display: flex; flex-direction: column; flex-basis: 100%; flex: 1; padding: 10px; }\n",
       "    </style>\n",
       "<div class=\"wandb-row\"><div class=\"wandb-col\"><h3>Run history:</h3><br/><table class=\"wandb\"><tr><td>epoch</td><td>▁▁▁▂▂▂▂▃▃▃▃▄▄▄▄▅▅▅▅▆▆▆▆▇▇▇▇███</td></tr><tr><td>train_loss</td><td>█▅▄▃▃▂▂▂▂▁▁▁▁▁▁▁▁▁▁▁▁▁▁▁▁▁▁▁▁▁</td></tr><tr><td>val_accuracy</td><td>▁</td></tr><tr><td>val_loss</td><td>█▄▃▂▁▁▁▁▁▁▂▂▃▃▃▃▃▃▃▃▃▃▃▃▃▃▃▄▄▄</td></tr></table><br/></div><div class=\"wandb-col\"><h3>Run summary:</h3><br/><table class=\"wandb\"><tr><td>epoch</td><td>30</td></tr><tr><td>train_loss</td><td>0.69315</td></tr><tr><td>val_accuracy</td><td>53.25</td></tr><tr><td>val_loss</td><td>0.69317</td></tr></table><br/></div></div>"
      ],
      "text/plain": [
       "<IPython.core.display.HTML object>"
      ]
     },
     "metadata": {},
     "output_type": "display_data"
    },
    {
     "data": {
      "text/html": [
       "Synced <strong style=\"color:#cdcd00\">decent-sweep-13</strong>: <a href=\"https://wandb.ai/danish2562022/PI__prediction_fc__hyperparameter_tuning_cls_vector/runs/m2jyocwr\" target=\"_blank\">https://wandb.ai/danish2562022/PI__prediction_fc__hyperparameter_tuning_cls_vector/runs/m2jyocwr</a><br/>Synced 6 W&B file(s), 0 media file(s), 0 artifact file(s) and 0 other file(s)"
      ],
      "text/plain": [
       "<IPython.core.display.HTML object>"
      ]
     },
     "metadata": {},
     "output_type": "display_data"
    },
    {
     "data": {
      "text/html": [
       "Find logs at: <code>./wandb/run-20221129_090000-m2jyocwr/logs</code>"
      ],
      "text/plain": [
       "<IPython.core.display.HTML object>"
      ]
     },
     "metadata": {},
     "output_type": "display_data"
    },
    {
     "name": "stderr",
     "output_type": "stream",
     "text": [
      "\u001b[34m\u001b[1mwandb\u001b[0m: Agent Starting Run: 2dszxem7 with config:\n",
      "\u001b[34m\u001b[1mwandb\u001b[0m: \tamsgrad: False\n",
      "\u001b[34m\u001b[1mwandb\u001b[0m: \tdim_1: 4048\n",
      "\u001b[34m\u001b[1mwandb\u001b[0m: \tdim_2: 256\n",
      "\u001b[34m\u001b[1mwandb\u001b[0m: \tdropout: False\n",
      "\u001b[34m\u001b[1mwandb\u001b[0m: \tepochs: 30\n",
      "\u001b[34m\u001b[1mwandb\u001b[0m: \tlayer_fc_1: 1\n",
      "\u001b[34m\u001b[1mwandb\u001b[0m: \tlayer_fc_2: 2\n",
      "\u001b[34m\u001b[1mwandb\u001b[0m: \tlearning_rate: 0.0046568072509437395\n",
      "\u001b[34m\u001b[1mwandb\u001b[0m: \tmomentum: 0.85\n",
      "\u001b[34m\u001b[1mwandb\u001b[0m: \toptimizer: adam\n",
      "\u001b[34m\u001b[1mwandb\u001b[0m: \tweight_decay: 0.0034254803909493747\n",
      "Failed to detect the name of this notebook, you can set it manually with the WANDB_NOTEBOOK_NAME environment variable to enable code saving.\n"
     ]
    },
    {
     "data": {
      "text/html": [
       "wandb version 0.13.5 is available!  To upgrade, please run:\n",
       " $ pip install wandb --upgrade"
      ],
      "text/plain": [
       "<IPython.core.display.HTML object>"
      ]
     },
     "metadata": {},
     "output_type": "display_data"
    },
    {
     "data": {
      "text/html": [
       "Tracking run with wandb version 0.13.4"
      ],
      "text/plain": [
       "<IPython.core.display.HTML object>"
      ]
     },
     "metadata": {},
     "output_type": "display_data"
    },
    {
     "data": {
      "text/html": [
       "Run data is saved locally in <code>/home/anwer/Desktop/PPI_prediction/model_training_py/models/wandb/run-20221129_090744-2dszxem7</code>"
      ],
      "text/plain": [
       "<IPython.core.display.HTML object>"
      ]
     },
     "metadata": {},
     "output_type": "display_data"
    },
    {
     "data": {
      "text/html": [
       "Syncing run <strong><a href=\"https://wandb.ai/danish2562022/PI__prediction_fc__hyperparameter_tuning_cls_vector/runs/2dszxem7\" target=\"_blank\">atomic-sweep-14</a></strong> to <a href=\"https://wandb.ai/danish2562022/PI__prediction_fc__hyperparameter_tuning_cls_vector\" target=\"_blank\">Weights & Biases</a> (<a href=\"https://wandb.me/run\" target=\"_blank\">docs</a>)<br/>Sweep page:  <a href=\"https://wandb.ai/danish2562022/PI__prediction_fc__hyperparameter_tuning_cls_vector/sweeps/gyyc8zyb\" target=\"_blank\">https://wandb.ai/danish2562022/PI__prediction_fc__hyperparameter_tuning_cls_vector/sweeps/gyyc8zyb</a>"
      ],
      "text/plain": [
       "<IPython.core.display.HTML object>"
      ]
     },
     "metadata": {},
     "output_type": "display_data"
    },
    {
     "name": "stdout",
     "output_type": "stream",
     "text": [
      "Start training...\n",
      "\n"
     ]
    },
    {
     "name": "stderr",
     "output_type": "stream",
     "text": [
      "11it [00:23,  2.15s/it]\n",
      "100%|████████████████████████████████████████████████████████████| 1/1 [00:01<00:00,  1.72s/it]\n"
     ]
    },
    {
     "name": "stdout",
     "output_type": "stream",
     "text": [
      "Epoch: 1 | Training Loss: 0.6929251605814154  | Validation Loss: 0.6927891373634338  | Accuracy: 53.25\n"
     ]
    },
    {
     "name": "stderr",
     "output_type": "stream",
     "text": [
      "11it [00:24,  2.24s/it]\n",
      "100%|████████████████████████████████████████████████████████████| 1/1 [00:01<00:00,  1.73s/it]\n"
     ]
    },
    {
     "name": "stdout",
     "output_type": "stream",
     "text": [
      "Epoch: 2 | Training Loss: 0.6931532296267423  | Validation Loss: 0.6931689381599426  | Accuracy: 46.75\n"
     ]
    },
    {
     "name": "stderr",
     "output_type": "stream",
     "text": [
      "11it [00:24,  2.19s/it]\n",
      "100%|████████████████████████████████████████████████████████████| 1/1 [00:01<00:00,  1.75s/it]\n"
     ]
    },
    {
     "name": "stdout",
     "output_type": "stream",
     "text": [
      "Epoch: 3 | Training Loss: 0.6931489326737144  | Validation Loss: 0.6932600736618042  | Accuracy: 46.75\n"
     ]
    },
    {
     "name": "stderr",
     "output_type": "stream",
     "text": [
      "11it [00:24,  2.20s/it]\n",
      "100%|████████████████████████████████████████████████████████████| 1/1 [00:01<00:00,  1.46s/it]\n"
     ]
    },
    {
     "name": "stdout",
     "output_type": "stream",
     "text": [
      "Epoch: 4 | Training Loss: 0.6931503523479808  | Validation Loss: 0.6930912733078003  | Accuracy: 53.25\n"
     ]
    },
    {
     "name": "stderr",
     "output_type": "stream",
     "text": [
      "11it [00:24,  2.25s/it]\n",
      "100%|████████████████████████████████████████████████████████████| 1/1 [00:01<00:00,  1.78s/it]\n"
     ]
    },
    {
     "name": "stdout",
     "output_type": "stream",
     "text": [
      "Epoch: 5 | Training Loss: 0.6931484991853888  | Validation Loss: 0.6931300163269043  | Accuracy: 53.25\n"
     ]
    },
    {
     "name": "stderr",
     "output_type": "stream",
     "text": [
      "11it [00:22,  2.05s/it]\n",
      "100%|████████████████████████████████████████████████████████████| 1/1 [00:01<00:00,  1.46s/it]\n"
     ]
    },
    {
     "name": "stdout",
     "output_type": "stream",
     "text": [
      "Epoch: 6 | Training Loss: 0.6931486346504905  | Validation Loss: 0.6931248307228088  | Accuracy: 53.25\n"
     ]
    },
    {
     "name": "stderr",
     "output_type": "stream",
     "text": [
      "11it [00:24,  2.18s/it]\n",
      "100%|████████████████████████████████████████████████████████████| 1/1 [00:01<00:00,  1.49s/it]\n"
     ]
    },
    {
     "name": "stdout",
     "output_type": "stream",
     "text": [
      "Epoch: 7 | Training Loss: 0.693148363720287  | Validation Loss: 0.6931822896003723  | Accuracy: 46.75\n"
     ]
    },
    {
     "name": "stderr",
     "output_type": "stream",
     "text": [
      "11it [00:24,  2.21s/it]\n",
      "100%|████████████████████████████████████████████████████████████| 1/1 [00:01<00:00,  1.73s/it]\n"
     ]
    },
    {
     "name": "stdout",
     "output_type": "stream",
     "text": [
      "Epoch: 8 | Training Loss: 0.6931492361155424  | Validation Loss: 0.6931025385856628  | Accuracy: 53.25\n"
     ]
    },
    {
     "name": "stderr",
     "output_type": "stream",
     "text": [
      "11it [00:25,  2.28s/it]\n",
      "100%|████████████████████████████████████████████████████████████| 1/1 [00:01<00:00,  1.48s/it]\n"
     ]
    },
    {
     "name": "stdout",
     "output_type": "stream",
     "text": [
      "Epoch: 9 | Training Loss: 0.6931495016271417  | Validation Loss: 0.6931655406951904  | Accuracy: 46.75\n"
     ]
    },
    {
     "name": "stderr",
     "output_type": "stream",
     "text": [
      "11it [00:24,  2.27s/it]\n",
      "100%|████████████████████████████████████████████████████████████| 1/1 [00:01<00:00,  1.78s/it]\n"
     ]
    },
    {
     "name": "stdout",
     "output_type": "stream",
     "text": [
      "Epoch: 10 | Training Loss: 0.6931471499529752  | Validation Loss: 0.6933212280273438  | Accuracy: 46.75\n"
     ]
    },
    {
     "name": "stderr",
     "output_type": "stream",
     "text": [
      "11it [00:24,  2.21s/it]\n",
      "100%|████████████████████████████████████████████████████████████| 1/1 [00:01<00:00,  1.47s/it]\n"
     ]
    },
    {
     "name": "stdout",
     "output_type": "stream",
     "text": [
      "Epoch: 11 | Training Loss: 0.6931491548364813  | Validation Loss: 0.6931756138801575  | Accuracy: 46.75\n"
     ]
    },
    {
     "name": "stderr",
     "output_type": "stream",
     "text": [
      "11it [00:25,  2.33s/it]\n",
      "100%|████████████████████████████████████████████████████████████| 1/1 [00:01<00:00,  1.46s/it]\n"
     ]
    },
    {
     "name": "stdout",
     "output_type": "stream",
     "text": [
      "Epoch: 12 | Training Loss: 0.693153283812783  | Validation Loss: 0.6931174397468567  | Accuracy: 53.25\n"
     ]
    },
    {
     "name": "stderr",
     "output_type": "stream",
     "text": [
      "11it [00:24,  2.26s/it]\n",
      "100%|████████████████████████████████████████████████████████████| 1/1 [00:01<00:00,  1.75s/it]\n"
     ]
    },
    {
     "name": "stdout",
     "output_type": "stream",
     "text": [
      "Epoch: 13 | Training Loss: 0.6931484233249318  | Validation Loss: 0.6931915879249573  | Accuracy: 46.75\n"
     ]
    },
    {
     "name": "stderr",
     "output_type": "stream",
     "text": [
      "11it [00:24,  2.24s/it]\n",
      "100%|████████████████████████████████████████████████████████████| 1/1 [00:01<00:00,  1.80s/it]\n"
     ]
    },
    {
     "name": "stdout",
     "output_type": "stream",
     "text": [
      "Epoch: 14 | Training Loss: 0.6931527582081881  | Validation Loss: 0.6931970715522766  | Accuracy: 46.75\n"
     ]
    },
    {
     "name": "stderr",
     "output_type": "stream",
     "text": [
      "11it [00:24,  2.23s/it]\n",
      "100%|████████████████████████████████████████████████████████████| 1/1 [00:01<00:00,  1.44s/it]\n"
     ]
    },
    {
     "name": "stdout",
     "output_type": "stream",
     "text": [
      "Epoch: 15 | Training Loss: 0.6931489164179022  | Validation Loss: 0.6931813359260559  | Accuracy: 46.75\n"
     ]
    },
    {
     "name": "stderr",
     "output_type": "stream",
     "text": [
      "11it [00:23,  2.11s/it]\n",
      "100%|████████████████████████████████████████████████████████████| 1/1 [00:01<00:00,  1.71s/it]\n"
     ]
    },
    {
     "name": "stdout",
     "output_type": "stream",
     "text": [
      "Epoch: 16 | Training Loss: 0.6931492036039179  | Validation Loss: 0.6931384801864624  | Accuracy: 53.25\n"
     ]
    },
    {
     "name": "stderr",
     "output_type": "stream",
     "text": [
      "11it [00:23,  2.17s/it]\n",
      "100%|████████████████████████████████████████████████████████████| 1/1 [00:01<00:00,  1.72s/it]\n"
     ]
    },
    {
     "name": "stdout",
     "output_type": "stream",
     "text": [
      "Epoch: 17 | Training Loss: 0.6931483853947032  | Validation Loss: 0.6932061910629272  | Accuracy: 46.75\n"
     ]
    },
    {
     "name": "stderr",
     "output_type": "stream",
     "text": [
      "11it [00:24,  2.27s/it]\n",
      "100%|████████████████████████████████████████████████████████████| 1/1 [00:01<00:00,  1.43s/it]\n"
     ]
    },
    {
     "name": "stdout",
     "output_type": "stream",
     "text": [
      "Epoch: 18 | Training Loss: 0.6931495016271417  | Validation Loss: 0.6931691765785217  | Accuracy: 46.75\n"
     ]
    },
    {
     "name": "stderr",
     "output_type": "stream",
     "text": [
      "11it [00:25,  2.31s/it]\n",
      "100%|████████████████████████████████████████████████████████████| 1/1 [00:01<00:00,  1.54s/it]\n"
     ]
    },
    {
     "name": "stdout",
     "output_type": "stream",
     "text": [
      "Epoch: 19 | Training Loss: 0.693150439045646  | Validation Loss: 0.6930598616600037  | Accuracy: 53.25\n"
     ]
    },
    {
     "name": "stderr",
     "output_type": "stream",
     "text": [
      "11it [00:25,  2.27s/it]\n",
      "100%|████████████████████████████████████████████████████████████| 1/1 [00:01<00:00,  1.41s/it]\n"
     ]
    },
    {
     "name": "stdout",
     "output_type": "stream",
     "text": [
      "Epoch: 20 | Training Loss: 0.6931505311619152  | Validation Loss: 0.6931930184364319  | Accuracy: 46.75\n"
     ]
    },
    {
     "name": "stderr",
     "output_type": "stream",
     "text": [
      "11it [00:23,  2.09s/it]\n",
      "100%|████████████████████████████████████████████████████████████| 1/1 [00:01<00:00,  1.51s/it]\n"
     ]
    },
    {
     "name": "stdout",
     "output_type": "stream",
     "text": [
      "Epoch: 21 | Training Loss: 0.6931510188362815  | Validation Loss: 0.6932384967803955  | Accuracy: 46.75\n"
     ]
    },
    {
     "name": "stderr",
     "output_type": "stream",
     "text": [
      "11it [00:24,  2.21s/it]\n",
      "100%|████████████████████████████████████████████████████████████| 1/1 [00:01<00:00,  1.72s/it]\n"
     ]
    },
    {
     "name": "stdout",
     "output_type": "stream",
     "text": [
      "Epoch: 22 | Training Loss: 0.6931493173946034  | Validation Loss: 0.6930847764015198  | Accuracy: 53.25\n"
     ]
    },
    {
     "name": "stderr",
     "output_type": "stream",
     "text": [
      "11it [00:25,  2.33s/it]\n",
      "100%|████████████████████████████████████████████████████████████| 1/1 [00:01<00:00,  1.74s/it]\n"
     ]
    },
    {
     "name": "stdout",
     "output_type": "stream",
     "text": [
      "Epoch: 23 | Training Loss: 0.6931512139060281  | Validation Loss: 0.6932141780853271  | Accuracy: 46.75\n"
     ]
    },
    {
     "name": "stderr",
     "output_type": "stream",
     "text": [
      "11it [00:25,  2.29s/it]\n",
      "100%|████████████████████████████████████████████████████████████| 1/1 [00:01<00:00,  1.74s/it]\n"
     ]
    },
    {
     "name": "stdout",
     "output_type": "stream",
     "text": [
      "Epoch: 24 | Training Loss: 0.693149290301583  | Validation Loss: 0.693060040473938  | Accuracy: 53.25\n"
     ]
    },
    {
     "name": "stderr",
     "output_type": "stream",
     "text": [
      "11it [00:24,  2.27s/it]\n",
      "100%|████████████████████████████████████████████████████████████| 1/1 [00:01<00:00,  1.70s/it]\n"
     ]
    },
    {
     "name": "stdout",
     "output_type": "stream",
     "text": [
      "Epoch: 25 | Training Loss: 0.6931513818827543  | Validation Loss: 0.6930825114250183  | Accuracy: 53.25\n"
     ]
    },
    {
     "name": "stderr",
     "output_type": "stream",
     "text": [
      "11it [00:24,  2.26s/it]\n",
      "100%|████████████████████████████████████████████████████████████| 1/1 [00:01<00:00,  1.41s/it]\n"
     ]
    },
    {
     "name": "stdout",
     "output_type": "stream",
     "text": [
      "Epoch: 26 | Training Loss: 0.6931468736041676  | Validation Loss: 0.693256676197052  | Accuracy: 46.75\n"
     ]
    },
    {
     "name": "stderr",
     "output_type": "stream",
     "text": [
      "11it [00:25,  2.34s/it]\n",
      "100%|████████████████████████████████████████████████████████████| 1/1 [00:01<00:00,  1.66s/it]\n"
     ]
    },
    {
     "name": "stdout",
     "output_type": "stream",
     "text": [
      "Epoch: 27 | Training Loss: 0.6931493228132074  | Validation Loss: 0.693230926990509  | Accuracy: 46.75\n"
     ]
    },
    {
     "name": "stderr",
     "output_type": "stream",
     "text": [
      "11it [00:25,  2.29s/it]\n",
      "100%|████████████████████████████████████████████████████████████| 1/1 [00:01<00:00,  1.75s/it]\n"
     ]
    },
    {
     "name": "stdout",
     "output_type": "stream",
     "text": [
      "Epoch: 28 | Training Loss: 0.6931504607200623  | Validation Loss: 0.693211019039154  | Accuracy: 46.75\n"
     ]
    },
    {
     "name": "stderr",
     "output_type": "stream",
     "text": [
      "11it [00:25,  2.30s/it]\n",
      "100%|████████████████████████████████████████████████████████████| 1/1 [00:01<00:00,  1.42s/it]\n"
     ]
    },
    {
     "name": "stdout",
     "output_type": "stream",
     "text": [
      "Epoch: 29 | Training Loss: 0.6931500759991732  | Validation Loss: 0.693204402923584  | Accuracy: 46.75\n"
     ]
    },
    {
     "name": "stderr",
     "output_type": "stream",
     "text": [
      "11it [00:25,  2.33s/it]\n",
      "100%|████████████████████████████████████████████████████████████| 1/1 [00:01<00:00,  1.41s/it]\n"
     ]
    },
    {
     "name": "stdout",
     "output_type": "stream",
     "text": [
      "Epoch: 30 | Training Loss: 0.6931478652087125  | Validation Loss: 0.6930705308914185  | Accuracy: 53.25\n",
      "\n",
      "\n",
      "Training complete! Best accuracy: 53.25%.\n"
     ]
    },
    {
     "data": {
      "text/html": [
       "Waiting for W&B process to finish... <strong style=\"color:green\">(success).</strong>"
      ],
      "text/plain": [
       "<IPython.core.display.HTML object>"
      ]
     },
     "metadata": {},
     "output_type": "display_data"
    },
    {
     "data": {
      "application/vnd.jupyter.widget-view+json": {
       "model_id": "1d2257439570417a9438c63e498ad022",
       "version_major": 2,
       "version_minor": 0
      },
      "text/plain": [
       "VBox(children=(Label(value='0.001 MB of 0.024 MB uploaded (0.000 MB deduped)\\r'), FloatProgress(value=0.030255…"
      ]
     },
     "metadata": {},
     "output_type": "display_data"
    },
    {
     "data": {
      "text/html": [
       "<style>\n",
       "    table.wandb td:nth-child(1) { padding: 0 10px; text-align: left ; width: auto;} td:nth-child(2) {text-align: left ; width: 100%}\n",
       "    .wandb-row { display: flex; flex-direction: row; flex-wrap: wrap; justify-content: flex-start; width: 100% }\n",
       "    .wandb-col { display: flex; flex-direction: column; flex-basis: 100%; flex: 1; padding: 10px; }\n",
       "    </style>\n",
       "<div class=\"wandb-row\"><div class=\"wandb-col\"><h3>Run history:</h3><br/><table class=\"wandb\"><tr><td>epoch</td><td>▁▁▁▂▂▂▂▃▃▃▃▄▄▄▄▅▅▅▅▆▆▆▆▇▇▇▇███</td></tr><tr><td>train_loss</td><td>▁█████████████████████████████</td></tr><tr><td>val_accuracy</td><td>▁</td></tr><tr><td>val_loss</td><td>▁▆▇▅▅▅▆▅▆█▆▅▆▆▆▆▆▆▅▆▇▅▇▅▅▇▇▇▆▅</td></tr></table><br/></div><div class=\"wandb-col\"><h3>Run summary:</h3><br/><table class=\"wandb\"><tr><td>epoch</td><td>30</td></tr><tr><td>train_loss</td><td>0.69315</td></tr><tr><td>val_accuracy</td><td>53.25</td></tr><tr><td>val_loss</td><td>0.69307</td></tr></table><br/></div></div>"
      ],
      "text/plain": [
       "<IPython.core.display.HTML object>"
      ]
     },
     "metadata": {},
     "output_type": "display_data"
    },
    {
     "data": {
      "text/html": [
       "Synced <strong style=\"color:#cdcd00\">atomic-sweep-14</strong>: <a href=\"https://wandb.ai/danish2562022/PI__prediction_fc__hyperparameter_tuning_cls_vector/runs/2dszxem7\" target=\"_blank\">https://wandb.ai/danish2562022/PI__prediction_fc__hyperparameter_tuning_cls_vector/runs/2dszxem7</a><br/>Synced 6 W&B file(s), 0 media file(s), 0 artifact file(s) and 0 other file(s)"
      ],
      "text/plain": [
       "<IPython.core.display.HTML object>"
      ]
     },
     "metadata": {},
     "output_type": "display_data"
    },
    {
     "data": {
      "text/html": [
       "Find logs at: <code>./wandb/run-20221129_090744-2dszxem7/logs</code>"
      ],
      "text/plain": [
       "<IPython.core.display.HTML object>"
      ]
     },
     "metadata": {},
     "output_type": "display_data"
    },
    {
     "name": "stderr",
     "output_type": "stream",
     "text": [
      "\u001b[34m\u001b[1mwandb\u001b[0m: Agent Starting Run: kv4pu44t with config:\n",
      "\u001b[34m\u001b[1mwandb\u001b[0m: \tamsgrad: False\n",
      "\u001b[34m\u001b[1mwandb\u001b[0m: \tdim_1: 4048\n",
      "\u001b[34m\u001b[1mwandb\u001b[0m: \tdim_2: 1024\n",
      "\u001b[34m\u001b[1mwandb\u001b[0m: \tdropout: False\n",
      "\u001b[34m\u001b[1mwandb\u001b[0m: \tepochs: 30\n",
      "\u001b[34m\u001b[1mwandb\u001b[0m: \tlayer_fc_1: 1\n",
      "\u001b[34m\u001b[1mwandb\u001b[0m: \tlayer_fc_2: 1\n",
      "\u001b[34m\u001b[1mwandb\u001b[0m: \tlearning_rate: 0.006899268316722902\n",
      "\u001b[34m\u001b[1mwandb\u001b[0m: \tmomentum: 0.95\n",
      "\u001b[34m\u001b[1mwandb\u001b[0m: \toptimizer: adam\n",
      "\u001b[34m\u001b[1mwandb\u001b[0m: \tweight_decay: 0.003354831977739247\n",
      "Failed to detect the name of this notebook, you can set it manually with the WANDB_NOTEBOOK_NAME environment variable to enable code saving.\n"
     ]
    },
    {
     "data": {
      "text/html": [
       "wandb version 0.13.5 is available!  To upgrade, please run:\n",
       " $ pip install wandb --upgrade"
      ],
      "text/plain": [
       "<IPython.core.display.HTML object>"
      ]
     },
     "metadata": {},
     "output_type": "display_data"
    },
    {
     "data": {
      "text/html": [
       "Tracking run with wandb version 0.13.4"
      ],
      "text/plain": [
       "<IPython.core.display.HTML object>"
      ]
     },
     "metadata": {},
     "output_type": "display_data"
    },
    {
     "data": {
      "text/html": [
       "Run data is saved locally in <code>/home/anwer/Desktop/PPI_prediction/model_training_py/models/wandb/run-20221129_092105-kv4pu44t</code>"
      ],
      "text/plain": [
       "<IPython.core.display.HTML object>"
      ]
     },
     "metadata": {},
     "output_type": "display_data"
    },
    {
     "data": {
      "text/html": [
       "Syncing run <strong><a href=\"https://wandb.ai/danish2562022/PI__prediction_fc__hyperparameter_tuning_cls_vector/runs/kv4pu44t\" target=\"_blank\">trim-sweep-15</a></strong> to <a href=\"https://wandb.ai/danish2562022/PI__prediction_fc__hyperparameter_tuning_cls_vector\" target=\"_blank\">Weights & Biases</a> (<a href=\"https://wandb.me/run\" target=\"_blank\">docs</a>)<br/>Sweep page:  <a href=\"https://wandb.ai/danish2562022/PI__prediction_fc__hyperparameter_tuning_cls_vector/sweeps/gyyc8zyb\" target=\"_blank\">https://wandb.ai/danish2562022/PI__prediction_fc__hyperparameter_tuning_cls_vector/sweeps/gyyc8zyb</a>"
      ],
      "text/plain": [
       "<IPython.core.display.HTML object>"
      ]
     },
     "metadata": {},
     "output_type": "display_data"
    },
    {
     "name": "stdout",
     "output_type": "stream",
     "text": [
      "Start training...\n",
      "\n"
     ]
    },
    {
     "name": "stderr",
     "output_type": "stream",
     "text": [
      "11it [00:29,  2.68s/it]\n",
      "100%|████████████████████████████████████████████████████████████| 1/1 [00:02<00:00,  2.02s/it]\n"
     ]
    },
    {
     "name": "stdout",
     "output_type": "stream",
     "text": [
      "Epoch: 1 | Training Loss: 0.6785661253062162  | Validation Loss: 0.6901446580886841  | Accuracy: 56.82\n"
     ]
    },
    {
     "name": "stderr",
     "output_type": "stream",
     "text": [
      "11it [00:28,  2.59s/it]\n",
      "100%|████████████████████████████████████████████████████████████| 1/1 [00:02<00:00,  2.04s/it]\n"
     ]
    },
    {
     "name": "stdout",
     "output_type": "stream",
     "text": [
      "Epoch: 2 | Training Loss: 0.6426671851765026  | Validation Loss: 1.8695900440216064  | Accuracy: 46.92\n"
     ]
    },
    {
     "name": "stderr",
     "output_type": "stream",
     "text": [
      "11it [00:29,  2.66s/it]\n",
      "100%|████████████████████████████████████████████████████████████| 1/1 [00:02<00:00,  2.04s/it]\n"
     ]
    },
    {
     "name": "stdout",
     "output_type": "stream",
     "text": [
      "Epoch: 3 | Training Loss: 0.6156097433783791  | Validation Loss: 0.7446147203445435  | Accuracy: 56.75\n"
     ]
    },
    {
     "name": "stderr",
     "output_type": "stream",
     "text": [
      "11it [00:29,  2.67s/it]\n",
      "100%|████████████████████████████████████████████████████████████| 1/1 [00:01<00:00,  1.99s/it]\n"
     ]
    },
    {
     "name": "stdout",
     "output_type": "stream",
     "text": [
      "Epoch: 4 | Training Loss: 0.6226212978363037  | Validation Loss: 1.6691172122955322  | Accuracy: 47.07\n"
     ]
    },
    {
     "name": "stderr",
     "output_type": "stream",
     "text": [
      "11it [00:29,  2.66s/it]\n",
      "100%|████████████████████████████████████████████████████████████| 1/1 [00:02<00:00,  2.01s/it]\n"
     ]
    },
    {
     "name": "stdout",
     "output_type": "stream",
     "text": [
      "Epoch: 5 | Training Loss: 0.6290496262637052  | Validation Loss: 0.8956782221794128  | Accuracy: 53.25\n"
     ]
    },
    {
     "name": "stderr",
     "output_type": "stream",
     "text": [
      "11it [00:28,  2.60s/it]\n",
      "100%|████████████████████████████████████████████████████████████| 1/1 [00:02<00:00,  2.01s/it]\n"
     ]
    },
    {
     "name": "stdout",
     "output_type": "stream",
     "text": [
      "Epoch: 6 | Training Loss: 0.6025989814238115  | Validation Loss: 0.8746739625930786  | Accuracy: 53.25\n"
     ]
    },
    {
     "name": "stderr",
     "output_type": "stream",
     "text": [
      "11it [00:29,  2.69s/it]\n",
      "100%|████████████████████████████████████████████████████████████| 1/1 [00:01<00:00,  1.76s/it]\n"
     ]
    },
    {
     "name": "stdout",
     "output_type": "stream",
     "text": [
      "Epoch: 7 | Training Loss: 0.6086843609809875  | Validation Loss: 0.6504520773887634  | Accuracy: 62.20\n"
     ]
    },
    {
     "name": "stderr",
     "output_type": "stream",
     "text": [
      "11it [00:29,  2.68s/it]\n",
      "100%|████████████████████████████████████████████████████████████| 1/1 [00:02<00:00,  2.06s/it]\n"
     ]
    },
    {
     "name": "stdout",
     "output_type": "stream",
     "text": [
      "Epoch: 8 | Training Loss: 0.5958607196807861  | Validation Loss: 0.666544497013092  | Accuracy: 61.92\n"
     ]
    },
    {
     "name": "stderr",
     "output_type": "stream",
     "text": [
      "11it [00:29,  2.70s/it]\n",
      "100%|████████████████████████████████████████████████████████████| 1/1 [00:01<00:00,  1.71s/it]\n"
     ]
    },
    {
     "name": "stdout",
     "output_type": "stream",
     "text": [
      "Epoch: 9 | Training Loss: 0.6149502504955638  | Validation Loss: 0.647365927696228  | Accuracy: 62.58\n"
     ]
    },
    {
     "name": "stderr",
     "output_type": "stream",
     "text": [
      "11it [00:28,  2.63s/it]\n",
      "100%|████████████████████████████████████████████████████████████| 1/1 [00:01<00:00,  1.72s/it]\n"
     ]
    },
    {
     "name": "stdout",
     "output_type": "stream",
     "text": [
      "Epoch: 10 | Training Loss: 0.5740195350213484  | Validation Loss: 1.3798985481262207  | Accuracy: 53.25\n"
     ]
    },
    {
     "name": "stderr",
     "output_type": "stream",
     "text": [
      "11it [00:28,  2.57s/it]\n",
      "100%|████████████████████████████████████████████████████████████| 1/1 [00:02<00:00,  2.05s/it]\n"
     ]
    },
    {
     "name": "stdout",
     "output_type": "stream",
     "text": [
      "Epoch: 11 | Training Loss: 0.6229039105502042  | Validation Loss: 0.7578591108322144  | Accuracy: 63.72\n"
     ]
    },
    {
     "name": "stderr",
     "output_type": "stream",
     "text": [
      "11it [00:29,  2.71s/it]\n",
      "100%|████████████████████████████████████████████████████████████| 1/1 [00:02<00:00,  2.02s/it]\n"
     ]
    },
    {
     "name": "stdout",
     "output_type": "stream",
     "text": [
      "Epoch: 12 | Training Loss: 0.6226217204874213  | Validation Loss: 0.6971042156219482  | Accuracy: 57.97\n"
     ]
    },
    {
     "name": "stderr",
     "output_type": "stream",
     "text": [
      "11it [00:29,  2.70s/it]\n",
      "100%|████████████████████████████████████████████████████████████| 1/1 [00:02<00:00,  2.04s/it]\n"
     ]
    },
    {
     "name": "stdout",
     "output_type": "stream",
     "text": [
      "Epoch: 13 | Training Loss: 0.594673292203383  | Validation Loss: 0.74387526512146  | Accuracy: 53.98\n"
     ]
    },
    {
     "name": "stderr",
     "output_type": "stream",
     "text": [
      "11it [00:29,  2.70s/it]\n",
      "100%|████████████████████████████████████████████████████████████| 1/1 [00:02<00:00,  2.04s/it]\n"
     ]
    },
    {
     "name": "stdout",
     "output_type": "stream",
     "text": [
      "Epoch: 14 | Training Loss: 0.6219991553913463  | Validation Loss: 0.9417067170143127  | Accuracy: 47.00\n"
     ]
    },
    {
     "name": "stderr",
     "output_type": "stream",
     "text": [
      "11it [00:28,  2.62s/it]\n",
      "100%|████████████████████████████████████████████████████████████| 1/1 [00:02<00:00,  2.07s/it]\n"
     ]
    },
    {
     "name": "stdout",
     "output_type": "stream",
     "text": [
      "Epoch: 15 | Training Loss: 0.5868812474337491  | Validation Loss: 1.0944128036499023  | Accuracy: 53.25\n"
     ]
    },
    {
     "name": "stderr",
     "output_type": "stream",
     "text": [
      "11it [00:29,  2.65s/it]\n",
      "100%|████████████████████████████████████████████████████████████| 1/1 [00:02<00:00,  2.05s/it]\n"
     ]
    },
    {
     "name": "stdout",
     "output_type": "stream",
     "text": [
      "Epoch: 16 | Training Loss: 0.5729196721857245  | Validation Loss: 1.2744718790054321  | Accuracy: 53.25\n"
     ]
    },
    {
     "name": "stderr",
     "output_type": "stream",
     "text": [
      "11it [00:28,  2.60s/it]\n",
      "100%|████████████████████████████████████████████████████████████| 1/1 [00:02<00:00,  2.05s/it]\n"
     ]
    },
    {
     "name": "stdout",
     "output_type": "stream",
     "text": [
      "Epoch: 17 | Training Loss: 0.6162241480567239  | Validation Loss: 1.8946723937988281  | Accuracy: 53.25\n"
     ]
    },
    {
     "name": "stderr",
     "output_type": "stream",
     "text": [
      "11it [00:29,  2.68s/it]\n",
      "100%|████████████████████████████████████████████████████████████| 1/1 [00:01<00:00,  1.73s/it]\n"
     ]
    },
    {
     "name": "stdout",
     "output_type": "stream",
     "text": [
      "Epoch: 18 | Training Loss: 0.614920204335993  | Validation Loss: 0.7911427617073059  | Accuracy: 54.38\n"
     ]
    },
    {
     "name": "stderr",
     "output_type": "stream",
     "text": [
      "11it [00:28,  2.55s/it]\n",
      "100%|████████████████████████████████████████████████████████████| 1/1 [00:02<00:00,  2.03s/it]\n"
     ]
    },
    {
     "name": "stdout",
     "output_type": "stream",
     "text": [
      "Epoch: 19 | Training Loss: 0.5718672817403619  | Validation Loss: 1.0371642112731934  | Accuracy: 53.25\n"
     ]
    },
    {
     "name": "stderr",
     "output_type": "stream",
     "text": [
      "11it [00:29,  2.69s/it]\n",
      "100%|████████████████████████████████████████████████████████████| 1/1 [00:02<00:00,  2.01s/it]\n"
     ]
    },
    {
     "name": "stdout",
     "output_type": "stream",
     "text": [
      "Epoch: 20 | Training Loss: 0.5781870267607949  | Validation Loss: 0.8373060822486877  | Accuracy: 54.40\n"
     ]
    },
    {
     "name": "stderr",
     "output_type": "stream",
     "text": [
      "11it [00:29,  2.65s/it]\n",
      "100%|████████████████████████████████████████████████████████████| 1/1 [00:01<00:00,  1.99s/it]\n"
     ]
    },
    {
     "name": "stdout",
     "output_type": "stream",
     "text": [
      "Epoch: 21 | Training Loss: 0.5918480212038214  | Validation Loss: 0.803826093673706  | Accuracy: 52.68\n"
     ]
    },
    {
     "name": "stderr",
     "output_type": "stream",
     "text": [
      "11it [00:28,  2.63s/it]\n",
      "100%|████████████████████████████████████████████████████████████| 1/1 [00:01<00:00,  1.76s/it]\n"
     ]
    },
    {
     "name": "stdout",
     "output_type": "stream",
     "text": [
      "Epoch: 22 | Training Loss: 0.5700824910944159  | Validation Loss: 1.0283132791519165  | Accuracy: 53.38\n"
     ]
    },
    {
     "name": "stderr",
     "output_type": "stream",
     "text": [
      "11it [00:28,  2.63s/it]\n",
      "100%|████████████████████████████████████████████████████████████| 1/1 [00:01<00:00,  1.99s/it]\n"
     ]
    },
    {
     "name": "stdout",
     "output_type": "stream",
     "text": [
      "Epoch: 23 | Training Loss: 0.5660191178321838  | Validation Loss: 1.0262264013290405  | Accuracy: 53.28\n"
     ]
    },
    {
     "name": "stderr",
     "output_type": "stream",
     "text": [
      "11it [00:29,  2.71s/it]\n",
      "100%|████████████████████████████████████████████████████████████| 1/1 [00:02<00:00,  2.04s/it]\n"
     ]
    },
    {
     "name": "stdout",
     "output_type": "stream",
     "text": [
      "Epoch: 24 | Training Loss: 0.6055852391503074  | Validation Loss: 0.7183852195739746  | Accuracy: 48.70\n"
     ]
    },
    {
     "name": "stderr",
     "output_type": "stream",
     "text": [
      "11it [00:28,  2.62s/it]\n",
      "100%|████████████████████████████████████████████████████████████| 1/1 [00:01<00:00,  1.98s/it]\n"
     ]
    },
    {
     "name": "stdout",
     "output_type": "stream",
     "text": [
      "Epoch: 25 | Training Loss: 0.5965326428413391  | Validation Loss: 0.6278095841407776  | Accuracy: 66.03\n"
     ]
    },
    {
     "name": "stderr",
     "output_type": "stream",
     "text": [
      "11it [00:28,  2.61s/it]\n",
      "100%|████████████████████████████████████████████████████████████| 1/1 [00:02<00:00,  2.02s/it]\n"
     ]
    },
    {
     "name": "stdout",
     "output_type": "stream",
     "text": [
      "Epoch: 26 | Training Loss: 0.5661602399565957  | Validation Loss: 0.6122362613677979  | Accuracy: 66.78\n"
     ]
    },
    {
     "name": "stderr",
     "output_type": "stream",
     "text": [
      "11it [00:29,  2.67s/it]\n",
      "100%|████████████████████████████████████████████████████████████| 1/1 [00:01<00:00,  1.73s/it]\n"
     ]
    },
    {
     "name": "stdout",
     "output_type": "stream",
     "text": [
      "Epoch: 27 | Training Loss: 0.5594607970931313  | Validation Loss: 0.9660205841064453  | Accuracy: 53.50\n"
     ]
    },
    {
     "name": "stderr",
     "output_type": "stream",
     "text": [
      "11it [00:28,  2.61s/it]\n",
      "100%|████████████████████████████████████████████████████████████| 1/1 [00:01<00:00,  1.76s/it]\n"
     ]
    },
    {
     "name": "stdout",
     "output_type": "stream",
     "text": [
      "Epoch: 28 | Training Loss: 0.650077451359142  | Validation Loss: 0.8840163350105286  | Accuracy: 47.03\n"
     ]
    },
    {
     "name": "stderr",
     "output_type": "stream",
     "text": [
      "11it [00:29,  2.71s/it]\n",
      "100%|████████████████████████████████████████████████████████████| 1/1 [00:02<00:00,  2.03s/it]\n"
     ]
    },
    {
     "name": "stdout",
     "output_type": "stream",
     "text": [
      "Epoch: 29 | Training Loss: 0.5954786376519636  | Validation Loss: 0.9495974779129028  | Accuracy: 53.28\n"
     ]
    },
    {
     "name": "stderr",
     "output_type": "stream",
     "text": [
      "11it [00:28,  2.63s/it]\n",
      "100%|████████████████████████████████████████████████████████████| 1/1 [00:01<00:00,  1.74s/it]\n"
     ]
    },
    {
     "name": "stdout",
     "output_type": "stream",
     "text": [
      "Epoch: 30 | Training Loss: 0.5600019043142145  | Validation Loss: 1.100872278213501  | Accuracy: 53.25\n",
      "\n",
      "\n",
      "Training complete! Best accuracy: 66.78%.\n"
     ]
    },
    {
     "data": {
      "text/html": [
       "Waiting for W&B process to finish... <strong style=\"color:green\">(success).</strong>"
      ],
      "text/plain": [
       "<IPython.core.display.HTML object>"
      ]
     },
     "metadata": {},
     "output_type": "display_data"
    },
    {
     "data": {
      "application/vnd.jupyter.widget-view+json": {
       "model_id": "7439325986b044f1b71a2e9e0868b8d8",
       "version_major": 2,
       "version_minor": 0
      },
      "text/plain": [
       "VBox(children=(Label(value='0.001 MB of 0.024 MB uploaded (0.000 MB deduped)\\r'), FloatProgress(value=0.030255…"
      ]
     },
     "metadata": {},
     "output_type": "display_data"
    },
    {
     "data": {
      "text/html": [
       "<style>\n",
       "    table.wandb td:nth-child(1) { padding: 0 10px; text-align: left ; width: auto;} td:nth-child(2) {text-align: left ; width: 100%}\n",
       "    .wandb-row { display: flex; flex-direction: row; flex-wrap: wrap; justify-content: flex-start; width: 100% }\n",
       "    .wandb-col { display: flex; flex-direction: column; flex-basis: 100%; flex: 1; padding: 10px; }\n",
       "    </style>\n",
       "<div class=\"wandb-row\"><div class=\"wandb-col\"><h3>Run history:</h3><br/><table class=\"wandb\"><tr><td>epoch</td><td>▁▁▁▂▂▂▂▃▃▃▃▄▄▄▄▅▅▅▅▆▆▆▆▇▇▇▇███</td></tr><tr><td>train_loss</td><td>█▆▄▅▅▄▄▃▄▂▅▅▃▅▃▂▄▄▂▂▃▂▁▄▃▁▁▆▃▁</td></tr><tr><td>val_accuracy</td><td>▁</td></tr><tr><td>val_loss</td><td>▁█▂▇▃▂▁▁▁▅▂▁▂▃▄▅█▂▃▂▂▃▃▂▁▁▃▂▃▄</td></tr></table><br/></div><div class=\"wandb-col\"><h3>Run summary:</h3><br/><table class=\"wandb\"><tr><td>epoch</td><td>30</td></tr><tr><td>train_loss</td><td>0.56</td></tr><tr><td>val_accuracy</td><td>66.78333</td></tr><tr><td>val_loss</td><td>1.10087</td></tr></table><br/></div></div>"
      ],
      "text/plain": [
       "<IPython.core.display.HTML object>"
      ]
     },
     "metadata": {},
     "output_type": "display_data"
    },
    {
     "data": {
      "text/html": [
       "Synced <strong style=\"color:#cdcd00\">trim-sweep-15</strong>: <a href=\"https://wandb.ai/danish2562022/PI__prediction_fc__hyperparameter_tuning_cls_vector/runs/kv4pu44t\" target=\"_blank\">https://wandb.ai/danish2562022/PI__prediction_fc__hyperparameter_tuning_cls_vector/runs/kv4pu44t</a><br/>Synced 6 W&B file(s), 0 media file(s), 0 artifact file(s) and 0 other file(s)"
      ],
      "text/plain": [
       "<IPython.core.display.HTML object>"
      ]
     },
     "metadata": {},
     "output_type": "display_data"
    },
    {
     "data": {
      "text/html": [
       "Find logs at: <code>./wandb/run-20221129_092105-kv4pu44t/logs</code>"
      ],
      "text/plain": [
       "<IPython.core.display.HTML object>"
      ]
     },
     "metadata": {},
     "output_type": "display_data"
    },
    {
     "name": "stderr",
     "output_type": "stream",
     "text": [
      "\u001b[34m\u001b[1mwandb\u001b[0m: Sweep Agent: Waiting for job.\n",
      "\u001b[34m\u001b[1mwandb\u001b[0m: Job received.\n",
      "\u001b[34m\u001b[1mwandb\u001b[0m: Agent Starting Run: fi1bch3h with config:\n",
      "\u001b[34m\u001b[1mwandb\u001b[0m: \tamsgrad: False\n",
      "\u001b[34m\u001b[1mwandb\u001b[0m: \tdim_1: 4048\n",
      "\u001b[34m\u001b[1mwandb\u001b[0m: \tdim_2: 512\n",
      "\u001b[34m\u001b[1mwandb\u001b[0m: \tdropout: True\n",
      "\u001b[34m\u001b[1mwandb\u001b[0m: \tepochs: 30\n",
      "\u001b[34m\u001b[1mwandb\u001b[0m: \tlayer_fc_1: 1\n",
      "\u001b[34m\u001b[1mwandb\u001b[0m: \tlayer_fc_2: 1\n",
      "\u001b[34m\u001b[1mwandb\u001b[0m: \tlearning_rate: 0.001514317992189752\n",
      "\u001b[34m\u001b[1mwandb\u001b[0m: \tmomentum: 0.9\n",
      "\u001b[34m\u001b[1mwandb\u001b[0m: \toptimizer: adam\n",
      "\u001b[34m\u001b[1mwandb\u001b[0m: \tweight_decay: 0.00213926913178996\n",
      "Failed to detect the name of this notebook, you can set it manually with the WANDB_NOTEBOOK_NAME environment variable to enable code saving.\n"
     ]
    },
    {
     "data": {
      "text/html": [
       "wandb version 0.13.5 is available!  To upgrade, please run:\n",
       " $ pip install wandb --upgrade"
      ],
      "text/plain": [
       "<IPython.core.display.HTML object>"
      ]
     },
     "metadata": {},
     "output_type": "display_data"
    },
    {
     "data": {
      "text/html": [
       "Tracking run with wandb version 0.13.4"
      ],
      "text/plain": [
       "<IPython.core.display.HTML object>"
      ]
     },
     "metadata": {},
     "output_type": "display_data"
    },
    {
     "data": {
      "text/html": [
       "Run data is saved locally in <code>/home/anwer/Desktop/PPI_prediction/model_training_py/models/wandb/run-20221129_093705-fi1bch3h</code>"
      ],
      "text/plain": [
       "<IPython.core.display.HTML object>"
      ]
     },
     "metadata": {},
     "output_type": "display_data"
    },
    {
     "data": {
      "text/html": [
       "Syncing run <strong><a href=\"https://wandb.ai/danish2562022/PI__prediction_fc__hyperparameter_tuning_cls_vector/runs/fi1bch3h\" target=\"_blank\">summer-sweep-16</a></strong> to <a href=\"https://wandb.ai/danish2562022/PI__prediction_fc__hyperparameter_tuning_cls_vector\" target=\"_blank\">Weights & Biases</a> (<a href=\"https://wandb.me/run\" target=\"_blank\">docs</a>)<br/>Sweep page:  <a href=\"https://wandb.ai/danish2562022/PI__prediction_fc__hyperparameter_tuning_cls_vector/sweeps/gyyc8zyb\" target=\"_blank\">https://wandb.ai/danish2562022/PI__prediction_fc__hyperparameter_tuning_cls_vector/sweeps/gyyc8zyb</a>"
      ],
      "text/plain": [
       "<IPython.core.display.HTML object>"
      ]
     },
     "metadata": {},
     "output_type": "display_data"
    },
    {
     "name": "stdout",
     "output_type": "stream",
     "text": [
      "Start training...\n",
      "\n"
     ]
    },
    {
     "name": "stderr",
     "output_type": "stream",
     "text": [
      "11it [00:25,  2.36s/it]\n",
      "100%|████████████████████████████████████████████████████████████| 1/1 [00:01<00:00,  1.48s/it]\n"
     ]
    },
    {
     "name": "stdout",
     "output_type": "stream",
     "text": [
      "Epoch: 1 | Training Loss: 0.6636317751624368  | Validation Loss: 0.6911184787750244  | Accuracy: 53.25\n"
     ]
    },
    {
     "name": "stderr",
     "output_type": "stream",
     "text": [
      "11it [00:24,  2.26s/it]\n",
      "100%|████████████████████████████████████████████████████████████| 1/1 [00:01<00:00,  1.48s/it]\n"
     ]
    },
    {
     "name": "stdout",
     "output_type": "stream",
     "text": [
      "Epoch: 2 | Training Loss: 0.5879091728817333  | Validation Loss: 0.6764548420906067  | Accuracy: 62.77\n"
     ]
    },
    {
     "name": "stderr",
     "output_type": "stream",
     "text": [
      "11it [00:24,  2.23s/it]\n",
      "100%|████████████████████████████████████████████████████████████| 1/1 [00:01<00:00,  1.80s/it]\n"
     ]
    },
    {
     "name": "stdout",
     "output_type": "stream",
     "text": [
      "Epoch: 3 | Training Loss: 0.5572521686553955  | Validation Loss: 0.6754584312438965  | Accuracy: 54.77\n"
     ]
    },
    {
     "name": "stderr",
     "output_type": "stream",
     "text": [
      "11it [00:25,  2.28s/it]\n",
      "100%|████████████████████████████████████████████████████████████| 1/1 [00:01<00:00,  1.47s/it]\n"
     ]
    },
    {
     "name": "stdout",
     "output_type": "stream",
     "text": [
      "Epoch: 4 | Training Loss: 0.544112351807681  | Validation Loss: 0.6793935298919678  | Accuracy: 53.50\n"
     ]
    },
    {
     "name": "stderr",
     "output_type": "stream",
     "text": [
      "11it [00:24,  2.23s/it]\n",
      "100%|████████████████████████████████████████████████████████████| 1/1 [00:01<00:00,  1.50s/it]\n"
     ]
    },
    {
     "name": "stdout",
     "output_type": "stream",
     "text": [
      "Epoch: 5 | Training Loss: 0.5429986823688854  | Validation Loss: 0.6654297709465027  | Accuracy: 66.60\n"
     ]
    },
    {
     "name": "stderr",
     "output_type": "stream",
     "text": [
      "11it [00:24,  2.20s/it]\n",
      "100%|████████████████████████████████████████████████████████████| 1/1 [00:01<00:00,  1.74s/it]\n"
     ]
    },
    {
     "name": "stdout",
     "output_type": "stream",
     "text": [
      "Epoch: 6 | Training Loss: 0.5314855033701117  | Validation Loss: 0.6697591543197632  | Accuracy: 54.55\n"
     ]
    },
    {
     "name": "stderr",
     "output_type": "stream",
     "text": [
      "11it [00:24,  2.21s/it]\n",
      "100%|████████████████████████████████████████████████████████████| 1/1 [00:01<00:00,  1.76s/it]\n"
     ]
    },
    {
     "name": "stdout",
     "output_type": "stream",
     "text": [
      "Epoch: 7 | Training Loss: 0.5503377643498507  | Validation Loss: 0.7086166143417358  | Accuracy: 59.07\n"
     ]
    },
    {
     "name": "stderr",
     "output_type": "stream",
     "text": [
      "11it [00:24,  2.26s/it]\n",
      "100%|████████████████████████████████████████████████████████████| 1/1 [00:01<00:00,  1.75s/it]\n"
     ]
    },
    {
     "name": "stdout",
     "output_type": "stream",
     "text": [
      "Epoch: 8 | Training Loss: 0.5306235551834106  | Validation Loss: 0.9346809983253479  | Accuracy: 50.95\n"
     ]
    },
    {
     "name": "stderr",
     "output_type": "stream",
     "text": [
      "11it [00:24,  2.20s/it]\n",
      "100%|████████████████████████████████████████████████████████████| 1/1 [00:01<00:00,  1.48s/it]\n"
     ]
    },
    {
     "name": "stdout",
     "output_type": "stream",
     "text": [
      "Epoch: 9 | Training Loss: 0.5207464532418684  | Validation Loss: 0.6486358046531677  | Accuracy: 60.40\n"
     ]
    },
    {
     "name": "stderr",
     "output_type": "stream",
     "text": [
      "11it [00:24,  2.27s/it]\n",
      "100%|████████████████████████████████████████████████████████████| 1/1 [00:01<00:00,  1.49s/it]\n"
     ]
    },
    {
     "name": "stdout",
     "output_type": "stream",
     "text": [
      "Epoch: 10 | Training Loss: 0.5207376317544417  | Validation Loss: 0.673478901386261  | Accuracy: 57.78\n"
     ]
    },
    {
     "name": "stderr",
     "output_type": "stream",
     "text": [
      "11it [00:23,  2.15s/it]\n",
      "100%|████████████████████████████████████████████████████████████| 1/1 [00:01<00:00,  1.46s/it]\n"
     ]
    },
    {
     "name": "stdout",
     "output_type": "stream",
     "text": [
      "Epoch: 11 | Training Loss: 0.5625090544874017  | Validation Loss: 1.3131223917007446  | Accuracy: 64.68\n"
     ]
    },
    {
     "name": "stderr",
     "output_type": "stream",
     "text": [
      "11it [00:23,  2.13s/it]\n",
      "100%|████████████████████████████████████████████████████████████| 1/1 [00:01<00:00,  1.48s/it]\n"
     ]
    },
    {
     "name": "stdout",
     "output_type": "stream",
     "text": [
      "Epoch: 12 | Training Loss: 0.5512887347828258  | Validation Loss: 1.8329120874404907  | Accuracy: 58.13\n"
     ]
    },
    {
     "name": "stderr",
     "output_type": "stream",
     "text": [
      "11it [00:25,  2.27s/it]\n",
      "100%|████████████████████████████████████████████████████████████| 1/1 [00:01<00:00,  1.50s/it]\n"
     ]
    },
    {
     "name": "stdout",
     "output_type": "stream",
     "text": [
      "Epoch: 13 | Training Loss: 0.5253229954025962  | Validation Loss: 0.6176228523254395  | Accuracy: 67.90\n"
     ]
    },
    {
     "name": "stderr",
     "output_type": "stream",
     "text": [
      "11it [00:24,  2.24s/it]\n",
      "100%|████████████████████████████████████████████████████████████| 1/1 [00:01<00:00,  1.75s/it]\n"
     ]
    },
    {
     "name": "stdout",
     "output_type": "stream",
     "text": [
      "Epoch: 14 | Training Loss: 0.5268991643732245  | Validation Loss: 0.6391879916191101  | Accuracy: 60.23\n"
     ]
    },
    {
     "name": "stderr",
     "output_type": "stream",
     "text": [
      "11it [00:24,  2.26s/it]\n",
      "100%|████████████████████████████████████████████████████████████| 1/1 [00:01<00:00,  1.78s/it]\n"
     ]
    },
    {
     "name": "stdout",
     "output_type": "stream",
     "text": [
      "Epoch: 15 | Training Loss: 0.5134916576472196  | Validation Loss: 0.6617488861083984  | Accuracy: 64.17\n"
     ]
    },
    {
     "name": "stderr",
     "output_type": "stream",
     "text": [
      "11it [00:24,  2.20s/it]\n",
      "100%|████████████████████████████████████████████████████████████| 1/1 [00:01<00:00,  1.54s/it]\n"
     ]
    },
    {
     "name": "stdout",
     "output_type": "stream",
     "text": [
      "Epoch: 16 | Training Loss: 0.5081494884057478  | Validation Loss: 0.6665611863136292  | Accuracy: 59.45\n"
     ]
    },
    {
     "name": "stderr",
     "output_type": "stream",
     "text": [
      "11it [01:53, 10.36s/it]\n",
      "100%|████████████████████████████████████████████████████████████| 1/1 [00:14<00:00, 14.64s/it]\n"
     ]
    },
    {
     "name": "stdout",
     "output_type": "stream",
     "text": [
      "Epoch: 17 | Training Loss: 0.503031925721602  | Validation Loss: 0.665891170501709  | Accuracy: 58.83\n"
     ]
    },
    {
     "name": "stderr",
     "output_type": "stream",
     "text": [
      "11it [03:23, 18.50s/it]\n",
      "100%|████████████████████████████████████████████████████████████| 1/1 [00:14<00:00, 14.65s/it]\n"
     ]
    },
    {
     "name": "stdout",
     "output_type": "stream",
     "text": [
      "Epoch: 18 | Training Loss: 0.5018074160272424  | Validation Loss: 0.7605113983154297  | Accuracy: 54.58\n"
     ]
    },
    {
     "name": "stderr",
     "output_type": "stream",
     "text": [
      "2it [00:26, 14.58s/it]"
     ]
    }
   ],
   "source": [
    "wandb.agent(sweep_id, model_pipeline, count=400)"
   ]
  },
  {
   "cell_type": "code",
   "execution_count": null,
   "id": "202f958e",
   "metadata": {},
   "outputs": [],
   "source": [
    "val_label"
   ]
  },
  {
   "cell_type": "code",
   "execution_count": null,
   "id": "8293aae9",
   "metadata": {},
   "outputs": [],
   "source": [
    "val_label"
   ]
  },
  {
   "cell_type": "code",
   "execution_count": null,
   "id": "3514668f",
   "metadata": {},
   "outputs": [],
   "source": []
  }
 ],
 "metadata": {
  "kernelspec": {
   "display_name": "Python 3 (ipykernel)",
   "language": "python",
   "name": "python3"
  },
  "language_info": {
   "codemirror_mode": {
    "name": "ipython",
    "version": 3
   },
   "file_extension": ".py",
   "mimetype": "text/x-python",
   "name": "python",
   "nbconvert_exporter": "python",
   "pygments_lexer": "ipython3",
   "version": "3.9.12"
  }
 },
 "nbformat": 4,
 "nbformat_minor": 5
}

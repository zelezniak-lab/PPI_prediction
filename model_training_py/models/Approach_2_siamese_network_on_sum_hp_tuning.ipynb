{
 "cells": [
  {
   "cell_type": "markdown",
   "id": "ee9e6e12",
   "metadata": {},
   "source": [
    "### 1. Importing important libraries"
   ]
  },
  {
   "cell_type": "code",
   "execution_count": 1,
   "id": "f87afc0c",
   "metadata": {},
   "outputs": [
    {
     "name": "stderr",
     "output_type": "stream",
     "text": [
      "/home/anwer/anaconda3/lib/python3.9/site-packages/scipy/__init__.py:146: UserWarning: A NumPy version >=1.16.5 and <1.23.0 is required for this version of SciPy (detected version 1.23.5\n",
      "  warnings.warn(f\"A NumPy version >={np_minversion} and <{np_maxversion}\"\n",
      "Failed to detect the name of this notebook, you can set it manually with the WANDB_NOTEBOOK_NAME environment variable to enable code saving.\n",
      "\u001b[34m\u001b[1mwandb\u001b[0m: Currently logged in as: \u001b[33mdanish2562022\u001b[0m. Use \u001b[1m`wandb login --relogin`\u001b[0m to force relogin\n"
     ]
    },
    {
     "data": {
      "text/plain": [
       "True"
      ]
     },
     "execution_count": 1,
     "metadata": {},
     "output_type": "execute_result"
    }
   ],
   "source": [
    "from tqdm import tqdm\n",
    "import numpy as np\n",
    "import pandas as pd\n",
    "import matplotlib.pyplot as plt\n",
    "import torch\n",
    "import timeit\n",
    "\n",
    "import os\n",
    "import pickle\n",
    "import torch.nn as nn\n",
    "import torch.optim as optim\n",
    "from torch.utils.data import Dataset, DataLoader\n",
    "from sklearn.metrics import  confusion_matrix, ConfusionMatrixDisplay\n",
    "from sklearn.metrics import plot_confusion_matrix\n",
    "from matplotlib.pyplot import figure\n",
    "import wandb\n",
    "\n",
    "wandb.login()"
   ]
  },
  {
   "cell_type": "markdown",
   "id": "d13201b4",
   "metadata": {},
   "source": [
    "### 2. Basic EDA"
   ]
  },
  {
   "cell_type": "code",
   "execution_count": 2,
   "id": "b86c4140",
   "metadata": {},
   "outputs": [],
   "source": [
    "train = pd.read_csv(\"../../csv_files_new_ppi/training_and_test_set/train_set_without_embedding.csv\")\n",
    "test =  pd.read_csv(\"../../csv_files_new_ppi/training_and_test_set/test_set_without_embedding.csv\")"
   ]
  },
  {
   "cell_type": "code",
   "execution_count": 3,
   "id": "100b971e",
   "metadata": {},
   "outputs": [
    {
     "data": {
      "text/plain": [
       "1    21347\n",
       "0    21347\n",
       "Name: label, dtype: int64"
      ]
     },
     "execution_count": 3,
     "metadata": {},
     "output_type": "execute_result"
    }
   ],
   "source": [
    "train_pos = train[train.label == 1][0:100000]\n",
    "train_neg = train[train.label == 0][0:100000]\n",
    "train = pd.concat([train_pos,train_neg])\n",
    "\n",
    "test_pos = test[test.label == 1]\n",
    "test_neg = test[test.label ==0][0:len(test_pos)]\n",
    "test = pd.concat([test_pos,test_neg])\n",
    "test.label.value_counts()"
   ]
  },
  {
   "cell_type": "code",
   "execution_count": 4,
   "id": "a875593d",
   "metadata": {},
   "outputs": [],
   "source": [
    "val_pos =  test[test.label == 1][0:10000]\n",
    "val_neg =  test[test.label == 0][0:10000]\n",
    "val = pd.concat([val_pos,val_neg])\n",
    "\n",
    "test_pos =  test[test.label == 1][10000:]\n",
    "test_neg =  test[test.label == 0][10000:]\n",
    "test = pd.concat([test_pos,test_neg])"
   ]
  },
  {
   "cell_type": "code",
   "execution_count": 5,
   "id": "54417de4",
   "metadata": {},
   "outputs": [
    {
     "name": "stdout",
     "output_type": "stream",
     "text": [
      "Size of Train dataset:  200000\n",
      "Size of Test dataset:  22694\n",
      "Size of val dataset:  20000\n"
     ]
    }
   ],
   "source": [
    "print(\"Size of Train dataset: \", len(train))\n",
    "print(\"Size of Test dataset: \", len(test))\n",
    "print(\"Size of val dataset: \", len(val))"
   ]
  },
  {
   "cell_type": "code",
   "execution_count": 6,
   "id": "76efd1ad",
   "metadata": {},
   "outputs": [
    {
     "name": "stdout",
     "output_type": "stream",
     "text": [
      "Number of negative points in training set: 100000\n",
      "Number of positive points in training set: 100000\n",
      "------------------------------------------------------------------------------------------------------------------------------------------------------------------------------------------------------------------------------------\n",
      "Number of negative points in test set: 11347\n",
      "Number of positive points in test set: 11347\n",
      "------------------------------------------------------------------------------------------------------------------------------------------------------------------------------------------------------------------------------------\n",
      "Number of negative points in test set: 10000\n",
      "Number of positive points in test set: 10000\n"
     ]
    }
   ],
   "source": [
    "print(f\"Number of negative points in training set: {train.label.value_counts()[0]}\")\n",
    "print(f\"Number of positive points in training set: {train.label.value_counts()[1]}\")\n",
    "print(\"----\"*57)\n",
    "print(f\"Number of negative points in test set: {test.label.value_counts()[0]}\")\n",
    "print(f\"Number of positive points in test set: {test.label.value_counts()[1]}\")\n",
    "print(\"----\"*57)\n",
    "print(f\"Number of negative points in test set: {val.label.value_counts()[0]}\")\n",
    "print(f\"Number of positive points in test set: {val.label.value_counts()[1]}\")"
   ]
  },
  {
   "cell_type": "markdown",
   "id": "1dbb3682",
   "metadata": {},
   "source": [
    "### 3. Importing embedding vectors from pickle file"
   ]
  },
  {
   "cell_type": "code",
   "execution_count": 7,
   "id": "0de3e5d3",
   "metadata": {},
   "outputs": [],
   "source": [
    "with open(\"../../pickle/embedding_vectors_pickle/sum_of_amino_acid_vector.pickle\",'rb') as handle:\n",
    "    dc = pickle.load(handle)"
   ]
  },
  {
   "cell_type": "code",
   "execution_count": 8,
   "id": "de026ef2",
   "metadata": {},
   "outputs": [],
   "source": [
    "def return_embed(prot_name):\n",
    "    try:\n",
    "        return dc[prot_name]\n",
    "    except:\n",
    "        return np.nan\n",
    "train['embed_vec_protein_A'] = train[\"Protein_A\"].apply(return_embed)\n",
    "train['embed_vec_protein_B'] = train[\"Protein_B\"].apply(return_embed)\n",
    "\n",
    "test['embed_vec_protein_A'] = test[\"Protein_A\"].apply(return_embed)\n",
    "test['embed_vec_protein_B'] = test[\"Protein_B\"].apply(return_embed)\n",
    "\n",
    "val['embed_vec_protein_A'] = val[\"Protein_A\"].apply(return_embed)\n",
    "val['embed_vec_protein_B'] = val[\"Protein_B\"].apply(return_embed)\n",
    "\n",
    "\n",
    "train = train.dropna()\n",
    "test = test.dropna()\n",
    "val = val.dropna()"
   ]
  },
  {
   "cell_type": "code",
   "execution_count": 9,
   "id": "b64e9a6a",
   "metadata": {},
   "outputs": [
    {
     "name": "stderr",
     "output_type": "stream",
     "text": [
      "100%|████████████████████████████████████████████████| 200000/200000 [00:44<00:00, 4478.02it/s]\n",
      "100%|██████████████████████████████████████████████████| 22694/22694 [00:04<00:00, 4906.79it/s]\n",
      "100%|██████████████████████████████████████████████████| 20000/20000 [00:04<00:00, 4768.51it/s]\n"
     ]
    }
   ],
   "source": [
    "train_features_Protein_A = []\n",
    "train_features_Protein_B = []\n",
    "train_label = []\n",
    "test_features_Protein_A = []\n",
    "test_features_Protein_B = []\n",
    "test_label =[]\n",
    "val_features_Protein_A = []\n",
    "val_features_Protein_B = []\n",
    "val_label = []\n",
    "for i in tqdm(range(len(train))):\n",
    "    train_features_Protein_A.append(np.array(train.iloc[i].embed_vec_protein_A))\n",
    "    train_features_Protein_B.append(np.array(train.iloc[i].embed_vec_protein_B))\n",
    "    train_label.append(np.array(train.iloc[i].label))\n",
    "    \n",
    "for i in tqdm(range(len(test))):\n",
    "    test_features_Protein_A.append(np.array(test.iloc[i].embed_vec_protein_A))\n",
    "    test_features_Protein_B.append(np.array(test.iloc[i].embed_vec_protein_B))\n",
    "    test_label.append(np.array(test.iloc[i].label))  \n",
    "for i in tqdm(range(len(val))):\n",
    "    \n",
    "    \n",
    "    val_features_Protein_A.append(np.array(val.iloc[i].embed_vec_protein_A))\n",
    "    val_features_Protein_B.append(np.array(val.iloc[i].embed_vec_protein_B))\n",
    "    val_label.append(np.array(val.iloc[i].label))"
   ]
  },
  {
   "cell_type": "code",
   "execution_count": 16,
   "id": "8b1f23cc",
   "metadata": {},
   "outputs": [],
   "source": [
    "train_features_Protein_A = np.array(train_features_Protein_A)\n",
    "train_features_Protein_B = np.array(train_features_Protein_B)\n",
    "train_label = np.array(train_label)\n",
    "\n",
    "test_features_Protein_A = np.array(test_features_Protein_A)\n",
    "test_features_Protein_B = np.array(test_features_Protein_B)\n",
    "test_label = np.array(test_label)\n",
    "\n",
    "val_features_Protein_A = np.array(val_features_Protein_A)\n",
    "val_features_Protein_B = np.array(val_features_Protein_B)\n",
    "val_label = np.array(val_label)"
   ]
  },
  {
   "cell_type": "markdown",
   "id": "f6833262",
   "metadata": {},
   "source": [
    "### 4. Dataloader"
   ]
  },
  {
   "cell_type": "code",
   "execution_count": 17,
   "id": "5fcd522a",
   "metadata": {},
   "outputs": [],
   "source": [
    "class Data(Dataset):\n",
    "    \n",
    "    def __init__(self, X_data_A,X_data_B, y_data):\n",
    "        self.X_data_A = X_data_A\n",
    "        self.X_data_B = X_data_B\n",
    "        self.y_data = y_data\n",
    "        \n",
    "    def __getitem__(self, index):\n",
    "        return self.X_data_A[index],self.X_data_B[index], self.y_data[index]\n",
    "        \n",
    "    def __len__ (self):\n",
    "        return len(self.X_data_A)"
   ]
  },
  {
   "cell_type": "code",
   "execution_count": 18,
   "id": "cbf7455f",
   "metadata": {},
   "outputs": [],
   "source": [
    "train_data = Data(torch.FloatTensor(train_features_Protein_A), torch.FloatTensor(train_features_Protein_B),\n",
    "                       torch.FloatTensor(train_label))\n",
    "\n",
    "test_data = Data(torch.FloatTensor(test_features_Protein_A), torch.FloatTensor(test_features_Protein_B),\n",
    "                       torch.FloatTensor(test_label))\n",
    "\n",
    "val_data = Data(torch.FloatTensor(val_features_Protein_A), torch.FloatTensor(val_features_Protein_B),\n",
    "                       torch.FloatTensor(val_label))"
   ]
  },
  {
   "cell_type": "code",
   "execution_count": 19,
   "id": "c0f2589d",
   "metadata": {},
   "outputs": [],
   "source": [
    "\n",
    "train_loader = DataLoader(dataset=train_data, batch_size=512, shuffle=True,drop_last=True)\n",
    "test_loader = DataLoader(dataset=test_data, batch_size=512,shuffle=True,drop_last=True )\n",
    "val_loader = DataLoader(dataset=val_data, batch_size=512,shuffle=True,drop_last=True )"
   ]
  },
  {
   "cell_type": "code",
   "execution_count": 20,
   "id": "ced5e5c3",
   "metadata": {},
   "outputs": [
    {
     "name": "stdout",
     "output_type": "stream",
     "text": [
      "torch.Size([512, 1024])\n",
      "torch.Size([512, 1024])\n",
      "torch.Size([512])\n"
     ]
    }
   ],
   "source": [
    "for i,j,k in train_loader:\n",
    "    print(i.shape)\n",
    "    print(j.shape)\n",
    "    print(k.shape)\n",
    "    break\n",
    "    "
   ]
  },
  {
   "cell_type": "markdown",
   "id": "070aa937",
   "metadata": {},
   "source": [
    "### 5. Building Models"
   ]
  },
  {
   "cell_type": "code",
   "execution_count": 23,
   "id": "317ccc0f",
   "metadata": {},
   "outputs": [],
   "source": [
    "class BertClassifier(nn.Module):\n",
    "    \n",
    "    def __init__(self,config, embed_dim =1024):\n",
    "        super(BertClassifier,self).__init__()\n",
    "        self.relu = nn.ReLU()\n",
    "        self.config = config\n",
    "        self.conv1  = nn.Conv1d(in_channels = 1,out_channels = 33, kernel_size = 3, stride=1)\n",
    "        self.fc1 = nn.Linear(33726,config.dim_1)\n",
    "        self.fully_connected_layers_1 = nn.ModuleList([nn.Linear(config.dim_1*2,config.dim_1*2)\n",
    "                                                    for _ in range(config.layer_fc_1)])\n",
    "        \n",
    "        \n",
    "    \n",
    "        self.fc_2 = nn.Linear(config.dim_1*2,config.dim_2)\n",
    "        self.fully_connected_layers_2 = nn.ModuleList([nn.Linear(config.dim_2,config.dim_2)\n",
    "                                                    for _ in range(config.layer_fc_2)]) \n",
    "        self.bn2 = nn.BatchNorm1d(num_features=config.dim_2)\n",
    "        self.fc3 = nn.Linear(config.dim_2,config.dim_1)\n",
    "        \n",
    "        self.fc4 = nn.Linear(config.dim_1,256)\n",
    "        self.drop = nn.Dropout(p = 0.2)\n",
    "        self.fc5 = nn.Linear(256,128)\n",
    "        self.fc6 = nn.Linear(128,64)\n",
    "        self.fc7 = nn.Linear(64,32)\n",
    "        self.fc8 = nn.Linear(32,16)\n",
    "        self.fc9 = nn.Linear(16,8)\n",
    "        self.fc10 = nn.Linear(8,1)\n",
    "    \n",
    "    def forward(self, inputs_A,inputs_B):\n",
    "        \n",
    "        \n",
    "        inputs_A = inputs_A.reshape(512,1,1024)\n",
    "        output_conv_A = self.relu(self.conv1(inputs_A))\n",
    "        output_conv_A = output_conv_A.reshape(512,33726) \n",
    "        output_A = self.relu(self.fc1(output_conv_A))\n",
    "        \n",
    "        inputs_B = inputs_B.reshape(512,1,1024)\n",
    "        output_conv_B = self.relu(self.conv1(inputs_B))\n",
    "        output_conv_B = output_conv_B.reshape(512,33726) \n",
    "        output_B = self.relu(self.fc1(output_conv_B))\n",
    "        \n",
    "        \n",
    "        output = torch.cat((output_A, output_B),1)\n",
    "        for i in range(self.config.layer_fc_1):\n",
    "            output = self.relu(self.fully_connected_layers_1[i](output))\n",
    "        output = self.relu(self.fc_2(output))\n",
    "        for i in range(self.config.layer_fc_2):\n",
    "            output = self.relu(self.fully_connected_layers_2[i](output))\n",
    "            \n",
    "        output  = self.bn2(output)\n",
    "        output = self.relu(self.fc3(output))\n",
    "        if self.config.dropout:\n",
    "            output = self.drop(output)\n",
    "            \n",
    "        output = self.relu(self.fc4(output))\n",
    "        output = self.relu(self.fc5(output))\n",
    "        output = self.relu(self.fc6(output))\n",
    "        output = self.fc7(output)\n",
    "        output = self.fc8(output)\n",
    "        output = self.fc9(output)\n",
    "        output = self.fc10(output)\n",
    "\n",
    "        return output"
   ]
  },
  {
   "cell_type": "code",
   "execution_count": 24,
   "id": "ae8abe36",
   "metadata": {},
   "outputs": [],
   "source": [
    "def build_optimizer(network, optimizer,learning_rate, momentum, weight_decay, amsgrad):\n",
    "    \n",
    "    \n",
    "#     if optimizer == \"sgd\":\n",
    "#         optimizer_ = optim.SGD(network.parameters(),\n",
    "#                               lr = learning_rate, momentum = momentum, weight_decay = weight_decay,\n",
    "#                               )\n",
    "        \n",
    "        \n",
    "    if optimizer == \"adam\":\n",
    "        optimizer_ = optim.Adam(network.parameters(),\n",
    "                               lr = learning_rate, betas = (0.9,0.999), weight_decay = weight_decay,\n",
    "                               amsgrad = amsgrad)\n",
    "        \n",
    "#     elif optimizer == \"rms_prop\":\n",
    "#         optimizer_ = optim.RMSprop(network.parameters(),\n",
    "#                                lr = learning_rate, alpha = 0.99, momentum = momentum,\n",
    "#                                   weight_decay = weight_decay)\n",
    "                               \n",
    "        \n",
    "    return optimizer_"
   ]
  },
  {
   "cell_type": "code",
   "execution_count": 25,
   "id": "187891f7",
   "metadata": {},
   "outputs": [
    {
     "name": "stdout",
     "output_type": "stream",
     "text": [
      "{'early_terminate': {'min_iter': 3, 'type': 'hyperband'},\n",
      " 'method': 'random',\n",
      " 'metric': {'goal': 'maximize', 'name': 'val_accuracy'},\n",
      " 'parameters': {'amsgrad': {'values': [False]},\n",
      "                'dim_1': {'values': [2048]},\n",
      "                'dim_2': {'values': [512]},\n",
      "                'dropout': {'values': [False]},\n",
      "                'epochs': {'value': 10000},\n",
      "                'layer_fc_1': {'values': [2]},\n",
      "                'layer_fc_2': {'values': [2]},\n",
      "                'learning_rate': {'values': [0.0001]},\n",
      "                'momentum': {'values': [0.95]},\n",
      "                'optimizer': {'values': ['adam']},\n",
      "                'weight_decay': {'values': [0.009827436437331628]}}}\n"
     ]
    }
   ],
   "source": [
    "sweep_config = {\n",
    "    'method': 'random'\n",
    "    \n",
    "    }\n",
    "metric = {\n",
    "    'name': 'val_accuracy',\n",
    "    'goal': 'maximize'   \n",
    "    }\n",
    "early_terminate = {\"type\": \"hyperband\",\n",
    "      \"min_iter\": 3 }\n",
    "\n",
    "sweep_config['metric'] = metric \n",
    "sweep_config['early_terminate'] = early_terminate \n",
    "\n",
    "parameters_dict = {\n",
    "    \n",
    "    'layer_fc_1': {\n",
    "        'values': [2]\n",
    "        },\n",
    "   \n",
    "    'dim_1': {\n",
    "          'values': [2048]\n",
    "        },\n",
    "    \n",
    "    'layer_fc_2': {\n",
    "        'values': [2]\n",
    "        },\n",
    "    'dim_2': {\n",
    "          'values': [512]\n",
    "        },\n",
    "    \n",
    "    \n",
    "    'dropout': {\n",
    "          'values': [False]\n",
    "        },\n",
    "   \n",
    "    \n",
    "    \n",
    "    'optimizer': {\n",
    "          'values': ['adam']   #\n",
    "        }\n",
    "    ,\n",
    "  \n",
    "    \n",
    "    'learning_rate': {\n",
    "            'values':[0.0001]\n",
    "        },\n",
    "    \n",
    "    \n",
    "    'momentum': {\n",
    "          'values': [0.95]\n",
    "        },\n",
    "    \n",
    "    'weight_decay': {\n",
    "            'values': [0.009827436437331628]\n",
    "        },\n",
    "   \n",
    "        \n",
    "    'amsgrad': {\n",
    "          'values': [False]\n",
    "        },\n",
    "    \n",
    "    \n",
    "    }\n",
    "\n",
    "\n",
    "sweep_config['parameters'] = parameters_dict\n",
    "parameters_dict.update({\n",
    "    'epochs': {\n",
    "        'value': 10000}\n",
    "    })\n",
    "\n",
    "\n",
    "import pprint\n",
    "\n",
    "pprint.pprint(sweep_config)"
   ]
  },
  {
   "cell_type": "markdown",
   "id": "c5e114cc",
   "metadata": {},
   "source": [
    "### 6. Training"
   ]
  },
  {
   "cell_type": "code",
   "execution_count": 26,
   "id": "549fb3b6",
   "metadata": {},
   "outputs": [],
   "source": [
    "import random\n",
    "import time\n",
    "from tqdm import tqdm\n",
    "loss_fn = nn.BCEWithLogitsLoss()\n",
    "def train(config, train_dataloader,val_dataloader = None):\n",
    "    \n",
    "    best_accuracy = 0\n",
    "    device = torch.device(\"cuda\" if torch.cuda.is_available() else \"cpu\")\n",
    "    print(\"Start training...\\n\")\n",
    "    epochs = config.epochs\n",
    "    \n",
    "    model = BertClassifier(config).to(device)\n",
    "    loss_fn = nn.BCEWithLogitsLoss()\n",
    "    optimizer,learning_rate, momentum, weight_decay, amsgrad = config.optimizer,config.learning_rate, config.momentum, config.weight_decay, config.amsgrad\n",
    "    optimizer = build_optimizer(model,optimizer,learning_rate, momentum, weight_decay, amsgrad)\n",
    "    \n",
    "    \n",
    "    for epoch_i in range(1,epochs+1):\n",
    "        \n",
    "        total_loss = 0\n",
    "        model.train()\n",
    "        \n",
    "        for step,batch in tqdm(enumerate(train_dataloader)):\n",
    "            \n",
    "            inputs_A,inputs_B, b_labels = tuple(t.to(device) for t in batch)\n",
    "            b_labels = b_labels.reshape((1,512,1)).squeeze(0)\n",
    "            model.zero_grad()\n",
    "            logits = model(inputs_A,inputs_B)\n",
    "            loss = loss_fn(logits,b_labels.float()) \n",
    "            total_loss += loss.item()\n",
    "            loss.mean().backward()\n",
    "            optimizer.step()\n",
    "               \n",
    "        avg_train_loss = total_loss / len(train_dataloader)\n",
    "        \n",
    "    \n",
    "        if val_dataloader is not None:\n",
    "                \n",
    "                val_loss, val_accuracy = evaluate(model, val_dataloader)\n",
    "                if val_accuracy > best_accuracy:\n",
    "                    best_accuracy = val_accuracy\n",
    "                    torch.save({\n",
    "                        'epoch': epoch_i ,\n",
    "                        'model_state_dict': model.state_dict(),\n",
    "                        'optimizer_state_dict': optimizer.state_dict(),\n",
    "                        'loss': loss_fn,\n",
    "                        }, 'best_model_trained_fc_v2.pth')\n",
    "        \n",
    "        wandb.log({\n",
    "                    'epoch': epoch_i, \n",
    "                    \"train_loss\": avg_train_loss,\n",
    "                    \"val_loss\": val_loss,\n",
    "                   })\n",
    "        print(f\"Epoch: {epoch_i} | Training Loss: {avg_train_loss}  | Validation Loss: {val_loss}  | Accuracy: {val_accuracy:.2f}\")\n",
    "        with open('result.txt', 'a') as f:\n",
    "            print(f\"Epoch: {epoch_i} | Training Loss: {avg_train_loss}  | Validation Loss: {val_loss}  | Accuracy: {val_accuracy:.2f}\", file=f) \n",
    "    print(\"\\n\")\n",
    "    wandb.log({\"val_accuracy\": best_accuracy,\n",
    "                   })\n",
    "    print(f\"Training complete! Best accuracy: {best_accuracy:.2f}%.\")\n",
    "    \n",
    "\n",
    "def evaluate(model,val_dataloader):\n",
    "    \n",
    "    \n",
    "    model.eval()\n",
    "    val_accuracy = []\n",
    "    val_loss = []\n",
    "    for batch in tqdm(val_dataloader):\n",
    "        device = torch.device(\"cuda\" if torch.cuda.is_available() else \"cpu\")\n",
    "        inputs_A,inputs_B ,b_labels = tuple(t.to(device) for t in batch)\n",
    "        b_labels = b_labels.reshape((1,512,1)).squeeze(0)\n",
    "        with torch.no_grad():\n",
    "                logits = model(inputs_A,inputs_B)\n",
    "        \n",
    "        loss = loss_fn(logits, b_labels.float())\n",
    "        val_loss.append(loss.item())\n",
    "        preds = torch.round(torch.sigmoid(logits))\n",
    "        \n",
    "        accuracy = (preds.float() == b_labels.float()).cpu().numpy().mean() * 100\n",
    "        val_accuracy.append(accuracy)\n",
    "    \n",
    "    val_loss = np.mean(val_loss)\n",
    "    val_accuracy = np.mean(val_accuracy)\n",
    "\n",
    "    return val_loss, val_accuracy "
   ]
  },
  {
   "cell_type": "code",
   "execution_count": 27,
   "id": "68fcd769",
   "metadata": {},
   "outputs": [],
   "source": [
    "def make(config):\n",
    "    # Make the data\n",
    "    if torch.cuda.is_available():\n",
    "        device = torch.device('cuda')\n",
    "        print('The code uses GPU...')\n",
    "    else:\n",
    "        device = torch.device('cpu')\n",
    "        print('The code uses CPU!!!')\n",
    "\n",
    "    \n",
    "    model = BertClassifier(config).to(device)\n",
    "\n",
    "    # Make the loss and optimizer\n",
    "    criterion = nn.BCEWithLogitsLoss()\n",
    "    optimizer,learning_rate, momentum, weight_decay, amsgrad = config.optimizer,config.learning_rate, config.momentum, config.weight_decay, config.amsgrad\n",
    "    optimizer = build_optimizer(model,optimizer,learning_rate, momentum, weight_decay, amsgrad)\n",
    "    \n",
    "    return model, criterion, optimizer"
   ]
  },
  {
   "cell_type": "code",
   "execution_count": 28,
   "id": "ee1d948b",
   "metadata": {},
   "outputs": [],
   "source": [
    "def model_pipeline(config=None):\n",
    "\n",
    "    # tell wandb to get started\n",
    "    with wandb.init(config=config):\n",
    "      # access all HPs through wandb.config, so logging matches execution!\n",
    "      config = wandb.config\n",
    "      \n",
    "      # make the model, data, and optimization problem\n",
    "      \n",
    "      \n",
    "      \n",
    "      # and use them to train the model\n",
    "      train(config, train_loader,val_dataloader = val_loader)\n",
    "     \n",
    "      for i,j in test_loader:\n",
    "          x = i\n",
    "      wandb.save(\"model.onnx\")\n"
   ]
  },
  {
   "cell_type": "code",
   "execution_count": 29,
   "id": "bb9c4e8e",
   "metadata": {},
   "outputs": [
    {
     "name": "stdout",
     "output_type": "stream",
     "text": [
      "Create sweep with ID: g1vfyx3p\n",
      "Sweep URL: https://wandb.ai/danish2562022/PI__prediction_cnn_hyperparameter_siamese_sum_vectors/sweeps/g1vfyx3p\n"
     ]
    }
   ],
   "source": [
    "sweep_id = wandb.sweep(sweep_config, project=\"PI__prediction_cnn_hyperparameter_siamese_sum_vectors\")"
   ]
  },
  {
   "cell_type": "code",
   "execution_count": 30,
   "id": "9ce2f691",
   "metadata": {
    "scrolled": true
   },
   "outputs": [
    {
     "name": "stderr",
     "output_type": "stream",
     "text": [
      "\u001b[34m\u001b[1mwandb\u001b[0m: Agent Starting Run: tx9ibtzb with config:\n",
      "\u001b[34m\u001b[1mwandb\u001b[0m: \tamsgrad: False\n",
      "\u001b[34m\u001b[1mwandb\u001b[0m: \tdim_1: 2048\n",
      "\u001b[34m\u001b[1mwandb\u001b[0m: \tdim_2: 512\n",
      "\u001b[34m\u001b[1mwandb\u001b[0m: \tdropout: False\n",
      "\u001b[34m\u001b[1mwandb\u001b[0m: \tepochs: 10000\n",
      "\u001b[34m\u001b[1mwandb\u001b[0m: \tlayer_fc_1: 2\n",
      "\u001b[34m\u001b[1mwandb\u001b[0m: \tlayer_fc_2: 2\n",
      "\u001b[34m\u001b[1mwandb\u001b[0m: \tlearning_rate: 0.0001\n",
      "\u001b[34m\u001b[1mwandb\u001b[0m: \tmomentum: 0.95\n",
      "\u001b[34m\u001b[1mwandb\u001b[0m: \toptimizer: adam\n",
      "\u001b[34m\u001b[1mwandb\u001b[0m: \tweight_decay: 0.009827436437331628\n",
      "Failed to detect the name of this notebook, you can set it manually with the WANDB_NOTEBOOK_NAME environment variable to enable code saving.\n"
     ]
    },
    {
     "data": {
      "text/html": [
       "wandb version 0.13.6 is available!  To upgrade, please run:\n",
       " $ pip install wandb --upgrade"
      ],
      "text/plain": [
       "<IPython.core.display.HTML object>"
      ]
     },
     "metadata": {},
     "output_type": "display_data"
    },
    {
     "data": {
      "text/html": [
       "Tracking run with wandb version 0.13.4"
      ],
      "text/plain": [
       "<IPython.core.display.HTML object>"
      ]
     },
     "metadata": {},
     "output_type": "display_data"
    },
    {
     "data": {
      "text/html": [
       "Run data is saved locally in <code>/home/anwer/Desktop/PPI_prediction/model_training_py/models/wandb/run-20221206_215631-tx9ibtzb</code>"
      ],
      "text/plain": [
       "<IPython.core.display.HTML object>"
      ]
     },
     "metadata": {},
     "output_type": "display_data"
    },
    {
     "data": {
      "text/html": [
       "Syncing run <strong><a href=\"https://wandb.ai/danish2562022/PI__prediction_cnn_hyperparameter_siamese_sum_vectors/runs/tx9ibtzb\" target=\"_blank\">exalted-sweep-1</a></strong> to <a href=\"https://wandb.ai/danish2562022/PI__prediction_cnn_hyperparameter_siamese_sum_vectors\" target=\"_blank\">Weights & Biases</a> (<a href=\"https://wandb.me/run\" target=\"_blank\">docs</a>)<br/>Sweep page:  <a href=\"https://wandb.ai/danish2562022/PI__prediction_cnn_hyperparameter_siamese_sum_vectors/sweeps/g1vfyx3p\" target=\"_blank\">https://wandb.ai/danish2562022/PI__prediction_cnn_hyperparameter_siamese_sum_vectors/sweeps/g1vfyx3p</a>"
      ],
      "text/plain": [
       "<IPython.core.display.HTML object>"
      ]
     },
     "metadata": {},
     "output_type": "display_data"
    },
    {
     "name": "stdout",
     "output_type": "stream",
     "text": [
      "Start training...\n",
      "\n"
     ]
    },
    {
     "name": "stderr",
     "output_type": "stream",
     "text": [
      "390it [05:36,  1.16it/s]\n",
      "100%|██████████████████████████████████████████████████████████| 39/39 [00:07<00:00,  5.21it/s]\n"
     ]
    },
    {
     "name": "stdout",
     "output_type": "stream",
     "text": [
      "Epoch: 1 | Training Loss: 0.4879250459181957  | Validation Loss: 0.5132225408003881  | Accuracy: 74.87\n"
     ]
    },
    {
     "name": "stderr",
     "output_type": "stream",
     "text": [
      "390it [05:32,  1.17it/s]\n",
      "100%|██████████████████████████████████████████████████████████| 39/39 [00:07<00:00,  5.49it/s]\n"
     ]
    },
    {
     "name": "stdout",
     "output_type": "stream",
     "text": [
      "Epoch: 2 | Training Loss: 0.3659836367918895  | Validation Loss: 0.5347631374994913  | Accuracy: 75.17\n"
     ]
    },
    {
     "name": "stderr",
     "output_type": "stream",
     "text": [
      "390it [01:13,  5.30it/s]\n",
      "100%|██████████████████████████████████████████████████████████| 39/39 [00:02<00:00, 18.91it/s]\n"
     ]
    },
    {
     "name": "stdout",
     "output_type": "stream",
     "text": [
      "Epoch: 3 | Training Loss: 0.3338280221590629  | Validation Loss: 0.5090373609310541  | Accuracy: 75.19\n"
     ]
    },
    {
     "name": "stderr",
     "output_type": "stream",
     "text": [
      "390it [01:12,  5.37it/s]\n",
      "100%|██████████████████████████████████████████████████████████| 39/39 [00:02<00:00, 14.50it/s]\n"
     ]
    },
    {
     "name": "stdout",
     "output_type": "stream",
     "text": [
      "Epoch: 4 | Training Loss: 0.31744048182780926  | Validation Loss: 0.5402032526639792  | Accuracy: 74.54\n"
     ]
    },
    {
     "name": "stderr",
     "output_type": "stream",
     "text": [
      "390it [01:16,  5.12it/s]\n",
      "100%|██████████████████████████████████████████████████████████| 39/39 [00:02<00:00, 16.26it/s]\n"
     ]
    },
    {
     "name": "stdout",
     "output_type": "stream",
     "text": [
      "Epoch: 5 | Training Loss: 0.30119184301449703  | Validation Loss: 0.5916966459689996  | Accuracy: 71.31\n"
     ]
    },
    {
     "name": "stderr",
     "output_type": "stream",
     "text": [
      "390it [01:13,  5.33it/s]\n",
      "100%|██████████████████████████████████████████████████████████| 39/39 [00:02<00:00, 16.52it/s]\n"
     ]
    },
    {
     "name": "stdout",
     "output_type": "stream",
     "text": [
      "Epoch: 6 | Training Loss: 0.29095098280753845  | Validation Loss: 0.4791491971566127  | Accuracy: 77.72\n"
     ]
    },
    {
     "name": "stderr",
     "output_type": "stream",
     "text": [
      "390it [01:16,  5.10it/s]\n",
      "100%|██████████████████████████████████████████████████████████| 39/39 [00:02<00:00, 14.53it/s]\n"
     ]
    },
    {
     "name": "stdout",
     "output_type": "stream",
     "text": [
      "Epoch: 7 | Training Loss: 0.28384022196898095  | Validation Loss: 0.5553386776875227  | Accuracy: 74.95\n"
     ]
    },
    {
     "name": "stderr",
     "output_type": "stream",
     "text": [
      "390it [01:21,  4.80it/s]\n",
      "100%|██████████████████████████████████████████████████████████| 39/39 [00:02<00:00, 13.82it/s]\n"
     ]
    },
    {
     "name": "stdout",
     "output_type": "stream",
     "text": [
      "Epoch: 8 | Training Loss: 0.276473017457204  | Validation Loss: 0.7458408750020541  | Accuracy: 69.06\n"
     ]
    },
    {
     "name": "stderr",
     "output_type": "stream",
     "text": [
      "390it [02:49,  2.30it/s]\n",
      "100%|██████████████████████████████████████████████████████████| 39/39 [00:02<00:00, 15.20it/s]\n"
     ]
    },
    {
     "name": "stdout",
     "output_type": "stream",
     "text": [
      "Epoch: 9 | Training Loss: 0.2726217533151309  | Validation Loss: 0.5031605408741877  | Accuracy: 75.84\n"
     ]
    },
    {
     "name": "stderr",
     "output_type": "stream",
     "text": [
      "390it [04:35,  1.42it/s]\n",
      "100%|██████████████████████████████████████████████████████████| 39/39 [00:03<00:00, 12.82it/s]\n"
     ]
    },
    {
     "name": "stdout",
     "output_type": "stream",
     "text": [
      "Epoch: 10 | Training Loss: 0.26596646786500244  | Validation Loss: 0.6339709071012644  | Accuracy: 73.35\n"
     ]
    },
    {
     "name": "stderr",
     "output_type": "stream",
     "text": [
      "390it [04:35,  1.42it/s]\n",
      "100%|██████████████████████████████████████████████████████████| 39/39 [00:07<00:00,  5.05it/s]\n"
     ]
    },
    {
     "name": "stdout",
     "output_type": "stream",
     "text": [
      "Epoch: 11 | Training Loss: 0.2609015512924928  | Validation Loss: 0.5142112160340334  | Accuracy: 76.13\n"
     ]
    },
    {
     "name": "stderr",
     "output_type": "stream",
     "text": [
      "390it [05:26,  1.20it/s]\n",
      "100%|██████████████████████████████████████████████████████████| 39/39 [00:01<00:00, 20.24it/s]\n"
     ]
    },
    {
     "name": "stdout",
     "output_type": "stream",
     "text": [
      "Epoch: 12 | Training Loss: 0.25557357153067223  | Validation Loss: 0.569758265446394  | Accuracy: 75.34\n"
     ]
    },
    {
     "name": "stderr",
     "output_type": "stream",
     "text": [
      "390it [01:05,  5.97it/s]\n",
      "100%|██████████████████████████████████████████████████████████| 39/39 [00:02<00:00, 17.50it/s]\n"
     ]
    },
    {
     "name": "stdout",
     "output_type": "stream",
     "text": [
      "Epoch: 13 | Training Loss: 0.25463236245589377  | Validation Loss: 0.7653543796294775  | Accuracy: 69.92\n"
     ]
    },
    {
     "name": "stderr",
     "output_type": "stream",
     "text": [
      "390it [01:09,  5.63it/s]\n",
      "100%|██████████████████████████████████████████████████████████| 39/39 [00:02<00:00, 17.40it/s]\n"
     ]
    },
    {
     "name": "stdout",
     "output_type": "stream",
     "text": [
      "Epoch: 14 | Training Loss: 0.2479572131847724  | Validation Loss: 0.6445973500227317  | Accuracy: 74.64\n"
     ]
    },
    {
     "name": "stderr",
     "output_type": "stream",
     "text": [
      "390it [01:10,  5.57it/s]\n",
      "100%|██████████████████████████████████████████████████████████| 39/39 [00:02<00:00, 16.75it/s]\n"
     ]
    },
    {
     "name": "stdout",
     "output_type": "stream",
     "text": [
      "Epoch: 15 | Training Loss: 0.24604848558321976  | Validation Loss: 0.5511492605392749  | Accuracy: 75.58\n"
     ]
    },
    {
     "name": "stderr",
     "output_type": "stream",
     "text": [
      "390it [01:10,  5.57it/s]\n",
      "100%|██████████████████████████████████████████████████████████| 39/39 [00:02<00:00, 17.78it/s]\n"
     ]
    },
    {
     "name": "stdout",
     "output_type": "stream",
     "text": [
      "Epoch: 16 | Training Loss: 0.2428993256428303  | Validation Loss: 0.6236329766420218  | Accuracy: 74.62\n"
     ]
    },
    {
     "name": "stderr",
     "output_type": "stream",
     "text": [
      "390it [01:10,  5.57it/s]\n",
      "100%|██████████████████████████████████████████████████████████| 39/39 [00:02<00:00, 16.45it/s]\n"
     ]
    },
    {
     "name": "stdout",
     "output_type": "stream",
     "text": [
      "Epoch: 17 | Training Loss: 0.2405336299003699  | Validation Loss: 0.5643827051688464  | Accuracy: 75.75\n"
     ]
    },
    {
     "name": "stderr",
     "output_type": "stream",
     "text": [
      "390it [01:10,  5.55it/s]\n",
      "100%|██████████████████████████████████████████████████████████| 39/39 [00:02<00:00, 18.33it/s]\n"
     ]
    },
    {
     "name": "stdout",
     "output_type": "stream",
     "text": [
      "Epoch: 18 | Training Loss: 0.23848437059384126  | Validation Loss: 0.6185533847564306  | Accuracy: 74.07\n"
     ]
    },
    {
     "name": "stderr",
     "output_type": "stream",
     "text": [
      "390it [01:11,  5.48it/s]\n",
      "100%|██████████████████████████████████████████████████████████| 39/39 [00:02<00:00, 16.68it/s]\n"
     ]
    },
    {
     "name": "stdout",
     "output_type": "stream",
     "text": [
      "Epoch: 19 | Training Loss: 0.23397795386039294  | Validation Loss: 0.6189982218620105  | Accuracy: 75.16\n"
     ]
    },
    {
     "name": "stderr",
     "output_type": "stream",
     "text": [
      "390it [01:17,  5.03it/s]\n",
      "100%|██████████████████████████████████████████████████████████| 39/39 [00:02<00:00, 14.34it/s]\n"
     ]
    },
    {
     "name": "stdout",
     "output_type": "stream",
     "text": [
      "Epoch: 20 | Training Loss: 0.23487064513640526  | Validation Loss: 0.6611560353865991  | Accuracy: 72.97\n"
     ]
    },
    {
     "name": "stderr",
     "output_type": "stream",
     "text": [
      "390it [01:20,  4.85it/s]\n",
      "100%|██████████████████████████████████████████████████████████| 39/39 [00:02<00:00, 14.31it/s]\n"
     ]
    },
    {
     "name": "stdout",
     "output_type": "stream",
     "text": [
      "Epoch: 21 | Training Loss: 0.2316462360131435  | Validation Loss: 0.6511950997205881  | Accuracy: 74.83\n"
     ]
    },
    {
     "name": "stderr",
     "output_type": "stream",
     "text": [
      "390it [01:20,  4.83it/s]\n",
      "100%|██████████████████████████████████████████████████████████| 39/39 [00:02<00:00, 14.19it/s]\n"
     ]
    },
    {
     "name": "stdout",
     "output_type": "stream",
     "text": [
      "Epoch: 22 | Training Loss: 0.22797220888046119  | Validation Loss: 0.6366296609242758  | Accuracy: 73.52\n"
     ]
    },
    {
     "name": "stderr",
     "output_type": "stream",
     "text": [
      "390it [01:21,  4.78it/s]\n",
      "100%|██████████████████████████████████████████████████████████| 39/39 [00:02<00:00, 13.48it/s]\n"
     ]
    },
    {
     "name": "stdout",
     "output_type": "stream",
     "text": [
      "Epoch: 23 | Training Loss: 0.22689354713910664  | Validation Loss: 0.6273210736421438  | Accuracy: 75.77\n"
     ]
    },
    {
     "name": "stderr",
     "output_type": "stream",
     "text": [
      "390it [01:21,  4.78it/s]\n",
      "100%|██████████████████████████████████████████████████████████| 39/39 [00:02<00:00, 13.90it/s]\n"
     ]
    },
    {
     "name": "stdout",
     "output_type": "stream",
     "text": [
      "Epoch: 24 | Training Loss: 0.22710024489042085  | Validation Loss: 1.1025625176918812  | Accuracy: 61.75\n"
     ]
    },
    {
     "name": "stderr",
     "output_type": "stream",
     "text": [
      "390it [01:22,  4.74it/s]\n",
      "100%|██████████████████████████████████████████████████████████| 39/39 [00:02<00:00, 13.85it/s]\n"
     ]
    },
    {
     "name": "stdout",
     "output_type": "stream",
     "text": [
      "Epoch: 25 | Training Loss: 0.22480865525893676  | Validation Loss: 0.5978177128693997  | Accuracy: 75.92\n"
     ]
    },
    {
     "name": "stderr",
     "output_type": "stream",
     "text": [
      "390it [01:22,  4.75it/s]\n",
      "100%|██████████████████████████████████████████████████████████| 39/39 [00:02<00:00, 13.89it/s]\n"
     ]
    },
    {
     "name": "stdout",
     "output_type": "stream",
     "text": [
      "Epoch: 26 | Training Loss: 0.2211116456832641  | Validation Loss: 0.6106816270412543  | Accuracy: 74.66\n"
     ]
    },
    {
     "name": "stderr",
     "output_type": "stream",
     "text": [
      "390it [01:22,  4.75it/s]\n",
      "100%|██████████████████████████████████████████████████████████| 39/39 [00:02<00:00, 13.90it/s]\n"
     ]
    },
    {
     "name": "stdout",
     "output_type": "stream",
     "text": [
      "Epoch: 27 | Training Loss: 0.2217754806081454  | Validation Loss: 0.6042617528866498  | Accuracy: 74.74\n"
     ]
    },
    {
     "name": "stderr",
     "output_type": "stream",
     "text": [
      "390it [01:22,  4.70it/s]\n",
      "100%|██████████████████████████████████████████████████████████| 39/39 [00:02<00:00, 13.59it/s]\n"
     ]
    },
    {
     "name": "stdout",
     "output_type": "stream",
     "text": [
      "Epoch: 28 | Training Loss: 0.21975224889241732  | Validation Loss: 0.6035387072807703  | Accuracy: 74.64\n"
     ]
    },
    {
     "name": "stderr",
     "output_type": "stream",
     "text": [
      "390it [01:22,  4.73it/s]\n",
      "100%|██████████████████████████████████████████████████████████| 39/39 [00:02<00:00, 13.64it/s]\n"
     ]
    },
    {
     "name": "stdout",
     "output_type": "stream",
     "text": [
      "Epoch: 29 | Training Loss: 0.21669029245773952  | Validation Loss: 0.6931088062433096  | Accuracy: 71.81\n"
     ]
    },
    {
     "name": "stderr",
     "output_type": "stream",
     "text": [
      "390it [01:22,  4.71it/s]\n",
      "100%|██████████████████████████████████████████████████████████| 39/39 [00:02<00:00, 13.89it/s]\n"
     ]
    },
    {
     "name": "stdout",
     "output_type": "stream",
     "text": [
      "Epoch: 30 | Training Loss: 0.21415072301259408  | Validation Loss: 0.6470647821059594  | Accuracy: 74.02\n"
     ]
    },
    {
     "name": "stderr",
     "output_type": "stream",
     "text": [
      "390it [01:23,  4.69it/s]\n",
      "100%|██████████████████████████████████████████████████████████| 39/39 [00:02<00:00, 14.38it/s]\n"
     ]
    },
    {
     "name": "stdout",
     "output_type": "stream",
     "text": [
      "Epoch: 31 | Training Loss: 0.21317745470083677  | Validation Loss: 0.6012342312397101  | Accuracy: 74.70\n"
     ]
    },
    {
     "name": "stderr",
     "output_type": "stream",
     "text": [
      "390it [01:22,  4.70it/s]\n",
      "100%|██████████████████████████████████████████████████████████| 39/39 [00:02<00:00, 13.33it/s]\n"
     ]
    },
    {
     "name": "stdout",
     "output_type": "stream",
     "text": [
      "Epoch: 32 | Training Loss: 0.20988916620994225  | Validation Loss: 0.879514964727255  | Accuracy: 67.75\n"
     ]
    },
    {
     "name": "stderr",
     "output_type": "stream",
     "text": [
      "390it [01:22,  4.71it/s]\n",
      "100%|██████████████████████████████████████████████████████████| 39/39 [00:02<00:00, 13.71it/s]\n"
     ]
    },
    {
     "name": "stdout",
     "output_type": "stream",
     "text": [
      "Epoch: 33 | Training Loss: 0.2097277032259183  | Validation Loss: 0.7003446588149438  | Accuracy: 73.25\n"
     ]
    },
    {
     "name": "stderr",
     "output_type": "stream",
     "text": [
      "390it [01:23,  4.67it/s]\n",
      "100%|██████████████████████████████████████████████████████████| 39/39 [00:02<00:00, 13.45it/s]\n"
     ]
    },
    {
     "name": "stdout",
     "output_type": "stream",
     "text": [
      "Epoch: 34 | Training Loss: 0.20698276165968332  | Validation Loss: 0.6347344808089428  | Accuracy: 72.76\n"
     ]
    },
    {
     "name": "stderr",
     "output_type": "stream",
     "text": [
      "390it [01:23,  4.69it/s]\n",
      "100%|██████████████████████████████████████████████████████████| 39/39 [00:02<00:00, 13.48it/s]\n"
     ]
    },
    {
     "name": "stdout",
     "output_type": "stream",
     "text": [
      "Epoch: 35 | Training Loss: 0.20571471540591654  | Validation Loss: 0.6028230664057609  | Accuracy: 74.76\n"
     ]
    },
    {
     "name": "stderr",
     "output_type": "stream",
     "text": [
      "390it [01:23,  4.68it/s]\n",
      "100%|██████████████████████████████████████████████████████████| 39/39 [00:02<00:00, 13.60it/s]\n"
     ]
    },
    {
     "name": "stdout",
     "output_type": "stream",
     "text": [
      "Epoch: 36 | Training Loss: 0.20572314025499883  | Validation Loss: 0.6471208471518296  | Accuracy: 73.27\n"
     ]
    },
    {
     "name": "stderr",
     "output_type": "stream",
     "text": [
      "390it [01:23,  4.67it/s]\n",
      "100%|██████████████████████████████████████████████████████████| 39/39 [00:02<00:00, 13.65it/s]\n"
     ]
    },
    {
     "name": "stdout",
     "output_type": "stream",
     "text": [
      "Epoch: 37 | Training Loss: 0.20317408133011597  | Validation Loss: 0.8378476057297144  | Accuracy: 69.84\n"
     ]
    },
    {
     "name": "stderr",
     "output_type": "stream",
     "text": [
      "390it [01:23,  4.68it/s]\n",
      "100%|██████████████████████████████████████████████████████████| 39/39 [00:02<00:00, 13.67it/s]\n"
     ]
    },
    {
     "name": "stdout",
     "output_type": "stream",
     "text": [
      "Epoch: 38 | Training Loss: 0.20070376480237032  | Validation Loss: 0.7561010320981344  | Accuracy: 70.49\n"
     ]
    },
    {
     "name": "stderr",
     "output_type": "stream",
     "text": [
      "390it [01:23,  4.67it/s]\n",
      "100%|██████████████████████████████████████████████████████████| 39/39 [00:02<00:00, 13.44it/s]\n"
     ]
    },
    {
     "name": "stdout",
     "output_type": "stream",
     "text": [
      "Epoch: 39 | Training Loss: 0.19904306955062426  | Validation Loss: 0.8438072021190937  | Accuracy: 69.86\n"
     ]
    },
    {
     "name": "stderr",
     "output_type": "stream",
     "text": [
      "390it [01:23,  4.66it/s]\n",
      "100%|██████████████████████████████████████████████████████████| 39/39 [00:02<00:00, 13.68it/s]\n"
     ]
    },
    {
     "name": "stdout",
     "output_type": "stream",
     "text": [
      "Epoch: 40 | Training Loss: 0.19682172177693782  | Validation Loss: 1.05182395531581  | Accuracy: 67.02\n"
     ]
    },
    {
     "name": "stderr",
     "output_type": "stream",
     "text": [
      "390it [01:23,  4.67it/s]\n",
      "100%|██████████████████████████████████████████████████████████| 39/39 [00:02<00:00, 13.64it/s]\n"
     ]
    },
    {
     "name": "stdout",
     "output_type": "stream",
     "text": [
      "Epoch: 41 | Training Loss: 0.19518316613558012  | Validation Loss: 0.6694894830385844  | Accuracy: 72.90\n"
     ]
    },
    {
     "name": "stderr",
     "output_type": "stream",
     "text": [
      "390it [01:23,  4.66it/s]\n",
      "100%|██████████████████████████████████████████████████████████| 39/39 [00:02<00:00, 13.73it/s]\n"
     ]
    },
    {
     "name": "stdout",
     "output_type": "stream",
     "text": [
      "Epoch: 42 | Training Loss: 0.1929035912721585  | Validation Loss: 0.7203291761569488  | Accuracy: 73.33\n"
     ]
    },
    {
     "name": "stderr",
     "output_type": "stream",
     "text": [
      "390it [01:23,  4.66it/s]\n",
      "100%|██████████████████████████████████████████████████████████| 39/39 [00:02<00:00, 14.17it/s]\n"
     ]
    },
    {
     "name": "stdout",
     "output_type": "stream",
     "text": [
      "Epoch: 43 | Training Loss: 0.1942061323003891  | Validation Loss: 0.8933673669130374  | Accuracy: 67.55\n"
     ]
    },
    {
     "name": "stderr",
     "output_type": "stream",
     "text": [
      "390it [01:24,  4.63it/s]\n",
      "100%|██████████████████████████████████████████████████████████| 39/39 [00:02<00:00, 13.40it/s]\n"
     ]
    },
    {
     "name": "stdout",
     "output_type": "stream",
     "text": [
      "Epoch: 44 | Training Loss: 0.19282726618723992  | Validation Loss: 0.9402488515927241  | Accuracy: 69.47\n"
     ]
    },
    {
     "name": "stderr",
     "output_type": "stream",
     "text": [
      "390it [01:23,  4.65it/s]\n",
      "100%|██████████████████████████████████████████████████████████| 39/39 [00:02<00:00, 13.60it/s]\n"
     ]
    },
    {
     "name": "stdout",
     "output_type": "stream",
     "text": [
      "Epoch: 45 | Training Loss: 0.18974734537112406  | Validation Loss: 0.6195184542582586  | Accuracy: 75.39\n"
     ]
    },
    {
     "name": "stderr",
     "output_type": "stream",
     "text": [
      "390it [01:23,  4.66it/s]\n",
      "100%|██████████████████████████████████████████████████████████| 39/39 [00:02<00:00, 13.64it/s]\n"
     ]
    },
    {
     "name": "stdout",
     "output_type": "stream",
     "text": [
      "Epoch: 46 | Training Loss: 0.18830302819991723  | Validation Loss: 0.7042347742961004  | Accuracy: 72.15\n"
     ]
    },
    {
     "name": "stderr",
     "output_type": "stream",
     "text": [
      "390it [01:23,  4.65it/s]\n",
      "100%|██████████████████████████████████████████████████████████| 39/39 [00:02<00:00, 13.31it/s]\n"
     ]
    },
    {
     "name": "stdout",
     "output_type": "stream",
     "text": [
      "Epoch: 47 | Training Loss: 0.18648636520673068  | Validation Loss: 0.7855105109703846  | Accuracy: 70.47\n"
     ]
    },
    {
     "name": "stderr",
     "output_type": "stream",
     "text": [
      "390it [01:24,  4.63it/s]\n",
      "100%|██████████████████████████████████████████████████████████| 39/39 [00:02<00:00, 13.74it/s]\n"
     ]
    },
    {
     "name": "stdout",
     "output_type": "stream",
     "text": [
      "Epoch: 48 | Training Loss: 0.18558831127026143  | Validation Loss: 0.8078667292228112  | Accuracy: 70.24\n"
     ]
    },
    {
     "name": "stderr",
     "output_type": "stream",
     "text": [
      "390it [01:24,  4.62it/s]\n",
      "100%|██████████████████████████████████████████████████████████| 39/39 [00:02<00:00, 13.61it/s]\n"
     ]
    },
    {
     "name": "stdout",
     "output_type": "stream",
     "text": [
      "Epoch: 49 | Training Loss: 0.18250777461589912  | Validation Loss: 0.620096321289356  | Accuracy: 74.73\n"
     ]
    },
    {
     "name": "stderr",
     "output_type": "stream",
     "text": [
      "390it [01:24,  4.63it/s]\n",
      "100%|██████████████████████████████████████████████████████████| 39/39 [00:02<00:00, 13.49it/s]\n"
     ]
    },
    {
     "name": "stdout",
     "output_type": "stream",
     "text": [
      "Epoch: 50 | Training Loss: 0.18368146421435552  | Validation Loss: 0.6814361734267993  | Accuracy: 74.28\n"
     ]
    },
    {
     "name": "stderr",
     "output_type": "stream",
     "text": [
      "390it [01:24,  4.63it/s]\n",
      "100%|██████████████████████████████████████████████████████████| 39/39 [00:02<00:00, 13.51it/s]\n"
     ]
    },
    {
     "name": "stdout",
     "output_type": "stream",
     "text": [
      "Epoch: 51 | Training Loss: 0.17996191495122055  | Validation Loss: 0.7295679939098847  | Accuracy: 71.96\n"
     ]
    },
    {
     "name": "stderr",
     "output_type": "stream",
     "text": [
      "390it [01:24,  4.63it/s]\n",
      "100%|██████████████████████████████████████████████████████████| 39/39 [00:02<00:00, 14.15it/s]\n"
     ]
    },
    {
     "name": "stdout",
     "output_type": "stream",
     "text": [
      "Epoch: 52 | Training Loss: 0.18029154009926013  | Validation Loss: 0.8700780501732459  | Accuracy: 69.14\n"
     ]
    },
    {
     "name": "stderr",
     "output_type": "stream",
     "text": [
      "390it [01:24,  4.64it/s]\n",
      "100%|██████████████████████████████████████████████████████████| 39/39 [00:02<00:00, 13.33it/s]\n"
     ]
    },
    {
     "name": "stdout",
     "output_type": "stream",
     "text": [
      "Epoch: 53 | Training Loss: 0.1792813905920738  | Validation Loss: 0.7190520304899949  | Accuracy: 73.38\n"
     ]
    },
    {
     "name": "stderr",
     "output_type": "stream",
     "text": [
      "390it [01:24,  4.61it/s]\n",
      "100%|██████████████████████████████████████████████████████████| 39/39 [00:02<00:00, 13.89it/s]\n"
     ]
    },
    {
     "name": "stdout",
     "output_type": "stream",
     "text": [
      "Epoch: 54 | Training Loss: 0.17791294468901095  | Validation Loss: 0.6614150481346326  | Accuracy: 74.62\n"
     ]
    },
    {
     "name": "stderr",
     "output_type": "stream",
     "text": [
      "390it [01:24,  4.63it/s]\n",
      "100%|██████████████████████████████████████████████████████████| 39/39 [00:02<00:00, 13.58it/s]\n"
     ]
    },
    {
     "name": "stdout",
     "output_type": "stream",
     "text": [
      "Epoch: 55 | Training Loss: 0.1759176869996083  | Validation Loss: 0.7449425061543783  | Accuracy: 73.01\n"
     ]
    },
    {
     "name": "stderr",
     "output_type": "stream",
     "text": [
      "390it [01:23,  4.65it/s]\n",
      "100%|██████████████████████████████████████████████████████████| 39/39 [00:02<00:00, 13.65it/s]\n"
     ]
    },
    {
     "name": "stdout",
     "output_type": "stream",
     "text": [
      "Epoch: 56 | Training Loss: 0.17441543503067433  | Validation Loss: 0.7785117702606397  | Accuracy: 71.29\n"
     ]
    },
    {
     "name": "stderr",
     "output_type": "stream",
     "text": [
      "390it [01:24,  4.59it/s]\n",
      "100%|██████████████████████████████████████████████████████████| 39/39 [00:02<00:00, 13.46it/s]\n"
     ]
    },
    {
     "name": "stdout",
     "output_type": "stream",
     "text": [
      "Epoch: 57 | Training Loss: 0.17173823666496155  | Validation Loss: 0.9189155667256086  | Accuracy: 69.01\n"
     ]
    },
    {
     "name": "stderr",
     "output_type": "stream",
     "text": [
      "390it [01:25,  4.59it/s]\n",
      "100%|██████████████████████████████████████████████████████████| 39/39 [00:02<00:00, 14.44it/s]\n"
     ]
    },
    {
     "name": "stdout",
     "output_type": "stream",
     "text": [
      "Epoch: 58 | Training Loss: 0.17139577550383714  | Validation Loss: 0.7771473970168676  | Accuracy: 72.09\n"
     ]
    },
    {
     "name": "stderr",
     "output_type": "stream",
     "text": [
      "390it [01:24,  4.63it/s]\n",
      "100%|██████████████████████████████████████████████████████████| 39/39 [00:02<00:00, 13.45it/s]\n"
     ]
    },
    {
     "name": "stdout",
     "output_type": "stream",
     "text": [
      "Epoch: 59 | Training Loss: 0.17063349229403033  | Validation Loss: 0.8502876865558135  | Accuracy: 69.61\n"
     ]
    },
    {
     "name": "stderr",
     "output_type": "stream",
     "text": [
      "390it [01:24,  4.60it/s]\n",
      "100%|██████████████████████████████████████████████████████████| 39/39 [00:02<00:00, 13.44it/s]\n"
     ]
    },
    {
     "name": "stdout",
     "output_type": "stream",
     "text": [
      "Epoch: 60 | Training Loss: 0.16983487229698743  | Validation Loss: 0.9445210160353245  | Accuracy: 69.94\n"
     ]
    },
    {
     "name": "stderr",
     "output_type": "stream",
     "text": [
      "390it [01:24,  4.61it/s]\n",
      "100%|██████████████████████████████████████████████████████████| 39/39 [00:02<00:00, 13.54it/s]\n"
     ]
    },
    {
     "name": "stdout",
     "output_type": "stream",
     "text": [
      "Epoch: 61 | Training Loss: 0.16635282379694474  | Validation Loss: 0.8555712715173379  | Accuracy: 69.29\n"
     ]
    },
    {
     "name": "stderr",
     "output_type": "stream",
     "text": [
      "390it [01:24,  4.62it/s]\n",
      "100%|██████████████████████████████████████████████████████████| 39/39 [00:02<00:00, 13.52it/s]\n"
     ]
    },
    {
     "name": "stdout",
     "output_type": "stream",
     "text": [
      "Epoch: 62 | Training Loss: 0.1659380261332561  | Validation Loss: 0.7871673703193665  | Accuracy: 71.42\n"
     ]
    },
    {
     "name": "stderr",
     "output_type": "stream",
     "text": [
      "390it [01:24,  4.61it/s]\n",
      "100%|██████████████████████████████████████████████████████████| 39/39 [00:02<00:00, 13.45it/s]\n"
     ]
    },
    {
     "name": "stdout",
     "output_type": "stream",
     "text": [
      "Epoch: 63 | Training Loss: 0.16451935642040694  | Validation Loss: 0.9179345384622232  | Accuracy: 69.64\n"
     ]
    },
    {
     "name": "stderr",
     "output_type": "stream",
     "text": [
      "390it [01:23,  4.65it/s]\n",
      "100%|██████████████████████████████████████████████████████████| 39/39 [00:02<00:00, 13.26it/s]\n"
     ]
    },
    {
     "name": "stdout",
     "output_type": "stream",
     "text": [
      "Epoch: 64 | Training Loss: 0.16506390336614388  | Validation Loss: 0.8019689199252006  | Accuracy: 71.82\n"
     ]
    },
    {
     "name": "stderr",
     "output_type": "stream",
     "text": [
      "390it [01:24,  4.60it/s]\n",
      "100%|██████████████████████████████████████████████████████████| 39/39 [00:02<00:00, 13.29it/s]\n"
     ]
    },
    {
     "name": "stdout",
     "output_type": "stream",
     "text": [
      "Epoch: 65 | Training Loss: 0.16147007086338142  | Validation Loss: 0.74246969131323  | Accuracy: 73.64\n"
     ]
    },
    {
     "name": "stderr",
     "output_type": "stream",
     "text": [
      "390it [01:24,  4.61it/s]\n",
      "100%|██████████████████████████████████████████████████████████| 39/39 [00:02<00:00, 13.61it/s]\n"
     ]
    },
    {
     "name": "stdout",
     "output_type": "stream",
     "text": [
      "Epoch: 66 | Training Loss: 0.16255797629172986  | Validation Loss: 0.7986811307760385  | Accuracy: 72.37\n"
     ]
    },
    {
     "name": "stderr",
     "output_type": "stream",
     "text": [
      "390it [01:24,  4.63it/s]\n",
      "100%|██████████████████████████████████████████████████████████| 39/39 [00:02<00:00, 13.58it/s]\n"
     ]
    },
    {
     "name": "stdout",
     "output_type": "stream",
     "text": [
      "Epoch: 67 | Training Loss: 0.1611641396696751  | Validation Loss: 0.8598304528456467  | Accuracy: 70.47\n"
     ]
    },
    {
     "name": "stderr",
     "output_type": "stream",
     "text": [
      "390it [01:24,  4.60it/s]\n",
      "100%|██████████████████████████████████████████████████████████| 39/39 [00:02<00:00, 13.71it/s]\n"
     ]
    },
    {
     "name": "stdout",
     "output_type": "stream",
     "text": [
      "Epoch: 68 | Training Loss: 0.15774206194357995  | Validation Loss: 0.7632545309189038  | Accuracy: 72.85\n"
     ]
    },
    {
     "name": "stderr",
     "output_type": "stream",
     "text": [
      "390it [01:25,  4.58it/s]\n",
      "100%|██████████████████████████████████████████████████████████| 39/39 [00:02<00:00, 13.45it/s]\n"
     ]
    },
    {
     "name": "stdout",
     "output_type": "stream",
     "text": [
      "Epoch: 69 | Training Loss: 0.15768050643113943  | Validation Loss: 0.808798997830122  | Accuracy: 71.84\n"
     ]
    },
    {
     "name": "stderr",
     "output_type": "stream",
     "text": [
      "390it [01:24,  4.62it/s]\n",
      "100%|██████████████████████████████████████████████████████████| 39/39 [00:02<00:00, 13.52it/s]\n"
     ]
    },
    {
     "name": "stdout",
     "output_type": "stream",
     "text": [
      "Epoch: 70 | Training Loss: 0.15716816714176765  | Validation Loss: 0.8937711853247422  | Accuracy: 71.08\n"
     ]
    },
    {
     "name": "stderr",
     "output_type": "stream",
     "text": [
      "390it [01:24,  4.61it/s]\n",
      "100%|██████████████████████████████████████████████████████████| 39/39 [00:02<00:00, 13.50it/s]\n"
     ]
    },
    {
     "name": "stdout",
     "output_type": "stream",
     "text": [
      "Epoch: 71 | Training Loss: 0.1552262131220255  | Validation Loss: 0.912921028259473  | Accuracy: 69.94\n"
     ]
    },
    {
     "name": "stderr",
     "output_type": "stream",
     "text": [
      "390it [01:24,  4.60it/s]\n",
      "100%|██████████████████████████████████████████████████████████| 39/39 [00:02<00:00, 13.50it/s]\n"
     ]
    },
    {
     "name": "stdout",
     "output_type": "stream",
     "text": [
      "Epoch: 72 | Training Loss: 0.15336148301378275  | Validation Loss: 0.8042186819590055  | Accuracy: 71.01\n"
     ]
    },
    {
     "name": "stderr",
     "output_type": "stream",
     "text": [
      "390it [01:24,  4.61it/s]\n",
      "100%|██████████████████████████████████████████████████████████| 39/39 [00:02<00:00, 13.54it/s]\n"
     ]
    },
    {
     "name": "stdout",
     "output_type": "stream",
     "text": [
      "Epoch: 73 | Training Loss: 0.1513505546328349  | Validation Loss: 0.8222266802420983  | Accuracy: 71.64\n"
     ]
    },
    {
     "name": "stderr",
     "output_type": "stream",
     "text": [
      "390it [01:24,  4.62it/s]\n",
      "100%|██████████████████████████████████████████████████████████| 39/39 [00:02<00:00, 13.64it/s]\n"
     ]
    },
    {
     "name": "stdout",
     "output_type": "stream",
     "text": [
      "Epoch: 74 | Training Loss: 0.15223313035109104  | Validation Loss: 0.8436627724231818  | Accuracy: 71.60\n"
     ]
    },
    {
     "name": "stderr",
     "output_type": "stream",
     "text": [
      "390it [01:24,  4.62it/s]\n",
      "100%|██████████████████████████████████████████████████████████| 39/39 [00:02<00:00, 13.59it/s]\n"
     ]
    },
    {
     "name": "stdout",
     "output_type": "stream",
     "text": [
      "Epoch: 75 | Training Loss: 0.14986242865904784  | Validation Loss: 0.9418517641532116  | Accuracy: 70.10\n"
     ]
    },
    {
     "name": "stderr",
     "output_type": "stream",
     "text": [
      "390it [01:24,  4.61it/s]\n",
      "100%|██████████████████████████████████████████████████████████| 39/39 [00:02<00:00, 13.46it/s]\n"
     ]
    },
    {
     "name": "stdout",
     "output_type": "stream",
     "text": [
      "Epoch: 76 | Training Loss: 0.14897314027333872  | Validation Loss: 0.9245870984517611  | Accuracy: 70.32\n"
     ]
    },
    {
     "name": "stderr",
     "output_type": "stream",
     "text": [
      "390it [01:24,  4.61it/s]\n",
      "100%|██████████████████████████████████████████████████████████| 39/39 [00:02<00:00, 13.55it/s]\n"
     ]
    },
    {
     "name": "stdout",
     "output_type": "stream",
     "text": [
      "Epoch: 77 | Training Loss: 0.15032521916123537  | Validation Loss: 0.8272764621636807  | Accuracy: 72.37\n"
     ]
    },
    {
     "name": "stderr",
     "output_type": "stream",
     "text": [
      "390it [01:24,  4.61it/s]\n",
      "100%|██████████████████████████████████████████████████████████| 39/39 [00:02<00:00, 13.63it/s]\n"
     ]
    },
    {
     "name": "stdout",
     "output_type": "stream",
     "text": [
      "Epoch: 78 | Training Loss: 0.1448654783077729  | Validation Loss: 0.9219681712297293  | Accuracy: 69.73\n"
     ]
    },
    {
     "name": "stderr",
     "output_type": "stream",
     "text": [
      "390it [01:24,  4.61it/s]\n",
      "100%|██████████████████████████████████████████████████████████| 39/39 [00:02<00:00, 13.62it/s]\n"
     ]
    },
    {
     "name": "stdout",
     "output_type": "stream",
     "text": [
      "Epoch: 79 | Training Loss: 0.1474333469493267  | Validation Loss: 1.0024777895365007  | Accuracy: 68.93\n"
     ]
    },
    {
     "name": "stderr",
     "output_type": "stream",
     "text": [
      "390it [01:24,  4.62it/s]\n",
      "100%|██████████████████████████████████████████████████████████| 39/39 [00:02<00:00, 13.27it/s]\n"
     ]
    },
    {
     "name": "stdout",
     "output_type": "stream",
     "text": [
      "Epoch: 80 | Training Loss: 0.14493840384559753  | Validation Loss: 0.8350599973629682  | Accuracy: 71.53\n"
     ]
    },
    {
     "name": "stderr",
     "output_type": "stream",
     "text": [
      "390it [01:25,  4.58it/s]\n",
      "100%|██████████████████████████████████████████████████████████| 39/39 [00:02<00:00, 13.34it/s]\n"
     ]
    },
    {
     "name": "stdout",
     "output_type": "stream",
     "text": [
      "Epoch: 81 | Training Loss: 0.1441563246723933  | Validation Loss: 0.7697530404115335  | Accuracy: 72.77\n"
     ]
    },
    {
     "name": "stderr",
     "output_type": "stream",
     "text": [
      "390it [01:24,  4.61it/s]\n",
      "100%|██████████████████████████████████████████████████████████| 39/39 [00:02<00:00, 13.48it/s]\n"
     ]
    },
    {
     "name": "stdout",
     "output_type": "stream",
     "text": [
      "Epoch: 82 | Training Loss: 0.14208086637350228  | Validation Loss: 0.8762354010190719  | Accuracy: 71.76\n"
     ]
    },
    {
     "name": "stderr",
     "output_type": "stream",
     "text": [
      "390it [01:24,  4.60it/s]\n",
      "100%|██████████████████████████████████████████████████████████| 39/39 [00:02<00:00, 13.44it/s]\n"
     ]
    },
    {
     "name": "stdout",
     "output_type": "stream",
     "text": [
      "Epoch: 83 | Training Loss: 0.14012705326462405  | Validation Loss: 0.9504851760008396  | Accuracy: 70.02\n"
     ]
    },
    {
     "name": "stderr",
     "output_type": "stream",
     "text": [
      "390it [01:25,  4.59it/s]\n",
      "100%|██████████████████████████████████████████████████████████| 39/39 [00:02<00:00, 14.01it/s]\n"
     ]
    },
    {
     "name": "stdout",
     "output_type": "stream",
     "text": [
      "Epoch: 84 | Training Loss: 0.1402481825878987  | Validation Loss: 0.7784939591701214  | Accuracy: 72.68\n"
     ]
    },
    {
     "name": "stderr",
     "output_type": "stream",
     "text": [
      "390it [01:24,  4.60it/s]\n",
      "100%|██████████████████████████████████████████████████████████| 39/39 [00:02<00:00, 14.25it/s]\n"
     ]
    },
    {
     "name": "stdout",
     "output_type": "stream",
     "text": [
      "Epoch: 85 | Training Loss: 0.1391529825826486  | Validation Loss: 0.9056252944163787  | Accuracy: 70.40\n"
     ]
    },
    {
     "name": "stderr",
     "output_type": "stream",
     "text": [
      "390it [01:25,  4.57it/s]\n",
      "100%|██████████████████████████████████████████████████████████| 39/39 [00:02<00:00, 14.47it/s]\n"
     ]
    },
    {
     "name": "stdout",
     "output_type": "stream",
     "text": [
      "Epoch: 86 | Training Loss: 0.13791268748732713  | Validation Loss: 0.8725370917564783  | Accuracy: 71.37\n"
     ]
    },
    {
     "name": "stderr",
     "output_type": "stream",
     "text": [
      "390it [01:24,  4.59it/s]\n",
      "100%|██████████████████████████████████████████████████████████| 39/39 [00:02<00:00, 13.49it/s]\n"
     ]
    },
    {
     "name": "stdout",
     "output_type": "stream",
     "text": [
      "Epoch: 87 | Training Loss: 0.13790789819680727  | Validation Loss: 0.9532439448894598  | Accuracy: 71.51\n"
     ]
    },
    {
     "name": "stderr",
     "output_type": "stream",
     "text": [
      "390it [01:24,  4.61it/s]\n",
      "100%|██████████████████████████████████████████████████████████| 39/39 [00:02<00:00, 13.18it/s]\n"
     ]
    },
    {
     "name": "stdout",
     "output_type": "stream",
     "text": [
      "Epoch: 88 | Training Loss: 0.13853758151332538  | Validation Loss: 0.9188596988335634  | Accuracy: 71.39\n"
     ]
    },
    {
     "name": "stderr",
     "output_type": "stream",
     "text": [
      "390it [01:23,  4.65it/s]\n",
      "100%|██████████████████████████████████████████████████████████| 39/39 [00:02<00:00, 13.23it/s]\n"
     ]
    },
    {
     "name": "stdout",
     "output_type": "stream",
     "text": [
      "Epoch: 89 | Training Loss: 0.13646354113633816  | Validation Loss: 0.9523908648735437  | Accuracy: 70.24\n"
     ]
    },
    {
     "name": "stderr",
     "output_type": "stream",
     "text": [
      "390it [01:24,  4.59it/s]\n",
      "100%|██████████████████████████████████████████████████████████| 39/39 [00:02<00:00, 13.37it/s]\n"
     ]
    },
    {
     "name": "stdout",
     "output_type": "stream",
     "text": [
      "Epoch: 90 | Training Loss: 0.13528397728999456  | Validation Loss: 0.9590006119165665  | Accuracy: 69.53\n"
     ]
    },
    {
     "name": "stderr",
     "output_type": "stream",
     "text": [
      "390it [01:25,  4.58it/s]\n",
      "100%|██████████████████████████████████████████████████████████| 39/39 [00:02<00:00, 13.37it/s]\n"
     ]
    },
    {
     "name": "stdout",
     "output_type": "stream",
     "text": [
      "Epoch: 91 | Training Loss: 0.13515994306176138  | Validation Loss: 1.0372363542899108  | Accuracy: 68.68\n"
     ]
    },
    {
     "name": "stderr",
     "output_type": "stream",
     "text": [
      "390it [01:24,  4.62it/s]\n",
      "100%|██████████████████████████████████████████████████████████| 39/39 [00:02<00:00, 13.59it/s]\n"
     ]
    },
    {
     "name": "stdout",
     "output_type": "stream",
     "text": [
      "Epoch: 92 | Training Loss: 0.1345453451268184  | Validation Loss: 0.9424790006417495  | Accuracy: 70.54\n"
     ]
    },
    {
     "name": "stderr",
     "output_type": "stream",
     "text": [
      "390it [01:24,  4.60it/s]\n",
      "100%|██████████████████████████████████████████████████████████| 39/39 [00:02<00:00, 13.54it/s]\n"
     ]
    },
    {
     "name": "stdout",
     "output_type": "stream",
     "text": [
      "Epoch: 93 | Training Loss: 0.13109030658617998  | Validation Loss: 0.8933972792747693  | Accuracy: 70.98\n"
     ]
    },
    {
     "name": "stderr",
     "output_type": "stream",
     "text": [
      "390it [01:24,  4.61it/s]\n",
      "100%|██████████████████████████████████████████████████████████| 39/39 [00:02<00:00, 13.54it/s]\n"
     ]
    },
    {
     "name": "stdout",
     "output_type": "stream",
     "text": [
      "Epoch: 94 | Training Loss: 0.132084340067246  | Validation Loss: 0.9016781739699535  | Accuracy: 71.91\n"
     ]
    },
    {
     "name": "stderr",
     "output_type": "stream",
     "text": [
      "390it [01:24,  4.61it/s]\n",
      "100%|██████████████████████████████████████████████████████████| 39/39 [00:02<00:00, 13.53it/s]\n"
     ]
    },
    {
     "name": "stdout",
     "output_type": "stream",
     "text": [
      "Epoch: 95 | Training Loss: 0.13132129112879434  | Validation Loss: 1.0579705650989826  | Accuracy: 67.86\n"
     ]
    },
    {
     "name": "stderr",
     "output_type": "stream",
     "text": [
      "390it [01:24,  4.60it/s]\n",
      "100%|██████████████████████████████████████████████████████████| 39/39 [00:02<00:00, 13.54it/s]\n"
     ]
    },
    {
     "name": "stdout",
     "output_type": "stream",
     "text": [
      "Epoch: 96 | Training Loss: 0.12914940732029767  | Validation Loss: 1.0515109193630707  | Accuracy: 68.59\n"
     ]
    },
    {
     "name": "stderr",
     "output_type": "stream",
     "text": [
      "390it [01:24,  4.59it/s]\n",
      "100%|██████████████████████████████████████████████████████████| 39/39 [00:02<00:00, 13.48it/s]\n"
     ]
    },
    {
     "name": "stdout",
     "output_type": "stream",
     "text": [
      "Epoch: 97 | Training Loss: 0.1294288628567488  | Validation Loss: 0.9794882199703119  | Accuracy: 69.58\n"
     ]
    },
    {
     "name": "stderr",
     "output_type": "stream",
     "text": [
      "390it [01:24,  4.61it/s]\n",
      "100%|██████████████████████████████████████████████████████████| 39/39 [00:02<00:00, 13.70it/s]\n"
     ]
    },
    {
     "name": "stdout",
     "output_type": "stream",
     "text": [
      "Epoch: 98 | Training Loss: 0.13109250496595334  | Validation Loss: 1.1341145099737706  | Accuracy: 67.24\n"
     ]
    },
    {
     "name": "stderr",
     "output_type": "stream",
     "text": [
      "390it [01:24,  4.60it/s]\n",
      "100%|██████████████████████████████████████████████████████████| 39/39 [00:02<00:00, 13.52it/s]\n"
     ]
    },
    {
     "name": "stdout",
     "output_type": "stream",
     "text": [
      "Epoch: 99 | Training Loss: 0.12776447028303758  | Validation Loss: 0.9470424529833671  | Accuracy: 70.49\n"
     ]
    },
    {
     "name": "stderr",
     "output_type": "stream",
     "text": [
      "390it [01:24,  4.61it/s]\n",
      "100%|██████████████████████████████████████████████████████████| 39/39 [00:02<00:00, 13.79it/s]\n"
     ]
    },
    {
     "name": "stdout",
     "output_type": "stream",
     "text": [
      "Epoch: 100 | Training Loss: 0.12731210912267368  | Validation Loss: 0.9577243863007961  | Accuracy: 70.40\n"
     ]
    },
    {
     "name": "stderr",
     "output_type": "stream",
     "text": [
      "390it [01:24,  4.60it/s]\n",
      "100%|██████████████████████████████████████████████████████████| 39/39 [00:02<00:00, 14.43it/s]\n"
     ]
    },
    {
     "name": "stdout",
     "output_type": "stream",
     "text": [
      "Epoch: 101 | Training Loss: 0.12738341230612535  | Validation Loss: 1.108970929414798  | Accuracy: 67.02\n"
     ]
    },
    {
     "name": "stderr",
     "output_type": "stream",
     "text": [
      "390it [01:24,  4.61it/s]\n",
      "100%|██████████████████████████████████████████████████████████| 39/39 [00:02<00:00, 13.74it/s]\n"
     ]
    },
    {
     "name": "stdout",
     "output_type": "stream",
     "text": [
      "Epoch: 102 | Training Loss: 0.1257771959098486  | Validation Loss: 0.8624448608129452  | Accuracy: 72.14\n"
     ]
    },
    {
     "name": "stderr",
     "output_type": "stream",
     "text": [
      "390it [01:25,  4.55it/s]\n",
      "100%|██████████████████████████████████████████████████████████| 39/39 [00:02<00:00, 13.49it/s]\n"
     ]
    },
    {
     "name": "stdout",
     "output_type": "stream",
     "text": [
      "Epoch: 103 | Training Loss: 0.1251513285514636  | Validation Loss: 0.9666400872744046  | Accuracy: 70.77\n"
     ]
    },
    {
     "name": "stderr",
     "output_type": "stream",
     "text": [
      "390it [01:25,  4.57it/s]\n",
      "100%|██████████████████████████████████████████████████████████| 39/39 [00:02<00:00, 13.60it/s]\n"
     ]
    },
    {
     "name": "stdout",
     "output_type": "stream",
     "text": [
      "Epoch: 104 | Training Loss: 0.12481762327444859  | Validation Loss: 0.787655790646871  | Accuracy: 72.77\n"
     ]
    },
    {
     "name": "stderr",
     "output_type": "stream",
     "text": [
      "390it [01:24,  4.60it/s]\n",
      "100%|██████████████████████████████████████████████████████████| 39/39 [00:02<00:00, 13.56it/s]\n"
     ]
    },
    {
     "name": "stdout",
     "output_type": "stream",
     "text": [
      "Epoch: 105 | Training Loss: 0.12486407890533789  | Validation Loss: 1.130438826023004  | Accuracy: 67.71\n"
     ]
    },
    {
     "name": "stderr",
     "output_type": "stream",
     "text": [
      "390it [01:24,  4.61it/s]\n",
      "100%|██████████████████████████████████████████████████████████| 39/39 [00:02<00:00, 13.58it/s]\n"
     ]
    },
    {
     "name": "stdout",
     "output_type": "stream",
     "text": [
      "Epoch: 106 | Training Loss: 0.12350232050969051  | Validation Loss: 0.8022445700107477  | Accuracy: 72.85\n"
     ]
    },
    {
     "name": "stderr",
     "output_type": "stream",
     "text": [
      "390it [01:25,  4.57it/s]\n",
      "100%|██████████████████████████████████████████████████████████| 39/39 [00:02<00:00, 13.44it/s]\n"
     ]
    },
    {
     "name": "stdout",
     "output_type": "stream",
     "text": [
      "Epoch: 107 | Training Loss: 0.12308602046508055  | Validation Loss: 0.9624413236593589  | Accuracy: 70.62\n"
     ]
    },
    {
     "name": "stderr",
     "output_type": "stream",
     "text": [
      "390it [01:25,  4.57it/s]\n",
      "100%|██████████████████████████████████████████████████████████| 39/39 [00:02<00:00, 13.48it/s]\n"
     ]
    },
    {
     "name": "stdout",
     "output_type": "stream",
     "text": [
      "Epoch: 108 | Training Loss: 0.12274890284125621  | Validation Loss: 0.9379667288217789  | Accuracy: 71.37\n"
     ]
    },
    {
     "name": "stderr",
     "output_type": "stream",
     "text": [
      "390it [01:24,  4.60it/s]\n",
      "100%|██████████████████████████████████████████████████████████| 39/39 [00:02<00:00, 13.34it/s]\n"
     ]
    },
    {
     "name": "stdout",
     "output_type": "stream",
     "text": [
      "Epoch: 109 | Training Loss: 0.12417047344721281  | Validation Loss: 1.1861962783030975  | Accuracy: 67.45\n"
     ]
    },
    {
     "name": "stderr",
     "output_type": "stream",
     "text": [
      "390it [01:25,  4.56it/s]\n",
      "100%|██████████████████████████████████████████████████████████| 39/39 [00:02<00:00, 13.08it/s]\n"
     ]
    },
    {
     "name": "stdout",
     "output_type": "stream",
     "text": [
      "Epoch: 110 | Training Loss: 0.12212327614617653  | Validation Loss: 1.0379686126342187  | Accuracy: 69.70\n"
     ]
    },
    {
     "name": "stderr",
     "output_type": "stream",
     "text": [
      "390it [01:24,  4.62it/s]\n",
      "100%|██████████████████████████████████████████████████████████| 39/39 [00:02<00:00, 13.81it/s]\n"
     ]
    },
    {
     "name": "stdout",
     "output_type": "stream",
     "text": [
      "Epoch: 111 | Training Loss: 0.12181134978548075  | Validation Loss: 1.0507700855915363  | Accuracy: 68.65\n"
     ]
    },
    {
     "name": "stderr",
     "output_type": "stream",
     "text": [
      "390it [01:25,  4.56it/s]\n",
      "100%|██████████████████████████████████████████████████████████| 39/39 [00:02<00:00, 13.78it/s]\n"
     ]
    },
    {
     "name": "stdout",
     "output_type": "stream",
     "text": [
      "Epoch: 112 | Training Loss: 0.1213053299066348  | Validation Loss: 1.0398338192548506  | Accuracy: 69.66\n"
     ]
    },
    {
     "name": "stderr",
     "output_type": "stream",
     "text": [
      "390it [01:25,  4.55it/s]\n",
      "100%|██████████████████████████████████████████████████████████| 39/39 [00:02<00:00, 13.40it/s]\n"
     ]
    },
    {
     "name": "stdout",
     "output_type": "stream",
     "text": [
      "Epoch: 113 | Training Loss: 0.12039730438055136  | Validation Loss: 1.1165466629541838  | Accuracy: 69.46\n"
     ]
    },
    {
     "name": "stderr",
     "output_type": "stream",
     "text": [
      "390it [01:25,  4.58it/s]\n",
      "100%|██████████████████████████████████████████████████████████| 39/39 [00:02<00:00, 13.39it/s]\n"
     ]
    },
    {
     "name": "stdout",
     "output_type": "stream",
     "text": [
      "Epoch: 114 | Training Loss: 0.122313185972281  | Validation Loss: 0.9717946235950177  | Accuracy: 70.08\n"
     ]
    },
    {
     "name": "stderr",
     "output_type": "stream",
     "text": [
      "390it [01:24,  4.63it/s]\n",
      "100%|██████████████████████████████████████████████████████████| 39/39 [00:02<00:00, 13.84it/s]\n"
     ]
    },
    {
     "name": "stdout",
     "output_type": "stream",
     "text": [
      "Epoch: 115 | Training Loss: 0.12181137269124007  | Validation Loss: 1.0128516921630273  | Accuracy: 70.88\n"
     ]
    },
    {
     "name": "stderr",
     "output_type": "stream",
     "text": [
      "390it [01:25,  4.57it/s]\n",
      "100%|██████████████████████████████████████████████████████████| 39/39 [00:02<00:00, 13.46it/s]\n"
     ]
    },
    {
     "name": "stdout",
     "output_type": "stream",
     "text": [
      "Epoch: 116 | Training Loss: 0.11827614571039494  | Validation Loss: 1.1809082994094262  | Accuracy: 68.75\n"
     ]
    },
    {
     "name": "stderr",
     "output_type": "stream",
     "text": [
      "390it [01:25,  4.59it/s]\n",
      "100%|██████████████████████████████████████████████████████████| 39/39 [00:02<00:00, 14.01it/s]\n"
     ]
    },
    {
     "name": "stdout",
     "output_type": "stream",
     "text": [
      "Epoch: 117 | Training Loss: 0.12016773831385832  | Validation Loss: 1.004512227498568  | Accuracy: 70.46\n"
     ]
    },
    {
     "name": "stderr",
     "output_type": "stream",
     "text": [
      "390it [01:24,  4.64it/s]\n",
      "100%|██████████████████████████████████████████████████████████| 39/39 [00:02<00:00, 13.63it/s]\n"
     ]
    },
    {
     "name": "stdout",
     "output_type": "stream",
     "text": [
      "Epoch: 118 | Training Loss: 0.11926989861023732  | Validation Loss: 0.9374332886475784  | Accuracy: 70.43\n"
     ]
    },
    {
     "name": "stderr",
     "output_type": "stream",
     "text": [
      "390it [01:24,  4.60it/s]\n",
      "100%|██████████████████████████████████████████████████████████| 39/39 [00:02<00:00, 13.53it/s]\n"
     ]
    },
    {
     "name": "stdout",
     "output_type": "stream",
     "text": [
      "Epoch: 119 | Training Loss: 0.11752752671257044  | Validation Loss: 1.0551337431638668  | Accuracy: 71.03\n"
     ]
    },
    {
     "name": "stderr",
     "output_type": "stream",
     "text": [
      "390it [01:24,  4.61it/s]\n",
      "100%|██████████████████████████████████████████████████████████| 39/39 [00:02<00:00, 13.49it/s]\n"
     ]
    },
    {
     "name": "stdout",
     "output_type": "stream",
     "text": [
      "Epoch: 120 | Training Loss: 0.11805393554461308  | Validation Loss: 0.9530837428875458  | Accuracy: 71.56\n"
     ]
    },
    {
     "name": "stderr",
     "output_type": "stream",
     "text": [
      "390it [01:24,  4.59it/s]\n",
      "100%|██████████████████████████████████████████████████████████| 39/39 [00:02<00:00, 13.53it/s]\n"
     ]
    },
    {
     "name": "stdout",
     "output_type": "stream",
     "text": [
      "Epoch: 121 | Training Loss: 0.11761084128266726  | Validation Loss: 0.9716373299941038  | Accuracy: 70.40\n"
     ]
    },
    {
     "name": "stderr",
     "output_type": "stream",
     "text": [
      "390it [01:25,  4.58it/s]\n",
      "100%|██████████████████████████████████████████████████████████| 39/39 [00:02<00:00, 13.51it/s]\n"
     ]
    },
    {
     "name": "stdout",
     "output_type": "stream",
     "text": [
      "Epoch: 122 | Training Loss: 0.1180843031559235  | Validation Loss: 1.0300292204587886  | Accuracy: 70.68\n"
     ]
    },
    {
     "name": "stderr",
     "output_type": "stream",
     "text": [
      "390it [01:24,  4.59it/s]\n",
      "100%|██████████████████████████████████████████████████████████| 39/39 [00:02<00:00, 13.62it/s]\n"
     ]
    },
    {
     "name": "stdout",
     "output_type": "stream",
     "text": [
      "Epoch: 123 | Training Loss: 0.11565395251680644  | Validation Loss: 0.9589313390927438  | Accuracy: 71.41\n"
     ]
    },
    {
     "name": "stderr",
     "output_type": "stream",
     "text": [
      "390it [01:25,  4.59it/s]\n",
      "100%|██████████████████████████████████████████████████████████| 39/39 [00:02<00:00, 13.50it/s]\n"
     ]
    },
    {
     "name": "stdout",
     "output_type": "stream",
     "text": [
      "Epoch: 124 | Training Loss: 0.11549431803898934  | Validation Loss: 1.0483493270018163  | Accuracy: 70.42\n"
     ]
    },
    {
     "name": "stderr",
     "output_type": "stream",
     "text": [
      "390it [01:25,  4.58it/s]\n",
      "100%|██████████████████████████████████████████████████████████| 39/39 [00:02<00:00, 13.62it/s]\n"
     ]
    },
    {
     "name": "stdout",
     "output_type": "stream",
     "text": [
      "Epoch: 125 | Training Loss: 0.11669066538795447  | Validation Loss: 0.8689302802085876  | Accuracy: 72.82\n"
     ]
    },
    {
     "name": "stderr",
     "output_type": "stream",
     "text": [
      "390it [01:24,  4.59it/s]\n",
      "100%|██████████████████████████████████████████████████████████| 39/39 [00:02<00:00, 13.49it/s]\n"
     ]
    },
    {
     "name": "stdout",
     "output_type": "stream",
     "text": [
      "Epoch: 126 | Training Loss: 0.11549920272559691  | Validation Loss: 1.0511047549736805  | Accuracy: 70.13\n"
     ]
    },
    {
     "name": "stderr",
     "output_type": "stream",
     "text": [
      "390it [01:24,  4.59it/s]\n",
      "100%|██████████████████████████████████████████████████████████| 39/39 [00:02<00:00, 13.59it/s]\n"
     ]
    },
    {
     "name": "stdout",
     "output_type": "stream",
     "text": [
      "Epoch: 127 | Training Loss: 0.114687549122251  | Validation Loss: 0.9485926796228458  | Accuracy: 70.82\n"
     ]
    },
    {
     "name": "stderr",
     "output_type": "stream",
     "text": [
      "390it [01:25,  4.58it/s]\n",
      "100%|██████████████████████████████████████████████████████████| 39/39 [00:02<00:00, 13.34it/s]\n"
     ]
    },
    {
     "name": "stdout",
     "output_type": "stream",
     "text": [
      "Epoch: 128 | Training Loss: 0.1146261412363786  | Validation Loss: 1.0499740548622913  | Accuracy: 70.67\n"
     ]
    },
    {
     "name": "stderr",
     "output_type": "stream",
     "text": [
      "390it [01:25,  4.58it/s]\n",
      "100%|██████████████████████████████████████████████████████████| 39/39 [00:02<00:00, 14.08it/s]\n"
     ]
    },
    {
     "name": "stdout",
     "output_type": "stream",
     "text": [
      "Epoch: 129 | Training Loss: 0.11626303832118327  | Validation Loss: 1.1080616468038313  | Accuracy: 68.84\n"
     ]
    },
    {
     "name": "stderr",
     "output_type": "stream",
     "text": [
      "390it [01:25,  4.56it/s]\n",
      "100%|██████████████████████████████████████████████████████████| 39/39 [00:02<00:00, 13.56it/s]\n"
     ]
    },
    {
     "name": "stdout",
     "output_type": "stream",
     "text": [
      "Epoch: 130 | Training Loss: 0.11408317390924845  | Validation Loss: 1.2810435050573103  | Accuracy: 65.88\n"
     ]
    },
    {
     "name": "stderr",
     "output_type": "stream",
     "text": [
      "390it [01:25,  4.58it/s]\n",
      "100%|██████████████████████████████████████████████████████████| 39/39 [00:02<00:00, 13.41it/s]\n"
     ]
    },
    {
     "name": "stdout",
     "output_type": "stream",
     "text": [
      "Epoch: 131 | Training Loss: 0.11330003046836608  | Validation Loss: 1.1657653007751856  | Accuracy: 68.33\n"
     ]
    },
    {
     "name": "stderr",
     "output_type": "stream",
     "text": [
      "390it [01:25,  4.58it/s]\n",
      "100%|██████████████████████████████████████████████████████████| 39/39 [00:02<00:00, 13.45it/s]\n"
     ]
    },
    {
     "name": "stdout",
     "output_type": "stream",
     "text": [
      "Epoch: 132 | Training Loss: 0.1120909814364635  | Validation Loss: 1.159269094467163  | Accuracy: 68.50\n"
     ]
    },
    {
     "name": "stderr",
     "output_type": "stream",
     "text": [
      "390it [01:25,  4.57it/s]\n",
      "100%|██████████████████████████████████████████████████████████| 39/39 [00:02<00:00, 13.21it/s]\n"
     ]
    },
    {
     "name": "stdout",
     "output_type": "stream",
     "text": [
      "Epoch: 133 | Training Loss: 0.11189378370077183  | Validation Loss: 0.9673586701735472  | Accuracy: 70.27\n"
     ]
    },
    {
     "name": "stderr",
     "output_type": "stream",
     "text": [
      "390it [01:25,  4.58it/s]\n",
      "100%|██████████████████████████████████████████████████████████| 39/39 [00:02<00:00, 13.45it/s]\n"
     ]
    },
    {
     "name": "stdout",
     "output_type": "stream",
     "text": [
      "Epoch: 134 | Training Loss: 0.11320097742554469  | Validation Loss: 1.004609560355162  | Accuracy: 71.69\n"
     ]
    },
    {
     "name": "stderr",
     "output_type": "stream",
     "text": [
      "390it [01:25,  4.57it/s]\n",
      "100%|██████████████████████████████████████████████████████████| 39/39 [00:02<00:00, 13.52it/s]\n"
     ]
    },
    {
     "name": "stdout",
     "output_type": "stream",
     "text": [
      "Epoch: 135 | Training Loss: 0.11242090859092199  | Validation Loss: 1.1193557121814826  | Accuracy: 69.28\n"
     ]
    },
    {
     "name": "stderr",
     "output_type": "stream",
     "text": [
      "390it [01:25,  4.57it/s]\n",
      "100%|██████████████████████████████████████████████████████████| 39/39 [00:02<00:00, 13.48it/s]\n"
     ]
    },
    {
     "name": "stdout",
     "output_type": "stream",
     "text": [
      "Epoch: 136 | Training Loss: 0.11209994898392604  | Validation Loss: 1.3013869585135045  | Accuracy: 67.42\n"
     ]
    },
    {
     "name": "stderr",
     "output_type": "stream",
     "text": [
      "390it [01:24,  4.59it/s]\n",
      "100%|██████████████████████████████████████████████████████████| 39/39 [00:02<00:00, 13.14it/s]\n"
     ]
    },
    {
     "name": "stdout",
     "output_type": "stream",
     "text": [
      "Epoch: 137 | Training Loss: 0.11324743236868809  | Validation Loss: 1.114311844874651  | Accuracy: 68.51\n"
     ]
    },
    {
     "name": "stderr",
     "output_type": "stream",
     "text": [
      "390it [01:25,  4.59it/s]\n",
      "100%|██████████████████████████████████████████████████████████| 39/39 [00:02<00:00, 13.30it/s]\n"
     ]
    },
    {
     "name": "stdout",
     "output_type": "stream",
     "text": [
      "Epoch: 138 | Training Loss: 0.11070666156518154  | Validation Loss: 1.1892442749096797  | Accuracy: 68.39\n"
     ]
    },
    {
     "name": "stderr",
     "output_type": "stream",
     "text": [
      "390it [01:25,  4.55it/s]\n",
      "100%|██████████████████████████████████████████████████████████| 39/39 [00:02<00:00, 13.40it/s]\n"
     ]
    },
    {
     "name": "stdout",
     "output_type": "stream",
     "text": [
      "Epoch: 139 | Training Loss: 0.11176530046340746  | Validation Loss: 0.9669989194625463  | Accuracy: 70.35\n"
     ]
    },
    {
     "name": "stderr",
     "output_type": "stream",
     "text": [
      "390it [01:24,  4.63it/s]\n",
      "100%|██████████████████████████████████████████████████████████| 39/39 [00:02<00:00, 13.71it/s]\n"
     ]
    },
    {
     "name": "stdout",
     "output_type": "stream",
     "text": [
      "Epoch: 140 | Training Loss: 0.11106918022418634  | Validation Loss: 1.081232154980684  | Accuracy: 69.48\n"
     ]
    },
    {
     "name": "stderr",
     "output_type": "stream",
     "text": [
      "390it [01:24,  4.61it/s]\n",
      "100%|██████████████████████████████████████████████████████████| 39/39 [00:02<00:00, 13.27it/s]\n"
     ]
    },
    {
     "name": "stdout",
     "output_type": "stream",
     "text": [
      "Epoch: 141 | Training Loss: 0.11233771235132829  | Validation Loss: 1.1228400010329027  | Accuracy: 68.96\n"
     ]
    },
    {
     "name": "stderr",
     "output_type": "stream",
     "text": [
      "390it [01:25,  4.54it/s]\n",
      "100%|██████████████████████████████████████████████████████████| 39/39 [00:02<00:00, 13.45it/s]\n"
     ]
    },
    {
     "name": "stdout",
     "output_type": "stream",
     "text": [
      "Epoch: 142 | Training Loss: 0.11036369072703214  | Validation Loss: 1.074605344197689  | Accuracy: 70.03\n"
     ]
    },
    {
     "name": "stderr",
     "output_type": "stream",
     "text": [
      "390it [01:24,  4.62it/s]\n",
      "100%|██████████████████████████████████████████████████████████| 39/39 [00:02<00:00, 13.44it/s]\n"
     ]
    },
    {
     "name": "stdout",
     "output_type": "stream",
     "text": [
      "Epoch: 143 | Training Loss: 0.11173045157622068  | Validation Loss: 1.11306509299156  | Accuracy: 69.53\n"
     ]
    },
    {
     "name": "stderr",
     "output_type": "stream",
     "text": [
      "390it [01:24,  4.60it/s]\n",
      "100%|██████████████████████████████████████████████████████████| 39/39 [00:02<00:00, 13.66it/s]\n"
     ]
    },
    {
     "name": "stdout",
     "output_type": "stream",
     "text": [
      "Epoch: 144 | Training Loss: 0.11043633262698467  | Validation Loss: 0.9616302939561697  | Accuracy: 69.98\n"
     ]
    },
    {
     "name": "stderr",
     "output_type": "stream",
     "text": [
      "390it [01:24,  4.59it/s]\n",
      "100%|██████████████████████████████████████████████████████████| 39/39 [00:02<00:00, 13.54it/s]\n"
     ]
    },
    {
     "name": "stdout",
     "output_type": "stream",
     "text": [
      "Epoch: 145 | Training Loss: 0.109611227000371  | Validation Loss: 0.999265010540302  | Accuracy: 70.72\n"
     ]
    },
    {
     "name": "stderr",
     "output_type": "stream",
     "text": [
      "390it [01:24,  4.59it/s]\n",
      "100%|██████████████████████████████████████████████████████████| 39/39 [00:02<00:00, 13.30it/s]\n"
     ]
    },
    {
     "name": "stdout",
     "output_type": "stream",
     "text": [
      "Epoch: 146 | Training Loss: 0.10905891767679117  | Validation Loss: 1.0141383134401762  | Accuracy: 71.20\n"
     ]
    },
    {
     "name": "stderr",
     "output_type": "stream",
     "text": [
      "390it [01:26,  4.52it/s]\n",
      "100%|██████████████████████████████████████████████████████████| 39/39 [00:02<00:00, 13.26it/s]\n"
     ]
    },
    {
     "name": "stdout",
     "output_type": "stream",
     "text": [
      "Epoch: 147 | Training Loss: 0.1101550513257583  | Validation Loss: 1.082884391148885  | Accuracy: 69.48\n"
     ]
    },
    {
     "name": "stderr",
     "output_type": "stream",
     "text": [
      "390it [01:24,  4.63it/s]\n",
      "100%|██████████████████████████████████████████████████████████| 39/39 [00:02<00:00, 13.06it/s]\n"
     ]
    },
    {
     "name": "stdout",
     "output_type": "stream",
     "text": [
      "Epoch: 148 | Training Loss: 0.10973601118685343  | Validation Loss: 0.8841970440668937  | Accuracy: 72.55\n"
     ]
    },
    {
     "name": "stderr",
     "output_type": "stream",
     "text": [
      "390it [01:25,  4.55it/s]\n",
      "100%|██████████████████████████████████████████████████████████| 39/39 [00:02<00:00, 13.97it/s]\n"
     ]
    },
    {
     "name": "stdout",
     "output_type": "stream",
     "text": [
      "Epoch: 149 | Training Loss: 0.10923455680410067  | Validation Loss: 0.9990594753852258  | Accuracy: 70.95\n"
     ]
    },
    {
     "name": "stderr",
     "output_type": "stream",
     "text": [
      "390it [01:25,  4.58it/s]\n",
      "100%|██████████████████████████████████████████████████████████| 39/39 [00:02<00:00, 13.36it/s]\n"
     ]
    },
    {
     "name": "stdout",
     "output_type": "stream",
     "text": [
      "Epoch: 150 | Training Loss: 0.10901473876184378  | Validation Loss: 1.007155450490805  | Accuracy: 70.63\n"
     ]
    },
    {
     "name": "stderr",
     "output_type": "stream",
     "text": [
      "390it [01:25,  4.55it/s]\n",
      "100%|██████████████████████████████████████████████████████████| 39/39 [00:02<00:00, 13.28it/s]\n"
     ]
    },
    {
     "name": "stdout",
     "output_type": "stream",
     "text": [
      "Epoch: 151 | Training Loss: 0.10834660589312896  | Validation Loss: 1.0326431745137923  | Accuracy: 71.02\n"
     ]
    },
    {
     "name": "stderr",
     "output_type": "stream",
     "text": [
      "390it [01:25,  4.58it/s]\n",
      "100%|██████████████████████████████████████████████████████████| 39/39 [00:02<00:00, 13.62it/s]\n"
     ]
    },
    {
     "name": "stdout",
     "output_type": "stream",
     "text": [
      "Epoch: 152 | Training Loss: 0.10632863929256414  | Validation Loss: 0.9178444299942408  | Accuracy: 71.82\n"
     ]
    },
    {
     "name": "stderr",
     "output_type": "stream",
     "text": [
      "390it [01:24,  4.62it/s]\n",
      "100%|██████████████████████████████████████████████████████████| 39/39 [00:02<00:00, 13.67it/s]\n"
     ]
    },
    {
     "name": "stdout",
     "output_type": "stream",
     "text": [
      "Epoch: 153 | Training Loss: 0.10946638109401251  | Validation Loss: 0.9937970607708662  | Accuracy: 71.38\n"
     ]
    },
    {
     "name": "stderr",
     "output_type": "stream",
     "text": [
      "390it [01:24,  4.61it/s]\n",
      "100%|██████████████████████████████████████████████████████████| 39/39 [00:02<00:00, 13.36it/s]\n"
     ]
    },
    {
     "name": "stdout",
     "output_type": "stream",
     "text": [
      "Epoch: 154 | Training Loss: 0.10874295991200666  | Validation Loss: 0.9733595756384043  | Accuracy: 70.95\n"
     ]
    },
    {
     "name": "stderr",
     "output_type": "stream",
     "text": [
      "390it [01:25,  4.58it/s]\n",
      "100%|██████████████████████████████████████████████████████████| 39/39 [00:02<00:00, 13.24it/s]\n"
     ]
    },
    {
     "name": "stdout",
     "output_type": "stream",
     "text": [
      "Epoch: 155 | Training Loss: 0.10711159946826788  | Validation Loss: 1.2119024564058354  | Accuracy: 68.24\n"
     ]
    },
    {
     "name": "stderr",
     "output_type": "stream",
     "text": [
      "390it [01:25,  4.56it/s]\n",
      "100%|██████████████████████████████████████████████████████████| 39/39 [00:02<00:00, 13.54it/s]\n"
     ]
    },
    {
     "name": "stdout",
     "output_type": "stream",
     "text": [
      "Epoch: 156 | Training Loss: 0.1072694150874248  | Validation Loss: 1.163035573103489  | Accuracy: 68.90\n"
     ]
    },
    {
     "name": "stderr",
     "output_type": "stream",
     "text": [
      "390it [01:24,  4.59it/s]\n",
      "100%|██████████████████████████████████████████████████████████| 39/39 [00:02<00:00, 13.58it/s]\n"
     ]
    },
    {
     "name": "stdout",
     "output_type": "stream",
     "text": [
      "Epoch: 157 | Training Loss: 0.10673336770672065  | Validation Loss: 1.2134978159880028  | Accuracy: 68.02\n"
     ]
    },
    {
     "name": "stderr",
     "output_type": "stream",
     "text": [
      "390it [01:25,  4.56it/s]\n",
      "100%|██████████████████████████████████████████████████████████| 39/39 [00:02<00:00, 13.23it/s]\n"
     ]
    },
    {
     "name": "stdout",
     "output_type": "stream",
     "text": [
      "Epoch: 158 | Training Loss: 0.10798381330111088  | Validation Loss: 0.9632864548609807  | Accuracy: 71.69\n"
     ]
    },
    {
     "name": "stderr",
     "output_type": "stream",
     "text": [
      "390it [01:25,  4.56it/s]\n",
      "100%|██████████████████████████████████████████████████████████| 39/39 [00:02<00:00, 13.64it/s]\n"
     ]
    },
    {
     "name": "stdout",
     "output_type": "stream",
     "text": [
      "Epoch: 159 | Training Loss: 0.10560375567621146  | Validation Loss: 1.1125658444869213  | Accuracy: 69.77\n"
     ]
    },
    {
     "name": "stderr",
     "output_type": "stream",
     "text": [
      "390it [01:24,  4.60it/s]\n",
      "100%|██████████████████████████████████████████████████████████| 39/39 [00:02<00:00, 13.56it/s]\n"
     ]
    },
    {
     "name": "stdout",
     "output_type": "stream",
     "text": [
      "Epoch: 160 | Training Loss: 0.10727397738358914  | Validation Loss: 1.120848875779372  | Accuracy: 68.66\n"
     ]
    },
    {
     "name": "stderr",
     "output_type": "stream",
     "text": [
      "390it [01:24,  4.60it/s]\n",
      "100%|██████████████████████████████████████████████████████████| 39/39 [00:02<00:00, 13.52it/s]\n"
     ]
    },
    {
     "name": "stdout",
     "output_type": "stream",
     "text": [
      "Epoch: 161 | Training Loss: 0.10536051905499055  | Validation Loss: 1.172651462065868  | Accuracy: 68.26\n"
     ]
    },
    {
     "name": "stderr",
     "output_type": "stream",
     "text": [
      "390it [01:24,  4.59it/s]\n",
      "100%|██████████████████████████████████████████████████████████| 39/39 [00:02<00:00, 13.55it/s]\n"
     ]
    },
    {
     "name": "stdout",
     "output_type": "stream",
     "text": [
      "Epoch: 162 | Training Loss: 0.10714957879330868  | Validation Loss: 0.9256278429275904  | Accuracy: 72.24\n"
     ]
    },
    {
     "name": "stderr",
     "output_type": "stream",
     "text": [
      "390it [01:25,  4.59it/s]\n",
      "100%|██████████████████████████████████████████████████████████| 39/39 [00:02<00:00, 13.81it/s]\n"
     ]
    },
    {
     "name": "stdout",
     "output_type": "stream",
     "text": [
      "Epoch: 163 | Training Loss: 0.10501984094197933  | Validation Loss: 0.9686645498642554  | Accuracy: 71.98\n"
     ]
    },
    {
     "name": "stderr",
     "output_type": "stream",
     "text": [
      "390it [01:26,  4.53it/s]\n",
      "100%|██████████████████████████████████████████████████████████| 39/39 [00:02<00:00, 14.26it/s]\n"
     ]
    },
    {
     "name": "stdout",
     "output_type": "stream",
     "text": [
      "Epoch: 164 | Training Loss: 0.10530949962826876  | Validation Loss: 1.034023987941253  | Accuracy: 70.95\n"
     ]
    },
    {
     "name": "stderr",
     "output_type": "stream",
     "text": [
      "390it [01:25,  4.59it/s]\n",
      "100%|██████████████████████████████████████████████████████████| 39/39 [00:02<00:00, 13.54it/s]\n"
     ]
    },
    {
     "name": "stdout",
     "output_type": "stream",
     "text": [
      "Epoch: 165 | Training Loss: 0.10479698605262316  | Validation Loss: 1.0242012601632338  | Accuracy: 70.40\n"
     ]
    },
    {
     "name": "stderr",
     "output_type": "stream",
     "text": [
      "390it [01:25,  4.57it/s]\n",
      "100%|██████████████████████████████████████████████████████████| 39/39 [00:02<00:00, 13.44it/s]\n"
     ]
    },
    {
     "name": "stdout",
     "output_type": "stream",
     "text": [
      "Epoch: 166 | Training Loss: 0.10554419603103246  | Validation Loss: 1.0369523060627472  | Accuracy: 70.81\n"
     ]
    },
    {
     "name": "stderr",
     "output_type": "stream",
     "text": [
      "390it [01:25,  4.57it/s]\n",
      "100%|██████████████████████████████████████████████████████████| 39/39 [00:02<00:00, 13.83it/s]\n"
     ]
    },
    {
     "name": "stdout",
     "output_type": "stream",
     "text": [
      "Epoch: 167 | Training Loss: 0.10628750070165364  | Validation Loss: 1.1294832703394768  | Accuracy: 70.17\n"
     ]
    },
    {
     "name": "stderr",
     "output_type": "stream",
     "text": [
      "390it [01:25,  4.59it/s]\n",
      "100%|██████████████████████████████████████████████████████████| 39/39 [00:02<00:00, 14.44it/s]\n"
     ]
    },
    {
     "name": "stdout",
     "output_type": "stream",
     "text": [
      "Epoch: 168 | Training Loss: 0.10321655211349329  | Validation Loss: 1.0992453144146845  | Accuracy: 69.20\n"
     ]
    },
    {
     "name": "stderr",
     "output_type": "stream",
     "text": [
      "390it [01:25,  4.55it/s]\n",
      "100%|██████████████████████████████████████████████████████████| 39/39 [00:02<00:00, 13.38it/s]\n"
     ]
    },
    {
     "name": "stdout",
     "output_type": "stream",
     "text": [
      "Epoch: 169 | Training Loss: 0.10498489000094242  | Validation Loss: 1.0857537037287004  | Accuracy: 69.81\n"
     ]
    },
    {
     "name": "stderr",
     "output_type": "stream",
     "text": [
      "390it [01:25,  4.56it/s]\n",
      "100%|██████████████████████████████████████████████████████████| 39/39 [00:02<00:00, 13.29it/s]\n"
     ]
    },
    {
     "name": "stdout",
     "output_type": "stream",
     "text": [
      "Epoch: 170 | Training Loss: 0.1023788119546878  | Validation Loss: 0.9988583555588355  | Accuracy: 71.59\n"
     ]
    },
    {
     "name": "stderr",
     "output_type": "stream",
     "text": [
      "390it [01:25,  4.56it/s]\n",
      "100%|██████████████████████████████████████████████████████████| 39/39 [00:02<00:00, 13.29it/s]\n"
     ]
    },
    {
     "name": "stdout",
     "output_type": "stream",
     "text": [
      "Epoch: 171 | Training Loss: 0.10448573741775292  | Validation Loss: 1.0942660554861412  | Accuracy: 69.87\n"
     ]
    },
    {
     "name": "stderr",
     "output_type": "stream",
     "text": [
      "390it [01:25,  4.57it/s]\n",
      "100%|██████████████████████████████████████████████████████████| 39/39 [00:02<00:00, 13.23it/s]\n"
     ]
    },
    {
     "name": "stdout",
     "output_type": "stream",
     "text": [
      "Epoch: 172 | Training Loss: 0.10242577641247175  | Validation Loss: 1.1805568291590764  | Accuracy: 68.41\n"
     ]
    },
    {
     "name": "stderr",
     "output_type": "stream",
     "text": [
      "390it [01:25,  4.57it/s]\n",
      "100%|██████████████████████████████████████████████████████████| 39/39 [00:02<00:00, 13.02it/s]\n"
     ]
    },
    {
     "name": "stdout",
     "output_type": "stream",
     "text": [
      "Epoch: 173 | Training Loss: 0.10285600857474865  | Validation Loss: 1.1320534577736487  | Accuracy: 68.14\n"
     ]
    },
    {
     "name": "stderr",
     "output_type": "stream",
     "text": [
      "390it [01:25,  4.56it/s]\n",
      "100%|██████████████████████████████████████████████████████████| 39/39 [00:03<00:00, 12.89it/s]\n"
     ]
    },
    {
     "name": "stdout",
     "output_type": "stream",
     "text": [
      "Epoch: 174 | Training Loss: 0.10327658536724556  | Validation Loss: 0.992700457572937  | Accuracy: 72.03\n"
     ]
    },
    {
     "name": "stderr",
     "output_type": "stream",
     "text": [
      "390it [01:25,  4.54it/s]\n",
      "100%|██████████████████████████████████████████████████████████| 39/39 [00:03<00:00, 12.90it/s]\n"
     ]
    },
    {
     "name": "stdout",
     "output_type": "stream",
     "text": [
      "Epoch: 175 | Training Loss: 0.1043330893589136  | Validation Loss: 0.9937572693213438  | Accuracy: 70.94\n"
     ]
    },
    {
     "name": "stderr",
     "output_type": "stream",
     "text": [
      "390it [01:25,  4.57it/s]\n",
      "100%|██████████████████████████████████████████████████████████| 39/39 [00:02<00:00, 13.13it/s]\n"
     ]
    },
    {
     "name": "stdout",
     "output_type": "stream",
     "text": [
      "Epoch: 176 | Training Loss: 0.10250948168910466  | Validation Loss: 0.9877050121625265  | Accuracy: 70.78\n"
     ]
    },
    {
     "name": "stderr",
     "output_type": "stream",
     "text": [
      "390it [01:25,  4.59it/s]\n",
      "100%|██████████████████████████████████████████████████████████| 39/39 [00:02<00:00, 13.13it/s]\n"
     ]
    },
    {
     "name": "stdout",
     "output_type": "stream",
     "text": [
      "Epoch: 177 | Training Loss: 0.10261609709033599  | Validation Loss: 1.060420776024843  | Accuracy: 70.52\n"
     ]
    },
    {
     "name": "stderr",
     "output_type": "stream",
     "text": [
      "390it [01:25,  4.57it/s]\n",
      "100%|██████████████████████████████████████████████████████████| 39/39 [00:03<00:00, 12.95it/s]\n"
     ]
    },
    {
     "name": "stdout",
     "output_type": "stream",
     "text": [
      "Epoch: 178 | Training Loss: 0.10242458505508227  | Validation Loss: 1.1358381983561394  | Accuracy: 69.32\n"
     ]
    },
    {
     "name": "stderr",
     "output_type": "stream",
     "text": [
      "390it [01:25,  4.57it/s]\n",
      "100%|██████████████████████████████████████████████████████████| 39/39 [00:02<00:00, 13.17it/s]\n"
     ]
    },
    {
     "name": "stdout",
     "output_type": "stream",
     "text": [
      "Epoch: 179 | Training Loss: 0.10250661509732405  | Validation Loss: 1.119634246214842  | Accuracy: 70.22\n"
     ]
    },
    {
     "name": "stderr",
     "output_type": "stream",
     "text": [
      "390it [01:24,  4.60it/s]\n",
      "100%|██████████████████████████████████████████████████████████| 39/39 [00:03<00:00, 12.59it/s]\n"
     ]
    },
    {
     "name": "stdout",
     "output_type": "stream",
     "text": [
      "Epoch: 180 | Training Loss: 0.1018534414183635  | Validation Loss: 1.054418138968639  | Accuracy: 70.48\n"
     ]
    },
    {
     "name": "stderr",
     "output_type": "stream",
     "text": [
      "390it [01:26,  4.52it/s]\n",
      "100%|██████████████████████████████████████████████████████████| 39/39 [00:02<00:00, 13.01it/s]\n"
     ]
    },
    {
     "name": "stdout",
     "output_type": "stream",
     "text": [
      "Epoch: 181 | Training Loss: 0.10192754230438135  | Validation Loss: 1.0806362231572468  | Accuracy: 70.48\n"
     ]
    },
    {
     "name": "stderr",
     "output_type": "stream",
     "text": [
      "390it [01:25,  4.56it/s]\n",
      "100%|██████████████████████████████████████████████████████████| 39/39 [00:03<00:00, 12.64it/s]\n"
     ]
    },
    {
     "name": "stdout",
     "output_type": "stream",
     "text": [
      "Epoch: 182 | Training Loss: 0.1025886198075918  | Validation Loss: 1.1967119635679784  | Accuracy: 69.04\n"
     ]
    },
    {
     "name": "stderr",
     "output_type": "stream",
     "text": [
      "390it [01:26,  4.51it/s]\n",
      "100%|██████████████████████████████████████████████████████████| 39/39 [00:03<00:00, 12.77it/s]\n"
     ]
    },
    {
     "name": "stdout",
     "output_type": "stream",
     "text": [
      "Epoch: 183 | Training Loss: 0.10122531598959214  | Validation Loss: 1.4410009720386603  | Accuracy: 65.58\n"
     ]
    },
    {
     "name": "stderr",
     "output_type": "stream",
     "text": [
      "390it [01:26,  4.52it/s]\n",
      "100%|██████████████████████████████████████████████████████████| 39/39 [00:03<00:00, 12.76it/s]\n"
     ]
    },
    {
     "name": "stdout",
     "output_type": "stream",
     "text": [
      "Epoch: 184 | Training Loss: 0.10025530327589084  | Validation Loss: 1.0437557559746962  | Accuracy: 71.19\n"
     ]
    },
    {
     "name": "stderr",
     "output_type": "stream",
     "text": [
      "390it [01:25,  4.56it/s]\n",
      "100%|██████████████████████████████████████████████████████████| 39/39 [00:02<00:00, 13.05it/s]\n"
     ]
    },
    {
     "name": "stdout",
     "output_type": "stream",
     "text": [
      "Epoch: 185 | Training Loss: 0.09967019126201287  | Validation Loss: 1.1791819456296089  | Accuracy: 68.20\n"
     ]
    },
    {
     "name": "stderr",
     "output_type": "stream",
     "text": [
      "390it [01:25,  4.54it/s]\n",
      "100%|██████████████████████████████████████████████████████████| 39/39 [00:02<00:00, 13.06it/s]\n"
     ]
    },
    {
     "name": "stdout",
     "output_type": "stream",
     "text": [
      "Epoch: 186 | Training Loss: 0.10035825078495038  | Validation Loss: 1.2444341304974678  | Accuracy: 67.30\n"
     ]
    },
    {
     "name": "stderr",
     "output_type": "stream",
     "text": [
      "390it [01:25,  4.54it/s]\n",
      "100%|██████████████████████████████████████████████████████████| 39/39 [00:02<00:00, 13.11it/s]\n"
     ]
    },
    {
     "name": "stdout",
     "output_type": "stream",
     "text": [
      "Epoch: 187 | Training Loss: 0.10167614264556994  | Validation Loss: 1.164936677003518  | Accuracy: 68.51\n"
     ]
    },
    {
     "name": "stderr",
     "output_type": "stream",
     "text": [
      "390it [01:25,  4.56it/s]\n",
      "100%|██████████████████████████████████████████████████████████| 39/39 [00:02<00:00, 13.15it/s]\n"
     ]
    },
    {
     "name": "stdout",
     "output_type": "stream",
     "text": [
      "Epoch: 188 | Training Loss: 0.0992247912650689  | Validation Loss: 1.024410842320858  | Accuracy: 71.44\n"
     ]
    },
    {
     "name": "stderr",
     "output_type": "stream",
     "text": [
      "390it [01:25,  4.55it/s]\n",
      "100%|██████████████████████████████████████████████████████████| 39/39 [00:02<00:00, 13.11it/s]\n"
     ]
    },
    {
     "name": "stdout",
     "output_type": "stream",
     "text": [
      "Epoch: 189 | Training Loss: 0.1005270114598366  | Validation Loss: 0.952711453804603  | Accuracy: 72.19\n"
     ]
    },
    {
     "name": "stderr",
     "output_type": "stream",
     "text": [
      "390it [01:25,  4.55it/s]\n",
      "100%|██████████████████████████████████████████████████████████| 39/39 [00:02<00:00, 13.02it/s]\n"
     ]
    },
    {
     "name": "stdout",
     "output_type": "stream",
     "text": [
      "Epoch: 190 | Training Loss: 0.09689215313738737  | Validation Loss: 1.1148207707282825  | Accuracy: 69.99\n"
     ]
    },
    {
     "name": "stderr",
     "output_type": "stream",
     "text": [
      "390it [01:25,  4.54it/s]\n",
      "100%|██████████████████████████████████████████████████████████| 39/39 [00:02<00:00, 13.01it/s]\n"
     ]
    },
    {
     "name": "stdout",
     "output_type": "stream",
     "text": [
      "Epoch: 191 | Training Loss: 0.10064957133279397  | Validation Loss: 0.9975252487720587  | Accuracy: 70.74\n"
     ]
    },
    {
     "name": "stderr",
     "output_type": "stream",
     "text": [
      "390it [01:25,  4.54it/s]\n",
      "100%|██████████████████████████████████████████████████████████| 39/39 [00:02<00:00, 13.28it/s]\n"
     ]
    },
    {
     "name": "stdout",
     "output_type": "stream",
     "text": [
      "Epoch: 192 | Training Loss: 0.09884787023258515  | Validation Loss: 1.0939232829289558  | Accuracy: 70.44\n"
     ]
    },
    {
     "name": "stderr",
     "output_type": "stream",
     "text": [
      "390it [01:25,  4.55it/s]\n",
      "100%|██████████████████████████████████████████████████████████| 39/39 [00:03<00:00, 12.83it/s]\n"
     ]
    },
    {
     "name": "stdout",
     "output_type": "stream",
     "text": [
      "Epoch: 193 | Training Loss: 0.09769208243068976  | Validation Loss: 0.9479204507974478  | Accuracy: 72.73\n"
     ]
    },
    {
     "name": "stderr",
     "output_type": "stream",
     "text": [
      "390it [01:25,  4.58it/s]\n",
      "100%|██████████████████████████████████████████████████████████| 39/39 [00:03<00:00, 12.79it/s]\n"
     ]
    },
    {
     "name": "stdout",
     "output_type": "stream",
     "text": [
      "Epoch: 194 | Training Loss: 0.09676130182850055  | Validation Loss: 1.1398754165722773  | Accuracy: 69.60\n"
     ]
    },
    {
     "name": "stderr",
     "output_type": "stream",
     "text": [
      "390it [01:25,  4.56it/s]\n",
      "100%|██████████████████████████████████████████████████████████| 39/39 [00:02<00:00, 13.34it/s]\n"
     ]
    },
    {
     "name": "stdout",
     "output_type": "stream",
     "text": [
      "Epoch: 195 | Training Loss: 0.0999122918320772  | Validation Loss: 1.193522138473315  | Accuracy: 69.19\n"
     ]
    },
    {
     "name": "stderr",
     "output_type": "stream",
     "text": [
      "390it [01:25,  4.54it/s]\n",
      "100%|██████████████████████████████████████████████████████████| 39/39 [00:02<00:00, 13.03it/s]\n"
     ]
    },
    {
     "name": "stdout",
     "output_type": "stream",
     "text": [
      "Epoch: 196 | Training Loss: 0.09796488116949033  | Validation Loss: 1.1929674668189807  | Accuracy: 69.06\n"
     ]
    },
    {
     "name": "stderr",
     "output_type": "stream",
     "text": [
      "390it [01:25,  4.57it/s]\n",
      "100%|██████████████████████████████████████████████████████████| 39/39 [00:02<00:00, 13.11it/s]\n"
     ]
    },
    {
     "name": "stdout",
     "output_type": "stream",
     "text": [
      "Epoch: 197 | Training Loss: 0.09739757916675164  | Validation Loss: 1.122024424565144  | Accuracy: 69.81\n"
     ]
    },
    {
     "name": "stderr",
     "output_type": "stream",
     "text": [
      "390it [01:26,  4.53it/s]\n",
      "100%|██████████████████████████████████████████████████████████| 39/39 [00:02<00:00, 13.11it/s]\n"
     ]
    },
    {
     "name": "stdout",
     "output_type": "stream",
     "text": [
      "Epoch: 198 | Training Loss: 0.09721713970677975  | Validation Loss: 1.2880611847608516  | Accuracy: 67.72\n"
     ]
    },
    {
     "name": "stderr",
     "output_type": "stream",
     "text": [
      "390it [01:25,  4.57it/s]\n",
      "100%|██████████████████████████████████████████████████████████| 39/39 [00:02<00:00, 13.09it/s]\n"
     ]
    },
    {
     "name": "stdout",
     "output_type": "stream",
     "text": [
      "Epoch: 199 | Training Loss: 0.09754938214826278  | Validation Loss: 0.9975282488725125  | Accuracy: 71.45\n"
     ]
    },
    {
     "name": "stderr",
     "output_type": "stream",
     "text": [
      "390it [01:25,  4.57it/s]\n",
      "100%|██████████████████████████████████████████████████████████| 39/39 [00:02<00:00, 13.17it/s]\n"
     ]
    },
    {
     "name": "stdout",
     "output_type": "stream",
     "text": [
      "Epoch: 200 | Training Loss: 0.09342364217990484  | Validation Loss: 1.181090772151947  | Accuracy: 69.52\n"
     ]
    },
    {
     "name": "stderr",
     "output_type": "stream",
     "text": [
      "390it [01:25,  4.55it/s]\n",
      "100%|██████████████████████████████████████████████████████████| 39/39 [00:03<00:00, 12.82it/s]\n"
     ]
    },
    {
     "name": "stdout",
     "output_type": "stream",
     "text": [
      "Epoch: 201 | Training Loss: 0.09777963574116047  | Validation Loss: 1.1502737188950563  | Accuracy: 70.58\n"
     ]
    },
    {
     "name": "stderr",
     "output_type": "stream",
     "text": [
      "390it [01:26,  4.50it/s]\n",
      "100%|██████████████████████████████████████████████████████████| 39/39 [00:03<00:00, 12.74it/s]\n"
     ]
    },
    {
     "name": "stdout",
     "output_type": "stream",
     "text": [
      "Epoch: 202 | Training Loss: 0.09485329975111362  | Validation Loss: 1.0358075912182148  | Accuracy: 71.30\n"
     ]
    },
    {
     "name": "stderr",
     "output_type": "stream",
     "text": [
      "390it [01:25,  4.54it/s]\n",
      "100%|██████████████████████████████████████████████████████████| 39/39 [00:03<00:00, 12.68it/s]\n"
     ]
    },
    {
     "name": "stdout",
     "output_type": "stream",
     "text": [
      "Epoch: 203 | Training Loss: 0.09605030115598287  | Validation Loss: 1.3158465318190746  | Accuracy: 68.13\n"
     ]
    },
    {
     "name": "stderr",
     "output_type": "stream",
     "text": [
      "390it [01:26,  4.50it/s]\n",
      "100%|██████████████████████████████████████████████████████████| 39/39 [00:02<00:00, 13.84it/s]\n"
     ]
    },
    {
     "name": "stdout",
     "output_type": "stream",
     "text": [
      "Epoch: 204 | Training Loss: 0.09846415810095958  | Validation Loss: 1.2962252390690339  | Accuracy: 67.45\n"
     ]
    },
    {
     "name": "stderr",
     "output_type": "stream",
     "text": [
      "390it [01:26,  4.51it/s]\n",
      "100%|██████████████████████████████████████████████████████████| 39/39 [00:02<00:00, 13.95it/s]\n"
     ]
    },
    {
     "name": "stdout",
     "output_type": "stream",
     "text": [
      "Epoch: 205 | Training Loss: 0.09425440736306019  | Validation Loss: 1.1391325486011994  | Accuracy: 69.81\n"
     ]
    },
    {
     "name": "stderr",
     "output_type": "stream",
     "text": [
      "390it [01:25,  4.56it/s]\n",
      "100%|██████████████████████████████████████████████████████████| 39/39 [00:03<00:00, 12.85it/s]\n"
     ]
    },
    {
     "name": "stdout",
     "output_type": "stream",
     "text": [
      "Epoch: 206 | Training Loss: 0.09579907210591512  | Validation Loss: 1.1374780871929266  | Accuracy: 69.93\n"
     ]
    },
    {
     "name": "stderr",
     "output_type": "stream",
     "text": [
      "390it [01:26,  4.53it/s]\n",
      "100%|██████████████████████████████████████████████████████████| 39/39 [00:03<00:00, 12.93it/s]\n"
     ]
    },
    {
     "name": "stdout",
     "output_type": "stream",
     "text": [
      "Epoch: 207 | Training Loss: 0.09595347286607975  | Validation Loss: 0.9726466567088397  | Accuracy: 71.21\n"
     ]
    },
    {
     "name": "stderr",
     "output_type": "stream",
     "text": [
      "390it [01:25,  4.57it/s]\n",
      "100%|██████████████████████████████████████████████████████████| 39/39 [00:02<00:00, 13.20it/s]\n"
     ]
    },
    {
     "name": "stdout",
     "output_type": "stream",
     "text": [
      "Epoch: 208 | Training Loss: 0.09571540071987189  | Validation Loss: 0.9737696922742404  | Accuracy: 71.35\n"
     ]
    },
    {
     "name": "stderr",
     "output_type": "stream",
     "text": [
      "390it [01:26,  4.51it/s]\n",
      "100%|██████████████████████████████████████████████████████████| 39/39 [00:02<00:00, 13.37it/s]\n"
     ]
    },
    {
     "name": "stdout",
     "output_type": "stream",
     "text": [
      "Epoch: 209 | Training Loss: 0.09432635278655932  | Validation Loss: 1.2800967723895342  | Accuracy: 68.04\n"
     ]
    },
    {
     "name": "stderr",
     "output_type": "stream",
     "text": [
      "390it [01:26,  4.53it/s]\n",
      "100%|██████████████████████████████████████████████████████████| 39/39 [00:02<00:00, 13.20it/s]\n"
     ]
    },
    {
     "name": "stdout",
     "output_type": "stream",
     "text": [
      "Epoch: 210 | Training Loss: 0.0966691367710248  | Validation Loss: 1.0520737553254151  | Accuracy: 70.86\n"
     ]
    },
    {
     "name": "stderr",
     "output_type": "stream",
     "text": [
      "390it [01:25,  4.55it/s]\n",
      "100%|██████████████████████████████████████████████████████████| 39/39 [00:02<00:00, 13.15it/s]\n"
     ]
    },
    {
     "name": "stdout",
     "output_type": "stream",
     "text": [
      "Epoch: 211 | Training Loss: 0.09594125000712199  | Validation Loss: 1.252944759833507  | Accuracy: 67.25\n"
     ]
    },
    {
     "name": "stderr",
     "output_type": "stream",
     "text": [
      "390it [01:25,  4.56it/s]\n",
      "100%|██████████████████████████████████████████████████████████| 39/39 [00:02<00:00, 13.18it/s]\n"
     ]
    },
    {
     "name": "stdout",
     "output_type": "stream",
     "text": [
      "Epoch: 212 | Training Loss: 0.09322692824479861  | Validation Loss: 1.1613110609543629  | Accuracy: 69.72\n"
     ]
    },
    {
     "name": "stderr",
     "output_type": "stream",
     "text": [
      "390it [01:25,  4.57it/s]\n",
      "100%|██████████████████████████████████████████████████████████| 39/39 [00:02<00:00, 13.14it/s]\n"
     ]
    },
    {
     "name": "stdout",
     "output_type": "stream",
     "text": [
      "Epoch: 213 | Training Loss: 0.0938674249041539  | Validation Loss: 1.0501271470999107  | Accuracy: 70.44\n"
     ]
    },
    {
     "name": "stderr",
     "output_type": "stream",
     "text": [
      "390it [01:25,  4.55it/s]\n",
      "100%|██████████████████████████████████████████████████████████| 39/39 [00:02<00:00, 13.49it/s]\n"
     ]
    },
    {
     "name": "stdout",
     "output_type": "stream",
     "text": [
      "Epoch: 214 | Training Loss: 0.09385636385816794  | Validation Loss: 1.1654684023979383  | Accuracy: 69.23\n"
     ]
    },
    {
     "name": "stderr",
     "output_type": "stream",
     "text": [
      "390it [01:26,  4.52it/s]\n",
      "100%|██████████████████████████████████████████████████████████| 39/39 [00:02<00:00, 13.07it/s]\n"
     ]
    },
    {
     "name": "stdout",
     "output_type": "stream",
     "text": [
      "Epoch: 215 | Training Loss: 0.09264717644605881  | Validation Loss: 1.113110546882336  | Accuracy: 70.64\n"
     ]
    },
    {
     "name": "stderr",
     "output_type": "stream",
     "text": [
      "390it [01:25,  4.56it/s]\n",
      "100%|██████████████████████████████████████████████████████████| 39/39 [00:02<00:00, 13.18it/s]\n"
     ]
    },
    {
     "name": "stdout",
     "output_type": "stream",
     "text": [
      "Epoch: 216 | Training Loss: 0.09455374839405219  | Validation Loss: 1.1374554389562361  | Accuracy: 69.48\n"
     ]
    },
    {
     "name": "stderr",
     "output_type": "stream",
     "text": [
      "390it [01:25,  4.56it/s]\n",
      "100%|██████████████████████████████████████████████████████████| 39/39 [00:03<00:00, 12.91it/s]\n"
     ]
    },
    {
     "name": "stdout",
     "output_type": "stream",
     "text": [
      "Epoch: 217 | Training Loss: 0.09346909643365786  | Validation Loss: 1.281037028019245  | Accuracy: 68.98\n"
     ]
    },
    {
     "name": "stderr",
     "output_type": "stream",
     "text": [
      "390it [01:25,  4.56it/s]\n",
      "100%|██████████████████████████████████████████████████████████| 39/39 [00:03<00:00, 12.48it/s]\n"
     ]
    },
    {
     "name": "stdout",
     "output_type": "stream",
     "text": [
      "Epoch: 218 | Training Loss: 0.0923988532848083  | Validation Loss: 1.2172354184664214  | Accuracy: 68.75\n"
     ]
    },
    {
     "name": "stderr",
     "output_type": "stream",
     "text": [
      "390it [01:25,  4.56it/s]\n",
      "100%|██████████████████████████████████████████████████████████| 39/39 [00:02<00:00, 13.02it/s]\n"
     ]
    },
    {
     "name": "stdout",
     "output_type": "stream",
     "text": [
      "Epoch: 219 | Training Loss: 0.0939301270322922  | Validation Loss: 1.133176530018831  | Accuracy: 71.00\n"
     ]
    },
    {
     "name": "stderr",
     "output_type": "stream",
     "text": [
      "390it [01:25,  4.57it/s]\n",
      "100%|██████████████████████████████████████████████████████████| 39/39 [00:03<00:00, 12.98it/s]\n"
     ]
    },
    {
     "name": "stdout",
     "output_type": "stream",
     "text": [
      "Epoch: 220 | Training Loss: 0.09298374564028704  | Validation Loss: 1.1303532337531066  | Accuracy: 70.28\n"
     ]
    },
    {
     "name": "stderr",
     "output_type": "stream",
     "text": [
      "390it [01:24,  4.60it/s]\n",
      "100%|██████████████████████████████████████████████████████████| 39/39 [00:02<00:00, 13.33it/s]\n"
     ]
    },
    {
     "name": "stdout",
     "output_type": "stream",
     "text": [
      "Epoch: 221 | Training Loss: 0.09085725772266205  | Validation Loss: 1.1082038925244257  | Accuracy: 70.58\n"
     ]
    },
    {
     "name": "stderr",
     "output_type": "stream",
     "text": [
      "390it [01:26,  4.53it/s]\n",
      "100%|██████████████████████████████████████████████████████████| 39/39 [00:03<00:00, 12.32it/s]\n"
     ]
    },
    {
     "name": "stdout",
     "output_type": "stream",
     "text": [
      "Epoch: 222 | Training Loss: 0.09123744841378469  | Validation Loss: 1.3855315232888246  | Accuracy: 67.08\n"
     ]
    },
    {
     "name": "stderr",
     "output_type": "stream",
     "text": [
      "390it [01:25,  4.54it/s]\n",
      "100%|██████████████████████████████████████████████████████████| 39/39 [00:03<00:00, 12.68it/s]\n"
     ]
    },
    {
     "name": "stdout",
     "output_type": "stream",
     "text": [
      "Epoch: 223 | Training Loss: 0.0947123430382747  | Validation Loss: 1.0500305050458663  | Accuracy: 71.33\n"
     ]
    },
    {
     "name": "stderr",
     "output_type": "stream",
     "text": [
      "390it [01:25,  4.57it/s]\n",
      "100%|██████████████████████████████████████████████████████████| 39/39 [00:02<00:00, 13.33it/s]\n"
     ]
    },
    {
     "name": "stdout",
     "output_type": "stream",
     "text": [
      "Epoch: 224 | Training Loss: 0.0918969406053806  | Validation Loss: 1.1126349919881575  | Accuracy: 70.19\n"
     ]
    },
    {
     "name": "stderr",
     "output_type": "stream",
     "text": [
      "390it [01:25,  4.57it/s]\n",
      "100%|██████████████████████████████████████████████████████████| 39/39 [00:03<00:00, 12.58it/s]\n"
     ]
    },
    {
     "name": "stdout",
     "output_type": "stream",
     "text": [
      "Epoch: 225 | Training Loss: 0.09146281603055123  | Validation Loss: 1.1129884414183788  | Accuracy: 70.52\n"
     ]
    },
    {
     "name": "stderr",
     "output_type": "stream",
     "text": [
      "390it [01:24,  4.61it/s]\n",
      "100%|██████████████████████████████████████████████████████████| 39/39 [00:02<00:00, 13.32it/s]\n"
     ]
    },
    {
     "name": "stdout",
     "output_type": "stream",
     "text": [
      "Epoch: 226 | Training Loss: 0.09081579634967522  | Validation Loss: 1.0488979801153526  | Accuracy: 70.21\n"
     ]
    },
    {
     "name": "stderr",
     "output_type": "stream",
     "text": [
      "390it [01:24,  4.59it/s]\n",
      "100%|██████████████████████████████████████████████████████████| 39/39 [00:02<00:00, 13.19it/s]\n"
     ]
    },
    {
     "name": "stdout",
     "output_type": "stream",
     "text": [
      "Epoch: 227 | Training Loss: 0.0923981453363712  | Validation Loss: 1.0145787321604216  | Accuracy: 72.25\n"
     ]
    },
    {
     "name": "stderr",
     "output_type": "stream",
     "text": [
      "390it [01:25,  4.55it/s]\n",
      "100%|██████████████████████████████████████████████████████████| 39/39 [00:02<00:00, 13.59it/s]\n"
     ]
    },
    {
     "name": "stdout",
     "output_type": "stream",
     "text": [
      "Epoch: 228 | Training Loss: 0.08969048909269846  | Validation Loss: 1.2241261525031848  | Accuracy: 69.56\n"
     ]
    },
    {
     "name": "stderr",
     "output_type": "stream",
     "text": [
      "390it [01:25,  4.55it/s]\n",
      "100%|██████████████████████████████████████████████████████████| 39/39 [00:02<00:00, 13.26it/s]\n"
     ]
    },
    {
     "name": "stdout",
     "output_type": "stream",
     "text": [
      "Epoch: 229 | Training Loss: 0.09025795137844024  | Validation Loss: 1.0964205066363018  | Accuracy: 70.39\n"
     ]
    },
    {
     "name": "stderr",
     "output_type": "stream",
     "text": [
      "390it [01:26,  4.53it/s]\n",
      "100%|██████████████████████████████████████████████████████████| 39/39 [00:02<00:00, 13.14it/s]\n"
     ]
    },
    {
     "name": "stdout",
     "output_type": "stream",
     "text": [
      "Epoch: 230 | Training Loss: 0.08908030768999686  | Validation Loss: 1.1565725788092003  | Accuracy: 69.85\n"
     ]
    },
    {
     "name": "stderr",
     "output_type": "stream",
     "text": [
      "390it [01:25,  4.55it/s]\n",
      "100%|██████████████████████████████████████████████████████████| 39/39 [00:03<00:00, 12.55it/s]\n"
     ]
    },
    {
     "name": "stdout",
     "output_type": "stream",
     "text": [
      "Epoch: 231 | Training Loss: 0.08902859988694008  | Validation Loss: 1.2527039356720753  | Accuracy: 68.71\n"
     ]
    },
    {
     "name": "stderr",
     "output_type": "stream",
     "text": [
      "390it [01:25,  4.58it/s]\n",
      "100%|██████████████████████████████████████████████████████████| 39/39 [00:02<00:00, 13.34it/s]\n"
     ]
    },
    {
     "name": "stdout",
     "output_type": "stream",
     "text": [
      "Epoch: 232 | Training Loss: 0.0916299384373885  | Validation Loss: 1.134106165323502  | Accuracy: 70.41\n"
     ]
    },
    {
     "name": "stderr",
     "output_type": "stream",
     "text": [
      "390it [01:25,  4.55it/s]\n",
      "100%|██████████████████████████████████████████████████████████| 39/39 [00:03<00:00, 12.97it/s]\n"
     ]
    },
    {
     "name": "stdout",
     "output_type": "stream",
     "text": [
      "Epoch: 233 | Training Loss: 0.09079818229835768  | Validation Loss: 1.3982699589851575  | Accuracy: 66.61\n"
     ]
    },
    {
     "name": "stderr",
     "output_type": "stream",
     "text": [
      "390it [01:25,  4.55it/s]\n",
      "100%|██████████████████████████████████████████████████████████| 39/39 [00:03<00:00, 12.89it/s]\n"
     ]
    },
    {
     "name": "stdout",
     "output_type": "stream",
     "text": [
      "Epoch: 234 | Training Loss: 0.09232256119258893  | Validation Loss: 1.1599733019486451  | Accuracy: 68.81\n"
     ]
    },
    {
     "name": "stderr",
     "output_type": "stream",
     "text": [
      "390it [01:25,  4.56it/s]\n",
      "100%|██████████████████████████████████████████████████████████| 39/39 [00:03<00:00, 12.96it/s]\n"
     ]
    },
    {
     "name": "stdout",
     "output_type": "stream",
     "text": [
      "Epoch: 235 | Training Loss: 0.08983982916061695  | Validation Loss: 1.2291901722932472  | Accuracy: 69.32\n"
     ]
    },
    {
     "name": "stderr",
     "output_type": "stream",
     "text": [
      "390it [01:25,  4.56it/s]\n",
      "100%|██████████████████████████████████████████████████████████| 39/39 [00:02<00:00, 13.19it/s]\n"
     ]
    },
    {
     "name": "stdout",
     "output_type": "stream",
     "text": [
      "Epoch: 236 | Training Loss: 0.08909746278554966  | Validation Loss: 1.250862806271284  | Accuracy: 68.66\n"
     ]
    },
    {
     "name": "stderr",
     "output_type": "stream",
     "text": [
      "390it [01:24,  4.61it/s]\n",
      "100%|██████████████████████████████████████████████████████████| 39/39 [00:02<00:00, 13.49it/s]\n"
     ]
    },
    {
     "name": "stdout",
     "output_type": "stream",
     "text": [
      "Epoch: 237 | Training Loss: 0.09034016079818591  | Validation Loss: 1.218971692598783  | Accuracy: 69.55\n"
     ]
    },
    {
     "name": "stderr",
     "output_type": "stream",
     "text": [
      "390it [01:24,  4.59it/s]\n",
      "100%|██████████████████████████████████████████████████████████| 39/39 [00:02<00:00, 13.60it/s]\n"
     ]
    },
    {
     "name": "stdout",
     "output_type": "stream",
     "text": [
      "Epoch: 238 | Training Loss: 0.08957826699583958  | Validation Loss: 1.1327285353954022  | Accuracy: 69.77\n"
     ]
    },
    {
     "name": "stderr",
     "output_type": "stream",
     "text": [
      "390it [01:25,  4.58it/s]\n",
      "100%|██████████████████████████████████████████████████████████| 39/39 [00:02<00:00, 13.64it/s]\n"
     ]
    },
    {
     "name": "stdout",
     "output_type": "stream",
     "text": [
      "Epoch: 239 | Training Loss: 0.08784642577744448  | Validation Loss: 1.2287790011136959  | Accuracy: 68.73\n"
     ]
    },
    {
     "name": "stderr",
     "output_type": "stream",
     "text": [
      "390it [01:24,  4.59it/s]\n",
      "100%|██████████████████████████████████████████████████████████| 39/39 [00:02<00:00, 13.69it/s]\n"
     ]
    },
    {
     "name": "stdout",
     "output_type": "stream",
     "text": [
      "Epoch: 240 | Training Loss: 0.08936638893225254  | Validation Loss: 1.2043333191138048  | Accuracy: 70.16\n"
     ]
    },
    {
     "name": "stderr",
     "output_type": "stream",
     "text": [
      "390it [01:24,  4.60it/s]\n",
      "100%|██████████████████████████████████████████████████████████| 39/39 [00:02<00:00, 13.49it/s]\n"
     ]
    },
    {
     "name": "stdout",
     "output_type": "stream",
     "text": [
      "Epoch: 241 | Training Loss: 0.08769054033626349  | Validation Loss: 1.2427654144091485  | Accuracy: 69.12\n"
     ]
    },
    {
     "name": "stderr",
     "output_type": "stream",
     "text": [
      "390it [01:24,  4.59it/s]\n",
      "100%|██████████████████████████████████████████████████████████| 39/39 [00:02<00:00, 13.53it/s]\n"
     ]
    },
    {
     "name": "stdout",
     "output_type": "stream",
     "text": [
      "Epoch: 242 | Training Loss: 0.0908232923119496  | Validation Loss: 1.2286139848904731  | Accuracy: 69.09\n"
     ]
    },
    {
     "name": "stderr",
     "output_type": "stream",
     "text": [
      "390it [01:25,  4.58it/s]\n",
      "100%|██████████████████████████████████████████████████████████| 39/39 [00:02<00:00, 13.57it/s]\n"
     ]
    },
    {
     "name": "stdout",
     "output_type": "stream",
     "text": [
      "Epoch: 243 | Training Loss: 0.08816677942298926  | Validation Loss: 1.2951198510634594  | Accuracy: 67.11\n"
     ]
    },
    {
     "name": "stderr",
     "output_type": "stream",
     "text": [
      "390it [01:25,  4.58it/s]\n",
      "100%|██████████████████████████████████████████████████████████| 39/39 [00:02<00:00, 13.44it/s]\n"
     ]
    },
    {
     "name": "stdout",
     "output_type": "stream",
     "text": [
      "Epoch: 244 | Training Loss: 0.08831742134613868  | Validation Loss: 1.227372218401004  | Accuracy: 69.40\n"
     ]
    },
    {
     "name": "stderr",
     "output_type": "stream",
     "text": [
      "390it [01:25,  4.58it/s]\n",
      "100%|██████████████████████████████████████████████████████████| 39/39 [00:02<00:00, 13.63it/s]\n"
     ]
    },
    {
     "name": "stdout",
     "output_type": "stream",
     "text": [
      "Epoch: 245 | Training Loss: 0.0884042718853706  | Validation Loss: 1.2012125559342213  | Accuracy: 68.60\n"
     ]
    },
    {
     "name": "stderr",
     "output_type": "stream",
     "text": [
      "390it [01:24,  4.60it/s]\n",
      "100%|██████████████████████████████████████████████████████████| 39/39 [00:02<00:00, 13.71it/s]\n"
     ]
    },
    {
     "name": "stdout",
     "output_type": "stream",
     "text": [
      "Epoch: 246 | Training Loss: 0.08810787476981298  | Validation Loss: 1.2027420844787207  | Accuracy: 69.49\n"
     ]
    },
    {
     "name": "stderr",
     "output_type": "stream",
     "text": [
      "390it [01:24,  4.60it/s]\n",
      "100%|██████████████████████████████████████████████████████████| 39/39 [00:02<00:00, 13.72it/s]\n"
     ]
    },
    {
     "name": "stdout",
     "output_type": "stream",
     "text": [
      "Epoch: 247 | Training Loss: 0.0869767111654465  | Validation Loss: 1.1786193603124373  | Accuracy: 70.04\n"
     ]
    },
    {
     "name": "stderr",
     "output_type": "stream",
     "text": [
      "390it [01:26,  4.53it/s]\n",
      "100%|██████████████████████████████████████████████████████████| 39/39 [00:02<00:00, 13.37it/s]\n"
     ]
    },
    {
     "name": "stdout",
     "output_type": "stream",
     "text": [
      "Epoch: 248 | Training Loss: 0.08799359946487806  | Validation Loss: 1.0644529324311476  | Accuracy: 70.15\n"
     ]
    },
    {
     "name": "stderr",
     "output_type": "stream",
     "text": [
      "390it [01:25,  4.59it/s]\n",
      "100%|██████████████████████████████████████████████████████████| 39/39 [00:02<00:00, 13.72it/s]\n"
     ]
    },
    {
     "name": "stdout",
     "output_type": "stream",
     "text": [
      "Epoch: 249 | Training Loss: 0.0894066882152588  | Validation Loss: 1.0795841751954494  | Accuracy: 70.29\n"
     ]
    },
    {
     "name": "stderr",
     "output_type": "stream",
     "text": [
      "390it [01:24,  4.61it/s]\n",
      "100%|██████████████████████████████████████████████████████████| 39/39 [00:02<00:00, 13.69it/s]\n"
     ]
    },
    {
     "name": "stdout",
     "output_type": "stream",
     "text": [
      "Epoch: 250 | Training Loss: 0.08821470838708756  | Validation Loss: 1.0367969626035445  | Accuracy: 71.37\n"
     ]
    },
    {
     "name": "stderr",
     "output_type": "stream",
     "text": [
      "390it [01:25,  4.57it/s]\n",
      "100%|██████████████████████████████████████████████████████████| 39/39 [00:02<00:00, 13.85it/s]\n"
     ]
    },
    {
     "name": "stdout",
     "output_type": "stream",
     "text": [
      "Epoch: 251 | Training Loss: 0.08907116667773479  | Validation Loss: 1.1277308097252479  | Accuracy: 70.62\n"
     ]
    },
    {
     "name": "stderr",
     "output_type": "stream",
     "text": [
      "390it [01:25,  4.57it/s]\n",
      "100%|██████████████████████████████████████████████████████████| 39/39 [00:02<00:00, 13.63it/s]\n"
     ]
    },
    {
     "name": "stdout",
     "output_type": "stream",
     "text": [
      "Epoch: 252 | Training Loss: 0.086442652822305  | Validation Loss: 1.072645908746964  | Accuracy: 70.90\n"
     ]
    },
    {
     "name": "stderr",
     "output_type": "stream",
     "text": [
      "390it [01:24,  4.59it/s]\n",
      "100%|██████████████████████████████████████████████████████████| 39/39 [00:02<00:00, 13.57it/s]\n"
     ]
    },
    {
     "name": "stdout",
     "output_type": "stream",
     "text": [
      "Epoch: 253 | Training Loss: 0.08637587540806868  | Validation Loss: 1.1175154875486324  | Accuracy: 70.42\n"
     ]
    },
    {
     "name": "stderr",
     "output_type": "stream",
     "text": [
      "390it [01:24,  4.59it/s]\n",
      "100%|██████████████████████████████████████████████████████████| 39/39 [00:02<00:00, 13.69it/s]\n"
     ]
    },
    {
     "name": "stdout",
     "output_type": "stream",
     "text": [
      "Epoch: 254 | Training Loss: 0.08697166388424543  | Validation Loss: 1.2484222130897717  | Accuracy: 67.74\n"
     ]
    },
    {
     "name": "stderr",
     "output_type": "stream",
     "text": [
      "390it [01:24,  4.60it/s]\n",
      "100%|██████████████████████████████████████████████████████████| 39/39 [00:02<00:00, 13.64it/s]\n"
     ]
    },
    {
     "name": "stdout",
     "output_type": "stream",
     "text": [
      "Epoch: 255 | Training Loss: 0.08370156731360998  | Validation Loss: 1.0574429677082942  | Accuracy: 71.69\n"
     ]
    },
    {
     "name": "stderr",
     "output_type": "stream",
     "text": [
      "390it [01:25,  4.58it/s]\n",
      "100%|██████████████████████████████████████████████████████████| 39/39 [00:02<00:00, 13.51it/s]\n"
     ]
    },
    {
     "name": "stdout",
     "output_type": "stream",
     "text": [
      "Epoch: 256 | Training Loss: 0.08687530174278296  | Validation Loss: 1.0817001538398938  | Accuracy: 71.66\n"
     ]
    },
    {
     "name": "stderr",
     "output_type": "stream",
     "text": [
      "390it [01:25,  4.54it/s]\n",
      "100%|██████████████████████████████████████████████████████████| 39/39 [00:02<00:00, 13.55it/s]\n"
     ]
    },
    {
     "name": "stdout",
     "output_type": "stream",
     "text": [
      "Epoch: 257 | Training Loss: 0.08623529200752576  | Validation Loss: 1.3016840127798228  | Accuracy: 68.12\n"
     ]
    },
    {
     "name": "stderr",
     "output_type": "stream",
     "text": [
      "390it [01:25,  4.56it/s]\n",
      "100%|██████████████████████████████████████████████████████████| 39/39 [00:02<00:00, 13.55it/s]\n"
     ]
    },
    {
     "name": "stdout",
     "output_type": "stream",
     "text": [
      "Epoch: 258 | Training Loss: 0.08727063481242228  | Validation Loss: 1.102204558176872  | Accuracy: 70.74\n"
     ]
    },
    {
     "name": "stderr",
     "output_type": "stream",
     "text": [
      "390it [01:25,  4.57it/s]\n",
      "100%|██████████████████████████████████████████████████████████| 39/39 [00:02<00:00, 13.49it/s]\n"
     ]
    },
    {
     "name": "stdout",
     "output_type": "stream",
     "text": [
      "Epoch: 259 | Training Loss: 0.08594621820136522  | Validation Loss: 1.1908724124615009  | Accuracy: 68.83\n"
     ]
    },
    {
     "name": "stderr",
     "output_type": "stream",
     "text": [
      "390it [01:25,  4.55it/s]\n",
      "100%|██████████████████████████████████████████████████████████| 39/39 [00:02<00:00, 13.36it/s]\n"
     ]
    },
    {
     "name": "stdout",
     "output_type": "stream",
     "text": [
      "Epoch: 260 | Training Loss: 0.08541579638154079  | Validation Loss: 1.0816032901788368  | Accuracy: 71.19\n"
     ]
    },
    {
     "name": "stderr",
     "output_type": "stream",
     "text": [
      "390it [01:25,  4.55it/s]\n",
      "100%|██████████████████████████████████████████████████████████| 39/39 [00:02<00:00, 13.44it/s]\n"
     ]
    },
    {
     "name": "stdout",
     "output_type": "stream",
     "text": [
      "Epoch: 261 | Training Loss: 0.0881942331026762  | Validation Loss: 1.0270533592273028  | Accuracy: 71.96\n"
     ]
    },
    {
     "name": "stderr",
     "output_type": "stream",
     "text": [
      "390it [01:25,  4.56it/s]\n",
      "100%|██████████████████████████████████████████████████████████| 39/39 [00:02<00:00, 13.53it/s]\n"
     ]
    },
    {
     "name": "stdout",
     "output_type": "stream",
     "text": [
      "Epoch: 262 | Training Loss: 0.0858631087705875  | Validation Loss: 1.1695247644033187  | Accuracy: 69.77\n"
     ]
    },
    {
     "name": "stderr",
     "output_type": "stream",
     "text": [
      "390it [01:25,  4.55it/s]\n",
      "100%|██████████████████████████████████████████████████████████| 39/39 [00:02<00:00, 13.56it/s]\n"
     ]
    },
    {
     "name": "stdout",
     "output_type": "stream",
     "text": [
      "Epoch: 263 | Training Loss: 0.08619992577303678  | Validation Loss: 1.0220828621815412  | Accuracy: 71.57\n"
     ]
    },
    {
     "name": "stderr",
     "output_type": "stream",
     "text": [
      "390it [01:25,  4.56it/s]\n",
      "100%|██████████████████████████████████████████████████████████| 39/39 [00:02<00:00, 13.46it/s]\n"
     ]
    },
    {
     "name": "stdout",
     "output_type": "stream",
     "text": [
      "Epoch: 264 | Training Loss: 0.08592497912737039  | Validation Loss: 1.2513479361167321  | Accuracy: 69.15\n"
     ]
    },
    {
     "name": "stderr",
     "output_type": "stream",
     "text": [
      "390it [01:25,  4.58it/s]\n",
      "100%|██████████████████████████████████████████████████████████| 39/39 [00:02<00:00, 13.26it/s]\n"
     ]
    },
    {
     "name": "stdout",
     "output_type": "stream",
     "text": [
      "Epoch: 265 | Training Loss: 0.08545701046211597  | Validation Loss: 1.2303223243126502  | Accuracy: 70.14\n"
     ]
    },
    {
     "name": "stderr",
     "output_type": "stream",
     "text": [
      "390it [01:25,  4.58it/s]\n",
      "100%|██████████████████████████████████████████████████████████| 39/39 [00:02<00:00, 13.44it/s]\n"
     ]
    },
    {
     "name": "stdout",
     "output_type": "stream",
     "text": [
      "Epoch: 266 | Training Loss: 0.08575414183239143  | Validation Loss: 1.1517894176336436  | Accuracy: 69.94\n"
     ]
    },
    {
     "name": "stderr",
     "output_type": "stream",
     "text": [
      "390it [01:25,  4.55it/s]\n",
      "100%|██████████████████████████████████████████████████████████| 39/39 [00:02<00:00, 13.46it/s]\n"
     ]
    },
    {
     "name": "stdout",
     "output_type": "stream",
     "text": [
      "Epoch: 267 | Training Loss: 0.08484856608586433  | Validation Loss: 1.2883149171486878  | Accuracy: 69.25\n"
     ]
    },
    {
     "name": "stderr",
     "output_type": "stream",
     "text": [
      "390it [01:25,  4.57it/s]\n",
      "100%|██████████████████████████████████████████████████████████| 39/39 [00:02<00:00, 13.52it/s]\n"
     ]
    },
    {
     "name": "stdout",
     "output_type": "stream",
     "text": [
      "Epoch: 268 | Training Loss: 0.08532418301090217  | Validation Loss: 1.154983965250162  | Accuracy: 69.90\n"
     ]
    },
    {
     "name": "stderr",
     "output_type": "stream",
     "text": [
      "390it [01:25,  4.55it/s]\n",
      "100%|██████████████████████████████████████████████████████████| 39/39 [00:02<00:00, 13.23it/s]\n"
     ]
    },
    {
     "name": "stdout",
     "output_type": "stream",
     "text": [
      "Epoch: 269 | Training Loss: 0.08379020518026291  | Validation Loss: 1.2856296820518298  | Accuracy: 69.17\n"
     ]
    },
    {
     "name": "stderr",
     "output_type": "stream",
     "text": [
      "390it [01:26,  4.50it/s]\n",
      "100%|██████████████████████████████████████████████████████████| 39/39 [00:02<00:00, 13.26it/s]\n"
     ]
    },
    {
     "name": "stdout",
     "output_type": "stream",
     "text": [
      "Epoch: 270 | Training Loss: 0.08520551698330121  | Validation Loss: 1.3132459842241728  | Accuracy: 67.83\n"
     ]
    },
    {
     "name": "stderr",
     "output_type": "stream",
     "text": [
      "390it [01:26,  4.51it/s]\n",
      "100%|██████████████████████████████████████████████████████████| 39/39 [00:02<00:00, 13.25it/s]\n"
     ]
    },
    {
     "name": "stdout",
     "output_type": "stream",
     "text": [
      "Epoch: 271 | Training Loss: 0.08302008349161882  | Validation Loss: 1.1789648211919344  | Accuracy: 70.25\n"
     ]
    },
    {
     "name": "stderr",
     "output_type": "stream",
     "text": [
      "390it [01:26,  4.49it/s]\n",
      "100%|██████████████████████████████████████████████████████████| 39/39 [00:02<00:00, 13.18it/s]\n"
     ]
    },
    {
     "name": "stdout",
     "output_type": "stream",
     "text": [
      "Epoch: 272 | Training Loss: 0.08391516554432038  | Validation Loss: 1.2082081727492504  | Accuracy: 69.56\n"
     ]
    },
    {
     "name": "stderr",
     "output_type": "stream",
     "text": [
      "390it [01:27,  4.44it/s]\n",
      "100%|██████████████████████████████████████████████████████████| 39/39 [00:02<00:00, 13.21it/s]\n"
     ]
    },
    {
     "name": "stdout",
     "output_type": "stream",
     "text": [
      "Epoch: 273 | Training Loss: 0.08420674978540493  | Validation Loss: 1.0440104894148998  | Accuracy: 71.23\n"
     ]
    },
    {
     "name": "stderr",
     "output_type": "stream",
     "text": [
      "390it [01:26,  4.50it/s]\n",
      "100%|██████████████████████████████████████████████████████████| 39/39 [00:02<00:00, 13.25it/s]\n"
     ]
    },
    {
     "name": "stdout",
     "output_type": "stream",
     "text": [
      "Epoch: 274 | Training Loss: 0.08589500997884152  | Validation Loss: 1.2508112161587446  | Accuracy: 68.82\n"
     ]
    },
    {
     "name": "stderr",
     "output_type": "stream",
     "text": [
      "390it [01:27,  4.47it/s]\n",
      "100%|██████████████████████████████████████████████████████████| 39/39 [00:02<00:00, 13.23it/s]\n"
     ]
    },
    {
     "name": "stdout",
     "output_type": "stream",
     "text": [
      "Epoch: 275 | Training Loss: 0.08262108380977924  | Validation Loss: 1.0837889787478325  | Accuracy: 70.66\n"
     ]
    },
    {
     "name": "stderr",
     "output_type": "stream",
     "text": [
      "390it [01:28,  4.43it/s]\n",
      "100%|██████████████████████████████████████████████████████████| 39/39 [00:02<00:00, 13.21it/s]\n"
     ]
    },
    {
     "name": "stdout",
     "output_type": "stream",
     "text": [
      "Epoch: 276 | Training Loss: 0.08385281066099802  | Validation Loss: 1.1727087971491692  | Accuracy: 71.10\n"
     ]
    },
    {
     "name": "stderr",
     "output_type": "stream",
     "text": [
      "390it [01:28,  4.43it/s]\n",
      "100%|██████████████████████████████████████████████████████████| 39/39 [00:02<00:00, 13.25it/s]\n"
     ]
    },
    {
     "name": "stdout",
     "output_type": "stream",
     "text": [
      "Epoch: 277 | Training Loss: 0.08358896067127203  | Validation Loss: 1.1930171358279693  | Accuracy: 69.42\n"
     ]
    },
    {
     "name": "stderr",
     "output_type": "stream",
     "text": [
      "390it [01:28,  4.42it/s]\n",
      "100%|██████████████████████████████████████████████████████████| 39/39 [00:02<00:00, 13.24it/s]\n"
     ]
    },
    {
     "name": "stdout",
     "output_type": "stream",
     "text": [
      "Epoch: 278 | Training Loss: 0.08205384966463615  | Validation Loss: 1.2159799001155756  | Accuracy: 68.36\n"
     ]
    },
    {
     "name": "stderr",
     "output_type": "stream",
     "text": [
      "390it [01:28,  4.42it/s]\n",
      "100%|██████████████████████████████████████████████████████████| 39/39 [00:02<00:00, 13.23it/s]\n"
     ]
    },
    {
     "name": "stdout",
     "output_type": "stream",
     "text": [
      "Epoch: 279 | Training Loss: 0.08394289691096697  | Validation Loss: 1.2475651563742223  | Accuracy: 69.14\n"
     ]
    },
    {
     "name": "stderr",
     "output_type": "stream",
     "text": [
      "390it [01:28,  4.42it/s]\n",
      "100%|██████████████████████████████████████████████████████████| 39/39 [00:02<00:00, 13.26it/s]\n"
     ]
    },
    {
     "name": "stdout",
     "output_type": "stream",
     "text": [
      "Epoch: 280 | Training Loss: 0.08363558841057313  | Validation Loss: 1.1527578509770906  | Accuracy: 69.68\n"
     ]
    },
    {
     "name": "stderr",
     "output_type": "stream",
     "text": [
      "390it [01:28,  4.42it/s]\n",
      "100%|██████████████████████████████████████████████████████████| 39/39 [00:02<00:00, 13.22it/s]\n"
     ]
    },
    {
     "name": "stdout",
     "output_type": "stream",
     "text": [
      "Epoch: 281 | Training Loss: 0.08228907438998039  | Validation Loss: 1.1352632168011787  | Accuracy: 70.75\n"
     ]
    },
    {
     "name": "stderr",
     "output_type": "stream",
     "text": [
      "390it [01:28,  4.42it/s]\n",
      "100%|██████████████████████████████████████████████████████████| 39/39 [00:02<00:00, 13.21it/s]\n"
     ]
    },
    {
     "name": "stdout",
     "output_type": "stream",
     "text": [
      "Epoch: 282 | Training Loss: 0.08060236721275708  | Validation Loss: 1.2669349205799592  | Accuracy: 69.17\n"
     ]
    },
    {
     "name": "stderr",
     "output_type": "stream",
     "text": [
      "390it [01:28,  4.42it/s]\n",
      "100%|██████████████████████████████████████████████████████████| 39/39 [00:02<00:00, 13.18it/s]\n"
     ]
    },
    {
     "name": "stdout",
     "output_type": "stream",
     "text": [
      "Epoch: 283 | Training Loss: 0.0830477758955497  | Validation Loss: 1.2478454479804406  | Accuracy: 68.69\n"
     ]
    },
    {
     "name": "stderr",
     "output_type": "stream",
     "text": [
      "390it [01:28,  4.42it/s]\n",
      "100%|██████████████████████████████████████████████████████████| 39/39 [00:02<00:00, 13.22it/s]\n"
     ]
    },
    {
     "name": "stdout",
     "output_type": "stream",
     "text": [
      "Epoch: 284 | Training Loss: 0.08445386003034237  | Validation Loss: 1.2379504686746843  | Accuracy: 69.03\n"
     ]
    },
    {
     "name": "stderr",
     "output_type": "stream",
     "text": [
      "390it [01:28,  4.42it/s]\n",
      "100%|██████████████████████████████████████████████████████████| 39/39 [00:02<00:00, 13.27it/s]\n"
     ]
    },
    {
     "name": "stdout",
     "output_type": "stream",
     "text": [
      "Epoch: 285 | Training Loss: 0.08245904777103509  | Validation Loss: 1.148284951845805  | Accuracy: 70.41\n"
     ]
    },
    {
     "name": "stderr",
     "output_type": "stream",
     "text": [
      "390it [01:28,  4.43it/s]\n",
      "100%|██████████████████████████████████████████████████████████| 39/39 [00:02<00:00, 13.17it/s]\n"
     ]
    },
    {
     "name": "stdout",
     "output_type": "stream",
     "text": [
      "Epoch: 286 | Training Loss: 0.08158527269768409  | Validation Loss: 1.213003322100028  | Accuracy: 69.67\n"
     ]
    },
    {
     "name": "stderr",
     "output_type": "stream",
     "text": [
      "390it [01:28,  4.43it/s]\n",
      "100%|██████████████████████████████████████████████████████████| 39/39 [00:03<00:00, 12.99it/s]\n"
     ]
    },
    {
     "name": "stdout",
     "output_type": "stream",
     "text": [
      "Epoch: 287 | Training Loss: 0.08060717216860025  | Validation Loss: 1.308645330942594  | Accuracy: 67.87\n"
     ]
    },
    {
     "name": "stderr",
     "output_type": "stream",
     "text": [
      "390it [01:28,  4.42it/s]\n",
      "100%|██████████████████████████████████████████████████████████| 39/39 [00:02<00:00, 13.31it/s]\n"
     ]
    },
    {
     "name": "stdout",
     "output_type": "stream",
     "text": [
      "Epoch: 288 | Training Loss: 0.0823327342287088  | Validation Loss: 0.9927316583119906  | Accuracy: 71.39\n"
     ]
    },
    {
     "name": "stderr",
     "output_type": "stream",
     "text": [
      "390it [01:28,  4.41it/s]\n",
      "100%|██████████████████████████████████████████████████████████| 39/39 [00:02<00:00, 13.30it/s]\n"
     ]
    },
    {
     "name": "stdout",
     "output_type": "stream",
     "text": [
      "Epoch: 289 | Training Loss: 0.08093221483704371  | Validation Loss: 1.2475502827228644  | Accuracy: 69.75\n"
     ]
    },
    {
     "name": "stderr",
     "output_type": "stream",
     "text": [
      "390it [01:28,  4.41it/s]\n",
      "100%|██████████████████████████████████████████████████████████| 39/39 [00:02<00:00, 13.30it/s]\n"
     ]
    },
    {
     "name": "stdout",
     "output_type": "stream",
     "text": [
      "Epoch: 290 | Training Loss: 0.08027706793867624  | Validation Loss: 1.2315825988084843  | Accuracy: 69.56\n"
     ]
    },
    {
     "name": "stderr",
     "output_type": "stream",
     "text": [
      "390it [01:28,  4.41it/s]\n",
      "100%|██████████████████████████████████████████████████████████| 39/39 [00:02<00:00, 13.30it/s]\n"
     ]
    },
    {
     "name": "stdout",
     "output_type": "stream",
     "text": [
      "Epoch: 291 | Training Loss: 0.08243258646092354  | Validation Loss: 1.1833998729021122  | Accuracy: 70.07\n"
     ]
    },
    {
     "name": "stderr",
     "output_type": "stream",
     "text": [
      "390it [01:28,  4.41it/s]\n",
      "100%|██████████████████████████████████████████████████████████| 39/39 [00:02<00:00, 13.29it/s]\n"
     ]
    },
    {
     "name": "stdout",
     "output_type": "stream",
     "text": [
      "Epoch: 292 | Training Loss: 0.0804518110381487  | Validation Loss: 1.2928239290530865  | Accuracy: 67.79\n"
     ]
    },
    {
     "name": "stderr",
     "output_type": "stream",
     "text": [
      "390it [01:28,  4.41it/s]\n",
      "100%|██████████████████████████████████████████████████████████| 39/39 [00:02<00:00, 13.26it/s]\n"
     ]
    },
    {
     "name": "stdout",
     "output_type": "stream",
     "text": [
      "Epoch: 293 | Training Loss: 0.07881223652034233  | Validation Loss: 1.1496623204304621  | Accuracy: 70.12\n"
     ]
    },
    {
     "name": "stderr",
     "output_type": "stream",
     "text": [
      "390it [01:28,  4.41it/s]\n",
      "100%|██████████████████████████████████████████████████████████| 39/39 [00:02<00:00, 13.31it/s]\n"
     ]
    },
    {
     "name": "stdout",
     "output_type": "stream",
     "text": [
      "Epoch: 294 | Training Loss: 0.08155217598646115  | Validation Loss: 1.177352297000396  | Accuracy: 70.30\n"
     ]
    },
    {
     "name": "stderr",
     "output_type": "stream",
     "text": [
      "390it [01:28,  4.42it/s]\n",
      "100%|██████████████████████████████████████████████████████████| 39/39 [00:02<00:00, 13.03it/s]\n"
     ]
    },
    {
     "name": "stdout",
     "output_type": "stream",
     "text": [
      "Epoch: 295 | Training Loss: 0.08083407395543196  | Validation Loss: 1.241582100207989  | Accuracy: 69.96\n"
     ]
    },
    {
     "name": "stderr",
     "output_type": "stream",
     "text": [
      "390it [01:28,  4.41it/s]\n",
      "100%|██████████████████████████████████████████████████████████| 39/39 [00:02<00:00, 13.31it/s]\n"
     ]
    },
    {
     "name": "stdout",
     "output_type": "stream",
     "text": [
      "Epoch: 296 | Training Loss: 0.08027979691441242  | Validation Loss: 1.2560891646605272  | Accuracy: 69.02\n"
     ]
    },
    {
     "name": "stderr",
     "output_type": "stream",
     "text": [
      "390it [01:28,  4.41it/s]\n",
      "100%|██████████████████████████████████████████████████████████| 39/39 [00:02<00:00, 13.32it/s]\n"
     ]
    },
    {
     "name": "stdout",
     "output_type": "stream",
     "text": [
      "Epoch: 297 | Training Loss: 0.08001152317111308  | Validation Loss: 1.2013043807103083  | Accuracy: 69.84\n"
     ]
    },
    {
     "name": "stderr",
     "output_type": "stream",
     "text": [
      "390it [01:28,  4.41it/s]\n",
      "100%|██████████████████████████████████████████████████████████| 39/39 [00:02<00:00, 13.30it/s]\n"
     ]
    },
    {
     "name": "stdout",
     "output_type": "stream",
     "text": [
      "Epoch: 298 | Training Loss: 0.0801852400868367  | Validation Loss: 1.225590060918759  | Accuracy: 69.77\n"
     ]
    },
    {
     "name": "stderr",
     "output_type": "stream",
     "text": [
      "390it [01:28,  4.41it/s]\n",
      "100%|██████████████████████████████████████████████████████████| 39/39 [00:02<00:00, 13.30it/s]\n"
     ]
    },
    {
     "name": "stdout",
     "output_type": "stream",
     "text": [
      "Epoch: 299 | Training Loss: 0.08264149313744826  | Validation Loss: 1.3019509376623692  | Accuracy: 68.35\n"
     ]
    },
    {
     "name": "stderr",
     "output_type": "stream",
     "text": [
      "390it [01:28,  4.41it/s]\n",
      "100%|██████████████████████████████████████████████████████████| 39/39 [00:02<00:00, 13.32it/s]\n"
     ]
    },
    {
     "name": "stdout",
     "output_type": "stream",
     "text": [
      "Epoch: 300 | Training Loss: 0.08158121075576696  | Validation Loss: 1.1574361691108117  | Accuracy: 70.09\n"
     ]
    },
    {
     "name": "stderr",
     "output_type": "stream",
     "text": [
      "390it [01:28,  4.41it/s]\n",
      "100%|██████████████████████████████████████████████████████████| 39/39 [00:02<00:00, 13.31it/s]\n"
     ]
    },
    {
     "name": "stdout",
     "output_type": "stream",
     "text": [
      "Epoch: 301 | Training Loss: 0.0813819685807595  | Validation Loss: 1.0628854953325713  | Accuracy: 71.46\n"
     ]
    },
    {
     "name": "stderr",
     "output_type": "stream",
     "text": [
      "390it [01:28,  4.41it/s]\n",
      "100%|██████████████████████████████████████████████████████████| 39/39 [00:02<00:00, 13.29it/s]\n"
     ]
    },
    {
     "name": "stdout",
     "output_type": "stream",
     "text": [
      "Epoch: 302 | Training Loss: 0.08060094241339427  | Validation Loss: 1.2573501299589107  | Accuracy: 69.17\n"
     ]
    },
    {
     "name": "stderr",
     "output_type": "stream",
     "text": [
      "390it [01:28,  4.41it/s]\n",
      "100%|██████████████████████████████████████████████████████████| 39/39 [00:02<00:00, 13.01it/s]\n"
     ]
    },
    {
     "name": "stdout",
     "output_type": "stream",
     "text": [
      "Epoch: 303 | Training Loss: 0.08082929436977093  | Validation Loss: 1.226600142625662  | Accuracy: 70.05\n"
     ]
    },
    {
     "name": "stderr",
     "output_type": "stream",
     "text": [
      "390it [01:28,  4.41it/s]\n",
      "100%|██████████████████████████████████████████████████████████| 39/39 [00:02<00:00, 13.31it/s]\n"
     ]
    },
    {
     "name": "stdout",
     "output_type": "stream",
     "text": [
      "Epoch: 304 | Training Loss: 0.07858018850286802  | Validation Loss: 1.2563679157159267  | Accuracy: 69.28\n"
     ]
    },
    {
     "name": "stderr",
     "output_type": "stream",
     "text": [
      "390it [01:28,  4.41it/s]\n",
      "100%|██████████████████████████████████████████████████████████| 39/39 [00:02<00:00, 13.29it/s]\n"
     ]
    },
    {
     "name": "stdout",
     "output_type": "stream",
     "text": [
      "Epoch: 305 | Training Loss: 0.08074658825420417  | Validation Loss: 1.8369541412744768  | Accuracy: 62.92\n"
     ]
    },
    {
     "name": "stderr",
     "output_type": "stream",
     "text": [
      "390it [01:28,  4.41it/s]\n",
      "100%|██████████████████████████████████████████████████████████| 39/39 [00:02<00:00, 13.30it/s]\n"
     ]
    },
    {
     "name": "stdout",
     "output_type": "stream",
     "text": [
      "Epoch: 306 | Training Loss: 0.08221818684385374  | Validation Loss: 1.1583432845580273  | Accuracy: 69.41\n"
     ]
    },
    {
     "name": "stderr",
     "output_type": "stream",
     "text": [
      "390it [01:28,  4.41it/s]\n",
      "100%|██████████████████████████████████████████████████████████| 39/39 [00:02<00:00, 13.31it/s]\n"
     ]
    },
    {
     "name": "stdout",
     "output_type": "stream",
     "text": [
      "Epoch: 307 | Training Loss: 0.0785204945753018  | Validation Loss: 1.109778486765348  | Accuracy: 71.23\n"
     ]
    },
    {
     "name": "stderr",
     "output_type": "stream",
     "text": [
      "390it [01:28,  4.41it/s]\n",
      "100%|██████████████████████████████████████████████████████████| 39/39 [00:02<00:00, 13.31it/s]\n"
     ]
    },
    {
     "name": "stdout",
     "output_type": "stream",
     "text": [
      "Epoch: 308 | Training Loss: 0.07779562092171266  | Validation Loss: 1.15692538022995  | Accuracy: 70.01\n"
     ]
    },
    {
     "name": "stderr",
     "output_type": "stream",
     "text": [
      "390it [01:28,  4.41it/s]\n",
      "100%|██████████████████████████████████████████████████████████| 39/39 [00:02<00:00, 13.31it/s]\n"
     ]
    },
    {
     "name": "stdout",
     "output_type": "stream",
     "text": [
      "Epoch: 309 | Training Loss: 0.07999133708385321  | Validation Loss: 1.1458291243284175  | Accuracy: 70.28\n"
     ]
    },
    {
     "name": "stderr",
     "output_type": "stream",
     "text": [
      "390it [01:28,  4.41it/s]\n",
      "100%|██████████████████████████████████████████████████████████| 39/39 [00:02<00:00, 13.31it/s]\n"
     ]
    },
    {
     "name": "stdout",
     "output_type": "stream",
     "text": [
      "Epoch: 310 | Training Loss: 0.08078486133271302  | Validation Loss: 1.2027953832577436  | Accuracy: 70.03\n"
     ]
    },
    {
     "name": "stderr",
     "output_type": "stream",
     "text": [
      "390it [01:28,  4.41it/s]\n",
      "100%|██████████████████████████████████████████████████████████| 39/39 [00:02<00:00, 13.30it/s]\n"
     ]
    },
    {
     "name": "stdout",
     "output_type": "stream",
     "text": [
      "Epoch: 311 | Training Loss: 0.07854067384241484  | Validation Loss: 1.14972589413325  | Accuracy: 70.34\n"
     ]
    },
    {
     "name": "stderr",
     "output_type": "stream",
     "text": [
      "390it [01:28,  4.41it/s]\n",
      "100%|██████████████████████████████████████████████████████████| 39/39 [00:02<00:00, 13.30it/s]\n"
     ]
    },
    {
     "name": "stdout",
     "output_type": "stream",
     "text": [
      "Epoch: 312 | Training Loss: 0.07724093284744482  | Validation Loss: 1.3168232043584187  | Accuracy: 69.15\n"
     ]
    },
    {
     "name": "stderr",
     "output_type": "stream",
     "text": [
      "390it [01:28,  4.41it/s]\n",
      "100%|██████████████████████████████████████████████████████████| 39/39 [00:02<00:00, 13.34it/s]\n"
     ]
    },
    {
     "name": "stdout",
     "output_type": "stream",
     "text": [
      "Epoch: 313 | Training Loss: 0.08227749860439545  | Validation Loss: 1.2244866750179193  | Accuracy: 69.80\n"
     ]
    },
    {
     "name": "stderr",
     "output_type": "stream",
     "text": [
      "390it [01:28,  4.40it/s]\n",
      "100%|██████████████████████████████████████████████████████████| 39/39 [00:02<00:00, 13.29it/s]\n"
     ]
    },
    {
     "name": "stdout",
     "output_type": "stream",
     "text": [
      "Epoch: 314 | Training Loss: 0.0763588629854031  | Validation Loss: 1.0893903099573576  | Accuracy: 71.62\n"
     ]
    },
    {
     "name": "stderr",
     "output_type": "stream",
     "text": [
      "390it [01:28,  4.41it/s]\n",
      "100%|██████████████████████████████████████████████████████████| 39/39 [00:02<00:00, 13.29it/s]\n"
     ]
    },
    {
     "name": "stdout",
     "output_type": "stream",
     "text": [
      "Epoch: 315 | Training Loss: 0.07892293489705293  | Validation Loss: 1.1608909979844704  | Accuracy: 69.43\n"
     ]
    },
    {
     "name": "stderr",
     "output_type": "stream",
     "text": [
      "390it [01:28,  4.41it/s]\n",
      "100%|██████████████████████████████████████████████████████████| 39/39 [00:02<00:00, 13.29it/s]\n"
     ]
    },
    {
     "name": "stdout",
     "output_type": "stream",
     "text": [
      "Epoch: 316 | Training Loss: 0.07820343730541376  | Validation Loss: 1.3617315353491368  | Accuracy: 66.96\n"
     ]
    },
    {
     "name": "stderr",
     "output_type": "stream",
     "text": [
      "390it [01:28,  4.42it/s]\n",
      "100%|██████████████████████████████████████████████████████████| 39/39 [00:02<00:00, 13.27it/s]\n"
     ]
    },
    {
     "name": "stdout",
     "output_type": "stream",
     "text": [
      "Epoch: 317 | Training Loss: 0.07954983527843769  | Validation Loss: 1.334878689203507  | Accuracy: 68.36\n"
     ]
    },
    {
     "name": "stderr",
     "output_type": "stream",
     "text": [
      "390it [01:28,  4.41it/s]\n",
      "100%|██████████████████████████████████████████████████████████| 39/39 [00:02<00:00, 13.07it/s]\n"
     ]
    },
    {
     "name": "stdout",
     "output_type": "stream",
     "text": [
      "Epoch: 318 | Training Loss: 0.07837723068510875  | Validation Loss: 1.2202998674832857  | Accuracy: 70.30\n"
     ]
    },
    {
     "name": "stderr",
     "output_type": "stream",
     "text": [
      "390it [01:28,  4.43it/s]\n",
      "100%|██████████████████████████████████████████████████████████| 39/39 [00:02<00:00, 13.25it/s]\n"
     ]
    },
    {
     "name": "stdout",
     "output_type": "stream",
     "text": [
      "Epoch: 319 | Training Loss: 0.07972465717257597  | Validation Loss: 1.1688064336776733  | Accuracy: 70.22\n"
     ]
    },
    {
     "name": "stderr",
     "output_type": "stream",
     "text": [
      "390it [01:28,  4.42it/s]\n",
      "100%|██████████████████████████████████████████████████████████| 39/39 [00:02<00:00, 13.26it/s]\n"
     ]
    },
    {
     "name": "stdout",
     "output_type": "stream",
     "text": [
      "Epoch: 320 | Training Loss: 0.07918511058848637  | Validation Loss: 1.180451723245474  | Accuracy: 69.97\n"
     ]
    },
    {
     "name": "stderr",
     "output_type": "stream",
     "text": [
      "390it [01:28,  4.42it/s]\n",
      "100%|██████████████████████████████████████████████████████████| 39/39 [00:02<00:00, 13.44it/s]\n"
     ]
    },
    {
     "name": "stdout",
     "output_type": "stream",
     "text": [
      "Epoch: 321 | Training Loss: 0.07886953570712836  | Validation Loss: 1.1465947643304482  | Accuracy: 70.04\n"
     ]
    },
    {
     "name": "stderr",
     "output_type": "stream",
     "text": [
      "390it [01:28,  4.42it/s]\n",
      "100%|██████████████████████████████████████████████████████████| 39/39 [00:03<00:00, 12.98it/s]\n"
     ]
    },
    {
     "name": "stdout",
     "output_type": "stream",
     "text": [
      "Epoch: 322 | Training Loss: 0.07667014341896926  | Validation Loss: 1.2057200517409887  | Accuracy: 70.04\n"
     ]
    },
    {
     "name": "stderr",
     "output_type": "stream",
     "text": [
      "390it [01:28,  4.41it/s]\n",
      "100%|██████████████████████████████████████████████████████████| 39/39 [00:02<00:00, 13.27it/s]\n"
     ]
    },
    {
     "name": "stdout",
     "output_type": "stream",
     "text": [
      "Epoch: 323 | Training Loss: 0.07856472040025088  | Validation Loss: 1.1322485575309167  | Accuracy: 70.42\n"
     ]
    },
    {
     "name": "stderr",
     "output_type": "stream",
     "text": [
      "390it [01:28,  4.42it/s]\n",
      "100%|██████████████████████████████████████████████████████████| 39/39 [00:02<00:00, 13.26it/s]\n"
     ]
    },
    {
     "name": "stdout",
     "output_type": "stream",
     "text": [
      "Epoch: 324 | Training Loss: 0.07886420824588873  | Validation Loss: 1.2534644328630888  | Accuracy: 69.38\n"
     ]
    },
    {
     "name": "stderr",
     "output_type": "stream",
     "text": [
      "390it [01:28,  4.41it/s]\n",
      "100%|██████████████████████████████████████████████████████████| 39/39 [00:02<00:00, 13.28it/s]\n"
     ]
    },
    {
     "name": "stdout",
     "output_type": "stream",
     "text": [
      "Epoch: 325 | Training Loss: 0.0771865673076648  | Validation Loss: 1.1710173716911902  | Accuracy: 70.46\n"
     ]
    },
    {
     "name": "stderr",
     "output_type": "stream",
     "text": [
      "390it [01:28,  4.42it/s]\n",
      "100%|██████████████████████████████████████████████████████████| 39/39 [00:02<00:00, 13.26it/s]\n"
     ]
    },
    {
     "name": "stdout",
     "output_type": "stream",
     "text": [
      "Epoch: 326 | Training Loss: 0.07725561089240587  | Validation Loss: 1.14807172310658  | Accuracy: 70.43\n"
     ]
    },
    {
     "name": "stderr",
     "output_type": "stream",
     "text": [
      "390it [01:28,  4.41it/s]\n",
      "100%|██████████████████████████████████████████████████████████| 39/39 [00:02<00:00, 13.28it/s]\n"
     ]
    },
    {
     "name": "stdout",
     "output_type": "stream",
     "text": [
      "Epoch: 327 | Training Loss: 0.07886680176433844  | Validation Loss: 1.1178335975377987  | Accuracy: 71.18\n"
     ]
    },
    {
     "name": "stderr",
     "output_type": "stream",
     "text": [
      "390it [01:27,  4.43it/s]\n",
      "100%|██████████████████████████████████████████████████████████| 39/39 [00:02<00:00, 13.29it/s]\n"
     ]
    },
    {
     "name": "stdout",
     "output_type": "stream",
     "text": [
      "Epoch: 328 | Training Loss: 0.07819097593235663  | Validation Loss: 1.2099686158009064  | Accuracy: 69.49\n"
     ]
    },
    {
     "name": "stderr",
     "output_type": "stream",
     "text": [
      "390it [01:28,  4.41it/s]\n",
      "100%|██████████████████████████████████████████████████████████| 39/39 [00:02<00:00, 13.01it/s]\n"
     ]
    },
    {
     "name": "stdout",
     "output_type": "stream",
     "text": [
      "Epoch: 329 | Training Loss: 0.0773841585820684  | Validation Loss: 1.361383502299969  | Accuracy: 68.34\n"
     ]
    },
    {
     "name": "stderr",
     "output_type": "stream",
     "text": [
      "390it [01:28,  4.42it/s]\n",
      "100%|██████████████████████████████████████████████████████████| 39/39 [00:02<00:00, 13.32it/s]\n"
     ]
    },
    {
     "name": "stdout",
     "output_type": "stream",
     "text": [
      "Epoch: 330 | Training Loss: 0.07659551915832055  | Validation Loss: 1.1421149266071808  | Accuracy: 71.03\n"
     ]
    },
    {
     "name": "stderr",
     "output_type": "stream",
     "text": [
      "390it [01:28,  4.41it/s]\n",
      "100%|██████████████████████████████████████████████████████████| 39/39 [00:02<00:00, 13.28it/s]\n"
     ]
    },
    {
     "name": "stdout",
     "output_type": "stream",
     "text": [
      "Epoch: 331 | Training Loss: 0.07708223128739075  | Validation Loss: 0.9683913634373591  | Accuracy: 73.31\n"
     ]
    },
    {
     "name": "stderr",
     "output_type": "stream",
     "text": [
      "390it [01:28,  4.41it/s]\n",
      "100%|██████████████████████████████████████████████████████████| 39/39 [00:02<00:00, 13.31it/s]\n"
     ]
    },
    {
     "name": "stdout",
     "output_type": "stream",
     "text": [
      "Epoch: 332 | Training Loss: 0.07755909573573333  | Validation Loss: 1.1496209242405035  | Accuracy: 71.55\n"
     ]
    },
    {
     "name": "stderr",
     "output_type": "stream",
     "text": [
      "390it [01:28,  4.43it/s]\n",
      "100%|██████████████████████████████████████████████████████████| 39/39 [00:02<00:00, 13.06it/s]\n"
     ]
    },
    {
     "name": "stdout",
     "output_type": "stream",
     "text": [
      "Epoch: 333 | Training Loss: 0.07665535969994007  | Validation Loss: 1.2359591875320826  | Accuracy: 70.08\n"
     ]
    },
    {
     "name": "stderr",
     "output_type": "stream",
     "text": [
      "390it [01:28,  4.41it/s]\n",
      "100%|██████████████████████████████████████████████████████████| 39/39 [00:02<00:00, 13.24it/s]\n"
     ]
    },
    {
     "name": "stdout",
     "output_type": "stream",
     "text": [
      "Epoch: 334 | Training Loss: 0.07748075993015216  | Validation Loss: 1.26245077756735  | Accuracy: 70.18\n"
     ]
    },
    {
     "name": "stderr",
     "output_type": "stream",
     "text": [
      "390it [01:28,  4.43it/s]\n",
      "100%|██████████████████████████████████████████████████████████| 39/39 [00:02<00:00, 13.31it/s]\n"
     ]
    },
    {
     "name": "stdout",
     "output_type": "stream",
     "text": [
      "Epoch: 335 | Training Loss: 0.07632720058736128  | Validation Loss: 1.3371673088807325  | Accuracy: 68.19\n"
     ]
    },
    {
     "name": "stderr",
     "output_type": "stream",
     "text": [
      "390it [01:28,  4.41it/s]\n",
      "100%|██████████████████████████████████████████████████████████| 39/39 [00:02<00:00, 13.29it/s]\n"
     ]
    },
    {
     "name": "stdout",
     "output_type": "stream",
     "text": [
      "Epoch: 336 | Training Loss: 0.0747450219324002  | Validation Loss: 1.272184628706712  | Accuracy: 68.83\n"
     ]
    },
    {
     "name": "stderr",
     "output_type": "stream",
     "text": [
      "390it [01:28,  4.41it/s]\n",
      "100%|██████████████████████████████████████████████████████████| 39/39 [00:02<00:00, 13.27it/s]\n"
     ]
    },
    {
     "name": "stdout",
     "output_type": "stream",
     "text": [
      "Epoch: 337 | Training Loss: 0.0766867156403187  | Validation Loss: 1.1362570570065424  | Accuracy: 71.01\n"
     ]
    },
    {
     "name": "stderr",
     "output_type": "stream",
     "text": [
      "390it [01:28,  4.41it/s]\n",
      "100%|██████████████████████████████████████████████████████████| 39/39 [00:02<00:00, 13.32it/s]\n"
     ]
    },
    {
     "name": "stdout",
     "output_type": "stream",
     "text": [
      "Epoch: 338 | Training Loss: 0.07848431289387055  | Validation Loss: 1.1365121282063997  | Accuracy: 70.86\n"
     ]
    },
    {
     "name": "stderr",
     "output_type": "stream",
     "text": [
      "390it [01:28,  4.42it/s]\n",
      "100%|██████████████████████████████████████████████████████████| 39/39 [00:02<00:00, 13.27it/s]\n"
     ]
    },
    {
     "name": "stdout",
     "output_type": "stream",
     "text": [
      "Epoch: 339 | Training Loss: 0.07809017131534907  | Validation Loss: 1.0788582563400269  | Accuracy: 71.60\n"
     ]
    },
    {
     "name": "stderr",
     "output_type": "stream",
     "text": [
      "390it [01:28,  4.42it/s]\n",
      "100%|██████████████████████████████████████████████████████████| 39/39 [00:02<00:00, 13.29it/s]\n"
     ]
    },
    {
     "name": "stdout",
     "output_type": "stream",
     "text": [
      "Epoch: 340 | Training Loss: 0.0777460301724764  | Validation Loss: 1.195742986141107  | Accuracy: 70.49\n"
     ]
    },
    {
     "name": "stderr",
     "output_type": "stream",
     "text": [
      "390it [01:27,  4.44it/s]\n",
      "100%|██████████████████████████████████████████████████████████| 39/39 [00:02<00:00, 13.02it/s]\n"
     ]
    },
    {
     "name": "stdout",
     "output_type": "stream",
     "text": [
      "Epoch: 341 | Training Loss: 0.07667548733835038  | Validation Loss: 1.3339511889677782  | Accuracy: 68.82\n"
     ]
    },
    {
     "name": "stderr",
     "output_type": "stream",
     "text": [
      "390it [01:28,  4.41it/s]\n",
      "100%|██████████████████████████████████████████████████████████| 39/39 [00:02<00:00, 13.26it/s]\n"
     ]
    },
    {
     "name": "stdout",
     "output_type": "stream",
     "text": [
      "Epoch: 342 | Training Loss: 0.07768606340560394  | Validation Loss: 1.2160949737597735  | Accuracy: 69.38\n"
     ]
    },
    {
     "name": "stderr",
     "output_type": "stream",
     "text": [
      "390it [01:28,  4.41it/s]\n",
      "100%|██████████████████████████████████████████████████████████| 39/39 [00:02<00:00, 13.30it/s]\n"
     ]
    },
    {
     "name": "stdout",
     "output_type": "stream",
     "text": [
      "Epoch: 343 | Training Loss: 0.07895301292913082  | Validation Loss: 1.2063278143222516  | Accuracy: 69.76\n"
     ]
    },
    {
     "name": "stderr",
     "output_type": "stream",
     "text": [
      "390it [01:28,  4.42it/s]\n",
      "100%|██████████████████████████████████████████████████████████| 39/39 [00:02<00:00, 13.26it/s]\n"
     ]
    },
    {
     "name": "stdout",
     "output_type": "stream",
     "text": [
      "Epoch: 344 | Training Loss: 0.07740313501503222  | Validation Loss: 1.273235742862408  | Accuracy: 69.44\n"
     ]
    },
    {
     "name": "stderr",
     "output_type": "stream",
     "text": [
      "390it [01:28,  4.43it/s]\n",
      "100%|██████████████████████████████████████████████████████████| 39/39 [00:02<00:00, 13.27it/s]\n"
     ]
    },
    {
     "name": "stdout",
     "output_type": "stream",
     "text": [
      "Epoch: 345 | Training Loss: 0.07586883274026406  | Validation Loss: 1.1436738173166912  | Accuracy: 70.47\n"
     ]
    },
    {
     "name": "stderr",
     "output_type": "stream",
     "text": [
      "390it [01:28,  4.42it/s]\n",
      "100%|██████████████████████████████████████████████████████████| 39/39 [00:02<00:00, 13.25it/s]\n"
     ]
    },
    {
     "name": "stdout",
     "output_type": "stream",
     "text": [
      "Epoch: 346 | Training Loss: 0.0779819787790378  | Validation Loss: 1.3904970517525306  | Accuracy: 67.14\n"
     ]
    },
    {
     "name": "stderr",
     "output_type": "stream",
     "text": [
      "390it [01:28,  4.42it/s]\n",
      "100%|██████████████████████████████████████████████████████████| 39/39 [00:02<00:00, 13.29it/s]\n"
     ]
    },
    {
     "name": "stdout",
     "output_type": "stream",
     "text": [
      "Epoch: 347 | Training Loss: 0.07459617841702242  | Validation Loss: 1.3166948342934632  | Accuracy: 68.55\n"
     ]
    },
    {
     "name": "stderr",
     "output_type": "stream",
     "text": [
      "390it [01:28,  4.42it/s]\n",
      "100%|██████████████████████████████████████████████████████████| 39/39 [00:02<00:00, 13.28it/s]\n"
     ]
    },
    {
     "name": "stdout",
     "output_type": "stream",
     "text": [
      "Epoch: 348 | Training Loss: 0.07763716365473393  | Validation Loss: 0.968767462632595  | Accuracy: 72.57\n"
     ]
    },
    {
     "name": "stderr",
     "output_type": "stream",
     "text": [
      "390it [01:28,  4.42it/s]\n",
      "100%|██████████████████████████████████████████████████████████| 39/39 [00:02<00:00, 13.26it/s]\n"
     ]
    },
    {
     "name": "stdout",
     "output_type": "stream",
     "text": [
      "Epoch: 349 | Training Loss: 0.0786350747427115  | Validation Loss: 1.257048582419371  | Accuracy: 68.58\n"
     ]
    },
    {
     "name": "stderr",
     "output_type": "stream",
     "text": [
      "390it [01:28,  4.42it/s]\n",
      "100%|██████████████████████████████████████████████████████████| 39/39 [00:02<00:00, 13.28it/s]\n"
     ]
    },
    {
     "name": "stdout",
     "output_type": "stream",
     "text": [
      "Epoch: 350 | Training Loss: 0.07746177027240778  | Validation Loss: 1.085106114546458  | Accuracy: 71.42\n"
     ]
    },
    {
     "name": "stderr",
     "output_type": "stream",
     "text": [
      "390it [01:28,  4.41it/s]\n",
      "100%|██████████████████████████████████████████████████████████| 39/39 [00:02<00:00, 13.30it/s]\n"
     ]
    },
    {
     "name": "stdout",
     "output_type": "stream",
     "text": [
      "Epoch: 351 | Training Loss: 0.07665592587720126  | Validation Loss: 1.2597661782533696  | Accuracy: 68.92\n"
     ]
    },
    {
     "name": "stderr",
     "output_type": "stream",
     "text": [
      "390it [01:28,  4.41it/s]\n",
      "100%|██████████████████████████████████████████████████████████| 39/39 [00:02<00:00, 13.30it/s]\n"
     ]
    },
    {
     "name": "stdout",
     "output_type": "stream",
     "text": [
      "Epoch: 352 | Training Loss: 0.07699863015650174  | Validation Loss: 1.1035074989000957  | Accuracy: 72.02\n"
     ]
    },
    {
     "name": "stderr",
     "output_type": "stream",
     "text": [
      "390it [01:28,  4.41it/s]\n",
      "100%|██████████████████████████████████████████████████████████| 39/39 [00:02<00:00, 13.26it/s]\n"
     ]
    },
    {
     "name": "stdout",
     "output_type": "stream",
     "text": [
      "Epoch: 353 | Training Loss: 0.07773203564186891  | Validation Loss: 1.0815375309724073  | Accuracy: 71.93\n"
     ]
    },
    {
     "name": "stderr",
     "output_type": "stream",
     "text": [
      "390it [01:28,  4.43it/s]\n",
      "100%|██████████████████████████████████████████████████████████| 39/39 [00:02<00:00, 13.27it/s]\n"
     ]
    },
    {
     "name": "stdout",
     "output_type": "stream",
     "text": [
      "Epoch: 354 | Training Loss: 0.07669827474328952  | Validation Loss: 1.299176038839878  | Accuracy: 69.04\n"
     ]
    },
    {
     "name": "stderr",
     "output_type": "stream",
     "text": [
      "390it [01:28,  4.43it/s]\n",
      "100%|██████████████████████████████████████████████████████████| 39/39 [00:02<00:00, 13.27it/s]\n"
     ]
    },
    {
     "name": "stdout",
     "output_type": "stream",
     "text": [
      "Epoch: 355 | Training Loss: 0.07561108168119039  | Validation Loss: 1.2758018267460358  | Accuracy: 69.25\n"
     ]
    },
    {
     "name": "stderr",
     "output_type": "stream",
     "text": [
      "390it [01:28,  4.41it/s]\n",
      "100%|██████████████████████████████████████████████████████████| 39/39 [00:03<00:00, 12.97it/s]\n"
     ]
    },
    {
     "name": "stdout",
     "output_type": "stream",
     "text": [
      "Epoch: 356 | Training Loss: 0.07714639424513547  | Validation Loss: 1.1451811377818768  | Accuracy: 71.59\n"
     ]
    },
    {
     "name": "stderr",
     "output_type": "stream",
     "text": [
      "390it [01:28,  4.42it/s]\n",
      "100%|██████████████████████████████████████████████████████████| 39/39 [00:02<00:00, 13.27it/s]\n"
     ]
    },
    {
     "name": "stdout",
     "output_type": "stream",
     "text": [
      "Epoch: 357 | Training Loss: 0.07596850512692561  | Validation Loss: 1.1866339445114136  | Accuracy: 70.34\n"
     ]
    },
    {
     "name": "stderr",
     "output_type": "stream",
     "text": [
      "390it [01:28,  4.41it/s]\n",
      "100%|██████████████████████████████████████████████████████████| 39/39 [00:02<00:00, 13.29it/s]\n"
     ]
    },
    {
     "name": "stdout",
     "output_type": "stream",
     "text": [
      "Epoch: 358 | Training Loss: 0.0756494897393844  | Validation Loss: 1.0662454595932593  | Accuracy: 71.12\n"
     ]
    },
    {
     "name": "stderr",
     "output_type": "stream",
     "text": [
      "390it [01:27,  4.43it/s]\n",
      "100%|██████████████████████████████████████████████████████████| 39/39 [00:02<00:00, 13.23it/s]\n"
     ]
    },
    {
     "name": "stdout",
     "output_type": "stream",
     "text": [
      "Epoch: 359 | Training Loss: 0.07544304273831538  | Validation Loss: 1.2157974655811603  | Accuracy: 70.07\n"
     ]
    },
    {
     "name": "stderr",
     "output_type": "stream",
     "text": [
      "390it [01:28,  4.42it/s]\n",
      "100%|██████████████████████████████████████████████████████████| 39/39 [00:02<00:00, 13.29it/s]\n"
     ]
    },
    {
     "name": "stdout",
     "output_type": "stream",
     "text": [
      "Epoch: 360 | Training Loss: 0.07629059386941103  | Validation Loss: 1.1910692269985492  | Accuracy: 68.77\n"
     ]
    },
    {
     "name": "stderr",
     "output_type": "stream",
     "text": [
      "390it [01:28,  4.41it/s]\n",
      "100%|██████████████████████████████████████████████████████████| 39/39 [00:02<00:00, 13.26it/s]\n"
     ]
    },
    {
     "name": "stdout",
     "output_type": "stream",
     "text": [
      "Epoch: 361 | Training Loss: 0.07585291461302685  | Validation Loss: 1.1649938286879125  | Accuracy: 70.51\n"
     ]
    },
    {
     "name": "stderr",
     "output_type": "stream",
     "text": [
      "390it [01:28,  4.43it/s]\n",
      "100%|██████████████████████████████████████████████████████████| 39/39 [00:02<00:00, 13.26it/s]\n"
     ]
    },
    {
     "name": "stdout",
     "output_type": "stream",
     "text": [
      "Epoch: 362 | Training Loss: 0.07791708768942417  | Validation Loss: 1.2274408921217308  | Accuracy: 69.84\n"
     ]
    },
    {
     "name": "stderr",
     "output_type": "stream",
     "text": [
      "390it [01:28,  4.42it/s]\n",
      "100%|██████████████████████████████████████████████████████████| 39/39 [00:02<00:00, 13.29it/s]\n"
     ]
    },
    {
     "name": "stdout",
     "output_type": "stream",
     "text": [
      "Epoch: 363 | Training Loss: 0.07683842347409481  | Validation Loss: 1.388417152258066  | Accuracy: 68.50\n"
     ]
    },
    {
     "name": "stderr",
     "output_type": "stream",
     "text": [
      "390it [01:28,  4.41it/s]\n",
      "100%|██████████████████████████████████████████████████████████| 39/39 [00:02<00:00, 13.29it/s]\n"
     ]
    },
    {
     "name": "stdout",
     "output_type": "stream",
     "text": [
      "Epoch: 364 | Training Loss: 0.07690851657818525  | Validation Loss: 1.2264901949809148  | Accuracy: 69.36\n"
     ]
    },
    {
     "name": "stderr",
     "output_type": "stream",
     "text": [
      "390it [01:28,  4.41it/s]\n",
      "100%|██████████████████████████████████████████████████████████| 39/39 [00:02<00:00, 13.31it/s]\n"
     ]
    },
    {
     "name": "stdout",
     "output_type": "stream",
     "text": [
      "Epoch: 365 | Training Loss: 0.07542987512663389  | Validation Loss: 1.1706356268662672  | Accuracy: 70.13\n"
     ]
    },
    {
     "name": "stderr",
     "output_type": "stream",
     "text": [
      "390it [01:28,  4.41it/s]\n",
      "100%|██████████████████████████████████████████████████████████| 39/39 [00:02<00:00, 13.31it/s]\n"
     ]
    },
    {
     "name": "stdout",
     "output_type": "stream",
     "text": [
      "Epoch: 366 | Training Loss: 0.07669136584378206  | Validation Loss: 1.3129109663841052  | Accuracy: 69.14\n"
     ]
    },
    {
     "name": "stderr",
     "output_type": "stream",
     "text": [
      "390it [01:28,  4.42it/s]\n",
      "100%|██████████████████████████████████████████████████████████| 39/39 [00:02<00:00, 13.02it/s]\n"
     ]
    },
    {
     "name": "stdout",
     "output_type": "stream",
     "text": [
      "Epoch: 367 | Training Loss: 0.07426239093526815  | Validation Loss: 1.3347827043288794  | Accuracy: 67.92\n"
     ]
    },
    {
     "name": "stderr",
     "output_type": "stream",
     "text": [
      "390it [01:28,  4.42it/s]\n",
      "100%|██████████████████████████████████████████████████████████| 39/39 [00:02<00:00, 13.27it/s]\n"
     ]
    },
    {
     "name": "stdout",
     "output_type": "stream",
     "text": [
      "Epoch: 368 | Training Loss: 0.07535256668925286  | Validation Loss: 1.0770142353498018  | Accuracy: 71.78\n"
     ]
    },
    {
     "name": "stderr",
     "output_type": "stream",
     "text": [
      "390it [01:28,  4.41it/s]\n",
      "100%|██████████████████████████████████████████████████████████| 39/39 [00:02<00:00, 13.26it/s]\n"
     ]
    },
    {
     "name": "stdout",
     "output_type": "stream",
     "text": [
      "Epoch: 369 | Training Loss: 0.07670638658679449  | Validation Loss: 1.1609086776391053  | Accuracy: 70.40\n"
     ]
    },
    {
     "name": "stderr",
     "output_type": "stream",
     "text": [
      "390it [01:28,  4.41it/s]\n",
      "100%|██████████████████████████████████████████████████████████| 39/39 [00:02<00:00, 13.27it/s]\n"
     ]
    },
    {
     "name": "stdout",
     "output_type": "stream",
     "text": [
      "Epoch: 370 | Training Loss: 0.07608693216282587  | Validation Loss: 1.219971403097495  | Accuracy: 69.84\n"
     ]
    },
    {
     "name": "stderr",
     "output_type": "stream",
     "text": [
      "390it [01:28,  4.42it/s]\n",
      "100%|██████████████████████████████████████████████████████████| 39/39 [00:02<00:00, 13.01it/s]\n"
     ]
    },
    {
     "name": "stdout",
     "output_type": "stream",
     "text": [
      "Epoch: 371 | Training Loss: 0.07447478673779047  | Validation Loss: 1.3124703871898162  | Accuracy: 68.80\n"
     ]
    },
    {
     "name": "stderr",
     "output_type": "stream",
     "text": [
      "390it [01:28,  4.43it/s]\n",
      "100%|██████████████████████████████████████████████████████████| 39/39 [00:02<00:00, 13.25it/s]\n"
     ]
    },
    {
     "name": "stdout",
     "output_type": "stream",
     "text": [
      "Epoch: 372 | Training Loss: 0.07476829123229553  | Validation Loss: 1.278571183864887  | Accuracy: 70.07\n"
     ]
    },
    {
     "name": "stderr",
     "output_type": "stream",
     "text": [
      "390it [01:28,  4.41it/s]\n",
      "100%|██████████████████████████████████████████████████████████| 39/39 [00:02<00:00, 13.29it/s]\n"
     ]
    },
    {
     "name": "stdout",
     "output_type": "stream",
     "text": [
      "Epoch: 373 | Training Loss: 0.07597232187787692  | Validation Loss: 1.1957610020270715  | Accuracy: 69.47\n"
     ]
    },
    {
     "name": "stderr",
     "output_type": "stream",
     "text": [
      "390it [01:28,  4.42it/s]\n",
      "100%|██████████████████████████████████████████████████████████| 39/39 [00:02<00:00, 13.27it/s]\n"
     ]
    },
    {
     "name": "stdout",
     "output_type": "stream",
     "text": [
      "Epoch: 374 | Training Loss: 0.07524040848589861  | Validation Loss: 1.2799742374664698  | Accuracy: 70.27\n"
     ]
    },
    {
     "name": "stderr",
     "output_type": "stream",
     "text": [
      "390it [01:28,  4.42it/s]\n",
      "100%|██████████████████████████████████████████████████████████| 39/39 [00:02<00:00, 13.24it/s]\n"
     ]
    },
    {
     "name": "stdout",
     "output_type": "stream",
     "text": [
      "Epoch: 375 | Training Loss: 0.07425143208641272  | Validation Loss: 1.3176673589608607  | Accuracy: 68.29\n"
     ]
    },
    {
     "name": "stderr",
     "output_type": "stream",
     "text": [
      "390it [01:28,  4.41it/s]\n",
      "100%|██████████████████████████████████████████████████████████| 39/39 [00:02<00:00, 13.29it/s]\n"
     ]
    },
    {
     "name": "stdout",
     "output_type": "stream",
     "text": [
      "Epoch: 376 | Training Loss: 0.07596640827564093  | Validation Loss: 1.101898315625313  | Accuracy: 71.85\n"
     ]
    },
    {
     "name": "stderr",
     "output_type": "stream",
     "text": [
      "390it [01:28,  4.41it/s]\n",
      "100%|██████████████████████████████████████████████████████████| 39/39 [00:02<00:00, 13.29it/s]\n"
     ]
    },
    {
     "name": "stdout",
     "output_type": "stream",
     "text": [
      "Epoch: 377 | Training Loss: 0.07455761639926678  | Validation Loss: 1.2229014054322853  | Accuracy: 69.64\n"
     ]
    },
    {
     "name": "stderr",
     "output_type": "stream",
     "text": [
      "390it [01:28,  4.42it/s]\n",
      "100%|██████████████████████████████████████████████████████████| 39/39 [00:02<00:00, 13.27it/s]\n"
     ]
    },
    {
     "name": "stdout",
     "output_type": "stream",
     "text": [
      "Epoch: 378 | Training Loss: 0.07641914286292516  | Validation Loss: 1.2534788357905853  | Accuracy: 69.49\n"
     ]
    },
    {
     "name": "stderr",
     "output_type": "stream",
     "text": [
      "390it [01:28,  4.41it/s]\n",
      "100%|██████████████████████████████████████████████████████████| 39/39 [00:02<00:00, 13.26it/s]\n"
     ]
    },
    {
     "name": "stdout",
     "output_type": "stream",
     "text": [
      "Epoch: 379 | Training Loss: 0.07652400903021678  | Validation Loss: 1.2991150189668705  | Accuracy: 68.45\n"
     ]
    },
    {
     "name": "stderr",
     "output_type": "stream",
     "text": [
      "390it [01:28,  4.41it/s]\n",
      "100%|██████████████████████████████████████████████████████████| 39/39 [00:02<00:00, 13.03it/s]\n"
     ]
    },
    {
     "name": "stdout",
     "output_type": "stream",
     "text": [
      "Epoch: 380 | Training Loss: 0.07291713912899678  | Validation Loss: 1.2382199061222565  | Accuracy: 69.55\n"
     ]
    },
    {
     "name": "stderr",
     "output_type": "stream",
     "text": [
      "390it [01:28,  4.41it/s]\n",
      "100%|██████████████████████████████████████████████████████████| 39/39 [00:02<00:00, 13.29it/s]\n"
     ]
    },
    {
     "name": "stdout",
     "output_type": "stream",
     "text": [
      "Epoch: 381 | Training Loss: 0.07543403028677671  | Validation Loss: 1.1902762651443481  | Accuracy: 70.06\n"
     ]
    },
    {
     "name": "stderr",
     "output_type": "stream",
     "text": [
      "390it [01:28,  4.41it/s]\n",
      "100%|██████████████████████████████████████████████████████████| 39/39 [00:02<00:00, 13.27it/s]\n"
     ]
    },
    {
     "name": "stdout",
     "output_type": "stream",
     "text": [
      "Epoch: 382 | Training Loss: 0.07486669326630922  | Validation Loss: 1.1298241783411076  | Accuracy: 70.35\n"
     ]
    },
    {
     "name": "stderr",
     "output_type": "stream",
     "text": [
      "390it [01:28,  4.43it/s]\n",
      "100%|██████████████████████████████████████████████████████████| 39/39 [00:02<00:00, 13.29it/s]\n"
     ]
    },
    {
     "name": "stdout",
     "output_type": "stream",
     "text": [
      "Epoch: 383 | Training Loss: 0.07293024720289769  | Validation Loss: 1.124631337630443  | Accuracy: 71.44\n"
     ]
    },
    {
     "name": "stderr",
     "output_type": "stream",
     "text": [
      "390it [01:28,  4.42it/s]\n",
      "100%|██████████████████████████████████████████████████████████| 39/39 [00:02<00:00, 13.01it/s]\n"
     ]
    },
    {
     "name": "stdout",
     "output_type": "stream",
     "text": [
      "Epoch: 384 | Training Loss: 0.077680818306712  | Validation Loss: 1.0268551921233153  | Accuracy: 72.97\n"
     ]
    },
    {
     "name": "stderr",
     "output_type": "stream",
     "text": [
      "390it [01:28,  4.42it/s]\n",
      "100%|██████████████████████████████████████████████████████████| 39/39 [00:02<00:00, 13.26it/s]\n"
     ]
    },
    {
     "name": "stdout",
     "output_type": "stream",
     "text": [
      "Epoch: 385 | Training Loss: 0.07247978483255092  | Validation Loss: 1.2283387367541974  | Accuracy: 69.86\n"
     ]
    },
    {
     "name": "stderr",
     "output_type": "stream",
     "text": [
      "390it [01:28,  4.41it/s]\n",
      "100%|██████████████████████████████████████████████████████████| 39/39 [00:02<00:00, 13.28it/s]\n"
     ]
    },
    {
     "name": "stdout",
     "output_type": "stream",
     "text": [
      "Epoch: 386 | Training Loss: 0.0745547085809402  | Validation Loss: 1.2690995442561614  | Accuracy: 69.00\n"
     ]
    },
    {
     "name": "stderr",
     "output_type": "stream",
     "text": [
      "390it [01:28,  4.41it/s]\n",
      "100%|██████████████████████████████████████████████████████████| 39/39 [00:02<00:00, 13.19it/s]\n"
     ]
    },
    {
     "name": "stdout",
     "output_type": "stream",
     "text": [
      "Epoch: 387 | Training Loss: 0.07570266489608166  | Validation Loss: 1.301274767288795  | Accuracy: 68.20\n"
     ]
    },
    {
     "name": "stderr",
     "output_type": "stream",
     "text": [
      "390it [01:28,  4.43it/s]\n",
      "100%|██████████████████████████████████████████████████████████| 39/39 [00:02<00:00, 13.06it/s]\n"
     ]
    },
    {
     "name": "stdout",
     "output_type": "stream",
     "text": [
      "Epoch: 388 | Training Loss: 0.0757858897630985  | Validation Loss: 1.170739186115754  | Accuracy: 70.37\n"
     ]
    },
    {
     "name": "stderr",
     "output_type": "stream",
     "text": [
      "390it [01:28,  4.43it/s]\n",
      "100%|██████████████████████████████████████████████████████████| 39/39 [00:02<00:00, 13.28it/s]\n"
     ]
    },
    {
     "name": "stdout",
     "output_type": "stream",
     "text": [
      "Epoch: 389 | Training Loss: 0.07374719999348506  | Validation Loss: 1.1225010477579558  | Accuracy: 71.85\n"
     ]
    },
    {
     "name": "stderr",
     "output_type": "stream",
     "text": [
      "390it [01:28,  4.42it/s]\n",
      "100%|██████████████████████████████████████████████████████████| 39/39 [00:02<00:00, 13.22it/s]\n"
     ]
    },
    {
     "name": "stdout",
     "output_type": "stream",
     "text": [
      "Epoch: 390 | Training Loss: 0.07433039780992728  | Validation Loss: 0.9651427742762443  | Accuracy: 72.73\n"
     ]
    },
    {
     "name": "stderr",
     "output_type": "stream",
     "text": [
      "390it [01:28,  4.41it/s]\n",
      "100%|██████████████████████████████████████████████████████████| 39/39 [00:02<00:00, 13.30it/s]\n"
     ]
    },
    {
     "name": "stdout",
     "output_type": "stream",
     "text": [
      "Epoch: 391 | Training Loss: 0.0765822583475174  | Validation Loss: 1.124210923145979  | Accuracy: 70.96\n"
     ]
    },
    {
     "name": "stderr",
     "output_type": "stream",
     "text": [
      "390it [01:28,  4.42it/s]\n",
      "100%|██████████████████████████████████████████████████████████| 39/39 [00:02<00:00, 13.00it/s]\n"
     ]
    },
    {
     "name": "stdout",
     "output_type": "stream",
     "text": [
      "Epoch: 392 | Training Loss: 0.07414818876064741  | Validation Loss: 1.1160999964445064  | Accuracy: 71.01\n"
     ]
    },
    {
     "name": "stderr",
     "output_type": "stream",
     "text": [
      "390it [01:28,  4.42it/s]\n",
      "100%|██████████████████████████████████████████████████████████| 39/39 [00:02<00:00, 13.23it/s]\n"
     ]
    },
    {
     "name": "stdout",
     "output_type": "stream",
     "text": [
      "Epoch: 393 | Training Loss: 0.07342100714643797  | Validation Loss: 1.270379894819015  | Accuracy: 69.73\n"
     ]
    },
    {
     "name": "stderr",
     "output_type": "stream",
     "text": [
      "390it [01:28,  4.41it/s]\n",
      "100%|██████████████████████████████████████████████████████████| 39/39 [00:02<00:00, 13.26it/s]\n"
     ]
    },
    {
     "name": "stdout",
     "output_type": "stream",
     "text": [
      "Epoch: 394 | Training Loss: 0.07568929960521367  | Validation Loss: 1.1207169936253474  | Accuracy: 71.12\n"
     ]
    },
    {
     "name": "stderr",
     "output_type": "stream",
     "text": [
      "390it [01:28,  4.43it/s]\n",
      "100%|██████████████████████████████████████████████████████████| 39/39 [00:02<00:00, 13.26it/s]\n"
     ]
    },
    {
     "name": "stdout",
     "output_type": "stream",
     "text": [
      "Epoch: 395 | Training Loss: 0.07644409952828517  | Validation Loss: 1.3649623516278389  | Accuracy: 68.13\n"
     ]
    },
    {
     "name": "stderr",
     "output_type": "stream",
     "text": [
      "390it [01:28,  4.41it/s]\n",
      "100%|██████████████████████████████████████████████████████████| 39/39 [00:02<00:00, 13.25it/s]\n"
     ]
    },
    {
     "name": "stdout",
     "output_type": "stream",
     "text": [
      "Epoch: 396 | Training Loss: 0.07622380931981099  | Validation Loss: 1.2894414235384037  | Accuracy: 68.45\n"
     ]
    },
    {
     "name": "stderr",
     "output_type": "stream",
     "text": [
      "390it [01:28,  4.42it/s]\n",
      "100%|██████████████████████████████████████████████████████████| 39/39 [00:02<00:00, 13.28it/s]\n"
     ]
    },
    {
     "name": "stdout",
     "output_type": "stream",
     "text": [
      "Epoch: 397 | Training Loss: 0.07448498310569004  | Validation Loss: 1.1943974189269237  | Accuracy: 69.75\n"
     ]
    },
    {
     "name": "stderr",
     "output_type": "stream",
     "text": [
      "390it [01:28,  4.42it/s]\n",
      "100%|██████████████████████████████████████████████████████████| 39/39 [00:02<00:00, 13.32it/s]\n"
     ]
    },
    {
     "name": "stdout",
     "output_type": "stream",
     "text": [
      "Epoch: 398 | Training Loss: 0.0751825574785471  | Validation Loss: 1.3015043949469542  | Accuracy: 67.96\n"
     ]
    },
    {
     "name": "stderr",
     "output_type": "stream",
     "text": [
      "390it [01:28,  4.40it/s]\n",
      "100%|██████████████████████████████████████████████████████████| 39/39 [00:02<00:00, 13.26it/s]\n"
     ]
    },
    {
     "name": "stdout",
     "output_type": "stream",
     "text": [
      "Epoch: 399 | Training Loss: 0.07448656081389159  | Validation Loss: 1.0844464913392677  | Accuracy: 71.93\n"
     ]
    },
    {
     "name": "stderr",
     "output_type": "stream",
     "text": [
      "390it [01:28,  4.41it/s]\n",
      "100%|██████████████████████████████████████████████████████████| 39/39 [00:02<00:00, 13.22it/s]\n"
     ]
    },
    {
     "name": "stdout",
     "output_type": "stream",
     "text": [
      "Epoch: 400 | Training Loss: 0.07562506774870249  | Validation Loss: 1.204139354901436  | Accuracy: 70.02\n"
     ]
    },
    {
     "name": "stderr",
     "output_type": "stream",
     "text": [
      "390it [01:28,  4.43it/s]\n",
      "100%|██████████████████████████████████████████████████████████| 39/39 [00:02<00:00, 13.24it/s]\n"
     ]
    },
    {
     "name": "stdout",
     "output_type": "stream",
     "text": [
      "Epoch: 401 | Training Loss: 0.07373006062534375  | Validation Loss: 1.2172444600325365  | Accuracy: 70.51\n"
     ]
    },
    {
     "name": "stderr",
     "output_type": "stream",
     "text": [
      "390it [01:28,  4.41it/s]\n",
      "100%|██████████████████████████████████████████████████████████| 39/39 [00:02<00:00, 13.28it/s]\n"
     ]
    },
    {
     "name": "stdout",
     "output_type": "stream",
     "text": [
      "Epoch: 402 | Training Loss: 0.07451805787113233  | Validation Loss: 1.1589212937232776  | Accuracy: 70.33\n"
     ]
    },
    {
     "name": "stderr",
     "output_type": "stream",
     "text": [
      "390it [01:28,  4.41it/s]\n",
      "100%|██████████████████████████████████████████████████████████| 39/39 [00:02<00:00, 13.31it/s]\n"
     ]
    },
    {
     "name": "stdout",
     "output_type": "stream",
     "text": [
      "Epoch: 403 | Training Loss: 0.07238188084119405  | Validation Loss: 1.2751682568819096  | Accuracy: 69.81\n"
     ]
    },
    {
     "name": "stderr",
     "output_type": "stream",
     "text": [
      "390it [01:28,  4.41it/s]\n",
      "100%|██████████████████████████████████████████████████████████| 39/39 [00:03<00:00, 12.98it/s]\n"
     ]
    },
    {
     "name": "stdout",
     "output_type": "stream",
     "text": [
      "Epoch: 404 | Training Loss: 0.0750509798574524  | Validation Loss: 1.144709973763197  | Accuracy: 70.78\n"
     ]
    },
    {
     "name": "stderr",
     "output_type": "stream",
     "text": [
      "390it [01:28,  4.42it/s]\n",
      "100%|██████████████████████████████████████████████████████████| 39/39 [00:02<00:00, 13.30it/s]\n"
     ]
    },
    {
     "name": "stdout",
     "output_type": "stream",
     "text": [
      "Epoch: 405 | Training Loss: 0.07465829415581166  | Validation Loss: 1.1895000720635438  | Accuracy: 70.66\n"
     ]
    },
    {
     "name": "stderr",
     "output_type": "stream",
     "text": [
      "390it [01:28,  4.42it/s]\n",
      "100%|██████████████████████████████████████████████████████████| 39/39 [00:02<00:00, 13.28it/s]\n"
     ]
    },
    {
     "name": "stdout",
     "output_type": "stream",
     "text": [
      "Epoch: 406 | Training Loss: 0.07493611253224887  | Validation Loss: 1.3307126699349818  | Accuracy: 68.04\n"
     ]
    },
    {
     "name": "stderr",
     "output_type": "stream",
     "text": [
      "390it [01:28,  4.41it/s]\n",
      "100%|██████████████████████████████████████████████████████████| 39/39 [00:02<00:00, 13.25it/s]\n"
     ]
    },
    {
     "name": "stdout",
     "output_type": "stream",
     "text": [
      "Epoch: 407 | Training Loss: 0.07396428387325543  | Validation Loss: 1.3076806312952287  | Accuracy: 70.13\n"
     ]
    },
    {
     "name": "stderr",
     "output_type": "stream",
     "text": [
      "390it [01:28,  4.41it/s]\n",
      "100%|██████████████████████████████████████████████████████████| 39/39 [00:02<00:00, 13.01it/s]\n"
     ]
    },
    {
     "name": "stdout",
     "output_type": "stream",
     "text": [
      "Epoch: 408 | Training Loss: 0.07352335867591393  | Validation Loss: 1.2802966099518995  | Accuracy: 68.72\n"
     ]
    },
    {
     "name": "stderr",
     "output_type": "stream",
     "text": [
      "390it [01:28,  4.41it/s]\n",
      "100%|██████████████████████████████████████████████████████████| 39/39 [00:02<00:00, 13.30it/s]\n"
     ]
    },
    {
     "name": "stdout",
     "output_type": "stream",
     "text": [
      "Epoch: 409 | Training Loss: 0.07405416960708606  | Validation Loss: 1.2402825783460567  | Accuracy: 69.47\n"
     ]
    },
    {
     "name": "stderr",
     "output_type": "stream",
     "text": [
      "390it [01:28,  4.41it/s]\n",
      "100%|██████████████████████████████████████████████████████████| 39/39 [00:02<00:00, 13.27it/s]\n"
     ]
    },
    {
     "name": "stdout",
     "output_type": "stream",
     "text": [
      "Epoch: 410 | Training Loss: 0.07473606236087971  | Validation Loss: 1.3227926951188307  | Accuracy: 68.56\n"
     ]
    },
    {
     "name": "stderr",
     "output_type": "stream",
     "text": [
      "390it [01:28,  4.41it/s]\n",
      "100%|██████████████████████████████████████████████████████████| 39/39 [00:02<00:00, 13.26it/s]\n"
     ]
    },
    {
     "name": "stdout",
     "output_type": "stream",
     "text": [
      "Epoch: 411 | Training Loss: 0.071873126589717  | Validation Loss: 1.4367474286984174  | Accuracy: 67.19\n"
     ]
    },
    {
     "name": "stderr",
     "output_type": "stream",
     "text": [
      "390it [01:28,  4.42it/s]\n",
      "100%|██████████████████████████████████████████████████████████| 39/39 [00:03<00:00, 12.93it/s]\n"
     ]
    },
    {
     "name": "stdout",
     "output_type": "stream",
     "text": [
      "Epoch: 412 | Training Loss: 0.07410522677386418  | Validation Loss: 1.3417815336814294  | Accuracy: 68.64\n"
     ]
    },
    {
     "name": "stderr",
     "output_type": "stream",
     "text": [
      "390it [01:28,  4.41it/s]\n",
      "100%|██████████████████████████████████████████████████████████| 39/39 [00:02<00:00, 13.22it/s]\n"
     ]
    },
    {
     "name": "stdout",
     "output_type": "stream",
     "text": [
      "Epoch: 413 | Training Loss: 0.07414661522668142  | Validation Loss: 1.0707652049186902  | Accuracy: 72.24\n"
     ]
    },
    {
     "name": "stderr",
     "output_type": "stream",
     "text": [
      "390it [01:28,  4.42it/s]\n",
      "100%|██████████████████████████████████████████████████████████| 39/39 [00:02<00:00, 13.28it/s]\n"
     ]
    },
    {
     "name": "stdout",
     "output_type": "stream",
     "text": [
      "Epoch: 414 | Training Loss: 0.07328835955988137  | Validation Loss: 1.2625954487384894  | Accuracy: 70.34\n"
     ]
    },
    {
     "name": "stderr",
     "output_type": "stream",
     "text": [
      "390it [01:28,  4.41it/s]\n",
      "100%|██████████████████████████████████████████████████████████| 39/39 [00:02<00:00, 13.27it/s]\n"
     ]
    },
    {
     "name": "stdout",
     "output_type": "stream",
     "text": [
      "Epoch: 415 | Training Loss: 0.07601448336663919  | Validation Loss: 1.2241950860390296  | Accuracy: 69.75\n"
     ]
    },
    {
     "name": "stderr",
     "output_type": "stream",
     "text": [
      "390it [01:28,  4.42it/s]\n",
      "100%|██████████████████████████████████████████████████████████| 39/39 [00:02<00:00, 13.34it/s]\n"
     ]
    },
    {
     "name": "stdout",
     "output_type": "stream",
     "text": [
      "Epoch: 416 | Training Loss: 0.07289182322625166  | Validation Loss: 1.1646249019182646  | Accuracy: 70.87\n"
     ]
    },
    {
     "name": "stderr",
     "output_type": "stream",
     "text": [
      "390it [01:28,  4.42it/s]\n",
      "100%|██████████████████████████████████████████████████████████| 39/39 [00:02<00:00, 13.32it/s]\n"
     ]
    },
    {
     "name": "stdout",
     "output_type": "stream",
     "text": [
      "Epoch: 417 | Training Loss: 0.07380262517776244  | Validation Loss: 1.098686016522921  | Accuracy: 71.32\n"
     ]
    },
    {
     "name": "stderr",
     "output_type": "stream",
     "text": [
      "390it [01:28,  4.41it/s]\n",
      "100%|██████████████████████████████████████████████████████████| 39/39 [00:02<00:00, 13.26it/s]\n"
     ]
    },
    {
     "name": "stdout",
     "output_type": "stream",
     "text": [
      "Epoch: 418 | Training Loss: 0.0733539375070578  | Validation Loss: 1.2880445260267992  | Accuracy: 69.14\n"
     ]
    },
    {
     "name": "stderr",
     "output_type": "stream",
     "text": [
      "390it [01:28,  4.41it/s]\n",
      "100%|██████████████████████████████████████████████████████████| 39/39 [00:02<00:00, 13.26it/s]\n"
     ]
    },
    {
     "name": "stdout",
     "output_type": "stream",
     "text": [
      "Epoch: 419 | Training Loss: 0.07166558463986103  | Validation Loss: 1.2230812891935692  | Accuracy: 70.25\n"
     ]
    },
    {
     "name": "stderr",
     "output_type": "stream",
     "text": [
      "390it [01:28,  4.41it/s]\n",
      "100%|██████████████████████████████████████████████████████████| 39/39 [00:02<00:00, 13.28it/s]\n"
     ]
    },
    {
     "name": "stdout",
     "output_type": "stream",
     "text": [
      "Epoch: 420 | Training Loss: 0.07462675741467721  | Validation Loss: 1.0936385607108092  | Accuracy: 71.86\n"
     ]
    },
    {
     "name": "stderr",
     "output_type": "stream",
     "text": [
      "390it [01:28,  4.41it/s]\n",
      "100%|██████████████████████████████████████████████████████████| 39/39 [00:02<00:00, 13.29it/s]\n"
     ]
    },
    {
     "name": "stdout",
     "output_type": "stream",
     "text": [
      "Epoch: 421 | Training Loss: 0.07708025624354681  | Validation Loss: 1.2839982203948193  | Accuracy: 69.40\n"
     ]
    },
    {
     "name": "stderr",
     "output_type": "stream",
     "text": [
      "390it [01:28,  4.41it/s]\n",
      "100%|██████████████████████████████████████████████████████████| 39/39 [00:02<00:00, 13.28it/s]\n"
     ]
    },
    {
     "name": "stdout",
     "output_type": "stream",
     "text": [
      "Epoch: 422 | Training Loss: 0.0731145641933649  | Validation Loss: 1.1825915666726918  | Accuracy: 71.00\n"
     ]
    },
    {
     "name": "stderr",
     "output_type": "stream",
     "text": [
      "390it [01:28,  4.40it/s]\n",
      "100%|██████████████████████████████████████████████████████████| 39/39 [00:02<00:00, 13.10it/s]\n"
     ]
    },
    {
     "name": "stdout",
     "output_type": "stream",
     "text": [
      "Epoch: 423 | Training Loss: 0.07632033578478373  | Validation Loss: 1.239528136375623  | Accuracy: 69.87\n"
     ]
    },
    {
     "name": "stderr",
     "output_type": "stream",
     "text": [
      "390it [01:28,  4.41it/s]\n",
      "100%|██████████████████████████████████████████████████████████| 39/39 [00:02<00:00, 13.29it/s]\n"
     ]
    },
    {
     "name": "stdout",
     "output_type": "stream",
     "text": [
      "Epoch: 424 | Training Loss: 0.07304905839264393  | Validation Loss: 1.1851761127129579  | Accuracy: 70.34\n"
     ]
    },
    {
     "name": "stderr",
     "output_type": "stream",
     "text": [
      "390it [01:28,  4.42it/s]\n",
      "100%|██████████████████████████████████████████████████████████| 39/39 [00:02<00:00, 13.24it/s]\n"
     ]
    },
    {
     "name": "stdout",
     "output_type": "stream",
     "text": [
      "Epoch: 425 | Training Loss: 0.07172832081142144  | Validation Loss: 1.0763840675354004  | Accuracy: 72.63\n"
     ]
    },
    {
     "name": "stderr",
     "output_type": "stream",
     "text": [
      "390it [01:28,  4.42it/s]\n",
      "100%|██████████████████████████████████████████████████████████| 39/39 [00:02<00:00, 13.30it/s]\n"
     ]
    },
    {
     "name": "stdout",
     "output_type": "stream",
     "text": [
      "Epoch: 426 | Training Loss: 0.07410221555485175  | Validation Loss: 1.2969341706006954  | Accuracy: 69.08\n"
     ]
    },
    {
     "name": "stderr",
     "output_type": "stream",
     "text": [
      "390it [01:28,  4.43it/s]\n",
      "100%|██████████████████████████████████████████████████████████| 39/39 [00:02<00:00, 13.16it/s]\n"
     ]
    },
    {
     "name": "stdout",
     "output_type": "stream",
     "text": [
      "Epoch: 427 | Training Loss: 0.07025037236893789  | Validation Loss: 1.2123269178928473  | Accuracy: 70.01\n"
     ]
    },
    {
     "name": "stderr",
     "output_type": "stream",
     "text": [
      "390it [01:28,  4.42it/s]\n",
      "100%|██████████████████████████████████████████████████████████| 39/39 [00:02<00:00, 13.26it/s]\n"
     ]
    },
    {
     "name": "stdout",
     "output_type": "stream",
     "text": [
      "Epoch: 428 | Training Loss: 0.07326866483841186  | Validation Loss: 1.2155408095090816  | Accuracy: 69.96\n"
     ]
    },
    {
     "name": "stderr",
     "output_type": "stream",
     "text": [
      "125it [00:28,  4.41it/s]\u001b[34m\u001b[1mwandb\u001b[0m: Ctrl + C detected. Stopping sweep.\n"
     ]
    }
   ],
   "source": [
    "wandb.agent(sweep_id, model_pipeline, count=400)"
   ]
  },
  {
   "cell_type": "markdown",
   "id": "e6f6413e",
   "metadata": {},
   "source": [
    "### 7. Testing model"
   ]
  },
  {
   "cell_type": "code",
   "execution_count": null,
   "id": "effe6561",
   "metadata": {},
   "outputs": [],
   "source": [
    "model = bert"
   ]
  }
 ],
 "metadata": {
  "kernelspec": {
   "display_name": "Python 3 (ipykernel)",
   "language": "python",
   "name": "python3"
  },
  "language_info": {
   "codemirror_mode": {
    "name": "ipython",
    "version": 3
   },
   "file_extension": ".py",
   "mimetype": "text/x-python",
   "name": "python",
   "nbconvert_exporter": "python",
   "pygments_lexer": "ipython3",
   "version": "3.9.12"
  }
 },
 "nbformat": 4,
 "nbformat_minor": 5
}

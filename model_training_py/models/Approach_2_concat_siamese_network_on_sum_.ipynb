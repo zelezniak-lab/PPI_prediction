{
 "cells": [
  {
   "cell_type": "markdown",
   "id": "ee9e6e12",
   "metadata": {},
   "source": [
    "### 1. Importing important libraries"
   ]
  },
  {
   "cell_type": "code",
   "execution_count": 1,
   "id": "f87afc0c",
   "metadata": {},
   "outputs": [
    {
     "name": "stderr",
     "output_type": "stream",
     "text": [
      "Failed to detect the name of this notebook, you can set it manually with the WANDB_NOTEBOOK_NAME environment variable to enable code saving.\n",
      "\u001b[34m\u001b[1mwandb\u001b[0m: Currently logged in as: \u001b[33mdanish2562022\u001b[0m. Use \u001b[1m`wandb login --relogin`\u001b[0m to force relogin\n"
     ]
    },
    {
     "data": {
      "text/plain": [
       "True"
      ]
     },
     "execution_count": 1,
     "metadata": {},
     "output_type": "execute_result"
    }
   ],
   "source": [
    "from tqdm import tqdm\n",
    "import numpy as np\n",
    "import pandas as pd\n",
    "import matplotlib.pyplot as plt\n",
    "import torch\n",
    "import timeit\n",
    "\n",
    "import os\n",
    "import pickle\n",
    "import torch.nn as nn\n",
    "import torch.optim as optim\n",
    "from torch.utils.data import Dataset, DataLoader\n",
    "from sklearn.metrics import  confusion_matrix, ConfusionMatrixDisplay\n",
    "from sklearn.metrics import plot_confusion_matrix\n",
    "from matplotlib.pyplot import figure\n",
    "import wandb\n",
    "\n",
    "wandb.login()"
   ]
  },
  {
   "cell_type": "markdown",
   "id": "d13201b4",
   "metadata": {},
   "source": [
    "### 2. Basic EDA"
   ]
  },
  {
   "cell_type": "code",
   "execution_count": 5,
   "id": "b86c4140",
   "metadata": {},
   "outputs": [],
   "source": [
    "train = pd.read_csv(\"../../csv_files_new_ppi/training_and_test_set/train_set_without_embedding.csv\")\n",
    "test =  pd.read_csv(\"../../csv_files_new_ppi/training_and_test_set/test_set_without_embedding.csv\")"
   ]
  },
  {
   "cell_type": "code",
   "execution_count": 6,
   "id": "100b971e",
   "metadata": {},
   "outputs": [
    {
     "data": {
      "text/plain": [
       "1    21347\n",
       "0    21347\n",
       "Name: label, dtype: int64"
      ]
     },
     "execution_count": 6,
     "metadata": {},
     "output_type": "execute_result"
    }
   ],
   "source": [
    "train_pos = train[train.label == 1][0:100000]\n",
    "train_neg = train[train.label == 0][0:100000]\n",
    "train = pd.concat([train_pos,train_neg])\n",
    "\n",
    "test_pos = test[test.label == 1]\n",
    "test_neg = test[test.label ==0][0:len(test_pos)]\n",
    "test = pd.concat([test_pos,test_neg])\n",
    "test.label.value_counts()"
   ]
  },
  {
   "cell_type": "code",
   "execution_count": 7,
   "id": "a875593d",
   "metadata": {},
   "outputs": [],
   "source": [
    "val_pos =  test[test.label == 1][0:10000]\n",
    "val_neg =  test[test.label == 0][0:10000]\n",
    "val = pd.concat([val_pos,val_neg])\n",
    "\n",
    "test_pos =  test[test.label == 1][10000:]\n",
    "test_neg =  test[test.label == 0][10000:]\n",
    "test = pd.concat([test_pos,test_neg])"
   ]
  },
  {
   "cell_type": "code",
   "execution_count": 8,
   "id": "54417de4",
   "metadata": {},
   "outputs": [
    {
     "name": "stdout",
     "output_type": "stream",
     "text": [
      "Size of Train dataset:  200000\n",
      "Size of Test dataset:  22694\n",
      "Size of val dataset:  20000\n"
     ]
    }
   ],
   "source": [
    "print(\"Size of Train dataset: \", len(train))\n",
    "print(\"Size of Test dataset: \", len(test))\n",
    "print(\"Size of val dataset: \", len(val))"
   ]
  },
  {
   "cell_type": "code",
   "execution_count": 9,
   "id": "76efd1ad",
   "metadata": {},
   "outputs": [
    {
     "name": "stdout",
     "output_type": "stream",
     "text": [
      "Number of negative points in training set: 100000\n",
      "Number of positive points in training set: 100000\n",
      "------------------------------------------------------------------------------------------------------------------------------------------------------------------------------------------------------------------------------------\n",
      "Number of negative points in test set: 11347\n",
      "Number of positive points in test set: 11347\n",
      "------------------------------------------------------------------------------------------------------------------------------------------------------------------------------------------------------------------------------------\n",
      "Number of negative points in test set: 10000\n",
      "Number of positive points in test set: 10000\n"
     ]
    }
   ],
   "source": [
    "print(f\"Number of negative points in training set: {train.label.value_counts()[0]}\")\n",
    "print(f\"Number of positive points in training set: {train.label.value_counts()[1]}\")\n",
    "print(\"----\"*57)\n",
    "print(f\"Number of negative points in test set: {test.label.value_counts()[0]}\")\n",
    "print(f\"Number of positive points in test set: {test.label.value_counts()[1]}\")\n",
    "print(\"----\"*57)\n",
    "print(f\"Number of negative points in test set: {val.label.value_counts()[0]}\")\n",
    "print(f\"Number of positive points in test set: {val.label.value_counts()[1]}\")"
   ]
  },
  {
   "cell_type": "markdown",
   "id": "1dbb3682",
   "metadata": {},
   "source": [
    "### 3. Importing embedding vectors from pickle file"
   ]
  },
  {
   "cell_type": "code",
   "execution_count": 10,
   "id": "0de3e5d3",
   "metadata": {},
   "outputs": [],
   "source": [
    "with open(\"../../pickle/embedding_vectors_pickle/sum_of_amino_acid_vector.pickle\",'rb') as handle:\n",
    "    dc = pickle.load(handle)"
   ]
  },
  {
   "cell_type": "code",
   "execution_count": 11,
   "id": "de026ef2",
   "metadata": {},
   "outputs": [],
   "source": [
    "def return_embed(prot_name):\n",
    "    try:\n",
    "        return dc[prot_name]\n",
    "    except:\n",
    "        return np.nan\n",
    "train['embed_vec_protein_A'] = train[\"Protein_A\"].apply(return_embed)\n",
    "train['embed_vec_protein_B'] = train[\"Protein_B\"].apply(return_embed)\n",
    "\n",
    "test['embed_vec_protein_A'] = test[\"Protein_A\"].apply(return_embed)\n",
    "test['embed_vec_protein_B'] = test[\"Protein_B\"].apply(return_embed)\n",
    "\n",
    "val['embed_vec_protein_A'] = val[\"Protein_A\"].apply(return_embed)\n",
    "val['embed_vec_protein_B'] = val[\"Protein_B\"].apply(return_embed)\n",
    "\n",
    "\n",
    "train = train.dropna()\n",
    "test = test.dropna()\n",
    "val = val.dropna()"
   ]
  },
  {
   "cell_type": "code",
   "execution_count": 12,
   "id": "b64e9a6a",
   "metadata": {},
   "outputs": [
    {
     "name": "stderr",
     "output_type": "stream",
     "text": [
      "100%|████████████████████████████████████████████████| 200000/200000 [00:41<00:00, 4855.57it/s]\n",
      "100%|██████████████████████████████████████████████████| 22694/22694 [00:04<00:00, 4839.48it/s]\n",
      "100%|██████████████████████████████████████████████████| 20000/20000 [00:04<00:00, 4877.31it/s]\n"
     ]
    }
   ],
   "source": [
    "train_features_Protein_A = []\n",
    "train_features_Protein_B = []\n",
    "train_label = []\n",
    "test_features_Protein_A = []\n",
    "test_features_Protein_B = []\n",
    "test_label =[]\n",
    "val_features_Protein_A = []\n",
    "val_features_Protein_B = []\n",
    "val_label = []\n",
    "for i in tqdm(range(len(train))):\n",
    "    train_features_Protein_A.append(np.array(train.iloc[i].embed_vec_protein_A))\n",
    "    train_features_Protein_B.append(np.array(train.iloc[i].embed_vec_protein_B))\n",
    "    train_label.append(np.array(train.iloc[i].label))\n",
    "    \n",
    "for i in tqdm(range(len(test))):\n",
    "    test_features_Protein_A.append(np.array(test.iloc[i].embed_vec_protein_A))\n",
    "    test_features_Protein_B.append(np.array(test.iloc[i].embed_vec_protein_B))\n",
    "    test_label.append(np.array(test.iloc[i].label))  \n",
    "for i in tqdm(range(len(val))):\n",
    "    \n",
    "    \n",
    "    val_features_Protein_A.append(np.array(val.iloc[i].embed_vec_protein_A))\n",
    "    val_features_Protein_B.append(np.array(val.iloc[i].embed_vec_protein_B))\n",
    "    val_label.append(np.array(val.iloc[i].label))"
   ]
  },
  {
   "cell_type": "code",
   "execution_count": 13,
   "id": "8b1f23cc",
   "metadata": {},
   "outputs": [],
   "source": [
    "train_features_Protein_A = np.array(train_features_Protein_A)\n",
    "train_features_Protein_B = np.array(train_features_Protein_B)\n",
    "train_label = np.array(train_label)\n",
    "\n",
    "test_features_Protein_A = np.array(test_features_Protein_A)\n",
    "test_features_Protein_B = np.array(test_features_Protein_B)\n",
    "test_label = np.array(test_label)\n",
    "\n",
    "val_features_Protein_A = np.array(val_features_Protein_A)\n",
    "val_features_Protein_B = np.array(val_features_Protein_B)\n",
    "val_label = np.array(val_label)"
   ]
  },
  {
   "cell_type": "markdown",
   "id": "f6833262",
   "metadata": {},
   "source": [
    "### 4. Dataloader"
   ]
  },
  {
   "cell_type": "code",
   "execution_count": 18,
   "id": "5fcd522a",
   "metadata": {},
   "outputs": [],
   "source": [
    "class Data(Dataset):\n",
    "    \n",
    "    def __init__(self, X_data_A,X_data_B, y_data):\n",
    "        self.X_data_A = X_data_A\n",
    "        self.X_data_B = X_data_B\n",
    "        self.y_data = y_data\n",
    "        \n",
    "    def __getitem__(self, index):\n",
    "        return self.X_data_A[index],self.X_data_B[index], self.y_data[index]\n",
    "        \n",
    "    def __len__ (self):\n",
    "        return len(self.X_data_A)"
   ]
  },
  {
   "cell_type": "code",
   "execution_count": 19,
   "id": "cbf7455f",
   "metadata": {},
   "outputs": [],
   "source": [
    "train_data = Data(torch.FloatTensor(train_features_Protein_A), torch.FloatTensor(train_features_Protein_B),\n",
    "                       torch.FloatTensor(train_label))\n",
    "\n",
    "test_data = Data(torch.FloatTensor(test_features_Protein_A), torch.FloatTensor(test_features_Protein_B),\n",
    "                       torch.FloatTensor(test_label))\n",
    "\n",
    "val_data = Data(torch.FloatTensor(val_features_Protein_A), torch.FloatTensor(val_features_Protein_B),\n",
    "                       torch.FloatTensor(val_label))"
   ]
  },
  {
   "cell_type": "code",
   "execution_count": 20,
   "id": "c0f2589d",
   "metadata": {},
   "outputs": [],
   "source": [
    "\n",
    "train_loader = DataLoader(dataset=train_data, batch_size=512, shuffle=True,drop_last=True)\n",
    "test_loader = DataLoader(dataset=test_data, batch_size=512,shuffle=True,drop_last=True )\n",
    "val_loader = DataLoader(dataset=val_data, batch_size=512,shuffle=True,drop_last=True )"
   ]
  },
  {
   "cell_type": "code",
   "execution_count": 21,
   "id": "ced5e5c3",
   "metadata": {},
   "outputs": [
    {
     "name": "stdout",
     "output_type": "stream",
     "text": [
      "torch.Size([512, 1024])\n",
      "torch.Size([512, 1024])\n",
      "torch.Size([512])\n"
     ]
    }
   ],
   "source": [
    "for i,j,k in train_loader:\n",
    "    print(i.shape)\n",
    "    print(j.shape)\n",
    "    print(k.shape)\n",
    "    break\n",
    "    "
   ]
  },
  {
   "cell_type": "markdown",
   "id": "070aa937",
   "metadata": {},
   "source": [
    "### 5. Building Models"
   ]
  },
  {
   "cell_type": "code",
   "execution_count": 29,
   "id": "317ccc0f",
   "metadata": {},
   "outputs": [],
   "source": [
    "class BertClassifier(nn.Module):\n",
    "    \n",
    "    def __init__(self,config, embed_dim =1024):\n",
    "        super(BertClassifier,self).__init__()\n",
    "        self.relu = nn.ReLU()\n",
    "        self.config = config\n",
    "        self.conv1  = nn.Conv1d(in_channels = 1,out_channels = 33, kernel_size = 10, stride=1)\n",
    "        self.fc1 = nn.Linear(33495,config.dim_1)\n",
    "        self.fully_connected_layers_1 = nn.ModuleList([nn.Linear(config.dim_1*2,config.dim_1*2)\n",
    "                                                    for _ in range(config.layer_fc_1)])\n",
    "        \n",
    "        \n",
    "    \n",
    "        self.fc_2 = nn.Linear(config.dim_1*2,config.dim_2)\n",
    "        self.fully_connected_layers_2 = nn.ModuleList([nn.Linear(config.dim_2,config.dim_2)\n",
    "                                                    for _ in range(config.layer_fc_2)]) \n",
    "        self.bn2 = nn.BatchNorm1d(num_features=config.dim_2)\n",
    "        self.fc3 = nn.Linear(config.dim_2,config.dim_1)\n",
    "        \n",
    "        self.fc4 = nn.Linear(config.dim_1,256)\n",
    "        self.drop = nn.Dropout(p = 0.2)\n",
    "        self.fc5 = nn.Linear(256,128)\n",
    "        self.fc6 = nn.Linear(128,64)\n",
    "        self.fc7 = nn.Linear(64,32)\n",
    "        self.fc8 = nn.Linear(32,16)\n",
    "        self.fc9 = nn.Linear(16,8)\n",
    "        self.fc10 = nn.Linear(8,1)\n",
    "    \n",
    "    def forward(self, inputs_A,inputs_B):\n",
    "        \n",
    "        \n",
    "        inputs_A = inputs_A.reshape(512,1,1024)\n",
    "        output_conv_A = self.relu(self.conv1(inputs_A))\n",
    "        output_conv_A = output_conv_A.reshape(512,33495) \n",
    "        output_A = self.relu(self.fc1(output_conv_A))\n",
    "        \n",
    "        inputs_B = inputs_B.reshape(512,1,1024)\n",
    "        output_conv_B = self.relu(self.conv1(inputs_B))\n",
    "        output_conv_B = output_conv_B.reshape(512,33495) \n",
    "        output_B = self.relu(self.fc1(output_conv_B))\n",
    "        \n",
    "        \n",
    "        output = torch.cat((output_A, output_B),1)\n",
    "        for i in range(self.config.layer_fc_1):\n",
    "            output = self.relu(self.fully_connected_layers_1[i](output))\n",
    "        output = self.relu(self.fc_2(output))\n",
    "        for i in range(self.config.layer_fc_2):\n",
    "            output = self.relu(self.fully_connected_layers_2[i](output))\n",
    "            \n",
    "        output  = self.bn2(output)\n",
    "        output = self.relu(self.fc3(output))\n",
    "        if self.config.dropout:\n",
    "            output = self.drop(output)\n",
    "            \n",
    "        output = self.relu(self.fc4(output))\n",
    "        output = self.relu(self.fc5(output))\n",
    "        output = self.relu(self.fc6(output))\n",
    "        output = self.fc7(output)\n",
    "        output = self.fc8(output)\n",
    "        output = self.fc9(output)\n",
    "        output = self.fc10(output)\n",
    "\n",
    "        return output"
   ]
  },
  {
   "cell_type": "code",
   "execution_count": 30,
   "id": "ae8abe36",
   "metadata": {},
   "outputs": [],
   "source": [
    "def build_optimizer(network, optimizer,learning_rate, momentum, weight_decay, amsgrad):\n",
    "    \n",
    "    \n",
    "#     if optimizer == \"sgd\":\n",
    "#         optimizer_ = optim.SGD(network.parameters(),\n",
    "#                               lr = learning_rate, momentum = momentum, weight_decay = weight_decay,\n",
    "#                               )\n",
    "        \n",
    "        \n",
    "    if optimizer == \"adam\":\n",
    "        optimizer_ = optim.Adam(network.parameters(),\n",
    "                               lr = learning_rate, betas = (0.9,0.999), weight_decay = weight_decay,\n",
    "                               amsgrad = amsgrad)\n",
    "        \n",
    "#     elif optimizer == \"rms_prop\":\n",
    "#         optimizer_ = optim.RMSprop(network.parameters(),\n",
    "#                                lr = learning_rate, alpha = 0.99, momentum = momentum,\n",
    "#                                   weight_decay = weight_decay)\n",
    "                               \n",
    "        \n",
    "    return optimizer_"
   ]
  },
  {
   "cell_type": "code",
   "execution_count": 31,
   "id": "187891f7",
   "metadata": {},
   "outputs": [
    {
     "name": "stdout",
     "output_type": "stream",
     "text": [
      "{'amsgrad': False,\n",
      " 'dim_1': 2048,\n",
      " 'dim_2': 512,\n",
      " 'dropout': False,\n",
      " 'epochs': 500,\n",
      " 'layer_fc_1': 2,\n",
      " 'layer_fc_2': 2,\n",
      " 'learning_rate': 7e-05,\n",
      " 'momentum': 0.95,\n",
      " 'optimizer': 'adam',\n",
      " 'weight_decay': 0.01}\n"
     ]
    }
   ],
   "source": [
    "# sweep_config = {\n",
    "#     'method': 'random'\n",
    "    \n",
    "#     }\n",
    "# metric = {\n",
    "#     'name': 'val_accuracy',\n",
    "#     'goal': 'maximize'   \n",
    "#     }\n",
    "# early_terminate = {\"type\": \"hyperband\",\n",
    "#       \"min_iter\": 3 }\n",
    "\n",
    "# sweep_config['metric'] = metric \n",
    "# sweep_config['early_terminate'] = early_terminate \n",
    "\n",
    "# parameters_dict = {\n",
    "    \n",
    "#     'layer_fc_1': {\n",
    "#         'values': [2]\n",
    "#         },\n",
    "   \n",
    "#     'dim_1': {\n",
    "#           'values': [2048]\n",
    "#         },\n",
    "    \n",
    "#     'layer_fc_2': {\n",
    "#         'values': [2]\n",
    "#         },\n",
    "#     'dim_2': {\n",
    "#           'values': [512]\n",
    "#         },\n",
    "    \n",
    "    \n",
    "#     'dropout': {\n",
    "#           'values': [False]\n",
    "#         },\n",
    "   \n",
    "    \n",
    "    \n",
    "#     'optimizer': {\n",
    "#           'values': ['adam']   #\n",
    "#         }\n",
    "#     ,\n",
    "  \n",
    "    \n",
    "#     'learning_rate': {\n",
    "#             'values':[0.0001]\n",
    "#         },\n",
    "    \n",
    "    \n",
    "#     'momentum': {\n",
    "#           'values': [0.95]\n",
    "#         },\n",
    "    \n",
    "#     'weight_decay': {\n",
    "#             'values': [0.009827436437331628]\n",
    "#         },\n",
    "   \n",
    "        \n",
    "#     'amsgrad': {\n",
    "#           'values': [False]\n",
    "#         },\n",
    "    \n",
    "    \n",
    "#     }\n",
    "\n",
    "\n",
    "# sweep_config['parameters'] = parameters_dict\n",
    "# parameters_dict.update({\n",
    "#     'epochs': {\n",
    "#         'value': 10000}\n",
    "#     })\n",
    "\n",
    "\n",
    "config = dict(layer_fc_1 = 2,\n",
    "        dim_1 = 2048,\n",
    "        layer_fc_2 = 2,\n",
    "        dim_2 = 512,\n",
    "        dropout = False,\n",
    "        optimizer = 'adam',\n",
    "        learning_rate = 0.00007,\n",
    "        momentum = 0.95,\n",
    "        weight_decay = 0.01,\n",
    "        amsgrad = False,\n",
    "        epochs = 500)\n",
    "\n",
    "\n",
    "import pprint\n",
    "\n",
    "pprint.pprint(config)"
   ]
  },
  {
   "cell_type": "markdown",
   "id": "c5e114cc",
   "metadata": {},
   "source": [
    "### 6. Training"
   ]
  },
  {
   "cell_type": "code",
   "execution_count": 32,
   "id": "549fb3b6",
   "metadata": {},
   "outputs": [],
   "source": [
    "import random\n",
    "import time\n",
    "from tqdm import tqdm\n",
    "loss_fn = nn.BCEWithLogitsLoss()\n",
    "def train(config, train_dataloader,val_dataloader = None):\n",
    "    \n",
    "    best_accuracy = 0\n",
    "    device = torch.device(\"cuda\" if torch.cuda.is_available() else \"cpu\")\n",
    "    print(\"Start training...\\n\")\n",
    "    epochs = config.epochs\n",
    "    \n",
    "    model = BertClassifier(config).to(device)\n",
    "    loss_fn = nn.BCEWithLogitsLoss()\n",
    "    optimizer,learning_rate, momentum, weight_decay, amsgrad = config.optimizer,config.learning_rate, config.momentum, config.weight_decay, config.amsgrad\n",
    "    optimizer = build_optimizer(model,optimizer,learning_rate, momentum, weight_decay, amsgrad)\n",
    "    \n",
    "    \n",
    "    for epoch_i in range(1,epochs+1):\n",
    "        \n",
    "        total_loss = 0\n",
    "        model.train()\n",
    "        \n",
    "        for step,batch in tqdm(enumerate(train_dataloader)):\n",
    "            \n",
    "            inputs_A,inputs_B, b_labels = tuple(t.to(device) for t in batch)\n",
    "            b_labels = b_labels.reshape((1,512,1)).squeeze(0)\n",
    "            model.zero_grad()\n",
    "            logits = model(inputs_A,inputs_B)\n",
    "            loss = loss_fn(logits,b_labels.float()) \n",
    "            total_loss += loss.item()\n",
    "            loss.mean().backward()\n",
    "            optimizer.step()\n",
    "               \n",
    "        avg_train_loss = total_loss / len(train_dataloader)\n",
    "        \n",
    "    \n",
    "        if val_dataloader is not None:\n",
    "                \n",
    "                val_loss, val_accuracy = evaluate(model, val_dataloader)\n",
    "                if val_accuracy > best_accuracy:\n",
    "                    best_accuracy = val_accuracy\n",
    "                    torch.save({\n",
    "                        'epoch': epoch_i ,\n",
    "                        'model_state_dict': model.state_dict(),\n",
    "                        'optimizer_state_dict': optimizer.state_dict(),\n",
    "                        'loss': loss_fn,\n",
    "                        }, 'best_model_trained_fc_v2.pth')\n",
    "        \n",
    "        wandb.log({\n",
    "                    'epoch': epoch_i, \n",
    "                    \"train_loss\": avg_train_loss,\n",
    "                    \"val_loss\": val_loss,\n",
    "                    \"val_accuracy\": val_accuracy\n",
    "                   })\n",
    "        print(f\"Epoch: {epoch_i} | Training Loss: {avg_train_loss}  | Validation Loss: {val_loss}  | Accuracy: {val_accuracy:.2f}\")\n",
    "        with open('result.txt', 'a') as f:\n",
    "            print(f\"Epoch: {epoch_i} | Training Loss: {avg_train_loss}  | Validation Loss: {val_loss}  | Accuracy: {val_accuracy:.2f}\", file=f) \n",
    "    print(\"\\n\")\n",
    "    wandb.log({\"val_accuracy\": best_accuracy,\n",
    "                   })\n",
    "    print(f\"Training complete! Best accuracy: {best_accuracy:.2f}%.\")\n",
    "    \n",
    "\n",
    "def evaluate(model,val_dataloader):\n",
    "    \n",
    "    \n",
    "    model.eval()\n",
    "    val_accuracy = []\n",
    "    val_loss = []\n",
    "    for batch in tqdm(val_dataloader):\n",
    "        device = torch.device(\"cuda\" if torch.cuda.is_available() else \"cpu\")\n",
    "        inputs_A,inputs_B ,b_labels = tuple(t.to(device) for t in batch)\n",
    "        b_labels = b_labels.reshape((1,512,1)).squeeze(0)\n",
    "        with torch.no_grad():\n",
    "                logits = model(inputs_A,inputs_B)\n",
    "        \n",
    "        loss = loss_fn(logits, b_labels.float())\n",
    "        val_loss.append(loss.item())\n",
    "        preds = torch.round(torch.sigmoid(logits))\n",
    "        \n",
    "        accuracy = (preds.float() == b_labels.float()).cpu().numpy().mean() * 100\n",
    "        val_accuracy.append(accuracy)\n",
    "    \n",
    "    val_loss = np.mean(val_loss)\n",
    "    val_accuracy = np.mean(val_accuracy)\n",
    "\n",
    "    return val_loss, val_accuracy "
   ]
  },
  {
   "cell_type": "code",
   "execution_count": 33,
   "id": "68fcd769",
   "metadata": {},
   "outputs": [],
   "source": [
    "def make(config):\n",
    "    # Make the data\n",
    "    if torch.cuda.is_available():\n",
    "        device = torch.device('cuda')\n",
    "        print('The code uses GPU...')\n",
    "    else:\n",
    "        device = torch.device('cpu')\n",
    "        print('The code uses CPU!!!')\n",
    "\n",
    "    \n",
    "    model = BertClassifier(config).to(device)\n",
    "\n",
    "    # Make the loss and optimizer\n",
    "    criterion = nn.BCEWithLogitsLoss()\n",
    "    optimizer,learning_rate, momentum, weight_decay, amsgrad = config.optimizer,config.learning_rate, config.momentum, config.weight_decay, config.amsgrad\n",
    "    optimizer = build_optimizer(model,optimizer,learning_rate, momentum, weight_decay, amsgrad)\n",
    "    \n",
    "    return model, criterion, optimizer"
   ]
  },
  {
   "cell_type": "code",
   "execution_count": 34,
   "id": "ee1d948b",
   "metadata": {},
   "outputs": [],
   "source": [
    "def model_pipeline(config=None):\n",
    "\n",
    "    # tell wandb to get started\n",
    "    with wandb.init(project=\"Approach_2_concat_siamese_network_on_sum_\", config=config):\n",
    "      # access all HPs through wandb.config, so logging matches execution!\n",
    "      config = wandb.config\n",
    "      \n",
    "      # make the model, data, and optimization problem\n",
    "      \n",
    "      \n",
    "      \n",
    "      # and use them to train the model\n",
    "      train(config, train_loader,val_dataloader = val_loader)\n",
    "     \n",
    "      for i,j in test_loader:\n",
    "          x = i\n",
    "      wandb.save(\"model.onnx\")\n"
   ]
  },
  {
   "cell_type": "code",
   "execution_count": null,
   "id": "bb9c4e8e",
   "metadata": {},
   "outputs": [
    {
     "data": {
      "text/html": [
       "wandb version 0.13.6 is available!  To upgrade, please run:\n",
       " $ pip install wandb --upgrade"
      ],
      "text/plain": [
       "<IPython.core.display.HTML object>"
      ]
     },
     "metadata": {},
     "output_type": "display_data"
    },
    {
     "data": {
      "text/html": [
       "Tracking run with wandb version 0.13.4"
      ],
      "text/plain": [
       "<IPython.core.display.HTML object>"
      ]
     },
     "metadata": {},
     "output_type": "display_data"
    },
    {
     "data": {
      "text/html": [
       "Run data is saved locally in <code>/home/anwer/Desktop/PPI_prediction/model_training_py/models/wandb/run-20221212_093117-156vax1g</code>"
      ],
      "text/plain": [
       "<IPython.core.display.HTML object>"
      ]
     },
     "metadata": {},
     "output_type": "display_data"
    },
    {
     "data": {
      "text/html": [
       "Syncing run <strong><a href=\"https://wandb.ai/danish2562022/Approach_2_concat_siamese_network_on_sum_/runs/156vax1g\" target=\"_blank\">legendary-river-4</a></strong> to <a href=\"https://wandb.ai/danish2562022/Approach_2_concat_siamese_network_on_sum_\" target=\"_blank\">Weights & Biases</a> (<a href=\"https://wandb.me/run\" target=\"_blank\">docs</a>)<br/>"
      ],
      "text/plain": [
       "<IPython.core.display.HTML object>"
      ]
     },
     "metadata": {},
     "output_type": "display_data"
    },
    {
     "name": "stdout",
     "output_type": "stream",
     "text": [
      "Start training...\n",
      "\n"
     ]
    },
    {
     "name": "stderr",
     "output_type": "stream",
     "text": [
      "390it [01:07,  5.77it/s]\n",
      "100%|██████████████████████████████████████████████████████████| 39/39 [00:02<00:00, 17.64it/s]\n"
     ]
    },
    {
     "name": "stdout",
     "output_type": "stream",
     "text": [
      "Epoch: 1 | Training Loss: 0.5088663163857582  | Validation Loss: 0.5171006306623801  | Accuracy: 74.84\n"
     ]
    },
    {
     "name": "stderr",
     "output_type": "stream",
     "text": [
      "390it [01:07,  5.79it/s]\n",
      "100%|██████████████████████████████████████████████████████████| 39/39 [00:02<00:00, 17.97it/s]\n"
     ]
    },
    {
     "name": "stdout",
     "output_type": "stream",
     "text": [
      "Epoch: 2 | Training Loss: 0.3653248232908738  | Validation Loss: 0.4676616902534778  | Accuracy: 76.94\n"
     ]
    },
    {
     "name": "stderr",
     "output_type": "stream",
     "text": [
      "390it [01:08,  5.72it/s]\n",
      "100%|██████████████████████████████████████████████████████████| 39/39 [00:02<00:00, 17.69it/s]\n"
     ]
    },
    {
     "name": "stdout",
     "output_type": "stream",
     "text": [
      "Epoch: 3 | Training Loss: 0.3313752280978056  | Validation Loss: 0.5198130301940136  | Accuracy: 75.95\n"
     ]
    },
    {
     "name": "stderr",
     "output_type": "stream",
     "text": [
      "390it [01:08,  5.66it/s]\n",
      "100%|██████████████████████████████████████████████████████████| 39/39 [00:02<00:00, 17.39it/s]\n"
     ]
    },
    {
     "name": "stdout",
     "output_type": "stream",
     "text": [
      "Epoch: 4 | Training Loss: 0.3103920720326595  | Validation Loss: 0.6181702812512716  | Accuracy: 72.32\n"
     ]
    },
    {
     "name": "stderr",
     "output_type": "stream",
     "text": [
      "390it [01:09,  5.59it/s]\n",
      "100%|██████████████████████████████████████████████████████████| 39/39 [00:02<00:00, 17.17it/s]\n"
     ]
    },
    {
     "name": "stdout",
     "output_type": "stream",
     "text": [
      "Epoch: 5 | Training Loss: 0.29566195870821294  | Validation Loss: 0.5420308831410531  | Accuracy: 74.77\n"
     ]
    },
    {
     "name": "stderr",
     "output_type": "stream",
     "text": [
      "390it [01:10,  5.55it/s]\n",
      "100%|██████████████████████████████████████████████████████████| 39/39 [00:02<00:00, 17.03it/s]\n"
     ]
    },
    {
     "name": "stdout",
     "output_type": "stream",
     "text": [
      "Epoch: 6 | Training Loss: 0.28220570687300117  | Validation Loss: 0.6453973375833951  | Accuracy: 73.61\n"
     ]
    },
    {
     "name": "stderr",
     "output_type": "stream",
     "text": [
      "390it [01:10,  5.49it/s]\n",
      "100%|██████████████████████████████████████████████████████████| 39/39 [00:02<00:00, 16.89it/s]\n"
     ]
    },
    {
     "name": "stdout",
     "output_type": "stream",
     "text": [
      "Epoch: 7 | Training Loss: 0.2734106280482732  | Validation Loss: 0.5025402506192526  | Accuracy: 77.08\n"
     ]
    },
    {
     "name": "stderr",
     "output_type": "stream",
     "text": [
      "390it [01:11,  5.43it/s]\n",
      "100%|██████████████████████████████████████████████████████████| 39/39 [00:02<00:00, 15.67it/s]\n"
     ]
    },
    {
     "name": "stdout",
     "output_type": "stream",
     "text": [
      "Epoch: 8 | Training Loss: 0.26665329661888953  | Validation Loss: 0.5380391738353631  | Accuracy: 75.16\n"
     ]
    },
    {
     "name": "stderr",
     "output_type": "stream",
     "text": [
      "390it [01:17,  5.01it/s]\n",
      "100%|██████████████████████████████████████████████████████████| 39/39 [00:02<00:00, 15.28it/s]\n"
     ]
    },
    {
     "name": "stdout",
     "output_type": "stream",
     "text": [
      "Epoch: 9 | Training Loss: 0.25896806243138437  | Validation Loss: 0.5021593746466514  | Accuracy: 77.12\n"
     ]
    },
    {
     "name": "stderr",
     "output_type": "stream",
     "text": [
      "390it [01:18,  4.94it/s]\n",
      "100%|██████████████████████████████████████████████████████████| 39/39 [00:02<00:00, 13.97it/s]\n"
     ]
    },
    {
     "name": "stdout",
     "output_type": "stream",
     "text": [
      "Epoch: 10 | Training Loss: 0.25443537273468114  | Validation Loss: 0.5161107449959486  | Accuracy: 76.82\n"
     ]
    },
    {
     "name": "stderr",
     "output_type": "stream",
     "text": [
      "390it [01:18,  4.94it/s]\n",
      "100%|██████████████████████████████████████████████████████████| 39/39 [00:02<00:00, 14.53it/s]\n"
     ]
    },
    {
     "name": "stdout",
     "output_type": "stream",
     "text": [
      "Epoch: 11 | Training Loss: 0.2502185909029765  | Validation Loss: 0.5975711040007763  | Accuracy: 75.28\n"
     ]
    },
    {
     "name": "stderr",
     "output_type": "stream",
     "text": [
      "390it [01:20,  4.86it/s]\n",
      "100%|██████████████████████████████████████████████████████████| 39/39 [00:02<00:00, 13.84it/s]\n"
     ]
    },
    {
     "name": "stdout",
     "output_type": "stream",
     "text": [
      "Epoch: 12 | Training Loss: 0.24509186209776462  | Validation Loss: 0.6852029806528336  | Accuracy: 71.29\n"
     ]
    },
    {
     "name": "stderr",
     "output_type": "stream",
     "text": [
      "390it [01:21,  4.79it/s]\n",
      "100%|██████████████████████████████████████████████████████████| 39/39 [00:02<00:00, 13.77it/s]\n"
     ]
    },
    {
     "name": "stdout",
     "output_type": "stream",
     "text": [
      "Epoch: 13 | Training Loss: 0.24145525819980182  | Validation Loss: 0.6232692049099848  | Accuracy: 74.02\n"
     ]
    },
    {
     "name": "stderr",
     "output_type": "stream",
     "text": [
      "390it [01:22,  4.75it/s]\n",
      "100%|██████████████████████████████████████████████████████████| 39/39 [00:02<00:00, 13.80it/s]\n"
     ]
    },
    {
     "name": "stdout",
     "output_type": "stream",
     "text": [
      "Epoch: 14 | Training Loss: 0.23784856830651943  | Validation Loss: 0.6092615647193713  | Accuracy: 75.20\n"
     ]
    },
    {
     "name": "stderr",
     "output_type": "stream",
     "text": [
      "390it [01:22,  4.71it/s]\n",
      "100%|██████████████████████████████████████████████████████████| 39/39 [00:02<00:00, 13.78it/s]\n"
     ]
    },
    {
     "name": "stdout",
     "output_type": "stream",
     "text": [
      "Epoch: 15 | Training Loss: 0.23403302946915994  | Validation Loss: 0.5615137792550601  | Accuracy: 75.37\n"
     ]
    },
    {
     "name": "stderr",
     "output_type": "stream",
     "text": [
      "390it [01:25,  4.58it/s]\n",
      "100%|██████████████████████████████████████████████████████████| 39/39 [00:02<00:00, 13.57it/s]\n"
     ]
    },
    {
     "name": "stdout",
     "output_type": "stream",
     "text": [
      "Epoch: 16 | Training Loss: 0.2305601247228109  | Validation Loss: 0.6134403210419875  | Accuracy: 74.75\n"
     ]
    },
    {
     "name": "stderr",
     "output_type": "stream",
     "text": [
      "390it [01:25,  4.58it/s]\n",
      "100%|██████████████████████████████████████████████████████████| 39/39 [00:02<00:00, 13.29it/s]\n"
     ]
    },
    {
     "name": "stdout",
     "output_type": "stream",
     "text": [
      "Epoch: 17 | Training Loss: 0.22927233412479742  | Validation Loss: 0.7300865818292667  | Accuracy: 70.92\n"
     ]
    },
    {
     "name": "stderr",
     "output_type": "stream",
     "text": [
      "390it [01:24,  4.61it/s]\n",
      "100%|██████████████████████████████████████████████████████████| 39/39 [00:02<00:00, 13.63it/s]\n"
     ]
    },
    {
     "name": "stdout",
     "output_type": "stream",
     "text": [
      "Epoch: 18 | Training Loss: 0.22697350012186246  | Validation Loss: 0.6703446751985794  | Accuracy: 73.24\n"
     ]
    },
    {
     "name": "stderr",
     "output_type": "stream",
     "text": [
      "390it [01:25,  4.57it/s]\n",
      "100%|██████████████████████████████████████████████████████████| 39/39 [00:02<00:00, 13.54it/s]\n"
     ]
    },
    {
     "name": "stdout",
     "output_type": "stream",
     "text": [
      "Epoch: 19 | Training Loss: 0.22483604890413775  | Validation Loss: 0.6078092218973697  | Accuracy: 75.36\n"
     ]
    },
    {
     "name": "stderr",
     "output_type": "stream",
     "text": [
      "390it [01:24,  4.60it/s]\n",
      "100%|██████████████████████████████████████████████████████████| 39/39 [00:02<00:00, 13.38it/s]\n"
     ]
    },
    {
     "name": "stdout",
     "output_type": "stream",
     "text": [
      "Epoch: 20 | Training Loss: 0.2217394714554151  | Validation Loss: 0.7052997060311146  | Accuracy: 73.26\n"
     ]
    },
    {
     "name": "stderr",
     "output_type": "stream",
     "text": [
      "390it [01:25,  4.58it/s]\n",
      "100%|██████████████████████████████████████████████████████████| 39/39 [00:02<00:00, 13.54it/s]\n"
     ]
    },
    {
     "name": "stdout",
     "output_type": "stream",
     "text": [
      "Epoch: 21 | Training Loss: 0.21857071599135033  | Validation Loss: 0.9171197414398193  | Accuracy: 67.68\n"
     ]
    },
    {
     "name": "stderr",
     "output_type": "stream",
     "text": [
      "390it [01:26,  4.51it/s]\n",
      "100%|██████████████████████████████████████████████████████████| 39/39 [00:02<00:00, 13.55it/s]\n"
     ]
    },
    {
     "name": "stdout",
     "output_type": "stream",
     "text": [
      "Epoch: 22 | Training Loss: 0.21741190533607435  | Validation Loss: 0.5944437094223805  | Accuracy: 75.28\n"
     ]
    },
    {
     "name": "stderr",
     "output_type": "stream",
     "text": [
      "390it [01:26,  4.53it/s]\n",
      "100%|██████████████████████████████████████████████████████████| 39/39 [00:02<00:00, 13.46it/s]\n"
     ]
    },
    {
     "name": "stdout",
     "output_type": "stream",
     "text": [
      "Epoch: 23 | Training Loss: 0.21573236214044766  | Validation Loss: 0.5947379332322341  | Accuracy: 75.04\n"
     ]
    },
    {
     "name": "stderr",
     "output_type": "stream",
     "text": [
      "390it [01:26,  4.49it/s]\n",
      "100%|██████████████████████████████████████████████████████████| 39/39 [00:02<00:00, 13.25it/s]\n"
     ]
    },
    {
     "name": "stdout",
     "output_type": "stream",
     "text": [
      "Epoch: 24 | Training Loss: 0.21496486755517813  | Validation Loss: 0.7780051919130179  | Accuracy: 71.16\n"
     ]
    },
    {
     "name": "stderr",
     "output_type": "stream",
     "text": [
      "390it [01:26,  4.52it/s]\n",
      "100%|██████████████████████████████████████████████████████████| 39/39 [00:02<00:00, 13.55it/s]\n"
     ]
    },
    {
     "name": "stdout",
     "output_type": "stream",
     "text": [
      "Epoch: 25 | Training Loss: 0.2138389624082125  | Validation Loss: 0.5564765807909843  | Accuracy: 75.54\n"
     ]
    },
    {
     "name": "stderr",
     "output_type": "stream",
     "text": [
      "390it [01:25,  4.57it/s]\n",
      "100%|██████████████████████████████████████████████████████████| 39/39 [00:02<00:00, 13.63it/s]\n"
     ]
    },
    {
     "name": "stdout",
     "output_type": "stream",
     "text": [
      "Epoch: 26 | Training Loss: 0.21068677722643583  | Validation Loss: 0.6548504936389434  | Accuracy: 74.88\n"
     ]
    },
    {
     "name": "stderr",
     "output_type": "stream",
     "text": [
      "390it [01:26,  4.52it/s]\n",
      "100%|██████████████████████████████████████████████████████████| 39/39 [00:02<00:00, 13.56it/s]\n"
     ]
    },
    {
     "name": "stdout",
     "output_type": "stream",
     "text": [
      "Epoch: 27 | Training Loss: 0.20949490104730312  | Validation Loss: 0.7194489378195542  | Accuracy: 72.37\n"
     ]
    },
    {
     "name": "stderr",
     "output_type": "stream",
     "text": [
      "390it [01:25,  4.56it/s]\n",
      "100%|██████████████████████████████████████████████████████████| 39/39 [00:02<00:00, 13.39it/s]\n"
     ]
    },
    {
     "name": "stdout",
     "output_type": "stream",
     "text": [
      "Epoch: 28 | Training Loss: 0.2076440413028766  | Validation Loss: 0.5867913113190577  | Accuracy: 75.97\n"
     ]
    },
    {
     "name": "stderr",
     "output_type": "stream",
     "text": [
      "390it [01:26,  4.50it/s]\n",
      "100%|██████████████████████████████████████████████████████████| 39/39 [00:02<00:00, 13.56it/s]\n"
     ]
    },
    {
     "name": "stdout",
     "output_type": "stream",
     "text": [
      "Epoch: 29 | Training Loss: 0.2080203035320991  | Validation Loss: 0.6977670223284991  | Accuracy: 72.95\n"
     ]
    },
    {
     "name": "stderr",
     "output_type": "stream",
     "text": [
      "390it [01:25,  4.54it/s]\n",
      "100%|██████████████████████████████████████████████████████████| 39/39 [00:02<00:00, 13.53it/s]\n"
     ]
    },
    {
     "name": "stdout",
     "output_type": "stream",
     "text": [
      "Epoch: 30 | Training Loss: 0.20513625271045244  | Validation Loss: 0.7920318627968813  | Accuracy: 71.18\n"
     ]
    },
    {
     "name": "stderr",
     "output_type": "stream",
     "text": [
      "390it [01:25,  4.54it/s]\n",
      "100%|██████████████████████████████████████████████████████████| 39/39 [00:02<00:00, 13.57it/s]\n"
     ]
    },
    {
     "name": "stdout",
     "output_type": "stream",
     "text": [
      "Epoch: 31 | Training Loss: 0.2051822854922368  | Validation Loss: 0.7758068854992206  | Accuracy: 70.67\n"
     ]
    },
    {
     "name": "stderr",
     "output_type": "stream",
     "text": [
      "390it [01:26,  4.53it/s]\n",
      "100%|██████████████████████████████████████████████████████████| 39/39 [00:02<00:00, 13.55it/s]\n"
     ]
    },
    {
     "name": "stdout",
     "output_type": "stream",
     "text": [
      "Epoch: 32 | Training Loss: 0.20379233761475637  | Validation Loss: 0.9386775524188311  | Accuracy: 66.06\n"
     ]
    },
    {
     "name": "stderr",
     "output_type": "stream",
     "text": [
      "390it [01:26,  4.53it/s]\n",
      "100%|██████████████████████████████████████████████████████████| 39/39 [00:02<00:00, 13.53it/s]\n"
     ]
    },
    {
     "name": "stdout",
     "output_type": "stream",
     "text": [
      "Epoch: 33 | Training Loss: 0.2029849092165629  | Validation Loss: 0.790144179111872  | Accuracy: 70.97\n"
     ]
    },
    {
     "name": "stderr",
     "output_type": "stream",
     "text": [
      "390it [01:26,  4.53it/s]\n",
      "100%|██████████████████████████████████████████████████████████| 39/39 [00:02<00:00, 13.55it/s]\n"
     ]
    },
    {
     "name": "stdout",
     "output_type": "stream",
     "text": [
      "Epoch: 34 | Training Loss: 0.2018552223077187  | Validation Loss: 0.6229945803299929  | Accuracy: 74.46\n"
     ]
    },
    {
     "name": "stderr",
     "output_type": "stream",
     "text": [
      "390it [01:26,  4.53it/s]\n",
      "100%|██████████████████████████████████████████████████████████| 39/39 [00:02<00:00, 13.56it/s]\n"
     ]
    },
    {
     "name": "stdout",
     "output_type": "stream",
     "text": [
      "Epoch: 35 | Training Loss: 0.20259564709969055  | Validation Loss: 0.6018025936224521  | Accuracy: 75.38\n"
     ]
    },
    {
     "name": "stderr",
     "output_type": "stream",
     "text": [
      "390it [01:26,  4.53it/s]\n",
      "100%|██████████████████████████████████████████████████████████| 39/39 [00:02<00:00, 13.24it/s]\n"
     ]
    },
    {
     "name": "stdout",
     "output_type": "stream",
     "text": [
      "Epoch: 36 | Training Loss: 0.20102929251316265  | Validation Loss: 0.7577190093505077  | Accuracy: 73.08\n"
     ]
    },
    {
     "name": "stderr",
     "output_type": "stream",
     "text": [
      "390it [01:26,  4.53it/s]\n",
      "100%|██████████████████████████████████████████████████████████| 39/39 [00:02<00:00, 13.57it/s]\n"
     ]
    },
    {
     "name": "stdout",
     "output_type": "stream",
     "text": [
      "Epoch: 37 | Training Loss: 0.19992853983854636  | Validation Loss: 0.7223118314376245  | Accuracy: 73.46\n"
     ]
    },
    {
     "name": "stderr",
     "output_type": "stream",
     "text": [
      "390it [01:26,  4.53it/s]\n",
      "100%|██████████████████████████████████████████████████████████| 39/39 [00:02<00:00, 13.56it/s]\n"
     ]
    },
    {
     "name": "stdout",
     "output_type": "stream",
     "text": [
      "Epoch: 38 | Training Loss: 0.200800688068072  | Validation Loss: 0.6476384279055473  | Accuracy: 73.59\n"
     ]
    },
    {
     "name": "stderr",
     "output_type": "stream",
     "text": [
      "390it [01:25,  4.53it/s]\n",
      "100%|██████████████████████████████████████████████████████████| 39/39 [00:02<00:00, 13.85it/s]\n"
     ]
    },
    {
     "name": "stdout",
     "output_type": "stream",
     "text": [
      "Epoch: 39 | Training Loss: 0.19751534056969178  | Validation Loss: 0.7917375717407618  | Accuracy: 70.72\n"
     ]
    },
    {
     "name": "stderr",
     "output_type": "stream",
     "text": [
      "390it [01:25,  4.54it/s]\n",
      "100%|██████████████████████████████████████████████████████████| 39/39 [00:02<00:00, 13.59it/s]\n"
     ]
    },
    {
     "name": "stdout",
     "output_type": "stream",
     "text": [
      "Epoch: 40 | Training Loss: 0.1958499849606783  | Validation Loss: 0.8084989923697251  | Accuracy: 71.68\n"
     ]
    },
    {
     "name": "stderr",
     "output_type": "stream",
     "text": [
      "390it [01:25,  4.54it/s]\n",
      "100%|██████████████████████████████████████████████████████████| 39/39 [00:02<00:00, 13.59it/s]\n"
     ]
    },
    {
     "name": "stdout",
     "output_type": "stream",
     "text": [
      "Epoch: 41 | Training Loss: 0.19212180901414308  | Validation Loss: 0.7049940839791909  | Accuracy: 71.77\n"
     ]
    },
    {
     "name": "stderr",
     "output_type": "stream",
     "text": [
      "390it [01:26,  4.53it/s]\n",
      "100%|██████████████████████████████████████████████████████████| 39/39 [00:02<00:00, 14.08it/s]\n"
     ]
    },
    {
     "name": "stdout",
     "output_type": "stream",
     "text": [
      "Epoch: 42 | Training Loss: 0.19173138149273702  | Validation Loss: 0.583176097044578  | Accuracy: 75.47\n"
     ]
    },
    {
     "name": "stderr",
     "output_type": "stream",
     "text": [
      "390it [01:25,  4.54it/s]\n",
      "100%|██████████████████████████████████████████████████████████| 39/39 [00:02<00:00, 13.57it/s]\n"
     ]
    },
    {
     "name": "stdout",
     "output_type": "stream",
     "text": [
      "Epoch: 43 | Training Loss: 0.19132200479507447  | Validation Loss: 0.6327614860656934  | Accuracy: 73.82\n"
     ]
    },
    {
     "name": "stderr",
     "output_type": "stream",
     "text": [
      "390it [01:25,  4.55it/s]\n",
      "100%|██████████████████████████████████████████████████████████| 39/39 [00:02<00:00, 13.57it/s]\n"
     ]
    },
    {
     "name": "stdout",
     "output_type": "stream",
     "text": [
      "Epoch: 44 | Training Loss: 0.19049593676359225  | Validation Loss: 0.6767809864802238  | Accuracy: 73.00\n"
     ]
    },
    {
     "name": "stderr",
     "output_type": "stream",
     "text": [
      "390it [01:25,  4.55it/s]\n",
      "100%|██████████████████████████████████████████████████████████| 39/39 [00:02<00:00, 13.60it/s]\n"
     ]
    },
    {
     "name": "stdout",
     "output_type": "stream",
     "text": [
      "Epoch: 45 | Training Loss: 0.1881598871678878  | Validation Loss: 0.7965811139498001  | Accuracy: 71.11\n"
     ]
    },
    {
     "name": "stderr",
     "output_type": "stream",
     "text": [
      "390it [01:26,  4.53it/s]\n",
      "100%|██████████████████████████████████████████████████████████| 39/39 [00:02<00:00, 13.62it/s]\n"
     ]
    },
    {
     "name": "stdout",
     "output_type": "stream",
     "text": [
      "Epoch: 46 | Training Loss: 0.18784849003721507  | Validation Loss: 0.8539468202835474  | Accuracy: 70.47\n"
     ]
    },
    {
     "name": "stderr",
     "output_type": "stream",
     "text": [
      "390it [01:26,  4.51it/s]\n",
      "100%|██████████████████████████████████████████████████████████| 39/39 [00:02<00:00, 13.55it/s]\n"
     ]
    },
    {
     "name": "stdout",
     "output_type": "stream",
     "text": [
      "Epoch: 47 | Training Loss: 0.18684697386163931  | Validation Loss: 1.069693039625119  | Accuracy: 65.45\n"
     ]
    },
    {
     "name": "stderr",
     "output_type": "stream",
     "text": [
      "390it [01:25,  4.54it/s]\n",
      "100%|██████████████████████████████████████████████████████████| 39/39 [00:02<00:00, 13.56it/s]\n"
     ]
    },
    {
     "name": "stdout",
     "output_type": "stream",
     "text": [
      "Epoch: 48 | Training Loss: 0.1865575857460499  | Validation Loss: 0.7271033556033404  | Accuracy: 73.56\n"
     ]
    },
    {
     "name": "stderr",
     "output_type": "stream",
     "text": [
      "390it [01:25,  4.55it/s]\n",
      "100%|██████████████████████████████████████████████████████████| 39/39 [00:02<00:00, 13.53it/s]\n"
     ]
    },
    {
     "name": "stdout",
     "output_type": "stream",
     "text": [
      "Epoch: 49 | Training Loss: 0.18401254415512086  | Validation Loss: 0.8353057671815921  | Accuracy: 70.03\n"
     ]
    },
    {
     "name": "stderr",
     "output_type": "stream",
     "text": [
      "390it [01:25,  4.55it/s]\n",
      "100%|██████████████████████████████████████████████████████████| 39/39 [00:02<00:00, 13.60it/s]\n"
     ]
    },
    {
     "name": "stdout",
     "output_type": "stream",
     "text": [
      "Epoch: 50 | Training Loss: 0.1839551257972534  | Validation Loss: 0.6475556874886538  | Accuracy: 74.01\n"
     ]
    },
    {
     "name": "stderr",
     "output_type": "stream",
     "text": [
      "390it [01:25,  4.58it/s]\n",
      "100%|██████████████████████████████████████████████████████████| 39/39 [00:02<00:00, 13.65it/s]\n"
     ]
    },
    {
     "name": "stdout",
     "output_type": "stream",
     "text": [
      "Epoch: 51 | Training Loss: 0.1798088110028169  | Validation Loss: 0.7244959504176409  | Accuracy: 72.71\n"
     ]
    },
    {
     "name": "stderr",
     "output_type": "stream",
     "text": [
      "390it [01:25,  4.55it/s]\n",
      "100%|██████████████████████████████████████████████████████████| 39/39 [00:02<00:00, 13.60it/s]\n"
     ]
    },
    {
     "name": "stdout",
     "output_type": "stream",
     "text": [
      "Epoch: 52 | Training Loss: 0.18151803072064351  | Validation Loss: 0.8072652633373554  | Accuracy: 71.30\n"
     ]
    },
    {
     "name": "stderr",
     "output_type": "stream",
     "text": [
      "390it [01:26,  4.50it/s]\n",
      "100%|██████████████████████████████████████████████████████████| 39/39 [00:02<00:00, 13.24it/s]\n"
     ]
    },
    {
     "name": "stdout",
     "output_type": "stream",
     "text": [
      "Epoch: 53 | Training Loss: 0.18060213052309476  | Validation Loss: 0.7881541236852988  | Accuracy: 71.42\n"
     ]
    },
    {
     "name": "stderr",
     "output_type": "stream",
     "text": [
      "390it [01:26,  4.53it/s]\n",
      "100%|██████████████████████████████████████████████████████████| 39/39 [00:02<00:00, 13.55it/s]\n"
     ]
    },
    {
     "name": "stdout",
     "output_type": "stream",
     "text": [
      "Epoch: 54 | Training Loss: 0.17719869856268933  | Validation Loss: 0.8133722069935921  | Accuracy: 71.79\n"
     ]
    },
    {
     "name": "stderr",
     "output_type": "stream",
     "text": [
      "390it [01:23,  4.69it/s]\n",
      "100%|██████████████████████████████████████████████████████████| 39/39 [00:02<00:00, 13.51it/s]\n"
     ]
    },
    {
     "name": "stdout",
     "output_type": "stream",
     "text": [
      "Epoch: 55 | Training Loss: 0.17811406969259946  | Validation Loss: 0.6911004613607358  | Accuracy: 73.03\n"
     ]
    },
    {
     "name": "stderr",
     "output_type": "stream",
     "text": [
      "390it [01:24,  4.59it/s]\n",
      "100%|██████████████████████████████████████████████████████████| 39/39 [00:02<00:00, 13.59it/s]\n"
     ]
    },
    {
     "name": "stdout",
     "output_type": "stream",
     "text": [
      "Epoch: 56 | Training Loss: 0.17669319743529344  | Validation Loss: 0.7717955326422666  | Accuracy: 73.04\n"
     ]
    },
    {
     "name": "stderr",
     "output_type": "stream",
     "text": [
      "390it [01:25,  4.58it/s]\n",
      "100%|██████████████████████████████████████████████████████████| 39/39 [00:02<00:00, 13.55it/s]\n"
     ]
    },
    {
     "name": "stdout",
     "output_type": "stream",
     "text": [
      "Epoch: 57 | Training Loss: 0.17662793898429627  | Validation Loss: 0.6862941965078696  | Accuracy: 73.67\n"
     ]
    },
    {
     "name": "stderr",
     "output_type": "stream",
     "text": [
      "390it [01:25,  4.55it/s]\n",
      "100%|██████████████████████████████████████████████████████████| 39/39 [00:02<00:00, 13.55it/s]\n"
     ]
    },
    {
     "name": "stdout",
     "output_type": "stream",
     "text": [
      "Epoch: 58 | Training Loss: 0.17340612340814027  | Validation Loss: 0.7645787718968514  | Accuracy: 72.63\n"
     ]
    },
    {
     "name": "stderr",
     "output_type": "stream",
     "text": [
      "390it [01:25,  4.57it/s]\n",
      "100%|██████████████████████████████████████████████████████████| 39/39 [00:02<00:00, 13.58it/s]\n"
     ]
    },
    {
     "name": "stdout",
     "output_type": "stream",
     "text": [
      "Epoch: 59 | Training Loss: 0.17513434546880233  | Validation Loss: 0.8981437499706562  | Accuracy: 69.41\n"
     ]
    },
    {
     "name": "stderr",
     "output_type": "stream",
     "text": [
      "390it [01:25,  4.58it/s]\n",
      "100%|██████████████████████████████████████████████████████████| 39/39 [00:02<00:00, 13.61it/s]\n"
     ]
    },
    {
     "name": "stdout",
     "output_type": "stream",
     "text": [
      "Epoch: 60 | Training Loss: 0.17204824645931904  | Validation Loss: 0.8101361348078802  | Accuracy: 70.47\n"
     ]
    },
    {
     "name": "stderr",
     "output_type": "stream",
     "text": [
      "390it [01:25,  4.55it/s]\n",
      "100%|██████████████████████████████████████████████████████████| 39/39 [00:02<00:00, 13.17it/s]\n"
     ]
    },
    {
     "name": "stdout",
     "output_type": "stream",
     "text": [
      "Epoch: 61 | Training Loss: 0.17280500300037555  | Validation Loss: 0.8765786656966577  | Accuracy: 70.10\n"
     ]
    },
    {
     "name": "stderr",
     "output_type": "stream",
     "text": [
      "386it [01:24,  4.45it/s]wandb: Network error (ConnectionError), entering retry loop.\n",
      "390it [01:25,  4.54it/s]\n",
      "100%|██████████████████████████████████████████████████████████| 39/39 [00:02<00:00, 13.57it/s]\n"
     ]
    },
    {
     "name": "stdout",
     "output_type": "stream",
     "text": [
      "Epoch: 62 | Training Loss: 0.17143718227744104  | Validation Loss: 0.7110140614020519  | Accuracy: 73.78\n"
     ]
    },
    {
     "name": "stderr",
     "output_type": "stream",
     "text": [
      "390it [01:25,  4.56it/s]\n",
      "100%|██████████████████████████████████████████████████████████| 39/39 [00:02<00:00, 13.55it/s]\n"
     ]
    },
    {
     "name": "stdout",
     "output_type": "stream",
     "text": [
      "Epoch: 63 | Training Loss: 0.16958359411129584  | Validation Loss: 0.7793293228516212  | Accuracy: 72.37\n"
     ]
    },
    {
     "name": "stderr",
     "output_type": "stream",
     "text": [
      "390it [01:27,  4.47it/s]\n",
      "100%|██████████████████████████████████████████████████████████| 39/39 [00:02<00:00, 13.57it/s]\n"
     ]
    },
    {
     "name": "stdout",
     "output_type": "stream",
     "text": [
      "Epoch: 64 | Training Loss: 0.16711937594108092  | Validation Loss: 0.7186917723753513  | Accuracy: 74.21\n"
     ]
    },
    {
     "name": "stderr",
     "output_type": "stream",
     "text": [
      "390it [01:27,  4.46it/s]\n",
      "100%|██████████████████████████████████████████████████████████| 39/39 [00:02<00:00, 13.59it/s]\n"
     ]
    },
    {
     "name": "stdout",
     "output_type": "stream",
     "text": [
      "Epoch: 65 | Training Loss: 0.16870244240913634  | Validation Loss: 0.6182508086546873  | Accuracy: 75.09\n"
     ]
    },
    {
     "name": "stderr",
     "output_type": "stream",
     "text": [
      "390it [01:27,  4.48it/s]\n",
      "100%|██████████████████████████████████████████████████████████| 39/39 [00:02<00:00, 13.58it/s]\n"
     ]
    },
    {
     "name": "stdout",
     "output_type": "stream",
     "text": [
      "Epoch: 66 | Training Loss: 0.16625714657398372  | Validation Loss: 1.1309781013390956  | Accuracy: 66.48\n"
     ]
    },
    {
     "name": "stderr",
     "output_type": "stream",
     "text": [
      "390it [01:26,  4.51it/s]\n",
      "100%|██████████████████████████████████████████████████████████| 39/39 [00:02<00:00, 13.44it/s]\n"
     ]
    },
    {
     "name": "stdout",
     "output_type": "stream",
     "text": [
      "Epoch: 67 | Training Loss: 0.16589743443406546  | Validation Loss: 0.8269877586609278  | Accuracy: 72.67\n"
     ]
    },
    {
     "name": "stderr",
     "output_type": "stream",
     "text": [
      "390it [01:26,  4.52it/s]\n",
      "100%|██████████████████████████████████████████████████████████| 39/39 [00:02<00:00, 13.53it/s]\n"
     ]
    },
    {
     "name": "stdout",
     "output_type": "stream",
     "text": [
      "Epoch: 68 | Training Loss: 0.16303106640011836  | Validation Loss: 0.8702052434285482  | Accuracy: 70.91\n"
     ]
    },
    {
     "name": "stderr",
     "output_type": "stream",
     "text": [
      "390it [01:26,  4.52it/s]\n",
      "100%|██████████████████████████████████████████████████████████| 39/39 [00:02<00:00, 13.17it/s]\n"
     ]
    },
    {
     "name": "stdout",
     "output_type": "stream",
     "text": [
      "Epoch: 69 | Training Loss: 0.16442529734892722  | Validation Loss: 0.8911748757729163  | Accuracy: 70.03\n"
     ]
    },
    {
     "name": "stderr",
     "output_type": "stream",
     "text": [
      "390it [01:26,  4.51it/s]\n",
      "100%|██████████████████████████████████████████████████████████| 39/39 [00:02<00:00, 13.57it/s]\n"
     ]
    },
    {
     "name": "stdout",
     "output_type": "stream",
     "text": [
      "Epoch: 70 | Training Loss: 0.16300558174649873  | Validation Loss: 0.8966137017959204  | Accuracy: 69.40\n"
     ]
    },
    {
     "name": "stderr",
     "output_type": "stream",
     "text": [
      "390it [01:26,  4.50it/s]\n",
      "100%|██████████████████████████████████████████████████████████| 39/39 [00:02<00:00, 14.00it/s]\n"
     ]
    },
    {
     "name": "stdout",
     "output_type": "stream",
     "text": [
      "Epoch: 71 | Training Loss: 0.16271645898620288  | Validation Loss: 0.7597093872534924  | Accuracy: 72.73\n"
     ]
    },
    {
     "name": "stderr",
     "output_type": "stream",
     "text": [
      "390it [01:26,  4.51it/s]\n",
      "100%|██████████████████████████████████████████████████████████| 39/39 [00:02<00:00, 13.56it/s]\n"
     ]
    },
    {
     "name": "stdout",
     "output_type": "stream",
     "text": [
      "Epoch: 72 | Training Loss: 0.16208773238154559  | Validation Loss: 0.8788952521788769  | Accuracy: 70.53\n"
     ]
    },
    {
     "name": "stderr",
     "output_type": "stream",
     "text": [
      "390it [01:26,  4.50it/s]\n",
      "100%|██████████████████████████████████████████████████████████| 39/39 [00:02<00:00, 13.59it/s]\n"
     ]
    },
    {
     "name": "stdout",
     "output_type": "stream",
     "text": [
      "Epoch: 73 | Training Loss: 0.16012958286282344  | Validation Loss: 0.9368301523037446  | Accuracy: 70.04\n"
     ]
    },
    {
     "name": "stderr",
     "output_type": "stream",
     "text": [
      "390it [01:25,  4.54it/s]\n",
      "100%|██████████████████████████████████████████████████████████| 39/39 [00:02<00:00, 13.55it/s]\n"
     ]
    },
    {
     "name": "stdout",
     "output_type": "stream",
     "text": [
      "Epoch: 74 | Training Loss: 0.15902521839508643  | Validation Loss: 0.7990951721484845  | Accuracy: 72.03\n"
     ]
    },
    {
     "name": "stderr",
     "output_type": "stream",
     "text": [
      "390it [01:26,  4.52it/s]\n",
      "100%|██████████████████████████████████████████████████████████| 39/39 [00:02<00:00, 13.65it/s]\n"
     ]
    },
    {
     "name": "stdout",
     "output_type": "stream",
     "text": [
      "Epoch: 75 | Training Loss: 0.1569422250183729  | Validation Loss: 0.8688688522730118  | Accuracy: 71.18\n"
     ]
    },
    {
     "name": "stderr",
     "output_type": "stream",
     "text": [
      "390it [01:26,  4.51it/s]\n",
      "100%|██████████████████████████████████████████████████████████| 39/39 [00:02<00:00, 13.56it/s]\n"
     ]
    },
    {
     "name": "stdout",
     "output_type": "stream",
     "text": [
      "Epoch: 76 | Training Loss: 0.15688050616628085  | Validation Loss: 1.063303143550188  | Accuracy: 68.13\n"
     ]
    },
    {
     "name": "stderr",
     "output_type": "stream",
     "text": [
      "390it [01:26,  4.53it/s]\n",
      "100%|██████████████████████████████████████████████████████████| 39/39 [00:02<00:00, 13.79it/s]\n"
     ]
    },
    {
     "name": "stdout",
     "output_type": "stream",
     "text": [
      "Epoch: 77 | Training Loss: 0.15513935708082638  | Validation Loss: 0.933310716580122  | Accuracy: 70.57\n"
     ]
    },
    {
     "name": "stderr",
     "output_type": "stream",
     "text": [
      "390it [01:26,  4.53it/s]\n",
      "100%|██████████████████████████████████████████████████████████| 39/39 [00:02<00:00, 13.63it/s]\n"
     ]
    },
    {
     "name": "stdout",
     "output_type": "stream",
     "text": [
      "Epoch: 78 | Training Loss: 0.1555698834741727  | Validation Loss: 0.9844107673718379  | Accuracy: 69.70\n"
     ]
    },
    {
     "name": "stderr",
     "output_type": "stream",
     "text": [
      "390it [01:26,  4.48it/s]\n",
      "100%|██████████████████████████████████████████████████████████| 39/39 [00:02<00:00, 13.55it/s]\n"
     ]
    },
    {
     "name": "stdout",
     "output_type": "stream",
     "text": [
      "Epoch: 79 | Training Loss: 0.15318700185953044  | Validation Loss: 1.0015707459205236  | Accuracy: 69.74\n"
     ]
    },
    {
     "name": "stderr",
     "output_type": "stream",
     "text": [
      "390it [01:27,  4.47it/s]\n",
      "100%|██████████████████████████████████████████████████████████| 39/39 [00:02<00:00, 13.45it/s]\n"
     ]
    },
    {
     "name": "stdout",
     "output_type": "stream",
     "text": [
      "Epoch: 80 | Training Loss: 0.15290799622352308  | Validation Loss: 0.859394174355727  | Accuracy: 72.14\n"
     ]
    },
    {
     "name": "stderr",
     "output_type": "stream",
     "text": [
      "390it [01:27,  4.48it/s]\n",
      "100%|██████████████████████████████████████████████████████████| 39/39 [00:02<00:00, 13.61it/s]\n"
     ]
    },
    {
     "name": "stdout",
     "output_type": "stream",
     "text": [
      "Epoch: 81 | Training Loss: 0.15111260288036787  | Validation Loss: 0.9330591513560369  | Accuracy: 69.93\n"
     ]
    },
    {
     "name": "stderr",
     "output_type": "stream",
     "text": [
      "390it [01:26,  4.50it/s]\n",
      "100%|██████████████████████████████████████████████████████████| 39/39 [00:02<00:00, 13.54it/s]\n"
     ]
    },
    {
     "name": "stdout",
     "output_type": "stream",
     "text": [
      "Epoch: 82 | Training Loss: 0.15117156685162814  | Validation Loss: 0.8970667414176159  | Accuracy: 71.72\n"
     ]
    },
    {
     "name": "stderr",
     "output_type": "stream",
     "text": [
      "390it [01:26,  4.50it/s]\n",
      "100%|██████████████████████████████████████████████████████████| 39/39 [00:02<00:00, 13.63it/s]\n"
     ]
    },
    {
     "name": "stdout",
     "output_type": "stream",
     "text": [
      "Epoch: 83 | Training Loss: 0.14974846171262937  | Validation Loss: 0.7881973416377337  | Accuracy: 73.03\n"
     ]
    },
    {
     "name": "stderr",
     "output_type": "stream",
     "text": [
      "390it [01:26,  4.50it/s]\n",
      "100%|██████████████████████████████████████████████████████████| 39/39 [00:02<00:00, 13.54it/s]\n"
     ]
    },
    {
     "name": "stdout",
     "output_type": "stream",
     "text": [
      "Epoch: 84 | Training Loss: 0.14824522198774875  | Validation Loss: 1.0764670096910918  | Accuracy: 67.79\n"
     ]
    },
    {
     "name": "stderr",
     "output_type": "stream",
     "text": [
      "390it [01:26,  4.50it/s]\n",
      "100%|██████████████████████████████████████████████████████████| 39/39 [00:02<00:00, 13.54it/s]\n"
     ]
    },
    {
     "name": "stdout",
     "output_type": "stream",
     "text": [
      "Epoch: 85 | Training Loss: 0.14768698435181227  | Validation Loss: 0.8639377065193958  | Accuracy: 71.86\n"
     ]
    },
    {
     "name": "stderr",
     "output_type": "stream",
     "text": [
      "390it [01:26,  4.50it/s]\n",
      "100%|██████████████████████████████████████████████████████████| 39/39 [00:02<00:00, 13.61it/s]\n"
     ]
    },
    {
     "name": "stdout",
     "output_type": "stream",
     "text": [
      "Epoch: 86 | Training Loss: 0.14610286926229796  | Validation Loss: 0.8445314871959198  | Accuracy: 72.21\n"
     ]
    },
    {
     "name": "stderr",
     "output_type": "stream",
     "text": [
      "390it [01:26,  4.49it/s]\n",
      "100%|██████████████████████████████████████████████████████████| 39/39 [00:02<00:00, 13.54it/s]\n"
     ]
    },
    {
     "name": "stdout",
     "output_type": "stream",
     "text": [
      "Epoch: 87 | Training Loss: 0.14468973550276878  | Validation Loss: 0.8470675807732803  | Accuracy: 72.24\n"
     ]
    },
    {
     "name": "stderr",
     "output_type": "stream",
     "text": [
      "390it [01:26,  4.51it/s]\n",
      "100%|██████████████████████████████████████████████████████████| 39/39 [00:02<00:00, 13.58it/s]\n"
     ]
    },
    {
     "name": "stdout",
     "output_type": "stream",
     "text": [
      "Epoch: 88 | Training Loss: 0.14394251922002205  | Validation Loss: 0.7462841868400574  | Accuracy: 74.25\n"
     ]
    },
    {
     "name": "stderr",
     "output_type": "stream",
     "text": [
      "390it [01:26,  4.49it/s]\n",
      "100%|██████████████████████████████████████████████████████████| 39/39 [00:02<00:00, 13.61it/s]\n"
     ]
    },
    {
     "name": "stdout",
     "output_type": "stream",
     "text": [
      "Epoch: 89 | Training Loss: 0.14484156091243794  | Validation Loss: 0.7880602677663168  | Accuracy: 72.56\n"
     ]
    },
    {
     "name": "stderr",
     "output_type": "stream",
     "text": [
      "390it [01:26,  4.51it/s]\n",
      "100%|██████████████████████████████████████████████████████████| 39/39 [00:02<00:00, 13.59it/s]\n"
     ]
    },
    {
     "name": "stdout",
     "output_type": "stream",
     "text": [
      "Epoch: 90 | Training Loss: 0.14265931682326854  | Validation Loss: 0.7897792978164477  | Accuracy: 72.86\n"
     ]
    },
    {
     "name": "stderr",
     "output_type": "stream",
     "text": [
      "390it [01:26,  4.49it/s]\n",
      "100%|██████████████████████████████████████████████████████████| 39/39 [00:02<00:00, 13.58it/s]\n"
     ]
    },
    {
     "name": "stdout",
     "output_type": "stream",
     "text": [
      "Epoch: 91 | Training Loss: 0.14046468035532877  | Validation Loss: 0.851608123534765  | Accuracy: 71.95\n"
     ]
    },
    {
     "name": "stderr",
     "output_type": "stream",
     "text": [
      "390it [01:26,  4.50it/s]\n",
      "100%|██████████████████████████████████████████████████████████| 39/39 [00:02<00:00, 13.62it/s]\n"
     ]
    },
    {
     "name": "stdout",
     "output_type": "stream",
     "text": [
      "Epoch: 92 | Training Loss: 0.1391315265916861  | Validation Loss: 0.988448271384606  | Accuracy: 69.84\n"
     ]
    },
    {
     "name": "stderr",
     "output_type": "stream",
     "text": [
      "390it [01:26,  4.49it/s]\n",
      "100%|██████████████████████████████████████████████████████████| 39/39 [00:02<00:00, 13.59it/s]\n"
     ]
    },
    {
     "name": "stdout",
     "output_type": "stream",
     "text": [
      "Epoch: 93 | Training Loss: 0.13873916365779362  | Validation Loss: 0.9859703381856283  | Accuracy: 69.44\n"
     ]
    },
    {
     "name": "stderr",
     "output_type": "stream",
     "text": [
      "390it [01:26,  4.50it/s]\n",
      "100%|██████████████████████████████████████████████████████████| 39/39 [00:02<00:00, 13.51it/s]\n"
     ]
    },
    {
     "name": "stdout",
     "output_type": "stream",
     "text": [
      "Epoch: 94 | Training Loss: 0.13665346512809778  | Validation Loss: 0.9498131168194306  | Accuracy: 71.59\n"
     ]
    },
    {
     "name": "stderr",
     "output_type": "stream",
     "text": [
      "390it [01:26,  4.51it/s]\n",
      "100%|██████████████████████████████████████████████████████████| 39/39 [00:02<00:00, 13.67it/s]\n"
     ]
    },
    {
     "name": "stdout",
     "output_type": "stream",
     "text": [
      "Epoch: 95 | Training Loss: 0.13733043040220555  | Validation Loss: 0.8712476660043765  | Accuracy: 72.55\n"
     ]
    },
    {
     "name": "stderr",
     "output_type": "stream",
     "text": [
      "390it [01:26,  4.49it/s]\n",
      "100%|██████████████████████████████████████████████████████████| 39/39 [00:02<00:00, 13.14it/s]\n"
     ]
    },
    {
     "name": "stdout",
     "output_type": "stream",
     "text": [
      "Epoch: 96 | Training Loss: 0.1361518623928229  | Validation Loss: 0.8807895718476711  | Accuracy: 72.08\n"
     ]
    },
    {
     "name": "stderr",
     "output_type": "stream",
     "text": [
      "390it [01:26,  4.49it/s]\n",
      "100%|██████████████████████████████████████████████████████████| 39/39 [00:02<00:00, 13.60it/s]\n"
     ]
    },
    {
     "name": "stdout",
     "output_type": "stream",
     "text": [
      "Epoch: 97 | Training Loss: 0.1342338068362994  | Validation Loss: 0.7378128125117376  | Accuracy: 72.97\n"
     ]
    },
    {
     "name": "stderr",
     "output_type": "stream",
     "text": [
      "390it [01:26,  4.49it/s]\n",
      "100%|██████████████████████████████████████████████████████████| 39/39 [00:02<00:00, 13.55it/s]\n"
     ]
    },
    {
     "name": "stdout",
     "output_type": "stream",
     "text": [
      "Epoch: 98 | Training Loss: 0.13560950267009245  | Validation Loss: 0.8215763920392746  | Accuracy: 72.95\n"
     ]
    },
    {
     "name": "stderr",
     "output_type": "stream",
     "text": [
      "390it [01:26,  4.49it/s]\n",
      "100%|██████████████████████████████████████████████████████████| 39/39 [00:02<00:00, 13.52it/s]\n"
     ]
    },
    {
     "name": "stdout",
     "output_type": "stream",
     "text": [
      "Epoch: 99 | Training Loss: 0.13265633949866662  | Validation Loss: 0.7663279038209182  | Accuracy: 73.36\n"
     ]
    },
    {
     "name": "stderr",
     "output_type": "stream",
     "text": [
      "390it [01:26,  4.51it/s]\n",
      "100%|██████████████████████████████████████████████████████████| 39/39 [00:02<00:00, 13.54it/s]\n"
     ]
    },
    {
     "name": "stdout",
     "output_type": "stream",
     "text": [
      "Epoch: 100 | Training Loss: 0.13298650741195067  | Validation Loss: 0.9387461054019439  | Accuracy: 70.74\n"
     ]
    },
    {
     "name": "stderr",
     "output_type": "stream",
     "text": [
      "390it [01:26,  4.50it/s]\n",
      "100%|██████████████████████████████████████████████████████████| 39/39 [00:02<00:00, 13.55it/s]\n"
     ]
    },
    {
     "name": "stdout",
     "output_type": "stream",
     "text": [
      "Epoch: 101 | Training Loss: 0.13178993771091485  | Validation Loss: 1.0436628292768428  | Accuracy: 69.05\n"
     ]
    },
    {
     "name": "stderr",
     "output_type": "stream",
     "text": [
      "390it [01:26,  4.48it/s]\n",
      "100%|██████████████████████████████████████████████████████████| 39/39 [00:02<00:00, 13.68it/s]\n"
     ]
    },
    {
     "name": "stdout",
     "output_type": "stream",
     "text": [
      "Epoch: 102 | Training Loss: 0.13019144852191974  | Validation Loss: 1.027299966567602  | Accuracy: 69.19\n"
     ]
    },
    {
     "name": "stderr",
     "output_type": "stream",
     "text": [
      "390it [01:26,  4.49it/s]\n",
      "100%|██████████████████████████████████████████████████████████| 39/39 [00:02<00:00, 13.52it/s]\n"
     ]
    },
    {
     "name": "stdout",
     "output_type": "stream",
     "text": [
      "Epoch: 103 | Training Loss: 0.13009465336799622  | Validation Loss: 0.9127992070638217  | Accuracy: 70.89\n"
     ]
    },
    {
     "name": "stderr",
     "output_type": "stream",
     "text": [
      "390it [01:26,  4.51it/s]\n",
      "100%|██████████████████████████████████████████████████████████| 39/39 [00:02<00:00, 13.61it/s]\n"
     ]
    },
    {
     "name": "stdout",
     "output_type": "stream",
     "text": [
      "Epoch: 104 | Training Loss: 0.1297996984842496  | Validation Loss: 0.9520915196492121  | Accuracy: 71.35\n"
     ]
    },
    {
     "name": "stderr",
     "output_type": "stream",
     "text": [
      "390it [01:26,  4.51it/s]\n",
      "100%|██████████████████████████████████████████████████████████| 39/39 [00:02<00:00, 13.56it/s]\n"
     ]
    },
    {
     "name": "stdout",
     "output_type": "stream",
     "text": [
      "Epoch: 105 | Training Loss: 0.1279483152505679  | Validation Loss: 0.879958783968901  | Accuracy: 71.44\n"
     ]
    },
    {
     "name": "stderr",
     "output_type": "stream",
     "text": [
      "390it [01:26,  4.51it/s]\n",
      "100%|██████████████████████████████████████████████████████████| 39/39 [00:02<00:00, 13.60it/s]\n"
     ]
    },
    {
     "name": "stdout",
     "output_type": "stream",
     "text": [
      "Epoch: 106 | Training Loss: 0.1284487900825647  | Validation Loss: 1.0760836845789201  | Accuracy: 69.19\n"
     ]
    },
    {
     "name": "stderr",
     "output_type": "stream",
     "text": [
      "390it [01:25,  4.54it/s]\n",
      "100%|██████████████████████████████████████████████████████████| 39/39 [00:02<00:00, 13.59it/s]\n"
     ]
    },
    {
     "name": "stdout",
     "output_type": "stream",
     "text": [
      "Epoch: 107 | Training Loss: 0.1266081674931905  | Validation Loss: 0.8316722680360843  | Accuracy: 72.07\n"
     ]
    },
    {
     "name": "stderr",
     "output_type": "stream",
     "text": [
      "390it [01:26,  4.53it/s]\n",
      "100%|██████████████████████████████████████████████████████████| 39/39 [00:02<00:00, 13.54it/s]\n"
     ]
    },
    {
     "name": "stdout",
     "output_type": "stream",
     "text": [
      "Epoch: 108 | Training Loss: 0.12650318707411107  | Validation Loss: 1.324098269144694  | Accuracy: 65.18\n"
     ]
    },
    {
     "name": "stderr",
     "output_type": "stream",
     "text": [
      "390it [01:26,  4.53it/s]\n",
      "100%|██████████████████████████████████████████████████████████| 39/39 [00:02<00:00, 13.51it/s]\n"
     ]
    },
    {
     "name": "stdout",
     "output_type": "stream",
     "text": [
      "Epoch: 109 | Training Loss: 0.12826449242539895  | Validation Loss: 0.7632242639859518  | Accuracy: 73.39\n"
     ]
    },
    {
     "name": "stderr",
     "output_type": "stream",
     "text": [
      "390it [01:25,  4.55it/s]\n",
      "100%|██████████████████████████████████████████████████████████| 39/39 [00:02<00:00, 13.53it/s]\n"
     ]
    },
    {
     "name": "stdout",
     "output_type": "stream",
     "text": [
      "Epoch: 110 | Training Loss: 0.1238877361974655  | Validation Loss: 1.1181460435573871  | Accuracy: 68.83\n"
     ]
    },
    {
     "name": "stderr",
     "output_type": "stream",
     "text": [
      "390it [01:25,  4.55it/s]\n",
      "100%|██████████████████████████████████████████████████████████| 39/39 [00:02<00:00, 13.18it/s]\n"
     ]
    },
    {
     "name": "stdout",
     "output_type": "stream",
     "text": [
      "Epoch: 111 | Training Loss: 0.12362037073725309  | Validation Loss: 0.9542311200728784  | Accuracy: 71.61\n"
     ]
    },
    {
     "name": "stderr",
     "output_type": "stream",
     "text": [
      "390it [01:26,  4.50it/s]\n",
      "100%|██████████████████████████████████████████████████████████| 39/39 [00:02<00:00, 13.79it/s]\n"
     ]
    },
    {
     "name": "stdout",
     "output_type": "stream",
     "text": [
      "Epoch: 112 | Training Loss: 0.12383552331190843  | Validation Loss: 1.0986361152086503  | Accuracy: 69.63\n"
     ]
    },
    {
     "name": "stderr",
     "output_type": "stream",
     "text": [
      "390it [01:26,  4.52it/s]\n",
      "100%|██████████████████████████████████████████████████████████| 39/39 [00:02<00:00, 13.56it/s]\n"
     ]
    },
    {
     "name": "stdout",
     "output_type": "stream",
     "text": [
      "Epoch: 113 | Training Loss: 0.12186588146365605  | Validation Loss: 0.9183731048535078  | Accuracy: 71.63\n"
     ]
    },
    {
     "name": "stderr",
     "output_type": "stream",
     "text": [
      "390it [01:25,  4.55it/s]\n",
      "100%|██████████████████████████████████████████████████████████| 39/39 [00:02<00:00, 13.55it/s]\n"
     ]
    },
    {
     "name": "stdout",
     "output_type": "stream",
     "text": [
      "Epoch: 114 | Training Loss: 0.12124751173915008  | Validation Loss: 0.950552122715192  | Accuracy: 71.17\n"
     ]
    },
    {
     "name": "stderr",
     "output_type": "stream",
     "text": [
      "390it [01:26,  4.52it/s]\n",
      "100%|██████████████████████████████████████████████████████████| 39/39 [00:02<00:00, 13.54it/s]\n"
     ]
    },
    {
     "name": "stdout",
     "output_type": "stream",
     "text": [
      "Epoch: 115 | Training Loss: 0.12215828687334672  | Validation Loss: 1.0073471466700237  | Accuracy: 69.97\n"
     ]
    },
    {
     "name": "stderr",
     "output_type": "stream",
     "text": [
      "390it [01:25,  4.54it/s]\n",
      "100%|██████████████████████████████████████████████████████████| 39/39 [00:02<00:00, 13.57it/s]\n"
     ]
    },
    {
     "name": "stdout",
     "output_type": "stream",
     "text": [
      "Epoch: 116 | Training Loss: 0.12047571594325396  | Validation Loss: 1.0682663183945875  | Accuracy: 69.82\n"
     ]
    },
    {
     "name": "stderr",
     "output_type": "stream",
     "text": [
      "390it [01:25,  4.55it/s]\n",
      "100%|██████████████████████████████████████████████████████████| 39/39 [00:02<00:00, 13.78it/s]\n"
     ]
    },
    {
     "name": "stdout",
     "output_type": "stream",
     "text": [
      "Epoch: 117 | Training Loss: 0.11922908496016112  | Validation Loss: 0.9486841055063101  | Accuracy: 70.54\n"
     ]
    },
    {
     "name": "stderr",
     "output_type": "stream",
     "text": [
      "390it [01:25,  4.54it/s]\n",
      "100%|██████████████████████████████████████████████████████████| 39/39 [00:02<00:00, 13.53it/s]\n"
     ]
    },
    {
     "name": "stdout",
     "output_type": "stream",
     "text": [
      "Epoch: 118 | Training Loss: 0.11813713682767672  | Validation Loss: 1.09702068567276  | Accuracy: 69.85\n"
     ]
    },
    {
     "name": "stderr",
     "output_type": "stream",
     "text": [
      "390it [01:25,  4.56it/s]\n",
      "100%|██████████████████████████████████████████████████████████| 39/39 [00:02<00:00, 13.63it/s]\n"
     ]
    },
    {
     "name": "stdout",
     "output_type": "stream",
     "text": [
      "Epoch: 119 | Training Loss: 0.11773478176731329  | Validation Loss: 1.1087980086986835  | Accuracy: 69.72\n"
     ]
    },
    {
     "name": "stderr",
     "output_type": "stream",
     "text": [
      "390it [01:25,  4.54it/s]\n",
      "100%|██████████████████████████████████████████████████████████| 39/39 [00:02<00:00, 13.62it/s]\n"
     ]
    },
    {
     "name": "stdout",
     "output_type": "stream",
     "text": [
      "Epoch: 120 | Training Loss: 0.11833357742199531  | Validation Loss: 1.1231983930636675  | Accuracy: 69.27\n"
     ]
    },
    {
     "name": "stderr",
     "output_type": "stream",
     "text": [
      "390it [01:25,  4.54it/s]\n",
      "100%|██████████████████████████████████████████████████████████| 39/39 [00:02<00:00, 13.54it/s]\n"
     ]
    },
    {
     "name": "stdout",
     "output_type": "stream",
     "text": [
      "Epoch: 121 | Training Loss: 0.11674811329979162  | Validation Loss: 0.9797049225905002  | Accuracy: 70.65\n"
     ]
    },
    {
     "name": "stderr",
     "output_type": "stream",
     "text": [
      "390it [01:26,  4.53it/s]\n",
      "100%|██████████████████████████████████████████████████████████| 39/39 [00:02<00:00, 13.57it/s]\n"
     ]
    },
    {
     "name": "stdout",
     "output_type": "stream",
     "text": [
      "Epoch: 122 | Training Loss: 0.11607126301297775  | Validation Loss: 1.1985428455548408  | Accuracy: 68.46\n"
     ]
    },
    {
     "name": "stderr",
     "output_type": "stream",
     "text": [
      "390it [01:25,  4.54it/s]\n",
      "100%|██████████████████████████████████████████████████████████| 39/39 [00:02<00:00, 13.53it/s]\n"
     ]
    },
    {
     "name": "stdout",
     "output_type": "stream",
     "text": [
      "Epoch: 123 | Training Loss: 0.1138886700073878  | Validation Loss: 0.9214816215710763  | Accuracy: 71.14\n"
     ]
    },
    {
     "name": "stderr",
     "output_type": "stream",
     "text": [
      "390it [01:26,  4.53it/s]\n",
      "100%|██████████████████████████████████████████████████████████| 39/39 [00:02<00:00, 13.56it/s]\n"
     ]
    },
    {
     "name": "stdout",
     "output_type": "stream",
     "text": [
      "Epoch: 124 | Training Loss: 0.11666957325278185  | Validation Loss: 1.0986739351199224  | Accuracy: 69.62\n"
     ]
    },
    {
     "name": "stderr",
     "output_type": "stream",
     "text": [
      "390it [01:25,  4.56it/s]\n",
      "100%|██████████████████████████████████████████████████████████| 39/39 [00:02<00:00, 13.56it/s]\n"
     ]
    },
    {
     "name": "stdout",
     "output_type": "stream",
     "text": [
      "Epoch: 125 | Training Loss: 0.11602266411750745  | Validation Loss: 1.144393529647436  | Accuracy: 69.40\n"
     ]
    },
    {
     "name": "stderr",
     "output_type": "stream",
     "text": [
      "390it [01:25,  4.54it/s]\n",
      "100%|██████████████████████████████████████████████████████████| 39/39 [00:02<00:00, 13.57it/s]\n"
     ]
    },
    {
     "name": "stdout",
     "output_type": "stream",
     "text": [
      "Epoch: 126 | Training Loss: 0.11280631098227623  | Validation Loss: 0.8973455383227422  | Accuracy: 72.56\n"
     ]
    },
    {
     "name": "stderr",
     "output_type": "stream",
     "text": [
      "390it [01:25,  4.55it/s]\n",
      "100%|██████████████████████████████████████████████████████████| 39/39 [00:02<00:00, 13.23it/s]\n"
     ]
    },
    {
     "name": "stdout",
     "output_type": "stream",
     "text": [
      "Epoch: 127 | Training Loss: 0.11305841925816658  | Validation Loss: 1.1387701370777228  | Accuracy: 69.41\n"
     ]
    },
    {
     "name": "stderr",
     "output_type": "stream",
     "text": [
      "390it [01:25,  4.57it/s]\n",
      "100%|██████████████████████████████████████████████████████████| 39/39 [00:02<00:00, 13.60it/s]\n"
     ]
    },
    {
     "name": "stdout",
     "output_type": "stream",
     "text": [
      "Epoch: 128 | Training Loss: 0.11065989516866513  | Validation Loss: 1.3465342429968028  | Accuracy: 66.00\n"
     ]
    },
    {
     "name": "stderr",
     "output_type": "stream",
     "text": [
      "390it [01:25,  4.56it/s]\n",
      "100%|██████████████████████████████████████████████████████████| 39/39 [00:02<00:00, 13.58it/s]\n"
     ]
    },
    {
     "name": "stdout",
     "output_type": "stream",
     "text": [
      "Epoch: 129 | Training Loss: 0.1120283204011428  | Validation Loss: 1.2409094235835931  | Accuracy: 69.28\n"
     ]
    },
    {
     "name": "stderr",
     "output_type": "stream",
     "text": [
      "390it [01:25,  4.54it/s]\n",
      "100%|██████████████████████████████████████████████████████████| 39/39 [00:02<00:00, 13.57it/s]\n"
     ]
    },
    {
     "name": "stdout",
     "output_type": "stream",
     "text": [
      "Epoch: 130 | Training Loss: 0.11316758061830814  | Validation Loss: 1.390447274232522  | Accuracy: 66.73\n"
     ]
    },
    {
     "name": "stderr",
     "output_type": "stream",
     "text": [
      "390it [01:25,  4.54it/s]\n",
      "100%|██████████████████████████████████████████████████████████| 39/39 [00:02<00:00, 13.58it/s]\n"
     ]
    },
    {
     "name": "stdout",
     "output_type": "stream",
     "text": [
      "Epoch: 131 | Training Loss: 0.11066123643555702  | Validation Loss: 1.1989635015145326  | Accuracy: 67.81\n"
     ]
    },
    {
     "name": "stderr",
     "output_type": "stream",
     "text": [
      "390it [01:25,  4.56it/s]\n",
      "100%|██████████████████████████████████████████████████████████| 39/39 [00:02<00:00, 13.54it/s]\n"
     ]
    },
    {
     "name": "stdout",
     "output_type": "stream",
     "text": [
      "Epoch: 132 | Training Loss: 0.11133074932373486  | Validation Loss: 1.2057194373546503  | Accuracy: 68.13\n"
     ]
    },
    {
     "name": "stderr",
     "output_type": "stream",
     "text": [
      "390it [01:25,  4.58it/s]\n",
      "100%|██████████████████████████████████████████████████████████| 39/39 [00:02<00:00, 13.47it/s]\n"
     ]
    },
    {
     "name": "stdout",
     "output_type": "stream",
     "text": [
      "Epoch: 133 | Training Loss: 0.11009802089478725  | Validation Loss: 1.1240393351285884  | Accuracy: 69.47\n"
     ]
    },
    {
     "name": "stderr",
     "output_type": "stream",
     "text": [
      "390it [01:25,  4.56it/s]\n",
      "100%|██████████████████████████████████████████████████████████| 39/39 [00:02<00:00, 13.56it/s]\n"
     ]
    },
    {
     "name": "stdout",
     "output_type": "stream",
     "text": [
      "Epoch: 134 | Training Loss: 0.10719373324551644  | Validation Loss: 1.064860502878825  | Accuracy: 69.33\n"
     ]
    },
    {
     "name": "stderr",
     "output_type": "stream",
     "text": [
      "390it [01:24,  4.61it/s]\n",
      "100%|██████████████████████████████████████████████████████████| 39/39 [00:02<00:00, 13.53it/s]\n"
     ]
    },
    {
     "name": "stdout",
     "output_type": "stream",
     "text": [
      "Epoch: 135 | Training Loss: 0.10900815439720948  | Validation Loss: 0.9723529433592771  | Accuracy: 71.27\n"
     ]
    },
    {
     "name": "stderr",
     "output_type": "stream",
     "text": [
      "390it [01:25,  4.56it/s]\n",
      "100%|██████████████████████████████████████████████████████████| 39/39 [00:02<00:00, 13.59it/s]\n"
     ]
    },
    {
     "name": "stdout",
     "output_type": "stream",
     "text": [
      "Epoch: 136 | Training Loss: 0.10652437428824413  | Validation Loss: 1.1500594432537372  | Accuracy: 69.88\n"
     ]
    },
    {
     "name": "stderr",
     "output_type": "stream",
     "text": [
      "390it [01:24,  4.60it/s]\n",
      "100%|██████████████████████████████████████████████████████████| 39/39 [00:02<00:00, 13.54it/s]\n"
     ]
    },
    {
     "name": "stdout",
     "output_type": "stream",
     "text": [
      "Epoch: 137 | Training Loss: 0.10778384099786098  | Validation Loss: 1.1330849192081354  | Accuracy: 69.74\n"
     ]
    },
    {
     "name": "stderr",
     "output_type": "stream",
     "text": [
      "390it [01:24,  4.59it/s]\n",
      "100%|██████████████████████████████████████████████████████████| 39/39 [00:02<00:00, 13.56it/s]\n"
     ]
    },
    {
     "name": "stdout",
     "output_type": "stream",
     "text": [
      "Epoch: 138 | Training Loss: 0.10530439844498267  | Validation Loss: 0.953801616644248  | Accuracy: 71.59\n"
     ]
    },
    {
     "name": "stderr",
     "output_type": "stream",
     "text": [
      "390it [01:25,  4.55it/s]\n",
      "100%|██████████████████████████████████████████████████████████| 39/39 [00:02<00:00, 13.56it/s]\n"
     ]
    },
    {
     "name": "stdout",
     "output_type": "stream",
     "text": [
      "Epoch: 139 | Training Loss: 0.10548046893225266  | Validation Loss: 0.9172425453479474  | Accuracy: 72.41\n"
     ]
    },
    {
     "name": "stderr",
     "output_type": "stream",
     "text": [
      "390it [01:24,  4.61it/s]\n",
      "100%|██████████████████████████████████████████████████████████| 39/39 [00:02<00:00, 13.54it/s]\n"
     ]
    },
    {
     "name": "stdout",
     "output_type": "stream",
     "text": [
      "Epoch: 140 | Training Loss: 0.10531566869945098  | Validation Loss: 0.9490110965875479  | Accuracy: 72.44\n"
     ]
    },
    {
     "name": "stderr",
     "output_type": "stream",
     "text": [
      "390it [01:25,  4.58it/s]\n",
      "100%|██████████████████████████████████████████████████████████| 39/39 [00:02<00:00, 13.78it/s]\n"
     ]
    },
    {
     "name": "stdout",
     "output_type": "stream",
     "text": [
      "Epoch: 141 | Training Loss: 0.10385700339117111  | Validation Loss: 1.043475247346438  | Accuracy: 70.90\n"
     ]
    },
    {
     "name": "stderr",
     "output_type": "stream",
     "text": [
      "390it [01:25,  4.59it/s]\n",
      "100%|██████████████████████████████████████████████████████████| 39/39 [00:02<00:00, 13.59it/s]\n"
     ]
    },
    {
     "name": "stdout",
     "output_type": "stream",
     "text": [
      "Epoch: 142 | Training Loss: 0.10250292351612678  | Validation Loss: 1.0187333837533608  | Accuracy: 71.75\n"
     ]
    },
    {
     "name": "stderr",
     "output_type": "stream",
     "text": [
      "390it [01:24,  4.59it/s]\n",
      "100%|██████████████████████████████████████████████████████████| 39/39 [00:02<00:00, 13.52it/s]\n"
     ]
    },
    {
     "name": "stdout",
     "output_type": "stream",
     "text": [
      "Epoch: 143 | Training Loss: 0.10502268921297331  | Validation Loss: 1.1016302444995978  | Accuracy: 69.75\n"
     ]
    },
    {
     "name": "stderr",
     "output_type": "stream",
     "text": [
      "390it [01:27,  4.46it/s]\n",
      "100%|██████████████████████████████████████████████████████████| 39/39 [00:02<00:00, 13.60it/s]\n"
     ]
    },
    {
     "name": "stdout",
     "output_type": "stream",
     "text": [
      "Epoch: 144 | Training Loss: 0.10241884795519021  | Validation Loss: 1.0803955013935382  | Accuracy: 69.97\n"
     ]
    },
    {
     "name": "stderr",
     "output_type": "stream",
     "text": [
      "390it [01:27,  4.48it/s]\n",
      "100%|██████████████████████████████████████████████████████████| 39/39 [00:02<00:00, 13.53it/s]\n"
     ]
    },
    {
     "name": "stdout",
     "output_type": "stream",
     "text": [
      "Epoch: 145 | Training Loss: 0.1024156038195659  | Validation Loss: 1.2071847426585662  | Accuracy: 68.53\n"
     ]
    },
    {
     "name": "stderr",
     "output_type": "stream",
     "text": [
      "390it [01:26,  4.50it/s]\n",
      "100%|██████████████████████████████████████████████████████████| 39/39 [00:02<00:00, 13.48it/s]\n"
     ]
    },
    {
     "name": "stdout",
     "output_type": "stream",
     "text": [
      "Epoch: 146 | Training Loss: 0.09985796165389893  | Validation Loss: 0.9712458955935943  | Accuracy: 72.64\n"
     ]
    },
    {
     "name": "stderr",
     "output_type": "stream",
     "text": [
      "390it [01:26,  4.53it/s]\n",
      "100%|██████████████████████████████████████████████████████████| 39/39 [00:02<00:00, 13.18it/s]\n"
     ]
    },
    {
     "name": "stdout",
     "output_type": "stream",
     "text": [
      "Epoch: 147 | Training Loss: 0.10111891460151244  | Validation Loss: 1.0140878695708055  | Accuracy: 71.51\n"
     ]
    },
    {
     "name": "stderr",
     "output_type": "stream",
     "text": [
      "390it [01:25,  4.55it/s]\n",
      "100%|██████████████████████████████████████████████████████████| 39/39 [00:02<00:00, 13.60it/s]\n"
     ]
    },
    {
     "name": "stdout",
     "output_type": "stream",
     "text": [
      "Epoch: 148 | Training Loss: 0.10036982188049035  | Validation Loss: 1.0054799241897387  | Accuracy: 71.12\n"
     ]
    },
    {
     "name": "stderr",
     "output_type": "stream",
     "text": [
      "390it [01:27,  4.47it/s]\n",
      "100%|██████████████████████████████████████████████████████████| 39/39 [00:02<00:00, 13.55it/s]\n"
     ]
    },
    {
     "name": "stdout",
     "output_type": "stream",
     "text": [
      "Epoch: 149 | Training Loss: 0.1020613288650146  | Validation Loss: 1.2471823997986622  | Accuracy: 67.94\n"
     ]
    },
    {
     "name": "stderr",
     "output_type": "stream",
     "text": [
      "390it [01:25,  4.54it/s]\n",
      "100%|██████████████████████████████████████████████████████████| 39/39 [00:02<00:00, 13.58it/s]\n"
     ]
    },
    {
     "name": "stdout",
     "output_type": "stream",
     "text": [
      "Epoch: 150 | Training Loss: 0.10116683923854278  | Validation Loss: 1.0442830690970788  | Accuracy: 71.78\n"
     ]
    },
    {
     "name": "stderr",
     "output_type": "stream",
     "text": [
      "390it [01:26,  4.53it/s]\n",
      "100%|██████████████████████████████████████████████████████████| 39/39 [00:02<00:00, 13.61it/s]\n"
     ]
    },
    {
     "name": "stdout",
     "output_type": "stream",
     "text": [
      "Epoch: 151 | Training Loss: 0.09997799179683893  | Validation Loss: 1.2257186602323482  | Accuracy: 67.42\n"
     ]
    },
    {
     "name": "stderr",
     "output_type": "stream",
     "text": [
      "390it [01:26,  4.52it/s]\n",
      "100%|██████████████████████████████████████████████████████████| 39/39 [00:02<00:00, 13.48it/s]\n"
     ]
    },
    {
     "name": "stdout",
     "output_type": "stream",
     "text": [
      "Epoch: 152 | Training Loss: 0.09758481780687968  | Validation Loss: 1.2919928416227684  | Accuracy: 67.90\n"
     ]
    },
    {
     "name": "stderr",
     "output_type": "stream",
     "text": [
      "390it [01:26,  4.50it/s]\n",
      "100%|██████████████████████████████████████████████████████████| 39/39 [00:02<00:00, 13.52it/s]\n"
     ]
    },
    {
     "name": "stdout",
     "output_type": "stream",
     "text": [
      "Epoch: 153 | Training Loss: 0.0989643623909125  | Validation Loss: 1.238927648617671  | Accuracy: 68.64\n"
     ]
    },
    {
     "name": "stderr",
     "output_type": "stream",
     "text": [
      "390it [01:26,  4.51it/s]\n",
      "100%|██████████████████████████████████████████████████████████| 39/39 [00:02<00:00, 13.55it/s]\n"
     ]
    },
    {
     "name": "stdout",
     "output_type": "stream",
     "text": [
      "Epoch: 154 | Training Loss: 0.09893322665339861  | Validation Loss: 0.9237252122316605  | Accuracy: 72.65\n"
     ]
    },
    {
     "name": "stderr",
     "output_type": "stream",
     "text": [
      "390it [01:26,  4.50it/s]\n",
      "100%|██████████████████████████████████████████████████████████| 39/39 [00:02<00:00, 13.50it/s]\n"
     ]
    },
    {
     "name": "stdout",
     "output_type": "stream",
     "text": [
      "Epoch: 155 | Training Loss: 0.09776433664254654  | Validation Loss: 1.1782283355028202  | Accuracy: 69.49\n"
     ]
    },
    {
     "name": "stderr",
     "output_type": "stream",
     "text": [
      "390it [01:26,  4.50it/s]\n",
      "100%|██████████████████████████████████████████████████████████| 39/39 [00:02<00:00, 13.54it/s]\n"
     ]
    },
    {
     "name": "stdout",
     "output_type": "stream",
     "text": [
      "Epoch: 156 | Training Loss: 0.09883117324266678  | Validation Loss: 1.1571920391840813  | Accuracy: 70.61\n"
     ]
    },
    {
     "name": "stderr",
     "output_type": "stream",
     "text": [
      "390it [01:26,  4.50it/s]\n",
      "100%|██████████████████████████████████████████████████████████| 39/39 [00:02<00:00, 13.44it/s]\n"
     ]
    },
    {
     "name": "stdout",
     "output_type": "stream",
     "text": [
      "Epoch: 157 | Training Loss: 0.0967902171688202  | Validation Loss: 1.0799442055897834  | Accuracy: 70.31\n"
     ]
    },
    {
     "name": "stderr",
     "output_type": "stream",
     "text": [
      "390it [01:26,  4.49it/s]\n",
      "100%|██████████████████████████████████████████████████████████| 39/39 [00:02<00:00, 13.60it/s]\n"
     ]
    },
    {
     "name": "stdout",
     "output_type": "stream",
     "text": [
      "Epoch: 158 | Training Loss: 0.09702117389593369  | Validation Loss: 1.0179978425686176  | Accuracy: 72.00\n"
     ]
    },
    {
     "name": "stderr",
     "output_type": "stream",
     "text": [
      "390it [01:25,  4.56it/s]\n",
      "100%|██████████████████████████████████████████████████████████| 39/39 [00:02<00:00, 14.06it/s]\n"
     ]
    },
    {
     "name": "stdout",
     "output_type": "stream",
     "text": [
      "Epoch: 159 | Training Loss: 0.09728190564574339  | Validation Loss: 1.1112255362363963  | Accuracy: 69.58\n"
     ]
    },
    {
     "name": "stderr",
     "output_type": "stream",
     "text": [
      "390it [01:27,  4.48it/s]\n",
      "100%|██████████████████████████████████████████████████████████| 39/39 [00:02<00:00, 13.63it/s]\n"
     ]
    },
    {
     "name": "stdout",
     "output_type": "stream",
     "text": [
      "Epoch: 160 | Training Loss: 0.095779388378828  | Validation Loss: 0.9581718674072852  | Accuracy: 72.60\n"
     ]
    },
    {
     "name": "stderr",
     "output_type": "stream",
     "text": [
      "390it [01:27,  4.47it/s]\n",
      "100%|██████████████████████████████████████████████████████████| 39/39 [00:02<00:00, 13.59it/s]\n"
     ]
    },
    {
     "name": "stdout",
     "output_type": "stream",
     "text": [
      "Epoch: 161 | Training Loss: 0.09577130158551228  | Validation Loss: 0.9892318997627649  | Accuracy: 72.66\n"
     ]
    },
    {
     "name": "stderr",
     "output_type": "stream",
     "text": [
      "390it [01:27,  4.47it/s]\n",
      "100%|██████████████████████████████████████████████████████████| 39/39 [00:02<00:00, 13.64it/s]\n"
     ]
    },
    {
     "name": "stdout",
     "output_type": "stream",
     "text": [
      "Epoch: 162 | Training Loss: 0.09319865316725694  | Validation Loss: 1.1165156395007403  | Accuracy: 69.51\n"
     ]
    },
    {
     "name": "stderr",
     "output_type": "stream",
     "text": [
      "390it [01:27,  4.47it/s]\n",
      "100%|██████████████████████████████████████████████████████████| 39/39 [00:02<00:00, 13.63it/s]\n"
     ]
    },
    {
     "name": "stdout",
     "output_type": "stream",
     "text": [
      "Epoch: 163 | Training Loss: 0.0957783494144678  | Validation Loss: 0.9511972665786743  | Accuracy: 72.91\n"
     ]
    },
    {
     "name": "stderr",
     "output_type": "stream",
     "text": [
      "390it [01:27,  4.47it/s]\n",
      "100%|██████████████████████████████████████████████████████████| 39/39 [00:02<00:00, 13.62it/s]\n"
     ]
    },
    {
     "name": "stdout",
     "output_type": "stream",
     "text": [
      "Epoch: 164 | Training Loss: 0.09529883492833528  | Validation Loss: 1.0903511047363281  | Accuracy: 70.90\n"
     ]
    },
    {
     "name": "stderr",
     "output_type": "stream",
     "text": [
      "390it [01:27,  4.47it/s]\n",
      "100%|██████████████████████████████████████████████████████████| 39/39 [00:02<00:00, 13.63it/s]\n"
     ]
    },
    {
     "name": "stdout",
     "output_type": "stream",
     "text": [
      "Epoch: 165 | Training Loss: 0.0950098736737019  | Validation Loss: 0.8844255361801538  | Accuracy: 73.76\n"
     ]
    },
    {
     "name": "stderr",
     "output_type": "stream",
     "text": [
      "390it [01:27,  4.47it/s]\n",
      "100%|██████████████████████████████████████████████████████████| 39/39 [00:02<00:00, 13.54it/s]\n"
     ]
    },
    {
     "name": "stdout",
     "output_type": "stream",
     "text": [
      "Epoch: 166 | Training Loss: 0.09219095591360178  | Validation Loss: 1.1023110136007652  | Accuracy: 71.10\n"
     ]
    },
    {
     "name": "stderr",
     "output_type": "stream",
     "text": [
      "390it [01:27,  4.47it/s]\n",
      "100%|██████████████████████████████████████████████████████████| 39/39 [00:02<00:00, 13.66it/s]\n"
     ]
    },
    {
     "name": "stdout",
     "output_type": "stream",
     "text": [
      "Epoch: 167 | Training Loss: 0.09274306652637629  | Validation Loss: 1.021825868349809  | Accuracy: 72.18\n"
     ]
    },
    {
     "name": "stderr",
     "output_type": "stream",
     "text": [
      "390it [01:27,  4.47it/s]\n",
      "100%|██████████████████████████████████████████████████████████| 39/39 [00:02<00:00, 13.61it/s]\n"
     ]
    },
    {
     "name": "stdout",
     "output_type": "stream",
     "text": [
      "Epoch: 168 | Training Loss: 0.09355039782822132  | Validation Loss: 1.1409283326222346  | Accuracy: 70.82\n"
     ]
    },
    {
     "name": "stderr",
     "output_type": "stream",
     "text": [
      "390it [01:27,  4.47it/s]\n",
      "100%|██████████████████████████████████████████████████████████| 39/39 [00:02<00:00, 13.61it/s]\n"
     ]
    },
    {
     "name": "stdout",
     "output_type": "stream",
     "text": [
      "Epoch: 169 | Training Loss: 0.09500604593792022  | Validation Loss: 1.2796885264225495  | Accuracy: 68.68\n"
     ]
    },
    {
     "name": "stderr",
     "output_type": "stream",
     "text": [
      "390it [01:27,  4.47it/s]\n",
      "100%|██████████████████████████████████████████████████████████| 39/39 [00:02<00:00, 13.61it/s]\n"
     ]
    },
    {
     "name": "stdout",
     "output_type": "stream",
     "text": [
      "Epoch: 170 | Training Loss: 0.09232674677593586  | Validation Loss: 1.0614440441131592  | Accuracy: 71.65\n"
     ]
    },
    {
     "name": "stderr",
     "output_type": "stream",
     "text": [
      "390it [01:27,  4.46it/s]\n",
      "100%|██████████████████████████████████████████████████████████| 39/39 [00:02<00:00, 13.60it/s]\n"
     ]
    },
    {
     "name": "stdout",
     "output_type": "stream",
     "text": [
      "Epoch: 171 | Training Loss: 0.09285803449650605  | Validation Loss: 1.1830214231442182  | Accuracy: 68.67\n"
     ]
    },
    {
     "name": "stderr",
     "output_type": "stream",
     "text": [
      "390it [01:27,  4.46it/s]\n",
      "100%|██████████████████████████████████████████████████████████| 39/39 [00:02<00:00, 13.62it/s]\n"
     ]
    },
    {
     "name": "stdout",
     "output_type": "stream",
     "text": [
      "Epoch: 172 | Training Loss: 0.09319837314960285  | Validation Loss: 1.1680047741303077  | Accuracy: 69.69\n"
     ]
    },
    {
     "name": "stderr",
     "output_type": "stream",
     "text": [
      "390it [01:27,  4.45it/s]\n",
      "100%|██████████████████████████████████████████████████████████| 39/39 [00:02<00:00, 13.61it/s]\n"
     ]
    },
    {
     "name": "stdout",
     "output_type": "stream",
     "text": [
      "Epoch: 173 | Training Loss: 0.09068666552312864  | Validation Loss: 0.9452375295834664  | Accuracy: 73.36\n"
     ]
    },
    {
     "name": "stderr",
     "output_type": "stream",
     "text": [
      "390it [01:27,  4.44it/s]\n",
      "100%|██████████████████████████████████████████████████████████| 39/39 [00:02<00:00, 13.58it/s]\n"
     ]
    },
    {
     "name": "stdout",
     "output_type": "stream",
     "text": [
      "Epoch: 174 | Training Loss: 0.09032545233002076  | Validation Loss: 1.0949611510985937  | Accuracy: 71.46\n"
     ]
    },
    {
     "name": "stderr",
     "output_type": "stream",
     "text": [
      "390it [01:27,  4.45it/s]\n",
      "100%|██████████████████████████████████████████████████████████| 39/39 [00:02<00:00, 13.59it/s]\n"
     ]
    },
    {
     "name": "stdout",
     "output_type": "stream",
     "text": [
      "Epoch: 175 | Training Loss: 0.09042132653487034  | Validation Loss: 1.1086881023186903  | Accuracy: 70.53\n"
     ]
    },
    {
     "name": "stderr",
     "output_type": "stream",
     "text": [
      "390it [01:27,  4.44it/s]\n",
      "100%|██████████████████████████████████████████████████████████| 39/39 [00:02<00:00, 13.61it/s]\n"
     ]
    },
    {
     "name": "stdout",
     "output_type": "stream",
     "text": [
      "Epoch: 176 | Training Loss: 0.08799600102580511  | Validation Loss: 1.050339625431941  | Accuracy: 71.94\n"
     ]
    },
    {
     "name": "stderr",
     "output_type": "stream",
     "text": [
      "390it [01:27,  4.44it/s]\n",
      "100%|██████████████████████████████████████████████████████████| 39/39 [00:02<00:00, 13.62it/s]\n"
     ]
    },
    {
     "name": "stdout",
     "output_type": "stream",
     "text": [
      "Epoch: 177 | Training Loss: 0.0894558981156502  | Validation Loss: 1.148533087510329  | Accuracy: 70.30\n"
     ]
    },
    {
     "name": "stderr",
     "output_type": "stream",
     "text": [
      "390it [01:26,  4.49it/s]\n",
      "100%|██████████████████████████████████████████████████████████| 39/39 [00:02<00:00, 13.50it/s]\n"
     ]
    },
    {
     "name": "stdout",
     "output_type": "stream",
     "text": [
      "Epoch: 178 | Training Loss: 0.0884105683137209  | Validation Loss: 1.1836814269041405  | Accuracy: 69.48\n"
     ]
    },
    {
     "name": "stderr",
     "output_type": "stream",
     "text": [
      "390it [01:26,  4.50it/s]\n",
      "100%|██████████████████████████████████████████████████████████| 39/39 [00:02<00:00, 13.50it/s]\n"
     ]
    },
    {
     "name": "stdout",
     "output_type": "stream",
     "text": [
      "Epoch: 179 | Training Loss: 0.08975564096218501  | Validation Loss: 1.1547405673907354  | Accuracy: 71.38\n"
     ]
    },
    {
     "name": "stderr",
     "output_type": "stream",
     "text": [
      "390it [01:26,  4.49it/s]\n",
      "100%|██████████████████████████████████████████████████████████| 39/39 [00:02<00:00, 13.63it/s]\n"
     ]
    },
    {
     "name": "stdout",
     "output_type": "stream",
     "text": [
      "Epoch: 180 | Training Loss: 0.08537420491950634  | Validation Loss: 1.1288665303817162  | Accuracy: 70.37\n"
     ]
    },
    {
     "name": "stderr",
     "output_type": "stream",
     "text": [
      "390it [01:27,  4.46it/s]\n",
      "100%|██████████████████████████████████████████████████████████| 39/39 [00:02<00:00, 13.63it/s]\n"
     ]
    },
    {
     "name": "stdout",
     "output_type": "stream",
     "text": [
      "Epoch: 181 | Training Loss: 0.09058623522137985  | Validation Loss: 0.9060096649023203  | Accuracy: 73.14\n"
     ]
    },
    {
     "name": "stderr",
     "output_type": "stream",
     "text": [
      "390it [01:27,  4.46it/s]\n",
      "100%|██████████████████████████████████████████████████████████| 39/39 [00:02<00:00, 13.61it/s]\n"
     ]
    },
    {
     "name": "stdout",
     "output_type": "stream",
     "text": [
      "Epoch: 182 | Training Loss: 0.08730297608253283  | Validation Loss: 1.0709015971575029  | Accuracy: 70.67\n"
     ]
    },
    {
     "name": "stderr",
     "output_type": "stream",
     "text": [
      "374it [01:23,  4.46it/s]\n"
     ]
    },
    {
     "data": {
      "text/html": [
       "Waiting for W&B process to finish... <strong style=\"color:red\">(failed 1).</strong> Press Control-C to abort syncing."
      ],
      "text/plain": [
       "<IPython.core.display.HTML object>"
      ]
     },
     "metadata": {},
     "output_type": "display_data"
    }
   ],
   "source": [
    "\n",
    "model_pipeline(config)"
   ]
  },
  {
   "cell_type": "code",
   "execution_count": null,
   "id": "9ce2f691",
   "metadata": {
    "scrolled": true
   },
   "outputs": [],
   "source": []
  },
  {
   "cell_type": "markdown",
   "id": "e6f6413e",
   "metadata": {},
   "source": [
    "### 7. Testing model"
   ]
  },
  {
   "cell_type": "code",
   "execution_count": null,
   "id": "effe6561",
   "metadata": {},
   "outputs": [],
   "source": [
    "model = bert"
   ]
  }
 ],
 "metadata": {
  "kernelspec": {
   "display_name": "Python 3 (ipykernel)",
   "language": "python",
   "name": "python3"
  },
  "language_info": {
   "codemirror_mode": {
    "name": "ipython",
    "version": 3
   },
   "file_extension": ".py",
   "mimetype": "text/x-python",
   "name": "python",
   "nbconvert_exporter": "python",
   "pygments_lexer": "ipython3",
   "version": "3.9.12"
  }
 },
 "nbformat": 4,
 "nbformat_minor": 5
}

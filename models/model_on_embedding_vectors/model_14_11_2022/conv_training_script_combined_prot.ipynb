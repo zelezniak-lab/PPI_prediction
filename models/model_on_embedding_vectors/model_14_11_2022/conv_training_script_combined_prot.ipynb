{
 "cells": [
  {
   "cell_type": "code",
   "execution_count": 1,
   "id": "34491f6c-6440-4d93-82bb-6e7664cbf005",
   "metadata": {},
   "outputs": [],
   "source": [
    "from tqdm import tqdm\n",
    "import numpy as np\n",
    "import pandas as pd\n",
    "import matplotlib.pyplot as plt\n",
    "import torch\n",
    "import torch.nn as nn\n",
    "import torch.optim as optim\n",
    "from torch.utils.data import Dataset, DataLoader\n",
    "from sklearn.metrics import  confusion_matrix, ConfusionMatrixDisplay\n",
    "from sklearn.metrics import plot_confusion_matrix\n",
    "from matplotlib.pyplot import figure\n",
    "\n",
    "import sys\n",
    "sys.setrecursionlimit(1000000)"
   ]
  },
  {
   "cell_type": "code",
   "execution_count": 2,
   "id": "456d5718-3845-40f7-b51f-c9c2a3a705be",
   "metadata": {},
   "outputs": [
    {
     "name": "stdout",
     "output_type": "stream",
     "text": [
      "/bin/bash: /home/anwer/anaconda3/lib/libtinfo.so.6: no version information available (required by /bin/bash)\r\n",
      "Mon Nov 14 12:31:17 2022       \r\n",
      "+-----------------------------------------------------------------------------+\r\n",
      "| NVIDIA-SMI 515.65.01    Driver Version: 515.65.01    CUDA Version: 11.7     |\r\n",
      "|-------------------------------+----------------------+----------------------+\r\n",
      "| GPU  Name        Persistence-M| Bus-Id        Disp.A | Volatile Uncorr. ECC |\r\n",
      "| Fan  Temp  Perf  Pwr:Usage/Cap|         Memory-Usage | GPU-Util  Compute M. |\r\n",
      "|                               |                      |               MIG M. |\r\n",
      "|===============================+======================+======================|\r\n",
      "|   0  NVIDIA GeForce ...  Off  | 00000000:01:00.0  On |                  N/A |\r\n",
      "| N/A   68C    P8    15W /  N/A |     46MiB /  6144MiB |     20%      Default |\r\n",
      "|                               |                      |                  N/A |\r\n",
      "+-------------------------------+----------------------+----------------------+\r\n",
      "                                                                               \r\n",
      "+-----------------------------------------------------------------------------+\r\n",
      "| Processes:                                                                  |\r\n",
      "|  GPU   GI   CI        PID   Type   Process name                  GPU Memory |\r\n",
      "|        ID   ID                                                   Usage      |\r\n",
      "|=============================================================================|\r\n",
      "|    0   N/A  N/A      1120      G   /usr/lib/xorg/Xorg                 45MiB |\r\n",
      "+-----------------------------------------------------------------------------+\r\n"
     ]
    }
   ],
   "source": [
    "\n",
    "!nvidia-smi"
   ]
  },
  {
   "cell_type": "code",
   "execution_count": 3,
   "id": "03017144-5be8-49eb-adac-4c30fb886064",
   "metadata": {},
   "outputs": [],
   "source": [
    "data_frame_train = pd.read_csv(\"../../csv_files_new_ppi/training_and_test_set/combined_prot_a_prot_b/combined_embedding_subset_train.csv\")\n",
    "data_frame_test = pd.read_csv(\"../../csv_files_new_ppi/training_and_test_set/combined_prot_a_prot_b/combined_embedding_subset_test.csv\")\n",
    "data_frame_val = pd.read_csv(\"../../csv_files_new_ppi/training_and_test_set/combined_prot_a_prot_b/combined_embedding_subset_val.csv\")"
   ]
  },
  {
   "cell_type": "code",
   "execution_count": 4,
   "id": "bf6d7d49-50e7-45f2-8de0-d3c7882dc7f4",
   "metadata": {},
   "outputs": [
    {
     "data": {
      "text/html": [
       "<div>\n",
       "<style scoped>\n",
       "    .dataframe tbody tr th:only-of-type {\n",
       "        vertical-align: middle;\n",
       "    }\n",
       "\n",
       "    .dataframe tbody tr th {\n",
       "        vertical-align: top;\n",
       "    }\n",
       "\n",
       "    .dataframe thead th {\n",
       "        text-align: right;\n",
       "    }\n",
       "</style>\n",
       "<table border=\"1\" class=\"dataframe\">\n",
       "  <thead>\n",
       "    <tr style=\"text-align: right;\">\n",
       "      <th></th>\n",
       "      <th>0</th>\n",
       "      <th>1</th>\n",
       "      <th>2</th>\n",
       "      <th>3</th>\n",
       "      <th>4</th>\n",
       "      <th>5</th>\n",
       "      <th>6</th>\n",
       "      <th>7</th>\n",
       "      <th>8</th>\n",
       "      <th>9</th>\n",
       "      <th>...</th>\n",
       "      <th>1015</th>\n",
       "      <th>1016</th>\n",
       "      <th>1017</th>\n",
       "      <th>1018</th>\n",
       "      <th>1019</th>\n",
       "      <th>1020</th>\n",
       "      <th>1021</th>\n",
       "      <th>1022</th>\n",
       "      <th>1023</th>\n",
       "      <th>label</th>\n",
       "    </tr>\n",
       "  </thead>\n",
       "  <tbody>\n",
       "    <tr>\n",
       "      <th>0</th>\n",
       "      <td>0.028385</td>\n",
       "      <td>0.027177</td>\n",
       "      <td>0.001707</td>\n",
       "      <td>0.020168</td>\n",
       "      <td>-0.004517</td>\n",
       "      <td>0.028336</td>\n",
       "      <td>0.001413</td>\n",
       "      <td>-0.013377</td>\n",
       "      <td>0.032216</td>\n",
       "      <td>0.030635</td>\n",
       "      <td>...</td>\n",
       "      <td>-0.037687</td>\n",
       "      <td>-0.020171</td>\n",
       "      <td>-0.009614</td>\n",
       "      <td>-0.032648</td>\n",
       "      <td>-0.023692</td>\n",
       "      <td>-0.014956</td>\n",
       "      <td>-0.001067</td>\n",
       "      <td>-0.031846</td>\n",
       "      <td>0.012538</td>\n",
       "      <td>1</td>\n",
       "    </tr>\n",
       "    <tr>\n",
       "      <th>1</th>\n",
       "      <td>0.015617</td>\n",
       "      <td>-0.001422</td>\n",
       "      <td>-0.013470</td>\n",
       "      <td>0.006397</td>\n",
       "      <td>0.025932</td>\n",
       "      <td>-0.022813</td>\n",
       "      <td>-0.000177</td>\n",
       "      <td>-0.020818</td>\n",
       "      <td>-0.007053</td>\n",
       "      <td>0.001988</td>\n",
       "      <td>...</td>\n",
       "      <td>-0.006055</td>\n",
       "      <td>-0.026670</td>\n",
       "      <td>-0.021014</td>\n",
       "      <td>-0.002191</td>\n",
       "      <td>-0.015441</td>\n",
       "      <td>-0.039538</td>\n",
       "      <td>0.015931</td>\n",
       "      <td>-0.026638</td>\n",
       "      <td>0.001783</td>\n",
       "      <td>1</td>\n",
       "    </tr>\n",
       "    <tr>\n",
       "      <th>2</th>\n",
       "      <td>0.001469</td>\n",
       "      <td>0.003226</td>\n",
       "      <td>0.004131</td>\n",
       "      <td>0.047037</td>\n",
       "      <td>0.032908</td>\n",
       "      <td>0.024164</td>\n",
       "      <td>0.029622</td>\n",
       "      <td>0.009962</td>\n",
       "      <td>-0.017095</td>\n",
       "      <td>0.028200</td>\n",
       "      <td>...</td>\n",
       "      <td>-0.062237</td>\n",
       "      <td>-0.021205</td>\n",
       "      <td>-0.018034</td>\n",
       "      <td>-0.044636</td>\n",
       "      <td>-0.003901</td>\n",
       "      <td>0.002548</td>\n",
       "      <td>-0.002773</td>\n",
       "      <td>-0.059739</td>\n",
       "      <td>0.008306</td>\n",
       "      <td>1</td>\n",
       "    </tr>\n",
       "    <tr>\n",
       "      <th>3</th>\n",
       "      <td>0.018104</td>\n",
       "      <td>0.027533</td>\n",
       "      <td>0.002827</td>\n",
       "      <td>-0.021292</td>\n",
       "      <td>0.046611</td>\n",
       "      <td>-0.020751</td>\n",
       "      <td>0.018554</td>\n",
       "      <td>-0.046236</td>\n",
       "      <td>0.027736</td>\n",
       "      <td>-0.018294</td>\n",
       "      <td>...</td>\n",
       "      <td>-0.014451</td>\n",
       "      <td>-0.020901</td>\n",
       "      <td>-0.011621</td>\n",
       "      <td>0.030524</td>\n",
       "      <td>0.028947</td>\n",
       "      <td>-0.027071</td>\n",
       "      <td>0.007687</td>\n",
       "      <td>-0.033697</td>\n",
       "      <td>-0.008957</td>\n",
       "      <td>0</td>\n",
       "    </tr>\n",
       "    <tr>\n",
       "      <th>4</th>\n",
       "      <td>0.020711</td>\n",
       "      <td>0.021858</td>\n",
       "      <td>0.035493</td>\n",
       "      <td>0.064109</td>\n",
       "      <td>0.028367</td>\n",
       "      <td>0.025515</td>\n",
       "      <td>0.003727</td>\n",
       "      <td>-0.004875</td>\n",
       "      <td>-0.027814</td>\n",
       "      <td>-0.004117</td>\n",
       "      <td>...</td>\n",
       "      <td>-0.077938</td>\n",
       "      <td>-0.015088</td>\n",
       "      <td>0.019681</td>\n",
       "      <td>0.014134</td>\n",
       "      <td>-0.015882</td>\n",
       "      <td>-0.015707</td>\n",
       "      <td>0.023588</td>\n",
       "      <td>-0.047237</td>\n",
       "      <td>-0.009997</td>\n",
       "      <td>1</td>\n",
       "    </tr>\n",
       "    <tr>\n",
       "      <th>...</th>\n",
       "      <td>...</td>\n",
       "      <td>...</td>\n",
       "      <td>...</td>\n",
       "      <td>...</td>\n",
       "      <td>...</td>\n",
       "      <td>...</td>\n",
       "      <td>...</td>\n",
       "      <td>...</td>\n",
       "      <td>...</td>\n",
       "      <td>...</td>\n",
       "      <td>...</td>\n",
       "      <td>...</td>\n",
       "      <td>...</td>\n",
       "      <td>...</td>\n",
       "      <td>...</td>\n",
       "      <td>...</td>\n",
       "      <td>...</td>\n",
       "      <td>...</td>\n",
       "      <td>...</td>\n",
       "      <td>...</td>\n",
       "      <td>...</td>\n",
       "    </tr>\n",
       "    <tr>\n",
       "      <th>19995</th>\n",
       "      <td>0.002149</td>\n",
       "      <td>-0.005082</td>\n",
       "      <td>-0.007793</td>\n",
       "      <td>0.026073</td>\n",
       "      <td>0.034440</td>\n",
       "      <td>-0.004397</td>\n",
       "      <td>-0.006836</td>\n",
       "      <td>-0.014811</td>\n",
       "      <td>-0.006304</td>\n",
       "      <td>0.018683</td>\n",
       "      <td>...</td>\n",
       "      <td>-0.029779</td>\n",
       "      <td>0.001915</td>\n",
       "      <td>0.003734</td>\n",
       "      <td>-0.007455</td>\n",
       "      <td>-0.038037</td>\n",
       "      <td>0.004197</td>\n",
       "      <td>0.008961</td>\n",
       "      <td>-0.000200</td>\n",
       "      <td>0.006070</td>\n",
       "      <td>1</td>\n",
       "    </tr>\n",
       "    <tr>\n",
       "      <th>19996</th>\n",
       "      <td>0.019183</td>\n",
       "      <td>-0.001014</td>\n",
       "      <td>0.008177</td>\n",
       "      <td>0.021608</td>\n",
       "      <td>0.021657</td>\n",
       "      <td>0.020940</td>\n",
       "      <td>-0.008094</td>\n",
       "      <td>-0.014137</td>\n",
       "      <td>-0.031861</td>\n",
       "      <td>0.004255</td>\n",
       "      <td>...</td>\n",
       "      <td>-0.074985</td>\n",
       "      <td>0.019865</td>\n",
       "      <td>-0.023345</td>\n",
       "      <td>-0.061145</td>\n",
       "      <td>-0.017200</td>\n",
       "      <td>0.000358</td>\n",
       "      <td>0.020019</td>\n",
       "      <td>0.003406</td>\n",
       "      <td>-0.001012</td>\n",
       "      <td>0</td>\n",
       "    </tr>\n",
       "    <tr>\n",
       "      <th>19997</th>\n",
       "      <td>0.016292</td>\n",
       "      <td>0.026783</td>\n",
       "      <td>-0.000487</td>\n",
       "      <td>-0.003789</td>\n",
       "      <td>0.038305</td>\n",
       "      <td>0.001881</td>\n",
       "      <td>-0.029539</td>\n",
       "      <td>-0.001255</td>\n",
       "      <td>0.032015</td>\n",
       "      <td>0.008985</td>\n",
       "      <td>...</td>\n",
       "      <td>-0.057021</td>\n",
       "      <td>-0.008672</td>\n",
       "      <td>-0.024208</td>\n",
       "      <td>-0.076131</td>\n",
       "      <td>-0.034672</td>\n",
       "      <td>-0.019970</td>\n",
       "      <td>0.010658</td>\n",
       "      <td>-0.024751</td>\n",
       "      <td>-0.011714</td>\n",
       "      <td>0</td>\n",
       "    </tr>\n",
       "    <tr>\n",
       "      <th>19998</th>\n",
       "      <td>-0.030434</td>\n",
       "      <td>0.021819</td>\n",
       "      <td>0.025154</td>\n",
       "      <td>0.032020</td>\n",
       "      <td>0.003013</td>\n",
       "      <td>0.061596</td>\n",
       "      <td>-0.012900</td>\n",
       "      <td>0.001904</td>\n",
       "      <td>-0.008692</td>\n",
       "      <td>0.048690</td>\n",
       "      <td>...</td>\n",
       "      <td>-0.038546</td>\n",
       "      <td>-0.053721</td>\n",
       "      <td>-0.008590</td>\n",
       "      <td>0.037416</td>\n",
       "      <td>0.041671</td>\n",
       "      <td>-0.044147</td>\n",
       "      <td>-0.037194</td>\n",
       "      <td>-0.065800</td>\n",
       "      <td>0.031591</td>\n",
       "      <td>1</td>\n",
       "    </tr>\n",
       "    <tr>\n",
       "      <th>19999</th>\n",
       "      <td>0.029924</td>\n",
       "      <td>0.018162</td>\n",
       "      <td>-0.011681</td>\n",
       "      <td>-0.002145</td>\n",
       "      <td>0.018522</td>\n",
       "      <td>-0.012356</td>\n",
       "      <td>0.003815</td>\n",
       "      <td>-0.002019</td>\n",
       "      <td>0.045906</td>\n",
       "      <td>-0.008772</td>\n",
       "      <td>...</td>\n",
       "      <td>-0.025333</td>\n",
       "      <td>-0.025723</td>\n",
       "      <td>-0.019077</td>\n",
       "      <td>-0.022872</td>\n",
       "      <td>-0.029329</td>\n",
       "      <td>-0.024372</td>\n",
       "      <td>-0.009729</td>\n",
       "      <td>-0.032329</td>\n",
       "      <td>-0.009086</td>\n",
       "      <td>1</td>\n",
       "    </tr>\n",
       "  </tbody>\n",
       "</table>\n",
       "<p>20000 rows × 1025 columns</p>\n",
       "</div>"
      ],
      "text/plain": [
       "              0         1         2         3         4         5         6  \\\n",
       "0      0.028385  0.027177  0.001707  0.020168 -0.004517  0.028336  0.001413   \n",
       "1      0.015617 -0.001422 -0.013470  0.006397  0.025932 -0.022813 -0.000177   \n",
       "2      0.001469  0.003226  0.004131  0.047037  0.032908  0.024164  0.029622   \n",
       "3      0.018104  0.027533  0.002827 -0.021292  0.046611 -0.020751  0.018554   \n",
       "4      0.020711  0.021858  0.035493  0.064109  0.028367  0.025515  0.003727   \n",
       "...         ...       ...       ...       ...       ...       ...       ...   \n",
       "19995  0.002149 -0.005082 -0.007793  0.026073  0.034440 -0.004397 -0.006836   \n",
       "19996  0.019183 -0.001014  0.008177  0.021608  0.021657  0.020940 -0.008094   \n",
       "19997  0.016292  0.026783 -0.000487 -0.003789  0.038305  0.001881 -0.029539   \n",
       "19998 -0.030434  0.021819  0.025154  0.032020  0.003013  0.061596 -0.012900   \n",
       "19999  0.029924  0.018162 -0.011681 -0.002145  0.018522 -0.012356  0.003815   \n",
       "\n",
       "              7         8         9  ...      1015      1016      1017  \\\n",
       "0     -0.013377  0.032216  0.030635  ... -0.037687 -0.020171 -0.009614   \n",
       "1     -0.020818 -0.007053  0.001988  ... -0.006055 -0.026670 -0.021014   \n",
       "2      0.009962 -0.017095  0.028200  ... -0.062237 -0.021205 -0.018034   \n",
       "3     -0.046236  0.027736 -0.018294  ... -0.014451 -0.020901 -0.011621   \n",
       "4     -0.004875 -0.027814 -0.004117  ... -0.077938 -0.015088  0.019681   \n",
       "...         ...       ...       ...  ...       ...       ...       ...   \n",
       "19995 -0.014811 -0.006304  0.018683  ... -0.029779  0.001915  0.003734   \n",
       "19996 -0.014137 -0.031861  0.004255  ... -0.074985  0.019865 -0.023345   \n",
       "19997 -0.001255  0.032015  0.008985  ... -0.057021 -0.008672 -0.024208   \n",
       "19998  0.001904 -0.008692  0.048690  ... -0.038546 -0.053721 -0.008590   \n",
       "19999 -0.002019  0.045906 -0.008772  ... -0.025333 -0.025723 -0.019077   \n",
       "\n",
       "           1018      1019      1020      1021      1022      1023  label  \n",
       "0     -0.032648 -0.023692 -0.014956 -0.001067 -0.031846  0.012538      1  \n",
       "1     -0.002191 -0.015441 -0.039538  0.015931 -0.026638  0.001783      1  \n",
       "2     -0.044636 -0.003901  0.002548 -0.002773 -0.059739  0.008306      1  \n",
       "3      0.030524  0.028947 -0.027071  0.007687 -0.033697 -0.008957      0  \n",
       "4      0.014134 -0.015882 -0.015707  0.023588 -0.047237 -0.009997      1  \n",
       "...         ...       ...       ...       ...       ...       ...    ...  \n",
       "19995 -0.007455 -0.038037  0.004197  0.008961 -0.000200  0.006070      1  \n",
       "19996 -0.061145 -0.017200  0.000358  0.020019  0.003406 -0.001012      0  \n",
       "19997 -0.076131 -0.034672 -0.019970  0.010658 -0.024751 -0.011714      0  \n",
       "19998  0.037416  0.041671 -0.044147 -0.037194 -0.065800  0.031591      1  \n",
       "19999 -0.022872 -0.029329 -0.024372 -0.009729 -0.032329 -0.009086      1  \n",
       "\n",
       "[20000 rows x 1025 columns]"
      ]
     },
     "execution_count": 4,
     "metadata": {},
     "output_type": "execute_result"
    }
   ],
   "source": [
    "data_frame_train"
   ]
  },
  {
   "cell_type": "code",
   "execution_count": 5,
   "id": "02db76e3-c49a-4357-9b6d-e7fdb9eb8af3",
   "metadata": {},
   "outputs": [],
   "source": [
    "train_features = data_frame_train.copy()\n",
    "train_labels = train_features.pop('label')\n",
    "train_features = np.array(train_features)\n",
    "\n",
    "\n",
    "test_features = data_frame_test.copy()\n",
    "test_labels = test_features.pop('label')\n",
    "test_features = np.array(test_features)\n",
    "\n",
    "val_features = data_frame_val.copy()\n",
    "val_labels = val_features.pop('label')\n",
    "val_features = np.array(val_features)\n",
    "        \n",
    "x_train = train_features\n",
    "y_train = train_labels\n",
    "x_test = test_features\n",
    "y_test = test_labels\n",
    "x_val = val_features\n",
    "y_val = val_labels "
   ]
  },
  {
   "cell_type": "code",
   "execution_count": 6,
   "id": "01a817d6-2116-4f4d-be6a-68d5fc0af6d1",
   "metadata": {},
   "outputs": [],
   "source": [
    "# concat_train_features = []\n",
    "# concat_test_features = []\n",
    "# for i in train_features:\n",
    "\n",
    "#     concat_train_features.append(i[0:1024] + i[1024:])\n",
    "\n",
    "# for i in test_features:\n",
    "\n",
    "#     concat_test_features.append(i[0:1024] + i[1024:])\n",
    "\n",
    "# x_train = concat_train_features\n",
    "# y_train = train_labels\n",
    "# x_test = concat_test_features[0:5000]\n",
    "# y_test = test_labels[0:5000]\n",
    "# x_val = concat_test_features[5000:10000]\n",
    "# y_val = np.array(test_labels[5000:10000])"
   ]
  },
  {
   "cell_type": "markdown",
   "id": "0c732469-da2b-479d-9697-e23523522d5f",
   "metadata": {},
   "source": [
    "## 1. Creating Dataloader"
   ]
  },
  {
   "cell_type": "code",
   "execution_count": 9,
   "id": "e9af98a5-acca-4344-9f49-e70a5c6503e1",
   "metadata": {},
   "outputs": [],
   "source": [
    "## train data\n",
    "class Data(Dataset):\n",
    "    \n",
    "    def __init__(self, X_data, y_data):\n",
    "        self.X_data = X_data\n",
    "        self.y_data = y_data\n",
    "        \n",
    "    def __getitem__(self, index):\n",
    "        return self.X_data[index], self.y_data[index]\n",
    "        \n",
    "    def __len__ (self):\n",
    "        return len(self.X_data)\n",
    "\n",
    "\n",
    "train_data = Data(torch.FloatTensor(x_train), \n",
    "                       torch.FloatTensor(y_train))\n",
    "## test data    \n",
    "    \n",
    "\n",
    "val_data = Data(torch.FloatTensor(x_test), \n",
    "                       torch.FloatTensor(y_test))\n",
    "\n",
    "\n",
    "test_data =  Data(torch.FloatTensor(x_val), \n",
    "                       torch.FloatTensor(y_val))"
   ]
  },
  {
   "cell_type": "code",
   "execution_count": 10,
   "id": "11be1fcf-d881-41b9-9b26-11d7d41d4adf",
   "metadata": {},
   "outputs": [],
   "source": [
    "train_loader = DataLoader(dataset=train_data, batch_size=128, shuffle=True,drop_last=True)\n",
    "test_loader = DataLoader(dataset=test_data, batch_size=128,drop_last=True )\n",
    "val_loader = DataLoader(dataset=val_data, batch_size=128,drop_last=True )"
   ]
  },
  {
   "cell_type": "code",
   "execution_count": 11,
   "id": "5fdbabc8-1620-413e-abb8-b37a8d82c16e",
   "metadata": {},
   "outputs": [
    {
     "name": "stdout",
     "output_type": "stream",
     "text": [
      "cuda:0\n"
     ]
    }
   ],
   "source": [
    "device = torch.device(\"cuda:0\" if torch.cuda.is_available() else \"cpu\")\n",
    "print(device)"
   ]
  },
  {
   "cell_type": "code",
   "execution_count": null,
   "id": "8be1a0df-3910-49d7-a874-7868cb0ad901",
   "metadata": {},
   "outputs": [],
   "source": []
  },
  {
   "cell_type": "markdown",
   "id": "9d8ebbbf-66a8-43e1-b692-d348267452a4",
   "metadata": {},
   "source": [
    "## 2. Model"
   ]
  },
  {
   "cell_type": "code",
   "execution_count": 12,
   "id": "1ac073c4-3ed3-448e-834a-40827fa55a11",
   "metadata": {},
   "outputs": [],
   "source": [
    "import torch\n",
    "import torch.nn as nn\n",
    "\n",
    "device = torch.device('cuda' if torch.cuda.is_available() else 'cpu')"
   ]
  },
  {
   "cell_type": "code",
   "execution_count": 13,
   "id": "be5cbac6-904a-4f09-9eda-107547a01b4c",
   "metadata": {},
   "outputs": [
    {
     "data": {
      "text/plain": [
       "device(type='cuda')"
      ]
     },
     "execution_count": 13,
     "metadata": {},
     "output_type": "execute_result"
    }
   ],
   "source": [
    "device"
   ]
  },
  {
   "cell_type": "code",
   "execution_count": 14,
   "id": "70ffcfbc-8719-467d-bdd0-104fd7c13b2c",
   "metadata": {},
   "outputs": [],
   "source": [
    "class BertClassifier(nn.Module):\n",
    "    \n",
    "    def __init__(self, embed_dim = 1024):\n",
    "        super(BertClassifier,self).__init__()\n",
    "     \n",
    "        \n",
    "        self.relu = nn.ReLU()\n",
    "        self.conv1  = nn.Conv1d(in_channels = 1,out_channels = 33, kernel_size = 3, stride=1)\n",
    "        self.fc1 = nn.Linear(33726,1024)\n",
    "        self.bn1 = nn.BatchNorm1d(num_features=1024)\n",
    "        self.fc1_1 = nn.Linear(1024,1024)\n",
    "#         self.fc2 = nn.Linear(512,256)\n",
    "        \n",
    "        self.fc3 = nn.Linear(1024,64)\n",
    "        self.bn2 = nn.BatchNorm1d(num_features=64)\n",
    "        self.fc4 = nn.Linear(64,32)\n",
    "        \n",
    "        self.fc5 = nn.Linear(32,16)\n",
    "        self.fc6 = nn.Linear(16,8)\n",
    "        self.fc7 = nn.Linear(8,1)\n",
    "\n",
    "    \n",
    "    def forward(self, inputs):\n",
    "        \n",
    "       \n",
    "        \n",
    "        inputs = inputs.reshape(128,1,1024)\n",
    "        output_conv = self.relu(self.conv1(inputs))\n",
    "        output_conv = output_conv.reshape(128,33726)\n",
    "        output_1 = self.relu(self.fc1(output_conv))\n",
    "        output_1 = self.bn1(output_1)\n",
    "        output_1_1 = self.relu(self.fc1_1(output_1))\n",
    "        output_1_1 = output_1_1 + output_1\n",
    "        \n",
    "        output_2 = self.relu(self.fc3(output_1_1))\n",
    "        output_2  = self.bn2(output_2)\n",
    "        output_3 = self.relu(self.fc4(output_2))\n",
    "        output_4 = self.relu(self.fc5(output_3))\n",
    "        output_5 = self.relu(self.fc6(output_4))\n",
    "        output = self.fc7(output_5)\n",
    "\n",
    "        return output"
   ]
  },
  {
   "cell_type": "code",
   "execution_count": 15,
   "id": "4298bc02",
   "metadata": {},
   "outputs": [],
   "source": [
    "# for i in train_loader:\n",
    "#     print(i[0])\n",
    "#     print(i[0].shape)\n",
    "#     j = i[0].reshape(128,1,1024)\n",
    "#     print(j)\n",
    "#     x = nn.Conv1d(in_channels = 1,out_channels = 33, kernel_size = 3, stride=1)\n",
    "#     conv_out = x(j)\n",
    "#     print(conv_out)\n",
    "#     print(conv_out.shape)\n",
    "#     conv_out = conv_out.reshape(128,33726)\n",
    "#     print(conv_out)\n",
    "#     print(conv_out.shape)\n",
    "    \n",
    "#     break"
   ]
  },
  {
   "cell_type": "markdown",
   "id": "efe432c6",
   "metadata": {},
   "source": [
    "# "
   ]
  },
  {
   "cell_type": "code",
   "execution_count": 16,
   "id": "634b32d6-9554-4969-abc6-916d55a5b140",
   "metadata": {},
   "outputs": [],
   "source": [
    "def initilize_model(learning_rate=0.001):\n",
    "    \"\"\"Instantiate a CNN model and an optimizer.\"\"\"\n",
    "\n",
    "    model = BertClassifier()\n",
    "    \n",
    "    device = torch.device(\"cuda\" if torch.cuda.is_available() else \"cpu\")\n",
    "    # Send model to `device` (GPU/CPU)\n",
    "    model.to(device)\n",
    "    model= nn.DataParallel(model,device_ids = [0])\n",
    "\n",
    "    \n",
    "    return model\n",
    "\n",
    "model = initilize_model()\n",
    "\n",
    "\n",
    "loss_fn = nn.BCEWithLogitsLoss()"
   ]
  },
  {
   "cell_type": "code",
   "execution_count": 17,
   "id": "8d50169c-71e3-4ca2-b236-f1c4d826f850",
   "metadata": {},
   "outputs": [
    {
     "name": "stdout",
     "output_type": "stream",
     "text": [
      "DataParallel(\n",
      "  (module): BertClassifier(\n",
      "    (relu): ReLU()\n",
      "    (conv1): Conv1d(1, 33, kernel_size=(3,), stride=(1,))\n",
      "    (fc1): Linear(in_features=33726, out_features=1024, bias=True)\n",
      "    (bn1): BatchNorm1d(1024, eps=1e-05, momentum=0.1, affine=True, track_running_stats=True)\n",
      "    (fc1_1): Linear(in_features=1024, out_features=1024, bias=True)\n",
      "    (fc3): Linear(in_features=1024, out_features=64, bias=True)\n",
      "    (bn2): BatchNorm1d(64, eps=1e-05, momentum=0.1, affine=True, track_running_stats=True)\n",
      "    (fc4): Linear(in_features=64, out_features=32, bias=True)\n",
      "    (fc5): Linear(in_features=32, out_features=16, bias=True)\n",
      "    (fc6): Linear(in_features=16, out_features=8, bias=True)\n",
      "    (fc7): Linear(in_features=8, out_features=1, bias=True)\n",
      "  )\n",
      ")\n"
     ]
    }
   ],
   "source": [
    "print(model)"
   ]
  },
  {
   "cell_type": "markdown",
   "id": "469c9ff1-7b61-4107-9f3c-7307445bbe53",
   "metadata": {},
   "source": [
    "## 3. Training"
   ]
  },
  {
   "cell_type": "code",
   "execution_count": 31,
   "id": "aa89d2d6-610a-4372-be72-a8babdc08b84",
   "metadata": {},
   "outputs": [],
   "source": [
    "import random\n",
    "import time\n",
    "from tqdm import tqdm\n",
    "loss_fn = nn.BCEWithLogitsLoss()\n",
    "def train(model, optimizer, train_dataloader, val_dataloader = None, epochs =10):\n",
    "    \n",
    "    best_accuracy = 0\n",
    "    device = torch.device(\"cuda\" if torch.cuda.is_available() else \"cpu\")\n",
    "    print(\"Start training...\\n\")\n",
    "    \n",
    "    # for param in model.bert.parameters():\n",
    "    #     param.requires_grad = False\n",
    "    for epoch_i in range(1,epochs+1):\n",
    "        \n",
    "        total_loss = 0\n",
    "        model.train()\n",
    "        \n",
    "        for step,batch in tqdm(enumerate(train_dataloader)):\n",
    "            \n",
    "            inputs, b_labels = tuple(t.to(device) for t in batch)\n",
    "            \n",
    "            # b_input_ids = b_input_ids.reshape((1,24,1000)).squeeze(0)\n",
    "            # b_attn_masks = b_attn_masks.reshape((1,24,1000)).squeeze(0)\n",
    "            b_labels = b_labels.reshape((1,128,1)).squeeze(0)\n",
    "            # print(b_input_1)\n",
    "            model.zero_grad()\n",
    "            \n",
    "            logits = model(inputs)\n",
    "            \n",
    "        #     preds = torch.round(torch.sigmoid(logits))\n",
    "        # # print(preds,b_labels)\n",
    "        #     accuracy = (preds.float() == b_labels.float()).cpu().numpy().mean() * 100\n",
    "        #     print(accuracy)\n",
    "            \n",
    "#             print(b_labels)\n",
    "           \n",
    "            loss = loss_fn(logits,b_labels.float()) \n",
    "            \n",
    "            total_loss += loss.item()\n",
    "            \n",
    "            loss.mean().backward()\n",
    "            \n",
    "            optimizer.step()\n",
    "               \n",
    "        avg_train_loss = total_loss / len(train_dataloader)\n",
    "        \n",
    "    \n",
    "        if val_dataloader is not None:\n",
    "                \n",
    "                val_loss, val_accuracy = evaluate(model, val_dataloader)\n",
    "\n",
    "                   \n",
    "                if val_accuracy > best_accuracy:\n",
    "                    best_accuracy = val_accuracy\n",
    "                    torch.save({\n",
    "                        'epoch': epoch_i + 1,\n",
    "                        'model_state_dict': model.state_dict(),\n",
    "                        'optimizer_state_dict': optimizer.state_dict(),\n",
    "                        'loss': loss_fn,\n",
    "                        }, 'best_conv_model_trained_v2.pth')\n",
    "\n",
    "                # scheduler = torch.optim.lr_scheduler.ReduceLROnPlateau(optimizer, 'max',patience = 3)\n",
    "                # scheduler.step(val_accuracy)\n",
    "        print(f\"Epoch: {epoch_i} | Training Loss: {avg_train_loss}  | Validation Loss: {val_loss}  | Accuracy: {val_accuracy:.2f}\")\n",
    "        with open('result.txt', 'a') as f:\n",
    "            print(f\"Epoch: {epoch_i} | Training Loss: {avg_train_loss}  | Validation Loss: {val_loss}  | Accuracy: {val_accuracy:.2f}\", file=f) \n",
    "    print(\"\\n\")\n",
    "    print(f\"Training complete! Best accuracy: {best_accuracy:.2f}%.\")\n",
    "\n",
    "            \n",
    "   \n",
    "\n",
    "\n",
    "def evaluate(model,val_dataloader):\n",
    "    \n",
    "    model.eval()\n",
    "    \n",
    "    val_accuracy = []\n",
    "    val_loss = []\n",
    "    for batch in tqdm(val_dataloader):\n",
    "        # Load batch to GPU\n",
    "        inputs, b_labels = tuple(t.to(device) for t in batch)\n",
    "        \n",
    "        # b_input_ids = b_input_ids.reshape((1,24,1000)).squeeze(0)\n",
    "        # b_attn_masks = b_attn_masks.reshape((1,24,1000)).squeeze(0)\n",
    "        b_labels = b_labels.reshape((1,128,1)).squeeze(0)\n",
    "        with torch.no_grad():\n",
    "                logits = model(inputs)\n",
    "        \n",
    "        \n",
    "        \n",
    "        \n",
    "        loss = loss_fn(logits, b_labels.float())\n",
    "\n",
    "        val_loss.append(loss.item())\n",
    "# # model = BertModel.from_pretrained(\"Rostlab/prot_bert_bfd\")\n",
    "# for i in tqdm(train_dataloader):\n",
    "#     print(i)\n",
    "        preds = torch.round(torch.sigmoid(logits))\n",
    "        # print(preds,b_labels)\n",
    "        accuracy = (preds.float() == b_labels.float()).cpu().numpy().mean() * 100\n",
    "\n",
    "        val_accuracy.append(accuracy)\n",
    "    \n",
    "    val_loss = np.mean(val_loss)\n",
    "    val_accuracy = np.mean(val_accuracy)\n",
    "\n",
    "    return val_loss, val_accuracy "
   ]
  },
  {
   "cell_type": "code",
   "execution_count": 32,
   "id": "fad6f83b-b532-45a6-8397-2f80f8b8edd5",
   "metadata": {},
   "outputs": [],
   "source": [
    "optimizer = optim.Adam(model.parameters(),lr=0.001,betas=(0.9,0.999),eps=1e-08,weight_decay=0.01,amsgrad=True)\n",
    "# optimizer = torch.optim.SGD(model.parameters(), nesterov = True, lr=0.001, momentum=0.9)"
   ]
  },
  {
   "cell_type": "code",
   "execution_count": 33,
   "id": "957b9300-65f9-4d32-a67b-327a0c424ba7",
   "metadata": {
    "scrolled": true,
    "tags": []
   },
   "outputs": [
    {
     "name": "stdout",
     "output_type": "stream",
     "text": [
      "Start training...\n",
      "\n"
     ]
    },
    {
     "name": "stderr",
     "output_type": "stream",
     "text": [
      "156it [00:02, 55.69it/s]\n",
      "100%|█████████████████████████████████████████████████████████| 46/46 [00:00<00:00, 224.14it/s]\n"
     ]
    },
    {
     "name": "stdout",
     "output_type": "stream",
     "text": [
      "Epoch: 1 | Training Loss: 0.471103640129933  | Validation Loss: 0.6801366015620853  | Accuracy: 59.38\n"
     ]
    },
    {
     "name": "stderr",
     "output_type": "stream",
     "text": [
      "156it [00:02, 56.03it/s]\n",
      "100%|█████████████████████████████████████████████████████████| 46/46 [00:00<00:00, 229.46it/s]\n"
     ]
    },
    {
     "name": "stdout",
     "output_type": "stream",
     "text": [
      "Epoch: 2 | Training Loss: 0.4238781495354114  | Validation Loss: 0.7341614806133768  | Accuracy: 57.95\n"
     ]
    },
    {
     "name": "stderr",
     "output_type": "stream",
     "text": [
      "156it [00:02, 56.13it/s]\n",
      "100%|█████████████████████████████████████████████████████████| 46/46 [00:00<00:00, 221.91it/s]\n"
     ]
    },
    {
     "name": "stdout",
     "output_type": "stream",
     "text": [
      "Epoch: 3 | Training Loss: 0.3891638599527188  | Validation Loss: 0.7626507398874863  | Accuracy: 60.92\n"
     ]
    },
    {
     "name": "stderr",
     "output_type": "stream",
     "text": [
      "156it [00:02, 56.84it/s]\n",
      "100%|█████████████████████████████████████████████████████████| 46/46 [00:00<00:00, 222.88it/s]\n"
     ]
    },
    {
     "name": "stdout",
     "output_type": "stream",
     "text": [
      "Epoch: 4 | Training Loss: 0.36535065048016035  | Validation Loss: 0.7282308495563009  | Accuracy: 63.26\n"
     ]
    },
    {
     "name": "stderr",
     "output_type": "stream",
     "text": [
      "156it [00:02, 56.55it/s]\n",
      "100%|█████████████████████████████████████████████████████████| 46/46 [00:00<00:00, 220.32it/s]\n"
     ]
    },
    {
     "name": "stdout",
     "output_type": "stream",
     "text": [
      "Epoch: 5 | Training Loss: 0.3442378626802029  | Validation Loss: 0.764860969522725  | Accuracy: 63.30\n"
     ]
    },
    {
     "name": "stderr",
     "output_type": "stream",
     "text": [
      "156it [00:02, 56.42it/s]\n",
      "100%|█████████████████████████████████████████████████████████| 46/46 [00:00<00:00, 204.63it/s]\n"
     ]
    },
    {
     "name": "stdout",
     "output_type": "stream",
     "text": [
      "Epoch: 6 | Training Loss: 0.32577242616277474  | Validation Loss: 1.0070207896439924  | Accuracy: 57.39\n"
     ]
    },
    {
     "name": "stderr",
     "output_type": "stream",
     "text": [
      "156it [00:02, 57.09it/s]\n",
      "100%|█████████████████████████████████████████████████████████| 46/46 [00:00<00:00, 221.15it/s]\n"
     ]
    },
    {
     "name": "stdout",
     "output_type": "stream",
     "text": [
      "Epoch: 7 | Training Loss: 0.31478549043337506  | Validation Loss: 0.774068657470786  | Accuracy: 63.09\n"
     ]
    },
    {
     "name": "stderr",
     "output_type": "stream",
     "text": [
      "156it [00:02, 57.23it/s]\n",
      "100%|█████████████████████████████████████████████████████████| 46/46 [00:00<00:00, 221.72it/s]\n"
     ]
    },
    {
     "name": "stdout",
     "output_type": "stream",
     "text": [
      "Epoch: 8 | Training Loss: 0.30054691682259244  | Validation Loss: 0.9195551548315131  | Accuracy: 59.88\n"
     ]
    },
    {
     "name": "stderr",
     "output_type": "stream",
     "text": [
      "156it [00:02, 56.93it/s]\n",
      "100%|█████████████████████████████████████████████████████████| 46/46 [00:00<00:00, 224.60it/s]\n"
     ]
    },
    {
     "name": "stdout",
     "output_type": "stream",
     "text": [
      "Epoch: 9 | Training Loss: 0.28879080302058124  | Validation Loss: 0.9972849799239117  | Accuracy: 60.38\n"
     ]
    },
    {
     "name": "stderr",
     "output_type": "stream",
     "text": [
      "156it [00:02, 56.99it/s]\n",
      "100%|█████████████████████████████████████████████████████████| 46/46 [00:00<00:00, 215.20it/s]\n"
     ]
    },
    {
     "name": "stdout",
     "output_type": "stream",
     "text": [
      "Epoch: 10 | Training Loss: 0.2726529739223994  | Validation Loss: 0.9844562618628793  | Accuracy: 60.21\n"
     ]
    },
    {
     "name": "stderr",
     "output_type": "stream",
     "text": [
      "156it [00:02, 55.96it/s]\n",
      "100%|█████████████████████████████████████████████████████████| 46/46 [00:00<00:00, 217.62it/s]\n"
     ]
    },
    {
     "name": "stdout",
     "output_type": "stream",
     "text": [
      "Epoch: 11 | Training Loss: 0.2644221070103156  | Validation Loss: 0.952415766923324  | Accuracy: 58.92\n"
     ]
    },
    {
     "name": "stderr",
     "output_type": "stream",
     "text": [
      "156it [00:02, 55.86it/s]\n",
      "100%|█████████████████████████████████████████████████████████| 46/46 [00:00<00:00, 216.56it/s]\n"
     ]
    },
    {
     "name": "stdout",
     "output_type": "stream",
     "text": [
      "Epoch: 12 | Training Loss: 0.24932809040332451  | Validation Loss: 1.0369127548259238  | Accuracy: 60.85\n"
     ]
    },
    {
     "name": "stderr",
     "output_type": "stream",
     "text": [
      "156it [00:02, 55.83it/s]\n",
      "100%|█████████████████████████████████████████████████████████| 46/46 [00:00<00:00, 222.09it/s]\n"
     ]
    },
    {
     "name": "stdout",
     "output_type": "stream",
     "text": [
      "Epoch: 13 | Training Loss: 0.23652412857000643  | Validation Loss: 1.127216091622477  | Accuracy: 59.82\n"
     ]
    },
    {
     "name": "stderr",
     "output_type": "stream",
     "text": [
      "156it [00:02, 55.61it/s]\n",
      "100%|█████████████████████████████████████████████████████████| 46/46 [00:00<00:00, 207.09it/s]\n"
     ]
    },
    {
     "name": "stdout",
     "output_type": "stream",
     "text": [
      "Epoch: 14 | Training Loss: 0.2311187640596659  | Validation Loss: 1.0602507902228313  | Accuracy: 60.95\n"
     ]
    },
    {
     "name": "stderr",
     "output_type": "stream",
     "text": [
      "156it [00:02, 55.42it/s]\n",
      "100%|█████████████████████████████████████████████████████████| 46/46 [00:00<00:00, 213.90it/s]\n"
     ]
    },
    {
     "name": "stdout",
     "output_type": "stream",
     "text": [
      "Epoch: 15 | Training Loss: 0.2204628400504589  | Validation Loss: 1.2061687656070874  | Accuracy: 56.61\n"
     ]
    },
    {
     "name": "stderr",
     "output_type": "stream",
     "text": [
      "156it [00:02, 55.36it/s]\n",
      "100%|█████████████████████████████████████████████████████████| 46/46 [00:00<00:00, 217.80it/s]\n"
     ]
    },
    {
     "name": "stdout",
     "output_type": "stream",
     "text": [
      "Epoch: 16 | Training Loss: 0.213055117867696  | Validation Loss: 1.0695629897324934  | Accuracy: 62.69\n"
     ]
    },
    {
     "name": "stderr",
     "output_type": "stream",
     "text": [
      "156it [00:02, 56.15it/s]\n",
      "100%|█████████████████████████████████████████████████████████| 46/46 [00:00<00:00, 209.12it/s]\n"
     ]
    },
    {
     "name": "stdout",
     "output_type": "stream",
     "text": [
      "Epoch: 17 | Training Loss: 0.20328536142523473  | Validation Loss: 1.199983924627304  | Accuracy: 60.67\n"
     ]
    },
    {
     "name": "stderr",
     "output_type": "stream",
     "text": [
      "156it [00:02, 56.40it/s]\n",
      "100%|█████████████████████████████████████████████████████████| 46/46 [00:00<00:00, 220.57it/s]\n"
     ]
    },
    {
     "name": "stdout",
     "output_type": "stream",
     "text": [
      "Epoch: 18 | Training Loss: 0.1954399172980816  | Validation Loss: 1.1355128923188085  | Accuracy: 60.31\n"
     ]
    },
    {
     "name": "stderr",
     "output_type": "stream",
     "text": [
      "156it [00:02, 56.48it/s]\n",
      "100%|█████████████████████████████████████████████████████████| 46/46 [00:00<00:00, 218.74it/s]\n"
     ]
    },
    {
     "name": "stdout",
     "output_type": "stream",
     "text": [
      "Epoch: 19 | Training Loss: 0.1883734627507436  | Validation Loss: 1.1115975924160169  | Accuracy: 60.75\n"
     ]
    },
    {
     "name": "stderr",
     "output_type": "stream",
     "text": [
      "156it [00:02, 57.13it/s]\n",
      "100%|█████████████████████████████████████████████████████████| 46/46 [00:00<00:00, 215.52it/s]\n"
     ]
    },
    {
     "name": "stdout",
     "output_type": "stream",
     "text": [
      "Epoch: 20 | Training Loss: 0.18477378690089935  | Validation Loss: 1.3173632077548816  | Accuracy: 61.07\n"
     ]
    },
    {
     "name": "stderr",
     "output_type": "stream",
     "text": [
      "156it [00:02, 56.75it/s]\n",
      "100%|█████████████████████████████████████████████████████████| 46/46 [00:00<00:00, 208.12it/s]\n"
     ]
    },
    {
     "name": "stdout",
     "output_type": "stream",
     "text": [
      "Epoch: 21 | Training Loss: 0.17361047758887976  | Validation Loss: 1.251463374365931  | Accuracy: 60.68\n"
     ]
    },
    {
     "name": "stderr",
     "output_type": "stream",
     "text": [
      "156it [00:02, 56.42it/s]\n",
      "100%|█████████████████████████████████████████████████████████| 46/46 [00:00<00:00, 213.00it/s]\n"
     ]
    },
    {
     "name": "stdout",
     "output_type": "stream",
     "text": [
      "Epoch: 22 | Training Loss: 0.16792581564722917  | Validation Loss: 1.35098869126776  | Accuracy: 59.21\n"
     ]
    },
    {
     "name": "stderr",
     "output_type": "stream",
     "text": [
      "156it [00:02, 56.07it/s]\n",
      "100%|█████████████████████████████████████████████████████████| 46/46 [00:00<00:00, 213.48it/s]\n"
     ]
    },
    {
     "name": "stdout",
     "output_type": "stream",
     "text": [
      "Epoch: 23 | Training Loss: 0.15978587418794632  | Validation Loss: 1.460621978925622  | Accuracy: 60.41\n"
     ]
    },
    {
     "name": "stderr",
     "output_type": "stream",
     "text": [
      "156it [00:02, 56.10it/s]\n",
      "100%|█████████████████████████████████████████████████████████| 46/46 [00:00<00:00, 218.22it/s]\n"
     ]
    },
    {
     "name": "stdout",
     "output_type": "stream",
     "text": [
      "Epoch: 24 | Training Loss: 0.1555821831123187  | Validation Loss: 1.4311213052791099  | Accuracy: 58.39\n"
     ]
    },
    {
     "name": "stderr",
     "output_type": "stream",
     "text": [
      "156it [00:02, 56.15it/s]\n",
      "100%|█████████████████████████████████████████████████████████| 46/46 [00:00<00:00, 218.46it/s]\n"
     ]
    },
    {
     "name": "stdout",
     "output_type": "stream",
     "text": [
      "Epoch: 25 | Training Loss: 0.14525146280916837  | Validation Loss: 1.4191921042359394  | Accuracy: 58.80\n"
     ]
    },
    {
     "name": "stderr",
     "output_type": "stream",
     "text": [
      "156it [00:02, 56.92it/s]\n",
      "100%|█████████████████████████████████████████████████████████| 46/46 [00:00<00:00, 219.35it/s]\n"
     ]
    },
    {
     "name": "stdout",
     "output_type": "stream",
     "text": [
      "Epoch: 26 | Training Loss: 0.14380847428662655  | Validation Loss: 1.4799752572308416  | Accuracy: 60.29\n"
     ]
    },
    {
     "name": "stderr",
     "output_type": "stream",
     "text": [
      "156it [00:02, 55.92it/s]\n",
      "100%|█████████████████████████████████████████████████████████| 46/46 [00:00<00:00, 219.43it/s]\n"
     ]
    },
    {
     "name": "stdout",
     "output_type": "stream",
     "text": [
      "Epoch: 27 | Training Loss: 0.13585511346658072  | Validation Loss: 1.5181289652119512  | Accuracy: 60.05\n"
     ]
    },
    {
     "name": "stderr",
     "output_type": "stream",
     "text": [
      "156it [00:02, 56.17it/s]\n",
      "100%|█████████████████████████████████████████████████████████| 46/46 [00:00<00:00, 220.32it/s]\n"
     ]
    },
    {
     "name": "stdout",
     "output_type": "stream",
     "text": [
      "Epoch: 28 | Training Loss: 0.13720689986187679  | Validation Loss: 1.1890769354675128  | Accuracy: 59.77\n"
     ]
    },
    {
     "name": "stderr",
     "output_type": "stream",
     "text": [
      "156it [00:02, 56.12it/s]\n",
      "100%|█████████████████████████████████████████████████████████| 46/46 [00:00<00:00, 217.07it/s]\n"
     ]
    },
    {
     "name": "stdout",
     "output_type": "stream",
     "text": [
      "Epoch: 29 | Training Loss: 0.1239252573547837  | Validation Loss: 1.5078771036604177  | Accuracy: 61.18\n"
     ]
    },
    {
     "name": "stderr",
     "output_type": "stream",
     "text": [
      "156it [00:02, 55.86it/s]\n",
      "100%|█████████████████████████████████████████████████████████| 46/46 [00:00<00:00, 213.94it/s]\n"
     ]
    },
    {
     "name": "stdout",
     "output_type": "stream",
     "text": [
      "Epoch: 30 | Training Loss: 0.12149102708850151  | Validation Loss: 1.7676643521889397  | Accuracy: 58.66\n"
     ]
    },
    {
     "name": "stderr",
     "output_type": "stream",
     "text": [
      "156it [00:02, 56.02it/s]\n",
      "100%|█████████████████████████████████████████████████████████| 46/46 [00:00<00:00, 215.82it/s]\n"
     ]
    },
    {
     "name": "stdout",
     "output_type": "stream",
     "text": [
      "Epoch: 31 | Training Loss: 0.12045751151461632  | Validation Loss: 1.71517420851666  | Accuracy: 59.32\n"
     ]
    },
    {
     "name": "stderr",
     "output_type": "stream",
     "text": [
      "156it [00:02, 56.15it/s]\n",
      "100%|█████████████████████████████████████████████████████████| 46/46 [00:00<00:00, 216.71it/s]\n"
     ]
    },
    {
     "name": "stdout",
     "output_type": "stream",
     "text": [
      "Epoch: 32 | Training Loss: 0.11082979735846703  | Validation Loss: 1.3820384637169216  | Accuracy: 60.22\n"
     ]
    },
    {
     "name": "stderr",
     "output_type": "stream",
     "text": [
      "156it [00:02, 56.05it/s]\n",
      "100%|█████████████████████████████████████████████████████████| 46/46 [00:00<00:00, 205.49it/s]\n"
     ]
    },
    {
     "name": "stdout",
     "output_type": "stream",
     "text": [
      "Epoch: 33 | Training Loss: 0.1051585232027066  | Validation Loss: 1.6857298457104226  | Accuracy: 60.63\n"
     ]
    },
    {
     "name": "stderr",
     "output_type": "stream",
     "text": [
      "156it [00:02, 56.17it/s]\n",
      "100%|█████████████████████████████████████████████████████████| 46/46 [00:00<00:00, 219.21it/s]\n"
     ]
    },
    {
     "name": "stdout",
     "output_type": "stream",
     "text": [
      "Epoch: 34 | Training Loss: 0.10849385811254764  | Validation Loss: 1.654733904030012  | Accuracy: 57.40\n"
     ]
    },
    {
     "name": "stderr",
     "output_type": "stream",
     "text": [
      "156it [00:02, 56.11it/s]\n",
      "100%|█████████████████████████████████████████████████████████| 46/46 [00:00<00:00, 219.82it/s]\n"
     ]
    },
    {
     "name": "stdout",
     "output_type": "stream",
     "text": [
      "Epoch: 35 | Training Loss: 0.09633064878961214  | Validation Loss: 1.7085800792859949  | Accuracy: 60.14\n"
     ]
    },
    {
     "name": "stderr",
     "output_type": "stream",
     "text": [
      "156it [00:02, 56.08it/s]\n",
      "100%|█████████████████████████████████████████████████████████| 46/46 [00:00<00:00, 218.84it/s]\n"
     ]
    },
    {
     "name": "stdout",
     "output_type": "stream",
     "text": [
      "Epoch: 36 | Training Loss: 0.09494343192244951  | Validation Loss: 1.7286293325216875  | Accuracy: 59.24\n"
     ]
    },
    {
     "name": "stderr",
     "output_type": "stream",
     "text": [
      "156it [00:02, 55.61it/s]\n",
      "100%|█████████████████████████████████████████████████████████| 46/46 [00:00<00:00, 218.00it/s]\n"
     ]
    },
    {
     "name": "stdout",
     "output_type": "stream",
     "text": [
      "Epoch: 37 | Training Loss: 0.09682001320358652  | Validation Loss: 1.7734923570052437  | Accuracy: 60.28\n"
     ]
    },
    {
     "name": "stderr",
     "output_type": "stream",
     "text": [
      "156it [00:02, 55.70it/s]\n",
      "100%|█████████████████████████████████████████████████████████| 46/46 [00:00<00:00, 218.20it/s]\n"
     ]
    },
    {
     "name": "stdout",
     "output_type": "stream",
     "text": [
      "Epoch: 38 | Training Loss: 0.08838527013237278  | Validation Loss: 1.7769774975983992  | Accuracy: 59.04\n"
     ]
    },
    {
     "name": "stderr",
     "output_type": "stream",
     "text": [
      "156it [00:02, 55.41it/s]\n",
      "100%|█████████████████████████████████████████████████████████| 46/46 [00:00<00:00, 217.08it/s]\n"
     ]
    },
    {
     "name": "stdout",
     "output_type": "stream",
     "text": [
      "Epoch: 39 | Training Loss: 0.08816216092031354  | Validation Loss: 1.7822225923123567  | Accuracy: 59.44\n"
     ]
    },
    {
     "name": "stderr",
     "output_type": "stream",
     "text": [
      "156it [00:02, 55.14it/s]\n",
      "100%|█████████████████████████████████████████████████████████| 46/46 [00:00<00:00, 218.76it/s]\n"
     ]
    },
    {
     "name": "stdout",
     "output_type": "stream",
     "text": [
      "Epoch: 40 | Training Loss: 0.08362392690749122  | Validation Loss: 1.8287217720695164  | Accuracy: 60.75\n"
     ]
    },
    {
     "name": "stderr",
     "output_type": "stream",
     "text": [
      "156it [00:02, 55.42it/s]\n",
      "100%|█████████████████████████████████████████████████████████| 46/46 [00:00<00:00, 220.88it/s]\n"
     ]
    },
    {
     "name": "stdout",
     "output_type": "stream",
     "text": [
      "Epoch: 41 | Training Loss: 0.07783619968745953  | Validation Loss: 1.7895562519197878  | Accuracy: 59.73\n"
     ]
    },
    {
     "name": "stderr",
     "output_type": "stream",
     "text": [
      "156it [00:02, 56.12it/s]\n",
      "100%|█████████████████████████████████████████████████████████| 46/46 [00:00<00:00, 218.65it/s]\n"
     ]
    },
    {
     "name": "stdout",
     "output_type": "stream",
     "text": [
      "Epoch: 42 | Training Loss: 0.0723591297864914  | Validation Loss: 2.075625689133354  | Accuracy: 59.26\n"
     ]
    },
    {
     "name": "stderr",
     "output_type": "stream",
     "text": [
      "156it [00:02, 55.99it/s]\n",
      "100%|█████████████████████████████████████████████████████████| 46/46 [00:00<00:00, 218.91it/s]\n"
     ]
    },
    {
     "name": "stdout",
     "output_type": "stream",
     "text": [
      "Epoch: 43 | Training Loss: 0.07916405848346841  | Validation Loss: 1.8833452670470527  | Accuracy: 59.41\n"
     ]
    },
    {
     "name": "stderr",
     "output_type": "stream",
     "text": [
      "156it [00:02, 55.99it/s]\n",
      "100%|█████████████████████████████████████████████████████████| 46/46 [00:00<00:00, 218.24it/s]\n"
     ]
    },
    {
     "name": "stdout",
     "output_type": "stream",
     "text": [
      "Epoch: 44 | Training Loss: 0.07085065788422258  | Validation Loss: 2.019424189691958  | Accuracy: 59.43\n"
     ]
    },
    {
     "name": "stderr",
     "output_type": "stream",
     "text": [
      "156it [00:02, 55.32it/s]\n",
      "100%|█████████████████████████████████████████████████████████| 46/46 [00:00<00:00, 220.18it/s]\n"
     ]
    },
    {
     "name": "stdout",
     "output_type": "stream",
     "text": [
      "Epoch: 45 | Training Loss: 0.07916952402163775  | Validation Loss: 2.001330766988837  | Accuracy: 58.27\n"
     ]
    },
    {
     "name": "stderr",
     "output_type": "stream",
     "text": [
      "156it [00:02, 54.86it/s]\n",
      "100%|█████████████████████████████████████████████████████████| 46/46 [00:00<00:00, 221.46it/s]\n"
     ]
    },
    {
     "name": "stdout",
     "output_type": "stream",
     "text": [
      "Epoch: 46 | Training Loss: 0.07559233985077111  | Validation Loss: 2.5391129980916562  | Accuracy: 57.22\n"
     ]
    },
    {
     "name": "stderr",
     "output_type": "stream",
     "text": [
      "156it [00:02, 54.79it/s]\n",
      "100%|█████████████████████████████████████████████████████████| 46/46 [00:00<00:00, 220.21it/s]\n"
     ]
    },
    {
     "name": "stdout",
     "output_type": "stream",
     "text": [
      "Epoch: 47 | Training Loss: 0.06934107390518945  | Validation Loss: 1.9013383699500042  | Accuracy: 60.46\n"
     ]
    },
    {
     "name": "stderr",
     "output_type": "stream",
     "text": [
      "156it [00:02, 54.72it/s]\n",
      "100%|█████████████████████████████████████████████████████████| 46/46 [00:00<00:00, 220.39it/s]\n"
     ]
    },
    {
     "name": "stdout",
     "output_type": "stream",
     "text": [
      "Epoch: 48 | Training Loss: 0.06159833305252668  | Validation Loss: 2.234009838622549  | Accuracy: 59.49\n"
     ]
    },
    {
     "name": "stderr",
     "output_type": "stream",
     "text": [
      "156it [00:02, 55.35it/s]\n",
      "100%|█████████████████████████████████████████████████████████| 46/46 [00:00<00:00, 219.42it/s]\n"
     ]
    },
    {
     "name": "stdout",
     "output_type": "stream",
     "text": [
      "Epoch: 49 | Training Loss: 0.053438558123814754  | Validation Loss: 2.2779498540836833  | Accuracy: 59.83\n"
     ]
    },
    {
     "name": "stderr",
     "output_type": "stream",
     "text": [
      "156it [00:02, 56.05it/s]\n",
      "100%|█████████████████████████████████████████████████████████| 46/46 [00:00<00:00, 220.87it/s]\n"
     ]
    },
    {
     "name": "stdout",
     "output_type": "stream",
     "text": [
      "Epoch: 50 | Training Loss: 0.054440515247197487  | Validation Loss: 2.0786673970844434  | Accuracy: 59.34\n"
     ]
    },
    {
     "name": "stderr",
     "output_type": "stream",
     "text": [
      "156it [00:02, 56.16it/s]\n",
      "100%|█████████████████████████████████████████████████████████| 46/46 [00:00<00:00, 218.70it/s]\n"
     ]
    },
    {
     "name": "stdout",
     "output_type": "stream",
     "text": [
      "Epoch: 51 | Training Loss: 0.06078711008199324  | Validation Loss: 2.2882296702136165  | Accuracy: 57.39\n"
     ]
    },
    {
     "name": "stderr",
     "output_type": "stream",
     "text": [
      "156it [00:02, 56.12it/s]\n",
      "100%|█████████████████████████████████████████████████████████| 46/46 [00:00<00:00, 219.32it/s]\n"
     ]
    },
    {
     "name": "stdout",
     "output_type": "stream",
     "text": [
      "Epoch: 52 | Training Loss: 0.04975865859514437  | Validation Loss: 2.542992853600046  | Accuracy: 58.22\n"
     ]
    },
    {
     "name": "stderr",
     "output_type": "stream",
     "text": [
      "156it [00:02, 56.01it/s]\n",
      "100%|█████████████████████████████████████████████████████████| 46/46 [00:00<00:00, 219.73it/s]\n"
     ]
    },
    {
     "name": "stdout",
     "output_type": "stream",
     "text": [
      "Epoch: 53 | Training Loss: 0.05022853419471245  | Validation Loss: 2.108559927214747  | Accuracy: 58.80\n"
     ]
    },
    {
     "name": "stderr",
     "output_type": "stream",
     "text": [
      "156it [00:02, 56.09it/s]\n",
      "100%|█████████████████████████████████████████████████████████| 46/46 [00:00<00:00, 218.41it/s]\n"
     ]
    },
    {
     "name": "stdout",
     "output_type": "stream",
     "text": [
      "Epoch: 54 | Training Loss: 0.05220102838789805  | Validation Loss: 2.38472892149635  | Accuracy: 58.34\n"
     ]
    },
    {
     "name": "stderr",
     "output_type": "stream",
     "text": [
      "156it [00:02, 56.09it/s]\n",
      "100%|█████████████████████████████████████████████████████████| 46/46 [00:00<00:00, 219.42it/s]\n"
     ]
    },
    {
     "name": "stdout",
     "output_type": "stream",
     "text": [
      "Epoch: 55 | Training Loss: 0.05658707047143999  | Validation Loss: 2.0458151490791985  | Accuracy: 60.43\n"
     ]
    },
    {
     "name": "stderr",
     "output_type": "stream",
     "text": [
      "156it [00:02, 55.99it/s]\n",
      "100%|█████████████████████████████████████████████████████████| 46/46 [00:00<00:00, 219.00it/s]\n"
     ]
    },
    {
     "name": "stdout",
     "output_type": "stream",
     "text": [
      "Epoch: 56 | Training Loss: 0.05597518495498942  | Validation Loss: 2.0156725152679114  | Accuracy: 61.50\n"
     ]
    },
    {
     "name": "stderr",
     "output_type": "stream",
     "text": [
      "156it [00:02, 56.07it/s]\n",
      "100%|█████████████████████████████████████████████████████████| 46/46 [00:00<00:00, 219.18it/s]\n"
     ]
    },
    {
     "name": "stdout",
     "output_type": "stream",
     "text": [
      "Epoch: 57 | Training Loss: 0.04636028684818974  | Validation Loss: 2.4718192401139634  | Accuracy: 58.92\n"
     ]
    },
    {
     "name": "stderr",
     "output_type": "stream",
     "text": [
      "156it [00:02, 56.13it/s]\n",
      "100%|█████████████████████████████████████████████████████████| 46/46 [00:00<00:00, 218.70it/s]\n"
     ]
    },
    {
     "name": "stdout",
     "output_type": "stream",
     "text": [
      "Epoch: 58 | Training Loss: 0.047712884264257856  | Validation Loss: 2.4155843257904053  | Accuracy: 58.64\n"
     ]
    },
    {
     "name": "stderr",
     "output_type": "stream",
     "text": [
      "156it [00:02, 56.08it/s]\n",
      "100%|█████████████████████████████████████████████████████████| 46/46 [00:00<00:00, 218.99it/s]\n"
     ]
    },
    {
     "name": "stdout",
     "output_type": "stream",
     "text": [
      "Epoch: 59 | Training Loss: 0.04502679652068764  | Validation Loss: 2.2862329845843106  | Accuracy: 58.66\n"
     ]
    },
    {
     "name": "stderr",
     "output_type": "stream",
     "text": [
      "156it [00:02, 56.05it/s]\n",
      "100%|█████████████████████████████████████████████████████████| 46/46 [00:00<00:00, 218.31it/s]\n"
     ]
    },
    {
     "name": "stdout",
     "output_type": "stream",
     "text": [
      "Epoch: 60 | Training Loss: 0.050085188409026996  | Validation Loss: 2.32455350264259  | Accuracy: 58.68\n"
     ]
    },
    {
     "name": "stderr",
     "output_type": "stream",
     "text": [
      "156it [00:02, 56.13it/s]\n",
      "100%|█████████████████████████████████████████████████████████| 46/46 [00:00<00:00, 220.33it/s]\n"
     ]
    },
    {
     "name": "stdout",
     "output_type": "stream",
     "text": [
      "Epoch: 61 | Training Loss: 0.044974129336575665  | Validation Loss: 2.338443880495818  | Accuracy: 59.51\n"
     ]
    },
    {
     "name": "stderr",
     "output_type": "stream",
     "text": [
      "156it [00:02, 56.00it/s]\n",
      "100%|█████████████████████████████████████████████████████████| 46/46 [00:00<00:00, 217.43it/s]\n"
     ]
    },
    {
     "name": "stdout",
     "output_type": "stream",
     "text": [
      "Epoch: 62 | Training Loss: 0.043956246197175905  | Validation Loss: 2.292372789071954  | Accuracy: 60.31\n"
     ]
    },
    {
     "name": "stderr",
     "output_type": "stream",
     "text": [
      "156it [00:02, 55.92it/s]\n",
      "100%|█████████████████████████████████████████████████████████| 46/46 [00:00<00:00, 218.11it/s]\n"
     ]
    },
    {
     "name": "stdout",
     "output_type": "stream",
     "text": [
      "Epoch: 63 | Training Loss: 0.037406766411060326  | Validation Loss: 2.663030531095422  | Accuracy: 59.36\n"
     ]
    },
    {
     "name": "stderr",
     "output_type": "stream",
     "text": [
      "156it [00:02, 56.00it/s]\n",
      "100%|█████████████████████████████████████████████████████████| 46/46 [00:00<00:00, 220.20it/s]\n"
     ]
    },
    {
     "name": "stdout",
     "output_type": "stream",
     "text": [
      "Epoch: 64 | Training Loss: 0.032616507700787715  | Validation Loss: 2.7195694550223974  | Accuracy: 57.34\n"
     ]
    },
    {
     "name": "stderr",
     "output_type": "stream",
     "text": [
      "156it [00:02, 55.85it/s]\n",
      "100%|█████████████████████████████████████████████████████████| 46/46 [00:00<00:00, 218.09it/s]\n"
     ]
    },
    {
     "name": "stdout",
     "output_type": "stream",
     "text": [
      "Epoch: 65 | Training Loss: 0.03592127731117683  | Validation Loss: 2.481188336144323  | Accuracy: 59.36\n"
     ]
    },
    {
     "name": "stderr",
     "output_type": "stream",
     "text": [
      "156it [00:02, 55.96it/s]\n",
      "100%|█████████████████████████████████████████████████████████| 46/46 [00:00<00:00, 218.37it/s]\n"
     ]
    },
    {
     "name": "stdout",
     "output_type": "stream",
     "text": [
      "Epoch: 66 | Training Loss: 0.03667699119362693  | Validation Loss: 2.719250850055529  | Accuracy: 58.61\n"
     ]
    },
    {
     "name": "stderr",
     "output_type": "stream",
     "text": [
      "156it [00:02, 55.96it/s]\n",
      "100%|█████████████████████████████████████████████████████████| 46/46 [00:00<00:00, 218.70it/s]\n"
     ]
    },
    {
     "name": "stdout",
     "output_type": "stream",
     "text": [
      "Epoch: 67 | Training Loss: 0.041009970143652305  | Validation Loss: 2.539375372554945  | Accuracy: 59.31\n"
     ]
    },
    {
     "name": "stderr",
     "output_type": "stream",
     "text": [
      "156it [00:02, 56.09it/s]\n",
      "100%|█████████████████████████████████████████████████████████| 46/46 [00:00<00:00, 218.39it/s]\n"
     ]
    },
    {
     "name": "stdout",
     "output_type": "stream",
     "text": [
      "Epoch: 68 | Training Loss: 0.04033067427241267  | Validation Loss: 2.397016590056212  | Accuracy: 57.68\n"
     ]
    },
    {
     "name": "stderr",
     "output_type": "stream",
     "text": [
      "156it [00:02, 55.22it/s]\n",
      "100%|█████████████████████████████████████████████████████████| 46/46 [00:00<00:00, 206.09it/s]\n"
     ]
    },
    {
     "name": "stdout",
     "output_type": "stream",
     "text": [
      "Epoch: 69 | Training Loss: 0.034321033294336535  | Validation Loss: 2.454561871031056  | Accuracy: 59.04\n"
     ]
    },
    {
     "name": "stderr",
     "output_type": "stream",
     "text": [
      "156it [00:02, 53.80it/s]\n",
      "100%|█████████████████████████████████████████████████████████| 46/46 [00:00<00:00, 214.69it/s]\n"
     ]
    },
    {
     "name": "stdout",
     "output_type": "stream",
     "text": [
      "Epoch: 70 | Training Loss: 0.03097161332455774  | Validation Loss: 2.513393168864043  | Accuracy: 58.12\n"
     ]
    },
    {
     "name": "stderr",
     "output_type": "stream",
     "text": [
      "156it [00:02, 55.37it/s]\n",
      "100%|█████████████████████████████████████████████████████████| 46/46 [00:00<00:00, 215.98it/s]\n"
     ]
    },
    {
     "name": "stdout",
     "output_type": "stream",
     "text": [
      "Epoch: 71 | Training Loss: 0.02955315509834924  | Validation Loss: 2.662032935930335  | Accuracy: 57.95\n"
     ]
    },
    {
     "name": "stderr",
     "output_type": "stream",
     "text": [
      "156it [00:02, 55.34it/s]\n",
      "100%|█████████████████████████████████████████████████████████| 46/46 [00:00<00:00, 215.57it/s]\n"
     ]
    },
    {
     "name": "stdout",
     "output_type": "stream",
     "text": [
      "Epoch: 72 | Training Loss: 0.02792877711367626  | Validation Loss: 2.439209997653961  | Accuracy: 59.19\n"
     ]
    },
    {
     "name": "stderr",
     "output_type": "stream",
     "text": [
      "156it [00:02, 55.35it/s]\n",
      "100%|█████████████████████████████████████████████████████████| 46/46 [00:00<00:00, 215.55it/s]\n"
     ]
    },
    {
     "name": "stdout",
     "output_type": "stream",
     "text": [
      "Epoch: 73 | Training Loss: 0.02747234964492516  | Validation Loss: 2.619265644446663  | Accuracy: 60.19\n"
     ]
    },
    {
     "name": "stderr",
     "output_type": "stream",
     "text": [
      "156it [00:02, 55.13it/s]\n",
      "100%|█████████████████████████████████████████████████████████| 46/46 [00:00<00:00, 215.90it/s]\n"
     ]
    },
    {
     "name": "stdout",
     "output_type": "stream",
     "text": [
      "Epoch: 74 | Training Loss: 0.030347682672958724  | Validation Loss: 2.628915864488353  | Accuracy: 60.07\n"
     ]
    },
    {
     "name": "stderr",
     "output_type": "stream",
     "text": [
      "156it [00:02, 54.29it/s]\n",
      "100%|█████████████████████████████████████████████████████████| 46/46 [00:00<00:00, 218.28it/s]\n"
     ]
    },
    {
     "name": "stdout",
     "output_type": "stream",
     "text": [
      "Epoch: 75 | Training Loss: 0.024037194068137653  | Validation Loss: 2.608158313709757  | Accuracy: 59.99\n"
     ]
    },
    {
     "name": "stderr",
     "output_type": "stream",
     "text": [
      "156it [00:02, 54.18it/s]\n",
      "100%|█████████████████████████████████████████████████████████| 46/46 [00:00<00:00, 214.07it/s]\n"
     ]
    },
    {
     "name": "stdout",
     "output_type": "stream",
     "text": [
      "Epoch: 76 | Training Loss: 0.02857367233044874  | Validation Loss: 2.4851462296817615  | Accuracy: 60.78\n"
     ]
    },
    {
     "name": "stderr",
     "output_type": "stream",
     "text": [
      "156it [00:02, 55.62it/s]\n",
      "100%|█████████████████████████████████████████████████████████| 46/46 [00:00<00:00, 214.17it/s]\n"
     ]
    },
    {
     "name": "stdout",
     "output_type": "stream",
     "text": [
      "Epoch: 77 | Training Loss: 0.028292299743789513  | Validation Loss: 2.827316947605299  | Accuracy: 59.48\n"
     ]
    },
    {
     "name": "stderr",
     "output_type": "stream",
     "text": [
      "156it [00:02, 56.46it/s]\n",
      "100%|█████████████████████████████████████████████████████████| 46/46 [00:00<00:00, 214.05it/s]\n"
     ]
    },
    {
     "name": "stdout",
     "output_type": "stream",
     "text": [
      "Epoch: 78 | Training Loss: 0.04047696766419671  | Validation Loss: 2.771530104720074  | Accuracy: 57.80\n"
     ]
    },
    {
     "name": "stderr",
     "output_type": "stream",
     "text": [
      "156it [00:02, 55.54it/s]\n",
      "100%|█████████████████████████████████████████████████████████| 46/46 [00:00<00:00, 214.27it/s]\n"
     ]
    },
    {
     "name": "stdout",
     "output_type": "stream",
     "text": [
      "Epoch: 79 | Training Loss: 0.03442063020207943  | Validation Loss: 2.645419136337612  | Accuracy: 59.29\n"
     ]
    },
    {
     "name": "stderr",
     "output_type": "stream",
     "text": [
      "156it [00:02, 55.41it/s]\n",
      "100%|█████████████████████████████████████████████████████████| 46/46 [00:00<00:00, 214.06it/s]\n"
     ]
    },
    {
     "name": "stdout",
     "output_type": "stream",
     "text": [
      "Epoch: 80 | Training Loss: 0.02428351663118706  | Validation Loss: 2.602967091228651  | Accuracy: 59.29\n"
     ]
    },
    {
     "name": "stderr",
     "output_type": "stream",
     "text": [
      "156it [00:02, 55.33it/s]\n",
      "100%|█████████████████████████████████████████████████████████| 46/46 [00:00<00:00, 216.76it/s]\n"
     ]
    },
    {
     "name": "stdout",
     "output_type": "stream",
     "text": [
      "Epoch: 81 | Training Loss: 0.028686628953064196  | Validation Loss: 2.840601382048234  | Accuracy: 59.82\n"
     ]
    },
    {
     "name": "stderr",
     "output_type": "stream",
     "text": [
      "156it [00:02, 55.38it/s]\n",
      "100%|█████████████████████████████████████████████████████████| 46/46 [00:00<00:00, 212.44it/s]\n"
     ]
    },
    {
     "name": "stdout",
     "output_type": "stream",
     "text": [
      "Epoch: 82 | Training Loss: 0.021762137568424433  | Validation Loss: 2.9342194380967515  | Accuracy: 59.00\n"
     ]
    },
    {
     "name": "stderr",
     "output_type": "stream",
     "text": [
      "156it [00:02, 55.48it/s]\n",
      "100%|█████████████████████████████████████████████████████████| 46/46 [00:00<00:00, 215.47it/s]\n"
     ]
    },
    {
     "name": "stdout",
     "output_type": "stream",
     "text": [
      "Epoch: 83 | Training Loss: 0.024854779618087772  | Validation Loss: 2.6570577569629834  | Accuracy: 59.83\n"
     ]
    },
    {
     "name": "stderr",
     "output_type": "stream",
     "text": [
      "156it [00:02, 55.41it/s]\n",
      "100%|█████████████████████████████████████████████████████████| 46/46 [00:00<00:00, 217.40it/s]\n"
     ]
    },
    {
     "name": "stdout",
     "output_type": "stream",
     "text": [
      "Epoch: 84 | Training Loss: 0.020866380943260036  | Validation Loss: 3.1618227544038193  | Accuracy: 58.80\n"
     ]
    },
    {
     "name": "stderr",
     "output_type": "stream",
     "text": [
      "156it [00:02, 56.16it/s]\n",
      "100%|█████████████████████████████████████████████████████████| 46/46 [00:00<00:00, 215.11it/s]\n"
     ]
    },
    {
     "name": "stdout",
     "output_type": "stream",
     "text": [
      "Epoch: 85 | Training Loss: 0.019621595665693093  | Validation Loss: 2.769951239876125  | Accuracy: 59.43\n"
     ]
    },
    {
     "name": "stderr",
     "output_type": "stream",
     "text": [
      "156it [00:02, 57.74it/s]\n",
      "100%|█████████████████████████████████████████████████████████| 46/46 [00:00<00:00, 214.45it/s]\n"
     ]
    },
    {
     "name": "stdout",
     "output_type": "stream",
     "text": [
      "Epoch: 86 | Training Loss: 0.025070186304406095  | Validation Loss: 2.735205676244653  | Accuracy: 59.44\n"
     ]
    },
    {
     "name": "stderr",
     "output_type": "stream",
     "text": [
      "156it [00:02, 56.21it/s]\n",
      "100%|█████████████████████████████████████████████████████████| 46/46 [00:00<00:00, 218.82it/s]\n"
     ]
    },
    {
     "name": "stdout",
     "output_type": "stream",
     "text": [
      "Epoch: 87 | Training Loss: 0.02816182945463926  | Validation Loss: 2.5125536011612932  | Accuracy: 59.63\n"
     ]
    },
    {
     "name": "stderr",
     "output_type": "stream",
     "text": [
      "156it [00:02, 56.40it/s]\n",
      "100%|█████████████████████████████████████████████████████████| 46/46 [00:00<00:00, 218.81it/s]\n"
     ]
    },
    {
     "name": "stdout",
     "output_type": "stream",
     "text": [
      "Epoch: 88 | Training Loss: 0.03164115291721641  | Validation Loss: 3.0847383478413457  | Accuracy: 58.85\n"
     ]
    },
    {
     "name": "stderr",
     "output_type": "stream",
     "text": [
      "156it [00:02, 56.06it/s]\n",
      "100%|█████████████████████████████████████████████████████████| 46/46 [00:00<00:00, 211.92it/s]\n"
     ]
    },
    {
     "name": "stdout",
     "output_type": "stream",
     "text": [
      "Epoch: 89 | Training Loss: 0.02702648073840791  | Validation Loss: 2.925489259802777  | Accuracy: 58.46\n"
     ]
    },
    {
     "name": "stderr",
     "output_type": "stream",
     "text": [
      "156it [00:02, 56.35it/s]\n",
      "100%|█████████████████████████████████████████████████████████| 46/46 [00:00<00:00, 206.77it/s]\n"
     ]
    },
    {
     "name": "stdout",
     "output_type": "stream",
     "text": [
      "Epoch: 90 | Training Loss: 0.01895657946498921  | Validation Loss: 2.551219183465709  | Accuracy: 60.39\n"
     ]
    },
    {
     "name": "stderr",
     "output_type": "stream",
     "text": [
      "156it [00:02, 55.54it/s]\n",
      "100%|█████████████████████████████████████████████████████████| 46/46 [00:00<00:00, 212.77it/s]\n"
     ]
    },
    {
     "name": "stdout",
     "output_type": "stream",
     "text": [
      "Epoch: 91 | Training Loss: 0.028977715366263278  | Validation Loss: 2.85375644331393  | Accuracy: 59.27\n"
     ]
    },
    {
     "name": "stderr",
     "output_type": "stream",
     "text": [
      "156it [00:02, 55.35it/s]\n",
      "100%|█████████████████████████████████████████████████████████| 46/46 [00:00<00:00, 208.60it/s]\n"
     ]
    },
    {
     "name": "stdout",
     "output_type": "stream",
     "text": [
      "Epoch: 92 | Training Loss: 0.02343084570617439  | Validation Loss: 2.803640039070793  | Accuracy: 60.56\n"
     ]
    },
    {
     "name": "stderr",
     "output_type": "stream",
     "text": [
      "156it [00:02, 55.03it/s]\n",
      "100%|█████████████████████████████████████████████████████████| 46/46 [00:00<00:00, 207.65it/s]\n"
     ]
    },
    {
     "name": "stdout",
     "output_type": "stream",
     "text": [
      "Epoch: 93 | Training Loss: 0.014376383042709233  | Validation Loss: 3.131594041119451  | Accuracy: 58.49\n"
     ]
    },
    {
     "name": "stderr",
     "output_type": "stream",
     "text": [
      "156it [00:02, 54.41it/s]\n",
      "100%|█████████████████████████████████████████████████████████| 46/46 [00:00<00:00, 209.97it/s]\n"
     ]
    },
    {
     "name": "stdout",
     "output_type": "stream",
     "text": [
      "Epoch: 94 | Training Loss: 0.014482383385676747  | Validation Loss: 2.965498131254445  | Accuracy: 59.58\n"
     ]
    },
    {
     "name": "stderr",
     "output_type": "stream",
     "text": [
      "156it [00:02, 54.47it/s]\n",
      "100%|█████████████████████████████████████████████████████████| 46/46 [00:00<00:00, 207.60it/s]\n"
     ]
    },
    {
     "name": "stdout",
     "output_type": "stream",
     "text": [
      "Epoch: 95 | Training Loss: 0.015644329078405954  | Validation Loss: 3.1373675336008486  | Accuracy: 58.12\n"
     ]
    },
    {
     "name": "stderr",
     "output_type": "stream",
     "text": [
      "156it [00:02, 54.78it/s]\n",
      "100%|█████████████████████████████████████████████████████████| 46/46 [00:00<00:00, 212.78it/s]\n"
     ]
    },
    {
     "name": "stdout",
     "output_type": "stream",
     "text": [
      "Epoch: 96 | Training Loss: 0.016616377173564754  | Validation Loss: 2.9558707890303237  | Accuracy: 59.41\n"
     ]
    },
    {
     "name": "stderr",
     "output_type": "stream",
     "text": [
      "156it [00:02, 54.62it/s]\n",
      "100%|█████████████████████████████████████████████████████████| 46/46 [00:00<00:00, 208.28it/s]\n"
     ]
    },
    {
     "name": "stdout",
     "output_type": "stream",
     "text": [
      "Epoch: 97 | Training Loss: 0.01533959166949782  | Validation Loss: 3.1043999972550766  | Accuracy: 59.44\n"
     ]
    },
    {
     "name": "stderr",
     "output_type": "stream",
     "text": [
      "156it [00:02, 54.80it/s]\n",
      "100%|█████████████████████████████████████████████████████████| 46/46 [00:00<00:00, 217.34it/s]\n"
     ]
    },
    {
     "name": "stdout",
     "output_type": "stream",
     "text": [
      "Epoch: 98 | Training Loss: 0.01145688096100154  | Validation Loss: 3.2154112743294756  | Accuracy: 58.73\n"
     ]
    },
    {
     "name": "stderr",
     "output_type": "stream",
     "text": [
      "156it [00:02, 55.74it/s]\n",
      "100%|█████████████████████████████████████████████████████████| 46/46 [00:00<00:00, 216.96it/s]\n"
     ]
    },
    {
     "name": "stdout",
     "output_type": "stream",
     "text": [
      "Epoch: 99 | Training Loss: 0.020396971634069744  | Validation Loss: 3.202110829560653  | Accuracy: 57.17\n"
     ]
    },
    {
     "name": "stderr",
     "output_type": "stream",
     "text": [
      "156it [00:02, 55.35it/s]\n",
      "100%|█████████████████████████████████████████████████████████| 46/46 [00:00<00:00, 211.87it/s]\n"
     ]
    },
    {
     "name": "stdout",
     "output_type": "stream",
     "text": [
      "Epoch: 100 | Training Loss: 0.0226160854456397  | Validation Loss: 2.9894599862720654  | Accuracy: 58.92\n"
     ]
    },
    {
     "name": "stderr",
     "output_type": "stream",
     "text": [
      "156it [00:02, 54.26it/s]\n",
      "100%|█████████████████████████████████████████████████████████| 46/46 [00:00<00:00, 206.64it/s]\n"
     ]
    },
    {
     "name": "stdout",
     "output_type": "stream",
     "text": [
      "Epoch: 101 | Training Loss: 0.01294875440399688  | Validation Loss: 2.9629880760027016  | Accuracy: 58.75\n"
     ]
    },
    {
     "name": "stderr",
     "output_type": "stream",
     "text": [
      "156it [00:02, 53.40it/s]\n",
      "100%|█████████████████████████████████████████████████████████| 46/46 [00:00<00:00, 206.54it/s]\n"
     ]
    },
    {
     "name": "stdout",
     "output_type": "stream",
     "text": [
      "Epoch: 102 | Training Loss: 0.012768507894809144  | Validation Loss: 3.1090626612953516  | Accuracy: 58.68\n"
     ]
    },
    {
     "name": "stderr",
     "output_type": "stream",
     "text": [
      "156it [00:02, 54.25it/s]\n",
      "100%|█████████████████████████████████████████████████████████| 46/46 [00:00<00:00, 206.41it/s]\n"
     ]
    },
    {
     "name": "stdout",
     "output_type": "stream",
     "text": [
      "Epoch: 103 | Training Loss: 0.01826920930015592  | Validation Loss: 3.042556539825771  | Accuracy: 59.77\n"
     ]
    },
    {
     "name": "stderr",
     "output_type": "stream",
     "text": [
      "156it [00:02, 54.13it/s]\n",
      "100%|█████████████████████████████████████████████████████████| 46/46 [00:00<00:00, 205.58it/s]\n"
     ]
    },
    {
     "name": "stdout",
     "output_type": "stream",
     "text": [
      "Epoch: 104 | Training Loss: 0.01607700662750106  | Validation Loss: 3.0902599407278974  | Accuracy: 58.10\n"
     ]
    },
    {
     "name": "stderr",
     "output_type": "stream",
     "text": [
      "156it [00:02, 55.44it/s]\n",
      "100%|█████████████████████████████████████████████████████████| 46/46 [00:00<00:00, 215.56it/s]\n"
     ]
    },
    {
     "name": "stdout",
     "output_type": "stream",
     "text": [
      "Epoch: 105 | Training Loss: 0.0221727995816857  | Validation Loss: 3.4124091086180313  | Accuracy: 57.40\n"
     ]
    },
    {
     "name": "stderr",
     "output_type": "stream",
     "text": [
      "156it [00:02, 55.26it/s]\n",
      "100%|█████████████████████████████████████████████████████████| 46/46 [00:00<00:00, 214.93it/s]\n"
     ]
    },
    {
     "name": "stdout",
     "output_type": "stream",
     "text": [
      "Epoch: 106 | Training Loss: 0.019870871545908112  | Validation Loss: 3.407444663669752  | Accuracy: 57.81\n"
     ]
    },
    {
     "name": "stderr",
     "output_type": "stream",
     "text": [
      "156it [00:02, 55.42it/s]\n",
      "100%|█████████████████████████████████████████████████████████| 46/46 [00:00<00:00, 213.68it/s]\n"
     ]
    },
    {
     "name": "stdout",
     "output_type": "stream",
     "text": [
      "Epoch: 107 | Training Loss: 0.023165910021933273  | Validation Loss: 3.198427728984667  | Accuracy: 57.56\n"
     ]
    },
    {
     "name": "stderr",
     "output_type": "stream",
     "text": [
      "156it [00:02, 55.23it/s]\n",
      "100%|█████████████████████████████████████████████████████████| 46/46 [00:00<00:00, 215.75it/s]\n"
     ]
    },
    {
     "name": "stdout",
     "output_type": "stream",
     "text": [
      "Epoch: 108 | Training Loss: 0.02362706697283265  | Validation Loss: 3.1677203644876895  | Accuracy: 58.44\n"
     ]
    },
    {
     "name": "stderr",
     "output_type": "stream",
     "text": [
      "156it [00:02, 55.45it/s]\n",
      "100%|█████████████████████████████████████████████████████████| 46/46 [00:00<00:00, 202.63it/s]\n"
     ]
    },
    {
     "name": "stdout",
     "output_type": "stream",
     "text": [
      "Epoch: 109 | Training Loss: 0.021156938318222858  | Validation Loss: 3.3143100945845894  | Accuracy: 57.66\n"
     ]
    },
    {
     "name": "stderr",
     "output_type": "stream",
     "text": [
      "156it [00:02, 53.84it/s]\n",
      "100%|█████████████████████████████████████████████████████████| 46/46 [00:00<00:00, 203.81it/s]\n"
     ]
    },
    {
     "name": "stdout",
     "output_type": "stream",
     "text": [
      "Epoch: 110 | Training Loss: 0.01935663255221115  | Validation Loss: 3.3214535868686177  | Accuracy: 58.15\n"
     ]
    },
    {
     "name": "stderr",
     "output_type": "stream",
     "text": [
      "156it [00:02, 53.10it/s]\n",
      "100%|█████████████████████████████████████████████████████████| 46/46 [00:00<00:00, 202.99it/s]\n"
     ]
    },
    {
     "name": "stdout",
     "output_type": "stream",
     "text": [
      "Epoch: 111 | Training Loss: 0.015027950187989822  | Validation Loss: 3.211969608845918  | Accuracy: 57.90\n"
     ]
    },
    {
     "name": "stderr",
     "output_type": "stream",
     "text": [
      "156it [00:02, 54.83it/s]\n",
      "100%|█████████████████████████████████████████████████████████| 46/46 [00:00<00:00, 208.04it/s]\n"
     ]
    },
    {
     "name": "stdout",
     "output_type": "stream",
     "text": [
      "Epoch: 112 | Training Loss: 0.016913947860862557  | Validation Loss: 2.9418277222177256  | Accuracy: 58.27\n"
     ]
    },
    {
     "name": "stderr",
     "output_type": "stream",
     "text": [
      "156it [00:02, 54.08it/s]\n",
      "100%|█████████████████████████████████████████████████████████| 46/46 [00:00<00:00, 200.86it/s]\n"
     ]
    },
    {
     "name": "stdout",
     "output_type": "stream",
     "text": [
      "Epoch: 113 | Training Loss: 0.016447335979766928  | Validation Loss: 3.3092993705169014  | Accuracy: 57.52\n"
     ]
    },
    {
     "name": "stderr",
     "output_type": "stream",
     "text": [
      "156it [00:03, 46.84it/s]\n",
      "100%|█████████████████████████████████████████████████████████| 46/46 [00:00<00:00, 188.72it/s]\n"
     ]
    },
    {
     "name": "stdout",
     "output_type": "stream",
     "text": [
      "Epoch: 114 | Training Loss: 0.02129531171074352  | Validation Loss: 3.1769005008365796  | Accuracy: 58.87\n"
     ]
    },
    {
     "name": "stderr",
     "output_type": "stream",
     "text": [
      "156it [00:03, 41.45it/s]\n",
      "100%|█████████████████████████████████████████████████████████| 46/46 [00:00<00:00, 141.09it/s]\n"
     ]
    },
    {
     "name": "stdout",
     "output_type": "stream",
     "text": [
      "Epoch: 115 | Training Loss: 0.02135498679126613  | Validation Loss: 2.9631731354671977  | Accuracy: 59.82\n"
     ]
    },
    {
     "name": "stderr",
     "output_type": "stream",
     "text": [
      "156it [00:03, 39.63it/s]\n",
      "100%|█████████████████████████████████████████████████████████| 46/46 [00:00<00:00, 160.00it/s]\n"
     ]
    },
    {
     "name": "stdout",
     "output_type": "stream",
     "text": [
      "Epoch: 116 | Training Loss: 0.014191846081909413  | Validation Loss: 3.3031017521153325  | Accuracy: 59.24\n"
     ]
    },
    {
     "name": "stderr",
     "output_type": "stream",
     "text": [
      "156it [00:03, 40.95it/s]\n",
      "100%|█████████████████████████████████████████████████████████| 46/46 [00:00<00:00, 147.85it/s]\n"
     ]
    },
    {
     "name": "stdout",
     "output_type": "stream",
     "text": [
      "Epoch: 117 | Training Loss: 0.015506934581282668  | Validation Loss: 3.7295451682546865  | Accuracy: 57.97\n"
     ]
    },
    {
     "name": "stderr",
     "output_type": "stream",
     "text": [
      "156it [00:03, 41.41it/s]\n",
      "100%|█████████████████████████████████████████████████████████| 46/46 [00:00<00:00, 162.38it/s]\n"
     ]
    },
    {
     "name": "stdout",
     "output_type": "stream",
     "text": [
      "Epoch: 118 | Training Loss: 0.01723718548190589  | Validation Loss: 3.229510353959125  | Accuracy: 58.90\n"
     ]
    },
    {
     "name": "stderr",
     "output_type": "stream",
     "text": [
      "156it [00:03, 41.53it/s]\n",
      "100%|█████████████████████████████████████████████████████████| 46/46 [00:00<00:00, 147.03it/s]\n"
     ]
    },
    {
     "name": "stdout",
     "output_type": "stream",
     "text": [
      "Epoch: 119 | Training Loss: 0.010681336435552042  | Validation Loss: 3.252852683481963  | Accuracy: 59.82\n"
     ]
    },
    {
     "name": "stderr",
     "output_type": "stream",
     "text": [
      "156it [00:03, 41.59it/s]\n",
      "100%|█████████████████████████████████████████████████████████| 46/46 [00:00<00:00, 149.10it/s]\n"
     ]
    },
    {
     "name": "stdout",
     "output_type": "stream",
     "text": [
      "Epoch: 120 | Training Loss: 0.008274269385602122  | Validation Loss: 3.3201753056567647  | Accuracy: 59.68\n"
     ]
    },
    {
     "name": "stderr",
     "output_type": "stream",
     "text": [
      "156it [00:03, 41.19it/s]\n",
      "100%|█████████████████████████████████████████████████████████| 46/46 [00:00<00:00, 151.17it/s]\n"
     ]
    },
    {
     "name": "stdout",
     "output_type": "stream",
     "text": [
      "Epoch: 121 | Training Loss: 0.007902011176786171  | Validation Loss: 3.4200426132782646  | Accuracy: 59.34\n"
     ]
    },
    {
     "name": "stderr",
     "output_type": "stream",
     "text": [
      "156it [00:03, 41.71it/s]\n",
      "100%|█████████████████████████████████████████████████████████| 46/46 [00:00<00:00, 146.98it/s]\n"
     ]
    },
    {
     "name": "stdout",
     "output_type": "stream",
     "text": [
      "Epoch: 122 | Training Loss: 0.007779090068652295  | Validation Loss: 3.160635393598805  | Accuracy: 59.77\n"
     ]
    },
    {
     "name": "stderr",
     "output_type": "stream",
     "text": [
      "156it [00:03, 40.88it/s]\n",
      "100%|█████████████████████████████████████████████████████████| 46/46 [00:00<00:00, 167.82it/s]\n"
     ]
    },
    {
     "name": "stdout",
     "output_type": "stream",
     "text": [
      "Epoch: 123 | Training Loss: 0.015838730640004937  | Validation Loss: 3.6623953788176826  | Accuracy: 57.71\n"
     ]
    },
    {
     "name": "stderr",
     "output_type": "stream",
     "text": [
      "156it [00:03, 41.04it/s]\n",
      "100%|█████████████████████████████████████████████████████████| 46/46 [00:00<00:00, 145.91it/s]\n"
     ]
    },
    {
     "name": "stdout",
     "output_type": "stream",
     "text": [
      "Epoch: 124 | Training Loss: 0.012232365760167178  | Validation Loss: 3.4049257040023804  | Accuracy: 59.34\n"
     ]
    },
    {
     "name": "stderr",
     "output_type": "stream",
     "text": [
      "156it [00:03, 41.28it/s]\n",
      "100%|█████████████████████████████████████████████████████████| 46/46 [00:00<00:00, 159.02it/s]\n"
     ]
    },
    {
     "name": "stdout",
     "output_type": "stream",
     "text": [
      "Epoch: 125 | Training Loss: 0.013560640860351926  | Validation Loss: 3.568059776140296  | Accuracy: 57.64\n"
     ]
    },
    {
     "name": "stderr",
     "output_type": "stream",
     "text": [
      "156it [00:03, 41.07it/s]\n",
      "100%|█████████████████████████████████████████████████████████| 46/46 [00:00<00:00, 146.36it/s]\n"
     ]
    },
    {
     "name": "stdout",
     "output_type": "stream",
     "text": [
      "Epoch: 126 | Training Loss: 0.013090270505367348  | Validation Loss: 3.2553731047588848  | Accuracy: 58.34\n"
     ]
    },
    {
     "name": "stderr",
     "output_type": "stream",
     "text": [
      "156it [00:03, 41.98it/s]\n",
      "100%|█████████████████████████████████████████████████████████| 46/46 [00:00<00:00, 148.42it/s]\n"
     ]
    },
    {
     "name": "stdout",
     "output_type": "stream",
     "text": [
      "Epoch: 127 | Training Loss: 0.008483228030038448  | Validation Loss: 3.1846700492112534  | Accuracy: 59.14\n"
     ]
    },
    {
     "name": "stderr",
     "output_type": "stream",
     "text": [
      "156it [00:03, 41.00it/s]\n",
      "100%|█████████████████████████████████████████████████████████| 46/46 [00:00<00:00, 147.86it/s]\n"
     ]
    },
    {
     "name": "stdout",
     "output_type": "stream",
     "text": [
      "Epoch: 128 | Training Loss: 0.009198165374796074  | Validation Loss: 3.3791133787321006  | Accuracy: 58.47\n"
     ]
    },
    {
     "name": "stderr",
     "output_type": "stream",
     "text": [
      "156it [00:03, 41.62it/s]\n",
      "100%|█████████████████████████████████████████████████████████| 46/46 [00:00<00:00, 147.82it/s]\n"
     ]
    },
    {
     "name": "stdout",
     "output_type": "stream",
     "text": [
      "Epoch: 129 | Training Loss: 0.005552564353050771  | Validation Loss: 3.287512437157009  | Accuracy: 59.99\n"
     ]
    },
    {
     "name": "stderr",
     "output_type": "stream",
     "text": [
      "156it [00:03, 41.09it/s]\n",
      "100%|█████████████████████████████████████████████████████████| 46/46 [00:00<00:00, 165.34it/s]\n"
     ]
    },
    {
     "name": "stdout",
     "output_type": "stream",
     "text": [
      "Epoch: 130 | Training Loss: 0.015033383055243833  | Validation Loss: 3.715649910595106  | Accuracy: 58.36\n"
     ]
    },
    {
     "name": "stderr",
     "output_type": "stream",
     "text": [
      "156it [00:03, 41.18it/s]\n",
      "100%|█████████████████████████████████████████████████████████| 46/46 [00:00<00:00, 146.42it/s]\n"
     ]
    },
    {
     "name": "stdout",
     "output_type": "stream",
     "text": [
      "Epoch: 131 | Training Loss: 0.01607373688901321  | Validation Loss: 3.4245280804841416  | Accuracy: 59.02\n"
     ]
    },
    {
     "name": "stderr",
     "output_type": "stream",
     "text": [
      "156it [00:03, 41.43it/s]\n",
      "100%|█████████████████████████████████████████████████████████| 46/46 [00:00<00:00, 163.65it/s]\n"
     ]
    },
    {
     "name": "stdout",
     "output_type": "stream",
     "text": [
      "Epoch: 132 | Training Loss: 0.011947666004580708  | Validation Loss: 3.2257259151209956  | Accuracy: 58.41\n"
     ]
    },
    {
     "name": "stderr",
     "output_type": "stream",
     "text": [
      "156it [00:03, 41.24it/s]\n",
      "100%|█████████████████████████████████████████████████████████| 46/46 [00:00<00:00, 152.80it/s]\n"
     ]
    },
    {
     "name": "stdout",
     "output_type": "stream",
     "text": [
      "Epoch: 133 | Training Loss: 0.008819867405877747  | Validation Loss: 3.3009011952773384  | Accuracy: 59.83\n"
     ]
    },
    {
     "name": "stderr",
     "output_type": "stream",
     "text": [
      "156it [00:03, 41.66it/s]\n",
      "100%|█████████████████████████████████████████████████████████| 46/46 [00:00<00:00, 154.11it/s]\n"
     ]
    },
    {
     "name": "stdout",
     "output_type": "stream",
     "text": [
      "Epoch: 134 | Training Loss: 0.0066518289572857795  | Validation Loss: 3.3822674803111865  | Accuracy: 59.85\n"
     ]
    },
    {
     "name": "stderr",
     "output_type": "stream",
     "text": [
      "156it [00:03, 41.31it/s]\n",
      "100%|█████████████████████████████████████████████████████████| 46/46 [00:00<00:00, 148.47it/s]\n"
     ]
    },
    {
     "name": "stdout",
     "output_type": "stream",
     "text": [
      "Epoch: 135 | Training Loss: 0.0054991156646746015  | Validation Loss: 3.1684332204901655  | Accuracy: 59.15\n"
     ]
    },
    {
     "name": "stderr",
     "output_type": "stream",
     "text": [
      "156it [00:03, 41.73it/s]\n",
      "100%|█████████████████████████████████████████████████████████| 46/46 [00:00<00:00, 148.05it/s]\n"
     ]
    },
    {
     "name": "stdout",
     "output_type": "stream",
     "text": [
      "Epoch: 136 | Training Loss: 0.005724703607437476  | Validation Loss: 3.472683248312577  | Accuracy: 58.71\n"
     ]
    },
    {
     "name": "stderr",
     "output_type": "stream",
     "text": [
      "156it [00:03, 40.75it/s]\n",
      "100%|█████████████████████████████████████████████████████████| 46/46 [00:00<00:00, 160.07it/s]\n"
     ]
    },
    {
     "name": "stdout",
     "output_type": "stream",
     "text": [
      "Epoch: 137 | Training Loss: 0.00801014548424297  | Validation Loss: 3.510755015456158  | Accuracy: 58.08\n"
     ]
    },
    {
     "name": "stderr",
     "output_type": "stream",
     "text": [
      "156it [00:03, 40.94it/s]\n",
      "100%|█████████████████████████████████████████████████████████| 46/46 [00:00<00:00, 147.77it/s]\n"
     ]
    },
    {
     "name": "stdout",
     "output_type": "stream",
     "text": [
      "Epoch: 138 | Training Loss: 0.010173720924612075  | Validation Loss: 3.3427034771960713  | Accuracy: 59.60\n"
     ]
    },
    {
     "name": "stderr",
     "output_type": "stream",
     "text": [
      "156it [00:03, 41.62it/s]\n",
      "100%|█████████████████████████████████████████████████████████| 46/46 [00:00<00:00, 163.71it/s]\n"
     ]
    },
    {
     "name": "stdout",
     "output_type": "stream",
     "text": [
      "Epoch: 139 | Training Loss: 0.011278035229434654  | Validation Loss: 3.44459054781043  | Accuracy: 58.64\n"
     ]
    },
    {
     "name": "stderr",
     "output_type": "stream",
     "text": [
      "156it [00:03, 39.74it/s]\n",
      "100%|█████████████████████████████████████████████████████████| 46/46 [00:00<00:00, 138.07it/s]\n"
     ]
    },
    {
     "name": "stdout",
     "output_type": "stream",
     "text": [
      "Epoch: 140 | Training Loss: 0.014662946951620352  | Validation Loss: 3.4352540918018506  | Accuracy: 58.37\n"
     ]
    },
    {
     "name": "stderr",
     "output_type": "stream",
     "text": [
      "156it [00:03, 40.70it/s]\n",
      "100%|█████████████████████████████████████████████████████████| 46/46 [00:00<00:00, 144.70it/s]\n"
     ]
    },
    {
     "name": "stdout",
     "output_type": "stream",
     "text": [
      "Epoch: 141 | Training Loss: 0.015474722619192341  | Validation Loss: 3.2096021330874898  | Accuracy: 59.61\n"
     ]
    },
    {
     "name": "stderr",
     "output_type": "stream",
     "text": [
      "156it [00:03, 40.31it/s]\n",
      "100%|█████████████████████████████████████████████████████████| 46/46 [00:00<00:00, 151.95it/s]\n"
     ]
    },
    {
     "name": "stdout",
     "output_type": "stream",
     "text": [
      "Epoch: 142 | Training Loss: 0.01917397426903988  | Validation Loss: 3.4541938667712  | Accuracy: 59.05\n"
     ]
    },
    {
     "name": "stderr",
     "output_type": "stream",
     "text": [
      "156it [00:03, 40.56it/s]\n",
      "100%|█████████████████████████████████████████████████████████| 46/46 [00:00<00:00, 144.31it/s]\n"
     ]
    },
    {
     "name": "stdout",
     "output_type": "stream",
     "text": [
      "Epoch: 143 | Training Loss: 0.014797898188146811  | Validation Loss: 3.152074378469716  | Accuracy: 60.11\n"
     ]
    },
    {
     "name": "stderr",
     "output_type": "stream",
     "text": [
      "156it [00:03, 40.33it/s]\n",
      "100%|█████████████████████████████████████████████████████████| 46/46 [00:00<00:00, 167.56it/s]\n"
     ]
    },
    {
     "name": "stdout",
     "output_type": "stream",
     "text": [
      "Epoch: 144 | Training Loss: 0.017064550443767354  | Validation Loss: 3.233455455821493  | Accuracy: 59.15\n"
     ]
    },
    {
     "name": "stderr",
     "output_type": "stream",
     "text": [
      "156it [00:03, 40.47it/s]\n",
      "100%|█████████████████████████████████████████████████████████| 46/46 [00:00<00:00, 144.87it/s]\n"
     ]
    },
    {
     "name": "stdout",
     "output_type": "stream",
     "text": [
      "Epoch: 145 | Training Loss: 0.01629782445767584  | Validation Loss: 3.3691732416982236  | Accuracy: 58.93\n"
     ]
    },
    {
     "name": "stderr",
     "output_type": "stream",
     "text": [
      "156it [00:03, 41.20it/s]\n",
      "100%|█████████████████████████████████████████████████████████| 46/46 [00:00<00:00, 163.04it/s]\n"
     ]
    },
    {
     "name": "stdout",
     "output_type": "stream",
     "text": [
      "Epoch: 146 | Training Loss: 0.018383732646515664  | Validation Loss: 3.4707765268242876  | Accuracy: 58.98\n"
     ]
    },
    {
     "name": "stderr",
     "output_type": "stream",
     "text": [
      "156it [00:03, 40.36it/s]\n",
      "100%|█████████████████████████████████████████████████████████| 46/46 [00:00<00:00, 143.42it/s]\n"
     ]
    },
    {
     "name": "stdout",
     "output_type": "stream",
     "text": [
      "Epoch: 147 | Training Loss: 0.01915866874370318  | Validation Loss: 3.2219434043635493  | Accuracy: 60.29\n"
     ]
    },
    {
     "name": "stderr",
     "output_type": "stream",
     "text": [
      "156it [00:03, 40.73it/s]\n",
      "100%|█████████████████████████████████████████████████████████| 46/46 [00:00<00:00, 144.36it/s]\n"
     ]
    },
    {
     "name": "stdout",
     "output_type": "stream",
     "text": [
      "Epoch: 148 | Training Loss: 0.009443345517539479  | Validation Loss: 3.5582332611083984  | Accuracy: 58.31\n"
     ]
    },
    {
     "name": "stderr",
     "output_type": "stream",
     "text": [
      "156it [00:03, 40.30it/s]\n",
      "100%|█████████████████████████████████████████████████████████| 46/46 [00:00<00:00, 151.35it/s]\n"
     ]
    },
    {
     "name": "stdout",
     "output_type": "stream",
     "text": [
      "Epoch: 149 | Training Loss: 0.010863063606218649  | Validation Loss: 3.6062280613443125  | Accuracy: 58.98\n"
     ]
    },
    {
     "name": "stderr",
     "output_type": "stream",
     "text": [
      "156it [00:03, 40.49it/s]\n",
      "100%|█████████████████████████████████████████████████████████| 46/46 [00:00<00:00, 145.13it/s]\n"
     ]
    },
    {
     "name": "stdout",
     "output_type": "stream",
     "text": [
      "Epoch: 150 | Training Loss: 0.0073006934143426735  | Validation Loss: 3.2706981430882993  | Accuracy: 59.15\n"
     ]
    },
    {
     "name": "stderr",
     "output_type": "stream",
     "text": [
      "156it [00:03, 40.24it/s]\n",
      "100%|█████████████████████████████████████████████████████████| 46/46 [00:00<00:00, 166.37it/s]\n"
     ]
    },
    {
     "name": "stdout",
     "output_type": "stream",
     "text": [
      "Epoch: 151 | Training Loss: 0.008307442297966471  | Validation Loss: 3.21305615487306  | Accuracy: 59.60\n"
     ]
    },
    {
     "name": "stderr",
     "output_type": "stream",
     "text": [
      "156it [00:03, 40.18it/s]\n",
      "100%|█████████████████████████████████████████████████████████| 46/46 [00:00<00:00, 143.54it/s]\n"
     ]
    },
    {
     "name": "stdout",
     "output_type": "stream",
     "text": [
      "Epoch: 152 | Training Loss: 0.010615657980498584  | Validation Loss: 3.5658332057621167  | Accuracy: 57.85\n"
     ]
    },
    {
     "name": "stderr",
     "output_type": "stream",
     "text": [
      "156it [00:03, 40.82it/s]\n",
      "100%|█████████████████████████████████████████████████████████| 46/46 [00:00<00:00, 143.28it/s]\n"
     ]
    },
    {
     "name": "stdout",
     "output_type": "stream",
     "text": [
      "Epoch: 153 | Training Loss: 0.016477803120767184  | Validation Loss: 3.386618432791337  | Accuracy: 58.75\n"
     ]
    },
    {
     "name": "stderr",
     "output_type": "stream",
     "text": [
      "156it [00:03, 40.30it/s]\n",
      "100%|█████████████████████████████████████████████████████████| 46/46 [00:00<00:00, 143.33it/s]\n"
     ]
    },
    {
     "name": "stdout",
     "output_type": "stream",
     "text": [
      "Epoch: 154 | Training Loss: 0.013141283794165922  | Validation Loss: 3.272300590639529  | Accuracy: 58.46\n"
     ]
    },
    {
     "name": "stderr",
     "output_type": "stream",
     "text": [
      "156it [00:03, 40.70it/s]\n",
      "100%|█████████████████████████████████████████████████████████| 46/46 [00:00<00:00, 144.44it/s]\n"
     ]
    },
    {
     "name": "stdout",
     "output_type": "stream",
     "text": [
      "Epoch: 155 | Training Loss: 0.008813687649074918  | Validation Loss: 3.5836616080740225  | Accuracy: 58.36\n"
     ]
    },
    {
     "name": "stderr",
     "output_type": "stream",
     "text": [
      "156it [00:03, 40.37it/s]\n",
      "100%|█████████████████████████████████████████████████████████| 46/46 [00:00<00:00, 166.08it/s]\n"
     ]
    },
    {
     "name": "stdout",
     "output_type": "stream",
     "text": [
      "Epoch: 156 | Training Loss: 0.007811716478616477  | Validation Loss: 3.3091463990833447  | Accuracy: 58.95\n"
     ]
    },
    {
     "name": "stderr",
     "output_type": "stream",
     "text": [
      "156it [00:03, 40.29it/s]\n",
      "100%|█████████████████████████████████████████████████████████| 46/46 [00:00<00:00, 145.00it/s]\n"
     ]
    },
    {
     "name": "stdout",
     "output_type": "stream",
     "text": [
      "Epoch: 157 | Training Loss: 0.009847444931298154  | Validation Loss: 3.3710587076518848  | Accuracy: 59.80\n"
     ]
    },
    {
     "name": "stderr",
     "output_type": "stream",
     "text": [
      "156it [00:03, 41.10it/s]\n",
      "100%|█████████████████████████████████████████████████████████| 46/46 [00:00<00:00, 150.40it/s]\n"
     ]
    },
    {
     "name": "stdout",
     "output_type": "stream",
     "text": [
      "Epoch: 158 | Training Loss: 0.0072354223330666385  | Validation Loss: 3.3455889328666357  | Accuracy: 58.64\n"
     ]
    },
    {
     "name": "stderr",
     "output_type": "stream",
     "text": [
      "156it [00:03, 40.43it/s]\n",
      "100%|█████████████████████████████████████████████████████████| 46/46 [00:00<00:00, 145.95it/s]\n"
     ]
    },
    {
     "name": "stdout",
     "output_type": "stream",
     "text": [
      "Epoch: 159 | Training Loss: 0.008622369968715923  | Validation Loss: 3.744343285975249  | Accuracy: 57.76\n"
     ]
    },
    {
     "name": "stderr",
     "output_type": "stream",
     "text": [
      "156it [00:03, 41.08it/s]\n",
      "100%|█████████████████████████████████████████████████████████| 46/46 [00:00<00:00, 143.24it/s]\n"
     ]
    },
    {
     "name": "stdout",
     "output_type": "stream",
     "text": [
      "Epoch: 160 | Training Loss: 0.009839683764417155  | Validation Loss: 3.438605308532715  | Accuracy: 58.25\n"
     ]
    },
    {
     "name": "stderr",
     "output_type": "stream",
     "text": [
      "156it [00:03, 40.28it/s]\n",
      "100%|█████████████████████████████████████████████████████████| 46/46 [00:00<00:00, 159.86it/s]\n"
     ]
    },
    {
     "name": "stdout",
     "output_type": "stream",
     "text": [
      "Epoch: 161 | Training Loss: 0.01078604872768315  | Validation Loss: 3.3018664432608564  | Accuracy: 59.43\n"
     ]
    },
    {
     "name": "stderr",
     "output_type": "stream",
     "text": [
      "156it [00:03, 40.56it/s]\n",
      "100%|█████████████████████████████████████████████████████████| 46/46 [00:00<00:00, 145.16it/s]\n"
     ]
    },
    {
     "name": "stdout",
     "output_type": "stream",
     "text": [
      "Epoch: 162 | Training Loss: 0.017127673305087507  | Validation Loss: 3.4995806424514107  | Accuracy: 58.00\n"
     ]
    },
    {
     "name": "stderr",
     "output_type": "stream",
     "text": [
      "156it [00:03, 40.57it/s]\n",
      "100%|█████████████████████████████████████████████████████████| 46/46 [00:00<00:00, 162.86it/s]\n"
     ]
    },
    {
     "name": "stdout",
     "output_type": "stream",
     "text": [
      "Epoch: 163 | Training Loss: 0.01847933533188039  | Validation Loss: 3.4901890236398447  | Accuracy: 57.59\n"
     ]
    },
    {
     "name": "stderr",
     "output_type": "stream",
     "text": [
      "156it [00:03, 41.50it/s]\n",
      "100%|█████████████████████████████████████████████████████████| 46/46 [00:00<00:00, 150.92it/s]\n"
     ]
    },
    {
     "name": "stdout",
     "output_type": "stream",
     "text": [
      "Epoch: 164 | Training Loss: 0.007047000150263417  | Validation Loss: 3.2859787319017495  | Accuracy: 58.46\n"
     ]
    },
    {
     "name": "stderr",
     "output_type": "stream",
     "text": [
      "156it [00:03, 41.87it/s]\n",
      "100%|█████████████████████████████████████████████████████████| 46/46 [00:00<00:00, 153.70it/s]\n"
     ]
    },
    {
     "name": "stdout",
     "output_type": "stream",
     "text": [
      "Epoch: 165 | Training Loss: 0.006631124099397148  | Validation Loss: 3.426781281181004  | Accuracy: 58.42\n"
     ]
    },
    {
     "name": "stderr",
     "output_type": "stream",
     "text": [
      "156it [00:03, 40.47it/s]\n",
      "100%|█████████████████████████████████████████████████████████| 46/46 [00:00<00:00, 144.52it/s]\n"
     ]
    },
    {
     "name": "stdout",
     "output_type": "stream",
     "text": [
      "Epoch: 166 | Training Loss: 0.006540159159974279  | Validation Loss: 3.1954028088113535  | Accuracy: 59.15\n"
     ]
    },
    {
     "name": "stderr",
     "output_type": "stream",
     "text": [
      "156it [00:03, 41.33it/s]\n",
      "100%|█████████████████████████████████████████████████████████| 46/46 [00:00<00:00, 145.44it/s]\n"
     ]
    },
    {
     "name": "stdout",
     "output_type": "stream",
     "text": [
      "Epoch: 167 | Training Loss: 0.005848230773363656  | Validation Loss: 3.495613129242607  | Accuracy: 58.08\n"
     ]
    },
    {
     "name": "stderr",
     "output_type": "stream",
     "text": [
      "156it [00:03, 40.66it/s]\n",
      "100%|█████████████████████████████████████████████████████████| 46/46 [00:00<00:00, 148.69it/s]\n"
     ]
    },
    {
     "name": "stdout",
     "output_type": "stream",
     "text": [
      "Epoch: 168 | Training Loss: 0.00308912915212344  | Validation Loss: 3.6583902991336323  | Accuracy: 59.38\n"
     ]
    },
    {
     "name": "stderr",
     "output_type": "stream",
     "text": [
      "156it [00:03, 41.02it/s]\n",
      "100%|█████████████████████████████████████████████████████████| 46/46 [00:00<00:00, 145.50it/s]\n"
     ]
    },
    {
     "name": "stdout",
     "output_type": "stream",
     "text": [
      "Epoch: 169 | Training Loss: 0.0029913788719754964  | Validation Loss: 3.5018994238065635  | Accuracy: 59.65\n"
     ]
    },
    {
     "name": "stderr",
     "output_type": "stream",
     "text": [
      "156it [00:03, 40.35it/s]\n",
      "100%|█████████████████████████████████████████████████████████| 46/46 [00:00<00:00, 170.73it/s]\n"
     ]
    },
    {
     "name": "stdout",
     "output_type": "stream",
     "text": [
      "Epoch: 170 | Training Loss: 0.003039336387304595  | Validation Loss: 3.504731639571812  | Accuracy: 59.48\n"
     ]
    },
    {
     "name": "stderr",
     "output_type": "stream",
     "text": [
      "156it [00:03, 40.61it/s]\n",
      "100%|█████████████████████████████████████████████████████████| 46/46 [00:00<00:00, 145.69it/s]\n"
     ]
    },
    {
     "name": "stdout",
     "output_type": "stream",
     "text": [
      "Epoch: 171 | Training Loss: 0.0021200710840415782  | Validation Loss: 3.3973250337268994  | Accuracy: 59.41\n"
     ]
    },
    {
     "name": "stderr",
     "output_type": "stream",
     "text": [
      "156it [00:03, 40.90it/s]\n",
      "100%|█████████████████████████████████████████████████████████| 46/46 [00:00<00:00, 162.95it/s]\n"
     ]
    },
    {
     "name": "stdout",
     "output_type": "stream",
     "text": [
      "Epoch: 172 | Training Loss: 0.0015623485506251038  | Validation Loss: 3.5131593890812085  | Accuracy: 59.00\n"
     ]
    },
    {
     "name": "stderr",
     "output_type": "stream",
     "text": [
      "156it [00:03, 40.54it/s]\n",
      "100%|█████████████████████████████████████████████████████████| 46/46 [00:00<00:00, 142.16it/s]\n"
     ]
    },
    {
     "name": "stdout",
     "output_type": "stream",
     "text": [
      "Epoch: 173 | Training Loss: 0.005003072804519877  | Validation Loss: 3.372146787850753  | Accuracy: 59.41\n"
     ]
    },
    {
     "name": "stderr",
     "output_type": "stream",
     "text": [
      "156it [00:03, 41.09it/s]\n",
      "100%|█████████████████████████████████████████████████████████| 46/46 [00:00<00:00, 154.57it/s]\n"
     ]
    },
    {
     "name": "stdout",
     "output_type": "stream",
     "text": [
      "Epoch: 174 | Training Loss: 0.007947159238355175  | Validation Loss: 3.5968376294426294  | Accuracy: 59.07\n"
     ]
    },
    {
     "name": "stderr",
     "output_type": "stream",
     "text": [
      "156it [00:03, 40.55it/s]\n",
      "100%|█████████████████████████████████████████████████████████| 46/46 [00:00<00:00, 145.20it/s]\n"
     ]
    },
    {
     "name": "stdout",
     "output_type": "stream",
     "text": [
      "Epoch: 175 | Training Loss: 0.007010640340666167  | Validation Loss: 3.645997622738714  | Accuracy: 58.85\n"
     ]
    },
    {
     "name": "stderr",
     "output_type": "stream",
     "text": [
      "156it [00:03, 41.37it/s]\n",
      "100%|█████████████████████████████████████████████████████████| 46/46 [00:00<00:00, 142.66it/s]\n"
     ]
    },
    {
     "name": "stdout",
     "output_type": "stream",
     "text": [
      "Epoch: 176 | Training Loss: 0.003967305887318873  | Validation Loss: 3.467987174573152  | Accuracy: 59.48\n"
     ]
    },
    {
     "name": "stderr",
     "output_type": "stream",
     "text": [
      "156it [00:03, 40.79it/s]\n",
      "100%|█████████████████████████████████████████████████████████| 46/46 [00:00<00:00, 144.73it/s]\n"
     ]
    },
    {
     "name": "stdout",
     "output_type": "stream",
     "text": [
      "Epoch: 177 | Training Loss: 0.0021097398494953853  | Validation Loss: 3.783096624457318  | Accuracy: 59.00\n"
     ]
    },
    {
     "name": "stderr",
     "output_type": "stream",
     "text": [
      "156it [00:03, 41.39it/s]\n",
      "100%|█████████████████████████████████████████████████████████| 46/46 [00:00<00:00, 144.72it/s]\n"
     ]
    },
    {
     "name": "stdout",
     "output_type": "stream",
     "text": [
      "Epoch: 178 | Training Loss: 0.0034788740637547257  | Validation Loss: 3.4389871151550957  | Accuracy: 59.12\n"
     ]
    },
    {
     "name": "stderr",
     "output_type": "stream",
     "text": [
      "156it [00:03, 40.56it/s]\n",
      "100%|█████████████████████████████████████████████████████████| 46/46 [00:00<00:00, 161.88it/s]\n"
     ]
    },
    {
     "name": "stdout",
     "output_type": "stream",
     "text": [
      "Epoch: 179 | Training Loss: 0.00444517853453036  | Validation Loss: 3.774748066197271  | Accuracy: 58.47\n"
     ]
    },
    {
     "name": "stderr",
     "output_type": "stream",
     "text": [
      "156it [00:03, 40.42it/s]\n",
      "100%|█████████████████████████████████████████████████████████| 46/46 [00:00<00:00, 139.73it/s]\n"
     ]
    },
    {
     "name": "stdout",
     "output_type": "stream",
     "text": [
      "Epoch: 180 | Training Loss: 0.0051396582073674575  | Validation Loss: 3.3894502650136533  | Accuracy: 59.29\n"
     ]
    },
    {
     "name": "stderr",
     "output_type": "stream",
     "text": [
      "156it [00:03, 41.05it/s]\n",
      "100%|█████████████████████████████████████████████████████████| 46/46 [00:00<00:00, 170.02it/s]\n"
     ]
    },
    {
     "name": "stdout",
     "output_type": "stream",
     "text": [
      "Epoch: 181 | Training Loss: 0.009313099776381232  | Validation Loss: 3.6519829449446304  | Accuracy: 58.75\n"
     ]
    },
    {
     "name": "stderr",
     "output_type": "stream",
     "text": [
      "156it [00:03, 40.42it/s]\n",
      "100%|█████████████████████████████████████████████████████████| 46/46 [00:00<00:00, 142.80it/s]\n"
     ]
    },
    {
     "name": "stdout",
     "output_type": "stream",
     "text": [
      "Epoch: 182 | Training Loss: 0.0024272977895564577  | Validation Loss: 3.7017283232315727  | Accuracy: 58.98\n"
     ]
    },
    {
     "name": "stderr",
     "output_type": "stream",
     "text": [
      "156it [00:03, 40.89it/s]\n",
      "100%|█████████████████████████████████████████████████████████| 46/46 [00:00<00:00, 151.55it/s]\n"
     ]
    },
    {
     "name": "stdout",
     "output_type": "stream",
     "text": [
      "Epoch: 183 | Training Loss: 0.0018165870507147748  | Validation Loss: 3.697037126706994  | Accuracy: 59.88\n"
     ]
    },
    {
     "name": "stderr",
     "output_type": "stream",
     "text": [
      "156it [00:03, 40.61it/s]\n",
      "100%|█████████████████████████████████████████████████████████| 46/46 [00:00<00:00, 145.29it/s]\n"
     ]
    },
    {
     "name": "stdout",
     "output_type": "stream",
     "text": [
      "Epoch: 184 | Training Loss: 0.007734890025368748  | Validation Loss: 3.7440192543941997  | Accuracy: 58.81\n"
     ]
    },
    {
     "name": "stderr",
     "output_type": "stream",
     "text": [
      "156it [00:03, 41.25it/s]\n",
      "100%|█████████████████████████████████████████████████████████| 46/46 [00:00<00:00, 146.50it/s]\n"
     ]
    },
    {
     "name": "stdout",
     "output_type": "stream",
     "text": [
      "Epoch: 185 | Training Loss: 0.0037406087092397055  | Validation Loss: 3.5205404551132866  | Accuracy: 59.65\n"
     ]
    },
    {
     "name": "stderr",
     "output_type": "stream",
     "text": [
      "156it [00:03, 40.79it/s]\n",
      "100%|█████████████████████████████████████████████████████████| 46/46 [00:00<00:00, 145.76it/s]\n"
     ]
    },
    {
     "name": "stdout",
     "output_type": "stream",
     "text": [
      "Epoch: 186 | Training Loss: 0.0031254402632699707  | Validation Loss: 3.846506092859351  | Accuracy: 58.71\n"
     ]
    },
    {
     "name": "stderr",
     "output_type": "stream",
     "text": [
      "156it [00:03, 40.87it/s]\n",
      "100%|█████████████████████████████████████████████████████████| 46/46 [00:00<00:00, 142.37it/s]\n"
     ]
    },
    {
     "name": "stdout",
     "output_type": "stream",
     "text": [
      "Epoch: 187 | Training Loss: 0.003907967799023027  | Validation Loss: 3.67081270010575  | Accuracy: 59.21\n"
     ]
    },
    {
     "name": "stderr",
     "output_type": "stream",
     "text": [
      "156it [00:03, 40.83it/s]\n",
      "100%|█████████████████████████████████████████████████████████| 46/46 [00:00<00:00, 161.01it/s]\n"
     ]
    },
    {
     "name": "stdout",
     "output_type": "stream",
     "text": [
      "Epoch: 188 | Training Loss: 0.004271075113604475  | Validation Loss: 3.512740679409193  | Accuracy: 60.21\n"
     ]
    },
    {
     "name": "stderr",
     "output_type": "stream",
     "text": [
      "156it [00:03, 40.42it/s]\n",
      "100%|█████████████████████████████████████████████████████████| 46/46 [00:00<00:00, 146.71it/s]\n"
     ]
    },
    {
     "name": "stdout",
     "output_type": "stream",
     "text": [
      "Epoch: 189 | Training Loss: 0.0020881977578914627  | Validation Loss: 3.710978761963222  | Accuracy: 59.71\n"
     ]
    },
    {
     "name": "stderr",
     "output_type": "stream",
     "text": [
      "156it [00:03, 40.99it/s]\n",
      "100%|█████████████████████████████████████████████████████████| 46/46 [00:00<00:00, 154.06it/s]\n"
     ]
    },
    {
     "name": "stdout",
     "output_type": "stream",
     "text": [
      "Epoch: 190 | Training Loss: 0.0019019286828085731  | Validation Loss: 3.8995191584462705  | Accuracy: 59.04\n"
     ]
    },
    {
     "name": "stderr",
     "output_type": "stream",
     "text": [
      "156it [00:03, 40.61it/s]\n",
      "100%|█████████████████████████████████████████████████████████| 46/46 [00:00<00:00, 147.36it/s]\n"
     ]
    },
    {
     "name": "stdout",
     "output_type": "stream",
     "text": [
      "Epoch: 191 | Training Loss: 0.0008559093856046018  | Validation Loss: 3.5861021332118823  | Accuracy: 60.21\n"
     ]
    },
    {
     "name": "stderr",
     "output_type": "stream",
     "text": [
      "156it [00:03, 41.27it/s]\n",
      "100%|█████████████████████████████████████████████████████████| 46/46 [00:00<00:00, 148.52it/s]\n"
     ]
    },
    {
     "name": "stdout",
     "output_type": "stream",
     "text": [
      "Epoch: 192 | Training Loss: 0.0027214297041120096  | Validation Loss: 3.7275806250779526  | Accuracy: 58.87\n"
     ]
    },
    {
     "name": "stderr",
     "output_type": "stream",
     "text": [
      "156it [00:03, 40.69it/s]\n",
      "100%|█████████████████████████████████████████████████████████| 46/46 [00:00<00:00, 144.28it/s]\n"
     ]
    },
    {
     "name": "stdout",
     "output_type": "stream",
     "text": [
      "Epoch: 193 | Training Loss: 0.0034180817590542855  | Validation Loss: 3.641573620879132  | Accuracy: 59.56\n"
     ]
    },
    {
     "name": "stderr",
     "output_type": "stream",
     "text": [
      "156it [00:03, 41.15it/s]\n",
      "100%|█████████████████████████████████████████████████████████| 46/46 [00:00<00:00, 143.88it/s]\n"
     ]
    },
    {
     "name": "stdout",
     "output_type": "stream",
     "text": [
      "Epoch: 194 | Training Loss: 0.008996674747136123  | Validation Loss: 3.845460663671079  | Accuracy: 59.36\n"
     ]
    },
    {
     "name": "stderr",
     "output_type": "stream",
     "text": [
      "156it [00:03, 40.52it/s]\n",
      "100%|█████████████████████████████████████████████████████████| 46/46 [00:00<00:00, 155.82it/s]\n"
     ]
    },
    {
     "name": "stdout",
     "output_type": "stream",
     "text": [
      "Epoch: 195 | Training Loss: 0.008626577293631645  | Validation Loss: 3.4405791552170464  | Accuracy: 59.53\n"
     ]
    },
    {
     "name": "stderr",
     "output_type": "stream",
     "text": [
      "156it [00:03, 40.98it/s]\n",
      "100%|█████████████████████████████████████████████████████████| 46/46 [00:00<00:00, 143.49it/s]\n"
     ]
    },
    {
     "name": "stdout",
     "output_type": "stream",
     "text": [
      "Epoch: 196 | Training Loss: 0.009178384660723774  | Validation Loss: 3.980000832806463  | Accuracy: 58.83\n"
     ]
    },
    {
     "name": "stderr",
     "output_type": "stream",
     "text": [
      "156it [00:03, 40.60it/s]\n",
      "100%|█████████████████████████████████████████████████████████| 46/46 [00:00<00:00, 169.54it/s]\n"
     ]
    },
    {
     "name": "stdout",
     "output_type": "stream",
     "text": [
      "Epoch: 197 | Training Loss: 0.005097860737199274  | Validation Loss: 4.073937105095905  | Accuracy: 58.46\n"
     ]
    },
    {
     "name": "stderr",
     "output_type": "stream",
     "text": [
      "156it [00:03, 40.57it/s]\n",
      "100%|█████████████████████████████████████████████████████████| 46/46 [00:00<00:00, 144.39it/s]\n"
     ]
    },
    {
     "name": "stdout",
     "output_type": "stream",
     "text": [
      "Epoch: 198 | Training Loss: 0.005394760207052922  | Validation Loss: 3.647680614305579  | Accuracy: 59.49\n"
     ]
    },
    {
     "name": "stderr",
     "output_type": "stream",
     "text": [
      "156it [00:03, 41.04it/s]\n",
      "100%|█████████████████████████████████████████████████████████| 46/46 [00:00<00:00, 147.01it/s]\n"
     ]
    },
    {
     "name": "stdout",
     "output_type": "stream",
     "text": [
      "Epoch: 199 | Training Loss: 0.009263379159584964  | Validation Loss: 4.0240727248399155  | Accuracy: 58.49\n"
     ]
    },
    {
     "name": "stderr",
     "output_type": "stream",
     "text": [
      "156it [00:03, 40.42it/s]\n",
      "100%|█████████████████████████████████████████████████████████| 46/46 [00:00<00:00, 144.37it/s]\n"
     ]
    },
    {
     "name": "stdout",
     "output_type": "stream",
     "text": [
      "Epoch: 200 | Training Loss: 0.003759347959063374  | Validation Loss: 3.751222532728444  | Accuracy: 59.22\n"
     ]
    },
    {
     "name": "stderr",
     "output_type": "stream",
     "text": [
      "156it [00:03, 41.01it/s]\n",
      "100%|█████████████████████████████████████████████████████████| 46/46 [00:00<00:00, 142.71it/s]\n"
     ]
    },
    {
     "name": "stdout",
     "output_type": "stream",
     "text": [
      "Epoch: 201 | Training Loss: 0.0017245266856498814  | Validation Loss: 3.6359313933745674  | Accuracy: 60.00\n"
     ]
    },
    {
     "name": "stderr",
     "output_type": "stream",
     "text": [
      "156it [00:03, 40.81it/s]\n",
      "100%|█████████████████████████████████████████████████████████| 46/46 [00:00<00:00, 154.44it/s]\n"
     ]
    },
    {
     "name": "stdout",
     "output_type": "stream",
     "text": [
      "Epoch: 202 | Training Loss: 0.0029849800519467606  | Validation Loss: 3.893712313278862  | Accuracy: 58.80\n"
     ]
    },
    {
     "name": "stderr",
     "output_type": "stream",
     "text": [
      "156it [00:03, 40.67it/s]\n",
      "100%|█████████████████████████████████████████████████████████| 46/46 [00:00<00:00, 142.86it/s]\n"
     ]
    },
    {
     "name": "stdout",
     "output_type": "stream",
     "text": [
      "Epoch: 203 | Training Loss: 0.0035504149338801373  | Validation Loss: 3.808639355327772  | Accuracy: 58.93\n"
     ]
    },
    {
     "name": "stderr",
     "output_type": "stream",
     "text": [
      "156it [00:03, 40.49it/s]\n",
      "100%|█████████████████████████████████████████████████████████| 46/46 [00:00<00:00, 167.66it/s]\n"
     ]
    },
    {
     "name": "stdout",
     "output_type": "stream",
     "text": [
      "Epoch: 204 | Training Loss: 0.0041811434964004615  | Validation Loss: 4.019887867181198  | Accuracy: 58.22\n"
     ]
    },
    {
     "name": "stderr",
     "output_type": "stream",
     "text": [
      "156it [00:03, 40.36it/s]\n",
      "100%|█████████████████████████████████████████████████████████| 46/46 [00:00<00:00, 144.24it/s]\n"
     ]
    },
    {
     "name": "stdout",
     "output_type": "stream",
     "text": [
      "Epoch: 205 | Training Loss: 0.00519712385926724  | Validation Loss: 3.814342182615529  | Accuracy: 58.63\n"
     ]
    },
    {
     "name": "stderr",
     "output_type": "stream",
     "text": [
      "156it [00:03, 40.99it/s]\n",
      "100%|█████████████████████████████████████████████████████████| 46/46 [00:00<00:00, 151.79it/s]\n"
     ]
    },
    {
     "name": "stdout",
     "output_type": "stream",
     "text": [
      "Epoch: 206 | Training Loss: 0.0061285977333635595  | Validation Loss: 4.1430099943409795  | Accuracy: 57.40\n"
     ]
    },
    {
     "name": "stderr",
     "output_type": "stream",
     "text": [
      "156it [00:03, 40.87it/s]\n",
      "100%|█████████████████████████████████████████████████████████| 46/46 [00:00<00:00, 145.38it/s]\n"
     ]
    },
    {
     "name": "stdout",
     "output_type": "stream",
     "text": [
      "Epoch: 207 | Training Loss: 0.011980480609800464  | Validation Loss: 3.622463744619618  | Accuracy: 58.34\n"
     ]
    },
    {
     "name": "stderr",
     "output_type": "stream",
     "text": [
      "156it [00:03, 41.23it/s]\n",
      "100%|█████████████████████████████████████████████████████████| 46/46 [00:00<00:00, 143.87it/s]\n"
     ]
    },
    {
     "name": "stdout",
     "output_type": "stream",
     "text": [
      "Epoch: 208 | Training Loss: 0.01624755324407418  | Validation Loss: 3.791882017384405  | Accuracy: 58.32\n"
     ]
    },
    {
     "name": "stderr",
     "output_type": "stream",
     "text": [
      "156it [00:03, 40.58it/s]\n",
      "100%|█████████████████████████████████████████████████████████| 46/46 [00:00<00:00, 147.34it/s]\n"
     ]
    },
    {
     "name": "stdout",
     "output_type": "stream",
     "text": [
      "Epoch: 209 | Training Loss: 0.01477273483144997  | Validation Loss: 3.4165243117705635  | Accuracy: 59.32\n"
     ]
    },
    {
     "name": "stderr",
     "output_type": "stream",
     "text": [
      "156it [00:03, 41.39it/s]\n",
      "100%|█████████████████████████████████████████████████████████| 46/46 [00:00<00:00, 145.91it/s]\n"
     ]
    },
    {
     "name": "stdout",
     "output_type": "stream",
     "text": [
      "Epoch: 210 | Training Loss: 0.02232053018889975  | Validation Loss: 4.075222658074421  | Accuracy: 58.41\n"
     ]
    },
    {
     "name": "stderr",
     "output_type": "stream",
     "text": [
      "156it [00:03, 40.42it/s]\n",
      "100%|█████████████████████████████████████████████████████████| 46/46 [00:00<00:00, 162.75it/s]\n"
     ]
    },
    {
     "name": "stdout",
     "output_type": "stream",
     "text": [
      "Epoch: 211 | Training Loss: 0.016416262162704535  | Validation Loss: 3.8967294174691904  | Accuracy: 58.68\n"
     ]
    },
    {
     "name": "stderr",
     "output_type": "stream",
     "text": [
      "156it [00:03, 40.76it/s]\n",
      "100%|█████████████████████████████████████████████████████████| 46/46 [00:00<00:00, 145.40it/s]\n"
     ]
    },
    {
     "name": "stdout",
     "output_type": "stream",
     "text": [
      "Epoch: 212 | Training Loss: 0.011279177257025506  | Validation Loss: 3.4214281310205874  | Accuracy: 59.19\n"
     ]
    },
    {
     "name": "stderr",
     "output_type": "stream",
     "text": [
      "156it [00:03, 40.70it/s]\n",
      "100%|█████████████████████████████████████████████████████████| 46/46 [00:00<00:00, 164.16it/s]\n"
     ]
    },
    {
     "name": "stdout",
     "output_type": "stream",
     "text": [
      "Epoch: 213 | Training Loss: 0.007301718340246365  | Validation Loss: 3.4210604170094365  | Accuracy: 59.95\n"
     ]
    },
    {
     "name": "stderr",
     "output_type": "stream",
     "text": [
      "156it [00:03, 40.65it/s]\n",
      "100%|█████████████████████████████████████████████████████████| 46/46 [00:00<00:00, 141.75it/s]\n"
     ]
    },
    {
     "name": "stdout",
     "output_type": "stream",
     "text": [
      "Epoch: 214 | Training Loss: 0.004692083285660304  | Validation Loss: 3.6301211066867993  | Accuracy: 59.73\n"
     ]
    },
    {
     "name": "stderr",
     "output_type": "stream",
     "text": [
      "156it [00:03, 41.03it/s]\n",
      "100%|█████████████████████████████████████████████████████████| 46/46 [00:00<00:00, 147.02it/s]\n"
     ]
    },
    {
     "name": "stdout",
     "output_type": "stream",
     "text": [
      "Epoch: 215 | Training Loss: 0.0029457706145760124  | Validation Loss: 3.886390058890633  | Accuracy: 58.81\n"
     ]
    },
    {
     "name": "stderr",
     "output_type": "stream",
     "text": [
      "156it [00:03, 40.41it/s]\n",
      "100%|█████████████████████████████████████████████████████████| 46/46 [00:00<00:00, 147.58it/s]\n"
     ]
    },
    {
     "name": "stdout",
     "output_type": "stream",
     "text": [
      "Epoch: 216 | Training Loss: 0.0042449106271632425  | Validation Loss: 3.855487621348837  | Accuracy: 58.95\n"
     ]
    },
    {
     "name": "stderr",
     "output_type": "stream",
     "text": [
      "156it [00:03, 40.79it/s]\n",
      "100%|█████████████████████████████████████████████████████████| 46/46 [00:00<00:00, 145.18it/s]\n"
     ]
    },
    {
     "name": "stdout",
     "output_type": "stream",
     "text": [
      "Epoch: 217 | Training Loss: 0.0021373956831853436  | Validation Loss: 3.7639333579851235  | Accuracy: 58.49\n"
     ]
    },
    {
     "name": "stderr",
     "output_type": "stream",
     "text": [
      "156it [00:03, 40.45it/s]\n",
      "100%|█████████████████████████████████████████████████████████| 46/46 [00:00<00:00, 169.17it/s]\n"
     ]
    },
    {
     "name": "stdout",
     "output_type": "stream",
     "text": [
      "Epoch: 218 | Training Loss: 0.0023613898510796926  | Validation Loss: 3.9818453529606694  | Accuracy: 58.76\n"
     ]
    },
    {
     "name": "stderr",
     "output_type": "stream",
     "text": [
      "156it [00:03, 40.61it/s]\n",
      "100%|█████████████████████████████████████████████████████████| 46/46 [00:00<00:00, 143.02it/s]\n"
     ]
    },
    {
     "name": "stdout",
     "output_type": "stream",
     "text": [
      "Epoch: 219 | Training Loss: 0.0025174543827746767  | Validation Loss: 3.5554297125857808  | Accuracy: 59.39\n"
     ]
    },
    {
     "name": "stderr",
     "output_type": "stream",
     "text": [
      "156it [00:03, 40.93it/s]\n",
      "100%|█████████████████████████████████████████████████████████| 46/46 [00:00<00:00, 159.71it/s]\n"
     ]
    },
    {
     "name": "stdout",
     "output_type": "stream",
     "text": [
      "Epoch: 220 | Training Loss: 0.0016709187809446564  | Validation Loss: 3.7239479396654214  | Accuracy: 59.56\n"
     ]
    },
    {
     "name": "stderr",
     "output_type": "stream",
     "text": [
      "156it [00:03, 40.43it/s]\n",
      "100%|█████████████████████████████████████████████████████████| 46/46 [00:00<00:00, 144.57it/s]\n"
     ]
    },
    {
     "name": "stdout",
     "output_type": "stream",
     "text": [
      "Epoch: 221 | Training Loss: 0.0017393639110919023  | Validation Loss: 3.75342203223187  | Accuracy: 58.36\n"
     ]
    },
    {
     "name": "stderr",
     "output_type": "stream",
     "text": [
      "156it [00:03, 41.05it/s]\n",
      "100%|█████████████████████████████████████████████████████████| 46/46 [00:00<00:00, 144.24it/s]\n"
     ]
    },
    {
     "name": "stdout",
     "output_type": "stream",
     "text": [
      "Epoch: 222 | Training Loss: 0.004623862190037005  | Validation Loss: 3.700689217318659  | Accuracy: 59.65\n"
     ]
    },
    {
     "name": "stderr",
     "output_type": "stream",
     "text": [
      "156it [00:03, 41.25it/s]\n",
      "100%|█████████████████████████████████████████████████████████| 46/46 [00:00<00:00, 144.29it/s]\n"
     ]
    },
    {
     "name": "stdout",
     "output_type": "stream",
     "text": [
      "Epoch: 223 | Training Loss: 0.005326329962908625  | Validation Loss: 3.5976203006246816  | Accuracy: 59.49\n"
     ]
    },
    {
     "name": "stderr",
     "output_type": "stream",
     "text": [
      "156it [00:03, 41.40it/s]\n",
      "100%|█████████████████████████████████████████████████████████| 46/46 [00:00<00:00, 146.27it/s]\n"
     ]
    },
    {
     "name": "stdout",
     "output_type": "stream",
     "text": [
      "Epoch: 224 | Training Loss: 0.004943882445868206  | Validation Loss: 3.7879337227862813  | Accuracy: 60.05\n"
     ]
    },
    {
     "name": "stderr",
     "output_type": "stream",
     "text": [
      "156it [00:03, 40.61it/s]\n",
      "100%|█████████████████████████████████████████████████████████| 46/46 [00:00<00:00, 161.26it/s]\n"
     ]
    },
    {
     "name": "stdout",
     "output_type": "stream",
     "text": [
      "Epoch: 225 | Training Loss: 0.0045653291970852595  | Validation Loss: 3.7041650025740913  | Accuracy: 59.36\n"
     ]
    },
    {
     "name": "stderr",
     "output_type": "stream",
     "text": [
      "156it [00:03, 41.28it/s]\n",
      "100%|█████████████████████████████████████████████████████████| 46/46 [00:00<00:00, 144.16it/s]\n"
     ]
    },
    {
     "name": "stdout",
     "output_type": "stream",
     "text": [
      "Epoch: 226 | Training Loss: 0.0074148404735938245  | Validation Loss: 3.4110211444937666  | Accuracy: 60.19\n"
     ]
    },
    {
     "name": "stderr",
     "output_type": "stream",
     "text": [
      "156it [00:03, 41.01it/s]\n",
      "100%|█████████████████████████████████████████████████████████| 46/46 [00:00<00:00, 166.08it/s]\n"
     ]
    },
    {
     "name": "stdout",
     "output_type": "stream",
     "text": [
      "Epoch: 227 | Training Loss: 0.007184390826902624  | Validation Loss: 3.605967402458191  | Accuracy: 59.73\n"
     ]
    },
    {
     "name": "stderr",
     "output_type": "stream",
     "text": [
      "156it [00:03, 40.58it/s]\n",
      "100%|█████████████████████████████████████████████████████████| 46/46 [00:00<00:00, 145.04it/s]\n"
     ]
    },
    {
     "name": "stdout",
     "output_type": "stream",
     "text": [
      "Epoch: 228 | Training Loss: 0.0044409460902105095  | Validation Loss: 3.8047080299128657  | Accuracy: 59.61\n"
     ]
    },
    {
     "name": "stderr",
     "output_type": "stream",
     "text": [
      "156it [00:03, 40.87it/s]\n",
      "100%|█████████████████████████████████████████████████████████| 46/46 [00:00<00:00, 158.31it/s]\n"
     ]
    },
    {
     "name": "stdout",
     "output_type": "stream",
     "text": [
      "Epoch: 229 | Training Loss: 0.004512693383917511  | Validation Loss: 3.6575148261111714  | Accuracy: 59.36\n"
     ]
    },
    {
     "name": "stderr",
     "output_type": "stream",
     "text": [
      "156it [00:03, 40.45it/s]\n",
      "100%|█████████████████████████████████████████████████████████| 46/46 [00:00<00:00, 145.48it/s]\n"
     ]
    },
    {
     "name": "stdout",
     "output_type": "stream",
     "text": [
      "Epoch: 230 | Training Loss: 0.005198289158402193  | Validation Loss: 3.71910778335903  | Accuracy: 58.98\n"
     ]
    },
    {
     "name": "stderr",
     "output_type": "stream",
     "text": [
      "156it [00:03, 41.14it/s]\n",
      "100%|█████████████████████████████████████████████████████████| 46/46 [00:00<00:00, 145.41it/s]\n"
     ]
    },
    {
     "name": "stdout",
     "output_type": "stream",
     "text": [
      "Epoch: 231 | Training Loss: 0.004156970570525468  | Validation Loss: 3.563248784645744  | Accuracy: 59.56\n"
     ]
    },
    {
     "name": "stderr",
     "output_type": "stream",
     "text": [
      "156it [00:03, 40.80it/s]\n",
      "100%|█████████████████████████████████████████████████████████| 46/46 [00:00<00:00, 145.51it/s]\n"
     ]
    },
    {
     "name": "stdout",
     "output_type": "stream",
     "text": [
      "Epoch: 232 | Training Loss: 0.004382267844005419  | Validation Loss: 3.6520248910655146  | Accuracy: 59.60\n"
     ]
    },
    {
     "name": "stderr",
     "output_type": "stream",
     "text": [
      "156it [00:03, 41.45it/s]\n",
      "100%|█████████████████████████████████████████████████████████| 46/46 [00:00<00:00, 142.93it/s]\n"
     ]
    },
    {
     "name": "stdout",
     "output_type": "stream",
     "text": [
      "Epoch: 233 | Training Loss: 0.008824112900280548  | Validation Loss: 3.9058412002480547  | Accuracy: 58.34\n"
     ]
    },
    {
     "name": "stderr",
     "output_type": "stream",
     "text": [
      "156it [00:03, 40.57it/s]\n",
      "100%|█████████████████████████████████████████████████████████| 46/46 [00:00<00:00, 155.86it/s]\n"
     ]
    },
    {
     "name": "stdout",
     "output_type": "stream",
     "text": [
      "Epoch: 234 | Training Loss: 0.02190111724410552  | Validation Loss: 3.5305976297544395  | Accuracy: 60.07\n"
     ]
    },
    {
     "name": "stderr",
     "output_type": "stream",
     "text": [
      "156it [00:03, 40.72it/s]\n",
      "100%|█████████████████████████████████████████████████████████| 46/46 [00:00<00:00, 144.43it/s]\n"
     ]
    },
    {
     "name": "stdout",
     "output_type": "stream",
     "text": [
      "Epoch: 235 | Training Loss: 0.015269871120929169  | Validation Loss: 4.169309325840162  | Accuracy: 58.00\n"
     ]
    },
    {
     "name": "stderr",
     "output_type": "stream",
     "text": [
      "156it [00:03, 40.58it/s]\n",
      "100%|█████████████████████████████████████████████████████████| 46/46 [00:00<00:00, 161.98it/s]\n"
     ]
    },
    {
     "name": "stdout",
     "output_type": "stream",
     "text": [
      "Epoch: 236 | Training Loss: 0.009771933827160422  | Validation Loss: 3.4396345719047217  | Accuracy: 59.94\n"
     ]
    },
    {
     "name": "stderr",
     "output_type": "stream",
     "text": [
      "156it [00:03, 40.61it/s]\n",
      "100%|█████████████████████████████████████████████████████████| 46/46 [00:00<00:00, 145.45it/s]\n"
     ]
    },
    {
     "name": "stdout",
     "output_type": "stream",
     "text": [
      "Epoch: 237 | Training Loss: 0.004955689547177127  | Validation Loss: 3.5393042668052344  | Accuracy: 60.16\n"
     ]
    },
    {
     "name": "stderr",
     "output_type": "stream",
     "text": [
      "156it [00:03, 41.52it/s]\n",
      "100%|█████████████████████████████████████████████████████████| 46/46 [00:00<00:00, 154.14it/s]\n"
     ]
    },
    {
     "name": "stdout",
     "output_type": "stream",
     "text": [
      "Epoch: 238 | Training Loss: 0.003365607346215536  | Validation Loss: 3.3611405569574107  | Accuracy: 61.11\n"
     ]
    },
    {
     "name": "stderr",
     "output_type": "stream",
     "text": [
      "156it [00:03, 41.10it/s]\n",
      "100%|█████████████████████████████████████████████████████████| 46/46 [00:00<00:00, 141.86it/s]\n"
     ]
    },
    {
     "name": "stdout",
     "output_type": "stream",
     "text": [
      "Epoch: 239 | Training Loss: 0.005778065216220103  | Validation Loss: 3.702239285344663  | Accuracy: 58.90\n"
     ]
    },
    {
     "name": "stderr",
     "output_type": "stream",
     "text": [
      "156it [00:03, 41.43it/s]\n",
      "100%|█████████████████████████████████████████████████████████| 46/46 [00:00<00:00, 158.89it/s]\n"
     ]
    },
    {
     "name": "stdout",
     "output_type": "stream",
     "text": [
      "Epoch: 240 | Training Loss: 0.004564768305965863  | Validation Loss: 3.896199713582578  | Accuracy: 58.32\n"
     ]
    },
    {
     "name": "stderr",
     "output_type": "stream",
     "text": [
      "156it [00:03, 40.57it/s]\n",
      "100%|█████████████████████████████████████████████████████████| 46/46 [00:00<00:00, 144.12it/s]\n"
     ]
    },
    {
     "name": "stdout",
     "output_type": "stream",
     "text": [
      "Epoch: 241 | Training Loss: 0.005458130969670422  | Validation Loss: 3.853345829507579  | Accuracy: 58.51\n"
     ]
    },
    {
     "name": "stderr",
     "output_type": "stream",
     "text": [
      "156it [00:03, 41.45it/s]\n",
      "100%|█████████████████████████████████████████████████████████| 46/46 [00:00<00:00, 149.54it/s]\n"
     ]
    },
    {
     "name": "stdout",
     "output_type": "stream",
     "text": [
      "Epoch: 242 | Training Loss: 0.007107000716738791  | Validation Loss: 3.853209246759829  | Accuracy: 58.85\n"
     ]
    },
    {
     "name": "stderr",
     "output_type": "stream",
     "text": [
      "156it [00:03, 40.40it/s]\n",
      "100%|█████████████████████████████████████████████████████████| 46/46 [00:00<00:00, 144.49it/s]\n"
     ]
    },
    {
     "name": "stdout",
     "output_type": "stream",
     "text": [
      "Epoch: 243 | Training Loss: 0.005773063630374217  | Validation Loss: 3.5469622715659765  | Accuracy: 59.66\n"
     ]
    },
    {
     "name": "stderr",
     "output_type": "stream",
     "text": [
      "156it [00:03, 41.07it/s]\n",
      "100%|█████████████████████████████████████████████████████████| 46/46 [00:00<00:00, 145.13it/s]\n"
     ]
    },
    {
     "name": "stdout",
     "output_type": "stream",
     "text": [
      "Epoch: 244 | Training Loss: 0.006059491886984548  | Validation Loss: 3.8021430813747905  | Accuracy: 59.15\n"
     ]
    },
    {
     "name": "stderr",
     "output_type": "stream",
     "text": [
      "156it [00:03, 40.58it/s]\n",
      "100%|█████████████████████████████████████████████████████████| 46/46 [00:00<00:00, 153.91it/s]\n"
     ]
    },
    {
     "name": "stdout",
     "output_type": "stream",
     "text": [
      "Epoch: 245 | Training Loss: 0.0039816464930668306  | Validation Loss: 3.866778306339098  | Accuracy: 59.88\n"
     ]
    },
    {
     "name": "stderr",
     "output_type": "stream",
     "text": [
      "156it [00:03, 40.79it/s]\n",
      "100%|█████████████████████████████████████████████████████████| 46/46 [00:00<00:00, 143.35it/s]\n"
     ]
    },
    {
     "name": "stdout",
     "output_type": "stream",
     "text": [
      "Epoch: 246 | Training Loss: 0.0027960370094101215  | Validation Loss: 3.7108883754066797  | Accuracy: 58.85\n"
     ]
    },
    {
     "name": "stderr",
     "output_type": "stream",
     "text": [
      "156it [00:03, 39.41it/s]\n",
      "100%|█████████████████████████████████████████████████████████| 46/46 [00:00<00:00, 160.88it/s]\n"
     ]
    },
    {
     "name": "stdout",
     "output_type": "stream",
     "text": [
      "Epoch: 247 | Training Loss: 0.0015503996765824596  | Validation Loss: 3.8545213212137637  | Accuracy: 58.54\n"
     ]
    },
    {
     "name": "stderr",
     "output_type": "stream",
     "text": [
      "156it [00:04, 38.71it/s]\n",
      "100%|█████████████████████████████████████████████████████████| 46/46 [00:00<00:00, 135.13it/s]\n"
     ]
    },
    {
     "name": "stdout",
     "output_type": "stream",
     "text": [
      "Epoch: 248 | Training Loss: 0.001976613734232393  | Validation Loss: 3.660070009853529  | Accuracy: 59.56\n"
     ]
    },
    {
     "name": "stderr",
     "output_type": "stream",
     "text": [
      "156it [00:03, 39.29it/s]\n",
      "100%|█████████████████████████████████████████████████████████| 46/46 [00:00<00:00, 137.71it/s]\n"
     ]
    },
    {
     "name": "stdout",
     "output_type": "stream",
     "text": [
      "Epoch: 249 | Training Loss: 0.0039768957249646355  | Validation Loss: 3.692477583885193  | Accuracy: 58.56\n"
     ]
    },
    {
     "name": "stderr",
     "output_type": "stream",
     "text": [
      "156it [00:04, 38.85it/s]\n",
      "100%|█████████████████████████████████████████████████████████| 46/46 [00:00<00:00, 140.21it/s]\n"
     ]
    },
    {
     "name": "stdout",
     "output_type": "stream",
     "text": [
      "Epoch: 250 | Training Loss: 0.003176468350153673  | Validation Loss: 3.6259467187135117  | Accuracy: 58.87\n"
     ]
    },
    {
     "name": "stderr",
     "output_type": "stream",
     "text": [
      "156it [00:03, 41.11it/s]\n",
      "100%|█████████████████████████████████████████████████████████| 46/46 [00:00<00:00, 144.02it/s]\n"
     ]
    },
    {
     "name": "stdout",
     "output_type": "stream",
     "text": [
      "Epoch: 251 | Training Loss: 0.0022566510637354953  | Validation Loss: 3.7432645144669907  | Accuracy: 59.61\n"
     ]
    },
    {
     "name": "stderr",
     "output_type": "stream",
     "text": [
      "156it [00:03, 40.64it/s]\n",
      "100%|█████████████████████████████████████████████████████████| 46/46 [00:00<00:00, 170.53it/s]\n"
     ]
    },
    {
     "name": "stdout",
     "output_type": "stream",
     "text": [
      "Epoch: 252 | Training Loss: 0.0031238466106935027  | Validation Loss: 3.595412871111994  | Accuracy: 60.16\n"
     ]
    },
    {
     "name": "stderr",
     "output_type": "stream",
     "text": [
      "156it [00:03, 40.48it/s]\n",
      "100%|█████████████████████████████████████████████████████████| 46/46 [00:00<00:00, 144.71it/s]\n"
     ]
    },
    {
     "name": "stdout",
     "output_type": "stream",
     "text": [
      "Epoch: 253 | Training Loss: 0.003865219505874288  | Validation Loss: 3.6178578086521314  | Accuracy: 59.09\n"
     ]
    },
    {
     "name": "stderr",
     "output_type": "stream",
     "text": [
      "156it [00:03, 41.22it/s]\n",
      "100%|█████████████████████████████████████████████████████████| 46/46 [00:00<00:00, 154.72it/s]\n"
     ]
    },
    {
     "name": "stdout",
     "output_type": "stream",
     "text": [
      "Epoch: 254 | Training Loss: 0.006867480720617236  | Validation Loss: 3.785783130189647  | Accuracy: 59.00\n"
     ]
    },
    {
     "name": "stderr",
     "output_type": "stream",
     "text": [
      "156it [00:03, 40.77it/s]\n",
      "100%|█████████████████████████████████████████████████████████| 46/46 [00:00<00:00, 144.15it/s]\n"
     ]
    },
    {
     "name": "stdout",
     "output_type": "stream",
     "text": [
      "Epoch: 255 | Training Loss: 0.0023514049994563  | Validation Loss: 3.750947459884312  | Accuracy: 59.14\n"
     ]
    },
    {
     "name": "stderr",
     "output_type": "stream",
     "text": [
      "156it [00:03, 41.31it/s]\n",
      "100%|█████████████████████████████████████████████████████████| 46/46 [00:00<00:00, 145.18it/s]\n"
     ]
    },
    {
     "name": "stdout",
     "output_type": "stream",
     "text": [
      "Epoch: 256 | Training Loss: 0.0006619067948448878  | Validation Loss: 3.826527424480604  | Accuracy: 59.27\n"
     ]
    },
    {
     "name": "stderr",
     "output_type": "stream",
     "text": [
      "156it [00:03, 40.76it/s]\n",
      "100%|█████████████████████████████████████████████████████████| 46/46 [00:00<00:00, 156.83it/s]\n"
     ]
    },
    {
     "name": "stdout",
     "output_type": "stream",
     "text": [
      "Epoch: 257 | Training Loss: 0.0016790829997308976  | Validation Loss: 3.8032678262047144  | Accuracy: 59.19\n"
     ]
    },
    {
     "name": "stderr",
     "output_type": "stream",
     "text": [
      "156it [00:03, 40.94it/s]\n",
      "100%|█████████████████████████████████████████████████████████| 46/46 [00:00<00:00, 146.98it/s]\n"
     ]
    },
    {
     "name": "stdout",
     "output_type": "stream",
     "text": [
      "Epoch: 258 | Training Loss: 0.0015051917615635784  | Validation Loss: 3.9645287264948306  | Accuracy: 59.02\n"
     ]
    },
    {
     "name": "stderr",
     "output_type": "stream",
     "text": [
      "156it [00:03, 40.63it/s]\n",
      "100%|█████████████████████████████████████████████████████████| 46/46 [00:00<00:00, 173.00it/s]\n"
     ]
    },
    {
     "name": "stdout",
     "output_type": "stream",
     "text": [
      "Epoch: 259 | Training Loss: 0.0013931994728922385  | Validation Loss: 3.922359632409137  | Accuracy: 59.19\n"
     ]
    },
    {
     "name": "stderr",
     "output_type": "stream",
     "text": [
      "156it [00:03, 40.56it/s]\n",
      "100%|█████████████████████████████████████████████████████████| 46/46 [00:00<00:00, 144.73it/s]\n"
     ]
    },
    {
     "name": "stdout",
     "output_type": "stream",
     "text": [
      "Epoch: 260 | Training Loss: 0.0012609850794036996  | Validation Loss: 3.858628599540047  | Accuracy: 59.05\n"
     ]
    },
    {
     "name": "stderr",
     "output_type": "stream",
     "text": [
      "156it [00:03, 40.91it/s]\n",
      "100%|█████████████████████████████████████████████████████████| 46/46 [00:00<00:00, 156.26it/s]\n"
     ]
    },
    {
     "name": "stdout",
     "output_type": "stream",
     "text": [
      "Epoch: 261 | Training Loss: 0.0020071466637184643  | Validation Loss: 3.852492337641509  | Accuracy: 58.59\n"
     ]
    },
    {
     "name": "stderr",
     "output_type": "stream",
     "text": [
      "156it [00:03, 40.59it/s]\n",
      "100%|█████████████████████████████████████████████████████████| 46/46 [00:00<00:00, 147.38it/s]\n"
     ]
    },
    {
     "name": "stdout",
     "output_type": "stream",
     "text": [
      "Epoch: 262 | Training Loss: 0.0008018602763210462  | Validation Loss: 3.75441733132238  | Accuracy: 59.61\n"
     ]
    },
    {
     "name": "stderr",
     "output_type": "stream",
     "text": [
      "156it [00:03, 39.32it/s]\n",
      "100%|█████████████████████████████████████████████████████████| 46/46 [00:00<00:00, 130.95it/s]\n"
     ]
    },
    {
     "name": "stdout",
     "output_type": "stream",
     "text": [
      "Epoch: 263 | Training Loss: 0.0005296016506224241  | Validation Loss: 3.9839692012123438  | Accuracy: 59.43\n"
     ]
    },
    {
     "name": "stderr",
     "output_type": "stream",
     "text": [
      "156it [00:04, 38.70it/s]\n",
      "100%|█████████████████████████████████████████████████████████| 46/46 [00:00<00:00, 149.01it/s]\n"
     ]
    },
    {
     "name": "stdout",
     "output_type": "stream",
     "text": [
      "Epoch: 264 | Training Loss: 0.0011455854342225043  | Validation Loss: 3.711407718451127  | Accuracy: 60.02\n"
     ]
    },
    {
     "name": "stderr",
     "output_type": "stream",
     "text": [
      "156it [00:03, 39.84it/s]\n",
      "100%|█████████████████████████████████████████████████████████| 46/46 [00:00<00:00, 142.05it/s]\n"
     ]
    },
    {
     "name": "stdout",
     "output_type": "stream",
     "text": [
      "Epoch: 265 | Training Loss: 0.0016539340200231378  | Validation Loss: 3.927151286083719  | Accuracy: 58.92\n"
     ]
    },
    {
     "name": "stderr",
     "output_type": "stream",
     "text": [
      "156it [00:03, 39.61it/s]\n",
      "100%|█████████████████████████████████████████████████████████| 46/46 [00:00<00:00, 161.65it/s]\n"
     ]
    },
    {
     "name": "stdout",
     "output_type": "stream",
     "text": [
      "Epoch: 266 | Training Loss: 0.0009320775563117842  | Validation Loss: 3.865643128104832  | Accuracy: 58.71\n"
     ]
    },
    {
     "name": "stderr",
     "output_type": "stream",
     "text": [
      "156it [00:03, 39.56it/s]\n",
      "100%|█████████████████████████████████████████████████████████| 46/46 [00:00<00:00, 140.06it/s]\n"
     ]
    },
    {
     "name": "stdout",
     "output_type": "stream",
     "text": [
      "Epoch: 267 | Training Loss: 0.00039313637371845124  | Validation Loss: 3.9819278095079507  | Accuracy: 58.68\n"
     ]
    },
    {
     "name": "stderr",
     "output_type": "stream",
     "text": [
      "156it [00:03, 40.17it/s]\n",
      "100%|█████████████████████████████████████████████████████████| 46/46 [00:00<00:00, 142.68it/s]\n"
     ]
    },
    {
     "name": "stdout",
     "output_type": "stream",
     "text": [
      "Epoch: 268 | Training Loss: 0.0003753980767307952  | Validation Loss: 3.984932806180871  | Accuracy: 58.88\n"
     ]
    },
    {
     "name": "stderr",
     "output_type": "stream",
     "text": [
      "156it [00:03, 39.47it/s]\n",
      "100%|█████████████████████████████████████████████████████████| 46/46 [00:00<00:00, 143.74it/s]\n"
     ]
    },
    {
     "name": "stdout",
     "output_type": "stream",
     "text": [
      "Epoch: 269 | Training Loss: 0.0005481561559533405  | Validation Loss: 3.950515705606212  | Accuracy: 58.90\n"
     ]
    },
    {
     "name": "stderr",
     "output_type": "stream",
     "text": [
      "156it [00:03, 40.19it/s]\n",
      "100%|█████████████████████████████████████████████████████████| 46/46 [00:00<00:00, 139.61it/s]\n"
     ]
    },
    {
     "name": "stdout",
     "output_type": "stream",
     "text": [
      "Epoch: 270 | Training Loss: 0.0006672487606686981  | Validation Loss: 4.027457190596539  | Accuracy: 58.78\n"
     ]
    },
    {
     "name": "stderr",
     "output_type": "stream",
     "text": [
      "156it [00:03, 40.04it/s]\n",
      "100%|█████████████████████████████████████████████████████████| 46/46 [00:00<00:00, 153.44it/s]\n"
     ]
    },
    {
     "name": "stdout",
     "output_type": "stream",
     "text": [
      "Epoch: 271 | Training Loss: 0.0003359553676581037  | Validation Loss: 4.047040991161181  | Accuracy: 58.53\n"
     ]
    },
    {
     "name": "stderr",
     "output_type": "stream",
     "text": [
      "156it [00:03, 39.75it/s]\n",
      "100%|█████████████████████████████████████████████████████████| 46/46 [00:00<00:00, 139.43it/s]\n"
     ]
    },
    {
     "name": "stdout",
     "output_type": "stream",
     "text": [
      "Epoch: 272 | Training Loss: 0.000287521488551134  | Validation Loss: 4.143956884093907  | Accuracy: 58.98\n"
     ]
    },
    {
     "name": "stderr",
     "output_type": "stream",
     "text": [
      "156it [00:03, 39.71it/s]\n",
      "100%|█████████████████████████████████████████████████████████| 46/46 [00:00<00:00, 157.66it/s]\n"
     ]
    },
    {
     "name": "stdout",
     "output_type": "stream",
     "text": [
      "Epoch: 273 | Training Loss: 0.00021388510444572044  | Validation Loss: 3.9585603009099546  | Accuracy: 58.68\n"
     ]
    },
    {
     "name": "stderr",
     "output_type": "stream",
     "text": [
      "156it [00:03, 41.31it/s]\n",
      "100%|█████████████████████████████████████████████████████████| 46/46 [00:00<00:00, 149.38it/s]\n"
     ]
    },
    {
     "name": "stdout",
     "output_type": "stream",
     "text": [
      "Epoch: 274 | Training Loss: 0.0008699397928513719  | Validation Loss: 4.063663876574973  | Accuracy: 59.12\n"
     ]
    },
    {
     "name": "stderr",
     "output_type": "stream",
     "text": [
      "156it [00:03, 41.69it/s]\n",
      "100%|█████████████████████████████████████████████████████████| 46/46 [00:00<00:00, 145.82it/s]\n"
     ]
    },
    {
     "name": "stdout",
     "output_type": "stream",
     "text": [
      "Epoch: 275 | Training Loss: 0.0009087278610352839  | Validation Loss: 4.121063071748485  | Accuracy: 58.47\n"
     ]
    },
    {
     "name": "stderr",
     "output_type": "stream",
     "text": [
      "156it [00:03, 41.20it/s]\n",
      "100%|█████████████████████████████████████████████████████████| 46/46 [00:00<00:00, 147.06it/s]\n"
     ]
    },
    {
     "name": "stdout",
     "output_type": "stream",
     "text": [
      "Epoch: 276 | Training Loss: 0.002580178370571491  | Validation Loss: 4.040288666020269  | Accuracy: 58.81\n"
     ]
    },
    {
     "name": "stderr",
     "output_type": "stream",
     "text": [
      "156it [00:03, 41.60it/s]\n",
      "100%|█████████████████████████████████████████████████████████| 46/46 [00:00<00:00, 148.24it/s]\n"
     ]
    },
    {
     "name": "stdout",
     "output_type": "stream",
     "text": [
      "Epoch: 277 | Training Loss: 0.0007963657703023786  | Validation Loss: 4.0462588019993  | Accuracy: 58.90\n"
     ]
    },
    {
     "name": "stderr",
     "output_type": "stream",
     "text": [
      "156it [00:03, 39.97it/s]\n",
      "100%|█████████████████████████████████████████████████████████| 46/46 [00:00<00:00, 158.73it/s]\n"
     ]
    },
    {
     "name": "stdout",
     "output_type": "stream",
     "text": [
      "Epoch: 278 | Training Loss: 0.00047297991132393526  | Validation Loss: 4.116860089094742  | Accuracy: 58.59\n"
     ]
    },
    {
     "name": "stderr",
     "output_type": "stream",
     "text": [
      "156it [00:03, 39.88it/s]\n",
      "100%|█████████████████████████████████████████████████████████| 46/46 [00:00<00:00, 140.63it/s]\n"
     ]
    },
    {
     "name": "stdout",
     "output_type": "stream",
     "text": [
      "Epoch: 279 | Training Loss: 0.00045537819961538893  | Validation Loss: 4.172509509584178  | Accuracy: 59.14\n"
     ]
    },
    {
     "name": "stderr",
     "output_type": "stream",
     "text": [
      "156it [00:03, 40.07it/s]\n",
      "100%|█████████████████████████████████████████████████████████| 46/46 [00:00<00:00, 151.51it/s]\n"
     ]
    },
    {
     "name": "stdout",
     "output_type": "stream",
     "text": [
      "Epoch: 280 | Training Loss: 0.00036154692279757373  | Validation Loss: 4.140990345374398  | Accuracy: 58.59\n"
     ]
    },
    {
     "name": "stderr",
     "output_type": "stream",
     "text": [
      "156it [00:03, 39.79it/s]\n",
      "100%|█████████████████████████████████████████████████████████| 46/46 [00:00<00:00, 141.09it/s]\n"
     ]
    },
    {
     "name": "stdout",
     "output_type": "stream",
     "text": [
      "Epoch: 281 | Training Loss: 0.00019702840644150946  | Validation Loss: 4.100662184798199  | Accuracy: 58.80\n"
     ]
    },
    {
     "name": "stderr",
     "output_type": "stream",
     "text": [
      "156it [00:03, 40.45it/s]\n",
      "100%|█████████████████████████████████████████████████████████| 46/46 [00:00<00:00, 141.73it/s]\n"
     ]
    },
    {
     "name": "stdout",
     "output_type": "stream",
     "text": [
      "Epoch: 282 | Training Loss: 0.00021998850570525974  | Validation Loss: 4.051872730255127  | Accuracy: 58.98\n"
     ]
    },
    {
     "name": "stderr",
     "output_type": "stream",
     "text": [
      "156it [00:03, 40.00it/s]\n",
      "100%|█████████████████████████████████████████████████████████| 46/46 [00:00<00:00, 143.29it/s]\n"
     ]
    },
    {
     "name": "stdout",
     "output_type": "stream",
     "text": [
      "Epoch: 283 | Training Loss: 0.00013733158886726672  | Validation Loss: 4.0926624588344405  | Accuracy: 59.17\n"
     ]
    },
    {
     "name": "stderr",
     "output_type": "stream",
     "text": [
      "156it [00:03, 40.27it/s]\n",
      "100%|█████████████████████████████████████████████████████████| 46/46 [00:00<00:00, 141.90it/s]\n"
     ]
    },
    {
     "name": "stdout",
     "output_type": "stream",
     "text": [
      "Epoch: 284 | Training Loss: 0.0019722301956859997  | Validation Loss: 4.064960355344026  | Accuracy: 58.71\n"
     ]
    },
    {
     "name": "stderr",
     "output_type": "stream",
     "text": [
      "156it [00:03, 39.72it/s]\n",
      "100%|█████████████████████████████████████████████████████████| 46/46 [00:00<00:00, 168.27it/s]\n"
     ]
    },
    {
     "name": "stdout",
     "output_type": "stream",
     "text": [
      "Epoch: 285 | Training Loss: 0.002392361550706622  | Validation Loss: 4.013256829717885  | Accuracy: 58.85\n"
     ]
    },
    {
     "name": "stderr",
     "output_type": "stream",
     "text": [
      "156it [00:03, 39.79it/s]\n",
      "100%|█████████████████████████████████████████████████████████| 46/46 [00:00<00:00, 140.83it/s]\n"
     ]
    },
    {
     "name": "stdout",
     "output_type": "stream",
     "text": [
      "Epoch: 286 | Training Loss: 0.001445634797351093  | Validation Loss: 4.151905490004498  | Accuracy: 58.20\n"
     ]
    },
    {
     "name": "stderr",
     "output_type": "stream",
     "text": [
      "156it [00:03, 40.08it/s]\n",
      "100%|█████████████████████████████████████████████████████████| 46/46 [00:00<00:00, 151.28it/s]\n"
     ]
    },
    {
     "name": "stdout",
     "output_type": "stream",
     "text": [
      "Epoch: 287 | Training Loss: 0.0028594349474611266  | Validation Loss: 3.8886326084966245  | Accuracy: 59.87\n"
     ]
    },
    {
     "name": "stderr",
     "output_type": "stream",
     "text": [
      "156it [00:03, 40.61it/s]\n",
      "100%|█████████████████████████████████████████████████████████| 46/46 [00:00<00:00, 147.52it/s]\n"
     ]
    },
    {
     "name": "stdout",
     "output_type": "stream",
     "text": [
      "Epoch: 288 | Training Loss: 0.01159243831572008  | Validation Loss: 4.337506594865219  | Accuracy: 58.08\n"
     ]
    },
    {
     "name": "stderr",
     "output_type": "stream",
     "text": [
      "156it [00:03, 42.10it/s]\n",
      "100%|█████████████████████████████████████████████████████████| 46/46 [00:00<00:00, 153.90it/s]\n"
     ]
    },
    {
     "name": "stdout",
     "output_type": "stream",
     "text": [
      "Epoch: 289 | Training Loss: 0.011349816414971988  | Validation Loss: 4.027468536211097  | Accuracy: 58.44\n"
     ]
    },
    {
     "name": "stderr",
     "output_type": "stream",
     "text": [
      "156it [00:03, 41.86it/s]\n",
      "100%|█████████████████████████████████████████████████████████| 46/46 [00:00<00:00, 148.65it/s]\n"
     ]
    },
    {
     "name": "stdout",
     "output_type": "stream",
     "text": [
      "Epoch: 290 | Training Loss: 0.006630993995480448  | Validation Loss: 3.846905661665875  | Accuracy: 59.05\n"
     ]
    },
    {
     "name": "stderr",
     "output_type": "stream",
     "text": [
      "156it [00:03, 40.95it/s]\n",
      "100%|█████████████████████████████████████████████████████████| 46/46 [00:00<00:00, 146.65it/s]\n"
     ]
    },
    {
     "name": "stdout",
     "output_type": "stream",
     "text": [
      "Epoch: 291 | Training Loss: 0.006323683973161492  | Validation Loss: 3.9996973068817803  | Accuracy: 57.88\n"
     ]
    },
    {
     "name": "stderr",
     "output_type": "stream",
     "text": [
      "156it [00:03, 39.37it/s]\n",
      "100%|█████████████████████████████████████████████████████████| 46/46 [00:00<00:00, 141.36it/s]\n"
     ]
    },
    {
     "name": "stdout",
     "output_type": "stream",
     "text": [
      "Epoch: 292 | Training Loss: 0.006677856358015934  | Validation Loss: 4.085894164831742  | Accuracy: 57.54\n"
     ]
    },
    {
     "name": "stderr",
     "output_type": "stream",
     "text": [
      "156it [00:03, 39.91it/s]\n",
      "100%|█████████████████████████████████████████████████████████| 46/46 [00:00<00:00, 143.49it/s]\n"
     ]
    },
    {
     "name": "stdout",
     "output_type": "stream",
     "text": [
      "Epoch: 293 | Training Loss: 0.002250013041819516  | Validation Loss: 4.130900103112926  | Accuracy: 58.31\n"
     ]
    },
    {
     "name": "stderr",
     "output_type": "stream",
     "text": [
      "156it [00:03, 39.28it/s]\n",
      "100%|█████████████████████████████████████████████████████████| 46/46 [00:00<00:00, 156.42it/s]\n"
     ]
    },
    {
     "name": "stdout",
     "output_type": "stream",
     "text": [
      "Epoch: 294 | Training Loss: 0.0034183593166185  | Validation Loss: 3.647742473560831  | Accuracy: 59.10\n"
     ]
    },
    {
     "name": "stderr",
     "output_type": "stream",
     "text": [
      "156it [00:03, 39.64it/s]\n",
      "100%|█████████████████████████████████████████████████████████| 46/46 [00:00<00:00, 141.01it/s]\n"
     ]
    },
    {
     "name": "stdout",
     "output_type": "stream",
     "text": [
      "Epoch: 295 | Training Loss: 0.004327421210361466  | Validation Loss: 3.9636402078296826  | Accuracy: 59.58\n"
     ]
    },
    {
     "name": "stderr",
     "output_type": "stream",
     "text": [
      "156it [00:03, 41.06it/s]\n",
      "100%|█████████████████████████████████████████████████████████| 46/46 [00:00<00:00, 167.53it/s]\n"
     ]
    },
    {
     "name": "stdout",
     "output_type": "stream",
     "text": [
      "Epoch: 296 | Training Loss: 0.005430321705390293  | Validation Loss: 4.337177561677021  | Accuracy: 57.18\n"
     ]
    },
    {
     "name": "stderr",
     "output_type": "stream",
     "text": [
      "156it [00:03, 41.19it/s]\n",
      "100%|█████████████████████████████████████████████████████████| 46/46 [00:00<00:00, 147.74it/s]\n"
     ]
    },
    {
     "name": "stdout",
     "output_type": "stream",
     "text": [
      "Epoch: 297 | Training Loss: 0.010553280663537943  | Validation Loss: 3.806330820788508  | Accuracy: 59.22\n"
     ]
    },
    {
     "name": "stderr",
     "output_type": "stream",
     "text": [
      "156it [00:03, 41.47it/s]\n",
      "100%|█████████████████████████████████████████████████████████| 46/46 [00:00<00:00, 156.60it/s]\n"
     ]
    },
    {
     "name": "stdout",
     "output_type": "stream",
     "text": [
      "Epoch: 298 | Training Loss: 0.00946693146117748  | Validation Loss: 4.2550735525462935  | Accuracy: 58.14\n"
     ]
    },
    {
     "name": "stderr",
     "output_type": "stream",
     "text": [
      "156it [00:03, 41.01it/s]\n",
      "100%|█████████████████████████████████████████████████████████| 46/46 [00:00<00:00, 149.11it/s]\n"
     ]
    },
    {
     "name": "stdout",
     "output_type": "stream",
     "text": [
      "Epoch: 299 | Training Loss: 0.004607562668239459  | Validation Loss: 4.012460568676824  | Accuracy: 58.25\n"
     ]
    },
    {
     "name": "stderr",
     "output_type": "stream",
     "text": [
      "156it [00:03, 41.61it/s]\n",
      "100%|█████████████████████████████████████████████████████████| 46/46 [00:00<00:00, 139.99it/s]\n"
     ]
    },
    {
     "name": "stdout",
     "output_type": "stream",
     "text": [
      "Epoch: 300 | Training Loss: 0.007029711731844985  | Validation Loss: 4.008431294690007  | Accuracy: 59.48\n"
     ]
    },
    {
     "name": "stderr",
     "output_type": "stream",
     "text": [
      "156it [00:03, 39.80it/s]\n",
      "100%|█████████████████████████████████████████████████████████| 46/46 [00:00<00:00, 150.39it/s]\n"
     ]
    },
    {
     "name": "stdout",
     "output_type": "stream",
     "text": [
      "Epoch: 301 | Training Loss: 0.005964069244864498  | Validation Loss: 3.9523943092512046  | Accuracy: 59.36\n"
     ]
    },
    {
     "name": "stderr",
     "output_type": "stream",
     "text": [
      "156it [00:03, 40.14it/s]\n",
      "100%|█████████████████████████████████████████████████████████| 46/46 [00:00<00:00, 140.15it/s]\n"
     ]
    },
    {
     "name": "stdout",
     "output_type": "stream",
     "text": [
      "Epoch: 302 | Training Loss: 0.004441025788438333  | Validation Loss: 3.9032340516214785  | Accuracy: 58.42\n"
     ]
    },
    {
     "name": "stderr",
     "output_type": "stream",
     "text": [
      "156it [00:03, 39.84it/s]\n",
      "100%|█████████████████████████████████████████████████████████| 46/46 [00:00<00:00, 161.44it/s]\n"
     ]
    },
    {
     "name": "stdout",
     "output_type": "stream",
     "text": [
      "Epoch: 303 | Training Loss: 0.005106872733776049  | Validation Loss: 4.360930111097253  | Accuracy: 57.47\n"
     ]
    },
    {
     "name": "stderr",
     "output_type": "stream",
     "text": [
      "156it [00:03, 39.77it/s]\n",
      "100%|█████████████████████████████████████████████████████████| 46/46 [00:00<00:00, 143.77it/s]\n"
     ]
    },
    {
     "name": "stdout",
     "output_type": "stream",
     "text": [
      "Epoch: 304 | Training Loss: 0.005260076822359667  | Validation Loss: 3.8143688336662622  | Accuracy: 58.83\n"
     ]
    },
    {
     "name": "stderr",
     "output_type": "stream",
     "text": [
      "156it [00:03, 40.41it/s]\n",
      "100%|█████████████████████████████████████████████████████████| 46/46 [00:00<00:00, 146.82it/s]\n"
     ]
    },
    {
     "name": "stdout",
     "output_type": "stream",
     "text": [
      "Epoch: 305 | Training Loss: 0.003154505767713253  | Validation Loss: 4.2230285250622295  | Accuracy: 58.07\n"
     ]
    },
    {
     "name": "stderr",
     "output_type": "stream",
     "text": [
      "156it [00:03, 40.04it/s]\n",
      "100%|█████████████████████████████████████████████████████████| 46/46 [00:00<00:00, 140.95it/s]\n"
     ]
    },
    {
     "name": "stdout",
     "output_type": "stream",
     "text": [
      "Epoch: 306 | Training Loss: 0.002774728728232171  | Validation Loss: 4.242357627205227  | Accuracy: 58.31\n"
     ]
    },
    {
     "name": "stderr",
     "output_type": "stream",
     "text": [
      "156it [00:03, 40.51it/s]\n",
      "100%|█████████████████████████████████████████████████████████| 46/46 [00:00<00:00, 141.03it/s]\n"
     ]
    },
    {
     "name": "stdout",
     "output_type": "stream",
     "text": [
      "Epoch: 307 | Training Loss: 0.004235855048952941  | Validation Loss: 4.067328665567481  | Accuracy: 58.76\n"
     ]
    },
    {
     "name": "stderr",
     "output_type": "stream",
     "text": [
      "156it [00:03, 40.25it/s]\n",
      "100%|█████████████████████████████████████████████████████████| 46/46 [00:00<00:00, 150.64it/s]\n"
     ]
    },
    {
     "name": "stdout",
     "output_type": "stream",
     "text": [
      "Epoch: 308 | Training Loss: 0.006421289029859532  | Validation Loss: 3.983357196268828  | Accuracy: 59.22\n"
     ]
    },
    {
     "name": "stderr",
     "output_type": "stream",
     "text": [
      "156it [00:03, 40.73it/s]\n",
      "100%|█████████████████████████████████████████████████████████| 46/46 [00:00<00:00, 141.85it/s]\n"
     ]
    },
    {
     "name": "stdout",
     "output_type": "stream",
     "text": [
      "Epoch: 309 | Training Loss: 0.0030274355798004158  | Validation Loss: 3.8553404134252798  | Accuracy: 59.41\n"
     ]
    },
    {
     "name": "stderr",
     "output_type": "stream",
     "text": [
      "156it [00:03, 39.85it/s]\n",
      "100%|█████████████████████████████████████████████████████████| 46/46 [00:00<00:00, 162.45it/s]\n"
     ]
    },
    {
     "name": "stdout",
     "output_type": "stream",
     "text": [
      "Epoch: 310 | Training Loss: 0.0033095118717774777  | Validation Loss: 3.940429962199667  | Accuracy: 58.90\n"
     ]
    },
    {
     "name": "stderr",
     "output_type": "stream",
     "text": [
      "156it [00:03, 39.81it/s]\n",
      "100%|█████████████████████████████████████████████████████████| 46/46 [00:00<00:00, 143.02it/s]\n"
     ]
    },
    {
     "name": "stdout",
     "output_type": "stream",
     "text": [
      "Epoch: 311 | Training Loss: 0.004110689273847339  | Validation Loss: 3.917620918025141  | Accuracy: 58.81\n"
     ]
    },
    {
     "name": "stderr",
     "output_type": "stream",
     "text": [
      "156it [00:03, 39.91it/s]\n",
      "100%|█████████████████████████████████████████████████████████| 46/46 [00:00<00:00, 153.84it/s]\n"
     ]
    },
    {
     "name": "stdout",
     "output_type": "stream",
     "text": [
      "Epoch: 312 | Training Loss: 0.0018870248319823684  | Validation Loss: 3.988808574883834  | Accuracy: 58.46\n"
     ]
    },
    {
     "name": "stderr",
     "output_type": "stream",
     "text": [
      "156it [00:03, 39.50it/s]\n",
      "100%|█████████████████████████████████████████████████████████| 46/46 [00:00<00:00, 139.52it/s]\n"
     ]
    },
    {
     "name": "stdout",
     "output_type": "stream",
     "text": [
      "Epoch: 313 | Training Loss: 0.0017815790958057055  | Validation Loss: 4.1703831890354985  | Accuracy: 58.80\n"
     ]
    },
    {
     "name": "stderr",
     "output_type": "stream",
     "text": [
      "156it [00:03, 40.55it/s]\n",
      "100%|█████████████████████████████████████████████████████████| 46/46 [00:00<00:00, 144.50it/s]\n"
     ]
    },
    {
     "name": "stdout",
     "output_type": "stream",
     "text": [
      "Epoch: 314 | Training Loss: 0.002530840599856441  | Validation Loss: 4.087717517562535  | Accuracy: 59.09\n"
     ]
    },
    {
     "name": "stderr",
     "output_type": "stream",
     "text": [
      "156it [00:03, 40.33it/s]\n",
      "100%|█████████████████████████████████████████████████████████| 46/46 [00:00<00:00, 143.92it/s]\n"
     ]
    },
    {
     "name": "stdout",
     "output_type": "stream",
     "text": [
      "Epoch: 315 | Training Loss: 0.002506160229399822  | Validation Loss: 4.186093496239704  | Accuracy: 58.92\n"
     ]
    },
    {
     "name": "stderr",
     "output_type": "stream",
     "text": [
      "156it [00:03, 40.28it/s]\n",
      "100%|█████████████████████████████████████████████████████████| 46/46 [00:00<00:00, 141.59it/s]\n"
     ]
    },
    {
     "name": "stdout",
     "output_type": "stream",
     "text": [
      "Epoch: 316 | Training Loss: 0.0020393798675472797  | Validation Loss: 4.103146319803984  | Accuracy: 59.10\n"
     ]
    },
    {
     "name": "stderr",
     "output_type": "stream",
     "text": [
      "156it [00:03, 39.93it/s]\n",
      "100%|█████████████████████████████████████████████████████████| 46/46 [00:00<00:00, 167.35it/s]\n"
     ]
    },
    {
     "name": "stdout",
     "output_type": "stream",
     "text": [
      "Epoch: 317 | Training Loss: 0.0029072390939873937  | Validation Loss: 4.116452113441799  | Accuracy: 58.98\n"
     ]
    },
    {
     "name": "stderr",
     "output_type": "stream",
     "text": [
      "156it [00:03, 40.03it/s]\n",
      "100%|█████████████████████████████████████████████████████████| 46/46 [00:00<00:00, 142.08it/s]\n"
     ]
    },
    {
     "name": "stdout",
     "output_type": "stream",
     "text": [
      "Epoch: 318 | Training Loss: 0.00228887372481833  | Validation Loss: 4.029206928999527  | Accuracy: 59.71\n"
     ]
    },
    {
     "name": "stderr",
     "output_type": "stream",
     "text": [
      "156it [00:03, 41.20it/s]\n",
      "100%|█████████████████████████████████████████████████████████| 46/46 [00:00<00:00, 160.44it/s]\n"
     ]
    },
    {
     "name": "stdout",
     "output_type": "stream",
     "text": [
      "Epoch: 319 | Training Loss: 0.001946623091148817  | Validation Loss: 4.090533500132353  | Accuracy: 59.63\n"
     ]
    },
    {
     "name": "stderr",
     "output_type": "stream",
     "text": [
      "156it [00:03, 41.36it/s]\n",
      "100%|█████████████████████████████████████████████████████████| 46/46 [00:00<00:00, 147.50it/s]\n"
     ]
    },
    {
     "name": "stdout",
     "output_type": "stream",
     "text": [
      "Epoch: 320 | Training Loss: 0.0007429711632796217  | Validation Loss: 4.288798098978789  | Accuracy: 59.04\n"
     ]
    },
    {
     "name": "stderr",
     "output_type": "stream",
     "text": [
      "156it [00:03, 41.04it/s]\n",
      "100%|█████████████████████████████████████████████████████████| 46/46 [00:00<00:00, 136.07it/s]\n"
     ]
    },
    {
     "name": "stdout",
     "output_type": "stream",
     "text": [
      "Epoch: 321 | Training Loss: 0.0007555842868476667  | Validation Loss: 4.346057943675829  | Accuracy: 58.92\n"
     ]
    },
    {
     "name": "stderr",
     "output_type": "stream",
     "text": [
      "156it [00:03, 40.55it/s]\n",
      "100%|█████████████████████████████████████████████████████████| 46/46 [00:00<00:00, 145.27it/s]\n"
     ]
    },
    {
     "name": "stdout",
     "output_type": "stream",
     "text": [
      "Epoch: 322 | Training Loss: 0.0013933028245120137  | Validation Loss: 4.234177086664283  | Accuracy: 58.95\n"
     ]
    },
    {
     "name": "stderr",
     "output_type": "stream",
     "text": [
      "156it [00:03, 41.10it/s]\n",
      "100%|█████████████████████████████████████████████████████████| 46/46 [00:00<00:00, 144.89it/s]\n"
     ]
    },
    {
     "name": "stdout",
     "output_type": "stream",
     "text": [
      "Epoch: 323 | Training Loss: 0.002074196266757775  | Validation Loss: 4.243526432825171  | Accuracy: 58.25\n"
     ]
    },
    {
     "name": "stderr",
     "output_type": "stream",
     "text": [
      "156it [00:03, 40.61it/s]\n",
      "100%|█████████████████████████████████████████████████████████| 46/46 [00:00<00:00, 162.41it/s]\n"
     ]
    },
    {
     "name": "stdout",
     "output_type": "stream",
     "text": [
      "Epoch: 324 | Training Loss: 0.002573321194316892  | Validation Loss: 4.44675584461378  | Accuracy: 58.71\n"
     ]
    },
    {
     "name": "stderr",
     "output_type": "stream",
     "text": [
      "156it [00:03, 40.55it/s]\n",
      "100%|█████████████████████████████████████████████████████████| 46/46 [00:00<00:00, 143.56it/s]\n"
     ]
    },
    {
     "name": "stdout",
     "output_type": "stream",
     "text": [
      "Epoch: 325 | Training Loss: 0.005164836114626945  | Validation Loss: 3.772247366283251  | Accuracy: 59.63\n"
     ]
    },
    {
     "name": "stderr",
     "output_type": "stream",
     "text": [
      "156it [00:03, 40.75it/s]\n",
      "100%|█████████████████████████████████████████████████████████| 46/46 [00:00<00:00, 157.21it/s]\n"
     ]
    },
    {
     "name": "stdout",
     "output_type": "stream",
     "text": [
      "Epoch: 326 | Training Loss: 0.0052094247920393124  | Validation Loss: 4.026772001515264  | Accuracy: 59.51\n"
     ]
    },
    {
     "name": "stderr",
     "output_type": "stream",
     "text": [
      "156it [00:03, 40.38it/s]\n",
      "100%|█████████████████████████████████████████████████████████| 46/46 [00:00<00:00, 141.54it/s]\n"
     ]
    },
    {
     "name": "stdout",
     "output_type": "stream",
     "text": [
      "Epoch: 327 | Training Loss: 0.0029269790019241506  | Validation Loss: 4.004355653472569  | Accuracy: 59.44\n"
     ]
    },
    {
     "name": "stderr",
     "output_type": "stream",
     "text": [
      "156it [00:03, 41.11it/s]\n",
      "100%|█████████████████████████████████████████████████████████| 46/46 [00:00<00:00, 143.63it/s]\n"
     ]
    },
    {
     "name": "stdout",
     "output_type": "stream",
     "text": [
      "Epoch: 328 | Training Loss: 0.007644539916863999  | Validation Loss: 4.1820581114810444  | Accuracy: 58.56\n"
     ]
    },
    {
     "name": "stderr",
     "output_type": "stream",
     "text": [
      "156it [00:03, 40.38it/s]\n",
      "100%|█████████████████████████████████████████████████████████| 46/46 [00:00<00:00, 154.11it/s]\n"
     ]
    },
    {
     "name": "stdout",
     "output_type": "stream",
     "text": [
      "Epoch: 329 | Training Loss: 0.009142823627907767  | Validation Loss: 4.199676534403926  | Accuracy: 58.03\n"
     ]
    },
    {
     "name": "stderr",
     "output_type": "stream",
     "text": [
      "156it [00:03, 40.63it/s]\n",
      "100%|█████████████████████████████████████████████████████████| 46/46 [00:00<00:00, 144.51it/s]\n"
     ]
    },
    {
     "name": "stdout",
     "output_type": "stream",
     "text": [
      "Epoch: 330 | Training Loss: 0.004782468663203569  | Validation Loss: 4.113227284472922  | Accuracy: 58.75\n"
     ]
    },
    {
     "name": "stderr",
     "output_type": "stream",
     "text": [
      "156it [00:03, 40.37it/s]\n",
      "100%|█████████████████████████████████████████████████████████| 46/46 [00:00<00:00, 162.98it/s]\n"
     ]
    },
    {
     "name": "stdout",
     "output_type": "stream",
     "text": [
      "Epoch: 331 | Training Loss: 0.011865118993461156  | Validation Loss: 4.184234541395436  | Accuracy: 58.93\n"
     ]
    },
    {
     "name": "stderr",
     "output_type": "stream",
     "text": [
      "156it [00:03, 40.70it/s]\n",
      "100%|█████████████████████████████████████████████████████████| 46/46 [00:00<00:00, 144.19it/s]\n"
     ]
    },
    {
     "name": "stdout",
     "output_type": "stream",
     "text": [
      "Epoch: 332 | Training Loss: 0.004596743550885152  | Validation Loss: 3.9063034731408823  | Accuracy: 59.54\n"
     ]
    },
    {
     "name": "stderr",
     "output_type": "stream",
     "text": [
      "156it [00:03, 41.09it/s]\n",
      "100%|█████████████████████████████████████████████████████████| 46/46 [00:00<00:00, 142.95it/s]\n"
     ]
    },
    {
     "name": "stdout",
     "output_type": "stream",
     "text": [
      "Epoch: 333 | Training Loss: 0.00528369184417571  | Validation Loss: 4.023416923440021  | Accuracy: 58.80\n"
     ]
    },
    {
     "name": "stderr",
     "output_type": "stream",
     "text": [
      "156it [00:03, 40.56it/s]\n",
      "100%|█████████████████████████████████████████████████████████| 46/46 [00:00<00:00, 145.46it/s]\n"
     ]
    },
    {
     "name": "stdout",
     "output_type": "stream",
     "text": [
      "Epoch: 334 | Training Loss: 0.0035130644326925855  | Validation Loss: 4.184718095737955  | Accuracy: 59.41\n"
     ]
    },
    {
     "name": "stderr",
     "output_type": "stream",
     "text": [
      "156it [00:03, 40.97it/s]\n",
      "100%|█████████████████████████████████████████████████████████| 46/46 [00:00<00:00, 144.21it/s]\n"
     ]
    },
    {
     "name": "stdout",
     "output_type": "stream",
     "text": [
      "Epoch: 335 | Training Loss: 0.006901145131987272  | Validation Loss: 4.21133688221807  | Accuracy: 58.85\n"
     ]
    },
    {
     "name": "stderr",
     "output_type": "stream",
     "text": [
      "156it [00:03, 40.53it/s]\n",
      "100%|█████████████████████████████████████████████████████████| 46/46 [00:00<00:00, 160.79it/s]\n"
     ]
    },
    {
     "name": "stdout",
     "output_type": "stream",
     "text": [
      "Epoch: 336 | Training Loss: 0.005123991816640811  | Validation Loss: 3.9286445327427075  | Accuracy: 58.63\n"
     ]
    },
    {
     "name": "stderr",
     "output_type": "stream",
     "text": [
      "156it [00:03, 40.32it/s]\n",
      "100%|█████████████████████████████████████████████████████████| 46/46 [00:00<00:00, 143.94it/s]\n"
     ]
    },
    {
     "name": "stdout",
     "output_type": "stream",
     "text": [
      "Epoch: 337 | Training Loss: 0.004466843987383748  | Validation Loss: 3.9112603249757187  | Accuracy: 58.02\n"
     ]
    },
    {
     "name": "stderr",
     "output_type": "stream",
     "text": [
      "156it [00:03, 40.77it/s]\n",
      "100%|█████████████████████████████████████████████████████████| 46/46 [00:00<00:00, 153.24it/s]\n"
     ]
    },
    {
     "name": "stdout",
     "output_type": "stream",
     "text": [
      "Epoch: 338 | Training Loss: 0.008372376452219518  | Validation Loss: 4.214126073795816  | Accuracy: 59.34\n"
     ]
    },
    {
     "name": "stderr",
     "output_type": "stream",
     "text": [
      "156it [00:03, 40.70it/s]\n",
      "100%|█████████████████████████████████████████████████████████| 46/46 [00:00<00:00, 143.21it/s]\n"
     ]
    },
    {
     "name": "stdout",
     "output_type": "stream",
     "text": [
      "Epoch: 339 | Training Loss: 0.006795796193238437  | Validation Loss: 4.014460636221844  | Accuracy: 58.58\n"
     ]
    },
    {
     "name": "stderr",
     "output_type": "stream",
     "text": [
      "156it [00:03, 41.26it/s]\n",
      "100%|█████████████████████████████████████████████████████████| 46/46 [00:00<00:00, 144.86it/s]\n"
     ]
    },
    {
     "name": "stdout",
     "output_type": "stream",
     "text": [
      "Epoch: 340 | Training Loss: 0.004742327594962821  | Validation Loss: 4.28467829849409  | Accuracy: 57.86\n"
     ]
    },
    {
     "name": "stderr",
     "output_type": "stream",
     "text": [
      "156it [00:03, 40.86it/s]\n",
      "100%|█████████████████████████████████████████████████████████| 46/46 [00:00<00:00, 149.40it/s]\n"
     ]
    },
    {
     "name": "stdout",
     "output_type": "stream",
     "text": [
      "Epoch: 341 | Training Loss: 0.007841176326576552  | Validation Loss: 4.147941729296809  | Accuracy: 59.43\n"
     ]
    },
    {
     "name": "stderr",
     "output_type": "stream",
     "text": [
      "156it [00:03, 41.41it/s]\n",
      "100%|█████████████████████████████████████████████████████████| 46/46 [00:00<00:00, 145.36it/s]\n"
     ]
    },
    {
     "name": "stdout",
     "output_type": "stream",
     "text": [
      "Epoch: 342 | Training Loss: 0.0058258361736639366  | Validation Loss: 3.9025725437247236  | Accuracy: 59.09\n"
     ]
    },
    {
     "name": "stderr",
     "output_type": "stream",
     "text": [
      "156it [00:03, 40.66it/s]\n",
      "100%|█████████████████████████████████████████████████████████| 46/46 [00:00<00:00, 156.83it/s]\n"
     ]
    },
    {
     "name": "stdout",
     "output_type": "stream",
     "text": [
      "Epoch: 343 | Training Loss: 0.0075711050809238655  | Validation Loss: 3.9991005659103394  | Accuracy: 57.98\n"
     ]
    },
    {
     "name": "stderr",
     "output_type": "stream",
     "text": [
      "156it [00:03, 40.75it/s]\n",
      "100%|█████████████████████████████████████████████████████████| 46/46 [00:00<00:00, 144.97it/s]\n"
     ]
    },
    {
     "name": "stdout",
     "output_type": "stream",
     "text": [
      "Epoch: 344 | Training Loss: 0.00672712653025743  | Validation Loss: 4.120818516482478  | Accuracy: 58.24\n"
     ]
    },
    {
     "name": "stderr",
     "output_type": "stream",
     "text": [
      "156it [00:03, 40.42it/s]\n",
      "100%|█████████████████████████████████████████████████████████| 46/46 [00:00<00:00, 165.74it/s]\n"
     ]
    },
    {
     "name": "stdout",
     "output_type": "stream",
     "text": [
      "Epoch: 345 | Training Loss: 0.004636617755073904  | Validation Loss: 3.7926271169081978  | Accuracy: 59.80\n"
     ]
    },
    {
     "name": "stderr",
     "output_type": "stream",
     "text": [
      "156it [00:03, 40.46it/s]\n",
      "100%|█████████████████████████████████████████████████████████| 46/46 [00:00<00:00, 143.60it/s]\n"
     ]
    },
    {
     "name": "stdout",
     "output_type": "stream",
     "text": [
      "Epoch: 346 | Training Loss: 0.00666917260740518  | Validation Loss: 4.2026650490968125  | Accuracy: 58.53\n"
     ]
    },
    {
     "name": "stderr",
     "output_type": "stream",
     "text": [
      "156it [00:03, 41.01it/s]\n",
      "100%|█████████████████████████████████████████████████████████| 46/46 [00:00<00:00, 150.17it/s]\n"
     ]
    },
    {
     "name": "stdout",
     "output_type": "stream",
     "text": [
      "Epoch: 347 | Training Loss: 0.006622860863759483  | Validation Loss: 4.23104801385299  | Accuracy: 59.02\n"
     ]
    },
    {
     "name": "stderr",
     "output_type": "stream",
     "text": [
      "156it [00:04, 38.93it/s]\n",
      "100%|█████████████████████████████████████████████████████████| 46/46 [00:00<00:00, 127.34it/s]\n"
     ]
    },
    {
     "name": "stdout",
     "output_type": "stream",
     "text": [
      "Epoch: 348 | Training Loss: 0.004290473297749906  | Validation Loss: 4.110283633937007  | Accuracy: 59.15\n"
     ]
    },
    {
     "name": "stderr",
     "output_type": "stream",
     "text": [
      "156it [00:04, 37.82it/s]\n",
      "100%|█████████████████████████████████████████████████████████| 46/46 [00:00<00:00, 133.95it/s]\n"
     ]
    },
    {
     "name": "stdout",
     "output_type": "stream",
     "text": [
      "Epoch: 349 | Training Loss: 0.001992514941939123  | Validation Loss: 4.0408060758010205  | Accuracy: 59.36\n"
     ]
    },
    {
     "name": "stderr",
     "output_type": "stream",
     "text": [
      "156it [00:03, 39.33it/s]\n",
      "100%|█████████████████████████████████████████████████████████| 46/46 [00:00<00:00, 153.51it/s]\n"
     ]
    },
    {
     "name": "stdout",
     "output_type": "stream",
     "text": [
      "Epoch: 350 | Training Loss: 0.0009111374948378608  | Validation Loss: 4.120491152224333  | Accuracy: 58.73\n"
     ]
    },
    {
     "name": "stderr",
     "output_type": "stream",
     "text": [
      "156it [00:03, 39.61it/s]\n",
      "100%|█████████████████████████████████████████████████████████| 46/46 [00:00<00:00, 138.43it/s]\n"
     ]
    },
    {
     "name": "stdout",
     "output_type": "stream",
     "text": [
      "Epoch: 351 | Training Loss: 0.0004858319063294822  | Validation Loss: 4.190871731094692  | Accuracy: 58.73\n"
     ]
    },
    {
     "name": "stderr",
     "output_type": "stream",
     "text": [
      "156it [00:03, 39.63it/s]\n",
      "100%|█████████████████████████████████████████████████████████| 46/46 [00:00<00:00, 158.90it/s]\n"
     ]
    },
    {
     "name": "stdout",
     "output_type": "stream",
     "text": [
      "Epoch: 352 | Training Loss: 0.0003282667436836234  | Validation Loss: 4.036489637001701  | Accuracy: 59.05\n"
     ]
    },
    {
     "name": "stderr",
     "output_type": "stream",
     "text": [
      "156it [00:03, 39.36it/s]\n",
      "100%|█████████████████████████████████████████████████████████| 46/46 [00:00<00:00, 143.95it/s]\n"
     ]
    },
    {
     "name": "stdout",
     "output_type": "stream",
     "text": [
      "Epoch: 353 | Training Loss: 0.0011391018412187127  | Validation Loss: 4.156781606052233  | Accuracy: 58.75\n"
     ]
    },
    {
     "name": "stderr",
     "output_type": "stream",
     "text": [
      "156it [00:03, 39.86it/s]\n",
      "100%|█████████████████████████████████████████████████████████| 46/46 [00:00<00:00, 150.26it/s]\n"
     ]
    },
    {
     "name": "stdout",
     "output_type": "stream",
     "text": [
      "Epoch: 354 | Training Loss: 0.0006802025610830662  | Validation Loss: 3.993129232655401  | Accuracy: 58.83\n"
     ]
    },
    {
     "name": "stderr",
     "output_type": "stream",
     "text": [
      "156it [00:03, 39.28it/s]\n",
      "100%|█████████████████████████████████████████████████████████| 46/46 [00:00<00:00, 140.52it/s]\n"
     ]
    },
    {
     "name": "stdout",
     "output_type": "stream",
     "text": [
      "Epoch: 355 | Training Loss: 0.0006572773566474027  | Validation Loss: 4.11966465867084  | Accuracy: 58.90\n"
     ]
    },
    {
     "name": "stderr",
     "output_type": "stream",
     "text": [
      "156it [00:03, 39.97it/s]\n",
      "100%|█████████████████████████████████████████████████████████| 46/46 [00:00<00:00, 138.72it/s]\n"
     ]
    },
    {
     "name": "stdout",
     "output_type": "stream",
     "text": [
      "Epoch: 356 | Training Loss: 0.0004934796865526527  | Validation Loss: 4.024064074391904  | Accuracy: 58.58\n"
     ]
    },
    {
     "name": "stderr",
     "output_type": "stream",
     "text": [
      "156it [00:03, 39.42it/s]\n",
      "100%|█████████████████████████████████████████████████████████| 46/46 [00:00<00:00, 153.88it/s]\n"
     ]
    },
    {
     "name": "stdout",
     "output_type": "stream",
     "text": [
      "Epoch: 357 | Training Loss: 0.0002968856739617201  | Validation Loss: 4.203654128572215  | Accuracy: 58.59\n"
     ]
    },
    {
     "name": "stderr",
     "output_type": "stream",
     "text": [
      "156it [00:03, 39.82it/s]\n",
      "100%|█████████████████████████████████████████████████████████| 46/46 [00:00<00:00, 140.55it/s]\n"
     ]
    },
    {
     "name": "stdout",
     "output_type": "stream",
     "text": [
      "Epoch: 358 | Training Loss: 0.0002591053723848838  | Validation Loss: 4.288939175398453  | Accuracy: 59.02\n"
     ]
    },
    {
     "name": "stderr",
     "output_type": "stream",
     "text": [
      "156it [00:03, 39.55it/s]\n",
      "100%|█████████████████████████████████████████████████████████| 46/46 [00:00<00:00, 156.31it/s]\n"
     ]
    },
    {
     "name": "stdout",
     "output_type": "stream",
     "text": [
      "Epoch: 359 | Training Loss: 0.00031871361350054847  | Validation Loss: 4.222275075705155  | Accuracy: 58.97\n"
     ]
    },
    {
     "name": "stderr",
     "output_type": "stream",
     "text": [
      "156it [00:03, 39.40it/s]\n",
      "100%|█████████████████████████████████████████████████████████| 46/46 [00:00<00:00, 138.56it/s]\n"
     ]
    },
    {
     "name": "stdout",
     "output_type": "stream",
     "text": [
      "Epoch: 360 | Training Loss: 0.00038448497975761525  | Validation Loss: 4.17992407342662  | Accuracy: 59.24\n"
     ]
    },
    {
     "name": "stderr",
     "output_type": "stream",
     "text": [
      "156it [00:03, 40.42it/s]\n",
      "100%|█████████████████████████████████████████████████████████| 46/46 [00:00<00:00, 147.42it/s]\n"
     ]
    },
    {
     "name": "stdout",
     "output_type": "stream",
     "text": [
      "Epoch: 361 | Training Loss: 0.00037305302376831277  | Validation Loss: 4.1373738050460815  | Accuracy: 58.78\n"
     ]
    },
    {
     "name": "stderr",
     "output_type": "stream",
     "text": [
      "156it [00:03, 41.14it/s]\n",
      "100%|█████████████████████████████████████████████████████████| 46/46 [00:00<00:00, 148.61it/s]\n"
     ]
    },
    {
     "name": "stdout",
     "output_type": "stream",
     "text": [
      "Epoch: 362 | Training Loss: 0.0010568492363092492  | Validation Loss: 4.095104741013569  | Accuracy: 58.44\n"
     ]
    },
    {
     "name": "stderr",
     "output_type": "stream",
     "text": [
      "156it [00:03, 41.59it/s]\n",
      "100%|█████████████████████████████████████████████████████████| 46/46 [00:00<00:00, 148.35it/s]\n"
     ]
    },
    {
     "name": "stdout",
     "output_type": "stream",
     "text": [
      "Epoch: 363 | Training Loss: 0.0007780684531425299  | Validation Loss: 4.169092712195023  | Accuracy: 59.12\n"
     ]
    },
    {
     "name": "stderr",
     "output_type": "stream",
     "text": [
      "156it [00:03, 41.09it/s]\n",
      "100%|█████████████████████████████████████████████████████████| 46/46 [00:00<00:00, 162.68it/s]\n"
     ]
    },
    {
     "name": "stdout",
     "output_type": "stream",
     "text": [
      "Epoch: 364 | Training Loss: 0.0009646401307317995  | Validation Loss: 4.161928005840467  | Accuracy: 58.70\n"
     ]
    },
    {
     "name": "stderr",
     "output_type": "stream",
     "text": [
      "156it [00:03, 41.22it/s]\n",
      "100%|█████████████████████████████████████████████████████████| 46/46 [00:00<00:00, 147.50it/s]\n"
     ]
    },
    {
     "name": "stdout",
     "output_type": "stream",
     "text": [
      "Epoch: 365 | Training Loss: 0.0005851223855549903  | Validation Loss: 4.229096785835598  | Accuracy: 58.42\n"
     ]
    },
    {
     "name": "stderr",
     "output_type": "stream",
     "text": [
      "156it [00:04, 38.95it/s]\n",
      "100%|█████████████████████████████████████████████████████████| 46/46 [00:00<00:00, 152.87it/s]\n"
     ]
    },
    {
     "name": "stdout",
     "output_type": "stream",
     "text": [
      "Epoch: 366 | Training Loss: 0.00028744496345704346  | Validation Loss: 4.168360186659771  | Accuracy: 58.49\n"
     ]
    },
    {
     "name": "stderr",
     "output_type": "stream",
     "text": [
      "156it [00:03, 40.35it/s]\n",
      "100%|█████████████████████████████████████████████████████████| 46/46 [00:00<00:00, 146.38it/s]\n"
     ]
    },
    {
     "name": "stdout",
     "output_type": "stream",
     "text": [
      "Epoch: 367 | Training Loss: 0.0003654285729121162  | Validation Loss: 4.222529473512069  | Accuracy: 58.85\n"
     ]
    },
    {
     "name": "stderr",
     "output_type": "stream",
     "text": [
      "156it [00:03, 41.14it/s]\n",
      "100%|█████████████████████████████████████████████████████████| 46/46 [00:00<00:00, 146.56it/s]\n"
     ]
    },
    {
     "name": "stdout",
     "output_type": "stream",
     "text": [
      "Epoch: 368 | Training Loss: 0.00031228273426747293  | Validation Loss: 4.031404241271641  | Accuracy: 58.70\n"
     ]
    },
    {
     "name": "stderr",
     "output_type": "stream",
     "text": [
      "156it [00:03, 40.44it/s]\n",
      "100%|█████████████████████████████████████████████████████████| 46/46 [00:00<00:00, 152.76it/s]\n"
     ]
    },
    {
     "name": "stdout",
     "output_type": "stream",
     "text": [
      "Epoch: 369 | Training Loss: 0.0002277420827480315  | Validation Loss: 4.0779039756111475  | Accuracy: 59.12\n"
     ]
    },
    {
     "name": "stderr",
     "output_type": "stream",
     "text": [
      "156it [00:03, 40.75it/s]\n",
      "100%|█████████████████████████████████████████████████████████| 46/46 [00:00<00:00, 143.47it/s]\n"
     ]
    },
    {
     "name": "stdout",
     "output_type": "stream",
     "text": [
      "Epoch: 370 | Training Loss: 0.00022812642310572512  | Validation Loss: 4.224988481272822  | Accuracy: 58.25\n"
     ]
    },
    {
     "name": "stderr",
     "output_type": "stream",
     "text": [
      "156it [00:03, 40.95it/s]\n",
      "100%|█████████████████████████████████████████████████████████| 46/46 [00:00<00:00, 162.98it/s]\n"
     ]
    },
    {
     "name": "stdout",
     "output_type": "stream",
     "text": [
      "Epoch: 371 | Training Loss: 0.0001793447070796015  | Validation Loss: 4.261642072511756  | Accuracy: 58.54\n"
     ]
    },
    {
     "name": "stderr",
     "output_type": "stream",
     "text": [
      "156it [00:03, 41.02it/s]\n",
      "100%|█████████████████████████████████████████████████████████| 46/46 [00:00<00:00, 143.65it/s]\n"
     ]
    },
    {
     "name": "stdout",
     "output_type": "stream",
     "text": [
      "Epoch: 372 | Training Loss: 0.00015215585242400173  | Validation Loss: 4.310240330903427  | Accuracy: 58.73\n"
     ]
    },
    {
     "name": "stderr",
     "output_type": "stream",
     "text": [
      "156it [00:03, 40.54it/s]\n",
      "100%|█████████████████████████████████████████████████████████| 46/46 [00:00<00:00, 164.74it/s]\n"
     ]
    },
    {
     "name": "stdout",
     "output_type": "stream",
     "text": [
      "Epoch: 373 | Training Loss: 0.00010215452098586516  | Validation Loss: 4.2508609761362495  | Accuracy: 58.61\n"
     ]
    },
    {
     "name": "stderr",
     "output_type": "stream",
     "text": [
      "156it [00:03, 40.38it/s]\n",
      "100%|█████████████████████████████████████████████████████████| 46/46 [00:00<00:00, 145.50it/s]\n"
     ]
    },
    {
     "name": "stdout",
     "output_type": "stream",
     "text": [
      "Epoch: 374 | Training Loss: 0.00011382447084356383  | Validation Loss: 4.210171062013377  | Accuracy: 59.07\n"
     ]
    },
    {
     "name": "stderr",
     "output_type": "stream",
     "text": [
      "156it [00:03, 40.96it/s]\n",
      "100%|█████████████████████████████████████████████████████████| 46/46 [00:00<00:00, 145.21it/s]\n"
     ]
    },
    {
     "name": "stdout",
     "output_type": "stream",
     "text": [
      "Epoch: 375 | Training Loss: 0.000140804695524238  | Validation Loss: 4.222979799560878  | Accuracy: 58.70\n"
     ]
    },
    {
     "name": "stderr",
     "output_type": "stream",
     "text": [
      "156it [00:03, 40.46it/s]\n",
      "100%|█████████████████████████████████████████████████████████| 46/46 [00:00<00:00, 149.67it/s]\n"
     ]
    },
    {
     "name": "stdout",
     "output_type": "stream",
     "text": [
      "Epoch: 376 | Training Loss: 0.00018778015114898712  | Validation Loss: 4.288810201313185  | Accuracy: 58.58\n"
     ]
    },
    {
     "name": "stderr",
     "output_type": "stream",
     "text": [
      "156it [00:03, 40.73it/s]\n",
      "100%|█████████████████████████████████████████████████████████| 46/46 [00:00<00:00, 143.77it/s]\n"
     ]
    },
    {
     "name": "stdout",
     "output_type": "stream",
     "text": [
      "Epoch: 377 | Training Loss: 0.00013209168344893932  | Validation Loss: 4.3811438964760825  | Accuracy: 58.54\n"
     ]
    },
    {
     "name": "stderr",
     "output_type": "stream",
     "text": [
      "156it [00:03, 40.72it/s]\n",
      "100%|█████████████████████████████████████████████████████████| 46/46 [00:00<00:00, 166.76it/s]\n"
     ]
    },
    {
     "name": "stdout",
     "output_type": "stream",
     "text": [
      "Epoch: 378 | Training Loss: 9.720874027152604e-05  | Validation Loss: 4.243147715278294  | Accuracy: 58.49\n"
     ]
    },
    {
     "name": "stderr",
     "output_type": "stream",
     "text": [
      "156it [00:03, 41.01it/s]\n",
      "100%|█████████████████████████████████████████████████████████| 46/46 [00:00<00:00, 147.24it/s]\n"
     ]
    },
    {
     "name": "stdout",
     "output_type": "stream",
     "text": [
      "Epoch: 379 | Training Loss: 0.00016429850963434618  | Validation Loss: 4.428807300070058  | Accuracy: 58.54\n"
     ]
    },
    {
     "name": "stderr",
     "output_type": "stream",
     "text": [
      "156it [00:03, 40.87it/s]\n",
      "100%|█████████████████████████████████████████████████████████| 46/46 [00:00<00:00, 166.33it/s]\n"
     ]
    },
    {
     "name": "stdout",
     "output_type": "stream",
     "text": [
      "Epoch: 380 | Training Loss: 0.00013857714489882384  | Validation Loss: 4.220921081045399  | Accuracy: 58.92\n"
     ]
    },
    {
     "name": "stderr",
     "output_type": "stream",
     "text": [
      "156it [00:03, 40.34it/s]\n",
      "100%|█████████████████████████████████████████████████████████| 46/46 [00:00<00:00, 143.90it/s]\n"
     ]
    },
    {
     "name": "stdout",
     "output_type": "stream",
     "text": [
      "Epoch: 381 | Training Loss: 0.00010541815894472305  | Validation Loss: 4.373301215793775  | Accuracy: 58.59\n"
     ]
    },
    {
     "name": "stderr",
     "output_type": "stream",
     "text": [
      "156it [00:03, 41.12it/s]\n",
      "100%|█████████████████████████████████████████████████████████| 46/46 [00:00<00:00, 145.64it/s]\n"
     ]
    },
    {
     "name": "stdout",
     "output_type": "stream",
     "text": [
      "Epoch: 382 | Training Loss: 0.0003171497201620719  | Validation Loss: 4.274666371552841  | Accuracy: 58.76\n"
     ]
    },
    {
     "name": "stderr",
     "output_type": "stream",
     "text": [
      "156it [00:03, 40.61it/s]\n",
      "100%|█████████████████████████████████████████████████████████| 46/46 [00:00<00:00, 145.21it/s]\n"
     ]
    },
    {
     "name": "stdout",
     "output_type": "stream",
     "text": [
      "Epoch: 383 | Training Loss: 0.0004210320039302855  | Validation Loss: 4.190448947574781  | Accuracy: 58.81\n"
     ]
    },
    {
     "name": "stderr",
     "output_type": "stream",
     "text": [
      "156it [00:03, 40.95it/s]\n",
      "100%|█████████████████████████████████████████████████████████| 46/46 [00:00<00:00, 143.30it/s]\n"
     ]
    },
    {
     "name": "stdout",
     "output_type": "stream",
     "text": [
      "Epoch: 384 | Training Loss: 0.00017964614623148614  | Validation Loss: 4.388052484263545  | Accuracy: 58.68\n"
     ]
    },
    {
     "name": "stderr",
     "output_type": "stream",
     "text": [
      "156it [00:03, 40.31it/s]\n",
      "100%|█████████████████████████████████████████████████████████| 46/46 [00:00<00:00, 159.82it/s]\n"
     ]
    },
    {
     "name": "stdout",
     "output_type": "stream",
     "text": [
      "Epoch: 385 | Training Loss: 0.00019163351794887628  | Validation Loss: 4.14684422119804  | Accuracy: 59.44\n"
     ]
    },
    {
     "name": "stderr",
     "output_type": "stream",
     "text": [
      "156it [00:03, 40.61it/s]\n",
      "100%|█████████████████████████████████████████████████████████| 46/46 [00:00<00:00, 143.13it/s]\n"
     ]
    },
    {
     "name": "stdout",
     "output_type": "stream",
     "text": [
      "Epoch: 386 | Training Loss: 0.0001106530696396919  | Validation Loss: 4.252444070318471  | Accuracy: 59.21\n"
     ]
    },
    {
     "name": "stderr",
     "output_type": "stream",
     "text": [
      "156it [00:03, 40.69it/s]\n",
      "100%|█████████████████████████████████████████████████████████| 46/46 [00:00<00:00, 152.46it/s]\n"
     ]
    },
    {
     "name": "stdout",
     "output_type": "stream",
     "text": [
      "Epoch: 387 | Training Loss: 9.550982245178975e-05  | Validation Loss: 4.181884874468264  | Accuracy: 59.24\n"
     ]
    },
    {
     "name": "stderr",
     "output_type": "stream",
     "text": [
      "156it [00:04, 37.57it/s]\n",
      "100%|█████████████████████████████████████████████████████████| 46/46 [00:00<00:00, 138.49it/s]\n"
     ]
    },
    {
     "name": "stdout",
     "output_type": "stream",
     "text": [
      "Epoch: 388 | Training Loss: 0.00010486915234417748  | Validation Loss: 4.299943680348604  | Accuracy: 58.97\n"
     ]
    },
    {
     "name": "stderr",
     "output_type": "stream",
     "text": [
      "156it [00:03, 39.16it/s]\n",
      "100%|█████████████████████████████████████████████████████████| 46/46 [00:00<00:00, 135.64it/s]\n"
     ]
    },
    {
     "name": "stdout",
     "output_type": "stream",
     "text": [
      "Epoch: 389 | Training Loss: 0.0001375029972409837  | Validation Loss: 4.223488797312197  | Accuracy: 58.98\n"
     ]
    },
    {
     "name": "stderr",
     "output_type": "stream",
     "text": [
      "156it [00:04, 38.80it/s]\n",
      "100%|█████████████████████████████████████████████████████████| 46/46 [00:00<00:00, 137.89it/s]\n"
     ]
    },
    {
     "name": "stdout",
     "output_type": "stream",
     "text": [
      "Epoch: 390 | Training Loss: 0.000559366323334241  | Validation Loss: 4.2695673600487085  | Accuracy: 59.02\n"
     ]
    },
    {
     "name": "stderr",
     "output_type": "stream",
     "text": [
      "156it [00:03, 39.22it/s]\n",
      "100%|█████████████████████████████████████████████████████████| 46/46 [00:00<00:00, 137.14it/s]\n"
     ]
    },
    {
     "name": "stdout",
     "output_type": "stream",
     "text": [
      "Epoch: 391 | Training Loss: 0.0001734832898457684  | Validation Loss: 4.297626448714214  | Accuracy: 59.15\n"
     ]
    },
    {
     "name": "stderr",
     "output_type": "stream",
     "text": [
      "156it [00:03, 40.55it/s]\n",
      "100%|█████████████████████████████████████████████████████████| 46/46 [00:00<00:00, 166.20it/s]\n"
     ]
    },
    {
     "name": "stdout",
     "output_type": "stream",
     "text": [
      "Epoch: 392 | Training Loss: 0.00012189408194456356  | Validation Loss: 4.26279135890629  | Accuracy: 59.34\n"
     ]
    },
    {
     "name": "stderr",
     "output_type": "stream",
     "text": [
      "156it [00:03, 40.54it/s]\n",
      "100%|█████████████████████████████████████████████████████████| 46/46 [00:00<00:00, 146.00it/s]\n"
     ]
    },
    {
     "name": "stdout",
     "output_type": "stream",
     "text": [
      "Epoch: 393 | Training Loss: 8.578735722226273e-05  | Validation Loss: 4.277575233708257  | Accuracy: 59.26\n"
     ]
    },
    {
     "name": "stderr",
     "output_type": "stream",
     "text": [
      "156it [00:03, 41.08it/s]\n",
      "100%|█████████████████████████████████████████████████████████| 46/46 [00:00<00:00, 148.71it/s]\n"
     ]
    },
    {
     "name": "stdout",
     "output_type": "stream",
     "text": [
      "Epoch: 394 | Training Loss: 0.00017313137910745214  | Validation Loss: 4.282335172528806  | Accuracy: 58.93\n"
     ]
    },
    {
     "name": "stderr",
     "output_type": "stream",
     "text": [
      "156it [00:03, 40.60it/s]\n",
      "100%|█████████████████████████████████████████████████████████| 46/46 [00:00<00:00, 143.92it/s]\n"
     ]
    },
    {
     "name": "stdout",
     "output_type": "stream",
     "text": [
      "Epoch: 395 | Training Loss: 0.00011372884334074722  | Validation Loss: 4.288399048473524  | Accuracy: 58.97\n"
     ]
    },
    {
     "name": "stderr",
     "output_type": "stream",
     "text": [
      "156it [00:03, 39.72it/s]\n",
      "100%|█████████████████████████████████████████████████████████| 46/46 [00:00<00:00, 142.85it/s]\n"
     ]
    },
    {
     "name": "stdout",
     "output_type": "stream",
     "text": [
      "Epoch: 396 | Training Loss: 0.00015746569979222468  | Validation Loss: 4.227247906767803  | Accuracy: 59.38\n"
     ]
    },
    {
     "name": "stderr",
     "output_type": "stream",
     "text": [
      "156it [00:04, 37.99it/s]\n",
      "100%|█████████████████████████████████████████████████████████| 46/46 [00:00<00:00, 130.14it/s]\n"
     ]
    },
    {
     "name": "stdout",
     "output_type": "stream",
     "text": [
      "Epoch: 397 | Training Loss: 6.255244560494387e-05  | Validation Loss: 4.393705559813458  | Accuracy: 59.00\n"
     ]
    },
    {
     "name": "stderr",
     "output_type": "stream",
     "text": [
      "156it [00:04, 38.40it/s]\n",
      "100%|█████████████████████████████████████████████████████████| 46/46 [00:00<00:00, 132.85it/s]\n"
     ]
    },
    {
     "name": "stdout",
     "output_type": "stream",
     "text": [
      "Epoch: 398 | Training Loss: 0.00013931545231571363  | Validation Loss: 4.344645738601685  | Accuracy: 58.71\n"
     ]
    },
    {
     "name": "stderr",
     "output_type": "stream",
     "text": [
      "156it [00:04, 38.16it/s]\n",
      "100%|█████████████████████████████████████████████████████████| 46/46 [00:00<00:00, 133.96it/s]\n"
     ]
    },
    {
     "name": "stdout",
     "output_type": "stream",
     "text": [
      "Epoch: 399 | Training Loss: 9.102233657825146e-05  | Validation Loss: 4.477581304052602  | Accuracy: 58.80\n"
     ]
    },
    {
     "name": "stderr",
     "output_type": "stream",
     "text": [
      "156it [00:04, 38.48it/s]\n",
      "100%|█████████████████████████████████████████████████████████| 46/46 [00:00<00:00, 133.29it/s]\n"
     ]
    },
    {
     "name": "stdout",
     "output_type": "stream",
     "text": [
      "Epoch: 400 | Training Loss: 9.141017814657131e-05  | Validation Loss: 4.29656708240509  | Accuracy: 59.17\n"
     ]
    },
    {
     "name": "stderr",
     "output_type": "stream",
     "text": [
      "156it [00:04, 38.22it/s]\n",
      "100%|█████████████████████████████████████████████████████████| 46/46 [00:00<00:00, 147.33it/s]\n"
     ]
    },
    {
     "name": "stdout",
     "output_type": "stream",
     "text": [
      "Epoch: 401 | Training Loss: 7.516600634843575e-05  | Validation Loss: 4.393447839695474  | Accuracy: 58.93\n"
     ]
    },
    {
     "name": "stderr",
     "output_type": "stream",
     "text": [
      "156it [00:03, 40.41it/s]\n",
      "100%|█████████████████████████████████████████████████████████| 46/46 [00:00<00:00, 143.28it/s]\n"
     ]
    },
    {
     "name": "stdout",
     "output_type": "stream",
     "text": [
      "Epoch: 402 | Training Loss: 7.885327032944097e-05  | Validation Loss: 4.212135755497476  | Accuracy: 58.95\n"
     ]
    },
    {
     "name": "stderr",
     "output_type": "stream",
     "text": [
      "156it [00:03, 40.36it/s]\n",
      "100%|█████████████████████████████████████████████████████████| 46/46 [00:00<00:00, 162.65it/s]\n"
     ]
    },
    {
     "name": "stdout",
     "output_type": "stream",
     "text": [
      "Epoch: 403 | Training Loss: 0.0005775849323037199  | Validation Loss: 4.3819694933683975  | Accuracy: 58.90\n"
     ]
    },
    {
     "name": "stderr",
     "output_type": "stream",
     "text": [
      "156it [00:03, 40.45it/s]\n",
      "100%|█████████████████████████████████████████████████████████| 46/46 [00:00<00:00, 143.53it/s]\n"
     ]
    },
    {
     "name": "stdout",
     "output_type": "stream",
     "text": [
      "Epoch: 404 | Training Loss: 0.00020654628677290859  | Validation Loss: 4.434685240621152  | Accuracy: 58.39\n"
     ]
    },
    {
     "name": "stderr",
     "output_type": "stream",
     "text": [
      "156it [00:03, 40.80it/s]\n",
      "100%|█████████████████████████████████████████████████████████| 46/46 [00:00<00:00, 152.46it/s]\n"
     ]
    },
    {
     "name": "stdout",
     "output_type": "stream",
     "text": [
      "Epoch: 405 | Training Loss: 0.00010374385965405963  | Validation Loss: 4.31724895083386  | Accuracy: 58.93\n"
     ]
    },
    {
     "name": "stderr",
     "output_type": "stream",
     "text": [
      "156it [00:03, 40.28it/s]\n",
      "100%|█████████████████████████████████████████████████████████| 46/46 [00:00<00:00, 144.97it/s]\n"
     ]
    },
    {
     "name": "stdout",
     "output_type": "stream",
     "text": [
      "Epoch: 406 | Training Loss: 0.00010422413484215773  | Validation Loss: 4.241409731947857  | Accuracy: 59.00\n"
     ]
    },
    {
     "name": "stderr",
     "output_type": "stream",
     "text": [
      "156it [00:03, 40.70it/s]\n",
      "100%|█████████████████████████████████████████████████████████| 46/46 [00:00<00:00, 142.74it/s]\n"
     ]
    },
    {
     "name": "stdout",
     "output_type": "stream",
     "text": [
      "Epoch: 407 | Training Loss: 0.00018896897288355738  | Validation Loss: 4.43099147858827  | Accuracy: 58.73\n"
     ]
    },
    {
     "name": "stderr",
     "output_type": "stream",
     "text": [
      "156it [00:03, 40.24it/s]\n",
      "100%|█████████████████████████████████████████████████████████| 46/46 [00:00<00:00, 155.55it/s]\n"
     ]
    },
    {
     "name": "stdout",
     "output_type": "stream",
     "text": [
      "Epoch: 408 | Training Loss: 0.00010226011327410024  | Validation Loss: 4.507396412932354  | Accuracy: 58.61\n"
     ]
    },
    {
     "name": "stderr",
     "output_type": "stream",
     "text": [
      "156it [00:03, 40.45it/s]\n",
      "100%|█████████████████████████████████████████████████████████| 46/46 [00:00<00:00, 144.80it/s]\n"
     ]
    },
    {
     "name": "stdout",
     "output_type": "stream",
     "text": [
      "Epoch: 409 | Training Loss: 7.68419965646526e-05  | Validation Loss: 4.270381621692492  | Accuracy: 59.05\n"
     ]
    },
    {
     "name": "stderr",
     "output_type": "stream",
     "text": [
      "156it [00:03, 40.18it/s]\n",
      "100%|█████████████████████████████████████████████████████████| 46/46 [00:00<00:00, 162.89it/s]\n"
     ]
    },
    {
     "name": "stdout",
     "output_type": "stream",
     "text": [
      "Epoch: 410 | Training Loss: 7.085823081536383e-05  | Validation Loss: 4.41350449686465  | Accuracy: 58.44\n"
     ]
    },
    {
     "name": "stderr",
     "output_type": "stream",
     "text": [
      "156it [00:03, 40.05it/s]\n",
      "100%|█████████████████████████████████████████████████████████| 46/46 [00:00<00:00, 141.85it/s]\n"
     ]
    },
    {
     "name": "stdout",
     "output_type": "stream",
     "text": [
      "Epoch: 411 | Training Loss: 7.851163084127713e-05  | Validation Loss: 4.330353089000868  | Accuracy: 58.90\n"
     ]
    },
    {
     "name": "stderr",
     "output_type": "stream",
     "text": [
      "156it [00:03, 40.83it/s]\n",
      "100%|█████████████████████████████████████████████████████████| 46/46 [00:00<00:00, 144.51it/s]\n"
     ]
    },
    {
     "name": "stdout",
     "output_type": "stream",
     "text": [
      "Epoch: 412 | Training Loss: 7.05638773209872e-05  | Validation Loss: 4.43389063814412  | Accuracy: 58.90\n"
     ]
    },
    {
     "name": "stderr",
     "output_type": "stream",
     "text": [
      "156it [00:03, 40.03it/s]\n",
      "100%|█████████████████████████████████████████████████████████| 46/46 [00:00<00:00, 147.68it/s]\n"
     ]
    },
    {
     "name": "stdout",
     "output_type": "stream",
     "text": [
      "Epoch: 413 | Training Loss: 0.00011650076230697054  | Validation Loss: 4.39160182165063  | Accuracy: 58.97\n"
     ]
    },
    {
     "name": "stderr",
     "output_type": "stream",
     "text": [
      "156it [00:03, 40.37it/s]\n",
      "100%|█████████████████████████████████████████████████████████| 46/46 [00:00<00:00, 143.40it/s]\n"
     ]
    },
    {
     "name": "stdout",
     "output_type": "stream",
     "text": [
      "Epoch: 414 | Training Loss: 0.00016948799622276475  | Validation Loss: 4.2962979803914605  | Accuracy: 58.98\n"
     ]
    },
    {
     "name": "stderr",
     "output_type": "stream",
     "text": [
      "156it [00:03, 39.98it/s]\n",
      "100%|█████████████████████████████████████████████████████████| 46/46 [00:00<00:00, 167.36it/s]\n"
     ]
    },
    {
     "name": "stdout",
     "output_type": "stream",
     "text": [
      "Epoch: 415 | Training Loss: 8.297247995869839e-05  | Validation Loss: 4.419775268305903  | Accuracy: 59.02\n"
     ]
    },
    {
     "name": "stderr",
     "output_type": "stream",
     "text": [
      "156it [00:03, 39.87it/s]\n",
      "100%|█████████████████████████████████████████████████████████| 46/46 [00:00<00:00, 144.98it/s]\n"
     ]
    },
    {
     "name": "stdout",
     "output_type": "stream",
     "text": [
      "Epoch: 416 | Training Loss: 0.0001055567091696456  | Validation Loss: 4.378801143687705  | Accuracy: 59.21\n"
     ]
    },
    {
     "name": "stderr",
     "output_type": "stream",
     "text": [
      "156it [00:03, 40.63it/s]\n",
      "100%|█████████████████████████████████████████████████████████| 46/46 [00:00<00:00, 145.04it/s]\n"
     ]
    },
    {
     "name": "stdout",
     "output_type": "stream",
     "text": [
      "Epoch: 417 | Training Loss: 7.505534257782133e-05  | Validation Loss: 4.3975526094436646  | Accuracy: 59.05\n"
     ]
    },
    {
     "name": "stderr",
     "output_type": "stream",
     "text": [
      "156it [00:03, 40.14it/s]\n",
      "100%|█████████████████████████████████████████████████████████| 46/46 [00:00<00:00, 144.24it/s]\n"
     ]
    },
    {
     "name": "stdout",
     "output_type": "stream",
     "text": [
      "Epoch: 418 | Training Loss: 7.069506795559368e-05  | Validation Loss: 4.389207995456198  | Accuracy: 59.19\n"
     ]
    },
    {
     "name": "stderr",
     "output_type": "stream",
     "text": [
      "156it [00:03, 40.80it/s]\n",
      "100%|█████████████████████████████████████████████████████████| 46/46 [00:00<00:00, 144.54it/s]\n"
     ]
    },
    {
     "name": "stdout",
     "output_type": "stream",
     "text": [
      "Epoch: 419 | Training Loss: 0.00016593507666584628  | Validation Loss: 4.407846476720727  | Accuracy: 58.70\n"
     ]
    },
    {
     "name": "stderr",
     "output_type": "stream",
     "text": [
      "156it [00:03, 40.45it/s]\n",
      "100%|█████████████████████████████████████████████████████████| 46/46 [00:00<00:00, 162.36it/s]\n"
     ]
    },
    {
     "name": "stdout",
     "output_type": "stream",
     "text": [
      "Epoch: 420 | Training Loss: 7.679431299341861e-05  | Validation Loss: 4.441666597905367  | Accuracy: 58.90\n"
     ]
    },
    {
     "name": "stderr",
     "output_type": "stream",
     "text": [
      "156it [00:03, 40.24it/s]\n",
      "100%|█████████████████████████████████████████████████████████| 46/46 [00:00<00:00, 143.74it/s]\n"
     ]
    },
    {
     "name": "stdout",
     "output_type": "stream",
     "text": [
      "Epoch: 421 | Training Loss: 6.989789101051149e-05  | Validation Loss: 4.396480140478714  | Accuracy: 59.15\n"
     ]
    },
    {
     "name": "stderr",
     "output_type": "stream",
     "text": [
      "156it [00:03, 40.39it/s]\n",
      "100%|█████████████████████████████████████████████████████████| 46/46 [00:00<00:00, 158.74it/s]\n"
     ]
    },
    {
     "name": "stdout",
     "output_type": "stream",
     "text": [
      "Epoch: 422 | Training Loss: 6.406616517569301e-05  | Validation Loss: 4.411837572636812  | Accuracy: 58.87\n"
     ]
    },
    {
     "name": "stderr",
     "output_type": "stream",
     "text": [
      "156it [00:03, 40.14it/s]\n",
      "100%|█████████████████████████████████████████████████████████| 46/46 [00:00<00:00, 144.30it/s]\n"
     ]
    },
    {
     "name": "stdout",
     "output_type": "stream",
     "text": [
      "Epoch: 423 | Training Loss: 0.00012581047473339332  | Validation Loss: 4.306205739145693  | Accuracy: 59.19\n"
     ]
    },
    {
     "name": "stderr",
     "output_type": "stream",
     "text": [
      "156it [00:03, 40.75it/s]\n",
      "100%|█████████████████████████████████████████████████████████| 46/46 [00:00<00:00, 144.15it/s]\n"
     ]
    },
    {
     "name": "stdout",
     "output_type": "stream",
     "text": [
      "Epoch: 424 | Training Loss: 8.306339673953726e-05  | Validation Loss: 4.259365522343179  | Accuracy: 59.14\n"
     ]
    },
    {
     "name": "stderr",
     "output_type": "stream",
     "text": [
      "156it [00:03, 40.37it/s]\n",
      "100%|█████████████████████████████████████████████████████████| 46/46 [00:00<00:00, 143.49it/s]\n"
     ]
    },
    {
     "name": "stdout",
     "output_type": "stream",
     "text": [
      "Epoch: 425 | Training Loss: 0.00024473711539777025  | Validation Loss: 4.463963747024536  | Accuracy: 58.37\n"
     ]
    },
    {
     "name": "stderr",
     "output_type": "stream",
     "text": [
      "156it [00:03, 40.84it/s]\n",
      "100%|█████████████████████████████████████████████████████████| 46/46 [00:00<00:00, 144.22it/s]\n"
     ]
    },
    {
     "name": "stdout",
     "output_type": "stream",
     "text": [
      "Epoch: 426 | Training Loss: 0.00035650492569425877  | Validation Loss: 4.383729545966439  | Accuracy: 59.19\n"
     ]
    },
    {
     "name": "stderr",
     "output_type": "stream",
     "text": [
      "156it [00:03, 40.12it/s]\n",
      "100%|█████████████████████████████████████████████████████████| 46/46 [00:00<00:00, 162.02it/s]\n"
     ]
    },
    {
     "name": "stdout",
     "output_type": "stream",
     "text": [
      "Epoch: 427 | Training Loss: 0.00012221936963914442  | Validation Loss: 4.389649360076241  | Accuracy: 58.81\n"
     ]
    },
    {
     "name": "stderr",
     "output_type": "stream",
     "text": [
      "156it [00:03, 40.28it/s]\n",
      "100%|█████████████████████████████████████████████████████████| 46/46 [00:00<00:00, 143.83it/s]\n"
     ]
    },
    {
     "name": "stdout",
     "output_type": "stream",
     "text": [
      "Epoch: 428 | Training Loss: 0.00010202809039583371  | Validation Loss: 4.406356681948123  | Accuracy: 59.17\n"
     ]
    },
    {
     "name": "stderr",
     "output_type": "stream",
     "text": [
      "156it [00:03, 40.40it/s]\n",
      "100%|█████████████████████████████████████████████████████████| 46/46 [00:00<00:00, 159.51it/s]\n"
     ]
    },
    {
     "name": "stdout",
     "output_type": "stream",
     "text": [
      "Epoch: 429 | Training Loss: 9.382226857887405e-05  | Validation Loss: 4.266571812007738  | Accuracy: 59.39\n"
     ]
    },
    {
     "name": "stderr",
     "output_type": "stream",
     "text": [
      "156it [00:03, 40.47it/s]\n",
      "100%|█████████████████████████████████████████████████████████| 46/46 [00:00<00:00, 143.56it/s]\n"
     ]
    },
    {
     "name": "stdout",
     "output_type": "stream",
     "text": [
      "Epoch: 430 | Training Loss: 8.532622698508837e-05  | Validation Loss: 4.381040873734848  | Accuracy: 59.10\n"
     ]
    },
    {
     "name": "stderr",
     "output_type": "stream",
     "text": [
      "156it [00:03, 40.81it/s]\n",
      "100%|█████████████████████████████████████████████████████████| 46/46 [00:00<00:00, 148.03it/s]\n"
     ]
    },
    {
     "name": "stdout",
     "output_type": "stream",
     "text": [
      "Epoch: 431 | Training Loss: 0.00014867984156388466  | Validation Loss: 4.325082369472669  | Accuracy: 59.41\n"
     ]
    },
    {
     "name": "stderr",
     "output_type": "stream",
     "text": [
      "156it [00:03, 40.48it/s]\n",
      "100%|█████████████████████████████████████████████████████████| 46/46 [00:00<00:00, 147.04it/s]\n"
     ]
    },
    {
     "name": "stdout",
     "output_type": "stream",
     "text": [
      "Epoch: 432 | Training Loss: 0.00010794228553141949  | Validation Loss: 4.444267910459767  | Accuracy: 59.02\n"
     ]
    },
    {
     "name": "stderr",
     "output_type": "stream",
     "text": [
      "156it [00:03, 40.92it/s]\n",
      "100%|█████████████████████████████████████████████████████████| 46/46 [00:00<00:00, 144.98it/s]\n"
     ]
    },
    {
     "name": "stdout",
     "output_type": "stream",
     "text": [
      "Epoch: 433 | Training Loss: 8.078624454682517e-05  | Validation Loss: 4.497938746991365  | Accuracy: 58.90\n"
     ]
    },
    {
     "name": "stderr",
     "output_type": "stream",
     "text": [
      "156it [00:03, 40.24it/s]\n",
      "100%|█████████████████████████████████████████████████████████| 46/46 [00:00<00:00, 159.21it/s]\n"
     ]
    },
    {
     "name": "stdout",
     "output_type": "stream",
     "text": [
      "Epoch: 434 | Training Loss: 9.395020045606846e-05  | Validation Loss: 4.432147487350132  | Accuracy: 59.34\n"
     ]
    },
    {
     "name": "stderr",
     "output_type": "stream",
     "text": [
      "156it [00:03, 40.48it/s]\n",
      "100%|█████████████████████████████████████████████████████████| 46/46 [00:00<00:00, 143.07it/s]\n"
     ]
    },
    {
     "name": "stdout",
     "output_type": "stream",
     "text": [
      "Epoch: 435 | Training Loss: 0.00010200096480963484  | Validation Loss: 4.387903457102568  | Accuracy: 59.10\n"
     ]
    },
    {
     "name": "stderr",
     "output_type": "stream",
     "text": [
      "156it [00:03, 40.73it/s]\n",
      "100%|█████████████████████████████████████████████████████████| 46/46 [00:00<00:00, 164.45it/s]\n"
     ]
    },
    {
     "name": "stdout",
     "output_type": "stream",
     "text": [
      "Epoch: 436 | Training Loss: 0.0002428046705063025  | Validation Loss: 4.3957010974054755  | Accuracy: 59.24\n"
     ]
    },
    {
     "name": "stderr",
     "output_type": "stream",
     "text": [
      "156it [00:03, 39.99it/s]\n",
      "100%|█████████████████████████████████████████████████████████| 46/46 [00:00<00:00, 142.83it/s]\n"
     ]
    },
    {
     "name": "stdout",
     "output_type": "stream",
     "text": [
      "Epoch: 437 | Training Loss: 0.00017763051249484983  | Validation Loss: 4.377393510030664  | Accuracy: 59.31\n"
     ]
    },
    {
     "name": "stderr",
     "output_type": "stream",
     "text": [
      "156it [00:03, 40.79it/s]\n",
      "100%|█████████████████████████████████████████████████████████| 46/46 [00:00<00:00, 147.88it/s]\n"
     ]
    },
    {
     "name": "stdout",
     "output_type": "stream",
     "text": [
      "Epoch: 438 | Training Loss: 7.796629681531788e-05  | Validation Loss: 4.419732762419659  | Accuracy: 58.95\n"
     ]
    },
    {
     "name": "stderr",
     "output_type": "stream",
     "text": [
      "156it [00:03, 40.21it/s]\n",
      "100%|█████████████████████████████████████████████████████████| 46/46 [00:00<00:00, 143.23it/s]\n"
     ]
    },
    {
     "name": "stdout",
     "output_type": "stream",
     "text": [
      "Epoch: 439 | Training Loss: 0.00012084349499183681  | Validation Loss: 4.527518780335136  | Accuracy: 58.51\n"
     ]
    },
    {
     "name": "stderr",
     "output_type": "stream",
     "text": [
      "156it [00:03, 41.29it/s]\n",
      "100%|█████████████████████████████████████████████████████████| 46/46 [00:00<00:00, 144.92it/s]\n"
     ]
    },
    {
     "name": "stdout",
     "output_type": "stream",
     "text": [
      "Epoch: 440 | Training Loss: 8.235349606039586e-05  | Validation Loss: 4.475598853567372  | Accuracy: 58.64\n"
     ]
    },
    {
     "name": "stderr",
     "output_type": "stream",
     "text": [
      "156it [00:03, 40.65it/s]\n",
      "100%|█████████████████████████████████████████████████████████| 46/46 [00:00<00:00, 151.32it/s]\n"
     ]
    },
    {
     "name": "stdout",
     "output_type": "stream",
     "text": [
      "Epoch: 441 | Training Loss: 8.869964897665994e-05  | Validation Loss: 4.442196151484614  | Accuracy: 58.59\n"
     ]
    },
    {
     "name": "stderr",
     "output_type": "stream",
     "text": [
      "156it [00:03, 40.52it/s]\n",
      "100%|█████████████████████████████████████████████████████████| 46/46 [00:00<00:00, 143.28it/s]\n"
     ]
    },
    {
     "name": "stdout",
     "output_type": "stream",
     "text": [
      "Epoch: 442 | Training Loss: 9.74700252381575e-05  | Validation Loss: 4.574143347532853  | Accuracy: 58.58\n"
     ]
    },
    {
     "name": "stderr",
     "output_type": "stream",
     "text": [
      "156it [00:03, 40.10it/s]\n",
      "100%|█████████████████████████████████████████████████████████| 46/46 [00:00<00:00, 164.47it/s]\n"
     ]
    },
    {
     "name": "stdout",
     "output_type": "stream",
     "text": [
      "Epoch: 443 | Training Loss: 5.340870540912408e-05  | Validation Loss: 4.472321292628413  | Accuracy: 58.71\n"
     ]
    },
    {
     "name": "stderr",
     "output_type": "stream",
     "text": [
      "156it [00:03, 40.15it/s]\n",
      "100%|█████████████████████████████████████████████████████████| 46/46 [00:00<00:00, 142.40it/s]\n"
     ]
    },
    {
     "name": "stdout",
     "output_type": "stream",
     "text": [
      "Epoch: 444 | Training Loss: 8.178343238959757e-05  | Validation Loss: 4.4143601707790205  | Accuracy: 58.73\n"
     ]
    },
    {
     "name": "stderr",
     "output_type": "stream",
     "text": [
      "156it [00:03, 40.90it/s]\n",
      "100%|█████████████████████████████████████████████████████████| 46/46 [00:00<00:00, 145.40it/s]\n"
     ]
    },
    {
     "name": "stdout",
     "output_type": "stream",
     "text": [
      "Epoch: 445 | Training Loss: 4.518950637387976e-05  | Validation Loss: 4.433734588001085  | Accuracy: 58.51\n"
     ]
    },
    {
     "name": "stderr",
     "output_type": "stream",
     "text": [
      "156it [00:03, 40.19it/s]\n",
      "100%|█████████████████████████████████████████████████████████| 46/46 [00:00<00:00, 144.70it/s]\n"
     ]
    },
    {
     "name": "stdout",
     "output_type": "stream",
     "text": [
      "Epoch: 446 | Training Loss: 5.414053195333205e-05  | Validation Loss: 4.403206255124963  | Accuracy: 58.83\n"
     ]
    },
    {
     "name": "stderr",
     "output_type": "stream",
     "text": [
      "156it [00:03, 40.88it/s]\n",
      "100%|█████████████████████████████████████████████████████████| 46/46 [00:00<00:00, 143.60it/s]\n"
     ]
    },
    {
     "name": "stdout",
     "output_type": "stream",
     "text": [
      "Epoch: 447 | Training Loss: 5.567426175427196e-05  | Validation Loss: 4.447788290355517  | Accuracy: 58.66\n"
     ]
    },
    {
     "name": "stderr",
     "output_type": "stream",
     "text": [
      "156it [00:03, 40.59it/s]\n",
      "100%|█████████████████████████████████████████████████████████| 46/46 [00:00<00:00, 153.21it/s]\n"
     ]
    },
    {
     "name": "stdout",
     "output_type": "stream",
     "text": [
      "Epoch: 448 | Training Loss: 7.021535291129019e-05  | Validation Loss: 4.4902147780294  | Accuracy: 58.83\n"
     ]
    },
    {
     "name": "stderr",
     "output_type": "stream",
     "text": [
      "156it [00:03, 40.43it/s]\n",
      "100%|█████████████████████████████████████████████████████████| 46/46 [00:00<00:00, 144.15it/s]\n"
     ]
    },
    {
     "name": "stdout",
     "output_type": "stream",
     "text": [
      "Epoch: 449 | Training Loss: 0.00010776936815440982  | Validation Loss: 4.372248380080514  | Accuracy: 58.81\n"
     ]
    },
    {
     "name": "stderr",
     "output_type": "stream",
     "text": [
      "156it [00:03, 40.30it/s]\n",
      "100%|█████████████████████████████████████████████████████████| 46/46 [00:00<00:00, 161.52it/s]\n"
     ]
    },
    {
     "name": "stdout",
     "output_type": "stream",
     "text": [
      "Epoch: 450 | Training Loss: 0.0003163430710861949  | Validation Loss: 4.490978209868722  | Accuracy: 58.76\n"
     ]
    },
    {
     "name": "stderr",
     "output_type": "stream",
     "text": [
      "156it [00:03, 40.21it/s]\n",
      "100%|█████████████████████████████████████████████████████████| 46/46 [00:00<00:00, 141.45it/s]\n"
     ]
    },
    {
     "name": "stdout",
     "output_type": "stream",
     "text": [
      "Epoch: 451 | Training Loss: 9.246254654289469e-05  | Validation Loss: 4.509423354397649  | Accuracy: 58.66\n"
     ]
    },
    {
     "name": "stderr",
     "output_type": "stream",
     "text": [
      "156it [00:03, 40.74it/s]\n",
      "100%|█████████████████████████████████████████████████████████| 46/46 [00:00<00:00, 152.29it/s]\n"
     ]
    },
    {
     "name": "stdout",
     "output_type": "stream",
     "text": [
      "Epoch: 452 | Training Loss: 9.517328950236193e-05  | Validation Loss: 4.482076271720555  | Accuracy: 58.81\n"
     ]
    },
    {
     "name": "stderr",
     "output_type": "stream",
     "text": [
      "156it [00:03, 40.50it/s]\n",
      "100%|█████████████████████████████████████████████████████████| 46/46 [00:00<00:00, 142.59it/s]\n"
     ]
    },
    {
     "name": "stdout",
     "output_type": "stream",
     "text": [
      "Epoch: 453 | Training Loss: 0.00015732710066447162  | Validation Loss: 4.442285211189933  | Accuracy: 58.78\n"
     ]
    },
    {
     "name": "stderr",
     "output_type": "stream",
     "text": [
      "156it [00:03, 40.62it/s]\n",
      "100%|█████████████████████████████████████████████████████████| 46/46 [00:00<00:00, 142.67it/s]\n"
     ]
    },
    {
     "name": "stdout",
     "output_type": "stream",
     "text": [
      "Epoch: 454 | Training Loss: 9.367922022344526e-05  | Validation Loss: 4.543079453965892  | Accuracy: 58.71\n"
     ]
    },
    {
     "name": "stderr",
     "output_type": "stream",
     "text": [
      "156it [00:03, 40.18it/s]\n",
      "100%|█████████████████████████████████████████████████████████| 46/46 [00:00<00:00, 153.04it/s]\n"
     ]
    },
    {
     "name": "stdout",
     "output_type": "stream",
     "text": [
      "Epoch: 455 | Training Loss: 8.531940867529696e-05  | Validation Loss: 4.448965368063553  | Accuracy: 59.04\n"
     ]
    },
    {
     "name": "stderr",
     "output_type": "stream",
     "text": [
      "156it [00:03, 40.34it/s]\n",
      "100%|█████████████████████████████████████████████████████████| 46/46 [00:00<00:00, 143.84it/s]\n"
     ]
    },
    {
     "name": "stdout",
     "output_type": "stream",
     "text": [
      "Epoch: 456 | Training Loss: 9.308054890693595e-05  | Validation Loss: 4.317718241525733  | Accuracy: 58.83\n"
     ]
    },
    {
     "name": "stderr",
     "output_type": "stream",
     "text": [
      "156it [00:03, 40.38it/s]\n",
      "100%|█████████████████████████████████████████████████████████| 46/46 [00:00<00:00, 171.82it/s]\n"
     ]
    },
    {
     "name": "stdout",
     "output_type": "stream",
     "text": [
      "Epoch: 457 | Training Loss: 5.912019464514556e-05  | Validation Loss: 4.563070064005644  | Accuracy: 58.68\n"
     ]
    },
    {
     "name": "stderr",
     "output_type": "stream",
     "text": [
      "156it [00:03, 39.90it/s]\n",
      "100%|█████████████████████████████████████████████████████████| 46/46 [00:00<00:00, 146.04it/s]\n"
     ]
    },
    {
     "name": "stdout",
     "output_type": "stream",
     "text": [
      "Epoch: 458 | Training Loss: 5.199615008258171e-05  | Validation Loss: 4.43004862640215  | Accuracy: 58.83\n"
     ]
    },
    {
     "name": "stderr",
     "output_type": "stream",
     "text": [
      "156it [00:03, 40.83it/s]\n",
      "100%|█████████████████████████████████████████████████████████| 46/46 [00:00<00:00, 148.22it/s]\n"
     ]
    },
    {
     "name": "stdout",
     "output_type": "stream",
     "text": [
      "Epoch: 459 | Training Loss: 7.515139107757325e-05  | Validation Loss: 4.36976434873498  | Accuracy: 58.97\n"
     ]
    },
    {
     "name": "stderr",
     "output_type": "stream",
     "text": [
      "156it [00:03, 41.61it/s]\n",
      "100%|█████████████████████████████████████████████████████████| 46/46 [00:00<00:00, 148.73it/s]\n"
     ]
    },
    {
     "name": "stdout",
     "output_type": "stream",
     "text": [
      "Epoch: 460 | Training Loss: 0.0002639108979157101  | Validation Loss: 4.443497414174288  | Accuracy: 59.14\n"
     ]
    },
    {
     "name": "stderr",
     "output_type": "stream",
     "text": [
      "156it [00:03, 42.09it/s]\n",
      "100%|█████████████████████████████████████████████████████████| 46/46 [00:00<00:00, 152.98it/s]\n"
     ]
    },
    {
     "name": "stdout",
     "output_type": "stream",
     "text": [
      "Epoch: 461 | Training Loss: 0.0003553486966351417  | Validation Loss: 4.572949347288712  | Accuracy: 58.70\n"
     ]
    },
    {
     "name": "stderr",
     "output_type": "stream",
     "text": [
      "156it [00:03, 41.36it/s]\n",
      "100%|█████████████████████████████████████████████████████████| 46/46 [00:00<00:00, 167.93it/s]\n"
     ]
    },
    {
     "name": "stdout",
     "output_type": "stream",
     "text": [
      "Epoch: 462 | Training Loss: 7.0403817872853e-05  | Validation Loss: 4.488868454228276  | Accuracy: 58.81\n"
     ]
    },
    {
     "name": "stderr",
     "output_type": "stream",
     "text": [
      "156it [00:03, 39.48it/s]\n",
      "100%|█████████████████████████████████████████████████████████| 46/46 [00:00<00:00, 145.50it/s]\n"
     ]
    },
    {
     "name": "stdout",
     "output_type": "stream",
     "text": [
      "Epoch: 463 | Training Loss: 0.0001727416541738281  | Validation Loss: 4.5091752746830815  | Accuracy: 58.90\n"
     ]
    },
    {
     "name": "stderr",
     "output_type": "stream",
     "text": [
      "156it [00:03, 40.69it/s]\n",
      "100%|█████████████████████████████████████████████████████████| 46/46 [00:00<00:00, 159.50it/s]\n"
     ]
    },
    {
     "name": "stdout",
     "output_type": "stream",
     "text": [
      "Epoch: 464 | Training Loss: 0.00014803465455770493  | Validation Loss: 4.591281585071398  | Accuracy: 58.98\n"
     ]
    },
    {
     "name": "stderr",
     "output_type": "stream",
     "text": [
      "156it [00:03, 40.70it/s]\n",
      "100%|█████████████████████████████████████████████████████████| 46/46 [00:00<00:00, 144.89it/s]\n"
     ]
    },
    {
     "name": "stdout",
     "output_type": "stream",
     "text": [
      "Epoch: 465 | Training Loss: 0.00011106727085683442  | Validation Loss: 4.63639337601869  | Accuracy: 58.78\n"
     ]
    },
    {
     "name": "stderr",
     "output_type": "stream",
     "text": [
      "156it [00:03, 40.92it/s]\n",
      "100%|█████████████████████████████████████████████████████████| 46/46 [00:00<00:00, 144.23it/s]\n"
     ]
    },
    {
     "name": "stdout",
     "output_type": "stream",
     "text": [
      "Epoch: 466 | Training Loss: 4.543042477496037e-05  | Validation Loss: 4.541005860204282  | Accuracy: 58.83\n"
     ]
    },
    {
     "name": "stderr",
     "output_type": "stream",
     "text": [
      "156it [00:03, 40.45it/s]\n",
      "100%|█████████████████████████████████████████████████████████| 46/46 [00:00<00:00, 147.12it/s]\n"
     ]
    },
    {
     "name": "stdout",
     "output_type": "stream",
     "text": [
      "Epoch: 467 | Training Loss: 6.01768252834471e-05  | Validation Loss: 4.555061008619226  | Accuracy: 58.75\n"
     ]
    },
    {
     "name": "stderr",
     "output_type": "stream",
     "text": [
      "156it [00:03, 41.01it/s]\n",
      "100%|█████████████████████████████████████████████████████████| 46/46 [00:00<00:00, 144.13it/s]\n"
     ]
    },
    {
     "name": "stdout",
     "output_type": "stream",
     "text": [
      "Epoch: 468 | Training Loss: 5.652247421622656e-05  | Validation Loss: 4.645639398823613  | Accuracy: 58.73\n"
     ]
    },
    {
     "name": "stderr",
     "output_type": "stream",
     "text": [
      "156it [00:03, 40.40it/s]\n",
      "100%|█████████████████████████████████████████████████████████| 46/46 [00:00<00:00, 166.19it/s]\n"
     ]
    },
    {
     "name": "stdout",
     "output_type": "stream",
     "text": [
      "Epoch: 469 | Training Loss: 8.920107628886725e-05  | Validation Loss: 4.49083133365797  | Accuracy: 58.85\n"
     ]
    },
    {
     "name": "stderr",
     "output_type": "stream",
     "text": [
      "156it [00:03, 40.85it/s]\n",
      "100%|█████████████████████████████████████████████████████████| 46/46 [00:00<00:00, 146.09it/s]\n"
     ]
    },
    {
     "name": "stdout",
     "output_type": "stream",
     "text": [
      "Epoch: 470 | Training Loss: 8.37830781596821e-05  | Validation Loss: 4.646404810573744  | Accuracy: 58.98\n"
     ]
    },
    {
     "name": "stderr",
     "output_type": "stream",
     "text": [
      "156it [00:03, 40.74it/s]\n",
      "100%|█████████████████████████████████████████████████████████| 46/46 [00:00<00:00, 156.06it/s]\n"
     ]
    },
    {
     "name": "stdout",
     "output_type": "stream",
     "text": [
      "Epoch: 471 | Training Loss: 0.00013481145404115616  | Validation Loss: 4.5925873569820235  | Accuracy: 58.90\n"
     ]
    },
    {
     "name": "stderr",
     "output_type": "stream",
     "text": [
      "156it [00:03, 40.73it/s]\n",
      "100%|█████████████████████████████████████████████████████████| 46/46 [00:00<00:00, 143.30it/s]\n"
     ]
    },
    {
     "name": "stdout",
     "output_type": "stream",
     "text": [
      "Epoch: 472 | Training Loss: 7.22964107003813e-05  | Validation Loss: 4.62112878198209  | Accuracy: 58.92\n"
     ]
    },
    {
     "name": "stderr",
     "output_type": "stream",
     "text": [
      "156it [00:03, 41.04it/s]\n",
      "100%|█████████████████████████████████████████████████████████| 46/46 [00:00<00:00, 144.42it/s]\n"
     ]
    },
    {
     "name": "stdout",
     "output_type": "stream",
     "text": [
      "Epoch: 473 | Training Loss: 8.001665731008428e-05  | Validation Loss: 4.518350155457206  | Accuracy: 59.00\n"
     ]
    },
    {
     "name": "stderr",
     "output_type": "stream",
     "text": [
      "156it [00:03, 40.40it/s]\n",
      "100%|█████████████████████████████████████████████████████████| 46/46 [00:00<00:00, 148.96it/s]\n"
     ]
    },
    {
     "name": "stdout",
     "output_type": "stream",
     "text": [
      "Epoch: 474 | Training Loss: 0.00017435371743583042  | Validation Loss: 4.575664369956307  | Accuracy: 58.63\n"
     ]
    },
    {
     "name": "stderr",
     "output_type": "stream",
     "text": [
      "156it [00:03, 40.74it/s]\n",
      "100%|█████████████████████████████████████████████████████████| 46/46 [00:00<00:00, 143.55it/s]\n"
     ]
    },
    {
     "name": "stdout",
     "output_type": "stream",
     "text": [
      "Epoch: 475 | Training Loss: 7.539464570527343e-05  | Validation Loss: 4.502085405847301  | Accuracy: 59.09\n"
     ]
    },
    {
     "name": "stderr",
     "output_type": "stream",
     "text": [
      "156it [00:03, 40.21it/s]\n",
      "100%|█████████████████████████████████████████████████████████| 46/46 [00:00<00:00, 155.89it/s]\n"
     ]
    },
    {
     "name": "stdout",
     "output_type": "stream",
     "text": [
      "Epoch: 476 | Training Loss: 7.077367136750977e-05  | Validation Loss: 4.444436653800633  | Accuracy: 59.27\n"
     ]
    },
    {
     "name": "stderr",
     "output_type": "stream",
     "text": [
      "156it [00:03, 40.60it/s]\n",
      "100%|█████████████████████████████████████████████████████████| 46/46 [00:00<00:00, 143.18it/s]\n"
     ]
    },
    {
     "name": "stdout",
     "output_type": "stream",
     "text": [
      "Epoch: 477 | Training Loss: 0.00010884552139381973  | Validation Loss: 4.556842264921769  | Accuracy: 58.92\n"
     ]
    },
    {
     "name": "stderr",
     "output_type": "stream",
     "text": [
      "156it [00:03, 40.56it/s]\n",
      "100%|█████████████████████████████████████████████████████████| 46/46 [00:00<00:00, 161.56it/s]\n"
     ]
    },
    {
     "name": "stdout",
     "output_type": "stream",
     "text": [
      "Epoch: 478 | Training Loss: 7.554636038210633e-05  | Validation Loss: 4.516586334809013  | Accuracy: 58.93\n"
     ]
    },
    {
     "name": "stderr",
     "output_type": "stream",
     "text": [
      "156it [00:03, 40.90it/s]\n",
      "100%|█████████████████████████████████████████████████████████| 46/46 [00:00<00:00, 147.47it/s]\n"
     ]
    },
    {
     "name": "stdout",
     "output_type": "stream",
     "text": [
      "Epoch: 479 | Training Loss: 6.667807245391417e-05  | Validation Loss: 4.491744989934175  | Accuracy: 59.04\n"
     ]
    },
    {
     "name": "stderr",
     "output_type": "stream",
     "text": [
      "156it [00:03, 41.13it/s]\n",
      "100%|█████████████████████████████████████████████████████████| 46/46 [00:00<00:00, 143.44it/s]\n"
     ]
    },
    {
     "name": "stdout",
     "output_type": "stream",
     "text": [
      "Epoch: 480 | Training Loss: 4.668968980963538e-05  | Validation Loss: 4.513838902763698  | Accuracy: 59.19\n"
     ]
    },
    {
     "name": "stderr",
     "output_type": "stream",
     "text": [
      "156it [00:03, 40.26it/s]\n",
      "100%|█████████████████████████████████████████████████████████| 46/46 [00:00<00:00, 152.45it/s]\n"
     ]
    },
    {
     "name": "stdout",
     "output_type": "stream",
     "text": [
      "Epoch: 481 | Training Loss: 5.4277032457041336e-05  | Validation Loss: 4.380774575731029  | Accuracy: 59.24\n"
     ]
    },
    {
     "name": "stderr",
     "output_type": "stream",
     "text": [
      "156it [00:03, 40.73it/s]\n",
      "100%|█████████████████████████████████████████████████████████| 46/46 [00:00<00:00, 146.61it/s]\n"
     ]
    },
    {
     "name": "stdout",
     "output_type": "stream",
     "text": [
      "Epoch: 482 | Training Loss: 4.951738859605169e-05  | Validation Loss: 4.48024186362391  | Accuracy: 58.98\n"
     ]
    },
    {
     "name": "stderr",
     "output_type": "stream",
     "text": [
      "156it [00:03, 40.51it/s]\n",
      "100%|█████████████████████████████████████████████████████████| 46/46 [00:00<00:00, 170.86it/s]\n"
     ]
    },
    {
     "name": "stdout",
     "output_type": "stream",
     "text": [
      "Epoch: 483 | Training Loss: 4.7672992982720294e-05  | Validation Loss: 4.627269558284594  | Accuracy: 58.85\n"
     ]
    },
    {
     "name": "stderr",
     "output_type": "stream",
     "text": [
      "156it [00:03, 40.21it/s]\n",
      "100%|█████████████████████████████████████████████████████████| 46/46 [00:00<00:00, 144.61it/s]\n"
     ]
    },
    {
     "name": "stdout",
     "output_type": "stream",
     "text": [
      "Epoch: 484 | Training Loss: 0.00026045604254949675  | Validation Loss: 4.59863747721133  | Accuracy: 58.87\n"
     ]
    },
    {
     "name": "stderr",
     "output_type": "stream",
     "text": [
      "156it [00:03, 41.00it/s]\n",
      "100%|█████████████████████████████████████████████████████████| 46/46 [00:00<00:00, 145.80it/s]\n"
     ]
    },
    {
     "name": "stdout",
     "output_type": "stream",
     "text": [
      "Epoch: 485 | Training Loss: 0.001001748843627399  | Validation Loss: 4.662341926408851  | Accuracy: 58.90\n"
     ]
    },
    {
     "name": "stderr",
     "output_type": "stream",
     "text": [
      "156it [00:03, 40.34it/s]\n",
      "100%|█████████████████████████████████████████████████████████| 46/46 [00:00<00:00, 147.54it/s]\n"
     ]
    },
    {
     "name": "stdout",
     "output_type": "stream",
     "text": [
      "Epoch: 486 | Training Loss: 0.0005232648089205236  | Validation Loss: 4.7080682308777515  | Accuracy: 58.46\n"
     ]
    },
    {
     "name": "stderr",
     "output_type": "stream",
     "text": [
      "156it [00:03, 41.29it/s]\n",
      "100%|█████████████████████████████████████████████████████████| 46/46 [00:00<00:00, 146.34it/s]\n"
     ]
    },
    {
     "name": "stdout",
     "output_type": "stream",
     "text": [
      "Epoch: 487 | Training Loss: 0.00013839448799374694  | Validation Loss: 4.565385574879854  | Accuracy: 58.29\n"
     ]
    },
    {
     "name": "stderr",
     "output_type": "stream",
     "text": [
      "156it [00:03, 40.26it/s]\n",
      "100%|█████████████████████████████████████████████████████████| 46/46 [00:00<00:00, 157.67it/s]\n"
     ]
    },
    {
     "name": "stdout",
     "output_type": "stream",
     "text": [
      "Epoch: 488 | Training Loss: 0.00015196209314802755  | Validation Loss: 4.554875487866609  | Accuracy: 58.81\n"
     ]
    },
    {
     "name": "stderr",
     "output_type": "stream",
     "text": [
      "156it [00:03, 40.65it/s]\n",
      "100%|█████████████████████████████████████████████████████████| 46/46 [00:00<00:00, 143.44it/s]\n"
     ]
    },
    {
     "name": "stdout",
     "output_type": "stream",
     "text": [
      "Epoch: 489 | Training Loss: 8.75070889098704e-05  | Validation Loss: 4.57842276925626  | Accuracy: 58.46\n"
     ]
    },
    {
     "name": "stderr",
     "output_type": "stream",
     "text": [
      "156it [00:03, 40.57it/s]\n",
      "100%|█████████████████████████████████████████████████████████| 46/46 [00:00<00:00, 164.05it/s]\n"
     ]
    },
    {
     "name": "stdout",
     "output_type": "stream",
     "text": [
      "Epoch: 490 | Training Loss: 0.00030262910431352234  | Validation Loss: 4.459830154543337  | Accuracy: 58.49\n"
     ]
    },
    {
     "name": "stderr",
     "output_type": "stream",
     "text": [
      "156it [00:03, 40.35it/s]\n",
      "100%|█████████████████████████████████████████████████████████| 46/46 [00:00<00:00, 144.03it/s]\n"
     ]
    },
    {
     "name": "stdout",
     "output_type": "stream",
     "text": [
      "Epoch: 491 | Training Loss: 0.00017705827325442396  | Validation Loss: 4.451221802960271  | Accuracy: 58.76\n"
     ]
    },
    {
     "name": "stderr",
     "output_type": "stream",
     "text": [
      "156it [00:03, 40.94it/s]\n",
      "100%|█████████████████████████████████████████████████████████| 46/46 [00:00<00:00, 146.45it/s]\n"
     ]
    },
    {
     "name": "stdout",
     "output_type": "stream",
     "text": [
      "Epoch: 492 | Training Loss: 0.00024298022145931333  | Validation Loss: 4.602185295975727  | Accuracy: 58.53\n"
     ]
    },
    {
     "name": "stderr",
     "output_type": "stream",
     "text": [
      "156it [00:03, 40.37it/s]\n",
      "100%|█████████████████████████████████████████████████████████| 46/46 [00:00<00:00, 144.30it/s]\n"
     ]
    },
    {
     "name": "stdout",
     "output_type": "stream",
     "text": [
      "Epoch: 493 | Training Loss: 0.0001318141536884445  | Validation Loss: 4.595708079960035  | Accuracy: 58.49\n"
     ]
    },
    {
     "name": "stderr",
     "output_type": "stream",
     "text": [
      "156it [00:03, 40.83it/s]\n",
      "100%|█████████████████████████████████████████████████████████| 46/46 [00:00<00:00, 144.08it/s]\n"
     ]
    },
    {
     "name": "stdout",
     "output_type": "stream",
     "text": [
      "Epoch: 494 | Training Loss: 8.715929299376931e-05  | Validation Loss: 4.551715560581373  | Accuracy: 58.76\n"
     ]
    },
    {
     "name": "stderr",
     "output_type": "stream",
     "text": [
      "156it [00:03, 40.53it/s]\n",
      "100%|█████████████████████████████████████████████████████████| 46/46 [00:00<00:00, 167.90it/s]\n"
     ]
    },
    {
     "name": "stdout",
     "output_type": "stream",
     "text": [
      "Epoch: 495 | Training Loss: 0.0004750597343340465  | Validation Loss: 4.552546584087869  | Accuracy: 58.29\n"
     ]
    },
    {
     "name": "stderr",
     "output_type": "stream",
     "text": [
      "156it [00:03, 40.30it/s]\n",
      "100%|█████████████████████████████████████████████████████████| 46/46 [00:00<00:00, 145.59it/s]\n"
     ]
    },
    {
     "name": "stdout",
     "output_type": "stream",
     "text": [
      "Epoch: 496 | Training Loss: 0.0006538083074794998  | Validation Loss: 4.780280061390089  | Accuracy: 58.71\n"
     ]
    },
    {
     "name": "stderr",
     "output_type": "stream",
     "text": [
      "156it [00:03, 40.89it/s]\n",
      "100%|█████████████████████████████████████████████████████████| 46/46 [00:00<00:00, 159.26it/s]\n"
     ]
    },
    {
     "name": "stdout",
     "output_type": "stream",
     "text": [
      "Epoch: 497 | Training Loss: 0.0002733399595481154  | Validation Loss: 4.622380013051241  | Accuracy: 58.37\n"
     ]
    },
    {
     "name": "stderr",
     "output_type": "stream",
     "text": [
      "156it [00:03, 40.53it/s]\n",
      "100%|█████████████████████████████████████████████████████████| 46/46 [00:00<00:00, 145.11it/s]\n"
     ]
    },
    {
     "name": "stdout",
     "output_type": "stream",
     "text": [
      "Epoch: 498 | Training Loss: 0.001707299048983912  | Validation Loss: 4.368856274563333  | Accuracy: 59.26\n"
     ]
    },
    {
     "name": "stderr",
     "output_type": "stream",
     "text": [
      "156it [00:03, 41.20it/s]\n",
      "100%|█████████████████████████████████████████████████████████| 46/46 [00:00<00:00, 151.72it/s]\n"
     ]
    },
    {
     "name": "stdout",
     "output_type": "stream",
     "text": [
      "Epoch: 499 | Training Loss: 0.0003321833461459625  | Validation Loss: 4.55307866697726  | Accuracy: 59.04\n"
     ]
    },
    {
     "name": "stderr",
     "output_type": "stream",
     "text": [
      "156it [00:03, 40.47it/s]\n",
      "100%|█████████████████████████████████████████████████████████| 46/46 [00:00<00:00, 145.92it/s]\n"
     ]
    },
    {
     "name": "stdout",
     "output_type": "stream",
     "text": [
      "Epoch: 500 | Training Loss: 0.0004104346312196401  | Validation Loss: 4.628154355546703  | Accuracy: 58.81\n"
     ]
    },
    {
     "name": "stderr",
     "output_type": "stream",
     "text": [
      "156it [00:03, 41.00it/s]\n",
      "100%|█████████████████████████████████████████████████████████| 46/46 [00:00<00:00, 145.46it/s]\n"
     ]
    },
    {
     "name": "stdout",
     "output_type": "stream",
     "text": [
      "Epoch: 501 | Training Loss: 0.00014868903678269326  | Validation Loss: 4.592141908148061  | Accuracy: 58.97\n"
     ]
    },
    {
     "name": "stderr",
     "output_type": "stream",
     "text": [
      "156it [00:03, 40.94it/s]\n",
      "100%|█████████████████████████████████████████████████████████| 46/46 [00:00<00:00, 151.86it/s]\n"
     ]
    },
    {
     "name": "stdout",
     "output_type": "stream",
     "text": [
      "Epoch: 502 | Training Loss: 0.0003643909839970897  | Validation Loss: 4.65190835621046  | Accuracy: 58.71\n"
     ]
    },
    {
     "name": "stderr",
     "output_type": "stream",
     "text": [
      "156it [00:03, 41.65it/s]\n",
      "100%|█████████████████████████████████████████████████████████| 46/46 [00:00<00:00, 203.59it/s]\n"
     ]
    },
    {
     "name": "stdout",
     "output_type": "stream",
     "text": [
      "Epoch: 503 | Training Loss: 0.00014694231648695093  | Validation Loss: 4.618636494097502  | Accuracy: 58.73\n"
     ]
    },
    {
     "name": "stderr",
     "output_type": "stream",
     "text": [
      "156it [00:02, 52.93it/s]\n",
      "100%|█████████████████████████████████████████████████████████| 46/46 [00:00<00:00, 207.33it/s]\n"
     ]
    },
    {
     "name": "stdout",
     "output_type": "stream",
     "text": [
      "Epoch: 504 | Training Loss: 0.00028691843940811313  | Validation Loss: 4.644564410914546  | Accuracy: 58.98\n"
     ]
    },
    {
     "name": "stderr",
     "output_type": "stream",
     "text": [
      "156it [00:02, 53.61it/s]\n",
      "100%|█████████████████████████████████████████████████████████| 46/46 [00:00<00:00, 205.62it/s]\n"
     ]
    },
    {
     "name": "stdout",
     "output_type": "stream",
     "text": [
      "Epoch: 505 | Training Loss: 8.915811171834484e-05  | Validation Loss: 4.6511491899905  | Accuracy: 58.98\n"
     ]
    },
    {
     "name": "stderr",
     "output_type": "stream",
     "text": [
      "156it [00:02, 55.32it/s]\n",
      "100%|█████████████████████████████████████████████████████████| 46/46 [00:00<00:00, 215.47it/s]\n"
     ]
    },
    {
     "name": "stdout",
     "output_type": "stream",
     "text": [
      "Epoch: 506 | Training Loss: 0.00010486862937306377  | Validation Loss: 4.431387502214183  | Accuracy: 59.27\n"
     ]
    },
    {
     "name": "stderr",
     "output_type": "stream",
     "text": [
      "156it [00:02, 55.40it/s]\n",
      "100%|█████████████████████████████████████████████████████████| 46/46 [00:00<00:00, 215.48it/s]\n"
     ]
    },
    {
     "name": "stdout",
     "output_type": "stream",
     "text": [
      "Epoch: 507 | Training Loss: 8.816278464634636e-05  | Validation Loss: 4.619673127713411  | Accuracy: 59.26\n"
     ]
    },
    {
     "name": "stderr",
     "output_type": "stream",
     "text": [
      "156it [00:02, 55.34it/s]\n",
      "100%|█████████████████████████████████████████████████████████| 46/46 [00:00<00:00, 213.77it/s]\n"
     ]
    },
    {
     "name": "stdout",
     "output_type": "stream",
     "text": [
      "Epoch: 508 | Training Loss: 4.3436131136331824e-05  | Validation Loss: 4.561943956043409  | Accuracy: 59.44\n"
     ]
    },
    {
     "name": "stderr",
     "output_type": "stream",
     "text": [
      "156it [00:02, 55.36it/s]\n",
      "100%|█████████████████████████████████████████████████████████| 46/46 [00:00<00:00, 213.83it/s]\n"
     ]
    },
    {
     "name": "stdout",
     "output_type": "stream",
     "text": [
      "Epoch: 509 | Training Loss: 7.752869696676685e-05  | Validation Loss: 4.694760519525279  | Accuracy: 59.12\n"
     ]
    },
    {
     "name": "stderr",
     "output_type": "stream",
     "text": [
      "156it [00:02, 55.61it/s]\n",
      "100%|█████████████████████████████████████████████████████████| 46/46 [00:00<00:00, 213.15it/s]\n"
     ]
    },
    {
     "name": "stdout",
     "output_type": "stream",
     "text": [
      "Epoch: 510 | Training Loss: 5.849161705566822e-05  | Validation Loss: 4.6768070718516475  | Accuracy: 59.04\n"
     ]
    },
    {
     "name": "stderr",
     "output_type": "stream",
     "text": [
      "156it [00:02, 55.59it/s]\n",
      "100%|█████████████████████████████████████████████████████████| 46/46 [00:00<00:00, 214.07it/s]\n"
     ]
    },
    {
     "name": "stdout",
     "output_type": "stream",
     "text": [
      "Epoch: 511 | Training Loss: 6.399362670296026e-05  | Validation Loss: 4.491088680599047  | Accuracy: 59.22\n"
     ]
    },
    {
     "name": "stderr",
     "output_type": "stream",
     "text": [
      "156it [00:02, 55.51it/s]\n",
      "100%|█████████████████████████████████████████████████████████| 46/46 [00:00<00:00, 216.08it/s]\n"
     ]
    },
    {
     "name": "stdout",
     "output_type": "stream",
     "text": [
      "Epoch: 512 | Training Loss: 0.0011767542328715746  | Validation Loss: 4.575732941212862  | Accuracy: 58.98\n"
     ]
    },
    {
     "name": "stderr",
     "output_type": "stream",
     "text": [
      "156it [00:02, 55.54it/s]\n",
      "100%|█████████████████████████████████████████████████████████| 46/46 [00:00<00:00, 215.24it/s]\n"
     ]
    },
    {
     "name": "stdout",
     "output_type": "stream",
     "text": [
      "Epoch: 513 | Training Loss: 0.00014683500471736083  | Validation Loss: 4.633584447529005  | Accuracy: 58.81\n"
     ]
    },
    {
     "name": "stderr",
     "output_type": "stream",
     "text": [
      "156it [00:02, 55.38it/s]\n",
      "100%|█████████████████████████████████████████████████████████| 46/46 [00:00<00:00, 213.76it/s]\n"
     ]
    },
    {
     "name": "stdout",
     "output_type": "stream",
     "text": [
      "Epoch: 514 | Training Loss: 0.00011040696767267013  | Validation Loss: 4.5230026193287065  | Accuracy: 58.70\n"
     ]
    },
    {
     "name": "stderr",
     "output_type": "stream",
     "text": [
      "156it [00:02, 55.49it/s]\n",
      "100%|█████████████████████████████████████████████████████████| 46/46 [00:00<00:00, 213.74it/s]\n"
     ]
    },
    {
     "name": "stdout",
     "output_type": "stream",
     "text": [
      "Epoch: 515 | Training Loss: 0.0007320679815923844  | Validation Loss: 4.610853900080142  | Accuracy: 58.95\n"
     ]
    },
    {
     "name": "stderr",
     "output_type": "stream",
     "text": [
      "156it [00:02, 55.60it/s]\n",
      "100%|█████████████████████████████████████████████████████████| 46/46 [00:00<00:00, 214.86it/s]\n"
     ]
    },
    {
     "name": "stdout",
     "output_type": "stream",
     "text": [
      "Epoch: 516 | Training Loss: 0.0012258476952072856  | Validation Loss: 4.3221869209538335  | Accuracy: 59.12\n"
     ]
    },
    {
     "name": "stderr",
     "output_type": "stream",
     "text": [
      "156it [00:02, 55.59it/s]\n",
      "100%|█████████████████████████████████████████████████████████| 46/46 [00:00<00:00, 212.79it/s]\n"
     ]
    },
    {
     "name": "stdout",
     "output_type": "stream",
     "text": [
      "Epoch: 517 | Training Loss: 0.004511043604277522  | Validation Loss: 4.905148050059443  | Accuracy: 58.31\n"
     ]
    },
    {
     "name": "stderr",
     "output_type": "stream",
     "text": [
      "156it [00:02, 55.43it/s]\n",
      "100%|█████████████████████████████████████████████████████████| 46/46 [00:00<00:00, 213.76it/s]\n"
     ]
    },
    {
     "name": "stdout",
     "output_type": "stream",
     "text": [
      "Epoch: 518 | Training Loss: 0.011179864840787793  | Validation Loss: 4.243880121604256  | Accuracy: 58.92\n"
     ]
    },
    {
     "name": "stderr",
     "output_type": "stream",
     "text": [
      "156it [00:02, 54.13it/s]\n",
      "100%|█████████████████████████████████████████████████████████| 46/46 [00:00<00:00, 207.15it/s]\n"
     ]
    },
    {
     "name": "stdout",
     "output_type": "stream",
     "text": [
      "Epoch: 519 | Training Loss: 0.008508022351167873  | Validation Loss: 4.176236245943152  | Accuracy: 59.43\n"
     ]
    },
    {
     "name": "stderr",
     "output_type": "stream",
     "text": [
      "156it [00:02, 54.17it/s]\n",
      "100%|█████████████████████████████████████████████████████████| 46/46 [00:00<00:00, 207.67it/s]\n"
     ]
    },
    {
     "name": "stdout",
     "output_type": "stream",
     "text": [
      "Epoch: 520 | Training Loss: 0.012624773386937122  | Validation Loss: 4.2946726394736245  | Accuracy: 58.90\n"
     ]
    },
    {
     "name": "stderr",
     "output_type": "stream",
     "text": [
      "156it [00:02, 54.17it/s]\n",
      "100%|█████████████████████████████████████████████████████████| 46/46 [00:00<00:00, 205.94it/s]\n"
     ]
    },
    {
     "name": "stdout",
     "output_type": "stream",
     "text": [
      "Epoch: 521 | Training Loss: 0.01093995937830746  | Validation Loss: 4.380163581474967  | Accuracy: 59.17\n"
     ]
    },
    {
     "name": "stderr",
     "output_type": "stream",
     "text": [
      "156it [00:02, 54.11it/s]\n",
      "100%|█████████████████████████████████████████████████████████| 46/46 [00:00<00:00, 208.30it/s]\n"
     ]
    },
    {
     "name": "stdout",
     "output_type": "stream",
     "text": [
      "Epoch: 522 | Training Loss: 0.00600740795985425  | Validation Loss: 4.094761542651964  | Accuracy: 59.44\n"
     ]
    },
    {
     "name": "stderr",
     "output_type": "stream",
     "text": [
      "156it [00:02, 54.09it/s]\n",
      "100%|█████████████████████████████████████████████████████████| 46/46 [00:00<00:00, 208.66it/s]\n"
     ]
    },
    {
     "name": "stdout",
     "output_type": "stream",
     "text": [
      "Epoch: 523 | Training Loss: 0.011705363084846071  | Validation Loss: 4.539752068726913  | Accuracy: 58.37\n"
     ]
    },
    {
     "name": "stderr",
     "output_type": "stream",
     "text": [
      "156it [00:02, 55.56it/s]\n",
      "100%|█████████████████████████████████████████████████████████| 46/46 [00:00<00:00, 214.44it/s]\n"
     ]
    },
    {
     "name": "stdout",
     "output_type": "stream",
     "text": [
      "Epoch: 524 | Training Loss: 0.010081807323727751  | Validation Loss: 4.024224809978319  | Accuracy: 60.16\n"
     ]
    },
    {
     "name": "stderr",
     "output_type": "stream",
     "text": [
      "156it [00:02, 56.51it/s]\n",
      "100%|█████████████████████████████████████████████████████████| 46/46 [00:00<00:00, 214.69it/s]\n"
     ]
    },
    {
     "name": "stdout",
     "output_type": "stream",
     "text": [
      "Epoch: 525 | Training Loss: 0.00840980027591379  | Validation Loss: 4.159510617670805  | Accuracy: 58.47\n"
     ]
    },
    {
     "name": "stderr",
     "output_type": "stream",
     "text": [
      "156it [00:02, 56.01it/s]\n",
      "100%|█████████████████████████████████████████████████████████| 46/46 [00:00<00:00, 213.77it/s]\n"
     ]
    },
    {
     "name": "stdout",
     "output_type": "stream",
     "text": [
      "Epoch: 526 | Training Loss: 0.006460319685116608  | Validation Loss: 4.501136152640633  | Accuracy: 57.85\n"
     ]
    },
    {
     "name": "stderr",
     "output_type": "stream",
     "text": [
      "156it [00:02, 56.79it/s]\n",
      "100%|█████████████████████████████████████████████████████████| 46/46 [00:00<00:00, 214.67it/s]\n"
     ]
    },
    {
     "name": "stdout",
     "output_type": "stream",
     "text": [
      "Epoch: 527 | Training Loss: 0.006568126369949403  | Validation Loss: 4.774964384410692  | Accuracy: 57.44\n"
     ]
    },
    {
     "name": "stderr",
     "output_type": "stream",
     "text": [
      "156it [00:02, 54.08it/s]\n",
      "100%|█████████████████████████████████████████████████████████| 46/46 [00:00<00:00, 202.84it/s]\n"
     ]
    },
    {
     "name": "stdout",
     "output_type": "stream",
     "text": [
      "Epoch: 528 | Training Loss: 0.00941484057190022  | Validation Loss: 4.239090053931527  | Accuracy: 59.94\n"
     ]
    },
    {
     "name": "stderr",
     "output_type": "stream",
     "text": [
      "156it [00:02, 52.30it/s]\n",
      "100%|█████████████████████████████████████████████████████████| 46/46 [00:00<00:00, 204.78it/s]\n"
     ]
    },
    {
     "name": "stdout",
     "output_type": "stream",
     "text": [
      "Epoch: 529 | Training Loss: 0.0031068344834728544  | Validation Loss: 4.3991125666576885  | Accuracy: 58.46\n"
     ]
    },
    {
     "name": "stderr",
     "output_type": "stream",
     "text": [
      "156it [00:02, 52.27it/s]\n",
      "100%|█████████████████████████████████████████████████████████| 46/46 [00:00<00:00, 202.82it/s]\n"
     ]
    },
    {
     "name": "stdout",
     "output_type": "stream",
     "text": [
      "Epoch: 530 | Training Loss: 0.003167805435576809  | Validation Loss: 4.3714399078617925  | Accuracy: 59.04\n"
     ]
    },
    {
     "name": "stderr",
     "output_type": "stream",
     "text": [
      "156it [00:02, 53.84it/s]\n",
      "100%|█████████████████████████████████████████████████████████| 46/46 [00:00<00:00, 212.81it/s]\n"
     ]
    },
    {
     "name": "stdout",
     "output_type": "stream",
     "text": [
      "Epoch: 531 | Training Loss: 0.0015164331665894282  | Validation Loss: 4.39168425746586  | Accuracy: 58.90\n"
     ]
    },
    {
     "name": "stderr",
     "output_type": "stream",
     "text": [
      "156it [00:02, 53.84it/s]\n",
      "100%|█████████████████████████████████████████████████████████| 46/46 [00:00<00:00, 214.34it/s]\n"
     ]
    },
    {
     "name": "stdout",
     "output_type": "stream",
     "text": [
      "Epoch: 532 | Training Loss: 0.0006163254693675322  | Validation Loss: 4.378288823625316  | Accuracy: 59.14\n"
     ]
    },
    {
     "name": "stderr",
     "output_type": "stream",
     "text": [
      "156it [00:02, 53.83it/s]\n",
      "100%|█████████████████████████████████████████████████████████| 46/46 [00:00<00:00, 212.81it/s]\n"
     ]
    },
    {
     "name": "stdout",
     "output_type": "stream",
     "text": [
      "Epoch: 533 | Training Loss: 0.0005913506326042131  | Validation Loss: 4.163548023804374  | Accuracy: 59.15\n"
     ]
    },
    {
     "name": "stderr",
     "output_type": "stream",
     "text": [
      "156it [00:02, 54.22it/s]\n",
      "100%|█████████████████████████████████████████████████████████| 46/46 [00:00<00:00, 212.54it/s]\n"
     ]
    },
    {
     "name": "stdout",
     "output_type": "stream",
     "text": [
      "Epoch: 534 | Training Loss: 0.000699868886076962  | Validation Loss: 4.309202328972194  | Accuracy: 59.00\n"
     ]
    },
    {
     "name": "stderr",
     "output_type": "stream",
     "text": [
      "156it [00:02, 55.06it/s]\n",
      "100%|█████████████████████████████████████████████████████████| 46/46 [00:00<00:00, 204.58it/s]\n"
     ]
    },
    {
     "name": "stdout",
     "output_type": "stream",
     "text": [
      "Epoch: 535 | Training Loss: 0.00035091831693698157  | Validation Loss: 4.159589492756387  | Accuracy: 59.58\n"
     ]
    },
    {
     "name": "stderr",
     "output_type": "stream",
     "text": [
      "156it [00:02, 54.97it/s]\n",
      "100%|█████████████████████████████████████████████████████████| 46/46 [00:00<00:00, 210.44it/s]\n"
     ]
    },
    {
     "name": "stdout",
     "output_type": "stream",
     "text": [
      "Epoch: 536 | Training Loss: 0.0006125944082785468  | Validation Loss: 4.199201905209085  | Accuracy: 59.44\n"
     ]
    },
    {
     "name": "stderr",
     "output_type": "stream",
     "text": [
      "156it [00:02, 54.98it/s]\n",
      "100%|█████████████████████████████████████████████████████████| 46/46 [00:00<00:00, 211.95it/s]\n"
     ]
    },
    {
     "name": "stdout",
     "output_type": "stream",
     "text": [
      "Epoch: 537 | Training Loss: 0.0008993296750397861  | Validation Loss: 4.404111411260522  | Accuracy: 58.81\n"
     ]
    },
    {
     "name": "stderr",
     "output_type": "stream",
     "text": [
      "156it [00:02, 55.00it/s]\n",
      "100%|█████████████████████████████████████████████████████████| 46/46 [00:00<00:00, 212.97it/s]\n"
     ]
    },
    {
     "name": "stdout",
     "output_type": "stream",
     "text": [
      "Epoch: 538 | Training Loss: 0.000360835875222293  | Validation Loss: 4.439997947734335  | Accuracy: 58.51\n"
     ]
    },
    {
     "name": "stderr",
     "output_type": "stream",
     "text": [
      "156it [00:02, 55.00it/s]\n",
      "100%|█████████████████████████████████████████████████████████| 46/46 [00:00<00:00, 210.71it/s]\n"
     ]
    },
    {
     "name": "stdout",
     "output_type": "stream",
     "text": [
      "Epoch: 539 | Training Loss: 0.0012509483729165648  | Validation Loss: 4.388751273569853  | Accuracy: 58.31\n"
     ]
    },
    {
     "name": "stderr",
     "output_type": "stream",
     "text": [
      "156it [00:02, 55.00it/s]\n",
      "100%|█████████████████████████████████████████████████████████| 46/46 [00:00<00:00, 211.89it/s]\n"
     ]
    },
    {
     "name": "stdout",
     "output_type": "stream",
     "text": [
      "Epoch: 540 | Training Loss: 0.0008202616631000964  | Validation Loss: 4.564954052800718  | Accuracy: 58.14\n"
     ]
    },
    {
     "name": "stderr",
     "output_type": "stream",
     "text": [
      "156it [00:02, 54.95it/s]\n",
      "100%|█████████████████████████████████████████████████████████| 46/46 [00:00<00:00, 212.60it/s]\n"
     ]
    },
    {
     "name": "stdout",
     "output_type": "stream",
     "text": [
      "Epoch: 541 | Training Loss: 0.0006146809950666629  | Validation Loss: 4.378357555555261  | Accuracy: 58.47\n"
     ]
    },
    {
     "name": "stderr",
     "output_type": "stream",
     "text": [
      "156it [00:02, 55.48it/s]\n",
      "100%|█████████████████████████████████████████████████████████| 46/46 [00:00<00:00, 210.11it/s]\n"
     ]
    },
    {
     "name": "stdout",
     "output_type": "stream",
     "text": [
      "Epoch: 542 | Training Loss: 0.00039242721897654777  | Validation Loss: 4.566258451213008  | Accuracy: 58.47\n"
     ]
    },
    {
     "name": "stderr",
     "output_type": "stream",
     "text": [
      "156it [00:02, 54.90it/s]\n",
      "100%|█████████████████████████████████████████████████████████| 46/46 [00:00<00:00, 210.49it/s]\n"
     ]
    },
    {
     "name": "stdout",
     "output_type": "stream",
     "text": [
      "Epoch: 543 | Training Loss: 0.00033991784927750885  | Validation Loss: 4.452280853105628  | Accuracy: 59.04\n"
     ]
    },
    {
     "name": "stderr",
     "output_type": "stream",
     "text": [
      "156it [00:02, 54.98it/s]\n",
      "100%|█████████████████████████████████████████████████████████| 46/46 [00:00<00:00, 212.09it/s]\n"
     ]
    },
    {
     "name": "stdout",
     "output_type": "stream",
     "text": [
      "Epoch: 544 | Training Loss: 0.00033519693364234205  | Validation Loss: 4.376597451127094  | Accuracy: 59.14\n"
     ]
    },
    {
     "name": "stderr",
     "output_type": "stream",
     "text": [
      "156it [00:02, 54.95it/s]\n",
      "100%|█████████████████████████████████████████████████████████| 46/46 [00:00<00:00, 211.04it/s]\n"
     ]
    },
    {
     "name": "stdout",
     "output_type": "stream",
     "text": [
      "Epoch: 545 | Training Loss: 0.00013558513812593167  | Validation Loss: 4.432340139928072  | Accuracy: 59.04\n"
     ]
    },
    {
     "name": "stderr",
     "output_type": "stream",
     "text": [
      "156it [00:02, 54.38it/s]\n",
      "100%|█████████████████████████████████████████████████████████| 46/46 [00:00<00:00, 212.52it/s]\n"
     ]
    },
    {
     "name": "stdout",
     "output_type": "stream",
     "text": [
      "Epoch: 546 | Training Loss: 0.00020939758379566998  | Validation Loss: 4.234719520029814  | Accuracy: 59.46\n"
     ]
    },
    {
     "name": "stderr",
     "output_type": "stream",
     "text": [
      "156it [00:02, 53.86it/s]\n",
      "100%|█████████████████████████████████████████████████████████| 46/46 [00:00<00:00, 212.15it/s]\n"
     ]
    },
    {
     "name": "stdout",
     "output_type": "stream",
     "text": [
      "Epoch: 547 | Training Loss: 0.00011619031326914317  | Validation Loss: 4.2696432497190395  | Accuracy: 59.12\n"
     ]
    },
    {
     "name": "stderr",
     "output_type": "stream",
     "text": [
      "156it [00:02, 54.87it/s]\n",
      "100%|█████████████████████████████████████████████████████████| 46/46 [00:00<00:00, 207.50it/s]\n"
     ]
    },
    {
     "name": "stdout",
     "output_type": "stream",
     "text": [
      "Epoch: 548 | Training Loss: 0.0004222117115076775  | Validation Loss: 4.332115950791732  | Accuracy: 59.14\n"
     ]
    },
    {
     "name": "stderr",
     "output_type": "stream",
     "text": [
      "156it [00:02, 55.08it/s]\n",
      "100%|█████████████████████████████████████████████████████████| 46/46 [00:00<00:00, 212.84it/s]\n"
     ]
    },
    {
     "name": "stdout",
     "output_type": "stream",
     "text": [
      "Epoch: 549 | Training Loss: 0.000706362358554403  | Validation Loss: 4.4520327733910605  | Accuracy: 58.47\n"
     ]
    },
    {
     "name": "stderr",
     "output_type": "stream",
     "text": [
      "156it [00:02, 55.06it/s]\n",
      "100%|█████████████████████████████████████████████████████████| 46/46 [00:00<00:00, 213.73it/s]\n"
     ]
    },
    {
     "name": "stdout",
     "output_type": "stream",
     "text": [
      "Epoch: 550 | Training Loss: 0.00045153721801409865  | Validation Loss: 4.462489107380742  | Accuracy: 58.93\n"
     ]
    },
    {
     "name": "stderr",
     "output_type": "stream",
     "text": [
      "156it [00:02, 55.11it/s]\n",
      "100%|█████████████████████████████████████████████████████████| 46/46 [00:00<00:00, 214.21it/s]\n"
     ]
    },
    {
     "name": "stdout",
     "output_type": "stream",
     "text": [
      "Epoch: 551 | Training Loss: 0.0006341281015909025  | Validation Loss: 4.492545848307402  | Accuracy: 58.54\n"
     ]
    },
    {
     "name": "stderr",
     "output_type": "stream",
     "text": [
      "156it [00:02, 55.01it/s]\n",
      "100%|█████████████████████████████████████████████████████████| 46/46 [00:00<00:00, 212.93it/s]\n"
     ]
    },
    {
     "name": "stdout",
     "output_type": "stream",
     "text": [
      "Epoch: 552 | Training Loss: 0.0003568963190434424  | Validation Loss: 4.362346514411595  | Accuracy: 59.12\n"
     ]
    },
    {
     "name": "stderr",
     "output_type": "stream",
     "text": [
      "156it [00:02, 55.06it/s]\n",
      "100%|█████████████████████████████████████████████████████████| 46/46 [00:00<00:00, 213.55it/s]\n"
     ]
    },
    {
     "name": "stdout",
     "output_type": "stream",
     "text": [
      "Epoch: 553 | Training Loss: 0.00015001078890446268  | Validation Loss: 4.564028574072796  | Accuracy: 58.73\n"
     ]
    },
    {
     "name": "stderr",
     "output_type": "stream",
     "text": [
      "156it [00:02, 54.92it/s]\n",
      "100%|█████████████████████████████████████████████████████████| 46/46 [00:00<00:00, 211.16it/s]\n"
     ]
    },
    {
     "name": "stdout",
     "output_type": "stream",
     "text": [
      "Epoch: 554 | Training Loss: 0.0002077990135638594  | Validation Loss: 4.4407878181208735  | Accuracy: 59.17\n"
     ]
    },
    {
     "name": "stderr",
     "output_type": "stream",
     "text": [
      "156it [00:02, 55.00it/s]\n",
      "100%|█████████████████████████████████████████████████████████| 46/46 [00:00<00:00, 212.67it/s]\n"
     ]
    },
    {
     "name": "stdout",
     "output_type": "stream",
     "text": [
      "Epoch: 555 | Training Loss: 0.00044421218433107686  | Validation Loss: 4.366070721460425  | Accuracy: 59.02\n"
     ]
    },
    {
     "name": "stderr",
     "output_type": "stream",
     "text": [
      "156it [00:02, 55.01it/s]\n",
      "100%|█████████████████████████████████████████████████████████| 46/46 [00:00<00:00, 213.17it/s]\n"
     ]
    },
    {
     "name": "stdout",
     "output_type": "stream",
     "text": [
      "Epoch: 556 | Training Loss: 0.00030269611187787424  | Validation Loss: 4.439652847207111  | Accuracy: 58.80\n"
     ]
    },
    {
     "name": "stderr",
     "output_type": "stream",
     "text": [
      "156it [00:02, 54.93it/s]\n",
      "100%|█████████████████████████████████████████████████████████| 46/46 [00:00<00:00, 213.46it/s]\n"
     ]
    },
    {
     "name": "stdout",
     "output_type": "stream",
     "text": [
      "Epoch: 557 | Training Loss: 0.0001561095766180351  | Validation Loss: 4.635641626689745  | Accuracy: 58.25\n"
     ]
    },
    {
     "name": "stderr",
     "output_type": "stream",
     "text": [
      "156it [00:02, 54.95it/s]\n",
      "100%|█████████████████████████████████████████████████████████| 46/46 [00:00<00:00, 214.47it/s]\n"
     ]
    },
    {
     "name": "stdout",
     "output_type": "stream",
     "text": [
      "Epoch: 558 | Training Loss: 0.0005114875952807405  | Validation Loss: 4.553045340206312  | Accuracy: 58.59\n"
     ]
    },
    {
     "name": "stderr",
     "output_type": "stream",
     "text": [
      "156it [00:02, 55.02it/s]\n",
      "100%|█████████████████████████████████████████████████████████| 46/46 [00:00<00:00, 212.30it/s]\n"
     ]
    },
    {
     "name": "stdout",
     "output_type": "stream",
     "text": [
      "Epoch: 559 | Training Loss: 0.0003846510955776093  | Validation Loss: 4.4038467718207315  | Accuracy: 58.92\n"
     ]
    },
    {
     "name": "stderr",
     "output_type": "stream",
     "text": [
      "156it [00:02, 54.88it/s]\n",
      "100%|█████████████████████████████████████████████████████████| 46/46 [00:00<00:00, 211.53it/s]\n"
     ]
    },
    {
     "name": "stdout",
     "output_type": "stream",
     "text": [
      "Epoch: 560 | Training Loss: 0.00038442952019324415  | Validation Loss: 4.390630706496861  | Accuracy: 59.43\n"
     ]
    },
    {
     "name": "stderr",
     "output_type": "stream",
     "text": [
      "156it [00:02, 54.91it/s]\n",
      "100%|█████████████████████████████████████████████████████████| 46/46 [00:00<00:00, 211.96it/s]\n"
     ]
    },
    {
     "name": "stdout",
     "output_type": "stream",
     "text": [
      "Epoch: 561 | Training Loss: 0.0002584360669492852  | Validation Loss: 4.219936101332955  | Accuracy: 59.68\n"
     ]
    },
    {
     "name": "stderr",
     "output_type": "stream",
     "text": [
      "156it [00:02, 54.88it/s]\n",
      "100%|█████████████████████████████████████████████████████████| 46/46 [00:00<00:00, 210.96it/s]\n"
     ]
    },
    {
     "name": "stdout",
     "output_type": "stream",
     "text": [
      "Epoch: 562 | Training Loss: 0.0003575455028998803  | Validation Loss: 4.2528064250946045  | Accuracy: 59.43\n"
     ]
    },
    {
     "name": "stderr",
     "output_type": "stream",
     "text": [
      "156it [00:02, 54.90it/s]\n",
      "100%|█████████████████████████████████████████████████████████| 46/46 [00:00<00:00, 211.14it/s]\n"
     ]
    },
    {
     "name": "stdout",
     "output_type": "stream",
     "text": [
      "Epoch: 563 | Training Loss: 0.0009225666132036936  | Validation Loss: 4.489570954571599  | Accuracy: 58.63\n"
     ]
    },
    {
     "name": "stderr",
     "output_type": "stream",
     "text": [
      "156it [00:02, 55.30it/s]\n",
      "100%|█████████████████████████████████████████████████████████| 46/46 [00:00<00:00, 209.56it/s]\n"
     ]
    },
    {
     "name": "stdout",
     "output_type": "stream",
     "text": [
      "Epoch: 564 | Training Loss: 0.0009657270067271803  | Validation Loss: 4.4245294384334395  | Accuracy: 58.83\n"
     ]
    },
    {
     "name": "stderr",
     "output_type": "stream",
     "text": [
      "156it [00:02, 55.37it/s]\n",
      "100%|█████████████████████████████████████████████████████████| 46/46 [00:00<00:00, 211.86it/s]\n"
     ]
    },
    {
     "name": "stdout",
     "output_type": "stream",
     "text": [
      "Epoch: 565 | Training Loss: 0.0030836990108349337  | Validation Loss: 4.482112563174704  | Accuracy: 58.00\n"
     ]
    },
    {
     "name": "stderr",
     "output_type": "stream",
     "text": [
      "156it [00:02, 54.21it/s]\n",
      "100%|█████████████████████████████████████████████████████████| 46/46 [00:00<00:00, 212.41it/s]\n"
     ]
    },
    {
     "name": "stdout",
     "output_type": "stream",
     "text": [
      "Epoch: 566 | Training Loss: 0.006252531555452525  | Validation Loss: 4.191243456757587  | Accuracy: 59.31\n"
     ]
    },
    {
     "name": "stderr",
     "output_type": "stream",
     "text": [
      "156it [00:02, 54.22it/s]\n",
      "100%|█████████████████████████████████████████████████████████| 46/46 [00:00<00:00, 212.68it/s]\n"
     ]
    },
    {
     "name": "stdout",
     "output_type": "stream",
     "text": [
      "Epoch: 567 | Training Loss: 0.00744676465169155  | Validation Loss: 4.417438258295474  | Accuracy: 58.34\n"
     ]
    },
    {
     "name": "stderr",
     "output_type": "stream",
     "text": [
      "156it [00:02, 54.03it/s]\n",
      "100%|█████████████████████████████████████████████████████████| 46/46 [00:00<00:00, 211.90it/s]\n"
     ]
    },
    {
     "name": "stdout",
     "output_type": "stream",
     "text": [
      "Epoch: 568 | Training Loss: 0.005682249111883628  | Validation Loss: 4.292528810708419  | Accuracy: 59.05\n"
     ]
    },
    {
     "name": "stderr",
     "output_type": "stream",
     "text": [
      "156it [00:02, 54.31it/s]\n",
      "100%|█████████████████████████████████████████████████████████| 46/46 [00:00<00:00, 212.21it/s]\n"
     ]
    },
    {
     "name": "stdout",
     "output_type": "stream",
     "text": [
      "Epoch: 569 | Training Loss: 0.0023024701935682036  | Validation Loss: 4.138348905936532  | Accuracy: 59.61\n"
     ]
    },
    {
     "name": "stderr",
     "output_type": "stream",
     "text": [
      "156it [00:02, 54.97it/s]\n",
      "100%|█████████████████████████████████████████████████████████| 46/46 [00:00<00:00, 213.11it/s]\n"
     ]
    },
    {
     "name": "stdout",
     "output_type": "stream",
     "text": [
      "Epoch: 570 | Training Loss: 0.002006651475918867  | Validation Loss: 4.376341104507446  | Accuracy: 59.12\n"
     ]
    },
    {
     "name": "stderr",
     "output_type": "stream",
     "text": [
      "156it [00:02, 54.96it/s]\n",
      "100%|█████████████████████████████████████████████████████████| 46/46 [00:00<00:00, 211.24it/s]\n"
     ]
    },
    {
     "name": "stdout",
     "output_type": "stream",
     "text": [
      "Epoch: 571 | Training Loss: 0.002046460449958268  | Validation Loss: 4.586725950241089  | Accuracy: 58.85\n"
     ]
    },
    {
     "name": "stderr",
     "output_type": "stream",
     "text": [
      "156it [00:02, 54.91it/s]\n",
      "100%|█████████████████████████████████████████████████████████| 46/46 [00:00<00:00, 213.63it/s]\n"
     ]
    },
    {
     "name": "stdout",
     "output_type": "stream",
     "text": [
      "Epoch: 572 | Training Loss: 0.00296224116582613  | Validation Loss: 4.457563374353492  | Accuracy: 58.83\n"
     ]
    },
    {
     "name": "stderr",
     "output_type": "stream",
     "text": [
      "156it [00:02, 54.98it/s]\n",
      "100%|█████████████████████████████████████████████████████████| 46/46 [00:00<00:00, 211.88it/s]\n"
     ]
    },
    {
     "name": "stdout",
     "output_type": "stream",
     "text": [
      "Epoch: 573 | Training Loss: 0.0035214338605585047  | Validation Loss: 4.271209670149761  | Accuracy: 58.87\n"
     ]
    },
    {
     "name": "stderr",
     "output_type": "stream",
     "text": [
      "156it [00:02, 55.11it/s]\n",
      "100%|█████████████████████████████████████████████████████████| 46/46 [00:00<00:00, 213.44it/s]\n"
     ]
    },
    {
     "name": "stdout",
     "output_type": "stream",
     "text": [
      "Epoch: 574 | Training Loss: 0.0012527439352757379  | Validation Loss: 4.302570700645447  | Accuracy: 58.75\n"
     ]
    },
    {
     "name": "stderr",
     "output_type": "stream",
     "text": [
      "156it [00:02, 55.15it/s]\n",
      "100%|█████████████████████████████████████████████████████████| 46/46 [00:00<00:00, 214.53it/s]\n"
     ]
    },
    {
     "name": "stdout",
     "output_type": "stream",
     "text": [
      "Epoch: 575 | Training Loss: 0.002331834688634561  | Validation Loss: 5.00610147351804  | Accuracy: 57.32\n"
     ]
    },
    {
     "name": "stderr",
     "output_type": "stream",
     "text": [
      "156it [00:02, 55.14it/s]\n",
      "100%|█████████████████████████████████████████████████████████| 46/46 [00:00<00:00, 213.00it/s]\n"
     ]
    },
    {
     "name": "stdout",
     "output_type": "stream",
     "text": [
      "Epoch: 576 | Training Loss: 0.004313989407213133  | Validation Loss: 4.4517324437265815  | Accuracy: 58.37\n"
     ]
    },
    {
     "name": "stderr",
     "output_type": "stream",
     "text": [
      "156it [00:02, 55.09it/s]\n",
      "100%|█████████████████████████████████████████████████████████| 46/46 [00:00<00:00, 209.81it/s]\n"
     ]
    },
    {
     "name": "stdout",
     "output_type": "stream",
     "text": [
      "Epoch: 577 | Training Loss: 0.0064543467133961925  | Validation Loss: 4.357847866804703  | Accuracy: 58.44\n"
     ]
    },
    {
     "name": "stderr",
     "output_type": "stream",
     "text": [
      "156it [00:02, 55.09it/s]\n",
      "100%|█████████████████████████████████████████████████████████| 46/46 [00:00<00:00, 213.61it/s]\n"
     ]
    },
    {
     "name": "stdout",
     "output_type": "stream",
     "text": [
      "Epoch: 578 | Training Loss: 0.0050609429831988215  | Validation Loss: 4.2204466332560004  | Accuracy: 58.42\n"
     ]
    },
    {
     "name": "stderr",
     "output_type": "stream",
     "text": [
      "156it [00:02, 55.32it/s]\n",
      "100%|█████████████████████████████████████████████████████████| 46/46 [00:00<00:00, 212.41it/s]\n"
     ]
    },
    {
     "name": "stdout",
     "output_type": "stream",
     "text": [
      "Epoch: 579 | Training Loss: 0.005495923351913799  | Validation Loss: 4.658114008281542  | Accuracy: 58.58\n"
     ]
    },
    {
     "name": "stderr",
     "output_type": "stream",
     "text": [
      "156it [00:02, 56.14it/s]\n",
      "100%|█████████████████████████████████████████████████████████| 46/46 [00:00<00:00, 212.01it/s]\n"
     ]
    },
    {
     "name": "stdout",
     "output_type": "stream",
     "text": [
      "Epoch: 580 | Training Loss: 0.005256888961948556  | Validation Loss: 4.541789516158726  | Accuracy: 57.88\n"
     ]
    },
    {
     "name": "stderr",
     "output_type": "stream",
     "text": [
      "156it [00:02, 55.44it/s]\n",
      "100%|█████████████████████████████████████████████████████████| 46/46 [00:00<00:00, 211.72it/s]\n"
     ]
    },
    {
     "name": "stdout",
     "output_type": "stream",
     "text": [
      "Epoch: 581 | Training Loss: 0.006911459739197968  | Validation Loss: 4.325224430664726  | Accuracy: 59.02\n"
     ]
    },
    {
     "name": "stderr",
     "output_type": "stream",
     "text": [
      "156it [00:02, 55.00it/s]\n",
      "100%|█████████████████████████████████████████████████████████| 46/46 [00:00<00:00, 213.65it/s]\n"
     ]
    },
    {
     "name": "stdout",
     "output_type": "stream",
     "text": [
      "Epoch: 582 | Training Loss: 0.006098430255662653  | Validation Loss: 4.1875297712243125  | Accuracy: 57.97\n"
     ]
    },
    {
     "name": "stderr",
     "output_type": "stream",
     "text": [
      "156it [00:02, 54.95it/s]\n",
      "100%|█████████████████████████████████████████████████████████| 46/46 [00:00<00:00, 212.85it/s]\n"
     ]
    },
    {
     "name": "stdout",
     "output_type": "stream",
     "text": [
      "Epoch: 583 | Training Loss: 0.0071042959840642884  | Validation Loss: 4.197994180347608  | Accuracy: 59.26\n"
     ]
    },
    {
     "name": "stderr",
     "output_type": "stream",
     "text": [
      "156it [00:02, 54.98it/s]\n",
      "100%|█████████████████████████████████████████████████████████| 46/46 [00:00<00:00, 211.97it/s]\n"
     ]
    },
    {
     "name": "stdout",
     "output_type": "stream",
     "text": [
      "Epoch: 584 | Training Loss: 0.0036754996597618372  | Validation Loss: 4.402317321818808  | Accuracy: 57.40\n"
     ]
    },
    {
     "name": "stderr",
     "output_type": "stream",
     "text": [
      "156it [00:02, 55.29it/s]\n",
      "100%|█████████████████████████████████████████████████████████| 46/46 [00:00<00:00, 211.27it/s]\n"
     ]
    },
    {
     "name": "stdout",
     "output_type": "stream",
     "text": [
      "Epoch: 585 | Training Loss: 0.006874627336447958  | Validation Loss: 4.190505960713262  | Accuracy: 58.19\n"
     ]
    },
    {
     "name": "stderr",
     "output_type": "stream",
     "text": [
      "156it [00:02, 55.12it/s]\n",
      "100%|█████████████████████████████████████████████████████████| 46/46 [00:00<00:00, 213.38it/s]\n"
     ]
    },
    {
     "name": "stdout",
     "output_type": "stream",
     "text": [
      "Epoch: 586 | Training Loss: 0.008196542111888378  | Validation Loss: 4.246655946192534  | Accuracy: 59.12\n"
     ]
    },
    {
     "name": "stderr",
     "output_type": "stream",
     "text": [
      "156it [00:02, 55.85it/s]\n",
      "100%|█████████████████████████████████████████████████████████| 46/46 [00:00<00:00, 213.91it/s]\n"
     ]
    },
    {
     "name": "stdout",
     "output_type": "stream",
     "text": [
      "Epoch: 587 | Training Loss: 0.005401136488916773  | Validation Loss: 4.589666133341582  | Accuracy: 58.10\n"
     ]
    },
    {
     "name": "stderr",
     "output_type": "stream",
     "text": [
      "156it [00:02, 55.03it/s]\n",
      "100%|█████████████████████████████████████████████████████████| 46/46 [00:00<00:00, 210.35it/s]\n"
     ]
    },
    {
     "name": "stdout",
     "output_type": "stream",
     "text": [
      "Epoch: 588 | Training Loss: 0.007562655137334309  | Validation Loss: 4.2056807901548305  | Accuracy: 59.49\n"
     ]
    },
    {
     "name": "stderr",
     "output_type": "stream",
     "text": [
      "156it [00:02, 55.03it/s]\n",
      "100%|█████████████████████████████████████████████████████████| 46/46 [00:00<00:00, 211.62it/s]\n"
     ]
    },
    {
     "name": "stdout",
     "output_type": "stream",
     "text": [
      "Epoch: 589 | Training Loss: 0.00430789885345243  | Validation Loss: 4.368441488431848  | Accuracy: 58.47\n"
     ]
    },
    {
     "name": "stderr",
     "output_type": "stream",
     "text": [
      "156it [00:02, 55.06it/s]\n",
      "100%|█████████████████████████████████████████████████████████| 46/46 [00:00<00:00, 213.99it/s]\n"
     ]
    },
    {
     "name": "stdout",
     "output_type": "stream",
     "text": [
      "Epoch: 590 | Training Loss: 0.0009771193958957342  | Validation Loss: 4.309128823487655  | Accuracy: 58.34\n"
     ]
    },
    {
     "name": "stderr",
     "output_type": "stream",
     "text": [
      "156it [00:02, 55.02it/s]\n",
      "100%|█████████████████████████████████████████████████████████| 46/46 [00:00<00:00, 212.85it/s]\n"
     ]
    },
    {
     "name": "stdout",
     "output_type": "stream",
     "text": [
      "Epoch: 591 | Training Loss: 0.003083969612537028  | Validation Loss: 4.445259555526402  | Accuracy: 59.05\n"
     ]
    },
    {
     "name": "stderr",
     "output_type": "stream",
     "text": [
      "156it [00:02, 55.01it/s]\n",
      "100%|█████████████████████████████████████████████████████████| 46/46 [00:00<00:00, 212.55it/s]\n"
     ]
    },
    {
     "name": "stdout",
     "output_type": "stream",
     "text": [
      "Epoch: 592 | Training Loss: 0.001516724702480879  | Validation Loss: 4.379054432329924  | Accuracy: 58.97\n"
     ]
    },
    {
     "name": "stderr",
     "output_type": "stream",
     "text": [
      "156it [00:02, 55.04it/s]\n",
      "100%|█████████████████████████████████████████████████████████| 46/46 [00:00<00:00, 212.75it/s]\n"
     ]
    },
    {
     "name": "stdout",
     "output_type": "stream",
     "text": [
      "Epoch: 593 | Training Loss: 0.0005452973469007888  | Validation Loss: 4.321893520977186  | Accuracy: 59.00\n"
     ]
    },
    {
     "name": "stderr",
     "output_type": "stream",
     "text": [
      "156it [00:02, 55.09it/s]\n",
      "100%|█████████████████████████████████████████████████████████| 46/46 [00:00<00:00, 212.02it/s]\n"
     ]
    },
    {
     "name": "stdout",
     "output_type": "stream",
     "text": [
      "Epoch: 594 | Training Loss: 0.0013461100117801367  | Validation Loss: 4.38604255862858  | Accuracy: 59.66\n"
     ]
    },
    {
     "name": "stderr",
     "output_type": "stream",
     "text": [
      "156it [00:02, 55.14it/s]\n",
      "100%|█████████████████████████████████████████████████████████| 46/46 [00:00<00:00, 211.70it/s]\n"
     ]
    },
    {
     "name": "stdout",
     "output_type": "stream",
     "text": [
      "Epoch: 595 | Training Loss: 0.0006359273629058384  | Validation Loss: 4.745847784954568  | Accuracy: 57.63\n"
     ]
    },
    {
     "name": "stderr",
     "output_type": "stream",
     "text": [
      "156it [00:02, 55.08it/s]\n",
      "100%|█████████████████████████████████████████████████████████| 46/46 [00:00<00:00, 212.51it/s]\n"
     ]
    },
    {
     "name": "stdout",
     "output_type": "stream",
     "text": [
      "Epoch: 596 | Training Loss: 0.0006121235259377919  | Validation Loss: 4.3904615536980005  | Accuracy: 58.97\n"
     ]
    },
    {
     "name": "stderr",
     "output_type": "stream",
     "text": [
      "156it [00:02, 55.00it/s]\n",
      "100%|█████████████████████████████████████████████████████████| 46/46 [00:00<00:00, 214.39it/s]\n"
     ]
    },
    {
     "name": "stdout",
     "output_type": "stream",
     "text": [
      "Epoch: 597 | Training Loss: 0.0026801192322333614  | Validation Loss: 4.328587164049563  | Accuracy: 58.71\n"
     ]
    },
    {
     "name": "stderr",
     "output_type": "stream",
     "text": [
      "156it [00:02, 55.59it/s]\n",
      "100%|█████████████████████████████████████████████████████████| 46/46 [00:00<00:00, 214.03it/s]\n"
     ]
    },
    {
     "name": "stdout",
     "output_type": "stream",
     "text": [
      "Epoch: 598 | Training Loss: 0.0009393992879081336  | Validation Loss: 4.337292515713235  | Accuracy: 59.54\n"
     ]
    },
    {
     "name": "stderr",
     "output_type": "stream",
     "text": [
      "156it [00:02, 55.02it/s]\n",
      "100%|█████████████████████████████████████████████████████████| 46/46 [00:00<00:00, 213.88it/s]\n"
     ]
    },
    {
     "name": "stdout",
     "output_type": "stream",
     "text": [
      "Epoch: 599 | Training Loss: 0.0013286931765693366  | Validation Loss: 4.384534042814503  | Accuracy: 59.27\n"
     ]
    },
    {
     "name": "stderr",
     "output_type": "stream",
     "text": [
      "156it [00:02, 55.13it/s]\n",
      "100%|█████████████████████████████████████████████████████████| 46/46 [00:00<00:00, 213.43it/s]\n"
     ]
    },
    {
     "name": "stdout",
     "output_type": "stream",
     "text": [
      "Epoch: 600 | Training Loss: 0.0009413437800597025  | Validation Loss: 4.4643193587012915  | Accuracy: 58.71\n"
     ]
    },
    {
     "name": "stderr",
     "output_type": "stream",
     "text": [
      "156it [00:02, 54.90it/s]\n",
      "100%|█████████████████████████████████████████████████████████| 46/46 [00:00<00:00, 214.43it/s]\n"
     ]
    },
    {
     "name": "stdout",
     "output_type": "stream",
     "text": [
      "Epoch: 601 | Training Loss: 0.0014030069004058112  | Validation Loss: 4.472673753033513  | Accuracy: 59.05\n"
     ]
    },
    {
     "name": "stderr",
     "output_type": "stream",
     "text": [
      "156it [00:02, 55.04it/s]\n",
      "100%|█████████████████████████████████████████████████████████| 46/46 [00:00<00:00, 212.57it/s]\n"
     ]
    },
    {
     "name": "stdout",
     "output_type": "stream",
     "text": [
      "Epoch: 602 | Training Loss: 0.001042397801530826  | Validation Loss: 4.429880608683047  | Accuracy: 59.10\n"
     ]
    },
    {
     "name": "stderr",
     "output_type": "stream",
     "text": [
      "156it [00:02, 55.06it/s]\n",
      "100%|█████████████████████████████████████████████████████████| 46/46 [00:00<00:00, 213.84it/s]\n"
     ]
    },
    {
     "name": "stdout",
     "output_type": "stream",
     "text": [
      "Epoch: 603 | Training Loss: 0.0007539622481603239  | Validation Loss: 4.612828347993934  | Accuracy: 58.63\n"
     ]
    },
    {
     "name": "stderr",
     "output_type": "stream",
     "text": [
      "156it [00:02, 55.02it/s]\n",
      "100%|█████████████████████████████████████████████████████████| 46/46 [00:00<00:00, 211.95it/s]\n"
     ]
    },
    {
     "name": "stdout",
     "output_type": "stream",
     "text": [
      "Epoch: 604 | Training Loss: 0.0003389237963813521  | Validation Loss: 4.397670802862748  | Accuracy: 59.39\n"
     ]
    },
    {
     "name": "stderr",
     "output_type": "stream",
     "text": [
      "156it [00:02, 53.92it/s]\n",
      "100%|█████████████████████████████████████████████████████████| 46/46 [00:00<00:00, 214.09it/s]\n"
     ]
    },
    {
     "name": "stdout",
     "output_type": "stream",
     "text": [
      "Epoch: 605 | Training Loss: 0.0002408231062371413  | Validation Loss: 4.418101217435754  | Accuracy: 59.54\n"
     ]
    },
    {
     "name": "stderr",
     "output_type": "stream",
     "text": [
      "156it [00:02, 53.94it/s]\n",
      "100%|█████████████████████████████████████████████████████████| 46/46 [00:00<00:00, 211.27it/s]\n"
     ]
    },
    {
     "name": "stdout",
     "output_type": "stream",
     "text": [
      "Epoch: 606 | Training Loss: 0.00018705384216515924  | Validation Loss: 4.4928557043490205  | Accuracy: 59.38\n"
     ]
    },
    {
     "name": "stderr",
     "output_type": "stream",
     "text": [
      "156it [00:02, 53.94it/s]\n",
      "100%|█████████████████████████████████████████████████████████| 46/46 [00:00<00:00, 212.82it/s]\n"
     ]
    },
    {
     "name": "stdout",
     "output_type": "stream",
     "text": [
      "Epoch: 607 | Training Loss: 0.0001971327623474887  | Validation Loss: 4.588546130968177  | Accuracy: 58.88\n"
     ]
    },
    {
     "name": "stderr",
     "output_type": "stream",
     "text": [
      "156it [00:02, 54.26it/s]\n",
      "100%|█████████████████████████████████████████████████████████| 46/46 [00:00<00:00, 211.54it/s]\n"
     ]
    },
    {
     "name": "stdout",
     "output_type": "stream",
     "text": [
      "Epoch: 608 | Training Loss: 0.0001376998727198206  | Validation Loss: 4.3608876881392105  | Accuracy: 59.15\n"
     ]
    },
    {
     "name": "stderr",
     "output_type": "stream",
     "text": [
      "156it [00:02, 54.98it/s]\n",
      "100%|█████████████████████████████████████████████████████████| 46/46 [00:00<00:00, 210.28it/s]\n"
     ]
    },
    {
     "name": "stdout",
     "output_type": "stream",
     "text": [
      "Epoch: 609 | Training Loss: 0.0009091617591587773  | Validation Loss: 4.475490969160329  | Accuracy: 58.73\n"
     ]
    },
    {
     "name": "stderr",
     "output_type": "stream",
     "text": [
      "156it [00:02, 54.95it/s]\n",
      "100%|█████████████████████████████████████████████████████████| 46/46 [00:00<00:00, 212.92it/s]\n"
     ]
    },
    {
     "name": "stdout",
     "output_type": "stream",
     "text": [
      "Epoch: 610 | Training Loss: 0.0009628148877592862  | Validation Loss: 4.503515849942747  | Accuracy: 59.29\n"
     ]
    },
    {
     "name": "stderr",
     "output_type": "stream",
     "text": [
      "156it [00:02, 54.61it/s]\n",
      "100%|█████████████████████████████████████████████████████████| 46/46 [00:00<00:00, 213.29it/s]\n"
     ]
    },
    {
     "name": "stdout",
     "output_type": "stream",
     "text": [
      "Epoch: 611 | Training Loss: 0.0012010186939779744  | Validation Loss: 4.509723264238109  | Accuracy: 59.14\n"
     ]
    },
    {
     "name": "stderr",
     "output_type": "stream",
     "text": [
      "156it [00:02, 54.43it/s]\n",
      "100%|█████████████████████████████████████████████████████████| 46/46 [00:00<00:00, 213.16it/s]\n"
     ]
    },
    {
     "name": "stdout",
     "output_type": "stream",
     "text": [
      "Epoch: 612 | Training Loss: 0.0012271295289419636  | Validation Loss: 4.599554714949234  | Accuracy: 58.34\n"
     ]
    },
    {
     "name": "stderr",
     "output_type": "stream",
     "text": [
      "156it [00:02, 54.19it/s]\n",
      "100%|█████████████████████████████████████████████████████████| 46/46 [00:00<00:00, 214.45it/s]\n"
     ]
    },
    {
     "name": "stdout",
     "output_type": "stream",
     "text": [
      "Epoch: 613 | Training Loss: 0.0006248043586753901  | Validation Loss: 4.4652386851932695  | Accuracy: 59.43\n"
     ]
    },
    {
     "name": "stderr",
     "output_type": "stream",
     "text": [
      "156it [00:02, 54.15it/s]\n",
      "100%|█████████████████████████████████████████████████████████| 46/46 [00:00<00:00, 215.27it/s]\n"
     ]
    },
    {
     "name": "stdout",
     "output_type": "stream",
     "text": [
      "Epoch: 614 | Training Loss: 0.0007972729338001581  | Validation Loss: 4.415264088174571  | Accuracy: 59.26\n"
     ]
    },
    {
     "name": "stderr",
     "output_type": "stream",
     "text": [
      "156it [00:02, 54.33it/s]\n",
      "100%|█████████████████████████████████████████████████████████| 46/46 [00:00<00:00, 214.07it/s]\n"
     ]
    },
    {
     "name": "stdout",
     "output_type": "stream",
     "text": [
      "Epoch: 615 | Training Loss: 0.00048170257142397203  | Validation Loss: 4.536898649257163  | Accuracy: 58.85\n"
     ]
    },
    {
     "name": "stderr",
     "output_type": "stream",
     "text": [
      "156it [00:02, 55.11it/s]\n",
      "100%|█████████████████████████████████████████████████████████| 46/46 [00:00<00:00, 214.80it/s]\n"
     ]
    },
    {
     "name": "stdout",
     "output_type": "stream",
     "text": [
      "Epoch: 616 | Training Loss: 0.0002406599863509958  | Validation Loss: 4.398112483646559  | Accuracy: 59.02\n"
     ]
    },
    {
     "name": "stderr",
     "output_type": "stream",
     "text": [
      "156it [00:02, 55.08it/s]\n",
      "100%|█████████████████████████████████████████████████████████| 46/46 [00:00<00:00, 213.30it/s]\n"
     ]
    },
    {
     "name": "stdout",
     "output_type": "stream",
     "text": [
      "Epoch: 617 | Training Loss: 0.0001250353775445453  | Validation Loss: 4.464432866676994  | Accuracy: 58.95\n"
     ]
    },
    {
     "name": "stderr",
     "output_type": "stream",
     "text": [
      "156it [00:02, 55.10it/s]\n",
      "100%|█████████████████████████████████████████████████████████| 46/46 [00:00<00:00, 213.39it/s]\n"
     ]
    },
    {
     "name": "stdout",
     "output_type": "stream",
     "text": [
      "Epoch: 618 | Training Loss: 0.00013448154405546703  | Validation Loss: 4.432103286618772  | Accuracy: 59.39\n"
     ]
    },
    {
     "name": "stderr",
     "output_type": "stream",
     "text": [
      "156it [00:02, 55.06it/s]\n",
      "100%|█████████████████████████████████████████████████████████| 46/46 [00:00<00:00, 209.45it/s]\n"
     ]
    },
    {
     "name": "stdout",
     "output_type": "stream",
     "text": [
      "Epoch: 619 | Training Loss: 9.864306229573207e-05  | Validation Loss: 4.467519143353337  | Accuracy: 59.21\n"
     ]
    },
    {
     "name": "stderr",
     "output_type": "stream",
     "text": [
      "156it [00:02, 55.07it/s]\n",
      "100%|█████████████████████████████████████████████████████████| 46/46 [00:00<00:00, 215.16it/s]\n"
     ]
    },
    {
     "name": "stdout",
     "output_type": "stream",
     "text": [
      "Epoch: 620 | Training Loss: 0.00011073151127232287  | Validation Loss: 4.47740273890288  | Accuracy: 59.29\n"
     ]
    },
    {
     "name": "stderr",
     "output_type": "stream",
     "text": [
      "156it [00:02, 55.02it/s]\n",
      "100%|█████████████████████████████████████████████████████████| 46/46 [00:00<00:00, 211.24it/s]\n"
     ]
    },
    {
     "name": "stdout",
     "output_type": "stream",
     "text": [
      "Epoch: 621 | Training Loss: 0.00012823229549678962  | Validation Loss: 4.466195272362751  | Accuracy: 59.54\n"
     ]
    },
    {
     "name": "stderr",
     "output_type": "stream",
     "text": [
      "156it [00:02, 55.11it/s]\n",
      "100%|█████████████████████████████████████████████████████████| 46/46 [00:00<00:00, 214.15it/s]\n"
     ]
    },
    {
     "name": "stdout",
     "output_type": "stream",
     "text": [
      "Epoch: 622 | Training Loss: 0.00011257275753287571  | Validation Loss: 4.521677374839783  | Accuracy: 59.19\n"
     ]
    },
    {
     "name": "stderr",
     "output_type": "stream",
     "text": [
      "156it [00:02, 54.96it/s]\n",
      "100%|█████████████████████████████████████████████████████████| 46/46 [00:00<00:00, 213.92it/s]\n"
     ]
    },
    {
     "name": "stdout",
     "output_type": "stream",
     "text": [
      "Epoch: 623 | Training Loss: 0.00027966053894837946  | Validation Loss: 4.440163944078528  | Accuracy: 59.24\n"
     ]
    },
    {
     "name": "stderr",
     "output_type": "stream",
     "text": [
      "156it [00:02, 55.26it/s]\n",
      "100%|█████████████████████████████████████████████████████████| 46/46 [00:00<00:00, 215.37it/s]\n"
     ]
    },
    {
     "name": "stdout",
     "output_type": "stream",
     "text": [
      "Epoch: 624 | Training Loss: 0.0003519746942227077  | Validation Loss: 4.651072331096815  | Accuracy: 58.46\n"
     ]
    },
    {
     "name": "stderr",
     "output_type": "stream",
     "text": [
      "156it [00:02, 55.08it/s]\n",
      "100%|█████████████████████████████████████████████████████████| 46/46 [00:00<00:00, 212.45it/s]\n"
     ]
    },
    {
     "name": "stdout",
     "output_type": "stream",
     "text": [
      "Epoch: 625 | Training Loss: 0.0008889441077640069  | Validation Loss: 4.609033848928369  | Accuracy: 58.10\n"
     ]
    },
    {
     "name": "stderr",
     "output_type": "stream",
     "text": [
      "156it [00:02, 55.01it/s]\n",
      "100%|█████████████████████████████████████████████████████████| 46/46 [00:00<00:00, 213.72it/s]\n"
     ]
    },
    {
     "name": "stdout",
     "output_type": "stream",
     "text": [
      "Epoch: 626 | Training Loss: 0.0003519298910736651  | Validation Loss: 4.419427249742591  | Accuracy: 58.95\n"
     ]
    },
    {
     "name": "stderr",
     "output_type": "stream",
     "text": [
      "156it [00:02, 54.95it/s]\n",
      "100%|█████████████████████████████████████████████████████████| 46/46 [00:00<00:00, 212.49it/s]\n"
     ]
    },
    {
     "name": "stdout",
     "output_type": "stream",
     "text": [
      "Epoch: 627 | Training Loss: 0.0007290652587739598  | Validation Loss: 4.586374863334324  | Accuracy: 58.51\n"
     ]
    },
    {
     "name": "stderr",
     "output_type": "stream",
     "text": [
      "156it [00:02, 55.07it/s]\n",
      "100%|█████████████████████████████████████████████████████████| 46/46 [00:00<00:00, 212.57it/s]\n"
     ]
    },
    {
     "name": "stdout",
     "output_type": "stream",
     "text": [
      "Epoch: 628 | Training Loss: 0.0006455513560596069  | Validation Loss: 4.464095037916432  | Accuracy: 58.63\n"
     ]
    },
    {
     "name": "stderr",
     "output_type": "stream",
     "text": [
      "156it [00:02, 55.08it/s]\n",
      "100%|█████████████████████████████████████████████████████████| 46/46 [00:00<00:00, 210.29it/s]\n"
     ]
    },
    {
     "name": "stdout",
     "output_type": "stream",
     "text": [
      "Epoch: 629 | Training Loss: 0.0002534067643631342  | Validation Loss: 4.441615866578144  | Accuracy: 58.88\n"
     ]
    },
    {
     "name": "stderr",
     "output_type": "stream",
     "text": [
      "156it [00:02, 56.32it/s]\n",
      "100%|█████████████████████████████████████████████████████████| 46/46 [00:00<00:00, 210.30it/s]\n"
     ]
    },
    {
     "name": "stdout",
     "output_type": "stream",
     "text": [
      "Epoch: 630 | Training Loss: 0.00024439584646456636  | Validation Loss: 4.440537032873734  | Accuracy: 58.83\n"
     ]
    },
    {
     "name": "stderr",
     "output_type": "stream",
     "text": [
      "156it [00:02, 55.76it/s]\n",
      "100%|█████████████████████████████████████████████████████████| 46/46 [00:00<00:00, 211.68it/s]\n"
     ]
    },
    {
     "name": "stdout",
     "output_type": "stream",
     "text": [
      "Epoch: 631 | Training Loss: 0.0001306213309292686  | Validation Loss: 4.402043192282967  | Accuracy: 58.75\n"
     ]
    },
    {
     "name": "stderr",
     "output_type": "stream",
     "text": [
      "156it [00:02, 54.87it/s]\n",
      "100%|█████████████████████████████████████████████████████████| 46/46 [00:00<00:00, 211.58it/s]\n"
     ]
    },
    {
     "name": "stdout",
     "output_type": "stream",
     "text": [
      "Epoch: 632 | Training Loss: 0.00017620304993798552  | Validation Loss: 4.632059465283933  | Accuracy: 58.56\n"
     ]
    },
    {
     "name": "stderr",
     "output_type": "stream",
     "text": [
      "156it [00:02, 55.03it/s]\n",
      "100%|█████████████████████████████████████████████████████████| 46/46 [00:00<00:00, 207.99it/s]\n"
     ]
    },
    {
     "name": "stdout",
     "output_type": "stream",
     "text": [
      "Epoch: 633 | Training Loss: 0.00011453175503471031  | Validation Loss: 4.571505935295768  | Accuracy: 58.42\n"
     ]
    },
    {
     "name": "stderr",
     "output_type": "stream",
     "text": [
      "156it [00:02, 54.93it/s]\n",
      "100%|█████████████████████████████████████████████████████████| 46/46 [00:00<00:00, 212.10it/s]\n"
     ]
    },
    {
     "name": "stdout",
     "output_type": "stream",
     "text": [
      "Epoch: 634 | Training Loss: 0.00010919687814492089  | Validation Loss: 4.575540827668232  | Accuracy: 58.51\n"
     ]
    },
    {
     "name": "stderr",
     "output_type": "stream",
     "text": [
      "156it [00:02, 54.89it/s]\n",
      "100%|█████████████████████████████████████████████████████████| 46/46 [00:00<00:00, 212.97it/s]\n"
     ]
    },
    {
     "name": "stdout",
     "output_type": "stream",
     "text": [
      "Epoch: 635 | Training Loss: 8.298911484708254e-05  | Validation Loss: 4.5107273485349575  | Accuracy: 58.75\n"
     ]
    },
    {
     "name": "stderr",
     "output_type": "stream",
     "text": [
      "156it [00:02, 54.92it/s]\n",
      "100%|█████████████████████████████████████████████████████████| 46/46 [00:00<00:00, 212.54it/s]\n"
     ]
    },
    {
     "name": "stdout",
     "output_type": "stream",
     "text": [
      "Epoch: 636 | Training Loss: 7.050069559856918e-05  | Validation Loss: 4.556589510129846  | Accuracy: 58.87\n"
     ]
    },
    {
     "name": "stderr",
     "output_type": "stream",
     "text": [
      "156it [00:02, 55.02it/s]\n",
      "100%|█████████████████████████████████████████████████████████| 46/46 [00:00<00:00, 211.49it/s]\n"
     ]
    },
    {
     "name": "stdout",
     "output_type": "stream",
     "text": [
      "Epoch: 637 | Training Loss: 9.92675207108289e-05  | Validation Loss: 4.599384209384089  | Accuracy: 58.59\n"
     ]
    },
    {
     "name": "stderr",
     "output_type": "stream",
     "text": [
      "156it [00:02, 55.01it/s]\n",
      "100%|█████████████████████████████████████████████████████████| 46/46 [00:00<00:00, 215.02it/s]\n"
     ]
    },
    {
     "name": "stdout",
     "output_type": "stream",
     "text": [
      "Epoch: 638 | Training Loss: 9.63168796575841e-05  | Validation Loss: 4.561939721522124  | Accuracy: 58.27\n"
     ]
    },
    {
     "name": "stderr",
     "output_type": "stream",
     "text": [
      "156it [00:02, 55.08it/s]\n",
      "100%|█████████████████████████████████████████████████████████| 46/46 [00:00<00:00, 212.04it/s]\n"
     ]
    },
    {
     "name": "stdout",
     "output_type": "stream",
     "text": [
      "Epoch: 639 | Training Loss: 8.703701444818972e-05  | Validation Loss: 4.4974220006362255  | Accuracy: 58.44\n"
     ]
    },
    {
     "name": "stderr",
     "output_type": "stream",
     "text": [
      "156it [00:02, 54.97it/s]\n",
      "100%|█████████████████████████████████████████████████████████| 46/46 [00:00<00:00, 215.11it/s]\n"
     ]
    },
    {
     "name": "stdout",
     "output_type": "stream",
     "text": [
      "Epoch: 640 | Training Loss: 5.877529177921996e-05  | Validation Loss: 4.617942229561184  | Accuracy: 58.63\n"
     ]
    },
    {
     "name": "stderr",
     "output_type": "stream",
     "text": [
      "156it [00:02, 55.06it/s]\n",
      "100%|█████████████████████████████████████████████████████████| 46/46 [00:00<00:00, 212.29it/s]\n"
     ]
    },
    {
     "name": "stdout",
     "output_type": "stream",
     "text": [
      "Epoch: 641 | Training Loss: 0.00043072911116782145  | Validation Loss: 4.663536755935006  | Accuracy: 58.61\n"
     ]
    },
    {
     "name": "stderr",
     "output_type": "stream",
     "text": [
      "156it [00:02, 53.93it/s]\n",
      "100%|█████████████████████████████████████████████████████████| 46/46 [00:00<00:00, 213.92it/s]\n"
     ]
    },
    {
     "name": "stdout",
     "output_type": "stream",
     "text": [
      "Epoch: 642 | Training Loss: 0.0014595806265403483  | Validation Loss: 4.456475159396296  | Accuracy: 58.68\n"
     ]
    },
    {
     "name": "stderr",
     "output_type": "stream",
     "text": [
      "156it [00:02, 53.84it/s]\n",
      "100%|█████████████████████████████████████████████████████████| 46/46 [00:00<00:00, 213.30it/s]\n"
     ]
    },
    {
     "name": "stdout",
     "output_type": "stream",
     "text": [
      "Epoch: 643 | Training Loss: 0.00013573246468322162  | Validation Loss: 4.659483837044758  | Accuracy: 58.14\n"
     ]
    },
    {
     "name": "stderr",
     "output_type": "stream",
     "text": [
      "156it [00:02, 54.77it/s]\n",
      "100%|█████████████████████████████████████████████████████████| 46/46 [00:00<00:00, 211.45it/s]\n"
     ]
    },
    {
     "name": "stdout",
     "output_type": "stream",
     "text": [
      "Epoch: 644 | Training Loss: 0.00012621572861275918  | Validation Loss: 4.525057554244995  | Accuracy: 58.61\n"
     ]
    },
    {
     "name": "stderr",
     "output_type": "stream",
     "text": [
      "156it [00:02, 55.06it/s]\n",
      "100%|█████████████████████████████████████████████████████████| 46/46 [00:00<00:00, 212.01it/s]\n"
     ]
    },
    {
     "name": "stdout",
     "output_type": "stream",
     "text": [
      "Epoch: 645 | Training Loss: 0.00011732474717973673  | Validation Loss: 4.572649986847587  | Accuracy: 58.68\n"
     ]
    },
    {
     "name": "stderr",
     "output_type": "stream",
     "text": [
      "156it [00:02, 55.05it/s]\n",
      "100%|█████████████████████████████████████████████████████████| 46/46 [00:00<00:00, 213.66it/s]\n"
     ]
    },
    {
     "name": "stdout",
     "output_type": "stream",
     "text": [
      "Epoch: 646 | Training Loss: 0.00010046291394689596  | Validation Loss: 4.617778130199598  | Accuracy: 58.78\n"
     ]
    },
    {
     "name": "stderr",
     "output_type": "stream",
     "text": [
      "156it [00:02, 54.69it/s]\n",
      "100%|█████████████████████████████████████████████████████████| 46/46 [00:00<00:00, 213.36it/s]\n"
     ]
    },
    {
     "name": "stdout",
     "output_type": "stream",
     "text": [
      "Epoch: 647 | Training Loss: 9.913407819066122e-05  | Validation Loss: 4.657938179762467  | Accuracy: 58.53\n"
     ]
    },
    {
     "name": "stderr",
     "output_type": "stream",
     "text": [
      "156it [00:02, 53.87it/s]\n",
      "100%|█████████████████████████████████████████████████████████| 46/46 [00:00<00:00, 214.15it/s]\n"
     ]
    },
    {
     "name": "stdout",
     "output_type": "stream",
     "text": [
      "Epoch: 648 | Training Loss: 0.00012886591831573195  | Validation Loss: 4.641160042389579  | Accuracy: 58.59\n"
     ]
    },
    {
     "name": "stderr",
     "output_type": "stream",
     "text": [
      "156it [00:02, 53.84it/s]\n",
      "100%|█████████████████████████████████████████████████████████| 46/46 [00:00<00:00, 211.82it/s]\n"
     ]
    },
    {
     "name": "stdout",
     "output_type": "stream",
     "text": [
      "Epoch: 649 | Training Loss: 0.000199376598892251  | Validation Loss: 4.4599004672921225  | Accuracy: 58.75\n"
     ]
    },
    {
     "name": "stderr",
     "output_type": "stream",
     "text": [
      "156it [00:02, 53.77it/s]\n",
      "100%|█████████████████████████████████████████████████████████| 46/46 [00:00<00:00, 210.48it/s]\n"
     ]
    },
    {
     "name": "stdout",
     "output_type": "stream",
     "text": [
      "Epoch: 650 | Training Loss: 0.0001486817439498713  | Validation Loss: 4.61266407240992  | Accuracy: 58.61\n"
     ]
    },
    {
     "name": "stderr",
     "output_type": "stream",
     "text": [
      "156it [00:02, 53.93it/s]\n",
      "100%|█████████████████████████████████████████████████████████| 46/46 [00:00<00:00, 212.34it/s]\n"
     ]
    },
    {
     "name": "stdout",
     "output_type": "stream",
     "text": [
      "Epoch: 651 | Training Loss: 0.00012074820554703481  | Validation Loss: 4.5185917926871255  | Accuracy: 58.87\n"
     ]
    },
    {
     "name": "stderr",
     "output_type": "stream",
     "text": [
      "156it [00:02, 53.75it/s]\n",
      "100%|█████████████████████████████████████████████████████████| 46/46 [00:00<00:00, 218.29it/s]\n"
     ]
    },
    {
     "name": "stdout",
     "output_type": "stream",
     "text": [
      "Epoch: 652 | Training Loss: 7.43007613740095e-05  | Validation Loss: 4.586410133734994  | Accuracy: 58.83\n"
     ]
    },
    {
     "name": "stderr",
     "output_type": "stream",
     "text": [
      "156it [00:02, 54.68it/s]\n",
      "100%|█████████████████████████████████████████████████████████| 46/46 [00:00<00:00, 220.34it/s]\n"
     ]
    },
    {
     "name": "stdout",
     "output_type": "stream",
     "text": [
      "Epoch: 653 | Training Loss: 5.7195839347584224e-05  | Validation Loss: 4.612399427787118  | Accuracy: 58.76\n"
     ]
    },
    {
     "name": "stderr",
     "output_type": "stream",
     "text": [
      "156it [00:02, 54.77it/s]\n",
      "100%|█████████████████████████████████████████████████████████| 46/46 [00:00<00:00, 218.12it/s]\n"
     ]
    },
    {
     "name": "stdout",
     "output_type": "stream",
     "text": [
      "Epoch: 654 | Training Loss: 0.0010037514975978505  | Validation Loss: 4.598976415136586  | Accuracy: 58.46\n"
     ]
    },
    {
     "name": "stderr",
     "output_type": "stream",
     "text": [
      "156it [00:02, 54.70it/s]\n",
      "100%|█████████████████████████████████████████████████████████| 46/46 [00:00<00:00, 219.01it/s]\n"
     ]
    },
    {
     "name": "stdout",
     "output_type": "stream",
     "text": [
      "Epoch: 655 | Training Loss: 0.0001761612000027759  | Validation Loss: 4.495020949322244  | Accuracy: 58.80\n"
     ]
    },
    {
     "name": "stderr",
     "output_type": "stream",
     "text": [
      "156it [00:02, 54.68it/s]\n",
      "100%|█████████████████████████████████████████████████████████| 46/46 [00:00<00:00, 210.70it/s]\n"
     ]
    },
    {
     "name": "stdout",
     "output_type": "stream",
     "text": [
      "Epoch: 656 | Training Loss: 0.00011817679104845015  | Validation Loss: 4.607968211174011  | Accuracy: 58.54\n"
     ]
    },
    {
     "name": "stderr",
     "output_type": "stream",
     "text": [
      "156it [00:02, 53.67it/s]\n",
      "100%|█████████████████████████████████████████████████████████| 46/46 [00:00<00:00, 210.07it/s]\n"
     ]
    },
    {
     "name": "stdout",
     "output_type": "stream",
     "text": [
      "Epoch: 657 | Training Loss: 0.00013977955853323903  | Validation Loss: 4.544991664264513  | Accuracy: 58.44\n"
     ]
    },
    {
     "name": "stderr",
     "output_type": "stream",
     "text": [
      "156it [00:02, 53.91it/s]\n",
      "100%|█████████████████████████████████████████████████████████| 46/46 [00:00<00:00, 213.20it/s]\n"
     ]
    },
    {
     "name": "stdout",
     "output_type": "stream",
     "text": [
      "Epoch: 658 | Training Loss: 5.913331034580785e-05  | Validation Loss: 4.625384045683819  | Accuracy: 58.47\n"
     ]
    },
    {
     "name": "stderr",
     "output_type": "stream",
     "text": [
      "156it [00:02, 54.99it/s]\n",
      "100%|█████████████████████████████████████████████████████████| 46/46 [00:00<00:00, 213.57it/s]\n"
     ]
    },
    {
     "name": "stdout",
     "output_type": "stream",
     "text": [
      "Epoch: 659 | Training Loss: 3.837427544357734e-05  | Validation Loss: 4.61786905578945  | Accuracy: 58.63\n"
     ]
    },
    {
     "name": "stderr",
     "output_type": "stream",
     "text": [
      "156it [00:02, 54.94it/s]\n",
      "100%|█████████████████████████████████████████████████████████| 46/46 [00:00<00:00, 215.09it/s]\n"
     ]
    },
    {
     "name": "stdout",
     "output_type": "stream",
     "text": [
      "Epoch: 660 | Training Loss: 0.00012294851640385436  | Validation Loss: 4.502277892568837  | Accuracy: 58.80\n"
     ]
    },
    {
     "name": "stderr",
     "output_type": "stream",
     "text": [
      "156it [00:02, 54.92it/s]\n",
      "100%|█████████████████████████████████████████████████████████| 46/46 [00:00<00:00, 208.78it/s]\n"
     ]
    },
    {
     "name": "stdout",
     "output_type": "stream",
     "text": [
      "Epoch: 661 | Training Loss: 0.00011655619775224179  | Validation Loss: 4.662722224774568  | Accuracy: 58.90\n"
     ]
    },
    {
     "name": "stderr",
     "output_type": "stream",
     "text": [
      "156it [00:02, 54.88it/s]\n",
      "100%|█████████████████████████████████████████████████████████| 46/46 [00:00<00:00, 211.47it/s]\n"
     ]
    },
    {
     "name": "stdout",
     "output_type": "stream",
     "text": [
      "Epoch: 662 | Training Loss: 0.00010694265347119187  | Validation Loss: 4.595430482988772  | Accuracy: 58.93\n"
     ]
    },
    {
     "name": "stderr",
     "output_type": "stream",
     "text": [
      "156it [00:02, 54.90it/s]\n",
      "100%|█████████████████████████████████████████████████████████| 46/46 [00:00<00:00, 212.17it/s]\n"
     ]
    },
    {
     "name": "stdout",
     "output_type": "stream",
     "text": [
      "Epoch: 663 | Training Loss: 9.120449026457395e-05  | Validation Loss: 4.492190179617508  | Accuracy: 59.00\n"
     ]
    },
    {
     "name": "stderr",
     "output_type": "stream",
     "text": [
      "156it [00:02, 55.17it/s]\n",
      "100%|█████████████████████████████████████████████████████████| 46/46 [00:00<00:00, 212.18it/s]\n"
     ]
    },
    {
     "name": "stdout",
     "output_type": "stream",
     "text": [
      "Epoch: 664 | Training Loss: 5.526919488392405e-05  | Validation Loss: 4.632098876911661  | Accuracy: 58.78\n"
     ]
    },
    {
     "name": "stderr",
     "output_type": "stream",
     "text": [
      "156it [00:02, 54.90it/s]\n",
      "100%|█████████████████████████████████████████████████████████| 46/46 [00:00<00:00, 212.27it/s]\n"
     ]
    },
    {
     "name": "stdout",
     "output_type": "stream",
     "text": [
      "Epoch: 665 | Training Loss: 6.743104973466894e-05  | Validation Loss: 4.5087709478710005  | Accuracy: 58.98\n"
     ]
    },
    {
     "name": "stderr",
     "output_type": "stream",
     "text": [
      "156it [00:02, 55.16it/s]\n",
      "100%|█████████████████████████████████████████████████████████| 46/46 [00:00<00:00, 208.76it/s]\n"
     ]
    },
    {
     "name": "stdout",
     "output_type": "stream",
     "text": [
      "Epoch: 666 | Training Loss: 0.0002713390826311997  | Validation Loss: 4.54304419911426  | Accuracy: 58.66\n"
     ]
    },
    {
     "name": "stderr",
     "output_type": "stream",
     "text": [
      "156it [00:02, 55.89it/s]\n",
      "100%|█████████████████████████████████████████████████████████| 46/46 [00:00<00:00, 213.25it/s]\n"
     ]
    },
    {
     "name": "stdout",
     "output_type": "stream",
     "text": [
      "Epoch: 667 | Training Loss: 8.76690460828309e-05  | Validation Loss: 4.672188033228335  | Accuracy: 58.32\n"
     ]
    },
    {
     "name": "stderr",
     "output_type": "stream",
     "text": [
      "156it [00:02, 55.07it/s]\n",
      "100%|█████████████████████████████████████████████████████████| 46/46 [00:00<00:00, 214.00it/s]\n"
     ]
    },
    {
     "name": "stdout",
     "output_type": "stream",
     "text": [
      "Epoch: 668 | Training Loss: 5.239563462311754e-05  | Validation Loss: 4.576432746389638  | Accuracy: 58.51\n"
     ]
    },
    {
     "name": "stderr",
     "output_type": "stream",
     "text": [
      "156it [00:02, 55.02it/s]\n",
      "100%|█████████████████████████████████████████████████████████| 46/46 [00:00<00:00, 213.54it/s]\n"
     ]
    },
    {
     "name": "stdout",
     "output_type": "stream",
     "text": [
      "Epoch: 669 | Training Loss: 5.7578999233625764e-05  | Validation Loss: 4.6604006134945415  | Accuracy: 58.73\n"
     ]
    },
    {
     "name": "stderr",
     "output_type": "stream",
     "text": [
      "156it [00:02, 55.10it/s]\n",
      "100%|█████████████████████████████████████████████████████████| 46/46 [00:00<00:00, 213.81it/s]\n"
     ]
    },
    {
     "name": "stdout",
     "output_type": "stream",
     "text": [
      "Epoch: 670 | Training Loss: 6.630020049541576e-05  | Validation Loss: 4.614355045816173  | Accuracy: 58.71\n"
     ]
    },
    {
     "name": "stderr",
     "output_type": "stream",
     "text": [
      "156it [00:02, 55.06it/s]\n",
      "100%|█████████████████████████████████████████████████████████| 46/46 [00:00<00:00, 213.59it/s]\n"
     ]
    },
    {
     "name": "stdout",
     "output_type": "stream",
     "text": [
      "Epoch: 671 | Training Loss: 2.9654438490886092e-05  | Validation Loss: 4.6572142632111255  | Accuracy: 58.76\n"
     ]
    },
    {
     "name": "stderr",
     "output_type": "stream",
     "text": [
      "156it [00:02, 55.05it/s]\n",
      "100%|█████████████████████████████████████████████████████████| 46/46 [00:00<00:00, 215.79it/s]\n"
     ]
    },
    {
     "name": "stdout",
     "output_type": "stream",
     "text": [
      "Epoch: 672 | Training Loss: 5.041151577573216e-05  | Validation Loss: 4.748752200085184  | Accuracy: 58.56\n"
     ]
    },
    {
     "name": "stderr",
     "output_type": "stream",
     "text": [
      "156it [00:02, 54.96it/s]\n",
      "100%|█████████████████████████████████████████████████████████| 46/46 [00:00<00:00, 212.13it/s]\n"
     ]
    },
    {
     "name": "stdout",
     "output_type": "stream",
     "text": [
      "Epoch: 673 | Training Loss: 3.825303264630538e-05  | Validation Loss: 4.647020993025406  | Accuracy: 58.71\n"
     ]
    },
    {
     "name": "stderr",
     "output_type": "stream",
     "text": [
      "156it [00:02, 54.97it/s]\n",
      "100%|█████████████████████████████████████████████████████████| 46/46 [00:00<00:00, 212.04it/s]\n"
     ]
    },
    {
     "name": "stdout",
     "output_type": "stream",
     "text": [
      "Epoch: 674 | Training Loss: 9.555355272939964e-05  | Validation Loss: 4.610769634661467  | Accuracy: 58.80\n"
     ]
    },
    {
     "name": "stderr",
     "output_type": "stream",
     "text": [
      "156it [00:02, 54.99it/s]\n",
      "100%|█████████████████████████████████████████████████████████| 46/46 [00:00<00:00, 213.37it/s]\n"
     ]
    },
    {
     "name": "stdout",
     "output_type": "stream",
     "text": [
      "Epoch: 675 | Training Loss: 9.15751844559054e-05  | Validation Loss: 4.706009413885034  | Accuracy: 58.93\n"
     ]
    },
    {
     "name": "stderr",
     "output_type": "stream",
     "text": [
      "156it [00:02, 54.95it/s]\n",
      "100%|█████████████████████████████████████████████████████████| 46/46 [00:00<00:00, 211.78it/s]\n"
     ]
    },
    {
     "name": "stdout",
     "output_type": "stream",
     "text": [
      "Epoch: 676 | Training Loss: 5.915705258839574e-05  | Validation Loss: 4.632061434828716  | Accuracy: 58.92\n"
     ]
    },
    {
     "name": "stderr",
     "output_type": "stream",
     "text": [
      "156it [00:02, 56.10it/s]\n",
      "100%|█████████████████████████████████████████████████████████| 46/46 [00:00<00:00, 221.13it/s]\n"
     ]
    },
    {
     "name": "stdout",
     "output_type": "stream",
     "text": [
      "Epoch: 677 | Training Loss: 9.60169805309236e-05  | Validation Loss: 4.587296807247659  | Accuracy: 58.88\n"
     ]
    },
    {
     "name": "stderr",
     "output_type": "stream",
     "text": [
      "156it [00:02, 56.03it/s]\n",
      "100%|█████████████████████████████████████████████████████████| 46/46 [00:00<00:00, 218.50it/s]\n"
     ]
    },
    {
     "name": "stdout",
     "output_type": "stream",
     "text": [
      "Epoch: 678 | Training Loss: 9.196614267600521e-05  | Validation Loss: 4.64623701054117  | Accuracy: 58.90\n"
     ]
    },
    {
     "name": "stderr",
     "output_type": "stream",
     "text": [
      "156it [00:02, 55.83it/s]\n",
      "100%|█████████████████████████████████████████████████████████| 46/46 [00:00<00:00, 205.00it/s]\n"
     ]
    },
    {
     "name": "stdout",
     "output_type": "stream",
     "text": [
      "Epoch: 679 | Training Loss: 0.0003037460870380015  | Validation Loss: 4.674571467482525  | Accuracy: 58.68\n"
     ]
    },
    {
     "name": "stderr",
     "output_type": "stream",
     "text": [
      "156it [00:02, 55.01it/s]\n",
      "100%|█████████████████████████████████████████████████████████| 46/46 [00:00<00:00, 207.83it/s]\n"
     ]
    },
    {
     "name": "stdout",
     "output_type": "stream",
     "text": [
      "Epoch: 680 | Training Loss: 6.93454272311264e-05  | Validation Loss: 4.55087383415388  | Accuracy: 59.04\n"
     ]
    },
    {
     "name": "stderr",
     "output_type": "stream",
     "text": [
      "156it [00:02, 55.67it/s]\n",
      "100%|█████████████████████████████████████████████████████████| 46/46 [00:00<00:00, 216.38it/s]\n"
     ]
    },
    {
     "name": "stdout",
     "output_type": "stream",
     "text": [
      "Epoch: 681 | Training Loss: 0.00012922611737837706  | Validation Loss: 4.510875852211662  | Accuracy: 58.58\n"
     ]
    },
    {
     "name": "stderr",
     "output_type": "stream",
     "text": [
      "156it [00:02, 55.57it/s]\n",
      "100%|█████████████████████████████████████████████████████████| 46/46 [00:00<00:00, 215.16it/s]\n"
     ]
    },
    {
     "name": "stdout",
     "output_type": "stream",
     "text": [
      "Epoch: 682 | Training Loss: 0.0001160593729816985  | Validation Loss: 4.72908950370291  | Accuracy: 58.56\n"
     ]
    },
    {
     "name": "stderr",
     "output_type": "stream",
     "text": [
      "156it [00:02, 55.57it/s]\n",
      "100%|█████████████████████████████████████████████████████████| 46/46 [00:00<00:00, 218.10it/s]\n"
     ]
    },
    {
     "name": "stdout",
     "output_type": "stream",
     "text": [
      "Epoch: 683 | Training Loss: 0.00017447279718651724  | Validation Loss: 4.665478509405385  | Accuracy: 58.80\n"
     ]
    },
    {
     "name": "stderr",
     "output_type": "stream",
     "text": [
      "156it [00:02, 55.63it/s]\n",
      "100%|█████████████████████████████████████████████████████████| 46/46 [00:00<00:00, 213.43it/s]\n"
     ]
    },
    {
     "name": "stdout",
     "output_type": "stream",
     "text": [
      "Epoch: 684 | Training Loss: 8.329106737957586e-05  | Validation Loss: 4.663715067117111  | Accuracy: 58.34\n"
     ]
    },
    {
     "name": "stderr",
     "output_type": "stream",
     "text": [
      "156it [00:02, 55.69it/s]\n",
      "100%|█████████████████████████████████████████████████████████| 46/46 [00:00<00:00, 215.88it/s]\n"
     ]
    },
    {
     "name": "stdout",
     "output_type": "stream",
     "text": [
      "Epoch: 685 | Training Loss: 4.442192194941387e-05  | Validation Loss: 4.671761320984882  | Accuracy: 58.49\n"
     ]
    },
    {
     "name": "stderr",
     "output_type": "stream",
     "text": [
      "156it [00:02, 55.75it/s]\n",
      "100%|█████████████████████████████████████████████████████████| 46/46 [00:00<00:00, 216.49it/s]\n"
     ]
    },
    {
     "name": "stdout",
     "output_type": "stream",
     "text": [
      "Epoch: 686 | Training Loss: 5.7183246495603664e-05  | Validation Loss: 4.670647958050603  | Accuracy: 58.49\n"
     ]
    },
    {
     "name": "stderr",
     "output_type": "stream",
     "text": [
      "156it [00:02, 55.70it/s]\n",
      "100%|█████████████████████████████████████████████████████████| 46/46 [00:00<00:00, 216.67it/s]\n"
     ]
    },
    {
     "name": "stdout",
     "output_type": "stream",
     "text": [
      "Epoch: 687 | Training Loss: 5.043430533136509e-05  | Validation Loss: 4.732293211895486  | Accuracy: 58.90\n"
     ]
    },
    {
     "name": "stderr",
     "output_type": "stream",
     "text": [
      "156it [00:02, 55.70it/s]\n",
      "100%|█████████████████████████████████████████████████████████| 46/46 [00:00<00:00, 215.49it/s]\n"
     ]
    },
    {
     "name": "stdout",
     "output_type": "stream",
     "text": [
      "Epoch: 688 | Training Loss: 5.340398925641355e-05  | Validation Loss: 4.5809321351673296  | Accuracy: 58.97\n"
     ]
    },
    {
     "name": "stderr",
     "output_type": "stream",
     "text": [
      "156it [00:02, 55.72it/s]\n",
      "100%|█████████████████████████████████████████████████████████| 46/46 [00:00<00:00, 216.04it/s]\n"
     ]
    },
    {
     "name": "stdout",
     "output_type": "stream",
     "text": [
      "Epoch: 689 | Training Loss: 0.00018450658771412118  | Validation Loss: 4.6606532387111494  | Accuracy: 58.76\n"
     ]
    },
    {
     "name": "stderr",
     "output_type": "stream",
     "text": [
      "156it [00:02, 54.05it/s]\n",
      "100%|█████████████████████████████████████████████████████████| 46/46 [00:00<00:00, 201.81it/s]\n"
     ]
    },
    {
     "name": "stdout",
     "output_type": "stream",
     "text": [
      "Epoch: 690 | Training Loss: 0.00042427749631839944  | Validation Loss: 4.630564772564432  | Accuracy: 58.76\n"
     ]
    },
    {
     "name": "stderr",
     "output_type": "stream",
     "text": [
      "156it [00:02, 54.25it/s]\n",
      "100%|█████████████████████████████████████████████████████████| 46/46 [00:00<00:00, 212.52it/s]\n"
     ]
    },
    {
     "name": "stdout",
     "output_type": "stream",
     "text": [
      "Epoch: 691 | Training Loss: 0.00032838303115731367  | Validation Loss: 4.683759777442269  | Accuracy: 58.78\n"
     ]
    },
    {
     "name": "stderr",
     "output_type": "stream",
     "text": [
      "156it [00:02, 54.90it/s]\n",
      "100%|█████████████████████████████████████████████████████████| 46/46 [00:00<00:00, 212.75it/s]\n"
     ]
    },
    {
     "name": "stdout",
     "output_type": "stream",
     "text": [
      "Epoch: 692 | Training Loss: 0.00010056393855743059  | Validation Loss: 4.7111300230026245  | Accuracy: 58.73\n"
     ]
    },
    {
     "name": "stderr",
     "output_type": "stream",
     "text": [
      "156it [00:02, 54.81it/s]\n",
      "100%|█████████████████████████████████████████████████████████| 46/46 [00:00<00:00, 213.64it/s]\n"
     ]
    },
    {
     "name": "stdout",
     "output_type": "stream",
     "text": [
      "Epoch: 693 | Training Loss: 0.00010792734733455197  | Validation Loss: 4.5940276591674145  | Accuracy: 58.70\n"
     ]
    },
    {
     "name": "stderr",
     "output_type": "stream",
     "text": [
      "156it [00:02, 54.33it/s]\n",
      "100%|█████████████████████████████████████████████████████████| 46/46 [00:00<00:00, 212.72it/s]\n"
     ]
    },
    {
     "name": "stdout",
     "output_type": "stream",
     "text": [
      "Epoch: 694 | Training Loss: 0.000308509269017029  | Validation Loss: 4.491208563680234  | Accuracy: 58.70\n"
     ]
    },
    {
     "name": "stderr",
     "output_type": "stream",
     "text": [
      "156it [00:02, 54.91it/s]\n",
      "100%|█████████████████████████████████████████████████████████| 46/46 [00:00<00:00, 212.44it/s]\n"
     ]
    },
    {
     "name": "stdout",
     "output_type": "stream",
     "text": [
      "Epoch: 695 | Training Loss: 0.0008974773782932597  | Validation Loss: 4.531796388004137  | Accuracy: 58.41\n"
     ]
    },
    {
     "name": "stderr",
     "output_type": "stream",
     "text": [
      "156it [00:02, 55.22it/s]\n",
      "100%|█████████████████████████████████████████████████████████| 46/46 [00:00<00:00, 213.53it/s]\n"
     ]
    },
    {
     "name": "stdout",
     "output_type": "stream",
     "text": [
      "Epoch: 696 | Training Loss: 0.0002552415028742708  | Validation Loss: 4.657525850378948  | Accuracy: 58.02\n"
     ]
    },
    {
     "name": "stderr",
     "output_type": "stream",
     "text": [
      "156it [00:02, 55.06it/s]\n",
      "100%|█████████████████████████████████████████████████████████| 46/46 [00:00<00:00, 212.20it/s]\n"
     ]
    },
    {
     "name": "stdout",
     "output_type": "stream",
     "text": [
      "Epoch: 697 | Training Loss: 9.559860373323878e-05  | Validation Loss: 4.746895738269972  | Accuracy: 58.29\n"
     ]
    },
    {
     "name": "stderr",
     "output_type": "stream",
     "text": [
      "156it [00:02, 54.93it/s]\n",
      "100%|█████████████████████████████████████████████████████████| 46/46 [00:00<00:00, 212.54it/s]\n"
     ]
    },
    {
     "name": "stdout",
     "output_type": "stream",
     "text": [
      "Epoch: 698 | Training Loss: 5.093545712789376e-05  | Validation Loss: 4.765044481857963  | Accuracy: 58.12\n"
     ]
    },
    {
     "name": "stderr",
     "output_type": "stream",
     "text": [
      "156it [00:02, 54.95it/s]\n",
      "100%|█████████████████████████████████████████████████████████| 46/46 [00:00<00:00, 212.67it/s]\n"
     ]
    },
    {
     "name": "stdout",
     "output_type": "stream",
     "text": [
      "Epoch: 699 | Training Loss: 0.00013412696433207227  | Validation Loss: 4.593672306641288  | Accuracy: 58.80\n"
     ]
    },
    {
     "name": "stderr",
     "output_type": "stream",
     "text": [
      "156it [00:02, 55.04it/s]\n",
      "100%|█████████████████████████████████████████████████████████| 46/46 [00:00<00:00, 210.57it/s]\n"
     ]
    },
    {
     "name": "stdout",
     "output_type": "stream",
     "text": [
      "Epoch: 700 | Training Loss: 7.815744646677558e-05  | Validation Loss: 4.575549768364948  | Accuracy: 58.80\n"
     ]
    },
    {
     "name": "stderr",
     "output_type": "stream",
     "text": [
      "156it [00:02, 55.98it/s]\n",
      "100%|█████████████████████████████████████████████████████████| 46/46 [00:00<00:00, 212.30it/s]\n"
     ]
    },
    {
     "name": "stdout",
     "output_type": "stream",
     "text": [
      "Epoch: 701 | Training Loss: 5.030496553596701e-05  | Validation Loss: 4.612461012342702  | Accuracy: 58.78\n"
     ]
    },
    {
     "name": "stderr",
     "output_type": "stream",
     "text": [
      "156it [00:02, 54.99it/s]\n",
      "100%|█████████████████████████████████████████████████████████| 46/46 [00:00<00:00, 211.75it/s]\n"
     ]
    },
    {
     "name": "stdout",
     "output_type": "stream",
     "text": [
      "Epoch: 702 | Training Loss: 4.89688762854712e-05  | Validation Loss: 4.705998498460521  | Accuracy: 58.70\n"
     ]
    },
    {
     "name": "stderr",
     "output_type": "stream",
     "text": [
      "156it [00:02, 53.91it/s]\n",
      "100%|█████████████████████████████████████████████████████████| 46/46 [00:00<00:00, 210.07it/s]\n"
     ]
    },
    {
     "name": "stdout",
     "output_type": "stream",
     "text": [
      "Epoch: 703 | Training Loss: 4.40721146916099e-05  | Validation Loss: 4.649027668911478  | Accuracy: 58.78\n"
     ]
    },
    {
     "name": "stderr",
     "output_type": "stream",
     "text": [
      "156it [00:02, 53.94it/s]\n",
      "100%|█████████████████████████████████████████████████████████| 46/46 [00:00<00:00, 212.26it/s]\n"
     ]
    },
    {
     "name": "stdout",
     "output_type": "stream",
     "text": [
      "Epoch: 704 | Training Loss: 3.811152766548987e-05  | Validation Loss: 4.699250076128089  | Accuracy: 58.76\n"
     ]
    },
    {
     "name": "stderr",
     "output_type": "stream",
     "text": [
      "156it [00:02, 53.92it/s]\n",
      "100%|█████████████████████████████████████████████████████████| 46/46 [00:00<00:00, 213.67it/s]\n"
     ]
    },
    {
     "name": "stdout",
     "output_type": "stream",
     "text": [
      "Epoch: 705 | Training Loss: 5.66722689176785e-05  | Validation Loss: 4.654224701549696  | Accuracy: 58.87\n"
     ]
    },
    {
     "name": "stderr",
     "output_type": "stream",
     "text": [
      "156it [00:02, 54.48it/s]\n",
      "100%|█████████████████████████████████████████████████████████| 46/46 [00:00<00:00, 213.84it/s]\n"
     ]
    },
    {
     "name": "stdout",
     "output_type": "stream",
     "text": [
      "Epoch: 706 | Training Loss: 4.099688745694808e-05  | Validation Loss: 4.626758803492007  | Accuracy: 58.75\n"
     ]
    },
    {
     "name": "stderr",
     "output_type": "stream",
     "text": [
      "156it [00:02, 55.16it/s]\n",
      "100%|█████████████████████████████████████████████████████████| 46/46 [00:00<00:00, 211.95it/s]\n"
     ]
    },
    {
     "name": "stdout",
     "output_type": "stream",
     "text": [
      "Epoch: 707 | Training Loss: 5.4442315424752545e-05  | Validation Loss: 4.789871106977048  | Accuracy: 58.47\n"
     ]
    },
    {
     "name": "stderr",
     "output_type": "stream",
     "text": [
      "156it [00:02, 55.35it/s]\n",
      "100%|█████████████████████████████████████████████████████████| 46/46 [00:00<00:00, 210.21it/s]\n"
     ]
    },
    {
     "name": "stdout",
     "output_type": "stream",
     "text": [
      "Epoch: 708 | Training Loss: 5.860258858821255e-05  | Validation Loss: 4.710690534633139  | Accuracy: 58.41\n"
     ]
    },
    {
     "name": "stderr",
     "output_type": "stream",
     "text": [
      "156it [00:02, 55.67it/s]\n",
      "100%|█████████████████████████████████████████████████████████| 46/46 [00:00<00:00, 212.82it/s]\n"
     ]
    },
    {
     "name": "stdout",
     "output_type": "stream",
     "text": [
      "Epoch: 709 | Training Loss: 0.0001082718515328032  | Validation Loss: 4.594462690146073  | Accuracy: 58.59\n"
     ]
    },
    {
     "name": "stderr",
     "output_type": "stream",
     "text": [
      "156it [00:02, 55.31it/s]\n",
      "100%|█████████████████████████████████████████████████████████| 46/46 [00:00<00:00, 211.22it/s]\n"
     ]
    },
    {
     "name": "stdout",
     "output_type": "stream",
     "text": [
      "Epoch: 710 | Training Loss: 0.00010010253578667079  | Validation Loss: 4.66698227757993  | Accuracy: 58.66\n"
     ]
    },
    {
     "name": "stderr",
     "output_type": "stream",
     "text": [
      "156it [00:02, 55.22it/s]\n",
      "100%|█████████████████████████████████████████████████████████| 46/46 [00:00<00:00, 212.16it/s]\n"
     ]
    },
    {
     "name": "stdout",
     "output_type": "stream",
     "text": [
      "Epoch: 711 | Training Loss: 6.418539393484351e-05  | Validation Loss: 4.655128188755201  | Accuracy: 59.02\n"
     ]
    },
    {
     "name": "stderr",
     "output_type": "stream",
     "text": [
      "156it [00:02, 55.00it/s]\n",
      "100%|█████████████████████████████████████████████████████████| 46/46 [00:00<00:00, 211.56it/s]\n"
     ]
    },
    {
     "name": "stdout",
     "output_type": "stream",
     "text": [
      "Epoch: 712 | Training Loss: 3.689102036565974e-05  | Validation Loss: 4.685579517613286  | Accuracy: 58.81\n"
     ]
    },
    {
     "name": "stderr",
     "output_type": "stream",
     "text": [
      "156it [00:02, 55.21it/s]\n",
      "100%|█████████████████████████████████████████████████████████| 46/46 [00:00<00:00, 212.49it/s]\n"
     ]
    },
    {
     "name": "stdout",
     "output_type": "stream",
     "text": [
      "Epoch: 713 | Training Loss: 5.253210924995354e-05  | Validation Loss: 4.66492472005927  | Accuracy: 58.73\n"
     ]
    },
    {
     "name": "stderr",
     "output_type": "stream",
     "text": [
      "156it [00:02, 54.90it/s]\n",
      "100%|█████████████████████████████████████████████████████████| 46/46 [00:00<00:00, 212.48it/s]\n"
     ]
    },
    {
     "name": "stdout",
     "output_type": "stream",
     "text": [
      "Epoch: 714 | Training Loss: 5.6159519425445746e-05  | Validation Loss: 4.678548621094746  | Accuracy: 58.88\n"
     ]
    },
    {
     "name": "stderr",
     "output_type": "stream",
     "text": [
      "156it [00:02, 55.06it/s]\n",
      "100%|█████████████████████████████████████████████████████████| 46/46 [00:00<00:00, 211.69it/s]\n"
     ]
    },
    {
     "name": "stdout",
     "output_type": "stream",
     "text": [
      "Epoch: 715 | Training Loss: 0.00013866009890779635  | Validation Loss: 4.636565032212631  | Accuracy: 58.98\n"
     ]
    },
    {
     "name": "stderr",
     "output_type": "stream",
     "text": [
      "156it [00:02, 55.02it/s]\n",
      "100%|█████████████████████████████████████████████████████████| 46/46 [00:00<00:00, 212.35it/s]\n"
     ]
    },
    {
     "name": "stdout",
     "output_type": "stream",
     "text": [
      "Epoch: 716 | Training Loss: 7.624515038538122e-05  | Validation Loss: 4.747954907624618  | Accuracy: 59.09\n"
     ]
    },
    {
     "name": "stderr",
     "output_type": "stream",
     "text": [
      "156it [00:02, 55.04it/s]\n",
      "100%|█████████████████████████████████████████████████████████| 46/46 [00:00<00:00, 211.42it/s]\n"
     ]
    },
    {
     "name": "stdout",
     "output_type": "stream",
     "text": [
      "Epoch: 717 | Training Loss: 5.8903273801054944e-05  | Validation Loss: 4.748438513797263  | Accuracy: 58.92\n"
     ]
    },
    {
     "name": "stderr",
     "output_type": "stream",
     "text": [
      "156it [00:02, 55.00it/s]\n",
      "100%|█████████████████████████████████████████████████████████| 46/46 [00:00<00:00, 212.55it/s]\n"
     ]
    },
    {
     "name": "stdout",
     "output_type": "stream",
     "text": [
      "Epoch: 718 | Training Loss: 9.586396575473489e-05  | Validation Loss: 4.648870944976807  | Accuracy: 58.76\n"
     ]
    },
    {
     "name": "stderr",
     "output_type": "stream",
     "text": [
      "156it [00:02, 55.04it/s]\n",
      "100%|█████████████████████████████████████████████████████████| 46/46 [00:00<00:00, 212.27it/s]\n"
     ]
    },
    {
     "name": "stdout",
     "output_type": "stream",
     "text": [
      "Epoch: 719 | Training Loss: 8.189942790674347e-05  | Validation Loss: 4.590139414953149  | Accuracy: 59.05\n"
     ]
    },
    {
     "name": "stderr",
     "output_type": "stream",
     "text": [
      "156it [00:02, 54.92it/s]\n",
      "100%|█████████████████████████████████████████████████████████| 46/46 [00:00<00:00, 210.53it/s]\n"
     ]
    },
    {
     "name": "stdout",
     "output_type": "stream",
     "text": [
      "Epoch: 720 | Training Loss: 4.6323037541020684e-05  | Validation Loss: 4.621584275494451  | Accuracy: 58.88\n"
     ]
    },
    {
     "name": "stderr",
     "output_type": "stream",
     "text": [
      "156it [00:02, 55.22it/s]\n",
      "100%|█████████████████████████████████████████████████████████| 46/46 [00:00<00:00, 212.35it/s]\n"
     ]
    },
    {
     "name": "stdout",
     "output_type": "stream",
     "text": [
      "Epoch: 721 | Training Loss: 3.731097282501977e-05  | Validation Loss: 4.7776549380758535  | Accuracy: 58.68\n"
     ]
    },
    {
     "name": "stderr",
     "output_type": "stream",
     "text": [
      "156it [00:02, 55.11it/s]\n",
      "100%|█████████████████████████████████████████████████████████| 46/46 [00:00<00:00, 207.57it/s]\n"
     ]
    },
    {
     "name": "stdout",
     "output_type": "stream",
     "text": [
      "Epoch: 722 | Training Loss: 3.8488863558482895e-05  | Validation Loss: 4.775490309881127  | Accuracy: 58.93\n"
     ]
    },
    {
     "name": "stderr",
     "output_type": "stream",
     "text": [
      "156it [00:02, 55.19it/s]\n",
      "100%|█████████████████████████████████████████████████████████| 46/46 [00:00<00:00, 211.15it/s]\n"
     ]
    },
    {
     "name": "stdout",
     "output_type": "stream",
     "text": [
      "Epoch: 723 | Training Loss: 3.486644438966416e-05  | Validation Loss: 4.678663595863011  | Accuracy: 58.98\n"
     ]
    },
    {
     "name": "stderr",
     "output_type": "stream",
     "text": [
      "156it [00:02, 53.83it/s]\n",
      "100%|█████████████████████████████████████████████████████████| 46/46 [00:00<00:00, 212.32it/s]\n"
     ]
    },
    {
     "name": "stdout",
     "output_type": "stream",
     "text": [
      "Epoch: 724 | Training Loss: 3.56365437302231e-05  | Validation Loss: 4.832144628400388  | Accuracy: 58.73\n"
     ]
    },
    {
     "name": "stderr",
     "output_type": "stream",
     "text": [
      "156it [00:02, 53.82it/s]\n",
      "100%|█████████████████████████████████████████████████████████| 46/46 [00:00<00:00, 213.63it/s]\n"
     ]
    },
    {
     "name": "stdout",
     "output_type": "stream",
     "text": [
      "Epoch: 725 | Training Loss: 4.693336105295506e-05  | Validation Loss: 4.583682713301285  | Accuracy: 59.09\n"
     ]
    },
    {
     "name": "stderr",
     "output_type": "stream",
     "text": [
      "156it [00:02, 53.80it/s]\n",
      "100%|█████████████████████████████████████████████████████████| 46/46 [00:00<00:00, 211.97it/s]\n"
     ]
    },
    {
     "name": "stdout",
     "output_type": "stream",
     "text": [
      "Epoch: 726 | Training Loss: 7.053682085347062e-05  | Validation Loss: 4.5606396457423335  | Accuracy: 58.90\n"
     ]
    },
    {
     "name": "stderr",
     "output_type": "stream",
     "text": [
      "156it [00:02, 53.79it/s]\n",
      "100%|█████████████████████████████████████████████████████████| 46/46 [00:00<00:00, 214.18it/s]\n"
     ]
    },
    {
     "name": "stdout",
     "output_type": "stream",
     "text": [
      "Epoch: 727 | Training Loss: 0.0005825865136720937  | Validation Loss: 4.794423253639884  | Accuracy: 58.51\n"
     ]
    },
    {
     "name": "stderr",
     "output_type": "stream",
     "text": [
      "156it [00:02, 53.86it/s]\n",
      "100%|█████████████████████████████████████████████████████████| 46/46 [00:00<00:00, 213.10it/s]\n"
     ]
    },
    {
     "name": "stdout",
     "output_type": "stream",
     "text": [
      "Epoch: 728 | Training Loss: 0.00020882671016445386  | Validation Loss: 4.669154726940652  | Accuracy: 58.54\n"
     ]
    },
    {
     "name": "stderr",
     "output_type": "stream",
     "text": [
      "156it [00:02, 54.37it/s]\n",
      "100%|█████████████████████████████████████████████████████████| 46/46 [00:00<00:00, 212.78it/s]\n"
     ]
    },
    {
     "name": "stdout",
     "output_type": "stream",
     "text": [
      "Epoch: 729 | Training Loss: 7.649142529048848e-05  | Validation Loss: 4.589858708174332  | Accuracy: 58.76\n"
     ]
    },
    {
     "name": "stderr",
     "output_type": "stream",
     "text": [
      "156it [00:02, 54.79it/s]\n",
      "100%|█████████████████████████████████████████████████████████| 46/46 [00:00<00:00, 212.85it/s]\n"
     ]
    },
    {
     "name": "stdout",
     "output_type": "stream",
     "text": [
      "Epoch: 730 | Training Loss: 6.173981375923177e-05  | Validation Loss: 4.673719136611275  | Accuracy: 58.68\n"
     ]
    },
    {
     "name": "stderr",
     "output_type": "stream",
     "text": [
      "156it [00:02, 55.36it/s]\n",
      "100%|█████████████████████████████████████████████████████████| 46/46 [00:00<00:00, 211.55it/s]\n"
     ]
    },
    {
     "name": "stdout",
     "output_type": "stream",
     "text": [
      "Epoch: 731 | Training Loss: 7.153790458384417e-05  | Validation Loss: 4.633242664129837  | Accuracy: 59.15\n"
     ]
    },
    {
     "name": "stderr",
     "output_type": "stream",
     "text": [
      "156it [00:02, 56.35it/s]\n",
      "100%|█████████████████████████████████████████████████████████| 46/46 [00:00<00:00, 218.54it/s]\n"
     ]
    },
    {
     "name": "stdout",
     "output_type": "stream",
     "text": [
      "Epoch: 732 | Training Loss: 7.202091405990638e-05  | Validation Loss: 4.667699689450472  | Accuracy: 58.98\n"
     ]
    },
    {
     "name": "stderr",
     "output_type": "stream",
     "text": [
      "156it [00:02, 56.24it/s]\n",
      "100%|█████████████████████████████████████████████████████████| 46/46 [00:00<00:00, 217.90it/s]\n"
     ]
    },
    {
     "name": "stdout",
     "output_type": "stream",
     "text": [
      "Epoch: 733 | Training Loss: 4.963409162136929e-05  | Validation Loss: 4.645486214886541  | Accuracy: 59.09\n"
     ]
    },
    {
     "name": "stderr",
     "output_type": "stream",
     "text": [
      "156it [00:02, 56.05it/s]\n",
      "100%|█████████████████████████████████████████████████████████| 46/46 [00:00<00:00, 219.77it/s]\n"
     ]
    },
    {
     "name": "stdout",
     "output_type": "stream",
     "text": [
      "Epoch: 734 | Training Loss: 5.04777792626462e-05  | Validation Loss: 4.608506617338761  | Accuracy: 59.15\n"
     ]
    },
    {
     "name": "stderr",
     "output_type": "stream",
     "text": [
      "156it [00:02, 56.08it/s]\n",
      "100%|█████████████████████████████████████████████████████████| 46/46 [00:00<00:00, 217.67it/s]\n"
     ]
    },
    {
     "name": "stdout",
     "output_type": "stream",
     "text": [
      "Epoch: 735 | Training Loss: 4.753227858746192e-05  | Validation Loss: 4.687189672304236  | Accuracy: 59.26\n"
     ]
    },
    {
     "name": "stderr",
     "output_type": "stream",
     "text": [
      "156it [00:02, 56.15it/s]\n",
      "100%|█████████████████████████████████████████████████████████| 46/46 [00:00<00:00, 209.82it/s]\n"
     ]
    },
    {
     "name": "stdout",
     "output_type": "stream",
     "text": [
      "Epoch: 736 | Training Loss: 3.344800260061348e-05  | Validation Loss: 4.562939934108568  | Accuracy: 59.41\n"
     ]
    },
    {
     "name": "stderr",
     "output_type": "stream",
     "text": [
      "156it [00:02, 55.78it/s]\n",
      "100%|█████████████████████████████████████████████████████████| 46/46 [00:00<00:00, 212.07it/s]\n"
     ]
    },
    {
     "name": "stdout",
     "output_type": "stream",
     "text": [
      "Epoch: 737 | Training Loss: 5.1718551917591147e-05  | Validation Loss: 4.647072874981424  | Accuracy: 59.14\n"
     ]
    },
    {
     "name": "stderr",
     "output_type": "stream",
     "text": [
      "156it [00:02, 54.81it/s]\n",
      "100%|█████████████████████████████████████████████████████████| 46/46 [00:00<00:00, 211.21it/s]\n"
     ]
    },
    {
     "name": "stdout",
     "output_type": "stream",
     "text": [
      "Epoch: 738 | Training Loss: 5.2070062329571207e-05  | Validation Loss: 4.702028124228768  | Accuracy: 59.09\n"
     ]
    },
    {
     "name": "stderr",
     "output_type": "stream",
     "text": [
      "156it [00:02, 55.08it/s]\n",
      "100%|█████████████████████████████████████████████████████████| 46/46 [00:00<00:00, 212.20it/s]\n"
     ]
    },
    {
     "name": "stdout",
     "output_type": "stream",
     "text": [
      "Epoch: 739 | Training Loss: 5.68105190355849e-05  | Validation Loss: 4.651934903600941  | Accuracy: 59.26\n"
     ]
    },
    {
     "name": "stderr",
     "output_type": "stream",
     "text": [
      "156it [00:02, 54.80it/s]\n",
      "100%|█████████████████████████████████████████████████████████| 46/46 [00:00<00:00, 210.07it/s]\n"
     ]
    },
    {
     "name": "stdout",
     "output_type": "stream",
     "text": [
      "Epoch: 740 | Training Loss: 5.345854340714887e-05  | Validation Loss: 4.754622692647188  | Accuracy: 58.97\n"
     ]
    },
    {
     "name": "stderr",
     "output_type": "stream",
     "text": [
      "156it [00:02, 54.83it/s]\n",
      "100%|█████████████████████████████████████████████████████████| 46/46 [00:00<00:00, 212.45it/s]\n"
     ]
    },
    {
     "name": "stdout",
     "output_type": "stream",
     "text": [
      "Epoch: 741 | Training Loss: 3.143665902919169e-05  | Validation Loss: 4.731492545293725  | Accuracy: 59.02\n"
     ]
    },
    {
     "name": "stderr",
     "output_type": "stream",
     "text": [
      "156it [00:02, 55.45it/s]\n",
      "100%|█████████████████████████████████████████████████████████| 46/46 [00:00<00:00, 212.05it/s]\n"
     ]
    },
    {
     "name": "stdout",
     "output_type": "stream",
     "text": [
      "Epoch: 742 | Training Loss: 3.296473059249249e-05  | Validation Loss: 4.679280887479368  | Accuracy: 59.05\n"
     ]
    },
    {
     "name": "stderr",
     "output_type": "stream",
     "text": [
      "156it [00:02, 54.78it/s]\n",
      "100%|█████████████████████████████████████████████████████████| 46/46 [00:00<00:00, 213.35it/s]\n"
     ]
    },
    {
     "name": "stdout",
     "output_type": "stream",
     "text": [
      "Epoch: 743 | Training Loss: 2.5281335900637296e-05  | Validation Loss: 4.666308403015137  | Accuracy: 59.00\n"
     ]
    },
    {
     "name": "stderr",
     "output_type": "stream",
     "text": [
      "156it [00:02, 54.81it/s]\n",
      "100%|█████████████████████████████████████████████████████████| 46/46 [00:00<00:00, 210.64it/s]\n"
     ]
    },
    {
     "name": "stdout",
     "output_type": "stream",
     "text": [
      "Epoch: 744 | Training Loss: 0.0001232464566684053  | Validation Loss: 4.611655427061993  | Accuracy: 58.92\n"
     ]
    },
    {
     "name": "stderr",
     "output_type": "stream",
     "text": [
      "156it [00:02, 54.74it/s]\n",
      "100%|█████████████████████████████████████████████████████████| 46/46 [00:00<00:00, 211.74it/s]\n"
     ]
    },
    {
     "name": "stdout",
     "output_type": "stream",
     "text": [
      "Epoch: 745 | Training Loss: 0.00022989208619095827  | Validation Loss: 4.674828736678414  | Accuracy: 59.51\n"
     ]
    },
    {
     "name": "stderr",
     "output_type": "stream",
     "text": [
      "156it [00:02, 54.81it/s]\n",
      "100%|█████████████████████████████████████████████████████████| 46/46 [00:00<00:00, 212.28it/s]\n"
     ]
    },
    {
     "name": "stdout",
     "output_type": "stream",
     "text": [
      "Epoch: 746 | Training Loss: 8.849707131876363e-05  | Validation Loss: 4.594744044801463  | Accuracy: 59.21\n"
     ]
    },
    {
     "name": "stderr",
     "output_type": "stream",
     "text": [
      "156it [00:02, 54.76it/s]\n",
      "100%|█████████████████████████████████████████████████████████| 46/46 [00:00<00:00, 213.74it/s]\n"
     ]
    },
    {
     "name": "stdout",
     "output_type": "stream",
     "text": [
      "Epoch: 747 | Training Loss: 4.7975319148463313e-05  | Validation Loss: 4.541595816612244  | Accuracy: 59.39\n"
     ]
    },
    {
     "name": "stderr",
     "output_type": "stream",
     "text": [
      "156it [00:02, 54.76it/s]\n",
      "100%|█████████████████████████████████████████████████████████| 46/46 [00:00<00:00, 212.45it/s]\n"
     ]
    },
    {
     "name": "stdout",
     "output_type": "stream",
     "text": [
      "Epoch: 748 | Training Loss: 3.1036860555571205e-05  | Validation Loss: 4.644131831500841  | Accuracy: 59.21\n"
     ]
    },
    {
     "name": "stderr",
     "output_type": "stream",
     "text": [
      "156it [00:02, 54.80it/s]\n",
      "100%|█████████████████████████████████████████████████████████| 46/46 [00:00<00:00, 212.36it/s]\n"
     ]
    },
    {
     "name": "stdout",
     "output_type": "stream",
     "text": [
      "Epoch: 749 | Training Loss: 3.7865220849361765e-05  | Validation Loss: 4.727851442668749  | Accuracy: 59.05\n"
     ]
    },
    {
     "name": "stderr",
     "output_type": "stream",
     "text": [
      "156it [00:02, 54.82it/s]\n",
      "100%|█████████████████████████████████████████████████████████| 46/46 [00:00<00:00, 213.17it/s]\n"
     ]
    },
    {
     "name": "stdout",
     "output_type": "stream",
     "text": [
      "Epoch: 750 | Training Loss: 4.457393212165838e-05  | Validation Loss: 4.6972098920656284  | Accuracy: 58.85\n"
     ]
    },
    {
     "name": "stderr",
     "output_type": "stream",
     "text": [
      "156it [00:02, 54.80it/s]\n",
      "100%|█████████████████████████████████████████████████████████| 46/46 [00:00<00:00, 211.17it/s]\n"
     ]
    },
    {
     "name": "stdout",
     "output_type": "stream",
     "text": [
      "Epoch: 751 | Training Loss: 4.6601638636718395e-05  | Validation Loss: 4.645413440206776  | Accuracy: 59.26\n"
     ]
    },
    {
     "name": "stderr",
     "output_type": "stream",
     "text": [
      "156it [00:02, 54.75it/s]\n",
      "100%|█████████████████████████████████████████████████████████| 46/46 [00:00<00:00, 211.50it/s]\n"
     ]
    },
    {
     "name": "stdout",
     "output_type": "stream",
     "text": [
      "Epoch: 752 | Training Loss: 3.722428297619328e-05  | Validation Loss: 4.689520369405332  | Accuracy: 59.09\n"
     ]
    },
    {
     "name": "stderr",
     "output_type": "stream",
     "text": [
      "156it [00:02, 55.85it/s]\n",
      "100%|█████████████████████████████████████████████████████████| 46/46 [00:00<00:00, 220.42it/s]\n"
     ]
    },
    {
     "name": "stdout",
     "output_type": "stream",
     "text": [
      "Epoch: 753 | Training Loss: 3.005023034592551e-05  | Validation Loss: 4.7089526134988535  | Accuracy: 59.04\n"
     ]
    },
    {
     "name": "stderr",
     "output_type": "stream",
     "text": [
      "156it [00:02, 55.87it/s]\n",
      "100%|█████████████████████████████████████████████████████████| 46/46 [00:00<00:00, 217.68it/s]\n"
     ]
    },
    {
     "name": "stdout",
     "output_type": "stream",
     "text": [
      "Epoch: 754 | Training Loss: 2.839248168712425e-05  | Validation Loss: 4.781796362089074  | Accuracy: 59.00\n"
     ]
    },
    {
     "name": "stderr",
     "output_type": "stream",
     "text": [
      "156it [00:02, 55.97it/s]\n",
      "100%|█████████████████████████████████████████████████████████| 46/46 [00:00<00:00, 218.17it/s]\n"
     ]
    },
    {
     "name": "stdout",
     "output_type": "stream",
     "text": [
      "Epoch: 755 | Training Loss: 4.39966811048483e-05  | Validation Loss: 4.608414074648982  | Accuracy: 58.98\n"
     ]
    },
    {
     "name": "stderr",
     "output_type": "stream",
     "text": [
      "156it [00:02, 56.05it/s]\n",
      "100%|█████████████████████████████████████████████████████████| 46/46 [00:00<00:00, 219.14it/s]\n"
     ]
    },
    {
     "name": "stdout",
     "output_type": "stream",
     "text": [
      "Epoch: 756 | Training Loss: 4.757404090072762e-05  | Validation Loss: 4.844035620274751  | Accuracy: 58.78\n"
     ]
    },
    {
     "name": "stderr",
     "output_type": "stream",
     "text": [
      "156it [00:02, 55.47it/s]\n",
      "100%|█████████████████████████████████████████████████████████| 46/46 [00:00<00:00, 210.77it/s]\n"
     ]
    },
    {
     "name": "stdout",
     "output_type": "stream",
     "text": [
      "Epoch: 757 | Training Loss: 4.903109465477685e-05  | Validation Loss: 4.640463979347892  | Accuracy: 59.21\n"
     ]
    },
    {
     "name": "stderr",
     "output_type": "stream",
     "text": [
      "156it [00:02, 54.74it/s]\n",
      "100%|█████████████████████████████████████████████████████████| 46/46 [00:00<00:00, 212.03it/s]\n"
     ]
    },
    {
     "name": "stdout",
     "output_type": "stream",
     "text": [
      "Epoch: 758 | Training Loss: 4.628383173428282e-05  | Validation Loss: 4.6481955725213755  | Accuracy: 58.97\n"
     ]
    },
    {
     "name": "stderr",
     "output_type": "stream",
     "text": [
      "156it [00:02, 54.70it/s]\n",
      "100%|█████████████████████████████████████████████████████████| 46/46 [00:00<00:00, 211.72it/s]\n"
     ]
    },
    {
     "name": "stdout",
     "output_type": "stream",
     "text": [
      "Epoch: 759 | Training Loss: 4.32221580724264e-05  | Validation Loss: 4.7179172609163365  | Accuracy: 58.95\n"
     ]
    },
    {
     "name": "stderr",
     "output_type": "stream",
     "text": [
      "156it [00:02, 54.71it/s]\n",
      "100%|█████████████████████████████████████████████████████████| 46/46 [00:00<00:00, 209.87it/s]\n"
     ]
    },
    {
     "name": "stdout",
     "output_type": "stream",
     "text": [
      "Epoch: 760 | Training Loss: 2.6956163746187183e-05  | Validation Loss: 4.734957933425903  | Accuracy: 58.95\n"
     ]
    },
    {
     "name": "stderr",
     "output_type": "stream",
     "text": [
      "156it [00:02, 54.66it/s]\n",
      "100%|█████████████████████████████████████████████████████████| 46/46 [00:00<00:00, 209.91it/s]\n"
     ]
    },
    {
     "name": "stdout",
     "output_type": "stream",
     "text": [
      "Epoch: 761 | Training Loss: 0.0004147994641418616  | Validation Loss: 4.664402775142504  | Accuracy: 58.87\n"
     ]
    },
    {
     "name": "stderr",
     "output_type": "stream",
     "text": [
      "156it [00:02, 54.70it/s]\n",
      "100%|█████████████████████████████████████████████████████████| 46/46 [00:00<00:00, 211.17it/s]\n"
     ]
    },
    {
     "name": "stdout",
     "output_type": "stream",
     "text": [
      "Epoch: 762 | Training Loss: 7.051782680287617e-05  | Validation Loss: 4.726469485656075  | Accuracy: 59.07\n"
     ]
    },
    {
     "name": "stderr",
     "output_type": "stream",
     "text": [
      "156it [00:02, 54.59it/s]\n",
      "100%|█████████████████████████████████████████████████████████| 46/46 [00:00<00:00, 212.53it/s]\n"
     ]
    },
    {
     "name": "stdout",
     "output_type": "stream",
     "text": [
      "Epoch: 763 | Training Loss: 4.305951584298712e-05  | Validation Loss: 4.615782478581304  | Accuracy: 59.09\n"
     ]
    },
    {
     "name": "stderr",
     "output_type": "stream",
     "text": [
      "156it [00:02, 54.69it/s]\n",
      "100%|█████████████████████████████████████████████████████████| 46/46 [00:00<00:00, 212.18it/s]\n"
     ]
    },
    {
     "name": "stdout",
     "output_type": "stream",
     "text": [
      "Epoch: 764 | Training Loss: 3.6114780256796694e-05  | Validation Loss: 4.661456787067911  | Accuracy: 59.15\n"
     ]
    },
    {
     "name": "stderr",
     "output_type": "stream",
     "text": [
      "156it [00:02, 54.74it/s]\n",
      "100%|█████████████████████████████████████████████████████████| 46/46 [00:00<00:00, 210.76it/s]\n"
     ]
    },
    {
     "name": "stdout",
     "output_type": "stream",
     "text": [
      "Epoch: 765 | Training Loss: 4.00104383518924e-05  | Validation Loss: 4.63841134050618  | Accuracy: 59.34\n"
     ]
    },
    {
     "name": "stderr",
     "output_type": "stream",
     "text": [
      "156it [00:02, 55.44it/s]\n",
      "100%|█████████████████████████████████████████████████████████| 46/46 [00:00<00:00, 217.94it/s]\n"
     ]
    },
    {
     "name": "stdout",
     "output_type": "stream",
     "text": [
      "Epoch: 766 | Training Loss: 3.0808764222456375e-05  | Validation Loss: 4.681226849555969  | Accuracy: 59.27\n"
     ]
    },
    {
     "name": "stderr",
     "output_type": "stream",
     "text": [
      "156it [00:02, 55.98it/s]\n",
      "100%|█████████████████████████████████████████████████████████| 46/46 [00:00<00:00, 218.58it/s]\n"
     ]
    },
    {
     "name": "stdout",
     "output_type": "stream",
     "text": [
      "Epoch: 767 | Training Loss: 0.00011129343381409667  | Validation Loss: 4.641215210375578  | Accuracy: 59.05\n"
     ]
    },
    {
     "name": "stderr",
     "output_type": "stream",
     "text": [
      "156it [00:02, 55.94it/s]\n",
      "100%|█████████████████████████████████████████████████████████| 46/46 [00:00<00:00, 218.73it/s]\n"
     ]
    },
    {
     "name": "stdout",
     "output_type": "stream",
     "text": [
      "Epoch: 768 | Training Loss: 6.0972133795554e-05  | Validation Loss: 4.679396489392156  | Accuracy: 58.87\n"
     ]
    },
    {
     "name": "stderr",
     "output_type": "stream",
     "text": [
      "156it [00:02, 55.03it/s]\n",
      "100%|█████████████████████████████████████████████████████████| 46/46 [00:00<00:00, 208.35it/s]\n"
     ]
    },
    {
     "name": "stdout",
     "output_type": "stream",
     "text": [
      "Epoch: 769 | Training Loss: 4.3288441576969024e-05  | Validation Loss: 4.698362884314164  | Accuracy: 59.04\n"
     ]
    },
    {
     "name": "stderr",
     "output_type": "stream",
     "text": [
      "156it [00:02, 54.36it/s]\n",
      "100%|█████████████████████████████████████████████████████████| 46/46 [00:00<00:00, 209.39it/s]\n"
     ]
    },
    {
     "name": "stdout",
     "output_type": "stream",
     "text": [
      "Epoch: 770 | Training Loss: 3.768112762477708e-05  | Validation Loss: 4.815864557805269  | Accuracy: 58.53\n"
     ]
    },
    {
     "name": "stderr",
     "output_type": "stream",
     "text": [
      "156it [00:02, 54.23it/s]\n",
      "100%|█████████████████████████████████████████████████████████| 46/46 [00:00<00:00, 207.85it/s]\n"
     ]
    },
    {
     "name": "stdout",
     "output_type": "stream",
     "text": [
      "Epoch: 771 | Training Loss: 2.6051310832815197e-05  | Validation Loss: 4.836220321447953  | Accuracy: 58.66\n"
     ]
    },
    {
     "name": "stderr",
     "output_type": "stream",
     "text": [
      "156it [00:02, 54.42it/s]\n",
      "100%|█████████████████████████████████████████████████████████| 46/46 [00:00<00:00, 209.84it/s]\n"
     ]
    },
    {
     "name": "stdout",
     "output_type": "stream",
     "text": [
      "Epoch: 772 | Training Loss: 2.240688763194134e-05  | Validation Loss: 4.664611178895702  | Accuracy: 58.98\n"
     ]
    },
    {
     "name": "stderr",
     "output_type": "stream",
     "text": [
      "156it [00:02, 55.11it/s]\n",
      "100%|█████████████████████████████████████████████████████████| 46/46 [00:00<00:00, 218.04it/s]\n"
     ]
    },
    {
     "name": "stdout",
     "output_type": "stream",
     "text": [
      "Epoch: 773 | Training Loss: 3.622437017943762e-05  | Validation Loss: 4.707059549248737  | Accuracy: 58.75\n"
     ]
    },
    {
     "name": "stderr",
     "output_type": "stream",
     "text": [
      "156it [00:02, 55.66it/s]\n",
      "100%|█████████████████████████████████████████████████████████| 46/46 [00:00<00:00, 217.71it/s]\n"
     ]
    },
    {
     "name": "stdout",
     "output_type": "stream",
     "text": [
      "Epoch: 774 | Training Loss: 2.9514210028152705e-05  | Validation Loss: 4.810889648354572  | Accuracy: 58.97\n"
     ]
    },
    {
     "name": "stderr",
     "output_type": "stream",
     "text": [
      "156it [00:02, 55.72it/s]\n",
      "100%|█████████████████████████████████████████████████████████| 46/46 [00:00<00:00, 215.70it/s]\n"
     ]
    },
    {
     "name": "stdout",
     "output_type": "stream",
     "text": [
      "Epoch: 775 | Training Loss: 2.1417028660718457e-05  | Validation Loss: 4.695370622303175  | Accuracy: 59.05\n"
     ]
    },
    {
     "name": "stderr",
     "output_type": "stream",
     "text": [
      "156it [00:02, 55.64it/s]\n",
      "100%|█████████████████████████████████████████████████████████| 46/46 [00:00<00:00, 217.76it/s]\n"
     ]
    },
    {
     "name": "stdout",
     "output_type": "stream",
     "text": [
      "Epoch: 776 | Training Loss: 3.6184257583161714e-05  | Validation Loss: 4.641137345977452  | Accuracy: 58.70\n"
     ]
    },
    {
     "name": "stderr",
     "output_type": "stream",
     "text": [
      "156it [00:02, 55.67it/s]\n",
      "100%|█████████████████████████████████████████████████████████| 46/46 [00:00<00:00, 214.27it/s]\n"
     ]
    },
    {
     "name": "stdout",
     "output_type": "stream",
     "text": [
      "Epoch: 777 | Training Loss: 2.7139741807611874e-05  | Validation Loss: 4.731759211291438  | Accuracy: 58.71\n"
     ]
    },
    {
     "name": "stderr",
     "output_type": "stream",
     "text": [
      "156it [00:02, 55.65it/s]\n",
      "100%|█████████████████████████████████████████████████████████| 46/46 [00:00<00:00, 217.76it/s]\n"
     ]
    },
    {
     "name": "stdout",
     "output_type": "stream",
     "text": [
      "Epoch: 778 | Training Loss: 3.0034326783105567e-05  | Validation Loss: 4.779075529264367  | Accuracy: 58.81\n"
     ]
    },
    {
     "name": "stderr",
     "output_type": "stream",
     "text": [
      "156it [00:02, 55.36it/s]\n",
      "100%|█████████████████████████████████████████████████████████| 46/46 [00:00<00:00, 216.57it/s]\n"
     ]
    },
    {
     "name": "stdout",
     "output_type": "stream",
     "text": [
      "Epoch: 779 | Training Loss: 3.2501438559288195e-05  | Validation Loss: 4.745812815168629  | Accuracy: 58.98\n"
     ]
    },
    {
     "name": "stderr",
     "output_type": "stream",
     "text": [
      "156it [00:02, 55.67it/s]\n",
      "100%|█████████████████████████████████████████████████████████| 46/46 [00:00<00:00, 217.43it/s]\n"
     ]
    },
    {
     "name": "stdout",
     "output_type": "stream",
     "text": [
      "Epoch: 780 | Training Loss: 2.109116160635238e-05  | Validation Loss: 4.65459016095037  | Accuracy: 58.88\n"
     ]
    },
    {
     "name": "stderr",
     "output_type": "stream",
     "text": [
      "156it [00:02, 55.57it/s]\n",
      "100%|█████████████████████████████████████████████████████████| 46/46 [00:00<00:00, 217.39it/s]\n"
     ]
    },
    {
     "name": "stdout",
     "output_type": "stream",
     "text": [
      "Epoch: 781 | Training Loss: 2.401341233647914e-05  | Validation Loss: 4.676634363506151  | Accuracy: 59.09\n"
     ]
    },
    {
     "name": "stderr",
     "output_type": "stream",
     "text": [
      "156it [00:02, 55.63it/s]\n",
      "100%|█████████████████████████████████████████████████████████| 46/46 [00:00<00:00, 216.10it/s]\n"
     ]
    },
    {
     "name": "stdout",
     "output_type": "stream",
     "text": [
      "Epoch: 782 | Training Loss: 2.1621153086342907e-05  | Validation Loss: 4.780738929043645  | Accuracy: 58.83\n"
     ]
    },
    {
     "name": "stderr",
     "output_type": "stream",
     "text": [
      "156it [00:02, 55.64it/s]\n",
      "100%|█████████████████████████████████████████████████████████| 46/46 [00:00<00:00, 217.02it/s]\n"
     ]
    },
    {
     "name": "stdout",
     "output_type": "stream",
     "text": [
      "Epoch: 783 | Training Loss: 2.0024176965540766e-05  | Validation Loss: 4.831672958705736  | Accuracy: 58.88\n"
     ]
    },
    {
     "name": "stderr",
     "output_type": "stream",
     "text": [
      "156it [00:02, 55.67it/s]\n",
      "100%|█████████████████████████████████████████████████████████| 46/46 [00:00<00:00, 216.29it/s]\n"
     ]
    },
    {
     "name": "stdout",
     "output_type": "stream",
     "text": [
      "Epoch: 784 | Training Loss: 2.163297018306856e-05  | Validation Loss: 4.749393235082212  | Accuracy: 58.98\n"
     ]
    },
    {
     "name": "stderr",
     "output_type": "stream",
     "text": [
      "156it [00:02, 55.68it/s]\n",
      "100%|█████████████████████████████████████████████████████████| 46/46 [00:00<00:00, 215.51it/s]\n"
     ]
    },
    {
     "name": "stdout",
     "output_type": "stream",
     "text": [
      "Epoch: 785 | Training Loss: 2.3521037869263986e-05  | Validation Loss: 4.745650120403456  | Accuracy: 58.85\n"
     ]
    },
    {
     "name": "stderr",
     "output_type": "stream",
     "text": [
      "156it [00:02, 55.75it/s]\n",
      "100%|█████████████████████████████████████████████████████████| 46/46 [00:00<00:00, 217.58it/s]\n"
     ]
    },
    {
     "name": "stdout",
     "output_type": "stream",
     "text": [
      "Epoch: 786 | Training Loss: 2.6603756022944788e-05  | Validation Loss: 4.863818914993949  | Accuracy: 58.73\n"
     ]
    },
    {
     "name": "stderr",
     "output_type": "stream",
     "text": [
      "156it [00:02, 55.73it/s]\n",
      "100%|█████████████████████████████████████████████████████████| 46/46 [00:00<00:00, 213.88it/s]\n"
     ]
    },
    {
     "name": "stdout",
     "output_type": "stream",
     "text": [
      "Epoch: 787 | Training Loss: 2.44190628371563e-05  | Validation Loss: 4.792471667994624  | Accuracy: 58.75\n"
     ]
    },
    {
     "name": "stderr",
     "output_type": "stream",
     "text": [
      "156it [00:02, 55.63it/s]\n",
      "100%|█████████████████████████████████████████████████████████| 46/46 [00:00<00:00, 215.52it/s]\n"
     ]
    },
    {
     "name": "stdout",
     "output_type": "stream",
     "text": [
      "Epoch: 788 | Training Loss: 2.6798198599081865e-05  | Validation Loss: 4.775344397710717  | Accuracy: 58.78\n"
     ]
    },
    {
     "name": "stderr",
     "output_type": "stream",
     "text": [
      "156it [00:02, 56.40it/s]\n",
      "100%|█████████████████████████████████████████████████████████| 46/46 [00:00<00:00, 215.02it/s]\n"
     ]
    },
    {
     "name": "stdout",
     "output_type": "stream",
     "text": [
      "Epoch: 789 | Training Loss: 2.5751360547077733e-05  | Validation Loss: 4.780506289523581  | Accuracy: 59.02\n"
     ]
    },
    {
     "name": "stderr",
     "output_type": "stream",
     "text": [
      "156it [00:02, 55.65it/s]\n",
      "100%|█████████████████████████████████████████████████████████| 46/46 [00:00<00:00, 203.59it/s]\n"
     ]
    },
    {
     "name": "stdout",
     "output_type": "stream",
     "text": [
      "Epoch: 790 | Training Loss: 2.91470204114119e-05  | Validation Loss: 4.683672065320223  | Accuracy: 59.04\n"
     ]
    },
    {
     "name": "stderr",
     "output_type": "stream",
     "text": [
      "156it [00:02, 53.65it/s]\n",
      "100%|█████████████████████████████████████████████████████████| 46/46 [00:00<00:00, 207.10it/s]\n"
     ]
    },
    {
     "name": "stdout",
     "output_type": "stream",
     "text": [
      "Epoch: 791 | Training Loss: 2.4843030285655215e-05  | Validation Loss: 4.796152394750844  | Accuracy: 58.81\n"
     ]
    },
    {
     "name": "stderr",
     "output_type": "stream",
     "text": [
      "156it [00:02, 54.05it/s]\n",
      "100%|█████████████████████████████████████████████████████████| 46/46 [00:00<00:00, 206.62it/s]\n"
     ]
    },
    {
     "name": "stdout",
     "output_type": "stream",
     "text": [
      "Epoch: 792 | Training Loss: 2.548808104982014e-05  | Validation Loss: 4.781727153321971  | Accuracy: 58.85\n"
     ]
    },
    {
     "name": "stderr",
     "output_type": "stream",
     "text": [
      "156it [00:02, 54.00it/s]\n",
      "100%|█████████████████████████████████████████████████████████| 46/46 [00:00<00:00, 207.08it/s]\n"
     ]
    },
    {
     "name": "stdout",
     "output_type": "stream",
     "text": [
      "Epoch: 793 | Training Loss: 3.96308313675502e-05  | Validation Loss: 4.8158962156461635  | Accuracy: 58.61\n"
     ]
    },
    {
     "name": "stderr",
     "output_type": "stream",
     "text": [
      "156it [00:02, 53.98it/s]\n",
      "100%|█████████████████████████████████████████████████████████| 46/46 [00:00<00:00, 206.85it/s]\n"
     ]
    },
    {
     "name": "stdout",
     "output_type": "stream",
     "text": [
      "Epoch: 794 | Training Loss: 2.0978713131661116e-05  | Validation Loss: 4.856419739515885  | Accuracy: 58.42\n"
     ]
    },
    {
     "name": "stderr",
     "output_type": "stream",
     "text": [
      "156it [00:02, 55.32it/s]\n",
      "100%|█████████████████████████████████████████████████████████| 46/46 [00:00<00:00, 215.20it/s]\n"
     ]
    },
    {
     "name": "stdout",
     "output_type": "stream",
     "text": [
      "Epoch: 795 | Training Loss: 2.8511554249304867e-05  | Validation Loss: 4.798416915147201  | Accuracy: 58.88\n"
     ]
    },
    {
     "name": "stderr",
     "output_type": "stream",
     "text": [
      "156it [00:02, 55.61it/s]\n",
      "100%|█████████████████████████████████████████████████████████| 46/46 [00:00<00:00, 215.73it/s]\n"
     ]
    },
    {
     "name": "stdout",
     "output_type": "stream",
     "text": [
      "Epoch: 796 | Training Loss: 1.8849244748381374e-05  | Validation Loss: 4.778784300969995  | Accuracy: 58.83\n"
     ]
    },
    {
     "name": "stderr",
     "output_type": "stream",
     "text": [
      "156it [00:02, 56.62it/s]\n",
      "100%|█████████████████████████████████████████████████████████| 46/46 [00:00<00:00, 214.72it/s]\n"
     ]
    },
    {
     "name": "stdout",
     "output_type": "stream",
     "text": [
      "Epoch: 797 | Training Loss: 2.8292908012143667e-05  | Validation Loss: 4.921472020771192  | Accuracy: 58.42\n"
     ]
    },
    {
     "name": "stderr",
     "output_type": "stream",
     "text": [
      "156it [00:02, 56.75it/s]\n",
      "100%|█████████████████████████████████████████████████████████| 46/46 [00:00<00:00, 215.92it/s]\n"
     ]
    },
    {
     "name": "stdout",
     "output_type": "stream",
     "text": [
      "Epoch: 798 | Training Loss: 2.1364246470931484e-05  | Validation Loss: 4.8243683110112725  | Accuracy: 58.78\n"
     ]
    },
    {
     "name": "stderr",
     "output_type": "stream",
     "text": [
      "156it [00:02, 55.50it/s]\n",
      "100%|█████████████████████████████████████████████████████████| 46/46 [00:00<00:00, 213.28it/s]\n"
     ]
    },
    {
     "name": "stdout",
     "output_type": "stream",
     "text": [
      "Epoch: 799 | Training Loss: 2.967917465668553e-05  | Validation Loss: 4.832713448483011  | Accuracy: 58.81\n"
     ]
    },
    {
     "name": "stderr",
     "output_type": "stream",
     "text": [
      "156it [00:02, 55.58it/s]\n",
      "100%|█████████████████████████████████████████████████████████| 46/46 [00:00<00:00, 214.66it/s]\n"
     ]
    },
    {
     "name": "stdout",
     "output_type": "stream",
     "text": [
      "Epoch: 800 | Training Loss: 2.3398862388090398e-05  | Validation Loss: 4.911001526791116  | Accuracy: 58.54\n"
     ]
    },
    {
     "name": "stderr",
     "output_type": "stream",
     "text": [
      "156it [00:02, 55.13it/s]\n",
      "100%|█████████████████████████████████████████████████████████| 46/46 [00:00<00:00, 215.19it/s]\n"
     ]
    },
    {
     "name": "stdout",
     "output_type": "stream",
     "text": [
      "Epoch: 801 | Training Loss: 2.264783629266859e-05  | Validation Loss: 4.760875054027723  | Accuracy: 58.76\n"
     ]
    },
    {
     "name": "stderr",
     "output_type": "stream",
     "text": [
      "156it [00:02, 55.47it/s]\n",
      "100%|█████████████████████████████████████████████████████████| 46/46 [00:00<00:00, 211.20it/s]\n"
     ]
    },
    {
     "name": "stdout",
     "output_type": "stream",
     "text": [
      "Epoch: 802 | Training Loss: 1.8901210844491383e-05  | Validation Loss: 4.826049358948417  | Accuracy: 58.46\n"
     ]
    },
    {
     "name": "stderr",
     "output_type": "stream",
     "text": [
      "156it [00:02, 55.43it/s]\n",
      "100%|█████████████████████████████████████████████████████████| 46/46 [00:00<00:00, 215.94it/s]\n"
     ]
    },
    {
     "name": "stdout",
     "output_type": "stream",
     "text": [
      "Epoch: 803 | Training Loss: 2.4652526973020427e-05  | Validation Loss: 4.797654068988303  | Accuracy: 58.41\n"
     ]
    },
    {
     "name": "stderr",
     "output_type": "stream",
     "text": [
      "156it [00:02, 55.60it/s]\n",
      "100%|█████████████████████████████████████████████████████████| 46/46 [00:00<00:00, 213.86it/s]\n"
     ]
    },
    {
     "name": "stdout",
     "output_type": "stream",
     "text": [
      "Epoch: 804 | Training Loss: 1.630991045559336e-05  | Validation Loss: 4.856436579123788  | Accuracy: 58.54\n"
     ]
    },
    {
     "name": "stderr",
     "output_type": "stream",
     "text": [
      "156it [00:02, 55.77it/s]\n",
      "100%|█████████████████████████████████████████████████████████| 46/46 [00:00<00:00, 214.56it/s]\n"
     ]
    },
    {
     "name": "stdout",
     "output_type": "stream",
     "text": [
      "Epoch: 805 | Training Loss: 2.368693378101829e-05  | Validation Loss: 4.790928685146829  | Accuracy: 58.87\n"
     ]
    },
    {
     "name": "stderr",
     "output_type": "stream",
     "text": [
      "156it [00:02, 55.35it/s]\n",
      "100%|█████████████████████████████████████████████████████████| 46/46 [00:00<00:00, 213.59it/s]\n"
     ]
    },
    {
     "name": "stdout",
     "output_type": "stream",
     "text": [
      "Epoch: 806 | Training Loss: 3.439912479035019e-05  | Validation Loss: 4.6870543490285455  | Accuracy: 59.05\n"
     ]
    },
    {
     "name": "stderr",
     "output_type": "stream",
     "text": [
      "156it [00:02, 55.42it/s]\n",
      "100%|█████████████████████████████████████████████████████████| 46/46 [00:00<00:00, 214.93it/s]\n"
     ]
    },
    {
     "name": "stdout",
     "output_type": "stream",
     "text": [
      "Epoch: 807 | Training Loss: 1.9082263947485702e-05  | Validation Loss: 4.876958473868992  | Accuracy: 58.71\n"
     ]
    },
    {
     "name": "stderr",
     "output_type": "stream",
     "text": [
      "156it [00:02, 55.51it/s]\n",
      "100%|█████████████████████████████████████████████████████████| 46/46 [00:00<00:00, 213.86it/s]\n"
     ]
    },
    {
     "name": "stdout",
     "output_type": "stream",
     "text": [
      "Epoch: 808 | Training Loss: 3.559262656019713e-05  | Validation Loss: 4.785506533539814  | Accuracy: 58.81\n"
     ]
    },
    {
     "name": "stderr",
     "output_type": "stream",
     "text": [
      "156it [00:02, 55.43it/s]\n",
      "100%|█████████████████████████████████████████████████████████| 46/46 [00:00<00:00, 215.64it/s]\n"
     ]
    },
    {
     "name": "stdout",
     "output_type": "stream",
     "text": [
      "Epoch: 809 | Training Loss: 1.9299742775320996e-05  | Validation Loss: 4.791148361952408  | Accuracy: 58.85\n"
     ]
    },
    {
     "name": "stderr",
     "output_type": "stream",
     "text": [
      "156it [00:02, 55.49it/s]\n",
      "100%|█████████████████████████████████████████████████████████| 46/46 [00:00<00:00, 214.25it/s]\n"
     ]
    },
    {
     "name": "stdout",
     "output_type": "stream",
     "text": [
      "Epoch: 810 | Training Loss: 3.286572129541244e-05  | Validation Loss: 4.768512492594511  | Accuracy: 59.15\n"
     ]
    },
    {
     "name": "stderr",
     "output_type": "stream",
     "text": [
      "156it [00:02, 56.37it/s]\n",
      "100%|█████████████████████████████████████████████████████████| 46/46 [00:00<00:00, 215.58it/s]\n"
     ]
    },
    {
     "name": "stdout",
     "output_type": "stream",
     "text": [
      "Epoch: 811 | Training Loss: 1.8539177730394258e-05  | Validation Loss: 4.632939945096555  | Accuracy: 58.95\n"
     ]
    },
    {
     "name": "stderr",
     "output_type": "stream",
     "text": [
      "156it [00:02, 56.62it/s]\n",
      "100%|█████████████████████████████████████████████████████████| 46/46 [00:00<00:00, 214.10it/s]\n"
     ]
    },
    {
     "name": "stdout",
     "output_type": "stream",
     "text": [
      "Epoch: 812 | Training Loss: 3.0403540784927594e-05  | Validation Loss: 4.78984548734582  | Accuracy: 59.07\n"
     ]
    },
    {
     "name": "stderr",
     "output_type": "stream",
     "text": [
      "156it [00:02, 56.67it/s]\n",
      "100%|█████████████████████████████████████████████████████████| 46/46 [00:00<00:00, 215.49it/s]\n"
     ]
    },
    {
     "name": "stdout",
     "output_type": "stream",
     "text": [
      "Epoch: 813 | Training Loss: 2.492582232294948e-05  | Validation Loss: 4.720615443976029  | Accuracy: 58.95\n"
     ]
    },
    {
     "name": "stderr",
     "output_type": "stream",
     "text": [
      "156it [00:02, 56.62it/s]\n",
      "100%|█████████████████████████████████████████████████████████| 46/46 [00:00<00:00, 215.11it/s]\n"
     ]
    },
    {
     "name": "stdout",
     "output_type": "stream",
     "text": [
      "Epoch: 814 | Training Loss: 1.9007515003266188e-05  | Validation Loss: 4.816301449485447  | Accuracy: 59.10\n"
     ]
    },
    {
     "name": "stderr",
     "output_type": "stream",
     "text": [
      "156it [00:02, 54.78it/s]\n",
      "100%|█████████████████████████████████████████████████████████| 46/46 [00:00<00:00, 215.59it/s]\n"
     ]
    },
    {
     "name": "stdout",
     "output_type": "stream",
     "text": [
      "Epoch: 815 | Training Loss: 2.463349259129152e-05  | Validation Loss: 4.724639788917873  | Accuracy: 59.14\n"
     ]
    },
    {
     "name": "stderr",
     "output_type": "stream",
     "text": [
      "156it [00:02, 54.48it/s]\n",
      "100%|█████████████████████████████████████████████████████████| 46/46 [00:00<00:00, 218.02it/s]\n"
     ]
    },
    {
     "name": "stdout",
     "output_type": "stream",
     "text": [
      "Epoch: 816 | Training Loss: 2.0438663181010223e-05  | Validation Loss: 4.665702151215595  | Accuracy: 59.10\n"
     ]
    },
    {
     "name": "stderr",
     "output_type": "stream",
     "text": [
      "156it [00:02, 54.31it/s]\n",
      "100%|█████████████████████████████████████████████████████████| 46/46 [00:00<00:00, 217.42it/s]\n"
     ]
    },
    {
     "name": "stdout",
     "output_type": "stream",
     "text": [
      "Epoch: 817 | Training Loss: 2.1907167426714015e-05  | Validation Loss: 4.830156632091688  | Accuracy: 59.04\n"
     ]
    },
    {
     "name": "stderr",
     "output_type": "stream",
     "text": [
      "156it [00:02, 55.09it/s]\n",
      "100%|█████████████████████████████████████████████████████████| 46/46 [00:00<00:00, 216.23it/s]\n"
     ]
    },
    {
     "name": "stdout",
     "output_type": "stream",
     "text": [
      "Epoch: 818 | Training Loss: 2.087751440098938e-05  | Validation Loss: 4.760601318400839  | Accuracy: 59.26\n"
     ]
    },
    {
     "name": "stderr",
     "output_type": "stream",
     "text": [
      "156it [00:02, 55.41it/s]\n",
      "100%|█████████████████████████████████████████████████████████| 46/46 [00:00<00:00, 214.09it/s]\n"
     ]
    },
    {
     "name": "stdout",
     "output_type": "stream",
     "text": [
      "Epoch: 819 | Training Loss: 3.918489244953003e-05  | Validation Loss: 4.705680411794911  | Accuracy: 58.92\n"
     ]
    },
    {
     "name": "stderr",
     "output_type": "stream",
     "text": [
      "156it [00:02, 55.36it/s]\n",
      "100%|█████████████████████████████████████████████████████████| 46/46 [00:00<00:00, 214.81it/s]\n"
     ]
    },
    {
     "name": "stdout",
     "output_type": "stream",
     "text": [
      "Epoch: 820 | Training Loss: 1.4114165388981257e-05  | Validation Loss: 4.875759238782137  | Accuracy: 58.87\n"
     ]
    },
    {
     "name": "stderr",
     "output_type": "stream",
     "text": [
      "156it [00:02, 55.28it/s]\n",
      "100%|█████████████████████████████████████████████████████████| 46/46 [00:00<00:00, 215.48it/s]\n"
     ]
    },
    {
     "name": "stdout",
     "output_type": "stream",
     "text": [
      "Epoch: 821 | Training Loss: 2.1689114381236625e-05  | Validation Loss: 4.960456267647121  | Accuracy: 58.53\n"
     ]
    },
    {
     "name": "stderr",
     "output_type": "stream",
     "text": [
      "156it [00:02, 55.47it/s]\n",
      "100%|█████████████████████████████████████████████████████████| 46/46 [00:00<00:00, 215.72it/s]\n"
     ]
    },
    {
     "name": "stdout",
     "output_type": "stream",
     "text": [
      "Epoch: 822 | Training Loss: 2.4995549403264213e-05  | Validation Loss: 4.837633350621099  | Accuracy: 58.87\n"
     ]
    },
    {
     "name": "stderr",
     "output_type": "stream",
     "text": [
      "156it [00:02, 55.49it/s]\n",
      "100%|█████████████████████████████████████████████████████████| 46/46 [00:00<00:00, 216.14it/s]\n"
     ]
    },
    {
     "name": "stdout",
     "output_type": "stream",
     "text": [
      "Epoch: 823 | Training Loss: 2.1887289481361597e-05  | Validation Loss: 4.84089329968328  | Accuracy: 58.81\n"
     ]
    },
    {
     "name": "stderr",
     "output_type": "stream",
     "text": [
      "156it [00:02, 55.47it/s]\n",
      "100%|█████████████████████████████████████████████████████████| 46/46 [00:00<00:00, 214.43it/s]\n"
     ]
    },
    {
     "name": "stdout",
     "output_type": "stream",
     "text": [
      "Epoch: 824 | Training Loss: 2.150704810405958e-05  | Validation Loss: 4.843806474105172  | Accuracy: 58.87\n"
     ]
    },
    {
     "name": "stderr",
     "output_type": "stream",
     "text": [
      "156it [00:02, 55.54it/s]\n",
      "100%|█████████████████████████████████████████████████████████| 46/46 [00:00<00:00, 215.19it/s]\n"
     ]
    },
    {
     "name": "stdout",
     "output_type": "stream",
     "text": [
      "Epoch: 825 | Training Loss: 2.560446614843852e-05  | Validation Loss: 4.708735642225846  | Accuracy: 59.14\n"
     ]
    },
    {
     "name": "stderr",
     "output_type": "stream",
     "text": [
      "156it [00:02, 55.48it/s]\n",
      "100%|█████████████████████████████████████████████████████████| 46/46 [00:00<00:00, 215.38it/s]\n"
     ]
    },
    {
     "name": "stdout",
     "output_type": "stream",
     "text": [
      "Epoch: 826 | Training Loss: 4.18010098224514e-05  | Validation Loss: 4.804403709328693  | Accuracy: 59.00\n"
     ]
    },
    {
     "name": "stderr",
     "output_type": "stream",
     "text": [
      "156it [00:02, 55.51it/s]\n",
      "100%|█████████████████████████████████████████████████████████| 46/46 [00:00<00:00, 214.94it/s]\n"
     ]
    },
    {
     "name": "stdout",
     "output_type": "stream",
     "text": [
      "Epoch: 827 | Training Loss: 8.253179387542658e-05  | Validation Loss: 4.875251453855763  | Accuracy: 58.73\n"
     ]
    },
    {
     "name": "stderr",
     "output_type": "stream",
     "text": [
      "156it [00:02, 55.52it/s]\n",
      "100%|█████████████████████████████████████████████████████████| 46/46 [00:00<00:00, 215.94it/s]\n"
     ]
    },
    {
     "name": "stdout",
     "output_type": "stream",
     "text": [
      "Epoch: 828 | Training Loss: 8.268926062089285e-05  | Validation Loss: 4.795642640279687  | Accuracy: 58.90\n"
     ]
    },
    {
     "name": "stderr",
     "output_type": "stream",
     "text": [
      "156it [00:02, 55.47it/s]\n",
      "100%|█████████████████████████████████████████████████████████| 46/46 [00:00<00:00, 215.98it/s]\n"
     ]
    },
    {
     "name": "stdout",
     "output_type": "stream",
     "text": [
      "Epoch: 829 | Training Loss: 4.036982158758735e-05  | Validation Loss: 4.736806615539219  | Accuracy: 58.90\n"
     ]
    },
    {
     "name": "stderr",
     "output_type": "stream",
     "text": [
      "156it [00:02, 55.49it/s]\n",
      "100%|█████████████████████████████████████████████████████████| 46/46 [00:00<00:00, 210.15it/s]\n"
     ]
    },
    {
     "name": "stdout",
     "output_type": "stream",
     "text": [
      "Epoch: 830 | Training Loss: 7.368766435506703e-05  | Validation Loss: 4.64751286610313  | Accuracy: 59.38\n"
     ]
    },
    {
     "name": "stderr",
     "output_type": "stream",
     "text": [
      "156it [00:02, 55.41it/s]\n",
      "100%|█████████████████████████████████████████████████████████| 46/46 [00:00<00:00, 216.09it/s]\n"
     ]
    },
    {
     "name": "stdout",
     "output_type": "stream",
     "text": [
      "Epoch: 831 | Training Loss: 4.886220965661964e-05  | Validation Loss: 4.761207321415776  | Accuracy: 59.21\n"
     ]
    },
    {
     "name": "stderr",
     "output_type": "stream",
     "text": [
      "156it [00:02, 54.43it/s]\n",
      "100%|█████████████████████████████████████████████████████████| 46/46 [00:00<00:00, 201.43it/s]\n"
     ]
    },
    {
     "name": "stdout",
     "output_type": "stream",
     "text": [
      "Epoch: 832 | Training Loss: 2.8220136503256446e-05  | Validation Loss: 4.787259568338809  | Accuracy: 59.14\n"
     ]
    },
    {
     "name": "stderr",
     "output_type": "stream",
     "text": [
      "156it [00:02, 53.19it/s]\n",
      "100%|█████████████████████████████████████████████████████████| 46/46 [00:00<00:00, 203.74it/s]\n"
     ]
    },
    {
     "name": "stdout",
     "output_type": "stream",
     "text": [
      "Epoch: 833 | Training Loss: 1.911815810619653e-05  | Validation Loss: 4.633113119913184  | Accuracy: 59.31\n"
     ]
    },
    {
     "name": "stderr",
     "output_type": "stream",
     "text": [
      "156it [00:02, 55.03it/s]\n",
      "100%|█████████████████████████████████████████████████████████| 46/46 [00:00<00:00, 212.96it/s]\n"
     ]
    },
    {
     "name": "stdout",
     "output_type": "stream",
     "text": [
      "Epoch: 834 | Training Loss: 2.1443710398927626e-05  | Validation Loss: 4.741635960081349  | Accuracy: 59.02\n"
     ]
    },
    {
     "name": "stderr",
     "output_type": "stream",
     "text": [
      "156it [00:02, 54.50it/s]\n",
      "100%|█████████████████████████████████████████████████████████| 46/46 [00:00<00:00, 213.04it/s]\n"
     ]
    },
    {
     "name": "stdout",
     "output_type": "stream",
     "text": [
      "Epoch: 835 | Training Loss: 3.5222843793328655e-05  | Validation Loss: 4.876979216285374  | Accuracy: 58.95\n"
     ]
    },
    {
     "name": "stderr",
     "output_type": "stream",
     "text": [
      "156it [00:02, 53.74it/s]\n",
      "100%|█████████████████████████████████████████████████████████| 46/46 [00:00<00:00, 214.05it/s]\n"
     ]
    },
    {
     "name": "stdout",
     "output_type": "stream",
     "text": [
      "Epoch: 836 | Training Loss: 2.0421397100387996e-05  | Validation Loss: 4.581837545270505  | Accuracy: 59.31\n"
     ]
    },
    {
     "name": "stderr",
     "output_type": "stream",
     "text": [
      "156it [00:02, 53.79it/s]\n",
      "100%|█████████████████████████████████████████████████████████| 46/46 [00:00<00:00, 213.41it/s]\n"
     ]
    },
    {
     "name": "stdout",
     "output_type": "stream",
     "text": [
      "Epoch: 837 | Training Loss: 2.9555456614196792e-05  | Validation Loss: 4.883670490720998  | Accuracy: 58.92\n"
     ]
    },
    {
     "name": "stderr",
     "output_type": "stream",
     "text": [
      "156it [00:02, 53.83it/s]\n",
      "100%|█████████████████████████████████████████████████████████| 46/46 [00:00<00:00, 214.47it/s]\n"
     ]
    },
    {
     "name": "stdout",
     "output_type": "stream",
     "text": [
      "Epoch: 838 | Training Loss: 1.744603667201516e-05  | Validation Loss: 4.907505263452944  | Accuracy: 58.78\n"
     ]
    },
    {
     "name": "stderr",
     "output_type": "stream",
     "text": [
      "156it [00:02, 53.73it/s]\n",
      "100%|█████████████████████████████████████████████████████████| 46/46 [00:00<00:00, 213.00it/s]\n"
     ]
    },
    {
     "name": "stdout",
     "output_type": "stream",
     "text": [
      "Epoch: 839 | Training Loss: 2.2315908273785914e-05  | Validation Loss: 4.652996508971505  | Accuracy: 59.24\n"
     ]
    },
    {
     "name": "stderr",
     "output_type": "stream",
     "text": [
      "156it [00:02, 53.97it/s]\n",
      "100%|█████████████████████████████████████████████████████████| 46/46 [00:00<00:00, 213.17it/s]\n"
     ]
    },
    {
     "name": "stdout",
     "output_type": "stream",
     "text": [
      "Epoch: 840 | Training Loss: 1.782289695466506e-05  | Validation Loss: 4.721508616986482  | Accuracy: 59.27\n"
     ]
    },
    {
     "name": "stderr",
     "output_type": "stream",
     "text": [
      "156it [00:02, 54.80it/s]\n",
      "100%|█████████████████████████████████████████████████████████| 46/46 [00:00<00:00, 211.28it/s]\n"
     ]
    },
    {
     "name": "stdout",
     "output_type": "stream",
     "text": [
      "Epoch: 841 | Training Loss: 2.7286259662326837e-05  | Validation Loss: 4.744127786677817  | Accuracy: 59.21\n"
     ]
    },
    {
     "name": "stderr",
     "output_type": "stream",
     "text": [
      "156it [00:02, 54.42it/s]\n",
      "100%|█████████████████████████████████████████████████████████| 46/46 [00:00<00:00, 211.06it/s]\n"
     ]
    },
    {
     "name": "stdout",
     "output_type": "stream",
     "text": [
      "Epoch: 842 | Training Loss: 0.00023417164219935305  | Validation Loss: 4.812682410945063  | Accuracy: 58.63\n"
     ]
    },
    {
     "name": "stderr",
     "output_type": "stream",
     "text": [
      "156it [00:02, 54.57it/s]\n",
      "100%|█████████████████████████████████████████████████████████| 46/46 [00:00<00:00, 211.64it/s]\n"
     ]
    },
    {
     "name": "stdout",
     "output_type": "stream",
     "text": [
      "Epoch: 843 | Training Loss: 5.191817781043285e-05  | Validation Loss: 4.831881600877513  | Accuracy: 58.73\n"
     ]
    },
    {
     "name": "stderr",
     "output_type": "stream",
     "text": [
      "156it [00:02, 54.94it/s]\n",
      "100%|█████████████████████████████████████████████████████████| 46/46 [00:00<00:00, 213.07it/s]\n"
     ]
    },
    {
     "name": "stdout",
     "output_type": "stream",
     "text": [
      "Epoch: 844 | Training Loss: 4.723411407999615e-05  | Validation Loss: 4.755670666694641  | Accuracy: 58.95\n"
     ]
    },
    {
     "name": "stderr",
     "output_type": "stream",
     "text": [
      "156it [00:02, 54.96it/s]\n",
      "100%|█████████████████████████████████████████████████████████| 46/46 [00:00<00:00, 212.54it/s]\n"
     ]
    },
    {
     "name": "stdout",
     "output_type": "stream",
     "text": [
      "Epoch: 845 | Training Loss: 3.381529739079689e-05  | Validation Loss: 4.8408578893412715  | Accuracy: 58.85\n"
     ]
    },
    {
     "name": "stderr",
     "output_type": "stream",
     "text": [
      "156it [00:02, 54.96it/s]\n",
      "100%|█████████████████████████████████████████████████████████| 46/46 [00:00<00:00, 212.17it/s]\n"
     ]
    },
    {
     "name": "stdout",
     "output_type": "stream",
     "text": [
      "Epoch: 846 | Training Loss: 3.1717658718942126e-05  | Validation Loss: 4.816516202429066  | Accuracy: 58.63\n"
     ]
    },
    {
     "name": "stderr",
     "output_type": "stream",
     "text": [
      "156it [00:02, 54.83it/s]\n",
      "100%|█████████████████████████████████████████████████████████| 46/46 [00:00<00:00, 214.46it/s]\n"
     ]
    },
    {
     "name": "stdout",
     "output_type": "stream",
     "text": [
      "Epoch: 847 | Training Loss: 0.00018460934801658787  | Validation Loss: 4.887288290521373  | Accuracy: 58.46\n"
     ]
    },
    {
     "name": "stderr",
     "output_type": "stream",
     "text": [
      "156it [00:02, 54.86it/s]\n",
      "100%|█████████████████████████████████████████████████████████| 46/46 [00:00<00:00, 213.90it/s]\n"
     ]
    },
    {
     "name": "stdout",
     "output_type": "stream",
     "text": [
      "Epoch: 848 | Training Loss: 0.00015996542222532857  | Validation Loss: 4.898879258529  | Accuracy: 58.17\n"
     ]
    },
    {
     "name": "stderr",
     "output_type": "stream",
     "text": [
      "156it [00:02, 54.98it/s]\n",
      "100%|█████████████████████████████████████████████████████████| 46/46 [00:00<00:00, 212.97it/s]\n"
     ]
    },
    {
     "name": "stdout",
     "output_type": "stream",
     "text": [
      "Epoch: 849 | Training Loss: 0.0002845167133544307  | Validation Loss: 4.998750033585922  | Accuracy: 58.51\n"
     ]
    },
    {
     "name": "stderr",
     "output_type": "stream",
     "text": [
      "156it [00:02, 54.97it/s]\n",
      "100%|█████████████████████████████████████████████████████████| 46/46 [00:00<00:00, 211.54it/s]\n"
     ]
    },
    {
     "name": "stdout",
     "output_type": "stream",
     "text": [
      "Epoch: 850 | Training Loss: 0.00011880077059418116  | Validation Loss: 4.924056498900704  | Accuracy: 58.37\n"
     ]
    },
    {
     "name": "stderr",
     "output_type": "stream",
     "text": [
      "156it [00:02, 54.99it/s]\n",
      "100%|█████████████████████████████████████████████████████████| 46/46 [00:00<00:00, 212.61it/s]\n"
     ]
    },
    {
     "name": "stdout",
     "output_type": "stream",
     "text": [
      "Epoch: 851 | Training Loss: 3.251297119114054e-05  | Validation Loss: 4.814463071201159  | Accuracy: 58.53\n"
     ]
    },
    {
     "name": "stderr",
     "output_type": "stream",
     "text": [
      "156it [00:02, 55.21it/s]\n",
      "100%|█████████████████████████████████████████████████████████| 46/46 [00:00<00:00, 211.06it/s]\n"
     ]
    },
    {
     "name": "stdout",
     "output_type": "stream",
     "text": [
      "Epoch: 852 | Training Loss: 3.114824851862954e-05  | Validation Loss: 4.768317860105763  | Accuracy: 58.76\n"
     ]
    },
    {
     "name": "stderr",
     "output_type": "stream",
     "text": [
      "156it [00:02, 54.85it/s]\n",
      "100%|█████████████████████████████████████████████████████████| 46/46 [00:00<00:00, 210.81it/s]\n"
     ]
    },
    {
     "name": "stdout",
     "output_type": "stream",
     "text": [
      "Epoch: 853 | Training Loss: 4.921853955098553e-05  | Validation Loss: 4.963901032572207  | Accuracy: 58.37\n"
     ]
    },
    {
     "name": "stderr",
     "output_type": "stream",
     "text": [
      "156it [00:02, 54.07it/s]\n",
      "100%|█████████████████████████████████████████████████████████| 46/46 [00:00<00:00, 213.10it/s]\n"
     ]
    },
    {
     "name": "stdout",
     "output_type": "stream",
     "text": [
      "Epoch: 854 | Training Loss: 2.3707935261322396e-05  | Validation Loss: 4.783133190611134  | Accuracy: 58.59\n"
     ]
    },
    {
     "name": "stderr",
     "output_type": "stream",
     "text": [
      "156it [00:02, 53.94it/s]\n",
      "100%|█████████████████████████████████████████████████████████| 46/46 [00:00<00:00, 212.38it/s]\n"
     ]
    },
    {
     "name": "stdout",
     "output_type": "stream",
     "text": [
      "Epoch: 855 | Training Loss: 4.9852571012893466e-05  | Validation Loss: 5.004162674364836  | Accuracy: 58.22\n"
     ]
    },
    {
     "name": "stderr",
     "output_type": "stream",
     "text": [
      "156it [00:02, 54.83it/s]\n",
      "100%|█████████████████████████████████████████████████████████| 46/46 [00:00<00:00, 220.50it/s]\n"
     ]
    },
    {
     "name": "stdout",
     "output_type": "stream",
     "text": [
      "Epoch: 856 | Training Loss: 6.660784302790163e-05  | Validation Loss: 5.168930924457053  | Accuracy: 57.59\n"
     ]
    },
    {
     "name": "stderr",
     "output_type": "stream",
     "text": [
      "156it [00:02, 55.29it/s]\n",
      "100%|█████████████████████████████████████████████████████████| 46/46 [00:00<00:00, 218.12it/s]\n"
     ]
    },
    {
     "name": "stdout",
     "output_type": "stream",
     "text": [
      "Epoch: 857 | Training Loss: 5.448568925914561e-05  | Validation Loss: 4.868283468744029  | Accuracy: 58.27\n"
     ]
    },
    {
     "name": "stderr",
     "output_type": "stream",
     "text": [
      "156it [00:02, 55.05it/s]\n",
      "100%|█████████████████████████████████████████████████████████| 46/46 [00:00<00:00, 216.10it/s]\n"
     ]
    },
    {
     "name": "stdout",
     "output_type": "stream",
     "text": [
      "Epoch: 858 | Training Loss: 2.7068259567222878e-05  | Validation Loss: 4.986409550127775  | Accuracy: 58.29\n"
     ]
    },
    {
     "name": "stderr",
     "output_type": "stream",
     "text": [
      "156it [00:02, 54.50it/s]\n",
      "100%|█████████████████████████████████████████████████████████| 46/46 [00:00<00:00, 215.84it/s]\n"
     ]
    },
    {
     "name": "stdout",
     "output_type": "stream",
     "text": [
      "Epoch: 859 | Training Loss: 2.6449356852982677e-05  | Validation Loss: 4.884235350982003  | Accuracy: 58.37\n"
     ]
    },
    {
     "name": "stderr",
     "output_type": "stream",
     "text": [
      "156it [00:02, 54.43it/s]\n",
      "100%|█████████████████████████████████████████████████████████| 46/46 [00:00<00:00, 216.26it/s]\n"
     ]
    },
    {
     "name": "stdout",
     "output_type": "stream",
     "text": [
      "Epoch: 860 | Training Loss: 3.030208346479832e-05  | Validation Loss: 5.0628586022750195  | Accuracy: 58.27\n"
     ]
    },
    {
     "name": "stderr",
     "output_type": "stream",
     "text": [
      "156it [00:02, 54.93it/s]\n",
      "100%|█████████████████████████████████████████████████████████| 46/46 [00:00<00:00, 215.47it/s]\n"
     ]
    },
    {
     "name": "stdout",
     "output_type": "stream",
     "text": [
      "Epoch: 861 | Training Loss: 2.43864077796948e-05  | Validation Loss: 4.92232680839041  | Accuracy: 58.47\n"
     ]
    },
    {
     "name": "stderr",
     "output_type": "stream",
     "text": [
      "156it [00:02, 55.27it/s]\n",
      "100%|█████████████████████████████████████████████████████████| 46/46 [00:00<00:00, 214.49it/s]\n"
     ]
    },
    {
     "name": "stdout",
     "output_type": "stream",
     "text": [
      "Epoch: 862 | Training Loss: 3.3978089832614314e-05  | Validation Loss: 4.80911430068638  | Accuracy: 58.56\n"
     ]
    },
    {
     "name": "stderr",
     "output_type": "stream",
     "text": [
      "156it [00:02, 54.45it/s]\n",
      "100%|█████████████████████████████████████████████████████████| 46/46 [00:00<00:00, 215.65it/s]\n"
     ]
    },
    {
     "name": "stdout",
     "output_type": "stream",
     "text": [
      "Epoch: 863 | Training Loss: 2.0719323448503976e-05  | Validation Loss: 4.893761282381804  | Accuracy: 58.47\n"
     ]
    },
    {
     "name": "stderr",
     "output_type": "stream",
     "text": [
      "156it [00:02, 54.84it/s]\n",
      "100%|█████████████████████████████████████████████████████████| 46/46 [00:00<00:00, 215.54it/s]\n"
     ]
    },
    {
     "name": "stdout",
     "output_type": "stream",
     "text": [
      "Epoch: 864 | Training Loss: 3.8371460516664694e-05  | Validation Loss: 4.921420180279275  | Accuracy: 58.41\n"
     ]
    },
    {
     "name": "stderr",
     "output_type": "stream",
     "text": [
      "156it [00:02, 55.50it/s]\n",
      "100%|█████████████████████████████████████████████████████████| 46/46 [00:00<00:00, 214.54it/s]\n"
     ]
    },
    {
     "name": "stdout",
     "output_type": "stream",
     "text": [
      "Epoch: 865 | Training Loss: 2.245773627097291e-05  | Validation Loss: 4.865712378336036  | Accuracy: 58.37\n"
     ]
    },
    {
     "name": "stderr",
     "output_type": "stream",
     "text": [
      "156it [00:02, 55.40it/s]\n",
      "100%|█████████████████████████████████████████████████████████| 46/46 [00:00<00:00, 214.65it/s]\n"
     ]
    },
    {
     "name": "stdout",
     "output_type": "stream",
     "text": [
      "Epoch: 866 | Training Loss: 3.6632344567339875e-05  | Validation Loss: 4.955797050310218  | Accuracy: 58.47\n"
     ]
    },
    {
     "name": "stderr",
     "output_type": "stream",
     "text": [
      "156it [00:02, 55.46it/s]\n",
      "100%|█████████████████████████████████████████████████████████| 46/46 [00:00<00:00, 213.96it/s]\n"
     ]
    },
    {
     "name": "stdout",
     "output_type": "stream",
     "text": [
      "Epoch: 867 | Training Loss: 2.6374120673212114e-05  | Validation Loss: 4.755048155784607  | Accuracy: 58.56\n"
     ]
    },
    {
     "name": "stderr",
     "output_type": "stream",
     "text": [
      "156it [00:02, 55.11it/s]\n",
      "100%|█████████████████████████████████████████████████████████| 46/46 [00:00<00:00, 215.83it/s]\n"
     ]
    },
    {
     "name": "stdout",
     "output_type": "stream",
     "text": [
      "Epoch: 868 | Training Loss: 2.3578677492435254e-05  | Validation Loss: 4.9147532297217325  | Accuracy: 58.47\n"
     ]
    },
    {
     "name": "stderr",
     "output_type": "stream",
     "text": [
      "156it [00:02, 54.84it/s]\n",
      "100%|█████████████████████████████████████████████████████████| 46/46 [00:00<00:00, 216.68it/s]\n"
     ]
    },
    {
     "name": "stdout",
     "output_type": "stream",
     "text": [
      "Epoch: 869 | Training Loss: 1.764193598902262e-05  | Validation Loss: 4.7903518728587935  | Accuracy: 58.71\n"
     ]
    },
    {
     "name": "stderr",
     "output_type": "stream",
     "text": [
      "156it [00:02, 54.78it/s]\n",
      "100%|█████████████████████████████████████████████████████████| 46/46 [00:00<00:00, 216.64it/s]\n"
     ]
    },
    {
     "name": "stdout",
     "output_type": "stream",
     "text": [
      "Epoch: 870 | Training Loss: 0.0002073177511673608  | Validation Loss: 4.818871669147326  | Accuracy: 58.36\n"
     ]
    },
    {
     "name": "stderr",
     "output_type": "stream",
     "text": [
      "156it [00:02, 55.10it/s]\n",
      "100%|█████████████████████████████████████████████████████████| 46/46 [00:00<00:00, 215.73it/s]\n"
     ]
    },
    {
     "name": "stdout",
     "output_type": "stream",
     "text": [
      "Epoch: 871 | Training Loss: 0.0005880276165944801  | Validation Loss: 4.928116166073343  | Accuracy: 58.64\n"
     ]
    },
    {
     "name": "stderr",
     "output_type": "stream",
     "text": [
      "156it [00:02, 55.92it/s]\n",
      "100%|█████████████████████████████████████████████████████████| 46/46 [00:00<00:00, 215.16it/s]\n"
     ]
    },
    {
     "name": "stdout",
     "output_type": "stream",
     "text": [
      "Epoch: 872 | Training Loss: 0.0012408143601538913  | Validation Loss: 5.021007465279621  | Accuracy: 58.25\n"
     ]
    },
    {
     "name": "stderr",
     "output_type": "stream",
     "text": [
      "156it [00:02, 54.53it/s]\n",
      "100%|█████████████████████████████████████████████████████████| 46/46 [00:00<00:00, 216.76it/s]\n"
     ]
    },
    {
     "name": "stdout",
     "output_type": "stream",
     "text": [
      "Epoch: 873 | Training Loss: 0.0005580931649459531  | Validation Loss: 4.949731847514277  | Accuracy: 58.19\n"
     ]
    },
    {
     "name": "stderr",
     "output_type": "stream",
     "text": [
      "156it [00:02, 54.33it/s]\n",
      "100%|█████████████████████████████████████████████████████████| 46/46 [00:00<00:00, 216.36it/s]\n"
     ]
    },
    {
     "name": "stdout",
     "output_type": "stream",
     "text": [
      "Epoch: 874 | Training Loss: 0.0002813545855290683  | Validation Loss: 4.683660766352778  | Accuracy: 58.76\n"
     ]
    },
    {
     "name": "stderr",
     "output_type": "stream",
     "text": [
      "156it [00:02, 55.19it/s]\n",
      "100%|█████████████████████████████████████████████████████████| 46/46 [00:00<00:00, 214.91it/s]\n"
     ]
    },
    {
     "name": "stdout",
     "output_type": "stream",
     "text": [
      "Epoch: 875 | Training Loss: 0.0008837888681548578  | Validation Loss: 4.848472963208738  | Accuracy: 59.17\n"
     ]
    },
    {
     "name": "stderr",
     "output_type": "stream",
     "text": [
      "156it [00:02, 56.66it/s]\n",
      "100%|█████████████████████████████████████████████████████████| 46/46 [00:00<00:00, 212.60it/s]\n"
     ]
    },
    {
     "name": "stdout",
     "output_type": "stream",
     "text": [
      "Epoch: 876 | Training Loss: 0.0007979045139114906  | Validation Loss: 4.845814409463302  | Accuracy: 58.51\n"
     ]
    },
    {
     "name": "stderr",
     "output_type": "stream",
     "text": [
      "156it [00:02, 56.50it/s]\n",
      "100%|█████████████████████████████████████████████████████████| 46/46 [00:00<00:00, 214.97it/s]\n"
     ]
    },
    {
     "name": "stdout",
     "output_type": "stream",
     "text": [
      "Epoch: 877 | Training Loss: 0.004543087145593862  | Validation Loss: 4.8162544084631875  | Accuracy: 58.73\n"
     ]
    },
    {
     "name": "stderr",
     "output_type": "stream",
     "text": [
      "156it [00:02, 55.42it/s]\n",
      "100%|█████████████████████████████████████████████████████████| 46/46 [00:00<00:00, 214.06it/s]\n"
     ]
    },
    {
     "name": "stdout",
     "output_type": "stream",
     "text": [
      "Epoch: 878 | Training Loss: 0.00743164275228572  | Validation Loss: 4.607105960016665  | Accuracy: 59.10\n"
     ]
    },
    {
     "name": "stderr",
     "output_type": "stream",
     "text": [
      "156it [00:02, 55.50it/s]\n",
      "100%|█████████████████████████████████████████████████████████| 46/46 [00:00<00:00, 205.96it/s]\n"
     ]
    },
    {
     "name": "stdout",
     "output_type": "stream",
     "text": [
      "Epoch: 879 | Training Loss: 0.0074604437129262525  | Validation Loss: 4.470833425936491  | Accuracy: 58.59\n"
     ]
    },
    {
     "name": "stderr",
     "output_type": "stream",
     "text": [
      "156it [00:02, 54.63it/s]\n",
      "100%|█████████████████████████████████████████████████████████| 46/46 [00:00<00:00, 214.49it/s]\n"
     ]
    },
    {
     "name": "stdout",
     "output_type": "stream",
     "text": [
      "Epoch: 880 | Training Loss: 0.005017530621210962  | Validation Loss: 4.664158971413322  | Accuracy: 58.56\n"
     ]
    },
    {
     "name": "stderr",
     "output_type": "stream",
     "text": [
      "156it [00:02, 54.72it/s]\n",
      "100%|█████████████████████████████████████████████████████████| 46/46 [00:00<00:00, 214.64it/s]\n"
     ]
    },
    {
     "name": "stdout",
     "output_type": "stream",
     "text": [
      "Epoch: 881 | Training Loss: 0.013325319960947523  | Validation Loss: 4.305279208266216  | Accuracy: 59.75\n"
     ]
    },
    {
     "name": "stderr",
     "output_type": "stream",
     "text": [
      "156it [00:02, 54.96it/s]\n",
      "100%|█████████████████████████████████████████████████████████| 46/46 [00:00<00:00, 213.28it/s]\n"
     ]
    },
    {
     "name": "stdout",
     "output_type": "stream",
     "text": [
      "Epoch: 882 | Training Loss: 0.013615137715439629  | Validation Loss: 4.252492987591287  | Accuracy: 59.00\n"
     ]
    },
    {
     "name": "stderr",
     "output_type": "stream",
     "text": [
      "156it [00:02, 54.80it/s]\n",
      "100%|█████████████████████████████████████████████████████████| 46/46 [00:00<00:00, 216.35it/s]\n"
     ]
    },
    {
     "name": "stdout",
     "output_type": "stream",
     "text": [
      "Epoch: 883 | Training Loss: 0.010070053673434113  | Validation Loss: 5.075970235078231  | Accuracy: 58.15\n"
     ]
    },
    {
     "name": "stderr",
     "output_type": "stream",
     "text": [
      "156it [00:02, 54.50it/s]\n",
      "100%|█████████████████████████████████████████████████████████| 46/46 [00:00<00:00, 215.99it/s]\n"
     ]
    },
    {
     "name": "stdout",
     "output_type": "stream",
     "text": [
      "Epoch: 884 | Training Loss: 0.00951077047509385  | Validation Loss: 4.7936536643816074  | Accuracy: 58.03\n"
     ]
    },
    {
     "name": "stderr",
     "output_type": "stream",
     "text": [
      "156it [00:02, 54.61it/s]\n",
      "100%|█████████████████████████████████████████████████████████| 46/46 [00:00<00:00, 217.57it/s]\n"
     ]
    },
    {
     "name": "stdout",
     "output_type": "stream",
     "text": [
      "Epoch: 885 | Training Loss: 0.008792629409013805  | Validation Loss: 4.672153980835624  | Accuracy: 59.02\n"
     ]
    },
    {
     "name": "stderr",
     "output_type": "stream",
     "text": [
      "156it [00:02, 54.76it/s]\n",
      "100%|█████████████████████████████████████████████████████████| 46/46 [00:00<00:00, 216.69it/s]\n"
     ]
    },
    {
     "name": "stdout",
     "output_type": "stream",
     "text": [
      "Epoch: 886 | Training Loss: 0.008192223167521334  | Validation Loss: 4.594167901122051  | Accuracy: 58.34\n"
     ]
    },
    {
     "name": "stderr",
     "output_type": "stream",
     "text": [
      "156it [00:02, 54.63it/s]\n",
      "100%|█████████████████████████████████████████████████████████| 46/46 [00:00<00:00, 214.28it/s]\n"
     ]
    },
    {
     "name": "stdout",
     "output_type": "stream",
     "text": [
      "Epoch: 887 | Training Loss: 0.004768382289092607  | Validation Loss: 4.335684879966404  | Accuracy: 58.12\n"
     ]
    },
    {
     "name": "stderr",
     "output_type": "stream",
     "text": [
      "156it [00:02, 54.61it/s]\n",
      "100%|█████████████████████████████████████████████████████████| 46/46 [00:00<00:00, 214.14it/s]\n"
     ]
    },
    {
     "name": "stdout",
     "output_type": "stream",
     "text": [
      "Epoch: 888 | Training Loss: 0.002647822015742116  | Validation Loss: 4.373014802518099  | Accuracy: 59.12\n"
     ]
    },
    {
     "name": "stderr",
     "output_type": "stream",
     "text": [
      "156it [00:02, 54.42it/s]\n",
      "100%|█████████████████████████████████████████████████████████| 46/46 [00:00<00:00, 217.95it/s]\n"
     ]
    },
    {
     "name": "stdout",
     "output_type": "stream",
     "text": [
      "Epoch: 889 | Training Loss: 0.002401088743926476  | Validation Loss: 4.504813064699587  | Accuracy: 57.86\n"
     ]
    },
    {
     "name": "stderr",
     "output_type": "stream",
     "text": [
      "156it [00:02, 54.36it/s]\n",
      "100%|█████████████████████████████████████████████████████████| 46/46 [00:00<00:00, 216.85it/s]\n"
     ]
    },
    {
     "name": "stdout",
     "output_type": "stream",
     "text": [
      "Epoch: 890 | Training Loss: 0.003916624509586724  | Validation Loss: 4.275634050369263  | Accuracy: 59.65\n"
     ]
    },
    {
     "name": "stderr",
     "output_type": "stream",
     "text": [
      "156it [00:02, 53.07it/s]\n",
      "100%|█████████████████████████████████████████████████████████| 46/46 [00:00<00:00, 202.63it/s]\n"
     ]
    },
    {
     "name": "stdout",
     "output_type": "stream",
     "text": [
      "Epoch: 891 | Training Loss: 0.002438344008950457  | Validation Loss: 4.4949024501054184  | Accuracy: 58.36\n"
     ]
    },
    {
     "name": "stderr",
     "output_type": "stream",
     "text": [
      "156it [00:02, 52.45it/s]\n",
      "100%|█████████████████████████████████████████████████████████| 46/46 [00:00<00:00, 202.29it/s]\n"
     ]
    },
    {
     "name": "stdout",
     "output_type": "stream",
     "text": [
      "Epoch: 892 | Training Loss: 0.0006046598616182727  | Validation Loss: 4.457745645357215  | Accuracy: 58.78\n"
     ]
    },
    {
     "name": "stderr",
     "output_type": "stream",
     "text": [
      "156it [00:02, 53.98it/s]\n",
      "100%|█████████████████████████████████████████████████████████| 46/46 [00:00<00:00, 213.00it/s]\n"
     ]
    },
    {
     "name": "stdout",
     "output_type": "stream",
     "text": [
      "Epoch: 893 | Training Loss: 0.00042952189199077577  | Validation Loss: 4.647611628408018  | Accuracy: 58.61\n"
     ]
    },
    {
     "name": "stderr",
     "output_type": "stream",
     "text": [
      "156it [00:02, 54.24it/s]\n",
      "100%|█████████████████████████████████████████████████████████| 46/46 [00:00<00:00, 213.01it/s]\n"
     ]
    },
    {
     "name": "stdout",
     "output_type": "stream",
     "text": [
      "Epoch: 894 | Training Loss: 0.0004656813031348205  | Validation Loss: 4.585470500199691  | Accuracy: 59.09\n"
     ]
    },
    {
     "name": "stderr",
     "output_type": "stream",
     "text": [
      "156it [00:02, 55.02it/s]\n",
      "100%|█████████████████████████████████████████████████████████| 46/46 [00:00<00:00, 213.15it/s]\n"
     ]
    },
    {
     "name": "stdout",
     "output_type": "stream",
     "text": [
      "Epoch: 895 | Training Loss: 0.0003702837807861961  | Validation Loss: 4.560803833215133  | Accuracy: 58.98\n"
     ]
    },
    {
     "name": "stderr",
     "output_type": "stream",
     "text": [
      "156it [00:02, 55.00it/s]\n",
      "100%|█████████████████████████████████████████████████████████| 46/46 [00:00<00:00, 212.51it/s]\n"
     ]
    },
    {
     "name": "stdout",
     "output_type": "stream",
     "text": [
      "Epoch: 896 | Training Loss: 0.00025442868953480985  | Validation Loss: 4.5119431277979976  | Accuracy: 59.44\n"
     ]
    },
    {
     "name": "stderr",
     "output_type": "stream",
     "text": [
      "156it [00:02, 54.98it/s]\n",
      "100%|█████████████████████████████████████████████████████████| 46/46 [00:00<00:00, 211.21it/s]\n"
     ]
    },
    {
     "name": "stdout",
     "output_type": "stream",
     "text": [
      "Epoch: 897 | Training Loss: 0.0009681852846031875  | Validation Loss: 4.397345967914747  | Accuracy: 59.12\n"
     ]
    },
    {
     "name": "stderr",
     "output_type": "stream",
     "text": [
      "156it [00:02, 54.46it/s]\n",
      "100%|█████████████████████████████████████████████████████████| 46/46 [00:00<00:00, 213.11it/s]\n"
     ]
    },
    {
     "name": "stdout",
     "output_type": "stream",
     "text": [
      "Epoch: 898 | Training Loss: 0.000799436862845864  | Validation Loss: 4.425742517346921  | Accuracy: 59.43\n"
     ]
    },
    {
     "name": "stderr",
     "output_type": "stream",
     "text": [
      "156it [00:02, 54.49it/s]\n",
      "100%|█████████████████████████████████████████████████████████| 46/46 [00:00<00:00, 212.77it/s]\n"
     ]
    },
    {
     "name": "stdout",
     "output_type": "stream",
     "text": [
      "Epoch: 899 | Training Loss: 0.0005385336908322922  | Validation Loss: 4.560928427654764  | Accuracy: 59.14\n"
     ]
    },
    {
     "name": "stderr",
     "output_type": "stream",
     "text": [
      "156it [00:02, 55.00it/s]\n",
      "100%|█████████████████████████████████████████████████████████| 46/46 [00:00<00:00, 213.16it/s]\n"
     ]
    },
    {
     "name": "stdout",
     "output_type": "stream",
     "text": [
      "Epoch: 900 | Training Loss: 0.0002610126765107569  | Validation Loss: 4.5139233029407  | Accuracy: 59.21\n"
     ]
    },
    {
     "name": "stderr",
     "output_type": "stream",
     "text": [
      "156it [00:02, 55.05it/s]\n",
      "100%|█████████████████████████████████████████████████████████| 46/46 [00:00<00:00, 212.89it/s]\n"
     ]
    },
    {
     "name": "stdout",
     "output_type": "stream",
     "text": [
      "Epoch: 901 | Training Loss: 0.00011820284700474869  | Validation Loss: 4.548512396605118  | Accuracy: 59.04\n"
     ]
    },
    {
     "name": "stderr",
     "output_type": "stream",
     "text": [
      "156it [00:02, 55.03it/s]\n",
      "100%|█████████████████████████████████████████████████████████| 46/46 [00:00<00:00, 212.32it/s]\n"
     ]
    },
    {
     "name": "stdout",
     "output_type": "stream",
     "text": [
      "Epoch: 902 | Training Loss: 0.0008772004918671136  | Validation Loss: 4.577483897623808  | Accuracy: 58.76\n"
     ]
    },
    {
     "name": "stderr",
     "output_type": "stream",
     "text": [
      "156it [00:02, 54.96it/s]\n",
      "100%|█████████████████████████████████████████████████████████| 46/46 [00:00<00:00, 211.93it/s]\n"
     ]
    },
    {
     "name": "stdout",
     "output_type": "stream",
     "text": [
      "Epoch: 903 | Training Loss: 0.0001938115083948315  | Validation Loss: 4.486233643863512  | Accuracy: 59.31\n"
     ]
    },
    {
     "name": "stderr",
     "output_type": "stream",
     "text": [
      "156it [00:02, 55.03it/s]\n",
      "100%|█████████████████████████████████████████████████████████| 46/46 [00:00<00:00, 211.10it/s]\n"
     ]
    },
    {
     "name": "stdout",
     "output_type": "stream",
     "text": [
      "Epoch: 904 | Training Loss: 0.0001020670571716227  | Validation Loss: 4.598530753799107  | Accuracy: 58.88\n"
     ]
    },
    {
     "name": "stderr",
     "output_type": "stream",
     "text": [
      "156it [00:02, 55.16it/s]\n",
      "100%|█████████████████████████████████████████████████████████| 46/46 [00:00<00:00, 212.82it/s]\n"
     ]
    },
    {
     "name": "stdout",
     "output_type": "stream",
     "text": [
      "Epoch: 905 | Training Loss: 0.00013831771672975708  | Validation Loss: 4.466027990631435  | Accuracy: 58.97\n"
     ]
    },
    {
     "name": "stderr",
     "output_type": "stream",
     "text": [
      "156it [00:02, 55.23it/s]\n",
      "100%|█████████████████████████████████████████████████████████| 46/46 [00:00<00:00, 211.26it/s]\n"
     ]
    },
    {
     "name": "stdout",
     "output_type": "stream",
     "text": [
      "Epoch: 906 | Training Loss: 0.000204123183015653  | Validation Loss: 4.553926089535588  | Accuracy: 58.87\n"
     ]
    },
    {
     "name": "stderr",
     "output_type": "stream",
     "text": [
      "156it [00:02, 56.22it/s]\n",
      "100%|█████████████████████████████████████████████████████████| 46/46 [00:00<00:00, 219.10it/s]\n"
     ]
    },
    {
     "name": "stdout",
     "output_type": "stream",
     "text": [
      "Epoch: 907 | Training Loss: 0.0003423784312883818  | Validation Loss: 4.46043788868448  | Accuracy: 59.10\n"
     ]
    },
    {
     "name": "stderr",
     "output_type": "stream",
     "text": [
      "156it [00:02, 56.20it/s]\n",
      "100%|█████████████████████████████████████████████████████████| 46/46 [00:00<00:00, 218.96it/s]\n"
     ]
    },
    {
     "name": "stdout",
     "output_type": "stream",
     "text": [
      "Epoch: 908 | Training Loss: 0.00014446080044996424  | Validation Loss: 4.429594946944195  | Accuracy: 59.27\n"
     ]
    },
    {
     "name": "stderr",
     "output_type": "stream",
     "text": [
      "156it [00:02, 55.47it/s]\n",
      "100%|█████████████████████████████████████████████████████████| 46/46 [00:00<00:00, 212.48it/s]\n"
     ]
    },
    {
     "name": "stdout",
     "output_type": "stream",
     "text": [
      "Epoch: 909 | Training Loss: 0.00015941639895362852  | Validation Loss: 4.512759457463804  | Accuracy: 59.26\n"
     ]
    },
    {
     "name": "stderr",
     "output_type": "stream",
     "text": [
      "156it [00:02, 55.34it/s]\n",
      "100%|█████████████████████████████████████████████████████████| 46/46 [00:00<00:00, 214.95it/s]\n"
     ]
    },
    {
     "name": "stdout",
     "output_type": "stream",
     "text": [
      "Epoch: 910 | Training Loss: 0.0003415947519676056  | Validation Loss: 4.5654095566791035  | Accuracy: 59.32\n"
     ]
    },
    {
     "name": "stderr",
     "output_type": "stream",
     "text": [
      "156it [00:02, 55.44it/s]\n",
      "100%|█████████████████████████████████████████████████████████| 46/46 [00:00<00:00, 212.43it/s]\n"
     ]
    },
    {
     "name": "stdout",
     "output_type": "stream",
     "text": [
      "Epoch: 911 | Training Loss: 0.0002663615121095156  | Validation Loss: 4.564208217289137  | Accuracy: 59.21\n"
     ]
    },
    {
     "name": "stderr",
     "output_type": "stream",
     "text": [
      "156it [00:02, 55.32it/s]\n",
      "100%|█████████████████████████████████████████████████████████| 46/46 [00:00<00:00, 212.40it/s]\n"
     ]
    },
    {
     "name": "stdout",
     "output_type": "stream",
     "text": [
      "Epoch: 912 | Training Loss: 7.912666409864846e-05  | Validation Loss: 4.546644962352255  | Accuracy: 59.27\n"
     ]
    },
    {
     "name": "stderr",
     "output_type": "stream",
     "text": [
      "156it [00:02, 55.07it/s]\n",
      "100%|█████████████████████████████████████████████████████████| 46/46 [00:00<00:00, 213.23it/s]\n"
     ]
    },
    {
     "name": "stdout",
     "output_type": "stream",
     "text": [
      "Epoch: 913 | Training Loss: 9.67241265400914e-05  | Validation Loss: 4.492809881334719  | Accuracy: 59.21\n"
     ]
    },
    {
     "name": "stderr",
     "output_type": "stream",
     "text": [
      "156it [00:02, 55.09it/s]\n",
      "100%|█████████████████████████████████████████████████████████| 46/46 [00:00<00:00, 212.29it/s]\n"
     ]
    },
    {
     "name": "stdout",
     "output_type": "stream",
     "text": [
      "Epoch: 914 | Training Loss: 8.05639766580358e-05  | Validation Loss: 4.468877144481825  | Accuracy: 59.39\n"
     ]
    },
    {
     "name": "stderr",
     "output_type": "stream",
     "text": [
      "156it [00:02, 55.03it/s]\n",
      "100%|█████████████████████████████████████████████████████████| 46/46 [00:00<00:00, 213.62it/s]\n"
     ]
    },
    {
     "name": "stdout",
     "output_type": "stream",
     "text": [
      "Epoch: 915 | Training Loss: 7.422800284728463e-05  | Validation Loss: 4.437189677487249  | Accuracy: 59.36\n"
     ]
    },
    {
     "name": "stderr",
     "output_type": "stream",
     "text": [
      "156it [00:02, 55.04it/s]\n",
      "100%|█████████████████████████████████████████████████████████| 46/46 [00:00<00:00, 214.44it/s]\n"
     ]
    },
    {
     "name": "stdout",
     "output_type": "stream",
     "text": [
      "Epoch: 916 | Training Loss: 0.00010295533102996556  | Validation Loss: 4.562096720156462  | Accuracy: 58.93\n"
     ]
    },
    {
     "name": "stderr",
     "output_type": "stream",
     "text": [
      "156it [00:02, 54.94it/s]\n",
      "100%|█████████████████████████████████████████████████████████| 46/46 [00:00<00:00, 211.78it/s]\n"
     ]
    },
    {
     "name": "stdout",
     "output_type": "stream",
     "text": [
      "Epoch: 917 | Training Loss: 0.0005242123542920569  | Validation Loss: 4.868427774180537  | Accuracy: 58.56\n"
     ]
    },
    {
     "name": "stderr",
     "output_type": "stream",
     "text": [
      "156it [00:02, 54.27it/s]\n",
      "100%|█████████████████████████████████████████████████████████| 46/46 [00:00<00:00, 213.58it/s]\n"
     ]
    },
    {
     "name": "stdout",
     "output_type": "stream",
     "text": [
      "Epoch: 918 | Training Loss: 0.000535024533493155  | Validation Loss: 4.503982580226401  | Accuracy: 59.04\n"
     ]
    },
    {
     "name": "stderr",
     "output_type": "stream",
     "text": [
      "156it [00:02, 55.01it/s]\n",
      "100%|█████████████████████████████████████████████████████████| 46/46 [00:00<00:00, 214.56it/s]\n"
     ]
    },
    {
     "name": "stdout",
     "output_type": "stream",
     "text": [
      "Epoch: 919 | Training Loss: 0.0001004723793847426  | Validation Loss: 4.582170538280321  | Accuracy: 59.14\n"
     ]
    },
    {
     "name": "stderr",
     "output_type": "stream",
     "text": [
      "156it [00:02, 55.11it/s]\n",
      "100%|█████████████████████████████████████████████████████████| 46/46 [00:00<00:00, 214.08it/s]\n"
     ]
    },
    {
     "name": "stdout",
     "output_type": "stream",
     "text": [
      "Epoch: 920 | Training Loss: 7.627305101847854e-05  | Validation Loss: 4.522446259208348  | Accuracy: 59.05\n"
     ]
    },
    {
     "name": "stderr",
     "output_type": "stream",
     "text": [
      "156it [00:02, 55.12it/s]\n",
      "100%|█████████████████████████████████████████████████████████| 46/46 [00:00<00:00, 214.06it/s]\n"
     ]
    },
    {
     "name": "stdout",
     "output_type": "stream",
     "text": [
      "Epoch: 921 | Training Loss: 6.123347197199809e-05  | Validation Loss: 4.603857594987621  | Accuracy: 59.00\n"
     ]
    },
    {
     "name": "stderr",
     "output_type": "stream",
     "text": [
      "156it [00:02, 55.11it/s]\n",
      "100%|█████████████████████████████████████████████████████████| 46/46 [00:00<00:00, 215.19it/s]\n"
     ]
    },
    {
     "name": "stdout",
     "output_type": "stream",
     "text": [
      "Epoch: 922 | Training Loss: 6.497933856782112e-05  | Validation Loss: 4.579842935437742  | Accuracy: 58.87\n"
     ]
    },
    {
     "name": "stderr",
     "output_type": "stream",
     "text": [
      "156it [00:02, 55.15it/s]\n",
      "100%|█████████████████████████████████████████████████████████| 46/46 [00:00<00:00, 209.99it/s]\n"
     ]
    },
    {
     "name": "stdout",
     "output_type": "stream",
     "text": [
      "Epoch: 923 | Training Loss: 8.662033832106084e-05  | Validation Loss: 4.5357084066971485  | Accuracy: 59.22\n"
     ]
    },
    {
     "name": "stderr",
     "output_type": "stream",
     "text": [
      "156it [00:02, 55.02it/s]\n",
      "100%|█████████████████████████████████████████████████████████| 46/46 [00:00<00:00, 210.24it/s]\n"
     ]
    },
    {
     "name": "stdout",
     "output_type": "stream",
     "text": [
      "Epoch: 924 | Training Loss: 7.401531884053652e-05  | Validation Loss: 4.669561857762544  | Accuracy: 58.73\n"
     ]
    },
    {
     "name": "stderr",
     "output_type": "stream",
     "text": [
      "156it [00:02, 55.04it/s]\n",
      "100%|█████████████████████████████████████████████████████████| 46/46 [00:00<00:00, 214.15it/s]\n"
     ]
    },
    {
     "name": "stdout",
     "output_type": "stream",
     "text": [
      "Epoch: 925 | Training Loss: 5.3768923507026884e-05  | Validation Loss: 4.449407929959505  | Accuracy: 58.88\n"
     ]
    },
    {
     "name": "stderr",
     "output_type": "stream",
     "text": [
      "156it [00:02, 55.10it/s]\n",
      "100%|█████████████████████████████████████████████████████████| 46/46 [00:00<00:00, 213.03it/s]\n"
     ]
    },
    {
     "name": "stdout",
     "output_type": "stream",
     "text": [
      "Epoch: 926 | Training Loss: 4.522897828652416e-05  | Validation Loss: 4.54310347204623  | Accuracy: 58.73\n"
     ]
    },
    {
     "name": "stderr",
     "output_type": "stream",
     "text": [
      "156it [00:02, 55.14it/s]\n",
      "100%|█████████████████████████████████████████████████████████| 46/46 [00:00<00:00, 212.65it/s]\n"
     ]
    },
    {
     "name": "stdout",
     "output_type": "stream",
     "text": [
      "Epoch: 927 | Training Loss: 4.8611016110883684e-05  | Validation Loss: 4.580534053885418  | Accuracy: 58.97\n"
     ]
    },
    {
     "name": "stderr",
     "output_type": "stream",
     "text": [
      "156it [00:02, 55.01it/s]\n",
      "100%|█████████████████████████████████████████████████████████| 46/46 [00:00<00:00, 212.89it/s]\n"
     ]
    },
    {
     "name": "stdout",
     "output_type": "stream",
     "text": [
      "Epoch: 928 | Training Loss: 0.00012223375753050137  | Validation Loss: 4.6661758992982945  | Accuracy: 58.76\n"
     ]
    },
    {
     "name": "stderr",
     "output_type": "stream",
     "text": [
      "156it [00:02, 55.15it/s]\n",
      "100%|█████████████████████████████████████████████████████████| 46/46 [00:00<00:00, 212.14it/s]\n"
     ]
    },
    {
     "name": "stdout",
     "output_type": "stream",
     "text": [
      "Epoch: 929 | Training Loss: 6.824553025953952e-05  | Validation Loss: 4.691203734149104  | Accuracy: 59.02\n"
     ]
    },
    {
     "name": "stderr",
     "output_type": "stream",
     "text": [
      "156it [00:02, 55.07it/s]\n",
      "100%|█████████████████████████████████████████████████████████| 46/46 [00:00<00:00, 212.73it/s]\n"
     ]
    },
    {
     "name": "stdout",
     "output_type": "stream",
     "text": [
      "Epoch: 930 | Training Loss: 0.00012242015709955758  | Validation Loss: 4.670625422311866  | Accuracy: 58.87\n"
     ]
    },
    {
     "name": "stderr",
     "output_type": "stream",
     "text": [
      "156it [00:02, 54.97it/s]\n",
      "100%|█████████████████████████████████████████████████████████| 46/46 [00:00<00:00, 213.61it/s]\n"
     ]
    },
    {
     "name": "stdout",
     "output_type": "stream",
     "text": [
      "Epoch: 931 | Training Loss: 8.365125767958931e-05  | Validation Loss: 4.6277738654095195  | Accuracy: 59.00\n"
     ]
    },
    {
     "name": "stderr",
     "output_type": "stream",
     "text": [
      "156it [00:02, 55.34it/s]\n",
      "100%|█████████████████████████████████████████████████████████| 46/46 [00:00<00:00, 211.36it/s]\n"
     ]
    },
    {
     "name": "stdout",
     "output_type": "stream",
     "text": [
      "Epoch: 932 | Training Loss: 8.56218766814028e-05  | Validation Loss: 4.655533743941265  | Accuracy: 58.87\n"
     ]
    },
    {
     "name": "stderr",
     "output_type": "stream",
     "text": [
      "156it [00:02, 56.31it/s]\n",
      "100%|█████████████████████████████████████████████████████████| 46/46 [00:00<00:00, 212.22it/s]\n"
     ]
    },
    {
     "name": "stdout",
     "output_type": "stream",
     "text": [
      "Epoch: 933 | Training Loss: 7.731171874580375e-05  | Validation Loss: 4.7289475202560425  | Accuracy: 58.73\n"
     ]
    },
    {
     "name": "stderr",
     "output_type": "stream",
     "text": [
      "156it [00:02, 55.18it/s]\n",
      "100%|█████████████████████████████████████████████████████████| 46/46 [00:00<00:00, 212.67it/s]\n"
     ]
    },
    {
     "name": "stdout",
     "output_type": "stream",
     "text": [
      "Epoch: 934 | Training Loss: 4.2246248065170315e-05  | Validation Loss: 4.8017595539922295  | Accuracy: 58.70\n"
     ]
    },
    {
     "name": "stderr",
     "output_type": "stream",
     "text": [
      "156it [00:02, 54.26it/s]\n",
      "100%|█████████████████████████████████████████████████████████| 46/46 [00:00<00:00, 214.46it/s]\n"
     ]
    },
    {
     "name": "stdout",
     "output_type": "stream",
     "text": [
      "Epoch: 935 | Training Loss: 3.925163792199526e-05  | Validation Loss: 4.741531895554584  | Accuracy: 58.78\n"
     ]
    },
    {
     "name": "stderr",
     "output_type": "stream",
     "text": [
      "156it [00:02, 53.87it/s]\n",
      "100%|█████████████████████████████████████████████████████████| 46/46 [00:00<00:00, 215.03it/s]\n"
     ]
    },
    {
     "name": "stdout",
     "output_type": "stream",
     "text": [
      "Epoch: 936 | Training Loss: 4.43558664073862e-05  | Validation Loss: 4.643286134885705  | Accuracy: 58.93\n"
     ]
    },
    {
     "name": "stderr",
     "output_type": "stream",
     "text": [
      "156it [00:02, 53.84it/s]\n",
      "100%|█████████████████████████████████████████████████████████| 46/46 [00:00<00:00, 215.60it/s]\n"
     ]
    },
    {
     "name": "stdout",
     "output_type": "stream",
     "text": [
      "Epoch: 937 | Training Loss: 0.00013676810049044155  | Validation Loss: 4.569141315377277  | Accuracy: 58.92\n"
     ]
    },
    {
     "name": "stderr",
     "output_type": "stream",
     "text": [
      "156it [00:02, 55.37it/s]\n",
      "100%|█████████████████████████████████████████████████████████| 46/46 [00:00<00:00, 214.66it/s]\n"
     ]
    },
    {
     "name": "stdout",
     "output_type": "stream",
     "text": [
      "Epoch: 938 | Training Loss: 7.401818880645386e-05  | Validation Loss: 4.702655320582182  | Accuracy: 58.53\n"
     ]
    },
    {
     "name": "stderr",
     "output_type": "stream",
     "text": [
      "156it [00:02, 55.05it/s]\n",
      "100%|█████████████████████████████████████████████████████████| 46/46 [00:00<00:00, 214.84it/s]\n"
     ]
    },
    {
     "name": "stdout",
     "output_type": "stream",
     "text": [
      "Epoch: 939 | Training Loss: 9.31771533819651e-05  | Validation Loss: 4.705017152039901  | Accuracy: 58.51\n"
     ]
    },
    {
     "name": "stderr",
     "output_type": "stream",
     "text": [
      "156it [00:02, 55.02it/s]\n",
      "100%|█████████████████████████████████████████████████████████| 46/46 [00:00<00:00, 213.85it/s]\n"
     ]
    },
    {
     "name": "stdout",
     "output_type": "stream",
     "text": [
      "Epoch: 940 | Training Loss: 4.566749294682291e-05  | Validation Loss: 4.646352892336638  | Accuracy: 58.66\n"
     ]
    },
    {
     "name": "stderr",
     "output_type": "stream",
     "text": [
      "156it [00:02, 55.15it/s]\n",
      "100%|█████████████████████████████████████████████████████████| 46/46 [00:00<00:00, 212.07it/s]\n"
     ]
    },
    {
     "name": "stdout",
     "output_type": "stream",
     "text": [
      "Epoch: 941 | Training Loss: 4.278754754931213e-05  | Validation Loss: 4.691661710324495  | Accuracy: 58.70\n"
     ]
    },
    {
     "name": "stderr",
     "output_type": "stream",
     "text": [
      "156it [00:02, 54.66it/s]\n",
      "100%|█████████████████████████████████████████████████████████| 46/46 [00:00<00:00, 213.77it/s]\n"
     ]
    },
    {
     "name": "stdout",
     "output_type": "stream",
     "text": [
      "Epoch: 942 | Training Loss: 3.7695114038354244e-05  | Validation Loss: 4.743450931880785  | Accuracy: 58.83\n"
     ]
    },
    {
     "name": "stderr",
     "output_type": "stream",
     "text": [
      "156it [00:02, 53.89it/s]\n",
      "100%|█████████████████████████████████████████████████████████| 46/46 [00:00<00:00, 214.16it/s]\n"
     ]
    },
    {
     "name": "stdout",
     "output_type": "stream",
     "text": [
      "Epoch: 943 | Training Loss: 0.00011673178927979349  | Validation Loss: 4.6533569460329804  | Accuracy: 59.14\n"
     ]
    },
    {
     "name": "stderr",
     "output_type": "stream",
     "text": [
      "156it [00:02, 53.85it/s]\n",
      "100%|█████████████████████████████████████████████████████████| 46/46 [00:00<00:00, 213.95it/s]\n"
     ]
    },
    {
     "name": "stdout",
     "output_type": "stream",
     "text": [
      "Epoch: 944 | Training Loss: 7.102597528384463e-05  | Validation Loss: 4.639752818190533  | Accuracy: 58.85\n"
     ]
    },
    {
     "name": "stderr",
     "output_type": "stream",
     "text": [
      "156it [00:02, 55.53it/s]\n",
      "100%|█████████████████████████████████████████████████████████| 46/46 [00:00<00:00, 218.52it/s]\n"
     ]
    },
    {
     "name": "stdout",
     "output_type": "stream",
     "text": [
      "Epoch: 945 | Training Loss: 5.562796543647262e-05  | Validation Loss: 4.782545208930969  | Accuracy: 58.63\n"
     ]
    },
    {
     "name": "stderr",
     "output_type": "stream",
     "text": [
      "156it [00:02, 56.11it/s]\n",
      "100%|█████████████████████████████████████████████████████████| 46/46 [00:00<00:00, 218.03it/s]\n"
     ]
    },
    {
     "name": "stdout",
     "output_type": "stream",
     "text": [
      "Epoch: 946 | Training Loss: 3.624113059558089e-05  | Validation Loss: 4.756153884141342  | Accuracy: 58.95\n"
     ]
    },
    {
     "name": "stderr",
     "output_type": "stream",
     "text": [
      "156it [00:02, 56.04it/s]\n",
      "100%|█████████████████████████████████████████████████████████| 46/46 [00:00<00:00, 217.64it/s]\n"
     ]
    },
    {
     "name": "stdout",
     "output_type": "stream",
     "text": [
      "Epoch: 947 | Training Loss: 4.174270249024677e-05  | Validation Loss: 4.6864468014758565  | Accuracy: 59.05\n"
     ]
    },
    {
     "name": "stderr",
     "output_type": "stream",
     "text": [
      "156it [00:02, 56.76it/s]\n",
      "100%|█████████████████████████████████████████████████████████| 46/46 [00:00<00:00, 218.31it/s]\n"
     ]
    },
    {
     "name": "stdout",
     "output_type": "stream",
     "text": [
      "Epoch: 948 | Training Loss: 4.474090795634439e-05  | Validation Loss: 4.687355699746505  | Accuracy: 59.24\n"
     ]
    },
    {
     "name": "stderr",
     "output_type": "stream",
     "text": [
      "156it [00:02, 57.23it/s]\n",
      "100%|█████████████████████████████████████████████████████████| 46/46 [00:00<00:00, 218.81it/s]\n"
     ]
    },
    {
     "name": "stdout",
     "output_type": "stream",
     "text": [
      "Epoch: 949 | Training Loss: 3.8278454139682974e-05  | Validation Loss: 4.824394241623256  | Accuracy: 58.73\n"
     ]
    },
    {
     "name": "stderr",
     "output_type": "stream",
     "text": [
      "156it [00:02, 55.97it/s]\n",
      "100%|█████████████████████████████████████████████████████████| 46/46 [00:00<00:00, 207.47it/s]\n"
     ]
    },
    {
     "name": "stdout",
     "output_type": "stream",
     "text": [
      "Epoch: 950 | Training Loss: 2.8077981899817434e-05  | Validation Loss: 4.659641281418178  | Accuracy: 59.19\n"
     ]
    },
    {
     "name": "stderr",
     "output_type": "stream",
     "text": [
      "156it [00:02, 54.23it/s]\n",
      "100%|█████████████████████████████████████████████████████████| 46/46 [00:00<00:00, 209.09it/s]\n"
     ]
    },
    {
     "name": "stdout",
     "output_type": "stream",
     "text": [
      "Epoch: 951 | Training Loss: 4.968129146676895e-05  | Validation Loss: 4.9303148414777676  | Accuracy: 58.53\n"
     ]
    },
    {
     "name": "stderr",
     "output_type": "stream",
     "text": [
      "156it [00:02, 54.17it/s]\n",
      "100%|█████████████████████████████████████████████████████████| 46/46 [00:00<00:00, 209.32it/s]\n"
     ]
    },
    {
     "name": "stdout",
     "output_type": "stream",
     "text": [
      "Epoch: 952 | Training Loss: 3.622059179738594e-05  | Validation Loss: 4.657705120418383  | Accuracy: 58.92\n"
     ]
    },
    {
     "name": "stderr",
     "output_type": "stream",
     "text": [
      "156it [00:02, 54.22it/s]\n",
      "100%|█████████████████████████████████████████████████████████| 46/46 [00:00<00:00, 209.14it/s]\n"
     ]
    },
    {
     "name": "stdout",
     "output_type": "stream",
     "text": [
      "Epoch: 953 | Training Loss: 3.433273105330068e-05  | Validation Loss: 4.702350165532983  | Accuracy: 58.75\n"
     ]
    },
    {
     "name": "stderr",
     "output_type": "stream",
     "text": [
      "156it [00:02, 54.24it/s]\n",
      "100%|█████████████████████████████████████████████████████████| 46/46 [00:00<00:00, 209.70it/s]\n"
     ]
    },
    {
     "name": "stdout",
     "output_type": "stream",
     "text": [
      "Epoch: 954 | Training Loss: 3.824903825926203e-05  | Validation Loss: 4.786624473074208  | Accuracy: 58.85\n"
     ]
    },
    {
     "name": "stderr",
     "output_type": "stream",
     "text": [
      "156it [00:02, 55.00it/s]\n",
      "100%|█████████████████████████████████████████████████████████| 46/46 [00:00<00:00, 217.89it/s]\n"
     ]
    },
    {
     "name": "stdout",
     "output_type": "stream",
     "text": [
      "Epoch: 955 | Training Loss: 4.423636297500567e-05  | Validation Loss: 4.734248897303706  | Accuracy: 59.02\n"
     ]
    },
    {
     "name": "stderr",
     "output_type": "stream",
     "text": [
      "156it [00:02, 55.73it/s]\n",
      "100%|█████████████████████████████████████████████████████████| 46/46 [00:00<00:00, 216.33it/s]\n"
     ]
    },
    {
     "name": "stdout",
     "output_type": "stream",
     "text": [
      "Epoch: 956 | Training Loss: 4.506583460484902e-05  | Validation Loss: 4.753031082775282  | Accuracy: 58.87\n"
     ]
    },
    {
     "name": "stderr",
     "output_type": "stream",
     "text": [
      "156it [00:02, 55.74it/s]\n",
      "100%|█████████████████████████████████████████████████████████| 46/46 [00:00<00:00, 217.68it/s]\n"
     ]
    },
    {
     "name": "stdout",
     "output_type": "stream",
     "text": [
      "Epoch: 957 | Training Loss: 2.9262156837935785e-05  | Validation Loss: 4.721415825512098  | Accuracy: 59.02\n"
     ]
    },
    {
     "name": "stderr",
     "output_type": "stream",
     "text": [
      "156it [00:02, 55.45it/s]\n",
      "100%|█████████████████████████████████████████████████████████| 46/46 [00:00<00:00, 214.33it/s]\n"
     ]
    },
    {
     "name": "stdout",
     "output_type": "stream",
     "text": [
      "Epoch: 958 | Training Loss: 5.565726721611916e-05  | Validation Loss: 4.700560771900674  | Accuracy: 59.00\n"
     ]
    },
    {
     "name": "stderr",
     "output_type": "stream",
     "text": [
      "156it [00:02, 55.61it/s]\n",
      "100%|█████████████████████████████████████████████████████████| 46/46 [00:00<00:00, 215.62it/s]\n"
     ]
    },
    {
     "name": "stdout",
     "output_type": "stream",
     "text": [
      "Epoch: 959 | Training Loss: 4.677592094956195e-05  | Validation Loss: 4.697011667749156  | Accuracy: 58.85\n"
     ]
    },
    {
     "name": "stderr",
     "output_type": "stream",
     "text": [
      "156it [00:02, 55.65it/s]\n",
      "100%|█████████████████████████████████████████████████████████| 46/46 [00:00<00:00, 216.76it/s]\n"
     ]
    },
    {
     "name": "stdout",
     "output_type": "stream",
     "text": [
      "Epoch: 960 | Training Loss: 4.323843903327939e-05  | Validation Loss: 4.727147076440894  | Accuracy: 58.63\n"
     ]
    },
    {
     "name": "stderr",
     "output_type": "stream",
     "text": [
      "156it [00:02, 55.48it/s]\n",
      "100%|█████████████████████████████████████████████████████████| 46/46 [00:00<00:00, 215.73it/s]\n"
     ]
    },
    {
     "name": "stdout",
     "output_type": "stream",
     "text": [
      "Epoch: 961 | Training Loss: 4.639400697798033e-05  | Validation Loss: 4.713126120360001  | Accuracy: 58.66\n"
     ]
    },
    {
     "name": "stderr",
     "output_type": "stream",
     "text": [
      "156it [00:02, 55.58it/s]\n",
      "100%|█████████████████████████████████████████████████████████| 46/46 [00:00<00:00, 213.10it/s]\n"
     ]
    },
    {
     "name": "stdout",
     "output_type": "stream",
     "text": [
      "Epoch: 962 | Training Loss: 4.68511165402164e-05  | Validation Loss: 4.778612048729606  | Accuracy: 58.80\n"
     ]
    },
    {
     "name": "stderr",
     "output_type": "stream",
     "text": [
      "156it [00:02, 55.65it/s]\n",
      "100%|█████████████████████████████████████████████████████████| 46/46 [00:00<00:00, 217.15it/s]\n"
     ]
    },
    {
     "name": "stdout",
     "output_type": "stream",
     "text": [
      "Epoch: 963 | Training Loss: 4.4862757657681824e-05  | Validation Loss: 4.625434139500493  | Accuracy: 59.24\n"
     ]
    },
    {
     "name": "stderr",
     "output_type": "stream",
     "text": [
      "156it [00:02, 55.58it/s]\n",
      "100%|█████████████████████████████████████████████████████████| 46/46 [00:00<00:00, 216.01it/s]\n"
     ]
    },
    {
     "name": "stdout",
     "output_type": "stream",
     "text": [
      "Epoch: 964 | Training Loss: 3.084844053091729e-05  | Validation Loss: 4.691195975179258  | Accuracy: 59.12\n"
     ]
    },
    {
     "name": "stderr",
     "output_type": "stream",
     "text": [
      "156it [00:02, 55.66it/s]\n",
      "100%|█████████████████████████████████████████████████████████| 46/46 [00:00<00:00, 215.52it/s]\n"
     ]
    },
    {
     "name": "stdout",
     "output_type": "stream",
     "text": [
      "Epoch: 965 | Training Loss: 2.6607958427750698e-05  | Validation Loss: 4.677015081695888  | Accuracy: 59.04\n"
     ]
    },
    {
     "name": "stderr",
     "output_type": "stream",
     "text": [
      "156it [00:02, 55.62it/s]\n",
      "100%|█████████████████████████████████████████████████████████| 46/46 [00:00<00:00, 216.00it/s]\n"
     ]
    },
    {
     "name": "stdout",
     "output_type": "stream",
     "text": [
      "Epoch: 966 | Training Loss: 3.096632040594089e-05  | Validation Loss: 4.736415266990662  | Accuracy: 58.87\n"
     ]
    },
    {
     "name": "stderr",
     "output_type": "stream",
     "text": [
      "156it [00:02, 56.45it/s]\n",
      "100%|█████████████████████████████████████████████████████████| 46/46 [00:00<00:00, 215.88it/s]\n"
     ]
    },
    {
     "name": "stdout",
     "output_type": "stream",
     "text": [
      "Epoch: 967 | Training Loss: 3.509636876631889e-05  | Validation Loss: 4.524061052695565  | Accuracy: 59.19\n"
     ]
    },
    {
     "name": "stderr",
     "output_type": "stream",
     "text": [
      "156it [00:02, 54.52it/s]\n",
      "100%|█████████████████████████████████████████████████████████| 46/46 [00:00<00:00, 202.39it/s]\n"
     ]
    },
    {
     "name": "stdout",
     "output_type": "stream",
     "text": [
      "Epoch: 968 | Training Loss: 2.2261444737290356e-05  | Validation Loss: 4.559743181518886  | Accuracy: 59.29\n"
     ]
    },
    {
     "name": "stderr",
     "output_type": "stream",
     "text": [
      "156it [00:02, 53.83it/s]\n",
      "100%|█████████████████████████████████████████████████████████| 46/46 [00:00<00:00, 203.37it/s]\n"
     ]
    },
    {
     "name": "stdout",
     "output_type": "stream",
     "text": [
      "Epoch: 969 | Training Loss: 3.567797537949119e-05  | Validation Loss: 4.74422984537871  | Accuracy: 59.02\n"
     ]
    },
    {
     "name": "stderr",
     "output_type": "stream",
     "text": [
      "156it [00:02, 55.75it/s]\n",
      "100%|█████████████████████████████████████████████████████████| 46/46 [00:00<00:00, 215.15it/s]\n"
     ]
    },
    {
     "name": "stdout",
     "output_type": "stream",
     "text": [
      "Epoch: 970 | Training Loss: 0.0006671519518561534  | Validation Loss: 4.986284981603208  | Accuracy: 57.93\n"
     ]
    },
    {
     "name": "stderr",
     "output_type": "stream",
     "text": [
      "156it [00:02, 55.25it/s]\n",
      "100%|█████████████████████████████████████████████████████████| 46/46 [00:00<00:00, 212.71it/s]\n"
     ]
    },
    {
     "name": "stdout",
     "output_type": "stream",
     "text": [
      "Epoch: 971 | Training Loss: 0.00011453442985571317  | Validation Loss: 4.893166438392971  | Accuracy: 58.63\n"
     ]
    },
    {
     "name": "stderr",
     "output_type": "stream",
     "text": [
      "156it [00:02, 55.42it/s]\n",
      "100%|█████████████████████████████████████████████████████████| 46/46 [00:00<00:00, 215.56it/s]\n"
     ]
    },
    {
     "name": "stdout",
     "output_type": "stream",
     "text": [
      "Epoch: 972 | Training Loss: 0.0001517949634454943  | Validation Loss: 4.738401863885962  | Accuracy: 59.02\n"
     ]
    },
    {
     "name": "stderr",
     "output_type": "stream",
     "text": [
      "156it [00:02, 55.21it/s]\n",
      "100%|█████████████████████████████████████████████████████████| 46/46 [00:00<00:00, 214.88it/s]\n"
     ]
    },
    {
     "name": "stdout",
     "output_type": "stream",
     "text": [
      "Epoch: 973 | Training Loss: 7.207045780141458e-05  | Validation Loss: 4.7022850824439  | Accuracy: 59.14\n"
     ]
    },
    {
     "name": "stderr",
     "output_type": "stream",
     "text": [
      "156it [00:02, 55.20it/s]\n",
      "100%|█████████████████████████████████████████████████████████| 46/46 [00:00<00:00, 213.77it/s]\n"
     ]
    },
    {
     "name": "stdout",
     "output_type": "stream",
     "text": [
      "Epoch: 974 | Training Loss: 4.7074735725334154e-05  | Validation Loss: 4.5350028898404995  | Accuracy: 59.41\n"
     ]
    },
    {
     "name": "stderr",
     "output_type": "stream",
     "text": [
      "156it [00:02, 55.22it/s]\n",
      "100%|█████████████████████████████████████████████████████████| 46/46 [00:00<00:00, 214.08it/s]\n"
     ]
    },
    {
     "name": "stdout",
     "output_type": "stream",
     "text": [
      "Epoch: 975 | Training Loss: 4.3726448637197536e-05  | Validation Loss: 4.625965320545694  | Accuracy: 59.14\n"
     ]
    },
    {
     "name": "stderr",
     "output_type": "stream",
     "text": [
      "156it [00:02, 55.31it/s]\n",
      "100%|█████████████████████████████████████████████████████████| 46/46 [00:00<00:00, 213.90it/s]\n"
     ]
    },
    {
     "name": "stdout",
     "output_type": "stream",
     "text": [
      "Epoch: 976 | Training Loss: 0.0007695875518574888  | Validation Loss: 4.983675179274186  | Accuracy: 58.63\n"
     ]
    },
    {
     "name": "stderr",
     "output_type": "stream",
     "text": [
      "156it [00:02, 55.25it/s]\n",
      "100%|█████████████████████████████████████████████████████████| 46/46 [00:00<00:00, 214.57it/s]\n"
     ]
    },
    {
     "name": "stdout",
     "output_type": "stream",
     "text": [
      "Epoch: 977 | Training Loss: 0.00028790657656885835  | Validation Loss: 4.551439513330874  | Accuracy: 59.12\n"
     ]
    },
    {
     "name": "stderr",
     "output_type": "stream",
     "text": [
      "156it [00:02, 55.23it/s]\n",
      "100%|█████████████████████████████████████████████████████████| 46/46 [00:00<00:00, 214.01it/s]\n"
     ]
    },
    {
     "name": "stdout",
     "output_type": "stream",
     "text": [
      "Epoch: 978 | Training Loss: 0.00029838636590849815  | Validation Loss: 4.75614681451217  | Accuracy: 58.73\n"
     ]
    },
    {
     "name": "stderr",
     "output_type": "stream",
     "text": [
      "156it [00:02, 55.17it/s]\n",
      "100%|█████████████████████████████████████████████████████████| 46/46 [00:00<00:00, 214.97it/s]\n"
     ]
    },
    {
     "name": "stdout",
     "output_type": "stream",
     "text": [
      "Epoch: 979 | Training Loss: 0.00013983177892202712  | Validation Loss: 4.736112309538799  | Accuracy: 58.36\n"
     ]
    },
    {
     "name": "stderr",
     "output_type": "stream",
     "text": [
      "156it [00:02, 55.20it/s]\n",
      "100%|█████████████████████████████████████████████████████████| 46/46 [00:00<00:00, 214.00it/s]\n"
     ]
    },
    {
     "name": "stdout",
     "output_type": "stream",
     "text": [
      "Epoch: 980 | Training Loss: 6.685970755918392e-05  | Validation Loss: 4.6572143409563145  | Accuracy: 58.78\n"
     ]
    },
    {
     "name": "stderr",
     "output_type": "stream",
     "text": [
      "156it [00:02, 55.33it/s]\n",
      "100%|█████████████████████████████████████████████████████████| 46/46 [00:00<00:00, 211.64it/s]\n"
     ]
    },
    {
     "name": "stdout",
     "output_type": "stream",
     "text": [
      "Epoch: 981 | Training Loss: 7.516205987310689e-05  | Validation Loss: 4.740079905675805  | Accuracy: 59.00\n"
     ]
    },
    {
     "name": "stderr",
     "output_type": "stream",
     "text": [
      "156it [00:02, 55.24it/s]\n",
      "100%|█████████████████████████████████████████████████████████| 46/46 [00:00<00:00, 215.52it/s]\n"
     ]
    },
    {
     "name": "stdout",
     "output_type": "stream",
     "text": [
      "Epoch: 982 | Training Loss: 4.7021092751282806e-05  | Validation Loss: 4.70364727144656  | Accuracy: 59.14\n"
     ]
    },
    {
     "name": "stderr",
     "output_type": "stream",
     "text": [
      "156it [00:02, 54.74it/s]\n",
      "100%|█████████████████████████████████████████████████████████| 46/46 [00:00<00:00, 212.43it/s]\n"
     ]
    },
    {
     "name": "stdout",
     "output_type": "stream",
     "text": [
      "Epoch: 983 | Training Loss: 3.627529797365871e-05  | Validation Loss: 4.851767037225806  | Accuracy: 58.88\n"
     ]
    },
    {
     "name": "stderr",
     "output_type": "stream",
     "text": [
      "156it [00:02, 55.11it/s]\n",
      "100%|█████████████████████████████████████████████████████████| 46/46 [00:00<00:00, 212.98it/s]\n"
     ]
    },
    {
     "name": "stdout",
     "output_type": "stream",
     "text": [
      "Epoch: 984 | Training Loss: 4.180406985235608e-05  | Validation Loss: 4.742085643436598  | Accuracy: 59.12\n"
     ]
    },
    {
     "name": "stderr",
     "output_type": "stream",
     "text": [
      "156it [00:02, 55.21it/s]\n",
      "100%|█████████████████████████████████████████████████████████| 46/46 [00:00<00:00, 214.12it/s]\n"
     ]
    },
    {
     "name": "stdout",
     "output_type": "stream",
     "text": [
      "Epoch: 985 | Training Loss: 4.0840643881286574e-05  | Validation Loss: 4.750985912654711  | Accuracy: 59.10\n"
     ]
    },
    {
     "name": "stderr",
     "output_type": "stream",
     "text": [
      "156it [00:02, 55.96it/s]\n",
      "100%|█████████████████████████████████████████████████████████| 46/46 [00:00<00:00, 214.05it/s]\n"
     ]
    },
    {
     "name": "stdout",
     "output_type": "stream",
     "text": [
      "Epoch: 986 | Training Loss: 3.275184124691012e-05  | Validation Loss: 4.892579171968543  | Accuracy: 58.78\n"
     ]
    },
    {
     "name": "stderr",
     "output_type": "stream",
     "text": [
      "156it [00:02, 55.86it/s]\n",
      "100%|█████████████████████████████████████████████████████████| 46/46 [00:00<00:00, 214.34it/s]\n"
     ]
    },
    {
     "name": "stdout",
     "output_type": "stream",
     "text": [
      "Epoch: 987 | Training Loss: 3.866459435969843e-05  | Validation Loss: 4.772797289101974  | Accuracy: 58.95\n"
     ]
    },
    {
     "name": "stderr",
     "output_type": "stream",
     "text": [
      "156it [00:02, 55.53it/s]\n",
      "100%|█████████████████████████████████████████████████████████| 46/46 [00:00<00:00, 215.22it/s]\n"
     ]
    },
    {
     "name": "stdout",
     "output_type": "stream",
     "text": [
      "Epoch: 988 | Training Loss: 3.613471131430766e-05  | Validation Loss: 4.75942091319872  | Accuracy: 59.05\n"
     ]
    },
    {
     "name": "stderr",
     "output_type": "stream",
     "text": [
      "156it [00:02, 55.32it/s]\n",
      "100%|█████████████████████████████████████████████████████████| 46/46 [00:00<00:00, 215.02it/s]\n"
     ]
    },
    {
     "name": "stdout",
     "output_type": "stream",
     "text": [
      "Epoch: 989 | Training Loss: 4.14334294057484e-05  | Validation Loss: 4.755683660507202  | Accuracy: 59.02\n"
     ]
    },
    {
     "name": "stderr",
     "output_type": "stream",
     "text": [
      "156it [00:02, 55.29it/s]\n",
      "100%|█████████████████████████████████████████████████████████| 46/46 [00:00<00:00, 213.80it/s]\n"
     ]
    },
    {
     "name": "stdout",
     "output_type": "stream",
     "text": [
      "Epoch: 990 | Training Loss: 3.987760617991835e-05  | Validation Loss: 4.790549013925635  | Accuracy: 59.04\n"
     ]
    },
    {
     "name": "stderr",
     "output_type": "stream",
     "text": [
      "156it [00:02, 55.34it/s]\n",
      "100%|█████████████████████████████████████████████████████████| 46/46 [00:00<00:00, 212.36it/s]\n"
     ]
    },
    {
     "name": "stdout",
     "output_type": "stream",
     "text": [
      "Epoch: 991 | Training Loss: 6.135409071160981e-05  | Validation Loss: 4.729345109151757  | Accuracy: 58.88\n"
     ]
    },
    {
     "name": "stderr",
     "output_type": "stream",
     "text": [
      "156it [00:02, 55.27it/s]\n",
      "100%|█████████████████████████████████████████████████████████| 46/46 [00:00<00:00, 213.89it/s]\n"
     ]
    },
    {
     "name": "stdout",
     "output_type": "stream",
     "text": [
      "Epoch: 992 | Training Loss: 9.053713587875861e-05  | Validation Loss: 4.724977503652158  | Accuracy: 58.73\n"
     ]
    },
    {
     "name": "stderr",
     "output_type": "stream",
     "text": [
      "156it [00:02, 55.26it/s]\n",
      "100%|█████████████████████████████████████████████████████████| 46/46 [00:00<00:00, 209.57it/s]\n"
     ]
    },
    {
     "name": "stdout",
     "output_type": "stream",
     "text": [
      "Epoch: 993 | Training Loss: 6.964945451634262e-05  | Validation Loss: 4.760093004807182  | Accuracy: 58.64\n"
     ]
    },
    {
     "name": "stderr",
     "output_type": "stream",
     "text": [
      "156it [00:02, 55.34it/s]\n",
      "100%|█████████████████████████████████████████████████████████| 46/46 [00:00<00:00, 215.17it/s]\n"
     ]
    },
    {
     "name": "stdout",
     "output_type": "stream",
     "text": [
      "Epoch: 994 | Training Loss: 7.965982948777449e-05  | Validation Loss: 4.714405531468599  | Accuracy: 58.78\n"
     ]
    },
    {
     "name": "stderr",
     "output_type": "stream",
     "text": [
      "156it [00:02, 56.31it/s]\n",
      "100%|█████████████████████████████████████████████████████████| 46/46 [00:00<00:00, 212.93it/s]\n"
     ]
    },
    {
     "name": "stdout",
     "output_type": "stream",
     "text": [
      "Epoch: 995 | Training Loss: 3.025935574768459e-05  | Validation Loss: 4.7213024367456855  | Accuracy: 58.92\n"
     ]
    },
    {
     "name": "stderr",
     "output_type": "stream",
     "text": [
      "156it [00:02, 55.59it/s]\n",
      "100%|█████████████████████████████████████████████████████████| 46/46 [00:00<00:00, 213.92it/s]\n"
     ]
    },
    {
     "name": "stdout",
     "output_type": "stream",
     "text": [
      "Epoch: 996 | Training Loss: 0.00020752277174697389  | Validation Loss: 4.8610567269117935  | Accuracy: 58.54\n"
     ]
    },
    {
     "name": "stderr",
     "output_type": "stream",
     "text": [
      "156it [00:02, 55.29it/s]\n",
      "100%|█████████████████████████████████████████████████████████| 46/46 [00:00<00:00, 214.38it/s]\n"
     ]
    },
    {
     "name": "stdout",
     "output_type": "stream",
     "text": [
      "Epoch: 997 | Training Loss: 5.522261952906914e-05  | Validation Loss: 4.592387971670731  | Accuracy: 59.26\n"
     ]
    },
    {
     "name": "stderr",
     "output_type": "stream",
     "text": [
      "156it [00:02, 55.24it/s]\n",
      "100%|█████████████████████████████████████████████████████████| 46/46 [00:00<00:00, 215.79it/s]\n"
     ]
    },
    {
     "name": "stdout",
     "output_type": "stream",
     "text": [
      "Epoch: 998 | Training Loss: 0.0001497178109829269  | Validation Loss: 4.752345349477685  | Accuracy: 59.39\n"
     ]
    },
    {
     "name": "stderr",
     "output_type": "stream",
     "text": [
      "156it [00:02, 55.33it/s]\n",
      "100%|█████████████████████████████████████████████████████████| 46/46 [00:00<00:00, 215.10it/s]\n"
     ]
    },
    {
     "name": "stdout",
     "output_type": "stream",
     "text": [
      "Epoch: 999 | Training Loss: 0.0006202503075988156  | Validation Loss: 4.734704639600671  | Accuracy: 59.29\n"
     ]
    },
    {
     "name": "stderr",
     "output_type": "stream",
     "text": [
      "156it [00:02, 55.29it/s]\n",
      "100%|█████████████████████████████████████████████████████████| 46/46 [00:00<00:00, 214.55it/s]"
     ]
    },
    {
     "name": "stdout",
     "output_type": "stream",
     "text": [
      "Epoch: 1000 | Training Loss: 8.748795067521524e-05  | Validation Loss: 4.839251243549844  | Accuracy: 58.92\n",
      "\n",
      "\n",
      "Training complete! Best accuracy: 63.30%.\n"
     ]
    },
    {
     "name": "stderr",
     "output_type": "stream",
     "text": [
      "\n"
     ]
    }
   ],
   "source": [
    "train(model, optimizer,train_loader,val_loader,epochs=1000)"
   ]
  },
  {
   "cell_type": "markdown",
   "id": "457b02cf-2bb0-4e96-819d-44c7f0b352eb",
   "metadata": {},
   "source": [
    "## 4. Evaluating trained model"
   ]
  },
  {
   "cell_type": "code",
   "execution_count": 34,
   "id": "e6908fa3-7372-4f62-bcee-bb1db54dc600",
   "metadata": {},
   "outputs": [],
   "source": [
    "checkpoint = torch.load(\"best_conv_model_trained_v2.pth\")"
   ]
  },
  {
   "cell_type": "code",
   "execution_count": 35,
   "id": "94df1f92-1851-4920-9699-dbe3dd1e3dc2",
   "metadata": {},
   "outputs": [
    {
     "data": {
      "text/plain": [
       "<All keys matched successfully>"
      ]
     },
     "execution_count": 35,
     "metadata": {},
     "output_type": "execute_result"
    }
   ],
   "source": [
    "model.load_state_dict(checkpoint['model_state_dict'])"
   ]
  },
  {
   "cell_type": "code",
   "execution_count": 36,
   "id": "bd13966d-8ee0-49d1-adc5-f76d312110f2",
   "metadata": {},
   "outputs": [],
   "source": [
    "def evaluate(model,val_dataloader):\n",
    "    \n",
    "    model.eval()\n",
    "    \n",
    "    val_accuracy = []\n",
    "    val_loss = []\n",
    "    y_pred = []\n",
    "    y_true = []\n",
    "    for batch in tqdm(val_dataloader):\n",
    "        # Load batch to GPU\n",
    "        inputs, b_labels = tuple(t.to(device) for t in batch)\n",
    "        \n",
    "        # b_input_ids = b_input_ids.reshape((1,24,1000)).squeeze(0)\n",
    "        # b_attn_masks = b_attn_masks.reshape((1,24,1000)).squeeze(0)\n",
    "        b_labels = b_labels.reshape((1,128,1)).squeeze(0)\n",
    "        with torch.no_grad():\n",
    "                logits = model(inputs)\n",
    "        \n",
    "        \n",
    "        \n",
    "        y_true.extend(b_labels)\n",
    "        loss = loss_fn(logits, b_labels.float())\n",
    "\n",
    "        val_loss.append(loss.item())\n",
    "# # model = BertModel.from_pretrained(\"Rostlab/prot_bert_bfd\")\n",
    "# for i in tqdm(train_dataloader):\n",
    "#     print(i)\n",
    "        preds = torch.round(torch.sigmoid(logits))\n",
    "        y_pred.extend(preds)\n",
    "        # print(preds,b_labels)\n",
    "        accuracy = (preds.float() == b_labels.float()).cpu().numpy().mean() * 100\n",
    "\n",
    "        val_accuracy.append(accuracy)\n",
    "    \n",
    "    val_loss = np.mean(val_loss)\n",
    "    val_accuracy = np.mean(val_accuracy)\n",
    "    return val_loss, val_accuracy, y_true, y_pred \n"
   ]
  },
  {
   "cell_type": "code",
   "execution_count": 37,
   "id": "3e577775-c7e7-43be-9e04-e751d5e9508e",
   "metadata": {},
   "outputs": [
    {
     "name": "stderr",
     "output_type": "stream",
     "text": [
      "100%|█████████████████████████████████████████████████████████| 46/46 [00:00<00:00, 170.09it/s]\n"
     ]
    }
   ],
   "source": [
    "test_loss, test_accuracy,y_true,y_pred =  evaluate(model,test_loader)"
   ]
  },
  {
   "cell_type": "code",
   "execution_count": 38,
   "id": "ce93c0f3-0386-4b56-9a81-caed9c7b1bc9",
   "metadata": {},
   "outputs": [
    {
     "data": {
      "text/plain": [
       "69.140625"
      ]
     },
     "execution_count": 38,
     "metadata": {},
     "output_type": "execute_result"
    }
   ],
   "source": [
    "test_accuracy"
   ]
  },
  {
   "cell_type": "code",
   "execution_count": 39,
   "id": "58a49b01-756e-45d3-a252-19cdcbeb14ff",
   "metadata": {},
   "outputs": [
    {
     "data": {
      "text/plain": [
       "0.5960102547769961"
      ]
     },
     "execution_count": 39,
     "metadata": {},
     "output_type": "execute_result"
    }
   ],
   "source": [
    "test_loss"
   ]
  },
  {
   "cell_type": "code",
   "execution_count": 40,
   "id": "ac4d7347-051a-40d8-9a0a-ee3671503a26",
   "metadata": {},
   "outputs": [],
   "source": [
    "y_pred = [j[0].cpu() for j in  y_pred]\n",
    "y_true = [j[0].cpu() for j in  y_true]"
   ]
  },
  {
   "cell_type": "code",
   "execution_count": 29,
   "id": "4adb6c98-158f-475d-82ba-c499f1a95ac6",
   "metadata": {},
   "outputs": [],
   "source": [
    "cm = confusion_matrix(y_true, y_pred)"
   ]
  },
  {
   "cell_type": "code",
   "execution_count": 30,
   "id": "beb89d84-0cb2-4152-9110-a57f7ccad496",
   "metadata": {},
   "outputs": [
    {
     "data": {
      "text/plain": [
       "<sklearn.metrics._plot.confusion_matrix.ConfusionMatrixDisplay at 0x7f44c7070550>"
      ]
     },
     "execution_count": 30,
     "metadata": {},
     "output_type": "execute_result"
    },
    {
     "data": {
      "image/png": "[encoded data removed]",
      "text/plain": [
       "<Figure size 720x720 with 2 Axes>"
      ]
     },
     "metadata": {
      "needs_background": "light"
     },
     "output_type": "display_data"
    }
   ],
   "source": [
    "disp = ConfusionMatrixDisplay(confusion_matrix=cm,\n",
    "                              display_labels=[1,0])\n",
    "fig, ax = plt.subplots(figsize=(10,10))\n",
    "disp.plot(ax=ax)\n"
   ]
  },
  {
   "cell_type": "code",
   "execution_count": 64,
   "id": "85c09591-6456-4e12-b337-a4d4aa0d56b7",
   "metadata": {},
   "outputs": [
    {
     "name": "stdout",
     "output_type": "stream",
     "text": [
      "[tensor([[ 0.0338,  0.0178, -0.0191,  ..., -0.0020, -0.0584,  0.0137],\n",
      "        [-0.0143, -0.0311, -0.0006,  ..., -0.0044, -0.0140,  0.0191],\n",
      "        [ 0.0150,  0.0059, -0.0172,  ...,  0.0191, -0.0298, -0.0335],\n",
      "        ...,\n",
      "        [ 0.0416,  0.0081, -0.0126,  ..., -0.0176, -0.0341, -0.0131],\n",
      "        [-0.0204, -0.0420, -0.0413,  ..., -0.0443, -0.0165, -0.0059],\n",
      "        [ 0.0138,  0.0015,  0.0026,  ...,  0.0089, -0.0175,  0.0045]]), tensor([0., 0., 1., 1., 1., 0., 0., 1., 1., 1., 0., 0., 0., 1., 0., 0., 1., 0.,\n",
      "        1., 1., 1., 1., 1., 1., 1., 1., 0., 1., 0., 0., 0., 0., 1., 1., 0., 0.,\n",
      "        0., 1., 1., 0., 1., 1., 0., 1., 0., 0., 1., 0., 0., 1., 0., 0., 1., 0.,\n",
      "        1., 1., 0., 0., 0., 0., 0., 1., 1., 1., 1., 0., 1., 0., 0., 1., 0., 0.,\n",
      "        1., 0., 1., 0., 0., 1., 0., 1., 0., 1., 1., 0., 1., 0., 1., 0., 1., 1.,\n",
      "        1., 1., 0., 1., 1., 0., 1., 0., 0., 1., 0., 0., 0., 1., 1., 1., 0., 1.,\n",
      "        0., 0., 0., 0., 1., 0., 1., 1., 1., 0., 0., 0., 1., 0., 1., 0., 0., 1.,\n",
      "        0., 1.])]\n"
     ]
    }
   ],
   "source": [
    "from matplotlib.pylab import plt\n",
    "from numpy import arange\n",
    " \n",
    "\n",
    "\n",
    " \n",
    "# Generate a sequence of integers to represent the epoch numbers\n",
    "epochs = range(1, 1000)\n",
    " \n",
    "# Plot and label the training and validation loss values\n",
    "plt.plot(epochs, train_values, label='Training Loss')\n",
    "plt.plot(epochs, val_values, label='Validation Loss')\n",
    " \n",
    "# Add in a title and axes labels\n",
    "plt.title('Training and Validation Loss')\n",
    "plt.xlabel('Epochs')\n",
    "plt.ylabel('Loss')\n",
    " \n",
    "# Set the tick locations\n",
    "plt.xticks(arange(0, 1000,50)\n",
    " \n",
    "# Display the plot\n",
    "plt.legend(loc='best')\n",
    "plt.show()"
   ]
  },
  {
   "cell_type": "code",
   "execution_count": null,
   "id": "bb16cb3e",
   "metadata": {},
   "outputs": [],
   "source": []
  }
 ],
 "metadata": {
  "kernelspec": {
   "display_name": "Python 3 (ipykernel)",
   "language": "python",
   "name": "python3"
  },
  "language_info": {
   "codemirror_mode": {
    "name": "ipython",
    "version": 3
   },
   "file_extension": ".py",
   "mimetype": "text/x-python",
   "name": "python",
   "nbconvert_exporter": "python",
   "pygments_lexer": "ipython3",
   "version": "3.9.12"
  }
 },
 "nbformat": 4,
 "nbformat_minor": 5
}

{
 "cells": [
  {
   "cell_type": "code",
   "execution_count": 67,
   "id": "eb97eb3c-e078-4b16-a7a3-ebbad19fb55c",
   "metadata": {},
   "outputs": [],
   "source": [
    "import pandas as pd\n",
    "import numpy as np\n",
    "import matplotlib.pyplot as plt\n",
    "from sklearn.metrics import  confusion_matrix, ConfusionMatrixDisplay\n",
    "from sklearn.metrics import plot_confusion_matrix\n",
    "import keras\n",
    "from keras.models import Sequential   # importing Sequential model\n",
    "from keras.layers import Dense "
   ]
  },
  {
   "cell_type": "code",
   "execution_count": 2,
   "id": "249d9f45-7c22-491b-97cb-b8c9f09a88ce",
   "metadata": {},
   "outputs": [
    {
     "name": "stdout",
     "output_type": "stream",
     "text": [
      "Wed Nov  2 14:46:10 2022       \n",
      "+-----------------------------------------------------------------------------+\n",
      "| NVIDIA-SMI 510.73.08    Driver Version: 510.73.08    CUDA Version: 11.6     |\n",
      "|-------------------------------+----------------------+----------------------+\n",
      "| GPU  Name        Persistence-M| Bus-Id        Disp.A | Volatile Uncorr. ECC |\n",
      "| Fan  Temp  Perf  Pwr:Usage/Cap|         Memory-Usage | GPU-Util  Compute M. |\n",
      "|                               |                      |               MIG M. |\n",
      "|===============================+======================+======================|\n",
      "|   0  Quadro GP100        On   | 00000000:17:00.0 Off |                    0 |\n",
      "| 32%   48C    P0    33W / 235W |      4MiB / 16384MiB |      0%      Default |\n",
      "|                               |                      |                  N/A |\n",
      "+-------------------------------+----------------------+----------------------+\n",
      "|   1  Quadro GP100        On   | 00000000:65:00.0 Off |                    0 |\n",
      "| 33%   49C    P0    31W / 235W |      4MiB / 16384MiB |      0%      Default |\n",
      "|                               |                      |                  N/A |\n",
      "+-------------------------------+----------------------+----------------------+\n",
      "                                                                               \n",
      "+-----------------------------------------------------------------------------+\n",
      "| Processes:                                                                  |\n",
      "|  GPU   GI   CI        PID   Type   Process name                  GPU Memory |\n",
      "|        ID   ID                                                   Usage      |\n",
      "|=============================================================================|\n",
      "|  No running processes found                                                 |\n",
      "+-----------------------------------------------------------------------------+\n"
     ]
    }
   ],
   "source": [
    "!nvidia-smi"
   ]
  },
  {
   "cell_type": "code",
   "execution_count": 3,
   "id": "76e1d62c-a186-46d0-8302-72ec0d4ea2b0",
   "metadata": {},
   "outputs": [],
   "source": [
    "data_frame_train = pd.read_csv(\"../../csv_files_new_ppi/training_and_test_set/train_set_subset_with_embedding.csv\")\n",
    "data_frame_test = pd.read_csv(\"../../csv_files_new_ppi/training_and_test_set/test_set_subset_with_embedding.csv\")\n"
   ]
  },
  {
   "cell_type": "code",
   "execution_count": 6,
   "id": "fe52e245-30f7-4844-8889-ccf93853d8b2",
   "metadata": {},
   "outputs": [],
   "source": [
    "train_features = data_frame_train.copy()\n",
    "train_labels = train_features.pop('label')\n",
    "train_features = np.array(train_features)\n",
    "\n",
    "\n",
    "test_features = data_frame_test.copy()\n",
    "test_labels = test_features.pop('label')\n",
    "test_features = np.array(test_features)\n",
    "        \n",
    "x_train = train_features\n",
    "y_train = train_labels\n",
    "x_test = test_features[0:5000]\n",
    "y_test = test_labels[0:5000]\n",
    "x_val = test_features[5000:]\n",
    "y_val = test_labels[5000:]  "
   ]
  },
  {
   "cell_type": "code",
   "execution_count": 8,
   "id": "ef987544-d63a-48e4-bf64-67b3e5de3410",
   "metadata": {},
   "outputs": [
    {
     "name": "stdout",
     "output_type": "stream",
     "text": [
      "X_train: (20000, 1024)\n",
      "y_train: (20000,)\n",
      "X_test: (5000, 1024)\n",
      "y_test: (5000,)\n"
     ]
    }
   ],
   "source": [
    "\n",
    "concat_train_features = []\n",
    "concat_test_features = []\n",
    "for i in train_features:\n",
    "\n",
    "    concat_train_features.append(i[0:1024] + i[1024:])\n",
    "\n",
    "for i in test_features:\n",
    "\n",
    "    concat_test_features.append(i[0:1024] + i[1024:])\n",
    "\n",
    "x_train = concat_train_features\n",
    "y_train = train_labels\n",
    "x_test = concat_test_features[0:5000]\n",
    "y_test = test_labels[0:5000]\n",
    "x_val = concat_test_features[5000:10000]\n",
    "y_val = np.array(test_labels[5000:10000])\n",
    "\n",
    "print('X_train:',np.shape(x_train))\n",
    "print('y_train:',np.shape(y_train))\n",
    "print('X_test:',np.shape(x_test))\n",
    "print('y_test:',np.shape(y_test))"
   ]
  },
  {
   "cell_type": "code",
   "execution_count": 38,
   "id": "1e939ca0-a297-45c6-8639-71e0d00de729",
   "metadata": {},
   "outputs": [],
   "source": [
    "basic_model = Sequential()\n",
    "# Adding layers to the model\n",
    "# First layers: 16 neurons/perceptrons that takes the input and uses 'sigmoid' activation function.\n",
    "basic_model.add(Dense(units = 1024 , activation = 'relu', input_shape = (1024,))) \n",
    "basic_model.add(Dense(units = 512 , activation = 'relu')) \n",
    "basic_model.add(Dense(units = 256 , activation = 'relu')) \n",
    "basic_model.add(Dense(units = 64 , activation = 'relu')) \n",
    "basic_model.add(Dense(units = 32 , activation = 'relu')) \n",
    "basic_model.add(Dense(units = 16 , activation = 'relu')) \n",
    "basic_model.add(Dense(units = 8 , activation = 'relu')) \n",
    "basic_model.add(Dense(units = 1,activation = 'sigmoid')) \n"
   ]
  },
  {
   "cell_type": "code",
   "execution_count": 39,
   "id": "57ee2303-878c-4d42-a7f8-c5b68af2c313",
   "metadata": {},
   "outputs": [],
   "source": [
    "optimizer = keras.optimizers.SGD(nesterov = True, lr=0.001, momentum=0.9)"
   ]
  },
  {
   "cell_type": "code",
   "execution_count": 40,
   "id": "42013d11-b6c7-40a6-881e-8a06527e9684",
   "metadata": {},
   "outputs": [],
   "source": [
    "basic_model.compile(loss = 'binary_crossentropy', optimizer = 'sgd', metrics = ['accuracy'])"
   ]
  },
  {
   "cell_type": "code",
   "execution_count": 46,
   "id": "236560df-f954-49c1-a283-d31f8915c2ba",
   "metadata": {},
   "outputs": [
    {
     "name": "stdout",
     "output_type": "stream",
     "text": [
      "Epoch 1/32\n",
      "625/625 [==============================] - 3s 4ms/step - loss: 0.1878 - accuracy: 0.9244\n",
      "Epoch 2/32\n",
      "625/625 [==============================] - 3s 4ms/step - loss: 0.1811 - accuracy: 0.9286\n",
      "Epoch 3/32\n",
      "625/625 [==============================] - 3s 4ms/step - loss: 0.1723 - accuracy: 0.9319\n",
      "Epoch 4/32\n",
      "625/625 [==============================] - 3s 4ms/step - loss: 0.1619 - accuracy: 0.9360\n",
      "Epoch 5/32\n",
      "625/625 [==============================] - 3s 4ms/step - loss: 0.1708 - accuracy: 0.9343\n",
      "Epoch 6/32\n",
      "625/625 [==============================] - 3s 4ms/step - loss: 0.1582 - accuracy: 0.9379\n",
      "Epoch 7/32\n",
      "625/625 [==============================] - 3s 4ms/step - loss: 0.1604 - accuracy: 0.9372\n",
      "Epoch 8/32\n",
      "625/625 [==============================] - 3s 4ms/step - loss: 0.1537 - accuracy: 0.9393\n",
      "Epoch 9/32\n",
      "625/625 [==============================] - 3s 4ms/step - loss: 0.1499 - accuracy: 0.9414\n",
      "Epoch 10/32\n",
      "625/625 [==============================] - 3s 5ms/step - loss: 0.1439 - accuracy: 0.9457\n",
      "Epoch 11/32\n",
      "625/625 [==============================] - 3s 4ms/step - loss: 0.1281 - accuracy: 0.9496\n",
      "Epoch 12/32\n",
      "625/625 [==============================] - 3s 4ms/step - loss: 0.1394 - accuracy: 0.9471\n",
      "Epoch 13/32\n",
      "625/625 [==============================] - 3s 4ms/step - loss: 0.1288 - accuracy: 0.9502\n",
      "Epoch 14/32\n",
      "625/625 [==============================] - 3s 4ms/step - loss: 0.1237 - accuracy: 0.9539\n",
      "Epoch 15/32\n",
      "625/625 [==============================] - 3s 4ms/step - loss: 0.1205 - accuracy: 0.9546\n",
      "Epoch 16/32\n",
      "625/625 [==============================] - 3s 4ms/step - loss: 0.1228 - accuracy: 0.9545\n",
      "Epoch 17/32\n",
      "625/625 [==============================] - 3s 4ms/step - loss: 0.1069 - accuracy: 0.9611\n",
      "Epoch 18/32\n",
      "625/625 [==============================] - 3s 4ms/step - loss: 0.1042 - accuracy: 0.9610\n",
      "Epoch 19/32\n",
      "625/625 [==============================] - 3s 4ms/step - loss: 0.1111 - accuracy: 0.9592\n",
      "Epoch 20/32\n",
      "625/625 [==============================] - 3s 4ms/step - loss: 0.1089 - accuracy: 0.9600\n",
      "Epoch 21/32\n",
      "625/625 [==============================] - 3s 5ms/step - loss: 0.0975 - accuracy: 0.9638\n",
      "Epoch 22/32\n",
      "625/625 [==============================] - 3s 4ms/step - loss: 0.0967 - accuracy: 0.9654\n",
      "Epoch 23/32\n",
      "625/625 [==============================] - 3s 4ms/step - loss: 0.1041 - accuracy: 0.9615\n",
      "Epoch 24/32\n",
      "625/625 [==============================] - 3s 4ms/step - loss: 0.0940 - accuracy: 0.9663\n",
      "Epoch 25/32\n",
      "625/625 [==============================] - 3s 4ms/step - loss: 0.0899 - accuracy: 0.9653\n",
      "Epoch 26/32\n",
      "625/625 [==============================] - 3s 4ms/step - loss: 0.0889 - accuracy: 0.9693\n",
      "Epoch 27/32\n",
      "625/625 [==============================] - 3s 4ms/step - loss: 0.0878 - accuracy: 0.9701\n",
      "Epoch 28/32\n",
      "625/625 [==============================] - 3s 4ms/step - loss: 0.0824 - accuracy: 0.9691\n",
      "Epoch 29/32\n",
      "625/625 [==============================] - 3s 4ms/step - loss: 0.0748 - accuracy: 0.9744\n",
      "Epoch 30/32\n",
      "625/625 [==============================] - 3s 4ms/step - loss: 0.0705 - accuracy: 0.9754\n",
      "Epoch 31/32\n",
      "625/625 [==============================] - 3s 5ms/step - loss: 0.0744 - accuracy: 0.9728\n",
      "Epoch 32/32\n",
      "625/625 [==============================] - 3s 4ms/step - loss: 0.0722 - accuracy: 0.9761\n"
     ]
    },
    {
     "data": {
      "text/plain": [
       "<keras.callbacks.History at 0x7fe3d01ded90>"
      ]
     },
     "execution_count": 46,
     "metadata": {},
     "output_type": "execute_result"
    }
   ],
   "source": [
    "basic_model.fit(np.array(x_train), np.array(y_train), epochs=32)"
   ]
  },
  {
   "cell_type": "code",
   "execution_count": null,
   "id": "439c7ce1-df8b-4f8d-b204-0eb5d807190d",
   "metadata": {},
   "outputs": [],
   "source": [
    "y_train.value_counts()"
   ]
  },
  {
   "cell_type": "code",
   "execution_count": 47,
   "id": "02e3baa8-1f4d-427c-8a67-0a9c1d2f84c1",
   "metadata": {},
   "outputs": [
    {
     "name": "stdout",
     "output_type": "stream",
     "text": [
      "157/157 [==============================] - 1s 3ms/step - loss: 1.5610 - accuracy: 0.6436\n",
      "Loss =  1.5609849691390991\n",
      "Accuracy =  0.6435999870300293\n"
     ]
    }
   ],
   "source": [
    "loss_and_metrics = basic_model.evaluate(np.array(x_test), np.array(y_test))\n",
    "print('Loss = ',loss_and_metrics[0])\n",
    "print('Accuracy = ',loss_and_metrics[1])"
   ]
  },
  {
   "cell_type": "code",
   "execution_count": 48,
   "id": "aeeec579-ac17-4bcd-a3f5-3e444aeff811",
   "metadata": {},
   "outputs": [
    {
     "data": {
      "text/plain": [
       "[1.5609849691390991, 0.6435999870300293]"
      ]
     },
     "execution_count": 48,
     "metadata": {},
     "output_type": "execute_result"
    }
   ],
   "source": [
    "loss_and_metrics"
   ]
  },
  {
   "cell_type": "code",
   "execution_count": 49,
   "id": "28692d96-5354-4a17-b632-de971a801d44",
   "metadata": {},
   "outputs": [
    {
     "name": "stdout",
     "output_type": "stream",
     "text": [
      "Model: \"sequential_7\"\n",
      "_________________________________________________________________\n",
      " Layer (type)                Output Shape              Param #   \n",
      "=================================================================\n",
      " dense_39 (Dense)            (None, 1024)              1049600   \n",
      "                                                                 \n",
      " dense_40 (Dense)            (None, 512)               524800    \n",
      "                                                                 \n",
      " dense_41 (Dense)            (None, 256)               131328    \n",
      "                                                                 \n",
      " dense_42 (Dense)            (None, 64)                16448     \n",
      "                                                                 \n",
      " dense_43 (Dense)            (None, 32)                2080      \n",
      "                                                                 \n",
      " dense_44 (Dense)            (None, 16)                528       \n",
      "                                                                 \n",
      " dense_45 (Dense)            (None, 8)                 136       \n",
      "                                                                 \n",
      " dense_46 (Dense)            (None, 1)                 9         \n",
      "                                                                 \n",
      "=================================================================\n",
      "Total params: 1,724,929\n",
      "Trainable params: 1,724,929\n",
      "Non-trainable params: 0\n",
      "_________________________________________________________________\n"
     ]
    }
   ],
   "source": [
    "basic_model.summary()"
   ]
  },
  {
   "cell_type": "code",
   "execution_count": 51,
   "id": "b3e703c7-c397-4cf5-b705-69f9086351a7",
   "metadata": {},
   "outputs": [
    {
     "name": "stdout",
     "output_type": "stream",
     "text": [
      "157/157 [==============================] - 0s 2ms/step\n"
     ]
    }
   ],
   "source": [
    "y_pred = basic_model.predict(np.array(x_test))"
   ]
  },
  {
   "cell_type": "code",
   "execution_count": 71,
   "id": "9b7c26b5-f794-4bf1-92f5-18522c19b541",
   "metadata": {},
   "outputs": [],
   "source": [
    "y_pred = np.round(y_pred)"
   ]
  },
  {
   "cell_type": "code",
   "execution_count": 64,
   "id": "c64c905d-bfcd-49df-a203-3f40f7509c6a",
   "metadata": {},
   "outputs": [
    {
     "data": {
      "text/plain": [
       "1266"
      ]
     },
     "execution_count": 64,
     "metadata": {},
     "output_type": "execute_result"
    }
   ],
   "source": [
    "len(y_pred[y_pred> 0.5])"
   ]
  },
  {
   "cell_type": "code",
   "execution_count": 72,
   "id": "f11f4bd7-32a6-4aab-bad6-015e8cfb36ff",
   "metadata": {},
   "outputs": [],
   "source": [
    "cm = confusion_matrix(y_test, y_pred)"
   ]
  },
  {
   "cell_type": "code",
   "execution_count": 74,
   "id": "403d2bc7-85fd-4cd9-b49a-8965719d1e63",
   "metadata": {},
   "outputs": [
    {
     "ename": "NameError",
     "evalue": "name 'plt' is not defined",
     "output_type": "error",
     "traceback": [
      "\u001b[0;31m---------------------------------------------------------------------------\u001b[0m",
      "\u001b[0;31mNameError\u001b[0m                                 Traceback (most recent call last)",
      "Input \u001b[0;32mIn [74]\u001b[0m, in \u001b[0;36m<cell line: 3>\u001b[0;34m()\u001b[0m\n\u001b[1;32m      1\u001b[0m disp \u001b[38;5;241m=\u001b[39m ConfusionMatrixDisplay(confusion_matrix\u001b[38;5;241m=\u001b[39mcm,\n\u001b[1;32m      2\u001b[0m                               display_labels\u001b[38;5;241m=\u001b[39m[\u001b[38;5;241m1\u001b[39m,\u001b[38;5;241m0\u001b[39m])\n\u001b[0;32m----> 3\u001b[0m fig, ax \u001b[38;5;241m=\u001b[39m \u001b[43mplt\u001b[49m\u001b[38;5;241m.\u001b[39msubplots(figsize\u001b[38;5;241m=\u001b[39m(\u001b[38;5;241m10\u001b[39m,\u001b[38;5;241m10\u001b[39m))\n\u001b[1;32m      4\u001b[0m disp\u001b[38;5;241m.\u001b[39mplot(ax\u001b[38;5;241m=\u001b[39max)\n",
      "\u001b[0;31mNameError\u001b[0m: name 'plt' is not defined"
     ]
    }
   ],
   "source": [
    "disp = ConfusionMatrixDisplay(confusion_matrix=cm,\n",
    "                              display_labels=[1,0])\n",
    "fig, ax = plt.subplots(figsize=(10,10))\n",
    "disp.plot(ax=ax)"
   ]
  },
  {
   "cell_type": "code",
   "execution_count": null,
   "id": "fbd71790-1131-4350-8423-1e0dee748f0a",
   "metadata": {},
   "outputs": [],
   "source": []
  }
 ],
 "metadata": {
  "kernelspec": {
   "display_name": "Python 3",
   "language": "python",
   "name": "python3"
  },
  "language_info": {
   "codemirror_mode": {
    "name": "ipython",
    "version": 3
   },
   "file_extension": ".py",
   "mimetype": "text/x-python",
   "name": "python",
   "nbconvert_exporter": "python",
   "pygments_lexer": "ipython3",
   "version": "3.8.0"
  }
 },
 "nbformat": 4,
 "nbformat_minor": 5
}
